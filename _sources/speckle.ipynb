{
 "cells": [
  {
   "cell_type": "markdown",
   "source": [
    "# Loading a Design Scenario\n",
    "*Rangekeeper* provides API access to [Speckle](https://speckle.systems/). This\n",
    "enables loading and extending a 3D design scenario with *Rangekeeper* to produce\n",
    "its financial valuation, as well as execute any automated decision-making or\n",
    "optimisation processes, and sending the results back to Speckle.\n",
    "\n",
    "## Object Model\n",
    "Before walking through the I/O methods, it is important to understand the\n",
    "requirements *Rangekeeper* places on how a design scenario must be structured,\n",
    "so that the `Flow`s and `Stream`s of a DCF Proforma can be appropriately\n",
    "attributed to the design scenario's objects (especially its representations of\n",
    "physical spaces, components, and equipment).\n",
    "\n",
    "### Elements and Relationships\n",
    "A holistic representation of a real estate development scenario is that it is a\n",
    "web of inter-related 'elements'; where each element is a 'thing' and can have\n",
    "multiple relationships with other elements. For example, a floor is a type\n",
    "of element (say, a 'Space') and it has relationships with floors above and\n",
    "below it, as well as relationships to its sub-elements (e.g. rooms), or even\n",
    "what services it (e.g. the mechanical systems controlling its air conditioning)\n",
    "\n",
    "```{figure} resources/devModelGraph.jpg\n",
    "---\n",
    "width: 100%\n",
    "name: Real Estate Scenario as a Graph\n",
    "---\n",
    "An entire Real Estate Development Scenario is represented as a huge web (graph)\n",
    "of `Element`s and `Relationship`s\n",
    "```\n",
    "\n",
    "#### `Element`s\n",
    "An `Element` is a ‘thing’ that has substance, or is composed of sub-`Element`s\n",
    "that have substance, material, mass, volume, existence, are ‘real’, etc.\n",
    "\n",
    "#### `Relationship`s\n",
    "`Relationship`s describe some sort of association, connection, or link between\n",
    "`Element`s. Each `Relationship` is described by its ‘type’; for instance, an\n",
    "`Element` can be related to another by virtue of it “being contained\n",
    "(spatially)” by the other, or it could be “installed before” another `Element`.\n",
    "There can be any number of `Relationship`s between any number of `Element`s.\n",
    "\n",
    "#### `Assembly`s\n",
    "In order to clearly encapsulate ‘groups’ of intuitively-related `Element`s,\n",
    "*Rangekeeper* has a concept of an `Assembly`, which is an object that defines\n",
    "a collection of `Relationship`s and their associated `Element`s.\n",
    "`Assembly`s are `Element`s themselves, too –- so they can also be related to\n",
    "other `Element`s.\n",
    "This means that *Rangekeeper* can traverse from `Assembly` to `Assembly` through\n",
    "overlapping `Element`s, in a similar fashion to common-sense conceptualisation\n",
    "of how a real estate development scenario is structured.\n",
    "\n",
    "```{figure} resources/devModelAssembly.jpg\n",
    "---\n",
    "width: 100%\n",
    "name: An Assembly of Elements\n",
    "---\n",
    "An `Assembly` is a non-exclusive collection of `Element`s and `Relationship`s,\n",
    "enabling the traversal of `Assmebly`s in the graph.\n",
    "```\n",
    "\n",
    "### Properties of Elements\n",
    "\n",
    "\n"
   ],
   "metadata": {
    "collapsed": false
   }
  }
 ],
 "metadata": {
  "kernelspec": {
   "display_name": "Python 3",
   "language": "python",
   "name": "python3"
  },
  "language_info": {
   "codemirror_mode": {
    "name": "ipython",
    "version": 2
   },
   "file_extension": ".py",
   "mimetype": "text/x-python",
   "name": "python",
   "nbconvert_exporter": "python",
   "pygments_lexer": "ipython2",
   "version": "2.7.6"
  }
 },
 "nbformat": 4,
 "nbformat_minor": 0
}
