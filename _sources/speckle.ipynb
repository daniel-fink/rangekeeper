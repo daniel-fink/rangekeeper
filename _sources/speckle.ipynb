{
 "cells": [
  {
   "cell_type": "markdown",
   "source": [
    "# Loading a Design Scenario"
   ],
   "metadata": {
    "collapsed": false
   }
  },
  {
   "cell_type": "markdown",
   "source": [
    "```{warning}\n",
    "The following is a work in progress. More content will be added as produced.\n",
    "```"
   ],
   "metadata": {
    "collapsed": false
   }
  },
  {
   "cell_type": "markdown",
   "source": [
    "*Rangekeeper* provides API access to [Speckle](https://speckle.systems/). This\n",
    "enables loading and extending a 3D design scenario with *Rangekeeper* to produce\n",
    "its financial valuation, as well as execute any automated decision-making or\n",
    "optimisation processes, and sending the results back to Speckle.\n",
    "\n",
    "## Object Model\n",
    "Before walking through the I/O methods, it is important to understand the\n",
    "requirements *Rangekeeper* places on how a design scenario must be structured,\n",
    "so that the `Flow`s and `Stream`s of a DCF Proforma can be appropriately\n",
    "attributed to the design scenario's objects (especially its representations of\n",
    "physical spaces, components, and equipment).\n",
    "\n",
    "### Elements and Relationships\n",
    "A holistic representation of a real estate development scenario is that it is a\n",
    "web of inter-related 'elements'; where each element is a 'thing' and can have\n",
    "multiple relationships with other elements. For example, a floor is a type\n",
    "of element (say, a 'Space') and it has relationships with floors above and\n",
    "below it, as well as relationships to its sub-elements (e.g. rooms), or even\n",
    "what services it (e.g. the mechanical systems controlling its air conditioning)\n",
    "\n",
    "```{figure} resources/devModelGraph.jpg\n",
    "---\n",
    "width: 100%\n",
    "name: Real Estate Scenario as a Graph\n",
    "---\n",
    "An entire Real Estate Development Scenario is represented as a huge web (graph)\n",
    "of `Element`s and `Relationship`s\n",
    "```\n",
    "\n",
    "#### `Element`s\n",
    "An `Element` is a ‘thing’ that has substance, or is composed of sub-`Element`s\n",
    "that have substance, material, mass, volume, existence, are ‘real’, etc.\n",
    "\n",
    "#### `Relationship`s\n",
    "`Relationship`s describe some sort of (directed) association, connection, or\n",
    "link between `Element`s. Each `Relationship` is described by its ‘type’; for\n",
    "instance, an `Element` can be related to another by virtue of it “being\n",
    "contained (spatially)” by the other, or it could be “installed before” another\n",
    "`Element`.\n",
    "There can be any number of `Relationship`s between any number of `Element`s.\n",
    "\n",
    "#### `Assembly`s\n",
    "In order to clearly encapsulate ‘groups’ of intuitively-related `Element`s,\n",
    "*Rangekeeper* has a concept of an `Assembly`, which is an object that defines\n",
    "a collection of `Relationship`s and their associated `Element`s.\n",
    "`Assembly`s are `Element`s themselves, too –- so they can also be related to\n",
    "other `Element`s.\n",
    "This means that *Rangekeeper* can traverse from `Assembly` to `Assembly` through\n",
    "overlapping `Element`s, in a similar fashion to common-sense conceptualisation\n",
    "of how a real estate development scenario is structured.\n",
    "\n",
    "```{figure} resources/devModelAssembly.jpg\n",
    "---\n",
    "width: 100%\n",
    "name: An Assembly of Elements\n",
    "---\n",
    "An `Assembly` is a non-exclusive collection of `Element`s and `Relationship`s,\n",
    "enabling the traversal of `Element`s in the graph.\n",
    "```\n",
    "\n",
    "### Definitions\n",
    "#### Properties of `Element`s\n",
    "All `Element`s have the following properties:\n",
    "1. **Id**: a unique, immutable, identifier\n",
    "2. **Name**: a string\n",
    "3. **Type**: an `ElementType`, which is a node of a tree of `ElementType`s)\n",
    "4. **Attributes**: a key-value store of specific properties of the `Element`\n",
    "   (eg, its area, geometry, material, etc).\n",
    "There are two key `Attribute`s (stored in the `Attributes` property), where\n",
    "*Rangekeeper* seeks and records data for its use:\n",
    "   -  **Events**: a set of time-based occurrences, or experiences, that happen\n",
    "      in or to the `Element` (called `Event`s)\n",
    "   -  **Measurements**: a key-value store of named quantities measuring the\n",
    "       `Element` (e.g. its Net Lettable Area (NLA))\n",
    "\n",
    "In addition, `Assembly`s have properties collecting related `Element`s:\n",
    "1. **ElementIds**: a set pointers to `Element`s\n",
    "2. **Relationships**: a set of `Relationship`s\n",
    "\n",
    "#### Properties of `Relationship`s\n",
    "Meanwhile, all `Relationship`s have the following properties:\n",
    "1. **Type**: a `RelationshipType`, which is an item from a list of defined\n",
    "   `RelationshipType`s\n",
    "2. **SourceId**: the `Element` `Id` that is the source of the `Relationship`\n",
    "3. **TargetId**: the `Element` `Id` that is the target of the `Relationship`\n",
    "\n",
    "#### `Event`s\n",
    "Every `Element` can exist in both space and time. Most `Element`s will have (or\n",
    "its sub-`Element`s will have, in the case of an `Assembly`) geometry/s that\n",
    "define the extent of space that the Element exists in.\n",
    "\n",
    "To represent how an `Element` exists in time, the `Element` has `Event`s\n",
    "recorded against it. For example, an `Event` may record the installation of the\n",
    "`Element` during construction, or it may record production of revenue during\n",
    "operation of the real estate project as an asset.\n",
    "\n",
    "`Flow`s and `Stream`s are subclasses of `Event`s.\n",
    "\n",
    "```{figure} resources/objModel.jpg\n",
    "---\n",
    "width: 100%\n",
    "name: UML-style diagram of foundation of Rangekeeper's object model\n",
    "---\n",
    "Diagram of general overview of the founational concepts of *Rangekeeper*'s\n",
    "object model, in UML-style.\n",
    "```"
   ],
   "metadata": {
    "collapsed": false
   }
  },
  {
   "cell_type": "markdown",
   "source": [
    "## Rationale and Implications\n",
    "*Rangekeeper* will use the `Relationship`s defined in the `Assembly`/s of a\n",
    "design scenario to structure the \"drill-downs\" and \"roll-ups\" (ie, the\n",
    "compositions) of `Flow`s into `Stream`s that are appropriate for the kinds of\n",
    "summations and metrics that the DCF Proforma model requires.\n",
    "\n",
    "For example, an office building may produce revenue from multiple tenants. A\n",
    "tenant may occupy multiple floors, or a part (space) of a single floor.\n",
    "For *Rangekeeper*, each space would be an `Element`; with its `Events` property\n",
    "containing a set of `Flow`s and/or `Stream`s that represent revenues or costs\n",
    "associated with that space. Those may be aggregated into cash flows generated by\n",
    "the tenant of those spaces, and analysed as such, or they may be aggregated per\n",
    "floor, or per building, or per project.\n",
    "\n",
    "This makes it simple to calculate things like the share of total revenue\n",
    "generated by each tenant; or the share of revenue generated by each floor.\n",
    "Likewise with costs.\n",
    "\n",
    "The multi-faceted nature of the `Element`-`Relationship` model enables multiple\n",
    "pathways for those aggregations to be specified, and thus enables an efficient\n",
    "and broad ability to query the model for the kinds of analyses pertinent to\n",
    "real estate valuation.\n",
    "\n",
    "### Technicalities\n",
    "To provide a *Rangekeeper* model with the `Element`-`Relationship` organization,\n",
    "those need to either be defined in the design scenario itself, or they need to\n",
    "be specified after receiving and loading the design scenario.\n",
    "\n",
    "#### Defining `Element`s and `Relationship`s in the Design Scenario\n",
    "*Rangekeeper* uses the [Speckle](https://speckle.systems) service and data model\n",
    "for the exchange of design scenarios, and scaffolds `Element`s off a [Speckle\n",
    "`Base`](https://speckle.guide/dev/base.html)\n",
    "\n",
    "It also provides two means to define `Element`s and `Relationship`s:\n",
    "1. A plugin to [McNeel's Rhinoceros3D Grasshopper]\n",
    "   (https://www.rhino3d.com/6/new/grasshopper/), that enables both automated and\n",
    "   manual assignment of `Relationship`s to geometries before their export to\n",
    "   Speckle; and\n",
    "2. Manual assignment of `Relationship`s to `Element`s once they have been loaded\n",
    "   from a Speckle stream in *Rangekeeper*."
   ],
   "metadata": {
    "collapsed": false
   }
  },
  {
   "cell_type": "code",
   "execution_count": null,
   "outputs": [],
   "source": [],
   "metadata": {
    "collapsed": false
   }
  },
  {
   "cell_type": "code",
   "execution_count": 1,
   "outputs": [
    {
     "data": {
      "text/plain": "<IPython.lib.display.IFrame at 0x103b84a60>",
      "text/html": "\n        <iframe\n            width=\"700\"\n            height=\"500\"\n            src=\"https://speckle.xyz/embed?stream=3073b96e86&commit=604bea8cc6&c=%5B41.608%2C46.98512%2C69.78354%2C20.86703%2C15.4694%2C16.57642%2C0%2C1%5D\"\n            frameborder=\"0\"\n            allowfullscreen\n            \n        ></iframe>\n        "
     },
     "execution_count": 1,
     "metadata": {},
     "output_type": "execute_result"
    }
   ],
   "source": [
    "from IPython.display import IFrame\n",
    "IFrame(\"https://speckle.xyz/embed?stream=3073b96e86&commit=604bea8cc6&c=%5B41.608%2C46.98512%2C69.78354%2C20.86703%2C15.4694%2C16.57642%2C0%2C1%5D\",width=700,height=500)"
   ],
   "metadata": {
    "collapsed": false,
    "ExecuteTime": {
     "end_time": "2023-05-24T06:41:16.593978Z",
     "start_time": "2023-05-24T06:41:16.582263Z"
    }
   }
  },
  {
   "cell_type": "markdown",
   "source": [],
   "metadata": {
    "collapsed": false
   }
  }
 ],
 "metadata": {
  "kernelspec": {
   "display_name": "Python 3",
   "language": "python",
   "name": "python3"
  },
  "language_info": {
   "codemirror_mode": {
    "name": "ipython",
    "version": 2
   },
   "file_extension": ".py",
   "mimetype": "text/x-python",
   "name": "python",
   "nbconvert_exporter": "python",
   "pygments_lexer": "ipython2",
   "version": "2.7.6"
  }
 },
 "nbformat": 4,
 "nbformat_minor": 0
}
