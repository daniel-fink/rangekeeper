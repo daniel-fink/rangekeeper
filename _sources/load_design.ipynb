{
 "cells": [
  {
   "cell_type": "markdown",
   "metadata": {},
   "source": [
    "# Loading a Design"
   ]
  },
  {
   "cell_type": "markdown",
   "metadata": {},
   "source": [
    "*Rangekeeper* provides API access to [Speckle](https://speckle.systems/). This\n",
    "enables loading and extending a 3D design with *Rangekeeper* in order\n",
    "to produce its financial valuation, as well as execute any automated\n",
    "decision-making or optimisation processes, and sending the results back to\n",
    "Speckle.\n",
    "\n",
    "## Object Model\n",
    "Before walking through the I/O methods, it is important to understand the\n",
    "requirements *Rangekeeper* places on how a design must be structured,\n",
    "so that the `Flow`s and `Stream`s of a DCF Proforma can be appropriately\n",
    "attributed to the design's objects (especially its representations of\n",
    "physical spaces, components, and equipment).\n",
    "\n",
    "### Entities and Relationships\n",
    "A holistic representation of a real estate asset is that it is a\n",
    "web of inter-related 'entities'; where each entity is a 'thing' and can have\n",
    "multiple relationships with other entities. For example, a floor is a type\n",
    "of entity (say, a \"Space\") and it has relationships with floors above and\n",
    "below it, as well as relationships to its sub-entities (e.g. rooms), or even\n",
    "what services it (e.g. the mechanical systems controlling its air conditioning)\n",
    "\n",
    "```{figure} resources/devModelGraph.jpg\n",
    "---\n",
    "width: 100%\n",
    "name: Real Estate Asset (Property) as a Graph\n",
    "---\n",
    "An entire Real Estate asset is represented as a huge web (graph) of `Entity`s\n",
    "and `Relationship`s between those `Entity`s\n",
    "```\n",
    "\n",
    "#### `Entity`s\n",
    "An `Entity` is a ‘thing’ that has substance, or is composed of sub-`Entity`s\n",
    "that have substance, material, mass, volume, existence, are ‘real’, etc.\n",
    "\n",
    "#### `Relationship`s\n",
    "`Relationship`s describe some sort of (directed) association, connection, or\n",
    "link between `Entity`s. Each `Relationship` is described by its ‘type’; for\n",
    "instance, an `Entity` can be related to another by virtue of it “being\n",
    "contained (spatially)” by the other, or it could be “installed before” another\n",
    "`Entity`.\n",
    "There can be any number of `Relationship`s between any number of `Entity`s.\n",
    "\n",
    "#### `Assembly`s\n",
    "In order to clearly encapsulate ‘groups’ of intuitively-related `Entity`s,\n",
    "*Rangekeeper* has a concept of an `Assembly`, which is an object that defines\n",
    "a collection of `Relationship`s and their associated `Entity`s.\n",
    "`Assembly`s are `Entity`s themselves, too –- so they can also be related to\n",
    "other `Entity`s.\n",
    "This means that *Rangekeeper* can traverse from `Assembly` to `Assembly` through\n",
    "overlapping `Entity`s, in a similar fashion to common-sense conceptualisation\n",
    "of how a real estate asset is structured.\n",
    "\n",
    "```{figure} resources/devModelAssembly.jpg\n",
    "---\n",
    "width: 100%\n",
    "name: A Diagram of `Assembly`s of `Entity`s\n",
    "---\n",
    "An `Assembly` is a non-exclusive collection of `Relationship`s, enabling the\n",
    "traversal of `Entity`s in the graph.\n",
    "```\n",
    "\n",
    "### Definitions\n",
    "#### Properties of `Entity`s\n",
    "All `Entity`s have the following properties:\n",
    "1. **entityId**: a unique & immutable identifier for the `Entity` over the whole of\n",
    "    its lifetime.\n",
    "2. **Name**: human-readable text identifying the `Entity`\n",
    "3. **Type**: an `entityType` (which is a node of a tree of `entityType`s)\n",
    "4. **Attributes**: a key-value store of specific properties of the `Entity`\n",
    "   (eg, its area, geometry, material, cash flows, etc).\n",
    "\n",
    "\n",
    "In addition, `Assembly`s record a set of `Relationship`s about `Entity`s that\n",
    "are related to, or in, the `Assembly`.\n",
    "1. **Relationships**: a set of `Relationship`s\n",
    "\n",
    "#### Properties of `Relationship`s\n",
    "Meanwhile, all `Relationship`s have the following properties:\n",
    "1. **Type**: a `RelationshipType`, which is an item from a list of defined\n",
    "   `RelationshipType`s\n",
    "2. **Source**: the `Entity` that is the source of the `Relationship`\n",
    "3. **Target**: the `Entity` that is the target of the `Relationship`\n",
    "\n",
    "#### `Event`s\n",
    "Every `Entity` can exist in both space and time. Most `Entity`s will have (or\n",
    "its sub-`Entity`s will have, in the case of an `Assembly`) geometry/s that\n",
    "define the extent of space that the entity exists in.\n",
    "\n",
    "To represent how an `Entity` exists in time, the `Entity` has `Event`s\n",
    "recorded against it. For example, an `Event` may record the installation of the\n",
    "`entity` during construction, or it may record production of revenue during\n",
    "operation of the real estate project as an asset.\n",
    "\n",
    "`Flow`s and `Stream`s are subclasses of `Event`s.\n",
    "\n",
    "```{figure} resources/objModel.jpg\n",
    "---\n",
    "width: 100%\n",
    "name: UML-style diagram of foundation of Rangekeeper's object model\n",
    "---\n",
    "Diagram of general overview of the founational concepts of *Rangekeeper*'s\n",
    "object model, in UML-style.\n",
    "```"
   ]
  },
  {
   "cell_type": "markdown",
   "metadata": {},
   "source": [
    "## Rationale and Implications\n",
    "*Rangekeeper* will use the `Relationship`s defined in the `Assembly`/s of a\n",
    "design to structure the \"drill-downs\" and \"roll-ups\" (ie, the\n",
    "compositions) of `Flow`s into `Stream`s that are appropriate for the kinds of\n",
    "summations and metrics that the DCF Proforma model requires.\n",
    "\n",
    "For example, an office building may produce revenue from multiple tenants. A\n",
    "tenant may occupy multiple floors, or a part (space) of a single floor.\n",
    "For *Rangekeeper*, each space would be an `entity`; with its `Events` property\n",
    "containing a set of `Flow`s and/or `Stream`s that represent revenues or costs\n",
    "associated with that space. Those may be aggregated into cash flows generated by\n",
    "the tenant of those spaces, and analysed as such, or they may be aggregated per\n",
    "floor, or per building, or per project.\n",
    "\n",
    "This makes it simple to calculate things like the share of total revenue\n",
    "generated by each tenant; or the share of revenue generated by each floor.\n",
    "Likewise with costs.\n",
    "\n",
    "The multi-faceted nature of the [`Entity`-`Relationship` model](\n",
    "https://en.wikipedia.org/wiki/Entity%E2%80%93relationship_model) enables\n",
    "multiple pathways for those aggregations to be specified, and thus enables an\n",
    "efficient and broad ability to query the model for the kinds of analyses\n",
    "pertinent to real estate valuation.\n",
    "\n",
    "### Technicalities\n",
    "To provide a *Rangekeeper* model with the `Entity`-`Relationship` organization,\n",
    "those need to either be defined in the design itself, or they need to\n",
    "be specified after receiving and loading the design.\n",
    "\n",
    "#### Defining `Entity`s and `Relationship`s in the Design Scenario\n",
    "*Rangekeeper* uses the [Speckle](https://speckle.systems) service and data model\n",
    "for the exchange of designs, and scaffolds `entity`s off a [Speckle\n",
    "`Base`](https://speckle.guide/dev/base.html)\n",
    "\n",
    "It also provides two means to define `entity`s and `Relationship`s:\n",
    "1. A plugin to [McNeel's Rhinoceros3D Grasshopper]\n",
    "   (https://www.rhino3d.com/6/new/grasshopper/), that enables both automated and\n",
    "   manual assignment of `Relationship`s to geometries before their export to\n",
    "   Speckle; and\n",
    "2. Manual assignment of `Relationship`s to `Entity`s once they have been loaded\n",
    "   from a Speckle stream in *Rangekeeper*."
   ]
  },
  {
   "cell_type": "markdown",
   "metadata": {},
   "source": [
    "## Example Design\n",
    "An example property has been documented and uploaded to Speckle for us to use\n",
    "as a demonstration of the object model and its use in *Rangekeeper*."
   ]
  },
  {
   "cell_type": "markdown",
   "metadata": {},
   "source": [
    "This design is composed of two mixed-use buildings, that both share a\n",
    "common basement plinth, used for parking and shared mechanical and other\n",
    "services (e.g. garbage disposal, storage)\n",
    "\n",
    "To access the design in *Rangekeeper*, we need to load it from Speckle.\n",
    "First load neccesary libraries:"
   ]
  },
  {
   "cell_type": "code",
   "execution_count": 1,
   "metadata": {
    "ExecuteTime": {
     "end_time": "2024-03-14T12:10:03.450984Z",
     "start_time": "2024-03-14T12:10:02.679436Z"
    }
   },
   "outputs": [],
   "source": [
    "import os\n",
    "\n",
    "from IPython.display import IFrame\n",
    "\n",
    "import rangekeeper as rk"
   ]
  },
  {
   "cell_type": "markdown",
   "metadata": {},
   "source": [
    "### Authenticate and Load the Design from Speckle"
   ]
  },
  {
   "cell_type": "code",
   "execution_count": 2,
   "metadata": {
    "ExecuteTime": {
     "end_time": "2024-03-14T12:10:04.838349Z",
     "start_time": "2024-03-14T12:10:03.451807Z"
    }
   },
   "outputs": [
    {
     "name": "stdout",
     "output_type": "stream",
     "text": [
      "\n",
      " SpeckleClient( server: https://speckle.xyz, authenticated: True )\n"
     ]
    }
   ],
   "source": [
    "# Authenticate with Speckle\n",
    "speckle = rk.api.Speckle(\n",
    "    host=\"speckle.xyz\",\n",
    "    token=os.getenv('SPECKLE_TOKEN')) # Note if you run this notebook yourself, you'll need to set this environment variable\n"
   ]
  },
  {
   "cell_type": "markdown",
   "source": [
    "The design is stored in a Speckle 'stream', which is a container for a set of\n",
    "'commits', or versions of the data."
   ],
   "metadata": {
    "collapsed": false
   }
  },
  {
   "cell_type": "code",
   "execution_count": 3,
   "outputs": [],
   "source": [
    "stream_id = \"c0f66c35e3\"\n",
    "commit_id = speckle.get_latest_commit_id(stream_id)"
   ],
   "metadata": {
    "collapsed": false,
    "ExecuteTime": {
     "end_time": "2024-03-14T12:10:05.337130Z",
     "start_time": "2024-03-14T12:10:04.840606Z"
    }
   }
  },
  {
   "cell_type": "code",
   "execution_count": 4,
   "metadata": {
    "ExecuteTime": {
     "end_time": "2024-03-14T12:10:11.865914Z",
     "start_time": "2024-03-14T12:10:09.110718Z"
    }
   },
   "outputs": [
    {
     "data": {
      "text/plain": "Base(id: 2916559e41a0defb57cd23e757718135, speckle_type: Base, totalChildrenCount: 3006)"
     },
     "execution_count": 4,
     "metadata": {},
     "output_type": "execute_result"
    }
   ],
   "source": [
    "# Load the design data\n",
    "data = speckle.get_commit(stream_id=stream_id) # Providing no commit_id defaults to the latest commit\n",
    "data"
   ]
  },
  {
   "cell_type": "markdown",
   "metadata": {},
   "source": [
    "### Inspect the Design"
   ]
  },
  {
   "cell_type": "code",
   "execution_count": 5,
   "outputs": [
    {
     "data": {
      "text/plain": "<IPython.lib.display.IFrame at 0x2f2c89b90>",
      "text/html": "\n        <iframe\n            width=\"100%\"\n            height=\"800\"\n            src=\"https://speckle.xyz/embed?stream=e3ea4fe91a&commit=9196d66cd1\"\n            frameborder=\"0\"\n            allowfullscreen\n            \n        ></iframe>\n        "
     },
     "execution_count": 5,
     "metadata": {},
     "output_type": "execute_result"
    }
   ],
   "source": [
    "IFrame(\"https://speckle.xyz/embed?stream={0}&commit={1}\".format(stream_id, commit_id), width='100%', height=800)"
   ],
   "metadata": {
    "collapsed": false,
    "ExecuteTime": {
     "end_time": "2024-03-14T12:10:14.544163Z",
     "start_time": "2024-03-14T12:10:14.539872Z"
    }
   }
  },
  {
   "cell_type": "code",
   "execution_count": 6,
   "metadata": {
    "ExecuteTime": {
     "end_time": "2024-03-14T12:10:16.353519Z",
     "start_time": "2024-03-14T12:10:16.350642Z"
    }
   },
   "outputs": [
    {
     "data": {
      "text/plain": "['@property', '@context']"
     },
     "execution_count": 6,
     "metadata": {},
     "output_type": "execute_result"
    }
   ],
   "source": [
    "# Let's identify the root members of the:\n",
    "roots = data.get_dynamic_member_names()\n",
    "roots"
   ]
  },
  {
   "cell_type": "markdown",
   "metadata": {},
   "source": [
    "In this design, there are two members (Speckle Objects) at the root of\n",
    "the model:\n",
    "1. '@context', and\n",
    "2. '@property'\n",
    "\n",
    "```{note}\n",
    "Speckle Objects whose member names begin with an `@` indicate 'detached' data:\n",
    "See [The Base Object: Detaching](https://speckle.guide/dev/base.html#detaching)\n",
    "for more information.\n",
    "```\n",
    "\n",
    "For future reference, if we wanted to see their spatial representation, we can\n",
    "pass them in to the Speckle Viewer's \"objects\" endpoint with their `id`s:"
   ]
  },
  {
   "cell_type": "code",
   "execution_count": 7,
   "metadata": {
    "ExecuteTime": {
     "end_time": "2024-03-14T12:10:18.534700Z",
     "start_time": "2024-03-14T12:10:18.531032Z"
    }
   },
   "outputs": [
    {
     "data": {
      "text/plain": "<IPython.lib.display.IFrame at 0x2f3aebad0>",
      "text/html": "\n        <iframe\n            width=\"100%\"\n            height=\"800\"\n            src=\"https://speckle.xyz/streams/e3ea4fe91a/objects/397f8570ba992bbce9e44fe0aa82ba21\"\n            frameborder=\"0\"\n            allowfullscreen\n            \n        ></iframe>\n        "
     },
     "execution_count": 7,
     "metadata": {},
     "output_type": "execute_result"
    }
   ],
   "source": [
    "IFrame(\"https://speckle.xyz/streams/{0}/objects/{1}\".format(stream_id, data['@property']['id']), width='100%', height=800)"
   ]
  },
  {
   "cell_type": "markdown",
   "source": [
    "We can even use the Speckle Viewer's 'filter' functionality to see only the\n",
    "certain types of objects contained within the spaces of the design (try toggling\n",
    "the isolation mode for \"floor\" or \"utilities\" types):"
   ],
   "metadata": {
    "collapsed": false
   }
  },
  {
   "cell_type": "code",
   "execution_count": 8,
   "outputs": [
    {
     "data": {
      "text/plain": "<IPython.lib.display.IFrame at 0x2f39e9310>",
      "text/html": "\n        <iframe\n            width=\"100%\"\n            height=\"800\"\n            src=\"https://speckle.xyz/streams/e3ea4fe91a/commits/9196d66cd1?filter=%7B%22propertyInfoKey%22%3A%22type%22%7D\"\n            frameborder=\"0\"\n            allowfullscreen\n            \n        ></iframe>\n        "
     },
     "execution_count": 8,
     "metadata": {},
     "output_type": "execute_result"
    }
   ],
   "source": [
    "label = 'type'\n",
    "IFrame('https://speckle.xyz/streams/{0}/commits/{1}?filter=%7B%22propertyInfoKey%22%3A%22{2}%22%7D'.format(\n",
    "    stream_id,\n",
    "    commit_id,\n",
    "    label), width='100%', height=800)"
   ],
   "metadata": {
    "collapsed": false,
    "ExecuteTime": {
     "end_time": "2024-03-14T12:10:23.059106Z",
     "start_time": "2024-03-14T12:10:23.056553Z"
    }
   }
  },
  {
   "cell_type": "markdown",
   "metadata": {},
   "source": [
    "### Rangekeeper `Entity`s in the Design\n",
    "Of course, not all Speckle Objects are Rangekeeper `Entity`s for us to use in\n",
    "our valuations and modeling.\n",
    "To make parsing the design easier, *Rangekeeper* provides some helper\n",
    "methods to convert the Speckle Objects into Rangekeeper `Entity`s:"
   ]
  },
  {
   "cell_type": "code",
   "execution_count": 9,
   "metadata": {
    "ExecuteTime": {
     "end_time": "2024-03-14T12:10:26.893308Z",
     "start_time": "2024-03-14T12:10:26.883937Z"
    }
   },
   "outputs": [
    {
     "name": "stdout",
     "output_type": "stream",
     "text": [
      "Warning: Duplicate Entity 6072b243-6bba-4e67-96de-25119e17150f [utilities] found.\n",
      "Existing Entity is an Assembly while new Entity is not. Keeping Assembly.\n",
      "Warning: Duplicate Entity 6072b243-6bba-4e67-96de-25119e17150f [utilities] found.\n",
      "Existing Entity is an Assembly while new Entity is not. Keeping Assembly.\n",
      "Warning: Duplicate Entity 6072b243-6bba-4e67-96de-25119e17150f [utilities] found.\n",
      "Existing Entity is an Assembly while new Entity is not. Keeping Assembly.\n",
      "Warning: Duplicate Entity c19933d4-eaa0-4398-882d-b8554d2963db [plinthparking] found.\n",
      "Existing Entity is an Assembly while new Entity is not. Keeping Assembly.\n"
     ]
    },
    {
     "data": {
      "text/plain": "True"
     },
     "execution_count": 9,
     "metadata": {},
     "output_type": "execute_result"
    }
   ],
   "source": [
    "# Return any Speckle Objects in the '@design' trunk that have 'entityId's:\n",
    "parsed = rk.api.Speckle.parse(base=data['@property'])\n",
    "\n",
    "# (Recursively) Convert the Speckle Objects into Rangekeeper Entities:\n",
    "property = rk.api.Speckle.to_rk(\n",
    "    bases=list(parsed.values()),\n",
    "    name='property',\n",
    "    type='archetype')\n",
    "\n",
    "# (We can check that it is an Assembly:)\n",
    "isinstance(property, rk.graph.Assembly)"
   ]
  },
  {
   "cell_type": "markdown",
   "metadata": {},
   "source": [
    "#### Querying the Design's Object Graph\n",
    "*Rangekeeper* uses the [NetworkX](https://networkx.org/) library to represent\n",
    "the object graph of the design, where each `Assembly` is a `MultiDiGraph` of\n",
    "Entity` nodes and `Relationship` edges.\n",
    "This means we can query it pythonically:"
   ]
  },
  {
   "cell_type": "code",
   "execution_count": 11,
   "metadata": {
    "ExecuteTime": {
     "end_time": "2024-03-14T12:10:33.608487Z",
     "start_time": "2024-03-14T12:10:33.605983Z"
    }
   },
   "outputs": [
    {
     "name": "stdout",
     "output_type": "stream",
     "text": [
      "buildingA: Assembly: buildingA\n",
      "Type: building\n",
      "Members: ['type', 'name']\n",
      "Entities: [('bfb80bb9-08e8-4a9c-8892-df73e6561d32', {'entity': Assembly: buildingA (Type: building)}), ('48a9f4a0-1157-48f8-94b2-f64461730009', {'entity': Assembly: buildingAhotel (Type: space)}), ('2e6cefe7-a5c3-4c0b-a578-ef2fa298482f', {'entity': Assembly: buildingAretail (Type: space)}), ('6e260151-086b-40c2-83a5-d14ea8e006dd', {'entity': Assembly: buildingAresidential (Type: space)}), ('40e0d08f-67e5-48ec-b828-9f921a4eee34', {'entity': Assembly: buildingAretail (Type: space)}), ('ba6a675c-fad0-4236-993e-6451f7ef6f88', {'entity': Assembly: buildingAparking (Type: space)}), ('e805830b-9774-4519-aedc-fd03552308c2', {'entity': Entity: buildingAcores (Type: utilities)})]\n",
      "Relationships: [('bfb80bb9-08e8-4a9c-8892-df73e6561d32', '48a9f4a0-1157-48f8-94b2-f64461730009', 'spatiallyContains'), ('bfb80bb9-08e8-4a9c-8892-df73e6561d32', '2e6cefe7-a5c3-4c0b-a578-ef2fa298482f', 'spatiallyContains'), ('bfb80bb9-08e8-4a9c-8892-df73e6561d32', '6e260151-086b-40c2-83a5-d14ea8e006dd', 'spatiallyContains'), ('bfb80bb9-08e8-4a9c-8892-df73e6561d32', '40e0d08f-67e5-48ec-b828-9f921a4eee34', 'spatiallyContains'), ('bfb80bb9-08e8-4a9c-8892-df73e6561d32', 'ba6a675c-fad0-4236-993e-6451f7ef6f88', 'spatiallyContains'), ('bfb80bb9-08e8-4a9c-8892-df73e6561d32', 'e805830b-9774-4519-aedc-fd03552308c2', 'spatiallyContains')]\n"
     ]
    }
   ],
   "source": [
    "# Get the \"BuildingA\" Assembly:\n",
    "buildingA = [entity for (entityId, entity) in property.get_entities().items() if entity['name'] == 'buildingA'][0]\n",
    "print('buildingA: {0}'.format(buildingA))"
   ]
  },
  {
   "cell_type": "markdown",
   "metadata": {},
   "source": [
    "Because we can also define directed, labelled `Relationship`s between `Entity`s,\n",
    "we can identify relatives of `Entity`s accordingly:"
   ]
  },
  {
   "cell_type": "code",
   "execution_count": 12,
   "metadata": {
    "ExecuteTime": {
     "end_time": "2024-03-14T12:10:33.637100Z",
     "start_time": "2024-03-14T12:10:33.634901Z"
    }
   },
   "outputs": [
    {
     "name": "stdout",
     "output_type": "stream",
     "text": [
      "buildingA Containment: \n",
      " [Assembly: buildingAhotel (Type: space), Assembly: buildingAretail (Type: space), Assembly: buildingAresidential (Type: space), Assembly: buildingAretail (Type: space), Assembly: buildingAparking (Type: space), Entity: buildingAcores (Type: utilities)]\n"
     ]
    }
   ],
   "source": [
    "# Get all relatives of BuildingA where BuildingA is the source of\n",
    "# a 'spatiallyContains' relationship:\n",
    "buildingA_containment = buildingA.get_relatives(\n",
    "    outgoing=True,\n",
    "    relationship_type='spatiallyContains',\n",
    "    assembly=property)\n",
    "print('buildingA Containment: \\n {0}\\n'.format(buildingA_containment))"
   ]
  },
  {
   "cell_type": "code",
   "execution_count": 13,
   "outputs": [
    {
     "name": "stdout",
     "output_type": "stream",
     "text": [
      "buildingAresidential: Assembly: buildingAresidential\n",
      "Type: space\n",
      "Members: ['@geometry', 'use', 'name', 'type', 'renderMaterial', 'volume']\n",
      "Entities: [('6e260151-086b-40c2-83a5-d14ea8e006dd', {'entity': Assembly: buildingAresidential (Type: space)}), ('bef4da00-cd24-4703-ad27-82963ae2cf87', {'entity': Entity: buildingAresidentialFloor0 (Type: floor)}), ('13d41e1a-627b-46de-abea-d98a4e053892', {'entity': Entity: buildingAresidentialFloor1 (Type: floor)}), ('ff6c54fd-095e-462e-aba0-2e43842a7b10', {'entity': Entity: buildingAresidentialFloor2 (Type: floor)}), ('15063656-315e-46fe-a193-eb8b364c725e', {'entity': Entity: buildingAresidentialFloor3 (Type: floor)})]\n",
      "Relationships: [('6e260151-086b-40c2-83a5-d14ea8e006dd', 'bef4da00-cd24-4703-ad27-82963ae2cf87', 'spatiallyContains'), ('6e260151-086b-40c2-83a5-d14ea8e006dd', '13d41e1a-627b-46de-abea-d98a4e053892', 'spatiallyContains'), ('6e260151-086b-40c2-83a5-d14ea8e006dd', 'ff6c54fd-095e-462e-aba0-2e43842a7b10', 'spatiallyContains'), ('6e260151-086b-40c2-83a5-d14ea8e006dd', '15063656-315e-46fe-a193-eb8b364c725e', 'spatiallyContains')]\n"
     ]
    }
   ],
   "source": [
    "buildingAresi = [entity for entity in buildingA_containment if entity['name'] == 'buildingAresidential'][0]\n",
    "print('buildingAresidential: {0}'.format(buildingAresi))"
   ],
   "metadata": {
    "collapsed": false,
    "ExecuteTime": {
     "end_time": "2024-03-14T12:10:33.640150Z",
     "start_time": "2024-03-14T12:10:33.638015Z"
    }
   }
  },
  {
   "cell_type": "markdown",
   "metadata": {},
   "source": [
    "We can also visualize the design's graph as well:"
   ]
  },
  {
   "cell_type": "code",
   "execution_count": 14,
   "outputs": [
    {
     "name": "stdout",
     "output_type": "stream",
     "text": [
      "assets/property.html\n"
     ]
    },
    {
     "data": {
      "text/plain": "<IPython.lib.display.IFrame at 0x2f39e99d0>",
      "text/html": "\n        <iframe\n            width=\"100%\"\n            height=\"800\"\n            src=\"./property.html\"\n            frameborder=\"0\"\n            allowfullscreen\n            \n        ></iframe>\n        "
     },
     "execution_count": 14,
     "metadata": {},
     "output_type": "execute_result"
    }
   ],
   "source": [
    "property.plot(name='assets/property')\n",
    "IFrame(src=\"./property.html\", width='100%', height=800)"
   ],
   "metadata": {
    "collapsed": false,
    "ExecuteTime": {
     "end_time": "2024-03-14T12:10:33.707780Z",
     "start_time": "2024-03-14T12:10:33.640982Z"
    }
   }
  },
  {
   "cell_type": "markdown",
   "source": [],
   "metadata": {
    "collapsed": false
   }
  }
 ],
 "metadata": {
  "kernelspec": {
   "display_name": "Python 3 (ipykernel)",
   "language": "python",
   "name": "python3"
  },
  "language_info": {
   "codemirror_mode": {
    "name": "ipython",
    "version": 3
   },
   "file_extension": ".py",
   "mimetype": "text/x-python",
   "name": "python",
   "nbconvert_exporter": "python",
   "pygments_lexer": "ipython3",
   "version": "3.10.4"
  }
 },
 "nbformat": 4,
 "nbformat_minor": 1
}
