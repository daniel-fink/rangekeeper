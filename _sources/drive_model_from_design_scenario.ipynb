{
 "cells": [
  {
   "cell_type": "markdown",
   "metadata": {},
   "source": [
    "# Driving a Financial Valuation from a Design Scenario"
   ]
  },
  {
   "cell_type": "markdown",
   "metadata": {},
   "source": [
    "```{warning}\n",
    "The following is a work in progress. More content will be added as produced.\n",
    "```"
   ]
  },
  {
   "cell_type": "markdown",
   "metadata": {
    "collapsed": false
   },
   "source": [
    "As seen in\n",
    "[Loading a Design Scenario](../load_design_scenario.ipynb),\n",
    "a design scenario's object model (a\n",
    "[knowledge graph](https://en.wikipedia.org/wiki/Knowledge_graph) including all\n",
    "its spatial and semantic relationships) can be loaded via Speckle from any of\n",
    "Speckle's supported [connectors](https://speckle.guide/user/connectors.html), so\n",
    "long as those objects (`Entity`s and `Relationship`s) have been assigned.\n",
    "\n",
    "In this notebook, we will demonstrate how to use the object model (graph) to\n",
    "drive a financial valuation of the design scenario. This is done by calculating\n",
    "cash flows per `Entity`, and then using the `Relationship`s to aggregate those\n",
    "`Flow`s into appropriate `Stream`s."
   ]
  },
  {
   "cell_type": "markdown",
   "metadata": {
    "collapsed": false
   },
   "source": [
    "## Load the Design Scenario\n",
    "We will use the same design scenario as in the previous notebook."
   ]
  },
  {
   "cell_type": "code",
   "execution_count": 1,
   "metadata": {
    "ExecuteTime": {
     "end_time": "2023-06-25T14:01:20.476702Z",
     "start_time": "2023-06-25T14:01:18.894547Z"
    },
    "collapsed": false
   },
   "outputs": [],
   "source": [
    "import os\n",
    "\n",
    "import networkx as nx\n",
    "import locale\n",
    "import pandas as pd\n",
    "from IPython.display import IFrame\n",
    "import plotly.io as pio\n",
    "import plotly.express as px\n",
    "import plotly.offline as py\n",
    "import pprint as pp\n",
    "import rangekeeper as rk"
   ]
  },
  {
   "cell_type": "code",
   "execution_count": 2,
   "metadata": {
    "ExecuteTime": {
     "end_time": "2023-06-25T14:01:22.725173Z",
     "start_time": "2023-06-25T14:01:20.477386Z"
    },
    "collapsed": false
   },
   "outputs": [
    {
     "name": "stdout",
     "output_type": "stream",
     "text": [
      "\n",
      " SpeckleClient( server: https://speckle.xyz, authenticated: True )\n"
     ]
    },
    {
     "data": {
      "text/html": [
       "\n",
       "        <iframe\n",
       "            width=\"100%\"\n",
       "            height=\"800\"\n",
       "            src=\"https://speckle.xyz/embed?stream=f5e306e3fa&commit=6018e7fe7b\"\n",
       "            frameborder=\"0\"\n",
       "            allowfullscreen\n",
       "            \n",
       "        ></iframe>\n",
       "        "
      ],
      "text/plain": [
       "<IPython.lib.display.IFrame at 0x10b51ceb0>"
      ]
     },
     "execution_count": 2,
     "metadata": {},
     "output_type": "execute_result"
    }
   ],
   "source": [
    "speckle = rk.api.Speckle(\n",
    "    host=\"speckle.xyz\",\n",
    "    token=os.getenv('SPECKLE_TOKEN'))\n",
    "stream_id = \"f5e306e3fa\"\n",
    "commit_id = speckle.get_latest_commit_id(stream_id)\n",
    "IFrame(\"https://speckle.xyz/embed?stream={0}&commit={1}\".format(stream_id, commit_id), width='100%', height=800)"
   ]
  },
  {
   "cell_type": "markdown",
   "metadata": {
    "collapsed": false
   },
   "source": [
    "### Inspect the Model Graph"
   ]
  },
  {
   "cell_type": "code",
   "execution_count": 3,
   "metadata": {
    "ExecuteTime": {
     "end_time": "2023-06-25T14:01:25.575713Z",
     "start_time": "2023-06-25T14:01:22.727896Z"
    },
    "collapsed": false
   },
   "outputs": [
    {
     "name": "stdout",
     "output_type": "stream",
     "text": [
      "Warning: Duplicate Entity f7e2fa84-54a6-4fd4-ae93-f339947035b6 [utilities] found.\n",
      "Existing Entity is an Assembly while new Entity is not. Keeping Assembly.\n",
      "Warning: Duplicate Entity f7e2fa84-54a6-4fd4-ae93-f339947035b6 [utilities] found.\n",
      "Existing Entity is an Assembly while new Entity is not. Keeping Assembly.\n",
      "Warning: Duplicate Entity f7e2fa84-54a6-4fd4-ae93-f339947035b6 [utilities] found.\n",
      "Existing Entity is an Assembly while new Entity is not. Keeping Assembly.\n",
      "Warning: Duplicate Entity c7dfbeaf-1b8c-424c-bad0-0b2b5975af6e [plinthparking] found.\n",
      "Existing Entity is an Assembly while new Entity is not. Keeping Assembly.\n"
     ]
    }
   ],
   "source": [
    "model = speckle.get_commit(stream_id=stream_id)\n",
    "parsed = rk.api.Speckle.parse(base=model['@scenario'])\n",
    "scenario = rk.api.Speckle.to_rk(\n",
    "    bases=list(parsed.values()),\n",
    "    name='design_scenario',\n",
    "    type='scenario')"
   ]
  },
  {
   "cell_type": "code",
   "execution_count": 4,
   "metadata": {
    "ExecuteTime": {
     "end_time": "2023-06-25T14:01:25.665138Z",
     "start_time": "2023-06-25T14:01:25.577396Z"
    },
    "collapsed": false
   },
   "outputs": [
    {
     "name": "stdout",
     "output_type": "stream",
     "text": [
      "assets/design_scenario.html\n"
     ]
    },
    {
     "data": {
      "text/html": [
       "\n",
       "        <iframe\n",
       "            width=\"100%\"\n",
       "            height=\"800\"\n",
       "            src=\"./design_scenario.html\"\n",
       "            frameborder=\"0\"\n",
       "            allowfullscreen\n",
       "            \n",
       "        ></iframe>\n",
       "        "
      ],
      "text/plain": [
       "<IPython.lib.display.IFrame at 0x2ebc20f10>"
      ]
     },
     "execution_count": 4,
     "metadata": {},
     "output_type": "execute_result"
    }
   ],
   "source": [
    "scenario.plot(name='assets/design_scenario')\n",
    "IFrame(src=\"./design_scenario.html\", width='100%', height=800)"
   ]
  },
  {
   "cell_type": "markdown",
   "metadata": {
    "collapsed": false
   },
   "source": [
    "## Assigning and Aggregating `Flow`s per `Entity`\n",
    "Now we can organise the two main categories of cash flows (costs and revenues)\n",
    "according to the `Relationship` types in the design scenario.\n",
    "\n",
    "In this example, revenue-based cash flows are generated by `Entity`s that have a\n",
    " \"sellable\" (or \"leasable\") area -- an NSA or NLA measure.\n",
    "\n",
    "We can query the graph to find them:"
   ]
  },
  {
   "cell_type": "markdown",
   "metadata": {
    "collapsed": false
   },
   "source": [
    "### Revenue-producing Entities\n",
    "Revenue-producing `Entity`s will be aggregated by their spatial containment. So\n",
    "we can first slice our graph to a tree of nodes that have \"contains\"\n",
    "relationships:"
   ]
  },
  {
   "cell_type": "code",
   "execution_count": 5,
   "metadata": {
    "ExecuteTime": {
     "end_time": "2023-06-25T14:01:25.667473Z",
     "start_time": "2023-06-25T14:01:25.664462Z"
    },
    "collapsed": false
   },
   "outputs": [],
   "source": [
    "spatial_containment = rk.graph.Assembly.from_graph(\n",
    "    graph=scenario.graph.edge_subgraph(\n",
    "        [edge for edge in scenario.graph.edges(keys=True) if edge[2] == 'spatiallyContains']),\n",
    "    name='spatial_containment',\n",
    "    type='subgraph')"
   ]
  },
  {
   "cell_type": "markdown",
   "metadata": {
    "collapsed": false
   },
   "source": [
    "Note: we anticipate that the spatial decomposition is completely hierarchical\n",
    "(i.e., no spaces overlap, which means no spaces have multiple parents). We can\n",
    "check this by testing whether the containment graph is a \"tree\" (or\n",
    "\"arborescence\": see [NetworkX Tree](https://networkx.org/documentation/stable/reference/algorithms/tree.html#tree))."
   ]
  },
  {
   "cell_type": "code",
   "execution_count": 6,
   "metadata": {
    "ExecuteTime": {
     "end_time": "2023-06-25T14:01:25.672571Z",
     "start_time": "2023-06-25T14:01:25.668951Z"
    },
    "collapsed": false
   },
   "outputs": [
    {
     "data": {
      "text/plain": [
       "True"
      ]
     },
     "execution_count": 6,
     "metadata": {},
     "output_type": "execute_result"
    }
   ],
   "source": [
    "nx.is_arborescence(spatial_containment.graph)"
   ]
  },
  {
   "cell_type": "code",
   "execution_count": 7,
   "metadata": {
    "ExecuteTime": {
     "end_time": "2023-06-25T14:01:25.751747Z",
     "start_time": "2023-06-25T14:01:25.672698Z"
    },
    "collapsed": false
   },
   "outputs": [
    {
     "name": "stdout",
     "output_type": "stream",
     "text": [
      "assets/spatial_containment.html\n"
     ]
    },
    {
     "data": {
      "text/html": [
       "\n",
       "        <iframe\n",
       "            width=\"100%\"\n",
       "            height=\"800\"\n",
       "            src=\"./spatial_containment.html\"\n",
       "            frameborder=\"0\"\n",
       "            allowfullscreen\n",
       "            \n",
       "        ></iframe>\n",
       "        "
      ],
      "text/plain": [
       "<IPython.lib.display.IFrame at 0x2e889c160>"
      ]
     },
     "execution_count": 7,
     "metadata": {},
     "output_type": "execute_result"
    }
   ],
   "source": [
    "spatial_containment.plot(name='assets/spatial_containment')\n",
    "IFrame(src=\"./spatial_containment.html\", width='100%', height=800)"
   ]
  },
  {
   "cell_type": "markdown",
   "metadata": {
    "collapsed": false
   },
   "source": [
    "#### Simple Aggregation\n",
    "Now that we have verified this, we can continue with a simple aggregation. We\n",
    "to aggregate up through our hierarchy all `Entity`s that have a Gross Floor Area\n",
    "('gfa') property:"
   ]
  },
  {
   "cell_type": "code",
   "execution_count": 8,
   "metadata": {
    "ExecuteTime": {
     "end_time": "2023-06-25T14:01:25.756927Z",
     "start_time": "2023-06-25T14:01:25.755176Z"
    },
    "collapsed": false
   },
   "outputs": [],
   "source": [
    "spatial_containment.aggregate(\n",
    "    property='gfa',\n",
    "    label='subtotal_gfa')"
   ]
  },
  {
   "cell_type": "markdown",
   "metadata": {
    "collapsed": false
   },
   "source": [
    "We can tabulate this by converting the graph to a pandas `DataFrame`:"
   ]
  },
  {
   "cell_type": "code",
   "execution_count": null,
   "metadata": {
    "ExecuteTime": {
     "end_time": "2023-06-25T14:01:25.792100Z",
     "start_time": "2023-06-25T14:01:25.765307Z"
    },
    "collapsed": false,
    "tags": [
     "output_scroll"
    ]
   },
   "outputs": [
    {
     "data": {
      "text/html": [
       "<div>\n",
       "<style scoped>\n",
       "    .dataframe tbody tr th:only-of-type {\n",
       "        vertical-align: middle;\n",
       "    }\n",
       "\n",
       "    .dataframe tbody tr th {\n",
       "        vertical-align: top;\n",
       "    }\n",
       "\n",
       "    .dataframe thead th {\n",
       "        text-align: right;\n",
       "    }\n",
       "</style>\n",
       "<table border=\"1\" class=\"dataframe\">\n",
       "  <thead>\n",
       "    <tr style=\"text-align: right;\">\n",
       "      <th></th>\n",
       "      <th>entityId</th>\n",
       "      <th>subtotal_gfa</th>\n",
       "      <th>name</th>\n",
       "      <th>id</th>\n",
       "      <th>type</th>\n",
       "      <th>parent</th>\n",
       "      <th>children</th>\n",
       "      <th>use</th>\n",
       "      <th>ffl</th>\n",
       "      <th>gfa</th>\n",
       "      <th>number</th>\n",
       "    </tr>\n",
       "  </thead>\n",
       "  <tbody>\n",
       "    <tr>\n",
       "      <th>003c1ee8-4450-4fb1-98bd-54d11408d99e</th>\n",
       "      <td>003c1ee8-4450-4fb1-98bd-54d11408d99e</td>\n",
       "      <td>45816.419959</td>\n",
       "      <td>development</td>\n",
       "      <td>06f4b837038f2cc3edf4244fceb946f3</td>\n",
       "      <td>development</td>\n",
       "      <td>None</td>\n",
       "      <td>[eb42cd14-73ab-41fc-99c0-c46631ee1208, dac040a...</td>\n",
       "      <td>NaN</td>\n",
       "      <td>NaN</td>\n",
       "      <td>NaN</td>\n",
       "      <td>NaN</td>\n",
       "    </tr>\n",
       "    <tr>\n",
       "      <th>eb42cd14-73ab-41fc-99c0-c46631ee1208</th>\n",
       "      <td>eb42cd14-73ab-41fc-99c0-c46631ee1208</td>\n",
       "      <td>19605.790919</td>\n",
       "      <td>buildingA</td>\n",
       "      <td>a648fcc8f96e4160b0c35953139e4211</td>\n",
       "      <td>building</td>\n",
       "      <td>003c1ee8-4450-4fb1-98bd-54d11408d99e</td>\n",
       "      <td>[655b2dfe-5c18-4d68-95f0-f5d27804430d, 47dfa8b...</td>\n",
       "      <td>NaN</td>\n",
       "      <td>NaN</td>\n",
       "      <td>NaN</td>\n",
       "      <td>NaN</td>\n",
       "    </tr>\n",
       "    <tr>\n",
       "      <th>dac040a5-2605-4cd0-a2fb-40ebb85450d9</th>\n",
       "      <td>dac040a5-2605-4cd0-a2fb-40ebb85450d9</td>\n",
       "      <td>12773.744211</td>\n",
       "      <td>plinth</td>\n",
       "      <td>8cc56cf9901af95f74b642f7a1950e6f</td>\n",
       "      <td>building</td>\n",
       "      <td>003c1ee8-4450-4fb1-98bd-54d11408d99e</td>\n",
       "      <td>[c7dfbeaf-1b8c-424c-bad0-0b2b5975af6e, 1993c55...</td>\n",
       "      <td>NaN</td>\n",
       "      <td>NaN</td>\n",
       "      <td>NaN</td>\n",
       "      <td>NaN</td>\n",
       "    </tr>\n",
       "    <tr>\n",
       "      <th>8c7c9be7-fd8f-4527-ae90-24e15c3581db</th>\n",
       "      <td>8c7c9be7-fd8f-4527-ae90-24e15c3581db</td>\n",
       "      <td>13436.884829</td>\n",
       "      <td>buildingB</td>\n",
       "      <td>bfc0db6a88d730984d4eead94ac5a2e6</td>\n",
       "      <td>building</td>\n",
       "      <td>003c1ee8-4450-4fb1-98bd-54d11408d99e</td>\n",
       "      <td>[23b3acb0-8acb-4254-b54c-e76b4b7b8fe9, 1235045...</td>\n",
       "      <td>NaN</td>\n",
       "      <td>NaN</td>\n",
       "      <td>NaN</td>\n",
       "      <td>NaN</td>\n",
       "    </tr>\n",
       "    <tr>\n",
       "      <th>f7e2fa84-54a6-4fd4-ae93-f339947035b6</th>\n",
       "      <td>f7e2fa84-54a6-4fd4-ae93-f339947035b6</td>\n",
       "      <td>0.000000</td>\n",
       "      <td>utilities</td>\n",
       "      <td>aabdd3fcac0dd1e5c793235001dd945b</td>\n",
       "      <td>utilities</td>\n",
       "      <td>003c1ee8-4450-4fb1-98bd-54d11408d99e</td>\n",
       "      <td>[]</td>\n",
       "      <td>NaN</td>\n",
       "      <td>NaN</td>\n",
       "      <td>NaN</td>\n",
       "      <td>NaN</td>\n",
       "    </tr>\n",
       "    <tr>\n",
       "      <th>655b2dfe-5c18-4d68-95f0-f5d27804430d</th>\n",
       "      <td>655b2dfe-5c18-4d68-95f0-f5d27804430d</td>\n",
       "      <td>14691.140177</td>\n",
       "      <td>buildingAoffice</td>\n",
       "      <td>f3fcf8533f26a84803e72de91ec51d47</td>\n",
       "      <td>space</td>\n",
       "      <td>eb42cd14-73ab-41fc-99c0-c46631ee1208</td>\n",
       "      <td>[6bfd12d7-72d7-417f-bc31-1bef4ffaadb0, f25ef6d...</td>\n",
       "      <td>office</td>\n",
       "      <td>NaN</td>\n",
       "      <td>NaN</td>\n",
       "      <td>NaN</td>\n",
       "    </tr>\n",
       "    <tr>\n",
       "      <th>47dfa8b6-e213-4099-9f5b-834df0ca34b0</th>\n",
       "      <td>47dfa8b6-e213-4099-9f5b-834df0ca34b0</td>\n",
       "      <td>1123.715326</td>\n",
       "      <td>buildingAretail</td>\n",
       "      <td>6e4bdf36f792bd089039c6ef4c5cf23e</td>\n",
       "      <td>space</td>\n",
       "      <td>eb42cd14-73ab-41fc-99c0-c46631ee1208</td>\n",
       "      <td>[037235ef-f5ef-4763-b652-13d59dc03a34]</td>\n",
       "      <td>retail</td>\n",
       "      <td>NaN</td>\n",
       "      <td>NaN</td>\n",
       "      <td>NaN</td>\n",
       "    </tr>\n",
       "    <tr>\n",
       "      <th>da796c3e-94b0-4175-8c6f-ac63e5e60714</th>\n",
       "      <td>da796c3e-94b0-4175-8c6f-ac63e5e60714</td>\n",
       "      <td>2296.143091</td>\n",
       "      <td>buildingAresidential</td>\n",
       "      <td>5e079a3b71d254fc2eba55f62a1188d1</td>\n",
       "      <td>space</td>\n",
       "      <td>eb42cd14-73ab-41fc-99c0-c46631ee1208</td>\n",
       "      <td>[a987a169-2605-4308-9462-8d22eb6df2be, d2db8f8...</td>\n",
       "      <td>residential</td>\n",
       "      <td>NaN</td>\n",
       "      <td>NaN</td>\n",
       "      <td>NaN</td>\n",
       "    </tr>\n",
       "    <tr>\n",
       "      <th>08e12c72-4450-424f-8ff4-a4da7246ee05</th>\n",
       "      <td>08e12c72-4450-424f-8ff4-a4da7246ee05</td>\n",
       "      <td>534.530238</td>\n",
       "      <td>buildingAretail</td>\n",
       "      <td>ff0fdddd8d8669831c2c1f6a0bad6640</td>\n",
       "      <td>space</td>\n",
       "      <td>eb42cd14-73ab-41fc-99c0-c46631ee1208</td>\n",
       "      <td>[b5466f16-c071-41a5-93b1-0d794930e62d]</td>\n",
       "      <td>retail</td>\n",
       "      <td>NaN</td>\n",
       "      <td>NaN</td>\n",
       "      <td>NaN</td>\n",
       "    </tr>\n",
       "    <tr>\n",
       "      <th>634c5fb4-f204-4287-8c80-f23371056f1c</th>\n",
       "      <td>634c5fb4-f204-4287-8c80-f23371056f1c</td>\n",
       "      <td>960.262087</td>\n",
       "      <td>buildingAparking</td>\n",
       "      <td>7de6c744113bcb82c54b2c10d12a451d</td>\n",
       "      <td>space</td>\n",
       "      <td>eb42cd14-73ab-41fc-99c0-c46631ee1208</td>\n",
       "      <td>[02b101a5-0ad5-4f8d-9f0b-f65787d4073f]</td>\n",
       "      <td>parking</td>\n",
       "      <td>NaN</td>\n",
       "      <td>NaN</td>\n",
       "      <td>NaN</td>\n",
       "    </tr>\n",
       "    <tr>\n",
       "      <th>abdf16fd-494e-4d7f-a604-134ce1c004ac</th>\n",
       "      <td>abdf16fd-494e-4d7f-a604-134ce1c004ac</td>\n",
       "      <td>0.000000</td>\n",
       "      <td>buildingAcores</td>\n",
       "      <td>ba4cb24b6f3a2c4ce98b1cda917cadff</td>\n",
       "      <td>utilities</td>\n",
       "      <td>eb42cd14-73ab-41fc-99c0-c46631ee1208</td>\n",
       "      <td>[]</td>\n",
       "      <td>cores</td>\n",
       "      <td>NaN</td>\n",
       "      <td>NaN</td>\n",
       "      <td>NaN</td>\n",
       "    </tr>\n",
       "    <tr>\n",
       "      <th>6bfd12d7-72d7-417f-bc31-1bef4ffaadb0</th>\n",
       "      <td>6bfd12d7-72d7-417f-bc31-1bef4ffaadb0</td>\n",
       "      <td>1650.842103</td>\n",
       "      <td>buildingAofficeFloor1</td>\n",
       "      <td>bb9485a02747b6b96c5048d6749ded98</td>\n",
       "      <td>floor</td>\n",
       "      <td>655b2dfe-5c18-4d68-95f0-f5d27804430d</td>\n",
       "      <td>[]</td>\n",
       "      <td>NaN</td>\n",
       "      <td>5.3</td>\n",
       "      <td>1650.842103</td>\n",
       "      <td>1.0</td>\n",
       "    </tr>\n",
       "    <tr>\n",
       "      <th>f25ef6dc-c9cc-444a-b758-e30e87a9593f</th>\n",
       "      <td>f25ef6dc-c9cc-444a-b758-e30e87a9593f</td>\n",
       "      <td>1448.922008</td>\n",
       "      <td>buildingAofficeFloor2</td>\n",
       "      <td>2054ecb0e810dde67e49dc75cbe90b6d</td>\n",
       "      <td>floor</td>\n",
       "      <td>655b2dfe-5c18-4d68-95f0-f5d27804430d</td>\n",
       "      <td>[]</td>\n",
       "      <td>NaN</td>\n",
       "      <td>8.4</td>\n",
       "      <td>1448.922008</td>\n",
       "      <td>2.0</td>\n",
       "    </tr>\n",
       "    <tr>\n",
       "      <th>97e6b3b6-edfb-49a9-91f3-337b0b150c21</th>\n",
       "      <td>97e6b3b6-edfb-49a9-91f3-337b0b150c21</td>\n",
       "      <td>1448.922008</td>\n",
       "      <td>buildingAofficeFloor3</td>\n",
       "      <td>cabffd9774ad7738f318eae789de45f2</td>\n",
       "      <td>floor</td>\n",
       "      <td>655b2dfe-5c18-4d68-95f0-f5d27804430d</td>\n",
       "      <td>[]</td>\n",
       "      <td>NaN</td>\n",
       "      <td>11.5</td>\n",
       "      <td>1448.922008</td>\n",
       "      <td>3.0</td>\n",
       "    </tr>\n",
       "    <tr>\n",
       "      <th>6ee48fbb-decc-47ea-8e20-e415c669143f</th>\n",
       "      <td>6ee48fbb-decc-47ea-8e20-e415c669143f</td>\n",
       "      <td>1448.922008</td>\n",
       "      <td>buildingAofficeFloor4</td>\n",
       "      <td>376219e18ab55a8399a9e7b1f8053063</td>\n",
       "      <td>floor</td>\n",
       "      <td>655b2dfe-5c18-4d68-95f0-f5d27804430d</td>\n",
       "      <td>[]</td>\n",
       "      <td>NaN</td>\n",
       "      <td>14.6</td>\n",
       "      <td>1448.922008</td>\n",
       "      <td>4.0</td>\n",
       "    </tr>\n",
       "    <tr>\n",
       "      <th>e57ea01c-ae5d-4281-8aff-56e95d40a239</th>\n",
       "      <td>e57ea01c-ae5d-4281-8aff-56e95d40a239</td>\n",
       "      <td>1448.922008</td>\n",
       "      <td>buildingAofficeFloor5</td>\n",
       "      <td>2bbe0ec9efa8d791d1be9479ab35bad1</td>\n",
       "      <td>floor</td>\n",
       "      <td>655b2dfe-5c18-4d68-95f0-f5d27804430d</td>\n",
       "      <td>[]</td>\n",
       "      <td>NaN</td>\n",
       "      <td>17.7</td>\n",
       "      <td>1448.922008</td>\n",
       "      <td>5.0</td>\n",
       "    </tr>\n",
       "    <tr>\n",
       "      <th>59adf9e1-f47d-4bcc-b506-b3a2731654b9</th>\n",
       "      <td>59adf9e1-f47d-4bcc-b506-b3a2731654b9</td>\n",
       "      <td>1448.922008</td>\n",
       "      <td>buildingAofficeFloor6</td>\n",
       "      <td>e852a889a7b190930eb652a49a950473</td>\n",
       "      <td>floor</td>\n",
       "      <td>655b2dfe-5c18-4d68-95f0-f5d27804430d</td>\n",
       "      <td>[]</td>\n",
       "      <td>NaN</td>\n",
       "      <td>20.8</td>\n",
       "      <td>1448.922008</td>\n",
       "      <td>6.0</td>\n",
       "    </tr>\n",
       "    <tr>\n",
       "      <th>68f28de9-539f-4276-8dcc-cf4eb7dbe82c</th>\n",
       "      <td>68f28de9-539f-4276-8dcc-cf4eb7dbe82c</td>\n",
       "      <td>1448.922008</td>\n",
       "      <td>buildingAofficeFloor7</td>\n",
       "      <td>bd24ef34732d88ac7e111cf9adb4b0b5</td>\n",
       "      <td>floor</td>\n",
       "      <td>655b2dfe-5c18-4d68-95f0-f5d27804430d</td>\n",
       "      <td>[]</td>\n",
       "      <td>NaN</td>\n",
       "      <td>23.9</td>\n",
       "      <td>1448.922008</td>\n",
       "      <td>7.0</td>\n",
       "    </tr>\n",
       "    <tr>\n",
       "      <th>508b3a7f-7094-4f47-9b61-57ef8f4a6205</th>\n",
       "      <td>508b3a7f-7094-4f47-9b61-57ef8f4a6205</td>\n",
       "      <td>1448.922008</td>\n",
       "      <td>buildingAofficeFloor8</td>\n",
       "      <td>9e805df365930792f7cdb4b44f28624c</td>\n",
       "      <td>floor</td>\n",
       "      <td>655b2dfe-5c18-4d68-95f0-f5d27804430d</td>\n",
       "      <td>[]</td>\n",
       "      <td>NaN</td>\n",
       "      <td>27.0</td>\n",
       "      <td>1448.922008</td>\n",
       "      <td>8.0</td>\n",
       "    </tr>\n",
       "    <tr>\n",
       "      <th>1e6b1a6a-d64a-4c68-9210-3c4f0585000f</th>\n",
       "      <td>1e6b1a6a-d64a-4c68-9210-3c4f0585000f</td>\n",
       "      <td>1448.922008</td>\n",
       "      <td>buildingAofficeFloor9</td>\n",
       "      <td>a10cfa41a5e1ba14f1c4f77d3da347f3</td>\n",
       "      <td>floor</td>\n",
       "      <td>655b2dfe-5c18-4d68-95f0-f5d27804430d</td>\n",
       "      <td>[]</td>\n",
       "      <td>NaN</td>\n",
       "      <td>30.1</td>\n",
       "      <td>1448.922008</td>\n",
       "      <td>9.0</td>\n",
       "    </tr>\n",
       "    <tr>\n",
       "      <th>12c94d26-7779-4384-856a-2139664d55e1</th>\n",
       "      <td>12c94d26-7779-4384-856a-2139664d55e1</td>\n",
       "      <td>1448.922008</td>\n",
       "      <td>buildingAofficeFloor10</td>\n",
       "      <td>fcdffb74c3197134b0d3bcad63063e23</td>\n",
       "      <td>floor</td>\n",
       "      <td>655b2dfe-5c18-4d68-95f0-f5d27804430d</td>\n",
       "      <td>[]</td>\n",
       "      <td>NaN</td>\n",
       "      <td>33.2</td>\n",
       "      <td>1448.922008</td>\n",
       "      <td>10.0</td>\n",
       "    </tr>\n",
       "    <tr>\n",
       "      <th>037235ef-f5ef-4763-b652-13d59dc03a34</th>\n",
       "      <td>037235ef-f5ef-4763-b652-13d59dc03a34</td>\n",
       "      <td>1123.715326</td>\n",
       "      <td>buildingAretailFloor0</td>\n",
       "      <td>936d88be85f4bdd1c60db2e75e44e1ea</td>\n",
       "      <td>floor</td>\n",
       "      <td>47dfa8b6-e213-4099-9f5b-834df0ca34b0</td>\n",
       "      <td>[]</td>\n",
       "      <td>NaN</td>\n",
       "      <td>0.3</td>\n",
       "      <td>1123.715326</td>\n",
       "      <td>0.0</td>\n",
       "    </tr>\n",
       "    <tr>\n",
       "      <th>a987a169-2605-4308-9462-8d22eb6df2be</th>\n",
       "      <td>a987a169-2605-4308-9462-8d22eb6df2be</td>\n",
       "      <td>57.900000</td>\n",
       "      <td>buildingAresidentialFloor0</td>\n",
       "      <td>fa3ebd0829aff1ba42729ed61a92d4aa</td>\n",
       "      <td>floor</td>\n",
       "      <td>da796c3e-94b0-4175-8c6f-ac63e5e60714</td>\n",
       "      <td>[]</td>\n",
       "      <td>NaN</td>\n",
       "      <td>0.3</td>\n",
       "      <td>57.900000</td>\n",
       "      <td>0.0</td>\n",
       "    </tr>\n",
       "    <tr>\n",
       "      <th>d2db8f8f-36c9-4a92-a1dd-016376fee217</th>\n",
       "      <td>d2db8f8f-36c9-4a92-a1dd-016376fee217</td>\n",
       "      <td>43.800000</td>\n",
       "      <td>buildingAresidentialFloor0</td>\n",
       "      <td>d134e3b5e5025bfb18918aa3c050b21a</td>\n",
       "      <td>floor</td>\n",
       "      <td>da796c3e-94b0-4175-8c6f-ac63e5e60714</td>\n",
       "      <td>[]</td>\n",
       "      <td>NaN</td>\n",
       "      <td>0.3</td>\n",
       "      <td>43.800000</td>\n",
       "      <td>0.0</td>\n",
       "    </tr>\n",
       "    <tr>\n",
       "      <th>b0384123-9bec-4c0e-87f6-32abb6a49fb3</th>\n",
       "      <td>b0384123-9bec-4c0e-87f6-32abb6a49fb3</td>\n",
       "      <td>731.481030</td>\n",
       "      <td>buildingAresidentialFloor1</td>\n",
       "      <td>0198dbbf8e749878791cf680d3266ee9</td>\n",
       "      <td>floor</td>\n",
       "      <td>da796c3e-94b0-4175-8c6f-ac63e5e60714</td>\n",
       "      <td>[]</td>\n",
       "      <td>NaN</td>\n",
       "      <td>5.3</td>\n",
       "      <td>731.481030</td>\n",
       "      <td>1.0</td>\n",
       "    </tr>\n",
       "    <tr>\n",
       "      <th>bbd83975-af58-492e-8818-ce1968564a05</th>\n",
       "      <td>bbd83975-af58-492e-8818-ce1968564a05</td>\n",
       "      <td>731.481030</td>\n",
       "      <td>buildingAresidentialFloor2</td>\n",
       "      <td>06f37b8849330d06fe4f3ac980ce224e</td>\n",
       "      <td>floor</td>\n",
       "      <td>da796c3e-94b0-4175-8c6f-ac63e5e60714</td>\n",
       "      <td>[]</td>\n",
       "      <td>NaN</td>\n",
       "      <td>8.4</td>\n",
       "      <td>731.481030</td>\n",
       "      <td>2.0</td>\n",
       "    </tr>\n",
       "    <tr>\n",
       "      <th>c78fd645-372b-4a23-a823-98e2f6885b97</th>\n",
       "      <td>c78fd645-372b-4a23-a823-98e2f6885b97</td>\n",
       "      <td>731.481030</td>\n",
       "      <td>buildingAresidentialFloor3</td>\n",
       "      <td>51ed62db81794bafa9fb676ea9ad7a69</td>\n",
       "      <td>floor</td>\n",
       "      <td>da796c3e-94b0-4175-8c6f-ac63e5e60714</td>\n",
       "      <td>[]</td>\n",
       "      <td>NaN</td>\n",
       "      <td>11.5</td>\n",
       "      <td>731.481030</td>\n",
       "      <td>3.0</td>\n",
       "    </tr>\n",
       "    <tr>\n",
       "      <th>b5466f16-c071-41a5-93b1-0d794930e62d</th>\n",
       "      <td>b5466f16-c071-41a5-93b1-0d794930e62d</td>\n",
       "      <td>534.530238</td>\n",
       "      <td>buildingAretailFloor0</td>\n",
       "      <td>28e1ae0fb304be98df4ca616eb247986</td>\n",
       "      <td>floor</td>\n",
       "      <td>08e12c72-4450-424f-8ff4-a4da7246ee05</td>\n",
       "      <td>[]</td>\n",
       "      <td>NaN</td>\n",
       "      <td>0.3</td>\n",
       "      <td>534.530238</td>\n",
       "      <td>0.0</td>\n",
       "    </tr>\n",
       "    <tr>\n",
       "      <th>02b101a5-0ad5-4f8d-9f0b-f65787d4073f</th>\n",
       "      <td>02b101a5-0ad5-4f8d-9f0b-f65787d4073f</td>\n",
       "      <td>960.262087</td>\n",
       "      <td>buildingAparkingFloor0</td>\n",
       "      <td>9a6d9f25bd30a6d91b7d2b80b33779f2</td>\n",
       "      <td>floor</td>\n",
       "      <td>634c5fb4-f204-4287-8c80-f23371056f1c</td>\n",
       "      <td>[]</td>\n",
       "      <td>NaN</td>\n",
       "      <td>0.3</td>\n",
       "      <td>960.262087</td>\n",
       "      <td>0.0</td>\n",
       "    </tr>\n",
       "    <tr>\n",
       "      <th>c7dfbeaf-1b8c-424c-bad0-0b2b5975af6e</th>\n",
       "      <td>c7dfbeaf-1b8c-424c-bad0-0b2b5975af6e</td>\n",
       "      <td>12773.744211</td>\n",
       "      <td>plinthparking</td>\n",
       "      <td>693ef9b693352d9876def8ec1c572de0</td>\n",
       "      <td>space</td>\n",
       "      <td>dac040a5-2605-4cd0-a2fb-40ebb85450d9</td>\n",
       "      <td>[d82b6b35-c57b-402d-92da-13fd460157ed, a25d7bb...</td>\n",
       "      <td>parking</td>\n",
       "      <td>NaN</td>\n",
       "      <td>NaN</td>\n",
       "      <td>NaN</td>\n",
       "    </tr>\n",
       "    <tr>\n",
       "      <th>1993c555-a42b-4496-83fa-0a35540ce846</th>\n",
       "      <td>1993c555-a42b-4496-83fa-0a35540ce846</td>\n",
       "      <td>0.000000</td>\n",
       "      <td>plinthplant</td>\n",
       "      <td>11759d025b80b3468e884826696caebf</td>\n",
       "      <td>utilities</td>\n",
       "      <td>dac040a5-2605-4cd0-a2fb-40ebb85450d9</td>\n",
       "      <td>[]</td>\n",
       "      <td>plant</td>\n",
       "      <td>NaN</td>\n",
       "      <td>NaN</td>\n",
       "      <td>NaN</td>\n",
       "    </tr>\n",
       "    <tr>\n",
       "      <th>d82b6b35-c57b-402d-92da-13fd460157ed</th>\n",
       "      <td>d82b6b35-c57b-402d-92da-13fd460157ed</td>\n",
       "      <td>6386.872106</td>\n",
       "      <td>plinthparkingFloor-2</td>\n",
       "      <td>87c70aed989715efc1233e4b9eff12a2</td>\n",
       "      <td>floor</td>\n",
       "      <td>c7dfbeaf-1b8c-424c-bad0-0b2b5975af6e</td>\n",
       "      <td>[]</td>\n",
       "      <td>NaN</td>\n",
       "      <td>-5.9</td>\n",
       "      <td>6386.872106</td>\n",
       "      <td>-2.0</td>\n",
       "    </tr>\n",
       "    <tr>\n",
       "      <th>a25d7bbf-0cff-4ef8-9432-f77459c16ac1</th>\n",
       "      <td>a25d7bbf-0cff-4ef8-9432-f77459c16ac1</td>\n",
       "      <td>6386.872106</td>\n",
       "      <td>plinthparkingFloor-1</td>\n",
       "      <td>106226680b69771195e9cbd166bb177d</td>\n",
       "      <td>floor</td>\n",
       "      <td>c7dfbeaf-1b8c-424c-bad0-0b2b5975af6e</td>\n",
       "      <td>[]</td>\n",
       "      <td>NaN</td>\n",
       "      <td>-2.8</td>\n",
       "      <td>6386.872106</td>\n",
       "      <td>-1.0</td>\n",
       "    </tr>\n",
       "    <tr>\n",
       "      <th>23b3acb0-8acb-4254-b54c-e76b4b7b8fe9</th>\n",
       "      <td>23b3acb0-8acb-4254-b54c-e76b4b7b8fe9</td>\n",
       "      <td>815.983454</td>\n",
       "      <td>buildingBretail</td>\n",
       "      <td>30d2709068dde3284f4466198c5100ee</td>\n",
       "      <td>space</td>\n",
       "      <td>8c7c9be7-fd8f-4527-ae90-24e15c3581db</td>\n",
       "      <td>[bf032649-dd19-4bf3-ae54-a2c2c768c911]</td>\n",
       "      <td>retail</td>\n",
       "      <td>NaN</td>\n",
       "      <td>NaN</td>\n",
       "      <td>NaN</td>\n",
       "    </tr>\n",
       "    <tr>\n",
       "      <th>12350456-019d-44a5-89f1-fec7401afd0c</th>\n",
       "      <td>12350456-019d-44a5-89f1-fec7401afd0c</td>\n",
       "      <td>1178.164752</td>\n",
       "      <td>buildingBparking</td>\n",
       "      <td>540eb82a8ba6b4ad7c28a5fee7dcbd65</td>\n",
       "      <td>space</td>\n",
       "      <td>8c7c9be7-fd8f-4527-ae90-24e15c3581db</td>\n",
       "      <td>[a336f32d-1a65-460e-b66c-f92db03a51e0]</td>\n",
       "      <td>parking</td>\n",
       "      <td>NaN</td>\n",
       "      <td>NaN</td>\n",
       "      <td>NaN</td>\n",
       "    </tr>\n",
       "    <tr>\n",
       "      <th>a4ee86bf-24af-4745-9aec-a903170f9e53</th>\n",
       "      <td>a4ee86bf-24af-4745-9aec-a903170f9e53</td>\n",
       "      <td>11442.736624</td>\n",
       "      <td>buildingBresidential</td>\n",
       "      <td>95dc2945009d940571987e218736580f</td>\n",
       "      <td>space</td>\n",
       "      <td>8c7c9be7-fd8f-4527-ae90-24e15c3581db</td>\n",
       "      <td>[b02a36da-d053-4e8b-8061-214cc0cc2aab, aca9206...</td>\n",
       "      <td>residential</td>\n",
       "      <td>NaN</td>\n",
       "      <td>NaN</td>\n",
       "      <td>NaN</td>\n",
       "    </tr>\n",
       "    <tr>\n",
       "      <th>d4411714-a51f-4d9a-ba97-7ea0c4c8fba3</th>\n",
       "      <td>d4411714-a51f-4d9a-ba97-7ea0c4c8fba3</td>\n",
       "      <td>0.000000</td>\n",
       "      <td>buildingBcores</td>\n",
       "      <td>f11506247ac9f88307622de21c7aaa88</td>\n",
       "      <td>utilities</td>\n",
       "      <td>8c7c9be7-fd8f-4527-ae90-24e15c3581db</td>\n",
       "      <td>[]</td>\n",
       "      <td>cores</td>\n",
       "      <td>NaN</td>\n",
       "      <td>NaN</td>\n",
       "      <td>NaN</td>\n",
       "    </tr>\n",
       "    <tr>\n",
       "      <th>bf032649-dd19-4bf3-ae54-a2c2c768c911</th>\n",
       "      <td>bf032649-dd19-4bf3-ae54-a2c2c768c911</td>\n",
       "      <td>815.983454</td>\n",
       "      <td>buildingBretailFloor0</td>\n",
       "      <td>ef3d0ac1b655110368bb05fc51435ede</td>\n",
       "      <td>floor</td>\n",
       "      <td>23b3acb0-8acb-4254-b54c-e76b4b7b8fe9</td>\n",
       "      <td>[]</td>\n",
       "      <td>NaN</td>\n",
       "      <td>0.3</td>\n",
       "      <td>815.983454</td>\n",
       "      <td>0.0</td>\n",
       "    </tr>\n",
       "    <tr>\n",
       "      <th>a336f32d-1a65-460e-b66c-f92db03a51e0</th>\n",
       "      <td>a336f32d-1a65-460e-b66c-f92db03a51e0</td>\n",
       "      <td>1178.164752</td>\n",
       "      <td>buildingBparkingFloor0</td>\n",
       "      <td>2a97568b5b915ecef88221b6bdd3b522</td>\n",
       "      <td>floor</td>\n",
       "      <td>12350456-019d-44a5-89f1-fec7401afd0c</td>\n",
       "      <td>[]</td>\n",
       "      <td>NaN</td>\n",
       "      <td>0.3</td>\n",
       "      <td>1178.164752</td>\n",
       "      <td>0.0</td>\n",
       "    </tr>\n",
       "    <tr>\n",
       "      <th>b02a36da-d053-4e8b-8061-214cc0cc2aab</th>\n",
       "      <td>b02a36da-d053-4e8b-8061-214cc0cc2aab</td>\n",
       "      <td>765.941631</td>\n",
       "      <td>buildingBresidentialFloor0</td>\n",
       "      <td>fd4cf3968ce3deb34aa5f749aec3020f</td>\n",
       "      <td>floor</td>\n",
       "      <td>a4ee86bf-24af-4745-9aec-a903170f9e53</td>\n",
       "      <td>[]</td>\n",
       "      <td>NaN</td>\n",
       "      <td>0.3</td>\n",
       "      <td>765.941631</td>\n",
       "      <td>0.0</td>\n",
       "    </tr>\n",
       "    <tr>\n",
       "      <th>aca92060-bc6a-4add-80ce-453e95632c10</th>\n",
       "      <td>aca92060-bc6a-4add-80ce-453e95632c10</td>\n",
       "      <td>2361.056035</td>\n",
       "      <td>buildingBresidentialFloor1</td>\n",
       "      <td>1afac525326440fd0bfb5c60028bc164</td>\n",
       "      <td>floor</td>\n",
       "      <td>a4ee86bf-24af-4745-9aec-a903170f9e53</td>\n",
       "      <td>[]</td>\n",
       "      <td>NaN</td>\n",
       "      <td>5.3</td>\n",
       "      <td>2361.056035</td>\n",
       "      <td>1.0</td>\n",
       "    </tr>\n",
       "    <tr>\n",
       "      <th>52fdcc00-9d28-4be4-adc0-19e90bdea02e</th>\n",
       "      <td>52fdcc00-9d28-4be4-adc0-19e90bdea02e</td>\n",
       "      <td>2361.056035</td>\n",
       "      <td>buildingBresidentialFloor2</td>\n",
       "      <td>0432cabe6c45f451b2b97895c81b04e9</td>\n",
       "      <td>floor</td>\n",
       "      <td>a4ee86bf-24af-4745-9aec-a903170f9e53</td>\n",
       "      <td>[]</td>\n",
       "      <td>NaN</td>\n",
       "      <td>8.4</td>\n",
       "      <td>2361.056035</td>\n",
       "      <td>2.0</td>\n",
       "    </tr>\n",
       "    <tr>\n",
       "      <th>bf4d5c5b-fb0e-4444-98b5-c11a871a6bab</th>\n",
       "      <td>bf4d5c5b-fb0e-4444-98b5-c11a871a6bab</td>\n",
       "      <td>2015.956035</td>\n",
       "      <td>buildingBresidentialFloor3</td>\n",
       "      <td>b726683811c11c39382460f2a4a50347</td>\n",
       "      <td>floor</td>\n",
       "      <td>a4ee86bf-24af-4745-9aec-a903170f9e53</td>\n",
       "      <td>[]</td>\n",
       "      <td>NaN</td>\n",
       "      <td>11.5</td>\n",
       "      <td>2015.956035</td>\n",
       "      <td>3.0</td>\n",
       "    </tr>\n",
       "    <tr>\n",
       "      <th>47012c33-7c80-4c47-bb2b-21bd3f2e6abb</th>\n",
       "      <td>47012c33-7c80-4c47-bb2b-21bd3f2e6abb</td>\n",
       "      <td>2015.956035</td>\n",
       "      <td>buildingBresidentialFloor4</td>\n",
       "      <td>027671edff104e8e15f6bd413eebd7c4</td>\n",
       "      <td>floor</td>\n",
       "      <td>a4ee86bf-24af-4745-9aec-a903170f9e53</td>\n",
       "      <td>[]</td>\n",
       "      <td>NaN</td>\n",
       "      <td>14.6</td>\n",
       "      <td>2015.956035</td>\n",
       "      <td>4.0</td>\n",
       "    </tr>\n",
       "    <tr>\n",
       "      <th>da8910bc-f4e3-47c0-af67-a3ffe27f7255</th>\n",
       "      <td>da8910bc-f4e3-47c0-af67-a3ffe27f7255</td>\n",
       "      <td>875.014900</td>\n",
       "      <td>buildingBresidentialFloor5</td>\n",
       "      <td>d8bcb28fb83662c46ee47a00e82407c7</td>\n",
       "      <td>floor</td>\n",
       "      <td>a4ee86bf-24af-4745-9aec-a903170f9e53</td>\n",
       "      <td>[]</td>\n",
       "      <td>NaN</td>\n",
       "      <td>17.7</td>\n",
       "      <td>875.014900</td>\n",
       "      <td>5.0</td>\n",
       "    </tr>\n",
       "    <tr>\n",
       "      <th>3f64b970-a1d1-440f-a06d-951e74c80381</th>\n",
       "      <td>3f64b970-a1d1-440f-a06d-951e74c80381</td>\n",
       "      <td>875.014900</td>\n",
       "      <td>buildingBresidentialFloor6</td>\n",
       "      <td>1c3399100760db413b8c6251291c906f</td>\n",
       "      <td>floor</td>\n",
       "      <td>a4ee86bf-24af-4745-9aec-a903170f9e53</td>\n",
       "      <td>[]</td>\n",
       "      <td>NaN</td>\n",
       "      <td>20.8</td>\n",
       "      <td>875.014900</td>\n",
       "      <td>6.0</td>\n",
       "    </tr>\n",
       "    <tr>\n",
       "      <th>4157f428-1dce-4e14-8099-4eee13fa405e</th>\n",
       "      <td>4157f428-1dce-4e14-8099-4eee13fa405e</td>\n",
       "      <td>172.741054</td>\n",
       "      <td>buildingBresidentialFloor0</td>\n",
       "      <td>2462df507a5825d1b2c33612a7f54ede</td>\n",
       "      <td>floor</td>\n",
       "      <td>a4ee86bf-24af-4745-9aec-a903170f9e53</td>\n",
       "      <td>[]</td>\n",
       "      <td>NaN</td>\n",
       "      <td>0.3</td>\n",
       "      <td>172.741054</td>\n",
       "      <td>0.0</td>\n",
       "    </tr>\n",
       "  </tbody>\n",
       "</table>\n",
       "</div>"
      ],
      "text/plain": [
       "                                                                  entityId  \\\n",
       "003c1ee8-4450-4fb1-98bd-54d11408d99e  003c1ee8-4450-4fb1-98bd-54d11408d99e   \n",
       "eb42cd14-73ab-41fc-99c0-c46631ee1208  eb42cd14-73ab-41fc-99c0-c46631ee1208   \n",
       "dac040a5-2605-4cd0-a2fb-40ebb85450d9  dac040a5-2605-4cd0-a2fb-40ebb85450d9   \n",
       "8c7c9be7-fd8f-4527-ae90-24e15c3581db  8c7c9be7-fd8f-4527-ae90-24e15c3581db   \n",
       "f7e2fa84-54a6-4fd4-ae93-f339947035b6  f7e2fa84-54a6-4fd4-ae93-f339947035b6   \n",
       "655b2dfe-5c18-4d68-95f0-f5d27804430d  655b2dfe-5c18-4d68-95f0-f5d27804430d   \n",
       "47dfa8b6-e213-4099-9f5b-834df0ca34b0  47dfa8b6-e213-4099-9f5b-834df0ca34b0   \n",
       "da796c3e-94b0-4175-8c6f-ac63e5e60714  da796c3e-94b0-4175-8c6f-ac63e5e60714   \n",
       "08e12c72-4450-424f-8ff4-a4da7246ee05  08e12c72-4450-424f-8ff4-a4da7246ee05   \n",
       "634c5fb4-f204-4287-8c80-f23371056f1c  634c5fb4-f204-4287-8c80-f23371056f1c   \n",
       "abdf16fd-494e-4d7f-a604-134ce1c004ac  abdf16fd-494e-4d7f-a604-134ce1c004ac   \n",
       "6bfd12d7-72d7-417f-bc31-1bef4ffaadb0  6bfd12d7-72d7-417f-bc31-1bef4ffaadb0   \n",
       "f25ef6dc-c9cc-444a-b758-e30e87a9593f  f25ef6dc-c9cc-444a-b758-e30e87a9593f   \n",
       "97e6b3b6-edfb-49a9-91f3-337b0b150c21  97e6b3b6-edfb-49a9-91f3-337b0b150c21   \n",
       "6ee48fbb-decc-47ea-8e20-e415c669143f  6ee48fbb-decc-47ea-8e20-e415c669143f   \n",
       "e57ea01c-ae5d-4281-8aff-56e95d40a239  e57ea01c-ae5d-4281-8aff-56e95d40a239   \n",
       "59adf9e1-f47d-4bcc-b506-b3a2731654b9  59adf9e1-f47d-4bcc-b506-b3a2731654b9   \n",
       "68f28de9-539f-4276-8dcc-cf4eb7dbe82c  68f28de9-539f-4276-8dcc-cf4eb7dbe82c   \n",
       "508b3a7f-7094-4f47-9b61-57ef8f4a6205  508b3a7f-7094-4f47-9b61-57ef8f4a6205   \n",
       "1e6b1a6a-d64a-4c68-9210-3c4f0585000f  1e6b1a6a-d64a-4c68-9210-3c4f0585000f   \n",
       "12c94d26-7779-4384-856a-2139664d55e1  12c94d26-7779-4384-856a-2139664d55e1   \n",
       "037235ef-f5ef-4763-b652-13d59dc03a34  037235ef-f5ef-4763-b652-13d59dc03a34   \n",
       "a987a169-2605-4308-9462-8d22eb6df2be  a987a169-2605-4308-9462-8d22eb6df2be   \n",
       "d2db8f8f-36c9-4a92-a1dd-016376fee217  d2db8f8f-36c9-4a92-a1dd-016376fee217   \n",
       "b0384123-9bec-4c0e-87f6-32abb6a49fb3  b0384123-9bec-4c0e-87f6-32abb6a49fb3   \n",
       "bbd83975-af58-492e-8818-ce1968564a05  bbd83975-af58-492e-8818-ce1968564a05   \n",
       "c78fd645-372b-4a23-a823-98e2f6885b97  c78fd645-372b-4a23-a823-98e2f6885b97   \n",
       "b5466f16-c071-41a5-93b1-0d794930e62d  b5466f16-c071-41a5-93b1-0d794930e62d   \n",
       "02b101a5-0ad5-4f8d-9f0b-f65787d4073f  02b101a5-0ad5-4f8d-9f0b-f65787d4073f   \n",
       "c7dfbeaf-1b8c-424c-bad0-0b2b5975af6e  c7dfbeaf-1b8c-424c-bad0-0b2b5975af6e   \n",
       "1993c555-a42b-4496-83fa-0a35540ce846  1993c555-a42b-4496-83fa-0a35540ce846   \n",
       "d82b6b35-c57b-402d-92da-13fd460157ed  d82b6b35-c57b-402d-92da-13fd460157ed   \n",
       "a25d7bbf-0cff-4ef8-9432-f77459c16ac1  a25d7bbf-0cff-4ef8-9432-f77459c16ac1   \n",
       "23b3acb0-8acb-4254-b54c-e76b4b7b8fe9  23b3acb0-8acb-4254-b54c-e76b4b7b8fe9   \n",
       "12350456-019d-44a5-89f1-fec7401afd0c  12350456-019d-44a5-89f1-fec7401afd0c   \n",
       "a4ee86bf-24af-4745-9aec-a903170f9e53  a4ee86bf-24af-4745-9aec-a903170f9e53   \n",
       "d4411714-a51f-4d9a-ba97-7ea0c4c8fba3  d4411714-a51f-4d9a-ba97-7ea0c4c8fba3   \n",
       "bf032649-dd19-4bf3-ae54-a2c2c768c911  bf032649-dd19-4bf3-ae54-a2c2c768c911   \n",
       "a336f32d-1a65-460e-b66c-f92db03a51e0  a336f32d-1a65-460e-b66c-f92db03a51e0   \n",
       "b02a36da-d053-4e8b-8061-214cc0cc2aab  b02a36da-d053-4e8b-8061-214cc0cc2aab   \n",
       "aca92060-bc6a-4add-80ce-453e95632c10  aca92060-bc6a-4add-80ce-453e95632c10   \n",
       "52fdcc00-9d28-4be4-adc0-19e90bdea02e  52fdcc00-9d28-4be4-adc0-19e90bdea02e   \n",
       "bf4d5c5b-fb0e-4444-98b5-c11a871a6bab  bf4d5c5b-fb0e-4444-98b5-c11a871a6bab   \n",
       "47012c33-7c80-4c47-bb2b-21bd3f2e6abb  47012c33-7c80-4c47-bb2b-21bd3f2e6abb   \n",
       "da8910bc-f4e3-47c0-af67-a3ffe27f7255  da8910bc-f4e3-47c0-af67-a3ffe27f7255   \n",
       "3f64b970-a1d1-440f-a06d-951e74c80381  3f64b970-a1d1-440f-a06d-951e74c80381   \n",
       "4157f428-1dce-4e14-8099-4eee13fa405e  4157f428-1dce-4e14-8099-4eee13fa405e   \n",
       "\n",
       "                                      subtotal_gfa  \\\n",
       "003c1ee8-4450-4fb1-98bd-54d11408d99e  45816.419959   \n",
       "eb42cd14-73ab-41fc-99c0-c46631ee1208  19605.790919   \n",
       "dac040a5-2605-4cd0-a2fb-40ebb85450d9  12773.744211   \n",
       "8c7c9be7-fd8f-4527-ae90-24e15c3581db  13436.884829   \n",
       "f7e2fa84-54a6-4fd4-ae93-f339947035b6      0.000000   \n",
       "655b2dfe-5c18-4d68-95f0-f5d27804430d  14691.140177   \n",
       "47dfa8b6-e213-4099-9f5b-834df0ca34b0   1123.715326   \n",
       "da796c3e-94b0-4175-8c6f-ac63e5e60714   2296.143091   \n",
       "08e12c72-4450-424f-8ff4-a4da7246ee05    534.530238   \n",
       "634c5fb4-f204-4287-8c80-f23371056f1c    960.262087   \n",
       "abdf16fd-494e-4d7f-a604-134ce1c004ac      0.000000   \n",
       "6bfd12d7-72d7-417f-bc31-1bef4ffaadb0   1650.842103   \n",
       "f25ef6dc-c9cc-444a-b758-e30e87a9593f   1448.922008   \n",
       "97e6b3b6-edfb-49a9-91f3-337b0b150c21   1448.922008   \n",
       "6ee48fbb-decc-47ea-8e20-e415c669143f   1448.922008   \n",
       "e57ea01c-ae5d-4281-8aff-56e95d40a239   1448.922008   \n",
       "59adf9e1-f47d-4bcc-b506-b3a2731654b9   1448.922008   \n",
       "68f28de9-539f-4276-8dcc-cf4eb7dbe82c   1448.922008   \n",
       "508b3a7f-7094-4f47-9b61-57ef8f4a6205   1448.922008   \n",
       "1e6b1a6a-d64a-4c68-9210-3c4f0585000f   1448.922008   \n",
       "12c94d26-7779-4384-856a-2139664d55e1   1448.922008   \n",
       "037235ef-f5ef-4763-b652-13d59dc03a34   1123.715326   \n",
       "a987a169-2605-4308-9462-8d22eb6df2be     57.900000   \n",
       "d2db8f8f-36c9-4a92-a1dd-016376fee217     43.800000   \n",
       "b0384123-9bec-4c0e-87f6-32abb6a49fb3    731.481030   \n",
       "bbd83975-af58-492e-8818-ce1968564a05    731.481030   \n",
       "c78fd645-372b-4a23-a823-98e2f6885b97    731.481030   \n",
       "b5466f16-c071-41a5-93b1-0d794930e62d    534.530238   \n",
       "02b101a5-0ad5-4f8d-9f0b-f65787d4073f    960.262087   \n",
       "c7dfbeaf-1b8c-424c-bad0-0b2b5975af6e  12773.744211   \n",
       "1993c555-a42b-4496-83fa-0a35540ce846      0.000000   \n",
       "d82b6b35-c57b-402d-92da-13fd460157ed   6386.872106   \n",
       "a25d7bbf-0cff-4ef8-9432-f77459c16ac1   6386.872106   \n",
       "23b3acb0-8acb-4254-b54c-e76b4b7b8fe9    815.983454   \n",
       "12350456-019d-44a5-89f1-fec7401afd0c   1178.164752   \n",
       "a4ee86bf-24af-4745-9aec-a903170f9e53  11442.736624   \n",
       "d4411714-a51f-4d9a-ba97-7ea0c4c8fba3      0.000000   \n",
       "bf032649-dd19-4bf3-ae54-a2c2c768c911    815.983454   \n",
       "a336f32d-1a65-460e-b66c-f92db03a51e0   1178.164752   \n",
       "b02a36da-d053-4e8b-8061-214cc0cc2aab    765.941631   \n",
       "aca92060-bc6a-4add-80ce-453e95632c10   2361.056035   \n",
       "52fdcc00-9d28-4be4-adc0-19e90bdea02e   2361.056035   \n",
       "bf4d5c5b-fb0e-4444-98b5-c11a871a6bab   2015.956035   \n",
       "47012c33-7c80-4c47-bb2b-21bd3f2e6abb   2015.956035   \n",
       "da8910bc-f4e3-47c0-af67-a3ffe27f7255    875.014900   \n",
       "3f64b970-a1d1-440f-a06d-951e74c80381    875.014900   \n",
       "4157f428-1dce-4e14-8099-4eee13fa405e    172.741054   \n",
       "\n",
       "                                                            name  \\\n",
       "003c1ee8-4450-4fb1-98bd-54d11408d99e                 development   \n",
       "eb42cd14-73ab-41fc-99c0-c46631ee1208                   buildingA   \n",
       "dac040a5-2605-4cd0-a2fb-40ebb85450d9                      plinth   \n",
       "8c7c9be7-fd8f-4527-ae90-24e15c3581db                   buildingB   \n",
       "f7e2fa84-54a6-4fd4-ae93-f339947035b6                   utilities   \n",
       "655b2dfe-5c18-4d68-95f0-f5d27804430d             buildingAoffice   \n",
       "47dfa8b6-e213-4099-9f5b-834df0ca34b0             buildingAretail   \n",
       "da796c3e-94b0-4175-8c6f-ac63e5e60714        buildingAresidential   \n",
       "08e12c72-4450-424f-8ff4-a4da7246ee05             buildingAretail   \n",
       "634c5fb4-f204-4287-8c80-f23371056f1c            buildingAparking   \n",
       "abdf16fd-494e-4d7f-a604-134ce1c004ac              buildingAcores   \n",
       "6bfd12d7-72d7-417f-bc31-1bef4ffaadb0       buildingAofficeFloor1   \n",
       "f25ef6dc-c9cc-444a-b758-e30e87a9593f       buildingAofficeFloor2   \n",
       "97e6b3b6-edfb-49a9-91f3-337b0b150c21       buildingAofficeFloor3   \n",
       "6ee48fbb-decc-47ea-8e20-e415c669143f       buildingAofficeFloor4   \n",
       "e57ea01c-ae5d-4281-8aff-56e95d40a239       buildingAofficeFloor5   \n",
       "59adf9e1-f47d-4bcc-b506-b3a2731654b9       buildingAofficeFloor6   \n",
       "68f28de9-539f-4276-8dcc-cf4eb7dbe82c       buildingAofficeFloor7   \n",
       "508b3a7f-7094-4f47-9b61-57ef8f4a6205       buildingAofficeFloor8   \n",
       "1e6b1a6a-d64a-4c68-9210-3c4f0585000f       buildingAofficeFloor9   \n",
       "12c94d26-7779-4384-856a-2139664d55e1      buildingAofficeFloor10   \n",
       "037235ef-f5ef-4763-b652-13d59dc03a34       buildingAretailFloor0   \n",
       "a987a169-2605-4308-9462-8d22eb6df2be  buildingAresidentialFloor0   \n",
       "d2db8f8f-36c9-4a92-a1dd-016376fee217  buildingAresidentialFloor0   \n",
       "b0384123-9bec-4c0e-87f6-32abb6a49fb3  buildingAresidentialFloor1   \n",
       "bbd83975-af58-492e-8818-ce1968564a05  buildingAresidentialFloor2   \n",
       "c78fd645-372b-4a23-a823-98e2f6885b97  buildingAresidentialFloor3   \n",
       "b5466f16-c071-41a5-93b1-0d794930e62d       buildingAretailFloor0   \n",
       "02b101a5-0ad5-4f8d-9f0b-f65787d4073f      buildingAparkingFloor0   \n",
       "c7dfbeaf-1b8c-424c-bad0-0b2b5975af6e               plinthparking   \n",
       "1993c555-a42b-4496-83fa-0a35540ce846                 plinthplant   \n",
       "d82b6b35-c57b-402d-92da-13fd460157ed        plinthparkingFloor-2   \n",
       "a25d7bbf-0cff-4ef8-9432-f77459c16ac1        plinthparkingFloor-1   \n",
       "23b3acb0-8acb-4254-b54c-e76b4b7b8fe9             buildingBretail   \n",
       "12350456-019d-44a5-89f1-fec7401afd0c            buildingBparking   \n",
       "a4ee86bf-24af-4745-9aec-a903170f9e53        buildingBresidential   \n",
       "d4411714-a51f-4d9a-ba97-7ea0c4c8fba3              buildingBcores   \n",
       "bf032649-dd19-4bf3-ae54-a2c2c768c911       buildingBretailFloor0   \n",
       "a336f32d-1a65-460e-b66c-f92db03a51e0      buildingBparkingFloor0   \n",
       "b02a36da-d053-4e8b-8061-214cc0cc2aab  buildingBresidentialFloor0   \n",
       "aca92060-bc6a-4add-80ce-453e95632c10  buildingBresidentialFloor1   \n",
       "52fdcc00-9d28-4be4-adc0-19e90bdea02e  buildingBresidentialFloor2   \n",
       "bf4d5c5b-fb0e-4444-98b5-c11a871a6bab  buildingBresidentialFloor3   \n",
       "47012c33-7c80-4c47-bb2b-21bd3f2e6abb  buildingBresidentialFloor4   \n",
       "da8910bc-f4e3-47c0-af67-a3ffe27f7255  buildingBresidentialFloor5   \n",
       "3f64b970-a1d1-440f-a06d-951e74c80381  buildingBresidentialFloor6   \n",
       "4157f428-1dce-4e14-8099-4eee13fa405e  buildingBresidentialFloor0   \n",
       "\n",
       "                                                                    id  \\\n",
       "003c1ee8-4450-4fb1-98bd-54d11408d99e  06f4b837038f2cc3edf4244fceb946f3   \n",
       "eb42cd14-73ab-41fc-99c0-c46631ee1208  a648fcc8f96e4160b0c35953139e4211   \n",
       "dac040a5-2605-4cd0-a2fb-40ebb85450d9  8cc56cf9901af95f74b642f7a1950e6f   \n",
       "8c7c9be7-fd8f-4527-ae90-24e15c3581db  bfc0db6a88d730984d4eead94ac5a2e6   \n",
       "f7e2fa84-54a6-4fd4-ae93-f339947035b6  aabdd3fcac0dd1e5c793235001dd945b   \n",
       "655b2dfe-5c18-4d68-95f0-f5d27804430d  f3fcf8533f26a84803e72de91ec51d47   \n",
       "47dfa8b6-e213-4099-9f5b-834df0ca34b0  6e4bdf36f792bd089039c6ef4c5cf23e   \n",
       "da796c3e-94b0-4175-8c6f-ac63e5e60714  5e079a3b71d254fc2eba55f62a1188d1   \n",
       "08e12c72-4450-424f-8ff4-a4da7246ee05  ff0fdddd8d8669831c2c1f6a0bad6640   \n",
       "634c5fb4-f204-4287-8c80-f23371056f1c  7de6c744113bcb82c54b2c10d12a451d   \n",
       "abdf16fd-494e-4d7f-a604-134ce1c004ac  ba4cb24b6f3a2c4ce98b1cda917cadff   \n",
       "6bfd12d7-72d7-417f-bc31-1bef4ffaadb0  bb9485a02747b6b96c5048d6749ded98   \n",
       "f25ef6dc-c9cc-444a-b758-e30e87a9593f  2054ecb0e810dde67e49dc75cbe90b6d   \n",
       "97e6b3b6-edfb-49a9-91f3-337b0b150c21  cabffd9774ad7738f318eae789de45f2   \n",
       "6ee48fbb-decc-47ea-8e20-e415c669143f  376219e18ab55a8399a9e7b1f8053063   \n",
       "e57ea01c-ae5d-4281-8aff-56e95d40a239  2bbe0ec9efa8d791d1be9479ab35bad1   \n",
       "59adf9e1-f47d-4bcc-b506-b3a2731654b9  e852a889a7b190930eb652a49a950473   \n",
       "68f28de9-539f-4276-8dcc-cf4eb7dbe82c  bd24ef34732d88ac7e111cf9adb4b0b5   \n",
       "508b3a7f-7094-4f47-9b61-57ef8f4a6205  9e805df365930792f7cdb4b44f28624c   \n",
       "1e6b1a6a-d64a-4c68-9210-3c4f0585000f  a10cfa41a5e1ba14f1c4f77d3da347f3   \n",
       "12c94d26-7779-4384-856a-2139664d55e1  fcdffb74c3197134b0d3bcad63063e23   \n",
       "037235ef-f5ef-4763-b652-13d59dc03a34  936d88be85f4bdd1c60db2e75e44e1ea   \n",
       "a987a169-2605-4308-9462-8d22eb6df2be  fa3ebd0829aff1ba42729ed61a92d4aa   \n",
       "d2db8f8f-36c9-4a92-a1dd-016376fee217  d134e3b5e5025bfb18918aa3c050b21a   \n",
       "b0384123-9bec-4c0e-87f6-32abb6a49fb3  0198dbbf8e749878791cf680d3266ee9   \n",
       "bbd83975-af58-492e-8818-ce1968564a05  06f37b8849330d06fe4f3ac980ce224e   \n",
       "c78fd645-372b-4a23-a823-98e2f6885b97  51ed62db81794bafa9fb676ea9ad7a69   \n",
       "b5466f16-c071-41a5-93b1-0d794930e62d  28e1ae0fb304be98df4ca616eb247986   \n",
       "02b101a5-0ad5-4f8d-9f0b-f65787d4073f  9a6d9f25bd30a6d91b7d2b80b33779f2   \n",
       "c7dfbeaf-1b8c-424c-bad0-0b2b5975af6e  693ef9b693352d9876def8ec1c572de0   \n",
       "1993c555-a42b-4496-83fa-0a35540ce846  11759d025b80b3468e884826696caebf   \n",
       "d82b6b35-c57b-402d-92da-13fd460157ed  87c70aed989715efc1233e4b9eff12a2   \n",
       "a25d7bbf-0cff-4ef8-9432-f77459c16ac1  106226680b69771195e9cbd166bb177d   \n",
       "23b3acb0-8acb-4254-b54c-e76b4b7b8fe9  30d2709068dde3284f4466198c5100ee   \n",
       "12350456-019d-44a5-89f1-fec7401afd0c  540eb82a8ba6b4ad7c28a5fee7dcbd65   \n",
       "a4ee86bf-24af-4745-9aec-a903170f9e53  95dc2945009d940571987e218736580f   \n",
       "d4411714-a51f-4d9a-ba97-7ea0c4c8fba3  f11506247ac9f88307622de21c7aaa88   \n",
       "bf032649-dd19-4bf3-ae54-a2c2c768c911  ef3d0ac1b655110368bb05fc51435ede   \n",
       "a336f32d-1a65-460e-b66c-f92db03a51e0  2a97568b5b915ecef88221b6bdd3b522   \n",
       "b02a36da-d053-4e8b-8061-214cc0cc2aab  fd4cf3968ce3deb34aa5f749aec3020f   \n",
       "aca92060-bc6a-4add-80ce-453e95632c10  1afac525326440fd0bfb5c60028bc164   \n",
       "52fdcc00-9d28-4be4-adc0-19e90bdea02e  0432cabe6c45f451b2b97895c81b04e9   \n",
       "bf4d5c5b-fb0e-4444-98b5-c11a871a6bab  b726683811c11c39382460f2a4a50347   \n",
       "47012c33-7c80-4c47-bb2b-21bd3f2e6abb  027671edff104e8e15f6bd413eebd7c4   \n",
       "da8910bc-f4e3-47c0-af67-a3ffe27f7255  d8bcb28fb83662c46ee47a00e82407c7   \n",
       "3f64b970-a1d1-440f-a06d-951e74c80381  1c3399100760db413b8c6251291c906f   \n",
       "4157f428-1dce-4e14-8099-4eee13fa405e  2462df507a5825d1b2c33612a7f54ede   \n",
       "\n",
       "                                             type  \\\n",
       "003c1ee8-4450-4fb1-98bd-54d11408d99e  development   \n",
       "eb42cd14-73ab-41fc-99c0-c46631ee1208     building   \n",
       "dac040a5-2605-4cd0-a2fb-40ebb85450d9     building   \n",
       "8c7c9be7-fd8f-4527-ae90-24e15c3581db     building   \n",
       "f7e2fa84-54a6-4fd4-ae93-f339947035b6    utilities   \n",
       "655b2dfe-5c18-4d68-95f0-f5d27804430d        space   \n",
       "47dfa8b6-e213-4099-9f5b-834df0ca34b0        space   \n",
       "da796c3e-94b0-4175-8c6f-ac63e5e60714        space   \n",
       "08e12c72-4450-424f-8ff4-a4da7246ee05        space   \n",
       "634c5fb4-f204-4287-8c80-f23371056f1c        space   \n",
       "abdf16fd-494e-4d7f-a604-134ce1c004ac    utilities   \n",
       "6bfd12d7-72d7-417f-bc31-1bef4ffaadb0        floor   \n",
       "f25ef6dc-c9cc-444a-b758-e30e87a9593f        floor   \n",
       "97e6b3b6-edfb-49a9-91f3-337b0b150c21        floor   \n",
       "6ee48fbb-decc-47ea-8e20-e415c669143f        floor   \n",
       "e57ea01c-ae5d-4281-8aff-56e95d40a239        floor   \n",
       "59adf9e1-f47d-4bcc-b506-b3a2731654b9        floor   \n",
       "68f28de9-539f-4276-8dcc-cf4eb7dbe82c        floor   \n",
       "508b3a7f-7094-4f47-9b61-57ef8f4a6205        floor   \n",
       "1e6b1a6a-d64a-4c68-9210-3c4f0585000f        floor   \n",
       "12c94d26-7779-4384-856a-2139664d55e1        floor   \n",
       "037235ef-f5ef-4763-b652-13d59dc03a34        floor   \n",
       "a987a169-2605-4308-9462-8d22eb6df2be        floor   \n",
       "d2db8f8f-36c9-4a92-a1dd-016376fee217        floor   \n",
       "b0384123-9bec-4c0e-87f6-32abb6a49fb3        floor   \n",
       "bbd83975-af58-492e-8818-ce1968564a05        floor   \n",
       "c78fd645-372b-4a23-a823-98e2f6885b97        floor   \n",
       "b5466f16-c071-41a5-93b1-0d794930e62d        floor   \n",
       "02b101a5-0ad5-4f8d-9f0b-f65787d4073f        floor   \n",
       "c7dfbeaf-1b8c-424c-bad0-0b2b5975af6e        space   \n",
       "1993c555-a42b-4496-83fa-0a35540ce846    utilities   \n",
       "d82b6b35-c57b-402d-92da-13fd460157ed        floor   \n",
       "a25d7bbf-0cff-4ef8-9432-f77459c16ac1        floor   \n",
       "23b3acb0-8acb-4254-b54c-e76b4b7b8fe9        space   \n",
       "12350456-019d-44a5-89f1-fec7401afd0c        space   \n",
       "a4ee86bf-24af-4745-9aec-a903170f9e53        space   \n",
       "d4411714-a51f-4d9a-ba97-7ea0c4c8fba3    utilities   \n",
       "bf032649-dd19-4bf3-ae54-a2c2c768c911        floor   \n",
       "a336f32d-1a65-460e-b66c-f92db03a51e0        floor   \n",
       "b02a36da-d053-4e8b-8061-214cc0cc2aab        floor   \n",
       "aca92060-bc6a-4add-80ce-453e95632c10        floor   \n",
       "52fdcc00-9d28-4be4-adc0-19e90bdea02e        floor   \n",
       "bf4d5c5b-fb0e-4444-98b5-c11a871a6bab        floor   \n",
       "47012c33-7c80-4c47-bb2b-21bd3f2e6abb        floor   \n",
       "da8910bc-f4e3-47c0-af67-a3ffe27f7255        floor   \n",
       "3f64b970-a1d1-440f-a06d-951e74c80381        floor   \n",
       "4157f428-1dce-4e14-8099-4eee13fa405e        floor   \n",
       "\n",
       "                                                                    parent  \\\n",
       "003c1ee8-4450-4fb1-98bd-54d11408d99e                                  None   \n",
       "eb42cd14-73ab-41fc-99c0-c46631ee1208  003c1ee8-4450-4fb1-98bd-54d11408d99e   \n",
       "dac040a5-2605-4cd0-a2fb-40ebb85450d9  003c1ee8-4450-4fb1-98bd-54d11408d99e   \n",
       "8c7c9be7-fd8f-4527-ae90-24e15c3581db  003c1ee8-4450-4fb1-98bd-54d11408d99e   \n",
       "f7e2fa84-54a6-4fd4-ae93-f339947035b6  003c1ee8-4450-4fb1-98bd-54d11408d99e   \n",
       "655b2dfe-5c18-4d68-95f0-f5d27804430d  eb42cd14-73ab-41fc-99c0-c46631ee1208   \n",
       "47dfa8b6-e213-4099-9f5b-834df0ca34b0  eb42cd14-73ab-41fc-99c0-c46631ee1208   \n",
       "da796c3e-94b0-4175-8c6f-ac63e5e60714  eb42cd14-73ab-41fc-99c0-c46631ee1208   \n",
       "08e12c72-4450-424f-8ff4-a4da7246ee05  eb42cd14-73ab-41fc-99c0-c46631ee1208   \n",
       "634c5fb4-f204-4287-8c80-f23371056f1c  eb42cd14-73ab-41fc-99c0-c46631ee1208   \n",
       "abdf16fd-494e-4d7f-a604-134ce1c004ac  eb42cd14-73ab-41fc-99c0-c46631ee1208   \n",
       "6bfd12d7-72d7-417f-bc31-1bef4ffaadb0  655b2dfe-5c18-4d68-95f0-f5d27804430d   \n",
       "f25ef6dc-c9cc-444a-b758-e30e87a9593f  655b2dfe-5c18-4d68-95f0-f5d27804430d   \n",
       "97e6b3b6-edfb-49a9-91f3-337b0b150c21  655b2dfe-5c18-4d68-95f0-f5d27804430d   \n",
       "6ee48fbb-decc-47ea-8e20-e415c669143f  655b2dfe-5c18-4d68-95f0-f5d27804430d   \n",
       "e57ea01c-ae5d-4281-8aff-56e95d40a239  655b2dfe-5c18-4d68-95f0-f5d27804430d   \n",
       "59adf9e1-f47d-4bcc-b506-b3a2731654b9  655b2dfe-5c18-4d68-95f0-f5d27804430d   \n",
       "68f28de9-539f-4276-8dcc-cf4eb7dbe82c  655b2dfe-5c18-4d68-95f0-f5d27804430d   \n",
       "508b3a7f-7094-4f47-9b61-57ef8f4a6205  655b2dfe-5c18-4d68-95f0-f5d27804430d   \n",
       "1e6b1a6a-d64a-4c68-9210-3c4f0585000f  655b2dfe-5c18-4d68-95f0-f5d27804430d   \n",
       "12c94d26-7779-4384-856a-2139664d55e1  655b2dfe-5c18-4d68-95f0-f5d27804430d   \n",
       "037235ef-f5ef-4763-b652-13d59dc03a34  47dfa8b6-e213-4099-9f5b-834df0ca34b0   \n",
       "a987a169-2605-4308-9462-8d22eb6df2be  da796c3e-94b0-4175-8c6f-ac63e5e60714   \n",
       "d2db8f8f-36c9-4a92-a1dd-016376fee217  da796c3e-94b0-4175-8c6f-ac63e5e60714   \n",
       "b0384123-9bec-4c0e-87f6-32abb6a49fb3  da796c3e-94b0-4175-8c6f-ac63e5e60714   \n",
       "bbd83975-af58-492e-8818-ce1968564a05  da796c3e-94b0-4175-8c6f-ac63e5e60714   \n",
       "c78fd645-372b-4a23-a823-98e2f6885b97  da796c3e-94b0-4175-8c6f-ac63e5e60714   \n",
       "b5466f16-c071-41a5-93b1-0d794930e62d  08e12c72-4450-424f-8ff4-a4da7246ee05   \n",
       "02b101a5-0ad5-4f8d-9f0b-f65787d4073f  634c5fb4-f204-4287-8c80-f23371056f1c   \n",
       "c7dfbeaf-1b8c-424c-bad0-0b2b5975af6e  dac040a5-2605-4cd0-a2fb-40ebb85450d9   \n",
       "1993c555-a42b-4496-83fa-0a35540ce846  dac040a5-2605-4cd0-a2fb-40ebb85450d9   \n",
       "d82b6b35-c57b-402d-92da-13fd460157ed  c7dfbeaf-1b8c-424c-bad0-0b2b5975af6e   \n",
       "a25d7bbf-0cff-4ef8-9432-f77459c16ac1  c7dfbeaf-1b8c-424c-bad0-0b2b5975af6e   \n",
       "23b3acb0-8acb-4254-b54c-e76b4b7b8fe9  8c7c9be7-fd8f-4527-ae90-24e15c3581db   \n",
       "12350456-019d-44a5-89f1-fec7401afd0c  8c7c9be7-fd8f-4527-ae90-24e15c3581db   \n",
       "a4ee86bf-24af-4745-9aec-a903170f9e53  8c7c9be7-fd8f-4527-ae90-24e15c3581db   \n",
       "d4411714-a51f-4d9a-ba97-7ea0c4c8fba3  8c7c9be7-fd8f-4527-ae90-24e15c3581db   \n",
       "bf032649-dd19-4bf3-ae54-a2c2c768c911  23b3acb0-8acb-4254-b54c-e76b4b7b8fe9   \n",
       "a336f32d-1a65-460e-b66c-f92db03a51e0  12350456-019d-44a5-89f1-fec7401afd0c   \n",
       "b02a36da-d053-4e8b-8061-214cc0cc2aab  a4ee86bf-24af-4745-9aec-a903170f9e53   \n",
       "aca92060-bc6a-4add-80ce-453e95632c10  a4ee86bf-24af-4745-9aec-a903170f9e53   \n",
       "52fdcc00-9d28-4be4-adc0-19e90bdea02e  a4ee86bf-24af-4745-9aec-a903170f9e53   \n",
       "bf4d5c5b-fb0e-4444-98b5-c11a871a6bab  a4ee86bf-24af-4745-9aec-a903170f9e53   \n",
       "47012c33-7c80-4c47-bb2b-21bd3f2e6abb  a4ee86bf-24af-4745-9aec-a903170f9e53   \n",
       "da8910bc-f4e3-47c0-af67-a3ffe27f7255  a4ee86bf-24af-4745-9aec-a903170f9e53   \n",
       "3f64b970-a1d1-440f-a06d-951e74c80381  a4ee86bf-24af-4745-9aec-a903170f9e53   \n",
       "4157f428-1dce-4e14-8099-4eee13fa405e  a4ee86bf-24af-4745-9aec-a903170f9e53   \n",
       "\n",
       "                                                                               children  \\\n",
       "003c1ee8-4450-4fb1-98bd-54d11408d99e  [eb42cd14-73ab-41fc-99c0-c46631ee1208, dac040a...   \n",
       "eb42cd14-73ab-41fc-99c0-c46631ee1208  [655b2dfe-5c18-4d68-95f0-f5d27804430d, 47dfa8b...   \n",
       "dac040a5-2605-4cd0-a2fb-40ebb85450d9  [c7dfbeaf-1b8c-424c-bad0-0b2b5975af6e, 1993c55...   \n",
       "8c7c9be7-fd8f-4527-ae90-24e15c3581db  [23b3acb0-8acb-4254-b54c-e76b4b7b8fe9, 1235045...   \n",
       "f7e2fa84-54a6-4fd4-ae93-f339947035b6                                                 []   \n",
       "655b2dfe-5c18-4d68-95f0-f5d27804430d  [6bfd12d7-72d7-417f-bc31-1bef4ffaadb0, f25ef6d...   \n",
       "47dfa8b6-e213-4099-9f5b-834df0ca34b0             [037235ef-f5ef-4763-b652-13d59dc03a34]   \n",
       "da796c3e-94b0-4175-8c6f-ac63e5e60714  [a987a169-2605-4308-9462-8d22eb6df2be, d2db8f8...   \n",
       "08e12c72-4450-424f-8ff4-a4da7246ee05             [b5466f16-c071-41a5-93b1-0d794930e62d]   \n",
       "634c5fb4-f204-4287-8c80-f23371056f1c             [02b101a5-0ad5-4f8d-9f0b-f65787d4073f]   \n",
       "abdf16fd-494e-4d7f-a604-134ce1c004ac                                                 []   \n",
       "6bfd12d7-72d7-417f-bc31-1bef4ffaadb0                                                 []   \n",
       "f25ef6dc-c9cc-444a-b758-e30e87a9593f                                                 []   \n",
       "97e6b3b6-edfb-49a9-91f3-337b0b150c21                                                 []   \n",
       "6ee48fbb-decc-47ea-8e20-e415c669143f                                                 []   \n",
       "e57ea01c-ae5d-4281-8aff-56e95d40a239                                                 []   \n",
       "59adf9e1-f47d-4bcc-b506-b3a2731654b9                                                 []   \n",
       "68f28de9-539f-4276-8dcc-cf4eb7dbe82c                                                 []   \n",
       "508b3a7f-7094-4f47-9b61-57ef8f4a6205                                                 []   \n",
       "1e6b1a6a-d64a-4c68-9210-3c4f0585000f                                                 []   \n",
       "12c94d26-7779-4384-856a-2139664d55e1                                                 []   \n",
       "037235ef-f5ef-4763-b652-13d59dc03a34                                                 []   \n",
       "a987a169-2605-4308-9462-8d22eb6df2be                                                 []   \n",
       "d2db8f8f-36c9-4a92-a1dd-016376fee217                                                 []   \n",
       "b0384123-9bec-4c0e-87f6-32abb6a49fb3                                                 []   \n",
       "bbd83975-af58-492e-8818-ce1968564a05                                                 []   \n",
       "c78fd645-372b-4a23-a823-98e2f6885b97                                                 []   \n",
       "b5466f16-c071-41a5-93b1-0d794930e62d                                                 []   \n",
       "02b101a5-0ad5-4f8d-9f0b-f65787d4073f                                                 []   \n",
       "c7dfbeaf-1b8c-424c-bad0-0b2b5975af6e  [d82b6b35-c57b-402d-92da-13fd460157ed, a25d7bb...   \n",
       "1993c555-a42b-4496-83fa-0a35540ce846                                                 []   \n",
       "d82b6b35-c57b-402d-92da-13fd460157ed                                                 []   \n",
       "a25d7bbf-0cff-4ef8-9432-f77459c16ac1                                                 []   \n",
       "23b3acb0-8acb-4254-b54c-e76b4b7b8fe9             [bf032649-dd19-4bf3-ae54-a2c2c768c911]   \n",
       "12350456-019d-44a5-89f1-fec7401afd0c             [a336f32d-1a65-460e-b66c-f92db03a51e0]   \n",
       "a4ee86bf-24af-4745-9aec-a903170f9e53  [b02a36da-d053-4e8b-8061-214cc0cc2aab, aca9206...   \n",
       "d4411714-a51f-4d9a-ba97-7ea0c4c8fba3                                                 []   \n",
       "bf032649-dd19-4bf3-ae54-a2c2c768c911                                                 []   \n",
       "a336f32d-1a65-460e-b66c-f92db03a51e0                                                 []   \n",
       "b02a36da-d053-4e8b-8061-214cc0cc2aab                                                 []   \n",
       "aca92060-bc6a-4add-80ce-453e95632c10                                                 []   \n",
       "52fdcc00-9d28-4be4-adc0-19e90bdea02e                                                 []   \n",
       "bf4d5c5b-fb0e-4444-98b5-c11a871a6bab                                                 []   \n",
       "47012c33-7c80-4c47-bb2b-21bd3f2e6abb                                                 []   \n",
       "da8910bc-f4e3-47c0-af67-a3ffe27f7255                                                 []   \n",
       "3f64b970-a1d1-440f-a06d-951e74c80381                                                 []   \n",
       "4157f428-1dce-4e14-8099-4eee13fa405e                                                 []   \n",
       "\n",
       "                                              use   ffl          gfa  number  \n",
       "003c1ee8-4450-4fb1-98bd-54d11408d99e          NaN   NaN          NaN     NaN  \n",
       "eb42cd14-73ab-41fc-99c0-c46631ee1208          NaN   NaN          NaN     NaN  \n",
       "dac040a5-2605-4cd0-a2fb-40ebb85450d9          NaN   NaN          NaN     NaN  \n",
       "8c7c9be7-fd8f-4527-ae90-24e15c3581db          NaN   NaN          NaN     NaN  \n",
       "f7e2fa84-54a6-4fd4-ae93-f339947035b6          NaN   NaN          NaN     NaN  \n",
       "655b2dfe-5c18-4d68-95f0-f5d27804430d       office   NaN          NaN     NaN  \n",
       "47dfa8b6-e213-4099-9f5b-834df0ca34b0       retail   NaN          NaN     NaN  \n",
       "da796c3e-94b0-4175-8c6f-ac63e5e60714  residential   NaN          NaN     NaN  \n",
       "08e12c72-4450-424f-8ff4-a4da7246ee05       retail   NaN          NaN     NaN  \n",
       "634c5fb4-f204-4287-8c80-f23371056f1c      parking   NaN          NaN     NaN  \n",
       "abdf16fd-494e-4d7f-a604-134ce1c004ac        cores   NaN          NaN     NaN  \n",
       "6bfd12d7-72d7-417f-bc31-1bef4ffaadb0          NaN   5.3  1650.842103     1.0  \n",
       "f25ef6dc-c9cc-444a-b758-e30e87a9593f          NaN   8.4  1448.922008     2.0  \n",
       "97e6b3b6-edfb-49a9-91f3-337b0b150c21          NaN  11.5  1448.922008     3.0  \n",
       "6ee48fbb-decc-47ea-8e20-e415c669143f          NaN  14.6  1448.922008     4.0  \n",
       "e57ea01c-ae5d-4281-8aff-56e95d40a239          NaN  17.7  1448.922008     5.0  \n",
       "59adf9e1-f47d-4bcc-b506-b3a2731654b9          NaN  20.8  1448.922008     6.0  \n",
       "68f28de9-539f-4276-8dcc-cf4eb7dbe82c          NaN  23.9  1448.922008     7.0  \n",
       "508b3a7f-7094-4f47-9b61-57ef8f4a6205          NaN  27.0  1448.922008     8.0  \n",
       "1e6b1a6a-d64a-4c68-9210-3c4f0585000f          NaN  30.1  1448.922008     9.0  \n",
       "12c94d26-7779-4384-856a-2139664d55e1          NaN  33.2  1448.922008    10.0  \n",
       "037235ef-f5ef-4763-b652-13d59dc03a34          NaN   0.3  1123.715326     0.0  \n",
       "a987a169-2605-4308-9462-8d22eb6df2be          NaN   0.3    57.900000     0.0  \n",
       "d2db8f8f-36c9-4a92-a1dd-016376fee217          NaN   0.3    43.800000     0.0  \n",
       "b0384123-9bec-4c0e-87f6-32abb6a49fb3          NaN   5.3   731.481030     1.0  \n",
       "bbd83975-af58-492e-8818-ce1968564a05          NaN   8.4   731.481030     2.0  \n",
       "c78fd645-372b-4a23-a823-98e2f6885b97          NaN  11.5   731.481030     3.0  \n",
       "b5466f16-c071-41a5-93b1-0d794930e62d          NaN   0.3   534.530238     0.0  \n",
       "02b101a5-0ad5-4f8d-9f0b-f65787d4073f          NaN   0.3   960.262087     0.0  \n",
       "c7dfbeaf-1b8c-424c-bad0-0b2b5975af6e      parking   NaN          NaN     NaN  \n",
       "1993c555-a42b-4496-83fa-0a35540ce846        plant   NaN          NaN     NaN  \n",
       "d82b6b35-c57b-402d-92da-13fd460157ed          NaN  -5.9  6386.872106    -2.0  \n",
       "a25d7bbf-0cff-4ef8-9432-f77459c16ac1          NaN  -2.8  6386.872106    -1.0  \n",
       "23b3acb0-8acb-4254-b54c-e76b4b7b8fe9       retail   NaN          NaN     NaN  \n",
       "12350456-019d-44a5-89f1-fec7401afd0c      parking   NaN          NaN     NaN  \n",
       "a4ee86bf-24af-4745-9aec-a903170f9e53  residential   NaN          NaN     NaN  \n",
       "d4411714-a51f-4d9a-ba97-7ea0c4c8fba3        cores   NaN          NaN     NaN  \n",
       "bf032649-dd19-4bf3-ae54-a2c2c768c911          NaN   0.3   815.983454     0.0  \n",
       "a336f32d-1a65-460e-b66c-f92db03a51e0          NaN   0.3  1178.164752     0.0  \n",
       "b02a36da-d053-4e8b-8061-214cc0cc2aab          NaN   0.3   765.941631     0.0  \n",
       "aca92060-bc6a-4add-80ce-453e95632c10          NaN   5.3  2361.056035     1.0  \n",
       "52fdcc00-9d28-4be4-adc0-19e90bdea02e          NaN   8.4  2361.056035     2.0  \n",
       "bf4d5c5b-fb0e-4444-98b5-c11a871a6bab          NaN  11.5  2015.956035     3.0  \n",
       "47012c33-7c80-4c47-bb2b-21bd3f2e6abb          NaN  14.6  2015.956035     4.0  \n",
       "da8910bc-f4e3-47c0-af67-a3ffe27f7255          NaN  17.7   875.014900     5.0  \n",
       "3f64b970-a1d1-440f-a06d-951e74c80381          NaN  20.8   875.014900     6.0  \n",
       "4157f428-1dce-4e14-8099-4eee13fa405e          NaN   0.3   172.741054     0.0  "
      ]
     },
     "execution_count": 9,
     "metadata": {},
     "output_type": "execute_result"
    }
   ],
   "source": [
    "spatial_containment.to_DataFrame()"
   ]
  },
  {
   "cell_type": "markdown",
   "metadata": {
    "collapsed": false
   },
   "source": [
    "We can also plot this as a hierarchical pie chart (a.k.a. 'suburst' chart):"
   ]
  },
  {
   "cell_type": "code",
   "execution_count": 10,
   "metadata": {
    "ExecuteTime": {
     "end_time": "2023-06-25T14:01:25.887077Z",
     "start_time": "2023-06-25T14:01:25.795992Z"
    },
    "collapsed": false
   },
   "outputs": [
    {
     "data": {
      "text/html": [
       "\n",
       "        <iframe\n",
       "            width=\"100%\"\n",
       "            height=\"800\"\n",
       "            src=\"./spatial_containment_sunburst.html\"\n",
       "            frameborder=\"0\"\n",
       "            allowfullscreen\n",
       "            \n",
       "        ></iframe>\n",
       "        "
      ],
      "text/plain": [
       "<IPython.lib.display.IFrame at 0x2e88ad180>"
      ]
     },
     "execution_count": 10,
     "metadata": {},
     "output_type": "execute_result"
    }
   ],
   "source": [
    "fig = spatial_containment.sunburst(property='subtotal_gfa')\n",
    "filename='spatial_containment_sunburst.html'\n",
    "py.plot(fig, filename='assets/{0}'.format(filename), auto_open=False)\n",
    "IFrame(src=\"./{0}\".format(filename), width='100%', height=800)"
   ]
  },
  {
   "cell_type": "markdown",
   "metadata": {
    "collapsed": false
   },
   "source": [
    "#### Aggregating a (Financial) Calculation\n",
    "A more complex aggregation involves collecting specific cash `Flow`s into\n",
    "`Stream`s per `Entity`/`Assembly`; for instance, we may want to aggregate all\n",
    "revenues generated by lettable floorspace into their parent `Entity`s, in order\n",
    "to analyse or compare the performance of the scenario at different resolutions."
   ]
  },
  {
   "cell_type": "markdown",
   "metadata": {
    "collapsed": false
   },
   "source": [
    "We start by identifying which `Entity`s are 'floor' types and have an area\n",
    "measurement:"
   ]
  },
  {
   "cell_type": "code",
   "execution_count": 11,
   "metadata": {
    "ExecuteTime": {
     "end_time": "2023-06-25T14:01:25.887422Z",
     "start_time": "2023-06-25T14:01:25.830005Z"
    },
    "collapsed": false
   },
   "outputs": [],
   "source": [
    "floors = [entity for (entityId, entity) in spatial_containment.get_entities().items() if entity['type'] == 'floor' and hasattr(entity, 'gfa')]"
   ]
  },
  {
   "cell_type": "markdown",
   "metadata": {
    "collapsed": false
   },
   "source": [
    "For each floor we can project a set of simple cash flows, in a similar manner\n",
    "to [A Basic DCF Valuation](../basic_dcf.ipynb):"
   ]
  },
  {
   "cell_type": "markdown",
   "metadata": {
    "collapsed": false
   },
   "source": [
    "First initialize our locale, and a set of parameters, including some around\n",
    "area efficiency ratios, initial incomes per area, and growth rates:"
   ]
  },
  {
   "cell_type": "code",
   "execution_count": 12,
   "metadata": {
    "ExecuteTime": {
     "end_time": "2023-06-25T14:01:25.888429Z",
     "start_time": "2023-06-25T14:01:25.844638Z"
    },
    "collapsed": false
   },
   "outputs": [],
   "source": [
    "locale.setlocale(locale.LC_ALL, 'en_au')\n",
    "units = rk.measure.Index.registry\n",
    "currency = rk.measure.register_currency(registry=units)\n",
    "period_type = rk.periodicity.Type.YEAR"
   ]
  },
  {
   "cell_type": "code",
   "execution_count": 13,
   "metadata": {
    "ExecuteTime": {
     "end_time": "2023-06-25T14:01:25.888619Z",
     "start_time": "2023-06-25T14:01:25.875429Z"
    },
    "collapsed": false
   },
   "outputs": [],
   "source": [
    "efficiency_ratios = {\n",
    "    'office': 0.88,\n",
    "    'retail': 0.75,\n",
    "    'residential': 0.82,\n",
    "    'parking': 0.93,\n",
    "    }\n",
    "initial_income_per_area_pa = {\n",
    "    'office': 750,\n",
    "    'retail': 1000,\n",
    "    'residential': 600,\n",
    "    'parking': 0,\n",
    "    }\n",
    "growth_rates = {\n",
    "    'office': 0.02,\n",
    "    'retail': 0.05,\n",
    "    'residential': 0.035,\n",
    "    'parking': 0,\n",
    "    }\n",
    "vacancy_rates = {\n",
    "    'office': 0.075,\n",
    "    'retail': 0.5,\n",
    "    'residential': 0.02,\n",
    "    'parking': 0,\n",
    "    }"
   ]
  },
  {
   "cell_type": "code",
   "execution_count": 14,
   "metadata": {
    "ExecuteTime": {
     "end_time": "2023-06-25T14:01:25.888742Z",
     "start_time": "2023-06-25T14:01:25.878192Z"
    },
    "collapsed": false
   },
   "outputs": [],
   "source": [
    "params = {\n",
    "    'start_date': pd.Timestamp('2001-01-01'),\n",
    "    'num_periods': 10,\n",
    "    'period_type': rk.periodicity.Type.YEAR,\n",
    "    }"
   ]
  },
  {
   "cell_type": "markdown",
   "metadata": {
    "collapsed": false
   },
   "source": [
    "##### `Stream`s of Revenue `Flow`s per `Entity`:\n",
    "It is now simple to construct a set of cash flows per `Entity` in our design\n",
    "scenario. We will use a similar structure to the previous notebooks:"
   ]
  },
  {
   "cell_type": "markdown",
   "metadata": {
    "collapsed": false
   },
   "source": [
    "First, we will define a `Revenues` class that holds the parameters:"
   ]
  },
  {
   "cell_type": "code",
   "execution_count": 15,
   "metadata": {
    "ExecuteTime": {
     "end_time": "2023-06-25T14:01:25.888784Z",
     "start_time": "2023-06-25T14:01:25.880800Z"
    },
    "collapsed": false
   },
   "outputs": [],
   "source": [
    "class Revenues:\n",
    "    def __init__(self, params: dict):\n",
    "        self.params = params"
   ]
  },
  {
   "cell_type": "markdown",
   "metadata": {
    "collapsed": false
   },
   "source": [
    "Next we add our `Span` information:"
   ]
  },
  {
   "cell_type": "code",
   "execution_count": 16,
   "metadata": {
    "ExecuteTime": {
     "end_time": "2023-06-25T14:01:25.888818Z",
     "start_time": "2023-06-25T14:01:25.884470Z"
    },
    "collapsed": false
   },
   "outputs": [],
   "source": [
    "@rk.update_class(Revenues)\n",
    "class Revenues:\n",
    "    def init_spans(self):\n",
    "        self.calc_span = rk.span.Span.from_num_periods(\n",
    "            name='Span to Calculate Reversion',\n",
    "            date=self.params['start_date'],\n",
    "            period_type=self.params['period_type'],\n",
    "            num_periods=self.params['num_periods'] + 1)\n",
    "        self.acq_span = rk.span.Span.from_num_periods(\n",
    "            name='Acquisition Span',\n",
    "            date=rk.periodicity.offset_date(\n",
    "                self.params['start_date'],\n",
    "                num_periods=-1,\n",
    "                period_type=self.params['period_type']),\n",
    "            period_type=self.params['period_type'],\n",
    "            num_periods=1)\n",
    "        self.span = self.calc_span.shift(\n",
    "            name='Span',\n",
    "            num_periods=-1,\n",
    "            period_type=self.params['period_type'],\n",
    "            bound='end')"
   ]
  },
  {
   "cell_type": "markdown",
   "metadata": {
    "collapsed": false
   },
   "source": [
    "And then we add Revenue `Flow`s:"
   ]
  },
  {
   "cell_type": "code",
   "execution_count": 17,
   "metadata": {
    "ExecuteTime": {
     "end_time": "2023-06-25T14:01:25.891665Z",
     "start_time": "2023-06-25T14:01:25.888579Z"
    },
    "collapsed": false
   },
   "outputs": [],
   "source": [
    "@rk.update_class(Revenues)\n",
    "class Revenues:\n",
    "    def init_flows(self):\n",
    "        self.pgi = rk.flux.Flow.from_projection(\n",
    "            name='Potential Gross Income',\n",
    "            value=self.params['initial_income'],\n",
    "            proj=rk.projection.Extrapolation(\n",
    "            form=rk.extrapolation.Compounding(\n",
    "                rate=self.params['growth_rate']),\n",
    "            sequence=self.calc_span.to_index(period_type=self.params['period_type'])),\n",
    "            units=currency.units)\n",
    "        self.vacancy = rk.flux.Flow(\n",
    "            name='Vacancy Allowance',\n",
    "            movements=self.pgi.movements * -self.params['vacancy_rate'],\n",
    "            units=currency.units)\n",
    "        self.egi = rk.flux.Stream(\n",
    "            name='Effective Gross Income',\n",
    "            flows=[self.pgi, self.vacancy],\n",
    "            period_type=self.params['period_type'])"
   ]
  },
  {
   "cell_type": "markdown",
   "metadata": {
    "collapsed": false
   },
   "source": [
    "Now we need to add `Entity`-specific parameters to the parameters dictionary,\n",
    "and run  the `init_spans()` and `init_flows()` methods per floor `Entity`:\n",
    "\n",
    "(Note we place the resultant `Stream` in the `events` attribute of the `Entity`)"
   ]
  },
  {
   "cell_type": "code",
   "execution_count": 18,
   "metadata": {
    "ExecuteTime": {
     "end_time": "2023-06-25T14:01:25.990355Z",
     "start_time": "2023-06-25T14:01:25.893497Z"
    },
    "collapsed": false
   },
   "outputs": [],
   "source": [
    "for floor in floors:\n",
    "    parent = floor.get_relatives(\n",
    "        relationship_type='spatiallyContains',\n",
    "        outgoing=False,\n",
    "        assembly=spatial_containment)[0]\n",
    "    floor['use'] = parent['use']\n",
    "\n",
    "    floor.params = params.copy()\n",
    "    floor.params['initial_income'] = initial_income_per_area_pa[floor['use']] * floor['gfa']\n",
    "    floor.params['growth_rate'] = growth_rates[floor['use']]\n",
    "    floor.params['vacancy_rate'] = vacancy_rates[floor['use']]\n",
    "\n",
    "    floor.events = {}\n",
    "\n",
    "    revenues = Revenues(floor.params)\n",
    "    revenues.init_spans()\n",
    "    revenues.init_flows()\n",
    "    floor.events = {\n",
    "        'egi': revenues.egi,\n",
    "        }"
   ]
  },
  {
   "cell_type": "markdown",
   "metadata": {
    "collapsed": false
   },
   "source": [
    "##### Aggregating by Container\n",
    "Since we have the \"containment\" hierarchy, we can aggregate the `Revenues` per\n",
    "containing `Assembly`:"
   ]
  },
  {
   "cell_type": "markdown",
   "metadata": {
    "collapsed": false
   },
   "source": [
    "*Rangekeeper* provides some helper methods to assist in the aggregation of\n",
    "`Stream`s and `Flow`s; specifically, since the `Entity.aggregate()` method\n",
    "updates a specified `Entity`'s property with a dictionary of subentity\n",
    "properties, keyed by their respective `entityId`s, we can use the\n",
    "`aggregate_events()` function to support the summation of `Stream`s and `Flow`s\n",
    "into a single `Stream` per key in the `Entity`'s `events` property:"
   ]
  },
  {
   "cell_type": "code",
   "execution_count": 19,
   "metadata": {
    "ExecuteTime": {
     "end_time": "2023-06-25T14:01:25.993575Z",
     "start_time": "2023-06-25T14:01:25.990995Z"
    },
    "collapsed": false
   },
   "outputs": [],
   "source": [
    "def aggregate_egis(**kwargs):\n",
    "    return rk.graph.Entity.aggregate_events(\n",
    "        **kwargs,\n",
    "        key='egi',\n",
    "        period_type=period_type)"
   ]
  },
  {
   "cell_type": "markdown",
   "metadata": {
    "collapsed": false
   },
   "source": [
    "This function is passed into the `Entity.aggregate()` method as the `function`\n",
    "parameter:"
   ]
  },
  {
   "cell_type": "code",
   "execution_count": 20,
   "metadata": {
    "ExecuteTime": {
     "end_time": "2023-06-25T14:01:26.268050Z",
     "start_time": "2023-06-25T14:01:26.000890Z"
    },
    "collapsed": false
   },
   "outputs": [],
   "source": [
    "aggregation = spatial_containment.aggregate(\n",
    "    function=aggregate_egis,\n",
    "    property='events',\n",
    "    label='aggregate_egi',\n",
    "    relationship_type='spatiallyContains')"
   ]
  },
  {
   "cell_type": "code",
   "execution_count": 21,
   "metadata": {
    "ExecuteTime": {
     "end_time": "2023-06-25T14:01:26.278953Z",
     "start_time": "2023-06-25T14:01:26.272189Z"
    },
    "collapsed": false
   },
   "outputs": [
    {
     "data": {
      "text/html": [
       "<table>\n",
       "<thead>\n",
       "<tr><th style=\"text-align: right;\">  date</th><th style=\"text-align: right;\">  Potential Gross Income</th><th style=\"text-align: right;\">  Vacancy Allowance</th></tr>\n",
       "</thead>\n",
       "<tbody>\n",
       "<tr><td style=\"text-align: right;\">  2001</td><td style=\"text-align: right;\">           $1,086,691.51</td><td style=\"text-align: right;\">        -$81,501.86</td></tr>\n",
       "<tr><td style=\"text-align: right;\">  2002</td><td style=\"text-align: right;\">           $1,108,425.34</td><td style=\"text-align: right;\">        -$83,131.90</td></tr>\n",
       "<tr><td style=\"text-align: right;\">  2003</td><td style=\"text-align: right;\">           $1,130,593.84</td><td style=\"text-align: right;\">        -$84,794.54</td></tr>\n",
       "<tr><td style=\"text-align: right;\">  2004</td><td style=\"text-align: right;\">           $1,153,205.72</td><td style=\"text-align: right;\">        -$86,490.43</td></tr>\n",
       "<tr><td style=\"text-align: right;\">  2005</td><td style=\"text-align: right;\">           $1,176,269.83</td><td style=\"text-align: right;\">        -$88,220.24</td></tr>\n",
       "<tr><td style=\"text-align: right;\">  2006</td><td style=\"text-align: right;\">           $1,199,795.23</td><td style=\"text-align: right;\">        -$89,984.64</td></tr>\n",
       "<tr><td style=\"text-align: right;\">  2007</td><td style=\"text-align: right;\">           $1,223,791.14</td><td style=\"text-align: right;\">        -$91,784.34</td></tr>\n",
       "<tr><td style=\"text-align: right;\">  2008</td><td style=\"text-align: right;\">           $1,248,266.96</td><td style=\"text-align: right;\">        -$93,620.02</td></tr>\n",
       "<tr><td style=\"text-align: right;\">  2009</td><td style=\"text-align: right;\">           $1,273,232.30</td><td style=\"text-align: right;\">        -$95,492.42</td></tr>\n",
       "<tr><td style=\"text-align: right;\">  2010</td><td style=\"text-align: right;\">           $1,298,696.94</td><td style=\"text-align: right;\">        -$97,402.27</td></tr>\n",
       "<tr><td style=\"text-align: right;\">  2011</td><td style=\"text-align: right;\">           $1,324,670.88</td><td style=\"text-align: right;\">        -$99,350.32</td></tr>\n",
       "</tbody>\n",
       "</table>"
      ],
      "text/plain": [
       "<rangekeeper.flux.Stream at 0x2ebfad1b0>"
      ]
     },
     "execution_count": 21,
     "metadata": {},
     "output_type": "execute_result"
    }
   ],
   "source": [
    "floors[1]['events']['egi']"
   ]
  },
  {
   "cell_type": "markdown",
   "metadata": {
    "collapsed": false
   },
   "source": [
    "We can now inspect the `aggregate_egi` property of an `Entity`. Let's use the\n",
    "office compartment in Building A:"
   ]
  },
  {
   "cell_type": "code",
   "execution_count": 22,
   "metadata": {
    "ExecuteTime": {
     "end_time": "2023-06-25T14:01:26.297013Z",
     "start_time": "2023-06-25T14:01:26.283061Z"
    },
    "collapsed": false
   },
   "outputs": [
    {
     "name": "stdout",
     "output_type": "stream",
     "text": [
      "buildingAoffice\n"
     ]
    },
    {
     "data": {
      "text/html": [
       "<table>\n",
       "<thead>\n",
       "<tr><th style=\"text-align: right;\">  date</th><th style=\"text-align: right;\">  Effective Gross Income for &lt;built-in function id&gt;</th><th style=\"text-align: right;\">  Effective Gross Income for &lt;built-in function id&gt;</th><th style=\"text-align: right;\">  Effective Gross Income for &lt;built-in function id&gt;</th><th style=\"text-align: right;\">  Effective Gross Income for &lt;built-in function id&gt;</th><th style=\"text-align: right;\">  Effective Gross Income for &lt;built-in function id&gt;</th><th style=\"text-align: right;\">  Effective Gross Income for &lt;built-in function id&gt;</th><th style=\"text-align: right;\">  Effective Gross Income for &lt;built-in function id&gt;</th><th style=\"text-align: right;\">  Effective Gross Income for &lt;built-in function id&gt;</th><th style=\"text-align: right;\">  Effective Gross Income for &lt;built-in function id&gt;</th><th style=\"text-align: right;\">  Effective Gross Income for &lt;built-in function id&gt;</th></tr>\n",
       "</thead>\n",
       "<tbody>\n",
       "<tr><td style=\"text-align: right;\">  2001</td><td style=\"text-align: right;\">                                      $1,145,271.71</td><td style=\"text-align: right;\">                                      $1,005,189.64</td><td style=\"text-align: right;\">                                      $1,005,189.64</td><td style=\"text-align: right;\">                                      $1,005,189.64</td><td style=\"text-align: right;\">                                      $1,005,189.64</td><td style=\"text-align: right;\">                                      $1,005,189.64</td><td style=\"text-align: right;\">                                      $1,005,189.64</td><td style=\"text-align: right;\">                                      $1,005,189.64</td><td style=\"text-align: right;\">                                      $1,005,189.64</td><td style=\"text-align: right;\">                                      $1,005,189.64</td></tr>\n",
       "<tr><td style=\"text-align: right;\">  2002</td><td style=\"text-align: right;\">                                      $1,168,177.14</td><td style=\"text-align: right;\">                                      $1,025,293.44</td><td style=\"text-align: right;\">                                      $1,025,293.44</td><td style=\"text-align: right;\">                                      $1,025,293.44</td><td style=\"text-align: right;\">                                      $1,025,293.44</td><td style=\"text-align: right;\">                                      $1,025,293.44</td><td style=\"text-align: right;\">                                      $1,025,293.44</td><td style=\"text-align: right;\">                                      $1,025,293.44</td><td style=\"text-align: right;\">                                      $1,025,293.44</td><td style=\"text-align: right;\">                                      $1,025,293.44</td></tr>\n",
       "<tr><td style=\"text-align: right;\">  2003</td><td style=\"text-align: right;\">                                      $1,191,540.69</td><td style=\"text-align: right;\">                                      $1,045,799.30</td><td style=\"text-align: right;\">                                      $1,045,799.30</td><td style=\"text-align: right;\">                                      $1,045,799.30</td><td style=\"text-align: right;\">                                      $1,045,799.30</td><td style=\"text-align: right;\">                                      $1,045,799.30</td><td style=\"text-align: right;\">                                      $1,045,799.30</td><td style=\"text-align: right;\">                                      $1,045,799.30</td><td style=\"text-align: right;\">                                      $1,045,799.30</td><td style=\"text-align: right;\">                                      $1,045,799.30</td></tr>\n",
       "<tr><td style=\"text-align: right;\">  2004</td><td style=\"text-align: right;\">                                      $1,215,371.50</td><td style=\"text-align: right;\">                                      $1,066,715.29</td><td style=\"text-align: right;\">                                      $1,066,715.29</td><td style=\"text-align: right;\">                                      $1,066,715.29</td><td style=\"text-align: right;\">                                      $1,066,715.29</td><td style=\"text-align: right;\">                                      $1,066,715.29</td><td style=\"text-align: right;\">                                      $1,066,715.29</td><td style=\"text-align: right;\">                                      $1,066,715.29</td><td style=\"text-align: right;\">                                      $1,066,715.29</td><td style=\"text-align: right;\">                                      $1,066,715.29</td></tr>\n",
       "<tr><td style=\"text-align: right;\">  2005</td><td style=\"text-align: right;\">                                      $1,239,678.93</td><td style=\"text-align: right;\">                                      $1,088,049.60</td><td style=\"text-align: right;\">                                      $1,088,049.60</td><td style=\"text-align: right;\">                                      $1,088,049.60</td><td style=\"text-align: right;\">                                      $1,088,049.60</td><td style=\"text-align: right;\">                                      $1,088,049.60</td><td style=\"text-align: right;\">                                      $1,088,049.60</td><td style=\"text-align: right;\">                                      $1,088,049.60</td><td style=\"text-align: right;\">                                      $1,088,049.60</td><td style=\"text-align: right;\">                                      $1,088,049.60</td></tr>\n",
       "<tr><td style=\"text-align: right;\">  2006</td><td style=\"text-align: right;\">                                      $1,264,472.51</td><td style=\"text-align: right;\">                                      $1,109,810.59</td><td style=\"text-align: right;\">                                      $1,109,810.59</td><td style=\"text-align: right;\">                                      $1,109,810.59</td><td style=\"text-align: right;\">                                      $1,109,810.59</td><td style=\"text-align: right;\">                                      $1,109,810.59</td><td style=\"text-align: right;\">                                      $1,109,810.59</td><td style=\"text-align: right;\">                                      $1,109,810.59</td><td style=\"text-align: right;\">                                      $1,109,810.59</td><td style=\"text-align: right;\">                                      $1,109,810.59</td></tr>\n",
       "<tr><td style=\"text-align: right;\">  2007</td><td style=\"text-align: right;\">                                      $1,289,761.96</td><td style=\"text-align: right;\">                                      $1,132,006.80</td><td style=\"text-align: right;\">                                      $1,132,006.80</td><td style=\"text-align: right;\">                                      $1,132,006.80</td><td style=\"text-align: right;\">                                      $1,132,006.80</td><td style=\"text-align: right;\">                                      $1,132,006.80</td><td style=\"text-align: right;\">                                      $1,132,006.80</td><td style=\"text-align: right;\">                                      $1,132,006.80</td><td style=\"text-align: right;\">                                      $1,132,006.80</td><td style=\"text-align: right;\">                                      $1,132,006.80</td></tr>\n",
       "<tr><td style=\"text-align: right;\">  2008</td><td style=\"text-align: right;\">                                      $1,315,557.20</td><td style=\"text-align: right;\">                                      $1,154,646.94</td><td style=\"text-align: right;\">                                      $1,154,646.94</td><td style=\"text-align: right;\">                                      $1,154,646.94</td><td style=\"text-align: right;\">                                      $1,154,646.94</td><td style=\"text-align: right;\">                                      $1,154,646.94</td><td style=\"text-align: right;\">                                      $1,154,646.94</td><td style=\"text-align: right;\">                                      $1,154,646.94</td><td style=\"text-align: right;\">                                      $1,154,646.94</td><td style=\"text-align: right;\">                                      $1,154,646.94</td></tr>\n",
       "<tr><td style=\"text-align: right;\">  2009</td><td style=\"text-align: right;\">                                      $1,341,868.34</td><td style=\"text-align: right;\">                                      $1,177,739.88</td><td style=\"text-align: right;\">                                      $1,177,739.88</td><td style=\"text-align: right;\">                                      $1,177,739.88</td><td style=\"text-align: right;\">                                      $1,177,739.88</td><td style=\"text-align: right;\">                                      $1,177,739.88</td><td style=\"text-align: right;\">                                      $1,177,739.88</td><td style=\"text-align: right;\">                                      $1,177,739.88</td><td style=\"text-align: right;\">                                      $1,177,739.88</td><td style=\"text-align: right;\">                                      $1,177,739.88</td></tr>\n",
       "<tr><td style=\"text-align: right;\">  2010</td><td style=\"text-align: right;\">                                      $1,368,705.71</td><td style=\"text-align: right;\">                                      $1,201,294.67</td><td style=\"text-align: right;\">                                      $1,201,294.67</td><td style=\"text-align: right;\">                                      $1,201,294.67</td><td style=\"text-align: right;\">                                      $1,201,294.67</td><td style=\"text-align: right;\">                                      $1,201,294.67</td><td style=\"text-align: right;\">                                      $1,201,294.67</td><td style=\"text-align: right;\">                                      $1,201,294.67</td><td style=\"text-align: right;\">                                      $1,201,294.67</td><td style=\"text-align: right;\">                                      $1,201,294.67</td></tr>\n",
       "<tr><td style=\"text-align: right;\">  2011</td><td style=\"text-align: right;\">                                      $1,396,079.82</td><td style=\"text-align: right;\">                                      $1,225,320.57</td><td style=\"text-align: right;\">                                      $1,225,320.57</td><td style=\"text-align: right;\">                                      $1,225,320.57</td><td style=\"text-align: right;\">                                      $1,225,320.57</td><td style=\"text-align: right;\">                                      $1,225,320.57</td><td style=\"text-align: right;\">                                      $1,225,320.57</td><td style=\"text-align: right;\">                                      $1,225,320.57</td><td style=\"text-align: right;\">                                      $1,225,320.57</td><td style=\"text-align: right;\">                                      $1,225,320.57</td></tr>\n",
       "</tbody>\n",
       "</table>"
      ],
      "text/plain": [
       "<rangekeeper.flux.Stream at 0x2cf4a7eb0>"
      ]
     },
     "execution_count": 22,
     "metadata": {},
     "output_type": "execute_result"
    }
   ],
   "source": [
    "buildingAoffice = [e for (id, e) in spatial_containment.get_entities().items() if e.name == 'buildingAoffice'][0]\n",
    "print(buildingAoffice.name)\n",
    "buildingAoffice['aggregate_egi']"
   ]
  },
  {
   "cell_type": "markdown",
   "metadata": {
    "collapsed": false
   },
   "source": [
    "We can also easily sum and collapse that aggregation, as it is a Stream`:"
   ]
  },
  {
   "cell_type": "code",
   "execution_count": 23,
   "metadata": {
    "ExecuteTime": {
     "end_time": "2023-06-25T14:01:26.304731Z",
     "start_time": "2023-06-25T14:01:26.298829Z"
    },
    "collapsed": false
   },
   "outputs": [
    {
     "data": {
      "text/html": [
       "<table>\n",
       "<thead>\n",
       "<tr><th style=\"text-align: right;\">               date</th><th style=\"text-align: right;\">  egi for 655b2dfe-5c18-4d68-95f0-f5d27804430d Aggregation (sum)</th></tr>\n",
       "</thead>\n",
       "<tbody>\n",
       "<tr><td style=\"text-align: right;\">2001-12-31 00:00:00</td><td style=\"text-align: right;\">                                                  $10,191,978.50</td></tr>\n",
       "<tr><td style=\"text-align: right;\">2002-12-31 00:00:00</td><td style=\"text-align: right;\">                                                  $10,395,818.07</td></tr>\n",
       "<tr><td style=\"text-align: right;\">2003-12-31 00:00:00</td><td style=\"text-align: right;\">                                                  $10,603,734.43</td></tr>\n",
       "<tr><td style=\"text-align: right;\">2004-12-31 00:00:00</td><td style=\"text-align: right;\">                                                  $10,815,809.12</td></tr>\n",
       "<tr><td style=\"text-align: right;\">2005-12-31 00:00:00</td><td style=\"text-align: right;\">                                                  $11,032,125.30</td></tr>\n",
       "<tr><td style=\"text-align: right;\">2006-12-31 00:00:00</td><td style=\"text-align: right;\">                                                  $11,252,767.81</td></tr>\n",
       "<tr><td style=\"text-align: right;\">2007-12-31 00:00:00</td><td style=\"text-align: right;\">                                                  $11,477,823.16</td></tr>\n",
       "<tr><td style=\"text-align: right;\">2008-12-31 00:00:00</td><td style=\"text-align: right;\">                                                  $11,707,379.63</td></tr>\n",
       "<tr><td style=\"text-align: right;\">2009-12-31 00:00:00</td><td style=\"text-align: right;\">                                                  $11,941,527.22</td></tr>\n",
       "<tr><td style=\"text-align: right;\">2010-12-31 00:00:00</td><td style=\"text-align: right;\">                                                  $12,180,357.76</td></tr>\n",
       "<tr><td style=\"text-align: right;\">2011-12-31 00:00:00</td><td style=\"text-align: right;\">                                                  $12,423,964.92</td></tr>\n",
       "</tbody>\n",
       "</table>"
      ],
      "text/plain": [
       "<rangekeeper.flux.Flow at 0x2cf5969e0>"
      ]
     },
     "execution_count": 23,
     "metadata": {},
     "output_type": "execute_result"
    }
   ],
   "source": [
    "buildingAoffice['aggregate_egi'].sum()"
   ]
  },
  {
   "cell_type": "code",
   "execution_count": 24,
   "metadata": {
    "ExecuteTime": {
     "end_time": "2023-06-25T14:01:26.311297Z",
     "start_time": "2023-06-25T14:01:26.303648Z"
    },
    "collapsed": false
   },
   "outputs": [
    {
     "data": {
      "text/html": [
       "<table>\n",
       "<thead>\n",
       "<tr><th style=\"text-align: right;\">               date</th><th style=\"text-align: right;\">  egi for 655b2dfe-5c18-4d68-95f0-f5d27804430d Aggregation (sum)</th></tr>\n",
       "</thead>\n",
       "<tbody>\n",
       "<tr><td style=\"text-align: right;\">2011-12-31 00:00:00</td><td style=\"text-align: right;\">                                                 $124,023,285.90</td></tr>\n",
       "</tbody>\n",
       "</table>"
      ],
      "text/plain": [
       "<rangekeeper.flux.Flow at 0x2cf597460>"
      ]
     },
     "execution_count": 24,
     "metadata": {},
     "output_type": "execute_result"
    }
   ],
   "source": [
    "buildingAoffice['aggregate_egi'].sum().collapse()"
   ]
  },
  {
   "cell_type": "markdown",
   "metadata": {
    "collapsed": false
   },
   "source": []
  },
  {
   "cell_type": "code",
   "execution_count": 25,
   "metadata": {
    "ExecuteTime": {
     "end_time": "2023-06-25T14:01:26.353082Z",
     "start_time": "2023-06-25T14:01:26.350924Z"
    },
    "collapsed": false
   },
   "outputs": [],
   "source": [
    "for (entityId, entity) in spatial_containment.get_entities().items():\n",
    "    entity['aggregate_egi_value'] = entity['aggregate_egi'].sum().collapse().movements.to_numpy()[0] if entity['aggregate_egi'] is not None else None"
   ]
  },
  {
   "cell_type": "code",
   "execution_count": 26,
   "metadata": {
    "ExecuteTime": {
     "end_time": "2023-06-25T14:01:26.388393Z",
     "start_time": "2023-06-25T14:01:26.371189Z"
    },
    "collapsed": false
   },
   "outputs": [
    {
     "data": {
      "text/html": [
       "\n",
       "        <iframe\n",
       "            width=\"100%\"\n",
       "            height=\"800\"\n",
       "            src=\"./aggregate_egis_sunburst.html\"\n",
       "            frameborder=\"0\"\n",
       "            allowfullscreen\n",
       "            \n",
       "        ></iframe>\n",
       "        "
      ],
      "text/plain": [
       "<IPython.lib.display.IFrame at 0x2cf594580>"
      ]
     },
     "execution_count": 26,
     "metadata": {},
     "output_type": "execute_result"
    }
   ],
   "source": [
    "fig = spatial_containment.sunburst(property='aggregate_egi_value')\n",
    "filename='aggregate_egis_sunburst.html'\n",
    "py.plot(fig, filename='assets/{0}'.format(filename), auto_open=False)\n",
    "IFrame(src=\"./{0}\".format(filename), width='100%', height=800)"
   ]
  },
  {
   "cell_type": "markdown",
   "metadata": {
    "collapsed": false
   },
   "source": []
  },
  {
   "cell_type": "code",
   "execution_count": 27,
   "metadata": {
    "ExecuteTime": {
     "end_time": "2023-06-25T14:01:26.388495Z",
     "start_time": "2023-06-25T14:01:26.384838Z"
    },
    "collapsed": false
   },
   "outputs": [],
   "source": [
    "# df = px.data.tips()"
   ]
  },
  {
   "cell_type": "code",
   "execution_count": 28,
   "metadata": {
    "ExecuteTime": {
     "end_time": "2023-06-25T14:01:26.390356Z",
     "start_time": "2023-06-25T14:01:26.387136Z"
    },
    "collapsed": false
   },
   "outputs": [],
   "source": [
    "# fig = px.sunburst(df, path=['day', 'time', 'sex'], values='total_bill')\n",
    "# fig.show()"
   ]
  },
  {
   "cell_type": "code",
   "execution_count": 28,
   "metadata": {
    "ExecuteTime": {
     "end_time": "2023-06-25T14:01:26.392031Z",
     "start_time": "2023-06-25T14:01:26.389680Z"
    },
    "collapsed": false
   },
   "outputs": [],
   "source": []
  }
 ],
 "metadata": {
  "kernelspec": {
   "display_name": "Python 3 (ipykernel)",
   "language": "python",
   "name": "python3"
  },
  "language_info": {
   "codemirror_mode": {
    "name": "ipython",
    "version": 3
   },
   "file_extension": ".py",
   "mimetype": "text/x-python",
   "name": "python",
   "nbconvert_exporter": "python",
   "pygments_lexer": "ipython3",
   "version": "3.10.4"
  }
 },
 "nbformat": 4,
 "nbformat_minor": 1
}
