{
 "cells": [
  {
   "cell_type": "markdown",
   "metadata": {},
   "source": [
    "# Loading a Design Scenario"
   ]
  },
  {
   "cell_type": "markdown",
   "metadata": {},
   "source": [
    "```{warning}\n",
    "The following is a work in progress. More content will be added as produced.\n",
    "```"
   ]
  },
  {
   "cell_type": "markdown",
   "metadata": {},
   "source": [
    "*Rangekeeper* provides API access to [Speckle](https://speckle.systems/). This\n",
    "enables loading and extending a 3D design scenario with *Rangekeeper* in order\n",
    "to produce its financial valuation, as well as execute any automated\n",
    "decision-making or optimisation processes, and sending the results back to\n",
    "Speckle.\n",
    "\n",
    "## Object Model\n",
    "Before walking through the I/O methods, it is important to understand the\n",
    "requirements *Rangekeeper* places on how a design scenario must be structured,\n",
    "so that the `Flow`s and `Stream`s of a DCF Proforma can be appropriately\n",
    "attributed to the design scenario's objects (especially its representations of\n",
    "physical spaces, components, and equipment).\n",
    "\n",
    "### Entities and Relationships\n",
    "A holistic representation of a real estate development scenario is that it is a\n",
    "web of inter-related 'entities'; where each entity is a 'thing' and can have\n",
    "multiple relationships with other entities. For example, a floor is a type\n",
    "of entity (say, a \"Space\") and it has relationships with floors above and\n",
    "below it, as well as relationships to its sub-entities (e.g. rooms), or even\n",
    "what services it (e.g. the mechanical systems controlling its air conditioning)\n",
    "\n",
    "```{figure} resources/devModelGraph.jpg\n",
    "---\n",
    "width: 100%\n",
    "name: Real Estate Scenario as a Graph\n",
    "---\n",
    "An entire Real Estate Development Scenario is represented as a huge web (graph)\n",
    "of `Entity`s and `Relationship`s\n",
    "```\n",
    "\n",
    "#### `Entity`s\n",
    "An `Entity` is a ‘thing’ that has substance, or is composed of sub-`Entity`s\n",
    "that have substance, material, mass, volume, existence, are ‘real’, etc.\n",
    "\n",
    "#### `Relationship`s\n",
    "`Relationship`s describe some sort of (directed) association, connection, or\n",
    "link between `Entity`s. Each `Relationship` is described by its ‘type’; for\n",
    "instance, an `Entity` can be related to another by virtue of it “being\n",
    "contained (spatially)” by the other, or it could be “installed before” another\n",
    "`Entity`.\n",
    "There can be any number of `Relationship`s between any number of `Entity`s.\n",
    "\n",
    "#### `Assembly`s\n",
    "In order to clearly encapsulate ‘groups’ of intuitively-related `Entity`s,\n",
    "*Rangekeeper* has a concept of an `Assembly`, which is an object that defines\n",
    "a collection of `Relationship`s and their associated `Entity`s.\n",
    "`Assembly`s are `Entity`s themselves, too –- so they can also be related to\n",
    "other `Entity`s.\n",
    "This means that *Rangekeeper* can traverse from `Assembly` to `Assembly` through\n",
    "overlapping `Entity`s, in a similar fashion to common-sense conceptualisation\n",
    "of how a real estate development scenario is structured.\n",
    "\n",
    "```{figure} resources/devModelAssembly.jpg\n",
    "---\n",
    "width: 100%\n",
    "name: A Diagram of `Assembly`s of `Entity`s\n",
    "---\n",
    "An `Assembly` is a non-exclusive collection of `Entity`s and `Relationship`s,\n",
    "enabling the traversal of `Entity`s in the graph.\n",
    "```\n",
    "\n",
    "### Definitions\n",
    "#### Properties of `Entity`s\n",
    "All `Entity`s have the following properties:\n",
    "1. **Id**: a unique & immutable identifier for the `Entity` over the whole of\n",
    "    its lifetime.\n",
    "2. **Name**: human-readable text identifying the `Entity`\n",
    "3. **Type**: an `entityType` (which is a node of a tree of `entityType`s)\n",
    "4. **Attributes**: a key-value store of specific properties of the `Entity`\n",
    "   (eg, its area, geometry, material, etc).\n",
    "There are two key `Attribute`s (stored in the `Attributes` property), where\n",
    "*Rangekeeper* seeks and records data for its use:\n",
    "   -  **Events**: a set of time-based occurrences, or experiences, that happen\n",
    "      in or to the `Entity` (called `Event`s)\n",
    "   -  **Measurements**: a key-value store of named quantities measuring the\n",
    "       `Entity` (e.g. its Net Lettable Area (NLA))\n",
    "\n",
    "In addition, `Assembly`s have properties collecting related `Entity`s:\n",
    "1. **entityIds**: a set pointers to `Entity`s\n",
    "2. **Relationships**: a set of `Relationship`s\n",
    "\n",
    "#### Properties of `Relationship`s\n",
    "Meanwhile, all `Relationship`s have the following properties:\n",
    "1. **Type**: a `RelationshipType`, which is an item from a list of defined\n",
    "   `RelationshipType`s\n",
    "2. **SourceId**: the `Entity` `Id` that is the source of the `Relationship`\n",
    "3. **TargetId**: the `Entity` `Id` that is the target of the `Relationship`\n",
    "\n",
    "#### `Event`s\n",
    "Every `Entity` can exist in both space and time. Most `Entity`s will have (or\n",
    "its sub-`Entity`s will have, in the case of an `Assembly`) geometry/s that\n",
    "define the extent of space that the entity exists in.\n",
    "\n",
    "To represent how an `Entity` exists in time, the `Entity` has `Event`s\n",
    "recorded against it. For example, an `Event` may record the installation of the\n",
    "`entity` during construction, or it may record production of revenue during\n",
    "operation of the real estate project as an asset.\n",
    "\n",
    "`Flow`s and `Stream`s are subclasses of `Event`s.\n",
    "\n",
    "```{figure} resources/objModel.jpg\n",
    "---\n",
    "width: 100%\n",
    "name: UML-style diagram of foundation of Rangekeeper's object model\n",
    "---\n",
    "Diagram of general overview of the founational concepts of *Rangekeeper*'s\n",
    "object model, in UML-style.\n",
    "```"
   ]
  },
  {
   "cell_type": "markdown",
   "metadata": {},
   "source": [
    "## Rationale and Implications\n",
    "*Rangekeeper* will use the `Relationship`s defined in the `Assembly`/s of a\n",
    "design scenario to structure the \"drill-downs\" and \"roll-ups\" (ie, the\n",
    "compositions) of `Flow`s into `Stream`s that are appropriate for the kinds of\n",
    "summations and metrics that the DCF Proforma model requires.\n",
    "\n",
    "For example, an office building may produce revenue from multiple tenants. A\n",
    "tenant may occupy multiple floors, or a part (space) of a single floor.\n",
    "For *Rangekeeper*, each space would be an `entity`; with its `Events` property\n",
    "containing a set of `Flow`s and/or `Stream`s that represent revenues or costs\n",
    "associated with that space. Those may be aggregated into cash flows generated by\n",
    "the tenant of those spaces, and analysed as such, or they may be aggregated per\n",
    "floor, or per building, or per project.\n",
    "\n",
    "This makes it simple to calculate things like the share of total revenue\n",
    "generated by each tenant; or the share of revenue generated by each floor.\n",
    "Likewise with costs.\n",
    "\n",
    "The multi-faceted nature of the [`Entity`-`Relationship` model](\n",
    "https://en.wikipedia.org/wiki/Entity%E2%80%93relationship_model) enables\n",
    "multiple pathways for those aggregations to be specified, and thus enables an\n",
    "efficient and broad ability to query the model for the kinds of analyses\n",
    "pertinent to real estate valuation.\n",
    "\n",
    "### Technicalities\n",
    "To provide a *Rangekeeper* model with the `Entity`-`Relationship` organization,\n",
    "those need to either be defined in the design scenario itself, or they need to\n",
    "be specified after receiving and loading the design scenario.\n",
    "\n",
    "#### Defining `Entity`s and `Relationship`s in the Design Scenario\n",
    "*Rangekeeper* uses the [Speckle](https://speckle.systems) service and data model\n",
    "for the exchange of design scenarios, and scaffolds `entity`s off a [Speckle\n",
    "`Base`](https://speckle.guide/dev/base.html)\n",
    "\n",
    "It also provides two means to define `entity`s and `Relationship`s:\n",
    "1. A plugin to [McNeel's Rhinoceros3D Grasshopper]\n",
    "   (https://www.rhino3d.com/6/new/grasshopper/), that enables both automated and\n",
    "   manual assignment of `Relationship`s to geometries before their export to\n",
    "   Speckle; and\n",
    "2. Manual assignment of `Relationship`s to `Entity`s once they have been loaded\n",
    "   from a Speckle stream in *Rangekeeper*."
   ]
  },
  {
   "cell_type": "markdown",
   "metadata": {},
   "source": [
    "## Example Design Scenario\n",
    "An example development has been designed and uploaded to Speckle for us to use\n",
    "as a demonstration of the object model and its use in *Rangekeeper*."
   ]
  },
  {
   "cell_type": "code",
   "execution_count": 12,
   "metadata": {
    "ExecuteTime": {
     "end_time": "2023-06-04T12:47:37.446637Z",
     "start_time": "2023-06-04T12:47:37.439957Z"
    }
   },
   "outputs": [
    {
     "data": {
      "text/plain": "<IPython.lib.display.IFrame at 0x2dd48bb50>",
      "text/html": "\n        <iframe\n            width=\"100%\"\n            height=\"800\"\n            src=\"https://speckle.xyz/embed?stream=3f40d86240&commit=d5930913d6\"\n            frameborder=\"0\"\n            allowfullscreen\n            \n        ></iframe>\n        "
     },
     "execution_count": 12,
     "metadata": {},
     "output_type": "execute_result"
    }
   ],
   "source": [
    "from IPython.display import IFrame\n",
    "IFrame(\"https://speckle.xyz/embed?stream=3f40d86240&commit=d5930913d6\", width='100%', height=800)"
   ]
  },
  {
   "cell_type": "markdown",
   "metadata": {},
   "source": [
    "As you can see, this design scenario is composed of two mixed-use buildings,\n",
    "that both share a common basement, used for parking primarily.\n",
    "\n",
    "To access the design scenario in *Rangekeeper*, we need to load it from Speckle:"
   ]
  },
  {
   "cell_type": "code",
   "execution_count": 2,
   "metadata": {
    "ExecuteTime": {
     "end_time": "2023-06-03T14:30:06.752747Z",
     "start_time": "2023-06-03T14:30:05.208615Z"
    }
   },
   "outputs": [],
   "source": [
    "import os\n",
    "\n",
    "import rangekeeper as rk"
   ]
  },
  {
   "cell_type": "markdown",
   "metadata": {},
   "source": [
    "### Authenticate and Load the Design scenario from Speckle"
   ]
  },
  {
   "cell_type": "code",
   "execution_count": 3,
   "metadata": {
    "ExecuteTime": {
     "end_time": "2023-06-03T14:30:10.049629Z",
     "start_time": "2023-06-03T14:30:06.753211Z"
    }
   },
   "outputs": [
    {
     "name": "stdout",
     "output_type": "stream",
     "text": [
      "\n",
      " SpeckleClient( server: https://speckle.xyz, authenticated: True )\n"
     ]
    }
   ],
   "source": [
    "# Authenticate with Speckle\n",
    "speckle = rk.api.Speckle(\n",
    "    host=\"speckle.xyz\",\n",
    "    token=os.getenv('SPECKLE_TOKEN')) # Note if you run this notebook yourself, you'll need to set this environment variable\n"
   ]
  },
  {
   "cell_type": "code",
   "execution_count": 4,
   "metadata": {
    "ExecuteTime": {
     "end_time": "2023-06-03T14:30:12.871695Z",
     "start_time": "2023-06-03T14:30:10.052613Z"
    }
   },
   "outputs": [],
   "source": [
    "# Load the design scenario\n",
    "model = speckle.get_commit(\n",
    "    stream_id=\"3f40d86240\",\n",
    "    commit_id=\"d5930913d6\")"
   ]
  },
  {
   "cell_type": "markdown",
   "metadata": {},
   "source": [
    "### Inspect the Design Scenario"
   ]
  },
  {
   "cell_type": "code",
   "execution_count": 5,
   "metadata": {
    "ExecuteTime": {
     "end_time": "2023-06-03T14:30:12.875999Z",
     "start_time": "2023-06-03T14:30:12.873691Z"
    }
   },
   "outputs": [
    {
     "data": {
      "text/plain": "['@scenario', '@context']"
     },
     "execution_count": 5,
     "metadata": {},
     "output_type": "execute_result"
    }
   ],
   "source": [
    "# Let's identify the root members of the scenario:\n",
    "roots = model.get_dynamic_member_names()\n",
    "roots"
   ]
  },
  {
   "cell_type": "markdown",
   "metadata": {},
   "source": [
    "In this design scenario, there are two members (Speckle Objects) at the root of\n",
    "the model:\n",
    "1. '@context', and\n",
    "2. '@scenario'\n",
    "\n",
    "```{note}\n",
    "Speckle Objects whose member names begin with an `@` indicate 'detached' data:\n",
    "See [The Base Object: Detaching](https://speckle.guide/dev/base.html#detaching)\n",
    "for more information.\n",
    "```\n",
    "\n",
    "For future reference, if we wanted to see what a  they represented, we can pass them in to the Speckle\n",
    "Viewer's \"objects\" endpoint with their `id`s:"
   ]
  },
  {
   "cell_type": "code",
   "execution_count": 16,
   "metadata": {
    "ExecuteTime": {
     "end_time": "2023-06-04T12:49:02.674007Z",
     "start_time": "2023-06-04T12:49:02.668255Z"
    }
   },
   "outputs": [
    {
     "data": {
      "text/plain": "<IPython.lib.display.IFrame at 0x2dbd3cd60>",
      "text/html": "\n        <iframe\n            width=\"100%\"\n            height=\"800\"\n            src=\"https://speckle.xyz/streams/3f40d86240/objects/42bbcef93d01580f723de0d30bb1b398\"\n            frameborder=\"0\"\n            allowfullscreen\n            \n        ></iframe>\n        "
     },
     "execution_count": 16,
     "metadata": {},
     "output_type": "execute_result"
    }
   ],
   "source": [
    "IFrame(\"https://speckle.xyz/streams/3f40d86240/objects/{0}\".format(model['@scenario']['id']), width='100%', height=800)"
   ]
  },
  {
   "cell_type": "markdown",
   "metadata": {},
   "source": [
    "### Rangekeeper `Entity`s in the Design Scenario\n",
    "Of course, not all Speckle Objects are Rangekeeper `Entity`s for us to use in\n",
    "our valuations and modeling.\n",
    "To make parsing the design scenario easier, *Rangekeeper* provides some helper\n",
    "methods to convert the Speckle Objects into Rangekeeper `Entity`s:"
   ]
  },
  {
   "cell_type": "code",
   "execution_count": 7,
   "metadata": {
    "ExecuteTime": {
     "end_time": "2023-06-03T14:30:12.884093Z",
     "start_time": "2023-06-03T14:30:12.881837Z"
    }
   },
   "outputs": [
    {
     "data": {
      "text/plain": "True"
     },
     "execution_count": 7,
     "metadata": {},
     "output_type": "execute_result"
    }
   ],
   "source": [
    "# Return any Speckle Objects that have 'entityId's:\n",
    "speckle_entities = rk.api.Speckle.parse(model['@scenario'])\n",
    "\n",
    "# Convert the first object (root) into a Rangekeeper Entity:\n",
    "root_assembly = rk.api.Speckle.to_entity(speckle_entities[0])\n",
    "\n",
    "# (We can check that it is an Assembly:)\n",
    "isinstance(root_assembly, rk.graph.Assembly)"
   ]
  },
  {
   "cell_type": "markdown",
   "metadata": {},
   "source": [
    "#### Querying the Design Scenario's Object Graph\n",
    "*Rangekeeper* uses the [NetworkX](https://networkx.org/) library to represent\n",
    "the object graph of the design scenario, where each `Assembly` is a\n",
    "`MultiDiGraph` of `Entity` nodes and `Relationship` edges.\n",
    "This means we can query it pythonically:"
   ]
  },
  {
   "cell_type": "code",
   "execution_count": 8,
   "metadata": {
    "ExecuteTime": {
     "end_time": "2023-06-03T14:30:12.887397Z",
     "start_time": "2023-06-03T14:30:12.884974Z"
    }
   },
   "outputs": [
    {
     "name": "stdout",
     "output_type": "stream",
     "text": [
      "BuildingA: Assembly: BuildingA\n",
      "Type: building\n",
      "Entities: [(Assembly: BuildingA (Type: building), {}), (Entity: BuildingA.Residential (Type: space), {}), (Entity: BuildingA.Retail (Type: space), {}), (Entity: BuildingA.Parking (Type: space), {})]\n",
      "Relationships: [(Assembly: BuildingA (Type: building), Entity: BuildingA.Residential (Type: space), 'spatiallyContains'), (Assembly: BuildingA (Type: building), Entity: BuildingA.Retail (Type: space), 'spatiallyContains'), (Assembly: BuildingA (Type: building), Entity: BuildingA.Parking (Type: space), 'spatiallyContains')]\n",
      "\n"
     ]
    }
   ],
   "source": [
    "# Get the \"BuildingA\" Assembly:\n",
    "buildingA = [node for node in root_assembly.nodes if node.name == 'BuildingA'][0]\n",
    "print('BuildingA: {0}'.format(buildingA))"
   ]
  },
  {
   "cell_type": "markdown",
   "metadata": {},
   "source": [
    "Because we can also define directed, labelled `Relationship`s between `Entity`s,\n",
    "we can identify relatives of `Entity`s accordingly:"
   ]
  },
  {
   "cell_type": "code",
   "execution_count": 9,
   "metadata": {
    "ExecuteTime": {
     "end_time": "2023-06-03T14:30:12.890586Z",
     "start_time": "2023-06-03T14:30:12.888289Z"
    }
   },
   "outputs": [
    {
     "name": "stdout",
     "output_type": "stream",
     "text": [
      "BuildingA Containment: \n",
      " [Entity: BuildingA.Residential (Type: space), Entity: BuildingA.Retail (Type: space), Entity: BuildingA.Parking (Type: space)]\n",
      "\n"
     ]
    }
   ],
   "source": [
    "# Get all relatives of BuildingA where BuildingA is the source of\n",
    "# a 'spatiallyContains' relationship:\n",
    "buildingA_containment = buildingA.get_relatives(outgoing=True, relationship_type='spatiallyContains')\n",
    "print('BuildingA Containment: \\n {0}\\n'.format(buildingA_containment))"
   ]
  },
  {
   "cell_type": "markdown",
   "metadata": {},
   "source": [
    "Since each `Assembly` is a both a distinct `MultiDiGraph` and an `Entity` with\n",
    "`Relationship`s to other `Entity`s, in order to consolidate the whole object\n",
    "graph we 'unroll' (or 'develop') it:"
   ]
  },
  {
   "cell_type": "code",
   "execution_count": 10,
   "metadata": {
    "ExecuteTime": {
     "end_time": "2023-06-03T14:30:12.926169Z",
     "start_time": "2023-06-03T14:30:12.891081Z"
    }
   },
   "outputs": [],
   "source": [
    "develop = root_assembly.develop(\n",
    "    name='design_scenario',\n",
    "    type='design_scenario')"
   ]
  },
  {
   "cell_type": "markdown",
   "metadata": {},
   "source": [
    "And that means we can visualize it as well:"
   ]
  },
  {
   "cell_type": "code",
   "execution_count": 11,
   "outputs": [
    {
     "name": "stdout",
     "output_type": "stream",
     "text": [
      "design_scenario.html\n"
     ]
    }
   ],
   "source": [
    "develop.plot(\n",
    "    notebook=True,\n",
    "    display=False)"
   ],
   "metadata": {
    "collapsed": false,
    "ExecuteTime": {
     "end_time": "2023-06-03T14:30:12.962470Z",
     "start_time": "2023-06-03T14:30:12.896734Z"
    }
   }
  },
  {
   "cell_type": "markdown",
   "source": [
    "```{raw} html\n",
    ":file: design_scenario.html\n",
    "```"
   ],
   "metadata": {
    "collapsed": false
   }
  }
 ],
 "metadata": {
  "kernelspec": {
   "display_name": "Python 3 (ipykernel)",
   "language": "python",
   "name": "python3"
  },
  "language_info": {
   "codemirror_mode": {
    "name": "ipython",
    "version": 3
   },
   "file_extension": ".py",
   "mimetype": "text/x-python",
   "name": "python",
   "nbconvert_exporter": "python",
   "pygments_lexer": "ipython3",
   "version": "3.10.4"
  }
 },
 "nbformat": 4,
 "nbformat_minor": 1
}
