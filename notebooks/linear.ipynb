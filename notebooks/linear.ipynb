{
 "cells": [
  {
   "cell_type": "markdown",
   "source": [
    "# Run A Linear (Simple) Financial Projection"
   ],
   "metadata": {
    "collapsed": false
   }
  },
  {
   "cell_type": "markdown",
   "source": [
    "## 1. Initiate Notebook"
   ],
   "metadata": {
    "collapsed": false
   }
  },
  {
   "cell_type": "markdown",
   "source": [
    "Import Libraries and set up directories"
   ],
   "metadata": {
    "collapsed": false
   }
  },
  {
   "cell_type": "code",
   "execution_count": 27,
   "outputs": [
    {
     "name": "stdout",
     "output_type": "stream",
     "text": [
      "The autoreload extension is already loaded. To reload it, use:\n",
      "  %reload_ext autoreload\n"
     ]
    }
   ],
   "source": [
    "# Notebook Setup:\n",
    "\n",
    "# External Libraries:\n",
    "import sys, os\n",
    "from pathlib import Path\n",
    "\n",
    "from IPython.core.display import display\n",
    "import pandas as pd\n",
    "\n",
    "%load_ext autoreload\n",
    "%autoreload 1"
   ],
   "metadata": {
    "collapsed": false,
    "pycharm": {
     "name": "#%%\n"
    }
   }
  },
  {
   "cell_type": "code",
   "execution_count": 28,
   "outputs": [],
   "source": [
    "notebook_path = Path(os.path.abspath(os.path.join('..')))\n",
    "modules_path = notebook_path.parent / 'modules'\n",
    "if modules_path not in sys.path:\n",
    "    sys.path.insert(0, str(modules_path))\n",
    "\n",
    "models_path = notebook_path.parent / 'models'\n",
    "if models_path not in sys.path:\n",
    "    sys.path.insert(0, str(models_path))"
   ],
   "metadata": {
    "collapsed": false,
    "pycharm": {
     "name": "#%%\n"
    }
   }
  },
  {
   "cell_type": "code",
   "execution_count": 29,
   "outputs": [],
   "source": [
    "# Internal Libraries:\n",
    "\n",
    "import modules.distribution\n",
    "import modules.flux\n",
    "import models.linear\n",
    "from modules.space import Apartment\n",
    "from modules.units import Units\n",
    "from modules.periodicity import Periodicity"
   ],
   "metadata": {
    "collapsed": false,
    "pycharm": {
     "name": "#%%\n"
    }
   }
  },
  {
   "cell_type": "markdown",
   "source": [
    "## 2. Run Proforma:"
   ],
   "metadata": {
    "collapsed": false
   }
  },
  {
   "cell_type": "markdown",
   "source": [
    "2.1 Initiate Project Parameters:"
   ],
   "metadata": {
    "collapsed": false
   }
  },
  {
   "cell_type": "code",
   "execution_count": 30,
   "outputs": [],
   "source": [
    "# 2.1.1: Unit Mix:\n",
    "unit_mix = {\n",
    "    Apartment.Type.B1B1B0: 0,\n",
    "    Apartment.Type.B1B1B1: 1,\n",
    "    Apartment.Type.B2B1B1: 0,\n",
    "    Apartment.Type.B2B1B2: 0,\n",
    "    Apartment.Type.B2B2B0: 0,\n",
    "    Apartment.Type.B2B2B1: 2,\n",
    "    Apartment.Type.B3B2B0: 0,\n",
    "    Apartment.Type.B3B2B1: 1\n",
    "    }\n",
    "\n",
    "property_params = {\n",
    "    'gla': 750.0,\n",
    "    'sales_price_per_gfa': 6875,\n",
    "    }\n",
    "\n",
    "project_params = {\n",
    "    'start_date': pd.Timestamp('2021-01-01'),\n",
    "    'periodicity_type': Periodicity.Type.month,\n",
    "    'preliminaries_duration': 2,\n",
    "    'construction_duration': 4,\n",
    "    'sales_duration': 3,\n",
    "    'sales_fee_rate': 0.02,\n",
    "    'construction_interest_rate_pa': 0.03,\n",
    "    'parking_ratio': 1,\n",
    "    'units': Units.Type.AUD,\n",
    "    'margin_on_cost_reqd': 0.20\n",
    "    }\n",
    "models.linear.compose_phases(project_params)\n",
    "models.linear.compose_apartments(unit_mix=unit_mix, project_params=project_params)"
   ],
   "metadata": {
    "collapsed": false,
    "pycharm": {
     "name": "#%%\n"
    }
   }
  },
  {
   "cell_type": "code",
   "execution_count": 31,
   "outputs": [
    {
     "data": {
      "text/plain": "                                                                  project_params\nstart_date                                                   2021-01-01 00:00:00\nperiodicity_type                                                      Type.month\npreliminaries_duration                                                         2\nconstruction_duration                                                          4\nsales_duration                                                                 3\nsales_fee_rate                                                              0.02\nconstruction_interest_rate_pa                                               0.03\nparking_ratio                                                                  1\nunits                                                                   Type.AUD\nmargin_on_cost_reqd                                                          0.2\npreliminaries_period           PeriodIndex(['2021-01', '2021-02'], dtype='per...\nconstruction_period            PeriodIndex(['2021-03', '2021-04', '2021-05', ...\nsales_period                   PeriodIndex(['2021-07', '2021-08', '2021-09'],...\ngfa                                                           340.59999999999997\ncfa_amenities                                                              150.7\ncfa_shell                                                     254.89999999999998\napartments                     [<modules.space.Apartment object at 0x7feb1885...",
      "text/html": "<div>\n<style scoped>\n    .dataframe tbody tr th:only-of-type {\n        vertical-align: middle;\n    }\n\n    .dataframe tbody tr th {\n        vertical-align: top;\n    }\n\n    .dataframe thead th {\n        text-align: right;\n    }\n</style>\n<table border=\"1\" class=\"dataframe\">\n  <thead>\n    <tr style=\"text-align: right;\">\n      <th></th>\n      <th>project_params</th>\n    </tr>\n  </thead>\n  <tbody>\n    <tr>\n      <th>start_date</th>\n      <td>2021-01-01 00:00:00</td>\n    </tr>\n    <tr>\n      <th>periodicity_type</th>\n      <td>Type.month</td>\n    </tr>\n    <tr>\n      <th>preliminaries_duration</th>\n      <td>2</td>\n    </tr>\n    <tr>\n      <th>construction_duration</th>\n      <td>4</td>\n    </tr>\n    <tr>\n      <th>sales_duration</th>\n      <td>3</td>\n    </tr>\n    <tr>\n      <th>sales_fee_rate</th>\n      <td>0.02</td>\n    </tr>\n    <tr>\n      <th>construction_interest_rate_pa</th>\n      <td>0.03</td>\n    </tr>\n    <tr>\n      <th>parking_ratio</th>\n      <td>1</td>\n    </tr>\n    <tr>\n      <th>units</th>\n      <td>Type.AUD</td>\n    </tr>\n    <tr>\n      <th>margin_on_cost_reqd</th>\n      <td>0.2</td>\n    </tr>\n    <tr>\n      <th>preliminaries_period</th>\n      <td>PeriodIndex(['2021-01', '2021-02'], dtype='per...</td>\n    </tr>\n    <tr>\n      <th>construction_period</th>\n      <td>PeriodIndex(['2021-03', '2021-04', '2021-05', ...</td>\n    </tr>\n    <tr>\n      <th>sales_period</th>\n      <td>PeriodIndex(['2021-07', '2021-08', '2021-09'],...</td>\n    </tr>\n    <tr>\n      <th>gfa</th>\n      <td>340.59999999999997</td>\n    </tr>\n    <tr>\n      <th>cfa_amenities</th>\n      <td>150.7</td>\n    </tr>\n    <tr>\n      <th>cfa_shell</th>\n      <td>254.89999999999998</td>\n    </tr>\n    <tr>\n      <th>apartments</th>\n      <td>[&lt;modules.space.Apartment object at 0x7feb1885...</td>\n    </tr>\n  </tbody>\n</table>\n</div>"
     },
     "metadata": {},
     "output_type": "display_data"
    }
   ],
   "source": [
    "# Display Project Params in a DataFrame:\n",
    "project_params_df = pd.DataFrame.from_dict(\n",
    "    data={key: [str(value)] for key, value in project_params.items()},\n",
    "    orient='index',\n",
    "    columns=['project_params'])\n",
    "display(project_params_df)\n"
   ],
   "metadata": {
    "collapsed": false,
    "pycharm": {
     "name": "#%%\n"
    }
   }
  },
  {
   "cell_type": "markdown",
   "source": [
    "2.2 Compose Preliminaries:"
   ],
   "metadata": {
    "collapsed": false
   }
  },
  {
   "cell_type": "code",
   "execution_count": 32,
   "outputs": [
    {
     "data": {
      "text/plain": "'Preliminaries: '"
     },
     "metadata": {},
     "output_type": "display_data"
    },
    {
     "data": {
      "text/plain": "                                       2021-01-31  2021-02-28\ndesign_planning_engineering               10000.0     10000.0\nsurvey_geotech                             2500.0      2500.0\npermitting_inspections_certifications      5000.0      5000.0\nlegal_title_appraisal                      1750.0      1750.0\ntaxes_insurance                             750.0       750.0\ndeveloper_project_management              25000.0     25000.0",
      "text/html": "<div>\n<style scoped>\n    .dataframe tbody tr th:only-of-type {\n        vertical-align: middle;\n    }\n\n    .dataframe tbody tr th {\n        vertical-align: top;\n    }\n\n    .dataframe thead th {\n        text-align: right;\n    }\n</style>\n<table border=\"1\" class=\"dataframe\">\n  <thead>\n    <tr style=\"text-align: right;\">\n      <th></th>\n      <th>2021-01-31</th>\n      <th>2021-02-28</th>\n    </tr>\n  </thead>\n  <tbody>\n    <tr>\n      <th>design_planning_engineering</th>\n      <td>10000.0</td>\n      <td>10000.0</td>\n    </tr>\n    <tr>\n      <th>survey_geotech</th>\n      <td>2500.0</td>\n      <td>2500.0</td>\n    </tr>\n    <tr>\n      <th>permitting_inspections_certifications</th>\n      <td>5000.0</td>\n      <td>5000.0</td>\n    </tr>\n    <tr>\n      <th>legal_title_appraisal</th>\n      <td>1750.0</td>\n      <td>1750.0</td>\n    </tr>\n    <tr>\n      <th>taxes_insurance</th>\n      <td>750.0</td>\n      <td>750.0</td>\n    </tr>\n    <tr>\n      <th>developer_project_management</th>\n      <td>25000.0</td>\n      <td>25000.0</td>\n    </tr>\n  </tbody>\n</table>\n</div>"
     },
     "metadata": {},
     "output_type": "display_data"
    },
    {
     "data": {
      "text/plain": "'Preliminaries Subtotals: '"
     },
     "metadata": {},
     "output_type": "display_data"
    },
    {
     "data": {
      "text/plain": "                                       2021-02-28\ndesign_planning_engineering               20000.0\nsurvey_geotech                             5000.0\npermitting_inspections_certifications     10000.0\nlegal_title_appraisal                      3500.0\ntaxes_insurance                            1500.0\ndeveloper_project_management              50000.0",
      "text/html": "<div>\n<style scoped>\n    .dataframe tbody tr th:only-of-type {\n        vertical-align: middle;\n    }\n\n    .dataframe tbody tr th {\n        vertical-align: top;\n    }\n\n    .dataframe thead th {\n        text-align: right;\n    }\n</style>\n<table border=\"1\" class=\"dataframe\">\n  <thead>\n    <tr style=\"text-align: right;\">\n      <th></th>\n      <th>2021-02-28</th>\n    </tr>\n  </thead>\n  <tbody>\n    <tr>\n      <th>design_planning_engineering</th>\n      <td>20000.0</td>\n    </tr>\n    <tr>\n      <th>survey_geotech</th>\n      <td>5000.0</td>\n    </tr>\n    <tr>\n      <th>permitting_inspections_certifications</th>\n      <td>10000.0</td>\n    </tr>\n    <tr>\n      <th>legal_title_appraisal</th>\n      <td>3500.0</td>\n    </tr>\n    <tr>\n      <th>taxes_insurance</th>\n      <td>1500.0</td>\n    </tr>\n    <tr>\n      <th>developer_project_management</th>\n      <td>50000.0</td>\n    </tr>\n  </tbody>\n</table>\n</div>"
     },
     "metadata": {},
     "output_type": "display_data"
    },
    {
     "data": {
      "text/plain": "'Preliminaries Totals: '"
     },
     "metadata": {},
     "output_type": "display_data"
    },
    {
     "data": {
      "text/plain": "                     2021-02-28\npreliminaries_total     90000.0",
      "text/html": "<div>\n<style scoped>\n    .dataframe tbody tr th:only-of-type {\n        vertical-align: middle;\n    }\n\n    .dataframe tbody tr th {\n        vertical-align: top;\n    }\n\n    .dataframe thead th {\n        text-align: right;\n    }\n</style>\n<table border=\"1\" class=\"dataframe\">\n  <thead>\n    <tr style=\"text-align: right;\">\n      <th></th>\n      <th>2021-02-28</th>\n    </tr>\n  </thead>\n  <tbody>\n    <tr>\n      <th>preliminaries_total</th>\n      <td>90000.0</td>\n    </tr>\n  </tbody>\n</table>\n</div>"
     },
     "metadata": {},
     "output_type": "display_data"
    }
   ],
   "source": [
    "# Prelims:\n",
    "preliminary_costs_index = {\n",
    "    'design_planning_engineering_cost': 20000.0,\n",
    "    'survey_geotech_cost': 5000.0,\n",
    "    'permitting_inspections_certifications_cost': 10000.0,\n",
    "    'legal_title_appraisal_cost': 3500.0,\n",
    "    'taxes_insurance_cost': 1500.0,\n",
    "    'developer_project_management_cost': 50000.0\n",
    "    }\n",
    "\n",
    "preliminaries = models.linear.compose_prelim_costs(\n",
    "    preliminaries_costs_index=preliminary_costs_index,\n",
    "    project_params=project_params\n",
    ")\n",
    "display(\"Preliminaries: \")\n",
    "display(preliminaries.aggregation.transpose())\n",
    "\n",
    "display(\"Preliminaries Subtotals: \")\n",
    "display(preliminaries.collapse().aggregation.transpose())\n",
    "\n",
    "display(\"Preliminaries Totals: \")\n",
    "display(preliminaries.collapse().sum(name='preliminaries_total').to_aggregation(periodicity_type=project_params['periodicity_type']).aggregation.transpose())"
   ],
   "metadata": {
    "collapsed": false,
    "pycharm": {
     "name": "#%%\n"
    }
   }
  },
  {
   "cell_type": "markdown",
   "source": [
    "2.3 Compose Build Costs:"
   ],
   "metadata": {
    "collapsed": false
   }
  },
  {
   "cell_type": "code",
   "execution_count": 33,
   "outputs": [
    {
     "data": {
      "text/plain": "'Build Costs: '"
     },
     "metadata": {},
     "output_type": "display_data"
    },
    {
     "data": {
      "text/plain": "                       2021-03-31     2021-04-30     2021-05-31     2021-06-30\nconstruction_shell    4978.515625   54763.671875  141887.695312  116995.117188\nconstruction_cores  117692.038239  210269.149804  110160.501758   13978.310199\nsiteworks             9638.671875   11689.453125    4511.718750     410.156250\nparking                937.500000   10312.500000   26718.750000   22031.250000\nutilities             2500.000000    2500.000000    2500.000000    2500.000000",
      "text/html": "<div>\n<style scoped>\n    .dataframe tbody tr th:only-of-type {\n        vertical-align: middle;\n    }\n\n    .dataframe tbody tr th {\n        vertical-align: top;\n    }\n\n    .dataframe thead th {\n        text-align: right;\n    }\n</style>\n<table border=\"1\" class=\"dataframe\">\n  <thead>\n    <tr style=\"text-align: right;\">\n      <th></th>\n      <th>2021-03-31</th>\n      <th>2021-04-30</th>\n      <th>2021-05-31</th>\n      <th>2021-06-30</th>\n    </tr>\n  </thead>\n  <tbody>\n    <tr>\n      <th>construction_shell</th>\n      <td>4978.515625</td>\n      <td>54763.671875</td>\n      <td>141887.695312</td>\n      <td>116995.117188</td>\n    </tr>\n    <tr>\n      <th>construction_cores</th>\n      <td>117692.038239</td>\n      <td>210269.149804</td>\n      <td>110160.501758</td>\n      <td>13978.310199</td>\n    </tr>\n    <tr>\n      <th>siteworks</th>\n      <td>9638.671875</td>\n      <td>11689.453125</td>\n      <td>4511.718750</td>\n      <td>410.156250</td>\n    </tr>\n    <tr>\n      <th>parking</th>\n      <td>937.500000</td>\n      <td>10312.500000</td>\n      <td>26718.750000</td>\n      <td>22031.250000</td>\n    </tr>\n    <tr>\n      <th>utilities</th>\n      <td>2500.000000</td>\n      <td>2500.000000</td>\n      <td>2500.000000</td>\n      <td>2500.000000</td>\n    </tr>\n  </tbody>\n</table>\n</div>"
     },
     "metadata": {},
     "output_type": "display_data"
    },
    {
     "data": {
      "text/plain": "'Build Costs Subtotals: '"
     },
     "metadata": {},
     "output_type": "display_data"
    },
    {
     "data": {
      "text/plain": "                    2021-06-30\nconstruction_shell    318625.0\nconstruction_cores    452100.0\nsiteworks              26250.0\nparking                60000.0\nutilities              10000.0",
      "text/html": "<div>\n<style scoped>\n    .dataframe tbody tr th:only-of-type {\n        vertical-align: middle;\n    }\n\n    .dataframe tbody tr th {\n        vertical-align: top;\n    }\n\n    .dataframe thead th {\n        text-align: right;\n    }\n</style>\n<table border=\"1\" class=\"dataframe\">\n  <thead>\n    <tr style=\"text-align: right;\">\n      <th></th>\n      <th>2021-06-30</th>\n    </tr>\n  </thead>\n  <tbody>\n    <tr>\n      <th>construction_shell</th>\n      <td>318625.0</td>\n    </tr>\n    <tr>\n      <th>construction_cores</th>\n      <td>452100.0</td>\n    </tr>\n    <tr>\n      <th>siteworks</th>\n      <td>26250.0</td>\n    </tr>\n    <tr>\n      <th>parking</th>\n      <td>60000.0</td>\n    </tr>\n    <tr>\n      <th>utilities</th>\n      <td>10000.0</td>\n    </tr>\n  </tbody>\n</table>\n</div>"
     },
     "metadata": {},
     "output_type": "display_data"
    },
    {
     "data": {
      "text/plain": "'Build Costs Totals: '"
     },
     "metadata": {},
     "output_type": "display_data"
    },
    {
     "data": {
      "text/plain": "                   2021-06-30\nbuild_costs_total    866975.0",
      "text/html": "<div>\n<style scoped>\n    .dataframe tbody tr th:only-of-type {\n        vertical-align: middle;\n    }\n\n    .dataframe tbody tr th {\n        vertical-align: top;\n    }\n\n    .dataframe thead th {\n        text-align: right;\n    }\n</style>\n<table border=\"1\" class=\"dataframe\">\n  <thead>\n    <tr style=\"text-align: right;\">\n      <th></th>\n      <th>2021-06-30</th>\n    </tr>\n  </thead>\n  <tbody>\n    <tr>\n      <th>build_costs_total</th>\n      <td>866975.0</td>\n    </tr>\n  </tbody>\n</table>\n</div>"
     },
     "metadata": {},
     "output_type": "display_data"
    }
   ],
   "source": [
    "# Build Costs:\n",
    "build_costs_index = {\n",
    "    'construction_cost_shell_pergfa': 1250.0,\n",
    "    'construction_cost_cores_pergfa': 3000.0,\n",
    "    'siteworks_cost_pergla': 35.0,\n",
    "    'parking_cost_per_stall': 15000.0,\n",
    "    'utilities_cost': 10000.0\n",
    "}\n",
    "\n",
    "build_costs = models.linear.compose_build_costs(\n",
    "    build_costs_index=build_costs_index,\n",
    "    property_params=property_params,\n",
    "    project_params=project_params\n",
    ")\n",
    "\n",
    "display(\"Build Costs: \")\n",
    "display(build_costs.aggregation.transpose())\n",
    "\n",
    "display(\"Build Costs Subtotals: \")\n",
    "display(build_costs.collapse().aggregation.transpose())\n",
    "\n",
    "display(\"Build Costs Totals: \")\n",
    "display(build_costs.collapse().sum(name='build_costs_total').to_aggregation(periodicity_type=project_params['periodicity_type']).aggregation.transpose())"
   ],
   "metadata": {
    "collapsed": false,
    "pycharm": {
     "name": "#%%\n"
    }
   }
  },
  {
   "cell_type": "markdown",
   "source": [
    "2.4 Compose Financing Costs:"
   ],
   "metadata": {
    "collapsed": false
   }
  },
  {
   "cell_type": "code",
   "execution_count": 34,
   "outputs": [
    {
     "data": {
      "text/plain": "'Financing Costs Calculation: '"
     },
     "metadata": {},
     "output_type": "display_data"
    },
    {
     "data": {
      "text/plain": "               2021-01-31   2021-02-28     2021-03-31     2021-04-30  \\\nloan_drawdown     45000.0  45000.00000  135746.725739  289534.774804   \nloan_balance      45112.5  90337.78125  226649.718256  517474.954293   \ninterest            112.5    225.28125     565.211267    1290.461233   \n\n                  2021-05-31     2021-06-30  \nloan_drawdown  285778.665820  155914.833637  \nloan_balance   805261.754164  963579.529270  \ninterest         2008.134050    2402.941470  ",
      "text/html": "<div>\n<style scoped>\n    .dataframe tbody tr th:only-of-type {\n        vertical-align: middle;\n    }\n\n    .dataframe tbody tr th {\n        vertical-align: top;\n    }\n\n    .dataframe thead th {\n        text-align: right;\n    }\n</style>\n<table border=\"1\" class=\"dataframe\">\n  <thead>\n    <tr style=\"text-align: right;\">\n      <th></th>\n      <th>2021-01-31</th>\n      <th>2021-02-28</th>\n      <th>2021-03-31</th>\n      <th>2021-04-30</th>\n      <th>2021-05-31</th>\n      <th>2021-06-30</th>\n    </tr>\n  </thead>\n  <tbody>\n    <tr>\n      <th>loan_drawdown</th>\n      <td>45000.0</td>\n      <td>45000.00000</td>\n      <td>135746.725739</td>\n      <td>289534.774804</td>\n      <td>285778.665820</td>\n      <td>155914.833637</td>\n    </tr>\n    <tr>\n      <th>loan_balance</th>\n      <td>45112.5</td>\n      <td>90337.78125</td>\n      <td>226649.718256</td>\n      <td>517474.954293</td>\n      <td>805261.754164</td>\n      <td>963579.529270</td>\n    </tr>\n    <tr>\n      <th>interest</th>\n      <td>112.5</td>\n      <td>225.28125</td>\n      <td>565.211267</td>\n      <td>1290.461233</td>\n      <td>2008.134050</td>\n      <td>2402.941470</td>\n    </tr>\n  </tbody>\n</table>\n</div>"
     },
     "metadata": {},
     "output_type": "display_data"
    },
    {
     "data": {
      "text/plain": "'Interest Costs: '"
     },
     "metadata": {},
     "output_type": "display_data"
    },
    {
     "data": {
      "text/plain": "          2021-01-31  2021-02-28  2021-03-31   2021-04-30  2021-05-31  \\\ninterest       112.5   225.28125  565.211267  1290.461233  2008.13405   \n\n          2021-06-30  \ninterest  2402.94147  ",
      "text/html": "<div>\n<style scoped>\n    .dataframe tbody tr th:only-of-type {\n        vertical-align: middle;\n    }\n\n    .dataframe tbody tr th {\n        vertical-align: top;\n    }\n\n    .dataframe thead th {\n        text-align: right;\n    }\n</style>\n<table border=\"1\" class=\"dataframe\">\n  <thead>\n    <tr style=\"text-align: right;\">\n      <th></th>\n      <th>2021-01-31</th>\n      <th>2021-02-28</th>\n      <th>2021-03-31</th>\n      <th>2021-04-30</th>\n      <th>2021-05-31</th>\n      <th>2021-06-30</th>\n    </tr>\n  </thead>\n  <tbody>\n    <tr>\n      <th>interest</th>\n      <td>112.5</td>\n      <td>225.28125</td>\n      <td>565.211267</td>\n      <td>1290.461233</td>\n      <td>2008.13405</td>\n      <td>2402.94147</td>\n    </tr>\n  </tbody>\n</table>\n</div>"
     },
     "metadata": {},
     "output_type": "display_data"
    },
    {
     "data": {
      "text/plain": "'Interest Cost Total: '"
     },
     "metadata": {},
     "output_type": "display_data"
    },
    {
     "data": {
      "text/plain": "          2021-06-30\ninterest  6604.52927",
      "text/html": "<div>\n<style scoped>\n    .dataframe tbody tr th:only-of-type {\n        vertical-align: middle;\n    }\n\n    .dataframe tbody tr th {\n        vertical-align: top;\n    }\n\n    .dataframe thead th {\n        text-align: right;\n    }\n</style>\n<table border=\"1\" class=\"dataframe\">\n  <thead>\n    <tr style=\"text-align: right;\">\n      <th></th>\n      <th>2021-06-30</th>\n    </tr>\n  </thead>\n  <tbody>\n    <tr>\n      <th>interest</th>\n      <td>6604.52927</td>\n    </tr>\n  </tbody>\n</table>\n</div>"
     },
     "metadata": {},
     "output_type": "display_data"
    }
   ],
   "source": [
    "# Finance Costs:\n",
    "finance_costs = models.linear.compose_finance_costs(\n",
    "    project_params=project_params,\n",
    "    preliminaries_costs=preliminaries,\n",
    "    build_costs=build_costs\n",
    ")\n",
    "\n",
    "display(\"Financing Costs Calculation: \")\n",
    "display(finance_costs.aggregation.transpose())#_year.aggregation.transpose())\n",
    "\n",
    "interest_costs = finance_costs.extract('interest').to_aggregation(periodicity_type=project_params['periodicity_type'])\n",
    "\n",
    "display(\"Interest Costs: \")\n",
    "display(interest_costs.aggregation.transpose())\n",
    "\n",
    "display(\"Interest Cost Total: \")\n",
    "display(interest_costs.collapse().aggregation.transpose())"
   ],
   "metadata": {
    "collapsed": false,
    "pycharm": {
     "name": "#%%\n"
    }
   }
  },
  {
   "cell_type": "markdown",
   "source": [
    "2.5 Compose Net Development Costs:"
   ],
   "metadata": {
    "collapsed": false
   }
  },
  {
   "cell_type": "code",
   "execution_count": 35,
   "outputs": [
    {
     "data": {
      "text/plain": "'Net Development Costs: '"
     },
     "metadata": {},
     "output_type": "display_data"
    },
    {
     "data": {
      "text/plain": "                                       2021-01-31   2021-02-28     2021-03-31  \\\ndesign_planning_engineering               10000.0  10000.00000       0.000000   \nsurvey_geotech                             2500.0   2500.00000       0.000000   \npermitting_inspections_certifications      5000.0   5000.00000       0.000000   \nlegal_title_appraisal                      1750.0   1750.00000       0.000000   \ntaxes_insurance                             750.0    750.00000       0.000000   \ndeveloper_project_management              25000.0  25000.00000       0.000000   \nconstruction_shell                            0.0      0.00000    4978.515625   \nconstruction_cores                            0.0      0.00000  117692.038239   \nsiteworks                                     0.0      0.00000    9638.671875   \nparking                                       0.0      0.00000     937.500000   \nutilities                                     0.0      0.00000    2500.000000   \ninterest                                    112.5    225.28125     565.211267   \n\n                                          2021-04-30     2021-05-31  \\\ndesign_planning_engineering                 0.000000       0.000000   \nsurvey_geotech                              0.000000       0.000000   \npermitting_inspections_certifications       0.000000       0.000000   \nlegal_title_appraisal                       0.000000       0.000000   \ntaxes_insurance                             0.000000       0.000000   \ndeveloper_project_management                0.000000       0.000000   \nconstruction_shell                      54763.671875  141887.695312   \nconstruction_cores                     210269.149804  110160.501758   \nsiteworks                               11689.453125    4511.718750   \nparking                                 10312.500000   26718.750000   \nutilities                                2500.000000    2500.000000   \ninterest                                 1290.461233    2008.134050   \n\n                                          2021-06-30  \ndesign_planning_engineering                 0.000000  \nsurvey_geotech                              0.000000  \npermitting_inspections_certifications       0.000000  \nlegal_title_appraisal                       0.000000  \ntaxes_insurance                             0.000000  \ndeveloper_project_management                0.000000  \nconstruction_shell                     116995.117188  \nconstruction_cores                      13978.310199  \nsiteworks                                 410.156250  \nparking                                 22031.250000  \nutilities                                2500.000000  \ninterest                                 2402.941470  ",
      "text/html": "<div>\n<style scoped>\n    .dataframe tbody tr th:only-of-type {\n        vertical-align: middle;\n    }\n\n    .dataframe tbody tr th {\n        vertical-align: top;\n    }\n\n    .dataframe thead th {\n        text-align: right;\n    }\n</style>\n<table border=\"1\" class=\"dataframe\">\n  <thead>\n    <tr style=\"text-align: right;\">\n      <th></th>\n      <th>2021-01-31</th>\n      <th>2021-02-28</th>\n      <th>2021-03-31</th>\n      <th>2021-04-30</th>\n      <th>2021-05-31</th>\n      <th>2021-06-30</th>\n    </tr>\n  </thead>\n  <tbody>\n    <tr>\n      <th>design_planning_engineering</th>\n      <td>10000.0</td>\n      <td>10000.00000</td>\n      <td>0.000000</td>\n      <td>0.000000</td>\n      <td>0.000000</td>\n      <td>0.000000</td>\n    </tr>\n    <tr>\n      <th>survey_geotech</th>\n      <td>2500.0</td>\n      <td>2500.00000</td>\n      <td>0.000000</td>\n      <td>0.000000</td>\n      <td>0.000000</td>\n      <td>0.000000</td>\n    </tr>\n    <tr>\n      <th>permitting_inspections_certifications</th>\n      <td>5000.0</td>\n      <td>5000.00000</td>\n      <td>0.000000</td>\n      <td>0.000000</td>\n      <td>0.000000</td>\n      <td>0.000000</td>\n    </tr>\n    <tr>\n      <th>legal_title_appraisal</th>\n      <td>1750.0</td>\n      <td>1750.00000</td>\n      <td>0.000000</td>\n      <td>0.000000</td>\n      <td>0.000000</td>\n      <td>0.000000</td>\n    </tr>\n    <tr>\n      <th>taxes_insurance</th>\n      <td>750.0</td>\n      <td>750.00000</td>\n      <td>0.000000</td>\n      <td>0.000000</td>\n      <td>0.000000</td>\n      <td>0.000000</td>\n    </tr>\n    <tr>\n      <th>developer_project_management</th>\n      <td>25000.0</td>\n      <td>25000.00000</td>\n      <td>0.000000</td>\n      <td>0.000000</td>\n      <td>0.000000</td>\n      <td>0.000000</td>\n    </tr>\n    <tr>\n      <th>construction_shell</th>\n      <td>0.0</td>\n      <td>0.00000</td>\n      <td>4978.515625</td>\n      <td>54763.671875</td>\n      <td>141887.695312</td>\n      <td>116995.117188</td>\n    </tr>\n    <tr>\n      <th>construction_cores</th>\n      <td>0.0</td>\n      <td>0.00000</td>\n      <td>117692.038239</td>\n      <td>210269.149804</td>\n      <td>110160.501758</td>\n      <td>13978.310199</td>\n    </tr>\n    <tr>\n      <th>siteworks</th>\n      <td>0.0</td>\n      <td>0.00000</td>\n      <td>9638.671875</td>\n      <td>11689.453125</td>\n      <td>4511.718750</td>\n      <td>410.156250</td>\n    </tr>\n    <tr>\n      <th>parking</th>\n      <td>0.0</td>\n      <td>0.00000</td>\n      <td>937.500000</td>\n      <td>10312.500000</td>\n      <td>26718.750000</td>\n      <td>22031.250000</td>\n    </tr>\n    <tr>\n      <th>utilities</th>\n      <td>0.0</td>\n      <td>0.00000</td>\n      <td>2500.000000</td>\n      <td>2500.000000</td>\n      <td>2500.000000</td>\n      <td>2500.000000</td>\n    </tr>\n    <tr>\n      <th>interest</th>\n      <td>112.5</td>\n      <td>225.28125</td>\n      <td>565.211267</td>\n      <td>1290.461233</td>\n      <td>2008.134050</td>\n      <td>2402.941470</td>\n    </tr>\n  </tbody>\n</table>\n</div>"
     },
     "metadata": {},
     "output_type": "display_data"
    },
    {
     "data": {
      "text/plain": "'Net Development Costs Subtotals: '"
     },
     "metadata": {},
     "output_type": "display_data"
    },
    {
     "data": {
      "text/plain": "                                         2021-06-30\ndesign_planning_engineering             20000.00000\nsurvey_geotech                           5000.00000\npermitting_inspections_certifications   10000.00000\nlegal_title_appraisal                    3500.00000\ntaxes_insurance                          1500.00000\ndeveloper_project_management            50000.00000\nconstruction_shell                     318625.00000\nconstruction_cores                     452100.00000\nsiteworks                               26250.00000\nparking                                 60000.00000\nutilities                               10000.00000\ninterest                                 6604.52927",
      "text/html": "<div>\n<style scoped>\n    .dataframe tbody tr th:only-of-type {\n        vertical-align: middle;\n    }\n\n    .dataframe tbody tr th {\n        vertical-align: top;\n    }\n\n    .dataframe thead th {\n        text-align: right;\n    }\n</style>\n<table border=\"1\" class=\"dataframe\">\n  <thead>\n    <tr style=\"text-align: right;\">\n      <th></th>\n      <th>2021-06-30</th>\n    </tr>\n  </thead>\n  <tbody>\n    <tr>\n      <th>design_planning_engineering</th>\n      <td>20000.00000</td>\n    </tr>\n    <tr>\n      <th>survey_geotech</th>\n      <td>5000.00000</td>\n    </tr>\n    <tr>\n      <th>permitting_inspections_certifications</th>\n      <td>10000.00000</td>\n    </tr>\n    <tr>\n      <th>legal_title_appraisal</th>\n      <td>3500.00000</td>\n    </tr>\n    <tr>\n      <th>taxes_insurance</th>\n      <td>1500.00000</td>\n    </tr>\n    <tr>\n      <th>developer_project_management</th>\n      <td>50000.00000</td>\n    </tr>\n    <tr>\n      <th>construction_shell</th>\n      <td>318625.00000</td>\n    </tr>\n    <tr>\n      <th>construction_cores</th>\n      <td>452100.00000</td>\n    </tr>\n    <tr>\n      <th>siteworks</th>\n      <td>26250.00000</td>\n    </tr>\n    <tr>\n      <th>parking</th>\n      <td>60000.00000</td>\n    </tr>\n    <tr>\n      <th>utilities</th>\n      <td>10000.00000</td>\n    </tr>\n    <tr>\n      <th>interest</th>\n      <td>6604.52927</td>\n    </tr>\n  </tbody>\n</table>\n</div>"
     },
     "metadata": {},
     "output_type": "display_data"
    },
    {
     "data": {
      "text/plain": "'Net Development Costs Total: '"
     },
     "metadata": {},
     "output_type": "display_data"
    },
    {
     "data": {
      "text/plain": "                               2021-06-30\nnet_development_costs_total  963579.52927",
      "text/html": "<div>\n<style scoped>\n    .dataframe tbody tr th:only-of-type {\n        vertical-align: middle;\n    }\n\n    .dataframe tbody tr th {\n        vertical-align: top;\n    }\n\n    .dataframe thead th {\n        text-align: right;\n    }\n</style>\n<table border=\"1\" class=\"dataframe\">\n  <thead>\n    <tr style=\"text-align: right;\">\n      <th></th>\n      <th>2021-06-30</th>\n    </tr>\n  </thead>\n  <tbody>\n    <tr>\n      <th>net_development_costs_total</th>\n      <td>963579.52927</td>\n    </tr>\n  </tbody>\n</table>\n</div>"
     },
     "metadata": {},
     "output_type": "display_data"
    }
   ],
   "source": [
    "net_development_costs = modules.flux.Aggregation.merge(\n",
    "    aggregations=[preliminaries, build_costs, interest_costs],\n",
    "    name='net_development_costs',\n",
    "    periodicity_type=project_params['periodicity_type'])\n",
    "\n",
    "display(\"Net Development Costs: \")\n",
    "display(net_development_costs.aggregation.transpose())\n",
    "\n",
    "display(\"Net Development Costs Subtotals: \")\n",
    "display(net_development_costs.collapse().aggregation.transpose())\n",
    "\n",
    "display(\"Net Development Costs Total: \")\n",
    "display(net_development_costs.collapse().sum(name='net_development_costs_total').to_aggregation(periodicity_type=project_params['periodicity_type']).aggregation.transpose())\n"
   ],
   "metadata": {
    "collapsed": false,
    "pycharm": {
     "name": "#%%\n"
    }
   }
  },
  {
   "cell_type": "markdown",
   "source": [
    "3 Compose Revenues:"
   ],
   "metadata": {
    "collapsed": false
   }
  },
  {
   "cell_type": "code",
   "execution_count": 36,
   "outputs": [
    {
     "data": {
      "text/plain": "'Revenues: '"
     },
     "metadata": {},
     "output_type": "display_data"
    },
    {
     "data": {
      "text/plain": "              2021-07-31    2021-08-31     2021-09-30\nsales      491452.160494  1.358721e+06  491452.160494\nsales_fee   -9829.043210 -2.717441e+04   -9829.043210",
      "text/html": "<div>\n<style scoped>\n    .dataframe tbody tr th:only-of-type {\n        vertical-align: middle;\n    }\n\n    .dataframe tbody tr th {\n        vertical-align: top;\n    }\n\n    .dataframe thead th {\n        text-align: right;\n    }\n</style>\n<table border=\"1\" class=\"dataframe\">\n  <thead>\n    <tr style=\"text-align: right;\">\n      <th></th>\n      <th>2021-07-31</th>\n      <th>2021-08-31</th>\n      <th>2021-09-30</th>\n    </tr>\n  </thead>\n  <tbody>\n    <tr>\n      <th>sales</th>\n      <td>491452.160494</td>\n      <td>1.358721e+06</td>\n      <td>491452.160494</td>\n    </tr>\n    <tr>\n      <th>sales_fee</th>\n      <td>-9829.043210</td>\n      <td>-2.717441e+04</td>\n      <td>-9829.043210</td>\n    </tr>\n  </tbody>\n</table>\n</div>"
     },
     "metadata": {},
     "output_type": "display_data"
    },
    {
     "data": {
      "text/plain": "'Revenues Subtotals: '"
     },
     "metadata": {},
     "output_type": "display_data"
    },
    {
     "data": {
      "text/plain": "           2021-09-30\nsales       2341625.0\nsales_fee    -46832.5",
      "text/html": "<div>\n<style scoped>\n    .dataframe tbody tr th:only-of-type {\n        vertical-align: middle;\n    }\n\n    .dataframe tbody tr th {\n        vertical-align: top;\n    }\n\n    .dataframe thead th {\n        text-align: right;\n    }\n</style>\n<table border=\"1\" class=\"dataframe\">\n  <thead>\n    <tr style=\"text-align: right;\">\n      <th></th>\n      <th>2021-09-30</th>\n    </tr>\n  </thead>\n  <tbody>\n    <tr>\n      <th>sales</th>\n      <td>2341625.0</td>\n    </tr>\n    <tr>\n      <th>sales_fee</th>\n      <td>-46832.5</td>\n    </tr>\n  </tbody>\n</table>\n</div>"
     },
     "metadata": {},
     "output_type": "display_data"
    },
    {
     "data": {
      "text/plain": "'Revenues Totals: '"
     },
     "metadata": {},
     "output_type": "display_data"
    },
    {
     "data": {
      "text/plain": "                2021-09-30\nrevenues_total   2294792.5",
      "text/html": "<div>\n<style scoped>\n    .dataframe tbody tr th:only-of-type {\n        vertical-align: middle;\n    }\n\n    .dataframe tbody tr th {\n        vertical-align: top;\n    }\n\n    .dataframe thead th {\n        text-align: right;\n    }\n</style>\n<table border=\"1\" class=\"dataframe\">\n  <thead>\n    <tr style=\"text-align: right;\">\n      <th></th>\n      <th>2021-09-30</th>\n    </tr>\n  </thead>\n  <tbody>\n    <tr>\n      <th>revenues_total</th>\n      <td>2294792.5</td>\n    </tr>\n  </tbody>\n</table>\n</div>"
     },
     "metadata": {},
     "output_type": "display_data"
    }
   ],
   "source": [
    "revenues = models.linear.compose_revenues(\n",
    "    property_params=property_params,\n",
    "    project_params=project_params)\n",
    "\n",
    "display(\"Revenues: \")\n",
    "display(revenues.aggregation.transpose())\n",
    "\n",
    "display(\"Revenues Subtotals: \")\n",
    "display(revenues.collapse().aggregation.transpose())\n",
    "\n",
    "display(\"Revenues Totals: \")\n",
    "display(revenues.collapse().sum(name='revenues_total').to_aggregation(periodicity_type=project_params['periodicity_type']).aggregation.transpose())"
   ],
   "metadata": {
    "collapsed": false,
    "pycharm": {
     "name": "#%%\n"
    }
   }
  },
  {
   "cell_type": "markdown",
   "source": [
    "4 Net Development Revenue:"
   ],
   "metadata": {
    "collapsed": false
   }
  },
  {
   "cell_type": "code",
   "execution_count": 37,
   "outputs": [
    {
     "data": {
      "text/plain": "'Net Development Revenue: '"
     },
     "metadata": {},
     "output_type": "display_data"
    },
    {
     "data": {
      "text/plain": "                       2021-01-31   2021-02-28     2021-03-31     2021-04-30  \\\nnet_development_costs    -45112.5 -45225.28125 -136311.937006 -290825.236037   \nrevenues                      0.0      0.00000       0.000000       0.000000   \n\n                          2021-05-31     2021-06-30     2021-07-31  \\\nnet_development_costs -287786.799871 -158317.775106       0.000000   \nrevenues                    0.000000       0.000000  481623.117284   \n\n                         2021-08-31     2021-09-30  \nnet_development_costs  0.000000e+00       0.000000  \nrevenues               1.331546e+06  481623.117284  ",
      "text/html": "<div>\n<style scoped>\n    .dataframe tbody tr th:only-of-type {\n        vertical-align: middle;\n    }\n\n    .dataframe tbody tr th {\n        vertical-align: top;\n    }\n\n    .dataframe thead th {\n        text-align: right;\n    }\n</style>\n<table border=\"1\" class=\"dataframe\">\n  <thead>\n    <tr style=\"text-align: right;\">\n      <th></th>\n      <th>2021-01-31</th>\n      <th>2021-02-28</th>\n      <th>2021-03-31</th>\n      <th>2021-04-30</th>\n      <th>2021-05-31</th>\n      <th>2021-06-30</th>\n      <th>2021-07-31</th>\n      <th>2021-08-31</th>\n      <th>2021-09-30</th>\n    </tr>\n  </thead>\n  <tbody>\n    <tr>\n      <th>net_development_costs</th>\n      <td>-45112.5</td>\n      <td>-45225.28125</td>\n      <td>-136311.937006</td>\n      <td>-290825.236037</td>\n      <td>-287786.799871</td>\n      <td>-158317.775106</td>\n      <td>0.000000</td>\n      <td>0.000000e+00</td>\n      <td>0.000000</td>\n    </tr>\n    <tr>\n      <th>revenues</th>\n      <td>0.0</td>\n      <td>0.00000</td>\n      <td>0.000000</td>\n      <td>0.000000</td>\n      <td>0.000000</td>\n      <td>0.000000</td>\n      <td>481623.117284</td>\n      <td>1.331546e+06</td>\n      <td>481623.117284</td>\n    </tr>\n  </tbody>\n</table>\n</div>"
     },
     "metadata": {},
     "output_type": "display_data"
    },
    {
     "data": {
      "text/plain": "                         2021-01-31   2021-02-28     2021-03-31  \\\nnet_development_revenue    -45112.5 -45225.28125 -136311.937006   \n\n                            2021-04-30     2021-05-31     2021-06-30  \\\nnet_development_revenue -290825.236037 -287786.799871 -158317.775106   \n\n                            2021-07-31    2021-08-31     2021-09-30  \nnet_development_revenue  481623.117284  1.331546e+06  481623.117284  ",
      "text/html": "<div>\n<style scoped>\n    .dataframe tbody tr th:only-of-type {\n        vertical-align: middle;\n    }\n\n    .dataframe tbody tr th {\n        vertical-align: top;\n    }\n\n    .dataframe thead th {\n        text-align: right;\n    }\n</style>\n<table border=\"1\" class=\"dataframe\">\n  <thead>\n    <tr style=\"text-align: right;\">\n      <th></th>\n      <th>2021-01-31</th>\n      <th>2021-02-28</th>\n      <th>2021-03-31</th>\n      <th>2021-04-30</th>\n      <th>2021-05-31</th>\n      <th>2021-06-30</th>\n      <th>2021-07-31</th>\n      <th>2021-08-31</th>\n      <th>2021-09-30</th>\n    </tr>\n  </thead>\n  <tbody>\n    <tr>\n      <th>net_development_revenue</th>\n      <td>-45112.5</td>\n      <td>-45225.28125</td>\n      <td>-136311.937006</td>\n      <td>-290825.236037</td>\n      <td>-287786.799871</td>\n      <td>-158317.775106</td>\n      <td>481623.117284</td>\n      <td>1.331546e+06</td>\n      <td>481623.117284</td>\n    </tr>\n  </tbody>\n</table>\n</div>"
     },
     "metadata": {},
     "output_type": "display_data"
    },
    {
     "data": {
      "text/plain": "                           2021-09-30\nnet_development_revenue  1.331213e+06",
      "text/html": "<div>\n<style scoped>\n    .dataframe tbody tr th:only-of-type {\n        vertical-align: middle;\n    }\n\n    .dataframe tbody tr th {\n        vertical-align: top;\n    }\n\n    .dataframe thead th {\n        text-align: right;\n    }\n</style>\n<table border=\"1\" class=\"dataframe\">\n  <thead>\n    <tr style=\"text-align: right;\">\n      <th></th>\n      <th>2021-09-30</th>\n    </tr>\n  </thead>\n  <tbody>\n    <tr>\n      <th>net_development_revenue</th>\n      <td>1.331213e+06</td>\n    </tr>\n  </tbody>\n</table>\n</div>"
     },
     "metadata": {},
     "output_type": "display_data"
    }
   ],
   "source": [
    "ndr_aggregation = modules.flux.Aggregation(\n",
    "    name='net_development_revenue',\n",
    "    affluents=[net_development_costs.sum().invert(), revenues.sum()],\n",
    "    periodicity_type=project_params['periodicity_type'])\n",
    "\n",
    "display(\"Net Development Revenue: \")\n",
    "display(ndr_aggregation.aggregation.transpose())\n",
    "\n",
    "net_development_revenue = ndr_aggregation.sum()\n",
    "display(net_development_revenue.to_aggregation(periodicity_type=project_params['periodicity_type']).aggregation.transpose())\n",
    "display(net_development_revenue.sum().to_aggregation(periodicity_type=project_params['periodicity_type']).aggregation.transpose())"
   ],
   "metadata": {
    "collapsed": false,
    "pycharm": {
     "name": "#%%\n"
    }
   }
  },
  {
   "cell_type": "markdown",
   "source": [
    "5 Project-level Returns:"
   ],
   "metadata": {
    "collapsed": false
   }
  },
  {
   "cell_type": "code",
   "execution_count": 38,
   "outputs": [
    {
     "data": {
      "text/plain": "'Residual Land Value: 1138497.0648761098'"
     },
     "metadata": {},
     "output_type": "display_data"
    },
    {
     "data": {
      "text/plain": "                           2021-01-31   2021-02-28     2021-03-31  \\\nnet_development_revenue -1.183610e+06 -45225.28125 -136311.937006   \n\n                            2021-04-30     2021-05-31     2021-06-30  \\\nnet_development_revenue -290825.236037 -287786.799871 -158317.775106   \n\n                            2021-07-31    2021-08-31     2021-09-30  \nnet_development_revenue  481623.117284  1.331546e+06  481623.117284  ",
      "text/html": "<div>\n<style scoped>\n    .dataframe tbody tr th:only-of-type {\n        vertical-align: middle;\n    }\n\n    .dataframe tbody tr th {\n        vertical-align: top;\n    }\n\n    .dataframe thead th {\n        text-align: right;\n    }\n</style>\n<table border=\"1\" class=\"dataframe\">\n  <thead>\n    <tr style=\"text-align: right;\">\n      <th></th>\n      <th>2021-01-31</th>\n      <th>2021-02-28</th>\n      <th>2021-03-31</th>\n      <th>2021-04-30</th>\n      <th>2021-05-31</th>\n      <th>2021-06-30</th>\n      <th>2021-07-31</th>\n      <th>2021-08-31</th>\n      <th>2021-09-30</th>\n    </tr>\n  </thead>\n  <tbody>\n    <tr>\n      <th>net_development_revenue</th>\n      <td>-1.183610e+06</td>\n      <td>-45225.28125</td>\n      <td>-136311.937006</td>\n      <td>-290825.236037</td>\n      <td>-287786.799871</td>\n      <td>-158317.775106</td>\n      <td>481623.117284</td>\n      <td>1.331546e+06</td>\n      <td>481623.117284</td>\n    </tr>\n  </tbody>\n</table>\n</div>"
     },
     "metadata": {},
     "output_type": "display_data"
    },
    {
     "data": {
      "text/plain": "'Project IRR: 0.20993722371668785'"
     },
     "metadata": {},
     "output_type": "display_data"
    }
   ],
   "source": [
    "margin = (project_params['margin_on_cost_reqd'] * net_development_costs.collapse().sum().movements)[0]\n",
    "residual_land_value = net_development_revenue.sum().movements[0] - margin\n",
    "display(\"Residual Land Value: \" + str(residual_land_value))\n",
    "\n",
    "investment_flow = modules.flux.Flow.from_dict(\n",
    "    name='investment',\n",
    "    movements={project_params['start_date']: (-1) * residual_land_value },\n",
    "    units=project_params['units'])\n",
    "ndr_aggregation.append(affluents=[investment_flow])\n",
    "\n",
    "net_development_flow = ndr_aggregation.sum()\n",
    "display(net_development_flow.to_aggregation(periodicity_type=project_params['periodicity_type']).aggregation.transpose())\n",
    "\n",
    "irr = net_development_flow.xirr()\n",
    "display(\"Project IRR: \" + str(irr))\n",
    "\n"
   ],
   "metadata": {
    "collapsed": false,
    "pycharm": {
     "name": "#%%\n"
    }
   }
  },
  {
   "cell_type": "markdown",
   "source": [
    "<a style='text-decoration:none;line-height:16px;display:flex;color:#5B5B62;padding:10px;justify-content:end;' href='https://deepnote.com?utm_source=created-in-deepnote-cell&projectId=9754a48c-b622-40c5-97bd-64d35f620103' target=\"_blank\">\n",
    "<img alt='Created in deepnote.com' style='display:inline;max-height:16px;margin:0px;margin-right:7.5px;' src='data:image/svg+xml;base64,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' > </img>\n",
    "Created in <span style='font-weight:600;margin-left:4px;'>Deepnote</span></a>\n",
    "\n"
   ],
   "metadata": {
    "collapsed": false
   }
  }
 ],
 "metadata": {
  "kernelspec": {
   "display_name": "Python 3",
   "language": "python",
   "name": "python3"
  },
  "language_info": {
   "codemirror_mode": {
    "name": "ipython",
    "version": 2
   },
   "file_extension": ".py",
   "mimetype": "text/x-python",
   "name": "python",
   "nbconvert_exporter": "python",
   "pygments_lexer": "ipython2",
   "version": "2.7.6"
  }
 },
 "nbformat": 4,
 "nbformat_minor": 0
}