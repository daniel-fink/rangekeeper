{
 "cells": [
  {
   "cell_type": "markdown",
   "metadata": {
    "collapsed": false
   },
   "source": [
    "# Deterministic Scenario Analysis\n",
    "This document showcases how `Rangekeeper` can easily produce alternate model versions (scenarios)"
   ]
  },
  {
   "cell_type": "markdown",
   "metadata": {
    "collapsed": false
   },
   "source": [
    "Given the original deterministic proforma (Table 1.1):"
   ]
  },
  {
   "cell_type": "code",
   "execution_count": 1,
   "metadata": {
    "collapsed": false
   },
   "outputs": [
    {
     "ename": "ModuleNotFoundError",
     "evalue": "No module named 'periodicity'",
     "output_type": "error",
     "traceback": [
      "\u001b[0;31m---------------------------------------------------------------------------\u001b[0m",
      "\u001b[0;31mModuleNotFoundError\u001b[0m                       Traceback (most recent call last)",
      "Cell \u001b[0;32mIn[1], line 3\u001b[0m\n\u001b[1;32m      1\u001b[0m \u001b[38;5;28;01mimport\u001b[39;00m \u001b[38;5;21;01mpandas\u001b[39;00m \u001b[38;5;28;01mas\u001b[39;00m \u001b[38;5;21;01mpd\u001b[39;00m\n\u001b[1;32m      2\u001b[0m \u001b[38;5;28;01mimport\u001b[39;00m \u001b[38;5;21;01mpint\u001b[39;00m\n\u001b[0;32m----> 3\u001b[0m \u001b[38;5;28;01mimport\u001b[39;00m \u001b[38;5;21;01mrangekeeper\u001b[39;00m \u001b[38;5;28;01mas\u001b[39;00m \u001b[38;5;21;01mrk\u001b[39;00m\n",
      "File \u001b[0;32m/Volumes/Data/Projects/Rangekeeper/rangekeeper/__init__.py:13\u001b[0m\n\u001b[1;32m     10\u001b[0m \u001b[38;5;28;01mfrom\u001b[39;00m \u001b[38;5;21;01m.\u001b[39;00m \u001b[38;5;28;01mimport\u001b[39;00m segmentation \u001b[38;5;28;01mas\u001b[39;00m segmentation\n\u001b[1;32m     11\u001b[0m \u001b[38;5;28;01mfrom\u001b[39;00m \u001b[38;5;21;01m.\u001b[39;00m \u001b[38;5;28;01mimport\u001b[39;00m space \u001b[38;5;28;01mas\u001b[39;00m space\n\u001b[0;32m---> 13\u001b[0m \u001b[38;5;28;01mfrom\u001b[39;00m \u001b[38;5;21;01m.\u001b[39;00m \u001b[38;5;28;01mimport\u001b[39;00m dynamics \u001b[38;5;28;01mas\u001b[39;00m dynamics\n\u001b[1;32m     15\u001b[0m \u001b[38;5;28;01mfrom\u001b[39;00m \u001b[38;5;21;01m.\u001b[39;00m \u001b[38;5;28;01mimport\u001b[39;00m models \u001b[38;5;28;01mas\u001b[39;00m models\n",
      "File \u001b[0;32m/Volumes/Data/Projects/Rangekeeper/rangekeeper/dynamics/__init__.py:1\u001b[0m\n\u001b[0;32m----> 1\u001b[0m \u001b[38;5;28;01mfrom\u001b[39;00m \u001b[38;5;21;01m.\u001b[39;00m \u001b[38;5;28;01mimport\u001b[39;00m cyclicality \u001b[38;5;28;01mas\u001b[39;00m cyclicality\n\u001b[1;32m      2\u001b[0m \u001b[38;5;28;01mfrom\u001b[39;00m \u001b[38;5;21;01m.\u001b[39;00m \u001b[38;5;28;01mimport\u001b[39;00m market \u001b[38;5;28;01mas\u001b[39;00m market\n\u001b[1;32m      3\u001b[0m \u001b[38;5;28;01mfrom\u001b[39;00m \u001b[38;5;21;01m.\u001b[39;00m \u001b[38;5;28;01mimport\u001b[39;00m trend \u001b[38;5;28;01mas\u001b[39;00m trend\n",
      "File \u001b[0;32m/Volumes/Data/Projects/Rangekeeper/rangekeeper/dynamics/cyclicality.py:7\u001b[0m\n\u001b[1;32m      4\u001b[0m \u001b[38;5;28;01mimport\u001b[39;00m \u001b[38;5;21;01mpandas\u001b[39;00m \u001b[38;5;28;01mas\u001b[39;00m \u001b[38;5;21;01mpd\u001b[39;00m\n\u001b[1;32m      5\u001b[0m \u001b[38;5;28;01mfrom\u001b[39;00m \u001b[38;5;21;01mnumba\u001b[39;00m \u001b[38;5;28;01mimport\u001b[39;00m jit\n\u001b[0;32m----> 7\u001b[0m \u001b[38;5;28;01mimport\u001b[39;00m \u001b[38;5;21;01mperiodicity\u001b[39;00m\n\u001b[1;32m      8\u001b[0m \u001b[38;5;28;01mimport\u001b[39;00m \u001b[38;5;21;01mrangekeeper\u001b[39;00m \u001b[38;5;28;01mas\u001b[39;00m \u001b[38;5;21;01mrk\u001b[39;00m\n\u001b[1;32m     11\u001b[0m \u001b[38;5;28;01mclass\u001b[39;00m \u001b[38;5;21;01mEnumerate\u001b[39;00m:\n",
      "\u001b[0;31mModuleNotFoundError\u001b[0m: No module named 'periodicity'"
     ]
    }
   ],
   "source": [
    "import pandas as pd\n",
    "import pint\n",
    "import rangekeeper as rk"
   ]
  },
  {
   "cell_type": "markdown",
   "metadata": {
    "collapsed": false
   },
   "source": [
    "## Set up the proforma to accept a dictionary of input parameters:\n",
    "In order to quickly create alternate scenarios, we can create a class function that takes a dictionary of parameters as input. This allows us to easily create alternate scenarios by simply changing the parameters in the dictionary."
   ]
  },
  {
   "cell_type": "markdown",
   "metadata": {
    "collapsed": false
   },
   "source": [
    "### Set up proforma parameters:"
   ]
  },
  {
   "cell_type": "code",
   "execution_count": 44,
   "metadata": {
    "collapsed": false
   },
   "outputs": [],
   "source": [
    "currency = rk.measure.register_currency('USD', registry=rk.measure.Index.registry)\n",
    "params = {\n",
    "    'start_date': pd.Timestamp('2001-01-01'),\n",
    "    'num_periods': 10,\n",
    "    'period_type': rk.periodicity.Type.YEAR,\n",
    "    'acquisition_cost': -1000 * currency.units,\n",
    "    'initial_income': 100 * currency.units,\n",
    "    'growth_rate': 0.02,\n",
    "    'vacancy_rate': 0.05,\n",
    "    'opex_pgi_ratio': 0.35,\n",
    "    'capex_pgi_ratio': 0.1,\n",
    "    'exit_caprate': 0.05,\n",
    "    'discount_rate': 0.07,\n",
    "\n",
    "    # Table 4.1 has proformas that absorb an additional straight-line income flow:\n",
    "    'addl_pgi_init': 0,\n",
    "    'addl_pgi_slope': 0,\n",
    "    }"
   ]
  },
  {
   "cell_type": "code",
   "execution_count": 45,
   "metadata": {
    "collapsed": false
   },
   "outputs": [],
   "source": [
    "class Model:\n",
    "    def __init__(self, params: dict):\n",
    "        self.calc_span = rk.span.Span.from_num_periods(\n",
    "            name='Span to Calculate Reversion',\n",
    "            date=params['start_date'],\n",
    "            period_type=params['period_type'],\n",
    "            num_periods=params['num_periods'] + 1)\n",
    "        self.acq_span = rk.span.Span.from_num_periods(\n",
    "            name='Acquisition Span',\n",
    "            date=rk.periodicity.date_offset(\n",
    "                params['start_date'],\n",
    "                num_periods=-1,\n",
    "                period_type=params['period_type']),\n",
    "            period_type=params['period_type'],\n",
    "            num_periods=1)\n",
    "        self.span = self.calc_span.shift(\n",
    "            name='Span',\n",
    "            num_periods=-1,\n",
    "            period_type=params['period_type'],\n",
    "            bound='end')\n",
    "\n",
    "        self.acquisition = rk.flux.Flow.from_projection(\n",
    "            name='Acquisition',\n",
    "            value=params['acquisition_cost'],\n",
    "            proj=rk.projection.Distribution(\n",
    "                form=rk.distribution.Uniform(),\n",
    "                sequence=self.acq_span.to_index(period_type=params['period_type'])),\n",
    "            units=currency.units)\n",
    "\n",
    "        self.base_pgi = rk.flux.Flow.from_projection(\n",
    "            name='Base Potential Gross Income',\n",
    "            value=params['initial_income'],\n",
    "            proj=rk.projection.Extrapolation(\n",
    "            form=rk.extrapolation.Compounding(\n",
    "                rate=params['growth_rate']),\n",
    "            sequence=self.calc_span.to_index(period_type=params['period_type'])),\n",
    "            units=currency.units)\n",
    "\n",
    "        # Table 4.1 has proformas that absorb an additional straight-line income flow\n",
    "        self.addl_pgi = rk.flux.Flow.from_projection(\n",
    "            name='Additional Potential Gross Income',\n",
    "            value=params['addl_pgi_init'],\n",
    "            proj=rk.projection.Extrapolation(\n",
    "                form=rk.extrapolation.StraightLine(\n",
    "                    slope=params['addl_pgi_slope']),\n",
    "                sequence=self.calc_span.to_index(period_type=params['period_type'])),\n",
    "            units=currency.units)\n",
    "\n",
    "        self.pgi = rk.flux.Stream(\n",
    "            name='Potential Gross Income',\n",
    "            flows=[self.base_pgi, self.addl_pgi],\n",
    "            period_type=params['period_type']).sum()\n",
    "\n",
    "        self.vacancy = rk.flux.Flow(\n",
    "            name='Vacancy Allowance',\n",
    "            movements=self.pgi.movements * -params['vacancy_rate'],\n",
    "            units=currency.units)\n",
    "        self.egi = rk.flux.Stream(\n",
    "            name='Effective Gross Income',\n",
    "            flows=[self.pgi, self.vacancy],\n",
    "            period_type=params['period_type']).sum()\n",
    "        self.opex = rk.flux.Flow(\n",
    "            name='Operating Expenses',\n",
    "            movements=self.pgi.movements * params['opex_pgi_ratio'],\n",
    "            units=currency.units).invert()\n",
    "        self.noi = rk.flux.Stream(\n",
    "            name='Net Operating Income',\n",
    "            flows=[self.egi, self.opex],\n",
    "            period_type=params['period_type']).sum()\n",
    "        self.capex = rk.flux.Flow(\n",
    "            name='Capital Expenditures',\n",
    "            movements=self.pgi.movements * params['capex_pgi_ratio'],\n",
    "            units=currency.units).invert()\n",
    "        self.net_cfs = rk.flux.Stream(\n",
    "            name='Net Annual Cashflows',\n",
    "            flows=[self.noi, self.capex],\n",
    "            period_type=params['period_type']).sum()\n",
    "\n",
    "        self.reversions = rk.flux.Flow(\n",
    "            name='Reversions',\n",
    "            movements=self.net_cfs.movements.shift(periods=-1).dropna() / params['exit_caprate'],\n",
    "            units=currency.units).trim_to_span(span=self.span)\n",
    "        self.net_cfs = self.net_cfs.trim_to_span(span=self.span)\n",
    "\n",
    "        pvs = []\n",
    "        irrs = []\n",
    "        for period in self.net_cfs.movements.index:\n",
    "            cumulative_net_cfs = self.net_cfs.trim_to_span(\n",
    "                span=rk.span.Span(\n",
    "                    name='Cumulative Net Cashflow Span',\n",
    "                    start_date=params['start_date'],\n",
    "                    end_date=period))\n",
    "            reversion = rk.flux.Flow(\n",
    "                movements=self.reversions.movements.loc[[period]],\n",
    "                units=currency.units)\n",
    "            cumulative_net_cfs_with_rev = rk.flux.Stream(\n",
    "                name='Net Cashflow with Reversion',\n",
    "                flows=[cumulative_net_cfs, reversion],\n",
    "                period_type=params['period_type'])\n",
    "            pv = cumulative_net_cfs_with_rev.sum().pv(\n",
    "                name='Present Value',\n",
    "                period_type=params['period_type'],\n",
    "                discount_rate=params['discount_rate'])\n",
    "            pvs.append(pv.collapse().movements)\n",
    "\n",
    "            incl_acq = rk.flux.Stream(\n",
    "                name='Net Cashflow with Reversion and Acquisition',\n",
    "                flows=[cumulative_net_cfs_with_rev.sum(), self.acquisition],\n",
    "                period_type=params['period_type'])\n",
    "\n",
    "            irrs.append(round(incl_acq.sum().xirr(), 4))\n",
    "\n",
    "        self.pvs = rk.flux.Flow(\n",
    "            name='Present Values',\n",
    "            movements=pd.concat(pvs),\n",
    "            units=currency.units)\n",
    "        self.irrs = rk.flux.Flow(\n",
    "            name='Internal Rates of Return',\n",
    "            movements=pd.Series(irrs, index=self.pvs.movements.index),\n",
    "            units=None)\n"
   ]
  },
  {
   "cell_type": "code",
   "execution_count": 46,
   "metadata": {
    "collapsed": false
   },
   "outputs": [
    {
     "name": "stderr",
     "output_type": "stream",
     "text": [
      "/Users/danfink/Library/Caches/pypoetry/virtualenvs/rangekeeper-f3dfj9iv-py3.10/lib/python3.10/site-packages/pandas/core/construction.py:616: UnitStrippedWarning: The unit of the quantity is stripped when downcasting to ndarray.\n",
      "  data = np.array(data, copy=copy)\n"
     ]
    },
    {
     "data": {
      "text/html": [
       "<table>\n",
       "<thead>\n",
       "<tr><th>dates              </th><th style=\"text-align: right;\">  Internal Rates of Return</th></tr>\n",
       "</thead>\n",
       "<tbody>\n",
       "<tr><td>2001-12-31 00:00:00</td><td style=\"text-align: right;\">                      0.07</td></tr>\n",
       "<tr><td>2002-12-31 00:00:00</td><td style=\"text-align: right;\">                      0.07</td></tr>\n",
       "<tr><td>2003-12-31 00:00:00</td><td style=\"text-align: right;\">                      0.07</td></tr>\n",
       "<tr><td>2004-12-31 00:00:00</td><td style=\"text-align: right;\">                      0.07</td></tr>\n",
       "<tr><td>2005-12-31 00:00:00</td><td style=\"text-align: right;\">                      0.07</td></tr>\n",
       "<tr><td>2006-12-31 00:00:00</td><td style=\"text-align: right;\">                      0.07</td></tr>\n",
       "<tr><td>2007-12-31 00:00:00</td><td style=\"text-align: right;\">                      0.07</td></tr>\n",
       "<tr><td>2008-12-31 00:00:00</td><td style=\"text-align: right;\">                      0.07</td></tr>\n",
       "<tr><td>2009-12-31 00:00:00</td><td style=\"text-align: right;\">                      0.07</td></tr>\n",
       "<tr><td>2010-12-31 00:00:00</td><td style=\"text-align: right;\">                      0.07</td></tr>\n",
       "</tbody>\n",
       "</table>"
      ],
      "text/plain": [
       "<rangekeeper.flux.Flow at 0x128a34430>"
      ]
     },
     "execution_count": 46,
     "metadata": {},
     "output_type": "execute_result"
    }
   ],
   "source": [
    "model = Model(params)\n",
    "model.pvs\n",
    "model.irrs"
   ]
  },
  {
   "cell_type": "markdown",
   "metadata": {
    "collapsed": false
   },
   "source": [
    "We can now create the 'Panel B' (Optimistic) scenario as documented in Table 4.1:"
   ]
  },
  {
   "cell_type": "markdown",
   "metadata": {
    "collapsed": false
   },
   "source": [
    "```{figure} resources/FaREVuU-table4.1.png\n",
    "---\n",
    "width: 100%\n",
    "name: FaREVuU-table4.1\n",
    "---\n",
    "Table 4.1 From Geltner & De Neufville, 2018\n",
    "```"
   ]
  },
  {
   "cell_type": "code",
   "execution_count": 1,
   "metadata": {
    "collapsed": false
   },
   "outputs": [
    {
     "ename": "NameError",
     "evalue": "name 'params' is not defined",
     "output_type": "error",
     "traceback": [
      "\u001b[0;31m---------------------------------------------------------------------------\u001b[0m",
      "\u001b[0;31mNameError\u001b[0m                                 Traceback (most recent call last)",
      "Cell \u001b[0;32mIn[1], line 1\u001b[0m\n\u001b[0;32m----> 1\u001b[0m optimistic_params \u001b[38;5;241m=\u001b[39m \u001b[43mparams\u001b[49m\u001b[38;5;241m.\u001b[39mcopy()\n\u001b[1;32m      2\u001b[0m optimistic_params[\u001b[38;5;124m'\u001b[39m\u001b[38;5;124minitial_income\u001b[39m\u001b[38;5;124m'\u001b[39m] \u001b[38;5;241m=\u001b[39m params[\u001b[38;5;124m'\u001b[39m\u001b[38;5;124minitial_income\u001b[39m\u001b[38;5;124m'\u001b[39m] \u001b[38;5;241m+\u001b[39m \u001b[38;5;241m10\u001b[39m \u001b[38;5;241m*\u001b[39m currency\u001b[38;5;241m.\u001b[39munits\n\u001b[1;32m      3\u001b[0m optimistic_params[\u001b[38;5;124m'\u001b[39m\u001b[38;5;124maddl_pgi_slope\u001b[39m\u001b[38;5;124m'\u001b[39m] \u001b[38;5;241m=\u001b[39m \u001b[38;5;241m3\u001b[39m\n",
      "\u001b[0;31mNameError\u001b[0m: name 'params' is not defined"
     ]
    }
   ],
   "source": [
    "optimistic_params = params.copy()\n",
    "optimistic_params['initial_income'] = params['initial_income'] + 10 * currency.units\n",
    "optimistic_params['addl_pgi_slope'] = 3\n",
    "\n",
    "optimistic = Model(optimistic_params)\n",
    "print(optimistic.pvs)\n",
    "print(optimistic.irrs)"
   ]
  },
  {
   "cell_type": "markdown",
   "metadata": {
    "collapsed": false
   },
   "source": [
    "Similarly, we can create the 'Panel C' (Pessimistic) scenario:"
   ]
  },
  {
   "cell_type": "code",
   "execution_count": 48,
   "metadata": {
    "collapsed": false
   },
   "outputs": [
    {
     "name": "stderr",
     "output_type": "stream",
     "text": [
      "/Users/danfink/Library/Caches/pypoetry/virtualenvs/rangekeeper-f3dfj9iv-py3.10/lib/python3.10/site-packages/pandas/core/construction.py:616: UnitStrippedWarning: The unit of the quantity is stripped when downcasting to ndarray.\n",
      "  data = np.array(data, copy=copy)\n"
     ]
    },
    {
     "data": {
      "text/html": [
       "<table>\n",
       "<thead>\n",
       "<tr><th>dates              </th><th style=\"text-align: right;\">  Internal Rates of Return</th></tr>\n",
       "</thead>\n",
       "<tbody>\n",
       "<tr><td>2001-12-31 00:00:00</td><td style=\"text-align: right;\">                   -0.067 </td></tr>\n",
       "<tr><td>2002-12-31 00:00:00</td><td style=\"text-align: right;\">                   -0.0177</td></tr>\n",
       "<tr><td>2003-12-31 00:00:00</td><td style=\"text-align: right;\">                   -0.0006</td></tr>\n",
       "<tr><td>2004-12-31 00:00:00</td><td style=\"text-align: right;\">                    0.0081</td></tr>\n",
       "<tr><td>2005-12-31 00:00:00</td><td style=\"text-align: right;\">                    0.0134</td></tr>\n",
       "<tr><td>2006-12-31 00:00:00</td><td style=\"text-align: right;\">                    0.017 </td></tr>\n",
       "<tr><td>2007-12-31 00:00:00</td><td style=\"text-align: right;\">                    0.0196</td></tr>\n",
       "<tr><td>2008-12-31 00:00:00</td><td style=\"text-align: right;\">                    0.0216</td></tr>\n",
       "<tr><td>2009-12-31 00:00:00</td><td style=\"text-align: right;\">                    0.0232</td></tr>\n",
       "<tr><td>2010-12-31 00:00:00</td><td style=\"text-align: right;\">                    0.0245</td></tr>\n",
       "</tbody>\n",
       "</table>"
      ],
      "text/plain": [
       "<rangekeeper.flux.Flow at 0x128a4cf40>"
      ]
     },
     "execution_count": 48,
     "metadata": {},
     "output_type": "execute_result"
    }
   ],
   "source": [
    "pessimistic_params = params.copy()\n",
    "pessimistic_params['initial_income'] = params['initial_income'] - 10 * currency.units\n",
    "pessimistic_params['addl_pgi_slope'] = -3\n",
    "\n",
    "pessimistic = Model(pessimistic_params)\n",
    "pessimistic.pvs\n",
    "pessimistic.irrs"
   ]
  },
  {
   "cell_type": "markdown",
   "metadata": {
    "collapsed": false
   },
   "source": [
    "Given that both scenarios have a 50% chance of occuring, the EV (Expected Value) at each time period is:"
   ]
  },
  {
   "cell_type": "code",
   "execution_count": 49,
   "metadata": {
    "collapsed": false
   },
   "outputs": [
    {
     "name": "stdout",
     "output_type": "stream",
     "text": [
      "dates\n",
      "2001-12-31    1000.0\n",
      "2002-12-31    1000.0\n",
      "2003-12-31    1000.0\n",
      "2004-12-31    1000.0\n",
      "2005-12-31    1000.0\n",
      "2006-12-31    1000.0\n",
      "2007-12-31    1000.0\n",
      "2008-12-31    1000.0\n",
      "2009-12-31    1000.0\n",
      "2010-12-31    1000.0\n",
      "Name: Present Values, dtype: float64\n"
     ]
    }
   ],
   "source": [
    "evs = (optimistic.pvs.movements + pessimistic.pvs.movements) / 2\n",
    "print(evs)"
   ]
  },
  {
   "cell_type": "markdown",
   "metadata": {
    "collapsed": false
   },
   "source": [
    "And the expected return (IRR) at each time period is:"
   ]
  },
  {
   "cell_type": "code",
   "execution_count": 50,
   "metadata": {
    "collapsed": false
   },
   "outputs": [
    {
     "name": "stdout",
     "output_type": "stream",
     "text": [
      "dates\n",
      "2001-12-31    0.07000\n",
      "2002-12-31    0.06675\n",
      "2003-12-31    0.06605\n",
      "2004-12-31    0.06565\n",
      "2005-12-31    0.06535\n",
      "2006-12-31    0.06510\n",
      "2007-12-31    0.06485\n",
      "2008-12-31    0.06465\n",
      "2009-12-31    0.06450\n",
      "2010-12-31    0.06435\n",
      "Name: Internal Rates of Return, dtype: float64\n"
     ]
    }
   ],
   "source": [
    "ers = (optimistic.irrs.movements + pessimistic.irrs.movements) / 2\n",
    "print(ers)"
   ]
  },
  {
   "cell_type": "markdown",
   "metadata": {
    "collapsed": false
   },
   "source": [
    "Continuing with de Neufville & Geltner (2018)'s chapter 4.3, we can calculate the value of the flexibility, assuming it is possible to sell the property at will:"
   ]
  },
  {
   "cell_type": "code",
   "execution_count": 54,
   "metadata": {
    "collapsed": false
   },
   "outputs": [
    {
     "name": "stdout",
     "output_type": "stream",
     "text": [
      "83.02036601269492\n"
     ]
    }
   ],
   "source": [
    "value_of_flex = (optimistic.pvs.movements[-1] / 2 + pessimistic.pvs.movements[0] / 2) - evs[-1]\n",
    "print(value_of_flex)"
   ]
  },
  {
   "cell_type": "code",
   "execution_count": null,
   "metadata": {
    "collapsed": false
   },
   "outputs": [],
   "source": []
  }
 ],
 "metadata": {
  "kernelspec": {
   "display_name": "Python 3",
   "language": "python",
   "name": "python3"
  },
  "language_info": {
   "codemirror_mode": {
    "name": "ipython",
    "version": 3
   },
   "file_extension": ".py",
   "mimetype": "text/x-python",
   "name": "python",
   "nbconvert_exporter": "python",
   "pygments_lexer": "ipython3",
   "version": "3.10.4"
  }
 },
 "nbformat": 4,
 "nbformat_minor": 0
}