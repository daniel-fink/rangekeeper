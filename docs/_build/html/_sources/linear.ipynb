{
 "cells": [
  {
   "cell_type": "markdown",
   "source": [
    "# A Basic Discounted Cash Flow Valuation"
   ],
   "metadata": {
    "collapsed": false
   }
  },
  {
   "cell_type": "markdown",
   "source": [
    "\n",
    "\n",
    "Chapter 1 showcases the structure and functionality of a *basic* Discounted Cash\n",
    "Flow (DCF) Valuation in use in a real estate project. In this notebook, the core\n",
    "computational objects (classes), their functionality, and how they are composed\n",
    "together into a valuation model are outlined:"
   ],
   "metadata": {
    "collapsed": false
   }
  },
  {
   "cell_type": "markdown",
   "source": [
    "1. Import required modules from the Rangekeeper and other libraries:"
   ],
   "metadata": {
    "collapsed": false
   }
  },
  {
   "cell_type": "code",
   "execution_count": 1,
   "outputs": [],
   "source": [
    "# Import standard libraries:\n",
    "import os\n",
    "import math\n",
    "import pandas as pd\n",
    "from dateutil import parser\n",
    "\n",
    "# Import Rangekeeper:\n",
    "import rangekeeper as rk"
   ],
   "metadata": {
    "collapsed": false
   }
  },
  {
   "cell_type": "markdown",
   "source": [
    "## Basic Elements of a Proforma\n",
    "\n",
    "### A 'Flow'\n",
    "The core element of a Cash Flow analysis is the cash flow; a sequence of\n",
    "*movements* of currency (whether positive -- *inflow*, or negative -- *outflow*),\n",
    "where each movement is associated with a *date* and a *quantity*. A cash flow\n",
    "is also sometimes referred to as a 'line item', which is a way of designating\n",
    "the subject of flows, e.g.: \"Operational Expenses\", or \"Income from Building 2's\n",
    "Parking\"\n",
    "\n",
    "A cash flow is implemented in Rangekeeper as a `Flow` object (from the flux module),\n",
    "which uses a pandas `Series` object to encapsulate the 'movements' of material\n",
    "(with specified units, like currency, energy, mass, etc) that occur at specified\n",
    "dates.\n",
    "\n",
    "Note: the `Flow`'s movements Series index is pandas `DatetimeIndex`, and its\n",
    "values are `float`s."
   ],
   "metadata": {
    "collapsed": false
   }
  },
  {
   "cell_type": "markdown",
   "source": [
    "First we initialize the currency used in our Proforma:"
   ],
   "metadata": {
    "collapsed": false
   }
  },
  {
   "cell_type": "code",
   "execution_count": 2,
   "outputs": [
    {
     "name": "stdout",
     "output_type": "stream",
     "text": [
      "Rangekeeper Measure: \"Australian Dollar\". Currency of ['AUSTRALIA', 'COCOS (KEELING) ISLANDS', 'CHRISTMAS ISLAND', 'HEARD & MCDONALD ISLANDS', 'KIRIBATI', 'NORFOLK ISLAND', 'NAURU', 'TUVALU']. Units: AUD\n"
     ]
    }
   ],
   "source": [
    "currency = rk.measure.register_currency('AUD', registry=rk.measure.Index.registry)\n",
    "print(currency)"
   ],
   "metadata": {
    "collapsed": false
   }
  },
  {
   "cell_type": "markdown",
   "source": [
    "Next we define a `Flow` object from a list of dates and amounts:"
   ],
   "metadata": {
    "collapsed": false
   }
  },
  {
   "cell_type": "code",
   "execution_count": 3,
   "outputs": [
    {
     "name": "stdout",
     "output_type": "stream",
     "text": [
      "Flow:\n",
      "Name: Operational Expenses\n",
      "Units: AUD\n",
      "Movements: \n",
      "|                     |   Operational Expenses |\n",
      "|---------------------|------------------------|\n",
      "| 2020-01-01 00:00:00 |                 100.00 |\n",
      "| 2020-01-02 00:00:00 |                 200.00 |\n",
      "| 2019-01-01 00:00:00 |                 300.00 |\n",
      "| 2020-12-31 00:00:00 |                -100.00 |\n",
      "\n",
      "Flow Index:\n",
      "DatetimeIndex(['2020-01-01', '2020-01-02', '2019-01-01', '2020-12-31'], dtype='datetime64[ns]', freq=None)\n",
      "\n",
      "<class 'pandas.core.series.Series'>\n",
      "DatetimeIndex: 4 entries, 2020-01-01 to 2020-12-31\n",
      "Series name: Operational Expenses\n",
      "Non-Null Count  Dtype  \n",
      "--------------  -----  \n",
      "4 non-null      float64\n",
      "dtypes: float64(1)\n",
      "memory usage: 64.0 bytes\n"
     ]
    }
   ],
   "source": [
    "transactions = {\n",
    "    pd.Timestamp('2020-01-01'): 100,\n",
    "    pd.Timestamp('2020-01-02'): 200,\n",
    "    pd.Timestamp('2019-01-01'): 300,\n",
    "    pd.Timestamp('2020-12-31'): -100\n",
    "    }\n",
    "\n",
    "movements = pd.Series(data=transactions)\n",
    "\n",
    "cash_flow = rk.flux.Flow(\n",
    "    name='Operational Expenses',\n",
    "    movements=movements,\n",
    "    units=currency.units)\n",
    "\n",
    "print('Flow:{0}{1}{0}{0}Flow Index:{0}{2}{0}'.format(\n",
    "    os.linesep,\n",
    "    cash_flow,\n",
    "    cash_flow.movements.index,\n",
    "    ))\n",
    "cash_flow.movements.info()\n"
   ],
   "metadata": {
    "collapsed": false
   }
  },
  {
   "cell_type": "markdown",
   "source": [
    "As you can see, a `Flow` has three properties:\n",
    "1. it's Name,\n",
    "2. a Pandas Series of date-stamped amounts ('Movements'), and\n",
    "3. the units of the movement's amounts\n",
    "\n",
    "* Note the following:\n",
    "    1. The movements can be in any (temporal) order,\n",
    "    2. The movements can be positive or negative,\n",
    "    3. The movements will be (or converted to) `float`s\n",
    "    4. The pd.Series index is a pd.DatetimeIndex"
   ],
   "metadata": {
    "collapsed": false
   }
  },
  {
   "cell_type": "markdown",
   "source": [
    "### Structuring a Table of Cash Flows\n",
    "Given a simple example of such a DCF valuation for a stylized commercial rental property, Rangekeeper provides enhanced functionality for constructing and structuring the proforma:"
   ],
   "metadata": {
    "collapsed": false
   }
  },
  {
   "cell_type": "markdown",
   "source": [
    "```{figure} resources/FaREVuU-table1.1.jpg\n",
    "---\n",
    "width: 100%\n",
    "name: FaREVuU-table1.1\n",
    "---\n",
    "Table 1.1 From {cite}`farevuu2018`\n",
    "```\n",
    "\n",
    "\n",
    "### A 'Span'\n",
    "`Span`s are used to define intervals of time that encompass the movements of a Flow.\n",
    "\n",
    "A `Span` is a pd.Interval of pd.Timestamps that bound its start and end dates.\n"
   ],
   "metadata": {
    "collapsed": false
   }
  },
  {
   "cell_type": "code",
   "execution_count": 4,
   "outputs": [
    {
     "name": "stdout",
     "output_type": "stream",
     "text": [
      "Span: Operation\n",
      "Start Date: 2001-01-01 00:00:00\n",
      "End Date: 2011-12-31 00:00:00\n"
     ]
    }
   ],
   "source": [
    "# Define a Span:\n",
    "start_date = pd.Timestamp('2001-01-01')\n",
    "num_periods = 11\n",
    "span = rk.span.Span.from_num_periods(\n",
    "    name='Operation',\n",
    "    date=start_date,\n",
    "    period_type=rk.periodicity.Type.YEAR,\n",
    "    num_periods=num_periods)\n",
    "print(span)"
   ],
   "metadata": {
    "collapsed": false
   }
  },
  {
   "cell_type": "markdown",
   "source": [
    "### A 'Projection'\n",
    "A `Projection` takes a value and casts it over a sequence of periods according to a specified logic. There are two classes of the form of the logic:\n",
    "1. Extrapolation, which takes a starting value and from it generates a sequence of values over a sequence of dates, and\n",
    "2. Distribution, which takes a total value and subdivides it over a sequence of dates.\n",
    "\n",
    "To match the logic of line 4, 'Potential Gross Income', in Table 1.1 above, we will use a 'Compounding' Extrapolation:"
   ],
   "metadata": {
    "collapsed": false
   }
  },
  {
   "cell_type": "code",
   "execution_count": 5,
   "outputs": [],
   "source": [
    "# Define a Compounding Projection:\n",
    "compounding_rate = 0.02\n",
    "projection = rk.projection.Extrapolation(\n",
    "    form=rk.extrapolation.Compounding(rate=compounding_rate),\n",
    "    sequence=span.to_index(period_type=rk.periodicity.Type.YEAR))"
   ],
   "metadata": {
    "collapsed": false
   }
  },
  {
   "cell_type": "markdown",
   "source": [
    "Let's now use the previous definitions of `Flow`s and `Projection`s to construct the 'Potential Gross Income' line item:\n"
   ],
   "metadata": {
    "collapsed": false
   }
  },
  {
   "cell_type": "code",
   "execution_count": 6,
   "outputs": [
    {
     "name": "stderr",
     "output_type": "stream",
     "text": [
      "/Users/danfink/Library/Caches/pypoetry/virtualenvs/rangekeeper-f3dfj9iv-py3.10/lib/python3.10/site-packages/pandas/core/construction.py:616: UnitStrippedWarning: The unit of the quantity is stripped when downcasting to ndarray.\n",
      "  data = np.array(data, copy=copy)\n"
     ]
    },
    {
     "data": {
      "text/plain": "<rangekeeper.flux.Flow at 0x12b807e20>",
      "text/html": "<table>\n<thead>\n<tr><th>                   </th><th style=\"text-align: right;\">  Potential Gross Income</th></tr>\n</thead>\n<tbody>\n<tr><td>2001-12-31 00:00:00</td><td style=\"text-align: right;\">                 100    </td></tr>\n<tr><td>2002-12-31 00:00:00</td><td style=\"text-align: right;\">                 102    </td></tr>\n<tr><td>2003-12-31 00:00:00</td><td style=\"text-align: right;\">                 104.04 </td></tr>\n<tr><td>2004-12-31 00:00:00</td><td style=\"text-align: right;\">                 106.121</td></tr>\n<tr><td>2005-12-31 00:00:00</td><td style=\"text-align: right;\">                 108.243</td></tr>\n<tr><td>2006-12-31 00:00:00</td><td style=\"text-align: right;\">                 110.408</td></tr>\n<tr><td>2007-12-31 00:00:00</td><td style=\"text-align: right;\">                 112.616</td></tr>\n<tr><td>2008-12-31 00:00:00</td><td style=\"text-align: right;\">                 114.869</td></tr>\n<tr><td>2009-12-31 00:00:00</td><td style=\"text-align: right;\">                 117.166</td></tr>\n<tr><td>2010-12-31 00:00:00</td><td style=\"text-align: right;\">                 119.509</td></tr>\n<tr><td>2011-12-31 00:00:00</td><td style=\"text-align: right;\">                 121.899</td></tr>\n</tbody>\n</table>"
     },
     "execution_count": 6,
     "metadata": {},
     "output_type": "execute_result"
    }
   ],
   "source": [
    "# Define a compounding Cash Flow:\n",
    "initial_income = 100 * currency.units\n",
    "potential_gross_income = rk.flux.Flow.from_projection(\n",
    "    name='Potential Gross Income',\n",
    "    value=initial_income,\n",
    "    proj=projection,\n",
    "    units=currency.units)\n",
    "potential_gross_income"
   ],
   "metadata": {
    "collapsed": false
   }
  },
  {
   "cell_type": "markdown",
   "source": [
    "Similarly, we define the 'Vacancy' line item by multiplying the movements of the 'Potential Gross Income' `Flow` by a vacancy rate:"
   ],
   "metadata": {
    "collapsed": false
   }
  },
  {
   "cell_type": "code",
   "execution_count": 7,
   "outputs": [
    {
     "data": {
      "text/plain": "<rangekeeper.flux.Flow at 0x12bb26f50>",
      "text/html": "<table>\n<thead>\n<tr><th>                   </th><th style=\"text-align: right;\">  Vacancy Allowance</th></tr>\n</thead>\n<tbody>\n<tr><td>2001-12-31 00:00:00</td><td style=\"text-align: right;\">           -5      </td></tr>\n<tr><td>2002-12-31 00:00:00</td><td style=\"text-align: right;\">           -5.1    </td></tr>\n<tr><td>2003-12-31 00:00:00</td><td style=\"text-align: right;\">           -5.202  </td></tr>\n<tr><td>2004-12-31 00:00:00</td><td style=\"text-align: right;\">           -5.30604</td></tr>\n<tr><td>2005-12-31 00:00:00</td><td style=\"text-align: right;\">           -5.41216</td></tr>\n<tr><td>2006-12-31 00:00:00</td><td style=\"text-align: right;\">           -5.5204 </td></tr>\n<tr><td>2007-12-31 00:00:00</td><td style=\"text-align: right;\">           -5.63081</td></tr>\n<tr><td>2008-12-31 00:00:00</td><td style=\"text-align: right;\">           -5.74343</td></tr>\n<tr><td>2009-12-31 00:00:00</td><td style=\"text-align: right;\">           -5.8583 </td></tr>\n<tr><td>2010-12-31 00:00:00</td><td style=\"text-align: right;\">           -5.97546</td></tr>\n<tr><td>2011-12-31 00:00:00</td><td style=\"text-align: right;\">           -6.09497</td></tr>\n</tbody>\n</table>"
     },
     "execution_count": 7,
     "metadata": {},
     "output_type": "execute_result"
    }
   ],
   "source": [
    "vacancy_rate = 0.05\n",
    "vacancy = rk.flux.Flow(\n",
    "    name='Vacancy Allowance',\n",
    "    movements=potential_gross_income.movements * -vacancy_rate,\n",
    "    units=currency.units)\n",
    "vacancy"
   ],
   "metadata": {
    "collapsed": false
   }
  },
  {
   "cell_type": "markdown",
   "source": [
    "```{note}\n",
    "Note the sign of the movements of the 'Vacancy Allowance' `Flow` -- it is negative, because it is an *outflow*.\n",
    "```"
   ],
   "metadata": {
    "collapsed": false
   }
  },
  {
   "cell_type": "markdown",
   "source": [
    "## A 'Stream'\n",
    "A `Stream` is a collection of constituent `Flow`s into a table, such that their movements (transactions) are resampled with a specified periodicity.\n",
    "\n",
    "Let's use the 'Effective Gross Income' line item in Table 1.1 to illustrate the concept of a `Stream`:"
   ],
   "metadata": {
    "collapsed": false
   }
  },
  {
   "cell_type": "code",
   "execution_count": 8,
   "outputs": [
    {
     "data": {
      "text/plain": "<rangekeeper.flux.Stream at 0x12bb272b0>",
      "text/html": "<table>\n<thead>\n<tr><th>periods  </th><th style=\"text-align: right;\">  Potential Gross Income</th><th style=\"text-align: right;\">  Vacancy Allowance</th></tr>\n</thead>\n<tbody>\n<tr><td>2001     </td><td style=\"text-align: right;\">                  100.00</td><td style=\"text-align: right;\">              -5.00</td></tr>\n<tr><td>2002     </td><td style=\"text-align: right;\">                  102.00</td><td style=\"text-align: right;\">              -5.10</td></tr>\n<tr><td>2003     </td><td style=\"text-align: right;\">                  104.04</td><td style=\"text-align: right;\">              -5.20</td></tr>\n<tr><td>2004     </td><td style=\"text-align: right;\">                  106.12</td><td style=\"text-align: right;\">              -5.31</td></tr>\n<tr><td>2005     </td><td style=\"text-align: right;\">                  108.24</td><td style=\"text-align: right;\">              -5.41</td></tr>\n<tr><td>2006     </td><td style=\"text-align: right;\">                  110.41</td><td style=\"text-align: right;\">              -5.52</td></tr>\n<tr><td>2007     </td><td style=\"text-align: right;\">                  112.62</td><td style=\"text-align: right;\">              -5.63</td></tr>\n<tr><td>2008     </td><td style=\"text-align: right;\">                  114.87</td><td style=\"text-align: right;\">              -5.74</td></tr>\n<tr><td>2009     </td><td style=\"text-align: right;\">                  117.17</td><td style=\"text-align: right;\">              -5.86</td></tr>\n<tr><td>2010     </td><td style=\"text-align: right;\">                  119.51</td><td style=\"text-align: right;\">              -5.98</td></tr>\n<tr><td>2011     </td><td style=\"text-align: right;\">                  121.90</td><td style=\"text-align: right;\">              -6.09</td></tr>\n</tbody>\n</table>"
     },
     "execution_count": 8,
     "metadata": {},
     "output_type": "execute_result"
    }
   ],
   "source": [
    "effective_gross_income_stream = rk.flux.Stream(\n",
    "    name='Effective Gross Income',\n",
    "    flows=[potential_gross_income, vacancy],\n",
    "    period_type=rk.periodicity.Type.YEAR)\n",
    "effective_gross_income_stream"
   ],
   "metadata": {
    "collapsed": false
   }
  },
  {
   "cell_type": "markdown",
   "source": [
    "As you can see, the `Stream` has a name, a table of constituent `Flow`s (each with their own units), with their movements resampled to the specified periodicity.\n",
    "\n",
    "In order to aggregate the constituent `Flow`s, we can sum them into a resultant `Flow`:"
   ],
   "metadata": {
    "collapsed": false
   }
  },
  {
   "cell_type": "code",
   "execution_count": 9,
   "outputs": [
    {
     "data": {
      "text/plain": "<rangekeeper.flux.Flow at 0x12bbf0e80>",
      "text/html": "<table>\n<thead>\n<tr><th>dates              </th><th style=\"text-align: right;\">  Effective Gross Income</th></tr>\n</thead>\n<tbody>\n<tr><td>2001-12-31 00:00:00</td><td style=\"text-align: right;\">                  95    </td></tr>\n<tr><td>2002-12-31 00:00:00</td><td style=\"text-align: right;\">                  96.9  </td></tr>\n<tr><td>2003-12-31 00:00:00</td><td style=\"text-align: right;\">                  98.838</td></tr>\n<tr><td>2004-12-31 00:00:00</td><td style=\"text-align: right;\">                 100.815</td></tr>\n<tr><td>2005-12-31 00:00:00</td><td style=\"text-align: right;\">                 102.831</td></tr>\n<tr><td>2006-12-31 00:00:00</td><td style=\"text-align: right;\">                 104.888</td></tr>\n<tr><td>2007-12-31 00:00:00</td><td style=\"text-align: right;\">                 106.985</td></tr>\n<tr><td>2008-12-31 00:00:00</td><td style=\"text-align: right;\">                 109.125</td></tr>\n<tr><td>2009-12-31 00:00:00</td><td style=\"text-align: right;\">                 111.308</td></tr>\n<tr><td>2010-12-31 00:00:00</td><td style=\"text-align: right;\">                 113.534</td></tr>\n<tr><td>2011-12-31 00:00:00</td><td style=\"text-align: right;\">                 115.804</td></tr>\n</tbody>\n</table>"
     },
     "execution_count": 9,
     "metadata": {},
     "output_type": "execute_result"
    }
   ],
   "source": [
    "effective_gross_income_flow = effective_gross_income_stream.sum()\n",
    "effective_gross_income_flow"
   ],
   "metadata": {
    "collapsed": false
   }
  },
  {
   "cell_type": "markdown",
   "source": [
    "Note the `Flow`'s index is back to a `pd.DatetimeIndex`, with movements occuring at the *end* date of each period."
   ],
   "metadata": {
    "collapsed": false
   }
  },
  {
   "cell_type": "markdown",
   "source": [
    "With this in mind, we can complete Table 1.1"
   ],
   "metadata": {
    "collapsed": false
   }
  },
  {
   "cell_type": "code",
   "execution_count": 10,
   "outputs": [
    {
     "data": {
      "text/plain": "<rangekeeper.flux.Stream at 0x12bb26410>",
      "text/html": "<table>\n<thead>\n<tr><th>periods  </th><th style=\"text-align: right;\">  Effective Gross Income</th><th style=\"text-align: right;\">  Operating Expenses</th></tr>\n</thead>\n<tbody>\n<tr><td>2001     </td><td style=\"text-align: right;\">                   95.00</td><td style=\"text-align: right;\">              -35.00</td></tr>\n<tr><td>2002     </td><td style=\"text-align: right;\">                   96.90</td><td style=\"text-align: right;\">              -35.70</td></tr>\n<tr><td>2003     </td><td style=\"text-align: right;\">                   98.84</td><td style=\"text-align: right;\">              -36.41</td></tr>\n<tr><td>2004     </td><td style=\"text-align: right;\">                  100.81</td><td style=\"text-align: right;\">              -37.14</td></tr>\n<tr><td>2005     </td><td style=\"text-align: right;\">                  102.83</td><td style=\"text-align: right;\">              -37.89</td></tr>\n<tr><td>2006     </td><td style=\"text-align: right;\">                  104.89</td><td style=\"text-align: right;\">              -38.64</td></tr>\n<tr><td>2007     </td><td style=\"text-align: right;\">                  106.99</td><td style=\"text-align: right;\">              -39.42</td></tr>\n<tr><td>2008     </td><td style=\"text-align: right;\">                  109.13</td><td style=\"text-align: right;\">              -40.20</td></tr>\n<tr><td>2009     </td><td style=\"text-align: right;\">                  111.31</td><td style=\"text-align: right;\">              -41.01</td></tr>\n<tr><td>2010     </td><td style=\"text-align: right;\">                  113.53</td><td style=\"text-align: right;\">              -41.83</td></tr>\n<tr><td>2011     </td><td style=\"text-align: right;\">                  115.80</td><td style=\"text-align: right;\">              -42.66</td></tr>\n</tbody>\n</table>"
     },
     "execution_count": 10,
     "metadata": {},
     "output_type": "execute_result"
    }
   ],
   "source": [
    "opex_pgi_ratio = .35\n",
    "operating_expenses = rk.flux.Flow(\n",
    "    name='Operating Expenses',\n",
    "    movements=potential_gross_income.movements * opex_pgi_ratio,\n",
    "    units=currency.units).invert()\n",
    "\n",
    "net_operating_income = rk.flux.Stream(\n",
    "    name='Net Operating Income',\n",
    "    flows=[effective_gross_income_flow, operating_expenses],\n",
    "    period_type=rk.periodicity.Type.YEAR)\n",
    "\n",
    "net_operating_income"
   ],
   "metadata": {
    "collapsed": false
   }
  },
  {
   "cell_type": "code",
   "execution_count": 11,
   "outputs": [
    {
     "data": {
      "text/plain": "<rangekeeper.flux.Stream at 0x12bb27910>",
      "text/html": "<table>\n<thead>\n<tr><th>periods  </th><th style=\"text-align: right;\">  Net Operating Income</th><th style=\"text-align: right;\">  Capital Expenditures</th></tr>\n</thead>\n<tbody>\n<tr><td>2001     </td><td style=\"text-align: right;\">                 60.00</td><td style=\"text-align: right;\">                -10.00</td></tr>\n<tr><td>2002     </td><td style=\"text-align: right;\">                 61.20</td><td style=\"text-align: right;\">                -10.20</td></tr>\n<tr><td>2003     </td><td style=\"text-align: right;\">                 62.42</td><td style=\"text-align: right;\">                -10.40</td></tr>\n<tr><td>2004     </td><td style=\"text-align: right;\">                 63.67</td><td style=\"text-align: right;\">                -10.61</td></tr>\n<tr><td>2005     </td><td style=\"text-align: right;\">                 64.95</td><td style=\"text-align: right;\">                -10.82</td></tr>\n<tr><td>2006     </td><td style=\"text-align: right;\">                 66.24</td><td style=\"text-align: right;\">                -11.04</td></tr>\n<tr><td>2007     </td><td style=\"text-align: right;\">                 67.57</td><td style=\"text-align: right;\">                -11.26</td></tr>\n<tr><td>2008     </td><td style=\"text-align: right;\">                 68.92</td><td style=\"text-align: right;\">                -11.49</td></tr>\n<tr><td>2009     </td><td style=\"text-align: right;\">                 70.30</td><td style=\"text-align: right;\">                -11.72</td></tr>\n<tr><td>2010     </td><td style=\"text-align: right;\">                 71.71</td><td style=\"text-align: right;\">                -11.95</td></tr>\n<tr><td>2011     </td><td style=\"text-align: right;\">                 73.14</td><td style=\"text-align: right;\">                -12.19</td></tr>\n</tbody>\n</table>"
     },
     "execution_count": 11,
     "metadata": {},
     "output_type": "execute_result"
    }
   ],
   "source": [
    "capex_pgi_ratio = .1\n",
    "capital_expenditures = rk.flux.Flow(\n",
    "    name='Capital Expenditures',\n",
    "    movements=potential_gross_income.movements * capex_pgi_ratio,\n",
    "    units=currency.units).invert()\n",
    "\n",
    "net_annual_cashflows = rk.flux.Stream(\n",
    "    name='Net Annual Cashflows',\n",
    "    flows=[net_operating_income.sum(), capital_expenditures],\n",
    "    period_type=rk.periodicity.Type.YEAR)\n",
    "\n",
    "net_annual_cashflows"
   ],
   "metadata": {
    "collapsed": false
   }
  },
  {
   "cell_type": "markdown",
   "source": [
    "To calculate the reversion cashflow, we set up a period that spans the 10th year of the project:"
   ],
   "metadata": {
    "collapsed": false
   }
  },
  {
   "cell_type": "code",
   "execution_count": 12,
   "outputs": [
    {
     "ename": "TypeError",
     "evalue": "Distribution.__init__() got an unexpected keyword argument 'dist'",
     "output_type": "error",
     "traceback": [
      "\u001B[0;31m---------------------------------------------------------------------------\u001B[0m",
      "\u001B[0;31mTypeError\u001B[0m                                 Traceback (most recent call last)",
      "Cell \u001B[0;32mIn[12], line 11\u001B[0m\n\u001B[1;32m      1\u001B[0m reversion_span \u001B[38;5;241m=\u001B[39m rk\u001B[38;5;241m.\u001B[39mspan\u001B[38;5;241m.\u001B[39mSpan\u001B[38;5;241m.\u001B[39mfrom_num_periods(\n\u001B[1;32m      2\u001B[0m     name\u001B[38;5;241m=\u001B[39m\u001B[38;5;124m'\u001B[39m\u001B[38;5;124mReversion\u001B[39m\u001B[38;5;124m'\u001B[39m,\n\u001B[1;32m      3\u001B[0m     date\u001B[38;5;241m=\u001B[39mstart_date \u001B[38;5;241m+\u001B[39m pd\u001B[38;5;241m.\u001B[39mDateOffset(years\u001B[38;5;241m=\u001B[39m\u001B[38;5;241m9\u001B[39m),\n\u001B[1;32m      4\u001B[0m     period_type\u001B[38;5;241m=\u001B[39mrk\u001B[38;5;241m.\u001B[39mperiodicity\u001B[38;5;241m.\u001B[39mType\u001B[38;5;241m.\u001B[39myear,\n\u001B[1;32m      5\u001B[0m     num_periods\u001B[38;5;241m=\u001B[39m\u001B[38;5;241m1\u001B[39m)\n\u001B[1;32m      7\u001B[0m exit_caprate \u001B[38;5;241m=\u001B[39m \u001B[38;5;241m0.05\u001B[39m\n\u001B[1;32m      8\u001B[0m reversion_flow \u001B[38;5;241m=\u001B[39m rk\u001B[38;5;241m.\u001B[39mflux\u001B[38;5;241m.\u001B[39mFlow\u001B[38;5;241m.\u001B[39mfrom_projection(\n\u001B[1;32m      9\u001B[0m     name\u001B[38;5;241m=\u001B[39m\u001B[38;5;124m'\u001B[39m\u001B[38;5;124mReversion\u001B[39m\u001B[38;5;124m'\u001B[39m,\n\u001B[1;32m     10\u001B[0m     value\u001B[38;5;241m=\u001B[39mnet_annual_cashflows\u001B[38;5;241m.\u001B[39msum()\u001B[38;5;241m.\u001B[39mmovements\u001B[38;5;241m.\u001B[39mvalues[\u001B[38;5;241m-\u001B[39m\u001B[38;5;241m1\u001B[39m] \u001B[38;5;241m/\u001B[39m exit_caprate,\n\u001B[0;32m---> 11\u001B[0m     proj\u001B[38;5;241m=\u001B[39m\u001B[43mrk\u001B[49m\u001B[38;5;241;43m.\u001B[39;49m\u001B[43mprojection\u001B[49m\u001B[38;5;241;43m.\u001B[39;49m\u001B[43mDistribution\u001B[49m\u001B[43m(\u001B[49m\n\u001B[1;32m     12\u001B[0m \u001B[43m        \u001B[49m\u001B[43mdist\u001B[49m\u001B[38;5;241;43m=\u001B[39;49m\u001B[43mrk\u001B[49m\u001B[38;5;241;43m.\u001B[39;49m\u001B[43mdistribution\u001B[49m\u001B[38;5;241;43m.\u001B[39;49m\u001B[43mUniform\u001B[49m\u001B[43m(\u001B[49m\u001B[43m)\u001B[49m\u001B[43m,\u001B[49m\n\u001B[1;32m     13\u001B[0m \u001B[43m        \u001B[49m\u001B[43msequence\u001B[49m\u001B[38;5;241;43m=\u001B[39;49m\u001B[43mreversion_span\u001B[49m\u001B[38;5;241;43m.\u001B[39;49m\u001B[43mto_index\u001B[49m\u001B[43m(\u001B[49m\u001B[43mperiod_type\u001B[49m\u001B[38;5;241;43m=\u001B[39;49m\u001B[43mrk\u001B[49m\u001B[38;5;241;43m.\u001B[39;49m\u001B[43mperiodicity\u001B[49m\u001B[38;5;241;43m.\u001B[39;49m\u001B[43mType\u001B[49m\u001B[38;5;241;43m.\u001B[39;49m\u001B[43myear\u001B[49m\u001B[43m)\u001B[49m\u001B[43m)\u001B[49m,\n\u001B[1;32m     14\u001B[0m     units\u001B[38;5;241m=\u001B[39mcurrency\u001B[38;5;241m.\u001B[39munits)\n\u001B[1;32m     15\u001B[0m reversion_flow\n",
      "\u001B[0;31mTypeError\u001B[0m: Distribution.__init__() got an unexpected keyword argument 'dist'"
     ]
    }
   ],
   "source": [
    "reversion_span = rk.span.Span.from_num_periods(\n",
    "    name='Reversion',\n",
    "    date=start_date + pd.DateOffset(years=9),\n",
    "    period_type=rk.periodicity.Type.YEAR,\n",
    "    num_periods=1)\n",
    "\n",
    "exit_caprate = 0.05\n",
    "reversion_flow = rk.flux.Flow.from_projection(\n",
    "    name='Reversion',\n",
    "    value=net_annual_cashflows.sum().movements.values[-1] / exit_caprate,\n",
    "    proj=rk.projection.Distribution(\n",
    "        form=rk.distribution.Uniform(),\n",
    "        sequence=reversion_span.to_index(period_type=rk.periodicity.Type.YEAR)),\n",
    "    units=currency.units)\n",
    "reversion_flow"
   ],
   "metadata": {
    "collapsed": false
   }
  },
  {
   "cell_type": "markdown",
   "source": [
    "Finally, we can aggregate the net and reversion cashflows in order to calculate the project's complete cashflows:"
   ],
   "metadata": {
    "collapsed": false
   }
  },
  {
   "cell_type": "code",
   "execution_count": null,
   "outputs": [],
   "source": [
    "net_cashflows_with_reversion = rk.flux.Stream(\n",
    "    name='Net Cashflow with Reversion',\n",
    "    flows=[net_annual_cashflows.sum(), reversion_flow],\n",
    "    period_type=rk.periodicity.Type.YEAR).trim_to_span(\n",
    "    rk.span.Span(\n",
    "        start_date=start_date,\n",
    "        end_date=reversion_span.end_date)\n",
    "    )\n",
    "net_cashflows_with_reversion"
   ],
   "metadata": {
    "collapsed": false
   }
  },
  {
   "cell_type": "markdown",
   "source": [
    "Given that the discount rate is specified as 7%, we can calculate the project's Present Value (PV):"
   ],
   "metadata": {
    "collapsed": false
   }
  },
  {
   "cell_type": "code",
   "execution_count": null,
   "outputs": [],
   "source": [
    "discount_rate = 0.07\n",
    "pvs = net_cashflows_with_reversion.sum().pv(\n",
    "    name='Present Value',\n",
    "    period_type=rk.periodicity.Type.YEAR,\n",
    "    discount_rate=discount_rate)\n",
    "pvs"
   ],
   "metadata": {
    "collapsed": false
   }
  },
  {
   "cell_type": "code",
   "execution_count": null,
   "outputs": [],
   "source": [
    "project_pv = pvs.collapse().movements.item()\n",
    "round(project_pv, 2)"
   ],
   "metadata": {
    "collapsed": false
   }
  },
  {
   "cell_type": "code",
   "execution_count": null,
   "outputs": [],
   "source": [],
   "metadata": {
    "collapsed": false
   }
  }
 ],
 "metadata": {
  "kernelspec": {
   "display_name": "Python 3",
   "language": "python",
   "name": "python3"
  },
  "language_info": {
   "codemirror_mode": {
    "name": "ipython",
    "version": 2
   },
   "file_extension": ".py",
   "mimetype": "text/x-python",
   "name": "python",
   "nbconvert_exporter": "python",
   "pygments_lexer": "ipython2",
   "version": "2.7.6"
  }
 },
 "nbformat": 4,
 "nbformat_minor": 0
}
