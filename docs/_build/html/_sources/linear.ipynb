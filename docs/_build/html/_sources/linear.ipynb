{
 "cells": [
  {
   "cell_type": "markdown",
   "source": [
    "# A Basic Discounted Cash Flow Valuation"
   ],
   "metadata": {
    "collapsed": false
   }
  },
  {
   "cell_type": "markdown",
   "source": [
    "\n",
    "\n",
    "Chapter 1 showcases the structure and functionality of a *basic* Discounted Cash\n",
    "Flow (DCF) Valuation in use in a real estate project. In this notebook, the core\n",
    "computational objects (classes), their functionality, and how they are composed\n",
    "together into a valuation model are outlined:"
   ],
   "metadata": {
    "collapsed": false
   }
  },
  {
   "cell_type": "markdown",
   "source": [
    "1. Import required modules from the Rangekeeper and other libraries:"
   ],
   "metadata": {
    "collapsed": false
   }
  },
  {
   "cell_type": "code",
   "execution_count": null,
   "outputs": [],
   "source": [
    "# Import standard libraries:\n",
    "import pandas as pd\n",
    "import os\n",
    "from dateutil import parser\n",
    "\n",
    "# Import Rangekeeper:\n",
    "import rangekeeper as rk"
   ],
   "metadata": {
    "collapsed": false
   }
  },
  {
   "cell_type": "markdown",
   "source": [
    "## Basic Elements of a Proforma\n",
    "\n",
    "### A 'Flow'\n",
    "The core element of a Cash Flow analysis is the cash flow; a sequence of\n",
    "*movements* of currency (whether positive -- *inflow*, or negative -- *outflow*),\n",
    "where each movement is associated with a *date* and a *quantity*. A cash flow\n",
    "is also sometimes referred to as a 'line item', which is a way of designating\n",
    "the subject of flows, e.g.: \"Operational Expenses\", or \"Income from Building 2's\n",
    "Parking\"\n",
    "\n",
    "A cash flow is implemented in Rangekeeper as a `Flow` object (from the flux module),\n",
    "which uses a pandas `Series` object to encapsulate the 'movements' of material\n",
    "(with specified units, like currency, energy, mass, etc) that occur at specified\n",
    "dates.\n",
    "\n",
    "Note: the `Flow`'s movements Series index is pandas `DatetimeIndex`, and its\n",
    "values are `float`s."
   ],
   "metadata": {
    "collapsed": false
   }
  },
  {
   "cell_type": "code",
   "execution_count": null,
   "outputs": [],
   "source": [
    "currency = rk.measure.register_currency('USD', registry=rk.measure.Index.registry)\n",
    "\n",
    "transaction_dates = ['2020-01-01', '2020-01-02', '2019-01-01', '2020-01-01', '2020-12-31']\n",
    "transaction_amounts = [100, 200, 300, 400, 500]\n",
    "\n",
    "movements = pd.Series(data=dict(zip([parser.parse(date) for date in transaction_dates], transaction_amounts)))\n",
    "\n",
    "cash_flow = rk.flux.Flow(\n",
    "    name='Operational Expenses',\n",
    "    movements=movements,\n",
    "    units=currency.units)\n",
    "\n",
    "print(cash_flow)\n",
    "print(os.linesep)\n",
    "print('Cash Flow Index: ' + str(cash_flow.movements.index))\n",
    "print(os.linesep)\n",
    "\n",
    "print(cash_flow.movements.info())"
   ],
   "metadata": {
    "collapsed": false
   }
  },
  {
   "cell_type": "markdown",
   "source": [
    "As you can see, a `Flow` has three properties:\n",
    "1. it's Name,\n",
    "2. a Pandas Series of date-stamped amounts ('Movements'), and\n",
    "3. the units of the movement's amounts\n",
    "\n",
    "* Note that the movements can be in any (temporal) order"
   ],
   "metadata": {
    "collapsed": false
   }
  },
  {
   "cell_type": "markdown",
   "source": [
    "### Structuring a Table of Cash Flows\n",
    "Given a simple example of such a DCF valuation for a stylized commercial rental\n",
    "property, Rangekeeper provides enhanced functionality for constructing and structuring\n",
    "the proforma:\n",
    "\n",
    "![Table 1.1 From Geltner & De Neufville, 2018](resources/FaREVuU-table1.1.jpg)\n",
    "\n",
    "### A 'Span'\n",
    "A Span is a pd.Interval of pd.Timestamps that bound its start and end dates.\n",
    "Spans are used to define intervals of time that encompass the movements of a Flow.\n"
   ],
   "metadata": {
    "collapsed": false
   }
  },
  {
   "cell_type": "code",
   "execution_count": null,
   "outputs": [],
   "source": [
    "s# Define a Span:\n",
    "start_date = pd.Timestamp('2000-01-01')\n",
    "num_periods = 10\n",
    "operation_span = rk.span.Span.from_num_periods(\n",
    "    name='Operation',\n",
    "    date=start_date,\n",
    "    period_type=rk.periodicity.Type.year,\n",
    "    num_periods=num_periods)\n",
    "print(operation_span)"
   ],
   "metadata": {
    "collapsed": false
   }
  },
  {
   "cell_type": "markdown",
   "source": [
    "### A 'Projection'\n",
    "A projection takes a value and casts it over a sequence of periods according to a\n",
    "specified logic. There are two classes of logic:\n",
    "1. Extrapolation, which takes a starting value and generates a sequence\n",
    "of values from that initial one, and\n",
    "2. Distribution, which takes a total value and subdivides it over a range"
   ],
   "metadata": {
    "collapsed": false
   }
  },
  {
   "cell_type": "code",
   "execution_count": null,
   "outputs": [],
   "source": [
    "# Define a Projection:\n",
    "compounding_rate = 0.02\n",
    "projection = rk.projection.Extrapolation(\n",
    "    form=rk.projection.Extrapolation.Compounding(rate=compounding_rate),\n",
    "    sequence=operation_span.to_index(period_type=rk.periodicity.Type.year))"
   ],
   "metadata": {
    "collapsed": false
   }
  },
  {
   "cell_type": "markdown",
   "source": [
    "Projections are used in the construction of Flows:\n"
   ],
   "metadata": {
    "collapsed": false
   }
  },
  {
   "cell_type": "code",
   "execution_count": null,
   "outputs": [],
   "source": [
    "# Define a compounding Cash Flow:\n",
    "initial_income = 100\n",
    "potential_gross_income = rk.flux.Flow.from_projection(\n",
    "    value=initial_income,\n",
    "    proj=projection,\n",
    "    units=currency.units)\n",
    "print(potential_gross_income)"
   ],
   "metadata": {
    "collapsed": false
   }
  },
  {
   "cell_type": "markdown",
   "source": [
    "2.1 Initiate Project Parameters:"
   ],
   "metadata": {
    "collapsed": false
   }
  },
  {
   "cell_type": "code",
   "execution_count": null,
   "outputs": [],
   "source": [
    "# # 2.1.1: Unit Mix:\n",
    "# unit_mix = {\n",
    "#     Apartment.Type.B1B1B0: 0,\n",
    "#     Apartment.Type.B1B1B1: 1,\n",
    "#     Apartment.Type.B2B1B1: 0,\n",
    "#     Apartment.Type.B2B1B2: 0,\n",
    "#     Apartment.Type.B2B2B0: 0,\n",
    "#     Apartment.Type.B2B2B1: 2,\n",
    "#     Apartment.Type.B3B2B0: 0,\n",
    "#     Apartment.Type.B3B2B1: 1\n",
    "#     }\n",
    "#\n",
    "# property_params = {\n",
    "#     'gla': 750.0,\n",
    "#     'sales_price_per_gfa': 6875,\n",
    "#     }\n",
    "#\n",
    "# project_params = {\n",
    "#     'start_date': pd.Timestamp('2021-01-01'),\n",
    "#     'periodicity': Periodicity.Type.month,\n",
    "#     'preliminaries_duration': 2,\n",
    "#     'construction_duration': 4,\n",
    "#     'sales_duration': 3,\n",
    "#     'sales_fee_rate': 0.02,\n",
    "#     'construction_interest_rate_pa': 0.03,\n",
    "#     'parking_ratio': 1,\n",
    "#     'units': Units.Type.AUD,\n",
    "#     'margin_on_cost_reqd': 0.20\n",
    "#     }\n",
    "# models.linear.compose_spans(project_params)\n",
    "# models.linear.compose_apartments(unit_mix=unit_mix, project_params=project_params)"
   ],
   "metadata": {
    "collapsed": false
   }
  },
  {
   "cell_type": "code",
   "execution_count": null,
   "outputs": [],
   "source": [
    "# # Display Project Params in a DataFrame:\n",
    "# project_params_df = pd.DataFrame.from_dict(\n",
    "#     data={key: [str(value)] for key, value in project_params.items()},\n",
    "#     orient='index',\n",
    "#     columns=['project_params'])\n",
    "# display(project_params_df)\n",
    "#"
   ],
   "metadata": {
    "collapsed": false
   }
  },
  {
   "cell_type": "markdown",
   "source": [
    "2.2 Compose Preliminaries:"
   ],
   "metadata": {
    "collapsed": false
   }
  },
  {
   "cell_type": "code",
   "execution_count": null,
   "outputs": [],
   "source": [
    "# # Prelims:\n",
    "# preliminary_costs_index = {\n",
    "#     'design_planning_engineering_cost': 20000.0,\n",
    "#     'survey_geotech_cost': 5000.0,\n",
    "#     'permitting_inspections_certifications_cost': 10000.0,\n",
    "#     'legal_title_appraisal_cost': 3500.0,\n",
    "#     'taxes_insurance_cost': 1500.0,\n",
    "#     'developer_project_management_cost': 50000.0\n",
    "#     }\n",
    "#\n",
    "# preliminaries = models.linear.compose_prelim_costs(\n",
    "#     preliminaries_costs_index=preliminary_costs_index,\n",
    "#     project_params=project_params\n",
    "# )\n",
    "# display(\"Preliminaries: \")\n",
    "# display(preliminaries.frame.transpose())\n",
    "#\n",
    "# display(\"Preliminaries Subtotals: \")\n",
    "# display(preliminaries.collapse().frame.transpose())\n",
    "#\n",
    "# display(\"Preliminaries Totals: \")\n",
    "# display(preliminaries.collapse().sum(name='preliminaries_total').to_stream(periodicity=project_params['periodicity']).frame.transpose())"
   ],
   "metadata": {
    "collapsed": false
   }
  },
  {
   "cell_type": "markdown",
   "source": [
    "2.3 Compose Build Costs:"
   ],
   "metadata": {
    "collapsed": false
   }
  },
  {
   "cell_type": "code",
   "execution_count": null,
   "outputs": [],
   "source": [
    "# # Build Costs:\n",
    "# build_costs_index = {\n",
    "#     'construction_cost_shell_pergfa': 1250.0,\n",
    "#     'construction_cost_cores_pergfa': 3000.0,\n",
    "#     'siteworks_cost_pergla': 35.0,\n",
    "#     'parking_cost_per_stall': 15000.0,\n",
    "#     'utilities_cost': 10000.0\n",
    "# }\n",
    "#\n",
    "# build_costs = models.linear.compose_build_costs(\n",
    "#     build_costs_index=build_costs_index,\n",
    "#     property_params=property_params,\n",
    "#     project_params=project_params\n",
    "# )\n",
    "#\n",
    "# display(\"Build Costs: \")\n",
    "# display(build_costs.frame.transpose())\n",
    "#\n",
    "# display(\"Build Costs Subtotals: \")\n",
    "# display(build_costs.collapse().frame.transpose())\n",
    "#\n",
    "# display(\"Build Costs Totals: \")\n",
    "# display(build_costs.collapse().sum(name='build_costs_total').to_stream(periodicity=project_params['periodicity']).frame.transpose())"
   ],
   "metadata": {
    "collapsed": false
   }
  },
  {
   "cell_type": "markdown",
   "source": [
    "2.4 Compose Financing Costs:"
   ],
   "metadata": {
    "collapsed": false
   }
  },
  {
   "cell_type": "code",
   "execution_count": null,
   "outputs": [],
   "source": [
    "# # Finance Costs:\n",
    "# finance_costs = models.linear.compose_finance_costs(\n",
    "#     project_params=project_params,\n",
    "#     preliminaries_costs=preliminaries,\n",
    "#     build_costs=build_costs\n",
    "# )\n",
    "#\n",
    "# display(\"Financing Costs Calculation: \")\n",
    "# display(finance_costs.frame.transpose())#_year.frame.transpose())\n",
    "#\n",
    "# interest_costs = finance_costs.extract('interest').to_stream(periodicity=project_params['periodicity'])\n",
    "#\n",
    "# display(\"Interest Costs: \")\n",
    "# display(interest_costs.frame.transpose())\n",
    "#\n",
    "# display(\"Interest Cost Total: \")\n",
    "# display(interest_costs.collapse().frame.transpose())"
   ],
   "metadata": {
    "collapsed": false
   }
  },
  {
   "cell_type": "markdown",
   "source": [
    "2.5 Compose Net Development Costs:"
   ],
   "metadata": {
    "collapsed": false
   }
  },
  {
   "cell_type": "code",
   "execution_count": null,
   "outputs": [],
   "source": [
    "# net_development_costs = flux.Stream.merge(\n",
    "#     streams=[preliminaries, build_costs, interest_costs],\n",
    "#     name='net_development_costs',\n",
    "#     periodicity=project_params['periodicity'])\n",
    "#\n",
    "# display(\"Net Development Costs: \")\n",
    "# display(net_development_costs.frame.transpose())\n",
    "#\n",
    "# display(\"Net Development Costs Subtotals: \")\n",
    "# display(net_development_costs.collapse().frame.transpose())\n",
    "#\n",
    "# display(\"Net Development Costs Total: \")\n",
    "# display(net_development_costs.collapse().sum(name='net_development_costs_total').to_stream(periodicity=project_params['periodicity']).frame.transpose())\n",
    "#"
   ],
   "metadata": {
    "collapsed": false
   }
  },
  {
   "cell_type": "markdown",
   "source": [
    "3 Compose Revenues:"
   ],
   "metadata": {
    "collapsed": false
   }
  },
  {
   "cell_type": "code",
   "execution_count": null,
   "outputs": [],
   "source": [
    "# revenues = models.linear.compose_revenues(\n",
    "#     property_params=property_params,\n",
    "#     project_params=project_params)\n",
    "#\n",
    "# display(\"Revenues: \")\n",
    "# display(revenues.frame.transpose())\n",
    "#\n",
    "# display(\"Revenues Subtotals: \")\n",
    "# display(revenues.collapse().frame.transpose())\n",
    "#\n",
    "# display(\"Revenues Totals: \")\n",
    "# display(revenues.collapse().sum(name='revenues_total').to_stream(periodicity=project_params['periodicity']).frame.transpose())"
   ],
   "metadata": {
    "collapsed": false
   }
  },
  {
   "cell_type": "markdown",
   "source": [
    "4 Net Development Revenue:"
   ],
   "metadata": {
    "collapsed": false
   }
  },
  {
   "cell_type": "code",
   "execution_count": null,
   "outputs": [],
   "source": [
    "# ndr_stream = flux.Stream(\n",
    "#     name='net_development_revenue',\n",
    "#     flows=[net_development_costs.sum().invert(), revenues.sum()],\n",
    "#     periodicity=project_params['periodicity'])\n",
    "#\n",
    "# display(\"Net Development Revenue: \")\n",
    "# display(ndr_stream.frame.transpose())\n",
    "#\n",
    "# net_development_revenue = ndr_stream.sum()\n",
    "# display(net_development_revenue.to_stream(periodicity=project_params['periodicity']).frame.transpose())\n",
    "# display(net_development_revenue.sum().to_stream(periodicity=project_params['periodicity']).frame.transpose())"
   ],
   "metadata": {
    "collapsed": false
   }
  },
  {
   "cell_type": "markdown",
   "source": [
    "5 Project-level Returns:"
   ],
   "metadata": {
    "collapsed": false
   }
  },
  {
   "cell_type": "code",
   "execution_count": null,
   "outputs": [],
   "source": [
    "# margin = (project_params['margin_on_cost_reqd'] * net_development_costs.collapse().sum().movements)[0]\n",
    "# residual_land_value = net_development_revenue.sum().movements[0] - margin\n",
    "# display(\"Residual Land Value: \" + str(residual_land_value))\n",
    "#\n",
    "# investment_flow = flux.Flow.from_dict(\n",
    "#     name='investment',\n",
    "#     movements={project_params['start_date']: (-1) * residual_land_value },\n",
    "#     units=project_params['units'])\n",
    "# ndr_stream.append(flows=[investment_flow])\n",
    "#\n",
    "# net_development_flow = ndr_stream.sum()\n",
    "# display(net_development_flow.to_stream(periodicity=project_params['periodicity']).frame.transpose())\n",
    "#\n",
    "# irr = net_development_flow.xirr()\n",
    "# display(\"Project IRR: \" + str(irr))\n",
    "\n"
   ],
   "metadata": {
    "collapsed": false
   }
  }
 ],
 "metadata": {
  "kernelspec": {
   "display_name": "Python 3",
   "language": "python",
   "name": "python3"
  },
  "language_info": {
   "codemirror_mode": {
    "name": "ipython",
    "version": 2
   },
   "file_extension": ".py",
   "mimetype": "text/x-python",
   "name": "python",
   "nbconvert_exporter": "python",
   "pygments_lexer": "ipython2",
   "version": "2.7.6"
  }
 },
 "nbformat": 4,
 "nbformat_minor": 0
}
