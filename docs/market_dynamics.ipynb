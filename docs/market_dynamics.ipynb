{
 "cells": [
  {
   "cell_type": "markdown",
   "source": [
    "# Probabilistic Scenario Analysis\n",
    "Geltner & de Neufville (2018) continue in Chapter 5 to outline how scenario outcomes are based on the probability of certain situations or circumstances occuring. In Chapter 7, the qualities of real estate market dynamics are described, which are implemented in the Rangekeeper 'Dyanamics' module:"
   ],
   "metadata": {
    "collapsed": false
   }
  },
  {
   "cell_type": "markdown",
   "source": [],
   "metadata": {
    "collapsed": false
   }
  },
  {
   "cell_type": "markdown",
   "source": [
    "## Real Estate Pricing Factor Dynamics\n",
    "\n",
    "Geltner & de Neufville (2018) document the following characteristics of real estate markets:\n",
    "1. Non-substitutability and non-fungibility of real estate assets.\n",
    "2. Inefficiency of information processing in real estate markets.\n",
    "3. Autoregression in real estate pricing\n",
    "4. Cyclicality in real estate pricing\n",
    "5. Mean reversion in real estate pricing\n",
    "\n",
    "Because of these, the real estate pricing dynamics that are input into simulations should include autoregression, cyclicality, and mean‐reversion, in addition to random-walk process.\n",
    "\n",
    "The methodology to produce a simulation of a real estate market is by using 'pricing factors'; a ratio that multiplies the original, single‐stream pro forma cash flow expectation to arrive at a future cash flow outcome for a given scenario. The use of pricing factors as a way to develop representative\n",
    "scenarios based on available data on the historical variations in market prices for real estate. In this methodology, the pricing factors substantially enhance the traditional random walk process, by recognizing the special features of the dynamics of real estate markets. The resulting output simulation distributions offer a much richer and fuller picture of the future than the traditional, single‐stream DCF.\n",
    "\n",
    "```{figure} resources/FaREVuU-figure7.2.png\n",
    "---\n",
    "width: 100%\n",
    "name: FaREVuU-figure7.2\n",
    "---\n",
    "Figure 7.2 From Geltner & De Neufville, 2018\n",
    "```"
   ],
   "metadata": {
    "collapsed": false
   }
  },
  {
   "cell_type": "markdown",
   "source": [
    "The following demonstrates Rangekeeper's implementation of the 'MktDynamicsInputs' tab(s) used in the accompanying Excel spreadsheets to Geltner & de Neufville (2018)."
   ],
   "metadata": {
    "collapsed": false
   }
  },
  {
   "cell_type": "code",
   "execution_count": 1,
   "outputs": [],
   "source": [
    "import pandas as pd\n",
    "\n",
    "import rangekeeper as rk"
   ],
   "metadata": {
    "collapsed": false
   }
  },
  {
   "cell_type": "code",
   "execution_count": 2,
   "outputs": [
    {
     "data": {
      "text/plain": "Span: Span\nStart Date: 2001-01-01\nEnd Date: 2025-12-31"
     },
     "execution_count": 2,
     "metadata": {},
     "output_type": "execute_result"
    }
   ],
   "source": [
    "\n",
    "period_type = rk.periodicity.Type.YEAR\n",
    "span = rk.span.Span.from_num_periods(\n",
    "    name=\"Span\",\n",
    "    date=pd.Timestamp(2001, 1, 1),\n",
    "    period_type=period_type,\n",
    "    num_periods=25)\n",
    "span"
   ],
   "metadata": {
    "collapsed": false
   }
  },
  {
   "cell_type": "markdown",
   "source": [
    "### Overall Trend"
   ],
   "metadata": {
    "collapsed": false
   }
  },
  {
   "cell_type": "markdown",
   "source": [
    "First, we set up the general (rental) market trend (excluding volatility), which requires the following parameters:"
   ],
   "metadata": {
    "collapsed": false
   }
  },
  {
   "cell_type": "markdown",
   "source": [
    "```{margin}\n",
    "```{dropdown} Initial Price Factor\n",
    "This governs the base rental (net income) value as a fraction of asset value. To normalize the values by giving them a \"base\" value of 1.00, we have set this equal to the cap rate (net income yield). This will make the resulting rental market price factor 1.00 in Year 0, such that subsequent price factors will be ratios of the pro-forma cash flow expectations.\n",
    "\n",
    "(From {cite}`farevuu2018`, accompanying Excel spreadsheets)\n",
    "```"
   ],
   "metadata": {
    "collapsed": false
   }
  },
  {
   "cell_type": "markdown",
   "source": [
    "```{margin}\n",
    "```{dropdown} Cap Rate\n",
    "This is the long-run mean cap rate around which the capital market cycle varies, that is, this is the cap rate toward which the market reverts over the cycle. This relates to the reversion (going-out) cap rate that will be applied upon resale.\n",
    "\n",
    "You can set this so that the inflexible (10yr) reversion will exactly match a pro-forma reversion amount in the Base Case. Just set this as the ratio of the pro-forma Yr11 NOI divided by the pro-forma reversion (gross of selling expenses).\n",
    "\n",
    "Note that if this long-run cap rate is set to a value much above (below) the going-in cap rate implied by the initial price, then the result will be to tend to favor flexible resale timing later (earlier), so as to mitigate (maximize) the unfavorable (favorable) effect of the yield change between the buy and the sell.\n",
    "\n",
    "A plausible value for this input would equal the discount rate minus the pro-forma growth rate, plus 100 to 200 basis-points for capital improvements expenditures.\n",
    "\n",
    "(From {cite}`farevuu2018`, accompanying Excel spreadsheets)\n",
    "```"
   ],
   "metadata": {
    "collapsed": false
   }
  },
  {
   "cell_type": "markdown",
   "source": [
    "```{margin}\n",
    "```{dropdown} Rent Residual\n",
    "The residual is used to model the uncertainty in the initial rent estimated in the pro-forma. In {cite}`farevuu2018`, this is the half-range of a triangular distribution as a proportion of Initial Rent Price Factor (entered above). Using Rangekeeper, additional distribution forms are also available, if wanted. Typically you wouldn't enter more than 0.05 or 0.1 here, at most. Initial rents should be able to be estimated pretty accurately in the realistic pro-forma, especially for existing buildings.\n",
    "\n",
    "(From {cite}`farevuu2018`, accompanying Excel spreadsheets)\n",
    "```"
   ],
   "metadata": {
    "collapsed": false
   }
  },
  {
   "cell_type": "markdown",
   "source": [
    "```{margin}\n",
    "```{dropdown} Long-run Trend Mean\n",
    "This will govern the central tendency of the long-run growth rate trend that will apply over the entire scenario. As Pricing Factors are only RELATIVE TO the traditional pro-forma which should contain any realistic expected growth, the default value input here should normally be zero in principle. However, in the Base Case we make this incremental trend slightly negative to counteract the effect of some minor inconsistencies. (The pro forma does not recognize any Black Swan probability, and has zero selling expenses. The cap rate cycle is symmetric in the cap rate, but that gives resulting capital value levels an upward bias. These factors may interact with other elements of the price dynamics.) Ideally for a more representative sample and better \"apples-to-apples\" comparisons, you want to set this input so that the t-statistic of the InflxPV-ProFormaPV (cell K13) is generally near zero (and almost always < 1.96 in absolute value). You may need to change the LR Trend Mean input as you change other price dynamics input parameter assumptions away from the Base Case assumptions.\n",
    "\n",
    "(From {cite}`farevuu2018`, accompanying Excel spreadsheets)\n",
    "```"
   ],
   "metadata": {
    "collapsed": false
   }
  },
  {
   "cell_type": "markdown",
   "source": [
    "```{margin}\n",
    "```{dropdown} Long Run Trend Residual\n",
    "This is to model uncertainty in the long-run trend growth rate (that applies throughout the entire scenario. In {cite}`farevuu2018`, this is modeled as a triangular distribution (again Rangekeeper provides other distributions easily), and the half-range should typically be a small value, at most .01 or .02, unless there is great uncertainty in the long-run average growth rate in the economy (such as perhaps in some emerging market countries), or if one is modeling nominal values and there is great uncertainty about what the future rate of inflation will be (but in such cases it is better to model real values, net of inflation anyway).\n",
    "\n",
    "(From {cite}`farevuu2018`, accompanying Excel spreadsheets)\n",
    "```"
   ],
   "metadata": {
    "collapsed": false
   }
  },
  {
   "cell_type": "code",
   "execution_count": 3,
   "outputs": [],
   "source": [
    "trend_params = {\n",
    "    'initial_price_factor': 1.,\n",
    "    'cap_rate': .05,\n",
    "    'rent_residual': .005,\n",
    "    'trend_mean': -0.0005,\n",
    "    'trend_residual': .005,\n",
    "    }\n",
    "trend_params['rent_mean'] = trend_params['cap_rate'] * trend_params['initial_price_factor']"
   ],
   "metadata": {
    "collapsed": false
   }
  },
  {
   "cell_type": "markdown",
   "source": [
    "Rangekeeper can now produce the trend for the rental market:"
   ],
   "metadata": {
    "collapsed": false
   }
  },
  {
   "cell_type": "code",
   "execution_count": 4,
   "outputs": [
    {
     "ename": "AttributeError",
     "evalue": "module 'rangekeeper.dynamics.trend' has no attribute 'Trend'",
     "output_type": "error",
     "traceback": [
      "\u001B[0;31m---------------------------------------------------------------------------\u001B[0m",
      "\u001B[0;31mAttributeError\u001B[0m                            Traceback (most recent call last)",
      "Cell \u001B[0;32mIn[4], line 1\u001B[0m\n\u001B[0;32m----> 1\u001B[0m market_trend \u001B[38;5;241m=\u001B[39m \u001B[43mrk\u001B[49m\u001B[38;5;241;43m.\u001B[39;49m\u001B[43mdynamics\u001B[49m\u001B[38;5;241;43m.\u001B[39;49m\u001B[43mtrend\u001B[49m\u001B[38;5;241;43m.\u001B[39;49m\u001B[43mTrend\u001B[49m(\n\u001B[1;32m      2\u001B[0m     span\u001B[38;5;241m=\u001B[39mspan,\n\u001B[1;32m      3\u001B[0m     period_type\u001B[38;5;241m=\u001B[39mperiod_type,\n\u001B[1;32m      4\u001B[0m     params\u001B[38;5;241m=\u001B[39mtrend_params)\n\u001B[1;32m      5\u001B[0m \u001B[38;5;28mprint\u001B[39m(\u001B[38;5;124m'\u001B[39m\u001B[38;5;124mTrend Specification:\u001B[39m\u001B[38;5;130;01m\\n\u001B[39;00m\u001B[38;5;124mInitial Rent: \u001B[39m\u001B[38;5;132;01m{0}\u001B[39;00m\u001B[38;5;130;01m\\n\u001B[39;00m\u001B[38;5;124mGrowth Rate: \u001B[39m\u001B[38;5;132;01m{1}\u001B[39;00m\u001B[38;5;124m'\u001B[39m\u001B[38;5;241m.\u001B[39mformat(\u001B[38;5;28mround\u001B[39m(market_trend\u001B[38;5;241m.\u001B[39minitial_rent, \u001B[38;5;241m4\u001B[39m), \u001B[38;5;28mround\u001B[39m(market_trend\u001B[38;5;241m.\u001B[39mtrend_rate, \u001B[38;5;241m4\u001B[39m)))\n\u001B[1;32m      6\u001B[0m market_trend\u001B[38;5;241m.\u001B[39mtrend\u001B[38;5;241m.\u001B[39mplot()\n",
      "\u001B[0;31mAttributeError\u001B[0m: module 'rangekeeper.dynamics.trend' has no attribute 'Trend'"
     ]
    }
   ],
   "source": [
    "market_trend = rk.dynamics.trend.Trend(\n",
    "    span=span,\n",
    "    period_type=period_type,\n",
    "    params=trend_params)\n",
    "print('Trend Specification:\\nInitial Rent: {0}\\nGrowth Rate: {1}'.format(round(market_trend.initial_rent, 4), round(market_trend.trend_rate, 4)))\n",
    "market_trend.trend.plot()"
   ],
   "metadata": {
    "collapsed": false
   }
  },
  {
   "cell_type": "markdown",
   "source": [
    "To introduce volatility, we require the following parameters:"
   ],
   "metadata": {
    "collapsed": false
   }
  },
  {
   "cell_type": "markdown",
   "source": [
    "```{margin}\n",
    "```{dropdown} Volatility:\n",
    "\"Volatility\" refers to the standard deviation across time (longitudinal dispersion), in the changes or returns (differences from one period to the next). Volatility \"accumulates\" in the sense that the realization of the change in one period becomes embedded in the level (of rents) going forward into the next period, whose change is then added on top of the previous level (of rents). The volatility realizations tracked in this column apply only to the \"innovations\" in the rent level. If there is autoregression (next columns) then that will also affect the annual volatility in the rent changes.\n",
    "\n",
    "Evidence indicates that in mature markets such as the U.S., real estate market volatility (not including individual building idiosyncratic risk) is on the order of 10%. However, this includes the effect of long-term cycles as well as annual accumulating volatility. If you are modeling an individual stabilized building, then you should probably set this in the range of 10% to 15% (which would reflect some idiosyncratic risk as well as market risk).\n",
    "\n",
    "This is a normal (Gaussian) distribution. Note that volatility is realized (new random increment is generated) in EACH period, so that this \"risk\" outcome accumulates in the history of rent levels. But this is just the volatility in the innovations. If there is autoregression then that will also affect the annual volatility. Cycles well also affect the average volatility observed  empirically across the scenario.\n",
    "\n",
    "(From {cite}`farevuu2018`, accompanying Excel spreadsheets)\n",
    "```"
   ],
   "metadata": {
    "collapsed": false
   }
  },
  {
   "cell_type": "markdown",
   "source": [
    "```{margin}\n",
    "```{dropdown} Autoregression:\n",
    "This reflects the inertia in the price movements.\n",
    "\n",
    "Unless overriden by input on the Dashboard, enter here a value which for the relevant market indicates the degree of inertia. This is the autoregression parameter, which indicates what proportion of the previous period's return (price change) will automatically become a component of the current period's return (price change). In most real estate markets this would typically be a positive fraction, perhaps in the range +0.1 to +0.5. In more liquid and informationally efficient asset markets such as stock markets you might leave this at zero (no inertia). A \"noisy\" market would have a negative autoregression parameter, however, we deal with noise separately in a column farther to the right.\n",
    "\n",
    "This is the proportion of the current period's return that will be \"baked in\" reflecting the previous period's return. The greater this parameter (which must be >0 & < 1), the more inertia or momentum the real estate prices will have. Empirical evidence indicates that this should probably be a small positive fraction, perhaps in the neighborhood of 0.2.\n",
    "```"
   ],
   "metadata": {
    "collapsed": false
   }
  },
  {
   "cell_type": "markdown",
   "source": [
    "```{margin}\n",
    "```{dropdown} Mean Reversion:\n",
    "This is the mean reversion parameter. It determines the strength (or speed) of the mean reversion tendency in the price levels. It is the proportion of the previous period's difference of the price level from the long-term trend price level that will be eliminated in the current price level. This parameter should be between zero and 1, probably not very close to 1. For example, if the previous price level were 1.0, and the long-term trend price level for that period were 1.2, and if the mean reversion parameter were 0.5, then 0.5*(1.2-1.0) = 0.10 will be added to this period's price level.  Input here may be overriden by input on the Dashboard sheet.\n",
    "\n",
    "This parameter will also impart inertia or momentum into the real estate prices, but in a special way, pulling the prices back towards the long-run trend level (not including any cycle that is in the price dynamics). This parameter is the proportion of the deviation between the current price level and the long-run trend level that will be reduced in each year. Evidence suggests that a mean reversion rate on the order of 0.1 to 0.4 is probably appropriate, especially for individual properties (as distinct from total market aggregates).\n",
    "```"
   ],
   "metadata": {
    "collapsed": false
   }
  },
  {
   "cell_type": "code",
   "execution_count": null,
   "outputs": [],
   "source": [
    "volatility_params = {\n",
    "    'volatility_per_period': .1,\n",
    "    'autoregression_param': .2,\n",
    "    'mean_reversion_param': .3,\n",
    "    }"
   ],
   "metadata": {
    "collapsed": false
   }
  },
  {
   "cell_type": "code",
   "execution_count": null,
   "outputs": [],
   "source": [
    "market_volatility = rk.dynamics.volatility.Volatility(\n",
    "    trend=market_trend,\n",
    "    params=volatility_params)"
   ],
   "metadata": {
    "collapsed": false
   }
  },
  {
   "cell_type": "markdown",
   "source": [
    "We can now see the volatility with respect to the trend:"
   ],
   "metadata": {
    "collapsed": false
   }
  },
  {
   "cell_type": "code",
   "execution_count": null,
   "outputs": [],
   "source": [
    "rent_market = rk.flux.Stream(\n",
    "    name='Rent Market',\n",
    "    flows=[market_volatility.cumulative_volatility, market_trend.trend],\n",
    "    period_type=period_type)\n",
    "rent_market.plot(normalize=True)"
   ],
   "metadata": {
    "collapsed": false
   }
  },
  {
   "cell_type": "markdown",
   "source": [
    "### Cyclicality"
   ],
   "metadata": {
    "collapsed": false
   }
  },
  {
   "cell_type": "markdown",
   "source": [
    "This models a (possibly somewhat) predictable long-term cycle in the pricing. In fact, there are two cycles, not necessarily in sync, one for the space market (rents) and another separate cycle for the asset market (capital flows), the latter reflected by the cap rate. We model each separately, the space market cycle in this column and the asset market cycle in a column to the right. Cycles are modeled by generalized sine functions governed by the given input period, amplitude, and phase.\n"
   ],
   "metadata": {
    "collapsed": false
   }
  },
  {
   "cell_type": "markdown",
   "source": [
    "```{margin}\n",
    "```{dropdown} Space Cycle Period:\n",
    "In the U.S. the real estate market cycle seems to be in the range of 10 to 20 years. This will randomly generate the cycle period governing each future history to be between 10 and 20 years.\n",
    "```\n"
   ],
   "metadata": {
    "collapsed": false
   }
  },
  {
   "cell_type": "markdown",
   "source": [
    "```{margin}\n",
    "```{dropdown} Space Cycle Span:\n",
    "If you make this equal to a uniform random variable times the rent cycle period then the span will range from starting anywhere from peak to trough with equal likelihood.\n",
    "E.g.:\n",
    "'rent_cycle_span_mean' = distribution.Uniform().sample() * rent_cycle_period_avg,\n",
    "\n",
    "If you think you know where you are in the cycle, then use this relationship of Span to Cycle Period:\n",
    "Span:         Cycle:\n",
    "(1/4)Period = Bottom of cycle, headed up.\n",
    "(1/2)Period = Mid-cycle, headed down.\n",
    "(3/4)Period = Top of cycle, headed down.\n",
    "(1/1)Period = Mid-cycle, headed up.\n",
    "\n",
    "Example, if you enter 20 in cycle period, and you enter 5 in cycle span, then the cycle will be starting out in the first year at the bottom of the cycle, heading up from there.\n",
    "\n",
    "Please note that with the compound-sine asymetric cycle formula, the peak parameter is slightly off from the above; 0.65*Period seems to start the cycle closer to the peak.\n",
    "For example, if you want the span to vary randomly and uniformly over the 1/8 of the cycle that is the top of the upswing (late boom just before downturn), you would enter:\n",
    ".175 * distribution.Uniform().sample() +.65 * rent_cycle_period_avg\n",
    "```"
   ],
   "metadata": {
    "collapsed": false
   }
  },
  {
   "cell_type": "markdown",
   "source": [
    "```{margin}\n",
    "```{dropdown} Space Cycle Amplitude:\n",
    "This is the peak-to-trough full cycle amplitude as a fraction of the mid-cycle level. Historically in the U.S. such cycles in investment property have been as much as 50% or more in some markets in the rental market (including both rent prices & occupancy effect and considering the leverage that fixed operating expenses have on the bottom-line net cash flow). The Pricing Factors in this model apply to net cash flows, not just top-line potential gross rental revenue.\n",
    "```"
   ],
   "metadata": {
    "collapsed": false
   }
  },
  {
   "cell_type": "markdown",
   "source": [
    "```{margin}\n",
    "```{dropdown} Asset Cycle Span:\n",
    "This cap rate cycle input is the negative of the actual cap rate cycle, you can think of the span in the same way as the space market span. These two cycles are not generally exactly in sync, but the usually are not too far off. Hence, probably makes sense to set this asset market span equal to the space market span +/- some random difference that is a pretty small fraction of the cycle period.\n",
    "\n",
    "Remember that peak-to-trough is half period, LR mean to either peak or trough is quarter period.\n",
    "E.g.: rent_cycle_span + (distribution.Uniform().sample() * cap_rate_cycle_period/5) - cap_rate_cycle_period/10\n",
    "Above would let asset span differ from space span by +/- a bit less than a quarter-period (here, a fifth of the asset cycle period).\n",
    "```"
   ],
   "metadata": {
    "collapsed": false
   }
  },
  {
   "cell_type": "markdown",
   "source": [
    "```{margin}\n",
    "```{dropdown} Asset Cycle Amplitude:\n",
    "This is in cap rate units, so keep in mind the magnitude of the initial cap rate entered previously. For example, if the initial (base) cap rate entered there is 5.00%, and you enter 2.00% here, then this will mean a cap rate cycle swinging between 4.00% & 6.00%, which corresponds roughly to a property value swing of +/-20% (other things equal).\n",
    "\n",
    "Note also that because this cycle is symmetric but operates in the denominator of the pricing factors governing the simulated future cash flows,\n",
    "this cycle imparts a positive bias into the project ex post cash flows relative to the proforma expected cash flows.\n",
    "```"
   ],
   "metadata": {
    "collapsed": false
   }
  },
  {
   "cell_type": "code",
   "execution_count": null,
   "outputs": [],
   "source": [
    "cyclicality_params = {\n",
    "        'space_cycle_period_mean': 15.,\n",
    "        'space_cycle_period_residual': 5.,\n",
    "        'space_cycle_period_dist': rk.distribution.Type.uniform,\n",
    "\n",
    "        'space_cycle_span_offset': .175,\n",
    "        'space_cycle_span_residual': .05,\n",
    "        'space_cycle_span_dist': rk.distribution.Type.PERT,\n",
    "\n",
    "        'space_cycle_amplitude_mean': .15,\n",
    "        'space_cycle_amplitude_residual': .025,\n",
    "        'space_cycle_amplitude_dist': rk.distribution.Type.uniform,\n",
    "\n",
    "        'asset_cycle_period_offset': 0.,\n",
    "        'asset_cycle_period_residual': 1.,\n",
    "        'asset_cycle_period_dist': rk.distribution.Type.uniform,\n",
    "\n",
    "        'asset_cycle_span_offset': 0.,\n",
    "        'asset_cycle_span_residual': .2,\n",
    "        'asset_cycle_span_dist': rk.distribution.Type.uniform,\n",
    "\n",
    "        'asset_cycle_amplitude_mean': .01,\n",
    "        'asset_cycle_amplitude_residual': .0015,\n",
    "        'asset_cycle_amplitude_dist': rk.distribution.Type.PERT,\n",
    "\n",
    "        'space_cycle_asymmetric_parameter': .5,\n",
    "        'asset_cycle_asymmetric_parameter': .5\n",
    "        }"
   ],
   "metadata": {
    "collapsed": false
   }
  },
  {
   "cell_type": "code",
   "execution_count": null,
   "outputs": [],
   "source": [
    "market_cyclicality = rk.dynamics.cyclicality.Cyclicality(\n",
    "    params=cyclicality_params,\n",
    "    index=market_trend.trend.movements.index)"
   ],
   "metadata": {
    "collapsed": false
   }
  },
  {
   "cell_type": "code",
   "execution_count": null,
   "outputs": [],
   "source": [
    "market_waves = rk.flux.Stream(\n",
    "    name='Market Waves',\n",
    "    flows=[market_cyclicality.space_waveform, market_cyclicality.asset_waveform],\n",
    "    period_type=period_type)\n",
    "market_waves.plot(\n",
    "    flows={\n",
    "        'space_waveform': (0, 1.4),\n",
    "        'asset_waveform': (-0.015, 0.015)\n",
    "        }\n",
    "    )"
   ],
   "metadata": {
    "collapsed": false
   }
  },
  {
   "cell_type": "code",
   "execution_count": null,
   "outputs": [],
   "source": [
    "market_params = {\n",
    "    'noise_residual': .015,\n",
    "    'cap_rate': trend_params['cap_rate'],\n",
    "    'black_swan_likelihood': .05,\n",
    "    'black_swan_dissipation_rate': volatility_params['mean_reversion_param'],\n",
    "    'black_swan_impact': rk.distribution.PERT(\n",
    "        peak=-.3,\n",
    "        weighting=4.,\n",
    "        minimum=-.4,\n",
    "        maximum=-.2).sample(),\n",
    "    'black_swan_prob_dist': rk.distribution.Uniform()\n",
    "    }"
   ],
   "metadata": {
    "collapsed": false
   }
  },
  {
   "cell_type": "code",
   "execution_count": null,
   "outputs": [],
   "source": [
    "market_dynamics = rk.dynamics.market.Market(\n",
    "    params=market_params,\n",
    "    trend=market_trend,\n",
    "    volatility=market_volatility,\n",
    "    cyclicality=market_cyclicality)"
   ],
   "metadata": {
    "collapsed": false
   }
  },
  {
   "cell_type": "code",
   "execution_count": null,
   "outputs": [],
   "source": [
    "rk.flux.Stream(\n",
    "    name='Market Dynamics',\n",
    "    flows=[market_trend.trend, market_dynamics.historical_value],\n",
    "    period_type=period_type).plot(\n",
    "        flows={\n",
    "            'Market Trend': (.04, .06),\n",
    "            'Historical Value': (0, 2.5)\n",
    "            }\n",
    "        )"
   ],
   "metadata": {
    "collapsed": false
   }
  },
  {
   "cell_type": "code",
   "execution_count": null,
   "outputs": [],
   "source": [
    "rk.flux.Stream(\n",
    "    name='Market Dynamics Composite',\n",
    "    flows=[\n",
    "        market_trend.trend,\n",
    "        market_volatility.cumulative_volatility,\n",
    "        market_dynamics.space_market,\n",
    "        market_dynamics.asset_true_value,\n",
    "        market_dynamics.noisy_value,\n",
    "        market_dynamics.historical_value\n",
    "        ],\n",
    "    period_type=period_type).plot(\n",
    "        flows={\n",
    "            'Market Trend': (0, .09),\n",
    "            'Cumulative Volatility': (0, .09),\n",
    "            'Space Market': (0, .09),\n",
    "            'Asset True Value': (0, 2.5),\n",
    "            'Noisy Value': (0, 2.5),\n",
    "            'Historical Value': (0, 2.5)\n",
    "            }\n",
    "    )"
   ],
   "metadata": {
    "collapsed": false
   }
  },
  {
   "cell_type": "code",
   "execution_count": null,
   "outputs": [],
   "source": [],
   "metadata": {
    "collapsed": false
   }
  }
 ],
 "metadata": {
  "kernelspec": {
   "display_name": "Python 3",
   "language": "python",
   "name": "python3"
  },
  "language_info": {
   "codemirror_mode": {
    "name": "ipython",
    "version": 2
   },
   "file_extension": ".py",
   "mimetype": "text/x-python",
   "name": "python",
   "nbconvert_exporter": "python",
   "pygments_lexer": "ipython2",
   "version": "2.7.6"
  }
 },
 "nbformat": 4,
 "nbformat_minor": 0
}
