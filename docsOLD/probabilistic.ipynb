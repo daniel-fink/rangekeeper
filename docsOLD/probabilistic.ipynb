{
 "cells": [
  {
   "cell_type": "code",
   "execution_count": 1,
   "outputs": [],
   "source": [
    "import pandas as pd\n",
    "import numpy_financial\n",
    "from typing import Dict\n",
    "import datetime\n",
    "import aenum\n",
    "\n",
    "import distribution\n",
    "from flux import Flow, Stream\n",
    "from space import Apartment\n",
    "from units import Units\n",
    "from periodicity import Periodicity\n",
    "from distribution import Type, Uniform, Exponential\n",
    "from span import Span"
   ],
   "metadata": {
    "collapsed": false,
    "pycharm": {
     "name": "#%%\n"
    }
   }
  },
  {
   "cell_type": "code",
   "execution_count": 3,
   "outputs": [
    {
     "name": "stdout",
     "output_type": "stream",
     "text": [
      "7\n"
     ]
    },
    {
     "data": {
      "text/plain": "-9"
     },
     "execution_count": 3,
     "metadata": {},
     "output_type": "execute_result"
    }
   ],
   "source": [
    "rng = 7\n",
    "\n",
    "if rng is None:\n",
    "    rng = 5\n",
    "\n",
    "print(rng)\n",
    "\n",
    "\n",
    "operation_span = Span.from_num_periods(name='Operation',\n",
    "                                         start_date=pd.Timestamp(2021,1,1),\n",
    "                                         period_type=Periodicity.Type.year,\n",
    "                                         num_periods=9)\n",
    "\n",
    "operation_span.relativedelta.years"
   ],
   "metadata": {
    "collapsed": false,
    "pycharm": {
     "name": "#%%\n"
    }
   }
  },
  {
   "cell_type": "code",
   "execution_count": null,
   "outputs": [],
   "source": [],
   "metadata": {
    "collapsed": false,
    "pycharm": {
     "name": "#%%\n"
    }
   }
  }
 ],
 "metadata": {
  "kernelspec": {
   "display_name": "Python 3",
   "language": "python",
   "name": "python3"
  },
  "language_info": {
   "codemirror_mode": {
    "name": "ipython",
    "version": 2
   },
   "file_extension": ".py",
   "mimetype": "text/x-python",
   "name": "python",
   "nbconvert_exporter": "python",
   "pygments_lexer": "ipython2",
   "version": "2.7.6"
  }
 },
 "nbformat": 4,
 "nbformat_minor": 0
}