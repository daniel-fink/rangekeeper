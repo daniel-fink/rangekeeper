{
 "cells": [
  {
   "cell_type": "markdown",
   "source": [
    "# Deterministic Scenario Analysis\n",
    "Chapter 4 of {cite}`farevuu2018` presents the concept of various \"scenarios\" of\n",
    "cashflows by varying key input parameters or modyfing how certain cashflows are\n",
    "produced.\n",
    "\n",
    "In order to replicate this with *Rangekeeper*, we integrate all the steps to\n",
    "produce a proforma model into a single class, where this class accepts a\n",
    "`dictionary` of input parameters. This allows us to easily create alternate\n",
    "scenarios by simply changing the parameters in the dictionary."
   ],
   "metadata": {
    "collapsed": false
   }
  },
  {
   "cell_type": "markdown",
   "source": [
    "Specifically, we will be recreating the three DCF Scenarios in Table 4.1:\n",
    "```{figure} resources/FaREVuU-table4.1.png\n",
    "---\n",
    "width: 100%\n",
    "name: FaREVuU-table4.1\n",
    "---\n",
    "Table 4.1 from {cite}`farevuu2018`\n",
    "```"
   ],
   "metadata": {
    "collapsed": false
   }
  },
  {
   "cell_type": "markdown",
   "source": [
    "Again we import the necessary libraries:"
   ],
   "metadata": {
    "collapsed": false
   }
  },
  {
   "cell_type": "code",
   "execution_count": 18,
   "outputs": [],
   "source": [
    "import locale\n",
    "import pandas as pd\n",
    "\n",
    "import rangekeeper as rk"
   ],
   "metadata": {
    "collapsed": false,
    "ExecuteTime": {
     "end_time": "2024-03-14T11:29:43.843836Z",
     "start_time": "2024-03-14T11:29:43.842019Z"
    }
   }
  },
  {
   "cell_type": "markdown",
   "source": [
    "## Base Parameters"
   ],
   "metadata": {
    "collapsed": false
   }
  },
  {
   "cell_type": "markdown",
   "source": [
    "First let's set up the Proforma Model's parameters. These will be formatted as a\n",
    "dictionary of inputs:"
   ],
   "metadata": {
    "collapsed": false
   }
  },
  {
   "cell_type": "code",
   "execution_count": 19,
   "outputs": [],
   "source": [
    "locale.setlocale(locale.LC_ALL, 'en_AU')\n",
    "units = rk.measure.Index.registry\n",
    "currency = rk.measure.register_currency(registry=units)\n",
    "params = {\n",
    "    'start_date': pd.Timestamp('2001-01-01'),\n",
    "    'num_periods': 10,\n",
    "    'frequency': rk.duration.Type.YEAR,\n",
    "    'acquisition_cost': -1000 * currency.units,\n",
    "    'initial_income': 100 * currency.units,\n",
    "    'growth_rate': 0.02,\n",
    "    'vacancy_rate': 0.05,\n",
    "    'opex_pgi_ratio': 0.35,\n",
    "    'capex_pgi_ratio': 0.1,\n",
    "    'exit_caprate': 0.05,\n",
    "    'discount_rate': 0.07,\n",
    "\n",
    "    # Table 4.1 has proformas that absorb an additional straight-line income flow:\n",
    "    'addl_pgi_init': 0,\n",
    "    'addl_pgi_slope': 0,\n",
    "    }"
   ],
   "metadata": {
    "collapsed": false,
    "ExecuteTime": {
     "end_time": "2024-03-14T11:29:43.897354Z",
     "start_time": "2024-03-14T11:29:43.893547Z"
    }
   }
  },
  {
   "cell_type": "markdown",
   "source": [
    "## Base Proforma Model"
   ],
   "metadata": {
    "collapsed": false
   }
  },
  {
   "cell_type": "markdown",
   "source": [
    "Then let's set up the base proforma model, which will accept the `dict` of\n",
    "parameters on initialization:"
   ],
   "metadata": {
    "collapsed": false
   }
  },
  {
   "cell_type": "code",
   "execution_count": 20,
   "outputs": [],
   "source": [
    "class Model:\n",
    "    def __init__(self, params: dict):\n",
    "        self.params = params"
   ],
   "metadata": {
    "collapsed": false,
    "ExecuteTime": {
     "end_time": "2024-03-14T11:29:43.900078Z",
     "start_time": "2024-03-14T11:29:43.898473Z"
    }
   }
  },
  {
   "cell_type": "markdown",
   "source": [
    "In order to make the class more readable, we will use the `@rk.update_class`\n",
    "decorator in order to sequentially add methods to the class in the following\n",
    "cells. This is not necessary, but it helps when the documentation is in Jupyter\n",
    "format."
   ],
   "metadata": {
    "collapsed": false
   }
  },
  {
   "cell_type": "markdown",
   "source": [
    "### Spans\n",
    "First we set up the Model's `Span`s:"
   ],
   "metadata": {
    "collapsed": false
   }
  },
  {
   "cell_type": "code",
   "execution_count": 21,
   "outputs": [],
   "source": [
    "@rk.update_class(Model)\n",
    "class Model:\n",
    "    def init_spans(self):\n",
    "        self.calc_span = rk.span.Span.from_duration(\n",
    "            name='Span to Calculate Reversion',\n",
    "            date=self.params['start_date'],\n",
    "            duration=self.params['frequency'],\n",
    "            amount=self.params['num_periods'] + 1)\n",
    "        self.acq_span = rk.span.Span.from_duration(\n",
    "            name='Acquisition Span',\n",
    "            date=rk.duration.offset(\n",
    "                self.params['start_date'],\n",
    "                amount=-1,\n",
    "                duration=self.params['frequency']),\n",
    "            duration=self.params['frequency']\n",
    "            )\n",
    "        self.span = self.calc_span.shift(\n",
    "            name='Span',\n",
    "            amount=-1,\n",
    "            duration=self.params['frequency'],\n",
    "            bound='end')"
   ],
   "metadata": {
    "collapsed": false,
    "ExecuteTime": {
     "end_time": "2024-03-14T11:29:43.903306Z",
     "start_time": "2024-03-14T11:29:43.900625Z"
    }
   }
  },
  {
   "cell_type": "markdown",
   "source": [
    "### Cash Flows\n",
    "We now set up the Model's Operational Cash Flows:"
   ],
   "metadata": {
    "collapsed": false
   }
  },
  {
   "cell_type": "code",
   "execution_count": 22,
   "outputs": [],
   "source": [
    "@rk.update_class(Model)\n",
    "class Model:\n",
    "    def init_flows(self):\n",
    "        self.acquisition = rk.flux.Flow.from_projection(\n",
    "            name='Acquisition',\n",
    "            value=self.params['acquisition_cost'],\n",
    "            proj=rk.projection.Distribution(\n",
    "                form=rk.distribution.Uniform(),\n",
    "                sequence=self.acq_span.to_sequence(frequency=self.params['frequency'])),\n",
    "            units=currency.units)\n",
    "\n",
    "        self.base_pgi = rk.flux.Flow.from_projection(\n",
    "            name='Base Potential Gross Income',\n",
    "            value=self.params['initial_income'],\n",
    "            proj=rk.projection.Extrapolation(\n",
    "            form=rk.extrapolation.Compounding(\n",
    "                rate=self.params['growth_rate']),\n",
    "            sequence=self.calc_span.to_sequence(frequency=self.params['frequency'])),\n",
    "            units=currency.units)\n",
    "\n",
    "        # Table 4.1 has proformas that absorb an additional straight-line income\n",
    "        # flow:\n",
    "        self.addl_pgi = rk.flux.Flow.from_projection(\n",
    "            name='Additional Potential Gross Income',\n",
    "            value=self.params['addl_pgi_init'],\n",
    "            proj=rk.projection.Extrapolation(\n",
    "                form=rk.extrapolation.StraightLine(\n",
    "                    slope=self.params['addl_pgi_slope']),\n",
    "                sequence=self.calc_span.to_sequence(frequency=self.params['frequency'])),\n",
    "            units=currency.units)\n",
    "\n",
    "        self.pgi = (rk.flux.Stream(\n",
    "            name='Potential Gross Income',\n",
    "            flows=[self.base_pgi, self.addl_pgi],\n",
    "            frequency=self.params['frequency'])\n",
    "                .sum())\n",
    "\n",
    "        self.vacancy = rk.flux.Flow(\n",
    "            name='Vacancy Allowance',\n",
    "            movements=self.pgi.movements * -self.params['vacancy_rate'],\n",
    "            units=currency.units)\n",
    "        self.egi = (rk.flux.Stream(\n",
    "            name='Effective Gross Income',\n",
    "            flows=[self.pgi, self.vacancy],\n",
    "            frequency=self.params['frequency'])\n",
    "                .sum())\n",
    "        self.opex = (rk.flux.Flow(\n",
    "            name='Operating Expenses',\n",
    "            movements=self.pgi.movements * self.params['opex_pgi_ratio'],\n",
    "            units=currency.units)\n",
    "                .invert())\n",
    "        self.noi = (rk.flux.Stream(\n",
    "            name='Net Operating Income',\n",
    "            flows=[self.egi, self.opex],\n",
    "            frequency=self.params['frequency'])\n",
    "                .sum())\n",
    "        self.capex = rk.flux.Flow(\n",
    "            name='Capital Expenditures',\n",
    "            movements=self.pgi.movements * self.params['capex_pgi_ratio'],\n",
    "            units=currency.units).invert()\n",
    "        self.net_cfs = (rk.flux.Stream(\n",
    "            name='Net Annual Cashflows',\n",
    "            flows=[self.noi, self.capex],\n",
    "            frequency=self.params['frequency'])\n",
    "                .sum())\n",
    "\n",
    "        self.reversions = rk.flux.Flow(\n",
    "            name='Reversions',\n",
    "            movements=self.net_cfs.movements.shift(periods=-1).dropna() / self.params['exit_caprate'],\n",
    "            units=currency.units).trim_to_span(span=self.span)\n",
    "        self.net_cfs = self.net_cfs.trim_to_span(span=self.span)"
   ],
   "metadata": {
    "collapsed": false,
    "ExecuteTime": {
     "end_time": "2024-03-14T11:29:43.910290Z",
     "start_time": "2024-03-14T11:29:43.904893Z"
    }
   }
  },
  {
   "cell_type": "markdown",
   "source": [
    "### Metrics\n",
    "Now we can add methods to calculate metrics, like the present value (PV) and\n",
    "internal rate of return (IRR) for each period in the Model's `Span`:"
   ],
   "metadata": {
    "collapsed": false
   }
  },
  {
   "cell_type": "code",
   "execution_count": 23,
   "outputs": [],
   "source": [
    "@rk.update_class(Model)\n",
    "class Model:\n",
    "    def calc_metrics(self):\n",
    "        pvs = []\n",
    "        irrs = []\n",
    "        for period in self.net_cfs.movements.index:\n",
    "            cumulative_net_cfs = self.net_cfs.trim_to_span(\n",
    "                span=rk.span.Span(\n",
    "                    name='Cumulative Net Cashflow Span',\n",
    "                    start_date=self.params['start_date'],\n",
    "                    end_date=period))\n",
    "            reversion = rk.flux.Flow(\n",
    "                movements=self.reversions.movements.loc[[period]],\n",
    "                units=currency.units)\n",
    "            cumulative_net_cfs_with_rev = rk.flux.Stream(\n",
    "                name='Net Cashflow with Reversion',\n",
    "                flows=[cumulative_net_cfs, reversion],\n",
    "                frequency=self.params['frequency'])\n",
    "            pv = (cumulative_net_cfs_with_rev\n",
    "                .sum()\n",
    "                .pv(\n",
    "                    name='Present Value',\n",
    "                    frequency=self.params['frequency'],\n",
    "                    rate=self.params['discount_rate'])\n",
    "                )\n",
    "            pvs.append(pv.collapse().movements)\n",
    "\n",
    "            incl_acq = rk.flux.Stream(\n",
    "                name='Net Cashflow with Reversion and Acquisition',\n",
    "                flows=[cumulative_net_cfs_with_rev.sum(), self.acquisition],\n",
    "                frequency=self.params['frequency'])\n",
    "\n",
    "            irrs.append(round(incl_acq.sum().xirr(), 4))\n",
    "\n",
    "        self.pvs = rk.flux.Flow(\n",
    "            name='Present Values',\n",
    "            movements=pd.concat(pvs),\n",
    "            units=currency.units)\n",
    "        self.irrs = rk.flux.Flow(\n",
    "            name='Internal Rates of Return',\n",
    "            movements=pd.Series(irrs, index=self.pvs.movements.index),\n",
    "            units=None)"
   ],
   "metadata": {
    "collapsed": false,
    "ExecuteTime": {
     "end_time": "2024-03-14T11:29:43.914801Z",
     "start_time": "2024-03-14T11:29:43.911236Z"
    }
   }
  },
  {
   "cell_type": "markdown",
   "source": [
    "### Output\n",
    "Now our Proforma Model is set up, and we can initialize and calculate it:"
   ],
   "metadata": {
    "collapsed": false
   }
  },
  {
   "cell_type": "code",
   "execution_count": 24,
   "outputs": [],
   "source": [
    "model = Model(params)\n",
    "model.init_spans()\n",
    "model.init_flows()\n",
    "model.calc_metrics()"
   ],
   "metadata": {
    "collapsed": false,
    "ExecuteTime": {
     "end_time": "2024-03-14T11:29:44.007275Z",
     "start_time": "2024-03-14T11:29:43.915695Z"
    }
   }
  },
  {
   "cell_type": "code",
   "execution_count": 25,
   "outputs": [
    {
     "data": {
      "text/plain": "<rangekeeper.flux.Flow at 0x2afb96e10>",
      "text/html": "<table>\n<thead>\n<tr><th style=\"text-align: right;\">               date</th><th style=\"text-align: right;\">  Present Values</th></tr>\n</thead>\n<tbody>\n<tr><td style=\"text-align: right;\">2001-12-31 00:00:00</td><td style=\"text-align: right;\">       $1,000.00</td></tr>\n<tr><td style=\"text-align: right;\">2002-12-31 00:00:00</td><td style=\"text-align: right;\">       $1,000.00</td></tr>\n<tr><td style=\"text-align: right;\">2003-12-31 00:00:00</td><td style=\"text-align: right;\">       $1,000.00</td></tr>\n<tr><td style=\"text-align: right;\">2004-12-31 00:00:00</td><td style=\"text-align: right;\">       $1,000.00</td></tr>\n<tr><td style=\"text-align: right;\">2005-12-31 00:00:00</td><td style=\"text-align: right;\">       $1,000.00</td></tr>\n<tr><td style=\"text-align: right;\">2006-12-31 00:00:00</td><td style=\"text-align: right;\">       $1,000.00</td></tr>\n<tr><td style=\"text-align: right;\">2007-12-31 00:00:00</td><td style=\"text-align: right;\">       $1,000.00</td></tr>\n<tr><td style=\"text-align: right;\">2008-12-31 00:00:00</td><td style=\"text-align: right;\">       $1,000.00</td></tr>\n<tr><td style=\"text-align: right;\">2009-12-31 00:00:00</td><td style=\"text-align: right;\">       $1,000.00</td></tr>\n<tr><td style=\"text-align: right;\">2010-12-31 00:00:00</td><td style=\"text-align: right;\">       $1,000.00</td></tr>\n</tbody>\n</table>"
     },
     "execution_count": 25,
     "metadata": {},
     "output_type": "execute_result"
    }
   ],
   "source": [
    "model.pvs"
   ],
   "metadata": {
    "collapsed": false,
    "ExecuteTime": {
     "end_time": "2024-03-14T11:29:44.015310Z",
     "start_time": "2024-03-14T11:29:44.008290Z"
    }
   }
  },
  {
   "cell_type": "code",
   "execution_count": 26,
   "outputs": [
    {
     "data": {
      "text/plain": "<rangekeeper.flux.Flow at 0x2afe56ad0>",
      "text/html": "<table>\n<thead>\n<tr><th style=\"text-align: right;\">               date</th><th style=\"text-align: right;\">  Internal Rates of Return</th></tr>\n</thead>\n<tbody>\n<tr><td style=\"text-align: right;\">2001-12-31 00:00:00</td><td style=\"text-align: right;\">                      0.07</td></tr>\n<tr><td style=\"text-align: right;\">2002-12-31 00:00:00</td><td style=\"text-align: right;\">                      0.07</td></tr>\n<tr><td style=\"text-align: right;\">2003-12-31 00:00:00</td><td style=\"text-align: right;\">                      0.07</td></tr>\n<tr><td style=\"text-align: right;\">2004-12-31 00:00:00</td><td style=\"text-align: right;\">                      0.07</td></tr>\n<tr><td style=\"text-align: right;\">2005-12-31 00:00:00</td><td style=\"text-align: right;\">                      0.07</td></tr>\n<tr><td style=\"text-align: right;\">2006-12-31 00:00:00</td><td style=\"text-align: right;\">                      0.07</td></tr>\n<tr><td style=\"text-align: right;\">2007-12-31 00:00:00</td><td style=\"text-align: right;\">                      0.07</td></tr>\n<tr><td style=\"text-align: right;\">2008-12-31 00:00:00</td><td style=\"text-align: right;\">                      0.07</td></tr>\n<tr><td style=\"text-align: right;\">2009-12-31 00:00:00</td><td style=\"text-align: right;\">                      0.07</td></tr>\n<tr><td style=\"text-align: right;\">2010-12-31 00:00:00</td><td style=\"text-align: right;\">                      0.07</td></tr>\n</tbody>\n</table>"
     },
     "execution_count": 26,
     "metadata": {},
     "output_type": "execute_result"
    }
   ],
   "source": [
    "model.irrs"
   ],
   "metadata": {
    "collapsed": false,
    "ExecuteTime": {
     "end_time": "2024-03-14T11:29:44.019757Z",
     "start_time": "2024-03-14T11:29:44.016807Z"
    }
   }
  },
  {
   "cell_type": "markdown",
   "source": [
    "## Scenarios"
   ],
   "metadata": {
    "collapsed": false
   }
  },
  {
   "cell_type": "markdown",
   "source": [
    "### Optimistic\n",
    "In Table 4.1, the 'Panel B' (Optimistic) scenario is created by increasing the\n",
    "initial income `Flow` by 10%, and also adding additional Potential Gross Income\n",
    "with a `Projection` that compounds at 3% p.a.:"
   ],
   "metadata": {
    "collapsed": false
   }
  },
  {
   "cell_type": "code",
   "execution_count": 27,
   "outputs": [],
   "source": [
    "optimistic_params = params.copy()\n",
    "optimistic_params['initial_income'] = params['initial_income'] + 10 * currency.units\n",
    "optimistic_params['addl_pgi_slope'] = 3"
   ],
   "metadata": {
    "collapsed": false,
    "ExecuteTime": {
     "end_time": "2024-03-14T11:29:44.022752Z",
     "start_time": "2024-03-14T11:29:44.020688Z"
    }
   }
  },
  {
   "cell_type": "markdown",
   "source": [
    "Again, we can create a new `Model` with these parameters, and calculate it:"
   ],
   "metadata": {
    "collapsed": false
   }
  },
  {
   "cell_type": "code",
   "execution_count": 28,
   "outputs": [],
   "source": [
    "optimistic = Model(optimistic_params)\n",
    "optimistic.init_spans()\n",
    "optimistic.init_flows()\n",
    "optimistic.calc_metrics()"
   ],
   "metadata": {
    "collapsed": false,
    "ExecuteTime": {
     "end_time": "2024-03-14T11:29:44.111320Z",
     "start_time": "2024-03-14T11:29:44.023343Z"
    }
   }
  },
  {
   "cell_type": "code",
   "execution_count": 29,
   "outputs": [
    {
     "data": {
      "text/plain": "<rangekeeper.flux.Flow at 0x29ffbc690>",
      "text/html": "<table>\n<thead>\n<tr><th style=\"text-align: right;\">               date</th><th style=\"text-align: right;\">  Present Values</th></tr>\n</thead>\n<tbody>\n<tr><td style=\"text-align: right;\">2001-12-31 00:00:00</td><td style=\"text-align: right;\">       $1,128.04</td></tr>\n<tr><td style=\"text-align: right;\">2002-12-31 00:00:00</td><td style=\"text-align: right;\">       $1,153.72</td></tr>\n<tr><td style=\"text-align: right;\">2003-12-31 00:00:00</td><td style=\"text-align: right;\">       $1,177.23</td></tr>\n<tr><td style=\"text-align: right;\">2004-12-31 00:00:00</td><td style=\"text-align: right;\">       $1,198.74</td></tr>\n<tr><td style=\"text-align: right;\">2005-12-31 00:00:00</td><td style=\"text-align: right;\">       $1,218.42</td></tr>\n<tr><td style=\"text-align: right;\">2006-12-31 00:00:00</td><td style=\"text-align: right;\">       $1,236.41</td></tr>\n<tr><td style=\"text-align: right;\">2007-12-31 00:00:00</td><td style=\"text-align: right;\">       $1,252.85</td></tr>\n<tr><td style=\"text-align: right;\">2008-12-31 00:00:00</td><td style=\"text-align: right;\">       $1,267.87</td></tr>\n<tr><td style=\"text-align: right;\">2009-12-31 00:00:00</td><td style=\"text-align: right;\">       $1,281.57</td></tr>\n<tr><td style=\"text-align: right;\">2010-12-31 00:00:00</td><td style=\"text-align: right;\">       $1,294.08</td></tr>\n</tbody>\n</table>"
     },
     "execution_count": 29,
     "metadata": {},
     "output_type": "execute_result"
    }
   ],
   "source": [
    "optimistic.pvs"
   ],
   "metadata": {
    "collapsed": false,
    "ExecuteTime": {
     "end_time": "2024-03-14T11:29:44.115317Z",
     "start_time": "2024-03-14T11:29:44.112053Z"
    }
   }
  },
  {
   "cell_type": "code",
   "execution_count": 30,
   "outputs": [
    {
     "data": {
      "text/plain": "<rangekeeper.flux.Flow at 0x2afde44d0>",
      "text/html": "<table>\n<thead>\n<tr><th style=\"text-align: right;\">               date</th><th style=\"text-align: right;\">  Internal Rates of Return</th></tr>\n</thead>\n<tbody>\n<tr><td style=\"text-align: right;\">2001-12-31 00:00:00</td><td style=\"text-align: right;\">                      0.21</td></tr>\n<tr><td style=\"text-align: right;\">2002-12-31 00:00:00</td><td style=\"text-align: right;\">                      0.15</td></tr>\n<tr><td style=\"text-align: right;\">2003-12-31 00:00:00</td><td style=\"text-align: right;\">                      0.13</td></tr>\n<tr><td style=\"text-align: right;\">2004-12-31 00:00:00</td><td style=\"text-align: right;\">                      0.12</td></tr>\n<tr><td style=\"text-align: right;\">2005-12-31 00:00:00</td><td style=\"text-align: right;\">                      0.12</td></tr>\n<tr><td style=\"text-align: right;\">2006-12-31 00:00:00</td><td style=\"text-align: right;\">                      0.11</td></tr>\n<tr><td style=\"text-align: right;\">2007-12-31 00:00:00</td><td style=\"text-align: right;\">                      0.11</td></tr>\n<tr><td style=\"text-align: right;\">2008-12-31 00:00:00</td><td style=\"text-align: right;\">                      0.11</td></tr>\n<tr><td style=\"text-align: right;\">2009-12-31 00:00:00</td><td style=\"text-align: right;\">                      0.11</td></tr>\n<tr><td style=\"text-align: right;\">2010-12-31 00:00:00</td><td style=\"text-align: right;\">                       0.1</td></tr>\n</tbody>\n</table>"
     },
     "execution_count": 30,
     "metadata": {},
     "output_type": "execute_result"
    }
   ],
   "source": [
    "optimistic.irrs"
   ],
   "metadata": {
    "collapsed": false,
    "ExecuteTime": {
     "end_time": "2024-03-14T11:29:44.118852Z",
     "start_time": "2024-03-14T11:29:44.116052Z"
    }
   }
  },
  {
   "cell_type": "markdown",
   "source": [
    "### Pessimistic\n",
    "Similarly, we can create the 'Panel C' (Pessimistic) scenario:"
   ],
   "metadata": {
    "collapsed": false
   }
  },
  {
   "cell_type": "code",
   "execution_count": 31,
   "outputs": [],
   "source": [
    "pessimistic_params = params.copy()\n",
    "pessimistic_params['initial_income'] = params['initial_income'] - 10 * currency.units\n",
    "pessimistic_params['addl_pgi_slope'] = -3\n",
    "\n",
    "pessimistic = Model(pessimistic_params)\n",
    "pessimistic.init_spans()\n",
    "pessimistic.init_flows()\n",
    "pessimistic.calc_metrics()"
   ],
   "metadata": {
    "collapsed": false,
    "ExecuteTime": {
     "end_time": "2024-03-14T11:29:44.210244Z",
     "start_time": "2024-03-14T11:29:44.120977Z"
    }
   }
  },
  {
   "cell_type": "code",
   "execution_count": 32,
   "outputs": [
    {
     "data": {
      "text/plain": "<rangekeeper.flux.Flow at 0x2afc0b3d0>",
      "text/html": "<table>\n<thead>\n<tr><th style=\"text-align: right;\">               date</th><th style=\"text-align: right;\">  Present Values</th></tr>\n</thead>\n<tbody>\n<tr><td style=\"text-align: right;\">2001-12-31 00:00:00</td><td style=\"text-align: right;\">         $871.96</td></tr>\n<tr><td style=\"text-align: right;\">2002-12-31 00:00:00</td><td style=\"text-align: right;\">         $846.28</td></tr>\n<tr><td style=\"text-align: right;\">2003-12-31 00:00:00</td><td style=\"text-align: right;\">         $822.77</td></tr>\n<tr><td style=\"text-align: right;\">2004-12-31 00:00:00</td><td style=\"text-align: right;\">         $801.26</td></tr>\n<tr><td style=\"text-align: right;\">2005-12-31 00:00:00</td><td style=\"text-align: right;\">         $781.58</td></tr>\n<tr><td style=\"text-align: right;\">2006-12-31 00:00:00</td><td style=\"text-align: right;\">         $763.59</td></tr>\n<tr><td style=\"text-align: right;\">2007-12-31 00:00:00</td><td style=\"text-align: right;\">         $747.15</td></tr>\n<tr><td style=\"text-align: right;\">2008-12-31 00:00:00</td><td style=\"text-align: right;\">         $732.13</td></tr>\n<tr><td style=\"text-align: right;\">2009-12-31 00:00:00</td><td style=\"text-align: right;\">         $718.43</td></tr>\n<tr><td style=\"text-align: right;\">2010-12-31 00:00:00</td><td style=\"text-align: right;\">         $705.92</td></tr>\n</tbody>\n</table>"
     },
     "execution_count": 32,
     "metadata": {},
     "output_type": "execute_result"
    }
   ],
   "source": [
    "pessimistic.pvs"
   ],
   "metadata": {
    "collapsed": false,
    "ExecuteTime": {
     "end_time": "2024-03-14T11:29:44.213839Z",
     "start_time": "2024-03-14T11:29:44.210929Z"
    }
   }
  },
  {
   "cell_type": "code",
   "execution_count": 33,
   "outputs": [
    {
     "data": {
      "text/plain": "<rangekeeper.flux.Flow at 0x2afbd7dd0>",
      "text/html": "<table>\n<thead>\n<tr><th style=\"text-align: right;\">               date</th><th style=\"text-align: right;\">  Internal Rates of Return</th></tr>\n</thead>\n<tbody>\n<tr><td style=\"text-align: right;\">2001-12-31 00:00:00</td><td style=\"text-align: right;\">                     -0.07</td></tr>\n<tr><td style=\"text-align: right;\">2002-12-31 00:00:00</td><td style=\"text-align: right;\">                     -0.02</td></tr>\n<tr><td style=\"text-align: right;\">2003-12-31 00:00:00</td><td style=\"text-align: right;\">                        -0</td></tr>\n<tr><td style=\"text-align: right;\">2004-12-31 00:00:00</td><td style=\"text-align: right;\">                      0.01</td></tr>\n<tr><td style=\"text-align: right;\">2005-12-31 00:00:00</td><td style=\"text-align: right;\">                      0.01</td></tr>\n<tr><td style=\"text-align: right;\">2006-12-31 00:00:00</td><td style=\"text-align: right;\">                      0.02</td></tr>\n<tr><td style=\"text-align: right;\">2007-12-31 00:00:00</td><td style=\"text-align: right;\">                      0.02</td></tr>\n<tr><td style=\"text-align: right;\">2008-12-31 00:00:00</td><td style=\"text-align: right;\">                      0.02</td></tr>\n<tr><td style=\"text-align: right;\">2009-12-31 00:00:00</td><td style=\"text-align: right;\">                      0.02</td></tr>\n<tr><td style=\"text-align: right;\">2010-12-31 00:00:00</td><td style=\"text-align: right;\">                      0.02</td></tr>\n</tbody>\n</table>"
     },
     "execution_count": 33,
     "metadata": {},
     "output_type": "execute_result"
    }
   ],
   "source": [
    "pessimistic.irrs"
   ],
   "metadata": {
    "collapsed": false,
    "ExecuteTime": {
     "end_time": "2024-03-14T11:29:44.217152Z",
     "start_time": "2024-03-14T11:29:44.214499Z"
    }
   }
  },
  {
   "cell_type": "markdown",
   "source": [
    "## Analysis and Expected Value (EV)\n",
    "{cite}`farevuu2018` Table 4.1 continues with calculating the Expected Value (EV)\n",
    "of the outcome, given that both optimistic and pessimistic scenarios have a 50%\n",
    "chance of occuring:"
   ],
   "metadata": {
    "collapsed": false
   }
  },
  {
   "cell_type": "code",
   "execution_count": 34,
   "outputs": [
    {
     "data": {
      "text/plain": "date\n2001-12-31    1000.0\n2002-12-31    1000.0\n2003-12-31    1000.0\n2004-12-31    1000.0\n2005-12-31    1000.0\n2006-12-31    1000.0\n2007-12-31    1000.0\n2008-12-31    1000.0\n2009-12-31    1000.0\n2010-12-31    1000.0\nName: Present Values, dtype: float64"
     },
     "execution_count": 34,
     "metadata": {},
     "output_type": "execute_result"
    }
   ],
   "source": [
    "# Expected Time 0 Property Valuation:\n",
    "evs = (optimistic.pvs.movements + pessimistic.pvs.movements) / 2\n",
    "evs"
   ],
   "metadata": {
    "collapsed": false,
    "ExecuteTime": {
     "end_time": "2024-03-14T11:29:44.220841Z",
     "start_time": "2024-03-14T11:29:44.217987Z"
    }
   }
  },
  {
   "cell_type": "markdown",
   "source": [
    "And the expected return (IRR) at each time period is:"
   ],
   "metadata": {
    "collapsed": false
   }
  },
  {
   "cell_type": "code",
   "execution_count": 35,
   "outputs": [
    {
     "data": {
      "text/plain": "date\n2001-12-31    0.07000\n2002-12-31    0.06675\n2003-12-31    0.06605\n2004-12-31    0.06565\n2005-12-31    0.06535\n2006-12-31    0.06510\n2007-12-31    0.06485\n2008-12-31    0.06465\n2009-12-31    0.06450\n2010-12-31    0.06435\nName: Internal Rates of Return, dtype: float64"
     },
     "execution_count": 35,
     "metadata": {},
     "output_type": "execute_result"
    }
   ],
   "source": [
    "# Expected Return (IRR) at $1000 Price:\n",
    "ers = (optimistic.irrs.movements + pessimistic.irrs.movements) / 2\n",
    "ers"
   ],
   "metadata": {
    "collapsed": false,
    "ExecuteTime": {
     "end_time": "2024-03-14T11:29:44.223758Z",
     "start_time": "2024-03-14T11:29:44.221473Z"
    }
   }
  },
  {
   "cell_type": "markdown",
   "source": [
    "As documented in {cite}`farevuu2018` Chapter 4.3, we can calculate the value of\n",
    "the flexibility, assuming it is possible to sell the property at will:"
   ],
   "metadata": {
    "collapsed": false
   }
  },
  {
   "cell_type": "code",
   "execution_count": 40,
   "outputs": [
    {
     "name": "stdout",
     "output_type": "stream",
     "text": [
      "Value of flexiblity: $83.02\n"
     ]
    }
   ],
   "source": [
    "# Valuation of Flexibility to Sell at Optimal Time:\n",
    "value_of_flex = (optimistic.pvs.movements.iloc[-1] / 2 + pessimistic.pvs.movements.iloc[0] / 2) - evs.iloc[-1]\n",
    "print(\"Value of flexiblity: ${:,.2f}\".format(value_of_flex))"
   ],
   "metadata": {
    "collapsed": false,
    "ExecuteTime": {
     "end_time": "2024-03-14T11:31:22.540070Z",
     "start_time": "2024-03-14T11:31:22.537238Z"
    }
   }
  }
 ],
 "metadata": {
  "kernelspec": {
   "display_name": "Python 3",
   "language": "python",
   "name": "python3"
  },
  "language_info": {
   "codemirror_mode": {
    "name": "ipython",
    "version": 2
   },
   "file_extension": ".py",
   "mimetype": "text/x-python",
   "name": "python",
   "nbconvert_exporter": "python",
   "pygments_lexer": "ipython2",
   "version": "2.7.6"
  }
 },
 "nbformat": 4,
 "nbformat_minor": 0
}
