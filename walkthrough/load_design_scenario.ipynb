{
 "cells": [
  {
   "cell_type": "markdown",
   "source": [
    "# Loading a Design Scenario"
   ],
   "metadata": {
    "collapsed": false
   }
  },
  {
   "cell_type": "markdown",
   "source": [
    "```{warning}\n",
    "The following is a work in progress. More content will be added as produced.\n",
    "```"
   ],
   "metadata": {
    "collapsed": false
   }
  },
  {
   "cell_type": "markdown",
   "source": [
    "*Rangekeeper* provides API access to [Speckle](https://speckle.systems/). This\n",
    "enables loading and extending a 3D design scenario with *Rangekeeper* in order\n",
    "to produce its financial valuation, as well as execute any automated\n",
    "decision-making or optimisation processes, and sending the results back to\n",
    "Speckle.\n",
    "\n",
    "## Object Model\n",
    "Before walking through the I/O methods, it is important to understand the\n",
    "requirements *Rangekeeper* places on how a design scenario must be structured,\n",
    "so that the `Flow`s and `Stream`s of a DCF Proforma can be appropriately\n",
    "attributed to the design scenario's objects (especially its representations of\n",
    "physical spaces, components, and equipment).\n",
    "\n",
    "### Entities and Relationships\n",
    "A holistic representation of a real estate development scenario is that it is a\n",
    "web of inter-related 'entities'; where each entity is a 'thing' and can have\n",
    "multiple relationships with other entities. For example, a floor is a type\n",
    "of entity (say, a \"Space\") and it has relationships with floors above and\n",
    "below it, as well as relationships to its sub-entities (e.g. rooms), or even\n",
    "what services it (e.g. the mechanical systems controlling its air conditioning)\n",
    "\n",
    "```{figure} resources/devModelGraph.jpg\n",
    "---\n",
    "width: 100%\n",
    "name: Real Estate Scenario as a Graph\n",
    "---\n",
    "An entire Real Estate Development Scenario is represented as a huge web (graph)\n",
    "of `Entity`s and `Relationship`s\n",
    "```\n",
    "\n",
    "#### `Entity`s\n",
    "An `Entity` is a ‘thing’ that has substance, or is composed of sub-`Entity`s\n",
    "that have substance, material, mass, volume, existence, are ‘real’, etc.\n",
    "\n",
    "#### `Relationship`s\n",
    "`Relationship`s describe some sort of (directed) association, connection, or\n",
    "link between `Entity`s. Each `Relationship` is described by its ‘type’; for\n",
    "instance, an `Entity` can be related to another by virtue of it “being\n",
    "contained (spatially)” by the other, or it could be “installed before” another\n",
    "`Entity`.\n",
    "There can be any number of `Relationship`s between any number of `Entity`s.\n",
    "\n",
    "#### `Assembly`s\n",
    "In order to clearly encapsulate ‘groups’ of intuitively-related `Entity`s,\n",
    "*Rangekeeper* has a concept of an `Assembly`, which is an object that defines\n",
    "a collection of `Relationship`s and their associated `Entity`s.\n",
    "`Assembly`s are `Entity`s themselves, too –- so they can also be related to\n",
    "other `Entity`s.\n",
    "This means that *Rangekeeper* can traverse from `Assembly` to `Assembly` through\n",
    "overlapping `Entity`s, in a similar fashion to common-sense conceptualisation\n",
    "of how a real estate development scenario is structured.\n",
    "\n",
    "```{figure} resources/devModelAssembly.jpg\n",
    "---\n",
    "width: 100%\n",
    "name: `Assembly`s of `Entity`s\n",
    "---\n",
    "An `Assembly` is a non-exclusive collection of `Entity`s and `Relationship`s,\n",
    "enabling the traversal of `Entity`s in the graph.\n",
    "```\n",
    "\n",
    "### Definitions\n",
    "#### Properties of `Entity`s\n",
    "All `Entity`s have the following properties:\n",
    "1. **Id**: a unique & immutable identifier for the `Entity` over the whole of\n",
    "    its lifetime.\n",
    "2. **Name**: human-readable text identifying the `Entity`\n",
    "3. **Type**: an `entityType` (which is a node of a tree of `entityType`s)\n",
    "4. **Attributes**: a key-value store of specific properties of the `Entity`\n",
    "   (eg, its area, geometry, material, etc).\n",
    "There are two key `Attribute`s (stored in the `Attributes` property), where\n",
    "*Rangekeeper* seeks and records data for its use:\n",
    "   -  **Events**: a set of time-based occurrences, or experiences, that happen\n",
    "      in or to the `Entity` (called `Event`s)\n",
    "   -  **Measurements**: a key-value store of named quantities measuring the\n",
    "       `Entity` (e.g. its Net Lettable Area (NLA))\n",
    "\n",
    "In addition, `Assembly`s have properties collecting related `Entity`s:\n",
    "1. **entityIds**: a set pointers to `Entity`s\n",
    "2. **Relationships**: a set of `Relationship`s\n",
    "\n",
    "#### Properties of `Relationship`s\n",
    "Meanwhile, all `Relationship`s have the following properties:\n",
    "1. **Type**: a `RelationshipType`, which is an item from a list of defined\n",
    "   `RelationshipType`s\n",
    "2. **SourceId**: the `Entity` `Id` that is the source of the `Relationship`\n",
    "3. **TargetId**: the `Entity` `Id` that is the target of the `Relationship`\n",
    "\n",
    "#### `Event`s\n",
    "Every `Entity` can exist in both space and time. Most `Entity`s will have (or\n",
    "its sub-`Entity`s will have, in the case of an `Assembly`) geometry/s that\n",
    "define the extent of space that the entity exists in.\n",
    "\n",
    "To represent how an `Entity` exists in time, the `Entity` has `Event`s\n",
    "recorded against it. For example, an `Event` may record the installation of the\n",
    "`entity` during construction, or it may record production of revenue during\n",
    "operation of the real estate project as an asset.\n",
    "\n",
    "`Flow`s and `Stream`s are subclasses of `Event`s.\n",
    "\n",
    "```{figure} resources/objModel.jpg\n",
    "---\n",
    "width: 100%\n",
    "name: UML-style diagram of foundation of Rangekeeper's object model\n",
    "---\n",
    "Diagram of general overview of the founational concepts of *Rangekeeper*'s\n",
    "object model, in UML-style.\n",
    "```"
   ],
   "metadata": {
    "collapsed": false
   }
  },
  {
   "cell_type": "markdown",
   "source": [
    "## Rationale and Implications\n",
    "*Rangekeeper* will use the `Relationship`s defined in the `Assembly`/s of a\n",
    "design scenario to structure the \"drill-downs\" and \"roll-ups\" (ie, the\n",
    "compositions) of `Flow`s into `Stream`s that are appropriate for the kinds of\n",
    "summations and metrics that the DCF Proforma model requires.\n",
    "\n",
    "For example, an office building may produce revenue from multiple tenants. A\n",
    "tenant may occupy multiple floors, or a part (space) of a single floor.\n",
    "For *Rangekeeper*, each space would be an `entity`; with its `Events` property\n",
    "containing a set of `Flow`s and/or `Stream`s that represent revenues or costs\n",
    "associated with that space. Those may be aggregated into cash flows generated by\n",
    "the tenant of those spaces, and analysed as such, or they may be aggregated per\n",
    "floor, or per building, or per project.\n",
    "\n",
    "This makes it simple to calculate things like the share of total revenue\n",
    "generated by each tenant; or the share of revenue generated by each floor.\n",
    "Likewise with costs.\n",
    "\n",
    "The multi-faceted nature of the [`Entity`-`Relationship` model](\n",
    "https://en.wikipedia.org/wiki/Entity%E2%80%93relationship_model) enables\n",
    "multiple pathways for those aggregations to be specified, and thus enables an\n",
    "efficient and broad ability to query the model for the kinds of analyses\n",
    "pertinent to real estate valuation.\n",
    "\n",
    "### Technicalities\n",
    "To provide a *Rangekeeper* model with the `Entity`-`Relationship` organization,\n",
    "those need to either be defined in the design scenario itself, or they need to\n",
    "be specified after receiving and loading the design scenario.\n",
    "\n",
    "#### Defining `Entity`s and `Relationship`s in the Design Scenario\n",
    "*Rangekeeper* uses the [Speckle](https://speckle.systems) service and data model\n",
    "for the exchange of design scenarios, and scaffolds `entity`s off a [Speckle\n",
    "`Base`](https://speckle.guide/dev/base.html)\n",
    "\n",
    "It also provides two means to define `entity`s and `Relationship`s:\n",
    "1. A plugin to [McNeel's Rhinoceros3D Grasshopper]\n",
    "   (https://www.rhino3d.com/6/new/grasshopper/), that enables both automated and\n",
    "   manual assignment of `Relationship`s to geometries before their export to\n",
    "   Speckle; and\n",
    "2. Manual assignment of `Relationship`s to `Entity`s once they have been loaded\n",
    "   from a Speckle stream in *Rangekeeper*."
   ],
   "metadata": {
    "collapsed": false
   }
  },
  {
   "cell_type": "markdown",
   "source": [
    "## Example\n",
    "An example development has been designed and uploaded to Speckle for us to use\n",
    "as a demonstration of the object model and its use in *Rangekeeper*."
   ],
   "metadata": {
    "collapsed": false
   }
  },
  {
   "cell_type": "markdown",
   "source": [
    "### Design Scenario"
   ],
   "metadata": {
    "collapsed": false
   }
  },
  {
   "cell_type": "code",
   "execution_count": 1,
   "outputs": [
    {
     "data": {
      "text/plain": "<IPython.lib.display.IFrame at 0x1065fa2c0>",
      "text/html": "\n        <iframe\n            width=\"700\"\n            height=\"500\"\n            src=\"https://speckle.xyz/streams/3f40d86240/commits/e0838b43d5\"\n            frameborder=\"0\"\n            allowfullscreen\n            \n        ></iframe>\n        "
     },
     "execution_count": 1,
     "metadata": {},
     "output_type": "execute_result"
    }
   ],
   "source": [
    "from IPython.display import IFrame\n",
    "IFrame(\"https://speckle.xyz/streams/3f40d86240/commits/e0838b43d5\",width=700,height=500)"
   ],
   "metadata": {
    "collapsed": false,
    "ExecuteTime": {
     "end_time": "2023-06-01T05:04:54.855715Z",
     "start_time": "2023-06-01T05:04:54.849585Z"
    }
   }
  },
  {
   "cell_type": "markdown",
   "source": [
    "As you can see, this design scenario is composed of two mixed-use buildings,\n",
    "that both share a common basement, used for parking primarily.\n",
    "\n",
    "To access the design scenario in *Rangekeeper*, we need to load it from Speckle:"
   ],
   "metadata": {
    "collapsed": false
   }
  },
  {
   "cell_type": "code",
   "execution_count": 2,
   "outputs": [],
   "source": [
    "import os\n",
    "\n",
    "import rangekeeper as rk"
   ],
   "metadata": {
    "collapsed": false,
    "ExecuteTime": {
     "end_time": "2023-06-01T05:04:56.372021Z",
     "start_time": "2023-06-01T05:04:54.855448Z"
    }
   }
  },
  {
   "cell_type": "code",
   "execution_count": 3,
   "outputs": [
    {
     "name": "stdout",
     "output_type": "stream",
     "text": [
      "SpeckleClient( server: https://speckle.xyz, authenticated: True )\n"
     ]
    }
   ],
   "source": [
    "# Authenticate with Speckle\n",
    "speckle = rk.api.Speckle(\n",
    "    host=\"speckle.xyz\",\n",
    "    token=os.getenv('SPECKLE_TOKEN'))"
   ],
   "metadata": {
    "collapsed": false,
    "ExecuteTime": {
     "end_time": "2023-06-01T05:04:57.781004Z",
     "start_time": "2023-06-01T05:04:56.372966Z"
    }
   }
  },
  {
   "cell_type": "code",
   "execution_count": 9,
   "outputs": [
    {
     "data": {
      "text/plain": "Base(id: 3eddd589aaaef710caabd87343a371fe, speckle_type: Base, totalChildrenCount: 2014)"
     },
     "execution_count": 9,
     "metadata": {},
     "output_type": "execute_result"
    }
   ],
   "source": [
    "# Load the design scenario from Speckle\n",
    "model = speckle.get_commit(\n",
    "    stream_id=\"3f40d86240\",\n",
    "    commit_id=\"dc36c71b36\")\n",
    "model"
   ],
   "metadata": {
    "collapsed": false,
    "ExecuteTime": {
     "end_time": "2023-06-01T05:19:38.229371Z",
     "start_time": "2023-06-01T05:19:34.266987Z"
    }
   }
  },
  {
   "cell_type": "code",
   "execution_count": 11,
   "outputs": [
    {
     "data": {
      "text/plain": "['@scenario', '@context']"
     },
     "execution_count": 11,
     "metadata": {},
     "output_type": "execute_result"
    }
   ],
   "source": [
    "roots = model.get_dynamic_member_names()\n",
    "roots"
   ],
   "metadata": {
    "collapsed": false,
    "ExecuteTime": {
     "end_time": "2023-06-01T05:20:13.215121Z",
     "start_time": "2023-06-01T05:20:13.210341Z"
    }
   }
  },
  {
   "cell_type": "code",
   "execution_count": 8,
   "outputs": [
    {
     "ename": "AttributeError",
     "evalue": "'list' object has no attribute 'get_dynamic_member_names'",
     "output_type": "error",
     "traceback": [
      "\u001B[0;31m---------------------------------------------------------------------------\u001B[0m",
      "\u001B[0;31mAttributeError\u001B[0m                            Traceback (most recent call last)",
      "Cell \u001B[0;32mIn[8], line 2\u001B[0m\n\u001B[1;32m      1\u001B[0m entities \u001B[38;5;241m=\u001B[39m speckle\u001B[38;5;241m.\u001B[39mget_entities([model])\n\u001B[0;32m----> 2\u001B[0m entities \u001B[38;5;241m=\u001B[39m [entity \u001B[38;5;28;01mfor\u001B[39;00m entity \u001B[38;5;129;01min\u001B[39;00m entities]\n",
      "Cell \u001B[0;32mIn[8], line 2\u001B[0m, in \u001B[0;36m<listcomp>\u001B[0;34m(.0)\u001B[0m\n\u001B[1;32m      1\u001B[0m entities \u001B[38;5;241m=\u001B[39m speckle\u001B[38;5;241m.\u001B[39mget_entities([model])\n\u001B[0;32m----> 2\u001B[0m entities \u001B[38;5;241m=\u001B[39m [entity \u001B[38;5;28;01mfor\u001B[39;00m entity \u001B[38;5;129;01min\u001B[39;00m entities]\n",
      "File \u001B[0;32m/Volumes/Data/Projects/Rangekeeper/rangekeeper/api.py:34\u001B[0m, in \u001B[0;36mSpeckle.get_entities\u001B[0;34m(base)\u001B[0m\n\u001B[1;32m     32\u001B[0m \u001B[38;5;129m@staticmethod\u001B[39m\n\u001B[1;32m     33\u001B[0m \u001B[38;5;28;01mdef\u001B[39;00m \u001B[38;5;21mget_entities\u001B[39m(base: objects\u001B[38;5;241m.\u001B[39mBase):\n\u001B[0;32m---> 34\u001B[0m     member_names \u001B[38;5;241m=\u001B[39m \u001B[43mbase\u001B[49m\u001B[38;5;241;43m.\u001B[39;49m\u001B[43mget_dynamic_member_names\u001B[49m()\n\u001B[1;32m     35\u001B[0m     \u001B[38;5;28;01mif\u001B[39;00m \u001B[38;5;124m'\u001B[39m\u001B[38;5;124mentityId\u001B[39m\u001B[38;5;124m'\u001B[39m \u001B[38;5;129;01min\u001B[39;00m member_names:\n\u001B[1;32m     36\u001B[0m         \u001B[38;5;28;01myield\u001B[39;00m base\n",
      "\u001B[0;31mAttributeError\u001B[0m: 'list' object has no attribute 'get_dynamic_member_names'"
     ]
    }
   ],
   "source": [
    "entities = speckle.get_entities([model])\n",
    "entities = [entity for entity in entities]"
   ],
   "metadata": {
    "collapsed": false,
    "ExecuteTime": {
     "end_time": "2023-06-01T05:05:34.204931Z",
     "start_time": "2023-06-01T05:05:33.934776Z"
    }
   }
  },
  {
   "cell_type": "code",
   "execution_count": null,
   "outputs": [],
   "source": [
    "import specklepy\n",
    "from specklepy import objects"
   ],
   "metadata": {
    "collapsed": false
   }
  },
  {
   "cell_type": "code",
   "execution_count": null,
   "outputs": [],
   "source": [
    "data = model['@Data']\n",
    "if isinstance(data, specklepy.objects.Base):\n",
    "    base = data"
   ],
   "metadata": {
    "collapsed": false
   }
  },
  {
   "cell_type": "code",
   "execution_count": null,
   "outputs": [],
   "source": [
    "base.get_dynamic_member_names()"
   ],
   "metadata": {
    "collapsed": false
   }
  },
  {
   "cell_type": "code",
   "execution_count": null,
   "outputs": [],
   "source": [
    "base['@{0}'][1].get_dynamic_member_names()"
   ],
   "metadata": {
    "collapsed": false
   }
  },
  {
   "cell_type": "code",
   "execution_count": null,
   "outputs": [],
   "source": [
    "\n",
    "for member in base.get_dynamic_member_names():\n",
    "    print(member)\n",
    "    print(getattr(base, member))"
   ],
   "metadata": {
    "collapsed": false
   }
  },
  {
   "cell_type": "code",
   "execution_count": null,
   "outputs": [],
   "source": [],
   "metadata": {
    "collapsed": false
   }
  }
 ],
 "metadata": {
  "kernelspec": {
   "display_name": "Python 3",
   "language": "python",
   "name": "python3"
  },
  "language_info": {
   "codemirror_mode": {
    "name": "ipython",
    "version": 2
   },
   "file_extension": ".py",
   "mimetype": "text/x-python",
   "name": "python",
   "nbconvert_exporter": "python",
   "pygments_lexer": "ipython2",
   "version": "2.7.6"
  }
 },
 "nbformat": 4,
 "nbformat_minor": 0
}
