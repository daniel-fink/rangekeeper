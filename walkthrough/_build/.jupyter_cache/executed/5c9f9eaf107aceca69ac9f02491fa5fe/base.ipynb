{
 "cells": [
  {
   "cell_type": "code",
   "execution_count": 1,
   "metadata": {
    "ExecuteTime": {
     "end_time": "2024-03-14T12:20:25.465766Z",
     "start_time": "2024-03-14T12:20:24.510275Z"
    },
    "collapsed": false
   },
   "outputs": [],
   "source": [
    "import json\n",
    "import os\n",
    "\n",
    "import locale\n",
    "import urllib.parse\n",
    "import json\n",
    "import pandas as pd\n",
    "import networkx as nx\n",
    "from IPython.display import IFrame\n",
    "import plotly.subplots\n",
    "import plotly.offline as py\n",
    "\n",
    "import rangekeeper as rk"
   ]
  },
  {
   "cell_type": "code",
   "execution_count": 2,
   "metadata": {
    "ExecuteTime": {
     "end_time": "2024-03-14T12:20:27.550678Z",
     "start_time": "2024-03-14T12:20:25.466602Z"
    },
    "collapsed": false
   },
   "outputs": [
    {
     "name": "stdout",
     "output_type": "stream",
     "text": [
      "\n",
      " SpeckleClient( server: https://speckle.xyz, authenticated: True )\n"
     ]
    },
    {
     "data": {
      "text/html": [
       "\n",
       "        <iframe\n",
       "            width=\"100%\"\n",
       "            height=\"800\"\n",
       "            src=\"https://speckle.xyz/embed?stream=e3ea4fe91a&commit=9196d66cd1\"\n",
       "            frameborder=\"0\"\n",
       "            allowfullscreen\n",
       "            \n",
       "        ></iframe>\n",
       "        "
      ],
      "text/plain": [
       "<IPython.lib.display.IFrame at 0x2a14c9e50>"
      ]
     },
     "execution_count": 2,
     "metadata": {},
     "output_type": "execute_result"
    }
   ],
   "source": [
    "speckle = rk.api.Speckle(\n",
    "    host=\"speckle.xyz\",\n",
    "    token=os.getenv('SPECKLE_TOKEN'))\n",
    "stream_id = \"e3ea4fe91a\"\n",
    "commit_id = speckle.get_latest_commit_id(stream_id)\n",
    "IFrame(\"https://speckle.xyz/embed?stream={0}&commit={1}\".format(stream_id, commit_id), width='100%', height=800)"
   ]
  },
  {
   "cell_type": "code",
   "execution_count": 3,
   "metadata": {
    "ExecuteTime": {
     "end_time": "2024-03-14T12:20:29.573482Z",
     "start_time": "2024-03-14T12:20:27.552924Z"
    },
    "collapsed": false
   },
   "outputs": [
    {
     "name": "stdout",
     "output_type": "stream",
     "text": [
      "Warning: Duplicate Entity 6072b243-6bba-4e67-96de-25119e17150f [utilities] found.\n",
      "Existing Entity is an Assembly while new Entity is not. Keeping Assembly.\n",
      "Warning: Duplicate Entity 6072b243-6bba-4e67-96de-25119e17150f [utilities] found.\n",
      "Existing Entity is an Assembly while new Entity is not. Keeping Assembly.\n",
      "Warning: Duplicate Entity 6072b243-6bba-4e67-96de-25119e17150f [utilities] found.\n",
      "Existing Entity is an Assembly while new Entity is not. Keeping Assembly.\n",
      "Warning: Duplicate Entity c19933d4-eaa0-4398-882d-b8554d2963db [plinthparking] found.\n",
      "Existing Entity is an Assembly while new Entity is not. Keeping Assembly.\n"
     ]
    }
   ],
   "source": [
    "model = speckle.get_commit(stream_id=stream_id)\n",
    "parsed = rk.api.Speckle.parse(base=model['@property'])\n",
    "property = rk.api.Speckle.to_rk(\n",
    "    bases=list(parsed.values()),\n",
    "    name='property',\n",
    "    type='archetype')"
   ]
  },
  {
   "cell_type": "code",
   "execution_count": 4,
   "metadata": {
    "ExecuteTime": {
     "end_time": "2024-03-14T12:20:29.644033Z",
     "start_time": "2024-03-14T12:20:29.574148Z"
    },
    "collapsed": false
   },
   "outputs": [
    {
     "name": "stdout",
     "output_type": "stream",
     "text": [
      "assets/property.html\n"
     ]
    },
    {
     "data": {
      "text/html": [
       "\n",
       "        <iframe\n",
       "            width=\"100%\"\n",
       "            height=\"800\"\n",
       "            src=\"./property.html\"\n",
       "            frameborder=\"0\"\n",
       "            allowfullscreen\n",
       "            \n",
       "        ></iframe>\n",
       "        "
      ],
      "text/plain": [
       "<IPython.lib.display.IFrame at 0x2a60f49d0>"
      ]
     },
     "execution_count": 4,
     "metadata": {},
     "output_type": "execute_result"
    }
   ],
   "source": [
    "property.plot(name=f'assets/{property.name}')\n",
    "IFrame(src=f'./{property.name}.html', width='100%', height=800)"
   ]
  },
  {
   "cell_type": "code",
   "execution_count": 5,
   "metadata": {
    "ExecuteTime": {
     "end_time": "2024-03-14T12:20:29.646705Z",
     "start_time": "2024-03-14T12:20:29.644745Z"
    },
    "collapsed": false
   },
   "outputs": [],
   "source": [
    "spatial_containment = property.filter_by_type(\n",
    "    relationship_type='spatiallyContains',\n",
    "    name='spatial_containment')"
   ]
  },
  {
   "cell_type": "code",
   "execution_count": 6,
   "metadata": {
    "ExecuteTime": {
     "end_time": "2024-03-14T12:20:29.650372Z",
     "start_time": "2024-03-14T12:20:29.647367Z"
    },
    "collapsed": false
   },
   "outputs": [
    {
     "data": {
      "text/plain": [
       "True"
      ]
     },
     "execution_count": 6,
     "metadata": {},
     "output_type": "execute_result"
    }
   ],
   "source": [
    "nx.is_arborescence(spatial_containment.graph)"
   ]
  },
  {
   "cell_type": "code",
   "execution_count": 7,
   "metadata": {
    "ExecuteTime": {
     "end_time": "2024-03-14T12:20:29.717275Z",
     "start_time": "2024-03-14T12:20:29.651025Z"
    },
    "collapsed": false
   },
   "outputs": [
    {
     "name": "stdout",
     "output_type": "stream",
     "text": [
      "assets/property by spatiallyContains and None.html\n"
     ]
    },
    {
     "data": {
      "text/html": [
       "\n",
       "        <iframe\n",
       "            width=\"100%\"\n",
       "            height=\"800\"\n",
       "            src=\"./property by spatiallyContains and None.html\"\n",
       "            frameborder=\"0\"\n",
       "            allowfullscreen\n",
       "            \n",
       "        ></iframe>\n",
       "        "
      ],
      "text/plain": [
       "<IPython.lib.display.IFrame at 0x2a22b9010>"
      ]
     },
     "execution_count": 7,
     "metadata": {},
     "output_type": "execute_result"
    }
   ],
   "source": [
    "# Plot the spatial containment graph\n",
    "spatial_containment.plot(name=f'assets/{spatial_containment.name}')\n",
    "IFrame(src=f'./{spatial_containment.name}.html', width='100%', height=800)"
   ]
  },
  {
   "cell_type": "code",
   "execution_count": 8,
   "metadata": {
    "ExecuteTime": {
     "end_time": "2024-03-14T12:20:29.723552Z",
     "start_time": "2024-03-14T12:20:29.718111Z"
    },
    "collapsed": false
   },
   "outputs": [],
   "source": [
    "property.aggregate(\n",
    "    property='gfa',\n",
    "    label='subtotal_gfa',\n",
    "    relationship_type='spatiallyContains')"
   ]
  },
  {
   "cell_type": "code",
   "execution_count": 9,
   "metadata": {
    "ExecuteTime": {
     "end_time": "2024-03-14T12:20:29.741366Z",
     "start_time": "2024-03-14T12:20:29.724406Z"
    },
    "collapsed": false,
    "tags": [
     "output_scroll"
    ]
   },
   "outputs": [
    {
     "data": {
      "text/html": [
       "<div>\n",
       "<style scoped>\n",
       "    .dataframe tbody tr th:only-of-type {\n",
       "        vertical-align: middle;\n",
       "    }\n",
       "\n",
       "    .dataframe tbody tr th {\n",
       "        vertical-align: top;\n",
       "    }\n",
       "\n",
       "    .dataframe thead th {\n",
       "        text-align: right;\n",
       "    }\n",
       "</style>\n",
       "<table border=\"1\" class=\"dataframe\">\n",
       "  <thead>\n",
       "    <tr style=\"text-align: right;\">\n",
       "      <th></th>\n",
       "      <th>name</th>\n",
       "      <th>type</th>\n",
       "      <th>gfa</th>\n",
       "      <th>subtotal_gfa</th>\n",
       "      <th>parent</th>\n",
       "      <th>use</th>\n",
       "      <th>ffl</th>\n",
       "      <th>number</th>\n",
       "    </tr>\n",
       "  </thead>\n",
       "  <tbody>\n",
       "    <tr>\n",
       "      <th>ee762902-113d-4762-9949-f2594f6a63cb</th>\n",
       "      <td>property</td>\n",
       "      <td>property</td>\n",
       "      <td>NaN</td>\n",
       "      <td>42786.259115</td>\n",
       "      <td>None</td>\n",
       "      <td>NaN</td>\n",
       "      <td>NaN</td>\n",
       "      <td>NaN</td>\n",
       "    </tr>\n",
       "    <tr>\n",
       "      <th>93747bdd-9c81-4332-bad6-20152101d4f4</th>\n",
       "      <td>plinth</td>\n",
       "      <td>building</td>\n",
       "      <td>NaN</td>\n",
       "      <td>12773.744211</td>\n",
       "      <td>ee762902-113d-4762-9949-f2594f6a63cb</td>\n",
       "      <td>NaN</td>\n",
       "      <td>NaN</td>\n",
       "      <td>NaN</td>\n",
       "    </tr>\n",
       "    <tr>\n",
       "      <th>bfb80bb9-08e8-4a9c-8892-df73e6561d32</th>\n",
       "      <td>buildingA</td>\n",
       "      <td>building</td>\n",
       "      <td>NaN</td>\n",
       "      <td>16575.630074</td>\n",
       "      <td>ee762902-113d-4762-9949-f2594f6a63cb</td>\n",
       "      <td>NaN</td>\n",
       "      <td>NaN</td>\n",
       "      <td>NaN</td>\n",
       "    </tr>\n",
       "    <tr>\n",
       "      <th>cdd2a9b9-f204-42be-8b7c-0d6cdec34594</th>\n",
       "      <td>buildingB</td>\n",
       "      <td>building</td>\n",
       "      <td>NaN</td>\n",
       "      <td>13436.884829</td>\n",
       "      <td>ee762902-113d-4762-9949-f2594f6a63cb</td>\n",
       "      <td>NaN</td>\n",
       "      <td>NaN</td>\n",
       "      <td>NaN</td>\n",
       "    </tr>\n",
       "    <tr>\n",
       "      <th>6072b243-6bba-4e67-96de-25119e17150f</th>\n",
       "      <td>utilities</td>\n",
       "      <td>utilities</td>\n",
       "      <td>NaN</td>\n",
       "      <td>0.000000</td>\n",
       "      <td>ee762902-113d-4762-9949-f2594f6a63cb</td>\n",
       "      <td>NaN</td>\n",
       "      <td>NaN</td>\n",
       "      <td>NaN</td>\n",
       "    </tr>\n",
       "    <tr>\n",
       "      <th>c19933d4-eaa0-4398-882d-b8554d2963db</th>\n",
       "      <td>plinthparking</td>\n",
       "      <td>space</td>\n",
       "      <td>NaN</td>\n",
       "      <td>12773.744211</td>\n",
       "      <td>93747bdd-9c81-4332-bad6-20152101d4f4</td>\n",
       "      <td>parking</td>\n",
       "      <td>NaN</td>\n",
       "      <td>NaN</td>\n",
       "    </tr>\n",
       "    <tr>\n",
       "      <th>79af032a-c245-41c9-a2d4-33bb3029346a</th>\n",
       "      <td>plinthplant</td>\n",
       "      <td>utilities</td>\n",
       "      <td>NaN</td>\n",
       "      <td>0.000000</td>\n",
       "      <td>93747bdd-9c81-4332-bad6-20152101d4f4</td>\n",
       "      <td>plant</td>\n",
       "      <td>NaN</td>\n",
       "      <td>NaN</td>\n",
       "    </tr>\n",
       "    <tr>\n",
       "      <th>4665be87-5447-4303-b333-724024f4a00a</th>\n",
       "      <td>plinthparkingFloor-2</td>\n",
       "      <td>floor</td>\n",
       "      <td>6386.872106</td>\n",
       "      <td>6386.872106</td>\n",
       "      <td>c19933d4-eaa0-4398-882d-b8554d2963db</td>\n",
       "      <td>NaN</td>\n",
       "      <td>-5.9</td>\n",
       "      <td>-2.0</td>\n",
       "    </tr>\n",
       "    <tr>\n",
       "      <th>20898dd5-2b80-47bc-b963-b0f546dc0e00</th>\n",
       "      <td>plinthparkingFloor-1</td>\n",
       "      <td>floor</td>\n",
       "      <td>6386.872106</td>\n",
       "      <td>6386.872106</td>\n",
       "      <td>c19933d4-eaa0-4398-882d-b8554d2963db</td>\n",
       "      <td>NaN</td>\n",
       "      <td>-2.8</td>\n",
       "      <td>-1.0</td>\n",
       "    </tr>\n",
       "    <tr>\n",
       "      <th>48a9f4a0-1157-48f8-94b2-f64461730009</th>\n",
       "      <td>buildingAhotel</td>\n",
       "      <td>space</td>\n",
       "      <td>NaN</td>\n",
       "      <td>11716.690054</td>\n",
       "      <td>bfb80bb9-08e8-4a9c-8892-df73e6561d32</td>\n",
       "      <td>hotel</td>\n",
       "      <td>NaN</td>\n",
       "      <td>NaN</td>\n",
       "    </tr>\n",
       "    <tr>\n",
       "      <th>2e6cefe7-a5c3-4c0b-a578-ef2fa298482f</th>\n",
       "      <td>buildingAretail</td>\n",
       "      <td>space</td>\n",
       "      <td>NaN</td>\n",
       "      <td>789.114895</td>\n",
       "      <td>bfb80bb9-08e8-4a9c-8892-df73e6561d32</td>\n",
       "      <td>retail</td>\n",
       "      <td>NaN</td>\n",
       "      <td>NaN</td>\n",
       "    </tr>\n",
       "    <tr>\n",
       "      <th>6e260151-086b-40c2-83a5-d14ea8e006dd</th>\n",
       "      <td>buildingAresidential</td>\n",
       "      <td>space</td>\n",
       "      <td>NaN</td>\n",
       "      <td>2308.322369</td>\n",
       "      <td>bfb80bb9-08e8-4a9c-8892-df73e6561d32</td>\n",
       "      <td>residential</td>\n",
       "      <td>NaN</td>\n",
       "      <td>NaN</td>\n",
       "    </tr>\n",
       "    <tr>\n",
       "      <th>40e0d08f-67e5-48ec-b828-9f921a4eee34</th>\n",
       "      <td>buildingAretail</td>\n",
       "      <td>space</td>\n",
       "      <td>NaN</td>\n",
       "      <td>722.715820</td>\n",
       "      <td>bfb80bb9-08e8-4a9c-8892-df73e6561d32</td>\n",
       "      <td>retail</td>\n",
       "      <td>NaN</td>\n",
       "      <td>NaN</td>\n",
       "    </tr>\n",
       "    <tr>\n",
       "      <th>ba6a675c-fad0-4236-993e-6451f7ef6f88</th>\n",
       "      <td>buildingAparking</td>\n",
       "      <td>space</td>\n",
       "      <td>NaN</td>\n",
       "      <td>1038.786936</td>\n",
       "      <td>bfb80bb9-08e8-4a9c-8892-df73e6561d32</td>\n",
       "      <td>parking</td>\n",
       "      <td>NaN</td>\n",
       "      <td>NaN</td>\n",
       "    </tr>\n",
       "    <tr>\n",
       "      <th>e805830b-9774-4519-aedc-fd03552308c2</th>\n",
       "      <td>buildingAcores</td>\n",
       "      <td>utilities</td>\n",
       "      <td>NaN</td>\n",
       "      <td>0.000000</td>\n",
       "      <td>bfb80bb9-08e8-4a9c-8892-df73e6561d32</td>\n",
       "      <td>cores</td>\n",
       "      <td>NaN</td>\n",
       "      <td>NaN</td>\n",
       "    </tr>\n",
       "    <tr>\n",
       "      <th>f9e3f130-41d5-41d4-b268-ce4de951c1ce</th>\n",
       "      <td>buildingAhotelFloor0</td>\n",
       "      <td>floor</td>\n",
       "      <td>111.690000</td>\n",
       "      <td>111.690000</td>\n",
       "      <td>48a9f4a0-1157-48f8-94b2-f64461730009</td>\n",
       "      <td>NaN</td>\n",
       "      <td>0.3</td>\n",
       "      <td>0.0</td>\n",
       "    </tr>\n",
       "    <tr>\n",
       "      <th>dfbaf91f-64cb-4218-b528-b8eb5e742cd4</th>\n",
       "      <td>buildingAhotelFloor1</td>\n",
       "      <td>floor</td>\n",
       "      <td>1697.451572</td>\n",
       "      <td>1697.451572</td>\n",
       "      <td>48a9f4a0-1157-48f8-94b2-f64461730009</td>\n",
       "      <td>NaN</td>\n",
       "      <td>5.3</td>\n",
       "      <td>1.0</td>\n",
       "    </tr>\n",
       "    <tr>\n",
       "      <th>e547ef7b-8f3c-4cf6-b877-0ae9b0e3ea97</th>\n",
       "      <td>buildingAhotelFloor2</td>\n",
       "      <td>floor</td>\n",
       "      <td>1270.128420</td>\n",
       "      <td>1270.128420</td>\n",
       "      <td>48a9f4a0-1157-48f8-94b2-f64461730009</td>\n",
       "      <td>NaN</td>\n",
       "      <td>8.4</td>\n",
       "      <td>2.0</td>\n",
       "    </tr>\n",
       "    <tr>\n",
       "      <th>d7871d3f-d8e7-458d-8e7e-d33157170daf</th>\n",
       "      <td>buildingAhotelFloor3</td>\n",
       "      <td>floor</td>\n",
       "      <td>1068.208325</td>\n",
       "      <td>1068.208325</td>\n",
       "      <td>48a9f4a0-1157-48f8-94b2-f64461730009</td>\n",
       "      <td>NaN</td>\n",
       "      <td>11.5</td>\n",
       "      <td>3.0</td>\n",
       "    </tr>\n",
       "    <tr>\n",
       "      <th>29d18596-9aa4-440a-b578-3b33c01caca0</th>\n",
       "      <td>buildingAhotelFloor4</td>\n",
       "      <td>floor</td>\n",
       "      <td>756.921174</td>\n",
       "      <td>756.921174</td>\n",
       "      <td>48a9f4a0-1157-48f8-94b2-f64461730009</td>\n",
       "      <td>NaN</td>\n",
       "      <td>14.6</td>\n",
       "      <td>4.0</td>\n",
       "    </tr>\n",
       "    <tr>\n",
       "      <th>13338cb2-ece4-43d5-a5dd-f2a7b47fe25f</th>\n",
       "      <td>buildingAhotelFloor5</td>\n",
       "      <td>floor</td>\n",
       "      <td>756.921174</td>\n",
       "      <td>756.921174</td>\n",
       "      <td>48a9f4a0-1157-48f8-94b2-f64461730009</td>\n",
       "      <td>NaN</td>\n",
       "      <td>17.7</td>\n",
       "      <td>5.0</td>\n",
       "    </tr>\n",
       "    <tr>\n",
       "      <th>f5153bc8-224f-4a8c-9987-6211fd73c120</th>\n",
       "      <td>buildingAhotelFloor6</td>\n",
       "      <td>floor</td>\n",
       "      <td>756.921174</td>\n",
       "      <td>756.921174</td>\n",
       "      <td>48a9f4a0-1157-48f8-94b2-f64461730009</td>\n",
       "      <td>NaN</td>\n",
       "      <td>20.8</td>\n",
       "      <td>6.0</td>\n",
       "    </tr>\n",
       "    <tr>\n",
       "      <th>33a10ae8-721d-46c3-8e66-d278ce872cf7</th>\n",
       "      <td>buildingAhotelFloor7</td>\n",
       "      <td>floor</td>\n",
       "      <td>756.921174</td>\n",
       "      <td>756.921174</td>\n",
       "      <td>48a9f4a0-1157-48f8-94b2-f64461730009</td>\n",
       "      <td>NaN</td>\n",
       "      <td>23.9</td>\n",
       "      <td>7.0</td>\n",
       "    </tr>\n",
       "    <tr>\n",
       "      <th>328020e8-4694-427e-b433-8367c7f1f14d</th>\n",
       "      <td>buildingAhotelFloor8</td>\n",
       "      <td>floor</td>\n",
       "      <td>756.921174</td>\n",
       "      <td>756.921174</td>\n",
       "      <td>48a9f4a0-1157-48f8-94b2-f64461730009</td>\n",
       "      <td>NaN</td>\n",
       "      <td>27.0</td>\n",
       "      <td>8.0</td>\n",
       "    </tr>\n",
       "    <tr>\n",
       "      <th>c26f2937-1354-455d-949d-3a0a187e157b</th>\n",
       "      <td>buildingAhotelFloor9</td>\n",
       "      <td>floor</td>\n",
       "      <td>756.921174</td>\n",
       "      <td>756.921174</td>\n",
       "      <td>48a9f4a0-1157-48f8-94b2-f64461730009</td>\n",
       "      <td>NaN</td>\n",
       "      <td>30.1</td>\n",
       "      <td>9.0</td>\n",
       "    </tr>\n",
       "    <tr>\n",
       "      <th>5d1ba8b7-a2f6-4ea8-ae43-fe228b4a5ab5</th>\n",
       "      <td>buildingAhotelFloor10</td>\n",
       "      <td>floor</td>\n",
       "      <td>756.921174</td>\n",
       "      <td>756.921174</td>\n",
       "      <td>48a9f4a0-1157-48f8-94b2-f64461730009</td>\n",
       "      <td>NaN</td>\n",
       "      <td>33.2</td>\n",
       "      <td>10.0</td>\n",
       "    </tr>\n",
       "    <tr>\n",
       "      <th>e5abcf3b-73ee-4ade-8ce2-99115cb8e8d5</th>\n",
       "      <td>buildingAhotelFloor11</td>\n",
       "      <td>floor</td>\n",
       "      <td>756.921174</td>\n",
       "      <td>756.921174</td>\n",
       "      <td>48a9f4a0-1157-48f8-94b2-f64461730009</td>\n",
       "      <td>NaN</td>\n",
       "      <td>36.3</td>\n",
       "      <td>11.0</td>\n",
       "    </tr>\n",
       "    <tr>\n",
       "      <th>2712f2e2-0810-4d4c-843a-0b388e56d83e</th>\n",
       "      <td>buildingAhotelFloor12</td>\n",
       "      <td>floor</td>\n",
       "      <td>756.921174</td>\n",
       "      <td>756.921174</td>\n",
       "      <td>48a9f4a0-1157-48f8-94b2-f64461730009</td>\n",
       "      <td>NaN</td>\n",
       "      <td>39.4</td>\n",
       "      <td>12.0</td>\n",
       "    </tr>\n",
       "    <tr>\n",
       "      <th>a57a309a-fba1-4613-b395-511df17d8cbe</th>\n",
       "      <td>buildingAhotelFloor13</td>\n",
       "      <td>floor</td>\n",
       "      <td>756.921174</td>\n",
       "      <td>756.921174</td>\n",
       "      <td>48a9f4a0-1157-48f8-94b2-f64461730009</td>\n",
       "      <td>NaN</td>\n",
       "      <td>42.5</td>\n",
       "      <td>13.0</td>\n",
       "    </tr>\n",
       "    <tr>\n",
       "      <th>9a94af5c-11de-445c-a65f-fa5ea5b34a1c</th>\n",
       "      <td>buildingAretailFloor0</td>\n",
       "      <td>floor</td>\n",
       "      <td>789.114895</td>\n",
       "      <td>789.114895</td>\n",
       "      <td>2e6cefe7-a5c3-4c0b-a578-ef2fa298482f</td>\n",
       "      <td>NaN</td>\n",
       "      <td>0.3</td>\n",
       "      <td>0.0</td>\n",
       "    </tr>\n",
       "    <tr>\n",
       "      <th>bef4da00-cd24-4703-ad27-82963ae2cf87</th>\n",
       "      <td>buildingAresidentialFloor0</td>\n",
       "      <td>floor</td>\n",
       "      <td>57.900000</td>\n",
       "      <td>57.900000</td>\n",
       "      <td>6e260151-086b-40c2-83a5-d14ea8e006dd</td>\n",
       "      <td>NaN</td>\n",
       "      <td>0.3</td>\n",
       "      <td>0.0</td>\n",
       "    </tr>\n",
       "    <tr>\n",
       "      <th>13d41e1a-627b-46de-abea-d98a4e053892</th>\n",
       "      <td>buildingAresidentialFloor1</td>\n",
       "      <td>floor</td>\n",
       "      <td>750.140790</td>\n",
       "      <td>750.140790</td>\n",
       "      <td>6e260151-086b-40c2-83a5-d14ea8e006dd</td>\n",
       "      <td>NaN</td>\n",
       "      <td>5.3</td>\n",
       "      <td>1.0</td>\n",
       "    </tr>\n",
       "    <tr>\n",
       "      <th>ff6c54fd-095e-462e-aba0-2e43842a7b10</th>\n",
       "      <td>buildingAresidentialFloor2</td>\n",
       "      <td>floor</td>\n",
       "      <td>750.140790</td>\n",
       "      <td>750.140790</td>\n",
       "      <td>6e260151-086b-40c2-83a5-d14ea8e006dd</td>\n",
       "      <td>NaN</td>\n",
       "      <td>8.4</td>\n",
       "      <td>2.0</td>\n",
       "    </tr>\n",
       "    <tr>\n",
       "      <th>15063656-315e-46fe-a193-eb8b364c725e</th>\n",
       "      <td>buildingAresidentialFloor3</td>\n",
       "      <td>floor</td>\n",
       "      <td>750.140790</td>\n",
       "      <td>750.140790</td>\n",
       "      <td>6e260151-086b-40c2-83a5-d14ea8e006dd</td>\n",
       "      <td>NaN</td>\n",
       "      <td>11.5</td>\n",
       "      <td>3.0</td>\n",
       "    </tr>\n",
       "    <tr>\n",
       "      <th>9d0d9b38-2f76-43a1-a67a-755155625b0b</th>\n",
       "      <td>buildingAretailFloor0</td>\n",
       "      <td>floor</td>\n",
       "      <td>722.715820</td>\n",
       "      <td>722.715820</td>\n",
       "      <td>40e0d08f-67e5-48ec-b828-9f921a4eee34</td>\n",
       "      <td>NaN</td>\n",
       "      <td>0.3</td>\n",
       "      <td>0.0</td>\n",
       "    </tr>\n",
       "    <tr>\n",
       "      <th>aed4f503-92e3-4ddd-b0cf-ba8739f31ecb</th>\n",
       "      <td>buildingAparkingFloor0</td>\n",
       "      <td>floor</td>\n",
       "      <td>1038.786936</td>\n",
       "      <td>1038.786936</td>\n",
       "      <td>ba6a675c-fad0-4236-993e-6451f7ef6f88</td>\n",
       "      <td>NaN</td>\n",
       "      <td>0.3</td>\n",
       "      <td>0.0</td>\n",
       "    </tr>\n",
       "    <tr>\n",
       "      <th>3b92a79c-61f1-4e01-887f-4d2d51b75307</th>\n",
       "      <td>buildingBresidential</td>\n",
       "      <td>space</td>\n",
       "      <td>NaN</td>\n",
       "      <td>11442.736624</td>\n",
       "      <td>cdd2a9b9-f204-42be-8b7c-0d6cdec34594</td>\n",
       "      <td>residential</td>\n",
       "      <td>NaN</td>\n",
       "      <td>NaN</td>\n",
       "    </tr>\n",
       "    <tr>\n",
       "      <th>649e49a3-170b-43df-b8d6-698e1549edcb</th>\n",
       "      <td>buildingBparking</td>\n",
       "      <td>space</td>\n",
       "      <td>NaN</td>\n",
       "      <td>1178.164752</td>\n",
       "      <td>cdd2a9b9-f204-42be-8b7c-0d6cdec34594</td>\n",
       "      <td>parking</td>\n",
       "      <td>NaN</td>\n",
       "      <td>NaN</td>\n",
       "    </tr>\n",
       "    <tr>\n",
       "      <th>cbf37424-e9ee-4256-9616-bccb33877959</th>\n",
       "      <td>buildingBretail</td>\n",
       "      <td>space</td>\n",
       "      <td>NaN</td>\n",
       "      <td>815.983454</td>\n",
       "      <td>cdd2a9b9-f204-42be-8b7c-0d6cdec34594</td>\n",
       "      <td>retail</td>\n",
       "      <td>NaN</td>\n",
       "      <td>NaN</td>\n",
       "    </tr>\n",
       "    <tr>\n",
       "      <th>b46237d4-fbe2-4be6-8efc-59785f708ba2</th>\n",
       "      <td>buildingBcores</td>\n",
       "      <td>utilities</td>\n",
       "      <td>NaN</td>\n",
       "      <td>0.000000</td>\n",
       "      <td>cdd2a9b9-f204-42be-8b7c-0d6cdec34594</td>\n",
       "      <td>cores</td>\n",
       "      <td>NaN</td>\n",
       "      <td>NaN</td>\n",
       "    </tr>\n",
       "    <tr>\n",
       "      <th>8e9146d0-2104-4e1c-9c82-c13f75615ec8</th>\n",
       "      <td>buildingBresidentialFloor0</td>\n",
       "      <td>floor</td>\n",
       "      <td>765.941631</td>\n",
       "      <td>765.941631</td>\n",
       "      <td>3b92a79c-61f1-4e01-887f-4d2d51b75307</td>\n",
       "      <td>NaN</td>\n",
       "      <td>0.3</td>\n",
       "      <td>0.0</td>\n",
       "    </tr>\n",
       "    <tr>\n",
       "      <th>f59987d8-0e52-498f-a867-0c1d075fd79b</th>\n",
       "      <td>buildingBresidentialFloor1</td>\n",
       "      <td>floor</td>\n",
       "      <td>2361.056035</td>\n",
       "      <td>2361.056035</td>\n",
       "      <td>3b92a79c-61f1-4e01-887f-4d2d51b75307</td>\n",
       "      <td>NaN</td>\n",
       "      <td>5.3</td>\n",
       "      <td>1.0</td>\n",
       "    </tr>\n",
       "    <tr>\n",
       "      <th>be309f24-a650-47f1-9fe1-4937b77b5db6</th>\n",
       "      <td>buildingBresidentialFloor2</td>\n",
       "      <td>floor</td>\n",
       "      <td>2361.056035</td>\n",
       "      <td>2361.056035</td>\n",
       "      <td>3b92a79c-61f1-4e01-887f-4d2d51b75307</td>\n",
       "      <td>NaN</td>\n",
       "      <td>8.4</td>\n",
       "      <td>2.0</td>\n",
       "    </tr>\n",
       "    <tr>\n",
       "      <th>fb71f7fb-461c-4fed-a153-8022feb7fbff</th>\n",
       "      <td>buildingBresidentialFloor3</td>\n",
       "      <td>floor</td>\n",
       "      <td>2015.956035</td>\n",
       "      <td>2015.956035</td>\n",
       "      <td>3b92a79c-61f1-4e01-887f-4d2d51b75307</td>\n",
       "      <td>NaN</td>\n",
       "      <td>11.5</td>\n",
       "      <td>3.0</td>\n",
       "    </tr>\n",
       "    <tr>\n",
       "      <th>792a321a-2b80-4967-b674-270c885ef050</th>\n",
       "      <td>buildingBresidentialFloor4</td>\n",
       "      <td>floor</td>\n",
       "      <td>2015.956035</td>\n",
       "      <td>2015.956035</td>\n",
       "      <td>3b92a79c-61f1-4e01-887f-4d2d51b75307</td>\n",
       "      <td>NaN</td>\n",
       "      <td>14.6</td>\n",
       "      <td>4.0</td>\n",
       "    </tr>\n",
       "    <tr>\n",
       "      <th>44400ec9-2a8e-4f3c-90c8-d59629c9537b</th>\n",
       "      <td>buildingBresidentialFloor5</td>\n",
       "      <td>floor</td>\n",
       "      <td>875.014900</td>\n",
       "      <td>875.014900</td>\n",
       "      <td>3b92a79c-61f1-4e01-887f-4d2d51b75307</td>\n",
       "      <td>NaN</td>\n",
       "      <td>17.7</td>\n",
       "      <td>5.0</td>\n",
       "    </tr>\n",
       "    <tr>\n",
       "      <th>aabba2f5-b60e-4051-b012-b332dcef6bed</th>\n",
       "      <td>buildingBresidentialFloor6</td>\n",
       "      <td>floor</td>\n",
       "      <td>875.014900</td>\n",
       "      <td>875.014900</td>\n",
       "      <td>3b92a79c-61f1-4e01-887f-4d2d51b75307</td>\n",
       "      <td>NaN</td>\n",
       "      <td>20.8</td>\n",
       "      <td>6.0</td>\n",
       "    </tr>\n",
       "    <tr>\n",
       "      <th>7d1610e9-c044-4ce4-9e88-fa760853bfe8</th>\n",
       "      <td>buildingBresidentialFloor0</td>\n",
       "      <td>floor</td>\n",
       "      <td>172.741054</td>\n",
       "      <td>172.741054</td>\n",
       "      <td>3b92a79c-61f1-4e01-887f-4d2d51b75307</td>\n",
       "      <td>NaN</td>\n",
       "      <td>0.3</td>\n",
       "      <td>0.0</td>\n",
       "    </tr>\n",
       "    <tr>\n",
       "      <th>e7730ec9-3304-4af3-b978-d08aaff7858b</th>\n",
       "      <td>buildingBparkingFloor0</td>\n",
       "      <td>floor</td>\n",
       "      <td>1178.164752</td>\n",
       "      <td>1178.164752</td>\n",
       "      <td>649e49a3-170b-43df-b8d6-698e1549edcb</td>\n",
       "      <td>NaN</td>\n",
       "      <td>0.3</td>\n",
       "      <td>0.0</td>\n",
       "    </tr>\n",
       "    <tr>\n",
       "      <th>4607a6a9-a74b-4b95-a1f7-17b04189120c</th>\n",
       "      <td>buildingBretailFloor0</td>\n",
       "      <td>floor</td>\n",
       "      <td>815.983454</td>\n",
       "      <td>815.983454</td>\n",
       "      <td>cbf37424-e9ee-4256-9616-bccb33877959</td>\n",
       "      <td>NaN</td>\n",
       "      <td>0.3</td>\n",
       "      <td>0.0</td>\n",
       "    </tr>\n",
       "  </tbody>\n",
       "</table>\n",
       "</div>"
      ],
      "text/plain": [
       "                                                            name       type  \\\n",
       "ee762902-113d-4762-9949-f2594f6a63cb                    property   property   \n",
       "93747bdd-9c81-4332-bad6-20152101d4f4                      plinth   building   \n",
       "bfb80bb9-08e8-4a9c-8892-df73e6561d32                   buildingA   building   \n",
       "cdd2a9b9-f204-42be-8b7c-0d6cdec34594                   buildingB   building   \n",
       "6072b243-6bba-4e67-96de-25119e17150f                   utilities  utilities   \n",
       "c19933d4-eaa0-4398-882d-b8554d2963db               plinthparking      space   \n",
       "79af032a-c245-41c9-a2d4-33bb3029346a                 plinthplant  utilities   \n",
       "4665be87-5447-4303-b333-724024f4a00a        plinthparkingFloor-2      floor   \n",
       "20898dd5-2b80-47bc-b963-b0f546dc0e00        plinthparkingFloor-1      floor   \n",
       "48a9f4a0-1157-48f8-94b2-f64461730009              buildingAhotel      space   \n",
       "2e6cefe7-a5c3-4c0b-a578-ef2fa298482f             buildingAretail      space   \n",
       "6e260151-086b-40c2-83a5-d14ea8e006dd        buildingAresidential      space   \n",
       "40e0d08f-67e5-48ec-b828-9f921a4eee34             buildingAretail      space   \n",
       "ba6a675c-fad0-4236-993e-6451f7ef6f88            buildingAparking      space   \n",
       "e805830b-9774-4519-aedc-fd03552308c2              buildingAcores  utilities   \n",
       "f9e3f130-41d5-41d4-b268-ce4de951c1ce        buildingAhotelFloor0      floor   \n",
       "dfbaf91f-64cb-4218-b528-b8eb5e742cd4        buildingAhotelFloor1      floor   \n",
       "e547ef7b-8f3c-4cf6-b877-0ae9b0e3ea97        buildingAhotelFloor2      floor   \n",
       "d7871d3f-d8e7-458d-8e7e-d33157170daf        buildingAhotelFloor3      floor   \n",
       "29d18596-9aa4-440a-b578-3b33c01caca0        buildingAhotelFloor4      floor   \n",
       "13338cb2-ece4-43d5-a5dd-f2a7b47fe25f        buildingAhotelFloor5      floor   \n",
       "f5153bc8-224f-4a8c-9987-6211fd73c120        buildingAhotelFloor6      floor   \n",
       "33a10ae8-721d-46c3-8e66-d278ce872cf7        buildingAhotelFloor7      floor   \n",
       "328020e8-4694-427e-b433-8367c7f1f14d        buildingAhotelFloor8      floor   \n",
       "c26f2937-1354-455d-949d-3a0a187e157b        buildingAhotelFloor9      floor   \n",
       "5d1ba8b7-a2f6-4ea8-ae43-fe228b4a5ab5       buildingAhotelFloor10      floor   \n",
       "e5abcf3b-73ee-4ade-8ce2-99115cb8e8d5       buildingAhotelFloor11      floor   \n",
       "2712f2e2-0810-4d4c-843a-0b388e56d83e       buildingAhotelFloor12      floor   \n",
       "a57a309a-fba1-4613-b395-511df17d8cbe       buildingAhotelFloor13      floor   \n",
       "9a94af5c-11de-445c-a65f-fa5ea5b34a1c       buildingAretailFloor0      floor   \n",
       "bef4da00-cd24-4703-ad27-82963ae2cf87  buildingAresidentialFloor0      floor   \n",
       "13d41e1a-627b-46de-abea-d98a4e053892  buildingAresidentialFloor1      floor   \n",
       "ff6c54fd-095e-462e-aba0-2e43842a7b10  buildingAresidentialFloor2      floor   \n",
       "15063656-315e-46fe-a193-eb8b364c725e  buildingAresidentialFloor3      floor   \n",
       "9d0d9b38-2f76-43a1-a67a-755155625b0b       buildingAretailFloor0      floor   \n",
       "aed4f503-92e3-4ddd-b0cf-ba8739f31ecb      buildingAparkingFloor0      floor   \n",
       "3b92a79c-61f1-4e01-887f-4d2d51b75307        buildingBresidential      space   \n",
       "649e49a3-170b-43df-b8d6-698e1549edcb            buildingBparking      space   \n",
       "cbf37424-e9ee-4256-9616-bccb33877959             buildingBretail      space   \n",
       "b46237d4-fbe2-4be6-8efc-59785f708ba2              buildingBcores  utilities   \n",
       "8e9146d0-2104-4e1c-9c82-c13f75615ec8  buildingBresidentialFloor0      floor   \n",
       "f59987d8-0e52-498f-a867-0c1d075fd79b  buildingBresidentialFloor1      floor   \n",
       "be309f24-a650-47f1-9fe1-4937b77b5db6  buildingBresidentialFloor2      floor   \n",
       "fb71f7fb-461c-4fed-a153-8022feb7fbff  buildingBresidentialFloor3      floor   \n",
       "792a321a-2b80-4967-b674-270c885ef050  buildingBresidentialFloor4      floor   \n",
       "44400ec9-2a8e-4f3c-90c8-d59629c9537b  buildingBresidentialFloor5      floor   \n",
       "aabba2f5-b60e-4051-b012-b332dcef6bed  buildingBresidentialFloor6      floor   \n",
       "7d1610e9-c044-4ce4-9e88-fa760853bfe8  buildingBresidentialFloor0      floor   \n",
       "e7730ec9-3304-4af3-b978-d08aaff7858b      buildingBparkingFloor0      floor   \n",
       "4607a6a9-a74b-4b95-a1f7-17b04189120c       buildingBretailFloor0      floor   \n",
       "\n",
       "                                              gfa  subtotal_gfa  \\\n",
       "ee762902-113d-4762-9949-f2594f6a63cb          NaN  42786.259115   \n",
       "93747bdd-9c81-4332-bad6-20152101d4f4          NaN  12773.744211   \n",
       "bfb80bb9-08e8-4a9c-8892-df73e6561d32          NaN  16575.630074   \n",
       "cdd2a9b9-f204-42be-8b7c-0d6cdec34594          NaN  13436.884829   \n",
       "6072b243-6bba-4e67-96de-25119e17150f          NaN      0.000000   \n",
       "c19933d4-eaa0-4398-882d-b8554d2963db          NaN  12773.744211   \n",
       "79af032a-c245-41c9-a2d4-33bb3029346a          NaN      0.000000   \n",
       "4665be87-5447-4303-b333-724024f4a00a  6386.872106   6386.872106   \n",
       "20898dd5-2b80-47bc-b963-b0f546dc0e00  6386.872106   6386.872106   \n",
       "48a9f4a0-1157-48f8-94b2-f64461730009          NaN  11716.690054   \n",
       "2e6cefe7-a5c3-4c0b-a578-ef2fa298482f          NaN    789.114895   \n",
       "6e260151-086b-40c2-83a5-d14ea8e006dd          NaN   2308.322369   \n",
       "40e0d08f-67e5-48ec-b828-9f921a4eee34          NaN    722.715820   \n",
       "ba6a675c-fad0-4236-993e-6451f7ef6f88          NaN   1038.786936   \n",
       "e805830b-9774-4519-aedc-fd03552308c2          NaN      0.000000   \n",
       "f9e3f130-41d5-41d4-b268-ce4de951c1ce   111.690000    111.690000   \n",
       "dfbaf91f-64cb-4218-b528-b8eb5e742cd4  1697.451572   1697.451572   \n",
       "e547ef7b-8f3c-4cf6-b877-0ae9b0e3ea97  1270.128420   1270.128420   \n",
       "d7871d3f-d8e7-458d-8e7e-d33157170daf  1068.208325   1068.208325   \n",
       "29d18596-9aa4-440a-b578-3b33c01caca0   756.921174    756.921174   \n",
       "13338cb2-ece4-43d5-a5dd-f2a7b47fe25f   756.921174    756.921174   \n",
       "f5153bc8-224f-4a8c-9987-6211fd73c120   756.921174    756.921174   \n",
       "33a10ae8-721d-46c3-8e66-d278ce872cf7   756.921174    756.921174   \n",
       "328020e8-4694-427e-b433-8367c7f1f14d   756.921174    756.921174   \n",
       "c26f2937-1354-455d-949d-3a0a187e157b   756.921174    756.921174   \n",
       "5d1ba8b7-a2f6-4ea8-ae43-fe228b4a5ab5   756.921174    756.921174   \n",
       "e5abcf3b-73ee-4ade-8ce2-99115cb8e8d5   756.921174    756.921174   \n",
       "2712f2e2-0810-4d4c-843a-0b388e56d83e   756.921174    756.921174   \n",
       "a57a309a-fba1-4613-b395-511df17d8cbe   756.921174    756.921174   \n",
       "9a94af5c-11de-445c-a65f-fa5ea5b34a1c   789.114895    789.114895   \n",
       "bef4da00-cd24-4703-ad27-82963ae2cf87    57.900000     57.900000   \n",
       "13d41e1a-627b-46de-abea-d98a4e053892   750.140790    750.140790   \n",
       "ff6c54fd-095e-462e-aba0-2e43842a7b10   750.140790    750.140790   \n",
       "15063656-315e-46fe-a193-eb8b364c725e   750.140790    750.140790   \n",
       "9d0d9b38-2f76-43a1-a67a-755155625b0b   722.715820    722.715820   \n",
       "aed4f503-92e3-4ddd-b0cf-ba8739f31ecb  1038.786936   1038.786936   \n",
       "3b92a79c-61f1-4e01-887f-4d2d51b75307          NaN  11442.736624   \n",
       "649e49a3-170b-43df-b8d6-698e1549edcb          NaN   1178.164752   \n",
       "cbf37424-e9ee-4256-9616-bccb33877959          NaN    815.983454   \n",
       "b46237d4-fbe2-4be6-8efc-59785f708ba2          NaN      0.000000   \n",
       "8e9146d0-2104-4e1c-9c82-c13f75615ec8   765.941631    765.941631   \n",
       "f59987d8-0e52-498f-a867-0c1d075fd79b  2361.056035   2361.056035   \n",
       "be309f24-a650-47f1-9fe1-4937b77b5db6  2361.056035   2361.056035   \n",
       "fb71f7fb-461c-4fed-a153-8022feb7fbff  2015.956035   2015.956035   \n",
       "792a321a-2b80-4967-b674-270c885ef050  2015.956035   2015.956035   \n",
       "44400ec9-2a8e-4f3c-90c8-d59629c9537b   875.014900    875.014900   \n",
       "aabba2f5-b60e-4051-b012-b332dcef6bed   875.014900    875.014900   \n",
       "7d1610e9-c044-4ce4-9e88-fa760853bfe8   172.741054    172.741054   \n",
       "e7730ec9-3304-4af3-b978-d08aaff7858b  1178.164752   1178.164752   \n",
       "4607a6a9-a74b-4b95-a1f7-17b04189120c   815.983454    815.983454   \n",
       "\n",
       "                                                                    parent  \\\n",
       "ee762902-113d-4762-9949-f2594f6a63cb                                  None   \n",
       "93747bdd-9c81-4332-bad6-20152101d4f4  ee762902-113d-4762-9949-f2594f6a63cb   \n",
       "bfb80bb9-08e8-4a9c-8892-df73e6561d32  ee762902-113d-4762-9949-f2594f6a63cb   \n",
       "cdd2a9b9-f204-42be-8b7c-0d6cdec34594  ee762902-113d-4762-9949-f2594f6a63cb   \n",
       "6072b243-6bba-4e67-96de-25119e17150f  ee762902-113d-4762-9949-f2594f6a63cb   \n",
       "c19933d4-eaa0-4398-882d-b8554d2963db  93747bdd-9c81-4332-bad6-20152101d4f4   \n",
       "79af032a-c245-41c9-a2d4-33bb3029346a  93747bdd-9c81-4332-bad6-20152101d4f4   \n",
       "4665be87-5447-4303-b333-724024f4a00a  c19933d4-eaa0-4398-882d-b8554d2963db   \n",
       "20898dd5-2b80-47bc-b963-b0f546dc0e00  c19933d4-eaa0-4398-882d-b8554d2963db   \n",
       "48a9f4a0-1157-48f8-94b2-f64461730009  bfb80bb9-08e8-4a9c-8892-df73e6561d32   \n",
       "2e6cefe7-a5c3-4c0b-a578-ef2fa298482f  bfb80bb9-08e8-4a9c-8892-df73e6561d32   \n",
       "6e260151-086b-40c2-83a5-d14ea8e006dd  bfb80bb9-08e8-4a9c-8892-df73e6561d32   \n",
       "40e0d08f-67e5-48ec-b828-9f921a4eee34  bfb80bb9-08e8-4a9c-8892-df73e6561d32   \n",
       "ba6a675c-fad0-4236-993e-6451f7ef6f88  bfb80bb9-08e8-4a9c-8892-df73e6561d32   \n",
       "e805830b-9774-4519-aedc-fd03552308c2  bfb80bb9-08e8-4a9c-8892-df73e6561d32   \n",
       "f9e3f130-41d5-41d4-b268-ce4de951c1ce  48a9f4a0-1157-48f8-94b2-f64461730009   \n",
       "dfbaf91f-64cb-4218-b528-b8eb5e742cd4  48a9f4a0-1157-48f8-94b2-f64461730009   \n",
       "e547ef7b-8f3c-4cf6-b877-0ae9b0e3ea97  48a9f4a0-1157-48f8-94b2-f64461730009   \n",
       "d7871d3f-d8e7-458d-8e7e-d33157170daf  48a9f4a0-1157-48f8-94b2-f64461730009   \n",
       "29d18596-9aa4-440a-b578-3b33c01caca0  48a9f4a0-1157-48f8-94b2-f64461730009   \n",
       "13338cb2-ece4-43d5-a5dd-f2a7b47fe25f  48a9f4a0-1157-48f8-94b2-f64461730009   \n",
       "f5153bc8-224f-4a8c-9987-6211fd73c120  48a9f4a0-1157-48f8-94b2-f64461730009   \n",
       "33a10ae8-721d-46c3-8e66-d278ce872cf7  48a9f4a0-1157-48f8-94b2-f64461730009   \n",
       "328020e8-4694-427e-b433-8367c7f1f14d  48a9f4a0-1157-48f8-94b2-f64461730009   \n",
       "c26f2937-1354-455d-949d-3a0a187e157b  48a9f4a0-1157-48f8-94b2-f64461730009   \n",
       "5d1ba8b7-a2f6-4ea8-ae43-fe228b4a5ab5  48a9f4a0-1157-48f8-94b2-f64461730009   \n",
       "e5abcf3b-73ee-4ade-8ce2-99115cb8e8d5  48a9f4a0-1157-48f8-94b2-f64461730009   \n",
       "2712f2e2-0810-4d4c-843a-0b388e56d83e  48a9f4a0-1157-48f8-94b2-f64461730009   \n",
       "a57a309a-fba1-4613-b395-511df17d8cbe  48a9f4a0-1157-48f8-94b2-f64461730009   \n",
       "9a94af5c-11de-445c-a65f-fa5ea5b34a1c  2e6cefe7-a5c3-4c0b-a578-ef2fa298482f   \n",
       "bef4da00-cd24-4703-ad27-82963ae2cf87  6e260151-086b-40c2-83a5-d14ea8e006dd   \n",
       "13d41e1a-627b-46de-abea-d98a4e053892  6e260151-086b-40c2-83a5-d14ea8e006dd   \n",
       "ff6c54fd-095e-462e-aba0-2e43842a7b10  6e260151-086b-40c2-83a5-d14ea8e006dd   \n",
       "15063656-315e-46fe-a193-eb8b364c725e  6e260151-086b-40c2-83a5-d14ea8e006dd   \n",
       "9d0d9b38-2f76-43a1-a67a-755155625b0b  40e0d08f-67e5-48ec-b828-9f921a4eee34   \n",
       "aed4f503-92e3-4ddd-b0cf-ba8739f31ecb  ba6a675c-fad0-4236-993e-6451f7ef6f88   \n",
       "3b92a79c-61f1-4e01-887f-4d2d51b75307  cdd2a9b9-f204-42be-8b7c-0d6cdec34594   \n",
       "649e49a3-170b-43df-b8d6-698e1549edcb  cdd2a9b9-f204-42be-8b7c-0d6cdec34594   \n",
       "cbf37424-e9ee-4256-9616-bccb33877959  cdd2a9b9-f204-42be-8b7c-0d6cdec34594   \n",
       "b46237d4-fbe2-4be6-8efc-59785f708ba2  cdd2a9b9-f204-42be-8b7c-0d6cdec34594   \n",
       "8e9146d0-2104-4e1c-9c82-c13f75615ec8  3b92a79c-61f1-4e01-887f-4d2d51b75307   \n",
       "f59987d8-0e52-498f-a867-0c1d075fd79b  3b92a79c-61f1-4e01-887f-4d2d51b75307   \n",
       "be309f24-a650-47f1-9fe1-4937b77b5db6  3b92a79c-61f1-4e01-887f-4d2d51b75307   \n",
       "fb71f7fb-461c-4fed-a153-8022feb7fbff  3b92a79c-61f1-4e01-887f-4d2d51b75307   \n",
       "792a321a-2b80-4967-b674-270c885ef050  3b92a79c-61f1-4e01-887f-4d2d51b75307   \n",
       "44400ec9-2a8e-4f3c-90c8-d59629c9537b  3b92a79c-61f1-4e01-887f-4d2d51b75307   \n",
       "aabba2f5-b60e-4051-b012-b332dcef6bed  3b92a79c-61f1-4e01-887f-4d2d51b75307   \n",
       "7d1610e9-c044-4ce4-9e88-fa760853bfe8  3b92a79c-61f1-4e01-887f-4d2d51b75307   \n",
       "e7730ec9-3304-4af3-b978-d08aaff7858b  649e49a3-170b-43df-b8d6-698e1549edcb   \n",
       "4607a6a9-a74b-4b95-a1f7-17b04189120c  cbf37424-e9ee-4256-9616-bccb33877959   \n",
       "\n",
       "                                              use   ffl  number  \n",
       "ee762902-113d-4762-9949-f2594f6a63cb          NaN   NaN     NaN  \n",
       "93747bdd-9c81-4332-bad6-20152101d4f4          NaN   NaN     NaN  \n",
       "bfb80bb9-08e8-4a9c-8892-df73e6561d32          NaN   NaN     NaN  \n",
       "cdd2a9b9-f204-42be-8b7c-0d6cdec34594          NaN   NaN     NaN  \n",
       "6072b243-6bba-4e67-96de-25119e17150f          NaN   NaN     NaN  \n",
       "c19933d4-eaa0-4398-882d-b8554d2963db      parking   NaN     NaN  \n",
       "79af032a-c245-41c9-a2d4-33bb3029346a        plant   NaN     NaN  \n",
       "4665be87-5447-4303-b333-724024f4a00a          NaN  -5.9    -2.0  \n",
       "20898dd5-2b80-47bc-b963-b0f546dc0e00          NaN  -2.8    -1.0  \n",
       "48a9f4a0-1157-48f8-94b2-f64461730009        hotel   NaN     NaN  \n",
       "2e6cefe7-a5c3-4c0b-a578-ef2fa298482f       retail   NaN     NaN  \n",
       "6e260151-086b-40c2-83a5-d14ea8e006dd  residential   NaN     NaN  \n",
       "40e0d08f-67e5-48ec-b828-9f921a4eee34       retail   NaN     NaN  \n",
       "ba6a675c-fad0-4236-993e-6451f7ef6f88      parking   NaN     NaN  \n",
       "e805830b-9774-4519-aedc-fd03552308c2        cores   NaN     NaN  \n",
       "f9e3f130-41d5-41d4-b268-ce4de951c1ce          NaN   0.3     0.0  \n",
       "dfbaf91f-64cb-4218-b528-b8eb5e742cd4          NaN   5.3     1.0  \n",
       "e547ef7b-8f3c-4cf6-b877-0ae9b0e3ea97          NaN   8.4     2.0  \n",
       "d7871d3f-d8e7-458d-8e7e-d33157170daf          NaN  11.5     3.0  \n",
       "29d18596-9aa4-440a-b578-3b33c01caca0          NaN  14.6     4.0  \n",
       "13338cb2-ece4-43d5-a5dd-f2a7b47fe25f          NaN  17.7     5.0  \n",
       "f5153bc8-224f-4a8c-9987-6211fd73c120          NaN  20.8     6.0  \n",
       "33a10ae8-721d-46c3-8e66-d278ce872cf7          NaN  23.9     7.0  \n",
       "328020e8-4694-427e-b433-8367c7f1f14d          NaN  27.0     8.0  \n",
       "c26f2937-1354-455d-949d-3a0a187e157b          NaN  30.1     9.0  \n",
       "5d1ba8b7-a2f6-4ea8-ae43-fe228b4a5ab5          NaN  33.2    10.0  \n",
       "e5abcf3b-73ee-4ade-8ce2-99115cb8e8d5          NaN  36.3    11.0  \n",
       "2712f2e2-0810-4d4c-843a-0b388e56d83e          NaN  39.4    12.0  \n",
       "a57a309a-fba1-4613-b395-511df17d8cbe          NaN  42.5    13.0  \n",
       "9a94af5c-11de-445c-a65f-fa5ea5b34a1c          NaN   0.3     0.0  \n",
       "bef4da00-cd24-4703-ad27-82963ae2cf87          NaN   0.3     0.0  \n",
       "13d41e1a-627b-46de-abea-d98a4e053892          NaN   5.3     1.0  \n",
       "ff6c54fd-095e-462e-aba0-2e43842a7b10          NaN   8.4     2.0  \n",
       "15063656-315e-46fe-a193-eb8b364c725e          NaN  11.5     3.0  \n",
       "9d0d9b38-2f76-43a1-a67a-755155625b0b          NaN   0.3     0.0  \n",
       "aed4f503-92e3-4ddd-b0cf-ba8739f31ecb          NaN   0.3     0.0  \n",
       "3b92a79c-61f1-4e01-887f-4d2d51b75307  residential   NaN     NaN  \n",
       "649e49a3-170b-43df-b8d6-698e1549edcb      parking   NaN     NaN  \n",
       "cbf37424-e9ee-4256-9616-bccb33877959       retail   NaN     NaN  \n",
       "b46237d4-fbe2-4be6-8efc-59785f708ba2        cores   NaN     NaN  \n",
       "8e9146d0-2104-4e1c-9c82-c13f75615ec8          NaN   0.3     0.0  \n",
       "f59987d8-0e52-498f-a867-0c1d075fd79b          NaN   5.3     1.0  \n",
       "be309f24-a650-47f1-9fe1-4937b77b5db6          NaN   8.4     2.0  \n",
       "fb71f7fb-461c-4fed-a153-8022feb7fbff          NaN  11.5     3.0  \n",
       "792a321a-2b80-4967-b674-270c885ef050          NaN  14.6     4.0  \n",
       "44400ec9-2a8e-4f3c-90c8-d59629c9537b          NaN  17.7     5.0  \n",
       "aabba2f5-b60e-4051-b012-b332dcef6bed          NaN  20.8     6.0  \n",
       "7d1610e9-c044-4ce4-9e88-fa760853bfe8          NaN   0.3     0.0  \n",
       "e7730ec9-3304-4af3-b978-d08aaff7858b          NaN   0.3     0.0  \n",
       "4607a6a9-a74b-4b95-a1f7-17b04189120c          NaN   0.3     0.0  "
      ]
     },
     "execution_count": 9,
     "metadata": {},
     "output_type": "execute_result"
    }
   ],
   "source": [
    "df = spatial_containment.to_DataFrame()\n",
    "df = df[['name', 'type', 'gfa', 'subtotal_gfa', 'parent', 'use', 'ffl', 'number']]\n",
    "df"
   ]
  },
  {
   "cell_type": "code",
   "execution_count": 10,
   "metadata": {
    "ExecuteTime": {
     "end_time": "2024-03-14T12:20:30.209049Z",
     "start_time": "2024-03-14T12:20:29.744448Z"
    },
    "collapsed": false
   },
   "outputs": [
    {
     "data": {
      "text/html": [
       "\n",
       "        <iframe\n",
       "            width=\"100%\"\n",
       "            height=\"1600\"\n",
       "            src=\"./spatial_containment_chart.html\"\n",
       "            frameborder=\"0\"\n",
       "            allowfullscreen\n",
       "            \n",
       "        ></iframe>\n",
       "        "
      ],
      "text/plain": [
       "<IPython.lib.display.IFrame at 0x2a65d35d0>"
      ]
     },
     "execution_count": 10,
     "metadata": {},
     "output_type": "execute_result"
    }
   ],
   "source": [
    "sunburst = spatial_containment.sunburst(property='subtotal_gfa')\n",
    "treemap = spatial_containment.treemap(property='subtotal_gfa')\n",
    "fig = plotly.subplots.make_subplots(\n",
    "    rows=2, cols=1,\n",
    "    specs=[[{\"type\": \"sunburst\"}], [{\"type\": \"treemap\"}]],\n",
    "    subplot_titles=('Gross Floor Area - Sunburst Plot', 'Gross Floor Area - Treemap Plot'))\n",
    "fig.append_trace(sunburst, row=1, col=1)\n",
    "fig.append_trace(treemap, row=2, col=1)\n",
    "filename='spatial_containment_chart.html'\n",
    "\n",
    "py.plot(fig, filename=f'assets/{filename}', auto_open=False)\n",
    "IFrame(src=f'./{filename}', width='100%', height=800 * len(fig.data))"
   ]
  },
  {
   "cell_type": "code",
   "execution_count": 11,
   "metadata": {
    "ExecuteTime": {
     "end_time": "2024-03-14T12:20:30.213732Z",
     "start_time": "2024-03-14T12:20:30.211217Z"
    },
    "collapsed": false
   },
   "outputs": [],
   "source": [
    "floors = property.filter_by_type(entity_type='floor')\n",
    "floors = [floor for floor in floors.get_entities().values() if hasattr(floor, 'gfa')]"
   ]
  },
  {
   "cell_type": "code",
   "execution_count": 12,
   "metadata": {
    "ExecuteTime": {
     "end_time": "2024-03-14T12:20:30.245462Z",
     "start_time": "2024-03-14T12:20:30.214402Z"
    },
    "collapsed": false
   },
   "outputs": [],
   "source": [
    "locale.setlocale(locale.LC_ALL, 'en_au')\n",
    "units = rk.measure.Index.registry\n",
    "currency = rk.measure.register_currency(registry=units)\n",
    "frequency = rk.duration.Type.YEAR"
   ]
  },
  {
   "cell_type": "code",
   "execution_count": 13,
   "metadata": {
    "ExecuteTime": {
     "end_time": "2024-03-14T12:20:30.248724Z",
     "start_time": "2024-03-14T12:20:30.246491Z"
    },
    "collapsed": false
   },
   "outputs": [],
   "source": [
    "efficiency_ratios = dict(\n",
    "    hotel=0.8,\n",
    "    retail=0.675,\n",
    "    residential=0.75,\n",
    "    parking=0.9\n",
    "    )\n",
    "initial_income_per_area_pa = dict(\n",
    "    hotel=750,\n",
    "    retail=1000,\n",
    "    residential=600,\n",
    "    parking=0\n",
    "    )\n",
    "pgi_growth_rates = dict(\n",
    "    hotel=.035,\n",
    "    retail=.075,\n",
    "    residential=.055,\n",
    "    parking=0\n",
    "    )\n",
    "vacancy_rates = dict(\n",
    "    hotel=.025,\n",
    "    retail=.075,\n",
    "    residential=.015,\n",
    "    parking=0,\n",
    "    )"
   ]
  },
  {
   "cell_type": "code",
   "execution_count": 14,
   "metadata": {
    "ExecuteTime": {
     "end_time": "2024-03-14T12:20:30.253517Z",
     "start_time": "2024-03-14T12:20:30.249449Z"
    },
    "collapsed": false
   },
   "outputs": [
    {
     "data": {
      "text/html": [
       "<div>\n",
       "<style scoped>\n",
       "    .dataframe tbody tr th:only-of-type {\n",
       "        vertical-align: middle;\n",
       "    }\n",
       "\n",
       "    .dataframe tbody tr th {\n",
       "        vertical-align: top;\n",
       "    }\n",
       "\n",
       "    .dataframe thead th {\n",
       "        text-align: right;\n",
       "    }\n",
       "</style>\n",
       "<table border=\"1\" class=\"dataframe\">\n",
       "  <thead>\n",
       "    <tr style=\"text-align: right;\">\n",
       "      <th></th>\n",
       "      <th>efficiency_ratio</th>\n",
       "      <th>initial_income_per_area_pa</th>\n",
       "      <th>pgi_growth_rate</th>\n",
       "      <th>vacancy_rate</th>\n",
       "    </tr>\n",
       "  </thead>\n",
       "  <tbody>\n",
       "    <tr>\n",
       "      <th>hotel</th>\n",
       "      <td>0.800</td>\n",
       "      <td>750</td>\n",
       "      <td>0.035</td>\n",
       "      <td>0.025</td>\n",
       "    </tr>\n",
       "    <tr>\n",
       "      <th>retail</th>\n",
       "      <td>0.675</td>\n",
       "      <td>1000</td>\n",
       "      <td>0.075</td>\n",
       "      <td>0.075</td>\n",
       "    </tr>\n",
       "    <tr>\n",
       "      <th>residential</th>\n",
       "      <td>0.750</td>\n",
       "      <td>600</td>\n",
       "      <td>0.055</td>\n",
       "      <td>0.015</td>\n",
       "    </tr>\n",
       "    <tr>\n",
       "      <th>parking</th>\n",
       "      <td>0.900</td>\n",
       "      <td>0</td>\n",
       "      <td>0.000</td>\n",
       "      <td>0.000</td>\n",
       "    </tr>\n",
       "  </tbody>\n",
       "</table>\n",
       "</div>"
      ],
      "text/plain": [
       "             efficiency_ratio  initial_income_per_area_pa  pgi_growth_rate  \\\n",
       "hotel                   0.800                         750            0.035   \n",
       "retail                  0.675                        1000            0.075   \n",
       "residential             0.750                         600            0.055   \n",
       "parking                 0.900                           0            0.000   \n",
       "\n",
       "             vacancy_rate  \n",
       "hotel               0.025  \n",
       "retail              0.075  \n",
       "residential         0.015  \n",
       "parking             0.000  "
      ]
     },
     "execution_count": 14,
     "metadata": {},
     "output_type": "execute_result"
    }
   ],
   "source": [
    "revenue_inputs = pd.DataFrame(\n",
    "    data=dict(\n",
    "        efficiency_ratio=efficiency_ratios,\n",
    "        initial_income_per_area_pa=initial_income_per_area_pa,\n",
    "        pgi_growth_rate=pgi_growth_rates,\n",
    "        vacancy_rate=vacancy_rates,\n",
    "        ))\n",
    "revenue_inputs"
   ]
  },
  {
   "cell_type": "code",
   "execution_count": 15,
   "metadata": {
    "ExecuteTime": {
     "end_time": "2024-03-14T12:20:30.255683Z",
     "start_time": "2024-03-14T12:20:30.254167Z"
    },
    "collapsed": false
   },
   "outputs": [],
   "source": [
    "params = dict(\n",
    "    start_date=pd.Timestamp('2001-01-01'),\n",
    "    num_periods=10,\n",
    "    frequency=rk.duration.Type.YEAR\n",
    "    )"
   ]
  },
  {
   "cell_type": "code",
   "execution_count": 16,
   "metadata": {
    "ExecuteTime": {
     "end_time": "2024-03-14T12:20:30.258592Z",
     "start_time": "2024-03-14T12:20:30.256246Z"
    },
    "collapsed": false
   },
   "outputs": [],
   "source": [
    "class Spans:\n",
    "    def __init__(self, params: dict):\n",
    "        self.params = params\n",
    "        self.calc_span = rk.span.Span.from_duration(\n",
    "            name='Span to Calculate Reversion',\n",
    "            date=self.params['start_date'],\n",
    "            duration=self.params['frequency'],\n",
    "            amount=self.params['num_periods'] + 1)\n",
    "        self.acq_span = rk.span.Span.from_duration(\n",
    "            name='Acquisition Span',\n",
    "            date=rk.duration.offset(\n",
    "                self.params['start_date'],\n",
    "                amount=-1,\n",
    "                duration=self.params['frequency']),\n",
    "            duration=self.params['frequency'])\n",
    "        self.span = self.calc_span.shift(\n",
    "            name='Span',\n",
    "            amount=-1,\n",
    "            duration=self.params['frequency'])"
   ]
  },
  {
   "cell_type": "code",
   "execution_count": 17,
   "metadata": {
    "ExecuteTime": {
     "end_time": "2024-03-14T12:20:30.260858Z",
     "start_time": "2024-03-14T12:20:30.259224Z"
    },
    "collapsed": false
   },
   "outputs": [],
   "source": [
    "class Revenues:\n",
    "    def __init__(\n",
    "            self,\n",
    "            params: dict,\n",
    "            spans: Spans):\n",
    "        self.params = params\n",
    "        self.spans = spans"
   ]
  },
  {
   "cell_type": "code",
   "execution_count": 18,
   "metadata": {
    "ExecuteTime": {
     "end_time": "2024-03-14T12:20:30.263875Z",
     "start_time": "2024-03-14T12:20:30.261566Z"
    },
    "collapsed": false
   },
   "outputs": [],
   "source": [
    "@rk.update_class(Revenues)\n",
    "class Revenues:\n",
    "    def generate(self):\n",
    "        self.pgi = rk.flux.Flow.from_projection(\n",
    "            name='Potential Gross Income',\n",
    "            value=self.params['initial_income'],\n",
    "            proj=rk.projection.Extrapolation(\n",
    "            form=rk.extrapolation.Compounding(\n",
    "                rate=self.params['pgi_growth_rate']),\n",
    "            sequence=self.spans.calc_span.to_sequence(frequency=self.params['frequency'])),\n",
    "            units=currency.units)\n",
    "        self.vacancy = rk.flux.Flow(\n",
    "            name='Vacancy Allowance',\n",
    "            movements=self.pgi.movements * -self.params['vacancy_rate'],\n",
    "            units=currency.units)\n",
    "        self.egi = rk.flux.Stream(\n",
    "            name='Effective Gross Income',\n",
    "            flows=[self.pgi, self.vacancy],\n",
    "            frequency=self.params['frequency'])"
   ]
  },
  {
   "cell_type": "code",
   "execution_count": 19,
   "metadata": {
    "ExecuteTime": {
     "end_time": "2024-03-14T12:20:30.266469Z",
     "start_time": "2024-03-14T12:20:30.264635Z"
    },
    "collapsed": false
   },
   "outputs": [],
   "source": [
    "spans = Spans(params)"
   ]
  },
  {
   "cell_type": "code",
   "execution_count": 20,
   "metadata": {
    "ExecuteTime": {
     "end_time": "2024-03-14T12:20:30.345361Z",
     "start_time": "2024-03-14T12:20:30.267316Z"
    },
    "collapsed": false
   },
   "outputs": [],
   "source": [
    "for floor in floors:\n",
    "    parent = floor.get_relatives(\n",
    "        relationship_type='spatiallyContains',\n",
    "        outgoing=False,\n",
    "        assembly=spatial_containment)[0]\n",
    "    floor['use'] = parent['use']\n",
    "\n",
    "    floor.params = params.copy()\n",
    "    floor.params['initial_income'] = initial_income_per_area_pa[floor['use']] * floor['gfa'] * efficiency_ratios[floor['use']]\n",
    "    floor.params['pgi_growth_rate'] = pgi_growth_rates[floor['use']]\n",
    "    floor.params['vacancy_rate'] = vacancy_rates[floor['use']]\n",
    "\n",
    "    revenues = Revenues(floor.params, spans)\n",
    "    revenues.generate()\n",
    "    floor['pgi'] = revenues.pgi\n",
    "    floor['vacancy'] = revenues.vacancy\n",
    "    floor['egi'] = revenues.egi"
   ]
  },
  {
   "cell_type": "code",
   "execution_count": 21,
   "metadata": {
    "ExecuteTime": {
     "end_time": "2024-03-14T12:20:30.349297Z",
     "start_time": "2024-03-14T12:20:30.346554Z"
    },
    "collapsed": false
   },
   "outputs": [],
   "source": [
    "def aggregate_egis(**kwargs):\n",
    "    return rk.graph.Entity.aggregate_flows(\n",
    "        **kwargs,\n",
    "        name='Effective Gross Income',\n",
    "        frequency=frequency)"
   ]
  },
  {
   "cell_type": "code",
   "execution_count": 22,
   "metadata": {
    "ExecuteTime": {
     "end_time": "2024-03-14T12:20:30.636111Z",
     "start_time": "2024-03-14T12:20:30.350140Z"
    },
    "collapsed": false
   },
   "outputs": [],
   "source": [
    "property.aggregate(\n",
    "    function=aggregate_egis,\n",
    "    property='egi',\n",
    "    label='subtotal_egi',\n",
    "    relationship_type='spatiallyContains')"
   ]
  },
  {
   "cell_type": "code",
   "execution_count": 23,
   "metadata": {
    "ExecuteTime": {
     "end_time": "2024-03-14T12:20:30.639295Z",
     "start_time": "2024-03-14T12:20:30.636716Z"
    },
    "collapsed": false
   },
   "outputs": [
    {
     "data": {
      "text/plain": [
       "'Effective Gross Income'"
      ]
     },
     "execution_count": 23,
     "metadata": {},
     "output_type": "execute_result"
    }
   ],
   "source": [
    "floors[1]['egi'].name"
   ]
  },
  {
   "cell_type": "code",
   "execution_count": 24,
   "metadata": {
    "ExecuteTime": {
     "end_time": "2024-03-14T12:20:30.660499Z",
     "start_time": "2024-03-14T12:20:30.639969Z"
    },
    "collapsed": false
   },
   "outputs": [
    {
     "name": "stdout",
     "output_type": "stream",
     "text": [
      "buildingAhotel\n"
     ]
    },
    {
     "data": {
      "text/html": [
       "<table>\n",
       "<thead>\n",
       "<tr><th style=\"text-align: right;\">  date</th><th style=\"text-align: right;\">  Effective Gross Income for f9e3f130-41d5-41d4-b268-ce4de951c1ce [buildingAhotelFloor0]</th><th style=\"text-align: right;\">  Effective Gross Income for dfbaf91f-64cb-4218-b528-b8eb5e742cd4 [buildingAhotelFloor1]</th><th style=\"text-align: right;\">  Effective Gross Income for e547ef7b-8f3c-4cf6-b877-0ae9b0e3ea97 [buildingAhotelFloor2]</th><th style=\"text-align: right;\">  Effective Gross Income for d7871d3f-d8e7-458d-8e7e-d33157170daf [buildingAhotelFloor3]</th><th style=\"text-align: right;\">  Effective Gross Income for 29d18596-9aa4-440a-b578-3b33c01caca0 [buildingAhotelFloor4]</th><th style=\"text-align: right;\">  Effective Gross Income for 13338cb2-ece4-43d5-a5dd-f2a7b47fe25f [buildingAhotelFloor5]</th><th style=\"text-align: right;\">  Effective Gross Income for f5153bc8-224f-4a8c-9987-6211fd73c120 [buildingAhotelFloor6]</th><th style=\"text-align: right;\">  Effective Gross Income for 33a10ae8-721d-46c3-8e66-d278ce872cf7 [buildingAhotelFloor7]</th><th style=\"text-align: right;\">  Effective Gross Income for 328020e8-4694-427e-b433-8367c7f1f14d [buildingAhotelFloor8]</th><th style=\"text-align: right;\">  Effective Gross Income for c26f2937-1354-455d-949d-3a0a187e157b [buildingAhotelFloor9]</th><th style=\"text-align: right;\">  Effective Gross Income for 5d1ba8b7-a2f6-4ea8-ae43-fe228b4a5ab5 [buildingAhotelFloor10]</th><th style=\"text-align: right;\">  Effective Gross Income for e5abcf3b-73ee-4ade-8ce2-99115cb8e8d5 [buildingAhotelFloor11]</th><th style=\"text-align: right;\">  Effective Gross Income for 2712f2e2-0810-4d4c-843a-0b388e56d83e [buildingAhotelFloor12]</th><th style=\"text-align: right;\">  Effective Gross Income for a57a309a-fba1-4613-b395-511df17d8cbe [buildingAhotelFloor13]</th></tr>\n",
       "</thead>\n",
       "<tbody>\n",
       "<tr><td style=\"text-align: right;\">  2001</td><td style=\"text-align: right;\">                                                                              $65,338.65</td><td style=\"text-align: right;\">                                                                             $993,009.17</td><td style=\"text-align: right;\">                                                                             $743,025.13</td><td style=\"text-align: right;\">                                                                             $624,901.87</td><td style=\"text-align: right;\">                                                                             $442,798.89</td><td style=\"text-align: right;\">                                                                             $442,798.89</td><td style=\"text-align: right;\">                                                                             $442,798.89</td><td style=\"text-align: right;\">                                                                             $442,798.89</td><td style=\"text-align: right;\">                                                                             $442,798.89</td><td style=\"text-align: right;\">                                                                             $442,798.89</td><td style=\"text-align: right;\">                                                                              $442,798.89</td><td style=\"text-align: right;\">                                                                              $442,798.89</td><td style=\"text-align: right;\">                                                                              $442,798.89</td><td style=\"text-align: right;\">                                                                              $442,798.89</td></tr>\n",
       "<tr><td style=\"text-align: right;\">  2002</td><td style=\"text-align: right;\">                                                                              $67,625.50</td><td style=\"text-align: right;\">                                                                           $1,027,764.49</td><td style=\"text-align: right;\">                                                                             $769,031.00</td><td style=\"text-align: right;\">                                                                             $646,773.44</td><td style=\"text-align: right;\">                                                                             $458,296.85</td><td style=\"text-align: right;\">                                                                             $458,296.85</td><td style=\"text-align: right;\">                                                                             $458,296.85</td><td style=\"text-align: right;\">                                                                             $458,296.85</td><td style=\"text-align: right;\">                                                                             $458,296.85</td><td style=\"text-align: right;\">                                                                             $458,296.85</td><td style=\"text-align: right;\">                                                                              $458,296.85</td><td style=\"text-align: right;\">                                                                              $458,296.85</td><td style=\"text-align: right;\">                                                                              $458,296.85</td><td style=\"text-align: right;\">                                                                              $458,296.85</td></tr>\n",
       "<tr><td style=\"text-align: right;\">  2003</td><td style=\"text-align: right;\">                                                                              $69,992.40</td><td style=\"text-align: right;\">                                                                           $1,063,736.25</td><td style=\"text-align: right;\">                                                                             $795,947.09</td><td style=\"text-align: right;\">                                                                             $669,410.51</td><td style=\"text-align: right;\">                                                                             $474,337.24</td><td style=\"text-align: right;\">                                                                             $474,337.24</td><td style=\"text-align: right;\">                                                                             $474,337.24</td><td style=\"text-align: right;\">                                                                             $474,337.24</td><td style=\"text-align: right;\">                                                                             $474,337.24</td><td style=\"text-align: right;\">                                                                             $474,337.24</td><td style=\"text-align: right;\">                                                                              $474,337.24</td><td style=\"text-align: right;\">                                                                              $474,337.24</td><td style=\"text-align: right;\">                                                                              $474,337.24</td><td style=\"text-align: right;\">                                                                              $474,337.24</td></tr>\n",
       "<tr><td style=\"text-align: right;\">  2004</td><td style=\"text-align: right;\">                                                                              $72,442.13</td><td style=\"text-align: right;\">                                                                           $1,100,967.02</td><td style=\"text-align: right;\">                                                                             $823,805.24</td><td style=\"text-align: right;\">                                                                             $692,839.87</td><td style=\"text-align: right;\">                                                                             $490,939.04</td><td style=\"text-align: right;\">                                                                             $490,939.04</td><td style=\"text-align: right;\">                                                                             $490,939.04</td><td style=\"text-align: right;\">                                                                             $490,939.04</td><td style=\"text-align: right;\">                                                                             $490,939.04</td><td style=\"text-align: right;\">                                                                             $490,939.04</td><td style=\"text-align: right;\">                                                                              $490,939.04</td><td style=\"text-align: right;\">                                                                              $490,939.04</td><td style=\"text-align: right;\">                                                                              $490,939.04</td><td style=\"text-align: right;\">                                                                              $490,939.04</td></tr>\n",
       "<tr><td style=\"text-align: right;\">  2005</td><td style=\"text-align: right;\">                                                                              $74,977.60</td><td style=\"text-align: right;\">                                                                           $1,139,500.86</td><td style=\"text-align: right;\">                                                                             $852,638.42</td><td style=\"text-align: right;\">                                                                             $717,089.27</td><td style=\"text-align: right;\">                                                                             $508,121.91</td><td style=\"text-align: right;\">                                                                             $508,121.91</td><td style=\"text-align: right;\">                                                                             $508,121.91</td><td style=\"text-align: right;\">                                                                             $508,121.91</td><td style=\"text-align: right;\">                                                                             $508,121.91</td><td style=\"text-align: right;\">                                                                             $508,121.91</td><td style=\"text-align: right;\">                                                                              $508,121.91</td><td style=\"text-align: right;\">                                                                              $508,121.91</td><td style=\"text-align: right;\">                                                                              $508,121.91</td><td style=\"text-align: right;\">                                                                              $508,121.91</td></tr>\n",
       "<tr><td style=\"text-align: right;\">  2006</td><td style=\"text-align: right;\">                                                                              $77,601.82</td><td style=\"text-align: right;\">                                                                           $1,179,383.39</td><td style=\"text-align: right;\">                                                                             $882,480.77</td><td style=\"text-align: right;\">                                                                             $742,187.39</td><td style=\"text-align: right;\">                                                                             $525,906.17</td><td style=\"text-align: right;\">                                                                             $525,906.17</td><td style=\"text-align: right;\">                                                                             $525,906.17</td><td style=\"text-align: right;\">                                                                             $525,906.17</td><td style=\"text-align: right;\">                                                                             $525,906.17</td><td style=\"text-align: right;\">                                                                             $525,906.17</td><td style=\"text-align: right;\">                                                                              $525,906.17</td><td style=\"text-align: right;\">                                                                              $525,906.17</td><td style=\"text-align: right;\">                                                                              $525,906.17</td><td style=\"text-align: right;\">                                                                              $525,906.17</td></tr>\n",
       "<tr><td style=\"text-align: right;\">  2007</td><td style=\"text-align: right;\">                                                                              $80,317.88</td><td style=\"text-align: right;\">                                                                           $1,220,661.81</td><td style=\"text-align: right;\">                                                                             $913,367.59</td><td style=\"text-align: right;\">                                                                             $768,163.95</td><td style=\"text-align: right;\">                                                                             $544,312.89</td><td style=\"text-align: right;\">                                                                             $544,312.89</td><td style=\"text-align: right;\">                                                                             $544,312.89</td><td style=\"text-align: right;\">                                                                             $544,312.89</td><td style=\"text-align: right;\">                                                                             $544,312.89</td><td style=\"text-align: right;\">                                                                             $544,312.89</td><td style=\"text-align: right;\">                                                                              $544,312.89</td><td style=\"text-align: right;\">                                                                              $544,312.89</td><td style=\"text-align: right;\">                                                                              $544,312.89</td><td style=\"text-align: right;\">                                                                              $544,312.89</td></tr>\n",
       "<tr><td style=\"text-align: right;\">  2008</td><td style=\"text-align: right;\">                                                                              $83,129.01</td><td style=\"text-align: right;\">                                                                           $1,263,384.97</td><td style=\"text-align: right;\">                                                                             $945,335.46</td><td style=\"text-align: right;\">                                                                             $795,049.69</td><td style=\"text-align: right;\">                                                                             $563,363.84</td><td style=\"text-align: right;\">                                                                             $563,363.84</td><td style=\"text-align: right;\">                                                                             $563,363.84</td><td style=\"text-align: right;\">                                                                             $563,363.84</td><td style=\"text-align: right;\">                                                                             $563,363.84</td><td style=\"text-align: right;\">                                                                             $563,363.84</td><td style=\"text-align: right;\">                                                                              $563,363.84</td><td style=\"text-align: right;\">                                                                              $563,363.84</td><td style=\"text-align: right;\">                                                                              $563,363.84</td><td style=\"text-align: right;\">                                                                              $563,363.84</td></tr>\n",
       "<tr><td style=\"text-align: right;\">  2009</td><td style=\"text-align: right;\">                                                                              $86,038.52</td><td style=\"text-align: right;\">                                                                           $1,307,603.45</td><td style=\"text-align: right;\">                                                                             $978,422.20</td><td style=\"text-align: right;\">                                                                             $822,876.43</td><td style=\"text-align: right;\">                                                                             $583,081.58</td><td style=\"text-align: right;\">                                                                             $583,081.58</td><td style=\"text-align: right;\">                                                                             $583,081.58</td><td style=\"text-align: right;\">                                                                             $583,081.58</td><td style=\"text-align: right;\">                                                                             $583,081.58</td><td style=\"text-align: right;\">                                                                             $583,081.58</td><td style=\"text-align: right;\">                                                                              $583,081.58</td><td style=\"text-align: right;\">                                                                              $583,081.58</td><td style=\"text-align: right;\">                                                                              $583,081.58</td><td style=\"text-align: right;\">                                                                              $583,081.58</td></tr>\n",
       "<tr><td style=\"text-align: right;\">  2010</td><td style=\"text-align: right;\">                                                                              $89,049.87</td><td style=\"text-align: right;\">                                                                           $1,353,369.57</td><td style=\"text-align: right;\">                                                                           $1,012,666.98</td><td style=\"text-align: right;\">                                                                             $851,677.11</td><td style=\"text-align: right;\">                                                                             $603,489.43</td><td style=\"text-align: right;\">                                                                             $603,489.43</td><td style=\"text-align: right;\">                                                                             $603,489.43</td><td style=\"text-align: right;\">                                                                             $603,489.43</td><td style=\"text-align: right;\">                                                                             $603,489.43</td><td style=\"text-align: right;\">                                                                             $603,489.43</td><td style=\"text-align: right;\">                                                                              $603,489.43</td><td style=\"text-align: right;\">                                                                              $603,489.43</td><td style=\"text-align: right;\">                                                                              $603,489.43</td><td style=\"text-align: right;\">                                                                              $603,489.43</td></tr>\n",
       "<tr><td style=\"text-align: right;\">  2011</td><td style=\"text-align: right;\">                                                                              $92,166.62</td><td style=\"text-align: right;\">                                                                           $1,400,737.50</td><td style=\"text-align: right;\">                                                                           $1,048,110.32</td><td style=\"text-align: right;\">                                                                             $881,485.80</td><td style=\"text-align: right;\">                                                                             $624,611.56</td><td style=\"text-align: right;\">                                                                             $624,611.56</td><td style=\"text-align: right;\">                                                                             $624,611.56</td><td style=\"text-align: right;\">                                                                             $624,611.56</td><td style=\"text-align: right;\">                                                                             $624,611.56</td><td style=\"text-align: right;\">                                                                             $624,611.56</td><td style=\"text-align: right;\">                                                                              $624,611.56</td><td style=\"text-align: right;\">                                                                              $624,611.56</td><td style=\"text-align: right;\">                                                                              $624,611.56</td><td style=\"text-align: right;\">                                                                              $624,611.56</td></tr>\n",
       "</tbody>\n",
       "</table>"
      ],
      "text/plain": [
       "<rangekeeper.flux.Stream at 0x2ac6bae50>"
      ]
     },
     "execution_count": 24,
     "metadata": {},
     "output_type": "execute_result"
    }
   ],
   "source": [
    "buildingAhotel = [e for (id, e) in spatial_containment.get_entities().items() if e.name == 'buildingAhotel'][0]\n",
    "print(buildingAhotel.name)\n",
    "buildingAhotel['subtotal_egi']"
   ]
  },
  {
   "cell_type": "code",
   "execution_count": 25,
   "metadata": {
    "ExecuteTime": {
     "end_time": "2024-03-14T12:20:30.665428Z",
     "start_time": "2024-03-14T12:20:30.661271Z"
    },
    "collapsed": false
   },
   "outputs": [
    {
     "data": {
      "text/html": [
       "<table>\n",
       "<thead>\n",
       "<tr><th style=\"text-align: right;\">               date</th><th style=\"text-align: right;\">  Effective Gross Income for 48a9f4a0-1157-48f8-94b2-f64461730009 [buildingAhotel] Aggregation (sum)</th></tr>\n",
       "</thead>\n",
       "<tbody>\n",
       "<tr><td style=\"text-align: right;\">2001-12-31 00:00:00</td><td style=\"text-align: right;\">                                                                                       $6,854,263.68</td></tr>\n",
       "<tr><td style=\"text-align: right;\">2002-12-31 00:00:00</td><td style=\"text-align: right;\">                                                                                       $7,094,162.91</td></tr>\n",
       "<tr><td style=\"text-align: right;\">2003-12-31 00:00:00</td><td style=\"text-align: right;\">                                                                                       $7,342,458.61</td></tr>\n",
       "<tr><td style=\"text-align: right;\">2004-12-31 00:00:00</td><td style=\"text-align: right;\">                                                                                       $7,599,444.66</td></tr>\n",
       "<tr><td style=\"text-align: right;\">2005-12-31 00:00:00</td><td style=\"text-align: right;\">                                                                                       $7,865,425.23</td></tr>\n",
       "<tr><td style=\"text-align: right;\">2006-12-31 00:00:00</td><td style=\"text-align: right;\">                                                                                       $8,140,715.11</td></tr>\n",
       "<tr><td style=\"text-align: right;\">2007-12-31 00:00:00</td><td style=\"text-align: right;\">                                                                                       $8,425,640.14</td></tr>\n",
       "<tr><td style=\"text-align: right;\">2008-12-31 00:00:00</td><td style=\"text-align: right;\">                                                                                       $8,720,537.54</td></tr>\n",
       "<tr><td style=\"text-align: right;\">2009-12-31 00:00:00</td><td style=\"text-align: right;\">                                                                                       $9,025,756.36</td></tr>\n",
       "<tr><td style=\"text-align: right;\">2010-12-31 00:00:00</td><td style=\"text-align: right;\">                                                                                       $9,341,657.83</td></tr>\n",
       "<tr><td style=\"text-align: right;\">2011-12-31 00:00:00</td><td style=\"text-align: right;\">                                                                                       $9,668,615.85</td></tr>\n",
       "</tbody>\n",
       "</table>"
      ],
      "text/plain": [
       "<rangekeeper.flux.Flow at 0x2ac6f1f10>"
      ]
     },
     "execution_count": 25,
     "metadata": {},
     "output_type": "execute_result"
    }
   ],
   "source": [
    "buildingAhotel['subtotal_egi'].sum()"
   ]
  },
  {
   "cell_type": "code",
   "execution_count": 26,
   "metadata": {
    "ExecuteTime": {
     "end_time": "2024-03-14T12:20:30.670055Z",
     "start_time": "2024-03-14T12:20:30.666341Z"
    },
    "collapsed": false
   },
   "outputs": [
    {
     "data": {
      "text/html": [
       "<table>\n",
       "<thead>\n",
       "<tr><th style=\"text-align: right;\">               date</th><th style=\"text-align: right;\">  Effective Gross Income for 48a9f4a0-1157-48f8-94b2-f64461730009 [buildingAhotel] Aggregation (sum)</th></tr>\n",
       "</thead>\n",
       "<tbody>\n",
       "<tr><td style=\"text-align: right;\">2011-12-31 00:00:00</td><td style=\"text-align: right;\">                                                                                      $90,078,677.93</td></tr>\n",
       "</tbody>\n",
       "</table>"
      ],
      "text/plain": [
       "<rangekeeper.flux.Flow at 0x2ac75a1d0>"
      ]
     },
     "execution_count": 26,
     "metadata": {},
     "output_type": "execute_result"
    }
   ],
   "source": [
    "buildingAhotel['subtotal_egi'].sum().collapse()"
   ]
  },
  {
   "cell_type": "code",
   "execution_count": 27,
   "metadata": {
    "ExecuteTime": {
     "end_time": "2024-03-14T12:20:31.110096Z",
     "start_time": "2024-03-14T12:20:30.670849Z"
    },
    "collapsed": false
   },
   "outputs": [
    {
     "data": {
      "text/html": [
       "\n",
       "        <iframe\n",
       "            width=\"100%\"\n",
       "            height=\"1600\"\n",
       "            src=\"./aggregate_egis_chart.html\"\n",
       "            frameborder=\"0\"\n",
       "            allowfullscreen\n",
       "            \n",
       "        ></iframe>\n",
       "        "
      ],
      "text/plain": [
       "<IPython.lib.display.IFrame at 0x2a4835e90>"
      ]
     },
     "execution_count": 27,
     "metadata": {},
     "output_type": "execute_result"
    }
   ],
   "source": [
    "sunburst = spatial_containment.sunburst(property='subtotal_egi')\n",
    "treemap = spatial_containment.treemap(property='subtotal_egi')\n",
    "fig = plotly.subplots.make_subplots(\n",
    "    rows=2, cols=1,\n",
    "    specs=[[{\"type\": \"sunburst\"}], [{\"type\": \"treemap\"}]],\n",
    "    subplot_titles=('Effective Gross Income - Sunburst Plot', 'Effective Gross Income - Treemap Plot'))\n",
    "fig.append_trace(sunburst, row=1, col=1)\n",
    "fig.append_trace(treemap, row=2, col=1)\n",
    "filename='aggregate_egis_chart.html'\n",
    "\n",
    "py.plot(fig, filename=f'assets/{filename}', auto_open=False)\n",
    "IFrame(src=f'./{filename}', width='100%', height=800 * len(fig.data))"
   ]
  },
  {
   "cell_type": "code",
   "execution_count": 28,
   "metadata": {
    "ExecuteTime": {
     "end_time": "2024-03-14T12:20:31.117104Z",
     "start_time": "2024-03-14T12:20:31.112038Z"
    },
    "collapsed": false
   },
   "outputs": [],
   "source": [
    "# Aggregate Facade Areas:\n",
    "for (entityId, entity) in property.get_entities().items():\n",
    "    if hasattr(entity, 'perimeter') & hasattr(entity, 'ftf'):\n",
    "        entity['facade_area'] = entity['perimeter'] * entity['ftf']\n",
    "spatial_containment.aggregate(\n",
    "    property='facade_area',\n",
    "    label='subtotal_facade_area')"
   ]
  },
  {
   "cell_type": "code",
   "execution_count": 29,
   "metadata": {
    "ExecuteTime": {
     "end_time": "2024-03-14T12:20:31.120253Z",
     "start_time": "2024-03-14T12:20:31.117919Z"
    },
    "collapsed": false
   },
   "outputs": [],
   "source": [
    "floor_opex_per_area_pa = dict(\n",
    "    hotel=-175,\n",
    "    retail=-225,\n",
    "    residential=-125,\n",
    "    parking=-65,\n",
    "    )\n",
    "facade_opex_per_area_pa = dict(\n",
    "    hotel=-50,\n",
    "    retail=-100,\n",
    "    residential=-50,\n",
    "    parking=-25,\n",
    "    )\n",
    "opex_growth_rate = 0.035\n",
    "floor_capex_per_area_pa = dict(\n",
    "    hotel=-100,\n",
    "    retail=-150,\n",
    "    residential=-75,\n",
    "    parking=-50,\n",
    "    )\n",
    "cores_capex_per_vol_pa = -100\n",
    "plant_capex_per_vol_pa = -1000\n",
    "capex_growth_rate = 0.035"
   ]
  },
  {
   "cell_type": "code",
   "execution_count": 30,
   "metadata": {
    "ExecuteTime": {
     "end_time": "2024-03-14T12:20:31.122963Z",
     "start_time": "2024-03-14T12:20:31.121032Z"
    },
    "collapsed": false
   },
   "outputs": [],
   "source": [
    "class Costs:\n",
    "    def __init__(\n",
    "            self,\n",
    "            params: dict,\n",
    "            spans: Spans):\n",
    "        self.params = params\n",
    "        self.spans = spans"
   ]
  },
  {
   "cell_type": "code",
   "execution_count": 31,
   "metadata": {
    "ExecuteTime": {
     "end_time": "2024-03-14T12:20:31.127085Z",
     "start_time": "2024-03-14T12:20:31.123548Z"
    },
    "collapsed": false
   },
   "outputs": [],
   "source": [
    "@rk.update_class(Costs)\n",
    "class Costs:\n",
    "    def generate_space_costs(self):\n",
    "        floor_opex = rk.flux.Flow.from_projection(\n",
    "            name='Floor-derived Operating Expenses',\n",
    "            value=self.params['initial_floor_opex'],\n",
    "            proj=rk.projection.Extrapolation(\n",
    "            form=rk.extrapolation.Compounding(\n",
    "                rate=self.params['opex_growth_rate']),\n",
    "            sequence=self.spans.calc_span.to_sequence(frequency=self.params['frequency'])),\n",
    "            units=currency.units)\n",
    "        facade_opex = rk.flux.Flow.from_projection(\n",
    "            name='Facade-derived Operating Expenses',\n",
    "            value=self.params['initial_facade_opex'],\n",
    "            proj=rk.projection.Extrapolation(\n",
    "            form=rk.extrapolation.Compounding(\n",
    "                rate=self.params['opex_growth_rate']),\n",
    "            sequence=self.spans.calc_span.to_sequence(frequency=self.params['frequency'])),\n",
    "            units=currency.units)\n",
    "        self.opex = rk.flux.Stream(\n",
    "            name='Space Operating Expenses',\n",
    "            flows=[floor_opex, facade_opex],\n",
    "            frequency=self.params['frequency'])\n",
    "\n",
    "        floor_capex = rk.flux.Flow.from_projection(\n",
    "            name='Floor-derived Capital Expenses',\n",
    "            value=self.params['initial_floor_capex'],\n",
    "            proj=rk.projection.Extrapolation(\n",
    "            form=rk.extrapolation.Compounding(\n",
    "                rate=self.params['capex_growth_rate']),\n",
    "            sequence=self.spans.calc_span.to_sequence(frequency=rk.duration.Type.SEMIDECADE)),\n",
    "            units=currency.units)\n",
    "        self.floor_capex = floor_capex.trim_to_span(self.spans.calc_span)  # This is to avoid issues with using >yearly periodicity in projection"
   ]
  },
  {
   "cell_type": "code",
   "execution_count": 32,
   "metadata": {
    "ExecuteTime": {
     "end_time": "2024-03-14T12:20:31.130241Z",
     "start_time": "2024-03-14T12:20:31.127828Z"
    },
    "collapsed": false
   },
   "outputs": [],
   "source": [
    "@rk.update_class(Costs)\n",
    "class Costs:\n",
    "    def generate_utils_costs(self):\n",
    "        utils_capex = rk.flux.Flow.from_projection(\n",
    "            name='Utilities-derived Capital Expenses',\n",
    "            value=self.params['initial_utility_capex'],\n",
    "            proj=rk.projection.Extrapolation(\n",
    "                form=rk.extrapolation.Compounding(\n",
    "                    rate=self.params['capex_growth_rate']),\n",
    "                sequence=self.spans.calc_span.to_sequence(frequency=rk.duration.Type.SEMIDECADE)),\n",
    "            units=currency.units)\n",
    "        self.utils_capex = utils_capex.trim_to_span(self.spans.calc_span)  # This is to avoid issues with using >yearly periodicity in projection"
   ]
  },
  {
   "cell_type": "code",
   "execution_count": 33,
   "metadata": {
    "ExecuteTime": {
     "end_time": "2024-03-14T12:20:31.251682Z",
     "start_time": "2024-03-14T12:20:31.130753Z"
    },
    "collapsed": false
   },
   "outputs": [],
   "source": [
    "for floor in floors:\n",
    "    floor_params = params.copy()\n",
    "\n",
    "    floor_params['initial_floor_opex'] = floor_opex_per_area_pa[floor['use']] * floor['subtotal_gfa']\n",
    "    floor_params['initial_facade_opex'] = facade_opex_per_area_pa[floor['use']] * floor['subtotal_facade_area']\n",
    "    floor_params['initial_floor_capex'] = floor_capex_per_area_pa[floor['use']] * floor['subtotal_gfa']\n",
    "    floor_params['opex_growth_rate'] = opex_growth_rate\n",
    "    floor_params['capex_growth_rate'] = capex_growth_rate\n",
    "    floor['params'] = floor_params\n",
    "\n",
    "    floor['events'] = {} if not hasattr(floor, 'events') else floor['events']\n",
    "\n",
    "    costs = Costs(\n",
    "        params=floor_params,\n",
    "        spans=spans)\n",
    "    costs.generate_space_costs()\n",
    "\n",
    "    floor['opex'] = costs.opex\n",
    "    floor['capex'] = costs.floor_capex"
   ]
  },
  {
   "cell_type": "code",
   "execution_count": 34,
   "metadata": {
    "ExecuteTime": {
     "end_time": "2024-03-14T12:20:31.254445Z",
     "start_time": "2024-03-14T12:20:31.252515Z"
    },
    "collapsed": false
   },
   "outputs": [],
   "source": [
    "utilities = property.filter_by_type(entity_type='utilities', is_assembly=False)"
   ]
  },
  {
   "cell_type": "code",
   "execution_count": 35,
   "metadata": {
    "ExecuteTime": {
     "end_time": "2024-03-14T12:34:01.399338Z",
     "start_time": "2024-03-14T12:34:01.396604Z"
    },
    "collapsed": false
   },
   "outputs": [
    {
     "data": {
      "text/plain": [
       "['7f54ec9bebb76a5e63c71cf003997e94',\n",
       " '921624ec351b7d6b289bbcc27394fccf',\n",
       " '9735baf66e333f4c20bb7522ffdcb65f']"
      ]
     },
     "execution_count": 35,
     "metadata": {},
     "output_type": "execute_result"
    }
   ],
   "source": [
    "key = 'type'\n",
    "isolated_ids = [entity['id'] for entity in utilities.get_entities().values()]\n",
    "isolated_ids"
   ]
  },
  {
   "cell_type": "code",
   "execution_count": 36,
   "metadata": {
    "ExecuteTime": {
     "end_time": "2024-03-14T12:20:31.260491Z",
     "start_time": "2024-03-14T12:20:31.257810Z"
    },
    "collapsed": false
   },
   "outputs": [
    {
     "data": {
      "text/html": [
       "\n",
       "        <iframe\n",
       "            width=\"100%\"\n",
       "            height=\"800\"\n",
       "            src=\"https://speckle.xyz/streams/e3ea4fe91a/commits/9196d66cd1?filter=%7B%22propertyInfoKey%22%3A%20%22type%22%2C%20%22isolatedIds%22%3A%20%5B%227f54ec9bebb76a5e63c71cf003997e94%22%2C%20%22921624ec351b7d6b289bbcc27394fccf%22%2C%20%229735baf66e333f4c20bb7522ffdcb65f%22%5D%7D\"\n",
       "            frameborder=\"0\"\n",
       "            allowfullscreen\n",
       "            \n",
       "        ></iframe>\n",
       "        "
      ],
      "text/plain": [
       "<IPython.lib.display.IFrame at 0x2af6dc5d0>"
      ]
     },
     "execution_count": 36,
     "metadata": {},
     "output_type": "execute_result"
    }
   ],
   "source": [
    "url = 'https://speckle.xyz/streams/{0}/commits/{1}?filter={2}'.format(\n",
    "    stream_id,\n",
    "    commit_id,\n",
    "    urllib.parse.quote(json.dumps(\n",
    "        dict(\n",
    "            propertyInfoKey = key,\n",
    "            isolatedIds = isolated_ids))))\n",
    "IFrame(url, width='100%', height=800)"
   ]
  },
  {
   "cell_type": "code",
   "execution_count": 37,
   "metadata": {
    "ExecuteTime": {
     "end_time": "2024-03-14T12:34:30.984609Z",
     "start_time": "2024-03-14T12:34:30.981452Z"
    },
    "collapsed": false
   },
   "outputs": [
    {
     "data": {
      "text/plain": [
       "'https://speckle.xyz/streams/e3ea4fe91a/commits/9196d66cd1?filter=%7B%22propertyInfoKey%22%3A%20%22type%22%2C%20%22isolatedIds%22%3A%20%5B%227f54ec9bebb76a5e63c71cf003997e94%22%2C%20%22921624ec351b7d6b289bbcc27394fccf%22%2C%20%229735baf66e333f4c20bb7522ffdcb65f%22%5D%7D'"
      ]
     },
     "execution_count": 37,
     "metadata": {},
     "output_type": "execute_result"
    }
   ],
   "source": [
    "url"
   ]
  },
  {
   "cell_type": "code",
   "execution_count": 38,
   "metadata": {
    "ExecuteTime": {
     "end_time": "2024-03-14T12:20:31.273093Z",
     "start_time": "2024-03-14T12:20:31.267146Z"
    },
    "collapsed": false
   },
   "outputs": [],
   "source": [
    "for utility in utilities.get_entities().values():\n",
    "    utility_params = params.copy()\n",
    "\n",
    "    if 'plant' in utility['name']:\n",
    "        utility_params['initial_utility_capex'] = plant_capex_per_vol_pa * utility['volume']\n",
    "    elif 'cores' in utility['name']:\n",
    "        utility_params['initial_utility_capex'] = cores_capex_per_vol_pa * utility['volume']\n",
    "    utility_params['capex_growth_rate'] = capex_growth_rate\n",
    "    utility['params'] = utility_params\n",
    "\n",
    "    utility['events'] = {} if not hasattr(utility, 'events') else utility['events']\n",
    "\n",
    "    costs = Costs(\n",
    "        params=utility_params,\n",
    "        spans=spans)\n",
    "    costs.generate_utils_costs()\n",
    "\n",
    "    utility['capex'] = costs.utils_capex"
   ]
  },
  {
   "cell_type": "code",
   "execution_count": 39,
   "metadata": {
    "ExecuteTime": {
     "end_time": "2024-03-14T12:20:31.276897Z",
     "start_time": "2024-03-14T12:20:31.273984Z"
    },
    "collapsed": false
   },
   "outputs": [
    {
     "data": {
      "text/html": [
       "<table>\n",
       "<thead>\n",
       "<tr><th style=\"text-align: right;\">               date</th><th style=\"text-align: right;\">  Utilities-derived Capital Expenses</th></tr>\n",
       "</thead>\n",
       "<tbody>\n",
       "<tr><td style=\"text-align: right;\">2005-12-31 00:00:00</td><td style=\"text-align: right;\">                        -$865,663.39</td></tr>\n",
       "<tr><td style=\"text-align: right;\">2010-12-31 00:00:00</td><td style=\"text-align: right;\">                        -$895,961.61</td></tr>\n",
       "</tbody>\n",
       "</table>"
      ],
      "text/plain": [
       "<rangekeeper.flux.Flow at 0x2af640f90>"
      ]
     },
     "execution_count": 39,
     "metadata": {},
     "output_type": "execute_result"
    }
   ],
   "source": [
    "list(utilities.get_entities().values())[0]['capex']"
   ]
  },
  {
   "cell_type": "code",
   "execution_count": 40,
   "metadata": {
    "ExecuteTime": {
     "end_time": "2024-03-14T12:20:31.476340Z",
     "start_time": "2024-03-14T12:20:31.277565Z"
    },
    "collapsed": false
   },
   "outputs": [],
   "source": [
    "def aggregate_opex(**kwargs):\n",
    "    return rk.graph.Entity.aggregate_flows(\n",
    "        **kwargs,\n",
    "        name='Operational Expenses',\n",
    "        frequency=frequency)\n",
    "property.aggregate(\n",
    "    function=aggregate_opex,\n",
    "    property='opex',\n",
    "    label='subtotal_opex',\n",
    "    relationship_type='spatiallyContains')"
   ]
  },
  {
   "cell_type": "code",
   "execution_count": 41,
   "metadata": {
    "ExecuteTime": {
     "end_time": "2024-03-14T12:20:31.587677Z",
     "start_time": "2024-03-14T12:20:31.477006Z"
    },
    "collapsed": false
   },
   "outputs": [],
   "source": [
    "def aggregate_capex(**kwargs):\n",
    "    return rk.graph.Entity.aggregate_flows(\n",
    "        **kwargs,\n",
    "        name='Capital Expenses',\n",
    "        frequency=frequency)\n",
    "property.aggregate(\n",
    "    function=aggregate_capex,\n",
    "    property='capex',\n",
    "    label='subtotal_capex',\n",
    "    relationship_type='spatiallyContains')"
   ]
  },
  {
   "cell_type": "code",
   "execution_count": 42,
   "metadata": {
    "ExecuteTime": {
     "end_time": "2024-03-14T12:20:31.592973Z",
     "start_time": "2024-03-14T12:20:31.588369Z"
    },
    "collapsed": false
   },
   "outputs": [],
   "source": [
    "property_opex = property.get_roots()['spatiallyContains'][0]['subtotal_opex'].sum()\n",
    "property_capex = property.get_roots()['spatiallyContains'][0]['subtotal_capex'].sum()"
   ]
  },
  {
   "cell_type": "code",
   "execution_count": 43,
   "metadata": {
    "ExecuteTime": {
     "end_time": "2024-03-14T12:20:31.595990Z",
     "start_time": "2024-03-14T12:20:31.593737Z"
    },
    "collapsed": false
   },
   "outputs": [
    {
     "name": "stdout",
     "output_type": "stream",
     "text": [
      "Property Average Periodic OPEX: $-7,488,734.31\n",
      "Property Average Periodic CAPEX: $-2,007,558.91\n"
     ]
    }
   ],
   "source": [
    "print('Property Average Periodic OPEX: ${:,.2f}'.format(property_opex.movements.mean()))\n",
    "print('Property Average Periodic CAPEX: ${:,.2f}'.format(property_capex.movements.mean()))"
   ]
  },
  {
   "cell_type": "code",
   "execution_count": 44,
   "metadata": {
    "ExecuteTime": {
     "end_time": "2024-03-14T12:20:31.599079Z",
     "start_time": "2024-03-14T12:20:31.596765Z"
    },
    "collapsed": false
   },
   "outputs": [],
   "source": [
    "def aggregate_pgis(**kwargs):\n",
    "    return rk.graph.Entity.aggregate_flows(\n",
    "        **kwargs,\n",
    "        name='Potential Gross Income',\n",
    "        frequency=frequency)"
   ]
  },
  {
   "cell_type": "code",
   "execution_count": 45,
   "metadata": {
    "ExecuteTime": {
     "end_time": "2024-03-14T12:20:31.699205Z",
     "start_time": "2024-03-14T12:20:31.599884Z"
    },
    "collapsed": false
   },
   "outputs": [],
   "source": [
    "spatial_containment.aggregate(\n",
    "    property='pgi',\n",
    "    function=aggregate_pgis,\n",
    "    label='subtotal_pgi')"
   ]
  },
  {
   "cell_type": "code",
   "execution_count": 46,
   "metadata": {
    "ExecuteTime": {
     "end_time": "2024-03-14T12:20:31.704045Z",
     "start_time": "2024-03-14T12:20:31.700159Z"
    },
    "collapsed": false
   },
   "outputs": [
    {
     "name": "stdout",
     "output_type": "stream",
     "text": [
      "Property Average Periodic PGI: $18,918,012.54\n"
     ]
    }
   ],
   "source": [
    "property_pgi = property.get_roots()['spatiallyContains'][0]['subtotal_pgi'].sum()\n",
    "print('Property Average Periodic PGI: ${:,.2f}'.format(property_pgi.movements.mean()))"
   ]
  },
  {
   "cell_type": "code",
   "execution_count": 47,
   "metadata": {
    "ExecuteTime": {
     "end_time": "2024-03-14T12:20:31.706554Z",
     "start_time": "2024-03-14T12:20:31.704734Z"
    },
    "collapsed": false
   },
   "outputs": [
    {
     "name": "stdout",
     "output_type": "stream",
     "text": [
      "Property OpEx as proportion of PGI: 39.59%\n"
     ]
    }
   ],
   "source": [
    "print('Property OpEx as proportion of PGI: {:.2%}'.format(-property_opex.movements.mean() / property_pgi.movements.mean()))"
   ]
  },
  {
   "cell_type": "code",
   "execution_count": 48,
   "metadata": {
    "ExecuteTime": {
     "end_time": "2024-03-14T12:20:31.708952Z",
     "start_time": "2024-03-14T12:20:31.707165Z"
    },
    "collapsed": false
   },
   "outputs": [
    {
     "name": "stdout",
     "output_type": "stream",
     "text": [
      "Property CapEx as proportion of PGI: 10.61%\n"
     ]
    }
   ],
   "source": [
    "print('Property CapEx as proportion of PGI: {:.2%}'.format(-property_capex.movements.mean() / property_pgi.movements.mean()))"
   ]
  },
  {
   "cell_type": "code",
   "execution_count": 49,
   "metadata": {
    "ExecuteTime": {
     "end_time": "2024-03-14T12:20:32.180634Z",
     "start_time": "2024-03-14T12:20:31.709530Z"
    },
    "collapsed": false
   },
   "outputs": [
    {
     "data": {
      "text/html": [
       "\n",
       "        <iframe\n",
       "            width=\"100%\"\n",
       "            height=\"1600\"\n",
       "            src=\"./aggregate_exp_chart.html\"\n",
       "            frameborder=\"0\"\n",
       "            allowfullscreen\n",
       "            \n",
       "        ></iframe>\n",
       "        "
      ],
      "text/plain": [
       "<IPython.lib.display.IFrame at 0x2abf894d0>"
      ]
     },
     "execution_count": 49,
     "metadata": {},
     "output_type": "execute_result"
    }
   ],
   "source": [
    "opex = spatial_containment.sunburst(property='subtotal_opex')\n",
    "capex = spatial_containment.sunburst(property='subtotal_capex')\n",
    "fig = plotly.subplots.make_subplots(\n",
    "    rows=2, cols=1,\n",
    "    specs=[[{\"type\": \"sunburst\"}], [{\"type\": \"sunburst\"}]],\n",
    "    subplot_titles=('Total Operational Expenses', 'Total Capital Expenses'))\n",
    "fig.append_trace(opex, row=1, col=1)\n",
    "fig.append_trace(capex, row=2, col=1)\n",
    "filename='aggregate_exp_chart.html'\n",
    "\n",
    "py.plot(fig, filename=f'assets/{filename}', auto_open=False)\n",
    "IFrame(src=f'./{filename}', width='100%', height=800 * len(fig.data))"
   ]
  },
  {
   "cell_type": "code",
   "execution_count": 50,
   "metadata": {
    "ExecuteTime": {
     "end_time": "2024-03-14T12:20:32.360100Z",
     "start_time": "2024-03-14T12:20:32.181600Z"
    },
    "collapsed": false
   },
   "outputs": [],
   "source": [
    "for entity in property.get_entities().values():\n",
    "    noi = [getattr(entity, 'egi', None), getattr(entity, 'opex', None)]\n",
    "    noi = [flow.sum() if isinstance(flow, rk.flux.Stream) else flow for flow in list(filter(None, noi))]\n",
    "    if len(noi) > 0:\n",
    "        entity['noi'] = rk.flux.Stream(\n",
    "            name='Net Operating Income',\n",
    "            flows=noi,\n",
    "            frequency=frequency)\n",
    "        capex = getattr(entity, 'capex', None)\n",
    "        if capex is not None:\n",
    "            entity['nacf'] = rk.flux.Stream(\n",
    "                name='Net Annual Cashflow',\n",
    "                flows=entity['noi'].flows + [capex],\n",
    "                frequency=frequency)"
   ]
  },
  {
   "cell_type": "code",
   "execution_count": 51,
   "metadata": {
    "ExecuteTime": {
     "end_time": "2024-03-14T12:20:32.544403Z",
     "start_time": "2024-03-14T12:20:32.361059Z"
    },
    "collapsed": false
   },
   "outputs": [],
   "source": [
    "def aggregate_noi(**kwargs):\n",
    "    return rk.graph.Entity.aggregate_flows(\n",
    "        **kwargs,\n",
    "        name='Net Operating Income',\n",
    "        frequency=frequency)\n",
    "property.aggregate(\n",
    "    function=aggregate_noi,\n",
    "    property='noi',\n",
    "    label='subtotal_noi',\n",
    "    relationship_type='spatiallyContains')"
   ]
  },
  {
   "cell_type": "code",
   "execution_count": 52,
   "metadata": {
    "ExecuteTime": {
     "end_time": "2024-03-14T12:20:32.750511Z",
     "start_time": "2024-03-14T12:20:32.545378Z"
    },
    "collapsed": false
   },
   "outputs": [],
   "source": [
    "def aggregate_nacf(**kwargs):\n",
    "    return rk.graph.Entity.aggregate_flows(\n",
    "        **kwargs,\n",
    "        name='Net Annual Cashflow',\n",
    "        frequency=frequency)\n",
    "property.aggregate(\n",
    "    function=aggregate_nacf,\n",
    "    property='nacf',\n",
    "    label='subtotal_nacf',\n",
    "    relationship_type='spatiallyContains')"
   ]
  },
  {
   "cell_type": "code",
   "execution_count": 53,
   "metadata": {
    "ExecuteTime": {
     "end_time": "2024-03-14T12:20:32.754429Z",
     "start_time": "2024-03-14T12:20:32.751645Z"
    },
    "collapsed": false
   },
   "outputs": [],
   "source": [
    "root = property.get_roots()['spatiallyContains'][0]"
   ]
  },
  {
   "cell_type": "code",
   "execution_count": 54,
   "metadata": {
    "ExecuteTime": {
     "end_time": "2024-03-14T12:20:32.762197Z",
     "start_time": "2024-03-14T12:20:32.755283Z"
    },
    "collapsed": false
   },
   "outputs": [
    {
     "data": {
      "text/html": [
       "<table>\n",
       "<thead>\n",
       "<tr><th style=\"text-align: right;\">               date</th><th style=\"text-align: right;\">      Reversion</th></tr>\n",
       "</thead>\n",
       "<tbody>\n",
       "<tr><td style=\"text-align: right;\">2010-12-31 00:00:00</td><td style=\"text-align: right;\">$284,674,637.71</td></tr>\n",
       "</tbody>\n",
       "</table>"
      ],
      "text/plain": [
       "<rangekeeper.flux.Flow at 0x2c06d3fd0>"
      ]
     },
     "execution_count": 54,
     "metadata": {},
     "output_type": "execute_result"
    }
   ],
   "source": [
    "reversion_span = rk.span.Span.from_duration(\n",
    "    name='Reversion',\n",
    "    date=params['start_date'] + pd.DateOffset(years=9),\n",
    "    duration=params['frequency'])\n",
    "\n",
    "exit_caprate = 0.05\n",
    "reversion_flow = rk.flux.Flow.from_projection(\n",
    "    name='Reversion',\n",
    "    value=root['subtotal_nacf'].sum().movements.values[-1] / exit_caprate,\n",
    "    proj=rk.projection.Distribution(\n",
    "        form=rk.distribution.Uniform(),\n",
    "        sequence=reversion_span.to_sequence(frequency=params['frequency'])),\n",
    "    units=currency.units)\n",
    "root['reversion'] = reversion_flow\n",
    "reversion_flow"
   ]
  },
  {
   "cell_type": "code",
   "execution_count": 55,
   "metadata": {
    "ExecuteTime": {
     "end_time": "2024-03-14T12:20:32.774196Z",
     "start_time": "2024-03-14T12:20:32.762992Z"
    },
    "collapsed": false
   },
   "outputs": [
    {
     "data": {
      "text/html": [
       "<table>\n",
       "<thead>\n",
       "<tr><th style=\"text-align: right;\">  date</th><th style=\"text-align: right;\">  Net Annual Cashflow for ee762902-113d-4762-9949-f2594f6a63cb [property] Aggregation (sum)</th><th style=\"text-align: right;\">      Reversion</th></tr>\n",
       "</thead>\n",
       "<tbody>\n",
       "<tr><td style=\"text-align: right;\">  2001</td><td style=\"text-align: right;\">                                                                              $8,134,691.89</td><td style=\"text-align: right;\">              0</td></tr>\n",
       "<tr><td style=\"text-align: right;\">  2002</td><td style=\"text-align: right;\">                                                                              $8,599,446.40</td><td style=\"text-align: right;\">              0</td></tr>\n",
       "<tr><td style=\"text-align: right;\">  2003</td><td style=\"text-align: right;\">                                                                              $9,091,532.28</td><td style=\"text-align: right;\">              0</td></tr>\n",
       "<tr><td style=\"text-align: right;\">  2004</td><td style=\"text-align: right;\">                                                                              $9,612,601.91</td><td style=\"text-align: right;\">              0</td></tr>\n",
       "<tr><td style=\"text-align: right;\">  2005</td><td style=\"text-align: right;\">                                                                              $6,862,704.94</td><td style=\"text-align: right;\">              0</td></tr>\n",
       "<tr><td style=\"text-align: right;\">  2006</td><td style=\"text-align: right;\">                                                                             $10,748,821.65</td><td style=\"text-align: right;\">              0</td></tr>\n",
       "<tr><td style=\"text-align: right;\">  2007</td><td style=\"text-align: right;\">                                                                             $11,367,816.34</td><td style=\"text-align: right;\">              0</td></tr>\n",
       "<tr><td style=\"text-align: right;\">  2008</td><td style=\"text-align: right;\">                                                                             $12,023,498.34</td><td style=\"text-align: right;\">              0</td></tr>\n",
       "<tr><td style=\"text-align: right;\">  2009</td><td style=\"text-align: right;\">                                                                             $12,718,103.14</td><td style=\"text-align: right;\">              0</td></tr>\n",
       "<tr><td style=\"text-align: right;\">  2010</td><td style=\"text-align: right;\">                                                                             $10,036,741.15</td><td style=\"text-align: right;\">$284,674,637.71</td></tr>\n",
       "</tbody>\n",
       "</table>"
      ],
      "text/plain": [
       "<rangekeeper.flux.Stream at 0x2c033de50>"
      ]
     },
     "execution_count": 55,
     "metadata": {},
     "output_type": "execute_result"
    }
   ],
   "source": [
    "net_cashflows_with_reversion = (rk.flux.Stream(\n",
    "    name='Net Cashflow with Reversion',\n",
    "    flows=[root['subtotal_nacf'].sum(), root['reversion']],\n",
    "    frequency=rk.duration.Type.YEAR)\n",
    "        .trim_to_span(\n",
    "            rk.span.Span(\n",
    "                start_date=params['start_date'],\n",
    "                end_date=reversion_span.end_date)\n",
    "    )\n",
    ")\n",
    "root['nacf_reversion'] = net_cashflows_with_reversion\n",
    "net_cashflows_with_reversion"
   ]
  },
  {
   "cell_type": "code",
   "execution_count": 56,
   "metadata": {
    "ExecuteTime": {
     "end_time": "2024-03-14T12:20:32.796695Z",
     "start_time": "2024-03-14T12:20:32.775Z"
    },
    "collapsed": false
   },
   "outputs": [
    {
     "data": {
      "text/html": [
       "<table>\n",
       "<thead>\n",
       "<tr><th style=\"text-align: right;\">  date</th><th style=\"text-align: right;\">  Effective Gross Income for ee762902-113d-4762-9949-f2594f6a63cb [property] Aggregation (sum)</th><th style=\"text-align: right;\">  Operational Expenses for ee762902-113d-4762-9949-f2594f6a63cb [property] Aggregation (sum)</th><th style=\"text-align: right;\">  Net Operating Income for ee762902-113d-4762-9949-f2594f6a63cb [property] Aggregation (sum)</th><th style=\"text-align: right;\">  Capital Expenses for ee762902-113d-4762-9949-f2594f6a63cb [property] Aggregation (sum)</th><th style=\"text-align: right;\">  Net Annual Cashflow for ee762902-113d-4762-9949-f2594f6a63cb [property] Aggregation (sum)</th><th style=\"text-align: right;\">      Reversion</th><th style=\"text-align: right;\">  Net Cashflow with Reversion (sum)</th></tr>\n",
       "</thead>\n",
       "<tbody>\n",
       "<tr><td style=\"text-align: right;\">  2001</td><td style=\"text-align: right;\">                                                                                $14,402,849.55</td><td style=\"text-align: right;\">                                                                              -$6,268,157.66</td><td style=\"text-align: right;\">                                                                               $8,134,691.89</td><td style=\"text-align: right;\">                                                                                       0</td><td style=\"text-align: right;\">                                                                              $8,134,691.89</td><td style=\"text-align: right;\">              0</td><td style=\"text-align: right;\">                      $8,134,691.89</td></tr>\n",
       "<tr><td style=\"text-align: right;\">  2002</td><td style=\"text-align: right;\">                                                                                $15,086,989.58</td><td style=\"text-align: right;\">                                                                              -$6,487,543.18</td><td style=\"text-align: right;\">                                                                               $8,599,446.40</td><td style=\"text-align: right;\">                                                                                       0</td><td style=\"text-align: right;\">                                                                              $8,599,446.40</td><td style=\"text-align: right;\">              0</td><td style=\"text-align: right;\">                      $8,599,446.40</td></tr>\n",
       "<tr><td style=\"text-align: right;\">  2003</td><td style=\"text-align: right;\">                                                                                $15,806,139.47</td><td style=\"text-align: right;\">                                                                              -$6,714,607.19</td><td style=\"text-align: right;\">                                                                               $9,091,532.28</td><td style=\"text-align: right;\">                                                                                       0</td><td style=\"text-align: right;\">                                                                              $9,091,532.28</td><td style=\"text-align: right;\">              0</td><td style=\"text-align: right;\">                      $9,091,532.28</td></tr>\n",
       "<tr><td style=\"text-align: right;\">  2004</td><td style=\"text-align: right;\">                                                                                $16,562,220.35</td><td style=\"text-align: right;\">                                                                              -$6,949,618.44</td><td style=\"text-align: right;\">                                                                               $9,612,601.91</td><td style=\"text-align: right;\">                                                                                       0</td><td style=\"text-align: right;\">                                                                              $9,612,601.91</td><td style=\"text-align: right;\">              0</td><td style=\"text-align: right;\">                      $9,612,601.91</td></tr>\n",
       "<tr><td style=\"text-align: right;\">  2005</td><td style=\"text-align: right;\">                                                                                $17,357,265.38</td><td style=\"text-align: right;\">                                                                              -$7,192,855.09</td><td style=\"text-align: right;\">                                                                              $10,164,410.29</td><td style=\"text-align: right;\">                                                                          -$5,919,092.61</td><td style=\"text-align: right;\">                                                                              $6,862,704.94</td><td style=\"text-align: right;\">              0</td><td style=\"text-align: right;\">                      $6,862,704.94</td></tr>\n",
       "<tr><td style=\"text-align: right;\">  2006</td><td style=\"text-align: right;\">                                                                                $18,193,426.66</td><td style=\"text-align: right;\">                                                                              -$7,444,605.02</td><td style=\"text-align: right;\">                                                                              $10,748,821.65</td><td style=\"text-align: right;\">                                                                                   $0.00</td><td style=\"text-align: right;\">                                                                             $10,748,821.65</td><td style=\"text-align: right;\">              0</td><td style=\"text-align: right;\">                     $10,748,821.65</td></tr>\n",
       "<tr><td style=\"text-align: right;\">  2007</td><td style=\"text-align: right;\">                                                                                $19,072,982.53</td><td style=\"text-align: right;\">                                                                              -$7,705,166.19</td><td style=\"text-align: right;\">                                                                              $11,367,816.34</td><td style=\"text-align: right;\">                                                                                   $0.00</td><td style=\"text-align: right;\">                                                                             $11,367,816.34</td><td style=\"text-align: right;\">              0</td><td style=\"text-align: right;\">                     $11,367,816.34</td></tr>\n",
       "<tr><td style=\"text-align: right;\">  2008</td><td style=\"text-align: right;\">                                                                                $19,998,345.35</td><td style=\"text-align: right;\">                                                                              -$7,974,847.01</td><td style=\"text-align: right;\">                                                                              $12,023,498.34</td><td style=\"text-align: right;\">                                                                                   $0.00</td><td style=\"text-align: right;\">                                                                             $12,023,498.34</td><td style=\"text-align: right;\">              0</td><td style=\"text-align: right;\">                     $12,023,498.34</td></tr>\n",
       "<tr><td style=\"text-align: right;\">  2009</td><td style=\"text-align: right;\">                                                                                $20,972,069.80</td><td style=\"text-align: right;\">                                                                              -$8,253,966.66</td><td style=\"text-align: right;\">                                                                              $12,718,103.14</td><td style=\"text-align: right;\">                                                                                   $0.00</td><td style=\"text-align: right;\">                                                                             $12,718,103.14</td><td style=\"text-align: right;\">              0</td><td style=\"text-align: right;\">                     $12,718,103.14</td></tr>\n",
       "<tr><td style=\"text-align: right;\">  2010</td><td style=\"text-align: right;\">                                                                                $21,996,861.68</td><td style=\"text-align: right;\">                                                                              -$8,542,855.49</td><td style=\"text-align: right;\">                                                                              $13,454,006.19</td><td style=\"text-align: right;\">                                                                          -$6,126,260.85</td><td style=\"text-align: right;\">                                                                             $10,036,741.15</td><td style=\"text-align: right;\">$284,674,637.71</td><td style=\"text-align: right;\">                    $294,711,378.86</td></tr>\n",
       "<tr><td style=\"text-align: right;\">  2011</td><td style=\"text-align: right;\">                                                                                $23,075,587.32</td><td style=\"text-align: right;\">                                                                              -$8,841,855.43</td><td style=\"text-align: right;\">                                                                              $14,233,731.89</td><td style=\"text-align: right;\">                                                                                       0</td><td style=\"text-align: right;\">                                                                             $14,233,731.89</td><td style=\"text-align: right;\">              0</td><td style=\"text-align: right;\">                                  0</td></tr>\n",
       "</tbody>\n",
       "</table>"
      ],
      "text/plain": [
       "<rangekeeper.flux.Stream at 0x2c067f250>"
      ]
     },
     "execution_count": 56,
     "metadata": {},
     "output_type": "execute_result"
    }
   ],
   "source": [
    "table = rk.flux.Stream(\n",
    "    name='Table 1.1',\n",
    "    flows=[\n",
    "        root['subtotal_egi'].sum(),\n",
    "        root['subtotal_opex'].sum(),\n",
    "        root['subtotal_noi'].sum(),\n",
    "        root['subtotal_capex'].sum(),\n",
    "        root['subtotal_nacf'].sum(),\n",
    "        root['reversion'],\n",
    "        root['nacf_reversion'].sum()\n",
    "        ],\n",
    "    frequency=rk.duration.Type.YEAR\n",
    "    )\n",
    "table"
   ]
  },
  {
   "cell_type": "code",
   "execution_count": 57,
   "metadata": {
    "ExecuteTime": {
     "end_time": "2024-03-14T12:20:32.802855Z",
     "start_time": "2024-03-14T12:20:32.797394Z"
    },
    "collapsed": false
   },
   "outputs": [
    {
     "data": {
      "text/html": [
       "<table>\n",
       "<thead>\n",
       "<tr><th style=\"text-align: right;\">               date</th><th style=\"text-align: right;\">  Present Value</th></tr>\n",
       "</thead>\n",
       "<tbody>\n",
       "<tr><td style=\"text-align: right;\">2001-12-31 00:00:00</td><td style=\"text-align: right;\">  $7,602,515.78</td></tr>\n",
       "<tr><td style=\"text-align: right;\">2002-12-31 00:00:00</td><td style=\"text-align: right;\">  $7,511,089.53</td></tr>\n",
       "<tr><td style=\"text-align: right;\">2003-12-31 00:00:00</td><td style=\"text-align: right;\">  $7,421,398.50</td></tr>\n",
       "<tr><td style=\"text-align: right;\">2004-12-31 00:00:00</td><td style=\"text-align: right;\">  $7,333,407.97</td></tr>\n",
       "<tr><td style=\"text-align: right;\">2005-12-31 00:00:00</td><td style=\"text-align: right;\">  $4,893,013.78</td></tr>\n",
       "<tr><td style=\"text-align: right;\">2006-12-31 00:00:00</td><td style=\"text-align: right;\">  $7,162,393.72</td></tr>\n",
       "<tr><td style=\"text-align: right;\">2007-12-31 00:00:00</td><td style=\"text-align: right;\">  $7,079,304.69</td></tr>\n",
       "<tr><td style=\"text-align: right;\">2008-12-31 00:00:00</td><td style=\"text-align: right;\">  $6,997,785.50</td></tr>\n",
       "<tr><td style=\"text-align: right;\">2009-12-31 00:00:00</td><td style=\"text-align: right;\">  $6,917,805.44</td></tr>\n",
       "<tr><td style=\"text-align: right;\">2010-12-31 00:00:00</td><td style=\"text-align: right;\">$149,816,320.83</td></tr>\n",
       "</tbody>\n",
       "</table>"
      ],
      "text/plain": [
       "<rangekeeper.flux.Flow at 0x2c058f110>"
      ]
     },
     "execution_count": 57,
     "metadata": {},
     "output_type": "execute_result"
    }
   ],
   "source": [
    "discount_rate = 0.07\n",
    "pvs = root['nacf_reversion'].sum().pv(\n",
    "    name='Present Value',\n",
    "    frequency=rk.duration.Type.YEAR,\n",
    "    rate=discount_rate)\n",
    "pvs"
   ]
  },
  {
   "cell_type": "code",
   "execution_count": 58,
   "metadata": {
    "ExecuteTime": {
     "end_time": "2024-03-14T12:20:32.805659Z",
     "start_time": "2024-03-14T12:20:32.803476Z"
    },
    "collapsed": false
   },
   "outputs": [
    {
     "name": "stdout",
     "output_type": "stream",
     "text": [
      "Property PV: $212,735,036\n"
     ]
    }
   ],
   "source": [
    "property_pv = pvs.collapse().movements.item()\n",
    "print('Property PV: ${:,.0f}'.format(property_pv))"
   ]
  }
 ],
 "metadata": {
  "kernelspec": {
   "display_name": "Python 3 (ipykernel)",
   "language": "python",
   "name": "python3"
  },
  "language_info": {
   "codemirror_mode": {
    "name": "ipython",
    "version": 3
   },
   "file_extension": ".py",
   "mimetype": "text/x-python",
   "name": "python",
   "nbconvert_exporter": "python",
   "pygments_lexer": "ipython3",
   "version": "3.11.8"
  }
 },
 "nbformat": 4,
 "nbformat_minor": 1
}