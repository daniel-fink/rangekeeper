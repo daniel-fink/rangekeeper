{
 "cells": [
  {
   "cell_type": "code",
   "execution_count": 1,
   "metadata": {
    "ExecuteTime": {
     "end_time": "2023-06-03T14:30:05.206950Z",
     "start_time": "2023-06-03T14:30:05.201522Z"
    }
   },
   "outputs": [
    {
     "data": {
      "text/html": [
       "\n",
       "        <iframe\n",
       "            width=\"100%\"\n",
       "            height=\"800\"\n",
       "            src=\"https://speckle.xyz/streams/3f40d86240/commits/d5930913d6\"\n",
       "            frameborder=\"0\"\n",
       "            allowfullscreen\n",
       "            \n",
       "        ></iframe>\n",
       "        "
      ],
      "text/plain": [
       "<IPython.lib.display.IFrame at 0x103e27310>"
      ]
     },
     "execution_count": 1,
     "metadata": {},
     "output_type": "execute_result"
    }
   ],
   "source": [
    "from IPython.display import IFrame\n",
    "IFrame(\"https://speckle.xyz/streams/3f40d86240/commits/d5930913d6\", width='100%', height=800)"
   ]
  },
  {
   "cell_type": "code",
   "execution_count": 2,
   "metadata": {
    "ExecuteTime": {
     "end_time": "2023-06-03T14:30:06.752747Z",
     "start_time": "2023-06-03T14:30:05.208615Z"
    }
   },
   "outputs": [],
   "source": [
    "import os\n",
    "\n",
    "import rangekeeper as rk"
   ]
  },
  {
   "cell_type": "code",
   "execution_count": 3,
   "metadata": {
    "ExecuteTime": {
     "end_time": "2023-06-03T14:30:10.049629Z",
     "start_time": "2023-06-03T14:30:06.753211Z"
    }
   },
   "outputs": [
    {
     "name": "stdout",
     "output_type": "stream",
     "text": [
      "\n",
      " SpeckleClient( server: https://speckle.xyz, authenticated: True )\n"
     ]
    }
   ],
   "source": [
    "# Authenticate with Speckle\n",
    "speckle = rk.api.Speckle(\n",
    "    host=\"speckle.xyz\",\n",
    "    token=os.getenv('SPECKLE_TOKEN')) # Note if you run this notebook yourself, you'll need to set this environment variable\n"
   ]
  },
  {
   "cell_type": "code",
   "execution_count": 4,
   "metadata": {
    "ExecuteTime": {
     "start_time": "2023-06-03T14:30:10.052613Z"
    },
    "is_executing": true
   },
   "outputs": [],
   "source": [
    "# Load the design scenario\n",
    "model = speckle.get_commit(\n",
    "    stream_id=\"3f40d86240\",\n",
    "    commit_id=\"d5930913d6\")"
   ]
  },
  {
   "cell_type": "code",
   "execution_count": 5,
   "metadata": {
    "is_executing": true
   },
   "outputs": [
    {
     "data": {
      "text/plain": [
       "['@scenario', '@context']"
      ]
     },
     "execution_count": 5,
     "metadata": {},
     "output_type": "execute_result"
    }
   ],
   "source": [
    "# Let's identify the root members of the scenario:\n",
    "roots = model.get_dynamic_member_names()\n",
    "roots"
   ]
  },
  {
   "cell_type": "code",
   "execution_count": 6,
   "metadata": {
    "is_executing": true
   },
   "outputs": [
    {
     "data": {
      "text/html": [
       "\n",
       "        <iframe\n",
       "            width=\"100%\"\n",
       "            height=\"800\"\n",
       "            src=\"https://speckle.xyz/streams/3f40d86240/objects/42bbcef93d01580f723de0d30bb1b398\"\n",
       "            frameborder=\"0\"\n",
       "            allowfullscreen\n",
       "            \n",
       "        ></iframe>\n",
       "        "
      ],
      "text/plain": [
       "<IPython.lib.display.IFrame at 0x2eb9b1690>"
      ]
     },
     "execution_count": 6,
     "metadata": {},
     "output_type": "execute_result"
    }
   ],
   "source": [
    "IFrame(\"https://speckle.xyz/streams/3f40d86240/objects/{0}\".format(model['@scenario']['id']), width='100%', height=800)"
   ]
  },
  {
   "cell_type": "code",
   "execution_count": 7,
   "metadata": {
    "is_executing": true
   },
   "outputs": [
    {
     "data": {
      "text/plain": [
       "True"
      ]
     },
     "execution_count": 7,
     "metadata": {},
     "output_type": "execute_result"
    }
   ],
   "source": [
    "# Return any Speckle Objects that have 'entityId's:\n",
    "speckle_entities = rk.api.Speckle.parse(model['@scenario'])\n",
    "\n",
    "# Convert the first object (root) into a Rangekeeper Entity:\n",
    "root_assembly = rk.api.Speckle.to_entity(speckle_entities[0])\n",
    "\n",
    "# (We can check that it is an Assembly:)\n",
    "isinstance(root_assembly, rk.graph.Assembly)"
   ]
  },
  {
   "cell_type": "code",
   "execution_count": 8,
   "metadata": {
    "is_executing": true
   },
   "outputs": [
    {
     "name": "stdout",
     "output_type": "stream",
     "text": [
      "BuildingA: Assembly: BuildingA\n",
      "Type: building\n",
      "Entities: [(Assembly: BuildingA (Type: building), {}), (Entity: BuildingA.Residential (Type: space), {}), (Entity: BuildingA.Retail (Type: space), {}), (Entity: BuildingA.Parking (Type: space), {})]\n",
      "Relationships: [(Assembly: BuildingA (Type: building), Entity: BuildingA.Residential (Type: space), 'spatiallyContains'), (Assembly: BuildingA (Type: building), Entity: BuildingA.Retail (Type: space), 'spatiallyContains'), (Assembly: BuildingA (Type: building), Entity: BuildingA.Parking (Type: space), 'spatiallyContains')]\n",
      "\n"
     ]
    }
   ],
   "source": [
    "# Get the \"BuildingA\" Assembly:\n",
    "buildingA = [node for node in root_assembly.nodes if node.name == 'BuildingA'][0]\n",
    "print('BuildingA: {0}'.format(buildingA))"
   ]
  },
  {
   "cell_type": "code",
   "execution_count": 9,
   "metadata": {
    "is_executing": true
   },
   "outputs": [
    {
     "name": "stdout",
     "output_type": "stream",
     "text": [
      "BuildingA Containment: \n",
      " [Entity: BuildingA.Residential (Type: space), Entity: BuildingA.Retail (Type: space), Entity: BuildingA.Parking (Type: space)]\n",
      "\n"
     ]
    }
   ],
   "source": [
    "# Get all relatives of BuildingA where BuildingA is the source of\n",
    "# a 'spatiallyContains' relationship:\n",
    "buildingA_containment = buildingA.get_relatives(outgoing=True, relationship_type='spatiallyContains')\n",
    "print('BuildingA Containment: \\n {0}\\n'.format(buildingA_containment))"
   ]
  },
  {
   "cell_type": "code",
   "execution_count": 10,
   "metadata": {
    "is_executing": true
   },
   "outputs": [],
   "source": [
    "develop = root_assembly.develop(\n",
    "    name='design_scenario',\n",
    "    type='design_scenario')"
   ]
  },
  {
   "cell_type": "code",
   "execution_count": 11,
   "metadata": {
    "collapsed": false,
    "is_executing": true
   },
   "outputs": [
    {
     "name": "stdout",
     "output_type": "stream",
     "text": [
      "design_scenario.html\n"
     ]
    }
   ],
   "source": [
    "develop.plot(notebook=True)"
   ]
  }
 ],
 "metadata": {
  "kernelspec": {
   "display_name": "Python 3 (ipykernel)",
   "language": "python",
   "name": "python3"
  },
  "language_info": {
   "codemirror_mode": {
    "name": "ipython",
    "version": 3
   },
   "file_extension": ".py",
   "mimetype": "text/x-python",
   "name": "python",
   "nbconvert_exporter": "python",
   "pygments_lexer": "ipython3",
   "version": "3.10.4"
  }
 },
 "nbformat": 4,
 "nbformat_minor": 1
}