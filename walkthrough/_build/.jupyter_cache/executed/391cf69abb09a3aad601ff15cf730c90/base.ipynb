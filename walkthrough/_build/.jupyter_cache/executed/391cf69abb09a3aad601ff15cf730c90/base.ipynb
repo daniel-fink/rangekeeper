{
 "cells": [
  {
   "cell_type": "code",
   "execution_count": 1,
   "metadata": {
    "ExecuteTime": {
     "end_time": "2024-03-14T12:20:25.465766Z",
     "start_time": "2024-03-14T12:20:24.510275Z"
    },
    "collapsed": false
   },
   "outputs": [],
   "source": [
    "import json\n",
    "import os\n",
    "\n",
    "import locale\n",
    "import urllib.parse\n",
    "import json\n",
    "import pandas as pd\n",
    "import networkx as nx\n",
    "from IPython.display import IFrame\n",
    "import plotly.subplots\n",
    "import plotly.offline as py\n",
    "\n",
    "import rangekeeper as rk"
   ]
  },
  {
   "cell_type": "code",
   "execution_count": 2,
   "metadata": {
    "ExecuteTime": {
     "end_time": "2024-03-14T12:20:27.550678Z",
     "start_time": "2024-03-14T12:20:25.466602Z"
    },
    "collapsed": false
   },
   "outputs": [
    {
     "name": "stdout",
     "output_type": "stream",
     "text": [
      "\n",
      " SpeckleClient( server: https://speckle.xyz, authenticated: True )\n"
     ]
    },
    {
     "data": {
      "text/html": [
       "\n",
       "        <iframe\n",
       "            width=\"100%\"\n",
       "            height=\"800\"\n",
       "            src=\"https://speckle.xyz/embed?stream=c0f66c35e3&commit=9a9670946f\"\n",
       "            frameborder=\"0\"\n",
       "            allowfullscreen\n",
       "            \n",
       "        ></iframe>\n",
       "        "
      ],
      "text/plain": [
       "<IPython.lib.display.IFrame at 0x2b6394450>"
      ]
     },
     "execution_count": 2,
     "metadata": {},
     "output_type": "execute_result"
    }
   ],
   "source": [
    "speckle = rk.api.Speckle(\n",
    "    host=\"speckle.xyz\",\n",
    "    token=os.getenv('SPECKLE_TOKEN'))\n",
    "stream_id = \"c0f66c35e3\"\n",
    "commit_id = speckle.get_latest_commit_id(stream_id)\n",
    "IFrame(\"https://speckle.xyz/embed?stream={0}&commit={1}\".format(stream_id, commit_id), width='100%', height=800)"
   ]
  },
  {
   "cell_type": "code",
   "execution_count": 3,
   "metadata": {
    "ExecuteTime": {
     "end_time": "2024-03-14T12:20:29.573482Z",
     "start_time": "2024-03-14T12:20:27.552924Z"
    },
    "collapsed": false
   },
   "outputs": [
    {
     "name": "stdout",
     "output_type": "stream",
     "text": [
      "Warning: Duplicate Entity 6496e279-88ca-49f4-b48c-6c0f156e0a58 [utilities] found.\n",
      "Existing Entity is an Assembly while new Entity is not. Keeping Assembly.\n",
      "Warning: Duplicate Entity 6496e279-88ca-49f4-b48c-6c0f156e0a58 [utilities] found.\n",
      "Existing Entity is an Assembly while new Entity is not. Keeping Assembly.\n",
      "Warning: Duplicate Entity 6496e279-88ca-49f4-b48c-6c0f156e0a58 [utilities] found.\n",
      "Existing Entity is an Assembly while new Entity is not. Keeping Assembly.\n",
      "Warning: Duplicate Entity 2b51847e-ec54-415d-afa0-ce32d74c6144 [plinthparking] found.\n",
      "Existing Entity is an Assembly while new Entity is not. Keeping Assembly.\n"
     ]
    }
   ],
   "source": [
    "model = speckle.get_commit(stream_id=stream_id)\n",
    "parsed = rk.api.Speckle.parse(base=model['@property'])\n",
    "property = rk.api.Speckle.to_rk(\n",
    "    bases=list(parsed.values()),\n",
    "    name='property',\n",
    "    type='archetype')"
   ]
  },
  {
   "cell_type": "code",
   "execution_count": 4,
   "metadata": {
    "ExecuteTime": {
     "end_time": "2024-03-14T12:20:29.644033Z",
     "start_time": "2024-03-14T12:20:29.574148Z"
    },
    "collapsed": false
   },
   "outputs": [
    {
     "name": "stdout",
     "output_type": "stream",
     "text": [
      "assets/property.html\n"
     ]
    },
    {
     "data": {
      "text/html": [
       "\n",
       "        <iframe\n",
       "            width=\"100%\"\n",
       "            height=\"800\"\n",
       "            src=\"./property.html\"\n",
       "            frameborder=\"0\"\n",
       "            allowfullscreen\n",
       "            \n",
       "        ></iframe>\n",
       "        "
      ],
      "text/plain": [
       "<IPython.lib.display.IFrame at 0x2bafb8fd0>"
      ]
     },
     "execution_count": 4,
     "metadata": {},
     "output_type": "execute_result"
    }
   ],
   "source": [
    "property.plot(name=f'assets/{property.name}')\n",
    "IFrame(src=f'./{property.name}.html', width='100%', height=800)"
   ]
  },
  {
   "cell_type": "code",
   "execution_count": 5,
   "metadata": {
    "ExecuteTime": {
     "end_time": "2024-03-14T12:20:29.646705Z",
     "start_time": "2024-03-14T12:20:29.644745Z"
    },
    "collapsed": false
   },
   "outputs": [],
   "source": [
    "spatial_containment = property.filter_by_type(\n",
    "    relationship_type='spatiallyContains',\n",
    "    name='spatial_containment')"
   ]
  },
  {
   "cell_type": "code",
   "execution_count": 6,
   "metadata": {
    "ExecuteTime": {
     "end_time": "2024-03-14T12:20:29.650372Z",
     "start_time": "2024-03-14T12:20:29.647367Z"
    },
    "collapsed": false
   },
   "outputs": [
    {
     "data": {
      "text/plain": [
       "True"
      ]
     },
     "execution_count": 6,
     "metadata": {},
     "output_type": "execute_result"
    }
   ],
   "source": [
    "nx.is_arborescence(spatial_containment.graph)"
   ]
  },
  {
   "cell_type": "code",
   "execution_count": 7,
   "metadata": {
    "ExecuteTime": {
     "end_time": "2024-03-14T12:20:29.717275Z",
     "start_time": "2024-03-14T12:20:29.651025Z"
    },
    "collapsed": false
   },
   "outputs": [
    {
     "name": "stdout",
     "output_type": "stream",
     "text": [
      "assets/property by spatiallyContains and None.html\n"
     ]
    },
    {
     "data": {
      "text/html": [
       "\n",
       "        <iframe\n",
       "            width=\"100%\"\n",
       "            height=\"800\"\n",
       "            src=\"./property by spatiallyContains and None.html\"\n",
       "            frameborder=\"0\"\n",
       "            allowfullscreen\n",
       "            \n",
       "        ></iframe>\n",
       "        "
      ],
      "text/plain": [
       "<IPython.lib.display.IFrame at 0x2bb238b90>"
      ]
     },
     "execution_count": 7,
     "metadata": {},
     "output_type": "execute_result"
    }
   ],
   "source": [
    "# Plot the spatial containment graph\n",
    "spatial_containment.plot(name=f'assets/{spatial_containment.name}')\n",
    "IFrame(src=f'./{spatial_containment.name}.html', width='100%', height=800)"
   ]
  },
  {
   "cell_type": "code",
   "execution_count": 8,
   "metadata": {
    "ExecuteTime": {
     "end_time": "2024-03-14T12:20:29.723552Z",
     "start_time": "2024-03-14T12:20:29.718111Z"
    },
    "collapsed": false
   },
   "outputs": [],
   "source": [
    "property.aggregate(\n",
    "    property='gfa',\n",
    "    label='subtotal_gfa',\n",
    "    relationship_type='spatiallyContains')"
   ]
  },
  {
   "cell_type": "code",
   "execution_count": 9,
   "metadata": {
    "ExecuteTime": {
     "end_time": "2024-03-14T12:20:29.741366Z",
     "start_time": "2024-03-14T12:20:29.724406Z"
    },
    "collapsed": false,
    "tags": [
     "output_scroll"
    ]
   },
   "outputs": [
    {
     "data": {
      "text/html": [
       "<div>\n",
       "<style scoped>\n",
       "    .dataframe tbody tr th:only-of-type {\n",
       "        vertical-align: middle;\n",
       "    }\n",
       "\n",
       "    .dataframe tbody tr th {\n",
       "        vertical-align: top;\n",
       "    }\n",
       "\n",
       "    .dataframe thead th {\n",
       "        text-align: right;\n",
       "    }\n",
       "</style>\n",
       "<table border=\"1\" class=\"dataframe\">\n",
       "  <thead>\n",
       "    <tr style=\"text-align: right;\">\n",
       "      <th></th>\n",
       "      <th>name</th>\n",
       "      <th>type</th>\n",
       "      <th>gfa</th>\n",
       "      <th>subtotal_gfa</th>\n",
       "      <th>parent</th>\n",
       "      <th>use</th>\n",
       "      <th>ffl</th>\n",
       "      <th>number</th>\n",
       "    </tr>\n",
       "  </thead>\n",
       "  <tbody>\n",
       "    <tr>\n",
       "      <th>afe8e730-ad0f-4c2a-a15c-e249e4518fa8</th>\n",
       "      <td>property</td>\n",
       "      <td>property</td>\n",
       "      <td>NaN</td>\n",
       "      <td>42786.259115</td>\n",
       "      <td>None</td>\n",
       "      <td>NaN</td>\n",
       "      <td>NaN</td>\n",
       "      <td>NaN</td>\n",
       "    </tr>\n",
       "    <tr>\n",
       "      <th>0a0a97ef-431d-471d-bc33-ace7e7df5fcb</th>\n",
       "      <td>plinth</td>\n",
       "      <td>building</td>\n",
       "      <td>NaN</td>\n",
       "      <td>12773.744211</td>\n",
       "      <td>afe8e730-ad0f-4c2a-a15c-e249e4518fa8</td>\n",
       "      <td>NaN</td>\n",
       "      <td>NaN</td>\n",
       "      <td>NaN</td>\n",
       "    </tr>\n",
       "    <tr>\n",
       "      <th>5ebb9736-5f18-4103-a5a4-040cd2e9b019</th>\n",
       "      <td>buildingA</td>\n",
       "      <td>building</td>\n",
       "      <td>NaN</td>\n",
       "      <td>16575.630074</td>\n",
       "      <td>afe8e730-ad0f-4c2a-a15c-e249e4518fa8</td>\n",
       "      <td>NaN</td>\n",
       "      <td>NaN</td>\n",
       "      <td>NaN</td>\n",
       "    </tr>\n",
       "    <tr>\n",
       "      <th>a1e00481-e51e-47c5-b629-8b214c0900bd</th>\n",
       "      <td>buildingB</td>\n",
       "      <td>building</td>\n",
       "      <td>NaN</td>\n",
       "      <td>13436.884829</td>\n",
       "      <td>afe8e730-ad0f-4c2a-a15c-e249e4518fa8</td>\n",
       "      <td>NaN</td>\n",
       "      <td>NaN</td>\n",
       "      <td>NaN</td>\n",
       "    </tr>\n",
       "    <tr>\n",
       "      <th>6496e279-88ca-49f4-b48c-6c0f156e0a58</th>\n",
       "      <td>utilities</td>\n",
       "      <td>utilities</td>\n",
       "      <td>NaN</td>\n",
       "      <td>0.000000</td>\n",
       "      <td>afe8e730-ad0f-4c2a-a15c-e249e4518fa8</td>\n",
       "      <td>NaN</td>\n",
       "      <td>NaN</td>\n",
       "      <td>NaN</td>\n",
       "    </tr>\n",
       "    <tr>\n",
       "      <th>2b51847e-ec54-415d-afa0-ce32d74c6144</th>\n",
       "      <td>plinthparking</td>\n",
       "      <td>space</td>\n",
       "      <td>NaN</td>\n",
       "      <td>12773.744211</td>\n",
       "      <td>0a0a97ef-431d-471d-bc33-ace7e7df5fcb</td>\n",
       "      <td>parking</td>\n",
       "      <td>NaN</td>\n",
       "      <td>NaN</td>\n",
       "    </tr>\n",
       "    <tr>\n",
       "      <th>938f4cf1-d307-4160-9538-d4bfa9583ad8</th>\n",
       "      <td>plinthplant</td>\n",
       "      <td>utilities</td>\n",
       "      <td>NaN</td>\n",
       "      <td>0.000000</td>\n",
       "      <td>0a0a97ef-431d-471d-bc33-ace7e7df5fcb</td>\n",
       "      <td>plant</td>\n",
       "      <td>NaN</td>\n",
       "      <td>NaN</td>\n",
       "    </tr>\n",
       "    <tr>\n",
       "      <th>e84b8c35-fd4a-49fc-b4c9-e318a958685b</th>\n",
       "      <td>plinthparkingFloor-2</td>\n",
       "      <td>floor</td>\n",
       "      <td>6386.872106</td>\n",
       "      <td>6386.872106</td>\n",
       "      <td>2b51847e-ec54-415d-afa0-ce32d74c6144</td>\n",
       "      <td>NaN</td>\n",
       "      <td>-5.9</td>\n",
       "      <td>-2.0</td>\n",
       "    </tr>\n",
       "    <tr>\n",
       "      <th>c3ebe151-1e0c-45c6-8852-7ea21f72290e</th>\n",
       "      <td>plinthparkingFloor-1</td>\n",
       "      <td>floor</td>\n",
       "      <td>6386.872106</td>\n",
       "      <td>6386.872106</td>\n",
       "      <td>2b51847e-ec54-415d-afa0-ce32d74c6144</td>\n",
       "      <td>NaN</td>\n",
       "      <td>-2.8</td>\n",
       "      <td>-1.0</td>\n",
       "    </tr>\n",
       "    <tr>\n",
       "      <th>c0348c0f-a31f-421b-b6bc-0fe0d5ea947f</th>\n",
       "      <td>buildingAhotel</td>\n",
       "      <td>space</td>\n",
       "      <td>NaN</td>\n",
       "      <td>11716.690054</td>\n",
       "      <td>5ebb9736-5f18-4103-a5a4-040cd2e9b019</td>\n",
       "      <td>hotel</td>\n",
       "      <td>NaN</td>\n",
       "      <td>NaN</td>\n",
       "    </tr>\n",
       "    <tr>\n",
       "      <th>1d0841bf-aa28-41d7-ba75-0ad0f3d57d21</th>\n",
       "      <td>buildingAretail</td>\n",
       "      <td>space</td>\n",
       "      <td>NaN</td>\n",
       "      <td>789.114895</td>\n",
       "      <td>5ebb9736-5f18-4103-a5a4-040cd2e9b019</td>\n",
       "      <td>retail</td>\n",
       "      <td>NaN</td>\n",
       "      <td>NaN</td>\n",
       "    </tr>\n",
       "    <tr>\n",
       "      <th>7716632b-f43c-4ed2-9f84-26709361bbfe</th>\n",
       "      <td>buildingAresidential</td>\n",
       "      <td>space</td>\n",
       "      <td>NaN</td>\n",
       "      <td>2308.322369</td>\n",
       "      <td>5ebb9736-5f18-4103-a5a4-040cd2e9b019</td>\n",
       "      <td>residential</td>\n",
       "      <td>NaN</td>\n",
       "      <td>NaN</td>\n",
       "    </tr>\n",
       "    <tr>\n",
       "      <th>01aec121-ef19-4e6d-9f09-b2ce007b717d</th>\n",
       "      <td>buildingAretail</td>\n",
       "      <td>space</td>\n",
       "      <td>NaN</td>\n",
       "      <td>722.715820</td>\n",
       "      <td>5ebb9736-5f18-4103-a5a4-040cd2e9b019</td>\n",
       "      <td>retail</td>\n",
       "      <td>NaN</td>\n",
       "      <td>NaN</td>\n",
       "    </tr>\n",
       "    <tr>\n",
       "      <th>6f6b227b-b28b-4412-89bd-0a9bbc47164e</th>\n",
       "      <td>buildingAparking</td>\n",
       "      <td>space</td>\n",
       "      <td>NaN</td>\n",
       "      <td>1038.786936</td>\n",
       "      <td>5ebb9736-5f18-4103-a5a4-040cd2e9b019</td>\n",
       "      <td>parking</td>\n",
       "      <td>NaN</td>\n",
       "      <td>NaN</td>\n",
       "    </tr>\n",
       "    <tr>\n",
       "      <th>7eec5208-fc0e-4dfd-bd0b-b1d226b2e97e</th>\n",
       "      <td>buildingAcores</td>\n",
       "      <td>utilities</td>\n",
       "      <td>NaN</td>\n",
       "      <td>0.000000</td>\n",
       "      <td>5ebb9736-5f18-4103-a5a4-040cd2e9b019</td>\n",
       "      <td>cores</td>\n",
       "      <td>NaN</td>\n",
       "      <td>NaN</td>\n",
       "    </tr>\n",
       "    <tr>\n",
       "      <th>bc265fcf-d0f6-4d22-8e92-d8f86f4d707a</th>\n",
       "      <td>buildingAhotelFloor0</td>\n",
       "      <td>floor</td>\n",
       "      <td>111.690000</td>\n",
       "      <td>111.690000</td>\n",
       "      <td>c0348c0f-a31f-421b-b6bc-0fe0d5ea947f</td>\n",
       "      <td>NaN</td>\n",
       "      <td>0.3</td>\n",
       "      <td>0.0</td>\n",
       "    </tr>\n",
       "    <tr>\n",
       "      <th>22851887-f9ee-4aa8-8755-bc021c3a3b30</th>\n",
       "      <td>buildingAhotelFloor1</td>\n",
       "      <td>floor</td>\n",
       "      <td>1697.451572</td>\n",
       "      <td>1697.451572</td>\n",
       "      <td>c0348c0f-a31f-421b-b6bc-0fe0d5ea947f</td>\n",
       "      <td>NaN</td>\n",
       "      <td>5.3</td>\n",
       "      <td>1.0</td>\n",
       "    </tr>\n",
       "    <tr>\n",
       "      <th>d67cc046-9c03-4e43-b1b5-876417dbcdda</th>\n",
       "      <td>buildingAhotelFloor2</td>\n",
       "      <td>floor</td>\n",
       "      <td>1270.128420</td>\n",
       "      <td>1270.128420</td>\n",
       "      <td>c0348c0f-a31f-421b-b6bc-0fe0d5ea947f</td>\n",
       "      <td>NaN</td>\n",
       "      <td>8.4</td>\n",
       "      <td>2.0</td>\n",
       "    </tr>\n",
       "    <tr>\n",
       "      <th>5f90565d-44c0-4de2-b510-d263599953f5</th>\n",
       "      <td>buildingAhotelFloor3</td>\n",
       "      <td>floor</td>\n",
       "      <td>1068.208325</td>\n",
       "      <td>1068.208325</td>\n",
       "      <td>c0348c0f-a31f-421b-b6bc-0fe0d5ea947f</td>\n",
       "      <td>NaN</td>\n",
       "      <td>11.5</td>\n",
       "      <td>3.0</td>\n",
       "    </tr>\n",
       "    <tr>\n",
       "      <th>f7b76e8b-93f0-47c6-8666-05c541c19e25</th>\n",
       "      <td>buildingAhotelFloor4</td>\n",
       "      <td>floor</td>\n",
       "      <td>756.921174</td>\n",
       "      <td>756.921174</td>\n",
       "      <td>c0348c0f-a31f-421b-b6bc-0fe0d5ea947f</td>\n",
       "      <td>NaN</td>\n",
       "      <td>14.6</td>\n",
       "      <td>4.0</td>\n",
       "    </tr>\n",
       "    <tr>\n",
       "      <th>9bdec185-a51b-4845-b746-ddcd3e3fa433</th>\n",
       "      <td>buildingAhotelFloor5</td>\n",
       "      <td>floor</td>\n",
       "      <td>756.921174</td>\n",
       "      <td>756.921174</td>\n",
       "      <td>c0348c0f-a31f-421b-b6bc-0fe0d5ea947f</td>\n",
       "      <td>NaN</td>\n",
       "      <td>17.7</td>\n",
       "      <td>5.0</td>\n",
       "    </tr>\n",
       "    <tr>\n",
       "      <th>250edc28-32de-4633-add0-a384305b5e87</th>\n",
       "      <td>buildingAhotelFloor6</td>\n",
       "      <td>floor</td>\n",
       "      <td>756.921174</td>\n",
       "      <td>756.921174</td>\n",
       "      <td>c0348c0f-a31f-421b-b6bc-0fe0d5ea947f</td>\n",
       "      <td>NaN</td>\n",
       "      <td>20.8</td>\n",
       "      <td>6.0</td>\n",
       "    </tr>\n",
       "    <tr>\n",
       "      <th>e4f25e01-0e9d-4fd2-b705-96d118802468</th>\n",
       "      <td>buildingAhotelFloor7</td>\n",
       "      <td>floor</td>\n",
       "      <td>756.921174</td>\n",
       "      <td>756.921174</td>\n",
       "      <td>c0348c0f-a31f-421b-b6bc-0fe0d5ea947f</td>\n",
       "      <td>NaN</td>\n",
       "      <td>23.9</td>\n",
       "      <td>7.0</td>\n",
       "    </tr>\n",
       "    <tr>\n",
       "      <th>9582fd3c-ce66-42c7-8675-39b04b7a4689</th>\n",
       "      <td>buildingAhotelFloor8</td>\n",
       "      <td>floor</td>\n",
       "      <td>756.921174</td>\n",
       "      <td>756.921174</td>\n",
       "      <td>c0348c0f-a31f-421b-b6bc-0fe0d5ea947f</td>\n",
       "      <td>NaN</td>\n",
       "      <td>27.0</td>\n",
       "      <td>8.0</td>\n",
       "    </tr>\n",
       "    <tr>\n",
       "      <th>9151983a-1344-4c88-81f3-76cd4ca8ec6d</th>\n",
       "      <td>buildingAhotelFloor9</td>\n",
       "      <td>floor</td>\n",
       "      <td>756.921174</td>\n",
       "      <td>756.921174</td>\n",
       "      <td>c0348c0f-a31f-421b-b6bc-0fe0d5ea947f</td>\n",
       "      <td>NaN</td>\n",
       "      <td>30.1</td>\n",
       "      <td>9.0</td>\n",
       "    </tr>\n",
       "    <tr>\n",
       "      <th>56eec388-d1bb-4de7-92a8-be8202d5be2d</th>\n",
       "      <td>buildingAhotelFloor10</td>\n",
       "      <td>floor</td>\n",
       "      <td>756.921174</td>\n",
       "      <td>756.921174</td>\n",
       "      <td>c0348c0f-a31f-421b-b6bc-0fe0d5ea947f</td>\n",
       "      <td>NaN</td>\n",
       "      <td>33.2</td>\n",
       "      <td>10.0</td>\n",
       "    </tr>\n",
       "    <tr>\n",
       "      <th>49d884ea-f590-46a3-a662-db5e73190848</th>\n",
       "      <td>buildingAhotelFloor11</td>\n",
       "      <td>floor</td>\n",
       "      <td>756.921174</td>\n",
       "      <td>756.921174</td>\n",
       "      <td>c0348c0f-a31f-421b-b6bc-0fe0d5ea947f</td>\n",
       "      <td>NaN</td>\n",
       "      <td>36.3</td>\n",
       "      <td>11.0</td>\n",
       "    </tr>\n",
       "    <tr>\n",
       "      <th>192fb1b2-fc6c-4b42-8135-45cbcbead777</th>\n",
       "      <td>buildingAhotelFloor12</td>\n",
       "      <td>floor</td>\n",
       "      <td>756.921174</td>\n",
       "      <td>756.921174</td>\n",
       "      <td>c0348c0f-a31f-421b-b6bc-0fe0d5ea947f</td>\n",
       "      <td>NaN</td>\n",
       "      <td>39.4</td>\n",
       "      <td>12.0</td>\n",
       "    </tr>\n",
       "    <tr>\n",
       "      <th>85305abb-0e6f-4c8f-bf27-553292e317e9</th>\n",
       "      <td>buildingAhotelFloor13</td>\n",
       "      <td>floor</td>\n",
       "      <td>756.921174</td>\n",
       "      <td>756.921174</td>\n",
       "      <td>c0348c0f-a31f-421b-b6bc-0fe0d5ea947f</td>\n",
       "      <td>NaN</td>\n",
       "      <td>42.5</td>\n",
       "      <td>13.0</td>\n",
       "    </tr>\n",
       "    <tr>\n",
       "      <th>75c85658-55c8-4bd0-9d0c-c03a9b2c6169</th>\n",
       "      <td>buildingAretailFloor0</td>\n",
       "      <td>floor</td>\n",
       "      <td>789.114895</td>\n",
       "      <td>789.114895</td>\n",
       "      <td>1d0841bf-aa28-41d7-ba75-0ad0f3d57d21</td>\n",
       "      <td>NaN</td>\n",
       "      <td>0.3</td>\n",
       "      <td>0.0</td>\n",
       "    </tr>\n",
       "    <tr>\n",
       "      <th>bf5a4444-6abd-4b89-b7a8-d758df5134fe</th>\n",
       "      <td>buildingAresidentialFloor0</td>\n",
       "      <td>floor</td>\n",
       "      <td>57.900000</td>\n",
       "      <td>57.900000</td>\n",
       "      <td>7716632b-f43c-4ed2-9f84-26709361bbfe</td>\n",
       "      <td>NaN</td>\n",
       "      <td>0.3</td>\n",
       "      <td>0.0</td>\n",
       "    </tr>\n",
       "    <tr>\n",
       "      <th>dbf25b07-6f85-45bb-905c-de5b8562f5e7</th>\n",
       "      <td>buildingAresidentialFloor1</td>\n",
       "      <td>floor</td>\n",
       "      <td>750.140790</td>\n",
       "      <td>750.140790</td>\n",
       "      <td>7716632b-f43c-4ed2-9f84-26709361bbfe</td>\n",
       "      <td>NaN</td>\n",
       "      <td>5.3</td>\n",
       "      <td>1.0</td>\n",
       "    </tr>\n",
       "    <tr>\n",
       "      <th>507e4ef2-fe13-44d7-af5f-bcf717b3de53</th>\n",
       "      <td>buildingAresidentialFloor2</td>\n",
       "      <td>floor</td>\n",
       "      <td>750.140790</td>\n",
       "      <td>750.140790</td>\n",
       "      <td>7716632b-f43c-4ed2-9f84-26709361bbfe</td>\n",
       "      <td>NaN</td>\n",
       "      <td>8.4</td>\n",
       "      <td>2.0</td>\n",
       "    </tr>\n",
       "    <tr>\n",
       "      <th>bb815059-7516-45df-8fac-16f0e62242f3</th>\n",
       "      <td>buildingAresidentialFloor3</td>\n",
       "      <td>floor</td>\n",
       "      <td>750.140790</td>\n",
       "      <td>750.140790</td>\n",
       "      <td>7716632b-f43c-4ed2-9f84-26709361bbfe</td>\n",
       "      <td>NaN</td>\n",
       "      <td>11.5</td>\n",
       "      <td>3.0</td>\n",
       "    </tr>\n",
       "    <tr>\n",
       "      <th>d45316af-5763-4b39-8e39-dc7645c39ec2</th>\n",
       "      <td>buildingAretailFloor0</td>\n",
       "      <td>floor</td>\n",
       "      <td>722.715820</td>\n",
       "      <td>722.715820</td>\n",
       "      <td>01aec121-ef19-4e6d-9f09-b2ce007b717d</td>\n",
       "      <td>NaN</td>\n",
       "      <td>0.3</td>\n",
       "      <td>0.0</td>\n",
       "    </tr>\n",
       "    <tr>\n",
       "      <th>99dae6a3-d102-4525-9f3a-b8ee50a9c45f</th>\n",
       "      <td>buildingAparkingFloor0</td>\n",
       "      <td>floor</td>\n",
       "      <td>1038.786936</td>\n",
       "      <td>1038.786936</td>\n",
       "      <td>6f6b227b-b28b-4412-89bd-0a9bbc47164e</td>\n",
       "      <td>NaN</td>\n",
       "      <td>0.3</td>\n",
       "      <td>0.0</td>\n",
       "    </tr>\n",
       "    <tr>\n",
       "      <th>e9acc93a-6f25-4179-97b3-594d1927565a</th>\n",
       "      <td>buildingBresidential</td>\n",
       "      <td>space</td>\n",
       "      <td>NaN</td>\n",
       "      <td>11442.736624</td>\n",
       "      <td>a1e00481-e51e-47c5-b629-8b214c0900bd</td>\n",
       "      <td>residential</td>\n",
       "      <td>NaN</td>\n",
       "      <td>NaN</td>\n",
       "    </tr>\n",
       "    <tr>\n",
       "      <th>eb1a8e6c-abf7-4fde-be66-b79a53eb7d52</th>\n",
       "      <td>buildingBparking</td>\n",
       "      <td>space</td>\n",
       "      <td>NaN</td>\n",
       "      <td>1178.164752</td>\n",
       "      <td>a1e00481-e51e-47c5-b629-8b214c0900bd</td>\n",
       "      <td>parking</td>\n",
       "      <td>NaN</td>\n",
       "      <td>NaN</td>\n",
       "    </tr>\n",
       "    <tr>\n",
       "      <th>34e63754-df1f-4c4d-b480-afa4109b3a5a</th>\n",
       "      <td>buildingBretail</td>\n",
       "      <td>space</td>\n",
       "      <td>NaN</td>\n",
       "      <td>815.983454</td>\n",
       "      <td>a1e00481-e51e-47c5-b629-8b214c0900bd</td>\n",
       "      <td>retail</td>\n",
       "      <td>NaN</td>\n",
       "      <td>NaN</td>\n",
       "    </tr>\n",
       "    <tr>\n",
       "      <th>cb5a02f7-b1b9-4a32-95b8-bbb70a946230</th>\n",
       "      <td>buildingBcores</td>\n",
       "      <td>utilities</td>\n",
       "      <td>NaN</td>\n",
       "      <td>0.000000</td>\n",
       "      <td>a1e00481-e51e-47c5-b629-8b214c0900bd</td>\n",
       "      <td>cores</td>\n",
       "      <td>NaN</td>\n",
       "      <td>NaN</td>\n",
       "    </tr>\n",
       "    <tr>\n",
       "      <th>0c018f4e-85d1-45ca-a83a-e3047e63ea6e</th>\n",
       "      <td>buildingBresidentialFloor0</td>\n",
       "      <td>floor</td>\n",
       "      <td>765.941631</td>\n",
       "      <td>765.941631</td>\n",
       "      <td>e9acc93a-6f25-4179-97b3-594d1927565a</td>\n",
       "      <td>NaN</td>\n",
       "      <td>0.3</td>\n",
       "      <td>0.0</td>\n",
       "    </tr>\n",
       "    <tr>\n",
       "      <th>5ffdc26b-ed78-45e7-95a7-93114f38437b</th>\n",
       "      <td>buildingBresidentialFloor1</td>\n",
       "      <td>floor</td>\n",
       "      <td>2361.056035</td>\n",
       "      <td>2361.056035</td>\n",
       "      <td>e9acc93a-6f25-4179-97b3-594d1927565a</td>\n",
       "      <td>NaN</td>\n",
       "      <td>5.3</td>\n",
       "      <td>1.0</td>\n",
       "    </tr>\n",
       "    <tr>\n",
       "      <th>15c0f8fb-5a62-4f60-94fc-5f1ea1a79f76</th>\n",
       "      <td>buildingBresidentialFloor2</td>\n",
       "      <td>floor</td>\n",
       "      <td>2361.056035</td>\n",
       "      <td>2361.056035</td>\n",
       "      <td>e9acc93a-6f25-4179-97b3-594d1927565a</td>\n",
       "      <td>NaN</td>\n",
       "      <td>8.4</td>\n",
       "      <td>2.0</td>\n",
       "    </tr>\n",
       "    <tr>\n",
       "      <th>aece3428-b220-4ced-a819-15cdb72166aa</th>\n",
       "      <td>buildingBresidentialFloor3</td>\n",
       "      <td>floor</td>\n",
       "      <td>2015.956035</td>\n",
       "      <td>2015.956035</td>\n",
       "      <td>e9acc93a-6f25-4179-97b3-594d1927565a</td>\n",
       "      <td>NaN</td>\n",
       "      <td>11.5</td>\n",
       "      <td>3.0</td>\n",
       "    </tr>\n",
       "    <tr>\n",
       "      <th>1b966f89-f491-425e-9da1-ad0ad124cae4</th>\n",
       "      <td>buildingBresidentialFloor4</td>\n",
       "      <td>floor</td>\n",
       "      <td>2015.956035</td>\n",
       "      <td>2015.956035</td>\n",
       "      <td>e9acc93a-6f25-4179-97b3-594d1927565a</td>\n",
       "      <td>NaN</td>\n",
       "      <td>14.6</td>\n",
       "      <td>4.0</td>\n",
       "    </tr>\n",
       "    <tr>\n",
       "      <th>f3ff41c9-c6e6-4bcb-8d36-c7acfbecf839</th>\n",
       "      <td>buildingBresidentialFloor5</td>\n",
       "      <td>floor</td>\n",
       "      <td>875.014900</td>\n",
       "      <td>875.014900</td>\n",
       "      <td>e9acc93a-6f25-4179-97b3-594d1927565a</td>\n",
       "      <td>NaN</td>\n",
       "      <td>17.7</td>\n",
       "      <td>5.0</td>\n",
       "    </tr>\n",
       "    <tr>\n",
       "      <th>1df6c7b8-7e0a-4347-b94c-82324a5c4765</th>\n",
       "      <td>buildingBresidentialFloor6</td>\n",
       "      <td>floor</td>\n",
       "      <td>875.014900</td>\n",
       "      <td>875.014900</td>\n",
       "      <td>e9acc93a-6f25-4179-97b3-594d1927565a</td>\n",
       "      <td>NaN</td>\n",
       "      <td>20.8</td>\n",
       "      <td>6.0</td>\n",
       "    </tr>\n",
       "    <tr>\n",
       "      <th>7f876f6b-5eef-44d0-b9be-39b08176e2e4</th>\n",
       "      <td>buildingBresidentialFloor0</td>\n",
       "      <td>floor</td>\n",
       "      <td>172.741054</td>\n",
       "      <td>172.741054</td>\n",
       "      <td>e9acc93a-6f25-4179-97b3-594d1927565a</td>\n",
       "      <td>NaN</td>\n",
       "      <td>0.3</td>\n",
       "      <td>0.0</td>\n",
       "    </tr>\n",
       "    <tr>\n",
       "      <th>3623f3aa-9226-46d1-9e2f-b3e82e0f187f</th>\n",
       "      <td>buildingBparkingFloor0</td>\n",
       "      <td>floor</td>\n",
       "      <td>1178.164752</td>\n",
       "      <td>1178.164752</td>\n",
       "      <td>eb1a8e6c-abf7-4fde-be66-b79a53eb7d52</td>\n",
       "      <td>NaN</td>\n",
       "      <td>0.3</td>\n",
       "      <td>0.0</td>\n",
       "    </tr>\n",
       "    <tr>\n",
       "      <th>bb756739-0f7c-43ec-874a-ec0def2ca9e4</th>\n",
       "      <td>buildingBretailFloor0</td>\n",
       "      <td>floor</td>\n",
       "      <td>815.983454</td>\n",
       "      <td>815.983454</td>\n",
       "      <td>34e63754-df1f-4c4d-b480-afa4109b3a5a</td>\n",
       "      <td>NaN</td>\n",
       "      <td>0.3</td>\n",
       "      <td>0.0</td>\n",
       "    </tr>\n",
       "  </tbody>\n",
       "</table>\n",
       "</div>"
      ],
      "text/plain": [
       "                                                            name       type  \\\n",
       "afe8e730-ad0f-4c2a-a15c-e249e4518fa8                    property   property   \n",
       "0a0a97ef-431d-471d-bc33-ace7e7df5fcb                      plinth   building   \n",
       "5ebb9736-5f18-4103-a5a4-040cd2e9b019                   buildingA   building   \n",
       "a1e00481-e51e-47c5-b629-8b214c0900bd                   buildingB   building   \n",
       "6496e279-88ca-49f4-b48c-6c0f156e0a58                   utilities  utilities   \n",
       "2b51847e-ec54-415d-afa0-ce32d74c6144               plinthparking      space   \n",
       "938f4cf1-d307-4160-9538-d4bfa9583ad8                 plinthplant  utilities   \n",
       "e84b8c35-fd4a-49fc-b4c9-e318a958685b        plinthparkingFloor-2      floor   \n",
       "c3ebe151-1e0c-45c6-8852-7ea21f72290e        plinthparkingFloor-1      floor   \n",
       "c0348c0f-a31f-421b-b6bc-0fe0d5ea947f              buildingAhotel      space   \n",
       "1d0841bf-aa28-41d7-ba75-0ad0f3d57d21             buildingAretail      space   \n",
       "7716632b-f43c-4ed2-9f84-26709361bbfe        buildingAresidential      space   \n",
       "01aec121-ef19-4e6d-9f09-b2ce007b717d             buildingAretail      space   \n",
       "6f6b227b-b28b-4412-89bd-0a9bbc47164e            buildingAparking      space   \n",
       "7eec5208-fc0e-4dfd-bd0b-b1d226b2e97e              buildingAcores  utilities   \n",
       "bc265fcf-d0f6-4d22-8e92-d8f86f4d707a        buildingAhotelFloor0      floor   \n",
       "22851887-f9ee-4aa8-8755-bc021c3a3b30        buildingAhotelFloor1      floor   \n",
       "d67cc046-9c03-4e43-b1b5-876417dbcdda        buildingAhotelFloor2      floor   \n",
       "5f90565d-44c0-4de2-b510-d263599953f5        buildingAhotelFloor3      floor   \n",
       "f7b76e8b-93f0-47c6-8666-05c541c19e25        buildingAhotelFloor4      floor   \n",
       "9bdec185-a51b-4845-b746-ddcd3e3fa433        buildingAhotelFloor5      floor   \n",
       "250edc28-32de-4633-add0-a384305b5e87        buildingAhotelFloor6      floor   \n",
       "e4f25e01-0e9d-4fd2-b705-96d118802468        buildingAhotelFloor7      floor   \n",
       "9582fd3c-ce66-42c7-8675-39b04b7a4689        buildingAhotelFloor8      floor   \n",
       "9151983a-1344-4c88-81f3-76cd4ca8ec6d        buildingAhotelFloor9      floor   \n",
       "56eec388-d1bb-4de7-92a8-be8202d5be2d       buildingAhotelFloor10      floor   \n",
       "49d884ea-f590-46a3-a662-db5e73190848       buildingAhotelFloor11      floor   \n",
       "192fb1b2-fc6c-4b42-8135-45cbcbead777       buildingAhotelFloor12      floor   \n",
       "85305abb-0e6f-4c8f-bf27-553292e317e9       buildingAhotelFloor13      floor   \n",
       "75c85658-55c8-4bd0-9d0c-c03a9b2c6169       buildingAretailFloor0      floor   \n",
       "bf5a4444-6abd-4b89-b7a8-d758df5134fe  buildingAresidentialFloor0      floor   \n",
       "dbf25b07-6f85-45bb-905c-de5b8562f5e7  buildingAresidentialFloor1      floor   \n",
       "507e4ef2-fe13-44d7-af5f-bcf717b3de53  buildingAresidentialFloor2      floor   \n",
       "bb815059-7516-45df-8fac-16f0e62242f3  buildingAresidentialFloor3      floor   \n",
       "d45316af-5763-4b39-8e39-dc7645c39ec2       buildingAretailFloor0      floor   \n",
       "99dae6a3-d102-4525-9f3a-b8ee50a9c45f      buildingAparkingFloor0      floor   \n",
       "e9acc93a-6f25-4179-97b3-594d1927565a        buildingBresidential      space   \n",
       "eb1a8e6c-abf7-4fde-be66-b79a53eb7d52            buildingBparking      space   \n",
       "34e63754-df1f-4c4d-b480-afa4109b3a5a             buildingBretail      space   \n",
       "cb5a02f7-b1b9-4a32-95b8-bbb70a946230              buildingBcores  utilities   \n",
       "0c018f4e-85d1-45ca-a83a-e3047e63ea6e  buildingBresidentialFloor0      floor   \n",
       "5ffdc26b-ed78-45e7-95a7-93114f38437b  buildingBresidentialFloor1      floor   \n",
       "15c0f8fb-5a62-4f60-94fc-5f1ea1a79f76  buildingBresidentialFloor2      floor   \n",
       "aece3428-b220-4ced-a819-15cdb72166aa  buildingBresidentialFloor3      floor   \n",
       "1b966f89-f491-425e-9da1-ad0ad124cae4  buildingBresidentialFloor4      floor   \n",
       "f3ff41c9-c6e6-4bcb-8d36-c7acfbecf839  buildingBresidentialFloor5      floor   \n",
       "1df6c7b8-7e0a-4347-b94c-82324a5c4765  buildingBresidentialFloor6      floor   \n",
       "7f876f6b-5eef-44d0-b9be-39b08176e2e4  buildingBresidentialFloor0      floor   \n",
       "3623f3aa-9226-46d1-9e2f-b3e82e0f187f      buildingBparkingFloor0      floor   \n",
       "bb756739-0f7c-43ec-874a-ec0def2ca9e4       buildingBretailFloor0      floor   \n",
       "\n",
       "                                              gfa  subtotal_gfa  \\\n",
       "afe8e730-ad0f-4c2a-a15c-e249e4518fa8          NaN  42786.259115   \n",
       "0a0a97ef-431d-471d-bc33-ace7e7df5fcb          NaN  12773.744211   \n",
       "5ebb9736-5f18-4103-a5a4-040cd2e9b019          NaN  16575.630074   \n",
       "a1e00481-e51e-47c5-b629-8b214c0900bd          NaN  13436.884829   \n",
       "6496e279-88ca-49f4-b48c-6c0f156e0a58          NaN      0.000000   \n",
       "2b51847e-ec54-415d-afa0-ce32d74c6144          NaN  12773.744211   \n",
       "938f4cf1-d307-4160-9538-d4bfa9583ad8          NaN      0.000000   \n",
       "e84b8c35-fd4a-49fc-b4c9-e318a958685b  6386.872106   6386.872106   \n",
       "c3ebe151-1e0c-45c6-8852-7ea21f72290e  6386.872106   6386.872106   \n",
       "c0348c0f-a31f-421b-b6bc-0fe0d5ea947f          NaN  11716.690054   \n",
       "1d0841bf-aa28-41d7-ba75-0ad0f3d57d21          NaN    789.114895   \n",
       "7716632b-f43c-4ed2-9f84-26709361bbfe          NaN   2308.322369   \n",
       "01aec121-ef19-4e6d-9f09-b2ce007b717d          NaN    722.715820   \n",
       "6f6b227b-b28b-4412-89bd-0a9bbc47164e          NaN   1038.786936   \n",
       "7eec5208-fc0e-4dfd-bd0b-b1d226b2e97e          NaN      0.000000   \n",
       "bc265fcf-d0f6-4d22-8e92-d8f86f4d707a   111.690000    111.690000   \n",
       "22851887-f9ee-4aa8-8755-bc021c3a3b30  1697.451572   1697.451572   \n",
       "d67cc046-9c03-4e43-b1b5-876417dbcdda  1270.128420   1270.128420   \n",
       "5f90565d-44c0-4de2-b510-d263599953f5  1068.208325   1068.208325   \n",
       "f7b76e8b-93f0-47c6-8666-05c541c19e25   756.921174    756.921174   \n",
       "9bdec185-a51b-4845-b746-ddcd3e3fa433   756.921174    756.921174   \n",
       "250edc28-32de-4633-add0-a384305b5e87   756.921174    756.921174   \n",
       "e4f25e01-0e9d-4fd2-b705-96d118802468   756.921174    756.921174   \n",
       "9582fd3c-ce66-42c7-8675-39b04b7a4689   756.921174    756.921174   \n",
       "9151983a-1344-4c88-81f3-76cd4ca8ec6d   756.921174    756.921174   \n",
       "56eec388-d1bb-4de7-92a8-be8202d5be2d   756.921174    756.921174   \n",
       "49d884ea-f590-46a3-a662-db5e73190848   756.921174    756.921174   \n",
       "192fb1b2-fc6c-4b42-8135-45cbcbead777   756.921174    756.921174   \n",
       "85305abb-0e6f-4c8f-bf27-553292e317e9   756.921174    756.921174   \n",
       "75c85658-55c8-4bd0-9d0c-c03a9b2c6169   789.114895    789.114895   \n",
       "bf5a4444-6abd-4b89-b7a8-d758df5134fe    57.900000     57.900000   \n",
       "dbf25b07-6f85-45bb-905c-de5b8562f5e7   750.140790    750.140790   \n",
       "507e4ef2-fe13-44d7-af5f-bcf717b3de53   750.140790    750.140790   \n",
       "bb815059-7516-45df-8fac-16f0e62242f3   750.140790    750.140790   \n",
       "d45316af-5763-4b39-8e39-dc7645c39ec2   722.715820    722.715820   \n",
       "99dae6a3-d102-4525-9f3a-b8ee50a9c45f  1038.786936   1038.786936   \n",
       "e9acc93a-6f25-4179-97b3-594d1927565a          NaN  11442.736624   \n",
       "eb1a8e6c-abf7-4fde-be66-b79a53eb7d52          NaN   1178.164752   \n",
       "34e63754-df1f-4c4d-b480-afa4109b3a5a          NaN    815.983454   \n",
       "cb5a02f7-b1b9-4a32-95b8-bbb70a946230          NaN      0.000000   \n",
       "0c018f4e-85d1-45ca-a83a-e3047e63ea6e   765.941631    765.941631   \n",
       "5ffdc26b-ed78-45e7-95a7-93114f38437b  2361.056035   2361.056035   \n",
       "15c0f8fb-5a62-4f60-94fc-5f1ea1a79f76  2361.056035   2361.056035   \n",
       "aece3428-b220-4ced-a819-15cdb72166aa  2015.956035   2015.956035   \n",
       "1b966f89-f491-425e-9da1-ad0ad124cae4  2015.956035   2015.956035   \n",
       "f3ff41c9-c6e6-4bcb-8d36-c7acfbecf839   875.014900    875.014900   \n",
       "1df6c7b8-7e0a-4347-b94c-82324a5c4765   875.014900    875.014900   \n",
       "7f876f6b-5eef-44d0-b9be-39b08176e2e4   172.741054    172.741054   \n",
       "3623f3aa-9226-46d1-9e2f-b3e82e0f187f  1178.164752   1178.164752   \n",
       "bb756739-0f7c-43ec-874a-ec0def2ca9e4   815.983454    815.983454   \n",
       "\n",
       "                                                                    parent  \\\n",
       "afe8e730-ad0f-4c2a-a15c-e249e4518fa8                                  None   \n",
       "0a0a97ef-431d-471d-bc33-ace7e7df5fcb  afe8e730-ad0f-4c2a-a15c-e249e4518fa8   \n",
       "5ebb9736-5f18-4103-a5a4-040cd2e9b019  afe8e730-ad0f-4c2a-a15c-e249e4518fa8   \n",
       "a1e00481-e51e-47c5-b629-8b214c0900bd  afe8e730-ad0f-4c2a-a15c-e249e4518fa8   \n",
       "6496e279-88ca-49f4-b48c-6c0f156e0a58  afe8e730-ad0f-4c2a-a15c-e249e4518fa8   \n",
       "2b51847e-ec54-415d-afa0-ce32d74c6144  0a0a97ef-431d-471d-bc33-ace7e7df5fcb   \n",
       "938f4cf1-d307-4160-9538-d4bfa9583ad8  0a0a97ef-431d-471d-bc33-ace7e7df5fcb   \n",
       "e84b8c35-fd4a-49fc-b4c9-e318a958685b  2b51847e-ec54-415d-afa0-ce32d74c6144   \n",
       "c3ebe151-1e0c-45c6-8852-7ea21f72290e  2b51847e-ec54-415d-afa0-ce32d74c6144   \n",
       "c0348c0f-a31f-421b-b6bc-0fe0d5ea947f  5ebb9736-5f18-4103-a5a4-040cd2e9b019   \n",
       "1d0841bf-aa28-41d7-ba75-0ad0f3d57d21  5ebb9736-5f18-4103-a5a4-040cd2e9b019   \n",
       "7716632b-f43c-4ed2-9f84-26709361bbfe  5ebb9736-5f18-4103-a5a4-040cd2e9b019   \n",
       "01aec121-ef19-4e6d-9f09-b2ce007b717d  5ebb9736-5f18-4103-a5a4-040cd2e9b019   \n",
       "6f6b227b-b28b-4412-89bd-0a9bbc47164e  5ebb9736-5f18-4103-a5a4-040cd2e9b019   \n",
       "7eec5208-fc0e-4dfd-bd0b-b1d226b2e97e  5ebb9736-5f18-4103-a5a4-040cd2e9b019   \n",
       "bc265fcf-d0f6-4d22-8e92-d8f86f4d707a  c0348c0f-a31f-421b-b6bc-0fe0d5ea947f   \n",
       "22851887-f9ee-4aa8-8755-bc021c3a3b30  c0348c0f-a31f-421b-b6bc-0fe0d5ea947f   \n",
       "d67cc046-9c03-4e43-b1b5-876417dbcdda  c0348c0f-a31f-421b-b6bc-0fe0d5ea947f   \n",
       "5f90565d-44c0-4de2-b510-d263599953f5  c0348c0f-a31f-421b-b6bc-0fe0d5ea947f   \n",
       "f7b76e8b-93f0-47c6-8666-05c541c19e25  c0348c0f-a31f-421b-b6bc-0fe0d5ea947f   \n",
       "9bdec185-a51b-4845-b746-ddcd3e3fa433  c0348c0f-a31f-421b-b6bc-0fe0d5ea947f   \n",
       "250edc28-32de-4633-add0-a384305b5e87  c0348c0f-a31f-421b-b6bc-0fe0d5ea947f   \n",
       "e4f25e01-0e9d-4fd2-b705-96d118802468  c0348c0f-a31f-421b-b6bc-0fe0d5ea947f   \n",
       "9582fd3c-ce66-42c7-8675-39b04b7a4689  c0348c0f-a31f-421b-b6bc-0fe0d5ea947f   \n",
       "9151983a-1344-4c88-81f3-76cd4ca8ec6d  c0348c0f-a31f-421b-b6bc-0fe0d5ea947f   \n",
       "56eec388-d1bb-4de7-92a8-be8202d5be2d  c0348c0f-a31f-421b-b6bc-0fe0d5ea947f   \n",
       "49d884ea-f590-46a3-a662-db5e73190848  c0348c0f-a31f-421b-b6bc-0fe0d5ea947f   \n",
       "192fb1b2-fc6c-4b42-8135-45cbcbead777  c0348c0f-a31f-421b-b6bc-0fe0d5ea947f   \n",
       "85305abb-0e6f-4c8f-bf27-553292e317e9  c0348c0f-a31f-421b-b6bc-0fe0d5ea947f   \n",
       "75c85658-55c8-4bd0-9d0c-c03a9b2c6169  1d0841bf-aa28-41d7-ba75-0ad0f3d57d21   \n",
       "bf5a4444-6abd-4b89-b7a8-d758df5134fe  7716632b-f43c-4ed2-9f84-26709361bbfe   \n",
       "dbf25b07-6f85-45bb-905c-de5b8562f5e7  7716632b-f43c-4ed2-9f84-26709361bbfe   \n",
       "507e4ef2-fe13-44d7-af5f-bcf717b3de53  7716632b-f43c-4ed2-9f84-26709361bbfe   \n",
       "bb815059-7516-45df-8fac-16f0e62242f3  7716632b-f43c-4ed2-9f84-26709361bbfe   \n",
       "d45316af-5763-4b39-8e39-dc7645c39ec2  01aec121-ef19-4e6d-9f09-b2ce007b717d   \n",
       "99dae6a3-d102-4525-9f3a-b8ee50a9c45f  6f6b227b-b28b-4412-89bd-0a9bbc47164e   \n",
       "e9acc93a-6f25-4179-97b3-594d1927565a  a1e00481-e51e-47c5-b629-8b214c0900bd   \n",
       "eb1a8e6c-abf7-4fde-be66-b79a53eb7d52  a1e00481-e51e-47c5-b629-8b214c0900bd   \n",
       "34e63754-df1f-4c4d-b480-afa4109b3a5a  a1e00481-e51e-47c5-b629-8b214c0900bd   \n",
       "cb5a02f7-b1b9-4a32-95b8-bbb70a946230  a1e00481-e51e-47c5-b629-8b214c0900bd   \n",
       "0c018f4e-85d1-45ca-a83a-e3047e63ea6e  e9acc93a-6f25-4179-97b3-594d1927565a   \n",
       "5ffdc26b-ed78-45e7-95a7-93114f38437b  e9acc93a-6f25-4179-97b3-594d1927565a   \n",
       "15c0f8fb-5a62-4f60-94fc-5f1ea1a79f76  e9acc93a-6f25-4179-97b3-594d1927565a   \n",
       "aece3428-b220-4ced-a819-15cdb72166aa  e9acc93a-6f25-4179-97b3-594d1927565a   \n",
       "1b966f89-f491-425e-9da1-ad0ad124cae4  e9acc93a-6f25-4179-97b3-594d1927565a   \n",
       "f3ff41c9-c6e6-4bcb-8d36-c7acfbecf839  e9acc93a-6f25-4179-97b3-594d1927565a   \n",
       "1df6c7b8-7e0a-4347-b94c-82324a5c4765  e9acc93a-6f25-4179-97b3-594d1927565a   \n",
       "7f876f6b-5eef-44d0-b9be-39b08176e2e4  e9acc93a-6f25-4179-97b3-594d1927565a   \n",
       "3623f3aa-9226-46d1-9e2f-b3e82e0f187f  eb1a8e6c-abf7-4fde-be66-b79a53eb7d52   \n",
       "bb756739-0f7c-43ec-874a-ec0def2ca9e4  34e63754-df1f-4c4d-b480-afa4109b3a5a   \n",
       "\n",
       "                                              use   ffl  number  \n",
       "afe8e730-ad0f-4c2a-a15c-e249e4518fa8          NaN   NaN     NaN  \n",
       "0a0a97ef-431d-471d-bc33-ace7e7df5fcb          NaN   NaN     NaN  \n",
       "5ebb9736-5f18-4103-a5a4-040cd2e9b019          NaN   NaN     NaN  \n",
       "a1e00481-e51e-47c5-b629-8b214c0900bd          NaN   NaN     NaN  \n",
       "6496e279-88ca-49f4-b48c-6c0f156e0a58          NaN   NaN     NaN  \n",
       "2b51847e-ec54-415d-afa0-ce32d74c6144      parking   NaN     NaN  \n",
       "938f4cf1-d307-4160-9538-d4bfa9583ad8        plant   NaN     NaN  \n",
       "e84b8c35-fd4a-49fc-b4c9-e318a958685b          NaN  -5.9    -2.0  \n",
       "c3ebe151-1e0c-45c6-8852-7ea21f72290e          NaN  -2.8    -1.0  \n",
       "c0348c0f-a31f-421b-b6bc-0fe0d5ea947f        hotel   NaN     NaN  \n",
       "1d0841bf-aa28-41d7-ba75-0ad0f3d57d21       retail   NaN     NaN  \n",
       "7716632b-f43c-4ed2-9f84-26709361bbfe  residential   NaN     NaN  \n",
       "01aec121-ef19-4e6d-9f09-b2ce007b717d       retail   NaN     NaN  \n",
       "6f6b227b-b28b-4412-89bd-0a9bbc47164e      parking   NaN     NaN  \n",
       "7eec5208-fc0e-4dfd-bd0b-b1d226b2e97e        cores   NaN     NaN  \n",
       "bc265fcf-d0f6-4d22-8e92-d8f86f4d707a          NaN   0.3     0.0  \n",
       "22851887-f9ee-4aa8-8755-bc021c3a3b30          NaN   5.3     1.0  \n",
       "d67cc046-9c03-4e43-b1b5-876417dbcdda          NaN   8.4     2.0  \n",
       "5f90565d-44c0-4de2-b510-d263599953f5          NaN  11.5     3.0  \n",
       "f7b76e8b-93f0-47c6-8666-05c541c19e25          NaN  14.6     4.0  \n",
       "9bdec185-a51b-4845-b746-ddcd3e3fa433          NaN  17.7     5.0  \n",
       "250edc28-32de-4633-add0-a384305b5e87          NaN  20.8     6.0  \n",
       "e4f25e01-0e9d-4fd2-b705-96d118802468          NaN  23.9     7.0  \n",
       "9582fd3c-ce66-42c7-8675-39b04b7a4689          NaN  27.0     8.0  \n",
       "9151983a-1344-4c88-81f3-76cd4ca8ec6d          NaN  30.1     9.0  \n",
       "56eec388-d1bb-4de7-92a8-be8202d5be2d          NaN  33.2    10.0  \n",
       "49d884ea-f590-46a3-a662-db5e73190848          NaN  36.3    11.0  \n",
       "192fb1b2-fc6c-4b42-8135-45cbcbead777          NaN  39.4    12.0  \n",
       "85305abb-0e6f-4c8f-bf27-553292e317e9          NaN  42.5    13.0  \n",
       "75c85658-55c8-4bd0-9d0c-c03a9b2c6169          NaN   0.3     0.0  \n",
       "bf5a4444-6abd-4b89-b7a8-d758df5134fe          NaN   0.3     0.0  \n",
       "dbf25b07-6f85-45bb-905c-de5b8562f5e7          NaN   5.3     1.0  \n",
       "507e4ef2-fe13-44d7-af5f-bcf717b3de53          NaN   8.4     2.0  \n",
       "bb815059-7516-45df-8fac-16f0e62242f3          NaN  11.5     3.0  \n",
       "d45316af-5763-4b39-8e39-dc7645c39ec2          NaN   0.3     0.0  \n",
       "99dae6a3-d102-4525-9f3a-b8ee50a9c45f          NaN   0.3     0.0  \n",
       "e9acc93a-6f25-4179-97b3-594d1927565a  residential   NaN     NaN  \n",
       "eb1a8e6c-abf7-4fde-be66-b79a53eb7d52      parking   NaN     NaN  \n",
       "34e63754-df1f-4c4d-b480-afa4109b3a5a       retail   NaN     NaN  \n",
       "cb5a02f7-b1b9-4a32-95b8-bbb70a946230        cores   NaN     NaN  \n",
       "0c018f4e-85d1-45ca-a83a-e3047e63ea6e          NaN   0.3     0.0  \n",
       "5ffdc26b-ed78-45e7-95a7-93114f38437b          NaN   5.3     1.0  \n",
       "15c0f8fb-5a62-4f60-94fc-5f1ea1a79f76          NaN   8.4     2.0  \n",
       "aece3428-b220-4ced-a819-15cdb72166aa          NaN  11.5     3.0  \n",
       "1b966f89-f491-425e-9da1-ad0ad124cae4          NaN  14.6     4.0  \n",
       "f3ff41c9-c6e6-4bcb-8d36-c7acfbecf839          NaN  17.7     5.0  \n",
       "1df6c7b8-7e0a-4347-b94c-82324a5c4765          NaN  20.8     6.0  \n",
       "7f876f6b-5eef-44d0-b9be-39b08176e2e4          NaN   0.3     0.0  \n",
       "3623f3aa-9226-46d1-9e2f-b3e82e0f187f          NaN   0.3     0.0  \n",
       "bb756739-0f7c-43ec-874a-ec0def2ca9e4          NaN   0.3     0.0  "
      ]
     },
     "execution_count": 9,
     "metadata": {},
     "output_type": "execute_result"
    }
   ],
   "source": [
    "df = spatial_containment.to_DataFrame()\n",
    "df = df[['name', 'type', 'gfa', 'subtotal_gfa', 'parent', 'use', 'ffl', 'number']]\n",
    "df"
   ]
  },
  {
   "cell_type": "code",
   "execution_count": 10,
   "metadata": {
    "ExecuteTime": {
     "end_time": "2024-03-14T12:20:30.209049Z",
     "start_time": "2024-03-14T12:20:29.744448Z"
    },
    "collapsed": false
   },
   "outputs": [
    {
     "data": {
      "text/html": [
       "\n",
       "        <iframe\n",
       "            width=\"100%\"\n",
       "            height=\"1600\"\n",
       "            src=\"./spatial_containment_chart.html\"\n",
       "            frameborder=\"0\"\n",
       "            allowfullscreen\n",
       "            \n",
       "        ></iframe>\n",
       "        "
      ],
      "text/plain": [
       "<IPython.lib.display.IFrame at 0x2b8cf1650>"
      ]
     },
     "execution_count": 10,
     "metadata": {},
     "output_type": "execute_result"
    }
   ],
   "source": [
    "sunburst = spatial_containment.sunburst(property='subtotal_gfa')\n",
    "treemap = spatial_containment.treemap(property='subtotal_gfa')\n",
    "fig = plotly.subplots.make_subplots(\n",
    "    rows=2, cols=1,\n",
    "    specs=[[{\"type\": \"sunburst\"}], [{\"type\": \"treemap\"}]],\n",
    "    subplot_titles=('Gross Floor Area - Sunburst Plot', 'Gross Floor Area - Treemap Plot'))\n",
    "fig.append_trace(sunburst, row=1, col=1)\n",
    "fig.append_trace(treemap, row=2, col=1)\n",
    "filename='spatial_containment_chart.html'\n",
    "\n",
    "py.plot(fig, filename=f'assets/{filename}', auto_open=False)\n",
    "IFrame(src=f'./{filename}', width='100%', height=800 * len(fig.data))"
   ]
  },
  {
   "cell_type": "code",
   "execution_count": 11,
   "metadata": {
    "ExecuteTime": {
     "end_time": "2024-03-14T12:20:30.213732Z",
     "start_time": "2024-03-14T12:20:30.211217Z"
    },
    "collapsed": false
   },
   "outputs": [],
   "source": [
    "floors = property.filter_by_type(entity_type='floor')\n",
    "floors = [floor for floor in floors.get_entities().values() if hasattr(floor, 'gfa')]"
   ]
  },
  {
   "cell_type": "code",
   "execution_count": 12,
   "metadata": {
    "ExecuteTime": {
     "end_time": "2024-03-14T12:20:30.245462Z",
     "start_time": "2024-03-14T12:20:30.214402Z"
    },
    "collapsed": false
   },
   "outputs": [],
   "source": [
    "locale.setlocale(locale.LC_ALL, 'en_au')\n",
    "units = rk.measure.Index.registry\n",
    "currency = rk.measure.register_currency(registry=units)\n",
    "frequency = rk.duration.Type.YEAR"
   ]
  },
  {
   "cell_type": "code",
   "execution_count": 13,
   "metadata": {
    "ExecuteTime": {
     "end_time": "2024-03-14T12:20:30.248724Z",
     "start_time": "2024-03-14T12:20:30.246491Z"
    },
    "collapsed": false
   },
   "outputs": [],
   "source": [
    "efficiency_ratios = dict(\n",
    "    hotel=0.8,\n",
    "    retail=0.675,\n",
    "    residential=0.75,\n",
    "    parking=0.9\n",
    "    )\n",
    "initial_income_per_area_pa = dict(\n",
    "    hotel=750,\n",
    "    retail=1000,\n",
    "    residential=600,\n",
    "    parking=0\n",
    "    )\n",
    "pgi_growth_rates = dict(\n",
    "    hotel=.035,\n",
    "    retail=.075,\n",
    "    residential=.055,\n",
    "    parking=0\n",
    "    )\n",
    "vacancy_rates = dict(\n",
    "    hotel=.025,\n",
    "    retail=.075,\n",
    "    residential=.015,\n",
    "    parking=0,\n",
    "    )"
   ]
  },
  {
   "cell_type": "code",
   "execution_count": 14,
   "metadata": {
    "ExecuteTime": {
     "end_time": "2024-03-14T12:20:30.253517Z",
     "start_time": "2024-03-14T12:20:30.249449Z"
    },
    "collapsed": false
   },
   "outputs": [
    {
     "data": {
      "text/html": [
       "<div>\n",
       "<style scoped>\n",
       "    .dataframe tbody tr th:only-of-type {\n",
       "        vertical-align: middle;\n",
       "    }\n",
       "\n",
       "    .dataframe tbody tr th {\n",
       "        vertical-align: top;\n",
       "    }\n",
       "\n",
       "    .dataframe thead th {\n",
       "        text-align: right;\n",
       "    }\n",
       "</style>\n",
       "<table border=\"1\" class=\"dataframe\">\n",
       "  <thead>\n",
       "    <tr style=\"text-align: right;\">\n",
       "      <th></th>\n",
       "      <th>efficiency_ratio</th>\n",
       "      <th>initial_income_per_area_pa</th>\n",
       "      <th>pgi_growth_rate</th>\n",
       "      <th>vacancy_rate</th>\n",
       "    </tr>\n",
       "  </thead>\n",
       "  <tbody>\n",
       "    <tr>\n",
       "      <th>hotel</th>\n",
       "      <td>0.800</td>\n",
       "      <td>750</td>\n",
       "      <td>0.035</td>\n",
       "      <td>0.025</td>\n",
       "    </tr>\n",
       "    <tr>\n",
       "      <th>retail</th>\n",
       "      <td>0.675</td>\n",
       "      <td>1000</td>\n",
       "      <td>0.075</td>\n",
       "      <td>0.075</td>\n",
       "    </tr>\n",
       "    <tr>\n",
       "      <th>residential</th>\n",
       "      <td>0.750</td>\n",
       "      <td>600</td>\n",
       "      <td>0.055</td>\n",
       "      <td>0.015</td>\n",
       "    </tr>\n",
       "    <tr>\n",
       "      <th>parking</th>\n",
       "      <td>0.900</td>\n",
       "      <td>0</td>\n",
       "      <td>0.000</td>\n",
       "      <td>0.000</td>\n",
       "    </tr>\n",
       "  </tbody>\n",
       "</table>\n",
       "</div>"
      ],
      "text/plain": [
       "             efficiency_ratio  initial_income_per_area_pa  pgi_growth_rate  \\\n",
       "hotel                   0.800                         750            0.035   \n",
       "retail                  0.675                        1000            0.075   \n",
       "residential             0.750                         600            0.055   \n",
       "parking                 0.900                           0            0.000   \n",
       "\n",
       "             vacancy_rate  \n",
       "hotel               0.025  \n",
       "retail              0.075  \n",
       "residential         0.015  \n",
       "parking             0.000  "
      ]
     },
     "execution_count": 14,
     "metadata": {},
     "output_type": "execute_result"
    }
   ],
   "source": [
    "revenue_inputs = pd.DataFrame(\n",
    "    data=dict(\n",
    "        efficiency_ratio=efficiency_ratios,\n",
    "        initial_income_per_area_pa=initial_income_per_area_pa,\n",
    "        pgi_growth_rate=pgi_growth_rates,\n",
    "        vacancy_rate=vacancy_rates,\n",
    "        ))\n",
    "revenue_inputs"
   ]
  },
  {
   "cell_type": "code",
   "execution_count": 15,
   "metadata": {
    "ExecuteTime": {
     "end_time": "2024-03-14T12:20:30.255683Z",
     "start_time": "2024-03-14T12:20:30.254167Z"
    },
    "collapsed": false
   },
   "outputs": [],
   "source": [
    "params = dict(\n",
    "    start_date=pd.Timestamp('2001-01-01'),\n",
    "    num_periods=10,\n",
    "    frequency=rk.duration.Type.YEAR\n",
    "    )"
   ]
  },
  {
   "cell_type": "code",
   "execution_count": 16,
   "metadata": {
    "ExecuteTime": {
     "end_time": "2024-03-14T12:20:30.258592Z",
     "start_time": "2024-03-14T12:20:30.256246Z"
    },
    "collapsed": false
   },
   "outputs": [],
   "source": [
    "class Spans:\n",
    "    def __init__(self, params: dict):\n",
    "        self.params = params\n",
    "        self.calc_span = rk.span.Span.from_duration(\n",
    "            name='Span to Calculate Reversion',\n",
    "            date=self.params['start_date'],\n",
    "            duration=self.params['frequency'],\n",
    "            amount=self.params['num_periods'] + 1)\n",
    "        self.acq_span = rk.span.Span.from_duration(\n",
    "            name='Acquisition Span',\n",
    "            date=rk.duration.offset(\n",
    "                self.params['start_date'],\n",
    "                amount=-1,\n",
    "                duration=self.params['frequency']),\n",
    "            duration=self.params['frequency'])\n",
    "        self.span = self.calc_span.shift(\n",
    "            name='Span',\n",
    "            amount=-1,\n",
    "            duration=self.params['frequency'])"
   ]
  },
  {
   "cell_type": "code",
   "execution_count": 17,
   "metadata": {
    "ExecuteTime": {
     "end_time": "2024-03-14T12:20:30.260858Z",
     "start_time": "2024-03-14T12:20:30.259224Z"
    },
    "collapsed": false
   },
   "outputs": [],
   "source": [
    "class Revenues:\n",
    "    def __init__(\n",
    "            self,\n",
    "            params: dict,\n",
    "            spans: Spans):\n",
    "        self.params = params\n",
    "        self.spans = spans"
   ]
  },
  {
   "cell_type": "code",
   "execution_count": 18,
   "metadata": {
    "ExecuteTime": {
     "end_time": "2024-03-14T12:20:30.263875Z",
     "start_time": "2024-03-14T12:20:30.261566Z"
    },
    "collapsed": false
   },
   "outputs": [],
   "source": [
    "@rk.update_class(Revenues)\n",
    "class Revenues:\n",
    "    def generate(self):\n",
    "        self.pgi = rk.flux.Flow.from_projection(\n",
    "            name='Potential Gross Income',\n",
    "            value=self.params['initial_income'],\n",
    "            proj=rk.projection.Extrapolation(\n",
    "            form=rk.extrapolation.Compounding(\n",
    "                rate=self.params['pgi_growth_rate']),\n",
    "            sequence=self.spans.calc_span.to_sequence(frequency=self.params['frequency'])),\n",
    "            units=currency.units)\n",
    "        self.vacancy = rk.flux.Flow(\n",
    "            name='Vacancy Allowance',\n",
    "            movements=self.pgi.movements * -self.params['vacancy_rate'],\n",
    "            units=currency.units)\n",
    "        self.egi = rk.flux.Stream(\n",
    "            name='Effective Gross Income',\n",
    "            flows=[self.pgi, self.vacancy],\n",
    "            frequency=self.params['frequency'])"
   ]
  },
  {
   "cell_type": "code",
   "execution_count": 19,
   "metadata": {
    "ExecuteTime": {
     "end_time": "2024-03-14T12:20:30.266469Z",
     "start_time": "2024-03-14T12:20:30.264635Z"
    },
    "collapsed": false
   },
   "outputs": [],
   "source": [
    "spans = Spans(params)"
   ]
  },
  {
   "cell_type": "code",
   "execution_count": 20,
   "metadata": {
    "ExecuteTime": {
     "end_time": "2024-03-14T12:20:30.345361Z",
     "start_time": "2024-03-14T12:20:30.267316Z"
    },
    "collapsed": false
   },
   "outputs": [],
   "source": [
    "for floor in floors:\n",
    "    parent = floor.get_relatives(\n",
    "        relationship_type='spatiallyContains',\n",
    "        outgoing=False,\n",
    "        assembly=spatial_containment)[0]\n",
    "    floor['use'] = parent['use']\n",
    "\n",
    "    floor.params = params.copy()\n",
    "    floor.params['initial_income'] = initial_income_per_area_pa[floor['use']] * floor['gfa'] * efficiency_ratios[floor['use']]\n",
    "    floor.params['pgi_growth_rate'] = pgi_growth_rates[floor['use']]\n",
    "    floor.params['vacancy_rate'] = vacancy_rates[floor['use']]\n",
    "\n",
    "    revenues = Revenues(floor.params, spans)\n",
    "    revenues.generate()\n",
    "    floor['pgi'] = revenues.pgi\n",
    "    floor['vacancy'] = revenues.vacancy\n",
    "    floor['egi'] = revenues.egi"
   ]
  },
  {
   "cell_type": "code",
   "execution_count": 21,
   "metadata": {
    "ExecuteTime": {
     "end_time": "2024-03-14T12:20:30.349297Z",
     "start_time": "2024-03-14T12:20:30.346554Z"
    },
    "collapsed": false
   },
   "outputs": [],
   "source": [
    "def aggregate_egis(**kwargs):\n",
    "    return rk.graph.Entity.aggregate_flows(\n",
    "        **kwargs,\n",
    "        name='Effective Gross Income',\n",
    "        frequency=frequency)"
   ]
  },
  {
   "cell_type": "code",
   "execution_count": 22,
   "metadata": {
    "ExecuteTime": {
     "end_time": "2024-03-14T12:20:30.636111Z",
     "start_time": "2024-03-14T12:20:30.350140Z"
    },
    "collapsed": false
   },
   "outputs": [],
   "source": [
    "property.aggregate(\n",
    "    function=aggregate_egis,\n",
    "    property='egi',\n",
    "    label='subtotal_egi',\n",
    "    relationship_type='spatiallyContains')"
   ]
  },
  {
   "cell_type": "code",
   "execution_count": 23,
   "metadata": {
    "ExecuteTime": {
     "end_time": "2024-03-14T12:20:30.639295Z",
     "start_time": "2024-03-14T12:20:30.636716Z"
    },
    "collapsed": false
   },
   "outputs": [
    {
     "data": {
      "text/plain": [
       "'Effective Gross Income'"
      ]
     },
     "execution_count": 23,
     "metadata": {},
     "output_type": "execute_result"
    }
   ],
   "source": [
    "floors[1]['egi'].name"
   ]
  },
  {
   "cell_type": "code",
   "execution_count": 24,
   "metadata": {
    "ExecuteTime": {
     "end_time": "2024-03-14T12:20:30.660499Z",
     "start_time": "2024-03-14T12:20:30.639969Z"
    },
    "collapsed": false
   },
   "outputs": [
    {
     "name": "stdout",
     "output_type": "stream",
     "text": [
      "buildingAhotel\n"
     ]
    },
    {
     "data": {
      "text/html": [
       "<table>\n",
       "<thead>\n",
       "<tr><th style=\"text-align: right;\">  date</th><th style=\"text-align: right;\">  Effective Gross Income for bc265fcf-d0f6-4d22-8e92-d8f86f4d707a [buildingAhotelFloor0]</th><th style=\"text-align: right;\">  Effective Gross Income for 22851887-f9ee-4aa8-8755-bc021c3a3b30 [buildingAhotelFloor1]</th><th style=\"text-align: right;\">  Effective Gross Income for d67cc046-9c03-4e43-b1b5-876417dbcdda [buildingAhotelFloor2]</th><th style=\"text-align: right;\">  Effective Gross Income for 5f90565d-44c0-4de2-b510-d263599953f5 [buildingAhotelFloor3]</th><th style=\"text-align: right;\">  Effective Gross Income for f7b76e8b-93f0-47c6-8666-05c541c19e25 [buildingAhotelFloor4]</th><th style=\"text-align: right;\">  Effective Gross Income for 9bdec185-a51b-4845-b746-ddcd3e3fa433 [buildingAhotelFloor5]</th><th style=\"text-align: right;\">  Effective Gross Income for 250edc28-32de-4633-add0-a384305b5e87 [buildingAhotelFloor6]</th><th style=\"text-align: right;\">  Effective Gross Income for e4f25e01-0e9d-4fd2-b705-96d118802468 [buildingAhotelFloor7]</th><th style=\"text-align: right;\">  Effective Gross Income for 9582fd3c-ce66-42c7-8675-39b04b7a4689 [buildingAhotelFloor8]</th><th style=\"text-align: right;\">  Effective Gross Income for 9151983a-1344-4c88-81f3-76cd4ca8ec6d [buildingAhotelFloor9]</th><th style=\"text-align: right;\">  Effective Gross Income for 56eec388-d1bb-4de7-92a8-be8202d5be2d [buildingAhotelFloor10]</th><th style=\"text-align: right;\">  Effective Gross Income for 49d884ea-f590-46a3-a662-db5e73190848 [buildingAhotelFloor11]</th><th style=\"text-align: right;\">  Effective Gross Income for 192fb1b2-fc6c-4b42-8135-45cbcbead777 [buildingAhotelFloor12]</th><th style=\"text-align: right;\">  Effective Gross Income for 85305abb-0e6f-4c8f-bf27-553292e317e9 [buildingAhotelFloor13]</th></tr>\n",
       "</thead>\n",
       "<tbody>\n",
       "<tr><td style=\"text-align: right;\">  2001</td><td style=\"text-align: right;\">                                                                              $65,338.65</td><td style=\"text-align: right;\">                                                                             $993,009.17</td><td style=\"text-align: right;\">                                                                             $743,025.13</td><td style=\"text-align: right;\">                                                                             $624,901.87</td><td style=\"text-align: right;\">                                                                             $442,798.89</td><td style=\"text-align: right;\">                                                                             $442,798.89</td><td style=\"text-align: right;\">                                                                             $442,798.89</td><td style=\"text-align: right;\">                                                                             $442,798.89</td><td style=\"text-align: right;\">                                                                             $442,798.89</td><td style=\"text-align: right;\">                                                                             $442,798.89</td><td style=\"text-align: right;\">                                                                              $442,798.89</td><td style=\"text-align: right;\">                                                                              $442,798.89</td><td style=\"text-align: right;\">                                                                              $442,798.89</td><td style=\"text-align: right;\">                                                                              $442,798.89</td></tr>\n",
       "<tr><td style=\"text-align: right;\">  2002</td><td style=\"text-align: right;\">                                                                              $67,625.50</td><td style=\"text-align: right;\">                                                                           $1,027,764.49</td><td style=\"text-align: right;\">                                                                             $769,031.00</td><td style=\"text-align: right;\">                                                                             $646,773.44</td><td style=\"text-align: right;\">                                                                             $458,296.85</td><td style=\"text-align: right;\">                                                                             $458,296.85</td><td style=\"text-align: right;\">                                                                             $458,296.85</td><td style=\"text-align: right;\">                                                                             $458,296.85</td><td style=\"text-align: right;\">                                                                             $458,296.85</td><td style=\"text-align: right;\">                                                                             $458,296.85</td><td style=\"text-align: right;\">                                                                              $458,296.85</td><td style=\"text-align: right;\">                                                                              $458,296.85</td><td style=\"text-align: right;\">                                                                              $458,296.85</td><td style=\"text-align: right;\">                                                                              $458,296.85</td></tr>\n",
       "<tr><td style=\"text-align: right;\">  2003</td><td style=\"text-align: right;\">                                                                              $69,992.40</td><td style=\"text-align: right;\">                                                                           $1,063,736.25</td><td style=\"text-align: right;\">                                                                             $795,947.09</td><td style=\"text-align: right;\">                                                                             $669,410.51</td><td style=\"text-align: right;\">                                                                             $474,337.24</td><td style=\"text-align: right;\">                                                                             $474,337.24</td><td style=\"text-align: right;\">                                                                             $474,337.24</td><td style=\"text-align: right;\">                                                                             $474,337.24</td><td style=\"text-align: right;\">                                                                             $474,337.24</td><td style=\"text-align: right;\">                                                                             $474,337.24</td><td style=\"text-align: right;\">                                                                              $474,337.24</td><td style=\"text-align: right;\">                                                                              $474,337.24</td><td style=\"text-align: right;\">                                                                              $474,337.24</td><td style=\"text-align: right;\">                                                                              $474,337.24</td></tr>\n",
       "<tr><td style=\"text-align: right;\">  2004</td><td style=\"text-align: right;\">                                                                              $72,442.13</td><td style=\"text-align: right;\">                                                                           $1,100,967.02</td><td style=\"text-align: right;\">                                                                             $823,805.24</td><td style=\"text-align: right;\">                                                                             $692,839.87</td><td style=\"text-align: right;\">                                                                             $490,939.04</td><td style=\"text-align: right;\">                                                                             $490,939.04</td><td style=\"text-align: right;\">                                                                             $490,939.04</td><td style=\"text-align: right;\">                                                                             $490,939.04</td><td style=\"text-align: right;\">                                                                             $490,939.04</td><td style=\"text-align: right;\">                                                                             $490,939.04</td><td style=\"text-align: right;\">                                                                              $490,939.04</td><td style=\"text-align: right;\">                                                                              $490,939.04</td><td style=\"text-align: right;\">                                                                              $490,939.04</td><td style=\"text-align: right;\">                                                                              $490,939.04</td></tr>\n",
       "<tr><td style=\"text-align: right;\">  2005</td><td style=\"text-align: right;\">                                                                              $74,977.60</td><td style=\"text-align: right;\">                                                                           $1,139,500.86</td><td style=\"text-align: right;\">                                                                             $852,638.42</td><td style=\"text-align: right;\">                                                                             $717,089.27</td><td style=\"text-align: right;\">                                                                             $508,121.91</td><td style=\"text-align: right;\">                                                                             $508,121.91</td><td style=\"text-align: right;\">                                                                             $508,121.91</td><td style=\"text-align: right;\">                                                                             $508,121.91</td><td style=\"text-align: right;\">                                                                             $508,121.91</td><td style=\"text-align: right;\">                                                                             $508,121.91</td><td style=\"text-align: right;\">                                                                              $508,121.91</td><td style=\"text-align: right;\">                                                                              $508,121.91</td><td style=\"text-align: right;\">                                                                              $508,121.91</td><td style=\"text-align: right;\">                                                                              $508,121.91</td></tr>\n",
       "<tr><td style=\"text-align: right;\">  2006</td><td style=\"text-align: right;\">                                                                              $77,601.82</td><td style=\"text-align: right;\">                                                                           $1,179,383.39</td><td style=\"text-align: right;\">                                                                             $882,480.77</td><td style=\"text-align: right;\">                                                                             $742,187.39</td><td style=\"text-align: right;\">                                                                             $525,906.17</td><td style=\"text-align: right;\">                                                                             $525,906.17</td><td style=\"text-align: right;\">                                                                             $525,906.17</td><td style=\"text-align: right;\">                                                                             $525,906.17</td><td style=\"text-align: right;\">                                                                             $525,906.17</td><td style=\"text-align: right;\">                                                                             $525,906.17</td><td style=\"text-align: right;\">                                                                              $525,906.17</td><td style=\"text-align: right;\">                                                                              $525,906.17</td><td style=\"text-align: right;\">                                                                              $525,906.17</td><td style=\"text-align: right;\">                                                                              $525,906.17</td></tr>\n",
       "<tr><td style=\"text-align: right;\">  2007</td><td style=\"text-align: right;\">                                                                              $80,317.88</td><td style=\"text-align: right;\">                                                                           $1,220,661.81</td><td style=\"text-align: right;\">                                                                             $913,367.59</td><td style=\"text-align: right;\">                                                                             $768,163.95</td><td style=\"text-align: right;\">                                                                             $544,312.89</td><td style=\"text-align: right;\">                                                                             $544,312.89</td><td style=\"text-align: right;\">                                                                             $544,312.89</td><td style=\"text-align: right;\">                                                                             $544,312.89</td><td style=\"text-align: right;\">                                                                             $544,312.89</td><td style=\"text-align: right;\">                                                                             $544,312.89</td><td style=\"text-align: right;\">                                                                              $544,312.89</td><td style=\"text-align: right;\">                                                                              $544,312.89</td><td style=\"text-align: right;\">                                                                              $544,312.89</td><td style=\"text-align: right;\">                                                                              $544,312.89</td></tr>\n",
       "<tr><td style=\"text-align: right;\">  2008</td><td style=\"text-align: right;\">                                                                              $83,129.01</td><td style=\"text-align: right;\">                                                                           $1,263,384.97</td><td style=\"text-align: right;\">                                                                             $945,335.46</td><td style=\"text-align: right;\">                                                                             $795,049.69</td><td style=\"text-align: right;\">                                                                             $563,363.84</td><td style=\"text-align: right;\">                                                                             $563,363.84</td><td style=\"text-align: right;\">                                                                             $563,363.84</td><td style=\"text-align: right;\">                                                                             $563,363.84</td><td style=\"text-align: right;\">                                                                             $563,363.84</td><td style=\"text-align: right;\">                                                                             $563,363.84</td><td style=\"text-align: right;\">                                                                              $563,363.84</td><td style=\"text-align: right;\">                                                                              $563,363.84</td><td style=\"text-align: right;\">                                                                              $563,363.84</td><td style=\"text-align: right;\">                                                                              $563,363.84</td></tr>\n",
       "<tr><td style=\"text-align: right;\">  2009</td><td style=\"text-align: right;\">                                                                              $86,038.52</td><td style=\"text-align: right;\">                                                                           $1,307,603.45</td><td style=\"text-align: right;\">                                                                             $978,422.20</td><td style=\"text-align: right;\">                                                                             $822,876.43</td><td style=\"text-align: right;\">                                                                             $583,081.58</td><td style=\"text-align: right;\">                                                                             $583,081.58</td><td style=\"text-align: right;\">                                                                             $583,081.58</td><td style=\"text-align: right;\">                                                                             $583,081.58</td><td style=\"text-align: right;\">                                                                             $583,081.58</td><td style=\"text-align: right;\">                                                                             $583,081.58</td><td style=\"text-align: right;\">                                                                              $583,081.58</td><td style=\"text-align: right;\">                                                                              $583,081.58</td><td style=\"text-align: right;\">                                                                              $583,081.58</td><td style=\"text-align: right;\">                                                                              $583,081.58</td></tr>\n",
       "<tr><td style=\"text-align: right;\">  2010</td><td style=\"text-align: right;\">                                                                              $89,049.87</td><td style=\"text-align: right;\">                                                                           $1,353,369.57</td><td style=\"text-align: right;\">                                                                           $1,012,666.98</td><td style=\"text-align: right;\">                                                                             $851,677.11</td><td style=\"text-align: right;\">                                                                             $603,489.43</td><td style=\"text-align: right;\">                                                                             $603,489.43</td><td style=\"text-align: right;\">                                                                             $603,489.43</td><td style=\"text-align: right;\">                                                                             $603,489.43</td><td style=\"text-align: right;\">                                                                             $603,489.43</td><td style=\"text-align: right;\">                                                                             $603,489.43</td><td style=\"text-align: right;\">                                                                              $603,489.43</td><td style=\"text-align: right;\">                                                                              $603,489.43</td><td style=\"text-align: right;\">                                                                              $603,489.43</td><td style=\"text-align: right;\">                                                                              $603,489.43</td></tr>\n",
       "<tr><td style=\"text-align: right;\">  2011</td><td style=\"text-align: right;\">                                                                              $92,166.62</td><td style=\"text-align: right;\">                                                                           $1,400,737.50</td><td style=\"text-align: right;\">                                                                           $1,048,110.32</td><td style=\"text-align: right;\">                                                                             $881,485.80</td><td style=\"text-align: right;\">                                                                             $624,611.56</td><td style=\"text-align: right;\">                                                                             $624,611.56</td><td style=\"text-align: right;\">                                                                             $624,611.56</td><td style=\"text-align: right;\">                                                                             $624,611.56</td><td style=\"text-align: right;\">                                                                             $624,611.56</td><td style=\"text-align: right;\">                                                                             $624,611.56</td><td style=\"text-align: right;\">                                                                              $624,611.56</td><td style=\"text-align: right;\">                                                                              $624,611.56</td><td style=\"text-align: right;\">                                                                              $624,611.56</td><td style=\"text-align: right;\">                                                                              $624,611.56</td></tr>\n",
       "</tbody>\n",
       "</table>"
      ],
      "text/plain": [
       "<rangekeeper.flux.Stream at 0x2c14a5b50>"
      ]
     },
     "execution_count": 24,
     "metadata": {},
     "output_type": "execute_result"
    }
   ],
   "source": [
    "buildingAhotel = [e for (id, e) in spatial_containment.get_entities().items() if e.name == 'buildingAhotel'][0]\n",
    "print(buildingAhotel.name)\n",
    "buildingAhotel['subtotal_egi']"
   ]
  },
  {
   "cell_type": "code",
   "execution_count": 25,
   "metadata": {
    "ExecuteTime": {
     "end_time": "2024-03-14T12:20:30.665428Z",
     "start_time": "2024-03-14T12:20:30.661271Z"
    },
    "collapsed": false
   },
   "outputs": [
    {
     "data": {
      "text/html": [
       "<table>\n",
       "<thead>\n",
       "<tr><th style=\"text-align: right;\">               date</th><th style=\"text-align: right;\">  Effective Gross Income for c0348c0f-a31f-421b-b6bc-0fe0d5ea947f [buildingAhotel] Aggregation (sum)</th></tr>\n",
       "</thead>\n",
       "<tbody>\n",
       "<tr><td style=\"text-align: right;\">2001-12-31 00:00:00</td><td style=\"text-align: right;\">                                                                                       $6,854,263.68</td></tr>\n",
       "<tr><td style=\"text-align: right;\">2002-12-31 00:00:00</td><td style=\"text-align: right;\">                                                                                       $7,094,162.91</td></tr>\n",
       "<tr><td style=\"text-align: right;\">2003-12-31 00:00:00</td><td style=\"text-align: right;\">                                                                                       $7,342,458.61</td></tr>\n",
       "<tr><td style=\"text-align: right;\">2004-12-31 00:00:00</td><td style=\"text-align: right;\">                                                                                       $7,599,444.66</td></tr>\n",
       "<tr><td style=\"text-align: right;\">2005-12-31 00:00:00</td><td style=\"text-align: right;\">                                                                                       $7,865,425.23</td></tr>\n",
       "<tr><td style=\"text-align: right;\">2006-12-31 00:00:00</td><td style=\"text-align: right;\">                                                                                       $8,140,715.11</td></tr>\n",
       "<tr><td style=\"text-align: right;\">2007-12-31 00:00:00</td><td style=\"text-align: right;\">                                                                                       $8,425,640.14</td></tr>\n",
       "<tr><td style=\"text-align: right;\">2008-12-31 00:00:00</td><td style=\"text-align: right;\">                                                                                       $8,720,537.54</td></tr>\n",
       "<tr><td style=\"text-align: right;\">2009-12-31 00:00:00</td><td style=\"text-align: right;\">                                                                                       $9,025,756.36</td></tr>\n",
       "<tr><td style=\"text-align: right;\">2010-12-31 00:00:00</td><td style=\"text-align: right;\">                                                                                       $9,341,657.83</td></tr>\n",
       "<tr><td style=\"text-align: right;\">2011-12-31 00:00:00</td><td style=\"text-align: right;\">                                                                                       $9,668,615.85</td></tr>\n",
       "</tbody>\n",
       "</table>"
      ],
      "text/plain": [
       "<rangekeeper.flux.Flow at 0x2c17b6850>"
      ]
     },
     "execution_count": 25,
     "metadata": {},
     "output_type": "execute_result"
    }
   ],
   "source": [
    "buildingAhotel['subtotal_egi'].sum()"
   ]
  },
  {
   "cell_type": "code",
   "execution_count": 26,
   "metadata": {
    "ExecuteTime": {
     "end_time": "2024-03-14T12:20:30.670055Z",
     "start_time": "2024-03-14T12:20:30.666341Z"
    },
    "collapsed": false
   },
   "outputs": [
    {
     "data": {
      "text/html": [
       "<table>\n",
       "<thead>\n",
       "<tr><th style=\"text-align: right;\">               date</th><th style=\"text-align: right;\">  Effective Gross Income for c0348c0f-a31f-421b-b6bc-0fe0d5ea947f [buildingAhotel] Aggregation (sum)</th></tr>\n",
       "</thead>\n",
       "<tbody>\n",
       "<tr><td style=\"text-align: right;\">2011-12-31 00:00:00</td><td style=\"text-align: right;\">                                                                                      $90,078,677.93</td></tr>\n",
       "</tbody>\n",
       "</table>"
      ],
      "text/plain": [
       "<rangekeeper.flux.Flow at 0x2c1793dd0>"
      ]
     },
     "execution_count": 26,
     "metadata": {},
     "output_type": "execute_result"
    }
   ],
   "source": [
    "buildingAhotel['subtotal_egi'].sum().collapse()"
   ]
  },
  {
   "cell_type": "code",
   "execution_count": 27,
   "metadata": {
    "ExecuteTime": {
     "end_time": "2024-03-14T12:20:31.110096Z",
     "start_time": "2024-03-14T12:20:30.670849Z"
    },
    "collapsed": false
   },
   "outputs": [
    {
     "data": {
      "text/html": [
       "\n",
       "        <iframe\n",
       "            width=\"100%\"\n",
       "            height=\"1600\"\n",
       "            src=\"./aggregate_egis_chart.html\"\n",
       "            frameborder=\"0\"\n",
       "            allowfullscreen\n",
       "            \n",
       "        ></iframe>\n",
       "        "
      ],
      "text/plain": [
       "<IPython.lib.display.IFrame at 0x2c1757b50>"
      ]
     },
     "execution_count": 27,
     "metadata": {},
     "output_type": "execute_result"
    }
   ],
   "source": [
    "sunburst = spatial_containment.sunburst(property='subtotal_egi')\n",
    "treemap = spatial_containment.treemap(property='subtotal_egi')\n",
    "fig = plotly.subplots.make_subplots(\n",
    "    rows=2, cols=1,\n",
    "    specs=[[{\"type\": \"sunburst\"}], [{\"type\": \"treemap\"}]],\n",
    "    subplot_titles=('Effective Gross Income - Sunburst Plot', 'Effective Gross Income - Treemap Plot'))\n",
    "fig.append_trace(sunburst, row=1, col=1)\n",
    "fig.append_trace(treemap, row=2, col=1)\n",
    "filename='aggregate_egis_chart.html'\n",
    "\n",
    "py.plot(fig, filename=f'assets/{filename}', auto_open=False)\n",
    "IFrame(src=f'./{filename}', width='100%', height=800 * len(fig.data))"
   ]
  },
  {
   "cell_type": "code",
   "execution_count": 28,
   "metadata": {
    "ExecuteTime": {
     "end_time": "2024-03-14T12:20:31.117104Z",
     "start_time": "2024-03-14T12:20:31.112038Z"
    },
    "collapsed": false
   },
   "outputs": [],
   "source": [
    "# Aggregate Facade Areas:\n",
    "for (entityId, entity) in property.get_entities().items():\n",
    "    if hasattr(entity, 'perimeter') & hasattr(entity, 'ftf'):\n",
    "        entity['facade_area'] = entity['perimeter'] * entity['ftf']\n",
    "spatial_containment.aggregate(\n",
    "    property='facade_area',\n",
    "    label='subtotal_facade_area')"
   ]
  },
  {
   "cell_type": "code",
   "execution_count": 29,
   "metadata": {
    "ExecuteTime": {
     "end_time": "2024-03-14T12:20:31.120253Z",
     "start_time": "2024-03-14T12:20:31.117919Z"
    },
    "collapsed": false
   },
   "outputs": [],
   "source": [
    "floor_opex_per_area_pa = dict(\n",
    "    hotel=-175,\n",
    "    retail=-225,\n",
    "    residential=-125,\n",
    "    parking=-65,\n",
    "    )\n",
    "facade_opex_per_area_pa = dict(\n",
    "    hotel=-50,\n",
    "    retail=-100,\n",
    "    residential=-50,\n",
    "    parking=-25,\n",
    "    )\n",
    "opex_growth_rate = 0.035\n",
    "floor_capex_per_area_pa = dict(\n",
    "    hotel=-100,\n",
    "    retail=-150,\n",
    "    residential=-75,\n",
    "    parking=-50,\n",
    "    )\n",
    "cores_capex_per_vol_pa = -100\n",
    "plant_capex_per_vol_pa = -1000\n",
    "capex_growth_rate = 0.035"
   ]
  },
  {
   "cell_type": "code",
   "execution_count": 30,
   "metadata": {
    "ExecuteTime": {
     "end_time": "2024-03-14T12:20:31.122963Z",
     "start_time": "2024-03-14T12:20:31.121032Z"
    },
    "collapsed": false
   },
   "outputs": [],
   "source": [
    "class Costs:\n",
    "    def __init__(\n",
    "            self,\n",
    "            params: dict,\n",
    "            spans: Spans):\n",
    "        self.params = params\n",
    "        self.spans = spans"
   ]
  },
  {
   "cell_type": "code",
   "execution_count": 31,
   "metadata": {
    "ExecuteTime": {
     "end_time": "2024-03-14T12:20:31.127085Z",
     "start_time": "2024-03-14T12:20:31.123548Z"
    },
    "collapsed": false
   },
   "outputs": [],
   "source": [
    "@rk.update_class(Costs)\n",
    "class Costs:\n",
    "    def generate_space_costs(self):\n",
    "        floor_opex = rk.flux.Flow.from_projection(\n",
    "            name='Floor-derived Operating Expenses',\n",
    "            value=self.params['initial_floor_opex'],\n",
    "            proj=rk.projection.Extrapolation(\n",
    "            form=rk.extrapolation.Compounding(\n",
    "                rate=self.params['opex_growth_rate']),\n",
    "            sequence=self.spans.calc_span.to_sequence(frequency=self.params['frequency'])),\n",
    "            units=currency.units)\n",
    "        facade_opex = rk.flux.Flow.from_projection(\n",
    "            name='Facade-derived Operating Expenses',\n",
    "            value=self.params['initial_facade_opex'],\n",
    "            proj=rk.projection.Extrapolation(\n",
    "            form=rk.extrapolation.Compounding(\n",
    "                rate=self.params['opex_growth_rate']),\n",
    "            sequence=self.spans.calc_span.to_sequence(frequency=self.params['frequency'])),\n",
    "            units=currency.units)\n",
    "        self.opex = rk.flux.Stream(\n",
    "            name='Space Operating Expenses',\n",
    "            flows=[floor_opex, facade_opex],\n",
    "            frequency=self.params['frequency'])\n",
    "\n",
    "        floor_capex = rk.flux.Flow.from_projection(\n",
    "            name='Floor-derived Capital Expenses',\n",
    "            value=self.params['initial_floor_capex'],\n",
    "            proj=rk.projection.Extrapolation(\n",
    "            form=rk.extrapolation.Compounding(\n",
    "                rate=self.params['capex_growth_rate']),\n",
    "            sequence=self.spans.calc_span.to_sequence(frequency=rk.duration.Type.SEMIDECADE)),\n",
    "            units=currency.units)\n",
    "        self.floor_capex = floor_capex.trim_to_span(self.spans.calc_span)  # This is to avoid issues with using >yearly periodicity in projection"
   ]
  },
  {
   "cell_type": "code",
   "execution_count": 32,
   "metadata": {
    "ExecuteTime": {
     "end_time": "2024-03-14T12:20:31.130241Z",
     "start_time": "2024-03-14T12:20:31.127828Z"
    },
    "collapsed": false
   },
   "outputs": [],
   "source": [
    "@rk.update_class(Costs)\n",
    "class Costs:\n",
    "    def generate_utils_costs(self):\n",
    "        utils_capex = rk.flux.Flow.from_projection(\n",
    "            name='Utilities-derived Capital Expenses',\n",
    "            value=self.params['initial_utility_capex'],\n",
    "            proj=rk.projection.Extrapolation(\n",
    "                form=rk.extrapolation.Compounding(\n",
    "                    rate=self.params['capex_growth_rate']),\n",
    "                sequence=self.spans.calc_span.to_sequence(frequency=rk.duration.Type.SEMIDECADE)),\n",
    "            units=currency.units)\n",
    "        self.utils_capex = utils_capex.trim_to_span(self.spans.calc_span)  # This is to avoid issues with using >yearly periodicity in projection"
   ]
  },
  {
   "cell_type": "code",
   "execution_count": 33,
   "metadata": {
    "ExecuteTime": {
     "end_time": "2024-03-14T12:20:31.251682Z",
     "start_time": "2024-03-14T12:20:31.130753Z"
    },
    "collapsed": false
   },
   "outputs": [],
   "source": [
    "for floor in floors:\n",
    "    floor_params = params.copy()\n",
    "\n",
    "    floor_params['initial_floor_opex'] = floor_opex_per_area_pa[floor['use']] * floor['subtotal_gfa']\n",
    "    floor_params['initial_facade_opex'] = facade_opex_per_area_pa[floor['use']] * floor['subtotal_facade_area']\n",
    "    floor_params['initial_floor_capex'] = floor_capex_per_area_pa[floor['use']] * floor['subtotal_gfa']\n",
    "    floor_params['opex_growth_rate'] = opex_growth_rate\n",
    "    floor_params['capex_growth_rate'] = capex_growth_rate\n",
    "    floor['params'] = floor_params\n",
    "\n",
    "    floor['events'] = {} if not hasattr(floor, 'events') else floor['events']\n",
    "\n",
    "    costs = Costs(\n",
    "        params=floor_params,\n",
    "        spans=spans)\n",
    "    costs.generate_space_costs()\n",
    "\n",
    "    floor['opex'] = costs.opex\n",
    "    floor['capex'] = costs.floor_capex"
   ]
  },
  {
   "cell_type": "code",
   "execution_count": 34,
   "metadata": {
    "ExecuteTime": {
     "end_time": "2024-03-14T12:20:31.254445Z",
     "start_time": "2024-03-14T12:20:31.252515Z"
    },
    "collapsed": false
   },
   "outputs": [],
   "source": [
    "utilities = property.filter_by_type(entity_type='utilities', is_assembly=False)"
   ]
  },
  {
   "cell_type": "code",
   "execution_count": 35,
   "metadata": {
    "ExecuteTime": {
     "end_time": "2024-03-14T12:34:01.399338Z",
     "start_time": "2024-03-14T12:34:01.396604Z"
    },
    "collapsed": false
   },
   "outputs": [
    {
     "data": {
      "text/plain": [
       "['9b2992a4e98e81b6f2c4b8a57c5dbcf5',\n",
       " '90da8a6faba34db1ce909900e215019a',\n",
       " '14147098f0b31f4846dd7144529defd7']"
      ]
     },
     "execution_count": 35,
     "metadata": {},
     "output_type": "execute_result"
    }
   ],
   "source": [
    "key = 'type'\n",
    "isolated_ids = [entity['id'] for entity in utilities.get_entities().values()]\n",
    "isolated_ids"
   ]
  },
  {
   "cell_type": "code",
   "execution_count": 36,
   "metadata": {
    "ExecuteTime": {
     "end_time": "2024-03-14T12:20:31.260491Z",
     "start_time": "2024-03-14T12:20:31.257810Z"
    },
    "collapsed": false
   },
   "outputs": [
    {
     "data": {
      "text/html": [
       "\n",
       "        <iframe\n",
       "            width=\"100%\"\n",
       "            height=\"800\"\n",
       "            src=\"https://speckle.xyz/streams/c0f66c35e3/commits/9a9670946f?filter=%7B%22propertyInfoKey%22%3A%20%22type%22%2C%20%22isolatedIds%22%3A%20%5B%229b2992a4e98e81b6f2c4b8a57c5dbcf5%22%2C%20%2290da8a6faba34db1ce909900e215019a%22%2C%20%2214147098f0b31f4846dd7144529defd7%22%5D%7D\"\n",
       "            frameborder=\"0\"\n",
       "            allowfullscreen\n",
       "            \n",
       "        ></iframe>\n",
       "        "
      ],
      "text/plain": [
       "<IPython.lib.display.IFrame at 0x2c44c65d0>"
      ]
     },
     "execution_count": 36,
     "metadata": {},
     "output_type": "execute_result"
    }
   ],
   "source": [
    "url = 'https://speckle.xyz/streams/{0}/commits/{1}?filter={2}'.format(\n",
    "    stream_id,\n",
    "    commit_id,\n",
    "    urllib.parse.quote(json.dumps(\n",
    "        dict(\n",
    "            propertyInfoKey = key,\n",
    "            isolatedIds = isolated_ids))))\n",
    "IFrame(url, width='100%', height=800)"
   ]
  },
  {
   "cell_type": "code",
   "execution_count": 37,
   "metadata": {
    "ExecuteTime": {
     "end_time": "2024-03-14T12:34:30.984609Z",
     "start_time": "2024-03-14T12:34:30.981452Z"
    },
    "collapsed": false
   },
   "outputs": [
    {
     "data": {
      "text/plain": [
       "'https://speckle.xyz/streams/c0f66c35e3/commits/9a9670946f?filter=%7B%22propertyInfoKey%22%3A%20%22type%22%2C%20%22isolatedIds%22%3A%20%5B%229b2992a4e98e81b6f2c4b8a57c5dbcf5%22%2C%20%2290da8a6faba34db1ce909900e215019a%22%2C%20%2214147098f0b31f4846dd7144529defd7%22%5D%7D'"
      ]
     },
     "execution_count": 37,
     "metadata": {},
     "output_type": "execute_result"
    }
   ],
   "source": [
    "url"
   ]
  },
  {
   "cell_type": "code",
   "execution_count": 38,
   "metadata": {
    "ExecuteTime": {
     "end_time": "2024-03-14T12:20:31.273093Z",
     "start_time": "2024-03-14T12:20:31.267146Z"
    },
    "collapsed": false
   },
   "outputs": [],
   "source": [
    "for utility in utilities.get_entities().values():\n",
    "    utility_params = params.copy()\n",
    "\n",
    "    if 'plant' in utility['name']:\n",
    "        utility_params['initial_utility_capex'] = plant_capex_per_vol_pa * utility['volume']\n",
    "    elif 'cores' in utility['name']:\n",
    "        utility_params['initial_utility_capex'] = cores_capex_per_vol_pa * utility['volume']\n",
    "    utility_params['capex_growth_rate'] = capex_growth_rate\n",
    "    utility['params'] = utility_params\n",
    "\n",
    "    utility['events'] = {} if not hasattr(utility, 'events') else utility['events']\n",
    "\n",
    "    costs = Costs(\n",
    "        params=utility_params,\n",
    "        spans=spans)\n",
    "    costs.generate_utils_costs()\n",
    "\n",
    "    utility['capex'] = costs.utils_capex"
   ]
  },
  {
   "cell_type": "code",
   "execution_count": 39,
   "metadata": {
    "ExecuteTime": {
     "end_time": "2024-03-14T12:20:31.276897Z",
     "start_time": "2024-03-14T12:20:31.273984Z"
    },
    "collapsed": false
   },
   "outputs": [
    {
     "data": {
      "text/html": [
       "<table>\n",
       "<thead>\n",
       "<tr><th style=\"text-align: right;\">               date</th><th style=\"text-align: right;\">  Utilities-derived Capital Expenses</th></tr>\n",
       "</thead>\n",
       "<tbody>\n",
       "<tr><td style=\"text-align: right;\">2005-12-31 00:00:00</td><td style=\"text-align: right;\">                        -$643,105.79</td></tr>\n",
       "<tr><td style=\"text-align: right;\">2010-12-31 00:00:00</td><td style=\"text-align: right;\">                        -$665,614.49</td></tr>\n",
       "</tbody>\n",
       "</table>"
      ],
      "text/plain": [
       "<rangekeeper.flux.Flow at 0x2c473ded0>"
      ]
     },
     "execution_count": 39,
     "metadata": {},
     "output_type": "execute_result"
    }
   ],
   "source": [
    "list(utilities.get_entities().values())[0]['capex']"
   ]
  },
  {
   "cell_type": "code",
   "execution_count": 40,
   "metadata": {
    "ExecuteTime": {
     "end_time": "2024-03-14T12:20:31.476340Z",
     "start_time": "2024-03-14T12:20:31.277565Z"
    },
    "collapsed": false
   },
   "outputs": [],
   "source": [
    "def aggregate_opex(**kwargs):\n",
    "    return rk.graph.Entity.aggregate_flows(\n",
    "        **kwargs,\n",
    "        name='Operational Expenses',\n",
    "        frequency=frequency)\n",
    "property.aggregate(\n",
    "    function=aggregate_opex,\n",
    "    property='opex',\n",
    "    label='subtotal_opex',\n",
    "    relationship_type='spatiallyContains')"
   ]
  },
  {
   "cell_type": "code",
   "execution_count": 41,
   "metadata": {
    "ExecuteTime": {
     "end_time": "2024-03-14T12:20:31.587677Z",
     "start_time": "2024-03-14T12:20:31.477006Z"
    },
    "collapsed": false
   },
   "outputs": [],
   "source": [
    "def aggregate_capex(**kwargs):\n",
    "    return rk.graph.Entity.aggregate_flows(\n",
    "        **kwargs,\n",
    "        name='Capital Expenses',\n",
    "        frequency=frequency)\n",
    "property.aggregate(\n",
    "    function=aggregate_capex,\n",
    "    property='capex',\n",
    "    label='subtotal_capex',\n",
    "    relationship_type='spatiallyContains')"
   ]
  },
  {
   "cell_type": "code",
   "execution_count": 42,
   "metadata": {
    "ExecuteTime": {
     "end_time": "2024-03-14T12:20:31.592973Z",
     "start_time": "2024-03-14T12:20:31.588369Z"
    },
    "collapsed": false
   },
   "outputs": [],
   "source": [
    "property_opex = property.get_roots()['spatiallyContains'][0]['subtotal_opex'].sum()\n",
    "property_capex = property.get_roots()['spatiallyContains'][0]['subtotal_capex'].sum()"
   ]
  },
  {
   "cell_type": "code",
   "execution_count": 43,
   "metadata": {
    "ExecuteTime": {
     "end_time": "2024-03-14T12:20:31.595990Z",
     "start_time": "2024-03-14T12:20:31.593737Z"
    },
    "collapsed": false
   },
   "outputs": [
    {
     "name": "stdout",
     "output_type": "stream",
     "text": [
      "Property Average Periodic OPEX: $-7,488,734.31\n",
      "Property Average Periodic CAPEX: $-2,007,558.91\n"
     ]
    }
   ],
   "source": [
    "print('Property Average Periodic OPEX: ${:,.2f}'.format(property_opex.movements.mean()))\n",
    "print('Property Average Periodic CAPEX: ${:,.2f}'.format(property_capex.movements.mean()))"
   ]
  },
  {
   "cell_type": "code",
   "execution_count": 44,
   "metadata": {
    "ExecuteTime": {
     "end_time": "2024-03-14T12:20:31.599079Z",
     "start_time": "2024-03-14T12:20:31.596765Z"
    },
    "collapsed": false
   },
   "outputs": [],
   "source": [
    "def aggregate_pgis(**kwargs):\n",
    "    return rk.graph.Entity.aggregate_flows(\n",
    "        **kwargs,\n",
    "        name='Potential Gross Income',\n",
    "        frequency=frequency)"
   ]
  },
  {
   "cell_type": "code",
   "execution_count": 45,
   "metadata": {
    "ExecuteTime": {
     "end_time": "2024-03-14T12:20:31.699205Z",
     "start_time": "2024-03-14T12:20:31.599884Z"
    },
    "collapsed": false
   },
   "outputs": [],
   "source": [
    "spatial_containment.aggregate(\n",
    "    property='pgi',\n",
    "    function=aggregate_pgis,\n",
    "    label='subtotal_pgi')"
   ]
  },
  {
   "cell_type": "code",
   "execution_count": 46,
   "metadata": {
    "ExecuteTime": {
     "end_time": "2024-03-14T12:20:31.704045Z",
     "start_time": "2024-03-14T12:20:31.700159Z"
    },
    "collapsed": false
   },
   "outputs": [
    {
     "name": "stdout",
     "output_type": "stream",
     "text": [
      "Property Average Periodic PGI: $18,918,012.54\n"
     ]
    }
   ],
   "source": [
    "property_pgi = property.get_roots()['spatiallyContains'][0]['subtotal_pgi'].sum()\n",
    "print('Property Average Periodic PGI: ${:,.2f}'.format(property_pgi.movements.mean()))"
   ]
  },
  {
   "cell_type": "code",
   "execution_count": 47,
   "metadata": {
    "ExecuteTime": {
     "end_time": "2024-03-14T12:20:31.706554Z",
     "start_time": "2024-03-14T12:20:31.704734Z"
    },
    "collapsed": false
   },
   "outputs": [
    {
     "name": "stdout",
     "output_type": "stream",
     "text": [
      "Property OpEx as proportion of PGI: 39.59%\n"
     ]
    }
   ],
   "source": [
    "print('Property OpEx as proportion of PGI: {:.2%}'.format(-property_opex.movements.mean() / property_pgi.movements.mean()))"
   ]
  },
  {
   "cell_type": "code",
   "execution_count": 48,
   "metadata": {
    "ExecuteTime": {
     "end_time": "2024-03-14T12:20:31.708952Z",
     "start_time": "2024-03-14T12:20:31.707165Z"
    },
    "collapsed": false
   },
   "outputs": [
    {
     "name": "stdout",
     "output_type": "stream",
     "text": [
      "Property CapEx as proportion of PGI: 10.61%\n"
     ]
    }
   ],
   "source": [
    "print('Property CapEx as proportion of PGI: {:.2%}'.format(-property_capex.movements.mean() / property_pgi.movements.mean()))"
   ]
  },
  {
   "cell_type": "code",
   "execution_count": 49,
   "metadata": {
    "ExecuteTime": {
     "end_time": "2024-03-14T12:20:32.180634Z",
     "start_time": "2024-03-14T12:20:31.709530Z"
    },
    "collapsed": false
   },
   "outputs": [
    {
     "data": {
      "text/html": [
       "\n",
       "        <iframe\n",
       "            width=\"100%\"\n",
       "            height=\"1600\"\n",
       "            src=\"./aggregate_exp_chart.html\"\n",
       "            frameborder=\"0\"\n",
       "            allowfullscreen\n",
       "            \n",
       "        ></iframe>\n",
       "        "
      ],
      "text/plain": [
       "<IPython.lib.display.IFrame at 0x2c50f11d0>"
      ]
     },
     "execution_count": 49,
     "metadata": {},
     "output_type": "execute_result"
    }
   ],
   "source": [
    "opex = spatial_containment.sunburst(property='subtotal_opex')\n",
    "capex = spatial_containment.sunburst(property='subtotal_capex')\n",
    "fig = plotly.subplots.make_subplots(\n",
    "    rows=2, cols=1,\n",
    "    specs=[[{\"type\": \"sunburst\"}], [{\"type\": \"sunburst\"}]],\n",
    "    subplot_titles=('Total Operational Expenses', 'Total Capital Expenses'))\n",
    "fig.append_trace(opex, row=1, col=1)\n",
    "fig.append_trace(capex, row=2, col=1)\n",
    "filename='aggregate_exp_chart.html'\n",
    "\n",
    "py.plot(fig, filename=f'assets/{filename}', auto_open=False)\n",
    "IFrame(src=f'./{filename}', width='100%', height=800 * len(fig.data))"
   ]
  },
  {
   "cell_type": "code",
   "execution_count": 50,
   "metadata": {
    "ExecuteTime": {
     "end_time": "2024-03-14T12:20:32.360100Z",
     "start_time": "2024-03-14T12:20:32.181600Z"
    },
    "collapsed": false
   },
   "outputs": [],
   "source": [
    "for entity in property.get_entities().values():\n",
    "    noi = [getattr(entity, 'egi', None), getattr(entity, 'opex', None)]\n",
    "    noi = [flow.sum() if isinstance(flow, rk.flux.Stream) else flow for flow in list(filter(None, noi))]\n",
    "    if len(noi) > 0:\n",
    "        entity['noi'] = rk.flux.Stream(\n",
    "            name='Net Operating Income',\n",
    "            flows=noi,\n",
    "            frequency=frequency)\n",
    "        capex = getattr(entity, 'capex', None)\n",
    "        if capex is not None:\n",
    "            entity['nacf'] = rk.flux.Stream(\n",
    "                name='Net Annual Cashflow',\n",
    "                flows=entity['noi'].flows + [capex],\n",
    "                frequency=frequency)"
   ]
  },
  {
   "cell_type": "code",
   "execution_count": 51,
   "metadata": {
    "ExecuteTime": {
     "end_time": "2024-03-14T12:20:32.544403Z",
     "start_time": "2024-03-14T12:20:32.361059Z"
    },
    "collapsed": false
   },
   "outputs": [],
   "source": [
    "def aggregate_noi(**kwargs):\n",
    "    return rk.graph.Entity.aggregate_flows(\n",
    "        **kwargs,\n",
    "        name='Net Operating Income',\n",
    "        frequency=frequency)\n",
    "property.aggregate(\n",
    "    function=aggregate_noi,\n",
    "    property='noi',\n",
    "    label='subtotal_noi',\n",
    "    relationship_type='spatiallyContains')"
   ]
  },
  {
   "cell_type": "code",
   "execution_count": 52,
   "metadata": {
    "ExecuteTime": {
     "end_time": "2024-03-14T12:20:32.750511Z",
     "start_time": "2024-03-14T12:20:32.545378Z"
    },
    "collapsed": false
   },
   "outputs": [],
   "source": [
    "def aggregate_nacf(**kwargs):\n",
    "    return rk.graph.Entity.aggregate_flows(\n",
    "        **kwargs,\n",
    "        name='Net Annual Cashflow',\n",
    "        frequency=frequency)\n",
    "property.aggregate(\n",
    "    function=aggregate_nacf,\n",
    "    property='nacf',\n",
    "    label='subtotal_nacf',\n",
    "    relationship_type='spatiallyContains')"
   ]
  },
  {
   "cell_type": "code",
   "execution_count": 53,
   "metadata": {
    "ExecuteTime": {
     "end_time": "2024-03-14T12:20:32.754429Z",
     "start_time": "2024-03-14T12:20:32.751645Z"
    },
    "collapsed": false
   },
   "outputs": [],
   "source": [
    "root = property.get_roots()['spatiallyContains'][0]"
   ]
  },
  {
   "cell_type": "code",
   "execution_count": 54,
   "metadata": {
    "ExecuteTime": {
     "end_time": "2024-03-14T12:20:32.762197Z",
     "start_time": "2024-03-14T12:20:32.755283Z"
    },
    "collapsed": false
   },
   "outputs": [
    {
     "data": {
      "text/html": [
       "<table>\n",
       "<thead>\n",
       "<tr><th style=\"text-align: right;\">               date</th><th style=\"text-align: right;\">      Reversion</th></tr>\n",
       "</thead>\n",
       "<tbody>\n",
       "<tr><td style=\"text-align: right;\">2010-12-31 00:00:00</td><td style=\"text-align: right;\">$284,674,637.71</td></tr>\n",
       "</tbody>\n",
       "</table>"
      ],
      "text/plain": [
       "<rangekeeper.flux.Flow at 0x2c53ba1d0>"
      ]
     },
     "execution_count": 54,
     "metadata": {},
     "output_type": "execute_result"
    }
   ],
   "source": [
    "reversion_span = rk.span.Span.from_duration(\n",
    "    name='Reversion',\n",
    "    date=params['start_date'] + pd.DateOffset(years=9),\n",
    "    duration=params['frequency'])\n",
    "\n",
    "exit_caprate = 0.05\n",
    "reversion_flow = rk.flux.Flow.from_projection(\n",
    "    name='Reversion',\n",
    "    value=root['subtotal_nacf'].sum().movements.values[-1] / exit_caprate,\n",
    "    proj=rk.projection.Distribution(\n",
    "        form=rk.distribution.Uniform(),\n",
    "        sequence=reversion_span.to_sequence(frequency=params['frequency'])),\n",
    "    units=currency.units)\n",
    "root['reversion'] = reversion_flow\n",
    "reversion_flow"
   ]
  },
  {
   "cell_type": "code",
   "execution_count": 55,
   "metadata": {
    "ExecuteTime": {
     "end_time": "2024-03-14T12:20:32.774196Z",
     "start_time": "2024-03-14T12:20:32.762992Z"
    },
    "collapsed": false
   },
   "outputs": [
    {
     "data": {
      "text/html": [
       "<table>\n",
       "<thead>\n",
       "<tr><th style=\"text-align: right;\">  date</th><th style=\"text-align: right;\">  Net Annual Cashflow for afe8e730-ad0f-4c2a-a15c-e249e4518fa8 [property] Aggregation (sum)</th><th style=\"text-align: right;\">      Reversion</th></tr>\n",
       "</thead>\n",
       "<tbody>\n",
       "<tr><td style=\"text-align: right;\">  2001</td><td style=\"text-align: right;\">                                                                              $8,134,691.89</td><td style=\"text-align: right;\">              0</td></tr>\n",
       "<tr><td style=\"text-align: right;\">  2002</td><td style=\"text-align: right;\">                                                                              $8,599,446.40</td><td style=\"text-align: right;\">              0</td></tr>\n",
       "<tr><td style=\"text-align: right;\">  2003</td><td style=\"text-align: right;\">                                                                              $9,091,532.28</td><td style=\"text-align: right;\">              0</td></tr>\n",
       "<tr><td style=\"text-align: right;\">  2004</td><td style=\"text-align: right;\">                                                                              $9,612,601.91</td><td style=\"text-align: right;\">              0</td></tr>\n",
       "<tr><td style=\"text-align: right;\">  2005</td><td style=\"text-align: right;\">                                                                              $6,862,704.94</td><td style=\"text-align: right;\">              0</td></tr>\n",
       "<tr><td style=\"text-align: right;\">  2006</td><td style=\"text-align: right;\">                                                                             $10,748,821.65</td><td style=\"text-align: right;\">              0</td></tr>\n",
       "<tr><td style=\"text-align: right;\">  2007</td><td style=\"text-align: right;\">                                                                             $11,367,816.34</td><td style=\"text-align: right;\">              0</td></tr>\n",
       "<tr><td style=\"text-align: right;\">  2008</td><td style=\"text-align: right;\">                                                                             $12,023,498.34</td><td style=\"text-align: right;\">              0</td></tr>\n",
       "<tr><td style=\"text-align: right;\">  2009</td><td style=\"text-align: right;\">                                                                             $12,718,103.14</td><td style=\"text-align: right;\">              0</td></tr>\n",
       "<tr><td style=\"text-align: right;\">  2010</td><td style=\"text-align: right;\">                                                                             $10,036,741.15</td><td style=\"text-align: right;\">$284,674,637.71</td></tr>\n",
       "</tbody>\n",
       "</table>"
      ],
      "text/plain": [
       "<rangekeeper.flux.Stream at 0x2c5654c10>"
      ]
     },
     "execution_count": 55,
     "metadata": {},
     "output_type": "execute_result"
    }
   ],
   "source": [
    "net_cashflows_with_reversion = (rk.flux.Stream(\n",
    "    name='Net Cashflow with Reversion',\n",
    "    flows=[root['subtotal_nacf'].sum(), root['reversion']],\n",
    "    frequency=rk.duration.Type.YEAR)\n",
    "        .trim_to_span(\n",
    "            rk.span.Span(\n",
    "                start_date=params['start_date'],\n",
    "                end_date=reversion_span.end_date)\n",
    "    )\n",
    ")\n",
    "root['nacf_reversion'] = net_cashflows_with_reversion\n",
    "net_cashflows_with_reversion"
   ]
  },
  {
   "cell_type": "code",
   "execution_count": 56,
   "metadata": {
    "ExecuteTime": {
     "end_time": "2024-03-14T12:20:32.796695Z",
     "start_time": "2024-03-14T12:20:32.775Z"
    },
    "collapsed": false
   },
   "outputs": [
    {
     "data": {
      "text/html": [
       "<table>\n",
       "<thead>\n",
       "<tr><th style=\"text-align: right;\">  date</th><th style=\"text-align: right;\">  Effective Gross Income for afe8e730-ad0f-4c2a-a15c-e249e4518fa8 [property] Aggregation (sum)</th><th style=\"text-align: right;\">  Operational Expenses for afe8e730-ad0f-4c2a-a15c-e249e4518fa8 [property] Aggregation (sum)</th><th style=\"text-align: right;\">  Net Operating Income for afe8e730-ad0f-4c2a-a15c-e249e4518fa8 [property] Aggregation (sum)</th><th style=\"text-align: right;\">  Capital Expenses for afe8e730-ad0f-4c2a-a15c-e249e4518fa8 [property] Aggregation (sum)</th><th style=\"text-align: right;\">  Net Annual Cashflow for afe8e730-ad0f-4c2a-a15c-e249e4518fa8 [property] Aggregation (sum)</th><th style=\"text-align: right;\">      Reversion</th><th style=\"text-align: right;\">  Net Cashflow with Reversion (sum)</th></tr>\n",
       "</thead>\n",
       "<tbody>\n",
       "<tr><td style=\"text-align: right;\">  2001</td><td style=\"text-align: right;\">                                                                                $14,402,849.55</td><td style=\"text-align: right;\">                                                                              -$6,268,157.66</td><td style=\"text-align: right;\">                                                                               $8,134,691.89</td><td style=\"text-align: right;\">                                                                                       0</td><td style=\"text-align: right;\">                                                                              $8,134,691.89</td><td style=\"text-align: right;\">              0</td><td style=\"text-align: right;\">                      $8,134,691.89</td></tr>\n",
       "<tr><td style=\"text-align: right;\">  2002</td><td style=\"text-align: right;\">                                                                                $15,086,989.58</td><td style=\"text-align: right;\">                                                                              -$6,487,543.18</td><td style=\"text-align: right;\">                                                                               $8,599,446.40</td><td style=\"text-align: right;\">                                                                                       0</td><td style=\"text-align: right;\">                                                                              $8,599,446.40</td><td style=\"text-align: right;\">              0</td><td style=\"text-align: right;\">                      $8,599,446.40</td></tr>\n",
       "<tr><td style=\"text-align: right;\">  2003</td><td style=\"text-align: right;\">                                                                                $15,806,139.47</td><td style=\"text-align: right;\">                                                                              -$6,714,607.19</td><td style=\"text-align: right;\">                                                                               $9,091,532.28</td><td style=\"text-align: right;\">                                                                                       0</td><td style=\"text-align: right;\">                                                                              $9,091,532.28</td><td style=\"text-align: right;\">              0</td><td style=\"text-align: right;\">                      $9,091,532.28</td></tr>\n",
       "<tr><td style=\"text-align: right;\">  2004</td><td style=\"text-align: right;\">                                                                                $16,562,220.35</td><td style=\"text-align: right;\">                                                                              -$6,949,618.44</td><td style=\"text-align: right;\">                                                                               $9,612,601.91</td><td style=\"text-align: right;\">                                                                                       0</td><td style=\"text-align: right;\">                                                                              $9,612,601.91</td><td style=\"text-align: right;\">              0</td><td style=\"text-align: right;\">                      $9,612,601.91</td></tr>\n",
       "<tr><td style=\"text-align: right;\">  2005</td><td style=\"text-align: right;\">                                                                                $17,357,265.38</td><td style=\"text-align: right;\">                                                                              -$7,192,855.09</td><td style=\"text-align: right;\">                                                                              $10,164,410.29</td><td style=\"text-align: right;\">                                                                          -$5,919,092.61</td><td style=\"text-align: right;\">                                                                              $6,862,704.94</td><td style=\"text-align: right;\">              0</td><td style=\"text-align: right;\">                      $6,862,704.94</td></tr>\n",
       "<tr><td style=\"text-align: right;\">  2006</td><td style=\"text-align: right;\">                                                                                $18,193,426.66</td><td style=\"text-align: right;\">                                                                              -$7,444,605.02</td><td style=\"text-align: right;\">                                                                              $10,748,821.65</td><td style=\"text-align: right;\">                                                                                   $0.00</td><td style=\"text-align: right;\">                                                                             $10,748,821.65</td><td style=\"text-align: right;\">              0</td><td style=\"text-align: right;\">                     $10,748,821.65</td></tr>\n",
       "<tr><td style=\"text-align: right;\">  2007</td><td style=\"text-align: right;\">                                                                                $19,072,982.53</td><td style=\"text-align: right;\">                                                                              -$7,705,166.19</td><td style=\"text-align: right;\">                                                                              $11,367,816.34</td><td style=\"text-align: right;\">                                                                                   $0.00</td><td style=\"text-align: right;\">                                                                             $11,367,816.34</td><td style=\"text-align: right;\">              0</td><td style=\"text-align: right;\">                     $11,367,816.34</td></tr>\n",
       "<tr><td style=\"text-align: right;\">  2008</td><td style=\"text-align: right;\">                                                                                $19,998,345.35</td><td style=\"text-align: right;\">                                                                              -$7,974,847.01</td><td style=\"text-align: right;\">                                                                              $12,023,498.34</td><td style=\"text-align: right;\">                                                                                   $0.00</td><td style=\"text-align: right;\">                                                                             $12,023,498.34</td><td style=\"text-align: right;\">              0</td><td style=\"text-align: right;\">                     $12,023,498.34</td></tr>\n",
       "<tr><td style=\"text-align: right;\">  2009</td><td style=\"text-align: right;\">                                                                                $20,972,069.80</td><td style=\"text-align: right;\">                                                                              -$8,253,966.66</td><td style=\"text-align: right;\">                                                                              $12,718,103.14</td><td style=\"text-align: right;\">                                                                                   $0.00</td><td style=\"text-align: right;\">                                                                             $12,718,103.14</td><td style=\"text-align: right;\">              0</td><td style=\"text-align: right;\">                     $12,718,103.14</td></tr>\n",
       "<tr><td style=\"text-align: right;\">  2010</td><td style=\"text-align: right;\">                                                                                $21,996,861.68</td><td style=\"text-align: right;\">                                                                              -$8,542,855.49</td><td style=\"text-align: right;\">                                                                              $13,454,006.19</td><td style=\"text-align: right;\">                                                                          -$6,126,260.85</td><td style=\"text-align: right;\">                                                                             $10,036,741.15</td><td style=\"text-align: right;\">$284,674,637.71</td><td style=\"text-align: right;\">                    $294,711,378.86</td></tr>\n",
       "<tr><td style=\"text-align: right;\">  2011</td><td style=\"text-align: right;\">                                                                                $23,075,587.32</td><td style=\"text-align: right;\">                                                                              -$8,841,855.43</td><td style=\"text-align: right;\">                                                                              $14,233,731.89</td><td style=\"text-align: right;\">                                                                                       0</td><td style=\"text-align: right;\">                                                                             $14,233,731.89</td><td style=\"text-align: right;\">              0</td><td style=\"text-align: right;\">                                  0</td></tr>\n",
       "</tbody>\n",
       "</table>"
      ],
      "text/plain": [
       "<rangekeeper.flux.Stream at 0x2c56487d0>"
      ]
     },
     "execution_count": 56,
     "metadata": {},
     "output_type": "execute_result"
    }
   ],
   "source": [
    "table = rk.flux.Stream(\n",
    "    name='Table 1.1',\n",
    "    flows=[\n",
    "        root['subtotal_egi'].sum(),\n",
    "        root['subtotal_opex'].sum(),\n",
    "        root['subtotal_noi'].sum(),\n",
    "        root['subtotal_capex'].sum(),\n",
    "        root['subtotal_nacf'].sum(),\n",
    "        root['reversion'],\n",
    "        root['nacf_reversion'].sum()\n",
    "        ],\n",
    "    frequency=rk.duration.Type.YEAR\n",
    "    )\n",
    "table"
   ]
  },
  {
   "cell_type": "code",
   "execution_count": 57,
   "metadata": {
    "ExecuteTime": {
     "end_time": "2024-03-14T12:20:32.802855Z",
     "start_time": "2024-03-14T12:20:32.797394Z"
    },
    "collapsed": false
   },
   "outputs": [
    {
     "data": {
      "text/html": [
       "<table>\n",
       "<thead>\n",
       "<tr><th style=\"text-align: right;\">               date</th><th style=\"text-align: right;\">  Present Value</th></tr>\n",
       "</thead>\n",
       "<tbody>\n",
       "<tr><td style=\"text-align: right;\">2001-12-31 00:00:00</td><td style=\"text-align: right;\">  $7,602,515.78</td></tr>\n",
       "<tr><td style=\"text-align: right;\">2002-12-31 00:00:00</td><td style=\"text-align: right;\">  $7,511,089.53</td></tr>\n",
       "<tr><td style=\"text-align: right;\">2003-12-31 00:00:00</td><td style=\"text-align: right;\">  $7,421,398.50</td></tr>\n",
       "<tr><td style=\"text-align: right;\">2004-12-31 00:00:00</td><td style=\"text-align: right;\">  $7,333,407.97</td></tr>\n",
       "<tr><td style=\"text-align: right;\">2005-12-31 00:00:00</td><td style=\"text-align: right;\">  $4,893,013.78</td></tr>\n",
       "<tr><td style=\"text-align: right;\">2006-12-31 00:00:00</td><td style=\"text-align: right;\">  $7,162,393.72</td></tr>\n",
       "<tr><td style=\"text-align: right;\">2007-12-31 00:00:00</td><td style=\"text-align: right;\">  $7,079,304.69</td></tr>\n",
       "<tr><td style=\"text-align: right;\">2008-12-31 00:00:00</td><td style=\"text-align: right;\">  $6,997,785.50</td></tr>\n",
       "<tr><td style=\"text-align: right;\">2009-12-31 00:00:00</td><td style=\"text-align: right;\">  $6,917,805.44</td></tr>\n",
       "<tr><td style=\"text-align: right;\">2010-12-31 00:00:00</td><td style=\"text-align: right;\">$149,816,320.83</td></tr>\n",
       "</tbody>\n",
       "</table>"
      ],
      "text/plain": [
       "<rangekeeper.flux.Flow at 0x2c557af50>"
      ]
     },
     "execution_count": 57,
     "metadata": {},
     "output_type": "execute_result"
    }
   ],
   "source": [
    "discount_rate = 0.07\n",
    "pvs = root['nacf_reversion'].sum().pv(\n",
    "    name='Present Value',\n",
    "    frequency=rk.duration.Type.YEAR,\n",
    "    rate=discount_rate)\n",
    "pvs"
   ]
  },
  {
   "cell_type": "code",
   "execution_count": 58,
   "metadata": {
    "ExecuteTime": {
     "end_time": "2024-03-14T12:20:32.805659Z",
     "start_time": "2024-03-14T12:20:32.803476Z"
    },
    "collapsed": false
   },
   "outputs": [
    {
     "name": "stdout",
     "output_type": "stream",
     "text": [
      "Property PV: $212,735,036\n"
     ]
    }
   ],
   "source": [
    "property_pv = pvs.collapse().movements.item()\n",
    "print('Property PV: ${:,.0f}'.format(property_pv))"
   ]
  }
 ],
 "metadata": {
  "kernelspec": {
   "display_name": "Python 3 (ipykernel)",
   "language": "python",
   "name": "python3"
  },
  "language_info": {
   "codemirror_mode": {
    "name": "ipython",
    "version": 3
   },
   "file_extension": ".py",
   "mimetype": "text/x-python",
   "name": "python",
   "nbconvert_exporter": "python",
   "pygments_lexer": "ipython3",
   "version": "3.11.8"
  }
 },
 "nbformat": 4,
 "nbformat_minor": 1
}