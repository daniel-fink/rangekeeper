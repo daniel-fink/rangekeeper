{
 "cells": [
  {
   "cell_type": "code",
   "execution_count": 1,
   "metadata": {
    "ExecuteTime": {
     "end_time": "2023-05-18T10:16:37.886922Z",
     "start_time": "2023-05-18T10:16:37.136304Z"
    },
    "collapsed": false
   },
   "outputs": [],
   "source": [
    "import locale\n",
    "import pandas as pd\n",
    "import seaborn as sns\n",
    "\n",
    "import rangekeeper as rk"
   ]
  },
  {
   "cell_type": "code",
   "execution_count": 2,
   "metadata": {
    "ExecuteTime": {
     "end_time": "2023-05-18T10:16:37.916745Z",
     "start_time": "2023-05-18T10:16:37.889483Z"
    },
    "collapsed": false
   },
   "outputs": [],
   "source": [
    "locale.setlocale(locale.LC_ALL, 'en_au')\n",
    "units = rk.measure.Index.registry\n",
    "currency = rk.measure.register_currency(registry=units)"
   ]
  },
  {
   "cell_type": "code",
   "execution_count": 3,
   "metadata": {
    "ExecuteTime": {
     "end_time": "2023-05-18T10:16:37.926170Z",
     "start_time": "2023-05-18T10:16:37.916503Z"
    },
    "collapsed": false
   },
   "outputs": [],
   "source": [
    "iterations = 2000"
   ]
  },
  {
   "cell_type": "code",
   "execution_count": 4,
   "metadata": {
    "ExecuteTime": {
     "end_time": "2023-05-18T10:16:37.926352Z",
     "start_time": "2023-05-18T10:16:37.919852Z"
    },
    "collapsed": false
   },
   "outputs": [],
   "source": [
    "period_type = rk.periodicity.Type.YEAR\n",
    "span = rk.span.Span.from_num_periods(\n",
    "    name=\"Span\",\n",
    "    date=pd.Timestamp(2000, 1, 1),\n",
    "    period_type=period_type,\n",
    "    num_periods=25)\n",
    "sequence = span.to_index(period_type=period_type)"
   ]
  },
  {
   "cell_type": "code",
   "execution_count": 5,
   "metadata": {
    "ExecuteTime": {
     "end_time": "2023-05-18T10:16:37.930226Z",
     "start_time": "2023-05-18T10:16:37.925852Z"
    },
    "collapsed": false
   },
   "outputs": [],
   "source": [
    "growth_rate_dist = rk.distribution.Symmetric(\n",
    "    type=rk.distribution.Type.TRIANGULAR,\n",
    "    mean=-.0005,\n",
    "    residual=.005)\n",
    "initial_value_dist = rk.distribution.Symmetric(\n",
    "    type=rk.distribution.Type.TRIANGULAR,\n",
    "    mean=.05,\n",
    "    residual=.005)"
   ]
  },
  {
   "cell_type": "code",
   "execution_count": 6,
   "metadata": {
    "ExecuteTime": {
     "end_time": "2023-05-18T10:16:39.939239Z",
     "start_time": "2023-05-18T10:16:37.928686Z"
    },
    "collapsed": false
   },
   "outputs": [],
   "source": [
    "cap_rate = .05\n",
    "\n",
    "trends = rk.dynamics.trend.Trend.from_likelihoods(\n",
    "    sequence=sequence,\n",
    "    cap_rate=cap_rate,\n",
    "    growth_rate_dist=growth_rate_dist,\n",
    "    initial_value_dist=initial_value_dist,\n",
    "    iterations=iterations)"
   ]
  },
  {
   "cell_type": "code",
   "execution_count": 7,
   "metadata": {
    "ExecuteTime": {
     "end_time": "2023-05-18T10:16:40.297973Z",
     "start_time": "2023-05-18T10:16:39.951323Z"
    },
    "collapsed": false
   },
   "outputs": [
    {
     "data": {
      "text/plain": [
       "<Axes: ylabel='Count'>"
      ]
     },
     "execution_count": 7,
     "metadata": {},
     "output_type": "execute_result"
    },
    {
     "data": {
      "image/png": "[encoded data removed]",
      "text/plain": [
       "<Figure size 640x480 with 1 Axes>"
      ]
     },
     "metadata": {},
     "output_type": "display_data"
    }
   ],
   "source": [
    "initial_values = [trend.initial_value for trend in trends]\n",
    "sns.histplot(\n",
    "    data=initial_values,\n",
    "    bins=20,\n",
    "    kde=True)"
   ]
  },
  {
   "cell_type": "code",
   "execution_count": 8,
   "metadata": {
    "ExecuteTime": {
     "end_time": "2023-05-18T10:16:59.152597Z",
     "start_time": "2023-05-18T10:16:40.297577Z"
    },
    "collapsed": false
   },
   "outputs": [],
   "source": [
    "volatility_per_period = .1\n",
    "autoregression_param = .2\n",
    "mean_reversion_param = .3\n",
    "\n",
    "volatilities = rk.dynamics.volatility.Volatility.from_trends(\n",
    "    sequence=sequence,\n",
    "    trends=trends,\n",
    "    volatility_per_period=volatility_per_period,\n",
    "    autoregression_param=autoregression_param,\n",
    "    mean_reversion_param=mean_reversion_param)"
   ]
  },
  {
   "cell_type": "code",
   "execution_count": 9,
   "metadata": {
    "ExecuteTime": {
     "end_time": "2023-05-18T10:16:59.157647Z",
     "start_time": "2023-05-18T10:16:59.155268Z"
    },
    "collapsed": false
   },
   "outputs": [],
   "source": [
    "space_cycle_phase_prop_dist = rk.distribution.Uniform()"
   ]
  },
  {
   "cell_type": "code",
   "execution_count": 10,
   "metadata": {
    "ExecuteTime": {
     "end_time": "2023-05-18T10:16:59.162100Z",
     "start_time": "2023-05-18T10:16:59.159890Z"
    },
    "collapsed": false
   },
   "outputs": [],
   "source": [
    "space_cycle_period_dist=rk.distribution.Symmetric(\n",
    "    type=rk.distribution.Type.UNIFORM,\n",
    "    mean=15,\n",
    "    residual=5)"
   ]
  },
  {
   "cell_type": "code",
   "execution_count": 11,
   "metadata": {
    "ExecuteTime": {
     "end_time": "2023-05-18T10:16:59.166696Z",
     "start_time": "2023-05-18T10:16:59.164381Z"
    },
    "collapsed": false
   },
   "outputs": [],
   "source": [
    "space_cycle_height_dist=rk.distribution.Symmetric(\n",
    "    type=rk.distribution.Type.UNIFORM,\n",
    "    mean=.5,\n",
    "    residual=0)"
   ]
  },
  {
   "cell_type": "code",
   "execution_count": 12,
   "metadata": {
    "ExecuteTime": {
     "end_time": "2023-05-18T10:16:59.173124Z",
     "start_time": "2023-05-18T10:16:59.171224Z"
    },
    "collapsed": false
   },
   "outputs": [],
   "source": [
    "asset_cycle_phase_diff_prop_dist=rk.distribution.Symmetric(\n",
    "    type=rk.distribution.Type.UNIFORM,\n",
    "    mean=0,\n",
    "    residual=.1)"
   ]
  },
  {
   "cell_type": "code",
   "execution_count": 13,
   "metadata": {
    "ExecuteTime": {
     "end_time": "2023-05-18T10:16:59.177157Z",
     "start_time": "2023-05-18T10:16:59.175100Z"
    },
    "collapsed": false
   },
   "outputs": [],
   "source": [
    "asset_cycle_period_diff_dist=rk.distribution.Symmetric(\n",
    "    type=rk.distribution.Type.UNIFORM,\n",
    "    mean=0,\n",
    "    residual=1)"
   ]
  },
  {
   "cell_type": "code",
   "execution_count": 14,
   "metadata": {
    "ExecuteTime": {
     "end_time": "2023-05-18T10:16:59.225998Z",
     "start_time": "2023-05-18T10:16:59.179692Z"
    },
    "collapsed": false
   },
   "outputs": [],
   "source": [
    "asset_cycle_amplitude_dist=rk.distribution.Symmetric(\n",
    "    type=rk.distribution.Type.UNIFORM,\n",
    "    mean=.02,\n",
    "    residual=0.)"
   ]
  },
  {
   "cell_type": "code",
   "execution_count": 15,
   "metadata": {
    "ExecuteTime": {
     "end_time": "2023-05-18T10:16:59.226200Z",
     "start_time": "2023-05-18T10:16:59.185462Z"
    },
    "collapsed": false
   },
   "outputs": [],
   "source": [
    "space_cycle_asymmetric_parameter_dist=rk.distribution.Symmetric(\n",
    "    type=rk.distribution.Type.UNIFORM,\n",
    "    mean=0,\n",
    "    residual=0.)\n",
    "asset_cycle_asymmetric_parameter_dist=rk.distribution.Symmetric(\n",
    "    type=rk.distribution.Type.UNIFORM,\n",
    "    mean=0,\n",
    "    residual=0.)"
   ]
  },
  {
   "cell_type": "code",
   "execution_count": 16,
   "metadata": {
    "ExecuteTime": {
     "end_time": "2023-05-18T10:17:04.180679Z",
     "start_time": "2023-05-18T10:16:59.188686Z"
    },
    "collapsed": false
   },
   "outputs": [],
   "source": [
    "cyclicalities = rk.dynamics.cyclicality.Cyclicality.from_likelihoods(\n",
    "    sequence=sequence,\n",
    "    space_cycle_phase_prop_dist=space_cycle_phase_prop_dist,\n",
    "    space_cycle_period_dist=space_cycle_period_dist,\n",
    "    space_cycle_height_dist=space_cycle_height_dist,\n",
    "    asset_cycle_phase_diff_prop_dist=asset_cycle_phase_diff_prop_dist,\n",
    "    asset_cycle_period_diff_dist=asset_cycle_period_diff_dist,\n",
    "    asset_cycle_amplitude_dist=asset_cycle_amplitude_dist,\n",
    "    space_cycle_asymmetric_parameter_dist=space_cycle_asymmetric_parameter_dist,\n",
    "    asset_cycle_asymmetric_parameter_dist=asset_cycle_asymmetric_parameter_dist,\n",
    "    iterations=iterations)"
   ]
  },
  {
   "cell_type": "code",
   "execution_count": 17,
   "metadata": {
    "ExecuteTime": {
     "end_time": "2023-05-18T10:17:04.187990Z",
     "start_time": "2023-05-18T10:17:04.185465Z"
    },
    "collapsed": false
   },
   "outputs": [],
   "source": [
    "noise = rk.dynamics.noise.Noise(\n",
    "    sequence=sequence,\n",
    "    noise_dist=rk.distribution.Symmetric(\n",
    "        type=rk.distribution.Type.TRIANGULAR,\n",
    "        mean=0.,\n",
    "        residual=.1))\n",
    "black_swan = rk.dynamics.black_swan.BlackSwan(\n",
    "    sequence=sequence,\n",
    "    likelihood=.05,\n",
    "    dissipation_rate=mean_reversion_param,\n",
    "    probability=rk.distribution.Uniform(),\n",
    "    impact=-.25)"
   ]
  },
  {
   "cell_type": "code",
   "execution_count": 18,
   "metadata": {
    "ExecuteTime": {
     "end_time": "2023-05-18T10:17:57.225059Z",
     "start_time": "2023-05-18T10:17:04.188880Z"
    },
    "collapsed": false
   },
   "outputs": [],
   "source": [
    "markets = rk.dynamics.market.Market.from_likelihoods(\n",
    "    sequence=sequence,\n",
    "    trends=trends,\n",
    "    volatilities=volatilities,\n",
    "    cyclicalities=cyclicalities,\n",
    "    noise=noise,\n",
    "    black_swan=black_swan)"
   ]
  },
  {
   "cell_type": "code",
   "execution_count": 19,
   "metadata": {
    "ExecuteTime": {
     "end_time": "2023-05-18T10:17:57.230004Z",
     "start_time": "2023-05-18T10:17:57.227709Z"
    },
    "collapsed": false
   },
   "outputs": [],
   "source": [
    "params = {\n",
    "    'start_date': pd.Timestamp('2001-01-01'),\n",
    "    'num_periods': 10,\n",
    "    'period_type': rk.periodicity.Type.YEAR,\n",
    "    'acquisition_cost': -1000 * currency.units,\n",
    "    'initial_income': 100 * currency.units,\n",
    "    'growth_rate': 0.02,\n",
    "    'vacancy_rate': 0.05,\n",
    "    'opex_pgi_ratio': 0.35,\n",
    "    'capex_pgi_ratio': 0.1,\n",
    "    'exit_caprate': 0.05,\n",
    "    'discount_rate': 0.07\n",
    "    }"
   ]
  },
  {
   "cell_type": "code",
   "execution_count": 20,
   "metadata": {
    "ExecuteTime": {
     "end_time": "2023-05-18T10:17:57.243779Z",
     "start_time": "2023-05-18T10:17:57.241701Z"
    },
    "collapsed": false,
    "tags": [
     "hide-input"
    ]
   },
   "outputs": [],
   "source": [
    "class BaseModel:\n",
    "    def __init__(self) -> None:\n",
    "        pass\n",
    "    def set_params(self, params: dict) -> None:\n",
    "        self.params = params\n",
    "    def set_market(self, market: rk.dynamics.market.Market) -> None:\n",
    "        self.market = market\n",
    "    def init_spans(self):\n",
    "        self.calc_span = rk.span.Span.from_num_periods(\n",
    "            name='Span to Calculate Reversion',\n",
    "            date=self.params['start_date'],\n",
    "            period_type=self.params['period_type'],\n",
    "            num_periods=self.params['num_periods'] + 1)\n",
    "        self.acq_span = rk.span.Span.from_num_periods(\n",
    "            name='Acquisition Span',\n",
    "            date=rk.periodicity.offset_date(\n",
    "                self.params['start_date'],\n",
    "                num_periods=-1,\n",
    "                period_type=self.params['period_type']),\n",
    "            period_type=self.params['period_type'],\n",
    "            num_periods=1)\n",
    "        self.span = self.calc_span.shift(\n",
    "            name='Span',\n",
    "            num_periods=-1,\n",
    "            period_type=self.params['period_type'],\n",
    "            bound='end')\n",
    "        self.reversion_span = self.span.shift(\n",
    "            name='Reversion Span',\n",
    "            num_periods=self.params['num_periods'] - 1,\n",
    "            period_type=self.params['period_type'],\n",
    "            bound='start')\n",
    "    def calc_acquisition(self):\n",
    "        self.acquisition = rk.flux.Flow.from_projection(\n",
    "            name='Acquisition',\n",
    "            value=self.params['acquisition_cost'],\n",
    "            proj=rk.projection.Distribution(\n",
    "                form=rk.distribution.Uniform(),\n",
    "                sequence=self.acq_span.to_index(period_type=self.params['period_type'])),\n",
    "            units=currency.units)\n",
    "    def calc_egi(self):\n",
    "        pgi = rk.flux.Flow.from_projection(\n",
    "            name='Potential Gross Income',\n",
    "            value=self.params['initial_income'],\n",
    "            proj=rk.projection.Extrapolation(\n",
    "                form=rk.extrapolation.Compounding(\n",
    "                    rate=self.params['growth_rate']),\n",
    "                sequence=self.calc_span.to_index(period_type=self.params['period_type'])),\n",
    "            units=currency.units)\n",
    "\n",
    "        # Construct a Stream that multiplies the Base Model's PGI by the\n",
    "        # simulated Market's Space Market factors\n",
    "        self.pgi = rk.flux.Stream(\n",
    "            name='Potential Gross Income',\n",
    "            flows=[\n",
    "                pgi,\n",
    "                self.market.space_market_price_factors.trim_to_span(self.calc_span)\n",
    "                ],\n",
    "            period_type=self.params['period_type']\n",
    "            ).product(registry=rk.measure.Index.registry)\n",
    "\n",
    "        self.vacancy = rk.flux.Flow(\n",
    "            name='Vacancy Allowance',\n",
    "            movements=self.pgi.movements * -self.params['vacancy_rate'],\n",
    "            units=currency.units)\n",
    "        self.egi = rk.flux.Stream(\n",
    "            name='Effective Gross Income',\n",
    "            flows=[self.pgi, self.vacancy],\n",
    "            period_type=self.params['period_type']).sum()\n",
    "    def calc_noi(self):\n",
    "        self.opex = rk.flux.Flow(\n",
    "            name='Operating Expenses',\n",
    "            movements=self.pgi.movements * self.params['opex_pgi_ratio'],\n",
    "            units=currency.units).invert()\n",
    "        self.noi = rk.flux.Stream(\n",
    "            name='Net Operating Income',\n",
    "            flows=[self.egi, self.opex],\n",
    "            period_type=self.params['period_type']).sum()\n",
    "    def calc_ncf(self):\n",
    "        self.capex = rk.flux.Flow(\n",
    "            name='Capital Expenditures',\n",
    "            movements=self.pgi.movements * self.params['capex_pgi_ratio'],\n",
    "            units=currency.units).invert()\n",
    "        self.net_cf = rk.flux.Stream(\n",
    "            name='Net Annual Cashflow',\n",
    "            flows=[self.noi, self.capex],\n",
    "            period_type=self.params['period_type']).sum()\n",
    "    def calc_reversion(self):\n",
    "            # Construct the Reversions using the simulated Market's Asset Market\n",
    "            # factors (cap rates):\n",
    "            self.reversions = rk.flux.Flow(\n",
    "                name='Reversions',\n",
    "                movements=self.net_cf.movements.shift(periods=-1).dropna() /\n",
    "                          self.market.implied_rev_cap_rate.movements,\n",
    "                units=currency.units).trim_to_span(span=self.span)\n",
    "\n",
    "            self.reversion = self.reversions.trim_to_span(\n",
    "                span=self.reversion_span,\n",
    "                name='Reversion')\n",
    "            self.pbtcfs = rk.flux.Stream(\n",
    "                name='PBTCFs',\n",
    "                flows=[\n",
    "                    self.net_cf.trim_to_span(span=self.span),\n",
    "                    self.reversions.trim_to_span(span=self.reversion_span)\n",
    "                    ],\n",
    "                period_type=self.params['period_type'])\n",
    "    def calc_metrics(self):\n",
    "        pvs = []\n",
    "        irrs = []\n",
    "        for period in self.net_cf.trim_to_span(span=self.span).movements.index:\n",
    "            cumulative_net_cf = self.net_cf.trim_to_span(\n",
    "                span=rk.span.Span(\n",
    "                    name='Cumulative Net Cashflow Span',\n",
    "                    start_date=self.params['start_date'],\n",
    "                    end_date=period))\n",
    "            reversion = rk.flux.Flow(\n",
    "                movements=self.reversions.movements.loc[[period]],\n",
    "                units=currency.units)\n",
    "            cumulative_net_cf_with_rev = rk.flux.Stream(\n",
    "                name='Net Cashflow with Reversion',\n",
    "                flows=[\n",
    "                    cumulative_net_cf,\n",
    "                    reversion\n",
    "                    ],\n",
    "                period_type=self.params['period_type'])\n",
    "            pv = cumulative_net_cf_with_rev.sum().pv(\n",
    "                name='Present Value',\n",
    "                period_type=self.params['period_type'],\n",
    "                discount_rate=self.params['discount_rate'])\n",
    "            pvs.append(pv.collapse().movements)\n",
    "\n",
    "            incl_acq = rk.flux.Stream(\n",
    "                name='Net Cashflow with Reversion and Acquisition',\n",
    "                flows=[cumulative_net_cf_with_rev.sum(), self.acquisition],\n",
    "                period_type=self.params['period_type'])\n",
    "\n",
    "            irrs.append(round(incl_acq.sum().xirr(), 4))\n",
    "\n",
    "        self.pvs = rk.flux.Flow(\n",
    "            name='Present Values',\n",
    "            movements=pd.concat(pvs),\n",
    "            units=currency.units)\n",
    "        self.irrs = rk.flux.Flow(\n",
    "            name='Internal Rates of Return',\n",
    "            movements=pd.Series(irrs, index=self.pvs.movements.index),\n",
    "            units=None)\n",
    "    def generate(self):\n",
    "        self.init_spans()\n",
    "        self.calc_acquisition()\n",
    "        self.calc_egi()\n",
    "        self.calc_noi()\n",
    "        self.calc_ncf()\n",
    "        self.calc_reversion()\n",
    "        self.calc_metrics()"
   ]
  },
  {
   "cell_type": "code",
   "execution_count": 21,
   "metadata": {
    "ExecuteTime": {
     "end_time": "2023-05-18T10:17:57.247160Z",
     "start_time": "2023-05-18T10:17:57.244853Z"
    },
    "collapsed": false
   },
   "outputs": [],
   "source": [
    "import os\n",
    "from typing import List\n",
    "import multiprocess\n",
    "import pint\n",
    "pint.set_application_registry(rk.measure.Index.registry)"
   ]
  },
  {
   "cell_type": "code",
   "execution_count": 22,
   "metadata": {
    "ExecuteTime": {
     "end_time": "2023-05-18T10:17:57.281550Z",
     "start_time": "2023-05-18T10:17:57.259131Z"
    },
    "collapsed": false
   },
   "outputs": [],
   "source": [
    "inflex_scenarios = []\n",
    "for market in markets:\n",
    "    scenario = BaseModel()\n",
    "    scenario.set_params(params.copy())\n",
    "    scenario.set_market(market)\n",
    "    inflex_scenarios.append(scenario)"
   ]
  },
  {
   "cell_type": "code",
   "execution_count": 23,
   "metadata": {
    "ExecuteTime": {
     "end_time": "2023-05-18T10:20:19.267907Z",
     "start_time": "2023-05-18T10:17:57.262868Z"
    },
    "collapsed": false
   },
   "outputs": [],
   "source": [
    "def generate(scenario):\n",
    "    scenario.generate()\n",
    "    return scenario\n",
    "inflex_scenarios = multiprocess.Pool(os.cpu_count()).map(\n",
    "    generate,\n",
    "    inflex_scenarios)"
   ]
  },
  {
   "cell_type": "code",
   "execution_count": 24,
   "metadata": {
    "ExecuteTime": {
     "end_time": "2023-05-18T11:57:21.949575Z",
     "start_time": "2023-05-18T11:57:21.938515Z"
    },
    "collapsed": false
   },
   "outputs": [],
   "source": [
    "def exceed_pricing_factor(state: rk.flux.Flow) -> List[bool]:\n",
    "    threshold = 1.2\n",
    "    result = []\n",
    "    for i in range(state.movements.index.size):\n",
    "        if any(result):\n",
    "            result.append(False)\n",
    "        else:\n",
    "            if i < 1:\n",
    "                result.append(False)\n",
    "            else:\n",
    "                if state.movements[i] > threshold:\n",
    "                    result.append(True)\n",
    "                else:\n",
    "                    result.append(False)\n",
    "    return result\n",
    "\n",
    "def adjust_hold_period(\n",
    "        model: object,\n",
    "        decisions: List[bool]) -> object:\n",
    "    # Get the index of the decision flag:\n",
    "    try:\n",
    "        idx = decisions.index(True)\n",
    "    except ValueError:\n",
    "        idx = len(decisions)\n",
    "\n",
    "    # Adjust the Model's holding period:\n",
    "    policy_params = model.params.copy()\n",
    "    policy_params['num_periods'] = idx\n",
    "\n",
    "    # Re-run the Model with updated params:\n",
    "    model.set_params(policy_params)\n",
    "    model.generate()\n",
    "    return model\n",
    "\n",
    "stop_gain_resale_policy = rk.policy.Policy(\n",
    "    condition=exceed_pricing_factor,\n",
    "    action=adjust_hold_period)"
   ]
  },
  {
   "cell_type": "code",
   "execution_count": 25,
   "metadata": {
    "ExecuteTime": {
     "end_time": "2023-05-18T12:01:13.381905Z",
     "start_time": "2023-05-18T11:57:22.925284Z"
    },
    "collapsed": false
   },
   "outputs": [],
   "source": [
    "policy_args = [(scenario.market.space_market_price_factors, scenario) for scenario in inflex_scenarios]\n",
    "flex_scenarios = multiprocess.Pool(os.cpu_count()).map(\n",
    "    stop_gain_resale_policy.execute,\n",
    "    policy_args)"
   ]
  },
  {
   "cell_type": "code",
   "execution_count": 26,
   "metadata": {
    "collapsed": false
   },
   "outputs": [],
   "source": [
    "import scipy.stats as ss"
   ]
  },
  {
   "cell_type": "code",
   "execution_count": 27,
   "metadata": {
    "ExecuteTime": {
     "end_time": "2023-05-18T12:01:13.481856Z",
     "start_time": "2023-05-18T12:01:13.460152Z"
    },
    "collapsed": false
   },
   "outputs": [
    {
     "data": {
      "text/html": [
       "<div>\n",
       "<style scoped>\n",
       "    .dataframe tbody tr th:only-of-type {\n",
       "        vertical-align: middle;\n",
       "    }\n",
       "\n",
       "    .dataframe tbody tr th {\n",
       "        vertical-align: top;\n",
       "    }\n",
       "\n",
       "    .dataframe thead th {\n",
       "        text-align: right;\n",
       "    }\n",
       "</style>\n",
       "<table border=\"1\" class=\"dataframe\">\n",
       "  <thead>\n",
       "    <tr style=\"text-align: right;\">\n",
       "      <th></th>\n",
       "      <th>Inflexible</th>\n",
       "      <th>Flexible</th>\n",
       "      <th>Difference</th>\n",
       "    </tr>\n",
       "  </thead>\n",
       "  <tbody>\n",
       "    <tr>\n",
       "      <th>count</th>\n",
       "      <td>2000.000000</td>\n",
       "      <td>2000.000000</td>\n",
       "      <td>2000.000000</td>\n",
       "    </tr>\n",
       "    <tr>\n",
       "      <th>mean</th>\n",
       "      <td>1074.344437</td>\n",
       "      <td>1459.582911</td>\n",
       "      <td>385.238474</td>\n",
       "    </tr>\n",
       "    <tr>\n",
       "      <th>std</th>\n",
       "      <td>352.641065</td>\n",
       "      <td>417.502269</td>\n",
       "      <td>577.466957</td>\n",
       "    </tr>\n",
       "    <tr>\n",
       "      <th>min</th>\n",
       "      <td>520.731089</td>\n",
       "      <td>507.824915</td>\n",
       "      <td>-1375.442755</td>\n",
       "    </tr>\n",
       "    <tr>\n",
       "      <th>25%</th>\n",
       "      <td>790.269026</td>\n",
       "      <td>1212.401709</td>\n",
       "      <td>-3.261869</td>\n",
       "    </tr>\n",
       "    <tr>\n",
       "      <th>50%</th>\n",
       "      <td>985.597885</td>\n",
       "      <td>1483.764092</td>\n",
       "      <td>407.137891</td>\n",
       "    </tr>\n",
       "    <tr>\n",
       "      <th>75%</th>\n",
       "      <td>1290.945015</td>\n",
       "      <td>1748.815702</td>\n",
       "      <td>830.897448</td>\n",
       "    </tr>\n",
       "    <tr>\n",
       "      <th>max</th>\n",
       "      <td>2831.338227</td>\n",
       "      <td>2475.613777</td>\n",
       "      <td>1771.444283</td>\n",
       "    </tr>\n",
       "  </tbody>\n",
       "</table>\n",
       "</div>"
      ],
      "text/plain": [
       "        Inflexible     Flexible   Difference\n",
       "count  2000.000000  2000.000000  2000.000000\n",
       "mean   1074.344437  1459.582911   385.238474\n",
       "std     352.641065   417.502269   577.466957\n",
       "min     520.731089   507.824915 -1375.442755\n",
       "25%     790.269026  1212.401709    -3.261869\n",
       "50%     985.597885  1483.764092   407.137891\n",
       "75%    1290.945015  1748.815702   830.897448\n",
       "max    2831.338227  2475.613777  1771.444283"
      ]
     },
     "execution_count": 27,
     "metadata": {},
     "output_type": "execute_result"
    }
   ],
   "source": [
    "inflex_pvs = pd.Series([scenario.pvs.movements[-1] for scenario in inflex_scenarios])\n",
    "flex_pvs = pd.Series([scenario.pvs.movements[-1] for scenario in flex_scenarios])\n",
    "diff_pvs = flex_pvs - inflex_pvs\n",
    "\n",
    "pvs = pd.DataFrame({\n",
    "    'Inflexible': inflex_pvs,\n",
    "    'Flexible': flex_pvs,\n",
    "    'Difference': diff_pvs})\n",
    "pvs.describe()"
   ]
  },
  {
   "cell_type": "code",
   "execution_count": 28,
   "metadata": {
    "ExecuteTime": {
     "end_time": "2023-05-18T12:01:13.482102Z",
     "start_time": "2023-05-18T12:01:13.472693Z"
    },
    "collapsed": false
   },
   "outputs": [
    {
     "data": {
      "text/plain": [
       "Inflexible    0.947951\n",
       "Flexible     -0.330352\n",
       "Difference   -0.135482\n",
       "dtype: float64"
      ]
     },
     "execution_count": 28,
     "metadata": {},
     "output_type": "execute_result"
    }
   ],
   "source": [
    "pvs.skew()"
   ]
  },
  {
   "cell_type": "code",
   "execution_count": 29,
   "metadata": {
    "ExecuteTime": {
     "end_time": "2023-05-18T12:01:13.482180Z",
     "start_time": "2023-05-18T12:01:13.477719Z"
    },
    "collapsed": false
   },
   "outputs": [
    {
     "data": {
      "text/plain": [
       "Inflexible    0.463397\n",
       "Flexible     -0.202562\n",
       "Difference   -0.588691\n",
       "dtype: float64"
      ]
     },
     "execution_count": 29,
     "metadata": {},
     "output_type": "execute_result"
    }
   ],
   "source": [
    "pvs.kurtosis()"
   ]
  },
  {
   "cell_type": "code",
   "execution_count": 30,
   "metadata": {
    "ExecuteTime": {
     "end_time": "2023-05-18T12:01:13.488314Z",
     "start_time": "2023-05-18T12:01:13.483444Z"
    },
    "collapsed": false
   },
   "outputs": [
    {
     "name": "stdout",
     "output_type": "stream",
     "text": [
      "PV Diffs t-stat: \n",
      "TtestResult(statistic=29.834414038576462, pvalue=4.345241879327504e-162, df=1999)\n"
     ]
    }
   ],
   "source": [
    "print('PV Diffs t-stat: \\n{}'.format(\n",
    "    ss.ttest_1samp(diff_pvs, 0)))"
   ]
  },
  {
   "cell_type": "code",
   "execution_count": 31,
   "metadata": {
    "ExecuteTime": {
     "end_time": "2023-05-18T12:03:20.228247Z",
     "start_time": "2023-05-18T12:03:20.076623Z"
    },
    "collapsed": false
   },
   "outputs": [
    {
     "data": {
      "text/plain": [
       "<Axes: ylabel='Proportion'>"
      ]
     },
     "execution_count": 31,
     "metadata": {},
     "output_type": "execute_result"
    },
    {
     "data": {
      "image/png": "[encoded data removed]",
      "text/plain": [
       "<Figure size 640x480 with 1 Axes>"
      ]
     },
     "metadata": {},
     "output_type": "display_data"
    }
   ],
   "source": [
    "sns.ecdfplot(\n",
    "    data=pvs.drop(columns='Difference'))"
   ]
  },
  {
   "cell_type": "code",
   "execution_count": 32,
   "metadata": {
    "ExecuteTime": {
     "end_time": "2023-05-18T12:03:23.144386Z",
     "start_time": "2023-05-18T12:03:23.108595Z"
    },
    "collapsed": false
   },
   "outputs": [
    {
     "data": {
      "text/html": [
       "<div>\n",
       "<style scoped>\n",
       "    .dataframe tbody tr th:only-of-type {\n",
       "        vertical-align: middle;\n",
       "    }\n",
       "\n",
       "    .dataframe tbody tr th {\n",
       "        vertical-align: top;\n",
       "    }\n",
       "\n",
       "    .dataframe thead th {\n",
       "        text-align: right;\n",
       "    }\n",
       "</style>\n",
       "<table border=\"1\" class=\"dataframe\">\n",
       "  <thead>\n",
       "    <tr style=\"text-align: right;\">\n",
       "      <th></th>\n",
       "      <th>Inflexible</th>\n",
       "      <th>Flexible</th>\n",
       "      <th>Difference</th>\n",
       "    </tr>\n",
       "  </thead>\n",
       "  <tbody>\n",
       "    <tr>\n",
       "      <th>count</th>\n",
       "      <td>2000.000000</td>\n",
       "      <td>2000.000000</td>\n",
       "      <td>2000.000000</td>\n",
       "    </tr>\n",
       "    <tr>\n",
       "      <th>mean</th>\n",
       "      <td>0.071239</td>\n",
       "      <td>0.308062</td>\n",
       "      <td>0.236822</td>\n",
       "    </tr>\n",
       "    <tr>\n",
       "      <th>std</th>\n",
       "      <td>0.040740</td>\n",
       "      <td>0.366943</td>\n",
       "      <td>0.380370</td>\n",
       "    </tr>\n",
       "    <tr>\n",
       "      <th>min</th>\n",
       "      <td>-0.021500</td>\n",
       "      <td>-0.073200</td>\n",
       "      <td>-0.115800</td>\n",
       "    </tr>\n",
       "    <tr>\n",
       "      <th>25%</th>\n",
       "      <td>0.037500</td>\n",
       "      <td>0.092900</td>\n",
       "      <td>0.000000</td>\n",
       "    </tr>\n",
       "    <tr>\n",
       "      <th>50%</th>\n",
       "      <td>0.067900</td>\n",
       "      <td>0.141150</td>\n",
       "      <td>0.061800</td>\n",
       "    </tr>\n",
       "    <tr>\n",
       "      <th>75%</th>\n",
       "      <td>0.102300</td>\n",
       "      <td>0.338475</td>\n",
       "      <td>0.291950</td>\n",
       "    </tr>\n",
       "    <tr>\n",
       "      <th>max</th>\n",
       "      <td>0.202800</td>\n",
       "      <td>1.648900</td>\n",
       "      <td>1.610700</td>\n",
       "    </tr>\n",
       "  </tbody>\n",
       "</table>\n",
       "</div>"
      ],
      "text/plain": [
       "        Inflexible     Flexible   Difference\n",
       "count  2000.000000  2000.000000  2000.000000\n",
       "mean      0.071239     0.308062     0.236822\n",
       "std       0.040740     0.366943     0.380370\n",
       "min      -0.021500    -0.073200    -0.115800\n",
       "25%       0.037500     0.092900     0.000000\n",
       "50%       0.067900     0.141150     0.061800\n",
       "75%       0.102300     0.338475     0.291950\n",
       "max       0.202800     1.648900     1.610700"
      ]
     },
     "execution_count": 32,
     "metadata": {},
     "output_type": "execute_result"
    }
   ],
   "source": [
    "inflex_irrs = pd.Series([scenario.irrs.movements[-1] for scenario in inflex_scenarios])\n",
    "flex_irrs = pd.Series([scenario.irrs.movements[-1] for scenario in flex_scenarios])\n",
    "diff_irrs = flex_irrs - inflex_irrs\n",
    "\n",
    "irrs = pd.DataFrame({\n",
    "    'Inflexible': inflex_irrs,\n",
    "    'Flexible': flex_irrs,\n",
    "    'Difference': diff_irrs})\n",
    "irrs.describe()"
   ]
  },
  {
   "cell_type": "code",
   "execution_count": 33,
   "metadata": {
    "ExecuteTime": {
     "end_time": "2023-05-18T12:03:24.323089Z",
     "start_time": "2023-05-18T12:03:24.314759Z"
    },
    "collapsed": false
   },
   "outputs": [
    {
     "data": {
      "text/plain": [
       "Inflexible    0.274490\n",
       "Flexible      1.789764\n",
       "Difference    1.721717\n",
       "dtype: float64"
      ]
     },
     "execution_count": 33,
     "metadata": {},
     "output_type": "execute_result"
    }
   ],
   "source": [
    "irrs.skew()"
   ]
  },
  {
   "cell_type": "code",
   "execution_count": 34,
   "metadata": {
    "ExecuteTime": {
     "end_time": "2023-05-18T12:03:26.129393Z",
     "start_time": "2023-05-18T12:03:26.121518Z"
    },
    "collapsed": false
   },
   "outputs": [
    {
     "data": {
      "text/plain": [
       "Inflexible   -0.812528\n",
       "Flexible      2.130275\n",
       "Difference    1.906266\n",
       "dtype: float64"
      ]
     },
     "execution_count": 34,
     "metadata": {},
     "output_type": "execute_result"
    }
   ],
   "source": [
    "irrs.kurtosis()"
   ]
  },
  {
   "cell_type": "code",
   "execution_count": 35,
   "metadata": {
    "ExecuteTime": {
     "end_time": "2023-05-18T12:03:57.461600Z",
     "start_time": "2023-05-18T12:03:57.438325Z"
    },
    "collapsed": false
   },
   "outputs": [
    {
     "name": "stdout",
     "output_type": "stream",
     "text": [
      "IRR Diffs t-stat: \n",
      "TtestResult(statistic=27.844005499676513, pvalue=1.8200581788742374e-144, df=1999)\n"
     ]
    }
   ],
   "source": [
    "print('IRR Diffs t-stat: \\n{}'.format(\n",
    "    ss.ttest_1samp(diff_irrs, 0)))"
   ]
  },
  {
   "cell_type": "code",
   "execution_count": 36,
   "metadata": {
    "ExecuteTime": {
     "end_time": "2023-05-18T12:04:52.057355Z",
     "start_time": "2023-05-18T12:04:51.903984Z"
    },
    "collapsed": false
   },
   "outputs": [
    {
     "data": {
      "text/plain": [
       "<Axes: ylabel='Proportion'>"
      ]
     },
     "execution_count": 36,
     "metadata": {},
     "output_type": "execute_result"
    },
    {
     "data": {
      "image/png": "[encoded data removed]",
      "text/plain": [
       "<Figure size 640x480 with 1 Axes>"
      ]
     },
     "metadata": {},
     "output_type": "display_data"
    }
   ],
   "source": [
    "sns.ecdfplot(\n",
    "    data=irrs.drop(columns='Difference'))"
   ]
  },
  {
   "cell_type": "code",
   "execution_count": 37,
   "metadata": {
    "ExecuteTime": {
     "end_time": "2023-05-18T12:13:34.935734Z",
     "start_time": "2023-05-18T12:13:34.650282Z"
    },
    "collapsed": false
   },
   "outputs": [
    {
     "data": {
      "text/plain": [
       "<seaborn.axisgrid.JointGrid at 0x33a2bee60>"
      ]
     },
     "execution_count": 37,
     "metadata": {},
     "output_type": "execute_result"
    },
    {
     "data": {
      "image/png": "[encoded data removed]",
      "text/plain": [
       "<Figure size 600x600 with 3 Axes>"
      ]
     },
     "metadata": {},
     "output_type": "display_data"
    }
   ],
   "source": [
    "inflex_irr_x_pv = pd.DataFrame({\n",
    "    'PV': inflex_pvs,\n",
    "    'IRR': inflex_irrs,})\n",
    "sns.jointplot(\n",
    "    data=inflex_irr_x_pv,\n",
    "    x='PV',\n",
    "    y='IRR',\n",
    "    kind='scatter')"
   ]
  },
  {
   "cell_type": "code",
   "execution_count": 38,
   "metadata": {
    "ExecuteTime": {
     "end_time": "2023-05-18T12:13:51.655395Z",
     "start_time": "2023-05-18T12:13:51.318853Z"
    },
    "collapsed": false
   },
   "outputs": [
    {
     "data": {
      "text/plain": [
       "<seaborn.axisgrid.JointGrid at 0x33a4b7820>"
      ]
     },
     "execution_count": 38,
     "metadata": {},
     "output_type": "execute_result"
    },
    {
     "data": {
      "image/png": "[encoded data removed]",
      "text/plain": [
       "<Figure size 600x600 with 3 Axes>"
      ]
     },
     "metadata": {},
     "output_type": "display_data"
    }
   ],
   "source": [
    "flex_irr_x_pv = pd.DataFrame({\n",
    "    'PV': flex_pvs,\n",
    "    'IRR': flex_irrs})\n",
    "sns.jointplot(\n",
    "    data=flex_irr_x_pv,\n",
    "    x='PV',\n",
    "    y='IRR',\n",
    "    kind='scatter')"
   ]
  },
  {
   "cell_type": "code",
   "execution_count": 39,
   "metadata": {
    "ExecuteTime": {
     "end_time": "2023-05-18T12:20:12.152112Z",
     "start_time": "2023-05-18T12:20:11.847836Z"
    },
    "collapsed": false
   },
   "outputs": [
    {
     "data": {
      "text/plain": [
       "<seaborn.axisgrid.JointGrid at 0x2e3540c70>"
      ]
     },
     "execution_count": 39,
     "metadata": {},
     "output_type": "execute_result"
    },
    {
     "data": {
      "image/png": "[encoded data removed]",
      "text/plain": [
       "<Figure size 600x600 with 3 Axes>"
      ]
     },
     "metadata": {},
     "output_type": "display_data"
    }
   ],
   "source": [
    "diff_pvs_x_inflex_pvs = pd.DataFrame({\n",
    "    'Inflexible PVs': inflex_pvs,\n",
    "    'Difference in PV': diff_pvs})\n",
    "sns.jointplot(\n",
    "    data=diff_pvs_x_inflex_pvs,\n",
    "    x='Inflexible PVs',\n",
    "    y='Difference in PV',\n",
    "    kind='hist')"
   ]
  },
  {
   "cell_type": "code",
   "execution_count": 40,
   "metadata": {
    "ExecuteTime": {
     "end_time": "2023-05-18T12:21:21.043255Z",
     "start_time": "2023-05-18T12:21:20.763712Z"
    },
    "collapsed": false
   },
   "outputs": [
    {
     "data": {
      "text/plain": [
       "<seaborn.axisgrid.JointGrid at 0x2e36d2aa0>"
      ]
     },
     "execution_count": 40,
     "metadata": {},
     "output_type": "execute_result"
    },
    {
     "data": {
      "image/png": "[encoded data removed]",
      "text/plain": [
       "<Figure size 600x600 with 3 Axes>"
      ]
     },
     "metadata": {},
     "output_type": "display_data"
    }
   ],
   "source": [
    "diff_irrs_x_inflex_irrs = pd.DataFrame({\n",
    "    'Inflexible IRRs': inflex_irrs,\n",
    "    'Difference in IRR': diff_irrs})\n",
    "sns.jointplot(\n",
    "    data=diff_irrs_x_inflex_irrs,\n",
    "    x='Inflexible IRRs',\n",
    "    y='Difference in IRR',\n",
    "    kind='hist')"
   ]
  },
  {
   "cell_type": "code",
   "execution_count": null,
   "metadata": {
    "collapsed": false
   },
   "outputs": [],
   "source": []
  }
 ],
 "metadata": {
  "kernelspec": {
   "display_name": "Python 3",
   "language": "python",
   "name": "python3"
  },
  "language_info": {
   "codemirror_mode": {
    "name": "ipython",
    "version": 3
   },
   "file_extension": ".py",
   "mimetype": "text/x-python",
   "name": "python",
   "nbconvert_exporter": "python",
   "pygments_lexer": "ipython3",
   "version": "3.10.4"
  }
 },
 "nbformat": 4,
 "nbformat_minor": 0
}