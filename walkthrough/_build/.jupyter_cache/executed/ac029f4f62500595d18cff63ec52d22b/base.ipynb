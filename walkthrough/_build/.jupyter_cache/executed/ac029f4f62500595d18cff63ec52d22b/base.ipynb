{
 "cells": [
  {
   "cell_type": "code",
   "execution_count": 1,
   "metadata": {
    "ExecuteTime": {
     "end_time": "2023-06-30T03:54:39.877574Z",
     "start_time": "2023-06-30T03:54:39.235886Z"
    },
    "collapsed": false
   },
   "outputs": [],
   "source": [
    "import json\n",
    "import os\n",
    "\n",
    "import locale\n",
    "import urllib.parse\n",
    "import json\n",
    "import pandas as pd\n",
    "import networkx as nx\n",
    "from IPython.display import IFrame\n",
    "import plotly.subplots\n",
    "import plotly.offline as py\n",
    "\n",
    "import rangekeeper as rk"
   ]
  },
  {
   "cell_type": "code",
   "execution_count": 2,
   "metadata": {
    "ExecuteTime": {
     "end_time": "2023-06-30T03:54:41.138234Z",
     "start_time": "2023-06-30T03:54:39.240088Z"
    },
    "collapsed": false
   },
   "outputs": [
    {
     "name": "stdout",
     "output_type": "stream",
     "text": [
      "\n",
      " SpeckleClient( server: https://speckle.xyz, authenticated: True )\n"
     ]
    },
    {
     "data": {
      "text/html": [
       "\n",
       "        <iframe\n",
       "            width=\"100%\"\n",
       "            height=\"800\"\n",
       "            src=\"https://speckle.xyz/embed?stream=f5e306e3fa&commit=362b15db49\"\n",
       "            frameborder=\"0\"\n",
       "            allowfullscreen\n",
       "            \n",
       "        ></iframe>\n",
       "        "
      ],
      "text/plain": [
       "<IPython.lib.display.IFrame at 0x105a01390>"
      ]
     },
     "execution_count": 2,
     "metadata": {},
     "output_type": "execute_result"
    }
   ],
   "source": [
    "speckle = rk.api.Speckle(\n",
    "    host=\"speckle.xyz\",\n",
    "    token=os.getenv('SPECKLE_TOKEN'))\n",
    "stream_id = \"f5e306e3fa\"\n",
    "commit_id = speckle.get_latest_commit_id(stream_id)\n",
    "IFrame(\"https://speckle.xyz/embed?stream={0}&commit={1}\".format(stream_id, commit_id), width='100%', height=800)"
   ]
  },
  {
   "cell_type": "code",
   "execution_count": 3,
   "metadata": {
    "ExecuteTime": {
     "end_time": "2023-06-30T03:54:43.750382Z",
     "start_time": "2023-06-30T03:54:41.136458Z"
    },
    "collapsed": false
   },
   "outputs": [
    {
     "name": "stdout",
     "output_type": "stream",
     "text": [
      "Warning: Duplicate Entity d68eab6c-7031-4780-b8da-a356d629dbe4 [utilities] found.\n",
      "Existing Entity is an Assembly while new Entity is not. Keeping Assembly.\n",
      "Warning: Duplicate Entity d68eab6c-7031-4780-b8da-a356d629dbe4 [utilities] found.\n",
      "Existing Entity is an Assembly while new Entity is not. Keeping Assembly.\n",
      "Warning: Duplicate Entity d68eab6c-7031-4780-b8da-a356d629dbe4 [utilities] found.\n",
      "Existing Entity is an Assembly while new Entity is not. Keeping Assembly.\n",
      "Warning: Duplicate Entity fae72e2d-608f-4666-acc8-7799896797a6 [plinthparking] found.\n",
      "Existing Entity is an Assembly while new Entity is not. Keeping Assembly.\n"
     ]
    }
   ],
   "source": [
    "model = speckle.get_commit(stream_id=stream_id)\n",
    "parsed = rk.api.Speckle.parse(base=model['@property'])\n",
    "property = rk.api.Speckle.to_rk(\n",
    "    bases=list(parsed.values()),\n",
    "    name='property',\n",
    "    type='archetype')"
   ]
  },
  {
   "cell_type": "code",
   "execution_count": 4,
   "metadata": {
    "ExecuteTime": {
     "end_time": "2023-06-30T03:54:43.820677Z",
     "start_time": "2023-06-30T03:54:43.750661Z"
    },
    "collapsed": false
   },
   "outputs": [
    {
     "name": "stdout",
     "output_type": "stream",
     "text": [
      "assets/property.html\n"
     ]
    },
    {
     "data": {
      "text/html": [
       "\n",
       "        <iframe\n",
       "            width=\"100%\"\n",
       "            height=\"800\"\n",
       "            src=\"./property.html\"\n",
       "            frameborder=\"0\"\n",
       "            allowfullscreen\n",
       "            \n",
       "        ></iframe>\n",
       "        "
      ],
      "text/plain": [
       "<IPython.lib.display.IFrame at 0x2a2f495d0>"
      ]
     },
     "execution_count": 4,
     "metadata": {},
     "output_type": "execute_result"
    }
   ],
   "source": [
    "property.plot(name=f'assets/{property.name}')\n",
    "IFrame(src=f'./{property.name}.html', width='100%', height=800)"
   ]
  },
  {
   "cell_type": "code",
   "execution_count": 5,
   "metadata": {
    "ExecuteTime": {
     "end_time": "2023-06-30T03:54:43.823813Z",
     "start_time": "2023-06-30T03:54:43.821606Z"
    },
    "collapsed": false
   },
   "outputs": [],
   "source": [
    "spatial_containment = property.filter_by_type(\n",
    "    relationship_type='spatiallyContains',\n",
    "    name='spatial_containment')"
   ]
  },
  {
   "cell_type": "code",
   "execution_count": 6,
   "metadata": {
    "ExecuteTime": {
     "end_time": "2023-06-30T03:54:43.828176Z",
     "start_time": "2023-06-30T03:54:43.823363Z"
    },
    "collapsed": false
   },
   "outputs": [
    {
     "data": {
      "text/plain": [
       "True"
      ]
     },
     "execution_count": 6,
     "metadata": {},
     "output_type": "execute_result"
    }
   ],
   "source": [
    "nx.is_arborescence(spatial_containment.graph)"
   ]
  },
  {
   "cell_type": "code",
   "execution_count": 7,
   "metadata": {
    "ExecuteTime": {
     "end_time": "2023-06-30T03:54:43.904280Z",
     "start_time": "2023-06-30T03:54:43.828899Z"
    },
    "collapsed": false
   },
   "outputs": [
    {
     "name": "stdout",
     "output_type": "stream",
     "text": [
      "assets/property by spatiallyContains and None.html\n"
     ]
    },
    {
     "data": {
      "text/html": [
       "\n",
       "        <iframe\n",
       "            width=\"100%\"\n",
       "            height=\"800\"\n",
       "            src=\"./property by spatiallyContains and None.html\"\n",
       "            frameborder=\"0\"\n",
       "            allowfullscreen\n",
       "            \n",
       "        ></iframe>\n",
       "        "
      ],
      "text/plain": [
       "<IPython.lib.display.IFrame at 0x2a2f49840>"
      ]
     },
     "execution_count": 7,
     "metadata": {},
     "output_type": "execute_result"
    }
   ],
   "source": [
    "# Plot the spatial containment graph\n",
    "spatial_containment.plot(name=f'assets/{spatial_containment.name}')\n",
    "IFrame(src=f'./{spatial_containment.name}.html', width='100%', height=800)"
   ]
  },
  {
   "cell_type": "code",
   "execution_count": 8,
   "metadata": {
    "ExecuteTime": {
     "end_time": "2023-06-30T03:54:43.909363Z",
     "start_time": "2023-06-30T03:54:43.908059Z"
    },
    "collapsed": false
   },
   "outputs": [],
   "source": [
    "property.aggregate(\n",
    "    property='gfa',\n",
    "    label='subtotal_gfa',\n",
    "    relationship_type='spatiallyContains')"
   ]
  },
  {
   "cell_type": "code",
   "execution_count": 9,
   "metadata": {
    "ExecuteTime": {
     "end_time": "2023-06-30T03:54:43.962473Z",
     "start_time": "2023-06-30T03:54:43.927577Z"
    },
    "collapsed": false,
    "tags": [
     "output_scroll"
    ]
   },
   "outputs": [
    {
     "data": {
      "text/html": [
       "<div>\n",
       "<style scoped>\n",
       "    .dataframe tbody tr th:only-of-type {\n",
       "        vertical-align: middle;\n",
       "    }\n",
       "\n",
       "    .dataframe tbody tr th {\n",
       "        vertical-align: top;\n",
       "    }\n",
       "\n",
       "    .dataframe thead th {\n",
       "        text-align: right;\n",
       "    }\n",
       "</style>\n",
       "<table border=\"1\" class=\"dataframe\">\n",
       "  <thead>\n",
       "    <tr style=\"text-align: right;\">\n",
       "      <th></th>\n",
       "      <th>name</th>\n",
       "      <th>type</th>\n",
       "      <th>gfa</th>\n",
       "      <th>subtotal_gfa</th>\n",
       "      <th>parent</th>\n",
       "      <th>use</th>\n",
       "      <th>ffl</th>\n",
       "      <th>number</th>\n",
       "    </tr>\n",
       "  </thead>\n",
       "  <tbody>\n",
       "    <tr>\n",
       "      <th>4fd8cf16-d01f-4d1e-964b-87942232e857</th>\n",
       "      <td>property</td>\n",
       "      <td>property</td>\n",
       "      <td>NaN</td>\n",
       "      <td>45816.419959</td>\n",
       "      <td>None</td>\n",
       "      <td>NaN</td>\n",
       "      <td>NaN</td>\n",
       "      <td>NaN</td>\n",
       "    </tr>\n",
       "    <tr>\n",
       "      <th>b72f69fc-5c1e-4501-99fb-01c3d3b4dddd</th>\n",
       "      <td>buildingB</td>\n",
       "      <td>building</td>\n",
       "      <td>NaN</td>\n",
       "      <td>13436.884829</td>\n",
       "      <td>4fd8cf16-d01f-4d1e-964b-87942232e857</td>\n",
       "      <td>NaN</td>\n",
       "      <td>NaN</td>\n",
       "      <td>NaN</td>\n",
       "    </tr>\n",
       "    <tr>\n",
       "      <th>b7673e43-2e24-42df-bc0a-a364891daa94</th>\n",
       "      <td>plinth</td>\n",
       "      <td>building</td>\n",
       "      <td>NaN</td>\n",
       "      <td>12773.744211</td>\n",
       "      <td>4fd8cf16-d01f-4d1e-964b-87942232e857</td>\n",
       "      <td>NaN</td>\n",
       "      <td>NaN</td>\n",
       "      <td>NaN</td>\n",
       "    </tr>\n",
       "    <tr>\n",
       "      <th>37e4f7dd-a27d-4e7e-b7f2-3da8bc46b4ac</th>\n",
       "      <td>buildingA</td>\n",
       "      <td>building</td>\n",
       "      <td>NaN</td>\n",
       "      <td>19605.790919</td>\n",
       "      <td>4fd8cf16-d01f-4d1e-964b-87942232e857</td>\n",
       "      <td>NaN</td>\n",
       "      <td>NaN</td>\n",
       "      <td>NaN</td>\n",
       "    </tr>\n",
       "    <tr>\n",
       "      <th>d68eab6c-7031-4780-b8da-a356d629dbe4</th>\n",
       "      <td>utilities</td>\n",
       "      <td>utilities</td>\n",
       "      <td>NaN</td>\n",
       "      <td>0.000000</td>\n",
       "      <td>4fd8cf16-d01f-4d1e-964b-87942232e857</td>\n",
       "      <td>NaN</td>\n",
       "      <td>NaN</td>\n",
       "      <td>NaN</td>\n",
       "    </tr>\n",
       "    <tr>\n",
       "      <th>62e63c92-aff1-43da-9ff8-538567f943e6</th>\n",
       "      <td>buildingBresidential</td>\n",
       "      <td>space</td>\n",
       "      <td>NaN</td>\n",
       "      <td>11442.736624</td>\n",
       "      <td>b72f69fc-5c1e-4501-99fb-01c3d3b4dddd</td>\n",
       "      <td>residential</td>\n",
       "      <td>NaN</td>\n",
       "      <td>NaN</td>\n",
       "    </tr>\n",
       "    <tr>\n",
       "      <th>ae3ed380-4db9-4e55-94c3-259f913205a2</th>\n",
       "      <td>buildingBparking</td>\n",
       "      <td>space</td>\n",
       "      <td>NaN</td>\n",
       "      <td>1178.164752</td>\n",
       "      <td>b72f69fc-5c1e-4501-99fb-01c3d3b4dddd</td>\n",
       "      <td>parking</td>\n",
       "      <td>NaN</td>\n",
       "      <td>NaN</td>\n",
       "    </tr>\n",
       "    <tr>\n",
       "      <th>d0dd5d16-1a60-4cf4-9261-873a76b551ae</th>\n",
       "      <td>buildingBretail</td>\n",
       "      <td>space</td>\n",
       "      <td>NaN</td>\n",
       "      <td>815.983454</td>\n",
       "      <td>b72f69fc-5c1e-4501-99fb-01c3d3b4dddd</td>\n",
       "      <td>retail</td>\n",
       "      <td>NaN</td>\n",
       "      <td>NaN</td>\n",
       "    </tr>\n",
       "    <tr>\n",
       "      <th>b7db88ba-b8cc-4f29-a67c-b996707a1340</th>\n",
       "      <td>buildingBcores</td>\n",
       "      <td>utilities</td>\n",
       "      <td>NaN</td>\n",
       "      <td>0.000000</td>\n",
       "      <td>b72f69fc-5c1e-4501-99fb-01c3d3b4dddd</td>\n",
       "      <td>cores</td>\n",
       "      <td>NaN</td>\n",
       "      <td>NaN</td>\n",
       "    </tr>\n",
       "    <tr>\n",
       "      <th>a7da795b-96a8-4f81-bb89-fda0e88a783c</th>\n",
       "      <td>buildingBresidentialFloor0</td>\n",
       "      <td>floor</td>\n",
       "      <td>765.941631</td>\n",
       "      <td>765.941631</td>\n",
       "      <td>62e63c92-aff1-43da-9ff8-538567f943e6</td>\n",
       "      <td>NaN</td>\n",
       "      <td>0.3</td>\n",
       "      <td>0.0</td>\n",
       "    </tr>\n",
       "    <tr>\n",
       "      <th>d43eb48b-bcdf-4039-a9ec-20839ecf9fdb</th>\n",
       "      <td>buildingBresidentialFloor1</td>\n",
       "      <td>floor</td>\n",
       "      <td>2361.056035</td>\n",
       "      <td>2361.056035</td>\n",
       "      <td>62e63c92-aff1-43da-9ff8-538567f943e6</td>\n",
       "      <td>NaN</td>\n",
       "      <td>5.3</td>\n",
       "      <td>1.0</td>\n",
       "    </tr>\n",
       "    <tr>\n",
       "      <th>beef28d1-5882-484f-b84d-3f318570113c</th>\n",
       "      <td>buildingBresidentialFloor2</td>\n",
       "      <td>floor</td>\n",
       "      <td>2361.056035</td>\n",
       "      <td>2361.056035</td>\n",
       "      <td>62e63c92-aff1-43da-9ff8-538567f943e6</td>\n",
       "      <td>NaN</td>\n",
       "      <td>8.4</td>\n",
       "      <td>2.0</td>\n",
       "    </tr>\n",
       "    <tr>\n",
       "      <th>f56b43a6-e061-4148-b2ad-57ff44fa4233</th>\n",
       "      <td>buildingBresidentialFloor3</td>\n",
       "      <td>floor</td>\n",
       "      <td>2015.956035</td>\n",
       "      <td>2015.956035</td>\n",
       "      <td>62e63c92-aff1-43da-9ff8-538567f943e6</td>\n",
       "      <td>NaN</td>\n",
       "      <td>11.5</td>\n",
       "      <td>3.0</td>\n",
       "    </tr>\n",
       "    <tr>\n",
       "      <th>2651bc40-b486-4d06-9872-6506cb6b1c20</th>\n",
       "      <td>buildingBresidentialFloor4</td>\n",
       "      <td>floor</td>\n",
       "      <td>2015.956035</td>\n",
       "      <td>2015.956035</td>\n",
       "      <td>62e63c92-aff1-43da-9ff8-538567f943e6</td>\n",
       "      <td>NaN</td>\n",
       "      <td>14.6</td>\n",
       "      <td>4.0</td>\n",
       "    </tr>\n",
       "    <tr>\n",
       "      <th>0a44df41-c11a-4b3e-93a2-832da0897097</th>\n",
       "      <td>buildingBresidentialFloor5</td>\n",
       "      <td>floor</td>\n",
       "      <td>875.014900</td>\n",
       "      <td>875.014900</td>\n",
       "      <td>62e63c92-aff1-43da-9ff8-538567f943e6</td>\n",
       "      <td>NaN</td>\n",
       "      <td>17.7</td>\n",
       "      <td>5.0</td>\n",
       "    </tr>\n",
       "    <tr>\n",
       "      <th>22fe1b3c-a9f0-4ce7-b049-8fb5648e5a91</th>\n",
       "      <td>buildingBresidentialFloor6</td>\n",
       "      <td>floor</td>\n",
       "      <td>875.014900</td>\n",
       "      <td>875.014900</td>\n",
       "      <td>62e63c92-aff1-43da-9ff8-538567f943e6</td>\n",
       "      <td>NaN</td>\n",
       "      <td>20.8</td>\n",
       "      <td>6.0</td>\n",
       "    </tr>\n",
       "    <tr>\n",
       "      <th>e9bbf6dc-4e29-4d57-8fbe-11b7ff85dd41</th>\n",
       "      <td>buildingBresidentialFloor0</td>\n",
       "      <td>floor</td>\n",
       "      <td>172.741054</td>\n",
       "      <td>172.741054</td>\n",
       "      <td>62e63c92-aff1-43da-9ff8-538567f943e6</td>\n",
       "      <td>NaN</td>\n",
       "      <td>0.3</td>\n",
       "      <td>0.0</td>\n",
       "    </tr>\n",
       "    <tr>\n",
       "      <th>c6c2936d-94c9-4161-b971-09b3ace1ac1a</th>\n",
       "      <td>buildingBparkingFloor0</td>\n",
       "      <td>floor</td>\n",
       "      <td>1178.164752</td>\n",
       "      <td>1178.164752</td>\n",
       "      <td>ae3ed380-4db9-4e55-94c3-259f913205a2</td>\n",
       "      <td>NaN</td>\n",
       "      <td>0.3</td>\n",
       "      <td>0.0</td>\n",
       "    </tr>\n",
       "    <tr>\n",
       "      <th>5afcbb21-2864-46e7-9b5f-32aff1509606</th>\n",
       "      <td>buildingBretailFloor0</td>\n",
       "      <td>floor</td>\n",
       "      <td>815.983454</td>\n",
       "      <td>815.983454</td>\n",
       "      <td>d0dd5d16-1a60-4cf4-9261-873a76b551ae</td>\n",
       "      <td>NaN</td>\n",
       "      <td>0.3</td>\n",
       "      <td>0.0</td>\n",
       "    </tr>\n",
       "    <tr>\n",
       "      <th>fae72e2d-608f-4666-acc8-7799896797a6</th>\n",
       "      <td>plinthparking</td>\n",
       "      <td>space</td>\n",
       "      <td>NaN</td>\n",
       "      <td>12773.744211</td>\n",
       "      <td>b7673e43-2e24-42df-bc0a-a364891daa94</td>\n",
       "      <td>parking</td>\n",
       "      <td>NaN</td>\n",
       "      <td>NaN</td>\n",
       "    </tr>\n",
       "    <tr>\n",
       "      <th>9dc0420d-bc75-4bad-97e4-97595dfe3be4</th>\n",
       "      <td>plinthplant</td>\n",
       "      <td>utilities</td>\n",
       "      <td>NaN</td>\n",
       "      <td>0.000000</td>\n",
       "      <td>b7673e43-2e24-42df-bc0a-a364891daa94</td>\n",
       "      <td>plant</td>\n",
       "      <td>NaN</td>\n",
       "      <td>NaN</td>\n",
       "    </tr>\n",
       "    <tr>\n",
       "      <th>c7d04af3-0655-4c38-ac39-70a396e20dea</th>\n",
       "      <td>plinthparkingFloor-2</td>\n",
       "      <td>floor</td>\n",
       "      <td>6386.872106</td>\n",
       "      <td>6386.872106</td>\n",
       "      <td>fae72e2d-608f-4666-acc8-7799896797a6</td>\n",
       "      <td>NaN</td>\n",
       "      <td>-5.9</td>\n",
       "      <td>-2.0</td>\n",
       "    </tr>\n",
       "    <tr>\n",
       "      <th>13a20724-8e76-4ccb-8f78-39775e41c67e</th>\n",
       "      <td>plinthparkingFloor-1</td>\n",
       "      <td>floor</td>\n",
       "      <td>6386.872106</td>\n",
       "      <td>6386.872106</td>\n",
       "      <td>fae72e2d-608f-4666-acc8-7799896797a6</td>\n",
       "      <td>NaN</td>\n",
       "      <td>-2.8</td>\n",
       "      <td>-1.0</td>\n",
       "    </tr>\n",
       "    <tr>\n",
       "      <th>19b22f27-b94d-4358-a516-8edd7e7bd15e</th>\n",
       "      <td>buildingAparking</td>\n",
       "      <td>space</td>\n",
       "      <td>NaN</td>\n",
       "      <td>960.262087</td>\n",
       "      <td>37e4f7dd-a27d-4e7e-b7f2-3da8bc46b4ac</td>\n",
       "      <td>parking</td>\n",
       "      <td>NaN</td>\n",
       "      <td>NaN</td>\n",
       "    </tr>\n",
       "    <tr>\n",
       "      <th>f2b95810-88f4-4e6b-b58c-3954b59b175c</th>\n",
       "      <td>buildingAretail</td>\n",
       "      <td>space</td>\n",
       "      <td>NaN</td>\n",
       "      <td>534.530238</td>\n",
       "      <td>37e4f7dd-a27d-4e7e-b7f2-3da8bc46b4ac</td>\n",
       "      <td>retail</td>\n",
       "      <td>NaN</td>\n",
       "      <td>NaN</td>\n",
       "    </tr>\n",
       "    <tr>\n",
       "      <th>4b425c76-d286-42c6-8f0a-c2251122d212</th>\n",
       "      <td>buildingAresidential</td>\n",
       "      <td>space</td>\n",
       "      <td>NaN</td>\n",
       "      <td>2296.143091</td>\n",
       "      <td>37e4f7dd-a27d-4e7e-b7f2-3da8bc46b4ac</td>\n",
       "      <td>residential</td>\n",
       "      <td>NaN</td>\n",
       "      <td>NaN</td>\n",
       "    </tr>\n",
       "    <tr>\n",
       "      <th>218fd91a-d72c-4fb2-a82f-3882388659f9</th>\n",
       "      <td>buildingAretail</td>\n",
       "      <td>space</td>\n",
       "      <td>NaN</td>\n",
       "      <td>1123.715326</td>\n",
       "      <td>37e4f7dd-a27d-4e7e-b7f2-3da8bc46b4ac</td>\n",
       "      <td>retail</td>\n",
       "      <td>NaN</td>\n",
       "      <td>NaN</td>\n",
       "    </tr>\n",
       "    <tr>\n",
       "      <th>f746d0de-a8ab-491e-9d3f-875c62c87f53</th>\n",
       "      <td>buildingAoffice</td>\n",
       "      <td>space</td>\n",
       "      <td>NaN</td>\n",
       "      <td>14691.140177</td>\n",
       "      <td>37e4f7dd-a27d-4e7e-b7f2-3da8bc46b4ac</td>\n",
       "      <td>office</td>\n",
       "      <td>NaN</td>\n",
       "      <td>NaN</td>\n",
       "    </tr>\n",
       "    <tr>\n",
       "      <th>c94db8fb-243f-4dec-95af-3c93f04e0cf5</th>\n",
       "      <td>buildingAcores</td>\n",
       "      <td>utilities</td>\n",
       "      <td>NaN</td>\n",
       "      <td>0.000000</td>\n",
       "      <td>37e4f7dd-a27d-4e7e-b7f2-3da8bc46b4ac</td>\n",
       "      <td>cores</td>\n",
       "      <td>NaN</td>\n",
       "      <td>NaN</td>\n",
       "    </tr>\n",
       "    <tr>\n",
       "      <th>6fbaaae2-13f8-422f-aa8f-4f32918ecc04</th>\n",
       "      <td>buildingAparkingFloor0</td>\n",
       "      <td>floor</td>\n",
       "      <td>960.262087</td>\n",
       "      <td>960.262087</td>\n",
       "      <td>19b22f27-b94d-4358-a516-8edd7e7bd15e</td>\n",
       "      <td>NaN</td>\n",
       "      <td>0.3</td>\n",
       "      <td>0.0</td>\n",
       "    </tr>\n",
       "    <tr>\n",
       "      <th>4bd06810-752e-4acd-aca4-3b8ad6e344a6</th>\n",
       "      <td>buildingAretailFloor0</td>\n",
       "      <td>floor</td>\n",
       "      <td>534.530238</td>\n",
       "      <td>534.530238</td>\n",
       "      <td>f2b95810-88f4-4e6b-b58c-3954b59b175c</td>\n",
       "      <td>NaN</td>\n",
       "      <td>0.3</td>\n",
       "      <td>0.0</td>\n",
       "    </tr>\n",
       "    <tr>\n",
       "      <th>550a32d6-c3fb-4c23-99fa-780592b69224</th>\n",
       "      <td>buildingAresidentialFloor0</td>\n",
       "      <td>floor</td>\n",
       "      <td>57.900000</td>\n",
       "      <td>57.900000</td>\n",
       "      <td>4b425c76-d286-42c6-8f0a-c2251122d212</td>\n",
       "      <td>NaN</td>\n",
       "      <td>0.3</td>\n",
       "      <td>0.0</td>\n",
       "    </tr>\n",
       "    <tr>\n",
       "      <th>f04a9d62-ed7c-4eae-8874-082179472279</th>\n",
       "      <td>buildingAresidentialFloor0</td>\n",
       "      <td>floor</td>\n",
       "      <td>43.800000</td>\n",
       "      <td>43.800000</td>\n",
       "      <td>4b425c76-d286-42c6-8f0a-c2251122d212</td>\n",
       "      <td>NaN</td>\n",
       "      <td>0.3</td>\n",
       "      <td>0.0</td>\n",
       "    </tr>\n",
       "    <tr>\n",
       "      <th>faf0e45c-a74d-46a2-be7f-c63315a6aa0b</th>\n",
       "      <td>buildingAresidentialFloor1</td>\n",
       "      <td>floor</td>\n",
       "      <td>731.481030</td>\n",
       "      <td>731.481030</td>\n",
       "      <td>4b425c76-d286-42c6-8f0a-c2251122d212</td>\n",
       "      <td>NaN</td>\n",
       "      <td>5.3</td>\n",
       "      <td>1.0</td>\n",
       "    </tr>\n",
       "    <tr>\n",
       "      <th>e677c443-81df-4d7c-a0b9-de37a2459ca0</th>\n",
       "      <td>buildingAresidentialFloor2</td>\n",
       "      <td>floor</td>\n",
       "      <td>731.481030</td>\n",
       "      <td>731.481030</td>\n",
       "      <td>4b425c76-d286-42c6-8f0a-c2251122d212</td>\n",
       "      <td>NaN</td>\n",
       "      <td>8.4</td>\n",
       "      <td>2.0</td>\n",
       "    </tr>\n",
       "    <tr>\n",
       "      <th>8a3a9eb5-25b8-4f01-80cd-9b87c692a1fb</th>\n",
       "      <td>buildingAresidentialFloor3</td>\n",
       "      <td>floor</td>\n",
       "      <td>731.481030</td>\n",
       "      <td>731.481030</td>\n",
       "      <td>4b425c76-d286-42c6-8f0a-c2251122d212</td>\n",
       "      <td>NaN</td>\n",
       "      <td>11.5</td>\n",
       "      <td>3.0</td>\n",
       "    </tr>\n",
       "    <tr>\n",
       "      <th>887654e7-9a5e-4229-a2d9-52965ef3c764</th>\n",
       "      <td>buildingAretailFloor0</td>\n",
       "      <td>floor</td>\n",
       "      <td>1123.715326</td>\n",
       "      <td>1123.715326</td>\n",
       "      <td>218fd91a-d72c-4fb2-a82f-3882388659f9</td>\n",
       "      <td>NaN</td>\n",
       "      <td>0.3</td>\n",
       "      <td>0.0</td>\n",
       "    </tr>\n",
       "    <tr>\n",
       "      <th>b8992cc5-7cef-40a1-9b84-1b0bf7b33dcb</th>\n",
       "      <td>buildingAofficeFloor1</td>\n",
       "      <td>floor</td>\n",
       "      <td>1650.842103</td>\n",
       "      <td>1650.842103</td>\n",
       "      <td>f746d0de-a8ab-491e-9d3f-875c62c87f53</td>\n",
       "      <td>NaN</td>\n",
       "      <td>5.3</td>\n",
       "      <td>1.0</td>\n",
       "    </tr>\n",
       "    <tr>\n",
       "      <th>db13e799-4efd-481c-ae1d-db47b6a7e997</th>\n",
       "      <td>buildingAofficeFloor2</td>\n",
       "      <td>floor</td>\n",
       "      <td>1448.922008</td>\n",
       "      <td>1448.922008</td>\n",
       "      <td>f746d0de-a8ab-491e-9d3f-875c62c87f53</td>\n",
       "      <td>NaN</td>\n",
       "      <td>8.4</td>\n",
       "      <td>2.0</td>\n",
       "    </tr>\n",
       "    <tr>\n",
       "      <th>7fd89991-3575-4f24-93c6-36a15deef8c1</th>\n",
       "      <td>buildingAofficeFloor3</td>\n",
       "      <td>floor</td>\n",
       "      <td>1448.922008</td>\n",
       "      <td>1448.922008</td>\n",
       "      <td>f746d0de-a8ab-491e-9d3f-875c62c87f53</td>\n",
       "      <td>NaN</td>\n",
       "      <td>11.5</td>\n",
       "      <td>3.0</td>\n",
       "    </tr>\n",
       "    <tr>\n",
       "      <th>3d738ff6-0132-407b-a157-bcdbddab3185</th>\n",
       "      <td>buildingAofficeFloor4</td>\n",
       "      <td>floor</td>\n",
       "      <td>1448.922008</td>\n",
       "      <td>1448.922008</td>\n",
       "      <td>f746d0de-a8ab-491e-9d3f-875c62c87f53</td>\n",
       "      <td>NaN</td>\n",
       "      <td>14.6</td>\n",
       "      <td>4.0</td>\n",
       "    </tr>\n",
       "    <tr>\n",
       "      <th>a47cb204-0317-46bf-a023-000272671b88</th>\n",
       "      <td>buildingAofficeFloor5</td>\n",
       "      <td>floor</td>\n",
       "      <td>1448.922008</td>\n",
       "      <td>1448.922008</td>\n",
       "      <td>f746d0de-a8ab-491e-9d3f-875c62c87f53</td>\n",
       "      <td>NaN</td>\n",
       "      <td>17.7</td>\n",
       "      <td>5.0</td>\n",
       "    </tr>\n",
       "    <tr>\n",
       "      <th>c1c1de38-f85c-4ea5-8a3c-c1b0809419a6</th>\n",
       "      <td>buildingAofficeFloor6</td>\n",
       "      <td>floor</td>\n",
       "      <td>1448.922008</td>\n",
       "      <td>1448.922008</td>\n",
       "      <td>f746d0de-a8ab-491e-9d3f-875c62c87f53</td>\n",
       "      <td>NaN</td>\n",
       "      <td>20.8</td>\n",
       "      <td>6.0</td>\n",
       "    </tr>\n",
       "    <tr>\n",
       "      <th>a1d87916-6fe5-4199-b126-b0d576f80c48</th>\n",
       "      <td>buildingAofficeFloor7</td>\n",
       "      <td>floor</td>\n",
       "      <td>1448.922008</td>\n",
       "      <td>1448.922008</td>\n",
       "      <td>f746d0de-a8ab-491e-9d3f-875c62c87f53</td>\n",
       "      <td>NaN</td>\n",
       "      <td>23.9</td>\n",
       "      <td>7.0</td>\n",
       "    </tr>\n",
       "    <tr>\n",
       "      <th>ab0e1b85-def5-48b5-82d9-8f72f93eb0b3</th>\n",
       "      <td>buildingAofficeFloor8</td>\n",
       "      <td>floor</td>\n",
       "      <td>1448.922008</td>\n",
       "      <td>1448.922008</td>\n",
       "      <td>f746d0de-a8ab-491e-9d3f-875c62c87f53</td>\n",
       "      <td>NaN</td>\n",
       "      <td>27.0</td>\n",
       "      <td>8.0</td>\n",
       "    </tr>\n",
       "    <tr>\n",
       "      <th>82aa4837-1b06-4df1-be65-c1f644d79704</th>\n",
       "      <td>buildingAofficeFloor9</td>\n",
       "      <td>floor</td>\n",
       "      <td>1448.922008</td>\n",
       "      <td>1448.922008</td>\n",
       "      <td>f746d0de-a8ab-491e-9d3f-875c62c87f53</td>\n",
       "      <td>NaN</td>\n",
       "      <td>30.1</td>\n",
       "      <td>9.0</td>\n",
       "    </tr>\n",
       "    <tr>\n",
       "      <th>510e17fc-4933-4ec5-be97-a2a2b7f952b6</th>\n",
       "      <td>buildingAofficeFloor10</td>\n",
       "      <td>floor</td>\n",
       "      <td>1448.922008</td>\n",
       "      <td>1448.922008</td>\n",
       "      <td>f746d0de-a8ab-491e-9d3f-875c62c87f53</td>\n",
       "      <td>NaN</td>\n",
       "      <td>33.2</td>\n",
       "      <td>10.0</td>\n",
       "    </tr>\n",
       "  </tbody>\n",
       "</table>\n",
       "</div>"
      ],
      "text/plain": [
       "                                                            name       type  \\\n",
       "4fd8cf16-d01f-4d1e-964b-87942232e857                    property   property   \n",
       "b72f69fc-5c1e-4501-99fb-01c3d3b4dddd                   buildingB   building   \n",
       "b7673e43-2e24-42df-bc0a-a364891daa94                      plinth   building   \n",
       "37e4f7dd-a27d-4e7e-b7f2-3da8bc46b4ac                   buildingA   building   \n",
       "d68eab6c-7031-4780-b8da-a356d629dbe4                   utilities  utilities   \n",
       "62e63c92-aff1-43da-9ff8-538567f943e6        buildingBresidential      space   \n",
       "ae3ed380-4db9-4e55-94c3-259f913205a2            buildingBparking      space   \n",
       "d0dd5d16-1a60-4cf4-9261-873a76b551ae             buildingBretail      space   \n",
       "b7db88ba-b8cc-4f29-a67c-b996707a1340              buildingBcores  utilities   \n",
       "a7da795b-96a8-4f81-bb89-fda0e88a783c  buildingBresidentialFloor0      floor   \n",
       "d43eb48b-bcdf-4039-a9ec-20839ecf9fdb  buildingBresidentialFloor1      floor   \n",
       "beef28d1-5882-484f-b84d-3f318570113c  buildingBresidentialFloor2      floor   \n",
       "f56b43a6-e061-4148-b2ad-57ff44fa4233  buildingBresidentialFloor3      floor   \n",
       "2651bc40-b486-4d06-9872-6506cb6b1c20  buildingBresidentialFloor4      floor   \n",
       "0a44df41-c11a-4b3e-93a2-832da0897097  buildingBresidentialFloor5      floor   \n",
       "22fe1b3c-a9f0-4ce7-b049-8fb5648e5a91  buildingBresidentialFloor6      floor   \n",
       "e9bbf6dc-4e29-4d57-8fbe-11b7ff85dd41  buildingBresidentialFloor0      floor   \n",
       "c6c2936d-94c9-4161-b971-09b3ace1ac1a      buildingBparkingFloor0      floor   \n",
       "5afcbb21-2864-46e7-9b5f-32aff1509606       buildingBretailFloor0      floor   \n",
       "fae72e2d-608f-4666-acc8-7799896797a6               plinthparking      space   \n",
       "9dc0420d-bc75-4bad-97e4-97595dfe3be4                 plinthplant  utilities   \n",
       "c7d04af3-0655-4c38-ac39-70a396e20dea        plinthparkingFloor-2      floor   \n",
       "13a20724-8e76-4ccb-8f78-39775e41c67e        plinthparkingFloor-1      floor   \n",
       "19b22f27-b94d-4358-a516-8edd7e7bd15e            buildingAparking      space   \n",
       "f2b95810-88f4-4e6b-b58c-3954b59b175c             buildingAretail      space   \n",
       "4b425c76-d286-42c6-8f0a-c2251122d212        buildingAresidential      space   \n",
       "218fd91a-d72c-4fb2-a82f-3882388659f9             buildingAretail      space   \n",
       "f746d0de-a8ab-491e-9d3f-875c62c87f53             buildingAoffice      space   \n",
       "c94db8fb-243f-4dec-95af-3c93f04e0cf5              buildingAcores  utilities   \n",
       "6fbaaae2-13f8-422f-aa8f-4f32918ecc04      buildingAparkingFloor0      floor   \n",
       "4bd06810-752e-4acd-aca4-3b8ad6e344a6       buildingAretailFloor0      floor   \n",
       "550a32d6-c3fb-4c23-99fa-780592b69224  buildingAresidentialFloor0      floor   \n",
       "f04a9d62-ed7c-4eae-8874-082179472279  buildingAresidentialFloor0      floor   \n",
       "faf0e45c-a74d-46a2-be7f-c63315a6aa0b  buildingAresidentialFloor1      floor   \n",
       "e677c443-81df-4d7c-a0b9-de37a2459ca0  buildingAresidentialFloor2      floor   \n",
       "8a3a9eb5-25b8-4f01-80cd-9b87c692a1fb  buildingAresidentialFloor3      floor   \n",
       "887654e7-9a5e-4229-a2d9-52965ef3c764       buildingAretailFloor0      floor   \n",
       "b8992cc5-7cef-40a1-9b84-1b0bf7b33dcb       buildingAofficeFloor1      floor   \n",
       "db13e799-4efd-481c-ae1d-db47b6a7e997       buildingAofficeFloor2      floor   \n",
       "7fd89991-3575-4f24-93c6-36a15deef8c1       buildingAofficeFloor3      floor   \n",
       "3d738ff6-0132-407b-a157-bcdbddab3185       buildingAofficeFloor4      floor   \n",
       "a47cb204-0317-46bf-a023-000272671b88       buildingAofficeFloor5      floor   \n",
       "c1c1de38-f85c-4ea5-8a3c-c1b0809419a6       buildingAofficeFloor6      floor   \n",
       "a1d87916-6fe5-4199-b126-b0d576f80c48       buildingAofficeFloor7      floor   \n",
       "ab0e1b85-def5-48b5-82d9-8f72f93eb0b3       buildingAofficeFloor8      floor   \n",
       "82aa4837-1b06-4df1-be65-c1f644d79704       buildingAofficeFloor9      floor   \n",
       "510e17fc-4933-4ec5-be97-a2a2b7f952b6      buildingAofficeFloor10      floor   \n",
       "\n",
       "                                              gfa  subtotal_gfa  \\\n",
       "4fd8cf16-d01f-4d1e-964b-87942232e857          NaN  45816.419959   \n",
       "b72f69fc-5c1e-4501-99fb-01c3d3b4dddd          NaN  13436.884829   \n",
       "b7673e43-2e24-42df-bc0a-a364891daa94          NaN  12773.744211   \n",
       "37e4f7dd-a27d-4e7e-b7f2-3da8bc46b4ac          NaN  19605.790919   \n",
       "d68eab6c-7031-4780-b8da-a356d629dbe4          NaN      0.000000   \n",
       "62e63c92-aff1-43da-9ff8-538567f943e6          NaN  11442.736624   \n",
       "ae3ed380-4db9-4e55-94c3-259f913205a2          NaN   1178.164752   \n",
       "d0dd5d16-1a60-4cf4-9261-873a76b551ae          NaN    815.983454   \n",
       "b7db88ba-b8cc-4f29-a67c-b996707a1340          NaN      0.000000   \n",
       "a7da795b-96a8-4f81-bb89-fda0e88a783c   765.941631    765.941631   \n",
       "d43eb48b-bcdf-4039-a9ec-20839ecf9fdb  2361.056035   2361.056035   \n",
       "beef28d1-5882-484f-b84d-3f318570113c  2361.056035   2361.056035   \n",
       "f56b43a6-e061-4148-b2ad-57ff44fa4233  2015.956035   2015.956035   \n",
       "2651bc40-b486-4d06-9872-6506cb6b1c20  2015.956035   2015.956035   \n",
       "0a44df41-c11a-4b3e-93a2-832da0897097   875.014900    875.014900   \n",
       "22fe1b3c-a9f0-4ce7-b049-8fb5648e5a91   875.014900    875.014900   \n",
       "e9bbf6dc-4e29-4d57-8fbe-11b7ff85dd41   172.741054    172.741054   \n",
       "c6c2936d-94c9-4161-b971-09b3ace1ac1a  1178.164752   1178.164752   \n",
       "5afcbb21-2864-46e7-9b5f-32aff1509606   815.983454    815.983454   \n",
       "fae72e2d-608f-4666-acc8-7799896797a6          NaN  12773.744211   \n",
       "9dc0420d-bc75-4bad-97e4-97595dfe3be4          NaN      0.000000   \n",
       "c7d04af3-0655-4c38-ac39-70a396e20dea  6386.872106   6386.872106   \n",
       "13a20724-8e76-4ccb-8f78-39775e41c67e  6386.872106   6386.872106   \n",
       "19b22f27-b94d-4358-a516-8edd7e7bd15e          NaN    960.262087   \n",
       "f2b95810-88f4-4e6b-b58c-3954b59b175c          NaN    534.530238   \n",
       "4b425c76-d286-42c6-8f0a-c2251122d212          NaN   2296.143091   \n",
       "218fd91a-d72c-4fb2-a82f-3882388659f9          NaN   1123.715326   \n",
       "f746d0de-a8ab-491e-9d3f-875c62c87f53          NaN  14691.140177   \n",
       "c94db8fb-243f-4dec-95af-3c93f04e0cf5          NaN      0.000000   \n",
       "6fbaaae2-13f8-422f-aa8f-4f32918ecc04   960.262087    960.262087   \n",
       "4bd06810-752e-4acd-aca4-3b8ad6e344a6   534.530238    534.530238   \n",
       "550a32d6-c3fb-4c23-99fa-780592b69224    57.900000     57.900000   \n",
       "f04a9d62-ed7c-4eae-8874-082179472279    43.800000     43.800000   \n",
       "faf0e45c-a74d-46a2-be7f-c63315a6aa0b   731.481030    731.481030   \n",
       "e677c443-81df-4d7c-a0b9-de37a2459ca0   731.481030    731.481030   \n",
       "8a3a9eb5-25b8-4f01-80cd-9b87c692a1fb   731.481030    731.481030   \n",
       "887654e7-9a5e-4229-a2d9-52965ef3c764  1123.715326   1123.715326   \n",
       "b8992cc5-7cef-40a1-9b84-1b0bf7b33dcb  1650.842103   1650.842103   \n",
       "db13e799-4efd-481c-ae1d-db47b6a7e997  1448.922008   1448.922008   \n",
       "7fd89991-3575-4f24-93c6-36a15deef8c1  1448.922008   1448.922008   \n",
       "3d738ff6-0132-407b-a157-bcdbddab3185  1448.922008   1448.922008   \n",
       "a47cb204-0317-46bf-a023-000272671b88  1448.922008   1448.922008   \n",
       "c1c1de38-f85c-4ea5-8a3c-c1b0809419a6  1448.922008   1448.922008   \n",
       "a1d87916-6fe5-4199-b126-b0d576f80c48  1448.922008   1448.922008   \n",
       "ab0e1b85-def5-48b5-82d9-8f72f93eb0b3  1448.922008   1448.922008   \n",
       "82aa4837-1b06-4df1-be65-c1f644d79704  1448.922008   1448.922008   \n",
       "510e17fc-4933-4ec5-be97-a2a2b7f952b6  1448.922008   1448.922008   \n",
       "\n",
       "                                                                    parent  \\\n",
       "4fd8cf16-d01f-4d1e-964b-87942232e857                                  None   \n",
       "b72f69fc-5c1e-4501-99fb-01c3d3b4dddd  4fd8cf16-d01f-4d1e-964b-87942232e857   \n",
       "b7673e43-2e24-42df-bc0a-a364891daa94  4fd8cf16-d01f-4d1e-964b-87942232e857   \n",
       "37e4f7dd-a27d-4e7e-b7f2-3da8bc46b4ac  4fd8cf16-d01f-4d1e-964b-87942232e857   \n",
       "d68eab6c-7031-4780-b8da-a356d629dbe4  4fd8cf16-d01f-4d1e-964b-87942232e857   \n",
       "62e63c92-aff1-43da-9ff8-538567f943e6  b72f69fc-5c1e-4501-99fb-01c3d3b4dddd   \n",
       "ae3ed380-4db9-4e55-94c3-259f913205a2  b72f69fc-5c1e-4501-99fb-01c3d3b4dddd   \n",
       "d0dd5d16-1a60-4cf4-9261-873a76b551ae  b72f69fc-5c1e-4501-99fb-01c3d3b4dddd   \n",
       "b7db88ba-b8cc-4f29-a67c-b996707a1340  b72f69fc-5c1e-4501-99fb-01c3d3b4dddd   \n",
       "a7da795b-96a8-4f81-bb89-fda0e88a783c  62e63c92-aff1-43da-9ff8-538567f943e6   \n",
       "d43eb48b-bcdf-4039-a9ec-20839ecf9fdb  62e63c92-aff1-43da-9ff8-538567f943e6   \n",
       "beef28d1-5882-484f-b84d-3f318570113c  62e63c92-aff1-43da-9ff8-538567f943e6   \n",
       "f56b43a6-e061-4148-b2ad-57ff44fa4233  62e63c92-aff1-43da-9ff8-538567f943e6   \n",
       "2651bc40-b486-4d06-9872-6506cb6b1c20  62e63c92-aff1-43da-9ff8-538567f943e6   \n",
       "0a44df41-c11a-4b3e-93a2-832da0897097  62e63c92-aff1-43da-9ff8-538567f943e6   \n",
       "22fe1b3c-a9f0-4ce7-b049-8fb5648e5a91  62e63c92-aff1-43da-9ff8-538567f943e6   \n",
       "e9bbf6dc-4e29-4d57-8fbe-11b7ff85dd41  62e63c92-aff1-43da-9ff8-538567f943e6   \n",
       "c6c2936d-94c9-4161-b971-09b3ace1ac1a  ae3ed380-4db9-4e55-94c3-259f913205a2   \n",
       "5afcbb21-2864-46e7-9b5f-32aff1509606  d0dd5d16-1a60-4cf4-9261-873a76b551ae   \n",
       "fae72e2d-608f-4666-acc8-7799896797a6  b7673e43-2e24-42df-bc0a-a364891daa94   \n",
       "9dc0420d-bc75-4bad-97e4-97595dfe3be4  b7673e43-2e24-42df-bc0a-a364891daa94   \n",
       "c7d04af3-0655-4c38-ac39-70a396e20dea  fae72e2d-608f-4666-acc8-7799896797a6   \n",
       "13a20724-8e76-4ccb-8f78-39775e41c67e  fae72e2d-608f-4666-acc8-7799896797a6   \n",
       "19b22f27-b94d-4358-a516-8edd7e7bd15e  37e4f7dd-a27d-4e7e-b7f2-3da8bc46b4ac   \n",
       "f2b95810-88f4-4e6b-b58c-3954b59b175c  37e4f7dd-a27d-4e7e-b7f2-3da8bc46b4ac   \n",
       "4b425c76-d286-42c6-8f0a-c2251122d212  37e4f7dd-a27d-4e7e-b7f2-3da8bc46b4ac   \n",
       "218fd91a-d72c-4fb2-a82f-3882388659f9  37e4f7dd-a27d-4e7e-b7f2-3da8bc46b4ac   \n",
       "f746d0de-a8ab-491e-9d3f-875c62c87f53  37e4f7dd-a27d-4e7e-b7f2-3da8bc46b4ac   \n",
       "c94db8fb-243f-4dec-95af-3c93f04e0cf5  37e4f7dd-a27d-4e7e-b7f2-3da8bc46b4ac   \n",
       "6fbaaae2-13f8-422f-aa8f-4f32918ecc04  19b22f27-b94d-4358-a516-8edd7e7bd15e   \n",
       "4bd06810-752e-4acd-aca4-3b8ad6e344a6  f2b95810-88f4-4e6b-b58c-3954b59b175c   \n",
       "550a32d6-c3fb-4c23-99fa-780592b69224  4b425c76-d286-42c6-8f0a-c2251122d212   \n",
       "f04a9d62-ed7c-4eae-8874-082179472279  4b425c76-d286-42c6-8f0a-c2251122d212   \n",
       "faf0e45c-a74d-46a2-be7f-c63315a6aa0b  4b425c76-d286-42c6-8f0a-c2251122d212   \n",
       "e677c443-81df-4d7c-a0b9-de37a2459ca0  4b425c76-d286-42c6-8f0a-c2251122d212   \n",
       "8a3a9eb5-25b8-4f01-80cd-9b87c692a1fb  4b425c76-d286-42c6-8f0a-c2251122d212   \n",
       "887654e7-9a5e-4229-a2d9-52965ef3c764  218fd91a-d72c-4fb2-a82f-3882388659f9   \n",
       "b8992cc5-7cef-40a1-9b84-1b0bf7b33dcb  f746d0de-a8ab-491e-9d3f-875c62c87f53   \n",
       "db13e799-4efd-481c-ae1d-db47b6a7e997  f746d0de-a8ab-491e-9d3f-875c62c87f53   \n",
       "7fd89991-3575-4f24-93c6-36a15deef8c1  f746d0de-a8ab-491e-9d3f-875c62c87f53   \n",
       "3d738ff6-0132-407b-a157-bcdbddab3185  f746d0de-a8ab-491e-9d3f-875c62c87f53   \n",
       "a47cb204-0317-46bf-a023-000272671b88  f746d0de-a8ab-491e-9d3f-875c62c87f53   \n",
       "c1c1de38-f85c-4ea5-8a3c-c1b0809419a6  f746d0de-a8ab-491e-9d3f-875c62c87f53   \n",
       "a1d87916-6fe5-4199-b126-b0d576f80c48  f746d0de-a8ab-491e-9d3f-875c62c87f53   \n",
       "ab0e1b85-def5-48b5-82d9-8f72f93eb0b3  f746d0de-a8ab-491e-9d3f-875c62c87f53   \n",
       "82aa4837-1b06-4df1-be65-c1f644d79704  f746d0de-a8ab-491e-9d3f-875c62c87f53   \n",
       "510e17fc-4933-4ec5-be97-a2a2b7f952b6  f746d0de-a8ab-491e-9d3f-875c62c87f53   \n",
       "\n",
       "                                              use   ffl  number  \n",
       "4fd8cf16-d01f-4d1e-964b-87942232e857          NaN   NaN     NaN  \n",
       "b72f69fc-5c1e-4501-99fb-01c3d3b4dddd          NaN   NaN     NaN  \n",
       "b7673e43-2e24-42df-bc0a-a364891daa94          NaN   NaN     NaN  \n",
       "37e4f7dd-a27d-4e7e-b7f2-3da8bc46b4ac          NaN   NaN     NaN  \n",
       "d68eab6c-7031-4780-b8da-a356d629dbe4          NaN   NaN     NaN  \n",
       "62e63c92-aff1-43da-9ff8-538567f943e6  residential   NaN     NaN  \n",
       "ae3ed380-4db9-4e55-94c3-259f913205a2      parking   NaN     NaN  \n",
       "d0dd5d16-1a60-4cf4-9261-873a76b551ae       retail   NaN     NaN  \n",
       "b7db88ba-b8cc-4f29-a67c-b996707a1340        cores   NaN     NaN  \n",
       "a7da795b-96a8-4f81-bb89-fda0e88a783c          NaN   0.3     0.0  \n",
       "d43eb48b-bcdf-4039-a9ec-20839ecf9fdb          NaN   5.3     1.0  \n",
       "beef28d1-5882-484f-b84d-3f318570113c          NaN   8.4     2.0  \n",
       "f56b43a6-e061-4148-b2ad-57ff44fa4233          NaN  11.5     3.0  \n",
       "2651bc40-b486-4d06-9872-6506cb6b1c20          NaN  14.6     4.0  \n",
       "0a44df41-c11a-4b3e-93a2-832da0897097          NaN  17.7     5.0  \n",
       "22fe1b3c-a9f0-4ce7-b049-8fb5648e5a91          NaN  20.8     6.0  \n",
       "e9bbf6dc-4e29-4d57-8fbe-11b7ff85dd41          NaN   0.3     0.0  \n",
       "c6c2936d-94c9-4161-b971-09b3ace1ac1a          NaN   0.3     0.0  \n",
       "5afcbb21-2864-46e7-9b5f-32aff1509606          NaN   0.3     0.0  \n",
       "fae72e2d-608f-4666-acc8-7799896797a6      parking   NaN     NaN  \n",
       "9dc0420d-bc75-4bad-97e4-97595dfe3be4        plant   NaN     NaN  \n",
       "c7d04af3-0655-4c38-ac39-70a396e20dea          NaN  -5.9    -2.0  \n",
       "13a20724-8e76-4ccb-8f78-39775e41c67e          NaN  -2.8    -1.0  \n",
       "19b22f27-b94d-4358-a516-8edd7e7bd15e      parking   NaN     NaN  \n",
       "f2b95810-88f4-4e6b-b58c-3954b59b175c       retail   NaN     NaN  \n",
       "4b425c76-d286-42c6-8f0a-c2251122d212  residential   NaN     NaN  \n",
       "218fd91a-d72c-4fb2-a82f-3882388659f9       retail   NaN     NaN  \n",
       "f746d0de-a8ab-491e-9d3f-875c62c87f53       office   NaN     NaN  \n",
       "c94db8fb-243f-4dec-95af-3c93f04e0cf5        cores   NaN     NaN  \n",
       "6fbaaae2-13f8-422f-aa8f-4f32918ecc04          NaN   0.3     0.0  \n",
       "4bd06810-752e-4acd-aca4-3b8ad6e344a6          NaN   0.3     0.0  \n",
       "550a32d6-c3fb-4c23-99fa-780592b69224          NaN   0.3     0.0  \n",
       "f04a9d62-ed7c-4eae-8874-082179472279          NaN   0.3     0.0  \n",
       "faf0e45c-a74d-46a2-be7f-c63315a6aa0b          NaN   5.3     1.0  \n",
       "e677c443-81df-4d7c-a0b9-de37a2459ca0          NaN   8.4     2.0  \n",
       "8a3a9eb5-25b8-4f01-80cd-9b87c692a1fb          NaN  11.5     3.0  \n",
       "887654e7-9a5e-4229-a2d9-52965ef3c764          NaN   0.3     0.0  \n",
       "b8992cc5-7cef-40a1-9b84-1b0bf7b33dcb          NaN   5.3     1.0  \n",
       "db13e799-4efd-481c-ae1d-db47b6a7e997          NaN   8.4     2.0  \n",
       "7fd89991-3575-4f24-93c6-36a15deef8c1          NaN  11.5     3.0  \n",
       "3d738ff6-0132-407b-a157-bcdbddab3185          NaN  14.6     4.0  \n",
       "a47cb204-0317-46bf-a023-000272671b88          NaN  17.7     5.0  \n",
       "c1c1de38-f85c-4ea5-8a3c-c1b0809419a6          NaN  20.8     6.0  \n",
       "a1d87916-6fe5-4199-b126-b0d576f80c48          NaN  23.9     7.0  \n",
       "ab0e1b85-def5-48b5-82d9-8f72f93eb0b3          NaN  27.0     8.0  \n",
       "82aa4837-1b06-4df1-be65-c1f644d79704          NaN  30.1     9.0  \n",
       "510e17fc-4933-4ec5-be97-a2a2b7f952b6          NaN  33.2    10.0  "
      ]
     },
     "execution_count": 9,
     "metadata": {},
     "output_type": "execute_result"
    }
   ],
   "source": [
    "df = spatial_containment.to_DataFrame()\n",
    "df = df[['name', 'type', 'gfa', 'subtotal_gfa', 'parent', 'use', 'ffl', 'number']]\n",
    "df"
   ]
  },
  {
   "cell_type": "code",
   "execution_count": 10,
   "metadata": {
    "ExecuteTime": {
     "end_time": "2023-06-30T03:54:44.342739Z",
     "start_time": "2023-06-30T03:54:44.323499Z"
    },
    "collapsed": false
   },
   "outputs": [
    {
     "data": {
      "text/html": [
       "\n",
       "        <iframe\n",
       "            width=\"100%\"\n",
       "            height=\"1600\"\n",
       "            src=\"./spatial_containment_chart.html\"\n",
       "            frameborder=\"0\"\n",
       "            allowfullscreen\n",
       "            \n",
       "        ></iframe>\n",
       "        "
      ],
      "text/plain": [
       "<IPython.lib.display.IFrame at 0x2a2aa0dc0>"
      ]
     },
     "execution_count": 10,
     "metadata": {},
     "output_type": "execute_result"
    }
   ],
   "source": [
    "sunburst = spatial_containment.sunburst(property='subtotal_gfa')\n",
    "treemap = spatial_containment.treemap(property='subtotal_gfa')\n",
    "fig = plotly.subplots.make_subplots(\n",
    "    rows=2, cols=1,\n",
    "    specs=[[{\"type\": \"sunburst\"}], [{\"type\": \"treemap\"}]],\n",
    "    subplot_titles=('Gross Floor Area - Sunburst Plot', 'Gross Floor Area - Treemap Plot'))\n",
    "fig.append_trace(sunburst, row=1, col=1)\n",
    "fig.append_trace(treemap, row=2, col=1)\n",
    "filename='spatial_containment_chart.html'\n",
    "\n",
    "py.plot(fig, filename=f'assets/{filename}', auto_open=False)\n",
    "IFrame(src=f'./{filename}', width='100%', height=800 * len(fig.data))"
   ]
  },
  {
   "cell_type": "code",
   "execution_count": 11,
   "metadata": {
    "ExecuteTime": {
     "end_time": "2023-06-30T03:54:44.347245Z",
     "start_time": "2023-06-30T03:54:44.345492Z"
    },
    "collapsed": false
   },
   "outputs": [],
   "source": [
    "floors = property.filter_by_type(entity_type='floor')\n",
    "floors = [floor for floor in floors.get_entities().values() if hasattr(floor, 'gfa')]"
   ]
  },
  {
   "cell_type": "code",
   "execution_count": 12,
   "metadata": {
    "ExecuteTime": {
     "end_time": "2023-06-30T03:54:44.357403Z",
     "start_time": "2023-06-30T03:54:44.346820Z"
    },
    "collapsed": false
   },
   "outputs": [],
   "source": [
    "locale.setlocale(locale.LC_ALL, 'en_au')\n",
    "units = rk.measure.Index.registry\n",
    "currency = rk.measure.register_currency(registry=units)\n",
    "period_type = rk.periodicity.Type.YEAR"
   ]
  },
  {
   "cell_type": "code",
   "execution_count": 13,
   "metadata": {
    "ExecuteTime": {
     "end_time": "2023-06-30T03:54:44.357561Z",
     "start_time": "2023-06-30T03:54:44.352097Z"
    },
    "collapsed": false
   },
   "outputs": [],
   "source": [
    "efficiency_ratios = dict(\n",
    "    office=0.825,\n",
    "    retail=0.675,\n",
    "    residential=0.75,\n",
    "    parking=0.9\n",
    "    )\n",
    "initial_income_per_area_pa = dict(\n",
    "    office=750,\n",
    "    retail=1000,\n",
    "    residential=600,\n",
    "    parking=0\n",
    "    )\n",
    "pgi_growth_rates = dict(\n",
    "    office=.025,\n",
    "    retail=.075,\n",
    "    residential=.055,\n",
    "    parking=0\n",
    "    )\n",
    "vacancy_rates = dict(\n",
    "    office=.075,\n",
    "    retail=.5,\n",
    "    residential=.02,\n",
    "    parking=0,\n",
    "    )"
   ]
  },
  {
   "cell_type": "code",
   "execution_count": 14,
   "metadata": {
    "ExecuteTime": {
     "end_time": "2023-06-30T03:54:44.359733Z",
     "start_time": "2023-06-30T03:54:44.357047Z"
    },
    "collapsed": false
   },
   "outputs": [
    {
     "data": {
      "text/html": [
       "<div>\n",
       "<style scoped>\n",
       "    .dataframe tbody tr th:only-of-type {\n",
       "        vertical-align: middle;\n",
       "    }\n",
       "\n",
       "    .dataframe tbody tr th {\n",
       "        vertical-align: top;\n",
       "    }\n",
       "\n",
       "    .dataframe thead th {\n",
       "        text-align: right;\n",
       "    }\n",
       "</style>\n",
       "<table border=\"1\" class=\"dataframe\">\n",
       "  <thead>\n",
       "    <tr style=\"text-align: right;\">\n",
       "      <th></th>\n",
       "      <th>efficiency_ratio</th>\n",
       "      <th>initial_income_per_area_pa</th>\n",
       "      <th>pgi_growth_rate</th>\n",
       "      <th>vacancy_rate</th>\n",
       "    </tr>\n",
       "  </thead>\n",
       "  <tbody>\n",
       "    <tr>\n",
       "      <th>office</th>\n",
       "      <td>0.825</td>\n",
       "      <td>750</td>\n",
       "      <td>0.025</td>\n",
       "      <td>0.075</td>\n",
       "    </tr>\n",
       "    <tr>\n",
       "      <th>retail</th>\n",
       "      <td>0.675</td>\n",
       "      <td>1000</td>\n",
       "      <td>0.075</td>\n",
       "      <td>0.500</td>\n",
       "    </tr>\n",
       "    <tr>\n",
       "      <th>residential</th>\n",
       "      <td>0.750</td>\n",
       "      <td>600</td>\n",
       "      <td>0.055</td>\n",
       "      <td>0.020</td>\n",
       "    </tr>\n",
       "    <tr>\n",
       "      <th>parking</th>\n",
       "      <td>0.900</td>\n",
       "      <td>0</td>\n",
       "      <td>0.000</td>\n",
       "      <td>0.000</td>\n",
       "    </tr>\n",
       "  </tbody>\n",
       "</table>\n",
       "</div>"
      ],
      "text/plain": [
       "             efficiency_ratio  initial_income_per_area_pa  pgi_growth_rate  \\\n",
       "office                  0.825                         750            0.025   \n",
       "retail                  0.675                        1000            0.075   \n",
       "residential             0.750                         600            0.055   \n",
       "parking                 0.900                           0            0.000   \n",
       "\n",
       "             vacancy_rate  \n",
       "office              0.075  \n",
       "retail              0.500  \n",
       "residential         0.020  \n",
       "parking             0.000  "
      ]
     },
     "execution_count": 14,
     "metadata": {},
     "output_type": "execute_result"
    }
   ],
   "source": [
    "revenue_inputs = pd.DataFrame(\n",
    "    data=dict(\n",
    "        efficiency_ratio=efficiency_ratios,\n",
    "        initial_income_per_area_pa=initial_income_per_area_pa,\n",
    "        pgi_growth_rate=pgi_growth_rates,\n",
    "        vacancy_rate=vacancy_rates,\n",
    "        ))\n",
    "revenue_inputs"
   ]
  },
  {
   "cell_type": "code",
   "execution_count": 15,
   "metadata": {
    "ExecuteTime": {
     "end_time": "2023-06-30T03:54:44.382307Z",
     "start_time": "2023-06-30T03:54:44.360107Z"
    },
    "collapsed": false
   },
   "outputs": [],
   "source": [
    "params = dict(\n",
    "    start_date=pd.Timestamp('2001-01-01'),\n",
    "    num_periods=10,\n",
    "    period_type=rk.periodicity.Type.YEAR\n",
    "    )"
   ]
  },
  {
   "cell_type": "code",
   "execution_count": 16,
   "metadata": {
    "ExecuteTime": {
     "end_time": "2023-06-30T03:54:44.382821Z",
     "start_time": "2023-06-30T03:54:44.364502Z"
    },
    "collapsed": false
   },
   "outputs": [],
   "source": [
    "class Spans:\n",
    "    def __init__(self, params: dict):\n",
    "        self.params = params\n",
    "        self.calc_span = rk.span.Span.from_num_periods(\n",
    "            name='Span to Calculate Reversion',\n",
    "            date=self.params['start_date'],\n",
    "            period_type=self.params['period_type'],\n",
    "            num_periods=self.params['num_periods'] + 1)\n",
    "        self.acq_span = rk.span.Span.from_num_periods(\n",
    "            name='Acquisition Span',\n",
    "            date=rk.periodicity.offset_date(\n",
    "                self.params['start_date'],\n",
    "                num_periods=-1,\n",
    "                period_type=self.params['period_type']),\n",
    "            period_type=self.params['period_type'],\n",
    "            num_periods=1)\n",
    "        self.span = self.calc_span.shift(\n",
    "            name='Span',\n",
    "            num_periods=-1,\n",
    "            period_type=self.params['period_type'],\n",
    "            bound='end')"
   ]
  },
  {
   "cell_type": "code",
   "execution_count": 17,
   "metadata": {
    "ExecuteTime": {
     "end_time": "2023-06-30T03:54:44.382859Z",
     "start_time": "2023-06-30T03:54:44.367017Z"
    },
    "collapsed": false
   },
   "outputs": [],
   "source": [
    "class Revenues:\n",
    "    def __init__(\n",
    "            self,\n",
    "            params: dict,\n",
    "            spans: Spans):\n",
    "        self.params = params\n",
    "        self.spans = spans"
   ]
  },
  {
   "cell_type": "code",
   "execution_count": 18,
   "metadata": {
    "ExecuteTime": {
     "end_time": "2023-06-30T03:54:44.382892Z",
     "start_time": "2023-06-30T03:54:44.371119Z"
    },
    "collapsed": false
   },
   "outputs": [],
   "source": [
    "@rk.update_class(Revenues)\n",
    "class Revenues:\n",
    "    def generate(self):\n",
    "        self.pgi = rk.flux.Flow.from_projection(\n",
    "            name='Potential Gross Income',\n",
    "            value=self.params['initial_income'],\n",
    "            proj=rk.projection.Extrapolation(\n",
    "            form=rk.extrapolation.Compounding(\n",
    "                rate=self.params['pgi_growth_rate']),\n",
    "            sequence=self.spans.calc_span.to_index(period_type=self.params['period_type'])),\n",
    "            units=currency.units)\n",
    "        self.vacancy = rk.flux.Flow(\n",
    "            name='Vacancy Allowance',\n",
    "            movements=self.pgi.movements * -self.params['vacancy_rate'],\n",
    "            units=currency.units)\n",
    "        self.egi = rk.flux.Stream(\n",
    "            name='Effective Gross Income',\n",
    "            flows=[self.pgi, self.vacancy],\n",
    "            period_type=self.params['period_type'])"
   ]
  },
  {
   "cell_type": "code",
   "execution_count": 19,
   "metadata": {
    "ExecuteTime": {
     "end_time": "2023-06-30T03:54:44.382926Z",
     "start_time": "2023-06-30T03:54:44.374314Z"
    },
    "collapsed": false
   },
   "outputs": [],
   "source": [
    "spans = Spans(params)"
   ]
  },
  {
   "cell_type": "code",
   "execution_count": 20,
   "metadata": {
    "ExecuteTime": {
     "end_time": "2023-06-30T03:54:44.509868Z",
     "start_time": "2023-06-30T03:54:44.473653Z"
    },
    "collapsed": false
   },
   "outputs": [],
   "source": [
    "for floor in floors:\n",
    "    parent = floor.get_relatives(\n",
    "        relationship_type='spatiallyContains',\n",
    "        outgoing=False,\n",
    "        assembly=spatial_containment)[0]\n",
    "    floor['use'] = parent['use']\n",
    "\n",
    "    floor.params = params.copy()\n",
    "    floor.params['initial_income'] = initial_income_per_area_pa[floor['use']] * floor['gfa'] * efficiency_ratios[floor['use']]\n",
    "    floor.params['pgi_growth_rate'] = pgi_growth_rates[floor['use']]\n",
    "    floor.params['vacancy_rate'] = vacancy_rates[floor['use']]\n",
    "\n",
    "    revenues = Revenues(floor.params, spans)\n",
    "    revenues.generate()\n",
    "    floor['pgi'] = revenues.pgi\n",
    "    floor['vacancy'] = revenues.vacancy\n",
    "    floor['egi'] = revenues.egi"
   ]
  },
  {
   "cell_type": "code",
   "execution_count": 21,
   "metadata": {
    "ExecuteTime": {
     "end_time": "2023-06-30T03:54:44.510010Z",
     "start_time": "2023-06-30T03:54:44.476250Z"
    },
    "collapsed": false
   },
   "outputs": [],
   "source": [
    "def aggregate_egis(**kwargs):\n",
    "    return rk.graph.Entity.aggregate_flows(\n",
    "        **kwargs,\n",
    "        name='Effective Gross Income',\n",
    "        period_type=period_type)"
   ]
  },
  {
   "cell_type": "code",
   "execution_count": 22,
   "metadata": {
    "ExecuteTime": {
     "end_time": "2023-06-30T03:54:44.702215Z",
     "start_time": "2023-06-30T03:54:44.540597Z"
    },
    "collapsed": false
   },
   "outputs": [],
   "source": [
    "property.aggregate(\n",
    "    function=aggregate_egis,\n",
    "    property='egi',\n",
    "    label='subtotal_egi',\n",
    "    relationship_type='spatiallyContains')"
   ]
  },
  {
   "cell_type": "code",
   "execution_count": 23,
   "metadata": {
    "ExecuteTime": {
     "end_time": "2023-06-30T03:54:44.706393Z",
     "start_time": "2023-06-30T03:54:44.702966Z"
    },
    "collapsed": false
   },
   "outputs": [
    {
     "data": {
      "text/plain": [
       "'Effective Gross Income'"
      ]
     },
     "execution_count": 23,
     "metadata": {},
     "output_type": "execute_result"
    }
   ],
   "source": [
    "floors[1]['egi'].name"
   ]
  },
  {
   "cell_type": "code",
   "execution_count": 24,
   "metadata": {
    "ExecuteTime": {
     "end_time": "2023-06-30T03:54:44.760212Z",
     "start_time": "2023-06-30T03:54:44.706543Z"
    },
    "collapsed": false
   },
   "outputs": [
    {
     "name": "stdout",
     "output_type": "stream",
     "text": [
      "buildingAoffice\n"
     ]
    },
    {
     "data": {
      "text/html": [
       "<table>\n",
       "<thead>\n",
       "<tr><th style=\"text-align: right;\">  date</th><th style=\"text-align: right;\">  Effective Gross Income for b8992cc5-7cef-40a1-9b84-1b0bf7b33dcb [buildingAofficeFloor1]</th><th style=\"text-align: right;\">  Effective Gross Income for db13e799-4efd-481c-ae1d-db47b6a7e997 [buildingAofficeFloor2]</th><th style=\"text-align: right;\">  Effective Gross Income for 7fd89991-3575-4f24-93c6-36a15deef8c1 [buildingAofficeFloor3]</th><th style=\"text-align: right;\">  Effective Gross Income for 3d738ff6-0132-407b-a157-bcdbddab3185 [buildingAofficeFloor4]</th><th style=\"text-align: right;\">  Effective Gross Income for a47cb204-0317-46bf-a023-000272671b88 [buildingAofficeFloor5]</th><th style=\"text-align: right;\">  Effective Gross Income for c1c1de38-f85c-4ea5-8a3c-c1b0809419a6 [buildingAofficeFloor6]</th><th style=\"text-align: right;\">  Effective Gross Income for a1d87916-6fe5-4199-b126-b0d576f80c48 [buildingAofficeFloor7]</th><th style=\"text-align: right;\">  Effective Gross Income for ab0e1b85-def5-48b5-82d9-8f72f93eb0b3 [buildingAofficeFloor8]</th><th style=\"text-align: right;\">  Effective Gross Income for 82aa4837-1b06-4df1-be65-c1f644d79704 [buildingAofficeFloor9]</th><th style=\"text-align: right;\">  Effective Gross Income for 510e17fc-4933-4ec5-be97-a2a2b7f952b6 [buildingAofficeFloor10]</th></tr>\n",
       "</thead>\n",
       "<tbody>\n",
       "<tr><td style=\"text-align: right;\">  2001</td><td style=\"text-align: right;\">                                                                              $944,849.16</td><td style=\"text-align: right;\">                                                                              $829,281.46</td><td style=\"text-align: right;\">                                                                              $829,281.46</td><td style=\"text-align: right;\">                                                                              $829,281.46</td><td style=\"text-align: right;\">                                                                              $829,281.46</td><td style=\"text-align: right;\">                                                                              $829,281.46</td><td style=\"text-align: right;\">                                                                              $829,281.46</td><td style=\"text-align: right;\">                                                                              $829,281.46</td><td style=\"text-align: right;\">                                                                              $829,281.46</td><td style=\"text-align: right;\">                                                                               $829,281.46</td></tr>\n",
       "<tr><td style=\"text-align: right;\">  2002</td><td style=\"text-align: right;\">                                                                              $968,470.39</td><td style=\"text-align: right;\">                                                                              $850,013.49</td><td style=\"text-align: right;\">                                                                              $850,013.49</td><td style=\"text-align: right;\">                                                                              $850,013.49</td><td style=\"text-align: right;\">                                                                              $850,013.49</td><td style=\"text-align: right;\">                                                                              $850,013.49</td><td style=\"text-align: right;\">                                                                              $850,013.49</td><td style=\"text-align: right;\">                                                                              $850,013.49</td><td style=\"text-align: right;\">                                                                              $850,013.49</td><td style=\"text-align: right;\">                                                                               $850,013.49</td></tr>\n",
       "<tr><td style=\"text-align: right;\">  2003</td><td style=\"text-align: right;\">                                                                              $992,682.15</td><td style=\"text-align: right;\">                                                                              $871,263.83</td><td style=\"text-align: right;\">                                                                              $871,263.83</td><td style=\"text-align: right;\">                                                                              $871,263.83</td><td style=\"text-align: right;\">                                                                              $871,263.83</td><td style=\"text-align: right;\">                                                                              $871,263.83</td><td style=\"text-align: right;\">                                                                              $871,263.83</td><td style=\"text-align: right;\">                                                                              $871,263.83</td><td style=\"text-align: right;\">                                                                              $871,263.83</td><td style=\"text-align: right;\">                                                                               $871,263.83</td></tr>\n",
       "<tr><td style=\"text-align: right;\">  2004</td><td style=\"text-align: right;\">                                                                            $1,017,499.20</td><td style=\"text-align: right;\">                                                                              $893,045.43</td><td style=\"text-align: right;\">                                                                              $893,045.43</td><td style=\"text-align: right;\">                                                                              $893,045.43</td><td style=\"text-align: right;\">                                                                              $893,045.43</td><td style=\"text-align: right;\">                                                                              $893,045.43</td><td style=\"text-align: right;\">                                                                              $893,045.43</td><td style=\"text-align: right;\">                                                                              $893,045.43</td><td style=\"text-align: right;\">                                                                              $893,045.43</td><td style=\"text-align: right;\">                                                                               $893,045.43</td></tr>\n",
       "<tr><td style=\"text-align: right;\">  2005</td><td style=\"text-align: right;\">                                                                            $1,042,936.68</td><td style=\"text-align: right;\">                                                                              $915,371.56</td><td style=\"text-align: right;\">                                                                              $915,371.56</td><td style=\"text-align: right;\">                                                                              $915,371.56</td><td style=\"text-align: right;\">                                                                              $915,371.56</td><td style=\"text-align: right;\">                                                                              $915,371.56</td><td style=\"text-align: right;\">                                                                              $915,371.56</td><td style=\"text-align: right;\">                                                                              $915,371.56</td><td style=\"text-align: right;\">                                                                              $915,371.56</td><td style=\"text-align: right;\">                                                                               $915,371.56</td></tr>\n",
       "<tr><td style=\"text-align: right;\">  2006</td><td style=\"text-align: right;\">                                                                            $1,069,010.10</td><td style=\"text-align: right;\">                                                                              $938,255.85</td><td style=\"text-align: right;\">                                                                              $938,255.85</td><td style=\"text-align: right;\">                                                                              $938,255.85</td><td style=\"text-align: right;\">                                                                              $938,255.85</td><td style=\"text-align: right;\">                                                                              $938,255.85</td><td style=\"text-align: right;\">                                                                              $938,255.85</td><td style=\"text-align: right;\">                                                                              $938,255.85</td><td style=\"text-align: right;\">                                                                              $938,255.85</td><td style=\"text-align: right;\">                                                                               $938,255.85</td></tr>\n",
       "<tr><td style=\"text-align: right;\">  2007</td><td style=\"text-align: right;\">                                                                            $1,095,735.35</td><td style=\"text-align: right;\">                                                                              $961,712.25</td><td style=\"text-align: right;\">                                                                              $961,712.25</td><td style=\"text-align: right;\">                                                                              $961,712.25</td><td style=\"text-align: right;\">                                                                              $961,712.25</td><td style=\"text-align: right;\">                                                                              $961,712.25</td><td style=\"text-align: right;\">                                                                              $961,712.25</td><td style=\"text-align: right;\">                                                                              $961,712.25</td><td style=\"text-align: right;\">                                                                              $961,712.25</td><td style=\"text-align: right;\">                                                                               $961,712.25</td></tr>\n",
       "<tr><td style=\"text-align: right;\">  2008</td><td style=\"text-align: right;\">                                                                            $1,123,128.74</td><td style=\"text-align: right;\">                                                                              $985,755.05</td><td style=\"text-align: right;\">                                                                              $985,755.05</td><td style=\"text-align: right;\">                                                                              $985,755.05</td><td style=\"text-align: right;\">                                                                              $985,755.05</td><td style=\"text-align: right;\">                                                                              $985,755.05</td><td style=\"text-align: right;\">                                                                              $985,755.05</td><td style=\"text-align: right;\">                                                                              $985,755.05</td><td style=\"text-align: right;\">                                                                              $985,755.05</td><td style=\"text-align: right;\">                                                                               $985,755.05</td></tr>\n",
       "<tr><td style=\"text-align: right;\">  2009</td><td style=\"text-align: right;\">                                                                            $1,151,206.95</td><td style=\"text-align: right;\">                                                                            $1,010,398.93</td><td style=\"text-align: right;\">                                                                            $1,010,398.93</td><td style=\"text-align: right;\">                                                                            $1,010,398.93</td><td style=\"text-align: right;\">                                                                            $1,010,398.93</td><td style=\"text-align: right;\">                                                                            $1,010,398.93</td><td style=\"text-align: right;\">                                                                            $1,010,398.93</td><td style=\"text-align: right;\">                                                                            $1,010,398.93</td><td style=\"text-align: right;\">                                                                            $1,010,398.93</td><td style=\"text-align: right;\">                                                                             $1,010,398.93</td></tr>\n",
       "<tr><td style=\"text-align: right;\">  2010</td><td style=\"text-align: right;\">                                                                            $1,179,987.13</td><td style=\"text-align: right;\">                                                                            $1,035,658.90</td><td style=\"text-align: right;\">                                                                            $1,035,658.90</td><td style=\"text-align: right;\">                                                                            $1,035,658.90</td><td style=\"text-align: right;\">                                                                            $1,035,658.90</td><td style=\"text-align: right;\">                                                                            $1,035,658.90</td><td style=\"text-align: right;\">                                                                            $1,035,658.90</td><td style=\"text-align: right;\">                                                                            $1,035,658.90</td><td style=\"text-align: right;\">                                                                            $1,035,658.90</td><td style=\"text-align: right;\">                                                                             $1,035,658.90</td></tr>\n",
       "<tr><td style=\"text-align: right;\">  2011</td><td style=\"text-align: right;\">                                                                            $1,209,486.81</td><td style=\"text-align: right;\">                                                                            $1,061,550.37</td><td style=\"text-align: right;\">                                                                            $1,061,550.37</td><td style=\"text-align: right;\">                                                                            $1,061,550.37</td><td style=\"text-align: right;\">                                                                            $1,061,550.37</td><td style=\"text-align: right;\">                                                                            $1,061,550.37</td><td style=\"text-align: right;\">                                                                            $1,061,550.37</td><td style=\"text-align: right;\">                                                                            $1,061,550.37</td><td style=\"text-align: right;\">                                                                            $1,061,550.37</td><td style=\"text-align: right;\">                                                                             $1,061,550.37</td></tr>\n",
       "</tbody>\n",
       "</table>"
      ],
      "text/plain": [
       "<rangekeeper.flux.Stream at 0x2ad72c5b0>"
      ]
     },
     "execution_count": 24,
     "metadata": {},
     "output_type": "execute_result"
    }
   ],
   "source": [
    "buildingAoffice = [e for (id, e) in spatial_containment.get_entities().items() if e.name == 'buildingAoffice'][0]\n",
    "print(buildingAoffice.name)\n",
    "buildingAoffice['subtotal_egi']"
   ]
  },
  {
   "cell_type": "code",
   "execution_count": 25,
   "metadata": {
    "ExecuteTime": {
     "end_time": "2023-06-30T03:54:44.771685Z",
     "start_time": "2023-06-30T03:54:44.726606Z"
    },
    "collapsed": false
   },
   "outputs": [
    {
     "data": {
      "text/html": [
       "<table>\n",
       "<thead>\n",
       "<tr><th style=\"text-align: right;\">               date</th><th style=\"text-align: right;\">  Effective Gross Income for f746d0de-a8ab-491e-9d3f-875c62c87f53 [buildingAoffice] Aggregation (sum)</th></tr>\n",
       "</thead>\n",
       "<tbody>\n",
       "<tr><td style=\"text-align: right;\">2001-12-31 00:00:00</td><td style=\"text-align: right;\">                                                                                        $8,408,382.26</td></tr>\n",
       "<tr><td style=\"text-align: right;\">2002-12-31 00:00:00</td><td style=\"text-align: right;\">                                                                                        $8,618,591.82</td></tr>\n",
       "<tr><td style=\"text-align: right;\">2003-12-31 00:00:00</td><td style=\"text-align: right;\">                                                                                        $8,834,056.61</td></tr>\n",
       "<tr><td style=\"text-align: right;\">2004-12-31 00:00:00</td><td style=\"text-align: right;\">                                                                                        $9,054,908.03</td></tr>\n",
       "<tr><td style=\"text-align: right;\">2005-12-31 00:00:00</td><td style=\"text-align: right;\">                                                                                        $9,281,280.73</td></tr>\n",
       "<tr><td style=\"text-align: right;\">2006-12-31 00:00:00</td><td style=\"text-align: right;\">                                                                                        $9,513,312.75</td></tr>\n",
       "<tr><td style=\"text-align: right;\">2007-12-31 00:00:00</td><td style=\"text-align: right;\">                                                                                        $9,751,145.57</td></tr>\n",
       "<tr><td style=\"text-align: right;\">2008-12-31 00:00:00</td><td style=\"text-align: right;\">                                                                                        $9,994,924.20</td></tr>\n",
       "<tr><td style=\"text-align: right;\">2009-12-31 00:00:00</td><td style=\"text-align: right;\">                                                                                       $10,244,797.31</td></tr>\n",
       "<tr><td style=\"text-align: right;\">2010-12-31 00:00:00</td><td style=\"text-align: right;\">                                                                                       $10,500,917.24</td></tr>\n",
       "<tr><td style=\"text-align: right;\">2011-12-31 00:00:00</td><td style=\"text-align: right;\">                                                                                       $10,763,440.17</td></tr>\n",
       "</tbody>\n",
       "</table>"
      ],
      "text/plain": [
       "<rangekeeper.flux.Flow at 0x2ad79fc40>"
      ]
     },
     "execution_count": 25,
     "metadata": {},
     "output_type": "execute_result"
    }
   ],
   "source": [
    "buildingAoffice['subtotal_egi'].sum()"
   ]
  },
  {
   "cell_type": "code",
   "execution_count": 26,
   "metadata": {
    "ExecuteTime": {
     "end_time": "2023-06-30T03:54:44.771890Z",
     "start_time": "2023-06-30T03:54:44.731523Z"
    },
    "collapsed": false
   },
   "outputs": [
    {
     "data": {
      "text/html": [
       "<table>\n",
       "<thead>\n",
       "<tr><th style=\"text-align: right;\">               date</th><th style=\"text-align: right;\">  Effective Gross Income for f746d0de-a8ab-491e-9d3f-875c62c87f53 [buildingAoffice] Aggregation (sum)</th></tr>\n",
       "</thead>\n",
       "<tbody>\n",
       "<tr><td style=\"text-align: right;\">2011-12-31 00:00:00</td><td style=\"text-align: right;\">                                                                                      $104,965,756.69</td></tr>\n",
       "</tbody>\n",
       "</table>"
      ],
      "text/plain": [
       "<rangekeeper.flux.Flow at 0x2ad79fe50>"
      ]
     },
     "execution_count": 26,
     "metadata": {},
     "output_type": "execute_result"
    }
   ],
   "source": [
    "buildingAoffice['subtotal_egi'].sum().collapse()"
   ]
  },
  {
   "cell_type": "code",
   "execution_count": 27,
   "metadata": {
    "ExecuteTime": {
     "end_time": "2023-06-30T03:54:45.263044Z",
     "start_time": "2023-06-30T03:54:44.780255Z"
    },
    "collapsed": false
   },
   "outputs": [
    {
     "data": {
      "text/html": [
       "\n",
       "        <iframe\n",
       "            width=\"100%\"\n",
       "            height=\"1600\"\n",
       "            src=\"./aggregate_egis_chart.html\"\n",
       "            frameborder=\"0\"\n",
       "            allowfullscreen\n",
       "            \n",
       "        ></iframe>\n",
       "        "
      ],
      "text/plain": [
       "<IPython.lib.display.IFrame at 0x2a3873340>"
      ]
     },
     "execution_count": 27,
     "metadata": {},
     "output_type": "execute_result"
    }
   ],
   "source": [
    "sunburst = spatial_containment.sunburst(property='subtotal_egi')\n",
    "treemap = spatial_containment.treemap(property='subtotal_egi')\n",
    "fig = plotly.subplots.make_subplots(\n",
    "    rows=2, cols=1,\n",
    "    specs=[[{\"type\": \"sunburst\"}], [{\"type\": \"treemap\"}]],\n",
    "    subplot_titles=('Effective Gross Income - Sunburst Plot', 'Effective Gross Income - Treemap Plot'))\n",
    "fig.append_trace(sunburst, row=1, col=1)\n",
    "fig.append_trace(treemap, row=2, col=1)\n",
    "filename='aggregate_egis_chart.html'\n",
    "\n",
    "py.plot(fig, filename=f'assets/{filename}', auto_open=False)\n",
    "IFrame(src=f'./{filename}', width='100%', height=800 * len(fig.data))"
   ]
  },
  {
   "cell_type": "code",
   "execution_count": 28,
   "metadata": {
    "ExecuteTime": {
     "end_time": "2023-06-30T03:54:45.265211Z",
     "start_time": "2023-06-30T03:54:45.262882Z"
    },
    "collapsed": false
   },
   "outputs": [],
   "source": [
    "# Aggregate Facade Areas:\n",
    "for (entityId, entity) in property.get_entities().items():\n",
    "    if hasattr(entity, 'perimeter') & hasattr(entity, 'ftf'):\n",
    "        entity['facade_area'] = entity['perimeter'] * entity['ftf']\n",
    "spatial_containment.aggregate(\n",
    "    property='facade_area',\n",
    "    label='subtotal_facade_area')"
   ]
  },
  {
   "cell_type": "code",
   "execution_count": 29,
   "metadata": {
    "ExecuteTime": {
     "end_time": "2023-06-30T03:54:45.270312Z",
     "start_time": "2023-06-30T03:54:45.268921Z"
    },
    "collapsed": false
   },
   "outputs": [],
   "source": [
    "floor_opex_per_area_pa = dict(\n",
    "    office=-150,\n",
    "    retail=-225,\n",
    "    residential=-125,\n",
    "    parking=-65,\n",
    "    )\n",
    "facade_opex_per_area_pa = dict(\n",
    "    office=-50,\n",
    "    retail=-100,\n",
    "    residential=-50,\n",
    "    parking=-25,\n",
    "    )\n",
    "opex_growth_rate = 0.035\n",
    "floor_capex_per_area_pa = dict(\n",
    "    office=-100,\n",
    "    retail=-150,\n",
    "    residential=-75,\n",
    "    parking=-50,\n",
    "    )\n",
    "cores_capex_per_vol_pa = -100\n",
    "plant_capex_per_vol_pa = -1000\n",
    "capex_growth_rate = 0.035"
   ]
  },
  {
   "cell_type": "code",
   "execution_count": 30,
   "metadata": {
    "ExecuteTime": {
     "end_time": "2023-06-30T03:54:45.273111Z",
     "start_time": "2023-06-30T03:54:45.271566Z"
    },
    "collapsed": false
   },
   "outputs": [],
   "source": [
    "class Costs:\n",
    "    def __init__(\n",
    "            self,\n",
    "            params: dict,\n",
    "            spans: Spans):\n",
    "        self.params = params\n",
    "        self.spans = spans"
   ]
  },
  {
   "cell_type": "code",
   "execution_count": 31,
   "metadata": {
    "ExecuteTime": {
     "end_time": "2023-06-30T03:54:45.277760Z",
     "start_time": "2023-06-30T03:54:45.276064Z"
    },
    "collapsed": false
   },
   "outputs": [],
   "source": [
    "@rk.update_class(Costs)\n",
    "class Costs:\n",
    "    def generate_space_costs(self):\n",
    "        floor_opex = rk.flux.Flow.from_projection(\n",
    "            name='Floor-derived Operating Expenses',\n",
    "            value=self.params['initial_floor_opex'],\n",
    "            proj=rk.projection.Extrapolation(\n",
    "            form=rk.extrapolation.Compounding(\n",
    "                rate=self.params['opex_growth_rate']),\n",
    "            sequence=self.spans.calc_span.to_index(period_type=self.params['period_type'])),\n",
    "            units=currency.units)\n",
    "        facade_opex = rk.flux.Flow.from_projection(\n",
    "            name='Facade-derived Operating Expenses',\n",
    "            value=self.params['initial_facade_opex'],\n",
    "            proj=rk.projection.Extrapolation(\n",
    "            form=rk.extrapolation.Compounding(\n",
    "                rate=self.params['opex_growth_rate']),\n",
    "            sequence=self.spans.calc_span.to_index(period_type=self.params['period_type'])),\n",
    "            units=currency.units)\n",
    "        self.opex = rk.flux.Stream(\n",
    "            name='Space Operating Expenses',\n",
    "            flows=[floor_opex, facade_opex],\n",
    "            period_type=self.params['period_type'])\n",
    "\n",
    "        floor_capex = rk.flux.Flow.from_projection(\n",
    "            name='Floor-derived Capital Expenses',\n",
    "            value=self.params['initial_floor_capex'],\n",
    "            proj=rk.projection.Extrapolation(\n",
    "            form=rk.extrapolation.Compounding(\n",
    "                rate=self.params['capex_growth_rate']),\n",
    "            sequence=self.spans.calc_span.to_index(period_type=rk.periodicity.Type.SEMIDECADE)),\n",
    "            units=currency.units)\n",
    "        self.floor_capex = floor_capex.trim_to_span(self.spans.calc_span)  # This is to avoid issues with using >yearly periodicity in projection"
   ]
  },
  {
   "cell_type": "code",
   "execution_count": 32,
   "metadata": {
    "ExecuteTime": {
     "end_time": "2023-06-30T03:54:45.281163Z",
     "start_time": "2023-06-30T03:54:45.279742Z"
    },
    "collapsed": false
   },
   "outputs": [],
   "source": [
    "@rk.update_class(Costs)\n",
    "class Costs:\n",
    "    def generate_utils_costs(self):\n",
    "        utils_capex = rk.flux.Flow.from_projection(\n",
    "            name='Utilities-derived Capital Expenses',\n",
    "            value=self.params['initial_utility_capex'],\n",
    "            proj=rk.projection.Extrapolation(\n",
    "                form=rk.extrapolation.Compounding(\n",
    "                    rate=self.params['capex_growth_rate']),\n",
    "                sequence=self.spans.calc_span.to_index(period_type=rk.periodicity.Type.SEMIDECADE)),\n",
    "            units=currency.units)\n",
    "        self.utils_capex = utils_capex.trim_to_span(self.spans.calc_span)  # This is to avoid issues with using >yearly periodicity in projection"
   ]
  },
  {
   "cell_type": "code",
   "execution_count": 33,
   "metadata": {
    "ExecuteTime": {
     "end_time": "2023-06-30T03:54:45.433568Z",
     "start_time": "2023-06-30T03:54:45.298479Z"
    },
    "collapsed": false
   },
   "outputs": [],
   "source": [
    "for floor in floors:\n",
    "    floor_params = params.copy()\n",
    "\n",
    "    floor_params['initial_floor_opex'] = floor_opex_per_area_pa[floor['use']] * floor['subtotal_gfa']\n",
    "    floor_params['initial_facade_opex'] = facade_opex_per_area_pa[floor['use']] * floor['subtotal_facade_area']\n",
    "    floor_params['initial_floor_capex'] = floor_capex_per_area_pa[floor['use']] * floor['subtotal_gfa']\n",
    "    floor_params['opex_growth_rate'] = opex_growth_rate\n",
    "    floor_params['capex_growth_rate'] = capex_growth_rate\n",
    "    floor['params'] = floor_params\n",
    "\n",
    "    floor['events'] = {} if not hasattr(floor, 'events') else floor['events']\n",
    "\n",
    "    costs = Costs(\n",
    "        params=floor_params,\n",
    "        spans=spans)\n",
    "    costs.generate_space_costs()\n",
    "\n",
    "    floor['opex'] = costs.opex\n",
    "    floor['capex'] = costs.floor_capex"
   ]
  },
  {
   "cell_type": "code",
   "execution_count": 34,
   "metadata": {
    "ExecuteTime": {
     "end_time": "2023-06-30T03:54:45.436568Z",
     "start_time": "2023-06-30T03:54:45.434365Z"
    },
    "collapsed": false
   },
   "outputs": [],
   "source": [
    "utilities = property.filter_by_type(entity_type='utilities', is_assembly=False)"
   ]
  },
  {
   "cell_type": "code",
   "execution_count": 35,
   "metadata": {
    "ExecuteTime": {
     "end_time": "2023-06-30T03:54:45.438855Z",
     "start_time": "2023-06-30T03:54:45.437332Z"
    },
    "collapsed": false
   },
   "outputs": [],
   "source": [
    "key = 'type'\n",
    "isolated_ids = [entity['id'] for entity in utilities.get_entities().values()]"
   ]
  },
  {
   "cell_type": "code",
   "execution_count": 36,
   "metadata": {
    "ExecuteTime": {
     "end_time": "2023-06-30T04:00:58.640740Z",
     "start_time": "2023-06-30T04:00:58.630224Z"
    },
    "collapsed": false
   },
   "outputs": [
    {
     "data": {
      "text/plain": [
       "'https://speckle.xyz/streams/f5e306e3fa/commits/362b15db49?filter=%7B%22propertyInfoKey%22%3A%20%22type%22%2C%20%22isolatedIds%22%3A%20%5B%22ef003ad5f47731e7ce0c5f7a68d267d8%22%2C%20%2282a7bd365b9dfe78c0a77c901a8b9f81%22%2C%20%221ae737bcea2c78fa83ae2046ee7af6eb%22%5D%7D'"
      ]
     },
     "execution_count": 36,
     "metadata": {},
     "output_type": "execute_result"
    }
   ],
   "source": [
    "url = 'https://speckle.xyz/streams/{0}/commits/{1}?filter={2}'.format(\n",
    "    stream_id,\n",
    "    commit_id,\n",
    "    urllib.parse.quote(json.dumps(\n",
    "        dict(\n",
    "            propertyInfoKey = key,\n",
    "            isolatedIds = isolated_ids))))\n",
    "url"
   ]
  },
  {
   "cell_type": "code",
   "execution_count": 37,
   "metadata": {
    "ExecuteTime": {
     "end_time": "2023-06-30T03:54:45.446289Z",
     "start_time": "2023-06-30T03:54:45.443597Z"
    },
    "collapsed": false
   },
   "outputs": [
    {
     "data": {
      "text/html": [
       "\n",
       "        <iframe\n",
       "            width=\"100%\"\n",
       "            height=\"800\"\n",
       "            src=\"https%3A//speckle.xyz/streams/f5e306e3fa/commits/362b15db49%3Ffilter%3D%257B%2522propertyInfoKey%2522%253A%2520%2522type%2522%252C%2520%2522isolatedIds%2522%253A%2520%255B%2522ef003ad5f47731e7ce0c5f7a68d267d8%2522%252C%2520%252282a7bd365b9dfe78c0a77c901a8b9f81%2522%252C%2520%25221ae737bcea2c78fa83ae2046ee7af6eb%2522%255D%257D\"\n",
       "            frameborder=\"0\"\n",
       "            allowfullscreen\n",
       "            \n",
       "        ></iframe>\n",
       "        "
      ],
      "text/plain": [
       "<IPython.lib.display.IFrame at 0x2ad7feec0>"
      ]
     },
     "execution_count": 37,
     "metadata": {},
     "output_type": "execute_result"
    }
   ],
   "source": [
    "IFrame(urllib.parse.quote(url), width='100%', height=800)"
   ]
  },
  {
   "cell_type": "code",
   "execution_count": 38,
   "metadata": {
    "ExecuteTime": {
     "end_time": "2023-06-30T03:54:45.452523Z",
     "start_time": "2023-06-30T03:54:45.448849Z"
    },
    "collapsed": false
   },
   "outputs": [],
   "source": [
    "for utility in utilities.get_entities().values():\n",
    "    utility_params = params.copy()\n",
    "\n",
    "    if 'plant' in utility['name']:\n",
    "        utility_params['initial_utility_capex'] = plant_capex_per_vol_pa * utility['volume']\n",
    "    elif 'cores' in utility['name']:\n",
    "        utility_params['initial_utility_capex'] = cores_capex_per_vol_pa * utility['volume']\n",
    "    utility_params['capex_growth_rate'] = capex_growth_rate\n",
    "    utility['params'] = utility_params\n",
    "\n",
    "    utility['events'] = {} if not hasattr(utility, 'events') else utility['events']\n",
    "\n",
    "    costs = Costs(\n",
    "        params=utility_params,\n",
    "        spans=spans)\n",
    "    costs.generate_utils_costs()\n",
    "\n",
    "    utility['capex'] = costs.utils_capex"
   ]
  },
  {
   "cell_type": "code",
   "execution_count": 39,
   "metadata": {
    "ExecuteTime": {
     "end_time": "2023-06-30T03:54:45.470207Z",
     "start_time": "2023-06-30T03:54:45.454461Z"
    },
    "collapsed": false
   },
   "outputs": [
    {
     "data": {
      "text/html": [
       "<table>\n",
       "<thead>\n",
       "<tr><th style=\"text-align: right;\">               date</th><th style=\"text-align: right;\">  Utilities-derived Capital Expenses</th></tr>\n",
       "</thead>\n",
       "<tbody>\n",
       "<tr><td style=\"text-align: right;\">2005-12-31 00:00:00</td><td style=\"text-align: right;\">                        -$729,061.23</td></tr>\n",
       "<tr><td style=\"text-align: right;\">2010-12-31 00:00:00</td><td style=\"text-align: right;\">                        -$754,578.37</td></tr>\n",
       "</tbody>\n",
       "</table>"
      ],
      "text/plain": [
       "<rangekeeper.flux.Flow at 0x2ad8b2ce0>"
      ]
     },
     "execution_count": 39,
     "metadata": {},
     "output_type": "execute_result"
    }
   ],
   "source": [
    "list(utilities.get_entities().values())[0]['capex']"
   ]
  },
  {
   "cell_type": "code",
   "execution_count": 40,
   "metadata": {
    "ExecuteTime": {
     "end_time": "2023-06-30T03:54:45.670980Z",
     "start_time": "2023-06-30T03:54:45.464937Z"
    },
    "collapsed": false
   },
   "outputs": [],
   "source": [
    "def aggregate_opex(**kwargs):\n",
    "    return rk.graph.Entity.aggregate_flows(\n",
    "        **kwargs,\n",
    "        name='Operational Expenses',\n",
    "        period_type=period_type)\n",
    "property.aggregate(\n",
    "    function=aggregate_opex,\n",
    "    property='opex',\n",
    "    label='subtotal_opex',\n",
    "    relationship_type='spatiallyContains')"
   ]
  },
  {
   "cell_type": "code",
   "execution_count": 41,
   "metadata": {
    "ExecuteTime": {
     "end_time": "2023-06-30T03:54:45.922655Z",
     "start_time": "2023-06-30T03:54:45.702166Z"
    },
    "collapsed": false
   },
   "outputs": [],
   "source": [
    "def aggregate_capex(**kwargs):\n",
    "    return rk.graph.Entity.aggregate_flows(\n",
    "        **kwargs,\n",
    "        name='Capital Expenses',\n",
    "        period_type=period_type)\n",
    "property.aggregate(\n",
    "    function=aggregate_capex,\n",
    "    property='capex',\n",
    "    label='subtotal_capex',\n",
    "    relationship_type='spatiallyContains')"
   ]
  },
  {
   "cell_type": "code",
   "execution_count": 42,
   "metadata": {
    "ExecuteTime": {
     "end_time": "2023-06-30T03:54:45.928587Z",
     "start_time": "2023-06-30T03:54:45.927119Z"
    },
    "collapsed": false
   },
   "outputs": [],
   "source": [
    "property_opex = property.get_roots()['spatiallyContains'][0]['subtotal_opex'].sum()\n",
    "property_capex = property.get_roots()['spatiallyContains'][0]['subtotal_capex'].sum()"
   ]
  },
  {
   "cell_type": "code",
   "execution_count": 43,
   "metadata": {
    "ExecuteTime": {
     "end_time": "2023-06-30T03:54:45.932738Z",
     "start_time": "2023-06-30T03:54:45.929964Z"
    },
    "collapsed": false
   },
   "outputs": [
    {
     "name": "stdout",
     "output_type": "stream",
     "text": [
      "Property Average Periodic OPEX: $-7,655,727.08\n",
      "Property Average Periodic CAPEX: $-2,134,823.79\n"
     ]
    }
   ],
   "source": [
    "print('Property Average Periodic OPEX: ${:,.2f}'.format(property_opex.movements.mean()))\n",
    "print('Property Average Periodic CAPEX: ${:,.2f}'.format(property_capex.movements.mean()))"
   ]
  },
  {
   "cell_type": "code",
   "execution_count": 44,
   "metadata": {
    "ExecuteTime": {
     "end_time": "2023-06-30T03:54:45.934502Z",
     "start_time": "2023-06-30T03:54:45.932813Z"
    },
    "collapsed": false
   },
   "outputs": [],
   "source": [
    "def aggregate_pgis(**kwargs):\n",
    "    return rk.graph.Entity.aggregate_flows(\n",
    "        **kwargs,\n",
    "        name='Potential Gross Income',\n",
    "        period_type=period_type)"
   ]
  },
  {
   "cell_type": "code",
   "execution_count": 45,
   "metadata": {
    "ExecuteTime": {
     "end_time": "2023-06-30T03:54:46.064957Z",
     "start_time": "2023-06-30T03:54:45.938416Z"
    },
    "collapsed": false
   },
   "outputs": [],
   "source": [
    "spatial_containment.aggregate(\n",
    "    property='pgi',\n",
    "    function=aggregate_pgis,\n",
    "    label='subtotal_pgi')"
   ]
  },
  {
   "cell_type": "code",
   "execution_count": 46,
   "metadata": {
    "ExecuteTime": {
     "end_time": "2023-06-30T03:54:46.071626Z",
     "start_time": "2023-06-30T03:54:46.068212Z"
    },
    "collapsed": false
   },
   "outputs": [
    {
     "name": "stdout",
     "output_type": "stream",
     "text": [
      "Property Average Periodic PGI: $20,973,469.58\n"
     ]
    }
   ],
   "source": [
    "property_pgi = property.get_roots()['spatiallyContains'][0]['subtotal_pgi'].sum()\n",
    "print('Property Average Periodic PGI: ${:,.2f}'.format(property_pgi.movements.mean()))"
   ]
  },
  {
   "cell_type": "code",
   "execution_count": 47,
   "metadata": {
    "ExecuteTime": {
     "end_time": "2023-06-30T03:54:46.075617Z",
     "start_time": "2023-06-30T03:54:46.072244Z"
    },
    "collapsed": false
   },
   "outputs": [
    {
     "name": "stdout",
     "output_type": "stream",
     "text": [
      "Property OpEx as proportion of PGI: 36.50%\n"
     ]
    }
   ],
   "source": [
    "print('Property OpEx as proportion of PGI: {:.2%}'.format(-property_opex.movements.mean() / property_pgi.movements.mean()))"
   ]
  },
  {
   "cell_type": "code",
   "execution_count": 48,
   "metadata": {
    "ExecuteTime": {
     "end_time": "2023-06-30T03:54:46.079383Z",
     "start_time": "2023-06-30T03:54:46.074387Z"
    },
    "collapsed": false
   },
   "outputs": [
    {
     "name": "stdout",
     "output_type": "stream",
     "text": [
      "Property CapEx as proportion of PGI: 10.18%\n"
     ]
    }
   ],
   "source": [
    "print('Property CapEx as proportion of PGI: {:.2%}'.format(-property_capex.movements.mean() / property_pgi.movements.mean()))"
   ]
  },
  {
   "cell_type": "code",
   "execution_count": 49,
   "metadata": {
    "ExecuteTime": {
     "end_time": "2023-06-30T03:54:46.601123Z",
     "start_time": "2023-06-30T03:54:46.131809Z"
    },
    "collapsed": false
   },
   "outputs": [
    {
     "data": {
      "text/html": [
       "\n",
       "        <iframe\n",
       "            width=\"100%\"\n",
       "            height=\"1600\"\n",
       "            src=\"./aggregate_exp_chart.html\"\n",
       "            frameborder=\"0\"\n",
       "            allowfullscreen\n",
       "            \n",
       "        ></iframe>\n",
       "        "
      ],
      "text/plain": [
       "<IPython.lib.display.IFrame at 0x2adaabdf0>"
      ]
     },
     "execution_count": 49,
     "metadata": {},
     "output_type": "execute_result"
    }
   ],
   "source": [
    "opex = spatial_containment.sunburst(property='subtotal_opex')\n",
    "capex = spatial_containment.sunburst(property='subtotal_capex')\n",
    "fig = plotly.subplots.make_subplots(\n",
    "    rows=2, cols=1,\n",
    "    specs=[[{\"type\": \"sunburst\"}], [{\"type\": \"sunburst\"}]],\n",
    "    subplot_titles=('Total Operational Expenses', 'Total Capital Expenses'))\n",
    "fig.append_trace(opex, row=1, col=1)\n",
    "fig.append_trace(capex, row=2, col=1)\n",
    "filename='aggregate_exp_chart.html'\n",
    "\n",
    "py.plot(fig, filename=f'assets/{filename}', auto_open=False)\n",
    "IFrame(src=f'./{filename}', width='100%', height=800 * len(fig.data))"
   ]
  },
  {
   "cell_type": "code",
   "execution_count": 50,
   "metadata": {
    "ExecuteTime": {
     "end_time": "2023-06-30T03:54:46.791807Z",
     "start_time": "2023-06-30T03:54:46.606831Z"
    },
    "collapsed": false
   },
   "outputs": [],
   "source": [
    "for entity in property.get_entities().values():\n",
    "    noi = [getattr(entity, 'egi', None), getattr(entity, 'opex', None)]\n",
    "    noi = [flow.sum() if isinstance(flow, rk.flux.Stream) else flow for flow in list(filter(None, noi))]\n",
    "    if len(noi) > 0:\n",
    "        entity['noi'] = rk.flux.Stream(\n",
    "            name='Net Operating Income',\n",
    "            flows=noi,\n",
    "            period_type=period_type)\n",
    "        capex = getattr(entity, 'capex', None)\n",
    "        if capex is not None:\n",
    "            entity['nacf'] = rk.flux.Stream(\n",
    "                name='Net Annual Cashflow',\n",
    "                flows=entity['noi'].flows + [capex],\n",
    "                period_type=period_type)"
   ]
  },
  {
   "cell_type": "code",
   "execution_count": 51,
   "metadata": {
    "ExecuteTime": {
     "end_time": "2023-06-30T03:54:47.018948Z",
     "start_time": "2023-06-30T03:54:46.806612Z"
    },
    "collapsed": false
   },
   "outputs": [],
   "source": [
    "def aggregate_noi(**kwargs):\n",
    "    return rk.graph.Entity.aggregate_flows(\n",
    "        **kwargs,\n",
    "        name='Net Operating Income',\n",
    "        period_type=period_type)\n",
    "property.aggregate(\n",
    "    function=aggregate_noi,\n",
    "    property='noi',\n",
    "    label='subtotal_noi',\n",
    "    relationship_type='spatiallyContains')"
   ]
  },
  {
   "cell_type": "code",
   "execution_count": 52,
   "metadata": {
    "ExecuteTime": {
     "end_time": "2023-06-30T03:54:47.263504Z",
     "start_time": "2023-06-30T03:54:47.027492Z"
    },
    "collapsed": false
   },
   "outputs": [],
   "source": [
    "def aggregate_nacf(**kwargs):\n",
    "    return rk.graph.Entity.aggregate_flows(\n",
    "        **kwargs,\n",
    "        name='Net Annual Cashflow',\n",
    "        period_type=period_type)\n",
    "property.aggregate(\n",
    "    function=aggregate_nacf,\n",
    "    property='nacf',\n",
    "    label='subtotal_nacf',\n",
    "    relationship_type='spatiallyContains')"
   ]
  },
  {
   "cell_type": "code",
   "execution_count": 53,
   "metadata": {
    "ExecuteTime": {
     "end_time": "2023-06-30T03:54:47.267109Z",
     "start_time": "2023-06-30T03:54:47.264957Z"
    },
    "collapsed": false
   },
   "outputs": [],
   "source": [
    "root = property.get_roots()['spatiallyContains'][0]"
   ]
  },
  {
   "cell_type": "code",
   "execution_count": 54,
   "metadata": {
    "ExecuteTime": {
     "end_time": "2023-06-30T03:54:47.276810Z",
     "start_time": "2023-06-30T03:54:47.273697Z"
    },
    "collapsed": false
   },
   "outputs": [
    {
     "data": {
      "text/html": [
       "<table>\n",
       "<thead>\n",
       "<tr><th style=\"text-align: right;\">               date</th><th style=\"text-align: right;\">      Reversion</th></tr>\n",
       "</thead>\n",
       "<tbody>\n",
       "<tr><td style=\"text-align: right;\">2010-12-31 00:00:00</td><td style=\"text-align: right;\">$275,897,434.55</td></tr>\n",
       "</tbody>\n",
       "</table>"
      ],
      "text/plain": [
       "<rangekeeper.flux.Flow at 0x2afd01ab0>"
      ]
     },
     "execution_count": 54,
     "metadata": {},
     "output_type": "execute_result"
    }
   ],
   "source": [
    "reversion_span = rk.span.Span.from_num_periods(\n",
    "    name='Reversion',\n",
    "    date=params['start_date'] + pd.DateOffset(years=9),\n",
    "    period_type=params['period_type'],\n",
    "    num_periods=1)\n",
    "\n",
    "exit_caprate = 0.05\n",
    "reversion_flow = rk.flux.Flow.from_projection(\n",
    "    name='Reversion',\n",
    "    value=root['subtotal_nacf'].sum().movements.values[-1] / exit_caprate,\n",
    "    proj=rk.projection.Distribution(\n",
    "        form=rk.distribution.Uniform(),\n",
    "        sequence=reversion_span.to_index(period_type=params['period_type'])),\n",
    "    units=currency.units)\n",
    "root['reversion'] = reversion_flow\n",
    "reversion_flow"
   ]
  },
  {
   "cell_type": "code",
   "execution_count": 55,
   "metadata": {
    "ExecuteTime": {
     "end_time": "2023-06-30T03:54:47.299729Z",
     "start_time": "2023-06-30T03:54:47.280881Z"
    },
    "collapsed": false
   },
   "outputs": [
    {
     "data": {
      "text/html": [
       "<table>\n",
       "<thead>\n",
       "<tr><th style=\"text-align: right;\">  date</th><th style=\"text-align: right;\">  Net Annual Cashflow for 4fd8cf16-d01f-4d1e-964b-87942232e857 [property] Aggregation (sum)</th><th style=\"text-align: right;\">      Reversion</th></tr>\n",
       "</thead>\n",
       "<tbody>\n",
       "<tr><td style=\"text-align: right;\">  2001</td><td style=\"text-align: right;\">                                                                              $8,894,347.95</td><td style=\"text-align: right;\">              0</td></tr>\n",
       "<tr><td style=\"text-align: right;\">  2002</td><td style=\"text-align: right;\">                                                                              $9,276,145.32</td><td style=\"text-align: right;\">              0</td></tr>\n",
       "<tr><td style=\"text-align: right;\">  2003</td><td style=\"text-align: right;\">                                                                              $9,678,373.39</td><td style=\"text-align: right;\">              0</td></tr>\n",
       "<tr><td style=\"text-align: right;\">  2004</td><td style=\"text-align: right;\">                                                                             $10,102,249.12</td><td style=\"text-align: right;\">              0</td></tr>\n",
       "<tr><td style=\"text-align: right;\">  2005</td><td style=\"text-align: right;\">                                                                              $6,932,792.13</td><td style=\"text-align: right;\">              0</td></tr>\n",
       "<tr><td style=\"text-align: right;\">  2006</td><td style=\"text-align: right;\">                                                                             $11,020,193.91</td><td style=\"text-align: right;\">              0</td></tr>\n",
       "<tr><td style=\"text-align: right;\">  2007</td><td style=\"text-align: right;\">                                                                             $11,517,093.98</td><td style=\"text-align: right;\">              0</td></tr>\n",
       "<tr><td style=\"text-align: right;\">  2008</td><td style=\"text-align: right;\">                                                                             $12,041,314.24</td><td style=\"text-align: right;\">              0</td></tr>\n",
       "<tr><td style=\"text-align: right;\">  2009</td><td style=\"text-align: right;\">                                                                             $12,594,500.24</td><td style=\"text-align: right;\">              0</td></tr>\n",
       "<tr><td style=\"text-align: right;\">  2010</td><td style=\"text-align: right;\">                                                                              $9,435,557.80</td><td style=\"text-align: right;\">$275,897,434.55</td></tr>\n",
       "</tbody>\n",
       "</table>"
      ],
      "text/plain": [
       "<rangekeeper.flux.Stream at 0x2afce3190>"
      ]
     },
     "execution_count": 55,
     "metadata": {},
     "output_type": "execute_result"
    }
   ],
   "source": [
    "net_cashflows_with_reversion = rk.flux.Stream(\n",
    "    name='Net Cashflow with Reversion',\n",
    "    flows=[root['subtotal_nacf'].sum(), root['reversion']],\n",
    "    period_type=rk.periodicity.Type.YEAR).trim_to_span(\n",
    "    rk.span.Span(\n",
    "        start_date=params['start_date'],\n",
    "        end_date=reversion_span.end_date)\n",
    "    )\n",
    "root['nacf_reversion'] = net_cashflows_with_reversion\n",
    "net_cashflows_with_reversion"
   ]
  },
  {
   "cell_type": "code",
   "execution_count": 56,
   "metadata": {
    "ExecuteTime": {
     "end_time": "2023-06-30T03:54:47.337455Z",
     "start_time": "2023-06-30T03:54:47.319432Z"
    },
    "collapsed": false
   },
   "outputs": [
    {
     "data": {
      "text/html": [
       "<table>\n",
       "<thead>\n",
       "<tr><th style=\"text-align: right;\">  date</th><th style=\"text-align: right;\">  Effective Gross Income for 4fd8cf16-d01f-4d1e-964b-87942232e857 [property] Aggregation (sum)</th><th style=\"text-align: right;\">  Operational Expenses for 4fd8cf16-d01f-4d1e-964b-87942232e857 [property] Aggregation (sum)</th><th style=\"text-align: right;\">  Net Operating Income for 4fd8cf16-d01f-4d1e-964b-87942232e857 [property] Aggregation (sum)</th><th style=\"text-align: right;\">  Capital Expenses for 4fd8cf16-d01f-4d1e-964b-87942232e857 [property] Aggregation (sum)</th><th style=\"text-align: right;\">  Net Annual Cashflow for 4fd8cf16-d01f-4d1e-964b-87942232e857 [property] Aggregation (sum)</th><th style=\"text-align: right;\">      Reversion</th><th style=\"text-align: right;\">  Net Cashflow with Reversion (sum)</th></tr>\n",
       "</thead>\n",
       "<tbody>\n",
       "<tr><td style=\"text-align: right;\">  2001</td><td style=\"text-align: right;\">                                                                                $15,302,280.51</td><td style=\"text-align: right;\">                                                                              -$6,407,932.55</td><td style=\"text-align: right;\">                                                                               $8,894,347.95</td><td style=\"text-align: right;\">                                                                                       0</td><td style=\"text-align: right;\">                                                                              $8,894,347.95</td><td style=\"text-align: right;\">              0</td><td style=\"text-align: right;\">                      $8,894,347.95</td></tr>\n",
       "<tr><td style=\"text-align: right;\">  2002</td><td style=\"text-align: right;\">                                                                                $15,908,355.51</td><td style=\"text-align: right;\">                                                                              -$6,632,210.19</td><td style=\"text-align: right;\">                                                                               $9,276,145.32</td><td style=\"text-align: right;\">                                                                                       0</td><td style=\"text-align: right;\">                                                                              $9,276,145.32</td><td style=\"text-align: right;\">              0</td><td style=\"text-align: right;\">                      $9,276,145.32</td></tr>\n",
       "<tr><td style=\"text-align: right;\">  2003</td><td style=\"text-align: right;\">                                                                                $16,542,710.94</td><td style=\"text-align: right;\">                                                                              -$6,864,337.55</td><td style=\"text-align: right;\">                                                                               $9,678,373.39</td><td style=\"text-align: right;\">                                                                                       0</td><td style=\"text-align: right;\">                                                                              $9,678,373.39</td><td style=\"text-align: right;\">              0</td><td style=\"text-align: right;\">                      $9,678,373.39</td></tr>\n",
       "<tr><td style=\"text-align: right;\">  2004</td><td style=\"text-align: right;\">                                                                                $17,206,838.49</td><td style=\"text-align: right;\">                                                                              -$7,104,589.37</td><td style=\"text-align: right;\">                                                                              $10,102,249.12</td><td style=\"text-align: right;\">                                                                                       0</td><td style=\"text-align: right;\">                                                                             $10,102,249.12</td><td style=\"text-align: right;\">              0</td><td style=\"text-align: right;\">                     $10,102,249.12</td></tr>\n",
       "<tr><td style=\"text-align: right;\">  2005</td><td style=\"text-align: right;\">                                                                                $17,902,315.02</td><td style=\"text-align: right;\">                                                                              -$7,353,249.99</td><td style=\"text-align: right;\">                                                                              $10,549,065.03</td><td style=\"text-align: right;\">                                                                          -$6,294,320.75</td><td style=\"text-align: right;\">                                                                              $6,932,792.13</td><td style=\"text-align: right;\">              0</td><td style=\"text-align: right;\">                      $6,932,792.13</td></tr>\n",
       "<tr><td style=\"text-align: right;\">  2006</td><td style=\"text-align: right;\">                                                                                $18,630,807.66</td><td style=\"text-align: right;\">                                                                              -$7,610,613.74</td><td style=\"text-align: right;\">                                                                              $11,020,193.91</td><td style=\"text-align: right;\">                                                                                   $0.00</td><td style=\"text-align: right;\">                                                                             $11,020,193.91</td><td style=\"text-align: right;\">              0</td><td style=\"text-align: right;\">                     $11,020,193.91</td></tr>\n",
       "<tr><td style=\"text-align: right;\">  2007</td><td style=\"text-align: right;\">                                                                                $19,394,079.21</td><td style=\"text-align: right;\">                                                                              -$7,876,985.22</td><td style=\"text-align: right;\">                                                                              $11,517,093.98</td><td style=\"text-align: right;\">                                                                                   $0.00</td><td style=\"text-align: right;\">                                                                             $11,517,093.98</td><td style=\"text-align: right;\">              0</td><td style=\"text-align: right;\">                     $11,517,093.98</td></tr>\n",
       "<tr><td style=\"text-align: right;\">  2008</td><td style=\"text-align: right;\">                                                                                $20,193,993.94</td><td style=\"text-align: right;\">                                                                              -$8,152,679.71</td><td style=\"text-align: right;\">                                                                              $12,041,314.24</td><td style=\"text-align: right;\">                                                                                   $0.00</td><td style=\"text-align: right;\">                                                                             $12,041,314.24</td><td style=\"text-align: right;\">              0</td><td style=\"text-align: right;\">                     $12,041,314.24</td></tr>\n",
       "<tr><td style=\"text-align: right;\">  2009</td><td style=\"text-align: right;\">                                                                                $21,032,523.74</td><td style=\"text-align: right;\">                                                                              -$8,438,023.50</td><td style=\"text-align: right;\">                                                                              $12,594,500.24</td><td style=\"text-align: right;\">                                                                                   $0.00</td><td style=\"text-align: right;\">                                                                             $12,594,500.24</td><td style=\"text-align: right;\">              0</td><td style=\"text-align: right;\">                     $12,594,500.24</td></tr>\n",
       "<tr><td style=\"text-align: right;\">  2010</td><td style=\"text-align: right;\">                                                                                $21,911,754.57</td><td style=\"text-align: right;\">                                                                              -$8,733,354.32</td><td style=\"text-align: right;\">                                                                              $13,178,400.25</td><td style=\"text-align: right;\">                                                                          -$6,514,621.98</td><td style=\"text-align: right;\">                                                                              $9,435,557.80</td><td style=\"text-align: right;\">$275,897,434.55</td><td style=\"text-align: right;\">                    $285,332,992.35</td></tr>\n",
       "<tr><td style=\"text-align: right;\">  2011</td><td style=\"text-align: right;\">                                                                                $22,833,893.45</td><td style=\"text-align: right;\">                                                                              -$9,039,021.72</td><td style=\"text-align: right;\">                                                                              $13,794,871.73</td><td style=\"text-align: right;\">                                                                                       0</td><td style=\"text-align: right;\">                                                                             $13,794,871.73</td><td style=\"text-align: right;\">              0</td><td style=\"text-align: right;\">                                  0</td></tr>\n",
       "</tbody>\n",
       "</table>"
      ],
      "text/plain": [
       "<rangekeeper.flux.Stream at 0x2afccbd00>"
      ]
     },
     "execution_count": 56,
     "metadata": {},
     "output_type": "execute_result"
    }
   ],
   "source": [
    "table = rk.flux.Stream(\n",
    "    name='Table 1.1',\n",
    "    flows=[\n",
    "        root['subtotal_egi'].sum(),\n",
    "        root['subtotal_opex'].sum(),\n",
    "        root['subtotal_noi'].sum(),\n",
    "        root['subtotal_capex'].sum(),\n",
    "        root['subtotal_nacf'].sum(),\n",
    "        root['reversion'],\n",
    "        root['nacf_reversion'].sum()\n",
    "        ],\n",
    "    period_type=rk.periodicity.Type.YEAR\n",
    "    )\n",
    "table"
   ]
  },
  {
   "cell_type": "code",
   "execution_count": 57,
   "metadata": {
    "ExecuteTime": {
     "end_time": "2023-06-30T03:54:47.339786Z",
     "start_time": "2023-06-30T03:54:47.328749Z"
    },
    "collapsed": false
   },
   "outputs": [
    {
     "data": {
      "text/html": [
       "<table>\n",
       "<thead>\n",
       "<tr><th style=\"text-align: right;\">               date</th><th style=\"text-align: right;\">  Present Value</th></tr>\n",
       "</thead>\n",
       "<tbody>\n",
       "<tr><td style=\"text-align: right;\">2001-12-31 00:00:00</td><td style=\"text-align: right;\">  $8,312,474.72</td></tr>\n",
       "<tr><td style=\"text-align: right;\">2002-12-31 00:00:00</td><td style=\"text-align: right;\">  $8,102,144.57</td></tr>\n",
       "<tr><td style=\"text-align: right;\">2003-12-31 00:00:00</td><td style=\"text-align: right;\">  $7,900,435.65</td></tr>\n",
       "<tr><td style=\"text-align: right;\">2004-12-31 00:00:00</td><td style=\"text-align: right;\">  $7,706,957.49</td></tr>\n",
       "<tr><td style=\"text-align: right;\">2005-12-31 00:00:00</td><td style=\"text-align: right;\">  $4,942,984.97</td></tr>\n",
       "<tr><td style=\"text-align: right;\">2006-12-31 00:00:00</td><td style=\"text-align: right;\">  $7,343,220.52</td></tr>\n",
       "<tr><td style=\"text-align: right;\">2007-12-31 00:00:00</td><td style=\"text-align: right;\">  $7,172,267.30</td></tr>\n",
       "<tr><td style=\"text-align: right;\">2008-12-31 00:00:00</td><td style=\"text-align: right;\">  $7,008,154.52</td></tr>\n",
       "<tr><td style=\"text-align: right;\">2009-12-31 00:00:00</td><td style=\"text-align: right;\">  $6,850,573.65</td></tr>\n",
       "<tr><td style=\"text-align: right;\">2010-12-31 00:00:00</td><td style=\"text-align: right;\">$145,048,824.68</td></tr>\n",
       "</tbody>\n",
       "</table>"
      ],
      "text/plain": [
       "<rangekeeper.flux.Flow at 0x2afd00b50>"
      ]
     },
     "execution_count": 57,
     "metadata": {},
     "output_type": "execute_result"
    }
   ],
   "source": [
    "discount_rate = 0.07\n",
    "pvs = root['nacf_reversion'].sum().pv(\n",
    "    name='Present Value',\n",
    "    period_type=rk.periodicity.Type.YEAR,\n",
    "    discount_rate=discount_rate)\n",
    "pvs"
   ]
  },
  {
   "cell_type": "code",
   "execution_count": 58,
   "metadata": {
    "ExecuteTime": {
     "end_time": "2023-06-30T03:54:47.339946Z",
     "start_time": "2023-06-30T03:54:47.333139Z"
    },
    "collapsed": false
   },
   "outputs": [
    {
     "name": "stdout",
     "output_type": "stream",
     "text": [
      "Property PV: $210,388,038\n"
     ]
    }
   ],
   "source": [
    "property_pv = pvs.collapse().movements.item()\n",
    "print('Property PV: ${:,.0f}'.format(property_pv))"
   ]
  }
 ],
 "metadata": {
  "kernelspec": {
   "display_name": "Python 3 (ipykernel)",
   "language": "python",
   "name": "python3"
  },
  "language_info": {
   "codemirror_mode": {
    "name": "ipython",
    "version": 3
   },
   "file_extension": ".py",
   "mimetype": "text/x-python",
   "name": "python",
   "nbconvert_exporter": "python",
   "pygments_lexer": "ipython3",
   "version": "3.10.4"
  }
 },
 "nbformat": 4,
 "nbformat_minor": 1
}