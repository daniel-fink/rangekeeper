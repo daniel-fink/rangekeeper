{
 "cells": [
  {
   "cell_type": "code",
   "execution_count": 1,
   "metadata": {
    "ExecuteTime": {
     "end_time": "2023-06-26T13:04:19.997721Z",
     "start_time": "2023-06-26T13:04:18.350322Z"
    },
    "collapsed": false
   },
   "outputs": [],
   "source": [
    "import os\n",
    "\n",
    "import networkx as nx\n",
    "import locale\n",
    "import pandas as pd\n",
    "from IPython.display import IFrame\n",
    "import plotly.subplots\n",
    "import plotly.graph_objects as go\n",
    "import plotly.offline as py\n",
    "import pprint as pp\n",
    "import rangekeeper as rk"
   ]
  },
  {
   "cell_type": "code",
   "execution_count": 2,
   "metadata": {
    "ExecuteTime": {
     "end_time": "2023-06-26T13:04:23.190519Z",
     "start_time": "2023-06-26T13:04:20.000317Z"
    },
    "collapsed": false
   },
   "outputs": [
    {
     "name": "stdout",
     "output_type": "stream",
     "text": [
      "\n",
      " SpeckleClient( server: https://speckle.xyz, authenticated: True )\n"
     ]
    },
    {
     "data": {
      "text/html": [
       "\n",
       "        <iframe\n",
       "            width=\"100%\"\n",
       "            height=\"800\"\n",
       "            src=\"https://speckle.xyz/embed?stream=f5e306e3fa&commit=6018e7fe7b\"\n",
       "            frameborder=\"0\"\n",
       "            allowfullscreen\n",
       "            \n",
       "        ></iframe>\n",
       "        "
      ],
      "text/plain": [
       "<IPython.lib.display.IFrame at 0x14a53ed70>"
      ]
     },
     "execution_count": 2,
     "metadata": {},
     "output_type": "execute_result"
    }
   ],
   "source": [
    "speckle = rk.api.Speckle(\n",
    "    host=\"speckle.xyz\",\n",
    "    token=os.getenv('SPECKLE_TOKEN'))\n",
    "stream_id = \"f5e306e3fa\"\n",
    "commit_id = speckle.get_latest_commit_id(stream_id)\n",
    "IFrame(\"https://speckle.xyz/embed?stream={0}&commit={1}\".format(stream_id, commit_id), width='100%', height=800)"
   ]
  },
  {
   "cell_type": "code",
   "execution_count": 3,
   "metadata": {
    "ExecuteTime": {
     "end_time": "2023-06-26T13:04:25.844499Z",
     "start_time": "2023-06-26T13:04:23.195212Z"
    },
    "collapsed": false
   },
   "outputs": [
    {
     "name": "stdout",
     "output_type": "stream",
     "text": [
      "Warning: Duplicate Entity f7e2fa84-54a6-4fd4-ae93-f339947035b6 [utilities] found.\n",
      "Existing Entity is an Assembly while new Entity is not. Keeping Assembly.\n",
      "Warning: Duplicate Entity f7e2fa84-54a6-4fd4-ae93-f339947035b6 [utilities] found.\n",
      "Existing Entity is an Assembly while new Entity is not. Keeping Assembly.\n",
      "Warning: Duplicate Entity f7e2fa84-54a6-4fd4-ae93-f339947035b6 [utilities] found.\n",
      "Existing Entity is an Assembly while new Entity is not. Keeping Assembly.\n",
      "Warning: Duplicate Entity c7dfbeaf-1b8c-424c-bad0-0b2b5975af6e [plinthparking] found.\n",
      "Existing Entity is an Assembly while new Entity is not. Keeping Assembly.\n"
     ]
    }
   ],
   "source": [
    "model = speckle.get_commit(stream_id=stream_id)\n",
    "parsed = rk.api.Speckle.parse(base=model['@scenario'])\n",
    "scenario = rk.api.Speckle.to_rk(\n",
    "    bases=list(parsed.values()),\n",
    "    name='design_scenario',\n",
    "    type='scenario')"
   ]
  },
  {
   "cell_type": "code",
   "execution_count": 4,
   "metadata": {
    "ExecuteTime": {
     "end_time": "2023-06-26T13:04:25.917724Z",
     "start_time": "2023-06-26T13:04:25.846041Z"
    },
    "collapsed": false
   },
   "outputs": [
    {
     "name": "stdout",
     "output_type": "stream",
     "text": [
      "assets/design_scenario.html\n"
     ]
    },
    {
     "data": {
      "text/html": [
       "\n",
       "        <iframe\n",
       "            width=\"100%\"\n",
       "            height=\"800\"\n",
       "            src=\"./design_scenario.html\"\n",
       "            frameborder=\"0\"\n",
       "            allowfullscreen\n",
       "            \n",
       "        ></iframe>\n",
       "        "
      ],
      "text/plain": [
       "<IPython.lib.display.IFrame at 0x2ea6b5ff0>"
      ]
     },
     "execution_count": 4,
     "metadata": {},
     "output_type": "execute_result"
    }
   ],
   "source": [
    "scenario.plot(name='assets/design_scenario')\n",
    "IFrame(src=\"./design_scenario.html\", width='100%', height=800)"
   ]
  },
  {
   "cell_type": "code",
   "execution_count": 5,
   "metadata": {
    "ExecuteTime": {
     "end_time": "2023-06-26T13:04:25.920801Z",
     "start_time": "2023-06-26T13:04:25.917883Z"
    },
    "collapsed": false
   },
   "outputs": [],
   "source": [
    "spatial_containment = scenario.filter_by_relationship_type(\n",
    "    relationship_type='spatiallyContains',\n",
    "    name='spatial_containment')"
   ]
  },
  {
   "cell_type": "code",
   "execution_count": 6,
   "metadata": {
    "ExecuteTime": {
     "end_time": "2023-06-26T13:04:25.925029Z",
     "start_time": "2023-06-26T13:04:25.923327Z"
    },
    "collapsed": false
   },
   "outputs": [
    {
     "data": {
      "text/plain": [
       "True"
      ]
     },
     "execution_count": 6,
     "metadata": {},
     "output_type": "execute_result"
    }
   ],
   "source": [
    "nx.is_arborescence(spatial_containment.graph)"
   ]
  },
  {
   "cell_type": "code",
   "execution_count": 7,
   "metadata": {
    "ExecuteTime": {
     "end_time": "2023-06-26T13:04:26.001452Z",
     "start_time": "2023-06-26T13:04:25.926215Z"
    },
    "collapsed": false
   },
   "outputs": [
    {
     "name": "stdout",
     "output_type": "stream",
     "text": [
      "assets/spatial_containment.html\n"
     ]
    },
    {
     "data": {
      "text/html": [
       "\n",
       "        <iframe\n",
       "            width=\"100%\"\n",
       "            height=\"800\"\n",
       "            src=\"./spatial_containment.html\"\n",
       "            frameborder=\"0\"\n",
       "            allowfullscreen\n",
       "            \n",
       "        ></iframe>\n",
       "        "
      ],
      "text/plain": [
       "<IPython.lib.display.IFrame at 0x2ea6b6080>"
      ]
     },
     "execution_count": 7,
     "metadata": {},
     "output_type": "execute_result"
    }
   ],
   "source": [
    "# Plot the spatial containment graph\n",
    "spatial_containment.plot(name='assets/spatial_containment')\n",
    "IFrame(src=\"./spatial_containment.html\", width='100%', height=800)"
   ]
  },
  {
   "cell_type": "code",
   "execution_count": 8,
   "metadata": {
    "ExecuteTime": {
     "end_time": "2023-06-26T13:04:26.007079Z",
     "start_time": "2023-06-26T13:04:26.005711Z"
    },
    "collapsed": false
   },
   "outputs": [],
   "source": [
    "spatial_containment.aggregate(\n",
    "    property='gfa',\n",
    "    label='subtotal_gfa')"
   ]
  },
  {
   "cell_type": "code",
   "execution_count": 9,
   "metadata": {
    "ExecuteTime": {
     "end_time": "2023-06-26T13:04:26.047385Z",
     "start_time": "2023-06-26T13:04:26.015469Z"
    },
    "collapsed": false,
    "tags": [
     "output_scroll"
    ]
   },
   "outputs": [
    {
     "data": {
      "text/html": [
       "<div>\n",
       "<style scoped>\n",
       "    .dataframe tbody tr th:only-of-type {\n",
       "        vertical-align: middle;\n",
       "    }\n",
       "\n",
       "    .dataframe tbody tr th {\n",
       "        vertical-align: top;\n",
       "    }\n",
       "\n",
       "    .dataframe thead th {\n",
       "        text-align: right;\n",
       "    }\n",
       "</style>\n",
       "<table border=\"1\" class=\"dataframe\">\n",
       "  <thead>\n",
       "    <tr style=\"text-align: right;\">\n",
       "      <th></th>\n",
       "      <th>name</th>\n",
       "      <th>type</th>\n",
       "      <th>gfa</th>\n",
       "      <th>subtotal_gfa</th>\n",
       "      <th>parent</th>\n",
       "      <th>use</th>\n",
       "      <th>ffl</th>\n",
       "      <th>number</th>\n",
       "    </tr>\n",
       "  </thead>\n",
       "  <tbody>\n",
       "    <tr>\n",
       "      <th>003c1ee8-4450-4fb1-98bd-54d11408d99e</th>\n",
       "      <td>development</td>\n",
       "      <td>development</td>\n",
       "      <td>NaN</td>\n",
       "      <td>45816.419959</td>\n",
       "      <td>None</td>\n",
       "      <td>NaN</td>\n",
       "      <td>NaN</td>\n",
       "      <td>NaN</td>\n",
       "    </tr>\n",
       "    <tr>\n",
       "      <th>eb42cd14-73ab-41fc-99c0-c46631ee1208</th>\n",
       "      <td>buildingA</td>\n",
       "      <td>building</td>\n",
       "      <td>NaN</td>\n",
       "      <td>19605.790919</td>\n",
       "      <td>003c1ee8-4450-4fb1-98bd-54d11408d99e</td>\n",
       "      <td>NaN</td>\n",
       "      <td>NaN</td>\n",
       "      <td>NaN</td>\n",
       "    </tr>\n",
       "    <tr>\n",
       "      <th>dac040a5-2605-4cd0-a2fb-40ebb85450d9</th>\n",
       "      <td>plinth</td>\n",
       "      <td>building</td>\n",
       "      <td>NaN</td>\n",
       "      <td>12773.744211</td>\n",
       "      <td>003c1ee8-4450-4fb1-98bd-54d11408d99e</td>\n",
       "      <td>NaN</td>\n",
       "      <td>NaN</td>\n",
       "      <td>NaN</td>\n",
       "    </tr>\n",
       "    <tr>\n",
       "      <th>8c7c9be7-fd8f-4527-ae90-24e15c3581db</th>\n",
       "      <td>buildingB</td>\n",
       "      <td>building</td>\n",
       "      <td>NaN</td>\n",
       "      <td>13436.884829</td>\n",
       "      <td>003c1ee8-4450-4fb1-98bd-54d11408d99e</td>\n",
       "      <td>NaN</td>\n",
       "      <td>NaN</td>\n",
       "      <td>NaN</td>\n",
       "    </tr>\n",
       "    <tr>\n",
       "      <th>f7e2fa84-54a6-4fd4-ae93-f339947035b6</th>\n",
       "      <td>utilities</td>\n",
       "      <td>utilities</td>\n",
       "      <td>NaN</td>\n",
       "      <td>0.000000</td>\n",
       "      <td>003c1ee8-4450-4fb1-98bd-54d11408d99e</td>\n",
       "      <td>NaN</td>\n",
       "      <td>NaN</td>\n",
       "      <td>NaN</td>\n",
       "    </tr>\n",
       "    <tr>\n",
       "      <th>655b2dfe-5c18-4d68-95f0-f5d27804430d</th>\n",
       "      <td>buildingAoffice</td>\n",
       "      <td>space</td>\n",
       "      <td>NaN</td>\n",
       "      <td>14691.140177</td>\n",
       "      <td>eb42cd14-73ab-41fc-99c0-c46631ee1208</td>\n",
       "      <td>office</td>\n",
       "      <td>NaN</td>\n",
       "      <td>NaN</td>\n",
       "    </tr>\n",
       "    <tr>\n",
       "      <th>47dfa8b6-e213-4099-9f5b-834df0ca34b0</th>\n",
       "      <td>buildingAretail</td>\n",
       "      <td>space</td>\n",
       "      <td>NaN</td>\n",
       "      <td>1123.715326</td>\n",
       "      <td>eb42cd14-73ab-41fc-99c0-c46631ee1208</td>\n",
       "      <td>retail</td>\n",
       "      <td>NaN</td>\n",
       "      <td>NaN</td>\n",
       "    </tr>\n",
       "    <tr>\n",
       "      <th>da796c3e-94b0-4175-8c6f-ac63e5e60714</th>\n",
       "      <td>buildingAresidential</td>\n",
       "      <td>space</td>\n",
       "      <td>NaN</td>\n",
       "      <td>2296.143091</td>\n",
       "      <td>eb42cd14-73ab-41fc-99c0-c46631ee1208</td>\n",
       "      <td>residential</td>\n",
       "      <td>NaN</td>\n",
       "      <td>NaN</td>\n",
       "    </tr>\n",
       "    <tr>\n",
       "      <th>08e12c72-4450-424f-8ff4-a4da7246ee05</th>\n",
       "      <td>buildingAretail</td>\n",
       "      <td>space</td>\n",
       "      <td>NaN</td>\n",
       "      <td>534.530238</td>\n",
       "      <td>eb42cd14-73ab-41fc-99c0-c46631ee1208</td>\n",
       "      <td>retail</td>\n",
       "      <td>NaN</td>\n",
       "      <td>NaN</td>\n",
       "    </tr>\n",
       "    <tr>\n",
       "      <th>634c5fb4-f204-4287-8c80-f23371056f1c</th>\n",
       "      <td>buildingAparking</td>\n",
       "      <td>space</td>\n",
       "      <td>NaN</td>\n",
       "      <td>960.262087</td>\n",
       "      <td>eb42cd14-73ab-41fc-99c0-c46631ee1208</td>\n",
       "      <td>parking</td>\n",
       "      <td>NaN</td>\n",
       "      <td>NaN</td>\n",
       "    </tr>\n",
       "    <tr>\n",
       "      <th>abdf16fd-494e-4d7f-a604-134ce1c004ac</th>\n",
       "      <td>buildingAcores</td>\n",
       "      <td>utilities</td>\n",
       "      <td>NaN</td>\n",
       "      <td>0.000000</td>\n",
       "      <td>eb42cd14-73ab-41fc-99c0-c46631ee1208</td>\n",
       "      <td>cores</td>\n",
       "      <td>NaN</td>\n",
       "      <td>NaN</td>\n",
       "    </tr>\n",
       "    <tr>\n",
       "      <th>6bfd12d7-72d7-417f-bc31-1bef4ffaadb0</th>\n",
       "      <td>buildingAofficeFloor1</td>\n",
       "      <td>floor</td>\n",
       "      <td>1650.842103</td>\n",
       "      <td>1650.842103</td>\n",
       "      <td>655b2dfe-5c18-4d68-95f0-f5d27804430d</td>\n",
       "      <td>NaN</td>\n",
       "      <td>5.3</td>\n",
       "      <td>1.0</td>\n",
       "    </tr>\n",
       "    <tr>\n",
       "      <th>f25ef6dc-c9cc-444a-b758-e30e87a9593f</th>\n",
       "      <td>buildingAofficeFloor2</td>\n",
       "      <td>floor</td>\n",
       "      <td>1448.922008</td>\n",
       "      <td>1448.922008</td>\n",
       "      <td>655b2dfe-5c18-4d68-95f0-f5d27804430d</td>\n",
       "      <td>NaN</td>\n",
       "      <td>8.4</td>\n",
       "      <td>2.0</td>\n",
       "    </tr>\n",
       "    <tr>\n",
       "      <th>97e6b3b6-edfb-49a9-91f3-337b0b150c21</th>\n",
       "      <td>buildingAofficeFloor3</td>\n",
       "      <td>floor</td>\n",
       "      <td>1448.922008</td>\n",
       "      <td>1448.922008</td>\n",
       "      <td>655b2dfe-5c18-4d68-95f0-f5d27804430d</td>\n",
       "      <td>NaN</td>\n",
       "      <td>11.5</td>\n",
       "      <td>3.0</td>\n",
       "    </tr>\n",
       "    <tr>\n",
       "      <th>6ee48fbb-decc-47ea-8e20-e415c669143f</th>\n",
       "      <td>buildingAofficeFloor4</td>\n",
       "      <td>floor</td>\n",
       "      <td>1448.922008</td>\n",
       "      <td>1448.922008</td>\n",
       "      <td>655b2dfe-5c18-4d68-95f0-f5d27804430d</td>\n",
       "      <td>NaN</td>\n",
       "      <td>14.6</td>\n",
       "      <td>4.0</td>\n",
       "    </tr>\n",
       "    <tr>\n",
       "      <th>e57ea01c-ae5d-4281-8aff-56e95d40a239</th>\n",
       "      <td>buildingAofficeFloor5</td>\n",
       "      <td>floor</td>\n",
       "      <td>1448.922008</td>\n",
       "      <td>1448.922008</td>\n",
       "      <td>655b2dfe-5c18-4d68-95f0-f5d27804430d</td>\n",
       "      <td>NaN</td>\n",
       "      <td>17.7</td>\n",
       "      <td>5.0</td>\n",
       "    </tr>\n",
       "    <tr>\n",
       "      <th>59adf9e1-f47d-4bcc-b506-b3a2731654b9</th>\n",
       "      <td>buildingAofficeFloor6</td>\n",
       "      <td>floor</td>\n",
       "      <td>1448.922008</td>\n",
       "      <td>1448.922008</td>\n",
       "      <td>655b2dfe-5c18-4d68-95f0-f5d27804430d</td>\n",
       "      <td>NaN</td>\n",
       "      <td>20.8</td>\n",
       "      <td>6.0</td>\n",
       "    </tr>\n",
       "    <tr>\n",
       "      <th>68f28de9-539f-4276-8dcc-cf4eb7dbe82c</th>\n",
       "      <td>buildingAofficeFloor7</td>\n",
       "      <td>floor</td>\n",
       "      <td>1448.922008</td>\n",
       "      <td>1448.922008</td>\n",
       "      <td>655b2dfe-5c18-4d68-95f0-f5d27804430d</td>\n",
       "      <td>NaN</td>\n",
       "      <td>23.9</td>\n",
       "      <td>7.0</td>\n",
       "    </tr>\n",
       "    <tr>\n",
       "      <th>508b3a7f-7094-4f47-9b61-57ef8f4a6205</th>\n",
       "      <td>buildingAofficeFloor8</td>\n",
       "      <td>floor</td>\n",
       "      <td>1448.922008</td>\n",
       "      <td>1448.922008</td>\n",
       "      <td>655b2dfe-5c18-4d68-95f0-f5d27804430d</td>\n",
       "      <td>NaN</td>\n",
       "      <td>27.0</td>\n",
       "      <td>8.0</td>\n",
       "    </tr>\n",
       "    <tr>\n",
       "      <th>1e6b1a6a-d64a-4c68-9210-3c4f0585000f</th>\n",
       "      <td>buildingAofficeFloor9</td>\n",
       "      <td>floor</td>\n",
       "      <td>1448.922008</td>\n",
       "      <td>1448.922008</td>\n",
       "      <td>655b2dfe-5c18-4d68-95f0-f5d27804430d</td>\n",
       "      <td>NaN</td>\n",
       "      <td>30.1</td>\n",
       "      <td>9.0</td>\n",
       "    </tr>\n",
       "    <tr>\n",
       "      <th>12c94d26-7779-4384-856a-2139664d55e1</th>\n",
       "      <td>buildingAofficeFloor10</td>\n",
       "      <td>floor</td>\n",
       "      <td>1448.922008</td>\n",
       "      <td>1448.922008</td>\n",
       "      <td>655b2dfe-5c18-4d68-95f0-f5d27804430d</td>\n",
       "      <td>NaN</td>\n",
       "      <td>33.2</td>\n",
       "      <td>10.0</td>\n",
       "    </tr>\n",
       "    <tr>\n",
       "      <th>037235ef-f5ef-4763-b652-13d59dc03a34</th>\n",
       "      <td>buildingAretailFloor0</td>\n",
       "      <td>floor</td>\n",
       "      <td>1123.715326</td>\n",
       "      <td>1123.715326</td>\n",
       "      <td>47dfa8b6-e213-4099-9f5b-834df0ca34b0</td>\n",
       "      <td>NaN</td>\n",
       "      <td>0.3</td>\n",
       "      <td>0.0</td>\n",
       "    </tr>\n",
       "    <tr>\n",
       "      <th>a987a169-2605-4308-9462-8d22eb6df2be</th>\n",
       "      <td>buildingAresidentialFloor0</td>\n",
       "      <td>floor</td>\n",
       "      <td>57.900000</td>\n",
       "      <td>57.900000</td>\n",
       "      <td>da796c3e-94b0-4175-8c6f-ac63e5e60714</td>\n",
       "      <td>NaN</td>\n",
       "      <td>0.3</td>\n",
       "      <td>0.0</td>\n",
       "    </tr>\n",
       "    <tr>\n",
       "      <th>d2db8f8f-36c9-4a92-a1dd-016376fee217</th>\n",
       "      <td>buildingAresidentialFloor0</td>\n",
       "      <td>floor</td>\n",
       "      <td>43.800000</td>\n",
       "      <td>43.800000</td>\n",
       "      <td>da796c3e-94b0-4175-8c6f-ac63e5e60714</td>\n",
       "      <td>NaN</td>\n",
       "      <td>0.3</td>\n",
       "      <td>0.0</td>\n",
       "    </tr>\n",
       "    <tr>\n",
       "      <th>b0384123-9bec-4c0e-87f6-32abb6a49fb3</th>\n",
       "      <td>buildingAresidentialFloor1</td>\n",
       "      <td>floor</td>\n",
       "      <td>731.481030</td>\n",
       "      <td>731.481030</td>\n",
       "      <td>da796c3e-94b0-4175-8c6f-ac63e5e60714</td>\n",
       "      <td>NaN</td>\n",
       "      <td>5.3</td>\n",
       "      <td>1.0</td>\n",
       "    </tr>\n",
       "    <tr>\n",
       "      <th>bbd83975-af58-492e-8818-ce1968564a05</th>\n",
       "      <td>buildingAresidentialFloor2</td>\n",
       "      <td>floor</td>\n",
       "      <td>731.481030</td>\n",
       "      <td>731.481030</td>\n",
       "      <td>da796c3e-94b0-4175-8c6f-ac63e5e60714</td>\n",
       "      <td>NaN</td>\n",
       "      <td>8.4</td>\n",
       "      <td>2.0</td>\n",
       "    </tr>\n",
       "    <tr>\n",
       "      <th>c78fd645-372b-4a23-a823-98e2f6885b97</th>\n",
       "      <td>buildingAresidentialFloor3</td>\n",
       "      <td>floor</td>\n",
       "      <td>731.481030</td>\n",
       "      <td>731.481030</td>\n",
       "      <td>da796c3e-94b0-4175-8c6f-ac63e5e60714</td>\n",
       "      <td>NaN</td>\n",
       "      <td>11.5</td>\n",
       "      <td>3.0</td>\n",
       "    </tr>\n",
       "    <tr>\n",
       "      <th>b5466f16-c071-41a5-93b1-0d794930e62d</th>\n",
       "      <td>buildingAretailFloor0</td>\n",
       "      <td>floor</td>\n",
       "      <td>534.530238</td>\n",
       "      <td>534.530238</td>\n",
       "      <td>08e12c72-4450-424f-8ff4-a4da7246ee05</td>\n",
       "      <td>NaN</td>\n",
       "      <td>0.3</td>\n",
       "      <td>0.0</td>\n",
       "    </tr>\n",
       "    <tr>\n",
       "      <th>02b101a5-0ad5-4f8d-9f0b-f65787d4073f</th>\n",
       "      <td>buildingAparkingFloor0</td>\n",
       "      <td>floor</td>\n",
       "      <td>960.262087</td>\n",
       "      <td>960.262087</td>\n",
       "      <td>634c5fb4-f204-4287-8c80-f23371056f1c</td>\n",
       "      <td>NaN</td>\n",
       "      <td>0.3</td>\n",
       "      <td>0.0</td>\n",
       "    </tr>\n",
       "    <tr>\n",
       "      <th>c7dfbeaf-1b8c-424c-bad0-0b2b5975af6e</th>\n",
       "      <td>plinthparking</td>\n",
       "      <td>space</td>\n",
       "      <td>NaN</td>\n",
       "      <td>12773.744211</td>\n",
       "      <td>dac040a5-2605-4cd0-a2fb-40ebb85450d9</td>\n",
       "      <td>parking</td>\n",
       "      <td>NaN</td>\n",
       "      <td>NaN</td>\n",
       "    </tr>\n",
       "    <tr>\n",
       "      <th>1993c555-a42b-4496-83fa-0a35540ce846</th>\n",
       "      <td>plinthplant</td>\n",
       "      <td>utilities</td>\n",
       "      <td>NaN</td>\n",
       "      <td>0.000000</td>\n",
       "      <td>dac040a5-2605-4cd0-a2fb-40ebb85450d9</td>\n",
       "      <td>plant</td>\n",
       "      <td>NaN</td>\n",
       "      <td>NaN</td>\n",
       "    </tr>\n",
       "    <tr>\n",
       "      <th>d82b6b35-c57b-402d-92da-13fd460157ed</th>\n",
       "      <td>plinthparkingFloor-2</td>\n",
       "      <td>floor</td>\n",
       "      <td>6386.872106</td>\n",
       "      <td>6386.872106</td>\n",
       "      <td>c7dfbeaf-1b8c-424c-bad0-0b2b5975af6e</td>\n",
       "      <td>NaN</td>\n",
       "      <td>-5.9</td>\n",
       "      <td>-2.0</td>\n",
       "    </tr>\n",
       "    <tr>\n",
       "      <th>a25d7bbf-0cff-4ef8-9432-f77459c16ac1</th>\n",
       "      <td>plinthparkingFloor-1</td>\n",
       "      <td>floor</td>\n",
       "      <td>6386.872106</td>\n",
       "      <td>6386.872106</td>\n",
       "      <td>c7dfbeaf-1b8c-424c-bad0-0b2b5975af6e</td>\n",
       "      <td>NaN</td>\n",
       "      <td>-2.8</td>\n",
       "      <td>-1.0</td>\n",
       "    </tr>\n",
       "    <tr>\n",
       "      <th>23b3acb0-8acb-4254-b54c-e76b4b7b8fe9</th>\n",
       "      <td>buildingBretail</td>\n",
       "      <td>space</td>\n",
       "      <td>NaN</td>\n",
       "      <td>815.983454</td>\n",
       "      <td>8c7c9be7-fd8f-4527-ae90-24e15c3581db</td>\n",
       "      <td>retail</td>\n",
       "      <td>NaN</td>\n",
       "      <td>NaN</td>\n",
       "    </tr>\n",
       "    <tr>\n",
       "      <th>12350456-019d-44a5-89f1-fec7401afd0c</th>\n",
       "      <td>buildingBparking</td>\n",
       "      <td>space</td>\n",
       "      <td>NaN</td>\n",
       "      <td>1178.164752</td>\n",
       "      <td>8c7c9be7-fd8f-4527-ae90-24e15c3581db</td>\n",
       "      <td>parking</td>\n",
       "      <td>NaN</td>\n",
       "      <td>NaN</td>\n",
       "    </tr>\n",
       "    <tr>\n",
       "      <th>a4ee86bf-24af-4745-9aec-a903170f9e53</th>\n",
       "      <td>buildingBresidential</td>\n",
       "      <td>space</td>\n",
       "      <td>NaN</td>\n",
       "      <td>11442.736624</td>\n",
       "      <td>8c7c9be7-fd8f-4527-ae90-24e15c3581db</td>\n",
       "      <td>residential</td>\n",
       "      <td>NaN</td>\n",
       "      <td>NaN</td>\n",
       "    </tr>\n",
       "    <tr>\n",
       "      <th>d4411714-a51f-4d9a-ba97-7ea0c4c8fba3</th>\n",
       "      <td>buildingBcores</td>\n",
       "      <td>utilities</td>\n",
       "      <td>NaN</td>\n",
       "      <td>0.000000</td>\n",
       "      <td>8c7c9be7-fd8f-4527-ae90-24e15c3581db</td>\n",
       "      <td>cores</td>\n",
       "      <td>NaN</td>\n",
       "      <td>NaN</td>\n",
       "    </tr>\n",
       "    <tr>\n",
       "      <th>bf032649-dd19-4bf3-ae54-a2c2c768c911</th>\n",
       "      <td>buildingBretailFloor0</td>\n",
       "      <td>floor</td>\n",
       "      <td>815.983454</td>\n",
       "      <td>815.983454</td>\n",
       "      <td>23b3acb0-8acb-4254-b54c-e76b4b7b8fe9</td>\n",
       "      <td>NaN</td>\n",
       "      <td>0.3</td>\n",
       "      <td>0.0</td>\n",
       "    </tr>\n",
       "    <tr>\n",
       "      <th>a336f32d-1a65-460e-b66c-f92db03a51e0</th>\n",
       "      <td>buildingBparkingFloor0</td>\n",
       "      <td>floor</td>\n",
       "      <td>1178.164752</td>\n",
       "      <td>1178.164752</td>\n",
       "      <td>12350456-019d-44a5-89f1-fec7401afd0c</td>\n",
       "      <td>NaN</td>\n",
       "      <td>0.3</td>\n",
       "      <td>0.0</td>\n",
       "    </tr>\n",
       "    <tr>\n",
       "      <th>b02a36da-d053-4e8b-8061-214cc0cc2aab</th>\n",
       "      <td>buildingBresidentialFloor0</td>\n",
       "      <td>floor</td>\n",
       "      <td>765.941631</td>\n",
       "      <td>765.941631</td>\n",
       "      <td>a4ee86bf-24af-4745-9aec-a903170f9e53</td>\n",
       "      <td>NaN</td>\n",
       "      <td>0.3</td>\n",
       "      <td>0.0</td>\n",
       "    </tr>\n",
       "    <tr>\n",
       "      <th>aca92060-bc6a-4add-80ce-453e95632c10</th>\n",
       "      <td>buildingBresidentialFloor1</td>\n",
       "      <td>floor</td>\n",
       "      <td>2361.056035</td>\n",
       "      <td>2361.056035</td>\n",
       "      <td>a4ee86bf-24af-4745-9aec-a903170f9e53</td>\n",
       "      <td>NaN</td>\n",
       "      <td>5.3</td>\n",
       "      <td>1.0</td>\n",
       "    </tr>\n",
       "    <tr>\n",
       "      <th>52fdcc00-9d28-4be4-adc0-19e90bdea02e</th>\n",
       "      <td>buildingBresidentialFloor2</td>\n",
       "      <td>floor</td>\n",
       "      <td>2361.056035</td>\n",
       "      <td>2361.056035</td>\n",
       "      <td>a4ee86bf-24af-4745-9aec-a903170f9e53</td>\n",
       "      <td>NaN</td>\n",
       "      <td>8.4</td>\n",
       "      <td>2.0</td>\n",
       "    </tr>\n",
       "    <tr>\n",
       "      <th>bf4d5c5b-fb0e-4444-98b5-c11a871a6bab</th>\n",
       "      <td>buildingBresidentialFloor3</td>\n",
       "      <td>floor</td>\n",
       "      <td>2015.956035</td>\n",
       "      <td>2015.956035</td>\n",
       "      <td>a4ee86bf-24af-4745-9aec-a903170f9e53</td>\n",
       "      <td>NaN</td>\n",
       "      <td>11.5</td>\n",
       "      <td>3.0</td>\n",
       "    </tr>\n",
       "    <tr>\n",
       "      <th>47012c33-7c80-4c47-bb2b-21bd3f2e6abb</th>\n",
       "      <td>buildingBresidentialFloor4</td>\n",
       "      <td>floor</td>\n",
       "      <td>2015.956035</td>\n",
       "      <td>2015.956035</td>\n",
       "      <td>a4ee86bf-24af-4745-9aec-a903170f9e53</td>\n",
       "      <td>NaN</td>\n",
       "      <td>14.6</td>\n",
       "      <td>4.0</td>\n",
       "    </tr>\n",
       "    <tr>\n",
       "      <th>da8910bc-f4e3-47c0-af67-a3ffe27f7255</th>\n",
       "      <td>buildingBresidentialFloor5</td>\n",
       "      <td>floor</td>\n",
       "      <td>875.014900</td>\n",
       "      <td>875.014900</td>\n",
       "      <td>a4ee86bf-24af-4745-9aec-a903170f9e53</td>\n",
       "      <td>NaN</td>\n",
       "      <td>17.7</td>\n",
       "      <td>5.0</td>\n",
       "    </tr>\n",
       "    <tr>\n",
       "      <th>3f64b970-a1d1-440f-a06d-951e74c80381</th>\n",
       "      <td>buildingBresidentialFloor6</td>\n",
       "      <td>floor</td>\n",
       "      <td>875.014900</td>\n",
       "      <td>875.014900</td>\n",
       "      <td>a4ee86bf-24af-4745-9aec-a903170f9e53</td>\n",
       "      <td>NaN</td>\n",
       "      <td>20.8</td>\n",
       "      <td>6.0</td>\n",
       "    </tr>\n",
       "    <tr>\n",
       "      <th>4157f428-1dce-4e14-8099-4eee13fa405e</th>\n",
       "      <td>buildingBresidentialFloor0</td>\n",
       "      <td>floor</td>\n",
       "      <td>172.741054</td>\n",
       "      <td>172.741054</td>\n",
       "      <td>a4ee86bf-24af-4745-9aec-a903170f9e53</td>\n",
       "      <td>NaN</td>\n",
       "      <td>0.3</td>\n",
       "      <td>0.0</td>\n",
       "    </tr>\n",
       "  </tbody>\n",
       "</table>\n",
       "</div>"
      ],
      "text/plain": [
       "                                                            name         type  \\\n",
       "003c1ee8-4450-4fb1-98bd-54d11408d99e                 development  development   \n",
       "eb42cd14-73ab-41fc-99c0-c46631ee1208                   buildingA     building   \n",
       "dac040a5-2605-4cd0-a2fb-40ebb85450d9                      plinth     building   \n",
       "8c7c9be7-fd8f-4527-ae90-24e15c3581db                   buildingB     building   \n",
       "f7e2fa84-54a6-4fd4-ae93-f339947035b6                   utilities    utilities   \n",
       "655b2dfe-5c18-4d68-95f0-f5d27804430d             buildingAoffice        space   \n",
       "47dfa8b6-e213-4099-9f5b-834df0ca34b0             buildingAretail        space   \n",
       "da796c3e-94b0-4175-8c6f-ac63e5e60714        buildingAresidential        space   \n",
       "08e12c72-4450-424f-8ff4-a4da7246ee05             buildingAretail        space   \n",
       "634c5fb4-f204-4287-8c80-f23371056f1c            buildingAparking        space   \n",
       "abdf16fd-494e-4d7f-a604-134ce1c004ac              buildingAcores    utilities   \n",
       "6bfd12d7-72d7-417f-bc31-1bef4ffaadb0       buildingAofficeFloor1        floor   \n",
       "f25ef6dc-c9cc-444a-b758-e30e87a9593f       buildingAofficeFloor2        floor   \n",
       "97e6b3b6-edfb-49a9-91f3-337b0b150c21       buildingAofficeFloor3        floor   \n",
       "6ee48fbb-decc-47ea-8e20-e415c669143f       buildingAofficeFloor4        floor   \n",
       "e57ea01c-ae5d-4281-8aff-56e95d40a239       buildingAofficeFloor5        floor   \n",
       "59adf9e1-f47d-4bcc-b506-b3a2731654b9       buildingAofficeFloor6        floor   \n",
       "68f28de9-539f-4276-8dcc-cf4eb7dbe82c       buildingAofficeFloor7        floor   \n",
       "508b3a7f-7094-4f47-9b61-57ef8f4a6205       buildingAofficeFloor8        floor   \n",
       "1e6b1a6a-d64a-4c68-9210-3c4f0585000f       buildingAofficeFloor9        floor   \n",
       "12c94d26-7779-4384-856a-2139664d55e1      buildingAofficeFloor10        floor   \n",
       "037235ef-f5ef-4763-b652-13d59dc03a34       buildingAretailFloor0        floor   \n",
       "a987a169-2605-4308-9462-8d22eb6df2be  buildingAresidentialFloor0        floor   \n",
       "d2db8f8f-36c9-4a92-a1dd-016376fee217  buildingAresidentialFloor0        floor   \n",
       "b0384123-9bec-4c0e-87f6-32abb6a49fb3  buildingAresidentialFloor1        floor   \n",
       "bbd83975-af58-492e-8818-ce1968564a05  buildingAresidentialFloor2        floor   \n",
       "c78fd645-372b-4a23-a823-98e2f6885b97  buildingAresidentialFloor3        floor   \n",
       "b5466f16-c071-41a5-93b1-0d794930e62d       buildingAretailFloor0        floor   \n",
       "02b101a5-0ad5-4f8d-9f0b-f65787d4073f      buildingAparkingFloor0        floor   \n",
       "c7dfbeaf-1b8c-424c-bad0-0b2b5975af6e               plinthparking        space   \n",
       "1993c555-a42b-4496-83fa-0a35540ce846                 plinthplant    utilities   \n",
       "d82b6b35-c57b-402d-92da-13fd460157ed        plinthparkingFloor-2        floor   \n",
       "a25d7bbf-0cff-4ef8-9432-f77459c16ac1        plinthparkingFloor-1        floor   \n",
       "23b3acb0-8acb-4254-b54c-e76b4b7b8fe9             buildingBretail        space   \n",
       "12350456-019d-44a5-89f1-fec7401afd0c            buildingBparking        space   \n",
       "a4ee86bf-24af-4745-9aec-a903170f9e53        buildingBresidential        space   \n",
       "d4411714-a51f-4d9a-ba97-7ea0c4c8fba3              buildingBcores    utilities   \n",
       "bf032649-dd19-4bf3-ae54-a2c2c768c911       buildingBretailFloor0        floor   \n",
       "a336f32d-1a65-460e-b66c-f92db03a51e0      buildingBparkingFloor0        floor   \n",
       "b02a36da-d053-4e8b-8061-214cc0cc2aab  buildingBresidentialFloor0        floor   \n",
       "aca92060-bc6a-4add-80ce-453e95632c10  buildingBresidentialFloor1        floor   \n",
       "52fdcc00-9d28-4be4-adc0-19e90bdea02e  buildingBresidentialFloor2        floor   \n",
       "bf4d5c5b-fb0e-4444-98b5-c11a871a6bab  buildingBresidentialFloor3        floor   \n",
       "47012c33-7c80-4c47-bb2b-21bd3f2e6abb  buildingBresidentialFloor4        floor   \n",
       "da8910bc-f4e3-47c0-af67-a3ffe27f7255  buildingBresidentialFloor5        floor   \n",
       "3f64b970-a1d1-440f-a06d-951e74c80381  buildingBresidentialFloor6        floor   \n",
       "4157f428-1dce-4e14-8099-4eee13fa405e  buildingBresidentialFloor0        floor   \n",
       "\n",
       "                                              gfa  subtotal_gfa  \\\n",
       "003c1ee8-4450-4fb1-98bd-54d11408d99e          NaN  45816.419959   \n",
       "eb42cd14-73ab-41fc-99c0-c46631ee1208          NaN  19605.790919   \n",
       "dac040a5-2605-4cd0-a2fb-40ebb85450d9          NaN  12773.744211   \n",
       "8c7c9be7-fd8f-4527-ae90-24e15c3581db          NaN  13436.884829   \n",
       "f7e2fa84-54a6-4fd4-ae93-f339947035b6          NaN      0.000000   \n",
       "655b2dfe-5c18-4d68-95f0-f5d27804430d          NaN  14691.140177   \n",
       "47dfa8b6-e213-4099-9f5b-834df0ca34b0          NaN   1123.715326   \n",
       "da796c3e-94b0-4175-8c6f-ac63e5e60714          NaN   2296.143091   \n",
       "08e12c72-4450-424f-8ff4-a4da7246ee05          NaN    534.530238   \n",
       "634c5fb4-f204-4287-8c80-f23371056f1c          NaN    960.262087   \n",
       "abdf16fd-494e-4d7f-a604-134ce1c004ac          NaN      0.000000   \n",
       "6bfd12d7-72d7-417f-bc31-1bef4ffaadb0  1650.842103   1650.842103   \n",
       "f25ef6dc-c9cc-444a-b758-e30e87a9593f  1448.922008   1448.922008   \n",
       "97e6b3b6-edfb-49a9-91f3-337b0b150c21  1448.922008   1448.922008   \n",
       "6ee48fbb-decc-47ea-8e20-e415c669143f  1448.922008   1448.922008   \n",
       "e57ea01c-ae5d-4281-8aff-56e95d40a239  1448.922008   1448.922008   \n",
       "59adf9e1-f47d-4bcc-b506-b3a2731654b9  1448.922008   1448.922008   \n",
       "68f28de9-539f-4276-8dcc-cf4eb7dbe82c  1448.922008   1448.922008   \n",
       "508b3a7f-7094-4f47-9b61-57ef8f4a6205  1448.922008   1448.922008   \n",
       "1e6b1a6a-d64a-4c68-9210-3c4f0585000f  1448.922008   1448.922008   \n",
       "12c94d26-7779-4384-856a-2139664d55e1  1448.922008   1448.922008   \n",
       "037235ef-f5ef-4763-b652-13d59dc03a34  1123.715326   1123.715326   \n",
       "a987a169-2605-4308-9462-8d22eb6df2be    57.900000     57.900000   \n",
       "d2db8f8f-36c9-4a92-a1dd-016376fee217    43.800000     43.800000   \n",
       "b0384123-9bec-4c0e-87f6-32abb6a49fb3   731.481030    731.481030   \n",
       "bbd83975-af58-492e-8818-ce1968564a05   731.481030    731.481030   \n",
       "c78fd645-372b-4a23-a823-98e2f6885b97   731.481030    731.481030   \n",
       "b5466f16-c071-41a5-93b1-0d794930e62d   534.530238    534.530238   \n",
       "02b101a5-0ad5-4f8d-9f0b-f65787d4073f   960.262087    960.262087   \n",
       "c7dfbeaf-1b8c-424c-bad0-0b2b5975af6e          NaN  12773.744211   \n",
       "1993c555-a42b-4496-83fa-0a35540ce846          NaN      0.000000   \n",
       "d82b6b35-c57b-402d-92da-13fd460157ed  6386.872106   6386.872106   \n",
       "a25d7bbf-0cff-4ef8-9432-f77459c16ac1  6386.872106   6386.872106   \n",
       "23b3acb0-8acb-4254-b54c-e76b4b7b8fe9          NaN    815.983454   \n",
       "12350456-019d-44a5-89f1-fec7401afd0c          NaN   1178.164752   \n",
       "a4ee86bf-24af-4745-9aec-a903170f9e53          NaN  11442.736624   \n",
       "d4411714-a51f-4d9a-ba97-7ea0c4c8fba3          NaN      0.000000   \n",
       "bf032649-dd19-4bf3-ae54-a2c2c768c911   815.983454    815.983454   \n",
       "a336f32d-1a65-460e-b66c-f92db03a51e0  1178.164752   1178.164752   \n",
       "b02a36da-d053-4e8b-8061-214cc0cc2aab   765.941631    765.941631   \n",
       "aca92060-bc6a-4add-80ce-453e95632c10  2361.056035   2361.056035   \n",
       "52fdcc00-9d28-4be4-adc0-19e90bdea02e  2361.056035   2361.056035   \n",
       "bf4d5c5b-fb0e-4444-98b5-c11a871a6bab  2015.956035   2015.956035   \n",
       "47012c33-7c80-4c47-bb2b-21bd3f2e6abb  2015.956035   2015.956035   \n",
       "da8910bc-f4e3-47c0-af67-a3ffe27f7255   875.014900    875.014900   \n",
       "3f64b970-a1d1-440f-a06d-951e74c80381   875.014900    875.014900   \n",
       "4157f428-1dce-4e14-8099-4eee13fa405e   172.741054    172.741054   \n",
       "\n",
       "                                                                    parent  \\\n",
       "003c1ee8-4450-4fb1-98bd-54d11408d99e                                  None   \n",
       "eb42cd14-73ab-41fc-99c0-c46631ee1208  003c1ee8-4450-4fb1-98bd-54d11408d99e   \n",
       "dac040a5-2605-4cd0-a2fb-40ebb85450d9  003c1ee8-4450-4fb1-98bd-54d11408d99e   \n",
       "8c7c9be7-fd8f-4527-ae90-24e15c3581db  003c1ee8-4450-4fb1-98bd-54d11408d99e   \n",
       "f7e2fa84-54a6-4fd4-ae93-f339947035b6  003c1ee8-4450-4fb1-98bd-54d11408d99e   \n",
       "655b2dfe-5c18-4d68-95f0-f5d27804430d  eb42cd14-73ab-41fc-99c0-c46631ee1208   \n",
       "47dfa8b6-e213-4099-9f5b-834df0ca34b0  eb42cd14-73ab-41fc-99c0-c46631ee1208   \n",
       "da796c3e-94b0-4175-8c6f-ac63e5e60714  eb42cd14-73ab-41fc-99c0-c46631ee1208   \n",
       "08e12c72-4450-424f-8ff4-a4da7246ee05  eb42cd14-73ab-41fc-99c0-c46631ee1208   \n",
       "634c5fb4-f204-4287-8c80-f23371056f1c  eb42cd14-73ab-41fc-99c0-c46631ee1208   \n",
       "abdf16fd-494e-4d7f-a604-134ce1c004ac  eb42cd14-73ab-41fc-99c0-c46631ee1208   \n",
       "6bfd12d7-72d7-417f-bc31-1bef4ffaadb0  655b2dfe-5c18-4d68-95f0-f5d27804430d   \n",
       "f25ef6dc-c9cc-444a-b758-e30e87a9593f  655b2dfe-5c18-4d68-95f0-f5d27804430d   \n",
       "97e6b3b6-edfb-49a9-91f3-337b0b150c21  655b2dfe-5c18-4d68-95f0-f5d27804430d   \n",
       "6ee48fbb-decc-47ea-8e20-e415c669143f  655b2dfe-5c18-4d68-95f0-f5d27804430d   \n",
       "e57ea01c-ae5d-4281-8aff-56e95d40a239  655b2dfe-5c18-4d68-95f0-f5d27804430d   \n",
       "59adf9e1-f47d-4bcc-b506-b3a2731654b9  655b2dfe-5c18-4d68-95f0-f5d27804430d   \n",
       "68f28de9-539f-4276-8dcc-cf4eb7dbe82c  655b2dfe-5c18-4d68-95f0-f5d27804430d   \n",
       "508b3a7f-7094-4f47-9b61-57ef8f4a6205  655b2dfe-5c18-4d68-95f0-f5d27804430d   \n",
       "1e6b1a6a-d64a-4c68-9210-3c4f0585000f  655b2dfe-5c18-4d68-95f0-f5d27804430d   \n",
       "12c94d26-7779-4384-856a-2139664d55e1  655b2dfe-5c18-4d68-95f0-f5d27804430d   \n",
       "037235ef-f5ef-4763-b652-13d59dc03a34  47dfa8b6-e213-4099-9f5b-834df0ca34b0   \n",
       "a987a169-2605-4308-9462-8d22eb6df2be  da796c3e-94b0-4175-8c6f-ac63e5e60714   \n",
       "d2db8f8f-36c9-4a92-a1dd-016376fee217  da796c3e-94b0-4175-8c6f-ac63e5e60714   \n",
       "b0384123-9bec-4c0e-87f6-32abb6a49fb3  da796c3e-94b0-4175-8c6f-ac63e5e60714   \n",
       "bbd83975-af58-492e-8818-ce1968564a05  da796c3e-94b0-4175-8c6f-ac63e5e60714   \n",
       "c78fd645-372b-4a23-a823-98e2f6885b97  da796c3e-94b0-4175-8c6f-ac63e5e60714   \n",
       "b5466f16-c071-41a5-93b1-0d794930e62d  08e12c72-4450-424f-8ff4-a4da7246ee05   \n",
       "02b101a5-0ad5-4f8d-9f0b-f65787d4073f  634c5fb4-f204-4287-8c80-f23371056f1c   \n",
       "c7dfbeaf-1b8c-424c-bad0-0b2b5975af6e  dac040a5-2605-4cd0-a2fb-40ebb85450d9   \n",
       "1993c555-a42b-4496-83fa-0a35540ce846  dac040a5-2605-4cd0-a2fb-40ebb85450d9   \n",
       "d82b6b35-c57b-402d-92da-13fd460157ed  c7dfbeaf-1b8c-424c-bad0-0b2b5975af6e   \n",
       "a25d7bbf-0cff-4ef8-9432-f77459c16ac1  c7dfbeaf-1b8c-424c-bad0-0b2b5975af6e   \n",
       "23b3acb0-8acb-4254-b54c-e76b4b7b8fe9  8c7c9be7-fd8f-4527-ae90-24e15c3581db   \n",
       "12350456-019d-44a5-89f1-fec7401afd0c  8c7c9be7-fd8f-4527-ae90-24e15c3581db   \n",
       "a4ee86bf-24af-4745-9aec-a903170f9e53  8c7c9be7-fd8f-4527-ae90-24e15c3581db   \n",
       "d4411714-a51f-4d9a-ba97-7ea0c4c8fba3  8c7c9be7-fd8f-4527-ae90-24e15c3581db   \n",
       "bf032649-dd19-4bf3-ae54-a2c2c768c911  23b3acb0-8acb-4254-b54c-e76b4b7b8fe9   \n",
       "a336f32d-1a65-460e-b66c-f92db03a51e0  12350456-019d-44a5-89f1-fec7401afd0c   \n",
       "b02a36da-d053-4e8b-8061-214cc0cc2aab  a4ee86bf-24af-4745-9aec-a903170f9e53   \n",
       "aca92060-bc6a-4add-80ce-453e95632c10  a4ee86bf-24af-4745-9aec-a903170f9e53   \n",
       "52fdcc00-9d28-4be4-adc0-19e90bdea02e  a4ee86bf-24af-4745-9aec-a903170f9e53   \n",
       "bf4d5c5b-fb0e-4444-98b5-c11a871a6bab  a4ee86bf-24af-4745-9aec-a903170f9e53   \n",
       "47012c33-7c80-4c47-bb2b-21bd3f2e6abb  a4ee86bf-24af-4745-9aec-a903170f9e53   \n",
       "da8910bc-f4e3-47c0-af67-a3ffe27f7255  a4ee86bf-24af-4745-9aec-a903170f9e53   \n",
       "3f64b970-a1d1-440f-a06d-951e74c80381  a4ee86bf-24af-4745-9aec-a903170f9e53   \n",
       "4157f428-1dce-4e14-8099-4eee13fa405e  a4ee86bf-24af-4745-9aec-a903170f9e53   \n",
       "\n",
       "                                              use   ffl  number  \n",
       "003c1ee8-4450-4fb1-98bd-54d11408d99e          NaN   NaN     NaN  \n",
       "eb42cd14-73ab-41fc-99c0-c46631ee1208          NaN   NaN     NaN  \n",
       "dac040a5-2605-4cd0-a2fb-40ebb85450d9          NaN   NaN     NaN  \n",
       "8c7c9be7-fd8f-4527-ae90-24e15c3581db          NaN   NaN     NaN  \n",
       "f7e2fa84-54a6-4fd4-ae93-f339947035b6          NaN   NaN     NaN  \n",
       "655b2dfe-5c18-4d68-95f0-f5d27804430d       office   NaN     NaN  \n",
       "47dfa8b6-e213-4099-9f5b-834df0ca34b0       retail   NaN     NaN  \n",
       "da796c3e-94b0-4175-8c6f-ac63e5e60714  residential   NaN     NaN  \n",
       "08e12c72-4450-424f-8ff4-a4da7246ee05       retail   NaN     NaN  \n",
       "634c5fb4-f204-4287-8c80-f23371056f1c      parking   NaN     NaN  \n",
       "abdf16fd-494e-4d7f-a604-134ce1c004ac        cores   NaN     NaN  \n",
       "6bfd12d7-72d7-417f-bc31-1bef4ffaadb0          NaN   5.3     1.0  \n",
       "f25ef6dc-c9cc-444a-b758-e30e87a9593f          NaN   8.4     2.0  \n",
       "97e6b3b6-edfb-49a9-91f3-337b0b150c21          NaN  11.5     3.0  \n",
       "6ee48fbb-decc-47ea-8e20-e415c669143f          NaN  14.6     4.0  \n",
       "e57ea01c-ae5d-4281-8aff-56e95d40a239          NaN  17.7     5.0  \n",
       "59adf9e1-f47d-4bcc-b506-b3a2731654b9          NaN  20.8     6.0  \n",
       "68f28de9-539f-4276-8dcc-cf4eb7dbe82c          NaN  23.9     7.0  \n",
       "508b3a7f-7094-4f47-9b61-57ef8f4a6205          NaN  27.0     8.0  \n",
       "1e6b1a6a-d64a-4c68-9210-3c4f0585000f          NaN  30.1     9.0  \n",
       "12c94d26-7779-4384-856a-2139664d55e1          NaN  33.2    10.0  \n",
       "037235ef-f5ef-4763-b652-13d59dc03a34          NaN   0.3     0.0  \n",
       "a987a169-2605-4308-9462-8d22eb6df2be          NaN   0.3     0.0  \n",
       "d2db8f8f-36c9-4a92-a1dd-016376fee217          NaN   0.3     0.0  \n",
       "b0384123-9bec-4c0e-87f6-32abb6a49fb3          NaN   5.3     1.0  \n",
       "bbd83975-af58-492e-8818-ce1968564a05          NaN   8.4     2.0  \n",
       "c78fd645-372b-4a23-a823-98e2f6885b97          NaN  11.5     3.0  \n",
       "b5466f16-c071-41a5-93b1-0d794930e62d          NaN   0.3     0.0  \n",
       "02b101a5-0ad5-4f8d-9f0b-f65787d4073f          NaN   0.3     0.0  \n",
       "c7dfbeaf-1b8c-424c-bad0-0b2b5975af6e      parking   NaN     NaN  \n",
       "1993c555-a42b-4496-83fa-0a35540ce846        plant   NaN     NaN  \n",
       "d82b6b35-c57b-402d-92da-13fd460157ed          NaN  -5.9    -2.0  \n",
       "a25d7bbf-0cff-4ef8-9432-f77459c16ac1          NaN  -2.8    -1.0  \n",
       "23b3acb0-8acb-4254-b54c-e76b4b7b8fe9       retail   NaN     NaN  \n",
       "12350456-019d-44a5-89f1-fec7401afd0c      parking   NaN     NaN  \n",
       "a4ee86bf-24af-4745-9aec-a903170f9e53  residential   NaN     NaN  \n",
       "d4411714-a51f-4d9a-ba97-7ea0c4c8fba3        cores   NaN     NaN  \n",
       "bf032649-dd19-4bf3-ae54-a2c2c768c911          NaN   0.3     0.0  \n",
       "a336f32d-1a65-460e-b66c-f92db03a51e0          NaN   0.3     0.0  \n",
       "b02a36da-d053-4e8b-8061-214cc0cc2aab          NaN   0.3     0.0  \n",
       "aca92060-bc6a-4add-80ce-453e95632c10          NaN   5.3     1.0  \n",
       "52fdcc00-9d28-4be4-adc0-19e90bdea02e          NaN   8.4     2.0  \n",
       "bf4d5c5b-fb0e-4444-98b5-c11a871a6bab          NaN  11.5     3.0  \n",
       "47012c33-7c80-4c47-bb2b-21bd3f2e6abb          NaN  14.6     4.0  \n",
       "da8910bc-f4e3-47c0-af67-a3ffe27f7255          NaN  17.7     5.0  \n",
       "3f64b970-a1d1-440f-a06d-951e74c80381          NaN  20.8     6.0  \n",
       "4157f428-1dce-4e14-8099-4eee13fa405e          NaN   0.3     0.0  "
      ]
     },
     "execution_count": 9,
     "metadata": {},
     "output_type": "execute_result"
    }
   ],
   "source": [
    "df = spatial_containment.to_DataFrame()\n",
    "df = df[['name', 'type', 'gfa', 'subtotal_gfa', 'parent', 'use', 'ffl', 'number']]\n",
    "df"
   ]
  },
  {
   "cell_type": "code",
   "execution_count": 10,
   "metadata": {
    "ExecuteTime": {
     "end_time": "2023-06-26T13:04:26.560583Z",
     "start_time": "2023-06-26T13:04:26.095666Z"
    },
    "collapsed": false
   },
   "outputs": [
    {
     "data": {
      "text/html": [
       "\n",
       "        <iframe\n",
       "            width=\"100%\"\n",
       "            height=\"800\"\n",
       "            src=\"./spatial_containment_chart.html\"\n",
       "            frameborder=\"0\"\n",
       "            allowfullscreen\n",
       "            \n",
       "        ></iframe>\n",
       "        "
      ],
      "text/plain": [
       "<IPython.lib.display.IFrame at 0x2ea0700d0>"
      ]
     },
     "execution_count": 10,
     "metadata": {},
     "output_type": "execute_result"
    }
   ],
   "source": [
    "sunburst = spatial_containment.sunburst(property='subtotal_gfa')\n",
    "treemap = spatial_containment.treemap(property='subtotal_gfa')\n",
    "fig = plotly.subplots.make_subplots(\n",
    "    rows=1, cols=2,\n",
    "    specs=[[{\"type\": \"sunburst\"}, {\"type\": \"treemap\"}]])\n",
    "fig.append_trace(sunburst, row=1, col=1)\n",
    "fig.append_trace(treemap, row=1, col=2)\n",
    "filename='spatial_containment_chart.html'\n",
    "\n",
    "py.plot(fig, filename='assets/{0}'.format(filename), auto_open=False)\n",
    "IFrame(src=\"./{0}\".format(filename), width='100%', height=800)"
   ]
  },
  {
   "cell_type": "code",
   "execution_count": 11,
   "metadata": {
    "ExecuteTime": {
     "end_time": "2023-06-26T13:04:26.560735Z",
     "start_time": "2023-06-26T13:04:26.533933Z"
    },
    "collapsed": false
   },
   "outputs": [],
   "source": [
    "floors = [entity for (entityId, entity) in spatial_containment.get_entities().items() if entity['type'] == 'floor' and hasattr(entity, 'gfa')]"
   ]
  },
  {
   "cell_type": "code",
   "execution_count": 12,
   "metadata": {
    "ExecuteTime": {
     "end_time": "2023-06-26T13:04:26.565028Z",
     "start_time": "2023-06-26T13:04:26.534002Z"
    },
    "collapsed": false
   },
   "outputs": [],
   "source": [
    "locale.setlocale(locale.LC_ALL, 'en_au')\n",
    "units = rk.measure.Index.registry\n",
    "currency = rk.measure.register_currency(registry=units)\n",
    "period_type = rk.periodicity.Type.YEAR"
   ]
  },
  {
   "cell_type": "code",
   "execution_count": 13,
   "metadata": {
    "ExecuteTime": {
     "end_time": "2023-06-26T13:04:26.566120Z",
     "start_time": "2023-06-26T13:04:26.563247Z"
    },
    "collapsed": false
   },
   "outputs": [],
   "source": [
    "efficiency_ratios = {\n",
    "    'office': 0.88,\n",
    "    'retail': 0.75,\n",
    "    'residential': 0.82,\n",
    "    'parking': 0.93,\n",
    "    }\n",
    "initial_income_per_area_pa = {\n",
    "    'office': 750,\n",
    "    'retail': 1000,\n",
    "    'residential': 600,\n",
    "    'parking': 0,\n",
    "    }\n",
    "growth_rates = {\n",
    "    'office': 0.02,\n",
    "    'retail': 0.05,\n",
    "    'residential': 0.035,\n",
    "    'parking': 0,\n",
    "    }\n",
    "vacancy_rates = {\n",
    "    'office': 0.075,\n",
    "    'retail': 0.5,\n",
    "    'residential': 0.02,\n",
    "    'parking': 0,\n",
    "    }"
   ]
  },
  {
   "cell_type": "code",
   "execution_count": 14,
   "metadata": {
    "ExecuteTime": {
     "end_time": "2023-06-26T13:04:26.573290Z",
     "start_time": "2023-06-26T13:04:26.569910Z"
    },
    "collapsed": false
   },
   "outputs": [
    {
     "data": {
      "text/html": [
       "<div>\n",
       "<style scoped>\n",
       "    .dataframe tbody tr th:only-of-type {\n",
       "        vertical-align: middle;\n",
       "    }\n",
       "\n",
       "    .dataframe tbody tr th {\n",
       "        vertical-align: top;\n",
       "    }\n",
       "\n",
       "    .dataframe thead th {\n",
       "        text-align: right;\n",
       "    }\n",
       "</style>\n",
       "<table border=\"1\" class=\"dataframe\">\n",
       "  <thead>\n",
       "    <tr style=\"text-align: right;\">\n",
       "      <th></th>\n",
       "      <th>efficiency_ratio</th>\n",
       "      <th>initial_income_per_area_pa</th>\n",
       "      <th>growth_rate</th>\n",
       "      <th>vacancy_rate</th>\n",
       "    </tr>\n",
       "  </thead>\n",
       "  <tbody>\n",
       "    <tr>\n",
       "      <th>office</th>\n",
       "      <td>0.88</td>\n",
       "      <td>750</td>\n",
       "      <td>0.020</td>\n",
       "      <td>0.075</td>\n",
       "    </tr>\n",
       "    <tr>\n",
       "      <th>retail</th>\n",
       "      <td>0.75</td>\n",
       "      <td>1000</td>\n",
       "      <td>0.050</td>\n",
       "      <td>0.500</td>\n",
       "    </tr>\n",
       "    <tr>\n",
       "      <th>residential</th>\n",
       "      <td>0.82</td>\n",
       "      <td>600</td>\n",
       "      <td>0.035</td>\n",
       "      <td>0.020</td>\n",
       "    </tr>\n",
       "    <tr>\n",
       "      <th>parking</th>\n",
       "      <td>0.93</td>\n",
       "      <td>0</td>\n",
       "      <td>0.000</td>\n",
       "      <td>0.000</td>\n",
       "    </tr>\n",
       "  </tbody>\n",
       "</table>\n",
       "</div>"
      ],
      "text/plain": [
       "             efficiency_ratio  initial_income_per_area_pa  growth_rate  \\\n",
       "office                   0.88                         750        0.020   \n",
       "retail                   0.75                        1000        0.050   \n",
       "residential              0.82                         600        0.035   \n",
       "parking                  0.93                           0        0.000   \n",
       "\n",
       "             vacancy_rate  \n",
       "office              0.075  \n",
       "retail              0.500  \n",
       "residential         0.020  \n",
       "parking             0.000  "
      ]
     },
     "execution_count": 14,
     "metadata": {},
     "output_type": "execute_result"
    }
   ],
   "source": [
    "inputs = pd.DataFrame(\n",
    "    data={\n",
    "        'efficiency_ratio': efficiency_ratios,\n",
    "        'initial_income_per_area_pa': initial_income_per_area_pa,\n",
    "        'growth_rate': growth_rates,\n",
    "        'vacancy_rate': vacancy_rates,\n",
    "        })\n",
    "inputs"
   ]
  },
  {
   "cell_type": "code",
   "execution_count": 15,
   "metadata": {
    "ExecuteTime": {
     "end_time": "2023-06-26T13:04:26.575109Z",
     "start_time": "2023-06-26T13:04:26.572977Z"
    },
    "collapsed": false
   },
   "outputs": [],
   "source": [
    "params = {\n",
    "    'start_date': pd.Timestamp('2001-01-01'),\n",
    "    'num_periods': 10,\n",
    "    'period_type': rk.periodicity.Type.YEAR,\n",
    "    }"
   ]
  },
  {
   "cell_type": "code",
   "execution_count": 16,
   "metadata": {
    "ExecuteTime": {
     "end_time": "2023-06-26T13:04:26.577658Z",
     "start_time": "2023-06-26T13:04:26.576260Z"
    },
    "collapsed": false
   },
   "outputs": [],
   "source": [
    "class Revenues:\n",
    "    def __init__(self, params: dict):\n",
    "        self.params = params"
   ]
  },
  {
   "cell_type": "code",
   "execution_count": 17,
   "metadata": {
    "ExecuteTime": {
     "end_time": "2023-06-26T13:04:26.601644Z",
     "start_time": "2023-06-26T13:04:26.579993Z"
    },
    "collapsed": false
   },
   "outputs": [],
   "source": [
    "@rk.update_class(Revenues)\n",
    "class Revenues:\n",
    "    def init_spans(self):\n",
    "        self.calc_span = rk.span.Span.from_num_periods(\n",
    "            name='Span to Calculate Reversion',\n",
    "            date=self.params['start_date'],\n",
    "            period_type=self.params['period_type'],\n",
    "            num_periods=self.params['num_periods'] + 1)\n",
    "        self.acq_span = rk.span.Span.from_num_periods(\n",
    "            name='Acquisition Span',\n",
    "            date=rk.periodicity.offset_date(\n",
    "                self.params['start_date'],\n",
    "                num_periods=-1,\n",
    "                period_type=self.params['period_type']),\n",
    "            period_type=self.params['period_type'],\n",
    "            num_periods=1)\n",
    "        self.span = self.calc_span.shift(\n",
    "            name='Span',\n",
    "            num_periods=-1,\n",
    "            period_type=self.params['period_type'],\n",
    "            bound='end')"
   ]
  },
  {
   "cell_type": "code",
   "execution_count": 18,
   "metadata": {
    "ExecuteTime": {
     "end_time": "2023-06-26T13:04:26.602082Z",
     "start_time": "2023-06-26T13:04:26.584199Z"
    },
    "collapsed": false
   },
   "outputs": [],
   "source": [
    "@rk.update_class(Revenues)\n",
    "class Revenues:\n",
    "    def init_flows(self):\n",
    "        self.pgi = rk.flux.Flow.from_projection(\n",
    "            name='Potential Gross Income',\n",
    "            value=self.params['initial_income'],\n",
    "            proj=rk.projection.Extrapolation(\n",
    "            form=rk.extrapolation.Compounding(\n",
    "                rate=self.params['growth_rate']),\n",
    "            sequence=self.calc_span.to_index(period_type=self.params['period_type'])),\n",
    "            units=currency.units)\n",
    "        self.vacancy = rk.flux.Flow(\n",
    "            name='Vacancy Allowance',\n",
    "            movements=self.pgi.movements * -self.params['vacancy_rate'],\n",
    "            units=currency.units)\n",
    "        self.egi = rk.flux.Stream(\n",
    "            name='Effective Gross Income',\n",
    "            flows=[self.pgi, self.vacancy],\n",
    "            period_type=self.params['period_type'])"
   ]
  },
  {
   "cell_type": "code",
   "execution_count": 19,
   "metadata": {
    "ExecuteTime": {
     "end_time": "2023-06-26T13:04:26.738318Z",
     "start_time": "2023-06-26T13:04:26.590297Z"
    },
    "collapsed": false
   },
   "outputs": [],
   "source": [
    "for floor in floors:\n",
    "    parent = floor.get_relatives(\n",
    "        relationship_type='spatiallyContains',\n",
    "        outgoing=False,\n",
    "        assembly=spatial_containment)[0]\n",
    "    floor['use'] = parent['use']\n",
    "\n",
    "    floor.params = params.copy()\n",
    "    floor.params['initial_income'] = initial_income_per_area_pa[floor['use']] * floor['gfa']\n",
    "    floor.params['growth_rate'] = growth_rates[floor['use']]\n",
    "    floor.params['vacancy_rate'] = vacancy_rates[floor['use']]\n",
    "\n",
    "    floor.events = {}\n",
    "\n",
    "    revenues = Revenues(floor.params)\n",
    "    revenues.init_spans()\n",
    "    revenues.init_flows()\n",
    "    floor.events = {\n",
    "        'egi': revenues.egi,\n",
    "        }"
   ]
  },
  {
   "cell_type": "code",
   "execution_count": 20,
   "metadata": {
    "ExecuteTime": {
     "end_time": "2023-06-26T13:04:26.738620Z",
     "start_time": "2023-06-26T13:04:26.710630Z"
    },
    "collapsed": false
   },
   "outputs": [],
   "source": [
    "def aggregate_egis(**kwargs):\n",
    "    return rk.graph.Entity.aggregate_events(\n",
    "        **kwargs,\n",
    "        property='egi',\n",
    "        period_type=period_type)"
   ]
  },
  {
   "cell_type": "code",
   "execution_count": 21,
   "metadata": {
    "ExecuteTime": {
     "end_time": "2023-06-26T13:04:27.026274Z",
     "start_time": "2023-06-26T13:04:26.724638Z"
    },
    "collapsed": false
   },
   "outputs": [],
   "source": [
    "aggregation = spatial_containment.aggregate(\n",
    "    function=aggregate_egis,\n",
    "    property='events',\n",
    "    label='aggregate_egi',\n",
    "    relationship_type='spatiallyContains')"
   ]
  },
  {
   "cell_type": "code",
   "execution_count": 22,
   "metadata": {
    "ExecuteTime": {
     "end_time": "2023-06-26T13:04:27.036703Z",
     "start_time": "2023-06-26T13:04:27.030895Z"
    },
    "collapsed": false
   },
   "outputs": [
    {
     "data": {
      "text/html": [
       "<table>\n",
       "<thead>\n",
       "<tr><th style=\"text-align: right;\">  date</th><th style=\"text-align: right;\">  Potential Gross Income</th><th style=\"text-align: right;\">  Vacancy Allowance</th></tr>\n",
       "</thead>\n",
       "<tbody>\n",
       "<tr><td style=\"text-align: right;\">  2001</td><td style=\"text-align: right;\">           $1,086,691.51</td><td style=\"text-align: right;\">        -$81,501.86</td></tr>\n",
       "<tr><td style=\"text-align: right;\">  2002</td><td style=\"text-align: right;\">           $1,108,425.34</td><td style=\"text-align: right;\">        -$83,131.90</td></tr>\n",
       "<tr><td style=\"text-align: right;\">  2003</td><td style=\"text-align: right;\">           $1,130,593.84</td><td style=\"text-align: right;\">        -$84,794.54</td></tr>\n",
       "<tr><td style=\"text-align: right;\">  2004</td><td style=\"text-align: right;\">           $1,153,205.72</td><td style=\"text-align: right;\">        -$86,490.43</td></tr>\n",
       "<tr><td style=\"text-align: right;\">  2005</td><td style=\"text-align: right;\">           $1,176,269.83</td><td style=\"text-align: right;\">        -$88,220.24</td></tr>\n",
       "<tr><td style=\"text-align: right;\">  2006</td><td style=\"text-align: right;\">           $1,199,795.23</td><td style=\"text-align: right;\">        -$89,984.64</td></tr>\n",
       "<tr><td style=\"text-align: right;\">  2007</td><td style=\"text-align: right;\">           $1,223,791.14</td><td style=\"text-align: right;\">        -$91,784.34</td></tr>\n",
       "<tr><td style=\"text-align: right;\">  2008</td><td style=\"text-align: right;\">           $1,248,266.96</td><td style=\"text-align: right;\">        -$93,620.02</td></tr>\n",
       "<tr><td style=\"text-align: right;\">  2009</td><td style=\"text-align: right;\">           $1,273,232.30</td><td style=\"text-align: right;\">        -$95,492.42</td></tr>\n",
       "<tr><td style=\"text-align: right;\">  2010</td><td style=\"text-align: right;\">           $1,298,696.94</td><td style=\"text-align: right;\">        -$97,402.27</td></tr>\n",
       "<tr><td style=\"text-align: right;\">  2011</td><td style=\"text-align: right;\">           $1,324,670.88</td><td style=\"text-align: right;\">        -$99,350.32</td></tr>\n",
       "</tbody>\n",
       "</table>"
      ],
      "text/plain": [
       "<rangekeeper.flux.Stream at 0x2f34f9240>"
      ]
     },
     "execution_count": 22,
     "metadata": {},
     "output_type": "execute_result"
    }
   ],
   "source": [
    "floors[1]['events']['egi']"
   ]
  },
  {
   "cell_type": "code",
   "execution_count": 23,
   "metadata": {
    "ExecuteTime": {
     "end_time": "2023-06-26T13:04:27.057448Z",
     "start_time": "2023-06-26T13:04:27.043220Z"
    },
    "collapsed": false
   },
   "outputs": [
    {
     "name": "stdout",
     "output_type": "stream",
     "text": [
      "buildingAoffice\n"
     ]
    },
    {
     "data": {
      "text/html": [
       "<table>\n",
       "<thead>\n",
       "<tr><th style=\"text-align: right;\">  date</th><th style=\"text-align: right;\">  Effective Gross Income for 6bfd12d7-72d7-417f-bc31-1bef4ffaadb0</th><th style=\"text-align: right;\">  Effective Gross Income for f25ef6dc-c9cc-444a-b758-e30e87a9593f</th><th style=\"text-align: right;\">  Effective Gross Income for 97e6b3b6-edfb-49a9-91f3-337b0b150c21</th><th style=\"text-align: right;\">  Effective Gross Income for 6ee48fbb-decc-47ea-8e20-e415c669143f</th><th style=\"text-align: right;\">  Effective Gross Income for e57ea01c-ae5d-4281-8aff-56e95d40a239</th><th style=\"text-align: right;\">  Effective Gross Income for 59adf9e1-f47d-4bcc-b506-b3a2731654b9</th><th style=\"text-align: right;\">  Effective Gross Income for 68f28de9-539f-4276-8dcc-cf4eb7dbe82c</th><th style=\"text-align: right;\">  Effective Gross Income for 508b3a7f-7094-4f47-9b61-57ef8f4a6205</th><th style=\"text-align: right;\">  Effective Gross Income for 1e6b1a6a-d64a-4c68-9210-3c4f0585000f</th><th style=\"text-align: right;\">  Effective Gross Income for 12c94d26-7779-4384-856a-2139664d55e1</th></tr>\n",
       "</thead>\n",
       "<tbody>\n",
       "<tr><td style=\"text-align: right;\">  2001</td><td style=\"text-align: right;\">                                                    $1,145,271.71</td><td style=\"text-align: right;\">                                                    $1,005,189.64</td><td style=\"text-align: right;\">                                                    $1,005,189.64</td><td style=\"text-align: right;\">                                                    $1,005,189.64</td><td style=\"text-align: right;\">                                                    $1,005,189.64</td><td style=\"text-align: right;\">                                                    $1,005,189.64</td><td style=\"text-align: right;\">                                                    $1,005,189.64</td><td style=\"text-align: right;\">                                                    $1,005,189.64</td><td style=\"text-align: right;\">                                                    $1,005,189.64</td><td style=\"text-align: right;\">                                                    $1,005,189.64</td></tr>\n",
       "<tr><td style=\"text-align: right;\">  2002</td><td style=\"text-align: right;\">                                                    $1,168,177.14</td><td style=\"text-align: right;\">                                                    $1,025,293.44</td><td style=\"text-align: right;\">                                                    $1,025,293.44</td><td style=\"text-align: right;\">                                                    $1,025,293.44</td><td style=\"text-align: right;\">                                                    $1,025,293.44</td><td style=\"text-align: right;\">                                                    $1,025,293.44</td><td style=\"text-align: right;\">                                                    $1,025,293.44</td><td style=\"text-align: right;\">                                                    $1,025,293.44</td><td style=\"text-align: right;\">                                                    $1,025,293.44</td><td style=\"text-align: right;\">                                                    $1,025,293.44</td></tr>\n",
       "<tr><td style=\"text-align: right;\">  2003</td><td style=\"text-align: right;\">                                                    $1,191,540.69</td><td style=\"text-align: right;\">                                                    $1,045,799.30</td><td style=\"text-align: right;\">                                                    $1,045,799.30</td><td style=\"text-align: right;\">                                                    $1,045,799.30</td><td style=\"text-align: right;\">                                                    $1,045,799.30</td><td style=\"text-align: right;\">                                                    $1,045,799.30</td><td style=\"text-align: right;\">                                                    $1,045,799.30</td><td style=\"text-align: right;\">                                                    $1,045,799.30</td><td style=\"text-align: right;\">                                                    $1,045,799.30</td><td style=\"text-align: right;\">                                                    $1,045,799.30</td></tr>\n",
       "<tr><td style=\"text-align: right;\">  2004</td><td style=\"text-align: right;\">                                                    $1,215,371.50</td><td style=\"text-align: right;\">                                                    $1,066,715.29</td><td style=\"text-align: right;\">                                                    $1,066,715.29</td><td style=\"text-align: right;\">                                                    $1,066,715.29</td><td style=\"text-align: right;\">                                                    $1,066,715.29</td><td style=\"text-align: right;\">                                                    $1,066,715.29</td><td style=\"text-align: right;\">                                                    $1,066,715.29</td><td style=\"text-align: right;\">                                                    $1,066,715.29</td><td style=\"text-align: right;\">                                                    $1,066,715.29</td><td style=\"text-align: right;\">                                                    $1,066,715.29</td></tr>\n",
       "<tr><td style=\"text-align: right;\">  2005</td><td style=\"text-align: right;\">                                                    $1,239,678.93</td><td style=\"text-align: right;\">                                                    $1,088,049.60</td><td style=\"text-align: right;\">                                                    $1,088,049.60</td><td style=\"text-align: right;\">                                                    $1,088,049.60</td><td style=\"text-align: right;\">                                                    $1,088,049.60</td><td style=\"text-align: right;\">                                                    $1,088,049.60</td><td style=\"text-align: right;\">                                                    $1,088,049.60</td><td style=\"text-align: right;\">                                                    $1,088,049.60</td><td style=\"text-align: right;\">                                                    $1,088,049.60</td><td style=\"text-align: right;\">                                                    $1,088,049.60</td></tr>\n",
       "<tr><td style=\"text-align: right;\">  2006</td><td style=\"text-align: right;\">                                                    $1,264,472.51</td><td style=\"text-align: right;\">                                                    $1,109,810.59</td><td style=\"text-align: right;\">                                                    $1,109,810.59</td><td style=\"text-align: right;\">                                                    $1,109,810.59</td><td style=\"text-align: right;\">                                                    $1,109,810.59</td><td style=\"text-align: right;\">                                                    $1,109,810.59</td><td style=\"text-align: right;\">                                                    $1,109,810.59</td><td style=\"text-align: right;\">                                                    $1,109,810.59</td><td style=\"text-align: right;\">                                                    $1,109,810.59</td><td style=\"text-align: right;\">                                                    $1,109,810.59</td></tr>\n",
       "<tr><td style=\"text-align: right;\">  2007</td><td style=\"text-align: right;\">                                                    $1,289,761.96</td><td style=\"text-align: right;\">                                                    $1,132,006.80</td><td style=\"text-align: right;\">                                                    $1,132,006.80</td><td style=\"text-align: right;\">                                                    $1,132,006.80</td><td style=\"text-align: right;\">                                                    $1,132,006.80</td><td style=\"text-align: right;\">                                                    $1,132,006.80</td><td style=\"text-align: right;\">                                                    $1,132,006.80</td><td style=\"text-align: right;\">                                                    $1,132,006.80</td><td style=\"text-align: right;\">                                                    $1,132,006.80</td><td style=\"text-align: right;\">                                                    $1,132,006.80</td></tr>\n",
       "<tr><td style=\"text-align: right;\">  2008</td><td style=\"text-align: right;\">                                                    $1,315,557.20</td><td style=\"text-align: right;\">                                                    $1,154,646.94</td><td style=\"text-align: right;\">                                                    $1,154,646.94</td><td style=\"text-align: right;\">                                                    $1,154,646.94</td><td style=\"text-align: right;\">                                                    $1,154,646.94</td><td style=\"text-align: right;\">                                                    $1,154,646.94</td><td style=\"text-align: right;\">                                                    $1,154,646.94</td><td style=\"text-align: right;\">                                                    $1,154,646.94</td><td style=\"text-align: right;\">                                                    $1,154,646.94</td><td style=\"text-align: right;\">                                                    $1,154,646.94</td></tr>\n",
       "<tr><td style=\"text-align: right;\">  2009</td><td style=\"text-align: right;\">                                                    $1,341,868.34</td><td style=\"text-align: right;\">                                                    $1,177,739.88</td><td style=\"text-align: right;\">                                                    $1,177,739.88</td><td style=\"text-align: right;\">                                                    $1,177,739.88</td><td style=\"text-align: right;\">                                                    $1,177,739.88</td><td style=\"text-align: right;\">                                                    $1,177,739.88</td><td style=\"text-align: right;\">                                                    $1,177,739.88</td><td style=\"text-align: right;\">                                                    $1,177,739.88</td><td style=\"text-align: right;\">                                                    $1,177,739.88</td><td style=\"text-align: right;\">                                                    $1,177,739.88</td></tr>\n",
       "<tr><td style=\"text-align: right;\">  2010</td><td style=\"text-align: right;\">                                                    $1,368,705.71</td><td style=\"text-align: right;\">                                                    $1,201,294.67</td><td style=\"text-align: right;\">                                                    $1,201,294.67</td><td style=\"text-align: right;\">                                                    $1,201,294.67</td><td style=\"text-align: right;\">                                                    $1,201,294.67</td><td style=\"text-align: right;\">                                                    $1,201,294.67</td><td style=\"text-align: right;\">                                                    $1,201,294.67</td><td style=\"text-align: right;\">                                                    $1,201,294.67</td><td style=\"text-align: right;\">                                                    $1,201,294.67</td><td style=\"text-align: right;\">                                                    $1,201,294.67</td></tr>\n",
       "<tr><td style=\"text-align: right;\">  2011</td><td style=\"text-align: right;\">                                                    $1,396,079.82</td><td style=\"text-align: right;\">                                                    $1,225,320.57</td><td style=\"text-align: right;\">                                                    $1,225,320.57</td><td style=\"text-align: right;\">                                                    $1,225,320.57</td><td style=\"text-align: right;\">                                                    $1,225,320.57</td><td style=\"text-align: right;\">                                                    $1,225,320.57</td><td style=\"text-align: right;\">                                                    $1,225,320.57</td><td style=\"text-align: right;\">                                                    $1,225,320.57</td><td style=\"text-align: right;\">                                                    $1,225,320.57</td><td style=\"text-align: right;\">                                                    $1,225,320.57</td></tr>\n",
       "</tbody>\n",
       "</table>"
      ],
      "text/plain": [
       "<rangekeeper.flux.Stream at 0x2f35f6f80>"
      ]
     },
     "execution_count": 23,
     "metadata": {},
     "output_type": "execute_result"
    }
   ],
   "source": [
    "buildingAoffice = [e for (id, e) in spatial_containment.get_entities().items() if e.name == 'buildingAoffice'][0]\n",
    "print(buildingAoffice.name)\n",
    "buildingAoffice['aggregate_egi']"
   ]
  },
  {
   "cell_type": "code",
   "execution_count": 24,
   "metadata": {
    "ExecuteTime": {
     "end_time": "2023-06-26T13:04:27.062570Z",
     "start_time": "2023-06-26T13:04:27.059034Z"
    },
    "collapsed": false
   },
   "outputs": [
    {
     "data": {
      "text/html": [
       "<table>\n",
       "<thead>\n",
       "<tr><th style=\"text-align: right;\">               date</th><th style=\"text-align: right;\">  egi for 655b2dfe-5c18-4d68-95f0-f5d27804430d Aggregation (sum)</th></tr>\n",
       "</thead>\n",
       "<tbody>\n",
       "<tr><td style=\"text-align: right;\">2001-12-31 00:00:00</td><td style=\"text-align: right;\">                                                  $10,191,978.50</td></tr>\n",
       "<tr><td style=\"text-align: right;\">2002-12-31 00:00:00</td><td style=\"text-align: right;\">                                                  $10,395,818.07</td></tr>\n",
       "<tr><td style=\"text-align: right;\">2003-12-31 00:00:00</td><td style=\"text-align: right;\">                                                  $10,603,734.43</td></tr>\n",
       "<tr><td style=\"text-align: right;\">2004-12-31 00:00:00</td><td style=\"text-align: right;\">                                                  $10,815,809.12</td></tr>\n",
       "<tr><td style=\"text-align: right;\">2005-12-31 00:00:00</td><td style=\"text-align: right;\">                                                  $11,032,125.30</td></tr>\n",
       "<tr><td style=\"text-align: right;\">2006-12-31 00:00:00</td><td style=\"text-align: right;\">                                                  $11,252,767.81</td></tr>\n",
       "<tr><td style=\"text-align: right;\">2007-12-31 00:00:00</td><td style=\"text-align: right;\">                                                  $11,477,823.16</td></tr>\n",
       "<tr><td style=\"text-align: right;\">2008-12-31 00:00:00</td><td style=\"text-align: right;\">                                                  $11,707,379.63</td></tr>\n",
       "<tr><td style=\"text-align: right;\">2009-12-31 00:00:00</td><td style=\"text-align: right;\">                                                  $11,941,527.22</td></tr>\n",
       "<tr><td style=\"text-align: right;\">2010-12-31 00:00:00</td><td style=\"text-align: right;\">                                                  $12,180,357.76</td></tr>\n",
       "<tr><td style=\"text-align: right;\">2011-12-31 00:00:00</td><td style=\"text-align: right;\">                                                  $12,423,964.92</td></tr>\n",
       "</tbody>\n",
       "</table>"
      ],
      "text/plain": [
       "<rangekeeper.flux.Flow at 0x2f36cbee0>"
      ]
     },
     "execution_count": 24,
     "metadata": {},
     "output_type": "execute_result"
    }
   ],
   "source": [
    "buildingAoffice['aggregate_egi'].sum()"
   ]
  },
  {
   "cell_type": "code",
   "execution_count": 25,
   "metadata": {
    "ExecuteTime": {
     "end_time": "2023-06-26T13:04:27.068299Z",
     "start_time": "2023-06-26T13:04:27.065361Z"
    },
    "collapsed": false
   },
   "outputs": [
    {
     "data": {
      "text/html": [
       "<table>\n",
       "<thead>\n",
       "<tr><th style=\"text-align: right;\">               date</th><th style=\"text-align: right;\">  egi for 655b2dfe-5c18-4d68-95f0-f5d27804430d Aggregation (sum)</th></tr>\n",
       "</thead>\n",
       "<tbody>\n",
       "<tr><td style=\"text-align: right;\">2011-12-31 00:00:00</td><td style=\"text-align: right;\">                                                 $124,023,285.90</td></tr>\n",
       "</tbody>\n",
       "</table>"
      ],
      "text/plain": [
       "<rangekeeper.flux.Flow at 0x2ed3e74f0>"
      ]
     },
     "execution_count": 25,
     "metadata": {},
     "output_type": "execute_result"
    }
   ],
   "source": [
    "buildingAoffice['aggregate_egi'].sum().collapse()"
   ]
  },
  {
   "cell_type": "code",
   "execution_count": 26,
   "metadata": {
    "ExecuteTime": {
     "end_time": "2023-06-26T13:04:27.114249Z",
     "start_time": "2023-06-26T13:04:27.112983Z"
    },
    "collapsed": false
   },
   "outputs": [],
   "source": [
    "for (entityId, entity) in spatial_containment.get_entities().items():\n",
    "    entity['aggregate_egi_value'] = entity['aggregate_egi'].sum().collapse().movements.to_numpy()[0] if entity['aggregate_egi'] is not None else None"
   ]
  },
  {
   "cell_type": "code",
   "execution_count": 27,
   "metadata": {
    "ExecuteTime": {
     "end_time": "2023-06-26T13:04:27.519475Z",
     "start_time": "2023-06-26T13:04:27.174680Z"
    },
    "collapsed": false
   },
   "outputs": [
    {
     "data": {
      "text/html": [
       "\n",
       "        <iframe\n",
       "            width=\"100%\"\n",
       "            height=\"800\"\n",
       "            src=\"./aggregate_egis_chart.html\"\n",
       "            frameborder=\"0\"\n",
       "            allowfullscreen\n",
       "            \n",
       "        ></iframe>\n",
       "        "
      ],
      "text/plain": [
       "<IPython.lib.display.IFrame at 0x2ed3e75e0>"
      ]
     },
     "execution_count": 27,
     "metadata": {},
     "output_type": "execute_result"
    }
   ],
   "source": [
    "sunburst = spatial_containment.sunburst(property='aggregate_egi_value')\n",
    "treemap = spatial_containment.treemap(property='aggregate_egi_value')\n",
    "fig = plotly.subplots.make_subplots(\n",
    "    rows=2, cols=1,\n",
    "    specs=[[{\"type\": \"sunburst\"}], [{\"type\": \"treemap\"}]])\n",
    "fig.append_trace(sunburst, row=1, col=1)\n",
    "fig.append_trace(treemap, row=2, col=1)\n",
    "filename='aggregate_egis_chart.html'\n",
    "py.plot(fig, filename='assets/{0}'.format(filename), auto_open=False)\n",
    "IFrame(src=\"./{0}\".format(filename), width='100%', height=800)"
   ]
  },
  {
   "cell_type": "code",
   "execution_count": 27,
   "metadata": {
    "ExecuteTime": {
     "end_time": "2023-06-26T13:04:27.521491Z",
     "start_time": "2023-06-26T13:04:27.520207Z"
    },
    "collapsed": false
   },
   "outputs": [],
   "source": []
  }
 ],
 "metadata": {
  "kernelspec": {
   "display_name": "Python 3 (ipykernel)",
   "language": "python",
   "name": "python3"
  },
  "language_info": {
   "codemirror_mode": {
    "name": "ipython",
    "version": 3
   },
   "file_extension": ".py",
   "mimetype": "text/x-python",
   "name": "python",
   "nbconvert_exporter": "python",
   "pygments_lexer": "ipython3",
   "version": "3.10.4"
  }
 },
 "nbformat": 4,
 "nbformat_minor": 1
}