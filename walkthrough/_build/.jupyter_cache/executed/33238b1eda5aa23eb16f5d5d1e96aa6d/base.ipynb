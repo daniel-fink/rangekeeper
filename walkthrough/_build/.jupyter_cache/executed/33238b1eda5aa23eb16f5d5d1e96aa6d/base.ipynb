{
 "cells": [
  {
   "cell_type": "code",
   "execution_count": 1,
   "metadata": {
    "ExecuteTime": {
     "end_time": "2024-03-14T12:10:03.450984Z",
     "start_time": "2024-03-14T12:10:02.679436Z"
    }
   },
   "outputs": [],
   "source": [
    "import os\n",
    "\n",
    "from IPython.display import IFrame\n",
    "\n",
    "import rangekeeper as rk"
   ]
  },
  {
   "cell_type": "code",
   "execution_count": 2,
   "metadata": {
    "ExecuteTime": {
     "end_time": "2024-03-14T12:10:04.838349Z",
     "start_time": "2024-03-14T12:10:03.451807Z"
    }
   },
   "outputs": [
    {
     "name": "stdout",
     "output_type": "stream",
     "text": [
      "\n",
      " SpeckleClient( server: https://speckle.xyz, authenticated: True )\n"
     ]
    }
   ],
   "source": [
    "# Authenticate with Speckle\n",
    "speckle = rk.api.Speckle(\n",
    "    host=\"speckle.xyz\",\n",
    "    token=os.getenv('SPECKLE_TOKEN')) # Note if you run this notebook yourself, you'll need to set this environment variable\n"
   ]
  },
  {
   "cell_type": "code",
   "execution_count": 3,
   "metadata": {
    "ExecuteTime": {
     "end_time": "2024-03-14T12:10:05.337130Z",
     "start_time": "2024-03-14T12:10:04.840606Z"
    },
    "collapsed": false
   },
   "outputs": [],
   "source": [
    "stream_id = \"e3ea4fe91a\"\n",
    "commit_id = speckle.get_latest_commit_id(stream_id)"
   ]
  },
  {
   "cell_type": "code",
   "execution_count": 4,
   "metadata": {
    "ExecuteTime": {
     "end_time": "2024-03-14T12:10:11.865914Z",
     "start_time": "2024-03-14T12:10:09.110718Z"
    }
   },
   "outputs": [
    {
     "data": {
      "text/plain": [
       "Base(id: 2916559e41a0defb57cd23e757718135, speckle_type: Base, totalChildrenCount: 3006)"
      ]
     },
     "execution_count": 4,
     "metadata": {},
     "output_type": "execute_result"
    }
   ],
   "source": [
    "# Load the design data\n",
    "data = speckle.get_commit(stream_id=stream_id) # Providing no commit_id defaults to the latest commit\n",
    "data"
   ]
  },
  {
   "cell_type": "code",
   "execution_count": 5,
   "metadata": {
    "ExecuteTime": {
     "end_time": "2024-03-14T12:10:14.544163Z",
     "start_time": "2024-03-14T12:10:14.539872Z"
    },
    "collapsed": false
   },
   "outputs": [
    {
     "data": {
      "text/html": [
       "\n",
       "        <iframe\n",
       "            width=\"100%\"\n",
       "            height=\"800\"\n",
       "            src=\"https://speckle.xyz/embed?stream=e3ea4fe91a&commit=9196d66cd1\"\n",
       "            frameborder=\"0\"\n",
       "            allowfullscreen\n",
       "            \n",
       "        ></iframe>\n",
       "        "
      ],
      "text/plain": [
       "<IPython.lib.display.IFrame at 0x302406b10>"
      ]
     },
     "execution_count": 5,
     "metadata": {},
     "output_type": "execute_result"
    }
   ],
   "source": [
    "IFrame(\"https://speckle.xyz/embed?stream={0}&commit={1}\".format(stream_id, commit_id), width='100%', height=800)"
   ]
  },
  {
   "cell_type": "code",
   "execution_count": 6,
   "metadata": {
    "ExecuteTime": {
     "end_time": "2024-03-14T12:10:16.353519Z",
     "start_time": "2024-03-14T12:10:16.350642Z"
    }
   },
   "outputs": [
    {
     "data": {
      "text/plain": [
       "['@property', '@context']"
      ]
     },
     "execution_count": 6,
     "metadata": {},
     "output_type": "execute_result"
    }
   ],
   "source": [
    "# Let's identify the root members of the:\n",
    "roots = data.get_dynamic_member_names()\n",
    "roots"
   ]
  },
  {
   "cell_type": "code",
   "execution_count": 7,
   "metadata": {
    "ExecuteTime": {
     "end_time": "2024-03-14T12:10:18.534700Z",
     "start_time": "2024-03-14T12:10:18.531032Z"
    }
   },
   "outputs": [
    {
     "data": {
      "text/html": [
       "\n",
       "        <iframe\n",
       "            width=\"100%\"\n",
       "            height=\"800\"\n",
       "            src=\"https://speckle.xyz/streams/e3ea4fe91a/objects/397f8570ba992bbce9e44fe0aa82ba21\"\n",
       "            frameborder=\"0\"\n",
       "            allowfullscreen\n",
       "            \n",
       "        ></iframe>\n",
       "        "
      ],
      "text/plain": [
       "<IPython.lib.display.IFrame at 0x3022d8850>"
      ]
     },
     "execution_count": 7,
     "metadata": {},
     "output_type": "execute_result"
    }
   ],
   "source": [
    "IFrame(\"https://speckle.xyz/streams/{0}/objects/{1}\".format(stream_id, data['@property']['id']), width='100%', height=800)"
   ]
  },
  {
   "cell_type": "code",
   "execution_count": 8,
   "metadata": {
    "ExecuteTime": {
     "end_time": "2024-03-14T12:10:23.059106Z",
     "start_time": "2024-03-14T12:10:23.056553Z"
    },
    "collapsed": false
   },
   "outputs": [
    {
     "data": {
      "text/html": [
       "\n",
       "        <iframe\n",
       "            width=\"100%\"\n",
       "            height=\"800\"\n",
       "            src=\"https://speckle.xyz/streams/e3ea4fe91a/commits/9196d66cd1?filter=%7B%22propertyInfoKey%22%3A%22type%22%7D\"\n",
       "            frameborder=\"0\"\n",
       "            allowfullscreen\n",
       "            \n",
       "        ></iframe>\n",
       "        "
      ],
      "text/plain": [
       "<IPython.lib.display.IFrame at 0x3023bc2d0>"
      ]
     },
     "execution_count": 8,
     "metadata": {},
     "output_type": "execute_result"
    }
   ],
   "source": [
    "label = 'type'\n",
    "IFrame('https://speckle.xyz/streams/{0}/commits/{1}?filter=%7B%22propertyInfoKey%22%3A%22{2}%22%7D'.format(\n",
    "    stream_id,\n",
    "    commit_id,\n",
    "    label), width='100%', height=800)"
   ]
  },
  {
   "cell_type": "code",
   "execution_count": 9,
   "metadata": {
    "ExecuteTime": {
     "end_time": "2024-03-14T12:10:26.893308Z",
     "start_time": "2024-03-14T12:10:26.883937Z"
    }
   },
   "outputs": [
    {
     "name": "stdout",
     "output_type": "stream",
     "text": [
      "Warning: Duplicate Entity 6072b243-6bba-4e67-96de-25119e17150f [utilities] found.\n",
      "Existing Entity is an Assembly while new Entity is not. Keeping Assembly.\n",
      "Warning: Duplicate Entity 6072b243-6bba-4e67-96de-25119e17150f [utilities] found.\n",
      "Existing Entity is an Assembly while new Entity is not. Keeping Assembly.\n",
      "Warning: Duplicate Entity 6072b243-6bba-4e67-96de-25119e17150f [utilities] found.\n",
      "Existing Entity is an Assembly while new Entity is not. Keeping Assembly.\n",
      "Warning: Duplicate Entity c19933d4-eaa0-4398-882d-b8554d2963db [plinthparking] found.\n",
      "Existing Entity is an Assembly while new Entity is not. Keeping Assembly.\n"
     ]
    },
    {
     "data": {
      "text/plain": [
       "True"
      ]
     },
     "execution_count": 9,
     "metadata": {},
     "output_type": "execute_result"
    }
   ],
   "source": [
    "# Return any Speckle Objects in the '@design' trunk that have 'entityId's:\n",
    "parsed = rk.api.Speckle.parse(base=data['@property'])\n",
    "\n",
    "# (Recursively) Convert the Speckle Objects into Rangekeeper Entities:\n",
    "property = rk.api.Speckle.to_rk(\n",
    "    bases=list(parsed.values()),\n",
    "    name='property',\n",
    "    type='archetype')\n",
    "\n",
    "# (We can check that it is an Assembly:)\n",
    "isinstance(property, rk.graph.Assembly)"
   ]
  },
  {
   "cell_type": "code",
   "execution_count": 10,
   "metadata": {
    "ExecuteTime": {
     "end_time": "2024-03-14T12:10:33.608487Z",
     "start_time": "2024-03-14T12:10:33.605983Z"
    }
   },
   "outputs": [
    {
     "name": "stdout",
     "output_type": "stream",
     "text": [
      "buildingA: Assembly: buildingA\n",
      "Type: building\n",
      "Members: ['type', 'name']\n",
      "Entities: [('bfb80bb9-08e8-4a9c-8892-df73e6561d32', {'entity': Assembly: buildingA (Type: building)}), ('48a9f4a0-1157-48f8-94b2-f64461730009', {'entity': Assembly: buildingAhotel (Type: space)}), ('2e6cefe7-a5c3-4c0b-a578-ef2fa298482f', {'entity': Assembly: buildingAretail (Type: space)}), ('6e260151-086b-40c2-83a5-d14ea8e006dd', {'entity': Assembly: buildingAresidential (Type: space)}), ('40e0d08f-67e5-48ec-b828-9f921a4eee34', {'entity': Assembly: buildingAretail (Type: space)}), ('ba6a675c-fad0-4236-993e-6451f7ef6f88', {'entity': Assembly: buildingAparking (Type: space)}), ('e805830b-9774-4519-aedc-fd03552308c2', {'entity': Entity: buildingAcores (Type: utilities)})]\n",
      "Relationships: [('bfb80bb9-08e8-4a9c-8892-df73e6561d32', '48a9f4a0-1157-48f8-94b2-f64461730009', 'spatiallyContains'), ('bfb80bb9-08e8-4a9c-8892-df73e6561d32', '2e6cefe7-a5c3-4c0b-a578-ef2fa298482f', 'spatiallyContains'), ('bfb80bb9-08e8-4a9c-8892-df73e6561d32', '6e260151-086b-40c2-83a5-d14ea8e006dd', 'spatiallyContains'), ('bfb80bb9-08e8-4a9c-8892-df73e6561d32', '40e0d08f-67e5-48ec-b828-9f921a4eee34', 'spatiallyContains'), ('bfb80bb9-08e8-4a9c-8892-df73e6561d32', 'ba6a675c-fad0-4236-993e-6451f7ef6f88', 'spatiallyContains'), ('bfb80bb9-08e8-4a9c-8892-df73e6561d32', 'e805830b-9774-4519-aedc-fd03552308c2', 'spatiallyContains')]\n",
      "\n"
     ]
    }
   ],
   "source": [
    "# Get the \"BuildingA\" Assembly:\n",
    "buildingA = [entity for (entityId, entity) in property.get_entities().items() if entity['name'] == 'buildingA'][0]\n",
    "print('buildingA: {0}'.format(buildingA))"
   ]
  },
  {
   "cell_type": "code",
   "execution_count": 11,
   "metadata": {
    "ExecuteTime": {
     "end_time": "2024-03-14T12:10:33.637100Z",
     "start_time": "2024-03-14T12:10:33.634901Z"
    }
   },
   "outputs": [
    {
     "name": "stdout",
     "output_type": "stream",
     "text": [
      "buildingA Containment: \n",
      " [Assembly: buildingAhotel (Type: space), Assembly: buildingAretail (Type: space), Assembly: buildingAresidential (Type: space), Assembly: buildingAretail (Type: space), Assembly: buildingAparking (Type: space), Entity: buildingAcores (Type: utilities)]\n",
      "\n"
     ]
    }
   ],
   "source": [
    "# Get all relatives of BuildingA where BuildingA is the source of\n",
    "# a 'spatiallyContains' relationship:\n",
    "buildingA_containment = buildingA.get_relatives(\n",
    "    outgoing=True,\n",
    "    relationship_type='spatiallyContains',\n",
    "    assembly=property)\n",
    "print('buildingA Containment: \\n {0}\\n'.format(buildingA_containment))"
   ]
  },
  {
   "cell_type": "code",
   "execution_count": 12,
   "metadata": {
    "ExecuteTime": {
     "end_time": "2024-03-14T12:10:33.640150Z",
     "start_time": "2024-03-14T12:10:33.638015Z"
    },
    "collapsed": false
   },
   "outputs": [
    {
     "name": "stdout",
     "output_type": "stream",
     "text": [
      "buildingAresidential: Assembly: buildingAresidential\n",
      "Type: space\n",
      "Members: ['volume', 'type', 'name', '@geometry', 'renderMaterial', 'use']\n",
      "Entities: [('6e260151-086b-40c2-83a5-d14ea8e006dd', {'entity': Assembly: buildingAresidential (Type: space)}), ('bef4da00-cd24-4703-ad27-82963ae2cf87', {'entity': Entity: buildingAresidentialFloor0 (Type: floor)}), ('13d41e1a-627b-46de-abea-d98a4e053892', {'entity': Entity: buildingAresidentialFloor1 (Type: floor)}), ('ff6c54fd-095e-462e-aba0-2e43842a7b10', {'entity': Entity: buildingAresidentialFloor2 (Type: floor)}), ('15063656-315e-46fe-a193-eb8b364c725e', {'entity': Entity: buildingAresidentialFloor3 (Type: floor)})]\n",
      "Relationships: [('6e260151-086b-40c2-83a5-d14ea8e006dd', 'bef4da00-cd24-4703-ad27-82963ae2cf87', 'spatiallyContains'), ('6e260151-086b-40c2-83a5-d14ea8e006dd', '13d41e1a-627b-46de-abea-d98a4e053892', 'spatiallyContains'), ('6e260151-086b-40c2-83a5-d14ea8e006dd', 'ff6c54fd-095e-462e-aba0-2e43842a7b10', 'spatiallyContains'), ('6e260151-086b-40c2-83a5-d14ea8e006dd', '15063656-315e-46fe-a193-eb8b364c725e', 'spatiallyContains')]\n",
      "\n"
     ]
    }
   ],
   "source": [
    "buildingAresi = [entity for entity in buildingA_containment if entity['name'] == 'buildingAresidential'][0]\n",
    "print('buildingAresidential: {0}'.format(buildingAresi))"
   ]
  },
  {
   "cell_type": "code",
   "execution_count": 13,
   "metadata": {
    "ExecuteTime": {
     "end_time": "2024-03-14T12:10:33.707780Z",
     "start_time": "2024-03-14T12:10:33.640982Z"
    },
    "collapsed": false
   },
   "outputs": [
    {
     "name": "stdout",
     "output_type": "stream",
     "text": [
      "assets/property.html\n"
     ]
    },
    {
     "data": {
      "text/html": [
       "\n",
       "        <iframe\n",
       "            width=\"100%\"\n",
       "            height=\"800\"\n",
       "            src=\"./property.html\"\n",
       "            frameborder=\"0\"\n",
       "            allowfullscreen\n",
       "            \n",
       "        ></iframe>\n",
       "        "
      ],
      "text/plain": [
       "<IPython.lib.display.IFrame at 0x2d7b2f7d0>"
      ]
     },
     "execution_count": 13,
     "metadata": {},
     "output_type": "execute_result"
    }
   ],
   "source": [
    "property.plot(name='assets/property')\n",
    "IFrame(src=\"./property.html\", width='100%', height=800)"
   ]
  }
 ],
 "metadata": {
  "kernelspec": {
   "display_name": "Python 3 (ipykernel)",
   "language": "python",
   "name": "python3"
  },
  "language_info": {
   "codemirror_mode": {
    "name": "ipython",
    "version": 3
   },
   "file_extension": ".py",
   "mimetype": "text/x-python",
   "name": "python",
   "nbconvert_exporter": "python",
   "pygments_lexer": "ipython3",
   "version": "3.11.8"
  }
 },
 "nbformat": 4,
 "nbformat_minor": 1
}