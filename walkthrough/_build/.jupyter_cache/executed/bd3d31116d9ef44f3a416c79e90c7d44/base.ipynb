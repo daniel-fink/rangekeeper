{
 "cells": [
  {
   "cell_type": "code",
   "execution_count": 1,
   "metadata": {
    "ExecuteTime": {
     "end_time": "2023-06-30T00:41:41.052622Z",
     "start_time": "2023-06-30T00:41:40.986773Z"
    }
   },
   "outputs": [],
   "source": [
    "import os\n",
    "\n",
    "import pprint as pp\n",
    "from IPython.display import IFrame\n",
    "\n",
    "import rangekeeper as rk"
   ]
  },
  {
   "cell_type": "code",
   "execution_count": 2,
   "metadata": {
    "ExecuteTime": {
     "end_time": "2023-06-30T00:41:42.802886Z",
     "start_time": "2023-06-30T00:41:40.992726Z"
    }
   },
   "outputs": [
    {
     "name": "stdout",
     "output_type": "stream",
     "text": [
      "\n",
      " SpeckleClient( server: https://speckle.xyz, authenticated: True )\n"
     ]
    }
   ],
   "source": [
    "# Authenticate with Speckle\n",
    "speckle = rk.api.Speckle(\n",
    "    host=\"speckle.xyz\",\n",
    "    token=os.getenv('SPECKLE_TOKEN')) # Note if you run this notebook yourself, you'll need to set this environment variable\n"
   ]
  },
  {
   "cell_type": "code",
   "execution_count": 3,
   "metadata": {
    "ExecuteTime": {
     "end_time": "2023-06-30T00:41:43.892029Z",
     "start_time": "2023-06-30T00:41:42.801975Z"
    },
    "collapsed": false
   },
   "outputs": [],
   "source": [
    "stream_id = \"f5e306e3fa\"\n",
    "commit_id = speckle.get_latest_commit_id(stream_id)"
   ]
  },
  {
   "cell_type": "code",
   "execution_count": 4,
   "metadata": {
    "ExecuteTime": {
     "end_time": "2023-06-30T00:41:46.086325Z",
     "start_time": "2023-06-30T00:41:43.891066Z"
    }
   },
   "outputs": [
    {
     "data": {
      "text/plain": [
       "Base(id: 9d6669ce68b619ca16dde4375ac1b0b6, speckle_type: Base, totalChildrenCount: 2894)"
      ]
     },
     "execution_count": 4,
     "metadata": {},
     "output_type": "execute_result"
    }
   ],
   "source": [
    "# Load the design data\n",
    "data = speckle.get_commit(stream_id=stream_id) # Providing no commit_id defaults to the latest commit\n",
    "data"
   ]
  },
  {
   "cell_type": "code",
   "execution_count": 5,
   "metadata": {
    "ExecuteTime": {
     "end_time": "2023-06-30T00:41:46.089889Z",
     "start_time": "2023-06-30T00:41:46.086507Z"
    },
    "collapsed": false
   },
   "outputs": [
    {
     "data": {
      "text/html": [
       "\n",
       "        <iframe\n",
       "            width=\"100%\"\n",
       "            height=\"800\"\n",
       "            src=\"https://speckle.xyz/embed?stream=f5e306e3fa&commit=362b15db49\"\n",
       "            frameborder=\"0\"\n",
       "            allowfullscreen\n",
       "            \n",
       "        ></iframe>\n",
       "        "
      ],
      "text/plain": [
       "<IPython.lib.display.IFrame at 0x2b3a0ad10>"
      ]
     },
     "execution_count": 5,
     "metadata": {},
     "output_type": "execute_result"
    }
   ],
   "source": [
    "IFrame(\"https://speckle.xyz/embed?stream={0}&commit={1}\".format(stream_id, commit_id), width='100%', height=800)"
   ]
  },
  {
   "cell_type": "code",
   "execution_count": 6,
   "metadata": {
    "ExecuteTime": {
     "end_time": "2023-06-30T00:41:46.093079Z",
     "start_time": "2023-06-30T00:41:46.089501Z"
    }
   },
   "outputs": [
    {
     "data": {
      "text/plain": [
       "['@property', '@context']"
      ]
     },
     "execution_count": 6,
     "metadata": {},
     "output_type": "execute_result"
    }
   ],
   "source": [
    "# Let's identify the root members of the:\n",
    "roots = data.get_dynamic_member_names()\n",
    "roots"
   ]
  },
  {
   "cell_type": "code",
   "execution_count": 7,
   "metadata": {
    "ExecuteTime": {
     "end_time": "2023-06-30T00:41:46.096305Z",
     "start_time": "2023-06-30T00:41:46.092900Z"
    }
   },
   "outputs": [
    {
     "data": {
      "text/html": [
       "\n",
       "        <iframe\n",
       "            width=\"100%\"\n",
       "            height=\"800\"\n",
       "            src=\"https://speckle.xyz/streams/f5e306e3fa/objects/49d1282453a26bd553fc1b592528bb39\"\n",
       "            frameborder=\"0\"\n",
       "            allowfullscreen\n",
       "            \n",
       "        ></iframe>\n",
       "        "
      ],
      "text/plain": [
       "<IPython.lib.display.IFrame at 0x2b3a0abf0>"
      ]
     },
     "execution_count": 7,
     "metadata": {},
     "output_type": "execute_result"
    }
   ],
   "source": [
    "IFrame(\"https://speckle.xyz/streams/{0}/objects/{1}\".format(stream_id, data['@property']['id']), width='100%', height=800)"
   ]
  },
  {
   "cell_type": "code",
   "execution_count": 8,
   "metadata": {
    "ExecuteTime": {
     "end_time": "2023-06-30T00:41:46.099840Z",
     "start_time": "2023-06-30T00:41:46.096425Z"
    },
    "collapsed": false
   },
   "outputs": [
    {
     "data": {
      "text/html": [
       "\n",
       "        <iframe\n",
       "            width=\"100%\"\n",
       "            height=\"800\"\n",
       "            src=\"https://speckle.xyz/streams/f5e306e3fa/commits/362b15db49?filter=%7B%22propertyInfoKey%22%3A%22type%22%7D\"\n",
       "            frameborder=\"0\"\n",
       "            allowfullscreen\n",
       "            \n",
       "        ></iframe>\n",
       "        "
      ],
      "text/plain": [
       "<IPython.lib.display.IFrame at 0x2b3a0a9b0>"
      ]
     },
     "execution_count": 8,
     "metadata": {},
     "output_type": "execute_result"
    }
   ],
   "source": [
    "label = 'type'\n",
    "IFrame('https://speckle.xyz/streams/{0}/commits/{1}?filter=%7B%22propertyInfoKey%22%3A%22{2}%22%7D'.format(\n",
    "    stream_id,\n",
    "    commit_id,\n",
    "    label), width='100%', height=800)"
   ]
  },
  {
   "cell_type": "code",
   "execution_count": 9,
   "metadata": {
    "ExecuteTime": {
     "end_time": "2023-06-30T00:41:46.152410Z",
     "start_time": "2023-06-30T00:41:46.106163Z"
    }
   },
   "outputs": [
    {
     "name": "stdout",
     "output_type": "stream",
     "text": [
      "Warning: Duplicate Entity d68eab6c-7031-4780-b8da-a356d629dbe4 [utilities] found.\n",
      "Existing Entity is an Assembly while new Entity is not. Keeping Assembly.\n",
      "Warning: Duplicate Entity d68eab6c-7031-4780-b8da-a356d629dbe4 [utilities] found.\n",
      "Existing Entity is an Assembly while new Entity is not. Keeping Assembly.\n",
      "Warning: Duplicate Entity d68eab6c-7031-4780-b8da-a356d629dbe4 [utilities] found.\n",
      "Existing Entity is an Assembly while new Entity is not. Keeping Assembly.\n",
      "Warning: Duplicate Entity fae72e2d-608f-4666-acc8-7799896797a6 [plinthparking] found.\n",
      "Existing Entity is an Assembly while new Entity is not. Keeping Assembly.\n"
     ]
    },
    {
     "data": {
      "text/plain": [
       "True"
      ]
     },
     "execution_count": 9,
     "metadata": {},
     "output_type": "execute_result"
    }
   ],
   "source": [
    "# Return any Speckle Objects in the '@design' trunk that have 'entityId's:\n",
    "parsed = rk.api.Speckle.parse(base=data['@property'])\n",
    "\n",
    "# (Recursively) Convert the Speckle Objects into Rangekeeper Entities:\n",
    "property = rk.api.Speckle.to_rk(\n",
    "    bases=list(parsed.values()),\n",
    "    name='property',\n",
    "    type='archetype')\n",
    "\n",
    "# (We can check that it is an Assembly:)\n",
    "isinstance(property, rk.graph.Assembly)"
   ]
  },
  {
   "cell_type": "code",
   "execution_count": 10,
   "metadata": {
    "ExecuteTime": {
     "end_time": "2023-06-30T00:41:46.152516Z",
     "start_time": "2023-06-30T00:41:46.109682Z"
    }
   },
   "outputs": [
    {
     "name": "stdout",
     "output_type": "stream",
     "text": [
      "buildingA: Assembly: buildingA\n",
      "Type: building\n",
      "Members: ['name', 'type']\n",
      "Entities: [('37e4f7dd-a27d-4e7e-b7f2-3da8bc46b4ac', {'entity': Assembly: buildingA (Type: building)}), ('19b22f27-b94d-4358-a516-8edd7e7bd15e', {'entity': Assembly: buildingAparking (Type: space)}), ('f2b95810-88f4-4e6b-b58c-3954b59b175c', {'entity': Assembly: buildingAretail (Type: space)}), ('4b425c76-d286-42c6-8f0a-c2251122d212', {'entity': Assembly: buildingAresidential (Type: space)}), ('218fd91a-d72c-4fb2-a82f-3882388659f9', {'entity': Assembly: buildingAretail (Type: space)}), ('f746d0de-a8ab-491e-9d3f-875c62c87f53', {'entity': Assembly: buildingAoffice (Type: space)}), ('c94db8fb-243f-4dec-95af-3c93f04e0cf5', {'entity': Entity: buildingAcores (Type: utilities)})]\n",
      "Relationships: [('37e4f7dd-a27d-4e7e-b7f2-3da8bc46b4ac', '19b22f27-b94d-4358-a516-8edd7e7bd15e', 'spatiallyContains'), ('37e4f7dd-a27d-4e7e-b7f2-3da8bc46b4ac', 'f2b95810-88f4-4e6b-b58c-3954b59b175c', 'spatiallyContains'), ('37e4f7dd-a27d-4e7e-b7f2-3da8bc46b4ac', '4b425c76-d286-42c6-8f0a-c2251122d212', 'spatiallyContains'), ('37e4f7dd-a27d-4e7e-b7f2-3da8bc46b4ac', '218fd91a-d72c-4fb2-a82f-3882388659f9', 'spatiallyContains'), ('37e4f7dd-a27d-4e7e-b7f2-3da8bc46b4ac', 'f746d0de-a8ab-491e-9d3f-875c62c87f53', 'spatiallyContains'), ('37e4f7dd-a27d-4e7e-b7f2-3da8bc46b4ac', 'c94db8fb-243f-4dec-95af-3c93f04e0cf5', 'spatiallyContains')]\n",
      "\n"
     ]
    }
   ],
   "source": [
    "# Get the \"BuildingA\" Assembly:\n",
    "buildingA = [entity for (entityId, entity) in property.get_entities().items() if entity['name'] == 'buildingA'][0]\n",
    "print('buildingA: {0}'.format(buildingA))"
   ]
  },
  {
   "cell_type": "code",
   "execution_count": 11,
   "metadata": {
    "ExecuteTime": {
     "end_time": "2023-06-30T00:41:46.152693Z",
     "start_time": "2023-06-30T00:41:46.114567Z"
    }
   },
   "outputs": [
    {
     "name": "stdout",
     "output_type": "stream",
     "text": [
      "buildingA Containment: \n",
      " [Assembly: buildingAparking (Type: space), Assembly: buildingAretail (Type: space), Assembly: buildingAresidential (Type: space), Assembly: buildingAretail (Type: space), Assembly: buildingAoffice (Type: space), Entity: buildingAcores (Type: utilities)]\n",
      "\n"
     ]
    }
   ],
   "source": [
    "# Get all relatives of BuildingA where BuildingA is the source of\n",
    "# a 'spatiallyContains' relationship:\n",
    "buildingA_containment = buildingA.get_relatives(\n",
    "    outgoing=True,\n",
    "    relationship_type='spatiallyContains',\n",
    "    assembly=property)\n",
    "print('buildingA Containment: \\n {0}\\n'.format(buildingA_containment))"
   ]
  },
  {
   "cell_type": "code",
   "execution_count": 12,
   "metadata": {
    "ExecuteTime": {
     "end_time": "2023-06-30T00:41:46.152838Z",
     "start_time": "2023-06-30T00:41:46.117428Z"
    },
    "collapsed": false
   },
   "outputs": [
    {
     "name": "stdout",
     "output_type": "stream",
     "text": [
      "buildingAresidential: Assembly: buildingAresidential\n",
      "Type: space\n",
      "Members: ['volume', 'name', '@displayValue', 'type', 'renderMaterial', 'use']\n",
      "Entities: [('4b425c76-d286-42c6-8f0a-c2251122d212', {'entity': Assembly: buildingAresidential (Type: space)}), ('550a32d6-c3fb-4c23-99fa-780592b69224', {'entity': Entity: buildingAresidentialFloor0 (Type: floor)}), ('f04a9d62-ed7c-4eae-8874-082179472279', {'entity': Entity: buildingAresidentialFloor0 (Type: floor)}), ('faf0e45c-a74d-46a2-be7f-c63315a6aa0b', {'entity': Entity: buildingAresidentialFloor1 (Type: floor)}), ('e677c443-81df-4d7c-a0b9-de37a2459ca0', {'entity': Entity: buildingAresidentialFloor2 (Type: floor)}), ('8a3a9eb5-25b8-4f01-80cd-9b87c692a1fb', {'entity': Entity: buildingAresidentialFloor3 (Type: floor)})]\n",
      "Relationships: [('4b425c76-d286-42c6-8f0a-c2251122d212', '550a32d6-c3fb-4c23-99fa-780592b69224', 'spatiallyContains'), ('4b425c76-d286-42c6-8f0a-c2251122d212', 'f04a9d62-ed7c-4eae-8874-082179472279', 'spatiallyContains'), ('4b425c76-d286-42c6-8f0a-c2251122d212', 'faf0e45c-a74d-46a2-be7f-c63315a6aa0b', 'spatiallyContains'), ('4b425c76-d286-42c6-8f0a-c2251122d212', 'e677c443-81df-4d7c-a0b9-de37a2459ca0', 'spatiallyContains'), ('4b425c76-d286-42c6-8f0a-c2251122d212', '8a3a9eb5-25b8-4f01-80cd-9b87c692a1fb', 'spatiallyContains')]\n",
      "\n"
     ]
    }
   ],
   "source": [
    "buildingAresi = [entity for entity in buildingA_containment if entity['name'] == 'buildingAresidential'][0]\n",
    "print('buildingAresidential: {0}'.format(buildingAresi))"
   ]
  },
  {
   "cell_type": "code",
   "execution_count": 13,
   "metadata": {
    "ExecuteTime": {
     "end_time": "2023-06-30T00:41:46.214315Z",
     "start_time": "2023-06-30T00:41:46.120035Z"
    },
    "collapsed": false
   },
   "outputs": [
    {
     "name": "stdout",
     "output_type": "stream",
     "text": [
      "assets/property.html\n"
     ]
    },
    {
     "data": {
      "text/html": [
       "\n",
       "        <iframe\n",
       "            width=\"100%\"\n",
       "            height=\"800\"\n",
       "            src=\"./property.html\"\n",
       "            frameborder=\"0\"\n",
       "            allowfullscreen\n",
       "            \n",
       "        ></iframe>\n",
       "        "
      ],
      "text/plain": [
       "<IPython.lib.display.IFrame at 0x2b387ab30>"
      ]
     },
     "execution_count": 13,
     "metadata": {},
     "output_type": "execute_result"
    }
   ],
   "source": [
    "property.plot(name='assets/property')\n",
    "IFrame(src=\"./property.html\", width='100%', height=800)"
   ]
  }
 ],
 "metadata": {
  "kernelspec": {
   "display_name": "Python 3 (ipykernel)",
   "language": "python",
   "name": "python3"
  },
  "language_info": {
   "codemirror_mode": {
    "name": "ipython",
    "version": 3
   },
   "file_extension": ".py",
   "mimetype": "text/x-python",
   "name": "python",
   "nbconvert_exporter": "python",
   "pygments_lexer": "ipython3",
   "version": "3.10.4"
  }
 },
 "nbformat": 4,
 "nbformat_minor": 1
}