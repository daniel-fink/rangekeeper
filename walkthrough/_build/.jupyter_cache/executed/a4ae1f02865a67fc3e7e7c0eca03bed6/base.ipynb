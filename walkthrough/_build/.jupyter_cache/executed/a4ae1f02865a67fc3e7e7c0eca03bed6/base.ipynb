{
 "cells": [
  {
   "cell_type": "code",
   "execution_count": 1,
   "metadata": {
    "ExecuteTime": {
     "end_time": "2024-03-14T12:10:03.450984Z",
     "start_time": "2024-03-14T12:10:02.679436Z"
    }
   },
   "outputs": [],
   "source": [
    "import os\n",
    "\n",
    "from IPython.display import IFrame\n",
    "\n",
    "import rangekeeper as rk"
   ]
  },
  {
   "cell_type": "code",
   "execution_count": 2,
   "metadata": {
    "ExecuteTime": {
     "end_time": "2024-03-14T12:10:04.838349Z",
     "start_time": "2024-03-14T12:10:03.451807Z"
    }
   },
   "outputs": [
    {
     "name": "stdout",
     "output_type": "stream",
     "text": [
      "\n",
      " SpeckleClient( server: https://speckle.xyz, authenticated: True )\n"
     ]
    }
   ],
   "source": [
    "# Authenticate with Speckle\n",
    "speckle = rk.api.Speckle(\n",
    "    host=\"speckle.xyz\",\n",
    "    token=os.getenv('SPECKLE_TOKEN')) # Note if you run this notebook yourself, you'll need to set this environment variable\n"
   ]
  },
  {
   "cell_type": "code",
   "execution_count": 3,
   "metadata": {
    "ExecuteTime": {
     "end_time": "2024-03-14T12:10:05.337130Z",
     "start_time": "2024-03-14T12:10:04.840606Z"
    },
    "collapsed": false
   },
   "outputs": [],
   "source": [
    "stream_id = \"c0f66c35e3\"\n",
    "commit_id = speckle.get_latest_commit_id(stream_id)"
   ]
  },
  {
   "cell_type": "code",
   "execution_count": 4,
   "metadata": {
    "ExecuteTime": {
     "end_time": "2024-03-14T12:10:11.865914Z",
     "start_time": "2024-03-14T12:10:09.110718Z"
    }
   },
   "outputs": [
    {
     "data": {
      "text/plain": [
       "Base(id: e7acaac21ae7e9369339900a4aaeb827, speckle_type: Base, totalChildrenCount: 3006)"
      ]
     },
     "execution_count": 4,
     "metadata": {},
     "output_type": "execute_result"
    }
   ],
   "source": [
    "# Load the design data\n",
    "data = speckle.get_commit(stream_id=stream_id) # Providing no commit_id defaults to the latest commit\n",
    "data"
   ]
  },
  {
   "cell_type": "code",
   "execution_count": 5,
   "metadata": {
    "ExecuteTime": {
     "end_time": "2024-03-14T12:10:14.544163Z",
     "start_time": "2024-03-14T12:10:14.539872Z"
    },
    "collapsed": false
   },
   "outputs": [
    {
     "data": {
      "text/html": [
       "\n",
       "        <iframe\n",
       "            width=\"100%\"\n",
       "            height=\"800\"\n",
       "            src=\"https://speckle.xyz/embed?stream=c0f66c35e3&commit=9a9670946f\"\n",
       "            frameborder=\"0\"\n",
       "            allowfullscreen\n",
       "            \n",
       "        ></iframe>\n",
       "        "
      ],
      "text/plain": [
       "<IPython.lib.display.IFrame at 0x2fb267f10>"
      ]
     },
     "execution_count": 5,
     "metadata": {},
     "output_type": "execute_result"
    }
   ],
   "source": [
    "IFrame(\"https://speckle.xyz/embed?stream={0}&commit={1}\".format(stream_id, commit_id), width='100%', height=800)"
   ]
  },
  {
   "cell_type": "code",
   "execution_count": 6,
   "metadata": {
    "ExecuteTime": {
     "end_time": "2024-03-14T12:10:16.353519Z",
     "start_time": "2024-03-14T12:10:16.350642Z"
    }
   },
   "outputs": [
    {
     "data": {
      "text/plain": [
       "['@property', '@context']"
      ]
     },
     "execution_count": 6,
     "metadata": {},
     "output_type": "execute_result"
    }
   ],
   "source": [
    "# Let's identify the root members of the:\n",
    "roots = data.get_dynamic_member_names()\n",
    "roots"
   ]
  },
  {
   "cell_type": "code",
   "execution_count": 7,
   "metadata": {
    "ExecuteTime": {
     "end_time": "2024-03-14T12:10:18.534700Z",
     "start_time": "2024-03-14T12:10:18.531032Z"
    }
   },
   "outputs": [
    {
     "data": {
      "text/html": [
       "\n",
       "        <iframe\n",
       "            width=\"100%\"\n",
       "            height=\"800\"\n",
       "            src=\"https://speckle.xyz/streams/c0f66c35e3/objects/bed351126771f61e3d6255c18cd48aa5\"\n",
       "            frameborder=\"0\"\n",
       "            allowfullscreen\n",
       "            \n",
       "        ></iframe>\n",
       "        "
      ],
      "text/plain": [
       "<IPython.lib.display.IFrame at 0x2f586fc10>"
      ]
     },
     "execution_count": 7,
     "metadata": {},
     "output_type": "execute_result"
    }
   ],
   "source": [
    "IFrame(\"https://speckle.xyz/streams/{0}/objects/{1}\".format(stream_id, data['@property']['id']), width='100%', height=800)"
   ]
  },
  {
   "cell_type": "code",
   "execution_count": 8,
   "metadata": {
    "ExecuteTime": {
     "end_time": "2024-03-14T12:10:23.059106Z",
     "start_time": "2024-03-14T12:10:23.056553Z"
    },
    "collapsed": false
   },
   "outputs": [
    {
     "data": {
      "text/html": [
       "\n",
       "        <iframe\n",
       "            width=\"100%\"\n",
       "            height=\"800\"\n",
       "            src=\"https://speckle.xyz/streams/c0f66c35e3/commits/9a9670946f?filter=%7B%22propertyInfoKey%22%3A%22type%22%7D\"\n",
       "            frameborder=\"0\"\n",
       "            allowfullscreen\n",
       "            \n",
       "        ></iframe>\n",
       "        "
      ],
      "text/plain": [
       "<IPython.lib.display.IFrame at 0x2f580fcd0>"
      ]
     },
     "execution_count": 8,
     "metadata": {},
     "output_type": "execute_result"
    }
   ],
   "source": [
    "label = 'type'\n",
    "IFrame('https://speckle.xyz/streams/{0}/commits/{1}?filter=%7B%22propertyInfoKey%22%3A%22{2}%22%7D'.format(\n",
    "    stream_id,\n",
    "    commit_id,\n",
    "    label), width='100%', height=800)"
   ]
  },
  {
   "cell_type": "code",
   "execution_count": 9,
   "metadata": {
    "ExecuteTime": {
     "end_time": "2024-03-14T12:10:26.893308Z",
     "start_time": "2024-03-14T12:10:26.883937Z"
    }
   },
   "outputs": [
    {
     "name": "stdout",
     "output_type": "stream",
     "text": [
      "Warning: Duplicate Entity 6496e279-88ca-49f4-b48c-6c0f156e0a58 [utilities] found.\n",
      "Existing Entity is an Assembly while new Entity is not. Keeping Assembly.\n",
      "Warning: Duplicate Entity 6496e279-88ca-49f4-b48c-6c0f156e0a58 [utilities] found.\n",
      "Existing Entity is an Assembly while new Entity is not. Keeping Assembly.\n",
      "Warning: Duplicate Entity 6496e279-88ca-49f4-b48c-6c0f156e0a58 [utilities] found.\n",
      "Existing Entity is an Assembly while new Entity is not. Keeping Assembly.\n",
      "Warning: Duplicate Entity 2b51847e-ec54-415d-afa0-ce32d74c6144 [plinthparking] found.\n",
      "Existing Entity is an Assembly while new Entity is not. Keeping Assembly.\n"
     ]
    },
    {
     "data": {
      "text/plain": [
       "True"
      ]
     },
     "execution_count": 9,
     "metadata": {},
     "output_type": "execute_result"
    }
   ],
   "source": [
    "# Return any Speckle Objects in the '@design' trunk that have 'entityId's:\n",
    "parsed = rk.api.Speckle.parse(base=data['@property'])\n",
    "\n",
    "# (Recursively) Convert the Speckle Objects into Rangekeeper Entities:\n",
    "property = rk.api.Speckle.to_rk(\n",
    "    bases=list(parsed.values()),\n",
    "    name='property',\n",
    "    type='archetype')\n",
    "\n",
    "# (We can check that it is an Assembly:)\n",
    "isinstance(property, rk.graph.Assembly)"
   ]
  },
  {
   "cell_type": "code",
   "execution_count": 10,
   "metadata": {
    "ExecuteTime": {
     "end_time": "2024-03-14T12:10:33.608487Z",
     "start_time": "2024-03-14T12:10:33.605983Z"
    }
   },
   "outputs": [
    {
     "name": "stdout",
     "output_type": "stream",
     "text": [
      "buildingA: Assembly: buildingA\n",
      "Type: building\n",
      "Members: ['type', 'name']\n",
      "Entities: [('5ebb9736-5f18-4103-a5a4-040cd2e9b019', {'entity': Assembly: buildingA (Type: building)}), ('c0348c0f-a31f-421b-b6bc-0fe0d5ea947f', {'entity': Assembly: buildingAhotel (Type: space)}), ('1d0841bf-aa28-41d7-ba75-0ad0f3d57d21', {'entity': Assembly: buildingAretail (Type: space)}), ('7716632b-f43c-4ed2-9f84-26709361bbfe', {'entity': Assembly: buildingAresidential (Type: space)}), ('01aec121-ef19-4e6d-9f09-b2ce007b717d', {'entity': Assembly: buildingAretail (Type: space)}), ('6f6b227b-b28b-4412-89bd-0a9bbc47164e', {'entity': Assembly: buildingAparking (Type: space)}), ('7eec5208-fc0e-4dfd-bd0b-b1d226b2e97e', {'entity': Entity: buildingAcores (Type: utilities)})]\n",
      "Relationships: [('5ebb9736-5f18-4103-a5a4-040cd2e9b019', 'c0348c0f-a31f-421b-b6bc-0fe0d5ea947f', 'spatiallyContains'), ('5ebb9736-5f18-4103-a5a4-040cd2e9b019', '1d0841bf-aa28-41d7-ba75-0ad0f3d57d21', 'spatiallyContains'), ('5ebb9736-5f18-4103-a5a4-040cd2e9b019', '7716632b-f43c-4ed2-9f84-26709361bbfe', 'spatiallyContains'), ('5ebb9736-5f18-4103-a5a4-040cd2e9b019', '01aec121-ef19-4e6d-9f09-b2ce007b717d', 'spatiallyContains'), ('5ebb9736-5f18-4103-a5a4-040cd2e9b019', '6f6b227b-b28b-4412-89bd-0a9bbc47164e', 'spatiallyContains'), ('5ebb9736-5f18-4103-a5a4-040cd2e9b019', '7eec5208-fc0e-4dfd-bd0b-b1d226b2e97e', 'spatiallyContains')]\n",
      "\n"
     ]
    }
   ],
   "source": [
    "# Get the \"BuildingA\" Assembly:\n",
    "buildingA = [entity for (entityId, entity) in property.get_entities().items() if entity['name'] == 'buildingA'][0]\n",
    "print('buildingA: {0}'.format(buildingA))"
   ]
  },
  {
   "cell_type": "code",
   "execution_count": 11,
   "metadata": {
    "ExecuteTime": {
     "end_time": "2024-03-14T12:10:33.637100Z",
     "start_time": "2024-03-14T12:10:33.634901Z"
    }
   },
   "outputs": [
    {
     "name": "stdout",
     "output_type": "stream",
     "text": [
      "buildingA Containment: \n",
      " [Assembly: buildingAhotel (Type: space), Assembly: buildingAretail (Type: space), Assembly: buildingAresidential (Type: space), Assembly: buildingAretail (Type: space), Assembly: buildingAparking (Type: space), Entity: buildingAcores (Type: utilities)]\n",
      "\n"
     ]
    }
   ],
   "source": [
    "# Get all relatives of BuildingA where BuildingA is the source of\n",
    "# a 'spatiallyContains' relationship:\n",
    "buildingA_containment = buildingA.get_relatives(\n",
    "    outgoing=True,\n",
    "    relationship_type='spatiallyContains',\n",
    "    assembly=property)\n",
    "print('buildingA Containment: \\n {0}\\n'.format(buildingA_containment))"
   ]
  },
  {
   "cell_type": "code",
   "execution_count": 12,
   "metadata": {
    "ExecuteTime": {
     "end_time": "2024-03-14T12:10:33.640150Z",
     "start_time": "2024-03-14T12:10:33.638015Z"
    },
    "collapsed": false
   },
   "outputs": [
    {
     "name": "stdout",
     "output_type": "stream",
     "text": [
      "buildingAresidential: Assembly: buildingAresidential\n",
      "Type: space\n",
      "Members: ['type', 'volume', 'use', '@displayValue', 'name', 'renderMaterial']\n",
      "Entities: [('7716632b-f43c-4ed2-9f84-26709361bbfe', {'entity': Assembly: buildingAresidential (Type: space)}), ('bf5a4444-6abd-4b89-b7a8-d758df5134fe', {'entity': Entity: buildingAresidentialFloor0 (Type: floor)}), ('dbf25b07-6f85-45bb-905c-de5b8562f5e7', {'entity': Entity: buildingAresidentialFloor1 (Type: floor)}), ('507e4ef2-fe13-44d7-af5f-bcf717b3de53', {'entity': Entity: buildingAresidentialFloor2 (Type: floor)}), ('bb815059-7516-45df-8fac-16f0e62242f3', {'entity': Entity: buildingAresidentialFloor3 (Type: floor)})]\n",
      "Relationships: [('7716632b-f43c-4ed2-9f84-26709361bbfe', 'bf5a4444-6abd-4b89-b7a8-d758df5134fe', 'spatiallyContains'), ('7716632b-f43c-4ed2-9f84-26709361bbfe', 'dbf25b07-6f85-45bb-905c-de5b8562f5e7', 'spatiallyContains'), ('7716632b-f43c-4ed2-9f84-26709361bbfe', '507e4ef2-fe13-44d7-af5f-bcf717b3de53', 'spatiallyContains'), ('7716632b-f43c-4ed2-9f84-26709361bbfe', 'bb815059-7516-45df-8fac-16f0e62242f3', 'spatiallyContains')]\n",
      "\n"
     ]
    }
   ],
   "source": [
    "buildingAresi = [entity for entity in buildingA_containment if entity['name'] == 'buildingAresidential'][0]\n",
    "print('buildingAresidential: {0}'.format(buildingAresi))"
   ]
  },
  {
   "cell_type": "code",
   "execution_count": 13,
   "metadata": {
    "ExecuteTime": {
     "end_time": "2024-03-14T12:10:33.707780Z",
     "start_time": "2024-03-14T12:10:33.640982Z"
    },
    "collapsed": false
   },
   "outputs": [
    {
     "name": "stdout",
     "output_type": "stream",
     "text": [
      "assets/property.html\n"
     ]
    },
    {
     "data": {
      "text/html": [
       "\n",
       "        <iframe\n",
       "            width=\"100%\"\n",
       "            height=\"800\"\n",
       "            src=\"./property.html\"\n",
       "            frameborder=\"0\"\n",
       "            allowfullscreen\n",
       "            \n",
       "        ></iframe>\n",
       "        "
      ],
      "text/plain": [
       "<IPython.lib.display.IFrame at 0x2f2b244d0>"
      ]
     },
     "execution_count": 13,
     "metadata": {},
     "output_type": "execute_result"
    }
   ],
   "source": [
    "property.plot(name='assets/property')\n",
    "IFrame(src=\"./property.html\", width='100%', height=800)"
   ]
  }
 ],
 "metadata": {
  "kernelspec": {
   "display_name": "Python 3 (ipykernel)",
   "language": "python",
   "name": "python3"
  },
  "language_info": {
   "codemirror_mode": {
    "name": "ipython",
    "version": 3
   },
   "file_extension": ".py",
   "mimetype": "text/x-python",
   "name": "python",
   "nbconvert_exporter": "python",
   "pygments_lexer": "ipython3",
   "version": "3.11.8"
  }
 },
 "nbformat": 4,
 "nbformat_minor": 1
}