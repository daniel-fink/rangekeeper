{
 "cells": [
  {
   "cell_type": "code",
   "execution_count": 1,
   "metadata": {
    "ExecuteTime": {
     "end_time": "2023-06-25T12:46:12.170048Z",
     "start_time": "2023-06-25T12:46:12.135547Z"
    }
   },
   "outputs": [],
   "source": [
    "import os\n",
    "\n",
    "import pprint as pp\n",
    "from IPython.display import IFrame\n",
    "\n",
    "import rangekeeper as rk"
   ]
  },
  {
   "cell_type": "code",
   "execution_count": 2,
   "metadata": {
    "ExecuteTime": {
     "end_time": "2023-06-25T12:46:13.845317Z",
     "start_time": "2023-06-25T12:46:12.139103Z"
    }
   },
   "outputs": [
    {
     "name": "stdout",
     "output_type": "stream",
     "text": [
      "\n",
      " SpeckleClient( server: https://speckle.xyz, authenticated: True )\n"
     ]
    }
   ],
   "source": [
    "# Authenticate with Speckle\n",
    "speckle = rk.api.Speckle(\n",
    "    host=\"speckle.xyz\",\n",
    "    token=os.getenv('SPECKLE_TOKEN')) # Note if you run this notebook yourself, you'll need to set this environment variable\n"
   ]
  },
  {
   "cell_type": "code",
   "execution_count": 3,
   "metadata": {
    "ExecuteTime": {
     "end_time": "2023-06-25T12:46:14.329055Z",
     "start_time": "2023-06-25T12:46:13.849042Z"
    },
    "collapsed": false
   },
   "outputs": [],
   "source": [
    "stream_id = \"f5e306e3fa\"\n",
    "commit_id = speckle.get_latest_commit_id(stream_id)"
   ]
  },
  {
   "cell_type": "code",
   "execution_count": 4,
   "metadata": {
    "ExecuteTime": {
     "end_time": "2023-06-25T12:46:17.627133Z",
     "start_time": "2023-06-25T12:46:14.330885Z"
    }
   },
   "outputs": [
    {
     "data": {
      "text/plain": [
       "Base(id: 2bd634ec952d0fab78d5e48f4ceb467d, speckle_type: Base, totalChildrenCount: 2894)"
      ]
     },
     "execution_count": 4,
     "metadata": {},
     "output_type": "execute_result"
    }
   ],
   "source": [
    "# Load the design scenario\n",
    "model = speckle.get_commit(stream_id=stream_id) # Providing no commit_id defaults to the latest commit\n",
    "model"
   ]
  },
  {
   "cell_type": "code",
   "execution_count": 5,
   "metadata": {
    "ExecuteTime": {
     "end_time": "2023-06-25T12:46:17.631077Z",
     "start_time": "2023-06-25T12:46:17.628572Z"
    },
    "collapsed": false
   },
   "outputs": [
    {
     "data": {
      "text/html": [
       "\n",
       "        <iframe\n",
       "            width=\"100%\"\n",
       "            height=\"800\"\n",
       "            src=\"https://speckle.xyz/embed?stream=f5e306e3fa&commit=ad17a888c3\"\n",
       "            frameborder=\"0\"\n",
       "            allowfullscreen\n",
       "            \n",
       "        ></iframe>\n",
       "        "
      ],
      "text/plain": [
       "<IPython.lib.display.IFrame at 0x2c3ce4280>"
      ]
     },
     "execution_count": 5,
     "metadata": {},
     "output_type": "execute_result"
    }
   ],
   "source": [
    "IFrame(\"https://speckle.xyz/embed?stream={0}&commit={1}\".format(stream_id, commit_id), width='100%', height=800)"
   ]
  },
  {
   "cell_type": "code",
   "execution_count": 6,
   "metadata": {
    "ExecuteTime": {
     "end_time": "2023-06-25T12:46:17.634612Z",
     "start_time": "2023-06-25T12:46:17.631847Z"
    }
   },
   "outputs": [
    {
     "data": {
      "text/plain": [
       "['@scenario', '@context']"
      ]
     },
     "execution_count": 6,
     "metadata": {},
     "output_type": "execute_result"
    }
   ],
   "source": [
    "# Let's identify the root members of the scenario:\n",
    "roots = model.get_dynamic_member_names()\n",
    "roots"
   ]
  },
  {
   "cell_type": "code",
   "execution_count": 7,
   "metadata": {
    "ExecuteTime": {
     "end_time": "2023-06-25T12:46:17.638194Z",
     "start_time": "2023-06-25T12:46:17.634476Z"
    }
   },
   "outputs": [
    {
     "data": {
      "text/html": [
       "\n",
       "        <iframe\n",
       "            width=\"100%\"\n",
       "            height=\"800\"\n",
       "            src=\"https://speckle.xyz/streams/f5e306e3fa/objects/4afd722f2dfb7885fc84521fb8610d8e\"\n",
       "            frameborder=\"0\"\n",
       "            allowfullscreen\n",
       "            \n",
       "        ></iframe>\n",
       "        "
      ],
      "text/plain": [
       "<IPython.lib.display.IFrame at 0x2c3c0ded0>"
      ]
     },
     "execution_count": 7,
     "metadata": {},
     "output_type": "execute_result"
    }
   ],
   "source": [
    "IFrame(\"https://speckle.xyz/streams/{0}/objects/{1}\".format(stream_id, model['@scenario']['id']), width='100%', height=800)"
   ]
  },
  {
   "cell_type": "code",
   "execution_count": 8,
   "metadata": {
    "ExecuteTime": {
     "end_time": "2023-06-25T12:46:17.642163Z",
     "start_time": "2023-06-25T12:46:17.639765Z"
    },
    "collapsed": false
   },
   "outputs": [
    {
     "data": {
      "text/html": [
       "\n",
       "        <iframe\n",
       "            width=\"100%\"\n",
       "            height=\"800\"\n",
       "            src=\"https://speckle.xyz/streams/f5e306e3fa/commits/ad17a888c3?filter=%7B%22propertyInfoKey%22%3A%22type%22%7D\"\n",
       "            frameborder=\"0\"\n",
       "            allowfullscreen\n",
       "            \n",
       "        ></iframe>\n",
       "        "
      ],
      "text/plain": [
       "<IPython.lib.display.IFrame at 0x2c3ce6440>"
      ]
     },
     "execution_count": 8,
     "metadata": {},
     "output_type": "execute_result"
    }
   ],
   "source": [
    "property_name = 'type'\n",
    "IFrame('https://speckle.xyz/streams/{0}/commits/{1}?filter=%7B%22propertyInfoKey%22%3A%22{2}%22%7D'.format(\n",
    "    stream_id,\n",
    "    commit_id,\n",
    "    property_name), width='100%', height=800)"
   ]
  },
  {
   "cell_type": "code",
   "execution_count": 9,
   "metadata": {
    "ExecuteTime": {
     "end_time": "2023-06-25T12:46:17.670903Z",
     "start_time": "2023-06-25T12:46:17.649906Z"
    }
   },
   "outputs": [
    {
     "name": "stdout",
     "output_type": "stream",
     "text": [
      "Warning: Duplicate Entity 29b746f5-42fe-4321-9a4a-8c65c9f0410c [utilities] found.\n",
      "Existing Entity is an Assembly while new Entity is not. Keeping Assembly.\n",
      "Warning: Duplicate Entity 29b746f5-42fe-4321-9a4a-8c65c9f0410c [utilities] found.\n",
      "Existing Entity is an Assembly while new Entity is not. Keeping Assembly.\n",
      "Warning: Duplicate Entity 29b746f5-42fe-4321-9a4a-8c65c9f0410c [utilities] found.\n",
      "Existing Entity is an Assembly while new Entity is not. Keeping Assembly.\n",
      "Warning: Duplicate Entity d188b4bb-27a3-4f63-9469-e9705c60a7a5 [plinthparking] found.\n",
      "Existing Entity is an Assembly while new Entity is not. Keeping Assembly.\n"
     ]
    },
    {
     "data": {
      "text/plain": [
       "True"
      ]
     },
     "execution_count": 9,
     "metadata": {},
     "output_type": "execute_result"
    }
   ],
   "source": [
    "# Return any Speckle Objects in the '@scenario' trunk that have 'entityId's:\n",
    "parsed = rk.api.Speckle.parse(base=model['@scenario'])\n",
    "\n",
    "# (Recursively) Convert the Speckle Objects into Rangekeeper Entities:\n",
    "scenario = rk.api.Speckle.to_rk(\n",
    "    bases=list(parsed.values()),\n",
    "    name='scenario',\n",
    "    type='scenario')\n",
    "\n",
    "# (We can check that it is an Assembly:)\n",
    "isinstance(scenario, rk.graph.Assembly)"
   ]
  },
  {
   "cell_type": "code",
   "execution_count": 40,
   "metadata": {
    "ExecuteTime": {
     "end_time": "2023-06-25T12:46:17.671154Z",
     "start_time": "2023-06-25T12:46:17.652734Z"
    },
    "collapsed": false
   },
   "outputs": [],
   "source": []
  },
  {
   "cell_type": "code",
   "execution_count": 10,
   "metadata": {
    "ExecuteTime": {
     "end_time": "2023-06-25T12:46:17.671265Z",
     "start_time": "2023-06-25T12:46:17.658315Z"
    }
   },
   "outputs": [
    {
     "name": "stdout",
     "output_type": "stream",
     "text": [
      "buildingA: Assembly: buildingA\n",
      "Type: building\n",
      "Members: ['type', 'name']\n",
      "Entities: [('529ce7bc-addf-4bad-8ec5-cbecbd73d4f1', {'entity': Assembly: buildingA (Type: building)}), ('987c5866-03b0-4948-962e-4870684f481b', {'entity': Assembly: buildingAparking (Type: space)}), ('7dc6bf46-805f-4990-bcd2-d0fe1de4dd47', {'entity': Assembly: buildingAretail (Type: space)}), ('549a988b-c3bc-42d4-a6a3-a8dc694fa770', {'entity': Assembly: buildingAresidential (Type: space)}), ('3cf2bf71-61fa-4a61-b163-6265c299376d', {'entity': Assembly: buildingAretail (Type: space)}), ('bfc1c272-665f-432d-a7b3-a4c955556e7f', {'entity': Assembly: buildingAoffice (Type: space)}), ('55963d84-702d-423d-be05-c8bb6e88f517', {'entity': Entity: buildingAcores (Type: utilities)})]\n",
      "Relationships: [('529ce7bc-addf-4bad-8ec5-cbecbd73d4f1', '987c5866-03b0-4948-962e-4870684f481b', 'spatiallyContains'), ('529ce7bc-addf-4bad-8ec5-cbecbd73d4f1', '7dc6bf46-805f-4990-bcd2-d0fe1de4dd47', 'spatiallyContains'), ('529ce7bc-addf-4bad-8ec5-cbecbd73d4f1', '549a988b-c3bc-42d4-a6a3-a8dc694fa770', 'spatiallyContains'), ('529ce7bc-addf-4bad-8ec5-cbecbd73d4f1', '3cf2bf71-61fa-4a61-b163-6265c299376d', 'spatiallyContains'), ('529ce7bc-addf-4bad-8ec5-cbecbd73d4f1', 'bfc1c272-665f-432d-a7b3-a4c955556e7f', 'spatiallyContains'), ('529ce7bc-addf-4bad-8ec5-cbecbd73d4f1', '55963d84-702d-423d-be05-c8bb6e88f517', 'spatiallyContains')]\n",
      "\n"
     ]
    }
   ],
   "source": [
    "# Get the \"BuildingA\" Assembly:\n",
    "buildingA = [entity for (entityId, entity) in scenario.get_entities().items() if entity['name'] == 'buildingA'][0]\n",
    "print('buildingA: {0}'.format(buildingA))"
   ]
  },
  {
   "cell_type": "code",
   "execution_count": 11,
   "metadata": {
    "ExecuteTime": {
     "end_time": "2023-06-25T12:46:17.671330Z",
     "start_time": "2023-06-25T12:46:17.660447Z"
    }
   },
   "outputs": [
    {
     "name": "stdout",
     "output_type": "stream",
     "text": [
      "buildingA Containment: \n",
      " [Assembly: buildingAparking (Type: space), Assembly: buildingAretail (Type: space), Assembly: buildingAresidential (Type: space), Assembly: buildingAretail (Type: space), Assembly: buildingAoffice (Type: space), Entity: buildingAcores (Type: utilities)]\n",
      "\n"
     ]
    }
   ],
   "source": [
    "# Get all relatives of BuildingA where BuildingA is the source of\n",
    "# a 'spatiallyContains' relationship:\n",
    "buildingA_containment = buildingA.get_relatives(\n",
    "    outgoing=True,\n",
    "    relationship_type='spatiallyContains',\n",
    "    assembly=scenario)\n",
    "print('buildingA Containment: \\n {0}\\n'.format(buildingA_containment))"
   ]
  },
  {
   "cell_type": "code",
   "execution_count": 12,
   "metadata": {
    "ExecuteTime": {
     "end_time": "2023-06-25T12:46:17.671394Z",
     "start_time": "2023-06-25T12:46:17.664881Z"
    },
    "collapsed": false
   },
   "outputs": [
    {
     "name": "stdout",
     "output_type": "stream",
     "text": [
      "buildingAresidential: Assembly: buildingAresidential\n",
      "Type: space\n",
      "Members: ['renderMaterial', 'use', '@displayValue', 'volume', 'type', 'name']\n",
      "Entities: [('549a988b-c3bc-42d4-a6a3-a8dc694fa770', {'entity': Assembly: buildingAresidential (Type: space)}), ('e7b3aec0-5003-448b-a0e3-4c2dbb605f85', {'entity': Entity: buildingAresidentialFloor0 (Type: floor)}), ('9c13f0be-9991-4d9f-b41b-a0e962bdeb89', {'entity': Entity: buildingAresidentialFloor0 (Type: floor)}), ('e88ff464-a453-45bb-93d8-5f983d417912', {'entity': Entity: buildingAresidentialFloor1 (Type: floor)}), ('8ce80d06-69f6-404a-b0fd-a728eb0dfed6', {'entity': Entity: buildingAresidentialFloor2 (Type: floor)}), ('bb0a0d86-31c1-4780-b81f-8d0e5a5d83be', {'entity': Entity: buildingAresidentialFloor3 (Type: floor)})]\n",
      "Relationships: [('549a988b-c3bc-42d4-a6a3-a8dc694fa770', 'e7b3aec0-5003-448b-a0e3-4c2dbb605f85', 'spatiallyContains'), ('549a988b-c3bc-42d4-a6a3-a8dc694fa770', '9c13f0be-9991-4d9f-b41b-a0e962bdeb89', 'spatiallyContains'), ('549a988b-c3bc-42d4-a6a3-a8dc694fa770', 'e88ff464-a453-45bb-93d8-5f983d417912', 'spatiallyContains'), ('549a988b-c3bc-42d4-a6a3-a8dc694fa770', '8ce80d06-69f6-404a-b0fd-a728eb0dfed6', 'spatiallyContains'), ('549a988b-c3bc-42d4-a6a3-a8dc694fa770', 'bb0a0d86-31c1-4780-b81f-8d0e5a5d83be', 'spatiallyContains')]\n",
      "\n"
     ]
    }
   ],
   "source": [
    "buildingAresi = [entity for entity in buildingA_containment if entity['name'] == 'buildingAresidential'][0]\n",
    "print('buildingAresidential: {0}'.format(buildingAresi))"
   ]
  },
  {
   "cell_type": "code",
   "execution_count": 13,
   "metadata": {
    "ExecuteTime": {
     "end_time": "2023-06-25T12:46:38.131841Z",
     "start_time": "2023-06-25T12:46:38.057986Z"
    },
    "collapsed": false
   },
   "outputs": [
    {
     "name": "stdout",
     "output_type": "stream",
     "text": [
      "assets/design_scenario.html\n"
     ]
    },
    {
     "data": {
      "text/html": [
       "\n",
       "        <iframe\n",
       "            width=\"100%\"\n",
       "            height=\"800\"\n",
       "            src=\"./design_scenario.html\"\n",
       "            frameborder=\"0\"\n",
       "            allowfullscreen\n",
       "            \n",
       "        ></iframe>\n",
       "        "
      ],
      "text/plain": [
       "<IPython.lib.display.IFrame at 0x2c3a7e800>"
      ]
     },
     "execution_count": 13,
     "metadata": {},
     "output_type": "execute_result"
    }
   ],
   "source": [
    "scenario.plot(name='assets/design_scenario')\n",
    "IFrame(src=\"./design_scenario.html\", width='100%', height=800)"
   ]
  }
 ],
 "metadata": {
  "kernelspec": {
   "display_name": "Python 3 (ipykernel)",
   "language": "python",
   "name": "python3"
  },
  "language_info": {
   "codemirror_mode": {
    "name": "ipython",
    "version": 3
   },
   "file_extension": ".py",
   "mimetype": "text/x-python",
   "name": "python",
   "nbconvert_exporter": "python",
   "pygments_lexer": "ipython3",
   "version": "3.10.4"
  }
 },
 "nbformat": 4,
 "nbformat_minor": 1
}