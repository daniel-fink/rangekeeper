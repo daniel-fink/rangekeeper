{
 "cells": [
  {
   "cell_type": "code",
   "execution_count": 1,
   "metadata": {
    "ExecuteTime": {
     "end_time": "2023-06-25T12:46:12.170048Z",
     "start_time": "2023-06-25T12:46:12.135547Z"
    }
   },
   "outputs": [],
   "source": [
    "import os\n",
    "\n",
    "import pprint as pp\n",
    "from IPython.display import IFrame\n",
    "\n",
    "import rangekeeper as rk"
   ]
  },
  {
   "cell_type": "code",
   "execution_count": 2,
   "metadata": {
    "ExecuteTime": {
     "end_time": "2023-06-25T12:46:13.845317Z",
     "start_time": "2023-06-25T12:46:12.139103Z"
    }
   },
   "outputs": [
    {
     "name": "stdout",
     "output_type": "stream",
     "text": [
      "\n",
      " SpeckleClient( server: https://speckle.xyz, authenticated: True )\n"
     ]
    }
   ],
   "source": [
    "# Authenticate with Speckle\n",
    "speckle = rk.api.Speckle(\n",
    "    host=\"speckle.xyz\",\n",
    "    token=os.getenv('SPECKLE_TOKEN')) # Note if you run this notebook yourself, you'll need to set this environment variable\n"
   ]
  },
  {
   "cell_type": "code",
   "execution_count": 3,
   "metadata": {
    "ExecuteTime": {
     "end_time": "2023-06-25T12:46:14.329055Z",
     "start_time": "2023-06-25T12:46:13.849042Z"
    },
    "collapsed": false
   },
   "outputs": [],
   "source": [
    "stream_id = \"f5e306e3fa\"\n",
    "commit_id = speckle.get_latest_commit_id(stream_id)"
   ]
  },
  {
   "cell_type": "code",
   "execution_count": 4,
   "metadata": {
    "ExecuteTime": {
     "end_time": "2023-06-25T12:46:17.627133Z",
     "start_time": "2023-06-25T12:46:14.330885Z"
    }
   },
   "outputs": [
    {
     "data": {
      "text/plain": [
       "Base(id: b914ed89cf5040b5d05ff14d22e49c39, speckle_type: Base, totalChildrenCount: 2898)"
      ]
     },
     "execution_count": 4,
     "metadata": {},
     "output_type": "execute_result"
    }
   ],
   "source": [
    "# Load the design scenario\n",
    "model = speckle.get_commit(stream_id=stream_id) # Providing no commit_id defaults to the latest commit\n",
    "model"
   ]
  },
  {
   "cell_type": "code",
   "execution_count": 5,
   "metadata": {
    "ExecuteTime": {
     "end_time": "2023-06-25T12:46:17.631077Z",
     "start_time": "2023-06-25T12:46:17.628572Z"
    },
    "collapsed": false
   },
   "outputs": [
    {
     "data": {
      "text/html": [
       "\n",
       "        <iframe\n",
       "            width=\"100%\"\n",
       "            height=\"800\"\n",
       "            src=\"https://speckle.xyz/embed?stream=f5e306e3fa&commit=6018e7fe7b\"\n",
       "            frameborder=\"0\"\n",
       "            allowfullscreen\n",
       "            \n",
       "        ></iframe>\n",
       "        "
      ],
      "text/plain": [
       "<IPython.lib.display.IFrame at 0x2bdbb4580>"
      ]
     },
     "execution_count": 5,
     "metadata": {},
     "output_type": "execute_result"
    }
   ],
   "source": [
    "IFrame(\"https://speckle.xyz/embed?stream={0}&commit={1}\".format(stream_id, commit_id), width='100%', height=800)"
   ]
  },
  {
   "cell_type": "code",
   "execution_count": 6,
   "metadata": {
    "ExecuteTime": {
     "end_time": "2023-06-25T12:46:17.634612Z",
     "start_time": "2023-06-25T12:46:17.631847Z"
    }
   },
   "outputs": [
    {
     "data": {
      "text/plain": [
       "['@context', '@scenario']"
      ]
     },
     "execution_count": 6,
     "metadata": {},
     "output_type": "execute_result"
    }
   ],
   "source": [
    "# Let's identify the root members of the scenario:\n",
    "roots = model.get_dynamic_member_names()\n",
    "roots"
   ]
  },
  {
   "cell_type": "code",
   "execution_count": 7,
   "metadata": {
    "ExecuteTime": {
     "end_time": "2023-06-25T12:46:17.638194Z",
     "start_time": "2023-06-25T12:46:17.634476Z"
    }
   },
   "outputs": [
    {
     "data": {
      "text/html": [
       "\n",
       "        <iframe\n",
       "            width=\"100%\"\n",
       "            height=\"800\"\n",
       "            src=\"https://speckle.xyz/streams/f5e306e3fa/objects/2f9d3e857f1e99ebb7a7faf1ed31d714\"\n",
       "            frameborder=\"0\"\n",
       "            allowfullscreen\n",
       "            \n",
       "        ></iframe>\n",
       "        "
      ],
      "text/plain": [
       "<IPython.lib.display.IFrame at 0x2bdbb6530>"
      ]
     },
     "execution_count": 7,
     "metadata": {},
     "output_type": "execute_result"
    }
   ],
   "source": [
    "IFrame(\"https://speckle.xyz/streams/{0}/objects/{1}\".format(stream_id, model['@scenario']['id']), width='100%', height=800)"
   ]
  },
  {
   "cell_type": "code",
   "execution_count": 8,
   "metadata": {
    "ExecuteTime": {
     "end_time": "2023-06-25T12:46:17.642163Z",
     "start_time": "2023-06-25T12:46:17.639765Z"
    },
    "collapsed": false
   },
   "outputs": [
    {
     "data": {
      "text/html": [
       "\n",
       "        <iframe\n",
       "            width=\"100%\"\n",
       "            height=\"800\"\n",
       "            src=\"https://speckle.xyz/streams/f5e306e3fa/commits/6018e7fe7b?filter=%7B%22propertyInfoKey%22%3A%22type%22%7D\"\n",
       "            frameborder=\"0\"\n",
       "            allowfullscreen\n",
       "            \n",
       "        ></iframe>\n",
       "        "
      ],
      "text/plain": [
       "<IPython.lib.display.IFrame at 0x2bdbb45e0>"
      ]
     },
     "execution_count": 8,
     "metadata": {},
     "output_type": "execute_result"
    }
   ],
   "source": [
    "property_name = 'type'\n",
    "IFrame('https://speckle.xyz/streams/{0}/commits/{1}?filter=%7B%22propertyInfoKey%22%3A%22{2}%22%7D'.format(\n",
    "    stream_id,\n",
    "    commit_id,\n",
    "    property_name), width='100%', height=800)"
   ]
  },
  {
   "cell_type": "code",
   "execution_count": 9,
   "metadata": {
    "ExecuteTime": {
     "end_time": "2023-06-25T12:46:17.670903Z",
     "start_time": "2023-06-25T12:46:17.649906Z"
    }
   },
   "outputs": [
    {
     "name": "stdout",
     "output_type": "stream",
     "text": [
      "Warning: Duplicate Entity f7e2fa84-54a6-4fd4-ae93-f339947035b6 [utilities] found.\n",
      "Existing Entity is an Assembly while new Entity is not. Keeping Assembly.\n",
      "Warning: Duplicate Entity f7e2fa84-54a6-4fd4-ae93-f339947035b6 [utilities] found.\n",
      "Existing Entity is an Assembly while new Entity is not. Keeping Assembly.\n",
      "Warning: Duplicate Entity f7e2fa84-54a6-4fd4-ae93-f339947035b6 [utilities] found.\n",
      "Existing Entity is an Assembly while new Entity is not. Keeping Assembly.\n",
      "Warning: Duplicate Entity c7dfbeaf-1b8c-424c-bad0-0b2b5975af6e [plinthparking] found.\n",
      "Existing Entity is an Assembly while new Entity is not. Keeping Assembly.\n"
     ]
    },
    {
     "data": {
      "text/plain": [
       "True"
      ]
     },
     "execution_count": 9,
     "metadata": {},
     "output_type": "execute_result"
    }
   ],
   "source": [
    "# Return any Speckle Objects in the '@scenario' trunk that have 'entityId's:\n",
    "parsed = rk.api.Speckle.parse(base=model['@scenario'])\n",
    "\n",
    "# (Recursively) Convert the Speckle Objects into Rangekeeper Entities:\n",
    "scenario = rk.api.Speckle.to_rk(\n",
    "    bases=list(parsed.values()),\n",
    "    name='scenario',\n",
    "    type='scenario')\n",
    "\n",
    "# (We can check that it is an Assembly:)\n",
    "isinstance(scenario, rk.graph.Assembly)"
   ]
  },
  {
   "cell_type": "code",
   "execution_count": 40,
   "metadata": {
    "ExecuteTime": {
     "end_time": "2023-06-25T12:46:17.671154Z",
     "start_time": "2023-06-25T12:46:17.652734Z"
    },
    "collapsed": false
   },
   "outputs": [],
   "source": []
  },
  {
   "cell_type": "code",
   "execution_count": 10,
   "metadata": {
    "ExecuteTime": {
     "end_time": "2023-06-25T12:46:17.671265Z",
     "start_time": "2023-06-25T12:46:17.658315Z"
    }
   },
   "outputs": [
    {
     "name": "stdout",
     "output_type": "stream",
     "text": [
      "buildingA: Assembly: buildingA\n",
      "Type: building\n",
      "Members: ['type', 'name']\n",
      "Entities: [('eb42cd14-73ab-41fc-99c0-c46631ee1208', {'entity': Assembly: buildingA (Type: building)}), ('655b2dfe-5c18-4d68-95f0-f5d27804430d', {'entity': Assembly: buildingAoffice (Type: space)}), ('47dfa8b6-e213-4099-9f5b-834df0ca34b0', {'entity': Assembly: buildingAretail (Type: space)}), ('da796c3e-94b0-4175-8c6f-ac63e5e60714', {'entity': Assembly: buildingAresidential (Type: space)}), ('08e12c72-4450-424f-8ff4-a4da7246ee05', {'entity': Assembly: buildingAretail (Type: space)}), ('634c5fb4-f204-4287-8c80-f23371056f1c', {'entity': Assembly: buildingAparking (Type: space)}), ('abdf16fd-494e-4d7f-a604-134ce1c004ac', {'entity': Entity: buildingAcores (Type: utilities)})]\n",
      "Relationships: [('eb42cd14-73ab-41fc-99c0-c46631ee1208', '655b2dfe-5c18-4d68-95f0-f5d27804430d', 'spatiallyContains'), ('eb42cd14-73ab-41fc-99c0-c46631ee1208', '47dfa8b6-e213-4099-9f5b-834df0ca34b0', 'spatiallyContains'), ('eb42cd14-73ab-41fc-99c0-c46631ee1208', 'da796c3e-94b0-4175-8c6f-ac63e5e60714', 'spatiallyContains'), ('eb42cd14-73ab-41fc-99c0-c46631ee1208', '08e12c72-4450-424f-8ff4-a4da7246ee05', 'spatiallyContains'), ('eb42cd14-73ab-41fc-99c0-c46631ee1208', '634c5fb4-f204-4287-8c80-f23371056f1c', 'spatiallyContains'), ('eb42cd14-73ab-41fc-99c0-c46631ee1208', 'abdf16fd-494e-4d7f-a604-134ce1c004ac', 'spatiallyContains')]\n",
      "\n"
     ]
    }
   ],
   "source": [
    "# Get the \"BuildingA\" Assembly:\n",
    "buildingA = [entity for (entityId, entity) in scenario.get_entities().items() if entity['name'] == 'buildingA'][0]\n",
    "print('buildingA: {0}'.format(buildingA))"
   ]
  },
  {
   "cell_type": "code",
   "execution_count": 11,
   "metadata": {
    "ExecuteTime": {
     "end_time": "2023-06-25T12:46:17.671330Z",
     "start_time": "2023-06-25T12:46:17.660447Z"
    }
   },
   "outputs": [
    {
     "name": "stdout",
     "output_type": "stream",
     "text": [
      "buildingA Containment: \n",
      " [Assembly: buildingAoffice (Type: space), Assembly: buildingAretail (Type: space), Assembly: buildingAresidential (Type: space), Assembly: buildingAretail (Type: space), Assembly: buildingAparking (Type: space), Entity: buildingAcores (Type: utilities)]\n",
      "\n"
     ]
    }
   ],
   "source": [
    "# Get all relatives of BuildingA where BuildingA is the source of\n",
    "# a 'spatiallyContains' relationship:\n",
    "buildingA_containment = buildingA.get_relatives(\n",
    "    outgoing=True,\n",
    "    relationship_type='spatiallyContains',\n",
    "    assembly=scenario)\n",
    "print('buildingA Containment: \\n {0}\\n'.format(buildingA_containment))"
   ]
  },
  {
   "cell_type": "code",
   "execution_count": 12,
   "metadata": {
    "ExecuteTime": {
     "end_time": "2023-06-25T12:46:17.671394Z",
     "start_time": "2023-06-25T12:46:17.664881Z"
    },
    "collapsed": false
   },
   "outputs": [
    {
     "name": "stdout",
     "output_type": "stream",
     "text": [
      "buildingAresidential: Assembly: buildingAresidential\n",
      "Type: space\n",
      "Members: ['renderMaterial', 'use', 'type', 'name', '@displayValue']\n",
      "Entities: [('da796c3e-94b0-4175-8c6f-ac63e5e60714', {'entity': Assembly: buildingAresidential (Type: space)}), ('a987a169-2605-4308-9462-8d22eb6df2be', {'entity': Entity: buildingAresidentialFloor0 (Type: floor)}), ('d2db8f8f-36c9-4a92-a1dd-016376fee217', {'entity': Entity: buildingAresidentialFloor0 (Type: floor)}), ('b0384123-9bec-4c0e-87f6-32abb6a49fb3', {'entity': Entity: buildingAresidentialFloor1 (Type: floor)}), ('bbd83975-af58-492e-8818-ce1968564a05', {'entity': Entity: buildingAresidentialFloor2 (Type: floor)}), ('c78fd645-372b-4a23-a823-98e2f6885b97', {'entity': Entity: buildingAresidentialFloor3 (Type: floor)})]\n",
      "Relationships: [('da796c3e-94b0-4175-8c6f-ac63e5e60714', 'a987a169-2605-4308-9462-8d22eb6df2be', 'spatiallyContains'), ('da796c3e-94b0-4175-8c6f-ac63e5e60714', 'd2db8f8f-36c9-4a92-a1dd-016376fee217', 'spatiallyContains'), ('da796c3e-94b0-4175-8c6f-ac63e5e60714', 'b0384123-9bec-4c0e-87f6-32abb6a49fb3', 'spatiallyContains'), ('da796c3e-94b0-4175-8c6f-ac63e5e60714', 'bbd83975-af58-492e-8818-ce1968564a05', 'spatiallyContains'), ('da796c3e-94b0-4175-8c6f-ac63e5e60714', 'c78fd645-372b-4a23-a823-98e2f6885b97', 'spatiallyContains')]\n",
      "\n"
     ]
    }
   ],
   "source": [
    "buildingAresi = [entity for entity in buildingA_containment if entity['name'] == 'buildingAresidential'][0]\n",
    "print('buildingAresidential: {0}'.format(buildingAresi))"
   ]
  },
  {
   "cell_type": "code",
   "execution_count": 13,
   "metadata": {
    "ExecuteTime": {
     "end_time": "2023-06-25T12:46:38.131841Z",
     "start_time": "2023-06-25T12:46:38.057986Z"
    },
    "collapsed": false
   },
   "outputs": [
    {
     "name": "stdout",
     "output_type": "stream",
     "text": [
      "assets/design_scenario.html\n"
     ]
    },
    {
     "data": {
      "text/html": [
       "\n",
       "        <iframe\n",
       "            width=\"100%\"\n",
       "            height=\"800\"\n",
       "            src=\"./design_scenario.html\"\n",
       "            frameborder=\"0\"\n",
       "            allowfullscreen\n",
       "            \n",
       "        ></iframe>\n",
       "        "
      ],
      "text/plain": [
       "<IPython.lib.display.IFrame at 0x2bda9a890>"
      ]
     },
     "execution_count": 13,
     "metadata": {},
     "output_type": "execute_result"
    }
   ],
   "source": [
    "scenario.plot(name='assets/design_scenario')\n",
    "IFrame(src=\"./design_scenario.html\", width='100%', height=800)"
   ]
  }
 ],
 "metadata": {
  "kernelspec": {
   "display_name": "Python 3 (ipykernel)",
   "language": "python",
   "name": "python3"
  },
  "language_info": {
   "codemirror_mode": {
    "name": "ipython",
    "version": 3
   },
   "file_extension": ".py",
   "mimetype": "text/x-python",
   "name": "python",
   "nbconvert_exporter": "python",
   "pygments_lexer": "ipython3",
   "version": "3.10.4"
  }
 },
 "nbformat": 4,
 "nbformat_minor": 1
}