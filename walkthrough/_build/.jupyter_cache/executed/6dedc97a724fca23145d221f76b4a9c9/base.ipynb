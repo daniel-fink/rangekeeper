{
 "cells": [
  {
   "cell_type": "code",
   "execution_count": 1,
   "metadata": {
    "ExecuteTime": {
     "end_time": "2023-06-05T06:35:58.809131Z",
     "start_time": "2023-06-05T06:35:58.771575Z"
    }
   },
   "outputs": [],
   "source": [
    "import os\n",
    "\n",
    "import rangekeeper as rk"
   ]
  },
  {
   "cell_type": "code",
   "execution_count": 2,
   "metadata": {
    "ExecuteTime": {
     "end_time": "2023-06-05T06:36:00.709379Z",
     "start_time": "2023-06-05T06:35:58.776002Z"
    }
   },
   "outputs": [
    {
     "name": "stdout",
     "output_type": "stream",
     "text": [
      "\n",
      " SpeckleClient( server: https://speckle.xyz, authenticated: True )\n"
     ]
    }
   ],
   "source": [
    "# Authenticate with Speckle\n",
    "speckle = rk.api.Speckle(\n",
    "    host=\"speckle.xyz\",\n",
    "    token=os.getenv('SPECKLE_TOKEN')) # Note if you run this notebook yourself, you'll need to set this environment variable\n"
   ]
  },
  {
   "cell_type": "code",
   "execution_count": 3,
   "metadata": {
    "ExecuteTime": {
     "end_time": "2023-06-05T06:36:01.822304Z",
     "start_time": "2023-06-05T06:36:00.711966Z"
    },
    "collapsed": false
   },
   "outputs": [],
   "source": [
    "stream_id = \"3f40d86240\"\n",
    "commit_id = speckle.get_latest_commit_id(stream_id)"
   ]
  },
  {
   "cell_type": "code",
   "execution_count": 4,
   "metadata": {
    "ExecuteTime": {
     "end_time": "2023-06-05T06:36:04.432808Z",
     "start_time": "2023-06-05T06:36:01.829212Z"
    }
   },
   "outputs": [
    {
     "data": {
      "text/plain": [
       "Base(id: 25b3551c0b32e8044de35043525ae5d3, speckle_type: Base, totalChildrenCount: 2074)"
      ]
     },
     "execution_count": 4,
     "metadata": {},
     "output_type": "execute_result"
    }
   ],
   "source": [
    "# Load the design scenario\n",
    "model = speckle.get_commit(stream_id=stream_id) # Providing no commit_id defaults to the latest commit\n",
    "model"
   ]
  },
  {
   "cell_type": "code",
   "execution_count": 5,
   "metadata": {
    "ExecuteTime": {
     "end_time": "2023-06-05T06:36:04.437119Z",
     "start_time": "2023-06-05T06:36:04.434318Z"
    },
    "collapsed": false
   },
   "outputs": [
    {
     "data": {
      "text/html": [
       "\n",
       "        <iframe\n",
       "            width=\"100%\"\n",
       "            height=\"800\"\n",
       "            src=\"https://speckle.xyz/embed?stream=3f40d86240&commit=0cbad6f35c\"\n",
       "            frameborder=\"0\"\n",
       "            allowfullscreen\n",
       "            \n",
       "        ></iframe>\n",
       "        "
      ],
      "text/plain": [
       "<IPython.lib.display.IFrame at 0x2a3092590>"
      ]
     },
     "execution_count": 5,
     "metadata": {},
     "output_type": "execute_result"
    }
   ],
   "source": [
    "from IPython.display import IFrame\n",
    "IFrame(\"https://speckle.xyz/embed?stream={0}&commit={1}\".format(stream_id, commit_id), width='100%', height=800)"
   ]
  },
  {
   "cell_type": "code",
   "execution_count": 6,
   "metadata": {
    "ExecuteTime": {
     "end_time": "2023-06-05T06:36:04.441767Z",
     "start_time": "2023-06-05T06:36:04.438022Z"
    }
   },
   "outputs": [
    {
     "data": {
      "text/plain": [
       "['@scenario', '@context']"
      ]
     },
     "execution_count": 6,
     "metadata": {},
     "output_type": "execute_result"
    }
   ],
   "source": [
    "# Let's identify the root members of the scenario:\n",
    "roots = model.get_dynamic_member_names()\n",
    "roots"
   ]
  },
  {
   "cell_type": "code",
   "execution_count": 7,
   "metadata": {
    "ExecuteTime": {
     "end_time": "2023-06-05T06:36:04.443582Z",
     "start_time": "2023-06-05T06:36:04.441908Z"
    }
   },
   "outputs": [
    {
     "data": {
      "text/html": [
       "\n",
       "        <iframe\n",
       "            width=\"100%\"\n",
       "            height=\"800\"\n",
       "            src=\"https://speckle.xyz/streams/3f40d86240/objects/0b0b84df4d3be3f8e2926684ed18e450\"\n",
       "            frameborder=\"0\"\n",
       "            allowfullscreen\n",
       "            \n",
       "        ></iframe>\n",
       "        "
      ],
      "text/plain": [
       "<IPython.lib.display.IFrame at 0x296edfe20>"
      ]
     },
     "execution_count": 7,
     "metadata": {},
     "output_type": "execute_result"
    }
   ],
   "source": [
    "IFrame(\"https://speckle.xyz/streams/{0}/objects/{1}\".format(stream_id, model['@scenario']['id']), width='100%', height=800)"
   ]
  },
  {
   "cell_type": "code",
   "execution_count": 8,
   "metadata": {
    "ExecuteTime": {
     "end_time": "2023-06-05T06:36:04.450505Z",
     "start_time": "2023-06-05T06:36:04.447920Z"
    }
   },
   "outputs": [
    {
     "data": {
      "text/plain": [
       "True"
      ]
     },
     "execution_count": 8,
     "metadata": {},
     "output_type": "execute_result"
    }
   ],
   "source": [
    "# Return any Speckle Objects that have 'entityId's:\n",
    "speckle_entities = rk.api.Speckle.parse(model['@scenario'])\n",
    "\n",
    "# Convert the first object (root) into a Rangekeeper Entity:\n",
    "root_assembly = rk.api.Speckle.to_entity(speckle_entities[0])\n",
    "\n",
    "# (We can check that it is an Assembly:)\n",
    "isinstance(root_assembly, rk.graph.Assembly)"
   ]
  },
  {
   "cell_type": "code",
   "execution_count": 9,
   "metadata": {
    "ExecuteTime": {
     "end_time": "2023-06-05T06:36:04.485802Z",
     "start_time": "2023-06-05T06:36:04.451072Z"
    }
   },
   "outputs": [
    {
     "name": "stdout",
     "output_type": "stream",
     "text": [
      "BuildingA: Assembly: BuildingA\n",
      "Type: building\n",
      "Entities: [(Assembly: BuildingA (Type: building), {}), (Entity: BuildingA.Residential (Type: space), {}), (Entity: BuildingA.Retail (Type: space), {}), (Entity: BuildingA.Parking (Type: space), {}), (Entity: BuildingA.Office (Type: space), {}), (Entity: BuildingA.Core (Type: space), {})]\n",
      "Relationships: [(Assembly: BuildingA (Type: building), Entity: BuildingA.Residential (Type: space), 'spatiallyContains'), (Assembly: BuildingA (Type: building), Entity: BuildingA.Retail (Type: space), 'spatiallyContains'), (Assembly: BuildingA (Type: building), Entity: BuildingA.Parking (Type: space), 'spatiallyContains'), (Assembly: BuildingA (Type: building), Entity: BuildingA.Office (Type: space), 'spatiallyContains'), (Assembly: BuildingA (Type: building), Entity: BuildingA.Core (Type: space), 'spatiallyContains'), (Entity: BuildingA.Core (Type: space), Entity: BuildingA.Residential (Type: space), 'services'), (Entity: BuildingA.Core (Type: space), Entity: BuildingA.Retail (Type: space), 'services'), (Entity: BuildingA.Core (Type: space), Entity: BuildingA.Parking (Type: space), 'services'), (Entity: BuildingA.Core (Type: space), Entity: BuildingA.Office (Type: space), 'services')]\n",
      "\n"
     ]
    }
   ],
   "source": [
    "# Get the \"BuildingA\" Assembly:\n",
    "buildingA = [node for node in root_assembly.nodes if node.name == 'BuildingA'][0]\n",
    "print('BuildingA: {0}'.format(buildingA))"
   ]
  },
  {
   "cell_type": "code",
   "execution_count": 10,
   "metadata": {
    "ExecuteTime": {
     "end_time": "2023-06-05T06:36:04.492690Z",
     "start_time": "2023-06-05T06:36:04.454400Z"
    }
   },
   "outputs": [
    {
     "name": "stdout",
     "output_type": "stream",
     "text": [
      "BuildingA Containment: \n",
      " [Entity: BuildingA.Residential (Type: space), Entity: BuildingA.Retail (Type: space), Entity: BuildingA.Parking (Type: space), Entity: BuildingA.Office (Type: space), Entity: BuildingA.Core (Type: space)]\n",
      "\n"
     ]
    }
   ],
   "source": [
    "# Get all relatives of BuildingA where BuildingA is the source of\n",
    "# a 'spatiallyContains' relationship:\n",
    "buildingA_containment = buildingA.get_relatives(outgoing=True, relationship_type='spatiallyContains')\n",
    "print('BuildingA Containment: \\n {0}\\n'.format(buildingA_containment))"
   ]
  },
  {
   "cell_type": "code",
   "execution_count": 11,
   "metadata": {
    "ExecuteTime": {
     "end_time": "2023-06-05T06:36:04.492960Z",
     "start_time": "2023-06-05T06:36:04.458858Z"
    }
   },
   "outputs": [],
   "source": [
    "develop = root_assembly.develop(\n",
    "    name='design_scenario',\n",
    "    type='design_scenario')"
   ]
  },
  {
   "cell_type": "code",
   "execution_count": 12,
   "metadata": {
    "ExecuteTime": {
     "end_time": "2023-06-05T06:36:04.531594Z",
     "start_time": "2023-06-05T06:36:04.461326Z"
    },
    "collapsed": false
   },
   "outputs": [
    {
     "name": "stdout",
     "output_type": "stream",
     "text": [
      "design_scenario.html\n"
     ]
    }
   ],
   "source": [
    "develop.plot(\n",
    "    notebook=True,\n",
    "    hierarchical_layout=False,\n",
    "    display=False)"
   ]
  }
 ],
 "metadata": {
  "kernelspec": {
   "display_name": "Python 3 (ipykernel)",
   "language": "python",
   "name": "python3"
  },
  "language_info": {
   "codemirror_mode": {
    "name": "ipython",
    "version": 3
   },
   "file_extension": ".py",
   "mimetype": "text/x-python",
   "name": "python",
   "nbconvert_exporter": "python",
   "pygments_lexer": "ipython3",
   "version": "3.10.4"
  }
 },
 "nbformat": 4,
 "nbformat_minor": 1
}