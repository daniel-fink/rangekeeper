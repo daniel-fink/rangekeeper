{
 "cells": [
  {
   "cell_type": "code",
   "execution_count": 1,
   "id": "a08c2e2d-ad99-4ed6-9832-7b2a98e452df",
   "metadata": {
    "ExecuteTime": {
     "end_time": "2024-03-22T12:22:44.237416Z",
     "start_time": "2024-03-22T12:22:44.228896Z"
    }
   },
   "outputs": [
    {
     "data": {
      "text/html": [
       "\r\n",
       "<div>\r\n",
       "    <div id='dotnet-interactive-this-cell-50901.Microsoft.DotNet.Interactive.Http.HttpPort' style='display: none'>\r\n",
       "        The below script needs to be able to find the current output cell; this is an easy method to get it.\r\n",
       "    </div>\r\n",
       "    <script type='text/javascript'>\r\n",
       "async function probeAddresses(probingAddresses) {\r\n",
       "    function timeout(ms, promise) {\r\n",
       "        return new Promise(function (resolve, reject) {\r\n",
       "            setTimeout(function () {\r\n",
       "                reject(new Error('timeout'))\r\n",
       "            }, ms)\r\n",
       "            promise.then(resolve, reject)\r\n",
       "        })\r\n",
       "    }\r\n",
       "\r\n",
       "    if (Array.isArray(probingAddresses)) {\r\n",
       "        for (let i = 0; i < probingAddresses.length; i++) {\r\n",
       "\r\n",
       "            let rootUrl = probingAddresses[i];\r\n",
       "\r\n",
       "            if (!rootUrl.endsWith('/')) {\r\n",
       "                rootUrl = `${rootUrl}/`;\r\n",
       "            }\r\n",
       "\r\n",
       "            try {\r\n",
       "                let response = await timeout(1000, fetch(`${rootUrl}discovery`, {\r\n",
       "                    method: 'POST',\r\n",
       "                    cache: 'no-cache',\r\n",
       "                    mode: 'cors',\r\n",
       "                    timeout: 1000,\r\n",
       "                    headers: {\r\n",
       "                        'Content-Type': 'text/plain'\r\n",
       "                    },\r\n",
       "                    body: probingAddresses[i]\r\n",
       "                }));\r\n",
       "\r\n",
       "                if (response.status == 200) {\r\n",
       "                    return rootUrl;\r\n",
       "                }\r\n",
       "            }\r\n",
       "            catch (e) { }\r\n",
       "        }\r\n",
       "    }\r\n",
       "}\r\n",
       "\r\n",
       "function loadDotnetInteractiveApi() {\r\n",
       "    probeAddresses([\"http://10.0.0.10:2049/\", \"http://169.254.205.245:2049/\", \"http://100.64.100.6:2049/\", \"http://127.0.0.1:2049/\"])\r\n",
       "        .then((root) => {\r\n",
       "        // use probing to find host url and api resources\r\n",
       "        // load interactive helpers and language services\r\n",
       "        let dotnetInteractiveRequire = require.config({\r\n",
       "        context: '50901.Microsoft.DotNet.Interactive.Http.HttpPort',\r\n",
       "                paths:\r\n",
       "            {\r\n",
       "                'dotnet-interactive': `${root}resources`\r\n",
       "                }\r\n",
       "        }) || require;\r\n",
       "\r\n",
       "            window.dotnetInteractiveRequire = dotnetInteractiveRequire;\r\n",
       "\r\n",
       "            window.configureRequireFromExtension = function(extensionName, extensionCacheBuster) {\r\n",
       "                let paths = {};\r\n",
       "                paths[extensionName] = `${root}extensions/${extensionName}/resources/`;\r\n",
       "                \r\n",
       "                let internalRequire = require.config({\r\n",
       "                    context: extensionCacheBuster,\r\n",
       "                    paths: paths,\r\n",
       "                    urlArgs: `cacheBuster=${extensionCacheBuster}`\r\n",
       "                    }) || require;\r\n",
       "\r\n",
       "                return internalRequire\r\n",
       "            };\r\n",
       "        \r\n",
       "            dotnetInteractiveRequire([\r\n",
       "                    'dotnet-interactive/dotnet-interactive'\r\n",
       "                ],\r\n",
       "                function (dotnet) {\r\n",
       "                    dotnet.init(window);\r\n",
       "                },\r\n",
       "                function (error) {\r\n",
       "                    console.log(error);\r\n",
       "                }\r\n",
       "            );\r\n",
       "        })\r\n",
       "        .catch(error => {console.log(error);});\r\n",
       "    }\r\n",
       "\r\n",
       "// ensure `require` is available globally\r\n",
       "if ((typeof(require) !==  typeof(Function)) || (typeof(require.config) !== typeof(Function))) {\r\n",
       "    let require_script = document.createElement('script');\r\n",
       "    require_script.setAttribute('src', 'https://cdnjs.cloudflare.com/ajax/libs/require.js/2.3.6/require.min.js');\r\n",
       "    require_script.setAttribute('type', 'text/javascript');\r\n",
       "    \r\n",
       "    \r\n",
       "    require_script.onload = function() {\r\n",
       "        loadDotnetInteractiveApi();\r\n",
       "    };\r\n",
       "\r\n",
       "    document.getElementsByTagName('head')[0].appendChild(require_script);\r\n",
       "}\r\n",
       "else {\r\n",
       "    loadDotnetInteractiveApi();\r\n",
       "}\r\n",
       "\r\n",
       "    </script>\r\n",
       "</div>"
      ]
     },
     "metadata": {},
     "output_type": "display_data"
    }
   ],
   "source": [
    "var foo = 2;"
   ]
  },
  {
   "cell_type": "code",
   "execution_count": 2,
   "id": "7fa2aa06-a63b-4e13-8547-381e87073771",
   "metadata": {
    "ExecuteTime": {
     "end_time": "2024-03-22T12:22:44.245361Z",
     "start_time": "2024-03-22T12:22:44.238036Z"
    }
   },
   "outputs": [
    {
     "data": {
      "text/html": [
       "<div class=\"dni-plaintext\"><pre>2</pre></div><style>\r\n",
       ".dni-code-hint {\r\n",
       "    font-style: italic;\r\n",
       "    overflow: hidden;\r\n",
       "    white-space: nowrap;\r\n",
       "}\r\n",
       ".dni-treeview {\r\n",
       "    white-space: nowrap;\r\n",
       "}\r\n",
       ".dni-treeview td {\r\n",
       "    vertical-align: top;\r\n",
       "    text-align: start;\r\n",
       "}\r\n",
       "details.dni-treeview {\r\n",
       "    padding-left: 1em;\r\n",
       "}\r\n",
       "table td {\r\n",
       "    text-align: start;\r\n",
       "}\r\n",
       "table tr { \r\n",
       "    vertical-align: top; \r\n",
       "    margin: 0em 0px;\r\n",
       "}\r\n",
       "table tr td pre \r\n",
       "{ \r\n",
       "    vertical-align: top !important; \r\n",
       "    margin: 0em 0px !important;\r\n",
       "} \r\n",
       "table th {\r\n",
       "    text-align: start;\r\n",
       "}\r\n",
       "</style>"
      ]
     },
     "execution_count": 2,
     "metadata": {},
     "output_type": "execute_result"
    }
   ],
   "source": [
    "foo"
   ]
  },
  {
   "cell_type": "code",
   "execution_count": 3,
   "id": "30ce8b5d-b709-4794-9924-8968b7d84005",
   "metadata": {
    "ExecuteTime": {
     "start_time": "2024-03-22T12:22:44.245850Z"
    },
    "is_executing": true
   },
   "outputs": [
    {
     "data": {
      "text/html": [
       "<div><div></div><div></div><div><strong>Installed Packages</strong><ul><li><span>Hypar.Elements, 2.2.0-alpha.25</span></li></ul></div></div>"
      ]
     },
     "metadata": {},
     "output_type": "display_data"
    },
    {
     "data": {
      "text/plain": [
       "Loading extension script from `/Users/daniel/.nuget/packages/hypar.elements/2.2.0-alpha.25/interactive-extensions/dotnet/extension.dib`"
      ]
     },
     "metadata": {},
     "output_type": "display_data"
    },
    {
     "data": {
      "text/markdown": [
       "This script is packaged with the NuGet package, and only\n",
       "called when the package is imported in a dotnet interactive\n",
       "notebook via:\n",
       "\n",
       "`#r \"nuget: Hypar.Elements\"`"
      ]
     },
     "metadata": {},
     "output_type": "display_data"
    },
    {
     "data": {
      "text/markdown": [
       "Add `return model;` at the end of a cell or call `DisplayModel(model, width, height);` to display an Elements model. You can also return individual elements, curves, profiles, or lists of elements, curves, or profiles to automatically populate a model."
      ]
     },
     "metadata": {},
     "output_type": "display_data"
    }
   ],
   "source": [
    "#r \"nuget: Hypar.Elements, *-*\""
   ]
  },
  {
   "cell_type": "code",
   "execution_count": 4,
   "id": "9702d57cc4d5f84a",
   "metadata": {
    "collapsed": false,
    "is_executing": true
   },
   "outputs": [
    {
     "data": {
      "text/html": [
       "\n",
       "<div id=\"main_0fe2ede5-a154-498a-a26c-17584942c653\" style=\"height:600;width:400px;\"></div>\n",
       "</div>\n",
       "<script type=\"module\">\n",
       "import * as THREE from 'https://unpkg.com/three@0.126.0/build/three.module.js';\n",
       "import { GLTFLoader } from 'https://unpkg.com/three@0.126.0/examples/jsm/loaders/GLTFLoader.js';\n",
       "import { OrbitControls } from 'https://unpkg.com/three@0.126.0/examples/jsm/controls/OrbitControls.js';\n",
       "const loader = new GLTFLoader();\n",
       "const scene = new THREE.Scene();\n",
       "\n",
       "let loaderScene = new THREE.Scene();\n",
       "scene.add(loaderScene);\n",
       "\n",
       "const width = 600;\n",
       "const height = 400;\n",
       "const camera = new THREE.PerspectiveCamera(75, width / height, 0.1, 1000);\n",
       "// TODO: Configure this lighting to match what we do on Hypar's web UI.\n",
       "const light = new THREE.AmbientLight(0xaaaaaa);\n",
       "scene.add(light);\n",
       "\n",
       "const directionalLight = new THREE.DirectionalLight(0xaaaaaa, 0.5);\n",
       "scene.add(directionalLight);\n",
       "\n",
       "\n",
       "const renderer = new THREE.WebGLRenderer({ alpha: true, antialias: true });\n",
       "renderer.setSize(width, height);\n",
       "document.getElementById('main_0fe2ede5-a154-498a-a26c-17584942c653').appendChild(renderer.domElement);\n",
       "\n",
       "camera.position.z = 5;\n",
       "\n",
       "const controls = new OrbitControls(camera, renderer.domElement);\n",
       "\n",
       "function base64ToArrayBuffer (base64) {\n",
       "    var binary_string = window.atob(base64);\n",
       "    var len = binary_string.length;\n",
       "    var bytes = new Uint8Array(len);\n",
       "    for (var i = 0; i < len; i++) {\n",
       "        bytes[i] = binary_string.charCodeAt(i);\n",
       "    }\n",
       "    return bytes.buffer;\n",
       "}\n",
       "// adapted from looeee's solution https://discourse.threejs.org/t/camera-zoom-to-fit-object/936/3\n",
       "const fitCameraToObject = function (scene, offset = 1.25) {\n",
       "    offset = offset || 1.25;\n",
       "    let boundingBox = null;\n",
       "    scene.traverseVisible((child) => {\n",
       "        const objectBox = new THREE.Box3().setFromObject(child)\n",
       "        if (boundingBox === null) {\n",
       "            boundingBox = objectBox\n",
       "        } else {\n",
       "            boundingBox = boundingBox.union(objectBox)\n",
       "        }\n",
       "    })\n",
       "    const center = boundingBox.getCenter(new THREE.Vector3());\n",
       "    const size = boundingBox.getSize(new THREE.Vector3());\n",
       "\n",
       "    // get the max size of the bounding box (fits to width OR height as needed )\n",
       "    const maxDim = Math.max(size.x, size.y, size.z);\n",
       "    const fov = camera.fov * (Math.PI / 180);\n",
       "    let cameraZ = Math.abs(maxDim / 4 * Math.tan(fov * 2));\n",
       "    // if our model is nearly flat, view it from the top, otherwise view it from a corner.\n",
       "    if (size.y < 0.001) {\n",
       "        // position the camera looking straight down at the object.\n",
       "        camera.position.copy(center.clone().add(new THREE.Vector3(0, maxDim * offset, 0)))\n",
       "    } else {\n",
       "        camera.position.copy(center.clone().add(size.clone().multiplyScalar(offset)))\n",
       "    }\n",
       "\n",
       "    const minZ = boundingBox.min.z;\n",
       "    const cameraToFarEdge = (minZ < 0) ? -minZ + cameraZ : cameraZ - minZ;\n",
       "\n",
       "    camera.far = cameraToFarEdge * 10;\n",
       "    camera.updateProjectionMatrix();\n",
       "\n",
       "    if (controls) {\n",
       "        // set camera to rotate around center of loaded object\n",
       "        controls.target = center;\n",
       "        controls.saveState();\n",
       "\n",
       "    } else {\n",
       "        camera.lookAt(center)\n",
       "    }\n",
       "}\n",
       "\n",
       "function animate () {\n",
       "    requestAnimationFrame(animate);\n",
       "    controls.update();\n",
       "    renderer.render(scene, camera);\n",
       "};\n",
       "\n",
       "const modelBytes = \"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\";\n",
       "\n",
       "const gltf = loader.parse(base64ToArrayBuffer(modelBytes), null, (glb) => {\n",
       "    loaderScene.add(glb.scene);\n",
       "    fitCameraToObject(scene);\n",
       "});\n",
       "\n",
       "\n",
       "animate();\n",
       "\n",
       "</script>\n"
      ]
     },
     "execution_count": 4,
     "metadata": {},
     "output_type": "execute_result"
    }
   ],
   "source": [
    "var model = new Model();\n",
    "var width = 10;\n",
    "var length = 19;\n",
    "var height = 20;\n",
    "var footprint = Polygon.Rectangle(width, length);\n",
    "// Masses can be used for building masses\n",
    "var mass = new Mass(footprint, height);\n",
    "model.AddElement(mass);\n",
    "return model;"
   ]
  },
  {
   "cell_type": "code",
   "id": "2229824524cea21e",
   "metadata": {
    "collapsed": false,
    "is_executing": true
   },
   "outputs": [],
   "source": []
  }
 ],
 "metadata": {
  "kernelspec": {
   "display_name": ".NET (C#)",
   "language": "C#",
   "name": ".net-csharp"
  },
  "language_info": {
   "file_extension": ".cs",
   "mimetype": "text/x-csharp",
   "name": "C#",
   "pygments_lexer": "csharp",
   "version": "12.0"
  }
 },
 "nbformat": 4,
 "nbformat_minor": 5
}