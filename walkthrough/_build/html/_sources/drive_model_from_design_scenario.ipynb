{
 "cells": [
  {
   "cell_type": "markdown",
   "metadata": {},
   "source": [
    "# Driving a Financial Valuation from a Design Scenario"
   ]
  },
  {
   "cell_type": "markdown",
   "metadata": {},
   "source": [
    "```{warning}\n",
    "The following is a work in progress. More content will be added as produced.\n",
    "```"
   ]
  },
  {
   "cell_type": "markdown",
   "metadata": {
    "collapsed": false
   },
   "source": [
    "As seen in\n",
    "[Loading a Design Scenario](../load_design_scenario.ipynb),\n",
    "a design scenario's object model (a\n",
    "[knowledge graph](https://en.wikipedia.org/wiki/Knowledge_graph) including all\n",
    "its spatial and semantic relationships) can be loaded via Speckle from any of\n",
    "Speckle's supported [connectors](https://speckle.guide/user/connectors.html), so\n",
    "long as those objects (`Entity`s and `Relationship`s) have been assigned.\n",
    "\n",
    "In this notebook, we will demonstrate how to use the object model (graph) to\n",
    "drive a financial valuation of the design scenario. This is done by calculating\n",
    "cash flows per `Entity`, and then using the `Relationship`s to aggregate those\n",
    "`Flow`s into appropriate `Stream`s."
   ]
  },
  {
   "cell_type": "markdown",
   "metadata": {
    "collapsed": false
   },
   "source": [
    "## Load the Design Scenario\n",
    "We will use the same design scenario as in the previous notebook."
   ]
  },
  {
   "cell_type": "code",
   "execution_count": 1,
   "metadata": {
    "collapsed": false,
    "ExecuteTime": {
     "end_time": "2023-06-29T03:37:58.781809Z",
     "start_time": "2023-06-29T03:37:57.080308Z"
    }
   },
   "outputs": [],
   "source": [
    "import os\n",
    "\n",
    "import locale\n",
    "import pandas as pd\n",
    "import networkx as nx\n",
    "from IPython.display import IFrame\n",
    "import plotly.subplots\n",
    "import plotly.offline as py\n",
    "\n",
    "import rangekeeper as rk"
   ]
  },
  {
   "cell_type": "code",
   "execution_count": 2,
   "metadata": {
    "collapsed": false,
    "ExecuteTime": {
     "end_time": "2023-06-29T03:38:02.095786Z",
     "start_time": "2023-06-29T03:37:58.777039Z"
    }
   },
   "outputs": [
    {
     "name": "stdout",
     "output_type": "stream",
     "text": [
      "\n",
      " SpeckleClient( server: https://speckle.xyz, authenticated: True )\n"
     ]
    },
    {
     "data": {
      "text/plain": "<IPython.lib.display.IFrame at 0x103e1f730>",
      "text/html": "\n        <iframe\n            width=\"100%\"\n            height=\"800\"\n            src=\"https://speckle.xyz/embed?stream=f5e306e3fa&commit=ad17a888c3\"\n            frameborder=\"0\"\n            allowfullscreen\n            \n        ></iframe>\n        "
     },
     "execution_count": 2,
     "metadata": {},
     "output_type": "execute_result"
    }
   ],
   "source": [
    "speckle = rk.api.Speckle(\n",
    "    host=\"speckle.xyz\",\n",
    "    token=os.getenv('SPECKLE_TOKEN'))\n",
    "stream_id = \"f5e306e3fa\"\n",
    "commit_id = speckle.get_latest_commit_id(stream_id)\n",
    "IFrame(\"https://speckle.xyz/embed?stream={0}&commit={1}\".format(stream_id, commit_id), width='100%', height=800)"
   ]
  },
  {
   "cell_type": "markdown",
   "metadata": {
    "collapsed": false
   },
   "source": [
    "### Inspect the Model Graph"
   ]
  },
  {
   "cell_type": "code",
   "execution_count": 3,
   "metadata": {
    "collapsed": false,
    "ExecuteTime": {
     "end_time": "2023-06-29T03:38:04.755068Z",
     "start_time": "2023-06-29T03:38:02.099466Z"
    }
   },
   "outputs": [
    {
     "name": "stdout",
     "output_type": "stream",
     "text": [
      "Warning: Duplicate Entity 29b746f5-42fe-4321-9a4a-8c65c9f0410c [utilities] found.\n",
      "Existing Entity is an Assembly while new Entity is not. Keeping Assembly.\n",
      "Warning: Duplicate Entity 29b746f5-42fe-4321-9a4a-8c65c9f0410c [utilities] found.\n",
      "Existing Entity is an Assembly while new Entity is not. Keeping Assembly.\n",
      "Warning: Duplicate Entity 29b746f5-42fe-4321-9a4a-8c65c9f0410c [utilities] found.\n",
      "Existing Entity is an Assembly while new Entity is not. Keeping Assembly.\n",
      "Warning: Duplicate Entity d188b4bb-27a3-4f63-9469-e9705c60a7a5 [plinthparking] found.\n",
      "Existing Entity is an Assembly while new Entity is not. Keeping Assembly.\n"
     ]
    }
   ],
   "source": [
    "model = speckle.get_commit(stream_id=stream_id)\n",
    "parsed = rk.api.Speckle.parse(base=model['@scenario'])\n",
    "scenario = rk.api.Speckle.to_rk(\n",
    "    bases=list(parsed.values()),\n",
    "    name='design_scenario',\n",
    "    type='scenario')"
   ]
  },
  {
   "cell_type": "code",
   "execution_count": 4,
   "metadata": {
    "collapsed": false,
    "ExecuteTime": {
     "end_time": "2023-06-29T03:38:04.833571Z",
     "start_time": "2023-06-29T03:38:04.755285Z"
    }
   },
   "outputs": [
    {
     "name": "stdout",
     "output_type": "stream",
     "text": [
      "assets/design_scenario.html\n"
     ]
    },
    {
     "data": {
      "text/plain": "<IPython.lib.display.IFrame at 0x2ad05b5e0>",
      "text/html": "\n        <iframe\n            width=\"100%\"\n            height=\"800\"\n            src=\"./design_scenario.html\"\n            frameborder=\"0\"\n            allowfullscreen\n            \n        ></iframe>\n        "
     },
     "execution_count": 4,
     "metadata": {},
     "output_type": "execute_result"
    }
   ],
   "source": [
    "scenario.plot(name='assets/design_scenario')\n",
    "IFrame(src=\"./design_scenario.html\", width='100%', height=800)"
   ]
  },
  {
   "cell_type": "markdown",
   "metadata": {
    "collapsed": false
   },
   "source": [
    "## Assigning and Aggregating `Flow`s per `Entity`\n",
    "Now we can organise the two main categories of cash flows (costs and revenues)\n",
    "according to the `Relationship` types in the design scenario.\n",
    "\n",
    "In this example, revenue-based cash flows are generated by `Entity`s that have a\n",
    "measureable floor area -- in this case, anything that has a 'gfa' property.\n",
    "\n",
    "We can query the graph to find them:"
   ]
  },
  {
   "cell_type": "markdown",
   "metadata": {
    "collapsed": false
   },
   "source": [
    "### Revenue-producing Entities\n",
    "Revenue-producing `Entity`s will be aggregated by their spatial containment. So\n",
    "we can first slice our graph to a tree of nodes that have \"contains\"\n",
    "relationships:"
   ]
  },
  {
   "cell_type": "code",
   "execution_count": 5,
   "metadata": {
    "collapsed": false,
    "ExecuteTime": {
     "end_time": "2023-06-29T03:38:04.839437Z",
     "start_time": "2023-06-29T03:38:04.833790Z"
    }
   },
   "outputs": [],
   "source": [
    "spatial_containment = scenario.filter_by_type(\n",
    "    relationship_type='spatiallyContains',\n",
    "    name='spatial_containment')"
   ]
  },
  {
   "cell_type": "markdown",
   "metadata": {
    "collapsed": false
   },
   "source": [
    "Note: we anticipate that the spatial decomposition is completely hierarchical\n",
    "(i.e., no spaces overlap, which means no spaces have multiple parents). We can\n",
    "check this by testing whether the containment graph is a \"tree\" (or\n",
    "\"arborescence\": see [NetworkX Tree](https://networkx.org/documentation/stable/reference/algorithms/tree.html#tree))."
   ]
  },
  {
   "cell_type": "code",
   "execution_count": 6,
   "metadata": {
    "collapsed": false,
    "ExecuteTime": {
     "end_time": "2023-06-29T03:38:04.845473Z",
     "start_time": "2023-06-29T03:38:04.838458Z"
    }
   },
   "outputs": [
    {
     "data": {
      "text/plain": "True"
     },
     "execution_count": 6,
     "metadata": {},
     "output_type": "execute_result"
    }
   ],
   "source": [
    "nx.is_arborescence(spatial_containment.graph)"
   ]
  },
  {
   "cell_type": "code",
   "execution_count": 7,
   "metadata": {
    "collapsed": false,
    "ExecuteTime": {
     "end_time": "2023-06-29T03:38:04.917890Z",
     "start_time": "2023-06-29T03:38:04.841585Z"
    }
   },
   "outputs": [
    {
     "name": "stdout",
     "output_type": "stream",
     "text": [
      "assets/spatial_containment.html\n"
     ]
    },
    {
     "data": {
      "text/plain": "<IPython.lib.display.IFrame at 0x2a9c04eb0>",
      "text/html": "\n        <iframe\n            width=\"100%\"\n            height=\"800\"\n            src=\"./spatial_containment.html\"\n            frameborder=\"0\"\n            allowfullscreen\n            \n        ></iframe>\n        "
     },
     "execution_count": 7,
     "metadata": {},
     "output_type": "execute_result"
    }
   ],
   "source": [
    "# Plot the spatial containment graph\n",
    "spatial_containment.plot(name='assets/spatial_containment')\n",
    "IFrame(src=\"./spatial_containment.html\", width='100%', height=800)"
   ]
  },
  {
   "cell_type": "markdown",
   "metadata": {
    "collapsed": false
   },
   "source": [
    "#### Simple Aggregation\n",
    "Now that we have verified this, we can continue with a simple aggregation. We\n",
    "wish to aggregate up through our hierarchy all `Entity`s that have a Gross Floor\n",
    "Area ('gfa') property. *Rangekeeper* provides defaults for the `Entity.aggregate()`\n",
    "method for this, whereby a named property of any `Entity` is summed (numerical\n",
    "addition) into its parent `Entity` against a specified label:"
   ]
  },
  {
   "cell_type": "code",
   "execution_count": 8,
   "metadata": {
    "collapsed": false,
    "ExecuteTime": {
     "end_time": "2023-06-29T03:38:04.923587Z",
     "start_time": "2023-06-29T03:38:04.921492Z"
    }
   },
   "outputs": [],
   "source": [
    "spatial_containment.aggregate(\n",
    "    property='gfa',\n",
    "    label='subtotal_gfa')"
   ]
  },
  {
   "cell_type": "markdown",
   "metadata": {
    "collapsed": false
   },
   "source": [
    "We can tabulate this by converting the graph to a pandas `DataFrame`. Note that\n",
    "the graph nodes (as witnessed in the DataFrame's index and 'parent' column)\n",
    "are GUID strings. Each of these have corresponding `Entity` objects, organised\n",
    "via NetworkX's Node Attributes. See [NetworkX Tutorial](https://networkx.org/documentation/stable/tutorial.html#what-to-use-as-nodes-and-edges)"
   ]
  },
  {
   "cell_type": "code",
   "execution_count": 9,
   "metadata": {
    "collapsed": false,
    "tags": [
     "output_scroll"
    ],
    "ExecuteTime": {
     "end_time": "2023-06-29T03:38:04.975822Z",
     "start_time": "2023-06-29T03:38:04.932090Z"
    }
   },
   "outputs": [
    {
     "data": {
      "text/plain": "                                                            name         type  \\\na39ac4c3-094b-4d92-b71d-46c5a857f407                 development  development   \n981c0743-6a4c-4abd-8a97-2c937e48b897                   buildingB     building   \ne3149444-dfbc-41d0-9eb1-f08785a62da1                      plinth     building   \n529ce7bc-addf-4bad-8ec5-cbecbd73d4f1                   buildingA     building   \n29b746f5-42fe-4321-9a4a-8c65c9f0410c                   utilities    utilities   \n3fc29315-81e7-45a9-8241-62938e904d73        buildingBresidential        space   \nf508623d-1d81-4082-85ee-5b1e32c7bb10            buildingBparking        space   \n6ac8ab6d-a730-44b8-97aa-a5db09b7fbd0             buildingBretail        space   \n71fd4551-8e65-4e7a-8e2a-9d18e69146b0              buildingBcores    utilities   \nc11f68da-0544-487b-9cb9-8a3a3a98a9b8  buildingBresidentialFloor0        floor   \ncfc3edf5-1e7d-4499-b25f-ee86ed013516  buildingBresidentialFloor1        floor   \n3e158dd9-aa5d-47bb-bc13-4b3e6d328fe1  buildingBresidentialFloor2        floor   \nb8609a1e-b9f8-44a0-ab98-468ff247d753  buildingBresidentialFloor3        floor   \nf68d2f9b-13c5-42e2-9bca-1826f7eff481  buildingBresidentialFloor4        floor   \nec086fbc-7b21-4958-b456-9bce6a883c98  buildingBresidentialFloor5        floor   \n9ecaf92a-a90e-4572-a426-3ed392e0c28a  buildingBresidentialFloor6        floor   \n9a884f88-0627-4eb7-b1ec-80ea39b0a25b  buildingBresidentialFloor0        floor   \nd7dd5233-b1c3-451f-ae90-5a80fed205bd      buildingBparkingFloor0        floor   \n4acebff3-f17b-44fb-ba29-6bc02053b329       buildingBretailFloor0        floor   \nd188b4bb-27a3-4f63-9469-e9705c60a7a5               plinthparking        space   \n8d9f92cf-5613-4de4-b99b-7681aa76b4cd                 plinthplant    utilities   \ncf287254-7d66-4a4b-8a56-f247f51b41db        plinthparkingFloor-2        floor   \n926a3e9d-0601-4f96-bd71-317d928194f2        plinthparkingFloor-1        floor   \n987c5866-03b0-4948-962e-4870684f481b            buildingAparking        space   \n7dc6bf46-805f-4990-bcd2-d0fe1de4dd47             buildingAretail        space   \n549a988b-c3bc-42d4-a6a3-a8dc694fa770        buildingAresidential        space   \n3cf2bf71-61fa-4a61-b163-6265c299376d             buildingAretail        space   \nbfc1c272-665f-432d-a7b3-a4c955556e7f             buildingAoffice        space   \n55963d84-702d-423d-be05-c8bb6e88f517              buildingAcores    utilities   \n01282060-ad91-44be-b0d3-ff43e340e8bd      buildingAparkingFloor0        floor   \nf9e9ae1c-00f3-4966-9682-281ef2a86899       buildingAretailFloor0        floor   \ne7b3aec0-5003-448b-a0e3-4c2dbb605f85  buildingAresidentialFloor0        floor   \n9c13f0be-9991-4d9f-b41b-a0e962bdeb89  buildingAresidentialFloor0        floor   \ne88ff464-a453-45bb-93d8-5f983d417912  buildingAresidentialFloor1        floor   \n8ce80d06-69f6-404a-b0fd-a728eb0dfed6  buildingAresidentialFloor2        floor   \nbb0a0d86-31c1-4780-b81f-8d0e5a5d83be  buildingAresidentialFloor3        floor   \n32080c6a-1f31-446f-a3d9-59759ac00ff4       buildingAretailFloor0        floor   \na1fc1a28-1133-47f2-a8d9-58da817946c2       buildingAofficeFloor1        floor   \n0296748a-317a-47eb-bf94-e5dbbd78afc1       buildingAofficeFloor2        floor   \n74ed0525-d8f9-4f36-b20f-1b8a2baf60f2       buildingAofficeFloor3        floor   \nae0fb830-76df-4d91-82ed-4ed755fdec4b       buildingAofficeFloor4        floor   \nc1b696b1-cae0-49ed-a8ba-0e795438d3d2       buildingAofficeFloor5        floor   \nadd95b48-71c3-40e7-9f35-7db604f3f9f0       buildingAofficeFloor6        floor   \nd8443e6d-9080-4154-89e3-29f0e98ed90a       buildingAofficeFloor7        floor   \nf8945b4f-6f59-4c5a-a83f-462a97f2dcc4       buildingAofficeFloor8        floor   \nb548b184-1643-4c23-9b14-9025aeda59c3       buildingAofficeFloor9        floor   \ne8048367-edd2-4a61-ae0f-fd878688c910      buildingAofficeFloor10        floor   \n\n                                              gfa  subtotal_gfa  \\\na39ac4c3-094b-4d92-b71d-46c5a857f407          NaN  45816.419959   \n981c0743-6a4c-4abd-8a97-2c937e48b897          NaN  13436.884829   \ne3149444-dfbc-41d0-9eb1-f08785a62da1          NaN  12773.744211   \n529ce7bc-addf-4bad-8ec5-cbecbd73d4f1          NaN  19605.790919   \n29b746f5-42fe-4321-9a4a-8c65c9f0410c          NaN      0.000000   \n3fc29315-81e7-45a9-8241-62938e904d73          NaN  11442.736624   \nf508623d-1d81-4082-85ee-5b1e32c7bb10          NaN   1178.164752   \n6ac8ab6d-a730-44b8-97aa-a5db09b7fbd0          NaN    815.983454   \n71fd4551-8e65-4e7a-8e2a-9d18e69146b0          NaN      0.000000   \nc11f68da-0544-487b-9cb9-8a3a3a98a9b8   765.941631    765.941631   \ncfc3edf5-1e7d-4499-b25f-ee86ed013516  2361.056035   2361.056035   \n3e158dd9-aa5d-47bb-bc13-4b3e6d328fe1  2361.056035   2361.056035   \nb8609a1e-b9f8-44a0-ab98-468ff247d753  2015.956035   2015.956035   \nf68d2f9b-13c5-42e2-9bca-1826f7eff481  2015.956035   2015.956035   \nec086fbc-7b21-4958-b456-9bce6a883c98   875.014900    875.014900   \n9ecaf92a-a90e-4572-a426-3ed392e0c28a   875.014900    875.014900   \n9a884f88-0627-4eb7-b1ec-80ea39b0a25b   172.741054    172.741054   \nd7dd5233-b1c3-451f-ae90-5a80fed205bd  1178.164752   1178.164752   \n4acebff3-f17b-44fb-ba29-6bc02053b329   815.983454    815.983454   \nd188b4bb-27a3-4f63-9469-e9705c60a7a5          NaN  12773.744211   \n8d9f92cf-5613-4de4-b99b-7681aa76b4cd          NaN      0.000000   \ncf287254-7d66-4a4b-8a56-f247f51b41db  6386.872106   6386.872106   \n926a3e9d-0601-4f96-bd71-317d928194f2  6386.872106   6386.872106   \n987c5866-03b0-4948-962e-4870684f481b          NaN    960.262087   \n7dc6bf46-805f-4990-bcd2-d0fe1de4dd47          NaN    534.530238   \n549a988b-c3bc-42d4-a6a3-a8dc694fa770          NaN   2296.143091   \n3cf2bf71-61fa-4a61-b163-6265c299376d          NaN   1123.715326   \nbfc1c272-665f-432d-a7b3-a4c955556e7f          NaN  14691.140177   \n55963d84-702d-423d-be05-c8bb6e88f517          NaN      0.000000   \n01282060-ad91-44be-b0d3-ff43e340e8bd   960.262087    960.262087   \nf9e9ae1c-00f3-4966-9682-281ef2a86899   534.530238    534.530238   \ne7b3aec0-5003-448b-a0e3-4c2dbb605f85    57.900000     57.900000   \n9c13f0be-9991-4d9f-b41b-a0e962bdeb89    43.800000     43.800000   \ne88ff464-a453-45bb-93d8-5f983d417912   731.481030    731.481030   \n8ce80d06-69f6-404a-b0fd-a728eb0dfed6   731.481030    731.481030   \nbb0a0d86-31c1-4780-b81f-8d0e5a5d83be   731.481030    731.481030   \n32080c6a-1f31-446f-a3d9-59759ac00ff4  1123.715326   1123.715326   \na1fc1a28-1133-47f2-a8d9-58da817946c2  1650.842103   1650.842103   \n0296748a-317a-47eb-bf94-e5dbbd78afc1  1448.922008   1448.922008   \n74ed0525-d8f9-4f36-b20f-1b8a2baf60f2  1448.922008   1448.922008   \nae0fb830-76df-4d91-82ed-4ed755fdec4b  1448.922008   1448.922008   \nc1b696b1-cae0-49ed-a8ba-0e795438d3d2  1448.922008   1448.922008   \nadd95b48-71c3-40e7-9f35-7db604f3f9f0  1448.922008   1448.922008   \nd8443e6d-9080-4154-89e3-29f0e98ed90a  1448.922008   1448.922008   \nf8945b4f-6f59-4c5a-a83f-462a97f2dcc4  1448.922008   1448.922008   \nb548b184-1643-4c23-9b14-9025aeda59c3  1448.922008   1448.922008   \ne8048367-edd2-4a61-ae0f-fd878688c910  1448.922008   1448.922008   \n\n                                                                    parent  \\\na39ac4c3-094b-4d92-b71d-46c5a857f407                                  None   \n981c0743-6a4c-4abd-8a97-2c937e48b897  a39ac4c3-094b-4d92-b71d-46c5a857f407   \ne3149444-dfbc-41d0-9eb1-f08785a62da1  a39ac4c3-094b-4d92-b71d-46c5a857f407   \n529ce7bc-addf-4bad-8ec5-cbecbd73d4f1  a39ac4c3-094b-4d92-b71d-46c5a857f407   \n29b746f5-42fe-4321-9a4a-8c65c9f0410c  a39ac4c3-094b-4d92-b71d-46c5a857f407   \n3fc29315-81e7-45a9-8241-62938e904d73  981c0743-6a4c-4abd-8a97-2c937e48b897   \nf508623d-1d81-4082-85ee-5b1e32c7bb10  981c0743-6a4c-4abd-8a97-2c937e48b897   \n6ac8ab6d-a730-44b8-97aa-a5db09b7fbd0  981c0743-6a4c-4abd-8a97-2c937e48b897   \n71fd4551-8e65-4e7a-8e2a-9d18e69146b0  981c0743-6a4c-4abd-8a97-2c937e48b897   \nc11f68da-0544-487b-9cb9-8a3a3a98a9b8  3fc29315-81e7-45a9-8241-62938e904d73   \ncfc3edf5-1e7d-4499-b25f-ee86ed013516  3fc29315-81e7-45a9-8241-62938e904d73   \n3e158dd9-aa5d-47bb-bc13-4b3e6d328fe1  3fc29315-81e7-45a9-8241-62938e904d73   \nb8609a1e-b9f8-44a0-ab98-468ff247d753  3fc29315-81e7-45a9-8241-62938e904d73   \nf68d2f9b-13c5-42e2-9bca-1826f7eff481  3fc29315-81e7-45a9-8241-62938e904d73   \nec086fbc-7b21-4958-b456-9bce6a883c98  3fc29315-81e7-45a9-8241-62938e904d73   \n9ecaf92a-a90e-4572-a426-3ed392e0c28a  3fc29315-81e7-45a9-8241-62938e904d73   \n9a884f88-0627-4eb7-b1ec-80ea39b0a25b  3fc29315-81e7-45a9-8241-62938e904d73   \nd7dd5233-b1c3-451f-ae90-5a80fed205bd  f508623d-1d81-4082-85ee-5b1e32c7bb10   \n4acebff3-f17b-44fb-ba29-6bc02053b329  6ac8ab6d-a730-44b8-97aa-a5db09b7fbd0   \nd188b4bb-27a3-4f63-9469-e9705c60a7a5  e3149444-dfbc-41d0-9eb1-f08785a62da1   \n8d9f92cf-5613-4de4-b99b-7681aa76b4cd  e3149444-dfbc-41d0-9eb1-f08785a62da1   \ncf287254-7d66-4a4b-8a56-f247f51b41db  d188b4bb-27a3-4f63-9469-e9705c60a7a5   \n926a3e9d-0601-4f96-bd71-317d928194f2  d188b4bb-27a3-4f63-9469-e9705c60a7a5   \n987c5866-03b0-4948-962e-4870684f481b  529ce7bc-addf-4bad-8ec5-cbecbd73d4f1   \n7dc6bf46-805f-4990-bcd2-d0fe1de4dd47  529ce7bc-addf-4bad-8ec5-cbecbd73d4f1   \n549a988b-c3bc-42d4-a6a3-a8dc694fa770  529ce7bc-addf-4bad-8ec5-cbecbd73d4f1   \n3cf2bf71-61fa-4a61-b163-6265c299376d  529ce7bc-addf-4bad-8ec5-cbecbd73d4f1   \nbfc1c272-665f-432d-a7b3-a4c955556e7f  529ce7bc-addf-4bad-8ec5-cbecbd73d4f1   \n55963d84-702d-423d-be05-c8bb6e88f517  529ce7bc-addf-4bad-8ec5-cbecbd73d4f1   \n01282060-ad91-44be-b0d3-ff43e340e8bd  987c5866-03b0-4948-962e-4870684f481b   \nf9e9ae1c-00f3-4966-9682-281ef2a86899  7dc6bf46-805f-4990-bcd2-d0fe1de4dd47   \ne7b3aec0-5003-448b-a0e3-4c2dbb605f85  549a988b-c3bc-42d4-a6a3-a8dc694fa770   \n9c13f0be-9991-4d9f-b41b-a0e962bdeb89  549a988b-c3bc-42d4-a6a3-a8dc694fa770   \ne88ff464-a453-45bb-93d8-5f983d417912  549a988b-c3bc-42d4-a6a3-a8dc694fa770   \n8ce80d06-69f6-404a-b0fd-a728eb0dfed6  549a988b-c3bc-42d4-a6a3-a8dc694fa770   \nbb0a0d86-31c1-4780-b81f-8d0e5a5d83be  549a988b-c3bc-42d4-a6a3-a8dc694fa770   \n32080c6a-1f31-446f-a3d9-59759ac00ff4  3cf2bf71-61fa-4a61-b163-6265c299376d   \na1fc1a28-1133-47f2-a8d9-58da817946c2  bfc1c272-665f-432d-a7b3-a4c955556e7f   \n0296748a-317a-47eb-bf94-e5dbbd78afc1  bfc1c272-665f-432d-a7b3-a4c955556e7f   \n74ed0525-d8f9-4f36-b20f-1b8a2baf60f2  bfc1c272-665f-432d-a7b3-a4c955556e7f   \nae0fb830-76df-4d91-82ed-4ed755fdec4b  bfc1c272-665f-432d-a7b3-a4c955556e7f   \nc1b696b1-cae0-49ed-a8ba-0e795438d3d2  bfc1c272-665f-432d-a7b3-a4c955556e7f   \nadd95b48-71c3-40e7-9f35-7db604f3f9f0  bfc1c272-665f-432d-a7b3-a4c955556e7f   \nd8443e6d-9080-4154-89e3-29f0e98ed90a  bfc1c272-665f-432d-a7b3-a4c955556e7f   \nf8945b4f-6f59-4c5a-a83f-462a97f2dcc4  bfc1c272-665f-432d-a7b3-a4c955556e7f   \nb548b184-1643-4c23-9b14-9025aeda59c3  bfc1c272-665f-432d-a7b3-a4c955556e7f   \ne8048367-edd2-4a61-ae0f-fd878688c910  bfc1c272-665f-432d-a7b3-a4c955556e7f   \n\n                                              use   ffl  number  \na39ac4c3-094b-4d92-b71d-46c5a857f407          NaN   NaN     NaN  \n981c0743-6a4c-4abd-8a97-2c937e48b897          NaN   NaN     NaN  \ne3149444-dfbc-41d0-9eb1-f08785a62da1          NaN   NaN     NaN  \n529ce7bc-addf-4bad-8ec5-cbecbd73d4f1          NaN   NaN     NaN  \n29b746f5-42fe-4321-9a4a-8c65c9f0410c          NaN   NaN     NaN  \n3fc29315-81e7-45a9-8241-62938e904d73  residential   NaN     NaN  \nf508623d-1d81-4082-85ee-5b1e32c7bb10      parking   NaN     NaN  \n6ac8ab6d-a730-44b8-97aa-a5db09b7fbd0       retail   NaN     NaN  \n71fd4551-8e65-4e7a-8e2a-9d18e69146b0        cores   NaN     NaN  \nc11f68da-0544-487b-9cb9-8a3a3a98a9b8          NaN   0.3     0.0  \ncfc3edf5-1e7d-4499-b25f-ee86ed013516          NaN   5.3     1.0  \n3e158dd9-aa5d-47bb-bc13-4b3e6d328fe1          NaN   8.4     2.0  \nb8609a1e-b9f8-44a0-ab98-468ff247d753          NaN  11.5     3.0  \nf68d2f9b-13c5-42e2-9bca-1826f7eff481          NaN  14.6     4.0  \nec086fbc-7b21-4958-b456-9bce6a883c98          NaN  17.7     5.0  \n9ecaf92a-a90e-4572-a426-3ed392e0c28a          NaN  20.8     6.0  \n9a884f88-0627-4eb7-b1ec-80ea39b0a25b          NaN   0.3     0.0  \nd7dd5233-b1c3-451f-ae90-5a80fed205bd          NaN   0.3     0.0  \n4acebff3-f17b-44fb-ba29-6bc02053b329          NaN   0.3     0.0  \nd188b4bb-27a3-4f63-9469-e9705c60a7a5      parking   NaN     NaN  \n8d9f92cf-5613-4de4-b99b-7681aa76b4cd        plant   NaN     NaN  \ncf287254-7d66-4a4b-8a56-f247f51b41db          NaN  -5.9    -2.0  \n926a3e9d-0601-4f96-bd71-317d928194f2          NaN  -2.8    -1.0  \n987c5866-03b0-4948-962e-4870684f481b      parking   NaN     NaN  \n7dc6bf46-805f-4990-bcd2-d0fe1de4dd47       retail   NaN     NaN  \n549a988b-c3bc-42d4-a6a3-a8dc694fa770  residential   NaN     NaN  \n3cf2bf71-61fa-4a61-b163-6265c299376d       retail   NaN     NaN  \nbfc1c272-665f-432d-a7b3-a4c955556e7f       office   NaN     NaN  \n55963d84-702d-423d-be05-c8bb6e88f517        cores   NaN     NaN  \n01282060-ad91-44be-b0d3-ff43e340e8bd          NaN   0.3     0.0  \nf9e9ae1c-00f3-4966-9682-281ef2a86899          NaN   0.3     0.0  \ne7b3aec0-5003-448b-a0e3-4c2dbb605f85          NaN   0.3     0.0  \n9c13f0be-9991-4d9f-b41b-a0e962bdeb89          NaN   0.3     0.0  \ne88ff464-a453-45bb-93d8-5f983d417912          NaN   5.3     1.0  \n8ce80d06-69f6-404a-b0fd-a728eb0dfed6          NaN   8.4     2.0  \nbb0a0d86-31c1-4780-b81f-8d0e5a5d83be          NaN  11.5     3.0  \n32080c6a-1f31-446f-a3d9-59759ac00ff4          NaN   0.3     0.0  \na1fc1a28-1133-47f2-a8d9-58da817946c2          NaN   5.3     1.0  \n0296748a-317a-47eb-bf94-e5dbbd78afc1          NaN   8.4     2.0  \n74ed0525-d8f9-4f36-b20f-1b8a2baf60f2          NaN  11.5     3.0  \nae0fb830-76df-4d91-82ed-4ed755fdec4b          NaN  14.6     4.0  \nc1b696b1-cae0-49ed-a8ba-0e795438d3d2          NaN  17.7     5.0  \nadd95b48-71c3-40e7-9f35-7db604f3f9f0          NaN  20.8     6.0  \nd8443e6d-9080-4154-89e3-29f0e98ed90a          NaN  23.9     7.0  \nf8945b4f-6f59-4c5a-a83f-462a97f2dcc4          NaN  27.0     8.0  \nb548b184-1643-4c23-9b14-9025aeda59c3          NaN  30.1     9.0  \ne8048367-edd2-4a61-ae0f-fd878688c910          NaN  33.2    10.0  ",
      "text/html": "<div>\n<style scoped>\n    .dataframe tbody tr th:only-of-type {\n        vertical-align: middle;\n    }\n\n    .dataframe tbody tr th {\n        vertical-align: top;\n    }\n\n    .dataframe thead th {\n        text-align: right;\n    }\n</style>\n<table border=\"1\" class=\"dataframe\">\n  <thead>\n    <tr style=\"text-align: right;\">\n      <th></th>\n      <th>name</th>\n      <th>type</th>\n      <th>gfa</th>\n      <th>subtotal_gfa</th>\n      <th>parent</th>\n      <th>use</th>\n      <th>ffl</th>\n      <th>number</th>\n    </tr>\n  </thead>\n  <tbody>\n    <tr>\n      <th>a39ac4c3-094b-4d92-b71d-46c5a857f407</th>\n      <td>development</td>\n      <td>development</td>\n      <td>NaN</td>\n      <td>45816.419959</td>\n      <td>None</td>\n      <td>NaN</td>\n      <td>NaN</td>\n      <td>NaN</td>\n    </tr>\n    <tr>\n      <th>981c0743-6a4c-4abd-8a97-2c937e48b897</th>\n      <td>buildingB</td>\n      <td>building</td>\n      <td>NaN</td>\n      <td>13436.884829</td>\n      <td>a39ac4c3-094b-4d92-b71d-46c5a857f407</td>\n      <td>NaN</td>\n      <td>NaN</td>\n      <td>NaN</td>\n    </tr>\n    <tr>\n      <th>e3149444-dfbc-41d0-9eb1-f08785a62da1</th>\n      <td>plinth</td>\n      <td>building</td>\n      <td>NaN</td>\n      <td>12773.744211</td>\n      <td>a39ac4c3-094b-4d92-b71d-46c5a857f407</td>\n      <td>NaN</td>\n      <td>NaN</td>\n      <td>NaN</td>\n    </tr>\n    <tr>\n      <th>529ce7bc-addf-4bad-8ec5-cbecbd73d4f1</th>\n      <td>buildingA</td>\n      <td>building</td>\n      <td>NaN</td>\n      <td>19605.790919</td>\n      <td>a39ac4c3-094b-4d92-b71d-46c5a857f407</td>\n      <td>NaN</td>\n      <td>NaN</td>\n      <td>NaN</td>\n    </tr>\n    <tr>\n      <th>29b746f5-42fe-4321-9a4a-8c65c9f0410c</th>\n      <td>utilities</td>\n      <td>utilities</td>\n      <td>NaN</td>\n      <td>0.000000</td>\n      <td>a39ac4c3-094b-4d92-b71d-46c5a857f407</td>\n      <td>NaN</td>\n      <td>NaN</td>\n      <td>NaN</td>\n    </tr>\n    <tr>\n      <th>3fc29315-81e7-45a9-8241-62938e904d73</th>\n      <td>buildingBresidential</td>\n      <td>space</td>\n      <td>NaN</td>\n      <td>11442.736624</td>\n      <td>981c0743-6a4c-4abd-8a97-2c937e48b897</td>\n      <td>residential</td>\n      <td>NaN</td>\n      <td>NaN</td>\n    </tr>\n    <tr>\n      <th>f508623d-1d81-4082-85ee-5b1e32c7bb10</th>\n      <td>buildingBparking</td>\n      <td>space</td>\n      <td>NaN</td>\n      <td>1178.164752</td>\n      <td>981c0743-6a4c-4abd-8a97-2c937e48b897</td>\n      <td>parking</td>\n      <td>NaN</td>\n      <td>NaN</td>\n    </tr>\n    <tr>\n      <th>6ac8ab6d-a730-44b8-97aa-a5db09b7fbd0</th>\n      <td>buildingBretail</td>\n      <td>space</td>\n      <td>NaN</td>\n      <td>815.983454</td>\n      <td>981c0743-6a4c-4abd-8a97-2c937e48b897</td>\n      <td>retail</td>\n      <td>NaN</td>\n      <td>NaN</td>\n    </tr>\n    <tr>\n      <th>71fd4551-8e65-4e7a-8e2a-9d18e69146b0</th>\n      <td>buildingBcores</td>\n      <td>utilities</td>\n      <td>NaN</td>\n      <td>0.000000</td>\n      <td>981c0743-6a4c-4abd-8a97-2c937e48b897</td>\n      <td>cores</td>\n      <td>NaN</td>\n      <td>NaN</td>\n    </tr>\n    <tr>\n      <th>c11f68da-0544-487b-9cb9-8a3a3a98a9b8</th>\n      <td>buildingBresidentialFloor0</td>\n      <td>floor</td>\n      <td>765.941631</td>\n      <td>765.941631</td>\n      <td>3fc29315-81e7-45a9-8241-62938e904d73</td>\n      <td>NaN</td>\n      <td>0.3</td>\n      <td>0.0</td>\n    </tr>\n    <tr>\n      <th>cfc3edf5-1e7d-4499-b25f-ee86ed013516</th>\n      <td>buildingBresidentialFloor1</td>\n      <td>floor</td>\n      <td>2361.056035</td>\n      <td>2361.056035</td>\n      <td>3fc29315-81e7-45a9-8241-62938e904d73</td>\n      <td>NaN</td>\n      <td>5.3</td>\n      <td>1.0</td>\n    </tr>\n    <tr>\n      <th>3e158dd9-aa5d-47bb-bc13-4b3e6d328fe1</th>\n      <td>buildingBresidentialFloor2</td>\n      <td>floor</td>\n      <td>2361.056035</td>\n      <td>2361.056035</td>\n      <td>3fc29315-81e7-45a9-8241-62938e904d73</td>\n      <td>NaN</td>\n      <td>8.4</td>\n      <td>2.0</td>\n    </tr>\n    <tr>\n      <th>b8609a1e-b9f8-44a0-ab98-468ff247d753</th>\n      <td>buildingBresidentialFloor3</td>\n      <td>floor</td>\n      <td>2015.956035</td>\n      <td>2015.956035</td>\n      <td>3fc29315-81e7-45a9-8241-62938e904d73</td>\n      <td>NaN</td>\n      <td>11.5</td>\n      <td>3.0</td>\n    </tr>\n    <tr>\n      <th>f68d2f9b-13c5-42e2-9bca-1826f7eff481</th>\n      <td>buildingBresidentialFloor4</td>\n      <td>floor</td>\n      <td>2015.956035</td>\n      <td>2015.956035</td>\n      <td>3fc29315-81e7-45a9-8241-62938e904d73</td>\n      <td>NaN</td>\n      <td>14.6</td>\n      <td>4.0</td>\n    </tr>\n    <tr>\n      <th>ec086fbc-7b21-4958-b456-9bce6a883c98</th>\n      <td>buildingBresidentialFloor5</td>\n      <td>floor</td>\n      <td>875.014900</td>\n      <td>875.014900</td>\n      <td>3fc29315-81e7-45a9-8241-62938e904d73</td>\n      <td>NaN</td>\n      <td>17.7</td>\n      <td>5.0</td>\n    </tr>\n    <tr>\n      <th>9ecaf92a-a90e-4572-a426-3ed392e0c28a</th>\n      <td>buildingBresidentialFloor6</td>\n      <td>floor</td>\n      <td>875.014900</td>\n      <td>875.014900</td>\n      <td>3fc29315-81e7-45a9-8241-62938e904d73</td>\n      <td>NaN</td>\n      <td>20.8</td>\n      <td>6.0</td>\n    </tr>\n    <tr>\n      <th>9a884f88-0627-4eb7-b1ec-80ea39b0a25b</th>\n      <td>buildingBresidentialFloor0</td>\n      <td>floor</td>\n      <td>172.741054</td>\n      <td>172.741054</td>\n      <td>3fc29315-81e7-45a9-8241-62938e904d73</td>\n      <td>NaN</td>\n      <td>0.3</td>\n      <td>0.0</td>\n    </tr>\n    <tr>\n      <th>d7dd5233-b1c3-451f-ae90-5a80fed205bd</th>\n      <td>buildingBparkingFloor0</td>\n      <td>floor</td>\n      <td>1178.164752</td>\n      <td>1178.164752</td>\n      <td>f508623d-1d81-4082-85ee-5b1e32c7bb10</td>\n      <td>NaN</td>\n      <td>0.3</td>\n      <td>0.0</td>\n    </tr>\n    <tr>\n      <th>4acebff3-f17b-44fb-ba29-6bc02053b329</th>\n      <td>buildingBretailFloor0</td>\n      <td>floor</td>\n      <td>815.983454</td>\n      <td>815.983454</td>\n      <td>6ac8ab6d-a730-44b8-97aa-a5db09b7fbd0</td>\n      <td>NaN</td>\n      <td>0.3</td>\n      <td>0.0</td>\n    </tr>\n    <tr>\n      <th>d188b4bb-27a3-4f63-9469-e9705c60a7a5</th>\n      <td>plinthparking</td>\n      <td>space</td>\n      <td>NaN</td>\n      <td>12773.744211</td>\n      <td>e3149444-dfbc-41d0-9eb1-f08785a62da1</td>\n      <td>parking</td>\n      <td>NaN</td>\n      <td>NaN</td>\n    </tr>\n    <tr>\n      <th>8d9f92cf-5613-4de4-b99b-7681aa76b4cd</th>\n      <td>plinthplant</td>\n      <td>utilities</td>\n      <td>NaN</td>\n      <td>0.000000</td>\n      <td>e3149444-dfbc-41d0-9eb1-f08785a62da1</td>\n      <td>plant</td>\n      <td>NaN</td>\n      <td>NaN</td>\n    </tr>\n    <tr>\n      <th>cf287254-7d66-4a4b-8a56-f247f51b41db</th>\n      <td>plinthparkingFloor-2</td>\n      <td>floor</td>\n      <td>6386.872106</td>\n      <td>6386.872106</td>\n      <td>d188b4bb-27a3-4f63-9469-e9705c60a7a5</td>\n      <td>NaN</td>\n      <td>-5.9</td>\n      <td>-2.0</td>\n    </tr>\n    <tr>\n      <th>926a3e9d-0601-4f96-bd71-317d928194f2</th>\n      <td>plinthparkingFloor-1</td>\n      <td>floor</td>\n      <td>6386.872106</td>\n      <td>6386.872106</td>\n      <td>d188b4bb-27a3-4f63-9469-e9705c60a7a5</td>\n      <td>NaN</td>\n      <td>-2.8</td>\n      <td>-1.0</td>\n    </tr>\n    <tr>\n      <th>987c5866-03b0-4948-962e-4870684f481b</th>\n      <td>buildingAparking</td>\n      <td>space</td>\n      <td>NaN</td>\n      <td>960.262087</td>\n      <td>529ce7bc-addf-4bad-8ec5-cbecbd73d4f1</td>\n      <td>parking</td>\n      <td>NaN</td>\n      <td>NaN</td>\n    </tr>\n    <tr>\n      <th>7dc6bf46-805f-4990-bcd2-d0fe1de4dd47</th>\n      <td>buildingAretail</td>\n      <td>space</td>\n      <td>NaN</td>\n      <td>534.530238</td>\n      <td>529ce7bc-addf-4bad-8ec5-cbecbd73d4f1</td>\n      <td>retail</td>\n      <td>NaN</td>\n      <td>NaN</td>\n    </tr>\n    <tr>\n      <th>549a988b-c3bc-42d4-a6a3-a8dc694fa770</th>\n      <td>buildingAresidential</td>\n      <td>space</td>\n      <td>NaN</td>\n      <td>2296.143091</td>\n      <td>529ce7bc-addf-4bad-8ec5-cbecbd73d4f1</td>\n      <td>residential</td>\n      <td>NaN</td>\n      <td>NaN</td>\n    </tr>\n    <tr>\n      <th>3cf2bf71-61fa-4a61-b163-6265c299376d</th>\n      <td>buildingAretail</td>\n      <td>space</td>\n      <td>NaN</td>\n      <td>1123.715326</td>\n      <td>529ce7bc-addf-4bad-8ec5-cbecbd73d4f1</td>\n      <td>retail</td>\n      <td>NaN</td>\n      <td>NaN</td>\n    </tr>\n    <tr>\n      <th>bfc1c272-665f-432d-a7b3-a4c955556e7f</th>\n      <td>buildingAoffice</td>\n      <td>space</td>\n      <td>NaN</td>\n      <td>14691.140177</td>\n      <td>529ce7bc-addf-4bad-8ec5-cbecbd73d4f1</td>\n      <td>office</td>\n      <td>NaN</td>\n      <td>NaN</td>\n    </tr>\n    <tr>\n      <th>55963d84-702d-423d-be05-c8bb6e88f517</th>\n      <td>buildingAcores</td>\n      <td>utilities</td>\n      <td>NaN</td>\n      <td>0.000000</td>\n      <td>529ce7bc-addf-4bad-8ec5-cbecbd73d4f1</td>\n      <td>cores</td>\n      <td>NaN</td>\n      <td>NaN</td>\n    </tr>\n    <tr>\n      <th>01282060-ad91-44be-b0d3-ff43e340e8bd</th>\n      <td>buildingAparkingFloor0</td>\n      <td>floor</td>\n      <td>960.262087</td>\n      <td>960.262087</td>\n      <td>987c5866-03b0-4948-962e-4870684f481b</td>\n      <td>NaN</td>\n      <td>0.3</td>\n      <td>0.0</td>\n    </tr>\n    <tr>\n      <th>f9e9ae1c-00f3-4966-9682-281ef2a86899</th>\n      <td>buildingAretailFloor0</td>\n      <td>floor</td>\n      <td>534.530238</td>\n      <td>534.530238</td>\n      <td>7dc6bf46-805f-4990-bcd2-d0fe1de4dd47</td>\n      <td>NaN</td>\n      <td>0.3</td>\n      <td>0.0</td>\n    </tr>\n    <tr>\n      <th>e7b3aec0-5003-448b-a0e3-4c2dbb605f85</th>\n      <td>buildingAresidentialFloor0</td>\n      <td>floor</td>\n      <td>57.900000</td>\n      <td>57.900000</td>\n      <td>549a988b-c3bc-42d4-a6a3-a8dc694fa770</td>\n      <td>NaN</td>\n      <td>0.3</td>\n      <td>0.0</td>\n    </tr>\n    <tr>\n      <th>9c13f0be-9991-4d9f-b41b-a0e962bdeb89</th>\n      <td>buildingAresidentialFloor0</td>\n      <td>floor</td>\n      <td>43.800000</td>\n      <td>43.800000</td>\n      <td>549a988b-c3bc-42d4-a6a3-a8dc694fa770</td>\n      <td>NaN</td>\n      <td>0.3</td>\n      <td>0.0</td>\n    </tr>\n    <tr>\n      <th>e88ff464-a453-45bb-93d8-5f983d417912</th>\n      <td>buildingAresidentialFloor1</td>\n      <td>floor</td>\n      <td>731.481030</td>\n      <td>731.481030</td>\n      <td>549a988b-c3bc-42d4-a6a3-a8dc694fa770</td>\n      <td>NaN</td>\n      <td>5.3</td>\n      <td>1.0</td>\n    </tr>\n    <tr>\n      <th>8ce80d06-69f6-404a-b0fd-a728eb0dfed6</th>\n      <td>buildingAresidentialFloor2</td>\n      <td>floor</td>\n      <td>731.481030</td>\n      <td>731.481030</td>\n      <td>549a988b-c3bc-42d4-a6a3-a8dc694fa770</td>\n      <td>NaN</td>\n      <td>8.4</td>\n      <td>2.0</td>\n    </tr>\n    <tr>\n      <th>bb0a0d86-31c1-4780-b81f-8d0e5a5d83be</th>\n      <td>buildingAresidentialFloor3</td>\n      <td>floor</td>\n      <td>731.481030</td>\n      <td>731.481030</td>\n      <td>549a988b-c3bc-42d4-a6a3-a8dc694fa770</td>\n      <td>NaN</td>\n      <td>11.5</td>\n      <td>3.0</td>\n    </tr>\n    <tr>\n      <th>32080c6a-1f31-446f-a3d9-59759ac00ff4</th>\n      <td>buildingAretailFloor0</td>\n      <td>floor</td>\n      <td>1123.715326</td>\n      <td>1123.715326</td>\n      <td>3cf2bf71-61fa-4a61-b163-6265c299376d</td>\n      <td>NaN</td>\n      <td>0.3</td>\n      <td>0.0</td>\n    </tr>\n    <tr>\n      <th>a1fc1a28-1133-47f2-a8d9-58da817946c2</th>\n      <td>buildingAofficeFloor1</td>\n      <td>floor</td>\n      <td>1650.842103</td>\n      <td>1650.842103</td>\n      <td>bfc1c272-665f-432d-a7b3-a4c955556e7f</td>\n      <td>NaN</td>\n      <td>5.3</td>\n      <td>1.0</td>\n    </tr>\n    <tr>\n      <th>0296748a-317a-47eb-bf94-e5dbbd78afc1</th>\n      <td>buildingAofficeFloor2</td>\n      <td>floor</td>\n      <td>1448.922008</td>\n      <td>1448.922008</td>\n      <td>bfc1c272-665f-432d-a7b3-a4c955556e7f</td>\n      <td>NaN</td>\n      <td>8.4</td>\n      <td>2.0</td>\n    </tr>\n    <tr>\n      <th>74ed0525-d8f9-4f36-b20f-1b8a2baf60f2</th>\n      <td>buildingAofficeFloor3</td>\n      <td>floor</td>\n      <td>1448.922008</td>\n      <td>1448.922008</td>\n      <td>bfc1c272-665f-432d-a7b3-a4c955556e7f</td>\n      <td>NaN</td>\n      <td>11.5</td>\n      <td>3.0</td>\n    </tr>\n    <tr>\n      <th>ae0fb830-76df-4d91-82ed-4ed755fdec4b</th>\n      <td>buildingAofficeFloor4</td>\n      <td>floor</td>\n      <td>1448.922008</td>\n      <td>1448.922008</td>\n      <td>bfc1c272-665f-432d-a7b3-a4c955556e7f</td>\n      <td>NaN</td>\n      <td>14.6</td>\n      <td>4.0</td>\n    </tr>\n    <tr>\n      <th>c1b696b1-cae0-49ed-a8ba-0e795438d3d2</th>\n      <td>buildingAofficeFloor5</td>\n      <td>floor</td>\n      <td>1448.922008</td>\n      <td>1448.922008</td>\n      <td>bfc1c272-665f-432d-a7b3-a4c955556e7f</td>\n      <td>NaN</td>\n      <td>17.7</td>\n      <td>5.0</td>\n    </tr>\n    <tr>\n      <th>add95b48-71c3-40e7-9f35-7db604f3f9f0</th>\n      <td>buildingAofficeFloor6</td>\n      <td>floor</td>\n      <td>1448.922008</td>\n      <td>1448.922008</td>\n      <td>bfc1c272-665f-432d-a7b3-a4c955556e7f</td>\n      <td>NaN</td>\n      <td>20.8</td>\n      <td>6.0</td>\n    </tr>\n    <tr>\n      <th>d8443e6d-9080-4154-89e3-29f0e98ed90a</th>\n      <td>buildingAofficeFloor7</td>\n      <td>floor</td>\n      <td>1448.922008</td>\n      <td>1448.922008</td>\n      <td>bfc1c272-665f-432d-a7b3-a4c955556e7f</td>\n      <td>NaN</td>\n      <td>23.9</td>\n      <td>7.0</td>\n    </tr>\n    <tr>\n      <th>f8945b4f-6f59-4c5a-a83f-462a97f2dcc4</th>\n      <td>buildingAofficeFloor8</td>\n      <td>floor</td>\n      <td>1448.922008</td>\n      <td>1448.922008</td>\n      <td>bfc1c272-665f-432d-a7b3-a4c955556e7f</td>\n      <td>NaN</td>\n      <td>27.0</td>\n      <td>8.0</td>\n    </tr>\n    <tr>\n      <th>b548b184-1643-4c23-9b14-9025aeda59c3</th>\n      <td>buildingAofficeFloor9</td>\n      <td>floor</td>\n      <td>1448.922008</td>\n      <td>1448.922008</td>\n      <td>bfc1c272-665f-432d-a7b3-a4c955556e7f</td>\n      <td>NaN</td>\n      <td>30.1</td>\n      <td>9.0</td>\n    </tr>\n    <tr>\n      <th>e8048367-edd2-4a61-ae0f-fd878688c910</th>\n      <td>buildingAofficeFloor10</td>\n      <td>floor</td>\n      <td>1448.922008</td>\n      <td>1448.922008</td>\n      <td>bfc1c272-665f-432d-a7b3-a4c955556e7f</td>\n      <td>NaN</td>\n      <td>33.2</td>\n      <td>10.0</td>\n    </tr>\n  </tbody>\n</table>\n</div>"
     },
     "execution_count": 9,
     "metadata": {},
     "output_type": "execute_result"
    }
   ],
   "source": [
    "df = spatial_containment.to_DataFrame()\n",
    "df = df[['name', 'type', 'gfa', 'subtotal_gfa', 'parent', 'use', 'ffl', 'number']]\n",
    "df"
   ]
  },
  {
   "cell_type": "markdown",
   "metadata": {
    "collapsed": false
   },
   "source": [
    "We can also plot this as a hierarchical pie chart (a.k.a. 'sunburst' chart), or\n",
    "a treemap:"
   ]
  },
  {
   "cell_type": "code",
   "execution_count": 10,
   "metadata": {
    "collapsed": false,
    "ExecuteTime": {
     "end_time": "2023-06-29T03:38:05.463054Z",
     "start_time": "2023-06-29T03:38:05.153897Z"
    }
   },
   "outputs": [
    {
     "data": {
      "text/plain": "<IPython.lib.display.IFrame at 0x2ad9b1ab0>",
      "text/html": "\n        <iframe\n            width=\"100%\"\n            height=\"1600\"\n            src=\"./spatial_containment_chart.html\"\n            frameborder=\"0\"\n            allowfullscreen\n            \n        ></iframe>\n        "
     },
     "execution_count": 10,
     "metadata": {},
     "output_type": "execute_result"
    }
   ],
   "source": [
    "sunburst = spatial_containment.sunburst(property='subtotal_gfa')\n",
    "treemap = spatial_containment.treemap(property='subtotal_gfa')\n",
    "fig = plotly.subplots.make_subplots(\n",
    "    rows=2, cols=1,\n",
    "    specs=[[{\"type\": \"sunburst\"}], [{\"type\": \"treemap\"}]])\n",
    "fig.append_trace(sunburst, row=1, col=1)\n",
    "fig.append_trace(treemap, row=2, col=1)\n",
    "filename='spatial_containment_chart.html'\n",
    "\n",
    "py.plot(fig, filename='assets/{0}'.format(filename), auto_open=False)\n",
    "IFrame(src=\"./{0}\".format(filename), width='100%', height=800 * len(fig.data))"
   ]
  },
  {
   "cell_type": "markdown",
   "metadata": {
    "collapsed": false
   },
   "source": [
    "#### Aggregating a (Financial) Calculation\n",
    "A more complex aggregation involves collecting specific cash `Flow`s into\n",
    "`Stream`s per `Entity`/`Assembly`; for instance, we may want to aggregate all\n",
    "revenues generated by lettable floorspace into their respective parent `Entity`s,\n",
    "in order to analyse or compare the performance of the scenario at different\n",
    "resolutions."
   ]
  },
  {
   "cell_type": "markdown",
   "metadata": {
    "collapsed": false
   },
   "source": [
    "We start by identifying which `Entity`s are 'floor' types and have an area\n",
    "measurement:"
   ]
  },
  {
   "cell_type": "code",
   "execution_count": 11,
   "metadata": {
    "collapsed": false,
    "ExecuteTime": {
     "end_time": "2023-06-29T03:38:05.463137Z",
     "start_time": "2023-06-29T03:38:05.462535Z"
    }
   },
   "outputs": [],
   "source": [
    "floors = scenario.filter_by_type(entity_type='floor')\n",
    "floors = [floor for floor in floors.get_entities().values() if hasattr(floor, 'gfa')]"
   ]
  },
  {
   "cell_type": "markdown",
   "metadata": {
    "collapsed": false
   },
   "source": [
    "For each floor we can project a set of simple cash flows, in a similar manner\n",
    "to [A Basic DCF Valuation](../basic_dcf.ipynb)."
   ]
  },
  {
   "cell_type": "markdown",
   "metadata": {
    "collapsed": false
   },
   "source": [
    "First initialize our locale, and a set of parameters, including some around\n",
    "area efficiency ratios, initial incomes per area, and growth rates:"
   ]
  },
  {
   "cell_type": "code",
   "execution_count": 12,
   "metadata": {
    "collapsed": false,
    "ExecuteTime": {
     "end_time": "2023-06-29T03:38:05.516927Z",
     "start_time": "2023-06-29T03:38:05.462750Z"
    }
   },
   "outputs": [],
   "source": [
    "locale.setlocale(locale.LC_ALL, 'en_au')\n",
    "units = rk.measure.Index.registry\n",
    "currency = rk.measure.register_currency(registry=units)\n",
    "period_type = rk.periodicity.Type.YEAR"
   ]
  },
  {
   "cell_type": "code",
   "execution_count": 13,
   "metadata": {
    "collapsed": false,
    "ExecuteTime": {
     "end_time": "2023-06-29T03:38:05.517166Z",
     "start_time": "2023-06-29T03:38:05.487004Z"
    }
   },
   "outputs": [],
   "source": [
    "efficiency_ratios = dict(\n",
    "    office=0.88,\n",
    "    retail=0.75,\n",
    "    residential=0.82,\n",
    "    parking=0.93\n",
    "    )\n",
    "initial_income_per_area_pa = dict(\n",
    "    office=750,\n",
    "    retail=1000,\n",
    "    residential=600,\n",
    "    parking=0\n",
    "    )\n",
    "pgi_growth_rates = dict(\n",
    "    office=.02,\n",
    "    retail=.05,\n",
    "    residential=.035,\n",
    "    parking=0\n",
    "    )\n",
    "vacancy_rates = dict(\n",
    "    office=.075,\n",
    "    retail=.5,\n",
    "    residential=.02,\n",
    "    parking=0,\n",
    "    )"
   ]
  },
  {
   "cell_type": "code",
   "execution_count": 14,
   "outputs": [
    {
     "data": {
      "text/plain": "             efficiency_ratio  initial_income_per_area_pa  pgi_growth_rate  \\\noffice                   0.88                         750            0.020   \nretail                   0.75                        1000            0.050   \nresidential              0.82                         600            0.035   \nparking                  0.93                           0            0.000   \n\n             vacancy_rate  \noffice              0.075  \nretail              0.500  \nresidential         0.020  \nparking             0.000  ",
      "text/html": "<div>\n<style scoped>\n    .dataframe tbody tr th:only-of-type {\n        vertical-align: middle;\n    }\n\n    .dataframe tbody tr th {\n        vertical-align: top;\n    }\n\n    .dataframe thead th {\n        text-align: right;\n    }\n</style>\n<table border=\"1\" class=\"dataframe\">\n  <thead>\n    <tr style=\"text-align: right;\">\n      <th></th>\n      <th>efficiency_ratio</th>\n      <th>initial_income_per_area_pa</th>\n      <th>pgi_growth_rate</th>\n      <th>vacancy_rate</th>\n    </tr>\n  </thead>\n  <tbody>\n    <tr>\n      <th>office</th>\n      <td>0.88</td>\n      <td>750</td>\n      <td>0.020</td>\n      <td>0.075</td>\n    </tr>\n    <tr>\n      <th>retail</th>\n      <td>0.75</td>\n      <td>1000</td>\n      <td>0.050</td>\n      <td>0.500</td>\n    </tr>\n    <tr>\n      <th>residential</th>\n      <td>0.82</td>\n      <td>600</td>\n      <td>0.035</td>\n      <td>0.020</td>\n    </tr>\n    <tr>\n      <th>parking</th>\n      <td>0.93</td>\n      <td>0</td>\n      <td>0.000</td>\n      <td>0.000</td>\n    </tr>\n  </tbody>\n</table>\n</div>"
     },
     "execution_count": 14,
     "metadata": {},
     "output_type": "execute_result"
    }
   ],
   "source": [
    "revenue_inputs = pd.DataFrame(\n",
    "    data=dict(\n",
    "        efficiency_ratio=efficiency_ratios,\n",
    "        initial_income_per_area_pa=initial_income_per_area_pa,\n",
    "        pgi_growth_rate=pgi_growth_rates,\n",
    "        vacancy_rate=vacancy_rates,\n",
    "        ))\n",
    "revenue_inputs"
   ],
   "metadata": {
    "collapsed": false,
    "ExecuteTime": {
     "end_time": "2023-06-29T03:38:05.517500Z",
     "start_time": "2023-06-29T03:38:05.492673Z"
    }
   }
  },
  {
   "cell_type": "code",
   "execution_count": 15,
   "metadata": {
    "collapsed": false,
    "ExecuteTime": {
     "end_time": "2023-06-29T03:38:05.517554Z",
     "start_time": "2023-06-29T03:38:05.495606Z"
    }
   },
   "outputs": [],
   "source": [
    "params = dict(\n",
    "    start_date=pd.Timestamp('2001-01-01'),\n",
    "    num_periods=10,\n",
    "    period_type=rk.periodicity.Type.YEAR\n",
    "    )"
   ]
  },
  {
   "cell_type": "markdown",
   "metadata": {
    "collapsed": false
   },
   "source": [
    "##### `Stream`s of Revenue `Flow`s per `Entity`:\n",
    "It is now simple to construct a set of cash flows per `Entity` in our design\n",
    "scenario. We will use a similar structure to the previous notebooks."
   ]
  },
  {
   "cell_type": "markdown",
   "source": [
    "First we will define a general 'Spans' class that defines the time periods. This\n",
    "can be used by any subsequent calculations:"
   ],
   "metadata": {
    "collapsed": false
   }
  },
  {
   "cell_type": "code",
   "execution_count": 16,
   "outputs": [],
   "source": [
    "class Spans:\n",
    "    def __init__(self, params: dict):\n",
    "        self.params = params\n",
    "        self.calc_span = rk.span.Span.from_num_periods(\n",
    "            name='Span to Calculate Reversion',\n",
    "            date=self.params['start_date'],\n",
    "            period_type=self.params['period_type'],\n",
    "            num_periods=self.params['num_periods'] + 1)\n",
    "        self.acq_span = rk.span.Span.from_num_periods(\n",
    "            name='Acquisition Span',\n",
    "            date=rk.periodicity.offset_date(\n",
    "                self.params['start_date'],\n",
    "                num_periods=-1,\n",
    "                period_type=self.params['period_type']),\n",
    "            period_type=self.params['period_type'],\n",
    "            num_periods=1)\n",
    "        self.span = self.calc_span.shift(\n",
    "            name='Span',\n",
    "            num_periods=-1,\n",
    "            period_type=self.params['period_type'],\n",
    "            bound='end')"
   ],
   "metadata": {
    "collapsed": false,
    "ExecuteTime": {
     "end_time": "2023-06-29T03:38:05.518021Z",
     "start_time": "2023-06-29T03:38:05.500393Z"
    }
   }
  },
  {
   "cell_type": "markdown",
   "metadata": {
    "collapsed": false
   },
   "source": [
    "Then, we will define a `Revenues` class that holds the parameters:"
   ]
  },
  {
   "cell_type": "code",
   "execution_count": 17,
   "metadata": {
    "collapsed": false,
    "ExecuteTime": {
     "end_time": "2023-06-29T03:38:05.518254Z",
     "start_time": "2023-06-29T03:38:05.503304Z"
    }
   },
   "outputs": [],
   "source": [
    "class Revenues:\n",
    "    def __init__(\n",
    "            self,\n",
    "            params: dict,\n",
    "            spans: Spans):\n",
    "        self.params = params\n",
    "        self.spans = spans"
   ]
  },
  {
   "cell_type": "markdown",
   "metadata": {
    "collapsed": false
   },
   "source": [
    "And then we add Revenue `Flow`s:"
   ]
  },
  {
   "cell_type": "code",
   "execution_count": 18,
   "metadata": {
    "collapsed": false,
    "ExecuteTime": {
     "end_time": "2023-06-29T03:38:05.518639Z",
     "start_time": "2023-06-29T03:38:05.507135Z"
    }
   },
   "outputs": [],
   "source": [
    "@rk.update_class(Revenues)\n",
    "class Revenues:\n",
    "    def generate(self):\n",
    "        self.pgi = rk.flux.Flow.from_projection(\n",
    "            name='Potential Gross Income',\n",
    "            value=self.params['initial_income'],\n",
    "            proj=rk.projection.Extrapolation(\n",
    "            form=rk.extrapolation.Compounding(\n",
    "                rate=self.params['pgi_growth_rate']),\n",
    "            sequence=self.spans.calc_span.to_index(period_type=self.params['period_type'])),\n",
    "            units=currency.units)\n",
    "        self.vacancy = rk.flux.Flow(\n",
    "            name='Vacancy Allowance',\n",
    "            movements=self.pgi.movements * -self.params['vacancy_rate'],\n",
    "            units=currency.units)\n",
    "        self.egi = rk.flux.Stream(\n",
    "            name='Effective Gross Income',\n",
    "            flows=[self.pgi, self.vacancy],\n",
    "            period_type=self.params['period_type'])"
   ]
  },
  {
   "cell_type": "markdown",
   "metadata": {
    "collapsed": false
   },
   "source": [
    "Now we need to add `Entity`-specific parameters to the parameters dictionary,\n",
    "and run  the `init_spans()` and `init_flows()` methods per floor `Entity`:\n",
    "\n",
    "(Note we place the resultant `Stream` in the `events` attribute of the `Entity`)"
   ]
  },
  {
   "cell_type": "code",
   "execution_count": 19,
   "outputs": [],
   "source": [
    "spans = Spans(params)"
   ],
   "metadata": {
    "collapsed": false,
    "ExecuteTime": {
     "end_time": "2023-06-29T03:38:05.518696Z",
     "start_time": "2023-06-29T03:38:05.509952Z"
    }
   }
  },
  {
   "cell_type": "code",
   "execution_count": 20,
   "metadata": {
    "collapsed": false,
    "ExecuteTime": {
     "end_time": "2023-06-29T03:38:05.712001Z",
     "start_time": "2023-06-29T03:38:05.515949Z"
    }
   },
   "outputs": [],
   "source": [
    "for floor in floors:\n",
    "    parent = floor.get_relatives(\n",
    "        relationship_type='spatiallyContains',\n",
    "        outgoing=False,\n",
    "        assembly=spatial_containment)[0]\n",
    "    floor['use'] = parent['use']\n",
    "\n",
    "    floor.params = params.copy()\n",
    "    floor.params['initial_income'] = initial_income_per_area_pa[floor['use']] * floor['gfa']\n",
    "    floor.params['pgi_growth_rate'] = pgi_growth_rates[floor['use']]\n",
    "    floor.params['vacancy_rate'] = vacancy_rates[floor['use']]\n",
    "\n",
    "    floor.events = {}\n",
    "\n",
    "    revenues = Revenues(floor.params, spans)\n",
    "    revenues.generate()\n",
    "    floor.events = {\n",
    "        'pgi': revenues.pgi,\n",
    "        'vacancy': revenues.vacancy,\n",
    "        'egi': revenues.egi,\n",
    "        }"
   ]
  },
  {
   "cell_type": "markdown",
   "metadata": {
    "collapsed": false
   },
   "source": [
    "##### Aggregating by Parent Container\n",
    "Since we have the \"containment\" hierarchy, we can aggregate the `Revenues` per\n",
    "parent `Entity`:"
   ]
  },
  {
   "cell_type": "markdown",
   "metadata": {
    "collapsed": false
   },
   "source": [
    "*Rangekeeper* provides some helper methods to assist in the aggregation of\n",
    "`Stream`s and `Flow`s; specifically, since the `Entity.aggregate()` method\n",
    "updates a specified `Entity`'s property with a dictionary of subentity\n",
    "properties, keyed by their respective `entityId`s, we can use the\n",
    "`aggregate_events()` function to support the collation of child `Entity`\n",
    "`Flow`s into a single `Stream` per label in the `Entity`'s `events` property:"
   ]
  },
  {
   "cell_type": "code",
   "execution_count": 21,
   "metadata": {
    "collapsed": false,
    "ExecuteTime": {
     "end_time": "2023-06-29T03:38:05.712171Z",
     "start_time": "2023-06-29T03:38:05.691095Z"
    }
   },
   "outputs": [],
   "source": [
    "def aggregate_egis(**kwargs):\n",
    "    return rk.graph.Entity.aggregate_events(\n",
    "        **kwargs,\n",
    "        property='egi',\n",
    "        period_type=period_type)"
   ]
  },
  {
   "cell_type": "markdown",
   "metadata": {
    "collapsed": false
   },
   "source": [
    "This function is passed into the `Entity.aggregate()` method as the `function`\n",
    "parameter:"
   ]
  },
  {
   "cell_type": "code",
   "execution_count": 22,
   "metadata": {
    "collapsed": false,
    "ExecuteTime": {
     "end_time": "2023-06-29T03:38:05.928421Z",
     "start_time": "2023-06-29T03:38:05.718591Z"
    }
   },
   "outputs": [],
   "source": [
    "spatial_containment.aggregate(\n",
    "    function=aggregate_egis,\n",
    "    property='events',\n",
    "    label='subtotal_egi',\n",
    "    relationship_type='spatiallyContains')"
   ]
  },
  {
   "cell_type": "markdown",
   "source": [
    "Now we can look at what the `aggregate` method has produced for a single floor:"
   ],
   "metadata": {
    "collapsed": false
   }
  },
  {
   "cell_type": "code",
   "execution_count": 23,
   "outputs": [
    {
     "data": {
      "text/plain": "<rangekeeper.flux.Stream at 0x2abcd5810>",
      "text/html": "<table>\n<thead>\n<tr><th style=\"text-align: right;\">  date</th><th style=\"text-align: right;\">  Potential Gross Income</th><th style=\"text-align: right;\">  Vacancy Allowance</th></tr>\n</thead>\n<tbody>\n<tr><td style=\"text-align: right;\">  2001</td><td style=\"text-align: right;\">           $1,416,633.62</td><td style=\"text-align: right;\">        -$28,332.67</td></tr>\n<tr><td style=\"text-align: right;\">  2002</td><td style=\"text-align: right;\">           $1,466,215.80</td><td style=\"text-align: right;\">        -$29,324.32</td></tr>\n<tr><td style=\"text-align: right;\">  2003</td><td style=\"text-align: right;\">           $1,517,533.35</td><td style=\"text-align: right;\">        -$30,350.67</td></tr>\n<tr><td style=\"text-align: right;\">  2004</td><td style=\"text-align: right;\">           $1,570,647.02</td><td style=\"text-align: right;\">        -$31,412.94</td></tr>\n<tr><td style=\"text-align: right;\">  2005</td><td style=\"text-align: right;\">           $1,625,619.66</td><td style=\"text-align: right;\">        -$32,512.39</td></tr>\n<tr><td style=\"text-align: right;\">  2006</td><td style=\"text-align: right;\">           $1,682,516.35</td><td style=\"text-align: right;\">        -$33,650.33</td></tr>\n<tr><td style=\"text-align: right;\">  2007</td><td style=\"text-align: right;\">           $1,741,404.42</td><td style=\"text-align: right;\">        -$34,828.09</td></tr>\n<tr><td style=\"text-align: right;\">  2008</td><td style=\"text-align: right;\">           $1,802,353.58</td><td style=\"text-align: right;\">        -$36,047.07</td></tr>\n<tr><td style=\"text-align: right;\">  2009</td><td style=\"text-align: right;\">           $1,865,435.95</td><td style=\"text-align: right;\">        -$37,308.72</td></tr>\n<tr><td style=\"text-align: right;\">  2010</td><td style=\"text-align: right;\">           $1,930,726.21</td><td style=\"text-align: right;\">        -$38,614.52</td></tr>\n<tr><td style=\"text-align: right;\">  2011</td><td style=\"text-align: right;\">           $1,998,301.63</td><td style=\"text-align: right;\">        -$39,966.03</td></tr>\n</tbody>\n</table>"
     },
     "execution_count": 23,
     "metadata": {},
     "output_type": "execute_result"
    }
   ],
   "source": [
    "floors[1]['events']['egi']"
   ],
   "metadata": {
    "collapsed": false,
    "ExecuteTime": {
     "end_time": "2023-06-29T03:38:05.939100Z",
     "start_time": "2023-06-29T03:38:05.932610Z"
    }
   }
  },
  {
   "cell_type": "markdown",
   "metadata": {
    "collapsed": false
   },
   "source": [
    "We can then inspect the `aggregate_egi` property of an `Entity`, which holds a\n",
    "`Stream` of `Flow`s (each coming from a child of that `Entity`). Let's use the\n",
    "office compartment in Building A:"
   ]
  },
  {
   "cell_type": "code",
   "execution_count": 24,
   "metadata": {
    "collapsed": false,
    "ExecuteTime": {
     "end_time": "2023-06-29T03:38:05.963546Z",
     "start_time": "2023-06-29T03:38:05.942522Z"
    }
   },
   "outputs": [
    {
     "name": "stdout",
     "output_type": "stream",
     "text": [
      "buildingAoffice\n"
     ]
    },
    {
     "data": {
      "text/plain": "<rangekeeper.flux.Stream at 0x2abe38880>",
      "text/html": "<table>\n<thead>\n<tr><th style=\"text-align: right;\">  date</th><th style=\"text-align: right;\">  Effective Gross Income for a1fc1a28-1133-47f2-a8d9-58da817946c2 [buildingAofficeFloor1]</th><th style=\"text-align: right;\">  Effective Gross Income for 0296748a-317a-47eb-bf94-e5dbbd78afc1 [buildingAofficeFloor2]</th><th style=\"text-align: right;\">  Effective Gross Income for 74ed0525-d8f9-4f36-b20f-1b8a2baf60f2 [buildingAofficeFloor3]</th><th style=\"text-align: right;\">  Effective Gross Income for ae0fb830-76df-4d91-82ed-4ed755fdec4b [buildingAofficeFloor4]</th><th style=\"text-align: right;\">  Effective Gross Income for c1b696b1-cae0-49ed-a8ba-0e795438d3d2 [buildingAofficeFloor5]</th><th style=\"text-align: right;\">  Effective Gross Income for add95b48-71c3-40e7-9f35-7db604f3f9f0 [buildingAofficeFloor6]</th><th style=\"text-align: right;\">  Effective Gross Income for d8443e6d-9080-4154-89e3-29f0e98ed90a [buildingAofficeFloor7]</th><th style=\"text-align: right;\">  Effective Gross Income for f8945b4f-6f59-4c5a-a83f-462a97f2dcc4 [buildingAofficeFloor8]</th><th style=\"text-align: right;\">  Effective Gross Income for b548b184-1643-4c23-9b14-9025aeda59c3 [buildingAofficeFloor9]</th><th style=\"text-align: right;\">  Effective Gross Income for e8048367-edd2-4a61-ae0f-fd878688c910 [buildingAofficeFloor10]</th></tr>\n</thead>\n<tbody>\n<tr><td style=\"text-align: right;\">  2001</td><td style=\"text-align: right;\">                                                                            $1,145,271.71</td><td style=\"text-align: right;\">                                                                            $1,005,189.64</td><td style=\"text-align: right;\">                                                                            $1,005,189.64</td><td style=\"text-align: right;\">                                                                            $1,005,189.64</td><td style=\"text-align: right;\">                                                                            $1,005,189.64</td><td style=\"text-align: right;\">                                                                            $1,005,189.64</td><td style=\"text-align: right;\">                                                                            $1,005,189.64</td><td style=\"text-align: right;\">                                                                            $1,005,189.64</td><td style=\"text-align: right;\">                                                                            $1,005,189.64</td><td style=\"text-align: right;\">                                                                             $1,005,189.64</td></tr>\n<tr><td style=\"text-align: right;\">  2002</td><td style=\"text-align: right;\">                                                                            $1,168,177.14</td><td style=\"text-align: right;\">                                                                            $1,025,293.44</td><td style=\"text-align: right;\">                                                                            $1,025,293.44</td><td style=\"text-align: right;\">                                                                            $1,025,293.44</td><td style=\"text-align: right;\">                                                                            $1,025,293.44</td><td style=\"text-align: right;\">                                                                            $1,025,293.44</td><td style=\"text-align: right;\">                                                                            $1,025,293.44</td><td style=\"text-align: right;\">                                                                            $1,025,293.44</td><td style=\"text-align: right;\">                                                                            $1,025,293.44</td><td style=\"text-align: right;\">                                                                             $1,025,293.44</td></tr>\n<tr><td style=\"text-align: right;\">  2003</td><td style=\"text-align: right;\">                                                                            $1,191,540.69</td><td style=\"text-align: right;\">                                                                            $1,045,799.30</td><td style=\"text-align: right;\">                                                                            $1,045,799.30</td><td style=\"text-align: right;\">                                                                            $1,045,799.30</td><td style=\"text-align: right;\">                                                                            $1,045,799.30</td><td style=\"text-align: right;\">                                                                            $1,045,799.30</td><td style=\"text-align: right;\">                                                                            $1,045,799.30</td><td style=\"text-align: right;\">                                                                            $1,045,799.30</td><td style=\"text-align: right;\">                                                                            $1,045,799.30</td><td style=\"text-align: right;\">                                                                             $1,045,799.30</td></tr>\n<tr><td style=\"text-align: right;\">  2004</td><td style=\"text-align: right;\">                                                                            $1,215,371.50</td><td style=\"text-align: right;\">                                                                            $1,066,715.29</td><td style=\"text-align: right;\">                                                                            $1,066,715.29</td><td style=\"text-align: right;\">                                                                            $1,066,715.29</td><td style=\"text-align: right;\">                                                                            $1,066,715.29</td><td style=\"text-align: right;\">                                                                            $1,066,715.29</td><td style=\"text-align: right;\">                                                                            $1,066,715.29</td><td style=\"text-align: right;\">                                                                            $1,066,715.29</td><td style=\"text-align: right;\">                                                                            $1,066,715.29</td><td style=\"text-align: right;\">                                                                             $1,066,715.29</td></tr>\n<tr><td style=\"text-align: right;\">  2005</td><td style=\"text-align: right;\">                                                                            $1,239,678.93</td><td style=\"text-align: right;\">                                                                            $1,088,049.60</td><td style=\"text-align: right;\">                                                                            $1,088,049.60</td><td style=\"text-align: right;\">                                                                            $1,088,049.60</td><td style=\"text-align: right;\">                                                                            $1,088,049.60</td><td style=\"text-align: right;\">                                                                            $1,088,049.60</td><td style=\"text-align: right;\">                                                                            $1,088,049.60</td><td style=\"text-align: right;\">                                                                            $1,088,049.60</td><td style=\"text-align: right;\">                                                                            $1,088,049.60</td><td style=\"text-align: right;\">                                                                             $1,088,049.60</td></tr>\n<tr><td style=\"text-align: right;\">  2006</td><td style=\"text-align: right;\">                                                                            $1,264,472.51</td><td style=\"text-align: right;\">                                                                            $1,109,810.59</td><td style=\"text-align: right;\">                                                                            $1,109,810.59</td><td style=\"text-align: right;\">                                                                            $1,109,810.59</td><td style=\"text-align: right;\">                                                                            $1,109,810.59</td><td style=\"text-align: right;\">                                                                            $1,109,810.59</td><td style=\"text-align: right;\">                                                                            $1,109,810.59</td><td style=\"text-align: right;\">                                                                            $1,109,810.59</td><td style=\"text-align: right;\">                                                                            $1,109,810.59</td><td style=\"text-align: right;\">                                                                             $1,109,810.59</td></tr>\n<tr><td style=\"text-align: right;\">  2007</td><td style=\"text-align: right;\">                                                                            $1,289,761.96</td><td style=\"text-align: right;\">                                                                            $1,132,006.80</td><td style=\"text-align: right;\">                                                                            $1,132,006.80</td><td style=\"text-align: right;\">                                                                            $1,132,006.80</td><td style=\"text-align: right;\">                                                                            $1,132,006.80</td><td style=\"text-align: right;\">                                                                            $1,132,006.80</td><td style=\"text-align: right;\">                                                                            $1,132,006.80</td><td style=\"text-align: right;\">                                                                            $1,132,006.80</td><td style=\"text-align: right;\">                                                                            $1,132,006.80</td><td style=\"text-align: right;\">                                                                             $1,132,006.80</td></tr>\n<tr><td style=\"text-align: right;\">  2008</td><td style=\"text-align: right;\">                                                                            $1,315,557.20</td><td style=\"text-align: right;\">                                                                            $1,154,646.94</td><td style=\"text-align: right;\">                                                                            $1,154,646.94</td><td style=\"text-align: right;\">                                                                            $1,154,646.94</td><td style=\"text-align: right;\">                                                                            $1,154,646.94</td><td style=\"text-align: right;\">                                                                            $1,154,646.94</td><td style=\"text-align: right;\">                                                                            $1,154,646.94</td><td style=\"text-align: right;\">                                                                            $1,154,646.94</td><td style=\"text-align: right;\">                                                                            $1,154,646.94</td><td style=\"text-align: right;\">                                                                             $1,154,646.94</td></tr>\n<tr><td style=\"text-align: right;\">  2009</td><td style=\"text-align: right;\">                                                                            $1,341,868.34</td><td style=\"text-align: right;\">                                                                            $1,177,739.88</td><td style=\"text-align: right;\">                                                                            $1,177,739.88</td><td style=\"text-align: right;\">                                                                            $1,177,739.88</td><td style=\"text-align: right;\">                                                                            $1,177,739.88</td><td style=\"text-align: right;\">                                                                            $1,177,739.88</td><td style=\"text-align: right;\">                                                                            $1,177,739.88</td><td style=\"text-align: right;\">                                                                            $1,177,739.88</td><td style=\"text-align: right;\">                                                                            $1,177,739.88</td><td style=\"text-align: right;\">                                                                             $1,177,739.88</td></tr>\n<tr><td style=\"text-align: right;\">  2010</td><td style=\"text-align: right;\">                                                                            $1,368,705.71</td><td style=\"text-align: right;\">                                                                            $1,201,294.67</td><td style=\"text-align: right;\">                                                                            $1,201,294.67</td><td style=\"text-align: right;\">                                                                            $1,201,294.67</td><td style=\"text-align: right;\">                                                                            $1,201,294.67</td><td style=\"text-align: right;\">                                                                            $1,201,294.67</td><td style=\"text-align: right;\">                                                                            $1,201,294.67</td><td style=\"text-align: right;\">                                                                            $1,201,294.67</td><td style=\"text-align: right;\">                                                                            $1,201,294.67</td><td style=\"text-align: right;\">                                                                             $1,201,294.67</td></tr>\n<tr><td style=\"text-align: right;\">  2011</td><td style=\"text-align: right;\">                                                                            $1,396,079.82</td><td style=\"text-align: right;\">                                                                            $1,225,320.57</td><td style=\"text-align: right;\">                                                                            $1,225,320.57</td><td style=\"text-align: right;\">                                                                            $1,225,320.57</td><td style=\"text-align: right;\">                                                                            $1,225,320.57</td><td style=\"text-align: right;\">                                                                            $1,225,320.57</td><td style=\"text-align: right;\">                                                                            $1,225,320.57</td><td style=\"text-align: right;\">                                                                            $1,225,320.57</td><td style=\"text-align: right;\">                                                                            $1,225,320.57</td><td style=\"text-align: right;\">                                                                             $1,225,320.57</td></tr>\n</tbody>\n</table>"
     },
     "execution_count": 24,
     "metadata": {},
     "output_type": "execute_result"
    }
   ],
   "source": [
    "buildingAoffice = [e for (id, e) in spatial_containment.get_entities().items() if e.name == 'buildingAoffice'][0]\n",
    "print(buildingAoffice.name)\n",
    "buildingAoffice['subtotal_egi']"
   ]
  },
  {
   "cell_type": "markdown",
   "metadata": {
    "collapsed": false
   },
   "source": [
    "We can also easily sum and collapse that aggregation, as it is a Stream`:"
   ]
  },
  {
   "cell_type": "code",
   "execution_count": 25,
   "metadata": {
    "collapsed": false,
    "ExecuteTime": {
     "end_time": "2023-06-29T03:38:05.963719Z",
     "start_time": "2023-06-29T03:38:05.960021Z"
    }
   },
   "outputs": [
    {
     "data": {
      "text/plain": "<rangekeeper.flux.Flow at 0x2abea5240>",
      "text/html": "<table>\n<thead>\n<tr><th style=\"text-align: right;\">               date</th><th style=\"text-align: right;\">  egi for bfc1c272-665f-432d-a7b3-a4c955556e7f [buildingAoffice] Aggregation (sum)</th></tr>\n</thead>\n<tbody>\n<tr><td style=\"text-align: right;\">2001-12-31 00:00:00</td><td style=\"text-align: right;\">                                                                    $10,191,978.50</td></tr>\n<tr><td style=\"text-align: right;\">2002-12-31 00:00:00</td><td style=\"text-align: right;\">                                                                    $10,395,818.07</td></tr>\n<tr><td style=\"text-align: right;\">2003-12-31 00:00:00</td><td style=\"text-align: right;\">                                                                    $10,603,734.43</td></tr>\n<tr><td style=\"text-align: right;\">2004-12-31 00:00:00</td><td style=\"text-align: right;\">                                                                    $10,815,809.12</td></tr>\n<tr><td style=\"text-align: right;\">2005-12-31 00:00:00</td><td style=\"text-align: right;\">                                                                    $11,032,125.30</td></tr>\n<tr><td style=\"text-align: right;\">2006-12-31 00:00:00</td><td style=\"text-align: right;\">                                                                    $11,252,767.81</td></tr>\n<tr><td style=\"text-align: right;\">2007-12-31 00:00:00</td><td style=\"text-align: right;\">                                                                    $11,477,823.16</td></tr>\n<tr><td style=\"text-align: right;\">2008-12-31 00:00:00</td><td style=\"text-align: right;\">                                                                    $11,707,379.63</td></tr>\n<tr><td style=\"text-align: right;\">2009-12-31 00:00:00</td><td style=\"text-align: right;\">                                                                    $11,941,527.22</td></tr>\n<tr><td style=\"text-align: right;\">2010-12-31 00:00:00</td><td style=\"text-align: right;\">                                                                    $12,180,357.76</td></tr>\n<tr><td style=\"text-align: right;\">2011-12-31 00:00:00</td><td style=\"text-align: right;\">                                                                    $12,423,964.92</td></tr>\n</tbody>\n</table>"
     },
     "execution_count": 25,
     "metadata": {},
     "output_type": "execute_result"
    }
   ],
   "source": [
    "buildingAoffice['subtotal_egi'].sum()"
   ]
  },
  {
   "cell_type": "code",
   "execution_count": 26,
   "metadata": {
    "collapsed": false,
    "ExecuteTime": {
     "end_time": "2023-06-29T03:38:05.972335Z",
     "start_time": "2023-06-29T03:38:05.964805Z"
    }
   },
   "outputs": [
    {
     "data": {
      "text/plain": "<rangekeeper.flux.Flow at 0x2abee0190>",
      "text/html": "<table>\n<thead>\n<tr><th style=\"text-align: right;\">               date</th><th style=\"text-align: right;\">  egi for bfc1c272-665f-432d-a7b3-a4c955556e7f [buildingAoffice] Aggregation (sum)</th></tr>\n</thead>\n<tbody>\n<tr><td style=\"text-align: right;\">2011-12-31 00:00:00</td><td style=\"text-align: right;\">                                                                   $124,023,285.90</td></tr>\n</tbody>\n</table>"
     },
     "execution_count": 26,
     "metadata": {},
     "output_type": "execute_result"
    }
   ],
   "source": [
    "buildingAoffice['subtotal_egi'].sum().collapse()"
   ]
  },
  {
   "cell_type": "markdown",
   "metadata": {
    "collapsed": false
   },
   "source": [
    "The above subtotals the Effective Gross Income (EGI) for the office space of\n",
    "Building A over the period of the scenario.\n",
    "\n",
    "We can then do this for all `Entity`s in the graph, and plot the results:"
   ]
  },
  {
   "cell_type": "code",
   "execution_count": 27,
   "metadata": {
    "collapsed": false,
    "ExecuteTime": {
     "end_time": "2023-06-29T03:38:06.562849Z",
     "start_time": "2023-06-29T03:38:05.974024Z"
    }
   },
   "outputs": [
    {
     "data": {
      "text/plain": "<IPython.lib.display.IFrame at 0x2abe87610>",
      "text/html": "\n        <iframe\n            width=\"100%\"\n            height=\"1600\"\n            src=\"./aggregate_egis_chart.html\"\n            frameborder=\"0\"\n            allowfullscreen\n            \n        ></iframe>\n        "
     },
     "execution_count": 27,
     "metadata": {},
     "output_type": "execute_result"
    }
   ],
   "source": [
    "sunburst = spatial_containment.sunburst(property='subtotal_egi')\n",
    "treemap = spatial_containment.treemap(property='subtotal_egi')\n",
    "fig = plotly.subplots.make_subplots(\n",
    "    rows=2, cols=1,\n",
    "    specs=[[{\"type\": \"sunburst\"}], [{\"type\": \"treemap\"}]])\n",
    "fig.append_trace(sunburst, row=1, col=1)\n",
    "fig.append_trace(treemap, row=2, col=1)\n",
    "filename='aggregate_egis_chart.html'\n",
    "py.plot(fig, filename='assets/{0}'.format(filename), auto_open=False)\n",
    "IFrame(src=\"./{0}\".format(filename), width='100%', height=800 * len(fig.data))"
   ]
  },
  {
   "cell_type": "markdown",
   "metadata": {
    "collapsed": false
   },
   "source": [
    "### Cost-generating Entities\n",
    "Let's now do the same for the cost-generating `Entity`s. While it is routine to\n",
    "register revenue-generating `Flow`s with `Entity`s that have lettable or\n",
    "sellable floor space, the convention to also register all cost-generating\n",
    "`Flow`s with only those same `Entity`s is possibly only done out of convenience\n",
    "rather than accuracy.\n",
    "\n",
    "For example, both operating and capital expenses may be attributed to building\n",
    "systems (e.g. maintenance, upgrading, & replacement of MEP or facade\n",
    "componentry) that are not coincident with the floor space they are servicing.\n",
    "Ie, the convention to average (sub)total costs across (sub)total floor space may\n",
    "be misleading, especially when attempting to compare different scenarios at\n",
    "different resolutions (See {cite}`farevuu2018`, 5.4 Flaw of Averages).\n",
    "\n",
    "By virtue of *Rangekeeper*'s multi-faceted approach to its object model, costs\n",
    "can be attributed and aggregated to `Entity`s that are not spatially coincident\n",
    "with the revenue-generating `Entity`s; in the example design scenario, we will\n",
    "use the 'services' relationship-type to register and aggregate some of these,\n",
    "while space-specific costs will be registered and aggregated via spatial\n",
    "containment:"
   ]
  },
  {
   "cell_type": "markdown",
   "source": [
    "#### Operational and Capital Expenses of Building Utilities & Systems\n",
    "Of course, in a simplified model and without knowing design and engineering\n",
    "details for the scenario, costs for operational and capital expenses will be\n",
    "calculated from some proportional rate of spatial characteristics of the\n",
    "building. In this example, we will use the following as simplifications of how\n",
    "these types of costs may be calculated. Note that this is more a demonstration\n",
    "of methodology, and in practice would adjust to real-world data about the\n",
    "specific building systems and their costs.\n",
    "-  'Floorplate-derived' Operational and Capital Expenses will be calculated as a\n",
    "function of the subtotal floorplate area of 'building' `Entity`s. One could\n",
    "think of this as representing the cost of operating the floor's MEP, or\n",
    "maintaining, repairing and upgrading elements on the floors themselves\n",
    "(e.g. FF&E)\n",
    "- 'Facade-derived' Operational Expenses will be calculated as a function of the\n",
    "  surface area of 'building' `Entity`. This would represent the cost of facade\n",
    "maintenance, repair or replacement.\n",
    "- 'Utility-derived' Capital Expenses will be calculated as a function of the\n",
    "- volume of 'utility' `Entity`s. This represents the cost of repairing and\n",
    "upgrading the building's MEP and transportation systems.\n"
   ],
   "metadata": {
    "collapsed": false
   }
  },
  {
   "cell_type": "markdown",
   "source": [
    "#### Cost `Flow`s per `Entity`\n",
    "There are some properties of `Entity`s that we need to produce before we can\n",
    "calculate `Flow`s off them. In this case we need to produce the facade area\n",
    "for any `Entity`s that have 'perimeter' and 'ftf' (Floor-to-Floor height)\n",
    "properties:\n"
   ],
   "metadata": {
    "collapsed": false
   }
  },
  {
   "cell_type": "code",
   "execution_count": 28,
   "outputs": [],
   "source": [
    "# Aggregate Facade Areas:\n",
    "for (entityId, entity) in scenario.get_entities().items():\n",
    "    if hasattr(entity, 'perimeter') & hasattr(entity, 'ftf'):\n",
    "        entity['facade_area'] = entity['perimeter'] * entity['ftf']\n",
    "spatial_containment.aggregate(\n",
    "    property='facade_area',\n",
    "    label='subtotal_facade_area')"
   ],
   "metadata": {
    "collapsed": false,
    "ExecuteTime": {
     "end_time": "2023-06-29T03:38:06.568325Z",
     "start_time": "2023-06-29T03:38:06.565828Z"
    }
   }
  },
  {
   "cell_type": "markdown",
   "source": [
    "We now set up operational and capital costing parameters that are based off\n",
    "either areas or volume, as well as growth rates:"
   ],
   "metadata": {
    "collapsed": false
   }
  },
  {
   "cell_type": "code",
   "execution_count": 29,
   "outputs": [],
   "source": [
    "floor_opex_per_area_pa = dict(\n",
    "    office=-200,\n",
    "    retail=-300,\n",
    "    residential=-150,\n",
    "    parking=-75,\n",
    "    )\n",
    "facade_opex_per_area_pa = dict(\n",
    "    office=-50,\n",
    "    retail=-100,\n",
    "    residential=-50,\n",
    "    parking=-25,\n",
    "    )\n",
    "opex_growth_rate = 0.03\n",
    "floor_capex_per_area_pa = dict(\n",
    "    office=-125,\n",
    "    retail=-175,\n",
    "    residential=-125,\n",
    "    parking=-50,\n",
    "    )\n",
    "utility_capex_per_vol_pa = -200\n",
    "capex_growth_rate = 0.03"
   ],
   "metadata": {
    "collapsed": false,
    "ExecuteTime": {
     "end_time": "2023-06-29T03:38:06.581704Z",
     "start_time": "2023-06-29T03:38:06.569627Z"
    }
   }
  },
  {
   "cell_type": "markdown",
   "source": [
    "Now we can set up our `Costs` class to produce cost `Flow`s and `Stream`s:"
   ],
   "metadata": {
    "collapsed": false
   }
  },
  {
   "cell_type": "code",
   "execution_count": 30,
   "outputs": [],
   "source": [
    "class Costs:\n",
    "    def __init__(\n",
    "            self,\n",
    "            params: dict,\n",
    "            spans: Spans):\n",
    "        self.params = params\n",
    "        self.spans = spans"
   ],
   "metadata": {
    "collapsed": false,
    "ExecuteTime": {
     "end_time": "2023-06-29T03:38:06.581857Z",
     "start_time": "2023-06-29T03:38:06.572298Z"
    }
   }
  },
  {
   "cell_type": "code",
   "execution_count": 31,
   "outputs": [],
   "source": [
    "@rk.update_class(Costs)\n",
    "class Costs:\n",
    "    def generate_space_costs(self):\n",
    "        floor_opex = rk.flux.Flow.from_projection(\n",
    "            name='Floor-derived Operating Expenses',\n",
    "            value=self.params['initial_floor_opex'],\n",
    "            proj=rk.projection.Extrapolation(\n",
    "            form=rk.extrapolation.Compounding(\n",
    "                rate=self.params['opex_growth_rate']),\n",
    "            sequence=self.spans.calc_span.to_index(period_type=self.params['period_type'])),\n",
    "            units=currency.units)\n",
    "        facade_opex = rk.flux.Flow.from_projection(\n",
    "            name='Facade-derived Operating Expenses',\n",
    "            value=self.params['initial_facade_opex'],\n",
    "            proj=rk.projection.Extrapolation(\n",
    "            form=rk.extrapolation.Compounding(\n",
    "                rate=self.params['opex_growth_rate']),\n",
    "            sequence=self.spans.calc_span.to_index(period_type=self.params['period_type'])),\n",
    "            units=currency.units)\n",
    "        self.opex = rk.flux.Stream(\n",
    "            name='Space Operating Expenses',\n",
    "            flows=[floor_opex, facade_opex],\n",
    "            period_type=self.params['period_type'])\n",
    "\n",
    "        self.floor_capex = rk.flux.Flow.from_projection(\n",
    "            name='Floor-derived Capital Expenses',\n",
    "            value=self.params['initial_floor_capex'],\n",
    "            proj=rk.projection.Extrapolation(\n",
    "            form=rk.extrapolation.Compounding(\n",
    "                rate=self.params['capex_growth_rate']),\n",
    "            sequence=self.spans.calc_span.to_index(period_type=rk.periodicity.Type.SEMIDECADE)),\n",
    "            units=currency.units)\n"
   ],
   "metadata": {
    "collapsed": false,
    "ExecuteTime": {
     "end_time": "2023-06-29T03:38:06.581904Z",
     "start_time": "2023-06-29T03:38:06.577105Z"
    }
   }
  },
  {
   "cell_type": "markdown",
   "source": [
    "We will split the generation of space-based costs from the utility-based costs,\n",
    "as they will be applied to different `Entity` types:"
   ],
   "metadata": {
    "collapsed": false
   }
  },
  {
   "cell_type": "code",
   "execution_count": 32,
   "outputs": [],
   "source": [
    "@rk.update_class(Costs)\n",
    "class Costs:\n",
    "    def generate_utils_costs(self):\n",
    "        self.utils_capex = rk.flux.Flow.from_projection(\n",
    "            name='Utilities-derived Capital Expenses',\n",
    "            value=self.params['initial_utility_capex'],\n",
    "            proj=rk.projection.Extrapolation(\n",
    "            form=rk.extrapolation.Compounding(\n",
    "                rate=self.params['capex_growth_rate']),\n",
    "            sequence=self.spans.calc_span.to_index(period_type=rk.periodicity.Type.SEMIDECADE)),\n",
    "            units=currency.units)"
   ],
   "metadata": {
    "collapsed": false,
    "ExecuteTime": {
     "end_time": "2023-06-29T03:38:06.611301Z",
     "start_time": "2023-06-29T03:38:06.580477Z"
    }
   }
  },
  {
   "cell_type": "markdown",
   "source": [
    "Now we can run the `Costs` class against 'floor' and 'utilities' `Entity`s:"
   ],
   "metadata": {
    "collapsed": false
   }
  },
  {
   "cell_type": "code",
   "execution_count": 33,
   "outputs": [],
   "source": [
    "for floor in floors:\n",
    "    space_params = params.copy()\n",
    "\n",
    "    space_params['initial_floor_opex'] = floor_opex_per_area_pa[floor['use']] * floor['subtotal_gfa']\n",
    "    space_params['initial_facade_opex'] = facade_opex_per_area_pa[floor['use']] * floor['subtotal_facade_area']\n",
    "    space_params['initial_floor_capex'] = floor_capex_per_area_pa[floor['use']] * floor['subtotal_gfa']\n",
    "    space_params['opex_growth_rate'] = opex_growth_rate\n",
    "    space_params['capex_growth_rate'] = capex_growth_rate\n",
    "    floor['params'] = space_params\n",
    "\n",
    "    floor['events'] = {} if not hasattr(floor, 'events') else floor['events']\n",
    "\n",
    "    costs = Costs(\n",
    "        params=space_params,\n",
    "        spans=spans)\n",
    "    costs.generate_space_costs()\n",
    "    floor['events'].update(dict(\n",
    "        opex=costs.opex,\n",
    "        capex=costs.floor_capex))"
   ],
   "metadata": {
    "collapsed": false,
    "ExecuteTime": {
     "end_time": "2023-06-29T03:38:06.726368Z",
     "start_time": "2023-06-29T03:38:06.604696Z"
    }
   }
  },
  {
   "cell_type": "code",
   "execution_count": 34,
   "outputs": [],
   "source": [
    "utilities = scenario.filter_by_type(entity_type='utilities', is_assembly=False)"
   ],
   "metadata": {
    "collapsed": false,
    "ExecuteTime": {
     "end_time": "2023-06-29T03:38:06.729562Z",
     "start_time": "2023-06-29T03:38:06.727036Z"
    }
   }
  },
  {
   "cell_type": "code",
   "execution_count": 35,
   "outputs": [],
   "source": [
    "for utility in utilities.get_entities().values():\n",
    "    utility_params = params.copy()\n",
    "\n",
    "    utility_params['initial_utility_capex'] = utility_capex_per_vol_pa * utility['volume']\n",
    "    utility_params['capex_growth_rate'] = capex_growth_rate\n",
    "    utility['params'] = utility_params\n",
    "\n",
    "    utility['events'] = {} if not hasattr(utility, 'events') else utility['events']\n",
    "\n",
    "    costs = Costs(\n",
    "        params=utility_params,\n",
    "        spans=spans)\n",
    "    costs.generate_utils_costs()\n",
    "    utility['events'].update(dict(\n",
    "        utils_capex=costs.utils_capex))"
   ],
   "metadata": {
    "collapsed": false,
    "ExecuteTime": {
     "end_time": "2023-06-29T03:38:06.736252Z",
     "start_time": "2023-06-29T03:38:06.734078Z"
    }
   }
  },
  {
   "cell_type": "markdown",
   "source": [
    "And finally aggregate them according to their relationships type (either\n",
    "spatial containment or service provision):"
   ],
   "metadata": {
    "collapsed": false
   }
  },
  {
   "cell_type": "code",
   "execution_count": 36,
   "outputs": [],
   "source": [
    "def aggregate_opex(**kwargs):\n",
    "    return rk.graph.Entity.aggregate_events(\n",
    "        **kwargs,\n",
    "        property='opex',\n",
    "        period_type=period_type)\n",
    "scenario.aggregate(\n",
    "    function=aggregate_opex,\n",
    "    property='events',\n",
    "    label='subtotal_opex',\n",
    "    relationship_type='spatiallyContains')"
   ],
   "metadata": {
    "collapsed": false,
    "ExecuteTime": {
     "end_time": "2023-06-29T03:38:06.977101Z",
     "start_time": "2023-06-29T03:38:06.771072Z"
    }
   }
  },
  {
   "cell_type": "code",
   "execution_count": 37,
   "outputs": [],
   "source": [
    "def aggregate_floor_capex(**kwargs):\n",
    "    return rk.graph.Entity.aggregate_events(\n",
    "        **kwargs,\n",
    "        property='capex',\n",
    "        period_type=period_type)\n",
    "scenario.aggregate(\n",
    "    function=aggregate_floor_capex,\n",
    "    property='events',\n",
    "    label='subtotal_floor_capex',\n",
    "    relationship_type='spatiallyContains')"
   ],
   "metadata": {
    "collapsed": false,
    "ExecuteTime": {
     "end_time": "2023-06-29T03:38:07.097600Z",
     "start_time": "2023-06-29T03:38:06.989380Z"
    }
   }
  },
  {
   "cell_type": "code",
   "execution_count": 38,
   "outputs": [],
   "source": [
    "def aggregate_utils_capex(**kwargs):\n",
    "    return rk.graph.Entity.aggregate_events(\n",
    "        **kwargs,\n",
    "        property='utils_capex',\n",
    "        period_type=period_type)\n",
    "scenario.aggregate(\n",
    "    function=aggregate_utils_capex,\n",
    "    property='events',\n",
    "    label='subtotal_utils_capex',\n",
    "    relationship_type='services')"
   ],
   "metadata": {
    "collapsed": false,
    "ExecuteTime": {
     "end_time": "2023-06-29T03:38:07.132919Z",
     "start_time": "2023-06-29T03:38:07.098212Z"
    }
   }
  },
  {
   "cell_type": "markdown",
   "source": [
    "If we wish to see the ultimate aggregation of those costs, we can do so by\n",
    "totalling them at their root `Entity`:"
   ],
   "metadata": {
    "collapsed": false
   }
  },
  {
   "cell_type": "code",
   "execution_count": 39,
   "outputs": [],
   "source": [
    "scenario_opex = scenario.get_roots()['spatiallyContains'][0]['subtotal_opex'].total()\n",
    "scenario_capex = scenario.get_roots()['spatiallyContains'][0]['subtotal_floor_capex'].total()\n",
    "utils_capex = scenario.get_roots()['services'][0]['subtotal_utils_capex'].total()"
   ],
   "metadata": {
    "collapsed": false,
    "ExecuteTime": {
     "end_time": "2023-06-29T03:38:07.148196Z",
     "start_time": "2023-06-29T03:38:07.125094Z"
    }
   }
  },
  {
   "cell_type": "code",
   "execution_count": 40,
   "outputs": [
    {
     "name": "stdout",
     "output_type": "stream",
     "text": [
      "Scenario OPEX: $-100,165,293.05\n",
      "Scenario CAPEX: $-14,627,224.07\n",
      "Utils CAPEX: $-12,498,936.57\n"
     ]
    }
   ],
   "source": [
    "print('Scenario OPEX: ${:,.2f}'.format(scenario_opex))\n",
    "print('Scenario CAPEX: ${:,.2f}'.format(scenario_capex))\n",
    "print('Utils CAPEX: ${:,.2f}'.format(utils_capex))"
   ],
   "metadata": {
    "collapsed": false,
    "ExecuteTime": {
     "end_time": "2023-06-29T03:38:07.148427Z",
     "start_time": "2023-06-29T03:38:07.127673Z"
    }
   }
  },
  {
   "cell_type": "markdown",
   "source": [
    "To get a sense check if this is reasonable, we can compare the opex and capex\n",
    "to the PGI. First let's aggregate the PGI for all `Entity`s:"
   ],
   "metadata": {
    "collapsed": false
   }
  },
  {
   "cell_type": "code",
   "execution_count": 41,
   "outputs": [],
   "source": [
    "def aggregate_pgis(**kwargs):\n",
    "    return rk.graph.Entity.aggregate_events(\n",
    "        **kwargs,\n",
    "        property='pgi',\n",
    "        period_type=period_type)"
   ],
   "metadata": {
    "collapsed": false,
    "ExecuteTime": {
     "end_time": "2023-06-29T03:38:07.148471Z",
     "start_time": "2023-06-29T03:38:07.130220Z"
    }
   }
  },
  {
   "cell_type": "code",
   "execution_count": 42,
   "outputs": [],
   "source": [
    "spatial_containment.aggregate(\n",
    "    property='events',\n",
    "    function=aggregate_pgis,\n",
    "    label='subtotal_pgi')"
   ],
   "metadata": {
    "collapsed": false,
    "ExecuteTime": {
     "end_time": "2023-06-29T03:38:07.263802Z",
     "start_time": "2023-06-29T03:38:07.139343Z"
    }
   }
  },
  {
   "cell_type": "markdown",
   "source": [
    "And total it to the root `Entity`:"
   ],
   "metadata": {
    "collapsed": false
   }
  },
  {
   "cell_type": "code",
   "execution_count": 43,
   "outputs": [
    {
     "name": "stdout",
     "output_type": "stream",
     "text": [
      "Scenario PGI: $277,563,820.78\n"
     ]
    }
   ],
   "source": [
    "scenario_pgi = scenario.get_roots()['spatiallyContains'][0]['subtotal_pgi'].total()\n",
    "print('Scenario PGI: ${:,.2f}'.format(scenario_pgi))"
   ],
   "metadata": {
    "collapsed": false,
    "ExecuteTime": {
     "end_time": "2023-06-29T03:38:07.268756Z",
     "start_time": "2023-06-29T03:38:07.266443Z"
    }
   }
  },
  {
   "cell_type": "markdown",
   "source": [
    "The total opex : pgi ratio is:"
   ],
   "metadata": {
    "collapsed": false
   }
  },
  {
   "cell_type": "code",
   "execution_count": 44,
   "outputs": [
    {
     "name": "stdout",
     "output_type": "stream",
     "text": [
      "Scenario OpEx as proportion of PGI: 36.09%\n"
     ]
    }
   ],
   "source": [
    "print('Scenario OpEx as proportion of PGI: {0:.2%}'.format(-scenario_opex / scenario_pgi))"
   ],
   "metadata": {
    "collapsed": false,
    "ExecuteTime": {
     "end_time": "2023-06-29T03:38:07.271469Z",
     "start_time": "2023-06-29T03:38:07.269632Z"
    }
   }
  },
  {
   "cell_type": "markdown",
   "source": [
    "While the total capex : pgi ratio is:"
   ],
   "metadata": {
    "collapsed": false
   }
  },
  {
   "cell_type": "code",
   "execution_count": 45,
   "outputs": [
    {
     "name": "stdout",
     "output_type": "stream",
     "text": [
      "Scenario CapEx as proportion of PGI: 9.77%\n"
     ]
    }
   ],
   "source": [
    "print('Scenario CapEx as proportion of PGI: {0:.2%}'.format(-(scenario_capex + utils_capex) / scenario_pgi))"
   ],
   "metadata": {
    "collapsed": false,
    "ExecuteTime": {
     "end_time": "2023-06-29T03:38:07.274759Z",
     "start_time": "2023-06-29T03:38:07.272401Z"
    }
   }
  },
  {
   "cell_type": "markdown",
   "source": [
    "We can also then chart the relative contributions of each `Entity` to the\n",
    "sceanrio's Net Annual Cashflows (NACFs):"
   ],
   "metadata": {
    "collapsed": false
   }
  },
  {
   "cell_type": "code",
   "execution_count": 46,
   "outputs": [],
   "source": [
    "for entity in scenario.get_entities().values():\n",
    "    egi_flow = None if not hasattr(entity, 'subtotal_egi') or entity['subtotal_egi'] is None else entity['subtotal_egi'].sum()\n",
    "    opex_flow = None if not hasattr(entity, 'subtotal_opex') or entity['subtotal_opex'] is None else entity['subtotal_opex'].sum()\n",
    "    flows = list(filter(None, [egi_flow, opex_flow]))\n",
    "    if len(flows) > 0:\n",
    "        entity['subtotal_nacf'] = rk.flux.Stream(\n",
    "            name='Net Annual Cashflows',\n",
    "            flows=flows,\n",
    "            period_type=period_type)\n",
    "    else:\n",
    "        entity['subtotal_nacf'] = None"
   ],
   "metadata": {
    "collapsed": false,
    "ExecuteTime": {
     "end_time": "2023-06-29T03:38:07.445663Z",
     "start_time": "2023-06-29T03:38:07.283957Z"
    }
   }
  },
  {
   "cell_type": "code",
   "execution_count": 47,
   "outputs": [
    {
     "data": {
      "text/plain": "Entity: plinthparkingFloor-2 (Type: floor)"
     },
     "execution_count": 47,
     "metadata": {},
     "output_type": "execute_result"
    }
   ],
   "source": [
    "parking = [e for e in scenario.get_entities().values() if 'parking' in e['name'] and rk.graph.is_entity(e, True)]\n",
    "parking[1]"
   ],
   "metadata": {
    "collapsed": false,
    "ExecuteTime": {
     "end_time": "2023-06-29T03:38:07.455368Z",
     "start_time": "2023-06-29T03:38:07.446479Z"
    }
   }
  },
  {
   "cell_type": "code",
   "execution_count": 48,
   "outputs": [
    {
     "data": {
      "text/plain": "<rangekeeper.flux.Stream at 0x2be4796f0>",
      "text/html": "<table>\n<thead>\n<tr><th style=\"text-align: right;\">  date</th><th style=\"text-align: right;\">  egi for cf287254-7d66-4a4b-8a56-f247f51b41db [plinthparkingFloor-2] Aggregation (sum)</th><th style=\"text-align: right;\">  opex for cf287254-7d66-4a4b-8a56-f247f51b41db [plinthparkingFloor-2] Aggregation (sum)</th></tr>\n</thead>\n<tbody>\n<tr><td style=\"text-align: right;\">  2001</td><td style=\"text-align: right;\">                                                                                  $0.00</td><td style=\"text-align: right;\">                                                                            -$505,285.02</td></tr>\n<tr><td style=\"text-align: right;\">  2002</td><td style=\"text-align: right;\">                                                                                  $0.00</td><td style=\"text-align: right;\">                                                                            -$520,443.58</td></tr>\n<tr><td style=\"text-align: right;\">  2003</td><td style=\"text-align: right;\">                                                                                  $0.00</td><td style=\"text-align: right;\">                                                                            -$536,056.88</td></tr>\n<tr><td style=\"text-align: right;\">  2004</td><td style=\"text-align: right;\">                                                                                  $0.00</td><td style=\"text-align: right;\">                                                                            -$552,138.59</td></tr>\n<tr><td style=\"text-align: right;\">  2005</td><td style=\"text-align: right;\">                                                                                  $0.00</td><td style=\"text-align: right;\">                                                                            -$568,702.75</td></tr>\n<tr><td style=\"text-align: right;\">  2006</td><td style=\"text-align: right;\">                                                                                  $0.00</td><td style=\"text-align: right;\">                                                                            -$585,763.83</td></tr>\n<tr><td style=\"text-align: right;\">  2007</td><td style=\"text-align: right;\">                                                                                  $0.00</td><td style=\"text-align: right;\">                                                                            -$603,336.74</td></tr>\n<tr><td style=\"text-align: right;\">  2008</td><td style=\"text-align: right;\">                                                                                  $0.00</td><td style=\"text-align: right;\">                                                                            -$621,436.85</td></tr>\n<tr><td style=\"text-align: right;\">  2009</td><td style=\"text-align: right;\">                                                                                  $0.00</td><td style=\"text-align: right;\">                                                                            -$640,079.95</td></tr>\n<tr><td style=\"text-align: right;\">  2010</td><td style=\"text-align: right;\">                                                                                  $0.00</td><td style=\"text-align: right;\">                                                                            -$659,282.35</td></tr>\n<tr><td style=\"text-align: right;\">  2011</td><td style=\"text-align: right;\">                                                                                  $0.00</td><td style=\"text-align: right;\">                                                                            -$679,060.82</td></tr>\n</tbody>\n</table>"
     },
     "execution_count": 48,
     "metadata": {},
     "output_type": "execute_result"
    }
   ],
   "source": [
    "parking[1]['subtotal_nacf']"
   ],
   "metadata": {
    "collapsed": false,
    "ExecuteTime": {
     "end_time": "2023-06-29T03:38:07.462366Z",
     "start_time": "2023-06-29T03:38:07.454809Z"
    }
   }
  },
  {
   "cell_type": "code",
   "execution_count": 49,
   "outputs": [
    {
     "data": {
      "text/plain": "                                             type  \\\na39ac4c3-094b-4d92-b71d-46c5a857f407  development   \n981c0743-6a4c-4abd-8a97-2c937e48b897     building   \ne3149444-dfbc-41d0-9eb1-f08785a62da1     building   \n529ce7bc-addf-4bad-8ec5-cbecbd73d4f1     building   \n29b746f5-42fe-4321-9a4a-8c65c9f0410c    utilities   \n3fc29315-81e7-45a9-8241-62938e904d73        space   \nf508623d-1d81-4082-85ee-5b1e32c7bb10        space   \n6ac8ab6d-a730-44b8-97aa-a5db09b7fbd0        space   \n71fd4551-8e65-4e7a-8e2a-9d18e69146b0    utilities   \nc11f68da-0544-487b-9cb9-8a3a3a98a9b8        floor   \ncfc3edf5-1e7d-4499-b25f-ee86ed013516        floor   \n3e158dd9-aa5d-47bb-bc13-4b3e6d328fe1        floor   \nb8609a1e-b9f8-44a0-ab98-468ff247d753        floor   \nf68d2f9b-13c5-42e2-9bca-1826f7eff481        floor   \nec086fbc-7b21-4958-b456-9bce6a883c98        floor   \n9ecaf92a-a90e-4572-a426-3ed392e0c28a        floor   \n9a884f88-0627-4eb7-b1ec-80ea39b0a25b        floor   \nd7dd5233-b1c3-451f-ae90-5a80fed205bd        floor   \n4acebff3-f17b-44fb-ba29-6bc02053b329        floor   \nd188b4bb-27a3-4f63-9469-e9705c60a7a5        space   \n8d9f92cf-5613-4de4-b99b-7681aa76b4cd    utilities   \ncf287254-7d66-4a4b-8a56-f247f51b41db        floor   \n926a3e9d-0601-4f96-bd71-317d928194f2        floor   \n987c5866-03b0-4948-962e-4870684f481b        space   \n7dc6bf46-805f-4990-bcd2-d0fe1de4dd47        space   \n549a988b-c3bc-42d4-a6a3-a8dc694fa770        space   \n3cf2bf71-61fa-4a61-b163-6265c299376d        space   \nbfc1c272-665f-432d-a7b3-a4c955556e7f        space   \n55963d84-702d-423d-be05-c8bb6e88f517    utilities   \n01282060-ad91-44be-b0d3-ff43e340e8bd        floor   \nf9e9ae1c-00f3-4966-9682-281ef2a86899        floor   \ne7b3aec0-5003-448b-a0e3-4c2dbb605f85        floor   \n9c13f0be-9991-4d9f-b41b-a0e962bdeb89        floor   \ne88ff464-a453-45bb-93d8-5f983d417912        floor   \n8ce80d06-69f6-404a-b0fd-a728eb0dfed6        floor   \nbb0a0d86-31c1-4780-b81f-8d0e5a5d83be        floor   \n32080c6a-1f31-446f-a3d9-59759ac00ff4        floor   \na1fc1a28-1133-47f2-a8d9-58da817946c2        floor   \n0296748a-317a-47eb-bf94-e5dbbd78afc1        floor   \n74ed0525-d8f9-4f36-b20f-1b8a2baf60f2        floor   \nae0fb830-76df-4d91-82ed-4ed755fdec4b        floor   \nc1b696b1-cae0-49ed-a8ba-0e795438d3d2        floor   \nadd95b48-71c3-40e7-9f35-7db604f3f9f0        floor   \nd8443e6d-9080-4154-89e3-29f0e98ed90a        floor   \nf8945b4f-6f59-4c5a-a83f-462a97f2dcc4        floor   \nb548b184-1643-4c23-9b14-9025aeda59c3        floor   \ne8048367-edd2-4a61-ae0f-fd878688c910        floor   \n\n                                                                   subtotal_floor_capex  \\\na39ac4c3-094b-4d92-b71d-46c5a857f407       Floor-derived Capital Expenses for c11f68...   \n981c0743-6a4c-4abd-8a97-2c937e48b897       Floor-derived Capital Expenses for c11f68...   \ne3149444-dfbc-41d0-9eb1-f08785a62da1       Floor-derived Capital Expenses for cf2872...   \n529ce7bc-addf-4bad-8ec5-cbecbd73d4f1       Floor-derived Capital Expenses for 012820...   \n29b746f5-42fe-4321-9a4a-8c65c9f0410c                                               None   \n3fc29315-81e7-45a9-8241-62938e904d73       Floor-derived Capital Expenses for c11f68...   \nf508623d-1d81-4082-85ee-5b1e32c7bb10       Floor-derived Capital Expenses for d7dd52...   \n6ac8ab6d-a730-44b8-97aa-a5db09b7fbd0       Floor-derived Capital Expenses for 4acebf...   \n71fd4551-8e65-4e7a-8e2a-9d18e69146b0                                               None   \nc11f68da-0544-487b-9cb9-8a3a3a98a9b8       Floor-derived Capital Expenses for c11f68...   \ncfc3edf5-1e7d-4499-b25f-ee86ed013516       Floor-derived Capital Expenses for cfc3ed...   \n3e158dd9-aa5d-47bb-bc13-4b3e6d328fe1       Floor-derived Capital Expenses for 3e158d...   \nb8609a1e-b9f8-44a0-ab98-468ff247d753       Floor-derived Capital Expenses for b8609a...   \nf68d2f9b-13c5-42e2-9bca-1826f7eff481       Floor-derived Capital Expenses for f68d2f...   \nec086fbc-7b21-4958-b456-9bce6a883c98       Floor-derived Capital Expenses for ec086f...   \n9ecaf92a-a90e-4572-a426-3ed392e0c28a       Floor-derived Capital Expenses for 9ecaf9...   \n9a884f88-0627-4eb7-b1ec-80ea39b0a25b       Floor-derived Capital Expenses for 9a884f...   \nd7dd5233-b1c3-451f-ae90-5a80fed205bd       Floor-derived Capital Expenses for d7dd52...   \n4acebff3-f17b-44fb-ba29-6bc02053b329       Floor-derived Capital Expenses for 4acebf...   \nd188b4bb-27a3-4f63-9469-e9705c60a7a5       Floor-derived Capital Expenses for cf2872...   \n8d9f92cf-5613-4de4-b99b-7681aa76b4cd                                               None   \ncf287254-7d66-4a4b-8a56-f247f51b41db       Floor-derived Capital Expenses for cf2872...   \n926a3e9d-0601-4f96-bd71-317d928194f2       Floor-derived Capital Expenses for 926a3e...   \n987c5866-03b0-4948-962e-4870684f481b       Floor-derived Capital Expenses for 012820...   \n7dc6bf46-805f-4990-bcd2-d0fe1de4dd47       Floor-derived Capital Expenses for f9e9ae...   \n549a988b-c3bc-42d4-a6a3-a8dc694fa770       Floor-derived Capital Expenses for e7b3ae...   \n3cf2bf71-61fa-4a61-b163-6265c299376d       Floor-derived Capital Expenses for 32080c...   \nbfc1c272-665f-432d-a7b3-a4c955556e7f       Floor-derived Capital Expenses for a1fc1a...   \n55963d84-702d-423d-be05-c8bb6e88f517                                               None   \n01282060-ad91-44be-b0d3-ff43e340e8bd       Floor-derived Capital Expenses for 012820...   \nf9e9ae1c-00f3-4966-9682-281ef2a86899       Floor-derived Capital Expenses for f9e9ae...   \ne7b3aec0-5003-448b-a0e3-4c2dbb605f85       Floor-derived Capital Expenses for e7b3ae...   \n9c13f0be-9991-4d9f-b41b-a0e962bdeb89       Floor-derived Capital Expenses for 9c13f0...   \ne88ff464-a453-45bb-93d8-5f983d417912       Floor-derived Capital Expenses for e88ff4...   \n8ce80d06-69f6-404a-b0fd-a728eb0dfed6       Floor-derived Capital Expenses for 8ce80d...   \nbb0a0d86-31c1-4780-b81f-8d0e5a5d83be       Floor-derived Capital Expenses for bb0a0d...   \n32080c6a-1f31-446f-a3d9-59759ac00ff4       Floor-derived Capital Expenses for 32080c...   \na1fc1a28-1133-47f2-a8d9-58da817946c2       Floor-derived Capital Expenses for a1fc1a...   \n0296748a-317a-47eb-bf94-e5dbbd78afc1       Floor-derived Capital Expenses for 029674...   \n74ed0525-d8f9-4f36-b20f-1b8a2baf60f2       Floor-derived Capital Expenses for 74ed05...   \nae0fb830-76df-4d91-82ed-4ed755fdec4b       Floor-derived Capital Expenses for ae0fb8...   \nc1b696b1-cae0-49ed-a8ba-0e795438d3d2       Floor-derived Capital Expenses for c1b696...   \nadd95b48-71c3-40e7-9f35-7db604f3f9f0       Floor-derived Capital Expenses for add95b...   \nd8443e6d-9080-4154-89e3-29f0e98ed90a       Floor-derived Capital Expenses for d8443e...   \nf8945b4f-6f59-4c5a-a83f-462a97f2dcc4       Floor-derived Capital Expenses for f8945b...   \nb548b184-1643-4c23-9b14-9025aeda59c3       Floor-derived Capital Expenses for b548b1...   \ne8048367-edd2-4a61-ae0f-fd878688c910       Floor-derived Capital Expenses for e80483...   \n\n                                                                          subtotal_opex  \\\na39ac4c3-094b-4d92-b71d-46c5a857f407       Space Operating Expenses for c11f68da-054...   \n981c0743-6a4c-4abd-8a97-2c937e48b897       Space Operating Expenses for c11f68da-054...   \ne3149444-dfbc-41d0-9eb1-f08785a62da1       Space Operating Expenses for cf287254-7d6...   \n529ce7bc-addf-4bad-8ec5-cbecbd73d4f1       Space Operating Expenses for 01282060-ad9...   \n29b746f5-42fe-4321-9a4a-8c65c9f0410c                                               None   \n3fc29315-81e7-45a9-8241-62938e904d73       Space Operating Expenses for c11f68da-054...   \nf508623d-1d81-4082-85ee-5b1e32c7bb10       Space Operating Expenses for d7dd5233-b1c...   \n6ac8ab6d-a730-44b8-97aa-a5db09b7fbd0       Space Operating Expenses for 4acebff3-f17...   \n71fd4551-8e65-4e7a-8e2a-9d18e69146b0                                               None   \nc11f68da-0544-487b-9cb9-8a3a3a98a9b8       Space Operating Expenses for c11f68da-054...   \ncfc3edf5-1e7d-4499-b25f-ee86ed013516       Space Operating Expenses for cfc3edf5-1e7...   \n3e158dd9-aa5d-47bb-bc13-4b3e6d328fe1       Space Operating Expenses for 3e158dd9-aa5...   \nb8609a1e-b9f8-44a0-ab98-468ff247d753       Space Operating Expenses for b8609a1e-b9f...   \nf68d2f9b-13c5-42e2-9bca-1826f7eff481       Space Operating Expenses for f68d2f9b-13c...   \nec086fbc-7b21-4958-b456-9bce6a883c98       Space Operating Expenses for ec086fbc-7b2...   \n9ecaf92a-a90e-4572-a426-3ed392e0c28a       Space Operating Expenses for 9ecaf92a-a90...   \n9a884f88-0627-4eb7-b1ec-80ea39b0a25b       Space Operating Expenses for 9a884f88-062...   \nd7dd5233-b1c3-451f-ae90-5a80fed205bd       Space Operating Expenses for d7dd5233-b1c...   \n4acebff3-f17b-44fb-ba29-6bc02053b329       Space Operating Expenses for 4acebff3-f17...   \nd188b4bb-27a3-4f63-9469-e9705c60a7a5       Space Operating Expenses for cf287254-7d6...   \n8d9f92cf-5613-4de4-b99b-7681aa76b4cd                                               None   \ncf287254-7d66-4a4b-8a56-f247f51b41db       Space Operating Expenses for cf287254-7d6...   \n926a3e9d-0601-4f96-bd71-317d928194f2       Space Operating Expenses for 926a3e9d-060...   \n987c5866-03b0-4948-962e-4870684f481b       Space Operating Expenses for 01282060-ad9...   \n7dc6bf46-805f-4990-bcd2-d0fe1de4dd47       Space Operating Expenses for f9e9ae1c-00f...   \n549a988b-c3bc-42d4-a6a3-a8dc694fa770       Space Operating Expenses for e7b3aec0-500...   \n3cf2bf71-61fa-4a61-b163-6265c299376d       Space Operating Expenses for 32080c6a-1f3...   \nbfc1c272-665f-432d-a7b3-a4c955556e7f       Space Operating Expenses for a1fc1a28-113...   \n55963d84-702d-423d-be05-c8bb6e88f517                                               None   \n01282060-ad91-44be-b0d3-ff43e340e8bd       Space Operating Expenses for 01282060-ad9...   \nf9e9ae1c-00f3-4966-9682-281ef2a86899       Space Operating Expenses for f9e9ae1c-00f...   \ne7b3aec0-5003-448b-a0e3-4c2dbb605f85       Space Operating Expenses for e7b3aec0-500...   \n9c13f0be-9991-4d9f-b41b-a0e962bdeb89       Space Operating Expenses for 9c13f0be-999...   \ne88ff464-a453-45bb-93d8-5f983d417912       Space Operating Expenses for e88ff464-a45...   \n8ce80d06-69f6-404a-b0fd-a728eb0dfed6       Space Operating Expenses for 8ce80d06-69f...   \nbb0a0d86-31c1-4780-b81f-8d0e5a5d83be       Space Operating Expenses for bb0a0d86-31c...   \n32080c6a-1f31-446f-a3d9-59759ac00ff4       Space Operating Expenses for 32080c6a-1f3...   \na1fc1a28-1133-47f2-a8d9-58da817946c2       Space Operating Expenses for a1fc1a28-113...   \n0296748a-317a-47eb-bf94-e5dbbd78afc1       Space Operating Expenses for 0296748a-317...   \n74ed0525-d8f9-4f36-b20f-1b8a2baf60f2       Space Operating Expenses for 74ed0525-d8f...   \nae0fb830-76df-4d91-82ed-4ed755fdec4b       Space Operating Expenses for ae0fb830-76d...   \nc1b696b1-cae0-49ed-a8ba-0e795438d3d2       Space Operating Expenses for c1b696b1-cae...   \nadd95b48-71c3-40e7-9f35-7db604f3f9f0       Space Operating Expenses for add95b48-71c...   \nd8443e6d-9080-4154-89e3-29f0e98ed90a       Space Operating Expenses for d8443e6d-908...   \nf8945b4f-6f59-4c5a-a83f-462a97f2dcc4       Space Operating Expenses for f8945b4f-6f5...   \nb548b184-1643-4c23-9b14-9025aeda59c3       Space Operating Expenses for b548b184-164...   \ne8048367-edd2-4a61-ae0f-fd878688c910       Space Operating Expenses for e8048367-edd...   \n\n                                                                           subtotal_pgi  \\\na39ac4c3-094b-4d92-b71d-46c5a857f407       Potential Gross Income for c11f68da-0544-...   \n981c0743-6a4c-4abd-8a97-2c937e48b897       Potential Gross Income for c11f68da-0544-...   \ne3149444-dfbc-41d0-9eb1-f08785a62da1       Potential Gross Income for cf287254-7d66-...   \n529ce7bc-addf-4bad-8ec5-cbecbd73d4f1       Potential Gross Income for 01282060-ad91-...   \n29b746f5-42fe-4321-9a4a-8c65c9f0410c                                               None   \n3fc29315-81e7-45a9-8241-62938e904d73       Potential Gross Income for c11f68da-0544-...   \nf508623d-1d81-4082-85ee-5b1e32c7bb10       Potential Gross Income for d7dd5233-b1c3-...   \n6ac8ab6d-a730-44b8-97aa-a5db09b7fbd0       Potential Gross Income for 4acebff3-f17b-...   \n71fd4551-8e65-4e7a-8e2a-9d18e69146b0                                               None   \nc11f68da-0544-487b-9cb9-8a3a3a98a9b8       Potential Gross Income for c11f68da-0544-...   \ncfc3edf5-1e7d-4499-b25f-ee86ed013516       Potential Gross Income for cfc3edf5-1e7d-...   \n3e158dd9-aa5d-47bb-bc13-4b3e6d328fe1       Potential Gross Income for 3e158dd9-aa5d-...   \nb8609a1e-b9f8-44a0-ab98-468ff247d753       Potential Gross Income for b8609a1e-b9f8-...   \nf68d2f9b-13c5-42e2-9bca-1826f7eff481       Potential Gross Income for f68d2f9b-13c5-...   \nec086fbc-7b21-4958-b456-9bce6a883c98       Potential Gross Income for ec086fbc-7b21-...   \n9ecaf92a-a90e-4572-a426-3ed392e0c28a       Potential Gross Income for 9ecaf92a-a90e-...   \n9a884f88-0627-4eb7-b1ec-80ea39b0a25b       Potential Gross Income for 9a884f88-0627-...   \nd7dd5233-b1c3-451f-ae90-5a80fed205bd       Potential Gross Income for d7dd5233-b1c3-...   \n4acebff3-f17b-44fb-ba29-6bc02053b329       Potential Gross Income for 4acebff3-f17b-...   \nd188b4bb-27a3-4f63-9469-e9705c60a7a5       Potential Gross Income for cf287254-7d66-...   \n8d9f92cf-5613-4de4-b99b-7681aa76b4cd                                               None   \ncf287254-7d66-4a4b-8a56-f247f51b41db       Potential Gross Income for cf287254-7d66-...   \n926a3e9d-0601-4f96-bd71-317d928194f2       Potential Gross Income for 926a3e9d-0601-...   \n987c5866-03b0-4948-962e-4870684f481b       Potential Gross Income for 01282060-ad91-...   \n7dc6bf46-805f-4990-bcd2-d0fe1de4dd47       Potential Gross Income for f9e9ae1c-00f3-...   \n549a988b-c3bc-42d4-a6a3-a8dc694fa770       Potential Gross Income for e7b3aec0-5003-...   \n3cf2bf71-61fa-4a61-b163-6265c299376d       Potential Gross Income for 32080c6a-1f31-...   \nbfc1c272-665f-432d-a7b3-a4c955556e7f       Potential Gross Income for a1fc1a28-1133-...   \n55963d84-702d-423d-be05-c8bb6e88f517                                               None   \n01282060-ad91-44be-b0d3-ff43e340e8bd       Potential Gross Income for 01282060-ad91-...   \nf9e9ae1c-00f3-4966-9682-281ef2a86899       Potential Gross Income for f9e9ae1c-00f3-...   \ne7b3aec0-5003-448b-a0e3-4c2dbb605f85       Potential Gross Income for e7b3aec0-5003-...   \n9c13f0be-9991-4d9f-b41b-a0e962bdeb89       Potential Gross Income for 9c13f0be-9991-...   \ne88ff464-a453-45bb-93d8-5f983d417912       Potential Gross Income for e88ff464-a453-...   \n8ce80d06-69f6-404a-b0fd-a728eb0dfed6       Potential Gross Income for 8ce80d06-69f6-...   \nbb0a0d86-31c1-4780-b81f-8d0e5a5d83be       Potential Gross Income for bb0a0d86-31c1-...   \n32080c6a-1f31-446f-a3d9-59759ac00ff4       Potential Gross Income for 32080c6a-1f31-...   \na1fc1a28-1133-47f2-a8d9-58da817946c2       Potential Gross Income for a1fc1a28-1133-...   \n0296748a-317a-47eb-bf94-e5dbbd78afc1       Potential Gross Income for 0296748a-317a-...   \n74ed0525-d8f9-4f36-b20f-1b8a2baf60f2       Potential Gross Income for 74ed0525-d8f9-...   \nae0fb830-76df-4d91-82ed-4ed755fdec4b       Potential Gross Income for ae0fb830-76df-...   \nc1b696b1-cae0-49ed-a8ba-0e795438d3d2       Potential Gross Income for c1b696b1-cae0-...   \nadd95b48-71c3-40e7-9f35-7db604f3f9f0       Potential Gross Income for add95b48-71c3-...   \nd8443e6d-9080-4154-89e3-29f0e98ed90a       Potential Gross Income for d8443e6d-9080-...   \nf8945b4f-6f59-4c5a-a83f-462a97f2dcc4       Potential Gross Income for f8945b4f-6f59-...   \nb548b184-1643-4c23-9b14-9025aeda59c3       Potential Gross Income for b548b184-1643-...   \ne8048367-edd2-4a61-ae0f-fd878688c910       Potential Gross Income for e8048367-edd2-...   \n\n                                                            name  \\\na39ac4c3-094b-4d92-b71d-46c5a857f407                 development   \n981c0743-6a4c-4abd-8a97-2c937e48b897                   buildingB   \ne3149444-dfbc-41d0-9eb1-f08785a62da1                      plinth   \n529ce7bc-addf-4bad-8ec5-cbecbd73d4f1                   buildingA   \n29b746f5-42fe-4321-9a4a-8c65c9f0410c                   utilities   \n3fc29315-81e7-45a9-8241-62938e904d73        buildingBresidential   \nf508623d-1d81-4082-85ee-5b1e32c7bb10            buildingBparking   \n6ac8ab6d-a730-44b8-97aa-a5db09b7fbd0             buildingBretail   \n71fd4551-8e65-4e7a-8e2a-9d18e69146b0              buildingBcores   \nc11f68da-0544-487b-9cb9-8a3a3a98a9b8  buildingBresidentialFloor0   \ncfc3edf5-1e7d-4499-b25f-ee86ed013516  buildingBresidentialFloor1   \n3e158dd9-aa5d-47bb-bc13-4b3e6d328fe1  buildingBresidentialFloor2   \nb8609a1e-b9f8-44a0-ab98-468ff247d753  buildingBresidentialFloor3   \nf68d2f9b-13c5-42e2-9bca-1826f7eff481  buildingBresidentialFloor4   \nec086fbc-7b21-4958-b456-9bce6a883c98  buildingBresidentialFloor5   \n9ecaf92a-a90e-4572-a426-3ed392e0c28a  buildingBresidentialFloor6   \n9a884f88-0627-4eb7-b1ec-80ea39b0a25b  buildingBresidentialFloor0   \nd7dd5233-b1c3-451f-ae90-5a80fed205bd      buildingBparkingFloor0   \n4acebff3-f17b-44fb-ba29-6bc02053b329       buildingBretailFloor0   \nd188b4bb-27a3-4f63-9469-e9705c60a7a5               plinthparking   \n8d9f92cf-5613-4de4-b99b-7681aa76b4cd                 plinthplant   \ncf287254-7d66-4a4b-8a56-f247f51b41db        plinthparkingFloor-2   \n926a3e9d-0601-4f96-bd71-317d928194f2        plinthparkingFloor-1   \n987c5866-03b0-4948-962e-4870684f481b            buildingAparking   \n7dc6bf46-805f-4990-bcd2-d0fe1de4dd47             buildingAretail   \n549a988b-c3bc-42d4-a6a3-a8dc694fa770        buildingAresidential   \n3cf2bf71-61fa-4a61-b163-6265c299376d             buildingAretail   \nbfc1c272-665f-432d-a7b3-a4c955556e7f             buildingAoffice   \n55963d84-702d-423d-be05-c8bb6e88f517              buildingAcores   \n01282060-ad91-44be-b0d3-ff43e340e8bd      buildingAparkingFloor0   \nf9e9ae1c-00f3-4966-9682-281ef2a86899       buildingAretailFloor0   \ne7b3aec0-5003-448b-a0e3-4c2dbb605f85  buildingAresidentialFloor0   \n9c13f0be-9991-4d9f-b41b-a0e962bdeb89  buildingAresidentialFloor0   \ne88ff464-a453-45bb-93d8-5f983d417912  buildingAresidentialFloor1   \n8ce80d06-69f6-404a-b0fd-a728eb0dfed6  buildingAresidentialFloor2   \nbb0a0d86-31c1-4780-b81f-8d0e5a5d83be  buildingAresidentialFloor3   \n32080c6a-1f31-446f-a3d9-59759ac00ff4       buildingAretailFloor0   \na1fc1a28-1133-47f2-a8d9-58da817946c2       buildingAofficeFloor1   \n0296748a-317a-47eb-bf94-e5dbbd78afc1       buildingAofficeFloor2   \n74ed0525-d8f9-4f36-b20f-1b8a2baf60f2       buildingAofficeFloor3   \nae0fb830-76df-4d91-82ed-4ed755fdec4b       buildingAofficeFloor4   \nc1b696b1-cae0-49ed-a8ba-0e795438d3d2       buildingAofficeFloor5   \nadd95b48-71c3-40e7-9f35-7db604f3f9f0       buildingAofficeFloor6   \nd8443e6d-9080-4154-89e3-29f0e98ed90a       buildingAofficeFloor7   \nf8945b4f-6f59-4c5a-a83f-462a97f2dcc4       buildingAofficeFloor8   \nb548b184-1643-4c23-9b14-9025aeda59c3       buildingAofficeFloor9   \ne8048367-edd2-4a61-ae0f-fd878688c910      buildingAofficeFloor10   \n\n                                                                    id  \\\na39ac4c3-094b-4d92-b71d-46c5a857f407  7f4903e4698b6cfd8e0a64c12adf2416   \n981c0743-6a4c-4abd-8a97-2c937e48b897  cc58e3963020225ad02212d4343b5812   \ne3149444-dfbc-41d0-9eb1-f08785a62da1  f80e85a2d73c9b21d9c44075f1c4cf1c   \n529ce7bc-addf-4bad-8ec5-cbecbd73d4f1  bba4e7eed48a0fe438cbd5343f98ed1f   \n29b746f5-42fe-4321-9a4a-8c65c9f0410c  78c8831e5729be7502454b9cb5c55638   \n3fc29315-81e7-45a9-8241-62938e904d73  4a8deb1795b4b28e8f0e8388aee99b23   \nf508623d-1d81-4082-85ee-5b1e32c7bb10  015362e9733d35e803cdb0239e16e7fb   \n6ac8ab6d-a730-44b8-97aa-a5db09b7fbd0  db597c7b2d642ae13a924745ec0ca8f6   \n71fd4551-8e65-4e7a-8e2a-9d18e69146b0  40e5f30e34a71dc756faeaa1cbc2f7a4   \nc11f68da-0544-487b-9cb9-8a3a3a98a9b8  0ed53f8285272bb33d9223ac8ff89680   \ncfc3edf5-1e7d-4499-b25f-ee86ed013516  e3c5e45cd68d83296242a455ae06cb38   \n3e158dd9-aa5d-47bb-bc13-4b3e6d328fe1  f7b7aa999789c0b3301bd464317fe5fc   \nb8609a1e-b9f8-44a0-ab98-468ff247d753  1acacb9d2b5292447f7a952a82a63741   \nf68d2f9b-13c5-42e2-9bca-1826f7eff481  382ed00fd0be5f4d9e93b8f8ba060812   \nec086fbc-7b21-4958-b456-9bce6a883c98  04fd06a7193debbfa2d3ae2bf6ece9f3   \n9ecaf92a-a90e-4572-a426-3ed392e0c28a  fd70d92018ff3a26689b80baac900533   \n9a884f88-0627-4eb7-b1ec-80ea39b0a25b  f4dccd718be782c3da0bd00b1120f630   \nd7dd5233-b1c3-451f-ae90-5a80fed205bd  7a880b72c1af6c1da4fda7b40ee2b9c5   \n4acebff3-f17b-44fb-ba29-6bc02053b329  d3fe6ec14b5ef8f0dd76c4df739aee4c   \nd188b4bb-27a3-4f63-9469-e9705c60a7a5  63711b98d7f502fbda8c1ac2ca2b2b54   \n8d9f92cf-5613-4de4-b99b-7681aa76b4cd  c859dd76f9c3d42eff5b479154891839   \ncf287254-7d66-4a4b-8a56-f247f51b41db  44ed4efe8e5d6f821a45ecb5bd940e0f   \n926a3e9d-0601-4f96-bd71-317d928194f2  72621ba1bfd974066a08ff128d4b8851   \n987c5866-03b0-4948-962e-4870684f481b  a65c34c51eaeba2fd7da4abe16de9cbc   \n7dc6bf46-805f-4990-bcd2-d0fe1de4dd47  9ed420c6c2ac60436e62ce38f0b4c1c2   \n549a988b-c3bc-42d4-a6a3-a8dc694fa770  0272b1a43ef3e6bddb3108764284fbe3   \n3cf2bf71-61fa-4a61-b163-6265c299376d  7fc4f0786342912001716c15cd90e1bd   \nbfc1c272-665f-432d-a7b3-a4c955556e7f  1cb0005b9f2555f5958f2236c341f928   \n55963d84-702d-423d-be05-c8bb6e88f517  822467f16eaeb1923e88da49e6dfdaa9   \n01282060-ad91-44be-b0d3-ff43e340e8bd  e08141a153feb38bb93204e379f05504   \nf9e9ae1c-00f3-4966-9682-281ef2a86899  e8ff34a0b8d53f8de5380a2b07ab7604   \ne7b3aec0-5003-448b-a0e3-4c2dbb605f85  ec6155f290fda09e629fdfff79849d47   \n9c13f0be-9991-4d9f-b41b-a0e962bdeb89  596b0a6f7a37ab20231616260fb9aa52   \ne88ff464-a453-45bb-93d8-5f983d417912  3f83f05085de4b86bc5f125e8dd55b17   \n8ce80d06-69f6-404a-b0fd-a728eb0dfed6  cf409a7218fd1454b72e78bcfd6da43e   \nbb0a0d86-31c1-4780-b81f-8d0e5a5d83be  ac2d95a47f61a943498e56e76f9d1354   \n32080c6a-1f31-446f-a3d9-59759ac00ff4  3c12a2c03aad7269eb7cc22de402a955   \na1fc1a28-1133-47f2-a8d9-58da817946c2  83b419e58555c747c20716875ba4597f   \n0296748a-317a-47eb-bf94-e5dbbd78afc1  37ec2e919b9859ecd29c4458ff5ad96b   \n74ed0525-d8f9-4f36-b20f-1b8a2baf60f2  356280b6c8aad690c7ff0b4ccfacba5d   \nae0fb830-76df-4d91-82ed-4ed755fdec4b  fc729283157606a767114a85dc9b8a79   \nc1b696b1-cae0-49ed-a8ba-0e795438d3d2  d1fc053b819309a8974d34636600ab9a   \nadd95b48-71c3-40e7-9f35-7db604f3f9f0  1889d5f805e643a2c94dcd20978d495e   \nd8443e6d-9080-4154-89e3-29f0e98ed90a  46ff37f1a4a3e7952ec2eb8caddfeac0   \nf8945b4f-6f59-4c5a-a83f-462a97f2dcc4  5860edecb64f54d983b82c93b85e62a5   \nb548b184-1643-4c23-9b14-9025aeda59c3  af18721f0a289260853ba91cd9396a09   \ne8048367-edd2-4a61-ae0f-fd878688c910  39f74cc1fe3db7b29478a336e9364759   \n\n                                      subtotal_facade_area  \\\na39ac4c3-094b-4d92-b71d-46c5a857f407          18368.835682   \n981c0743-6a4c-4abd-8a97-2c937e48b897           7584.514216   \ne3149444-dfbc-41d0-9eb1-f08785a62da1           2101.569360   \n529ce7bc-addf-4bad-8ec5-cbecbd73d4f1           8682.752106   \n29b746f5-42fe-4321-9a4a-8c65c9f0410c              0.000000   \n3fc29315-81e7-45a9-8241-62938e904d73           5892.467960   \nf508623d-1d81-4082-85ee-5b1e32c7bb10            845.782703   \n6ac8ab6d-a730-44b8-97aa-a5db09b7fbd0            846.263553   \n71fd4551-8e65-4e7a-8e2a-9d18e69146b0              0.000000   \nc11f68da-0544-487b-9cb9-8a3a3a98a9b8            886.630547   \ncfc3edf5-1e7d-4499-b25f-ee86ed013516            968.379662   \n3e158dd9-aa5d-47bb-bc13-4b3e6d328fe1            968.379662   \nb8609a1e-b9f8-44a0-ab98-468ff247d753            947.919662   \nf68d2f9b-13c5-42e2-9bca-1826f7eff481            947.919662   \nec086fbc-7b21-4958-b456-9bce6a883c98            425.365235   \n9ecaf92a-a90e-4572-a426-3ed392e0c28a            425.365235   \n9a884f88-0627-4eb7-b1ec-80ea39b0a25b            322.508294   \nd7dd5233-b1c3-451f-ae90-5a80fed205bd            845.782703   \n4acebff3-f17b-44fb-ba29-6bc02053b329            846.263553   \nd188b4bb-27a3-4f63-9469-e9705c60a7a5           2101.569360   \n8d9f92cf-5613-4de4-b99b-7681aa76b4cd              0.000000   \ncf287254-7d66-4a4b-8a56-f247f51b41db           1050.784680   \n926a3e9d-0601-4f96-bd71-317d928194f2           1050.784680   \n987c5866-03b0-4948-962e-4870684f481b            685.218770   \n7dc6bf46-805f-4990-bcd2-d0fe1de4dd47            644.181624   \n549a988b-c3bc-42d4-a6a3-a8dc694fa770           1407.620851   \n3cf2bf71-61fa-4a61-b163-6265c299376d           1175.182888   \nbfc1c272-665f-432d-a7b3-a4c955556e7f           4770.547972   \n55963d84-702d-423d-be05-c8bb6e88f517              0.000000   \n01282060-ad91-44be-b0d3-ff43e340e8bd            685.218770   \nf9e9ae1c-00f3-4966-9682-281ef2a86899            644.181624   \ne7b3aec0-5003-448b-a0e3-4c2dbb605f85            156.500000   \n9c13f0be-9991-4d9f-b41b-a0e962bdeb89            133.000000   \ne88ff464-a453-45bb-93d8-5f983d417912            372.706950   \n8ce80d06-69f6-404a-b0fd-a728eb0dfed6            372.706950   \nbb0a0d86-31c1-4780-b81f-8d0e5a5d83be            372.706950   \n32080c6a-1f31-446f-a3d9-59759ac00ff4           1175.182888   \na1fc1a28-1133-47f2-a8d9-58da817946c2            515.604747   \n0296748a-317a-47eb-bf94-e5dbbd78afc1            472.771469   \n74ed0525-d8f9-4f36-b20f-1b8a2baf60f2            472.771469   \nae0fb830-76df-4d91-82ed-4ed755fdec4b            472.771469   \nc1b696b1-cae0-49ed-a8ba-0e795438d3d2            472.771469   \nadd95b48-71c3-40e7-9f35-7db604f3f9f0            472.771469   \nd8443e6d-9080-4154-89e3-29f0e98ed90a            472.771469   \nf8945b4f-6f59-4c5a-a83f-462a97f2dcc4            472.771469   \nb548b184-1643-4c23-9b14-9025aeda59c3            472.771469   \ne8048367-edd2-4a61-ae0f-fd878688c910            472.771469   \n\n                                                                  entityId  \\\na39ac4c3-094b-4d92-b71d-46c5a857f407  a39ac4c3-094b-4d92-b71d-46c5a857f407   \n981c0743-6a4c-4abd-8a97-2c937e48b897  981c0743-6a4c-4abd-8a97-2c937e48b897   \ne3149444-dfbc-41d0-9eb1-f08785a62da1  e3149444-dfbc-41d0-9eb1-f08785a62da1   \n529ce7bc-addf-4bad-8ec5-cbecbd73d4f1  529ce7bc-addf-4bad-8ec5-cbecbd73d4f1   \n29b746f5-42fe-4321-9a4a-8c65c9f0410c  29b746f5-42fe-4321-9a4a-8c65c9f0410c   \n3fc29315-81e7-45a9-8241-62938e904d73  3fc29315-81e7-45a9-8241-62938e904d73   \nf508623d-1d81-4082-85ee-5b1e32c7bb10  f508623d-1d81-4082-85ee-5b1e32c7bb10   \n6ac8ab6d-a730-44b8-97aa-a5db09b7fbd0  6ac8ab6d-a730-44b8-97aa-a5db09b7fbd0   \n71fd4551-8e65-4e7a-8e2a-9d18e69146b0  71fd4551-8e65-4e7a-8e2a-9d18e69146b0   \nc11f68da-0544-487b-9cb9-8a3a3a98a9b8  c11f68da-0544-487b-9cb9-8a3a3a98a9b8   \ncfc3edf5-1e7d-4499-b25f-ee86ed013516  cfc3edf5-1e7d-4499-b25f-ee86ed013516   \n3e158dd9-aa5d-47bb-bc13-4b3e6d328fe1  3e158dd9-aa5d-47bb-bc13-4b3e6d328fe1   \nb8609a1e-b9f8-44a0-ab98-468ff247d753  b8609a1e-b9f8-44a0-ab98-468ff247d753   \nf68d2f9b-13c5-42e2-9bca-1826f7eff481  f68d2f9b-13c5-42e2-9bca-1826f7eff481   \nec086fbc-7b21-4958-b456-9bce6a883c98  ec086fbc-7b21-4958-b456-9bce6a883c98   \n9ecaf92a-a90e-4572-a426-3ed392e0c28a  9ecaf92a-a90e-4572-a426-3ed392e0c28a   \n9a884f88-0627-4eb7-b1ec-80ea39b0a25b  9a884f88-0627-4eb7-b1ec-80ea39b0a25b   \nd7dd5233-b1c3-451f-ae90-5a80fed205bd  d7dd5233-b1c3-451f-ae90-5a80fed205bd   \n4acebff3-f17b-44fb-ba29-6bc02053b329  4acebff3-f17b-44fb-ba29-6bc02053b329   \nd188b4bb-27a3-4f63-9469-e9705c60a7a5  d188b4bb-27a3-4f63-9469-e9705c60a7a5   \n8d9f92cf-5613-4de4-b99b-7681aa76b4cd  8d9f92cf-5613-4de4-b99b-7681aa76b4cd   \ncf287254-7d66-4a4b-8a56-f247f51b41db  cf287254-7d66-4a4b-8a56-f247f51b41db   \n926a3e9d-0601-4f96-bd71-317d928194f2  926a3e9d-0601-4f96-bd71-317d928194f2   \n987c5866-03b0-4948-962e-4870684f481b  987c5866-03b0-4948-962e-4870684f481b   \n7dc6bf46-805f-4990-bcd2-d0fe1de4dd47  7dc6bf46-805f-4990-bcd2-d0fe1de4dd47   \n549a988b-c3bc-42d4-a6a3-a8dc694fa770  549a988b-c3bc-42d4-a6a3-a8dc694fa770   \n3cf2bf71-61fa-4a61-b163-6265c299376d  3cf2bf71-61fa-4a61-b163-6265c299376d   \nbfc1c272-665f-432d-a7b3-a4c955556e7f  bfc1c272-665f-432d-a7b3-a4c955556e7f   \n55963d84-702d-423d-be05-c8bb6e88f517  55963d84-702d-423d-be05-c8bb6e88f517   \n01282060-ad91-44be-b0d3-ff43e340e8bd  01282060-ad91-44be-b0d3-ff43e340e8bd   \nf9e9ae1c-00f3-4966-9682-281ef2a86899  f9e9ae1c-00f3-4966-9682-281ef2a86899   \ne7b3aec0-5003-448b-a0e3-4c2dbb605f85  e7b3aec0-5003-448b-a0e3-4c2dbb605f85   \n9c13f0be-9991-4d9f-b41b-a0e962bdeb89  9c13f0be-9991-4d9f-b41b-a0e962bdeb89   \ne88ff464-a453-45bb-93d8-5f983d417912  e88ff464-a453-45bb-93d8-5f983d417912   \n8ce80d06-69f6-404a-b0fd-a728eb0dfed6  8ce80d06-69f6-404a-b0fd-a728eb0dfed6   \nbb0a0d86-31c1-4780-b81f-8d0e5a5d83be  bb0a0d86-31c1-4780-b81f-8d0e5a5d83be   \n32080c6a-1f31-446f-a3d9-59759ac00ff4  32080c6a-1f31-446f-a3d9-59759ac00ff4   \na1fc1a28-1133-47f2-a8d9-58da817946c2  a1fc1a28-1133-47f2-a8d9-58da817946c2   \n0296748a-317a-47eb-bf94-e5dbbd78afc1  0296748a-317a-47eb-bf94-e5dbbd78afc1   \n74ed0525-d8f9-4f36-b20f-1b8a2baf60f2  74ed0525-d8f9-4f36-b20f-1b8a2baf60f2   \nae0fb830-76df-4d91-82ed-4ed755fdec4b  ae0fb830-76df-4d91-82ed-4ed755fdec4b   \nc1b696b1-cae0-49ed-a8ba-0e795438d3d2  c1b696b1-cae0-49ed-a8ba-0e795438d3d2   \nadd95b48-71c3-40e7-9f35-7db604f3f9f0  add95b48-71c3-40e7-9f35-7db604f3f9f0   \nd8443e6d-9080-4154-89e3-29f0e98ed90a  d8443e6d-9080-4154-89e3-29f0e98ed90a   \nf8945b4f-6f59-4c5a-a83f-462a97f2dcc4  f8945b4f-6f59-4c5a-a83f-462a97f2dcc4   \nb548b184-1643-4c23-9b14-9025aeda59c3  b548b184-1643-4c23-9b14-9025aeda59c3   \ne8048367-edd2-4a61-ae0f-fd878688c910  e8048367-edd2-4a61-ae0f-fd878688c910   \n\n                                                                          subtotal_nacf  \\\na39ac4c3-094b-4d92-b71d-46c5a857f407       egi for a39ac4c3-094b-4d92-b71d-46c5a857f...   \n981c0743-6a4c-4abd-8a97-2c937e48b897       egi for 981c0743-6a4c-4abd-8a97-2c937e48b...   \ne3149444-dfbc-41d0-9eb1-f08785a62da1       egi for e3149444-dfbc-41d0-9eb1-f08785a62...   \n529ce7bc-addf-4bad-8ec5-cbecbd73d4f1       egi for 529ce7bc-addf-4bad-8ec5-cbecbd73d...   \n29b746f5-42fe-4321-9a4a-8c65c9f0410c                                               None   \n3fc29315-81e7-45a9-8241-62938e904d73       egi for 3fc29315-81e7-45a9-8241-62938e904...   \nf508623d-1d81-4082-85ee-5b1e32c7bb10       egi for f508623d-1d81-4082-85ee-5b1e32c7b...   \n6ac8ab6d-a730-44b8-97aa-a5db09b7fbd0       egi for 6ac8ab6d-a730-44b8-97aa-a5db09b7f...   \n71fd4551-8e65-4e7a-8e2a-9d18e69146b0                                               None   \nc11f68da-0544-487b-9cb9-8a3a3a98a9b8       egi for c11f68da-0544-487b-9cb9-8a3a3a98a...   \ncfc3edf5-1e7d-4499-b25f-ee86ed013516       egi for cfc3edf5-1e7d-4499-b25f-ee86ed013...   \n3e158dd9-aa5d-47bb-bc13-4b3e6d328fe1       egi for 3e158dd9-aa5d-47bb-bc13-4b3e6d328...   \nb8609a1e-b9f8-44a0-ab98-468ff247d753       egi for b8609a1e-b9f8-44a0-ab98-468ff247d...   \nf68d2f9b-13c5-42e2-9bca-1826f7eff481       egi for f68d2f9b-13c5-42e2-9bca-1826f7eff...   \nec086fbc-7b21-4958-b456-9bce6a883c98       egi for ec086fbc-7b21-4958-b456-9bce6a883...   \n9ecaf92a-a90e-4572-a426-3ed392e0c28a       egi for 9ecaf92a-a90e-4572-a426-3ed392e0c...   \n9a884f88-0627-4eb7-b1ec-80ea39b0a25b       egi for 9a884f88-0627-4eb7-b1ec-80ea39b0a...   \nd7dd5233-b1c3-451f-ae90-5a80fed205bd       egi for d7dd5233-b1c3-451f-ae90-5a80fed20...   \n4acebff3-f17b-44fb-ba29-6bc02053b329       egi for 4acebff3-f17b-44fb-ba29-6bc02053b...   \nd188b4bb-27a3-4f63-9469-e9705c60a7a5       egi for d188b4bb-27a3-4f63-9469-e9705c60a...   \n8d9f92cf-5613-4de4-b99b-7681aa76b4cd                                               None   \ncf287254-7d66-4a4b-8a56-f247f51b41db       egi for cf287254-7d66-4a4b-8a56-f247f51b4...   \n926a3e9d-0601-4f96-bd71-317d928194f2       egi for 926a3e9d-0601-4f96-bd71-317d92819...   \n987c5866-03b0-4948-962e-4870684f481b       egi for 987c5866-03b0-4948-962e-4870684f4...   \n7dc6bf46-805f-4990-bcd2-d0fe1de4dd47       egi for 7dc6bf46-805f-4990-bcd2-d0fe1de4d...   \n549a988b-c3bc-42d4-a6a3-a8dc694fa770       egi for 549a988b-c3bc-42d4-a6a3-a8dc694fa...   \n3cf2bf71-61fa-4a61-b163-6265c299376d       egi for 3cf2bf71-61fa-4a61-b163-6265c2993...   \nbfc1c272-665f-432d-a7b3-a4c955556e7f       egi for bfc1c272-665f-432d-a7b3-a4c955556...   \n55963d84-702d-423d-be05-c8bb6e88f517                                               None   \n01282060-ad91-44be-b0d3-ff43e340e8bd       egi for 01282060-ad91-44be-b0d3-ff43e340e...   \nf9e9ae1c-00f3-4966-9682-281ef2a86899       egi for f9e9ae1c-00f3-4966-9682-281ef2a86...   \ne7b3aec0-5003-448b-a0e3-4c2dbb605f85       egi for e7b3aec0-5003-448b-a0e3-4c2dbb605...   \n9c13f0be-9991-4d9f-b41b-a0e962bdeb89       egi for 9c13f0be-9991-4d9f-b41b-a0e962bde...   \ne88ff464-a453-45bb-93d8-5f983d417912       egi for e88ff464-a453-45bb-93d8-5f983d417...   \n8ce80d06-69f6-404a-b0fd-a728eb0dfed6       egi for 8ce80d06-69f6-404a-b0fd-a728eb0df...   \nbb0a0d86-31c1-4780-b81f-8d0e5a5d83be       egi for bb0a0d86-31c1-4780-b81f-8d0e5a5d8...   \n32080c6a-1f31-446f-a3d9-59759ac00ff4       egi for 32080c6a-1f31-446f-a3d9-59759ac00...   \na1fc1a28-1133-47f2-a8d9-58da817946c2       egi for a1fc1a28-1133-47f2-a8d9-58da81794...   \n0296748a-317a-47eb-bf94-e5dbbd78afc1       egi for 0296748a-317a-47eb-bf94-e5dbbd78a...   \n74ed0525-d8f9-4f36-b20f-1b8a2baf60f2       egi for 74ed0525-d8f9-4f36-b20f-1b8a2baf6...   \nae0fb830-76df-4d91-82ed-4ed755fdec4b       egi for ae0fb830-76df-4d91-82ed-4ed755fde...   \nc1b696b1-cae0-49ed-a8ba-0e795438d3d2       egi for c1b696b1-cae0-49ed-a8ba-0e795438d...   \nadd95b48-71c3-40e7-9f35-7db604f3f9f0       egi for add95b48-71c3-40e7-9f35-7db604f3f...   \nd8443e6d-9080-4154-89e3-29f0e98ed90a       egi for d8443e6d-9080-4154-89e3-29f0e98ed...   \nf8945b4f-6f59-4c5a-a83f-462a97f2dcc4       egi for f8945b4f-6f59-4c5a-a83f-462a97f2d...   \nb548b184-1643-4c23-9b14-9025aeda59c3       egi for b548b184-1643-4c23-9b14-9025aeda5...   \ne8048367-edd2-4a61-ae0f-fd878688c910       egi for e8048367-edd2-4a61-ae0f-fd878688c...   \n\n                                                                           subtotal_egi  \\\na39ac4c3-094b-4d92-b71d-46c5a857f407       Effective Gross Income for c11f68da-0544-...   \n981c0743-6a4c-4abd-8a97-2c937e48b897       Effective Gross Income for c11f68da-0544-...   \ne3149444-dfbc-41d0-9eb1-f08785a62da1       Effective Gross Income for cf287254-7d66-...   \n529ce7bc-addf-4bad-8ec5-cbecbd73d4f1       Effective Gross Income for 01282060-ad91-...   \n29b746f5-42fe-4321-9a4a-8c65c9f0410c                                               None   \n3fc29315-81e7-45a9-8241-62938e904d73       Effective Gross Income for c11f68da-0544-...   \nf508623d-1d81-4082-85ee-5b1e32c7bb10       Effective Gross Income for d7dd5233-b1c3-...   \n6ac8ab6d-a730-44b8-97aa-a5db09b7fbd0       Effective Gross Income for 4acebff3-f17b-...   \n71fd4551-8e65-4e7a-8e2a-9d18e69146b0                                               None   \nc11f68da-0544-487b-9cb9-8a3a3a98a9b8       Effective Gross Income for c11f68da-0544-...   \ncfc3edf5-1e7d-4499-b25f-ee86ed013516       Effective Gross Income for cfc3edf5-1e7d-...   \n3e158dd9-aa5d-47bb-bc13-4b3e6d328fe1       Effective Gross Income for 3e158dd9-aa5d-...   \nb8609a1e-b9f8-44a0-ab98-468ff247d753       Effective Gross Income for b8609a1e-b9f8-...   \nf68d2f9b-13c5-42e2-9bca-1826f7eff481       Effective Gross Income for f68d2f9b-13c5-...   \nec086fbc-7b21-4958-b456-9bce6a883c98       Effective Gross Income for ec086fbc-7b21-...   \n9ecaf92a-a90e-4572-a426-3ed392e0c28a       Effective Gross Income for 9ecaf92a-a90e-...   \n9a884f88-0627-4eb7-b1ec-80ea39b0a25b       Effective Gross Income for 9a884f88-0627-...   \nd7dd5233-b1c3-451f-ae90-5a80fed205bd       Effective Gross Income for d7dd5233-b1c3-...   \n4acebff3-f17b-44fb-ba29-6bc02053b329       Effective Gross Income for 4acebff3-f17b-...   \nd188b4bb-27a3-4f63-9469-e9705c60a7a5       Effective Gross Income for cf287254-7d66-...   \n8d9f92cf-5613-4de4-b99b-7681aa76b4cd                                               None   \ncf287254-7d66-4a4b-8a56-f247f51b41db       Effective Gross Income for cf287254-7d66-...   \n926a3e9d-0601-4f96-bd71-317d928194f2       Effective Gross Income for 926a3e9d-0601-...   \n987c5866-03b0-4948-962e-4870684f481b       Effective Gross Income for 01282060-ad91-...   \n7dc6bf46-805f-4990-bcd2-d0fe1de4dd47       Effective Gross Income for f9e9ae1c-00f3-...   \n549a988b-c3bc-42d4-a6a3-a8dc694fa770       Effective Gross Income for e7b3aec0-5003-...   \n3cf2bf71-61fa-4a61-b163-6265c299376d       Effective Gross Income for 32080c6a-1f31-...   \nbfc1c272-665f-432d-a7b3-a4c955556e7f       Effective Gross Income for a1fc1a28-1133-...   \n55963d84-702d-423d-be05-c8bb6e88f517                                               None   \n01282060-ad91-44be-b0d3-ff43e340e8bd       Effective Gross Income for 01282060-ad91-...   \nf9e9ae1c-00f3-4966-9682-281ef2a86899       Effective Gross Income for f9e9ae1c-00f3-...   \ne7b3aec0-5003-448b-a0e3-4c2dbb605f85       Effective Gross Income for e7b3aec0-5003-...   \n9c13f0be-9991-4d9f-b41b-a0e962bdeb89       Effective Gross Income for 9c13f0be-9991-...   \ne88ff464-a453-45bb-93d8-5f983d417912       Effective Gross Income for e88ff464-a453-...   \n8ce80d06-69f6-404a-b0fd-a728eb0dfed6       Effective Gross Income for 8ce80d06-69f6-...   \nbb0a0d86-31c1-4780-b81f-8d0e5a5d83be       Effective Gross Income for bb0a0d86-31c1-...   \n32080c6a-1f31-446f-a3d9-59759ac00ff4       Effective Gross Income for 32080c6a-1f31-...   \na1fc1a28-1133-47f2-a8d9-58da817946c2       Effective Gross Income for a1fc1a28-1133-...   \n0296748a-317a-47eb-bf94-e5dbbd78afc1       Effective Gross Income for 0296748a-317a-...   \n74ed0525-d8f9-4f36-b20f-1b8a2baf60f2       Effective Gross Income for 74ed0525-d8f9-...   \nae0fb830-76df-4d91-82ed-4ed755fdec4b       Effective Gross Income for ae0fb830-76df-...   \nc1b696b1-cae0-49ed-a8ba-0e795438d3d2       Effective Gross Income for c1b696b1-cae0-...   \nadd95b48-71c3-40e7-9f35-7db604f3f9f0       Effective Gross Income for add95b48-71c3-...   \nd8443e6d-9080-4154-89e3-29f0e98ed90a       Effective Gross Income for d8443e6d-9080-...   \nf8945b4f-6f59-4c5a-a83f-462a97f2dcc4       Effective Gross Income for f8945b4f-6f59-...   \nb548b184-1643-4c23-9b14-9025aeda59c3       Effective Gross Income for b548b184-1643-...   \ne8048367-edd2-4a61-ae0f-fd878688c910       Effective Gross Income for e8048367-edd2-...   \n\n                                      ...  \\\na39ac4c3-094b-4d92-b71d-46c5a857f407  ...   \n981c0743-6a4c-4abd-8a97-2c937e48b897  ...   \ne3149444-dfbc-41d0-9eb1-f08785a62da1  ...   \n529ce7bc-addf-4bad-8ec5-cbecbd73d4f1  ...   \n29b746f5-42fe-4321-9a4a-8c65c9f0410c  ...   \n3fc29315-81e7-45a9-8241-62938e904d73  ...   \nf508623d-1d81-4082-85ee-5b1e32c7bb10  ...   \n6ac8ab6d-a730-44b8-97aa-a5db09b7fbd0  ...   \n71fd4551-8e65-4e7a-8e2a-9d18e69146b0  ...   \nc11f68da-0544-487b-9cb9-8a3a3a98a9b8  ...   \ncfc3edf5-1e7d-4499-b25f-ee86ed013516  ...   \n3e158dd9-aa5d-47bb-bc13-4b3e6d328fe1  ...   \nb8609a1e-b9f8-44a0-ab98-468ff247d753  ...   \nf68d2f9b-13c5-42e2-9bca-1826f7eff481  ...   \nec086fbc-7b21-4958-b456-9bce6a883c98  ...   \n9ecaf92a-a90e-4572-a426-3ed392e0c28a  ...   \n9a884f88-0627-4eb7-b1ec-80ea39b0a25b  ...   \nd7dd5233-b1c3-451f-ae90-5a80fed205bd  ...   \n4acebff3-f17b-44fb-ba29-6bc02053b329  ...   \nd188b4bb-27a3-4f63-9469-e9705c60a7a5  ...   \n8d9f92cf-5613-4de4-b99b-7681aa76b4cd  ...   \ncf287254-7d66-4a4b-8a56-f247f51b41db  ...   \n926a3e9d-0601-4f96-bd71-317d928194f2  ...   \n987c5866-03b0-4948-962e-4870684f481b  ...   \n7dc6bf46-805f-4990-bcd2-d0fe1de4dd47  ...   \n549a988b-c3bc-42d4-a6a3-a8dc694fa770  ...   \n3cf2bf71-61fa-4a61-b163-6265c299376d  ...   \nbfc1c272-665f-432d-a7b3-a4c955556e7f  ...   \n55963d84-702d-423d-be05-c8bb6e88f517  ...   \n01282060-ad91-44be-b0d3-ff43e340e8bd  ...   \nf9e9ae1c-00f3-4966-9682-281ef2a86899  ...   \ne7b3aec0-5003-448b-a0e3-4c2dbb605f85  ...   \n9c13f0be-9991-4d9f-b41b-a0e962bdeb89  ...   \ne88ff464-a453-45bb-93d8-5f983d417912  ...   \n8ce80d06-69f6-404a-b0fd-a728eb0dfed6  ...   \nbb0a0d86-31c1-4780-b81f-8d0e5a5d83be  ...   \n32080c6a-1f31-446f-a3d9-59759ac00ff4  ...   \na1fc1a28-1133-47f2-a8d9-58da817946c2  ...   \n0296748a-317a-47eb-bf94-e5dbbd78afc1  ...   \n74ed0525-d8f9-4f36-b20f-1b8a2baf60f2  ...   \nae0fb830-76df-4d91-82ed-4ed755fdec4b  ...   \nc1b696b1-cae0-49ed-a8ba-0e795438d3d2  ...   \nadd95b48-71c3-40e7-9f35-7db604f3f9f0  ...   \nd8443e6d-9080-4154-89e3-29f0e98ed90a  ...   \nf8945b4f-6f59-4c5a-a83f-462a97f2dcc4  ...   \nb548b184-1643-4c23-9b14-9025aeda59c3  ...   \ne8048367-edd2-4a61-ae0f-fd878688c910  ...   \n\n                                                                   subtotal_utils_capex  \\\na39ac4c3-094b-4d92-b71d-46c5a857f407                                                NaN   \n981c0743-6a4c-4abd-8a97-2c937e48b897                                                NaN   \ne3149444-dfbc-41d0-9eb1-f08785a62da1                                                NaN   \n529ce7bc-addf-4bad-8ec5-cbecbd73d4f1                                                NaN   \n29b746f5-42fe-4321-9a4a-8c65c9f0410c                                                NaN   \n3fc29315-81e7-45a9-8241-62938e904d73                                               None   \nf508623d-1d81-4082-85ee-5b1e32c7bb10                                               None   \n6ac8ab6d-a730-44b8-97aa-a5db09b7fbd0                                               None   \n71fd4551-8e65-4e7a-8e2a-9d18e69146b0       Utilities-derived Capital Expenses for 71...   \nc11f68da-0544-487b-9cb9-8a3a3a98a9b8                                                NaN   \ncfc3edf5-1e7d-4499-b25f-ee86ed013516                                                NaN   \n3e158dd9-aa5d-47bb-bc13-4b3e6d328fe1                                                NaN   \nb8609a1e-b9f8-44a0-ab98-468ff247d753                                                NaN   \nf68d2f9b-13c5-42e2-9bca-1826f7eff481                                                NaN   \nec086fbc-7b21-4958-b456-9bce6a883c98                                                NaN   \n9ecaf92a-a90e-4572-a426-3ed392e0c28a                                                NaN   \n9a884f88-0627-4eb7-b1ec-80ea39b0a25b                                                NaN   \nd7dd5233-b1c3-451f-ae90-5a80fed205bd                                                NaN   \n4acebff3-f17b-44fb-ba29-6bc02053b329                                                NaN   \nd188b4bb-27a3-4f63-9469-e9705c60a7a5                                               None   \n8d9f92cf-5613-4de4-b99b-7681aa76b4cd       Utilities-derived Capital Expenses for 8d...   \ncf287254-7d66-4a4b-8a56-f247f51b41db                                                NaN   \n926a3e9d-0601-4f96-bd71-317d928194f2                                                NaN   \n987c5866-03b0-4948-962e-4870684f481b                                               None   \n7dc6bf46-805f-4990-bcd2-d0fe1de4dd47                                               None   \n549a988b-c3bc-42d4-a6a3-a8dc694fa770                                               None   \n3cf2bf71-61fa-4a61-b163-6265c299376d                                               None   \nbfc1c272-665f-432d-a7b3-a4c955556e7f                                               None   \n55963d84-702d-423d-be05-c8bb6e88f517       Utilities-derived Capital Expenses for 55...   \n01282060-ad91-44be-b0d3-ff43e340e8bd                                                NaN   \nf9e9ae1c-00f3-4966-9682-281ef2a86899                                                NaN   \ne7b3aec0-5003-448b-a0e3-4c2dbb605f85                                                NaN   \n9c13f0be-9991-4d9f-b41b-a0e962bdeb89                                                NaN   \ne88ff464-a453-45bb-93d8-5f983d417912                                                NaN   \n8ce80d06-69f6-404a-b0fd-a728eb0dfed6                                                NaN   \nbb0a0d86-31c1-4780-b81f-8d0e5a5d83be                                                NaN   \n32080c6a-1f31-446f-a3d9-59759ac00ff4                                                NaN   \na1fc1a28-1133-47f2-a8d9-58da817946c2                                                NaN   \n0296748a-317a-47eb-bf94-e5dbbd78afc1                                                NaN   \n74ed0525-d8f9-4f36-b20f-1b8a2baf60f2                                                NaN   \nae0fb830-76df-4d91-82ed-4ed755fdec4b                                                NaN   \nc1b696b1-cae0-49ed-a8ba-0e795438d3d2                                                NaN   \nadd95b48-71c3-40e7-9f35-7db604f3f9f0                                                NaN   \nd8443e6d-9080-4154-89e3-29f0e98ed90a                                                NaN   \nf8945b4f-6f59-4c5a-a83f-462a97f2dcc4                                                NaN   \nb548b184-1643-4c23-9b14-9025aeda59c3                                                NaN   \ne8048367-edd2-4a61-ae0f-fd878688c910                                                NaN   \n\n                                            volume  \\\na39ac4c3-094b-4d92-b71d-46c5a857f407           NaN   \n981c0743-6a4c-4abd-8a97-2c937e48b897           NaN   \ne3149444-dfbc-41d0-9eb1-f08785a62da1           NaN   \n529ce7bc-addf-4bad-8ec5-cbecbd73d4f1           NaN   \n29b746f5-42fe-4321-9a4a-8c65c9f0410c           NaN   \n3fc29315-81e7-45a9-8241-62938e904d73  36827.523720   \nf508623d-1d81-4082-85ee-5b1e32c7bb10   5890.823759   \n6ac8ab6d-a730-44b8-97aa-a5db09b7fbd0   4080.009907   \n71fd4551-8e65-4e7a-8e2a-9d18e69146b0   8656.633886   \nc11f68da-0544-487b-9cb9-8a3a3a98a9b8           NaN   \ncfc3edf5-1e7d-4499-b25f-ee86ed013516           NaN   \n3e158dd9-aa5d-47bb-bc13-4b3e6d328fe1           NaN   \nb8609a1e-b9f8-44a0-ab98-468ff247d753           NaN   \nf68d2f9b-13c5-42e2-9bca-1826f7eff481           NaN   \nec086fbc-7b21-4958-b456-9bce6a883c98           NaN   \n9ecaf92a-a90e-4572-a426-3ed392e0c28a           NaN   \n9a884f88-0627-4eb7-b1ec-80ea39b0a25b           NaN   \nd7dd5233-b1c3-451f-ae90-5a80fed205bd           NaN   \n4acebff3-f17b-44fb-ba29-6bc02053b329           NaN   \nd188b4bb-27a3-4f63-9469-e9705c60a7a5  38504.668472   \n8d9f92cf-5613-4de4-b99b-7681aa76b4cd    729.061228   \ncf287254-7d66-4a4b-8a56-f247f51b41db           NaN   \n926a3e9d-0601-4f96-bd71-317d928194f2           NaN   \n987c5866-03b0-4948-962e-4870684f481b   4801.310435   \n7dc6bf46-805f-4990-bcd2-d0fe1de4dd47   2672.651191   \n549a988b-c3bc-42d4-a6a3-a8dc694fa770   7311.273581   \n3cf2bf71-61fa-4a61-b163-6265c299376d   5618.576632   \nbfc1c272-665f-432d-a7b3-a4c955556e7f  45542.534549   \n55963d84-702d-423d-be05-c8bb6e88f517  10833.232343   \n01282060-ad91-44be-b0d3-ff43e340e8bd           NaN   \nf9e9ae1c-00f3-4966-9682-281ef2a86899           NaN   \ne7b3aec0-5003-448b-a0e3-4c2dbb605f85           NaN   \n9c13f0be-9991-4d9f-b41b-a0e962bdeb89           NaN   \ne88ff464-a453-45bb-93d8-5f983d417912           NaN   \n8ce80d06-69f6-404a-b0fd-a728eb0dfed6           NaN   \nbb0a0d86-31c1-4780-b81f-8d0e5a5d83be           NaN   \n32080c6a-1f31-446f-a3d9-59759ac00ff4           NaN   \na1fc1a28-1133-47f2-a8d9-58da817946c2           NaN   \n0296748a-317a-47eb-bf94-e5dbbd78afc1           NaN   \n74ed0525-d8f9-4f36-b20f-1b8a2baf60f2           NaN   \nae0fb830-76df-4d91-82ed-4ed755fdec4b           NaN   \nc1b696b1-cae0-49ed-a8ba-0e795438d3d2           NaN   \nadd95b48-71c3-40e7-9f35-7db604f3f9f0           NaN   \nd8443e6d-9080-4154-89e3-29f0e98ed90a           NaN   \nf8945b4f-6f59-4c5a-a83f-462a97f2dcc4           NaN   \nb548b184-1643-4c23-9b14-9025aeda59c3           NaN   \ne8048367-edd2-4a61-ae0f-fd878688c910           NaN   \n\n                                                                                 events  \\\na39ac4c3-094b-4d92-b71d-46c5a857f407                                                NaN   \n981c0743-6a4c-4abd-8a97-2c937e48b897                                                NaN   \ne3149444-dfbc-41d0-9eb1-f08785a62da1                                                NaN   \n529ce7bc-addf-4bad-8ec5-cbecbd73d4f1                                                NaN   \n29b746f5-42fe-4321-9a4a-8c65c9f0410c                                                NaN   \n3fc29315-81e7-45a9-8241-62938e904d73                                                NaN   \nf508623d-1d81-4082-85ee-5b1e32c7bb10                                                NaN   \n6ac8ab6d-a730-44b8-97aa-a5db09b7fbd0                                                NaN   \n71fd4551-8e65-4e7a-8e2a-9d18e69146b0  {'utils_capex': date\n2005-12-31    -$1,731,326...   \nc11f68da-0544-487b-9cb9-8a3a3a98a9b8  {'pgi': date\n2001-12-31    $459,564.98\n2002-12...   \ncfc3edf5-1e7d-4499-b25f-ee86ed013516  {'pgi': date\n2001-12-31    $1,416,633.62\n2002-...   \n3e158dd9-aa5d-47bb-bc13-4b3e6d328fe1  {'pgi': date\n2001-12-31    $1,416,633.62\n2002-...   \nb8609a1e-b9f8-44a0-ab98-468ff247d753  {'pgi': date\n2001-12-31    $1,209,573.62\n2002-...   \nf68d2f9b-13c5-42e2-9bca-1826f7eff481  {'pgi': date\n2001-12-31    $1,209,573.62\n2002-...   \nec086fbc-7b21-4958-b456-9bce6a883c98  {'pgi': date\n2001-12-31    $525,008.94\n2002-12...   \n9ecaf92a-a90e-4572-a426-3ed392e0c28a  {'pgi': date\n2001-12-31    $525,008.94\n2002-12...   \n9a884f88-0627-4eb7-b1ec-80ea39b0a25b  {'pgi': date\n2001-12-31    $103,644.63\n2002-12...   \nd7dd5233-b1c3-451f-ae90-5a80fed205bd  {'pgi': date\n2001-12-31    $0.00\n2002-12-31   ...   \n4acebff3-f17b-44fb-ba29-6bc02053b329  {'pgi': date\n2001-12-31      $815,983.45\n2002-...   \nd188b4bb-27a3-4f63-9469-e9705c60a7a5                                                NaN   \n8d9f92cf-5613-4de4-b99b-7681aa76b4cd  {'utils_capex': date\n2005-12-31    -$145,812.2...   \ncf287254-7d66-4a4b-8a56-f247f51b41db  {'pgi': date\n2001-12-31    $0.00\n2002-12-31   ...   \n926a3e9d-0601-4f96-bd71-317d928194f2  {'pgi': date\n2001-12-31    $0.00\n2002-12-31   ...   \n987c5866-03b0-4948-962e-4870684f481b                                                NaN   \n7dc6bf46-805f-4990-bcd2-d0fe1de4dd47                                                NaN   \n549a988b-c3bc-42d4-a6a3-a8dc694fa770                                                NaN   \n3cf2bf71-61fa-4a61-b163-6265c299376d                                                NaN   \nbfc1c272-665f-432d-a7b3-a4c955556e7f                                                NaN   \n55963d84-702d-423d-be05-c8bb6e88f517  {'utils_capex': date\n2005-12-31    -$2,166,646...   \n01282060-ad91-44be-b0d3-ff43e340e8bd  {'pgi': date\n2001-12-31    $0.00\n2002-12-31   ...   \nf9e9ae1c-00f3-4966-9682-281ef2a86899  {'pgi': date\n2001-12-31    $534,530.24\n2002-12...   \ne7b3aec0-5003-448b-a0e3-4c2dbb605f85  {'pgi': date\n2001-12-31    $34,740.00\n2002-12-...   \n9c13f0be-9991-4d9f-b41b-a0e962bdeb89  {'pgi': date\n2001-12-31    $26,280.00\n2002-12-...   \ne88ff464-a453-45bb-93d8-5f983d417912  {'pgi': date\n2001-12-31    $438,888.62\n2002-12...   \n8ce80d06-69f6-404a-b0fd-a728eb0dfed6  {'pgi': date\n2001-12-31    $438,888.62\n2002-12...   \nbb0a0d86-31c1-4780-b81f-8d0e5a5d83be  {'pgi': date\n2001-12-31    $438,888.62\n2002-12...   \n32080c6a-1f31-446f-a3d9-59759ac00ff4  {'pgi': date\n2001-12-31    $1,123,715.33\n2002-...   \na1fc1a28-1133-47f2-a8d9-58da817946c2  {'pgi': date\n2001-12-31    $1,238,131.58\n2002-...   \n0296748a-317a-47eb-bf94-e5dbbd78afc1  {'pgi': date\n2001-12-31    $1,086,691.51\n2002-...   \n74ed0525-d8f9-4f36-b20f-1b8a2baf60f2  {'pgi': date\n2001-12-31    $1,086,691.51\n2002-...   \nae0fb830-76df-4d91-82ed-4ed755fdec4b  {'pgi': date\n2001-12-31    $1,086,691.51\n2002-...   \nc1b696b1-cae0-49ed-a8ba-0e795438d3d2  {'pgi': date\n2001-12-31    $1,086,691.51\n2002-...   \nadd95b48-71c3-40e7-9f35-7db604f3f9f0  {'pgi': date\n2001-12-31    $1,086,691.51\n2002-...   \nd8443e6d-9080-4154-89e3-29f0e98ed90a  {'pgi': date\n2001-12-31    $1,086,691.51\n2002-...   \nf8945b4f-6f59-4c5a-a83f-462a97f2dcc4  {'pgi': date\n2001-12-31    $1,086,691.51\n2002-...   \nb548b184-1643-4c23-9b14-9025aeda59c3  {'pgi': date\n2001-12-31    $1,086,691.51\n2002-...   \ne8048367-edd2-4a61-ae0f-fd878688c910  {'pgi': date\n2001-12-31    $1,086,691.51\n2002-...   \n\n                                                                                 params  \\\na39ac4c3-094b-4d92-b71d-46c5a857f407                                                NaN   \n981c0743-6a4c-4abd-8a97-2c937e48b897                                                NaN   \ne3149444-dfbc-41d0-9eb1-f08785a62da1                                                NaN   \n529ce7bc-addf-4bad-8ec5-cbecbd73d4f1                                                NaN   \n29b746f5-42fe-4321-9a4a-8c65c9f0410c                                                NaN   \n3fc29315-81e7-45a9-8241-62938e904d73                                                NaN   \nf508623d-1d81-4082-85ee-5b1e32c7bb10                                                NaN   \n6ac8ab6d-a730-44b8-97aa-a5db09b7fbd0                                                NaN   \n71fd4551-8e65-4e7a-8e2a-9d18e69146b0  {'start_date': 2001-01-01 00:00:00, 'num_perio...   \nc11f68da-0544-487b-9cb9-8a3a3a98a9b8  {'start_date': 2001-01-01 00:00:00, 'num_perio...   \ncfc3edf5-1e7d-4499-b25f-ee86ed013516  {'start_date': 2001-01-01 00:00:00, 'num_perio...   \n3e158dd9-aa5d-47bb-bc13-4b3e6d328fe1  {'start_date': 2001-01-01 00:00:00, 'num_perio...   \nb8609a1e-b9f8-44a0-ab98-468ff247d753  {'start_date': 2001-01-01 00:00:00, 'num_perio...   \nf68d2f9b-13c5-42e2-9bca-1826f7eff481  {'start_date': 2001-01-01 00:00:00, 'num_perio...   \nec086fbc-7b21-4958-b456-9bce6a883c98  {'start_date': 2001-01-01 00:00:00, 'num_perio...   \n9ecaf92a-a90e-4572-a426-3ed392e0c28a  {'start_date': 2001-01-01 00:00:00, 'num_perio...   \n9a884f88-0627-4eb7-b1ec-80ea39b0a25b  {'start_date': 2001-01-01 00:00:00, 'num_perio...   \nd7dd5233-b1c3-451f-ae90-5a80fed205bd  {'start_date': 2001-01-01 00:00:00, 'num_perio...   \n4acebff3-f17b-44fb-ba29-6bc02053b329  {'start_date': 2001-01-01 00:00:00, 'num_perio...   \nd188b4bb-27a3-4f63-9469-e9705c60a7a5                                                NaN   \n8d9f92cf-5613-4de4-b99b-7681aa76b4cd  {'start_date': 2001-01-01 00:00:00, 'num_perio...   \ncf287254-7d66-4a4b-8a56-f247f51b41db  {'start_date': 2001-01-01 00:00:00, 'num_perio...   \n926a3e9d-0601-4f96-bd71-317d928194f2  {'start_date': 2001-01-01 00:00:00, 'num_perio...   \n987c5866-03b0-4948-962e-4870684f481b                                                NaN   \n7dc6bf46-805f-4990-bcd2-d0fe1de4dd47                                                NaN   \n549a988b-c3bc-42d4-a6a3-a8dc694fa770                                                NaN   \n3cf2bf71-61fa-4a61-b163-6265c299376d                                                NaN   \nbfc1c272-665f-432d-a7b3-a4c955556e7f                                                NaN   \n55963d84-702d-423d-be05-c8bb6e88f517  {'start_date': 2001-01-01 00:00:00, 'num_perio...   \n01282060-ad91-44be-b0d3-ff43e340e8bd  {'start_date': 2001-01-01 00:00:00, 'num_perio...   \nf9e9ae1c-00f3-4966-9682-281ef2a86899  {'start_date': 2001-01-01 00:00:00, 'num_perio...   \ne7b3aec0-5003-448b-a0e3-4c2dbb605f85  {'start_date': 2001-01-01 00:00:00, 'num_perio...   \n9c13f0be-9991-4d9f-b41b-a0e962bdeb89  {'start_date': 2001-01-01 00:00:00, 'num_perio...   \ne88ff464-a453-45bb-93d8-5f983d417912  {'start_date': 2001-01-01 00:00:00, 'num_perio...   \n8ce80d06-69f6-404a-b0fd-a728eb0dfed6  {'start_date': 2001-01-01 00:00:00, 'num_perio...   \nbb0a0d86-31c1-4780-b81f-8d0e5a5d83be  {'start_date': 2001-01-01 00:00:00, 'num_perio...   \n32080c6a-1f31-446f-a3d9-59759ac00ff4  {'start_date': 2001-01-01 00:00:00, 'num_perio...   \na1fc1a28-1133-47f2-a8d9-58da817946c2  {'start_date': 2001-01-01 00:00:00, 'num_perio...   \n0296748a-317a-47eb-bf94-e5dbbd78afc1  {'start_date': 2001-01-01 00:00:00, 'num_perio...   \n74ed0525-d8f9-4f36-b20f-1b8a2baf60f2  {'start_date': 2001-01-01 00:00:00, 'num_perio...   \nae0fb830-76df-4d91-82ed-4ed755fdec4b  {'start_date': 2001-01-01 00:00:00, 'num_perio...   \nc1b696b1-cae0-49ed-a8ba-0e795438d3d2  {'start_date': 2001-01-01 00:00:00, 'num_perio...   \nadd95b48-71c3-40e7-9f35-7db604f3f9f0  {'start_date': 2001-01-01 00:00:00, 'num_perio...   \nd8443e6d-9080-4154-89e3-29f0e98ed90a  {'start_date': 2001-01-01 00:00:00, 'num_perio...   \nf8945b4f-6f59-4c5a-a83f-462a97f2dcc4  {'start_date': 2001-01-01 00:00:00, 'num_perio...   \nb548b184-1643-4c23-9b14-9025aeda59c3  {'start_date': 2001-01-01 00:00:00, 'num_perio...   \ne8048367-edd2-4a61-ae0f-fd878688c910  {'start_date': 2001-01-01 00:00:00, 'num_perio...   \n\n                                              gfa   ffl  facade_area  number  \\\na39ac4c3-094b-4d92-b71d-46c5a857f407          NaN   NaN          NaN     NaN   \n981c0743-6a4c-4abd-8a97-2c937e48b897          NaN   NaN          NaN     NaN   \ne3149444-dfbc-41d0-9eb1-f08785a62da1          NaN   NaN          NaN     NaN   \n529ce7bc-addf-4bad-8ec5-cbecbd73d4f1          NaN   NaN          NaN     NaN   \n29b746f5-42fe-4321-9a4a-8c65c9f0410c          NaN   NaN          NaN     NaN   \n3fc29315-81e7-45a9-8241-62938e904d73          NaN   NaN          NaN     NaN   \nf508623d-1d81-4082-85ee-5b1e32c7bb10          NaN   NaN          NaN     NaN   \n6ac8ab6d-a730-44b8-97aa-a5db09b7fbd0          NaN   NaN          NaN     NaN   \n71fd4551-8e65-4e7a-8e2a-9d18e69146b0          NaN   NaN          NaN     NaN   \nc11f68da-0544-487b-9cb9-8a3a3a98a9b8   765.941631   0.3   886.630547     0.0   \ncfc3edf5-1e7d-4499-b25f-ee86ed013516  2361.056035   5.3   968.379662     1.0   \n3e158dd9-aa5d-47bb-bc13-4b3e6d328fe1  2361.056035   8.4   968.379662     2.0   \nb8609a1e-b9f8-44a0-ab98-468ff247d753  2015.956035  11.5   947.919662     3.0   \nf68d2f9b-13c5-42e2-9bca-1826f7eff481  2015.956035  14.6   947.919662     4.0   \nec086fbc-7b21-4958-b456-9bce6a883c98   875.014900  17.7   425.365235     5.0   \n9ecaf92a-a90e-4572-a426-3ed392e0c28a   875.014900  20.8   425.365235     6.0   \n9a884f88-0627-4eb7-b1ec-80ea39b0a25b   172.741054   0.3   322.508294     0.0   \nd7dd5233-b1c3-451f-ae90-5a80fed205bd  1178.164752   0.3   845.782703     0.0   \n4acebff3-f17b-44fb-ba29-6bc02053b329   815.983454   0.3   846.263553     0.0   \nd188b4bb-27a3-4f63-9469-e9705c60a7a5          NaN   NaN          NaN     NaN   \n8d9f92cf-5613-4de4-b99b-7681aa76b4cd          NaN   NaN          NaN     NaN   \ncf287254-7d66-4a4b-8a56-f247f51b41db  6386.872106  -5.9  1050.784680    -2.0   \n926a3e9d-0601-4f96-bd71-317d928194f2  6386.872106  -2.8  1050.784680    -1.0   \n987c5866-03b0-4948-962e-4870684f481b          NaN   NaN          NaN     NaN   \n7dc6bf46-805f-4990-bcd2-d0fe1de4dd47          NaN   NaN          NaN     NaN   \n549a988b-c3bc-42d4-a6a3-a8dc694fa770          NaN   NaN          NaN     NaN   \n3cf2bf71-61fa-4a61-b163-6265c299376d          NaN   NaN          NaN     NaN   \nbfc1c272-665f-432d-a7b3-a4c955556e7f          NaN   NaN          NaN     NaN   \n55963d84-702d-423d-be05-c8bb6e88f517          NaN   NaN          NaN     NaN   \n01282060-ad91-44be-b0d3-ff43e340e8bd   960.262087   0.3   685.218770     0.0   \nf9e9ae1c-00f3-4966-9682-281ef2a86899   534.530238   0.3   644.181624     0.0   \ne7b3aec0-5003-448b-a0e3-4c2dbb605f85    57.900000   0.3   156.500000     0.0   \n9c13f0be-9991-4d9f-b41b-a0e962bdeb89    43.800000   0.3   133.000000     0.0   \ne88ff464-a453-45bb-93d8-5f983d417912   731.481030   5.3   372.706950     1.0   \n8ce80d06-69f6-404a-b0fd-a728eb0dfed6   731.481030   8.4   372.706950     2.0   \nbb0a0d86-31c1-4780-b81f-8d0e5a5d83be   731.481030  11.5   372.706950     3.0   \n32080c6a-1f31-446f-a3d9-59759ac00ff4  1123.715326   0.3  1175.182888     0.0   \na1fc1a28-1133-47f2-a8d9-58da817946c2  1650.842103   5.3   515.604747     1.0   \n0296748a-317a-47eb-bf94-e5dbbd78afc1  1448.922008   8.4   472.771469     2.0   \n74ed0525-d8f9-4f36-b20f-1b8a2baf60f2  1448.922008  11.5   472.771469     3.0   \nae0fb830-76df-4d91-82ed-4ed755fdec4b  1448.922008  14.6   472.771469     4.0   \nc1b696b1-cae0-49ed-a8ba-0e795438d3d2  1448.922008  17.7   472.771469     5.0   \nadd95b48-71c3-40e7-9f35-7db604f3f9f0  1448.922008  20.8   472.771469     6.0   \nd8443e6d-9080-4154-89e3-29f0e98ed90a  1448.922008  23.9   472.771469     7.0   \nf8945b4f-6f59-4c5a-a83f-462a97f2dcc4  1448.922008  27.0   472.771469     8.0   \nb548b184-1643-4c23-9b14-9025aeda59c3  1448.922008  30.1   472.771469     9.0   \ne8048367-edd2-4a61-ae0f-fd878688c910  1448.922008  33.2   472.771469    10.0   \n\n                                       perimeter  ftf  \na39ac4c3-094b-4d92-b71d-46c5a857f407         NaN  NaN  \n981c0743-6a4c-4abd-8a97-2c937e48b897         NaN  NaN  \ne3149444-dfbc-41d0-9eb1-f08785a62da1         NaN  NaN  \n529ce7bc-addf-4bad-8ec5-cbecbd73d4f1         NaN  NaN  \n29b746f5-42fe-4321-9a4a-8c65c9f0410c         NaN  NaN  \n3fc29315-81e7-45a9-8241-62938e904d73         NaN  NaN  \nf508623d-1d81-4082-85ee-5b1e32c7bb10         NaN  NaN  \n6ac8ab6d-a730-44b8-97aa-a5db09b7fbd0         NaN  NaN  \n71fd4551-8e65-4e7a-8e2a-9d18e69146b0         NaN  NaN  \nc11f68da-0544-487b-9cb9-8a3a3a98a9b8  177.326109  5.0  \ncfc3edf5-1e7d-4499-b25f-ee86ed013516  312.380536  3.1  \n3e158dd9-aa5d-47bb-bc13-4b3e6d328fe1  312.380536  3.1  \nb8609a1e-b9f8-44a0-ab98-468ff247d753  305.780536  3.1  \nf68d2f9b-13c5-42e2-9bca-1826f7eff481  305.780536  3.1  \nec086fbc-7b21-4958-b456-9bce6a883c98  137.214592  3.1  \n9ecaf92a-a90e-4572-a426-3ed392e0c28a  137.214592  3.1  \n9a884f88-0627-4eb7-b1ec-80ea39b0a25b   64.501659  5.0  \nd7dd5233-b1c3-451f-ae90-5a80fed205bd  169.156541  5.0  \n4acebff3-f17b-44fb-ba29-6bc02053b329  169.252711  5.0  \nd188b4bb-27a3-4f63-9469-e9705c60a7a5         NaN  NaN  \n8d9f92cf-5613-4de4-b99b-7681aa76b4cd         NaN  NaN  \ncf287254-7d66-4a4b-8a56-f247f51b41db  338.962800  3.1  \n926a3e9d-0601-4f96-bd71-317d928194f2  338.962800  3.1  \n987c5866-03b0-4948-962e-4870684f481b         NaN  NaN  \n7dc6bf46-805f-4990-bcd2-d0fe1de4dd47         NaN  NaN  \n549a988b-c3bc-42d4-a6a3-a8dc694fa770         NaN  NaN  \n3cf2bf71-61fa-4a61-b163-6265c299376d         NaN  NaN  \nbfc1c272-665f-432d-a7b3-a4c955556e7f         NaN  NaN  \n55963d84-702d-423d-be05-c8bb6e88f517         NaN  NaN  \n01282060-ad91-44be-b0d3-ff43e340e8bd  137.043754  5.0  \nf9e9ae1c-00f3-4966-9682-281ef2a86899  128.836325  5.0  \ne7b3aec0-5003-448b-a0e3-4c2dbb605f85   31.300000  5.0  \n9c13f0be-9991-4d9f-b41b-a0e962bdeb89   26.600000  5.0  \ne88ff464-a453-45bb-93d8-5f983d417912  120.228049  3.1  \n8ce80d06-69f6-404a-b0fd-a728eb0dfed6  120.228049  3.1  \nbb0a0d86-31c1-4780-b81f-8d0e5a5d83be  120.228049  3.1  \n32080c6a-1f31-446f-a3d9-59759ac00ff4  235.036578  5.0  \na1fc1a28-1133-47f2-a8d9-58da817946c2  166.324112  3.1  \n0296748a-317a-47eb-bf94-e5dbbd78afc1  152.506926  3.1  \n74ed0525-d8f9-4f36-b20f-1b8a2baf60f2  152.506926  3.1  \nae0fb830-76df-4d91-82ed-4ed755fdec4b  152.506926  3.1  \nc1b696b1-cae0-49ed-a8ba-0e795438d3d2  152.506926  3.1  \nadd95b48-71c3-40e7-9f35-7db604f3f9f0  152.506926  3.1  \nd8443e6d-9080-4154-89e3-29f0e98ed90a  152.506926  3.1  \nf8945b4f-6f59-4c5a-a83f-462a97f2dcc4  152.506926  3.1  \nb548b184-1643-4c23-9b14-9025aeda59c3  152.506926  3.1  \ne8048367-edd2-4a61-ae0f-fd878688c910  152.506926  3.1  \n\n[47 rows x 23 columns]",
      "text/html": "<div>\n<style scoped>\n    .dataframe tbody tr th:only-of-type {\n        vertical-align: middle;\n    }\n\n    .dataframe tbody tr th {\n        vertical-align: top;\n    }\n\n    .dataframe thead th {\n        text-align: right;\n    }\n</style>\n<table border=\"1\" class=\"dataframe\">\n  <thead>\n    <tr style=\"text-align: right;\">\n      <th></th>\n      <th>type</th>\n      <th>subtotal_floor_capex</th>\n      <th>subtotal_opex</th>\n      <th>subtotal_pgi</th>\n      <th>name</th>\n      <th>id</th>\n      <th>subtotal_facade_area</th>\n      <th>entityId</th>\n      <th>subtotal_nacf</th>\n      <th>subtotal_egi</th>\n      <th>...</th>\n      <th>subtotal_utils_capex</th>\n      <th>volume</th>\n      <th>events</th>\n      <th>params</th>\n      <th>gfa</th>\n      <th>ffl</th>\n      <th>facade_area</th>\n      <th>number</th>\n      <th>perimeter</th>\n      <th>ftf</th>\n    </tr>\n  </thead>\n  <tbody>\n    <tr>\n      <th>a39ac4c3-094b-4d92-b71d-46c5a857f407</th>\n      <td>development</td>\n      <td>Floor-derived Capital Expenses for c11f68...</td>\n      <td>Space Operating Expenses for c11f68da-054...</td>\n      <td>Potential Gross Income for c11f68da-0544-...</td>\n      <td>development</td>\n      <td>7f4903e4698b6cfd8e0a64c12adf2416</td>\n      <td>18368.835682</td>\n      <td>a39ac4c3-094b-4d92-b71d-46c5a857f407</td>\n      <td>egi for a39ac4c3-094b-4d92-b71d-46c5a857f...</td>\n      <td>Effective Gross Income for c11f68da-0544-...</td>\n      <td>...</td>\n      <td>NaN</td>\n      <td>NaN</td>\n      <td>NaN</td>\n      <td>NaN</td>\n      <td>NaN</td>\n      <td>NaN</td>\n      <td>NaN</td>\n      <td>NaN</td>\n      <td>NaN</td>\n      <td>NaN</td>\n    </tr>\n    <tr>\n      <th>981c0743-6a4c-4abd-8a97-2c937e48b897</th>\n      <td>building</td>\n      <td>Floor-derived Capital Expenses for c11f68...</td>\n      <td>Space Operating Expenses for c11f68da-054...</td>\n      <td>Potential Gross Income for c11f68da-0544-...</td>\n      <td>buildingB</td>\n      <td>cc58e3963020225ad02212d4343b5812</td>\n      <td>7584.514216</td>\n      <td>981c0743-6a4c-4abd-8a97-2c937e48b897</td>\n      <td>egi for 981c0743-6a4c-4abd-8a97-2c937e48b...</td>\n      <td>Effective Gross Income for c11f68da-0544-...</td>\n      <td>...</td>\n      <td>NaN</td>\n      <td>NaN</td>\n      <td>NaN</td>\n      <td>NaN</td>\n      <td>NaN</td>\n      <td>NaN</td>\n      <td>NaN</td>\n      <td>NaN</td>\n      <td>NaN</td>\n      <td>NaN</td>\n    </tr>\n    <tr>\n      <th>e3149444-dfbc-41d0-9eb1-f08785a62da1</th>\n      <td>building</td>\n      <td>Floor-derived Capital Expenses for cf2872...</td>\n      <td>Space Operating Expenses for cf287254-7d6...</td>\n      <td>Potential Gross Income for cf287254-7d66-...</td>\n      <td>plinth</td>\n      <td>f80e85a2d73c9b21d9c44075f1c4cf1c</td>\n      <td>2101.569360</td>\n      <td>e3149444-dfbc-41d0-9eb1-f08785a62da1</td>\n      <td>egi for e3149444-dfbc-41d0-9eb1-f08785a62...</td>\n      <td>Effective Gross Income for cf287254-7d66-...</td>\n      <td>...</td>\n      <td>NaN</td>\n      <td>NaN</td>\n      <td>NaN</td>\n      <td>NaN</td>\n      <td>NaN</td>\n      <td>NaN</td>\n      <td>NaN</td>\n      <td>NaN</td>\n      <td>NaN</td>\n      <td>NaN</td>\n    </tr>\n    <tr>\n      <th>529ce7bc-addf-4bad-8ec5-cbecbd73d4f1</th>\n      <td>building</td>\n      <td>Floor-derived Capital Expenses for 012820...</td>\n      <td>Space Operating Expenses for 01282060-ad9...</td>\n      <td>Potential Gross Income for 01282060-ad91-...</td>\n      <td>buildingA</td>\n      <td>bba4e7eed48a0fe438cbd5343f98ed1f</td>\n      <td>8682.752106</td>\n      <td>529ce7bc-addf-4bad-8ec5-cbecbd73d4f1</td>\n      <td>egi for 529ce7bc-addf-4bad-8ec5-cbecbd73d...</td>\n      <td>Effective Gross Income for 01282060-ad91-...</td>\n      <td>...</td>\n      <td>NaN</td>\n      <td>NaN</td>\n      <td>NaN</td>\n      <td>NaN</td>\n      <td>NaN</td>\n      <td>NaN</td>\n      <td>NaN</td>\n      <td>NaN</td>\n      <td>NaN</td>\n      <td>NaN</td>\n    </tr>\n    <tr>\n      <th>29b746f5-42fe-4321-9a4a-8c65c9f0410c</th>\n      <td>utilities</td>\n      <td>None</td>\n      <td>None</td>\n      <td>None</td>\n      <td>utilities</td>\n      <td>78c8831e5729be7502454b9cb5c55638</td>\n      <td>0.000000</td>\n      <td>29b746f5-42fe-4321-9a4a-8c65c9f0410c</td>\n      <td>None</td>\n      <td>None</td>\n      <td>...</td>\n      <td>NaN</td>\n      <td>NaN</td>\n      <td>NaN</td>\n      <td>NaN</td>\n      <td>NaN</td>\n      <td>NaN</td>\n      <td>NaN</td>\n      <td>NaN</td>\n      <td>NaN</td>\n      <td>NaN</td>\n    </tr>\n    <tr>\n      <th>3fc29315-81e7-45a9-8241-62938e904d73</th>\n      <td>space</td>\n      <td>Floor-derived Capital Expenses for c11f68...</td>\n      <td>Space Operating Expenses for c11f68da-054...</td>\n      <td>Potential Gross Income for c11f68da-0544-...</td>\n      <td>buildingBresidential</td>\n      <td>4a8deb1795b4b28e8f0e8388aee99b23</td>\n      <td>5892.467960</td>\n      <td>3fc29315-81e7-45a9-8241-62938e904d73</td>\n      <td>egi for 3fc29315-81e7-45a9-8241-62938e904...</td>\n      <td>Effective Gross Income for c11f68da-0544-...</td>\n      <td>...</td>\n      <td>None</td>\n      <td>36827.523720</td>\n      <td>NaN</td>\n      <td>NaN</td>\n      <td>NaN</td>\n      <td>NaN</td>\n      <td>NaN</td>\n      <td>NaN</td>\n      <td>NaN</td>\n      <td>NaN</td>\n    </tr>\n    <tr>\n      <th>f508623d-1d81-4082-85ee-5b1e32c7bb10</th>\n      <td>space</td>\n      <td>Floor-derived Capital Expenses for d7dd52...</td>\n      <td>Space Operating Expenses for d7dd5233-b1c...</td>\n      <td>Potential Gross Income for d7dd5233-b1c3-...</td>\n      <td>buildingBparking</td>\n      <td>015362e9733d35e803cdb0239e16e7fb</td>\n      <td>845.782703</td>\n      <td>f508623d-1d81-4082-85ee-5b1e32c7bb10</td>\n      <td>egi for f508623d-1d81-4082-85ee-5b1e32c7b...</td>\n      <td>Effective Gross Income for d7dd5233-b1c3-...</td>\n      <td>...</td>\n      <td>None</td>\n      <td>5890.823759</td>\n      <td>NaN</td>\n      <td>NaN</td>\n      <td>NaN</td>\n      <td>NaN</td>\n      <td>NaN</td>\n      <td>NaN</td>\n      <td>NaN</td>\n      <td>NaN</td>\n    </tr>\n    <tr>\n      <th>6ac8ab6d-a730-44b8-97aa-a5db09b7fbd0</th>\n      <td>space</td>\n      <td>Floor-derived Capital Expenses for 4acebf...</td>\n      <td>Space Operating Expenses for 4acebff3-f17...</td>\n      <td>Potential Gross Income for 4acebff3-f17b-...</td>\n      <td>buildingBretail</td>\n      <td>db597c7b2d642ae13a924745ec0ca8f6</td>\n      <td>846.263553</td>\n      <td>6ac8ab6d-a730-44b8-97aa-a5db09b7fbd0</td>\n      <td>egi for 6ac8ab6d-a730-44b8-97aa-a5db09b7f...</td>\n      <td>Effective Gross Income for 4acebff3-f17b-...</td>\n      <td>...</td>\n      <td>None</td>\n      <td>4080.009907</td>\n      <td>NaN</td>\n      <td>NaN</td>\n      <td>NaN</td>\n      <td>NaN</td>\n      <td>NaN</td>\n      <td>NaN</td>\n      <td>NaN</td>\n      <td>NaN</td>\n    </tr>\n    <tr>\n      <th>71fd4551-8e65-4e7a-8e2a-9d18e69146b0</th>\n      <td>utilities</td>\n      <td>None</td>\n      <td>None</td>\n      <td>None</td>\n      <td>buildingBcores</td>\n      <td>40e5f30e34a71dc756faeaa1cbc2f7a4</td>\n      <td>0.000000</td>\n      <td>71fd4551-8e65-4e7a-8e2a-9d18e69146b0</td>\n      <td>None</td>\n      <td>None</td>\n      <td>...</td>\n      <td>Utilities-derived Capital Expenses for 71...</td>\n      <td>8656.633886</td>\n      <td>{'utils_capex': date\n2005-12-31    -$1,731,326...</td>\n      <td>{'start_date': 2001-01-01 00:00:00, 'num_perio...</td>\n      <td>NaN</td>\n      <td>NaN</td>\n      <td>NaN</td>\n      <td>NaN</td>\n      <td>NaN</td>\n      <td>NaN</td>\n    </tr>\n    <tr>\n      <th>c11f68da-0544-487b-9cb9-8a3a3a98a9b8</th>\n      <td>floor</td>\n      <td>Floor-derived Capital Expenses for c11f68...</td>\n      <td>Space Operating Expenses for c11f68da-054...</td>\n      <td>Potential Gross Income for c11f68da-0544-...</td>\n      <td>buildingBresidentialFloor0</td>\n      <td>0ed53f8285272bb33d9223ac8ff89680</td>\n      <td>886.630547</td>\n      <td>c11f68da-0544-487b-9cb9-8a3a3a98a9b8</td>\n      <td>egi for c11f68da-0544-487b-9cb9-8a3a3a98a...</td>\n      <td>Effective Gross Income for c11f68da-0544-...</td>\n      <td>...</td>\n      <td>NaN</td>\n      <td>NaN</td>\n      <td>{'pgi': date\n2001-12-31    $459,564.98\n2002-12...</td>\n      <td>{'start_date': 2001-01-01 00:00:00, 'num_perio...</td>\n      <td>765.941631</td>\n      <td>0.3</td>\n      <td>886.630547</td>\n      <td>0.0</td>\n      <td>177.326109</td>\n      <td>5.0</td>\n    </tr>\n    <tr>\n      <th>cfc3edf5-1e7d-4499-b25f-ee86ed013516</th>\n      <td>floor</td>\n      <td>Floor-derived Capital Expenses for cfc3ed...</td>\n      <td>Space Operating Expenses for cfc3edf5-1e7...</td>\n      <td>Potential Gross Income for cfc3edf5-1e7d-...</td>\n      <td>buildingBresidentialFloor1</td>\n      <td>e3c5e45cd68d83296242a455ae06cb38</td>\n      <td>968.379662</td>\n      <td>cfc3edf5-1e7d-4499-b25f-ee86ed013516</td>\n      <td>egi for cfc3edf5-1e7d-4499-b25f-ee86ed013...</td>\n      <td>Effective Gross Income for cfc3edf5-1e7d-...</td>\n      <td>...</td>\n      <td>NaN</td>\n      <td>NaN</td>\n      <td>{'pgi': date\n2001-12-31    $1,416,633.62\n2002-...</td>\n      <td>{'start_date': 2001-01-01 00:00:00, 'num_perio...</td>\n      <td>2361.056035</td>\n      <td>5.3</td>\n      <td>968.379662</td>\n      <td>1.0</td>\n      <td>312.380536</td>\n      <td>3.1</td>\n    </tr>\n    <tr>\n      <th>3e158dd9-aa5d-47bb-bc13-4b3e6d328fe1</th>\n      <td>floor</td>\n      <td>Floor-derived Capital Expenses for 3e158d...</td>\n      <td>Space Operating Expenses for 3e158dd9-aa5...</td>\n      <td>Potential Gross Income for 3e158dd9-aa5d-...</td>\n      <td>buildingBresidentialFloor2</td>\n      <td>f7b7aa999789c0b3301bd464317fe5fc</td>\n      <td>968.379662</td>\n      <td>3e158dd9-aa5d-47bb-bc13-4b3e6d328fe1</td>\n      <td>egi for 3e158dd9-aa5d-47bb-bc13-4b3e6d328...</td>\n      <td>Effective Gross Income for 3e158dd9-aa5d-...</td>\n      <td>...</td>\n      <td>NaN</td>\n      <td>NaN</td>\n      <td>{'pgi': date\n2001-12-31    $1,416,633.62\n2002-...</td>\n      <td>{'start_date': 2001-01-01 00:00:00, 'num_perio...</td>\n      <td>2361.056035</td>\n      <td>8.4</td>\n      <td>968.379662</td>\n      <td>2.0</td>\n      <td>312.380536</td>\n      <td>3.1</td>\n    </tr>\n    <tr>\n      <th>b8609a1e-b9f8-44a0-ab98-468ff247d753</th>\n      <td>floor</td>\n      <td>Floor-derived Capital Expenses for b8609a...</td>\n      <td>Space Operating Expenses for b8609a1e-b9f...</td>\n      <td>Potential Gross Income for b8609a1e-b9f8-...</td>\n      <td>buildingBresidentialFloor3</td>\n      <td>1acacb9d2b5292447f7a952a82a63741</td>\n      <td>947.919662</td>\n      <td>b8609a1e-b9f8-44a0-ab98-468ff247d753</td>\n      <td>egi for b8609a1e-b9f8-44a0-ab98-468ff247d...</td>\n      <td>Effective Gross Income for b8609a1e-b9f8-...</td>\n      <td>...</td>\n      <td>NaN</td>\n      <td>NaN</td>\n      <td>{'pgi': date\n2001-12-31    $1,209,573.62\n2002-...</td>\n      <td>{'start_date': 2001-01-01 00:00:00, 'num_perio...</td>\n      <td>2015.956035</td>\n      <td>11.5</td>\n      <td>947.919662</td>\n      <td>3.0</td>\n      <td>305.780536</td>\n      <td>3.1</td>\n    </tr>\n    <tr>\n      <th>f68d2f9b-13c5-42e2-9bca-1826f7eff481</th>\n      <td>floor</td>\n      <td>Floor-derived Capital Expenses for f68d2f...</td>\n      <td>Space Operating Expenses for f68d2f9b-13c...</td>\n      <td>Potential Gross Income for f68d2f9b-13c5-...</td>\n      <td>buildingBresidentialFloor4</td>\n      <td>382ed00fd0be5f4d9e93b8f8ba060812</td>\n      <td>947.919662</td>\n      <td>f68d2f9b-13c5-42e2-9bca-1826f7eff481</td>\n      <td>egi for f68d2f9b-13c5-42e2-9bca-1826f7eff...</td>\n      <td>Effective Gross Income for f68d2f9b-13c5-...</td>\n      <td>...</td>\n      <td>NaN</td>\n      <td>NaN</td>\n      <td>{'pgi': date\n2001-12-31    $1,209,573.62\n2002-...</td>\n      <td>{'start_date': 2001-01-01 00:00:00, 'num_perio...</td>\n      <td>2015.956035</td>\n      <td>14.6</td>\n      <td>947.919662</td>\n      <td>4.0</td>\n      <td>305.780536</td>\n      <td>3.1</td>\n    </tr>\n    <tr>\n      <th>ec086fbc-7b21-4958-b456-9bce6a883c98</th>\n      <td>floor</td>\n      <td>Floor-derived Capital Expenses for ec086f...</td>\n      <td>Space Operating Expenses for ec086fbc-7b2...</td>\n      <td>Potential Gross Income for ec086fbc-7b21-...</td>\n      <td>buildingBresidentialFloor5</td>\n      <td>04fd06a7193debbfa2d3ae2bf6ece9f3</td>\n      <td>425.365235</td>\n      <td>ec086fbc-7b21-4958-b456-9bce6a883c98</td>\n      <td>egi for ec086fbc-7b21-4958-b456-9bce6a883...</td>\n      <td>Effective Gross Income for ec086fbc-7b21-...</td>\n      <td>...</td>\n      <td>NaN</td>\n      <td>NaN</td>\n      <td>{'pgi': date\n2001-12-31    $525,008.94\n2002-12...</td>\n      <td>{'start_date': 2001-01-01 00:00:00, 'num_perio...</td>\n      <td>875.014900</td>\n      <td>17.7</td>\n      <td>425.365235</td>\n      <td>5.0</td>\n      <td>137.214592</td>\n      <td>3.1</td>\n    </tr>\n    <tr>\n      <th>9ecaf92a-a90e-4572-a426-3ed392e0c28a</th>\n      <td>floor</td>\n      <td>Floor-derived Capital Expenses for 9ecaf9...</td>\n      <td>Space Operating Expenses for 9ecaf92a-a90...</td>\n      <td>Potential Gross Income for 9ecaf92a-a90e-...</td>\n      <td>buildingBresidentialFloor6</td>\n      <td>fd70d92018ff3a26689b80baac900533</td>\n      <td>425.365235</td>\n      <td>9ecaf92a-a90e-4572-a426-3ed392e0c28a</td>\n      <td>egi for 9ecaf92a-a90e-4572-a426-3ed392e0c...</td>\n      <td>Effective Gross Income for 9ecaf92a-a90e-...</td>\n      <td>...</td>\n      <td>NaN</td>\n      <td>NaN</td>\n      <td>{'pgi': date\n2001-12-31    $525,008.94\n2002-12...</td>\n      <td>{'start_date': 2001-01-01 00:00:00, 'num_perio...</td>\n      <td>875.014900</td>\n      <td>20.8</td>\n      <td>425.365235</td>\n      <td>6.0</td>\n      <td>137.214592</td>\n      <td>3.1</td>\n    </tr>\n    <tr>\n      <th>9a884f88-0627-4eb7-b1ec-80ea39b0a25b</th>\n      <td>floor</td>\n      <td>Floor-derived Capital Expenses for 9a884f...</td>\n      <td>Space Operating Expenses for 9a884f88-062...</td>\n      <td>Potential Gross Income for 9a884f88-0627-...</td>\n      <td>buildingBresidentialFloor0</td>\n      <td>f4dccd718be782c3da0bd00b1120f630</td>\n      <td>322.508294</td>\n      <td>9a884f88-0627-4eb7-b1ec-80ea39b0a25b</td>\n      <td>egi for 9a884f88-0627-4eb7-b1ec-80ea39b0a...</td>\n      <td>Effective Gross Income for 9a884f88-0627-...</td>\n      <td>...</td>\n      <td>NaN</td>\n      <td>NaN</td>\n      <td>{'pgi': date\n2001-12-31    $103,644.63\n2002-12...</td>\n      <td>{'start_date': 2001-01-01 00:00:00, 'num_perio...</td>\n      <td>172.741054</td>\n      <td>0.3</td>\n      <td>322.508294</td>\n      <td>0.0</td>\n      <td>64.501659</td>\n      <td>5.0</td>\n    </tr>\n    <tr>\n      <th>d7dd5233-b1c3-451f-ae90-5a80fed205bd</th>\n      <td>floor</td>\n      <td>Floor-derived Capital Expenses for d7dd52...</td>\n      <td>Space Operating Expenses for d7dd5233-b1c...</td>\n      <td>Potential Gross Income for d7dd5233-b1c3-...</td>\n      <td>buildingBparkingFloor0</td>\n      <td>7a880b72c1af6c1da4fda7b40ee2b9c5</td>\n      <td>845.782703</td>\n      <td>d7dd5233-b1c3-451f-ae90-5a80fed205bd</td>\n      <td>egi for d7dd5233-b1c3-451f-ae90-5a80fed20...</td>\n      <td>Effective Gross Income for d7dd5233-b1c3-...</td>\n      <td>...</td>\n      <td>NaN</td>\n      <td>NaN</td>\n      <td>{'pgi': date\n2001-12-31    $0.00\n2002-12-31   ...</td>\n      <td>{'start_date': 2001-01-01 00:00:00, 'num_perio...</td>\n      <td>1178.164752</td>\n      <td>0.3</td>\n      <td>845.782703</td>\n      <td>0.0</td>\n      <td>169.156541</td>\n      <td>5.0</td>\n    </tr>\n    <tr>\n      <th>4acebff3-f17b-44fb-ba29-6bc02053b329</th>\n      <td>floor</td>\n      <td>Floor-derived Capital Expenses for 4acebf...</td>\n      <td>Space Operating Expenses for 4acebff3-f17...</td>\n      <td>Potential Gross Income for 4acebff3-f17b-...</td>\n      <td>buildingBretailFloor0</td>\n      <td>d3fe6ec14b5ef8f0dd76c4df739aee4c</td>\n      <td>846.263553</td>\n      <td>4acebff3-f17b-44fb-ba29-6bc02053b329</td>\n      <td>egi for 4acebff3-f17b-44fb-ba29-6bc02053b...</td>\n      <td>Effective Gross Income for 4acebff3-f17b-...</td>\n      <td>...</td>\n      <td>NaN</td>\n      <td>NaN</td>\n      <td>{'pgi': date\n2001-12-31      $815,983.45\n2002-...</td>\n      <td>{'start_date': 2001-01-01 00:00:00, 'num_perio...</td>\n      <td>815.983454</td>\n      <td>0.3</td>\n      <td>846.263553</td>\n      <td>0.0</td>\n      <td>169.252711</td>\n      <td>5.0</td>\n    </tr>\n    <tr>\n      <th>d188b4bb-27a3-4f63-9469-e9705c60a7a5</th>\n      <td>space</td>\n      <td>Floor-derived Capital Expenses for cf2872...</td>\n      <td>Space Operating Expenses for cf287254-7d6...</td>\n      <td>Potential Gross Income for cf287254-7d66-...</td>\n      <td>plinthparking</td>\n      <td>63711b98d7f502fbda8c1ac2ca2b2b54</td>\n      <td>2101.569360</td>\n      <td>d188b4bb-27a3-4f63-9469-e9705c60a7a5</td>\n      <td>egi for d188b4bb-27a3-4f63-9469-e9705c60a...</td>\n      <td>Effective Gross Income for cf287254-7d66-...</td>\n      <td>...</td>\n      <td>None</td>\n      <td>38504.668472</td>\n      <td>NaN</td>\n      <td>NaN</td>\n      <td>NaN</td>\n      <td>NaN</td>\n      <td>NaN</td>\n      <td>NaN</td>\n      <td>NaN</td>\n      <td>NaN</td>\n    </tr>\n    <tr>\n      <th>8d9f92cf-5613-4de4-b99b-7681aa76b4cd</th>\n      <td>utilities</td>\n      <td>None</td>\n      <td>None</td>\n      <td>None</td>\n      <td>plinthplant</td>\n      <td>c859dd76f9c3d42eff5b479154891839</td>\n      <td>0.000000</td>\n      <td>8d9f92cf-5613-4de4-b99b-7681aa76b4cd</td>\n      <td>None</td>\n      <td>None</td>\n      <td>...</td>\n      <td>Utilities-derived Capital Expenses for 8d...</td>\n      <td>729.061228</td>\n      <td>{'utils_capex': date\n2005-12-31    -$145,812.2...</td>\n      <td>{'start_date': 2001-01-01 00:00:00, 'num_perio...</td>\n      <td>NaN</td>\n      <td>NaN</td>\n      <td>NaN</td>\n      <td>NaN</td>\n      <td>NaN</td>\n      <td>NaN</td>\n    </tr>\n    <tr>\n      <th>cf287254-7d66-4a4b-8a56-f247f51b41db</th>\n      <td>floor</td>\n      <td>Floor-derived Capital Expenses for cf2872...</td>\n      <td>Space Operating Expenses for cf287254-7d6...</td>\n      <td>Potential Gross Income for cf287254-7d66-...</td>\n      <td>plinthparkingFloor-2</td>\n      <td>44ed4efe8e5d6f821a45ecb5bd940e0f</td>\n      <td>1050.784680</td>\n      <td>cf287254-7d66-4a4b-8a56-f247f51b41db</td>\n      <td>egi for cf287254-7d66-4a4b-8a56-f247f51b4...</td>\n      <td>Effective Gross Income for cf287254-7d66-...</td>\n      <td>...</td>\n      <td>NaN</td>\n      <td>NaN</td>\n      <td>{'pgi': date\n2001-12-31    $0.00\n2002-12-31   ...</td>\n      <td>{'start_date': 2001-01-01 00:00:00, 'num_perio...</td>\n      <td>6386.872106</td>\n      <td>-5.9</td>\n      <td>1050.784680</td>\n      <td>-2.0</td>\n      <td>338.962800</td>\n      <td>3.1</td>\n    </tr>\n    <tr>\n      <th>926a3e9d-0601-4f96-bd71-317d928194f2</th>\n      <td>floor</td>\n      <td>Floor-derived Capital Expenses for 926a3e...</td>\n      <td>Space Operating Expenses for 926a3e9d-060...</td>\n      <td>Potential Gross Income for 926a3e9d-0601-...</td>\n      <td>plinthparkingFloor-1</td>\n      <td>72621ba1bfd974066a08ff128d4b8851</td>\n      <td>1050.784680</td>\n      <td>926a3e9d-0601-4f96-bd71-317d928194f2</td>\n      <td>egi for 926a3e9d-0601-4f96-bd71-317d92819...</td>\n      <td>Effective Gross Income for 926a3e9d-0601-...</td>\n      <td>...</td>\n      <td>NaN</td>\n      <td>NaN</td>\n      <td>{'pgi': date\n2001-12-31    $0.00\n2002-12-31   ...</td>\n      <td>{'start_date': 2001-01-01 00:00:00, 'num_perio...</td>\n      <td>6386.872106</td>\n      <td>-2.8</td>\n      <td>1050.784680</td>\n      <td>-1.0</td>\n      <td>338.962800</td>\n      <td>3.1</td>\n    </tr>\n    <tr>\n      <th>987c5866-03b0-4948-962e-4870684f481b</th>\n      <td>space</td>\n      <td>Floor-derived Capital Expenses for 012820...</td>\n      <td>Space Operating Expenses for 01282060-ad9...</td>\n      <td>Potential Gross Income for 01282060-ad91-...</td>\n      <td>buildingAparking</td>\n      <td>a65c34c51eaeba2fd7da4abe16de9cbc</td>\n      <td>685.218770</td>\n      <td>987c5866-03b0-4948-962e-4870684f481b</td>\n      <td>egi for 987c5866-03b0-4948-962e-4870684f4...</td>\n      <td>Effective Gross Income for 01282060-ad91-...</td>\n      <td>...</td>\n      <td>None</td>\n      <td>4801.310435</td>\n      <td>NaN</td>\n      <td>NaN</td>\n      <td>NaN</td>\n      <td>NaN</td>\n      <td>NaN</td>\n      <td>NaN</td>\n      <td>NaN</td>\n      <td>NaN</td>\n    </tr>\n    <tr>\n      <th>7dc6bf46-805f-4990-bcd2-d0fe1de4dd47</th>\n      <td>space</td>\n      <td>Floor-derived Capital Expenses for f9e9ae...</td>\n      <td>Space Operating Expenses for f9e9ae1c-00f...</td>\n      <td>Potential Gross Income for f9e9ae1c-00f3-...</td>\n      <td>buildingAretail</td>\n      <td>9ed420c6c2ac60436e62ce38f0b4c1c2</td>\n      <td>644.181624</td>\n      <td>7dc6bf46-805f-4990-bcd2-d0fe1de4dd47</td>\n      <td>egi for 7dc6bf46-805f-4990-bcd2-d0fe1de4d...</td>\n      <td>Effective Gross Income for f9e9ae1c-00f3-...</td>\n      <td>...</td>\n      <td>None</td>\n      <td>2672.651191</td>\n      <td>NaN</td>\n      <td>NaN</td>\n      <td>NaN</td>\n      <td>NaN</td>\n      <td>NaN</td>\n      <td>NaN</td>\n      <td>NaN</td>\n      <td>NaN</td>\n    </tr>\n    <tr>\n      <th>549a988b-c3bc-42d4-a6a3-a8dc694fa770</th>\n      <td>space</td>\n      <td>Floor-derived Capital Expenses for e7b3ae...</td>\n      <td>Space Operating Expenses for e7b3aec0-500...</td>\n      <td>Potential Gross Income for e7b3aec0-5003-...</td>\n      <td>buildingAresidential</td>\n      <td>0272b1a43ef3e6bddb3108764284fbe3</td>\n      <td>1407.620851</td>\n      <td>549a988b-c3bc-42d4-a6a3-a8dc694fa770</td>\n      <td>egi for 549a988b-c3bc-42d4-a6a3-a8dc694fa...</td>\n      <td>Effective Gross Income for e7b3aec0-5003-...</td>\n      <td>...</td>\n      <td>None</td>\n      <td>7311.273581</td>\n      <td>NaN</td>\n      <td>NaN</td>\n      <td>NaN</td>\n      <td>NaN</td>\n      <td>NaN</td>\n      <td>NaN</td>\n      <td>NaN</td>\n      <td>NaN</td>\n    </tr>\n    <tr>\n      <th>3cf2bf71-61fa-4a61-b163-6265c299376d</th>\n      <td>space</td>\n      <td>Floor-derived Capital Expenses for 32080c...</td>\n      <td>Space Operating Expenses for 32080c6a-1f3...</td>\n      <td>Potential Gross Income for 32080c6a-1f31-...</td>\n      <td>buildingAretail</td>\n      <td>7fc4f0786342912001716c15cd90e1bd</td>\n      <td>1175.182888</td>\n      <td>3cf2bf71-61fa-4a61-b163-6265c299376d</td>\n      <td>egi for 3cf2bf71-61fa-4a61-b163-6265c2993...</td>\n      <td>Effective Gross Income for 32080c6a-1f31-...</td>\n      <td>...</td>\n      <td>None</td>\n      <td>5618.576632</td>\n      <td>NaN</td>\n      <td>NaN</td>\n      <td>NaN</td>\n      <td>NaN</td>\n      <td>NaN</td>\n      <td>NaN</td>\n      <td>NaN</td>\n      <td>NaN</td>\n    </tr>\n    <tr>\n      <th>bfc1c272-665f-432d-a7b3-a4c955556e7f</th>\n      <td>space</td>\n      <td>Floor-derived Capital Expenses for a1fc1a...</td>\n      <td>Space Operating Expenses for a1fc1a28-113...</td>\n      <td>Potential Gross Income for a1fc1a28-1133-...</td>\n      <td>buildingAoffice</td>\n      <td>1cb0005b9f2555f5958f2236c341f928</td>\n      <td>4770.547972</td>\n      <td>bfc1c272-665f-432d-a7b3-a4c955556e7f</td>\n      <td>egi for bfc1c272-665f-432d-a7b3-a4c955556...</td>\n      <td>Effective Gross Income for a1fc1a28-1133-...</td>\n      <td>...</td>\n      <td>None</td>\n      <td>45542.534549</td>\n      <td>NaN</td>\n      <td>NaN</td>\n      <td>NaN</td>\n      <td>NaN</td>\n      <td>NaN</td>\n      <td>NaN</td>\n      <td>NaN</td>\n      <td>NaN</td>\n    </tr>\n    <tr>\n      <th>55963d84-702d-423d-be05-c8bb6e88f517</th>\n      <td>utilities</td>\n      <td>None</td>\n      <td>None</td>\n      <td>None</td>\n      <td>buildingAcores</td>\n      <td>822467f16eaeb1923e88da49e6dfdaa9</td>\n      <td>0.000000</td>\n      <td>55963d84-702d-423d-be05-c8bb6e88f517</td>\n      <td>None</td>\n      <td>None</td>\n      <td>...</td>\n      <td>Utilities-derived Capital Expenses for 55...</td>\n      <td>10833.232343</td>\n      <td>{'utils_capex': date\n2005-12-31    -$2,166,646...</td>\n      <td>{'start_date': 2001-01-01 00:00:00, 'num_perio...</td>\n      <td>NaN</td>\n      <td>NaN</td>\n      <td>NaN</td>\n      <td>NaN</td>\n      <td>NaN</td>\n      <td>NaN</td>\n    </tr>\n    <tr>\n      <th>01282060-ad91-44be-b0d3-ff43e340e8bd</th>\n      <td>floor</td>\n      <td>Floor-derived Capital Expenses for 012820...</td>\n      <td>Space Operating Expenses for 01282060-ad9...</td>\n      <td>Potential Gross Income for 01282060-ad91-...</td>\n      <td>buildingAparkingFloor0</td>\n      <td>e08141a153feb38bb93204e379f05504</td>\n      <td>685.218770</td>\n      <td>01282060-ad91-44be-b0d3-ff43e340e8bd</td>\n      <td>egi for 01282060-ad91-44be-b0d3-ff43e340e...</td>\n      <td>Effective Gross Income for 01282060-ad91-...</td>\n      <td>...</td>\n      <td>NaN</td>\n      <td>NaN</td>\n      <td>{'pgi': date\n2001-12-31    $0.00\n2002-12-31   ...</td>\n      <td>{'start_date': 2001-01-01 00:00:00, 'num_perio...</td>\n      <td>960.262087</td>\n      <td>0.3</td>\n      <td>685.218770</td>\n      <td>0.0</td>\n      <td>137.043754</td>\n      <td>5.0</td>\n    </tr>\n    <tr>\n      <th>f9e9ae1c-00f3-4966-9682-281ef2a86899</th>\n      <td>floor</td>\n      <td>Floor-derived Capital Expenses for f9e9ae...</td>\n      <td>Space Operating Expenses for f9e9ae1c-00f...</td>\n      <td>Potential Gross Income for f9e9ae1c-00f3-...</td>\n      <td>buildingAretailFloor0</td>\n      <td>e8ff34a0b8d53f8de5380a2b07ab7604</td>\n      <td>644.181624</td>\n      <td>f9e9ae1c-00f3-4966-9682-281ef2a86899</td>\n      <td>egi for f9e9ae1c-00f3-4966-9682-281ef2a86...</td>\n      <td>Effective Gross Income for f9e9ae1c-00f3-...</td>\n      <td>...</td>\n      <td>NaN</td>\n      <td>NaN</td>\n      <td>{'pgi': date\n2001-12-31    $534,530.24\n2002-12...</td>\n      <td>{'start_date': 2001-01-01 00:00:00, 'num_perio...</td>\n      <td>534.530238</td>\n      <td>0.3</td>\n      <td>644.181624</td>\n      <td>0.0</td>\n      <td>128.836325</td>\n      <td>5.0</td>\n    </tr>\n    <tr>\n      <th>e7b3aec0-5003-448b-a0e3-4c2dbb605f85</th>\n      <td>floor</td>\n      <td>Floor-derived Capital Expenses for e7b3ae...</td>\n      <td>Space Operating Expenses for e7b3aec0-500...</td>\n      <td>Potential Gross Income for e7b3aec0-5003-...</td>\n      <td>buildingAresidentialFloor0</td>\n      <td>ec6155f290fda09e629fdfff79849d47</td>\n      <td>156.500000</td>\n      <td>e7b3aec0-5003-448b-a0e3-4c2dbb605f85</td>\n      <td>egi for e7b3aec0-5003-448b-a0e3-4c2dbb605...</td>\n      <td>Effective Gross Income for e7b3aec0-5003-...</td>\n      <td>...</td>\n      <td>NaN</td>\n      <td>NaN</td>\n      <td>{'pgi': date\n2001-12-31    $34,740.00\n2002-12-...</td>\n      <td>{'start_date': 2001-01-01 00:00:00, 'num_perio...</td>\n      <td>57.900000</td>\n      <td>0.3</td>\n      <td>156.500000</td>\n      <td>0.0</td>\n      <td>31.300000</td>\n      <td>5.0</td>\n    </tr>\n    <tr>\n      <th>9c13f0be-9991-4d9f-b41b-a0e962bdeb89</th>\n      <td>floor</td>\n      <td>Floor-derived Capital Expenses for 9c13f0...</td>\n      <td>Space Operating Expenses for 9c13f0be-999...</td>\n      <td>Potential Gross Income for 9c13f0be-9991-...</td>\n      <td>buildingAresidentialFloor0</td>\n      <td>596b0a6f7a37ab20231616260fb9aa52</td>\n      <td>133.000000</td>\n      <td>9c13f0be-9991-4d9f-b41b-a0e962bdeb89</td>\n      <td>egi for 9c13f0be-9991-4d9f-b41b-a0e962bde...</td>\n      <td>Effective Gross Income for 9c13f0be-9991-...</td>\n      <td>...</td>\n      <td>NaN</td>\n      <td>NaN</td>\n      <td>{'pgi': date\n2001-12-31    $26,280.00\n2002-12-...</td>\n      <td>{'start_date': 2001-01-01 00:00:00, 'num_perio...</td>\n      <td>43.800000</td>\n      <td>0.3</td>\n      <td>133.000000</td>\n      <td>0.0</td>\n      <td>26.600000</td>\n      <td>5.0</td>\n    </tr>\n    <tr>\n      <th>e88ff464-a453-45bb-93d8-5f983d417912</th>\n      <td>floor</td>\n      <td>Floor-derived Capital Expenses for e88ff4...</td>\n      <td>Space Operating Expenses for e88ff464-a45...</td>\n      <td>Potential Gross Income for e88ff464-a453-...</td>\n      <td>buildingAresidentialFloor1</td>\n      <td>3f83f05085de4b86bc5f125e8dd55b17</td>\n      <td>372.706950</td>\n      <td>e88ff464-a453-45bb-93d8-5f983d417912</td>\n      <td>egi for e88ff464-a453-45bb-93d8-5f983d417...</td>\n      <td>Effective Gross Income for e88ff464-a453-...</td>\n      <td>...</td>\n      <td>NaN</td>\n      <td>NaN</td>\n      <td>{'pgi': date\n2001-12-31    $438,888.62\n2002-12...</td>\n      <td>{'start_date': 2001-01-01 00:00:00, 'num_perio...</td>\n      <td>731.481030</td>\n      <td>5.3</td>\n      <td>372.706950</td>\n      <td>1.0</td>\n      <td>120.228049</td>\n      <td>3.1</td>\n    </tr>\n    <tr>\n      <th>8ce80d06-69f6-404a-b0fd-a728eb0dfed6</th>\n      <td>floor</td>\n      <td>Floor-derived Capital Expenses for 8ce80d...</td>\n      <td>Space Operating Expenses for 8ce80d06-69f...</td>\n      <td>Potential Gross Income for 8ce80d06-69f6-...</td>\n      <td>buildingAresidentialFloor2</td>\n      <td>cf409a7218fd1454b72e78bcfd6da43e</td>\n      <td>372.706950</td>\n      <td>8ce80d06-69f6-404a-b0fd-a728eb0dfed6</td>\n      <td>egi for 8ce80d06-69f6-404a-b0fd-a728eb0df...</td>\n      <td>Effective Gross Income for 8ce80d06-69f6-...</td>\n      <td>...</td>\n      <td>NaN</td>\n      <td>NaN</td>\n      <td>{'pgi': date\n2001-12-31    $438,888.62\n2002-12...</td>\n      <td>{'start_date': 2001-01-01 00:00:00, 'num_perio...</td>\n      <td>731.481030</td>\n      <td>8.4</td>\n      <td>372.706950</td>\n      <td>2.0</td>\n      <td>120.228049</td>\n      <td>3.1</td>\n    </tr>\n    <tr>\n      <th>bb0a0d86-31c1-4780-b81f-8d0e5a5d83be</th>\n      <td>floor</td>\n      <td>Floor-derived Capital Expenses for bb0a0d...</td>\n      <td>Space Operating Expenses for bb0a0d86-31c...</td>\n      <td>Potential Gross Income for bb0a0d86-31c1-...</td>\n      <td>buildingAresidentialFloor3</td>\n      <td>ac2d95a47f61a943498e56e76f9d1354</td>\n      <td>372.706950</td>\n      <td>bb0a0d86-31c1-4780-b81f-8d0e5a5d83be</td>\n      <td>egi for bb0a0d86-31c1-4780-b81f-8d0e5a5d8...</td>\n      <td>Effective Gross Income for bb0a0d86-31c1-...</td>\n      <td>...</td>\n      <td>NaN</td>\n      <td>NaN</td>\n      <td>{'pgi': date\n2001-12-31    $438,888.62\n2002-12...</td>\n      <td>{'start_date': 2001-01-01 00:00:00, 'num_perio...</td>\n      <td>731.481030</td>\n      <td>11.5</td>\n      <td>372.706950</td>\n      <td>3.0</td>\n      <td>120.228049</td>\n      <td>3.1</td>\n    </tr>\n    <tr>\n      <th>32080c6a-1f31-446f-a3d9-59759ac00ff4</th>\n      <td>floor</td>\n      <td>Floor-derived Capital Expenses for 32080c...</td>\n      <td>Space Operating Expenses for 32080c6a-1f3...</td>\n      <td>Potential Gross Income for 32080c6a-1f31-...</td>\n      <td>buildingAretailFloor0</td>\n      <td>3c12a2c03aad7269eb7cc22de402a955</td>\n      <td>1175.182888</td>\n      <td>32080c6a-1f31-446f-a3d9-59759ac00ff4</td>\n      <td>egi for 32080c6a-1f31-446f-a3d9-59759ac00...</td>\n      <td>Effective Gross Income for 32080c6a-1f31-...</td>\n      <td>...</td>\n      <td>NaN</td>\n      <td>NaN</td>\n      <td>{'pgi': date\n2001-12-31    $1,123,715.33\n2002-...</td>\n      <td>{'start_date': 2001-01-01 00:00:00, 'num_perio...</td>\n      <td>1123.715326</td>\n      <td>0.3</td>\n      <td>1175.182888</td>\n      <td>0.0</td>\n      <td>235.036578</td>\n      <td>5.0</td>\n    </tr>\n    <tr>\n      <th>a1fc1a28-1133-47f2-a8d9-58da817946c2</th>\n      <td>floor</td>\n      <td>Floor-derived Capital Expenses for a1fc1a...</td>\n      <td>Space Operating Expenses for a1fc1a28-113...</td>\n      <td>Potential Gross Income for a1fc1a28-1133-...</td>\n      <td>buildingAofficeFloor1</td>\n      <td>83b419e58555c747c20716875ba4597f</td>\n      <td>515.604747</td>\n      <td>a1fc1a28-1133-47f2-a8d9-58da817946c2</td>\n      <td>egi for a1fc1a28-1133-47f2-a8d9-58da81794...</td>\n      <td>Effective Gross Income for a1fc1a28-1133-...</td>\n      <td>...</td>\n      <td>NaN</td>\n      <td>NaN</td>\n      <td>{'pgi': date\n2001-12-31    $1,238,131.58\n2002-...</td>\n      <td>{'start_date': 2001-01-01 00:00:00, 'num_perio...</td>\n      <td>1650.842103</td>\n      <td>5.3</td>\n      <td>515.604747</td>\n      <td>1.0</td>\n      <td>166.324112</td>\n      <td>3.1</td>\n    </tr>\n    <tr>\n      <th>0296748a-317a-47eb-bf94-e5dbbd78afc1</th>\n      <td>floor</td>\n      <td>Floor-derived Capital Expenses for 029674...</td>\n      <td>Space Operating Expenses for 0296748a-317...</td>\n      <td>Potential Gross Income for 0296748a-317a-...</td>\n      <td>buildingAofficeFloor2</td>\n      <td>37ec2e919b9859ecd29c4458ff5ad96b</td>\n      <td>472.771469</td>\n      <td>0296748a-317a-47eb-bf94-e5dbbd78afc1</td>\n      <td>egi for 0296748a-317a-47eb-bf94-e5dbbd78a...</td>\n      <td>Effective Gross Income for 0296748a-317a-...</td>\n      <td>...</td>\n      <td>NaN</td>\n      <td>NaN</td>\n      <td>{'pgi': date\n2001-12-31    $1,086,691.51\n2002-...</td>\n      <td>{'start_date': 2001-01-01 00:00:00, 'num_perio...</td>\n      <td>1448.922008</td>\n      <td>8.4</td>\n      <td>472.771469</td>\n      <td>2.0</td>\n      <td>152.506926</td>\n      <td>3.1</td>\n    </tr>\n    <tr>\n      <th>74ed0525-d8f9-4f36-b20f-1b8a2baf60f2</th>\n      <td>floor</td>\n      <td>Floor-derived Capital Expenses for 74ed05...</td>\n      <td>Space Operating Expenses for 74ed0525-d8f...</td>\n      <td>Potential Gross Income for 74ed0525-d8f9-...</td>\n      <td>buildingAofficeFloor3</td>\n      <td>356280b6c8aad690c7ff0b4ccfacba5d</td>\n      <td>472.771469</td>\n      <td>74ed0525-d8f9-4f36-b20f-1b8a2baf60f2</td>\n      <td>egi for 74ed0525-d8f9-4f36-b20f-1b8a2baf6...</td>\n      <td>Effective Gross Income for 74ed0525-d8f9-...</td>\n      <td>...</td>\n      <td>NaN</td>\n      <td>NaN</td>\n      <td>{'pgi': date\n2001-12-31    $1,086,691.51\n2002-...</td>\n      <td>{'start_date': 2001-01-01 00:00:00, 'num_perio...</td>\n      <td>1448.922008</td>\n      <td>11.5</td>\n      <td>472.771469</td>\n      <td>3.0</td>\n      <td>152.506926</td>\n      <td>3.1</td>\n    </tr>\n    <tr>\n      <th>ae0fb830-76df-4d91-82ed-4ed755fdec4b</th>\n      <td>floor</td>\n      <td>Floor-derived Capital Expenses for ae0fb8...</td>\n      <td>Space Operating Expenses for ae0fb830-76d...</td>\n      <td>Potential Gross Income for ae0fb830-76df-...</td>\n      <td>buildingAofficeFloor4</td>\n      <td>fc729283157606a767114a85dc9b8a79</td>\n      <td>472.771469</td>\n      <td>ae0fb830-76df-4d91-82ed-4ed755fdec4b</td>\n      <td>egi for ae0fb830-76df-4d91-82ed-4ed755fde...</td>\n      <td>Effective Gross Income for ae0fb830-76df-...</td>\n      <td>...</td>\n      <td>NaN</td>\n      <td>NaN</td>\n      <td>{'pgi': date\n2001-12-31    $1,086,691.51\n2002-...</td>\n      <td>{'start_date': 2001-01-01 00:00:00, 'num_perio...</td>\n      <td>1448.922008</td>\n      <td>14.6</td>\n      <td>472.771469</td>\n      <td>4.0</td>\n      <td>152.506926</td>\n      <td>3.1</td>\n    </tr>\n    <tr>\n      <th>c1b696b1-cae0-49ed-a8ba-0e795438d3d2</th>\n      <td>floor</td>\n      <td>Floor-derived Capital Expenses for c1b696...</td>\n      <td>Space Operating Expenses for c1b696b1-cae...</td>\n      <td>Potential Gross Income for c1b696b1-cae0-...</td>\n      <td>buildingAofficeFloor5</td>\n      <td>d1fc053b819309a8974d34636600ab9a</td>\n      <td>472.771469</td>\n      <td>c1b696b1-cae0-49ed-a8ba-0e795438d3d2</td>\n      <td>egi for c1b696b1-cae0-49ed-a8ba-0e795438d...</td>\n      <td>Effective Gross Income for c1b696b1-cae0-...</td>\n      <td>...</td>\n      <td>NaN</td>\n      <td>NaN</td>\n      <td>{'pgi': date\n2001-12-31    $1,086,691.51\n2002-...</td>\n      <td>{'start_date': 2001-01-01 00:00:00, 'num_perio...</td>\n      <td>1448.922008</td>\n      <td>17.7</td>\n      <td>472.771469</td>\n      <td>5.0</td>\n      <td>152.506926</td>\n      <td>3.1</td>\n    </tr>\n    <tr>\n      <th>add95b48-71c3-40e7-9f35-7db604f3f9f0</th>\n      <td>floor</td>\n      <td>Floor-derived Capital Expenses for add95b...</td>\n      <td>Space Operating Expenses for add95b48-71c...</td>\n      <td>Potential Gross Income for add95b48-71c3-...</td>\n      <td>buildingAofficeFloor6</td>\n      <td>1889d5f805e643a2c94dcd20978d495e</td>\n      <td>472.771469</td>\n      <td>add95b48-71c3-40e7-9f35-7db604f3f9f0</td>\n      <td>egi for add95b48-71c3-40e7-9f35-7db604f3f...</td>\n      <td>Effective Gross Income for add95b48-71c3-...</td>\n      <td>...</td>\n      <td>NaN</td>\n      <td>NaN</td>\n      <td>{'pgi': date\n2001-12-31    $1,086,691.51\n2002-...</td>\n      <td>{'start_date': 2001-01-01 00:00:00, 'num_perio...</td>\n      <td>1448.922008</td>\n      <td>20.8</td>\n      <td>472.771469</td>\n      <td>6.0</td>\n      <td>152.506926</td>\n      <td>3.1</td>\n    </tr>\n    <tr>\n      <th>d8443e6d-9080-4154-89e3-29f0e98ed90a</th>\n      <td>floor</td>\n      <td>Floor-derived Capital Expenses for d8443e...</td>\n      <td>Space Operating Expenses for d8443e6d-908...</td>\n      <td>Potential Gross Income for d8443e6d-9080-...</td>\n      <td>buildingAofficeFloor7</td>\n      <td>46ff37f1a4a3e7952ec2eb8caddfeac0</td>\n      <td>472.771469</td>\n      <td>d8443e6d-9080-4154-89e3-29f0e98ed90a</td>\n      <td>egi for d8443e6d-9080-4154-89e3-29f0e98ed...</td>\n      <td>Effective Gross Income for d8443e6d-9080-...</td>\n      <td>...</td>\n      <td>NaN</td>\n      <td>NaN</td>\n      <td>{'pgi': date\n2001-12-31    $1,086,691.51\n2002-...</td>\n      <td>{'start_date': 2001-01-01 00:00:00, 'num_perio...</td>\n      <td>1448.922008</td>\n      <td>23.9</td>\n      <td>472.771469</td>\n      <td>7.0</td>\n      <td>152.506926</td>\n      <td>3.1</td>\n    </tr>\n    <tr>\n      <th>f8945b4f-6f59-4c5a-a83f-462a97f2dcc4</th>\n      <td>floor</td>\n      <td>Floor-derived Capital Expenses for f8945b...</td>\n      <td>Space Operating Expenses for f8945b4f-6f5...</td>\n      <td>Potential Gross Income for f8945b4f-6f59-...</td>\n      <td>buildingAofficeFloor8</td>\n      <td>5860edecb64f54d983b82c93b85e62a5</td>\n      <td>472.771469</td>\n      <td>f8945b4f-6f59-4c5a-a83f-462a97f2dcc4</td>\n      <td>egi for f8945b4f-6f59-4c5a-a83f-462a97f2d...</td>\n      <td>Effective Gross Income for f8945b4f-6f59-...</td>\n      <td>...</td>\n      <td>NaN</td>\n      <td>NaN</td>\n      <td>{'pgi': date\n2001-12-31    $1,086,691.51\n2002-...</td>\n      <td>{'start_date': 2001-01-01 00:00:00, 'num_perio...</td>\n      <td>1448.922008</td>\n      <td>27.0</td>\n      <td>472.771469</td>\n      <td>8.0</td>\n      <td>152.506926</td>\n      <td>3.1</td>\n    </tr>\n    <tr>\n      <th>b548b184-1643-4c23-9b14-9025aeda59c3</th>\n      <td>floor</td>\n      <td>Floor-derived Capital Expenses for b548b1...</td>\n      <td>Space Operating Expenses for b548b184-164...</td>\n      <td>Potential Gross Income for b548b184-1643-...</td>\n      <td>buildingAofficeFloor9</td>\n      <td>af18721f0a289260853ba91cd9396a09</td>\n      <td>472.771469</td>\n      <td>b548b184-1643-4c23-9b14-9025aeda59c3</td>\n      <td>egi for b548b184-1643-4c23-9b14-9025aeda5...</td>\n      <td>Effective Gross Income for b548b184-1643-...</td>\n      <td>...</td>\n      <td>NaN</td>\n      <td>NaN</td>\n      <td>{'pgi': date\n2001-12-31    $1,086,691.51\n2002-...</td>\n      <td>{'start_date': 2001-01-01 00:00:00, 'num_perio...</td>\n      <td>1448.922008</td>\n      <td>30.1</td>\n      <td>472.771469</td>\n      <td>9.0</td>\n      <td>152.506926</td>\n      <td>3.1</td>\n    </tr>\n    <tr>\n      <th>e8048367-edd2-4a61-ae0f-fd878688c910</th>\n      <td>floor</td>\n      <td>Floor-derived Capital Expenses for e80483...</td>\n      <td>Space Operating Expenses for e8048367-edd...</td>\n      <td>Potential Gross Income for e8048367-edd2-...</td>\n      <td>buildingAofficeFloor10</td>\n      <td>39f74cc1fe3db7b29478a336e9364759</td>\n      <td>472.771469</td>\n      <td>e8048367-edd2-4a61-ae0f-fd878688c910</td>\n      <td>egi for e8048367-edd2-4a61-ae0f-fd878688c...</td>\n      <td>Effective Gross Income for e8048367-edd2-...</td>\n      <td>...</td>\n      <td>NaN</td>\n      <td>NaN</td>\n      <td>{'pgi': date\n2001-12-31    $1,086,691.51\n2002-...</td>\n      <td>{'start_date': 2001-01-01 00:00:00, 'num_perio...</td>\n      <td>1448.922008</td>\n      <td>33.2</td>\n      <td>472.771469</td>\n      <td>10.0</td>\n      <td>152.506926</td>\n      <td>3.1</td>\n    </tr>\n  </tbody>\n</table>\n<p>47 rows × 23 columns</p>\n</div>"
     },
     "execution_count": 49,
     "metadata": {},
     "output_type": "execute_result"
    }
   ],
   "source": [
    "scenario.to_DataFrame()"
   ],
   "metadata": {
    "collapsed": false,
    "ExecuteTime": {
     "end_time": "2023-06-29T03:38:09.302384Z",
     "start_time": "2023-06-29T03:38:07.460674Z"
    }
   }
  },
  {
   "cell_type": "code",
   "execution_count": 50,
   "outputs": [
    {
     "data": {
      "text/plain": "<IPython.lib.display.IFrame at 0x2be40bf40>",
      "text/html": "\n        <iframe\n            width=\"100%\"\n            height=\"1600\"\n            src=\"./aggregate_nacf_chart.html\"\n            frameborder=\"0\"\n            allowfullscreen\n            \n        ></iframe>\n        "
     },
     "execution_count": 50,
     "metadata": {},
     "output_type": "execute_result"
    }
   ],
   "source": [
    "sunburst = spatial_containment.sunburst(property='subtotal_nacf')\n",
    "treemap = spatial_containment.treemap(property='subtotal_nacf')\n",
    "fig = plotly.subplots.make_subplots(\n",
    "    rows=2, cols=1,\n",
    "    specs=[[{\"type\": \"sunburst\"}], [{\"type\": \"treemap\"}]])\n",
    "fig.append_trace(sunburst, row=1, col=1)\n",
    "fig.append_trace(treemap, row=2, col=1)\n",
    "filename='aggregate_nacf_chart.html'\n",
    "py.plot(fig, filename='assets/{0}'.format(filename), auto_open=False)\n",
    "IFrame(src=\"./{0}\".format(filename), width='100%', height=800 * len(fig.data))"
   ],
   "metadata": {
    "collapsed": false,
    "ExecuteTime": {
     "end_time": "2023-06-29T03:38:09.829925Z",
     "start_time": "2023-06-29T03:38:09.306447Z"
    }
   }
  },
  {
   "cell_type": "code",
   "execution_count": 51,
   "outputs": [
    {
     "data": {
      "text/plain": "                                             type  \\\na39ac4c3-094b-4d92-b71d-46c5a857f407  development   \n981c0743-6a4c-4abd-8a97-2c937e48b897     building   \ne3149444-dfbc-41d0-9eb1-f08785a62da1     building   \n529ce7bc-addf-4bad-8ec5-cbecbd73d4f1     building   \n29b746f5-42fe-4321-9a4a-8c65c9f0410c    utilities   \n3fc29315-81e7-45a9-8241-62938e904d73        space   \nf508623d-1d81-4082-85ee-5b1e32c7bb10        space   \n6ac8ab6d-a730-44b8-97aa-a5db09b7fbd0        space   \n71fd4551-8e65-4e7a-8e2a-9d18e69146b0    utilities   \nc11f68da-0544-487b-9cb9-8a3a3a98a9b8        floor   \ncfc3edf5-1e7d-4499-b25f-ee86ed013516        floor   \n3e158dd9-aa5d-47bb-bc13-4b3e6d328fe1        floor   \nb8609a1e-b9f8-44a0-ab98-468ff247d753        floor   \nf68d2f9b-13c5-42e2-9bca-1826f7eff481        floor   \nec086fbc-7b21-4958-b456-9bce6a883c98        floor   \n9ecaf92a-a90e-4572-a426-3ed392e0c28a        floor   \n9a884f88-0627-4eb7-b1ec-80ea39b0a25b        floor   \nd7dd5233-b1c3-451f-ae90-5a80fed205bd        floor   \n4acebff3-f17b-44fb-ba29-6bc02053b329        floor   \nd188b4bb-27a3-4f63-9469-e9705c60a7a5        space   \n8d9f92cf-5613-4de4-b99b-7681aa76b4cd    utilities   \ncf287254-7d66-4a4b-8a56-f247f51b41db        floor   \n926a3e9d-0601-4f96-bd71-317d928194f2        floor   \n987c5866-03b0-4948-962e-4870684f481b        space   \n7dc6bf46-805f-4990-bcd2-d0fe1de4dd47        space   \n549a988b-c3bc-42d4-a6a3-a8dc694fa770        space   \n3cf2bf71-61fa-4a61-b163-6265c299376d        space   \nbfc1c272-665f-432d-a7b3-a4c955556e7f        space   \n55963d84-702d-423d-be05-c8bb6e88f517    utilities   \n01282060-ad91-44be-b0d3-ff43e340e8bd        floor   \nf9e9ae1c-00f3-4966-9682-281ef2a86899        floor   \ne7b3aec0-5003-448b-a0e3-4c2dbb605f85        floor   \n9c13f0be-9991-4d9f-b41b-a0e962bdeb89        floor   \ne88ff464-a453-45bb-93d8-5f983d417912        floor   \n8ce80d06-69f6-404a-b0fd-a728eb0dfed6        floor   \nbb0a0d86-31c1-4780-b81f-8d0e5a5d83be        floor   \n32080c6a-1f31-446f-a3d9-59759ac00ff4        floor   \na1fc1a28-1133-47f2-a8d9-58da817946c2        floor   \n0296748a-317a-47eb-bf94-e5dbbd78afc1        floor   \n74ed0525-d8f9-4f36-b20f-1b8a2baf60f2        floor   \nae0fb830-76df-4d91-82ed-4ed755fdec4b        floor   \nc1b696b1-cae0-49ed-a8ba-0e795438d3d2        floor   \nadd95b48-71c3-40e7-9f35-7db604f3f9f0        floor   \nd8443e6d-9080-4154-89e3-29f0e98ed90a        floor   \nf8945b4f-6f59-4c5a-a83f-462a97f2dcc4        floor   \nb548b184-1643-4c23-9b14-9025aeda59c3        floor   \ne8048367-edd2-4a61-ae0f-fd878688c910        floor   \n\n                                                                   subtotal_floor_capex  \\\na39ac4c3-094b-4d92-b71d-46c5a857f407       Floor-derived Capital Expenses for c11f68...   \n981c0743-6a4c-4abd-8a97-2c937e48b897       Floor-derived Capital Expenses for c11f68...   \ne3149444-dfbc-41d0-9eb1-f08785a62da1       Floor-derived Capital Expenses for cf2872...   \n529ce7bc-addf-4bad-8ec5-cbecbd73d4f1       Floor-derived Capital Expenses for 012820...   \n29b746f5-42fe-4321-9a4a-8c65c9f0410c                                               None   \n3fc29315-81e7-45a9-8241-62938e904d73       Floor-derived Capital Expenses for c11f68...   \nf508623d-1d81-4082-85ee-5b1e32c7bb10       Floor-derived Capital Expenses for d7dd52...   \n6ac8ab6d-a730-44b8-97aa-a5db09b7fbd0       Floor-derived Capital Expenses for 4acebf...   \n71fd4551-8e65-4e7a-8e2a-9d18e69146b0                                               None   \nc11f68da-0544-487b-9cb9-8a3a3a98a9b8       Floor-derived Capital Expenses for c11f68...   \ncfc3edf5-1e7d-4499-b25f-ee86ed013516       Floor-derived Capital Expenses for cfc3ed...   \n3e158dd9-aa5d-47bb-bc13-4b3e6d328fe1       Floor-derived Capital Expenses for 3e158d...   \nb8609a1e-b9f8-44a0-ab98-468ff247d753       Floor-derived Capital Expenses for b8609a...   \nf68d2f9b-13c5-42e2-9bca-1826f7eff481       Floor-derived Capital Expenses for f68d2f...   \nec086fbc-7b21-4958-b456-9bce6a883c98       Floor-derived Capital Expenses for ec086f...   \n9ecaf92a-a90e-4572-a426-3ed392e0c28a       Floor-derived Capital Expenses for 9ecaf9...   \n9a884f88-0627-4eb7-b1ec-80ea39b0a25b       Floor-derived Capital Expenses for 9a884f...   \nd7dd5233-b1c3-451f-ae90-5a80fed205bd       Floor-derived Capital Expenses for d7dd52...   \n4acebff3-f17b-44fb-ba29-6bc02053b329       Floor-derived Capital Expenses for 4acebf...   \nd188b4bb-27a3-4f63-9469-e9705c60a7a5       Floor-derived Capital Expenses for cf2872...   \n8d9f92cf-5613-4de4-b99b-7681aa76b4cd                                               None   \ncf287254-7d66-4a4b-8a56-f247f51b41db       Floor-derived Capital Expenses for cf2872...   \n926a3e9d-0601-4f96-bd71-317d928194f2       Floor-derived Capital Expenses for 926a3e...   \n987c5866-03b0-4948-962e-4870684f481b       Floor-derived Capital Expenses for 012820...   \n7dc6bf46-805f-4990-bcd2-d0fe1de4dd47       Floor-derived Capital Expenses for f9e9ae...   \n549a988b-c3bc-42d4-a6a3-a8dc694fa770       Floor-derived Capital Expenses for e7b3ae...   \n3cf2bf71-61fa-4a61-b163-6265c299376d       Floor-derived Capital Expenses for 32080c...   \nbfc1c272-665f-432d-a7b3-a4c955556e7f       Floor-derived Capital Expenses for a1fc1a...   \n55963d84-702d-423d-be05-c8bb6e88f517                                               None   \n01282060-ad91-44be-b0d3-ff43e340e8bd       Floor-derived Capital Expenses for 012820...   \nf9e9ae1c-00f3-4966-9682-281ef2a86899       Floor-derived Capital Expenses for f9e9ae...   \ne7b3aec0-5003-448b-a0e3-4c2dbb605f85       Floor-derived Capital Expenses for e7b3ae...   \n9c13f0be-9991-4d9f-b41b-a0e962bdeb89       Floor-derived Capital Expenses for 9c13f0...   \ne88ff464-a453-45bb-93d8-5f983d417912       Floor-derived Capital Expenses for e88ff4...   \n8ce80d06-69f6-404a-b0fd-a728eb0dfed6       Floor-derived Capital Expenses for 8ce80d...   \nbb0a0d86-31c1-4780-b81f-8d0e5a5d83be       Floor-derived Capital Expenses for bb0a0d...   \n32080c6a-1f31-446f-a3d9-59759ac00ff4       Floor-derived Capital Expenses for 32080c...   \na1fc1a28-1133-47f2-a8d9-58da817946c2       Floor-derived Capital Expenses for a1fc1a...   \n0296748a-317a-47eb-bf94-e5dbbd78afc1       Floor-derived Capital Expenses for 029674...   \n74ed0525-d8f9-4f36-b20f-1b8a2baf60f2       Floor-derived Capital Expenses for 74ed05...   \nae0fb830-76df-4d91-82ed-4ed755fdec4b       Floor-derived Capital Expenses for ae0fb8...   \nc1b696b1-cae0-49ed-a8ba-0e795438d3d2       Floor-derived Capital Expenses for c1b696...   \nadd95b48-71c3-40e7-9f35-7db604f3f9f0       Floor-derived Capital Expenses for add95b...   \nd8443e6d-9080-4154-89e3-29f0e98ed90a       Floor-derived Capital Expenses for d8443e...   \nf8945b4f-6f59-4c5a-a83f-462a97f2dcc4       Floor-derived Capital Expenses for f8945b...   \nb548b184-1643-4c23-9b14-9025aeda59c3       Floor-derived Capital Expenses for b548b1...   \ne8048367-edd2-4a61-ae0f-fd878688c910       Floor-derived Capital Expenses for e80483...   \n\n                                                                          subtotal_opex  \\\na39ac4c3-094b-4d92-b71d-46c5a857f407       Space Operating Expenses for c11f68da-054...   \n981c0743-6a4c-4abd-8a97-2c937e48b897       Space Operating Expenses for c11f68da-054...   \ne3149444-dfbc-41d0-9eb1-f08785a62da1       Space Operating Expenses for cf287254-7d6...   \n529ce7bc-addf-4bad-8ec5-cbecbd73d4f1       Space Operating Expenses for 01282060-ad9...   \n29b746f5-42fe-4321-9a4a-8c65c9f0410c                                               None   \n3fc29315-81e7-45a9-8241-62938e904d73       Space Operating Expenses for c11f68da-054...   \nf508623d-1d81-4082-85ee-5b1e32c7bb10       Space Operating Expenses for d7dd5233-b1c...   \n6ac8ab6d-a730-44b8-97aa-a5db09b7fbd0       Space Operating Expenses for 4acebff3-f17...   \n71fd4551-8e65-4e7a-8e2a-9d18e69146b0                                               None   \nc11f68da-0544-487b-9cb9-8a3a3a98a9b8       Space Operating Expenses for c11f68da-054...   \ncfc3edf5-1e7d-4499-b25f-ee86ed013516       Space Operating Expenses for cfc3edf5-1e7...   \n3e158dd9-aa5d-47bb-bc13-4b3e6d328fe1       Space Operating Expenses for 3e158dd9-aa5...   \nb8609a1e-b9f8-44a0-ab98-468ff247d753       Space Operating Expenses for b8609a1e-b9f...   \nf68d2f9b-13c5-42e2-9bca-1826f7eff481       Space Operating Expenses for f68d2f9b-13c...   \nec086fbc-7b21-4958-b456-9bce6a883c98       Space Operating Expenses for ec086fbc-7b2...   \n9ecaf92a-a90e-4572-a426-3ed392e0c28a       Space Operating Expenses for 9ecaf92a-a90...   \n9a884f88-0627-4eb7-b1ec-80ea39b0a25b       Space Operating Expenses for 9a884f88-062...   \nd7dd5233-b1c3-451f-ae90-5a80fed205bd       Space Operating Expenses for d7dd5233-b1c...   \n4acebff3-f17b-44fb-ba29-6bc02053b329       Space Operating Expenses for 4acebff3-f17...   \nd188b4bb-27a3-4f63-9469-e9705c60a7a5       Space Operating Expenses for cf287254-7d6...   \n8d9f92cf-5613-4de4-b99b-7681aa76b4cd                                               None   \ncf287254-7d66-4a4b-8a56-f247f51b41db       Space Operating Expenses for cf287254-7d6...   \n926a3e9d-0601-4f96-bd71-317d928194f2       Space Operating Expenses for 926a3e9d-060...   \n987c5866-03b0-4948-962e-4870684f481b       Space Operating Expenses for 01282060-ad9...   \n7dc6bf46-805f-4990-bcd2-d0fe1de4dd47       Space Operating Expenses for f9e9ae1c-00f...   \n549a988b-c3bc-42d4-a6a3-a8dc694fa770       Space Operating Expenses for e7b3aec0-500...   \n3cf2bf71-61fa-4a61-b163-6265c299376d       Space Operating Expenses for 32080c6a-1f3...   \nbfc1c272-665f-432d-a7b3-a4c955556e7f       Space Operating Expenses for a1fc1a28-113...   \n55963d84-702d-423d-be05-c8bb6e88f517                                               None   \n01282060-ad91-44be-b0d3-ff43e340e8bd       Space Operating Expenses for 01282060-ad9...   \nf9e9ae1c-00f3-4966-9682-281ef2a86899       Space Operating Expenses for f9e9ae1c-00f...   \ne7b3aec0-5003-448b-a0e3-4c2dbb605f85       Space Operating Expenses for e7b3aec0-500...   \n9c13f0be-9991-4d9f-b41b-a0e962bdeb89       Space Operating Expenses for 9c13f0be-999...   \ne88ff464-a453-45bb-93d8-5f983d417912       Space Operating Expenses for e88ff464-a45...   \n8ce80d06-69f6-404a-b0fd-a728eb0dfed6       Space Operating Expenses for 8ce80d06-69f...   \nbb0a0d86-31c1-4780-b81f-8d0e5a5d83be       Space Operating Expenses for bb0a0d86-31c...   \n32080c6a-1f31-446f-a3d9-59759ac00ff4       Space Operating Expenses for 32080c6a-1f3...   \na1fc1a28-1133-47f2-a8d9-58da817946c2       Space Operating Expenses for a1fc1a28-113...   \n0296748a-317a-47eb-bf94-e5dbbd78afc1       Space Operating Expenses for 0296748a-317...   \n74ed0525-d8f9-4f36-b20f-1b8a2baf60f2       Space Operating Expenses for 74ed0525-d8f...   \nae0fb830-76df-4d91-82ed-4ed755fdec4b       Space Operating Expenses for ae0fb830-76d...   \nc1b696b1-cae0-49ed-a8ba-0e795438d3d2       Space Operating Expenses for c1b696b1-cae...   \nadd95b48-71c3-40e7-9f35-7db604f3f9f0       Space Operating Expenses for add95b48-71c...   \nd8443e6d-9080-4154-89e3-29f0e98ed90a       Space Operating Expenses for d8443e6d-908...   \nf8945b4f-6f59-4c5a-a83f-462a97f2dcc4       Space Operating Expenses for f8945b4f-6f5...   \nb548b184-1643-4c23-9b14-9025aeda59c3       Space Operating Expenses for b548b184-164...   \ne8048367-edd2-4a61-ae0f-fd878688c910       Space Operating Expenses for e8048367-edd...   \n\n                                                                           subtotal_pgi  \\\na39ac4c3-094b-4d92-b71d-46c5a857f407       Potential Gross Income for c11f68da-0544-...   \n981c0743-6a4c-4abd-8a97-2c937e48b897       Potential Gross Income for c11f68da-0544-...   \ne3149444-dfbc-41d0-9eb1-f08785a62da1       Potential Gross Income for cf287254-7d66-...   \n529ce7bc-addf-4bad-8ec5-cbecbd73d4f1       Potential Gross Income for 01282060-ad91-...   \n29b746f5-42fe-4321-9a4a-8c65c9f0410c                                               None   \n3fc29315-81e7-45a9-8241-62938e904d73       Potential Gross Income for c11f68da-0544-...   \nf508623d-1d81-4082-85ee-5b1e32c7bb10       Potential Gross Income for d7dd5233-b1c3-...   \n6ac8ab6d-a730-44b8-97aa-a5db09b7fbd0       Potential Gross Income for 4acebff3-f17b-...   \n71fd4551-8e65-4e7a-8e2a-9d18e69146b0                                               None   \nc11f68da-0544-487b-9cb9-8a3a3a98a9b8       Potential Gross Income for c11f68da-0544-...   \ncfc3edf5-1e7d-4499-b25f-ee86ed013516       Potential Gross Income for cfc3edf5-1e7d-...   \n3e158dd9-aa5d-47bb-bc13-4b3e6d328fe1       Potential Gross Income for 3e158dd9-aa5d-...   \nb8609a1e-b9f8-44a0-ab98-468ff247d753       Potential Gross Income for b8609a1e-b9f8-...   \nf68d2f9b-13c5-42e2-9bca-1826f7eff481       Potential Gross Income for f68d2f9b-13c5-...   \nec086fbc-7b21-4958-b456-9bce6a883c98       Potential Gross Income for ec086fbc-7b21-...   \n9ecaf92a-a90e-4572-a426-3ed392e0c28a       Potential Gross Income for 9ecaf92a-a90e-...   \n9a884f88-0627-4eb7-b1ec-80ea39b0a25b       Potential Gross Income for 9a884f88-0627-...   \nd7dd5233-b1c3-451f-ae90-5a80fed205bd       Potential Gross Income for d7dd5233-b1c3-...   \n4acebff3-f17b-44fb-ba29-6bc02053b329       Potential Gross Income for 4acebff3-f17b-...   \nd188b4bb-27a3-4f63-9469-e9705c60a7a5       Potential Gross Income for cf287254-7d66-...   \n8d9f92cf-5613-4de4-b99b-7681aa76b4cd                                               None   \ncf287254-7d66-4a4b-8a56-f247f51b41db       Potential Gross Income for cf287254-7d66-...   \n926a3e9d-0601-4f96-bd71-317d928194f2       Potential Gross Income for 926a3e9d-0601-...   \n987c5866-03b0-4948-962e-4870684f481b       Potential Gross Income for 01282060-ad91-...   \n7dc6bf46-805f-4990-bcd2-d0fe1de4dd47       Potential Gross Income for f9e9ae1c-00f3-...   \n549a988b-c3bc-42d4-a6a3-a8dc694fa770       Potential Gross Income for e7b3aec0-5003-...   \n3cf2bf71-61fa-4a61-b163-6265c299376d       Potential Gross Income for 32080c6a-1f31-...   \nbfc1c272-665f-432d-a7b3-a4c955556e7f       Potential Gross Income for a1fc1a28-1133-...   \n55963d84-702d-423d-be05-c8bb6e88f517                                               None   \n01282060-ad91-44be-b0d3-ff43e340e8bd       Potential Gross Income for 01282060-ad91-...   \nf9e9ae1c-00f3-4966-9682-281ef2a86899       Potential Gross Income for f9e9ae1c-00f3-...   \ne7b3aec0-5003-448b-a0e3-4c2dbb605f85       Potential Gross Income for e7b3aec0-5003-...   \n9c13f0be-9991-4d9f-b41b-a0e962bdeb89       Potential Gross Income for 9c13f0be-9991-...   \ne88ff464-a453-45bb-93d8-5f983d417912       Potential Gross Income for e88ff464-a453-...   \n8ce80d06-69f6-404a-b0fd-a728eb0dfed6       Potential Gross Income for 8ce80d06-69f6-...   \nbb0a0d86-31c1-4780-b81f-8d0e5a5d83be       Potential Gross Income for bb0a0d86-31c1-...   \n32080c6a-1f31-446f-a3d9-59759ac00ff4       Potential Gross Income for 32080c6a-1f31-...   \na1fc1a28-1133-47f2-a8d9-58da817946c2       Potential Gross Income for a1fc1a28-1133-...   \n0296748a-317a-47eb-bf94-e5dbbd78afc1       Potential Gross Income for 0296748a-317a-...   \n74ed0525-d8f9-4f36-b20f-1b8a2baf60f2       Potential Gross Income for 74ed0525-d8f9-...   \nae0fb830-76df-4d91-82ed-4ed755fdec4b       Potential Gross Income for ae0fb830-76df-...   \nc1b696b1-cae0-49ed-a8ba-0e795438d3d2       Potential Gross Income for c1b696b1-cae0-...   \nadd95b48-71c3-40e7-9f35-7db604f3f9f0       Potential Gross Income for add95b48-71c3-...   \nd8443e6d-9080-4154-89e3-29f0e98ed90a       Potential Gross Income for d8443e6d-9080-...   \nf8945b4f-6f59-4c5a-a83f-462a97f2dcc4       Potential Gross Income for f8945b4f-6f59-...   \nb548b184-1643-4c23-9b14-9025aeda59c3       Potential Gross Income for b548b184-1643-...   \ne8048367-edd2-4a61-ae0f-fd878688c910       Potential Gross Income for e8048367-edd2-...   \n\n                                                            name  \\\na39ac4c3-094b-4d92-b71d-46c5a857f407                 development   \n981c0743-6a4c-4abd-8a97-2c937e48b897                   buildingB   \ne3149444-dfbc-41d0-9eb1-f08785a62da1                      plinth   \n529ce7bc-addf-4bad-8ec5-cbecbd73d4f1                   buildingA   \n29b746f5-42fe-4321-9a4a-8c65c9f0410c                   utilities   \n3fc29315-81e7-45a9-8241-62938e904d73        buildingBresidential   \nf508623d-1d81-4082-85ee-5b1e32c7bb10            buildingBparking   \n6ac8ab6d-a730-44b8-97aa-a5db09b7fbd0             buildingBretail   \n71fd4551-8e65-4e7a-8e2a-9d18e69146b0              buildingBcores   \nc11f68da-0544-487b-9cb9-8a3a3a98a9b8  buildingBresidentialFloor0   \ncfc3edf5-1e7d-4499-b25f-ee86ed013516  buildingBresidentialFloor1   \n3e158dd9-aa5d-47bb-bc13-4b3e6d328fe1  buildingBresidentialFloor2   \nb8609a1e-b9f8-44a0-ab98-468ff247d753  buildingBresidentialFloor3   \nf68d2f9b-13c5-42e2-9bca-1826f7eff481  buildingBresidentialFloor4   \nec086fbc-7b21-4958-b456-9bce6a883c98  buildingBresidentialFloor5   \n9ecaf92a-a90e-4572-a426-3ed392e0c28a  buildingBresidentialFloor6   \n9a884f88-0627-4eb7-b1ec-80ea39b0a25b  buildingBresidentialFloor0   \nd7dd5233-b1c3-451f-ae90-5a80fed205bd      buildingBparkingFloor0   \n4acebff3-f17b-44fb-ba29-6bc02053b329       buildingBretailFloor0   \nd188b4bb-27a3-4f63-9469-e9705c60a7a5               plinthparking   \n8d9f92cf-5613-4de4-b99b-7681aa76b4cd                 plinthplant   \ncf287254-7d66-4a4b-8a56-f247f51b41db        plinthparkingFloor-2   \n926a3e9d-0601-4f96-bd71-317d928194f2        plinthparkingFloor-1   \n987c5866-03b0-4948-962e-4870684f481b            buildingAparking   \n7dc6bf46-805f-4990-bcd2-d0fe1de4dd47             buildingAretail   \n549a988b-c3bc-42d4-a6a3-a8dc694fa770        buildingAresidential   \n3cf2bf71-61fa-4a61-b163-6265c299376d             buildingAretail   \nbfc1c272-665f-432d-a7b3-a4c955556e7f             buildingAoffice   \n55963d84-702d-423d-be05-c8bb6e88f517              buildingAcores   \n01282060-ad91-44be-b0d3-ff43e340e8bd      buildingAparkingFloor0   \nf9e9ae1c-00f3-4966-9682-281ef2a86899       buildingAretailFloor0   \ne7b3aec0-5003-448b-a0e3-4c2dbb605f85  buildingAresidentialFloor0   \n9c13f0be-9991-4d9f-b41b-a0e962bdeb89  buildingAresidentialFloor0   \ne88ff464-a453-45bb-93d8-5f983d417912  buildingAresidentialFloor1   \n8ce80d06-69f6-404a-b0fd-a728eb0dfed6  buildingAresidentialFloor2   \nbb0a0d86-31c1-4780-b81f-8d0e5a5d83be  buildingAresidentialFloor3   \n32080c6a-1f31-446f-a3d9-59759ac00ff4       buildingAretailFloor0   \na1fc1a28-1133-47f2-a8d9-58da817946c2       buildingAofficeFloor1   \n0296748a-317a-47eb-bf94-e5dbbd78afc1       buildingAofficeFloor2   \n74ed0525-d8f9-4f36-b20f-1b8a2baf60f2       buildingAofficeFloor3   \nae0fb830-76df-4d91-82ed-4ed755fdec4b       buildingAofficeFloor4   \nc1b696b1-cae0-49ed-a8ba-0e795438d3d2       buildingAofficeFloor5   \nadd95b48-71c3-40e7-9f35-7db604f3f9f0       buildingAofficeFloor6   \nd8443e6d-9080-4154-89e3-29f0e98ed90a       buildingAofficeFloor7   \nf8945b4f-6f59-4c5a-a83f-462a97f2dcc4       buildingAofficeFloor8   \nb548b184-1643-4c23-9b14-9025aeda59c3       buildingAofficeFloor9   \ne8048367-edd2-4a61-ae0f-fd878688c910      buildingAofficeFloor10   \n\n                                                                    id  \\\na39ac4c3-094b-4d92-b71d-46c5a857f407  7f4903e4698b6cfd8e0a64c12adf2416   \n981c0743-6a4c-4abd-8a97-2c937e48b897  cc58e3963020225ad02212d4343b5812   \ne3149444-dfbc-41d0-9eb1-f08785a62da1  f80e85a2d73c9b21d9c44075f1c4cf1c   \n529ce7bc-addf-4bad-8ec5-cbecbd73d4f1  bba4e7eed48a0fe438cbd5343f98ed1f   \n29b746f5-42fe-4321-9a4a-8c65c9f0410c  78c8831e5729be7502454b9cb5c55638   \n3fc29315-81e7-45a9-8241-62938e904d73  4a8deb1795b4b28e8f0e8388aee99b23   \nf508623d-1d81-4082-85ee-5b1e32c7bb10  015362e9733d35e803cdb0239e16e7fb   \n6ac8ab6d-a730-44b8-97aa-a5db09b7fbd0  db597c7b2d642ae13a924745ec0ca8f6   \n71fd4551-8e65-4e7a-8e2a-9d18e69146b0  40e5f30e34a71dc756faeaa1cbc2f7a4   \nc11f68da-0544-487b-9cb9-8a3a3a98a9b8  0ed53f8285272bb33d9223ac8ff89680   \ncfc3edf5-1e7d-4499-b25f-ee86ed013516  e3c5e45cd68d83296242a455ae06cb38   \n3e158dd9-aa5d-47bb-bc13-4b3e6d328fe1  f7b7aa999789c0b3301bd464317fe5fc   \nb8609a1e-b9f8-44a0-ab98-468ff247d753  1acacb9d2b5292447f7a952a82a63741   \nf68d2f9b-13c5-42e2-9bca-1826f7eff481  382ed00fd0be5f4d9e93b8f8ba060812   \nec086fbc-7b21-4958-b456-9bce6a883c98  04fd06a7193debbfa2d3ae2bf6ece9f3   \n9ecaf92a-a90e-4572-a426-3ed392e0c28a  fd70d92018ff3a26689b80baac900533   \n9a884f88-0627-4eb7-b1ec-80ea39b0a25b  f4dccd718be782c3da0bd00b1120f630   \nd7dd5233-b1c3-451f-ae90-5a80fed205bd  7a880b72c1af6c1da4fda7b40ee2b9c5   \n4acebff3-f17b-44fb-ba29-6bc02053b329  d3fe6ec14b5ef8f0dd76c4df739aee4c   \nd188b4bb-27a3-4f63-9469-e9705c60a7a5  63711b98d7f502fbda8c1ac2ca2b2b54   \n8d9f92cf-5613-4de4-b99b-7681aa76b4cd  c859dd76f9c3d42eff5b479154891839   \ncf287254-7d66-4a4b-8a56-f247f51b41db  44ed4efe8e5d6f821a45ecb5bd940e0f   \n926a3e9d-0601-4f96-bd71-317d928194f2  72621ba1bfd974066a08ff128d4b8851   \n987c5866-03b0-4948-962e-4870684f481b  a65c34c51eaeba2fd7da4abe16de9cbc   \n7dc6bf46-805f-4990-bcd2-d0fe1de4dd47  9ed420c6c2ac60436e62ce38f0b4c1c2   \n549a988b-c3bc-42d4-a6a3-a8dc694fa770  0272b1a43ef3e6bddb3108764284fbe3   \n3cf2bf71-61fa-4a61-b163-6265c299376d  7fc4f0786342912001716c15cd90e1bd   \nbfc1c272-665f-432d-a7b3-a4c955556e7f  1cb0005b9f2555f5958f2236c341f928   \n55963d84-702d-423d-be05-c8bb6e88f517  822467f16eaeb1923e88da49e6dfdaa9   \n01282060-ad91-44be-b0d3-ff43e340e8bd  e08141a153feb38bb93204e379f05504   \nf9e9ae1c-00f3-4966-9682-281ef2a86899  e8ff34a0b8d53f8de5380a2b07ab7604   \ne7b3aec0-5003-448b-a0e3-4c2dbb605f85  ec6155f290fda09e629fdfff79849d47   \n9c13f0be-9991-4d9f-b41b-a0e962bdeb89  596b0a6f7a37ab20231616260fb9aa52   \ne88ff464-a453-45bb-93d8-5f983d417912  3f83f05085de4b86bc5f125e8dd55b17   \n8ce80d06-69f6-404a-b0fd-a728eb0dfed6  cf409a7218fd1454b72e78bcfd6da43e   \nbb0a0d86-31c1-4780-b81f-8d0e5a5d83be  ac2d95a47f61a943498e56e76f9d1354   \n32080c6a-1f31-446f-a3d9-59759ac00ff4  3c12a2c03aad7269eb7cc22de402a955   \na1fc1a28-1133-47f2-a8d9-58da817946c2  83b419e58555c747c20716875ba4597f   \n0296748a-317a-47eb-bf94-e5dbbd78afc1  37ec2e919b9859ecd29c4458ff5ad96b   \n74ed0525-d8f9-4f36-b20f-1b8a2baf60f2  356280b6c8aad690c7ff0b4ccfacba5d   \nae0fb830-76df-4d91-82ed-4ed755fdec4b  fc729283157606a767114a85dc9b8a79   \nc1b696b1-cae0-49ed-a8ba-0e795438d3d2  d1fc053b819309a8974d34636600ab9a   \nadd95b48-71c3-40e7-9f35-7db604f3f9f0  1889d5f805e643a2c94dcd20978d495e   \nd8443e6d-9080-4154-89e3-29f0e98ed90a  46ff37f1a4a3e7952ec2eb8caddfeac0   \nf8945b4f-6f59-4c5a-a83f-462a97f2dcc4  5860edecb64f54d983b82c93b85e62a5   \nb548b184-1643-4c23-9b14-9025aeda59c3  af18721f0a289260853ba91cd9396a09   \ne8048367-edd2-4a61-ae0f-fd878688c910  39f74cc1fe3db7b29478a336e9364759   \n\n                                      subtotal_facade_area  \\\na39ac4c3-094b-4d92-b71d-46c5a857f407          18368.835682   \n981c0743-6a4c-4abd-8a97-2c937e48b897           7584.514216   \ne3149444-dfbc-41d0-9eb1-f08785a62da1           2101.569360   \n529ce7bc-addf-4bad-8ec5-cbecbd73d4f1           8682.752106   \n29b746f5-42fe-4321-9a4a-8c65c9f0410c              0.000000   \n3fc29315-81e7-45a9-8241-62938e904d73           5892.467960   \nf508623d-1d81-4082-85ee-5b1e32c7bb10            845.782703   \n6ac8ab6d-a730-44b8-97aa-a5db09b7fbd0            846.263553   \n71fd4551-8e65-4e7a-8e2a-9d18e69146b0              0.000000   \nc11f68da-0544-487b-9cb9-8a3a3a98a9b8            886.630547   \ncfc3edf5-1e7d-4499-b25f-ee86ed013516            968.379662   \n3e158dd9-aa5d-47bb-bc13-4b3e6d328fe1            968.379662   \nb8609a1e-b9f8-44a0-ab98-468ff247d753            947.919662   \nf68d2f9b-13c5-42e2-9bca-1826f7eff481            947.919662   \nec086fbc-7b21-4958-b456-9bce6a883c98            425.365235   \n9ecaf92a-a90e-4572-a426-3ed392e0c28a            425.365235   \n9a884f88-0627-4eb7-b1ec-80ea39b0a25b            322.508294   \nd7dd5233-b1c3-451f-ae90-5a80fed205bd            845.782703   \n4acebff3-f17b-44fb-ba29-6bc02053b329            846.263553   \nd188b4bb-27a3-4f63-9469-e9705c60a7a5           2101.569360   \n8d9f92cf-5613-4de4-b99b-7681aa76b4cd              0.000000   \ncf287254-7d66-4a4b-8a56-f247f51b41db           1050.784680   \n926a3e9d-0601-4f96-bd71-317d928194f2           1050.784680   \n987c5866-03b0-4948-962e-4870684f481b            685.218770   \n7dc6bf46-805f-4990-bcd2-d0fe1de4dd47            644.181624   \n549a988b-c3bc-42d4-a6a3-a8dc694fa770           1407.620851   \n3cf2bf71-61fa-4a61-b163-6265c299376d           1175.182888   \nbfc1c272-665f-432d-a7b3-a4c955556e7f           4770.547972   \n55963d84-702d-423d-be05-c8bb6e88f517              0.000000   \n01282060-ad91-44be-b0d3-ff43e340e8bd            685.218770   \nf9e9ae1c-00f3-4966-9682-281ef2a86899            644.181624   \ne7b3aec0-5003-448b-a0e3-4c2dbb605f85            156.500000   \n9c13f0be-9991-4d9f-b41b-a0e962bdeb89            133.000000   \ne88ff464-a453-45bb-93d8-5f983d417912            372.706950   \n8ce80d06-69f6-404a-b0fd-a728eb0dfed6            372.706950   \nbb0a0d86-31c1-4780-b81f-8d0e5a5d83be            372.706950   \n32080c6a-1f31-446f-a3d9-59759ac00ff4           1175.182888   \na1fc1a28-1133-47f2-a8d9-58da817946c2            515.604747   \n0296748a-317a-47eb-bf94-e5dbbd78afc1            472.771469   \n74ed0525-d8f9-4f36-b20f-1b8a2baf60f2            472.771469   \nae0fb830-76df-4d91-82ed-4ed755fdec4b            472.771469   \nc1b696b1-cae0-49ed-a8ba-0e795438d3d2            472.771469   \nadd95b48-71c3-40e7-9f35-7db604f3f9f0            472.771469   \nd8443e6d-9080-4154-89e3-29f0e98ed90a            472.771469   \nf8945b4f-6f59-4c5a-a83f-462a97f2dcc4            472.771469   \nb548b184-1643-4c23-9b14-9025aeda59c3            472.771469   \ne8048367-edd2-4a61-ae0f-fd878688c910            472.771469   \n\n                                                                  entityId  \\\na39ac4c3-094b-4d92-b71d-46c5a857f407  a39ac4c3-094b-4d92-b71d-46c5a857f407   \n981c0743-6a4c-4abd-8a97-2c937e48b897  981c0743-6a4c-4abd-8a97-2c937e48b897   \ne3149444-dfbc-41d0-9eb1-f08785a62da1  e3149444-dfbc-41d0-9eb1-f08785a62da1   \n529ce7bc-addf-4bad-8ec5-cbecbd73d4f1  529ce7bc-addf-4bad-8ec5-cbecbd73d4f1   \n29b746f5-42fe-4321-9a4a-8c65c9f0410c  29b746f5-42fe-4321-9a4a-8c65c9f0410c   \n3fc29315-81e7-45a9-8241-62938e904d73  3fc29315-81e7-45a9-8241-62938e904d73   \nf508623d-1d81-4082-85ee-5b1e32c7bb10  f508623d-1d81-4082-85ee-5b1e32c7bb10   \n6ac8ab6d-a730-44b8-97aa-a5db09b7fbd0  6ac8ab6d-a730-44b8-97aa-a5db09b7fbd0   \n71fd4551-8e65-4e7a-8e2a-9d18e69146b0  71fd4551-8e65-4e7a-8e2a-9d18e69146b0   \nc11f68da-0544-487b-9cb9-8a3a3a98a9b8  c11f68da-0544-487b-9cb9-8a3a3a98a9b8   \ncfc3edf5-1e7d-4499-b25f-ee86ed013516  cfc3edf5-1e7d-4499-b25f-ee86ed013516   \n3e158dd9-aa5d-47bb-bc13-4b3e6d328fe1  3e158dd9-aa5d-47bb-bc13-4b3e6d328fe1   \nb8609a1e-b9f8-44a0-ab98-468ff247d753  b8609a1e-b9f8-44a0-ab98-468ff247d753   \nf68d2f9b-13c5-42e2-9bca-1826f7eff481  f68d2f9b-13c5-42e2-9bca-1826f7eff481   \nec086fbc-7b21-4958-b456-9bce6a883c98  ec086fbc-7b21-4958-b456-9bce6a883c98   \n9ecaf92a-a90e-4572-a426-3ed392e0c28a  9ecaf92a-a90e-4572-a426-3ed392e0c28a   \n9a884f88-0627-4eb7-b1ec-80ea39b0a25b  9a884f88-0627-4eb7-b1ec-80ea39b0a25b   \nd7dd5233-b1c3-451f-ae90-5a80fed205bd  d7dd5233-b1c3-451f-ae90-5a80fed205bd   \n4acebff3-f17b-44fb-ba29-6bc02053b329  4acebff3-f17b-44fb-ba29-6bc02053b329   \nd188b4bb-27a3-4f63-9469-e9705c60a7a5  d188b4bb-27a3-4f63-9469-e9705c60a7a5   \n8d9f92cf-5613-4de4-b99b-7681aa76b4cd  8d9f92cf-5613-4de4-b99b-7681aa76b4cd   \ncf287254-7d66-4a4b-8a56-f247f51b41db  cf287254-7d66-4a4b-8a56-f247f51b41db   \n926a3e9d-0601-4f96-bd71-317d928194f2  926a3e9d-0601-4f96-bd71-317d928194f2   \n987c5866-03b0-4948-962e-4870684f481b  987c5866-03b0-4948-962e-4870684f481b   \n7dc6bf46-805f-4990-bcd2-d0fe1de4dd47  7dc6bf46-805f-4990-bcd2-d0fe1de4dd47   \n549a988b-c3bc-42d4-a6a3-a8dc694fa770  549a988b-c3bc-42d4-a6a3-a8dc694fa770   \n3cf2bf71-61fa-4a61-b163-6265c299376d  3cf2bf71-61fa-4a61-b163-6265c299376d   \nbfc1c272-665f-432d-a7b3-a4c955556e7f  bfc1c272-665f-432d-a7b3-a4c955556e7f   \n55963d84-702d-423d-be05-c8bb6e88f517  55963d84-702d-423d-be05-c8bb6e88f517   \n01282060-ad91-44be-b0d3-ff43e340e8bd  01282060-ad91-44be-b0d3-ff43e340e8bd   \nf9e9ae1c-00f3-4966-9682-281ef2a86899  f9e9ae1c-00f3-4966-9682-281ef2a86899   \ne7b3aec0-5003-448b-a0e3-4c2dbb605f85  e7b3aec0-5003-448b-a0e3-4c2dbb605f85   \n9c13f0be-9991-4d9f-b41b-a0e962bdeb89  9c13f0be-9991-4d9f-b41b-a0e962bdeb89   \ne88ff464-a453-45bb-93d8-5f983d417912  e88ff464-a453-45bb-93d8-5f983d417912   \n8ce80d06-69f6-404a-b0fd-a728eb0dfed6  8ce80d06-69f6-404a-b0fd-a728eb0dfed6   \nbb0a0d86-31c1-4780-b81f-8d0e5a5d83be  bb0a0d86-31c1-4780-b81f-8d0e5a5d83be   \n32080c6a-1f31-446f-a3d9-59759ac00ff4  32080c6a-1f31-446f-a3d9-59759ac00ff4   \na1fc1a28-1133-47f2-a8d9-58da817946c2  a1fc1a28-1133-47f2-a8d9-58da817946c2   \n0296748a-317a-47eb-bf94-e5dbbd78afc1  0296748a-317a-47eb-bf94-e5dbbd78afc1   \n74ed0525-d8f9-4f36-b20f-1b8a2baf60f2  74ed0525-d8f9-4f36-b20f-1b8a2baf60f2   \nae0fb830-76df-4d91-82ed-4ed755fdec4b  ae0fb830-76df-4d91-82ed-4ed755fdec4b   \nc1b696b1-cae0-49ed-a8ba-0e795438d3d2  c1b696b1-cae0-49ed-a8ba-0e795438d3d2   \nadd95b48-71c3-40e7-9f35-7db604f3f9f0  add95b48-71c3-40e7-9f35-7db604f3f9f0   \nd8443e6d-9080-4154-89e3-29f0e98ed90a  d8443e6d-9080-4154-89e3-29f0e98ed90a   \nf8945b4f-6f59-4c5a-a83f-462a97f2dcc4  f8945b4f-6f59-4c5a-a83f-462a97f2dcc4   \nb548b184-1643-4c23-9b14-9025aeda59c3  b548b184-1643-4c23-9b14-9025aeda59c3   \ne8048367-edd2-4a61-ae0f-fd878688c910  e8048367-edd2-4a61-ae0f-fd878688c910   \n\n                                                                          subtotal_nacf  \\\na39ac4c3-094b-4d92-b71d-46c5a857f407       egi for a39ac4c3-094b-4d92-b71d-46c5a857f...   \n981c0743-6a4c-4abd-8a97-2c937e48b897       egi for 981c0743-6a4c-4abd-8a97-2c937e48b...   \ne3149444-dfbc-41d0-9eb1-f08785a62da1       egi for e3149444-dfbc-41d0-9eb1-f08785a62...   \n529ce7bc-addf-4bad-8ec5-cbecbd73d4f1       egi for 529ce7bc-addf-4bad-8ec5-cbecbd73d...   \n29b746f5-42fe-4321-9a4a-8c65c9f0410c                                               None   \n3fc29315-81e7-45a9-8241-62938e904d73       egi for 3fc29315-81e7-45a9-8241-62938e904...   \nf508623d-1d81-4082-85ee-5b1e32c7bb10       egi for f508623d-1d81-4082-85ee-5b1e32c7b...   \n6ac8ab6d-a730-44b8-97aa-a5db09b7fbd0       egi for 6ac8ab6d-a730-44b8-97aa-a5db09b7f...   \n71fd4551-8e65-4e7a-8e2a-9d18e69146b0                                               None   \nc11f68da-0544-487b-9cb9-8a3a3a98a9b8       egi for c11f68da-0544-487b-9cb9-8a3a3a98a...   \ncfc3edf5-1e7d-4499-b25f-ee86ed013516       egi for cfc3edf5-1e7d-4499-b25f-ee86ed013...   \n3e158dd9-aa5d-47bb-bc13-4b3e6d328fe1       egi for 3e158dd9-aa5d-47bb-bc13-4b3e6d328...   \nb8609a1e-b9f8-44a0-ab98-468ff247d753       egi for b8609a1e-b9f8-44a0-ab98-468ff247d...   \nf68d2f9b-13c5-42e2-9bca-1826f7eff481       egi for f68d2f9b-13c5-42e2-9bca-1826f7eff...   \nec086fbc-7b21-4958-b456-9bce6a883c98       egi for ec086fbc-7b21-4958-b456-9bce6a883...   \n9ecaf92a-a90e-4572-a426-3ed392e0c28a       egi for 9ecaf92a-a90e-4572-a426-3ed392e0c...   \n9a884f88-0627-4eb7-b1ec-80ea39b0a25b       egi for 9a884f88-0627-4eb7-b1ec-80ea39b0a...   \nd7dd5233-b1c3-451f-ae90-5a80fed205bd       egi for d7dd5233-b1c3-451f-ae90-5a80fed20...   \n4acebff3-f17b-44fb-ba29-6bc02053b329       egi for 4acebff3-f17b-44fb-ba29-6bc02053b...   \nd188b4bb-27a3-4f63-9469-e9705c60a7a5       egi for d188b4bb-27a3-4f63-9469-e9705c60a...   \n8d9f92cf-5613-4de4-b99b-7681aa76b4cd                                               None   \ncf287254-7d66-4a4b-8a56-f247f51b41db       egi for cf287254-7d66-4a4b-8a56-f247f51b4...   \n926a3e9d-0601-4f96-bd71-317d928194f2       egi for 926a3e9d-0601-4f96-bd71-317d92819...   \n987c5866-03b0-4948-962e-4870684f481b       egi for 987c5866-03b0-4948-962e-4870684f4...   \n7dc6bf46-805f-4990-bcd2-d0fe1de4dd47       egi for 7dc6bf46-805f-4990-bcd2-d0fe1de4d...   \n549a988b-c3bc-42d4-a6a3-a8dc694fa770       egi for 549a988b-c3bc-42d4-a6a3-a8dc694fa...   \n3cf2bf71-61fa-4a61-b163-6265c299376d       egi for 3cf2bf71-61fa-4a61-b163-6265c2993...   \nbfc1c272-665f-432d-a7b3-a4c955556e7f       egi for bfc1c272-665f-432d-a7b3-a4c955556...   \n55963d84-702d-423d-be05-c8bb6e88f517                                               None   \n01282060-ad91-44be-b0d3-ff43e340e8bd       egi for 01282060-ad91-44be-b0d3-ff43e340e...   \nf9e9ae1c-00f3-4966-9682-281ef2a86899       egi for f9e9ae1c-00f3-4966-9682-281ef2a86...   \ne7b3aec0-5003-448b-a0e3-4c2dbb605f85       egi for e7b3aec0-5003-448b-a0e3-4c2dbb605...   \n9c13f0be-9991-4d9f-b41b-a0e962bdeb89       egi for 9c13f0be-9991-4d9f-b41b-a0e962bde...   \ne88ff464-a453-45bb-93d8-5f983d417912       egi for e88ff464-a453-45bb-93d8-5f983d417...   \n8ce80d06-69f6-404a-b0fd-a728eb0dfed6       egi for 8ce80d06-69f6-404a-b0fd-a728eb0df...   \nbb0a0d86-31c1-4780-b81f-8d0e5a5d83be       egi for bb0a0d86-31c1-4780-b81f-8d0e5a5d8...   \n32080c6a-1f31-446f-a3d9-59759ac00ff4       egi for 32080c6a-1f31-446f-a3d9-59759ac00...   \na1fc1a28-1133-47f2-a8d9-58da817946c2       egi for a1fc1a28-1133-47f2-a8d9-58da81794...   \n0296748a-317a-47eb-bf94-e5dbbd78afc1       egi for 0296748a-317a-47eb-bf94-e5dbbd78a...   \n74ed0525-d8f9-4f36-b20f-1b8a2baf60f2       egi for 74ed0525-d8f9-4f36-b20f-1b8a2baf6...   \nae0fb830-76df-4d91-82ed-4ed755fdec4b       egi for ae0fb830-76df-4d91-82ed-4ed755fde...   \nc1b696b1-cae0-49ed-a8ba-0e795438d3d2       egi for c1b696b1-cae0-49ed-a8ba-0e795438d...   \nadd95b48-71c3-40e7-9f35-7db604f3f9f0       egi for add95b48-71c3-40e7-9f35-7db604f3f...   \nd8443e6d-9080-4154-89e3-29f0e98ed90a       egi for d8443e6d-9080-4154-89e3-29f0e98ed...   \nf8945b4f-6f59-4c5a-a83f-462a97f2dcc4       egi for f8945b4f-6f59-4c5a-a83f-462a97f2d...   \nb548b184-1643-4c23-9b14-9025aeda59c3       egi for b548b184-1643-4c23-9b14-9025aeda5...   \ne8048367-edd2-4a61-ae0f-fd878688c910       egi for e8048367-edd2-4a61-ae0f-fd878688c...   \n\n                                                                           subtotal_egi  \\\na39ac4c3-094b-4d92-b71d-46c5a857f407       Effective Gross Income for c11f68da-0544-...   \n981c0743-6a4c-4abd-8a97-2c937e48b897       Effective Gross Income for c11f68da-0544-...   \ne3149444-dfbc-41d0-9eb1-f08785a62da1       Effective Gross Income for cf287254-7d66-...   \n529ce7bc-addf-4bad-8ec5-cbecbd73d4f1       Effective Gross Income for 01282060-ad91-...   \n29b746f5-42fe-4321-9a4a-8c65c9f0410c                                               None   \n3fc29315-81e7-45a9-8241-62938e904d73       Effective Gross Income for c11f68da-0544-...   \nf508623d-1d81-4082-85ee-5b1e32c7bb10       Effective Gross Income for d7dd5233-b1c3-...   \n6ac8ab6d-a730-44b8-97aa-a5db09b7fbd0       Effective Gross Income for 4acebff3-f17b-...   \n71fd4551-8e65-4e7a-8e2a-9d18e69146b0                                               None   \nc11f68da-0544-487b-9cb9-8a3a3a98a9b8       Effective Gross Income for c11f68da-0544-...   \ncfc3edf5-1e7d-4499-b25f-ee86ed013516       Effective Gross Income for cfc3edf5-1e7d-...   \n3e158dd9-aa5d-47bb-bc13-4b3e6d328fe1       Effective Gross Income for 3e158dd9-aa5d-...   \nb8609a1e-b9f8-44a0-ab98-468ff247d753       Effective Gross Income for b8609a1e-b9f8-...   \nf68d2f9b-13c5-42e2-9bca-1826f7eff481       Effective Gross Income for f68d2f9b-13c5-...   \nec086fbc-7b21-4958-b456-9bce6a883c98       Effective Gross Income for ec086fbc-7b21-...   \n9ecaf92a-a90e-4572-a426-3ed392e0c28a       Effective Gross Income for 9ecaf92a-a90e-...   \n9a884f88-0627-4eb7-b1ec-80ea39b0a25b       Effective Gross Income for 9a884f88-0627-...   \nd7dd5233-b1c3-451f-ae90-5a80fed205bd       Effective Gross Income for d7dd5233-b1c3-...   \n4acebff3-f17b-44fb-ba29-6bc02053b329       Effective Gross Income for 4acebff3-f17b-...   \nd188b4bb-27a3-4f63-9469-e9705c60a7a5       Effective Gross Income for cf287254-7d66-...   \n8d9f92cf-5613-4de4-b99b-7681aa76b4cd                                               None   \ncf287254-7d66-4a4b-8a56-f247f51b41db       Effective Gross Income for cf287254-7d66-...   \n926a3e9d-0601-4f96-bd71-317d928194f2       Effective Gross Income for 926a3e9d-0601-...   \n987c5866-03b0-4948-962e-4870684f481b       Effective Gross Income for 01282060-ad91-...   \n7dc6bf46-805f-4990-bcd2-d0fe1de4dd47       Effective Gross Income for f9e9ae1c-00f3-...   \n549a988b-c3bc-42d4-a6a3-a8dc694fa770       Effective Gross Income for e7b3aec0-5003-...   \n3cf2bf71-61fa-4a61-b163-6265c299376d       Effective Gross Income for 32080c6a-1f31-...   \nbfc1c272-665f-432d-a7b3-a4c955556e7f       Effective Gross Income for a1fc1a28-1133-...   \n55963d84-702d-423d-be05-c8bb6e88f517                                               None   \n01282060-ad91-44be-b0d3-ff43e340e8bd       Effective Gross Income for 01282060-ad91-...   \nf9e9ae1c-00f3-4966-9682-281ef2a86899       Effective Gross Income for f9e9ae1c-00f3-...   \ne7b3aec0-5003-448b-a0e3-4c2dbb605f85       Effective Gross Income for e7b3aec0-5003-...   \n9c13f0be-9991-4d9f-b41b-a0e962bdeb89       Effective Gross Income for 9c13f0be-9991-...   \ne88ff464-a453-45bb-93d8-5f983d417912       Effective Gross Income for e88ff464-a453-...   \n8ce80d06-69f6-404a-b0fd-a728eb0dfed6       Effective Gross Income for 8ce80d06-69f6-...   \nbb0a0d86-31c1-4780-b81f-8d0e5a5d83be       Effective Gross Income for bb0a0d86-31c1-...   \n32080c6a-1f31-446f-a3d9-59759ac00ff4       Effective Gross Income for 32080c6a-1f31-...   \na1fc1a28-1133-47f2-a8d9-58da817946c2       Effective Gross Income for a1fc1a28-1133-...   \n0296748a-317a-47eb-bf94-e5dbbd78afc1       Effective Gross Income for 0296748a-317a-...   \n74ed0525-d8f9-4f36-b20f-1b8a2baf60f2       Effective Gross Income for 74ed0525-d8f9-...   \nae0fb830-76df-4d91-82ed-4ed755fdec4b       Effective Gross Income for ae0fb830-76df-...   \nc1b696b1-cae0-49ed-a8ba-0e795438d3d2       Effective Gross Income for c1b696b1-cae0-...   \nadd95b48-71c3-40e7-9f35-7db604f3f9f0       Effective Gross Income for add95b48-71c3-...   \nd8443e6d-9080-4154-89e3-29f0e98ed90a       Effective Gross Income for d8443e6d-9080-...   \nf8945b4f-6f59-4c5a-a83f-462a97f2dcc4       Effective Gross Income for f8945b4f-6f59-...   \nb548b184-1643-4c23-9b14-9025aeda59c3       Effective Gross Income for b548b184-1643-...   \ne8048367-edd2-4a61-ae0f-fd878688c910       Effective Gross Income for e8048367-edd2-...   \n\n                                      ...          gfa   ffl  facade_area  \\\na39ac4c3-094b-4d92-b71d-46c5a857f407  ...          NaN   NaN          NaN   \n981c0743-6a4c-4abd-8a97-2c937e48b897  ...          NaN   NaN          NaN   \ne3149444-dfbc-41d0-9eb1-f08785a62da1  ...          NaN   NaN          NaN   \n529ce7bc-addf-4bad-8ec5-cbecbd73d4f1  ...          NaN   NaN          NaN   \n29b746f5-42fe-4321-9a4a-8c65c9f0410c  ...          NaN   NaN          NaN   \n3fc29315-81e7-45a9-8241-62938e904d73  ...          NaN   NaN          NaN   \nf508623d-1d81-4082-85ee-5b1e32c7bb10  ...          NaN   NaN          NaN   \n6ac8ab6d-a730-44b8-97aa-a5db09b7fbd0  ...          NaN   NaN          NaN   \n71fd4551-8e65-4e7a-8e2a-9d18e69146b0  ...          NaN   NaN          NaN   \nc11f68da-0544-487b-9cb9-8a3a3a98a9b8  ...   765.941631   0.3   886.630547   \ncfc3edf5-1e7d-4499-b25f-ee86ed013516  ...  2361.056035   5.3   968.379662   \n3e158dd9-aa5d-47bb-bc13-4b3e6d328fe1  ...  2361.056035   8.4   968.379662   \nb8609a1e-b9f8-44a0-ab98-468ff247d753  ...  2015.956035  11.5   947.919662   \nf68d2f9b-13c5-42e2-9bca-1826f7eff481  ...  2015.956035  14.6   947.919662   \nec086fbc-7b21-4958-b456-9bce6a883c98  ...   875.014900  17.7   425.365235   \n9ecaf92a-a90e-4572-a426-3ed392e0c28a  ...   875.014900  20.8   425.365235   \n9a884f88-0627-4eb7-b1ec-80ea39b0a25b  ...   172.741054   0.3   322.508294   \nd7dd5233-b1c3-451f-ae90-5a80fed205bd  ...  1178.164752   0.3   845.782703   \n4acebff3-f17b-44fb-ba29-6bc02053b329  ...   815.983454   0.3   846.263553   \nd188b4bb-27a3-4f63-9469-e9705c60a7a5  ...          NaN   NaN          NaN   \n8d9f92cf-5613-4de4-b99b-7681aa76b4cd  ...          NaN   NaN          NaN   \ncf287254-7d66-4a4b-8a56-f247f51b41db  ...  6386.872106  -5.9  1050.784680   \n926a3e9d-0601-4f96-bd71-317d928194f2  ...  6386.872106  -2.8  1050.784680   \n987c5866-03b0-4948-962e-4870684f481b  ...          NaN   NaN          NaN   \n7dc6bf46-805f-4990-bcd2-d0fe1de4dd47  ...          NaN   NaN          NaN   \n549a988b-c3bc-42d4-a6a3-a8dc694fa770  ...          NaN   NaN          NaN   \n3cf2bf71-61fa-4a61-b163-6265c299376d  ...          NaN   NaN          NaN   \nbfc1c272-665f-432d-a7b3-a4c955556e7f  ...          NaN   NaN          NaN   \n55963d84-702d-423d-be05-c8bb6e88f517  ...          NaN   NaN          NaN   \n01282060-ad91-44be-b0d3-ff43e340e8bd  ...   960.262087   0.3   685.218770   \nf9e9ae1c-00f3-4966-9682-281ef2a86899  ...   534.530238   0.3   644.181624   \ne7b3aec0-5003-448b-a0e3-4c2dbb605f85  ...    57.900000   0.3   156.500000   \n9c13f0be-9991-4d9f-b41b-a0e962bdeb89  ...    43.800000   0.3   133.000000   \ne88ff464-a453-45bb-93d8-5f983d417912  ...   731.481030   5.3   372.706950   \n8ce80d06-69f6-404a-b0fd-a728eb0dfed6  ...   731.481030   8.4   372.706950   \nbb0a0d86-31c1-4780-b81f-8d0e5a5d83be  ...   731.481030  11.5   372.706950   \n32080c6a-1f31-446f-a3d9-59759ac00ff4  ...  1123.715326   0.3  1175.182888   \na1fc1a28-1133-47f2-a8d9-58da817946c2  ...  1650.842103   5.3   515.604747   \n0296748a-317a-47eb-bf94-e5dbbd78afc1  ...  1448.922008   8.4   472.771469   \n74ed0525-d8f9-4f36-b20f-1b8a2baf60f2  ...  1448.922008  11.5   472.771469   \nae0fb830-76df-4d91-82ed-4ed755fdec4b  ...  1448.922008  14.6   472.771469   \nc1b696b1-cae0-49ed-a8ba-0e795438d3d2  ...  1448.922008  17.7   472.771469   \nadd95b48-71c3-40e7-9f35-7db604f3f9f0  ...  1448.922008  20.8   472.771469   \nd8443e6d-9080-4154-89e3-29f0e98ed90a  ...  1448.922008  23.9   472.771469   \nf8945b4f-6f59-4c5a-a83f-462a97f2dcc4  ...  1448.922008  27.0   472.771469   \nb548b184-1643-4c23-9b14-9025aeda59c3  ...  1448.922008  30.1   472.771469   \ne8048367-edd2-4a61-ae0f-fd878688c910  ...  1448.922008  33.2   472.771469   \n\n                                     number   perimeter  ftf property_total  \\\na39ac4c3-094b-4d92-b71d-46c5a857f407    NaN         NaN  NaN   1.476005e+08   \n981c0743-6a4c-4abd-8a97-2c937e48b897    NaN         NaN  NaN   6.284128e+07   \ne3149444-dfbc-41d0-9eb1-f08785a62da1    NaN         NaN  NaN  -1.294317e+07   \n529ce7bc-addf-4bad-8ec5-cbecbd73d4f1    NaN         NaN  NaN   9.770238e+07   \n29b746f5-42fe-4321-9a4a-8c65c9f0410c    NaN         NaN  NaN            NaN   \n3fc29315-81e7-45a9-8241-62938e904d73    NaN         NaN  NaN   6.266674e+07   \nf508623d-1d81-4082-85ee-5b1e32c7bb10    NaN         NaN  NaN  -1.402542e+06   \n6ac8ab6d-a730-44b8-97aa-a5db09b7fbd0    NaN         NaN  NaN   1.577090e+06   \n71fd4551-8e65-4e7a-8e2a-9d18e69146b0    NaN         NaN  NaN            NaN   \nc11f68da-0544-487b-9cb9-8a3a3a98a9b8    0.0  177.326109  5.0   3.879515e+06   \ncfc3edf5-1e7d-4499-b25f-ee86ed013516    1.0  312.380536  3.1   1.308891e+07   \n3e158dd9-aa5d-47bb-bc13-4b3e6d328fe1    2.0  312.380536  3.1   1.308891e+07   \nb8609a1e-b9f8-44a0-ab98-468ff247d753    3.0  305.780536  3.1   1.109825e+07   \nf68d2f9b-13c5-42e2-9bca-1826f7eff481    4.0  305.780536  3.1   1.109825e+07   \nec086fbc-7b21-4958-b456-9bce6a883c98    5.0  137.214592  3.1   4.808219e+06   \n9ecaf92a-a90e-4572-a426-3ed392e0c28a    6.0  137.214592  3.1   4.808219e+06   \n9a884f88-0627-4eb7-b1ec-80ea39b0a25b    0.0   64.501659  5.0   7.964591e+05   \nd7dd5233-b1c3-451f-ae90-5a80fed205bd    0.0  169.156541  5.0  -1.402542e+06   \n4acebff3-f17b-44fb-ba29-6bc02053b329    0.0  169.252711  5.0   1.577090e+06   \nd188b4bb-27a3-4f63-9469-e9705c60a7a5    NaN         NaN  NaN  -1.294317e+07   \n8d9f92cf-5613-4de4-b99b-7681aa76b4cd    NaN         NaN  NaN            NaN   \ncf287254-7d66-4a4b-8a56-f247f51b41db   -2.0  338.962800  3.1  -6.471587e+06   \n926a3e9d-0601-4f96-bd71-317d928194f2   -1.0  338.962800  3.1  -6.471587e+06   \n987c5866-03b0-4948-962e-4870684f481b    NaN         NaN  NaN  -1.141817e+06   \n7dc6bf46-805f-4990-bcd2-d0fe1de4dd47    NaN         NaN  NaN   9.180778e+05   \n549a988b-c3bc-42d4-a6a3-a8dc694fa770    NaN         NaN  NaN   1.243072e+07   \n3cf2bf71-61fa-4a61-b163-6265c299376d    NaN         NaN  NaN   2.159347e+06   \nbfc1c272-665f-432d-a7b3-a4c955556e7f    NaN         NaN  NaN   8.333605e+07   \n55963d84-702d-423d-be05-c8bb6e88f517    NaN         NaN  NaN            NaN   \n01282060-ad91-44be-b0d3-ff43e340e8bd    0.0  137.043754  5.0  -1.141817e+06   \nf9e9ae1c-00f3-4966-9682-281ef2a86899    0.0  128.836325  5.0   9.180778e+05   \ne7b3aec0-5003-448b-a0e3-4c2dbb605f85    0.0   31.300000  5.0   2.359650e+05   \n9c13f0be-9991-4d9f-b41b-a0e962bdeb89    0.0   26.600000  5.0   1.691451e+05   \ne88ff464-a453-45bb-93d8-5f983d417912    1.0  120.228049  3.1   4.008537e+06   \n8ce80d06-69f6-404a-b0fd-a728eb0dfed6    2.0  120.228049  3.1   4.008537e+06   \nbb0a0d86-31c1-4780-b81f-8d0e5a5d83be    3.0  120.228049  3.1   4.008537e+06   \n32080c6a-1f31-446f-a3d9-59759ac00ff4    0.0  235.036578  5.0   2.159347e+06   \na1fc1a28-1133-47f2-a8d9-58da817946c2    1.0  166.324112  3.1   9.377568e+06   \n0296748a-317a-47eb-bf94-e5dbbd78afc1    2.0  152.506926  3.1   8.217609e+06   \n74ed0525-d8f9-4f36-b20f-1b8a2baf60f2    3.0  152.506926  3.1   8.217609e+06   \nae0fb830-76df-4d91-82ed-4ed755fdec4b    4.0  152.506926  3.1   8.217609e+06   \nc1b696b1-cae0-49ed-a8ba-0e795438d3d2    5.0  152.506926  3.1   8.217609e+06   \nadd95b48-71c3-40e7-9f35-7db604f3f9f0    6.0  152.506926  3.1   8.217609e+06   \nd8443e6d-9080-4154-89e3-29f0e98ed90a    7.0  152.506926  3.1   8.217609e+06   \nf8945b4f-6f59-4c5a-a83f-462a97f2dcc4    8.0  152.506926  3.1   8.217609e+06   \nb548b184-1643-4c23-9b14-9025aeda59c3    9.0  152.506926  3.1   8.217609e+06   \ne8048367-edd2-4a61-ae0f-fd878688c910   10.0  152.506926  3.1   8.217609e+06   \n\n                                     trunk_idx  color_norm     color  \na39ac4c3-094b-4d92-b71d-46c5a857f407       NaN    1.000000       NaN  \n981c0743-6a4c-4abd-8a97-2c937e48b897       0.0    0.472049  2.472049  \ne3149444-dfbc-41d0-9eb1-f08785a62da1       1.0    0.000000  3.000000  \n529ce7bc-addf-4bad-8ec5-cbecbd73d4f1       2.0    0.689193  4.689193  \n29b746f5-42fe-4321-9a4a-8c65c9f0410c       3.0         NaN       NaN  \n3fc29315-81e7-45a9-8241-62938e904d73       0.0    0.470962  2.470962  \nf508623d-1d81-4082-85ee-5b1e32c7bb10       0.0    0.071885  2.071885  \n6ac8ab6d-a730-44b8-97aa-a5db09b7fbd0       0.0    0.090444  2.090444  \n71fd4551-8e65-4e7a-8e2a-9d18e69146b0       0.0         NaN       NaN  \nc11f68da-0544-487b-9cb9-8a3a3a98a9b8       0.0    0.104786  2.104786  \ncfc3edf5-1e7d-4499-b25f-ee86ed013516       0.0    0.162150  2.162150  \n3e158dd9-aa5d-47bb-bc13-4b3e6d328fe1       0.0    0.162150  2.162150  \nb8609a1e-b9f8-44a0-ab98-468ff247d753       0.0    0.149750  2.149750  \nf68d2f9b-13c5-42e2-9bca-1826f7eff481       0.0    0.149750  2.149750  \nec086fbc-7b21-4958-b456-9bce6a883c98       0.0    0.110571  2.110571  \n9ecaf92a-a90e-4572-a426-3ed392e0c28a       0.0    0.110571  2.110571  \n9a884f88-0627-4eb7-b1ec-80ea39b0a25b       0.0    0.085582  2.085582  \nd7dd5233-b1c3-451f-ae90-5a80fed205bd       0.0    0.071885  2.071885  \n4acebff3-f17b-44fb-ba29-6bc02053b329       0.0    0.090444  2.090444  \nd188b4bb-27a3-4f63-9469-e9705c60a7a5       1.0    0.000000  3.000000  \n8d9f92cf-5613-4de4-b99b-7681aa76b4cd       1.0         NaN       NaN  \ncf287254-7d66-4a4b-8a56-f247f51b41db       1.0    0.040310  3.040310  \n926a3e9d-0601-4f96-bd71-317d928194f2       1.0    0.040310  3.040310  \n987c5866-03b0-4948-962e-4870684f481b       2.0    0.073509  4.073509  \n7dc6bf46-805f-4990-bcd2-d0fe1de4dd47       2.0    0.086339  4.086339  \n549a988b-c3bc-42d4-a6a3-a8dc694fa770       2.0    0.158050  4.158050  \n3cf2bf71-61fa-4a61-b163-6265c299376d       2.0    0.094071  4.094071  \nbfc1c272-665f-432d-a7b3-a4c955556e7f       2.0    0.599707  4.599707  \n55963d84-702d-423d-be05-c8bb6e88f517       2.0         NaN       NaN  \n01282060-ad91-44be-b0d3-ff43e340e8bd       2.0    0.073509  4.073509  \nf9e9ae1c-00f3-4966-9682-281ef2a86899       2.0    0.086339  4.086339  \ne7b3aec0-5003-448b-a0e3-4c2dbb605f85       2.0    0.082091  4.082091  \n9c13f0be-9991-4d9f-b41b-a0e962bdeb89       2.0    0.081674  4.081674  \ne88ff464-a453-45bb-93d8-5f983d417912       2.0    0.105589  4.105589  \n8ce80d06-69f6-404a-b0fd-a728eb0dfed6       2.0    0.105589  4.105589  \nbb0a0d86-31c1-4780-b81f-8d0e5a5d83be       2.0    0.105589  4.105589  \n32080c6a-1f31-446f-a3d9-59759ac00ff4       2.0    0.094071  4.094071  \na1fc1a28-1133-47f2-a8d9-58da817946c2       2.0    0.139032  4.139032  \n0296748a-317a-47eb-bf94-e5dbbd78afc1       2.0    0.131807  4.131807  \n74ed0525-d8f9-4f36-b20f-1b8a2baf60f2       2.0    0.131807  4.131807  \nae0fb830-76df-4d91-82ed-4ed755fdec4b       2.0    0.131807  4.131807  \nc1b696b1-cae0-49ed-a8ba-0e795438d3d2       2.0    0.131807  4.131807  \nadd95b48-71c3-40e7-9f35-7db604f3f9f0       2.0    0.131807  4.131807  \nd8443e6d-9080-4154-89e3-29f0e98ed90a       2.0    0.131807  4.131807  \nf8945b4f-6f59-4c5a-a83f-462a97f2dcc4       2.0    0.131807  4.131807  \nb548b184-1643-4c23-9b14-9025aeda59c3       2.0    0.131807  4.131807  \ne8048367-edd2-4a61-ae0f-fd878688c910       2.0    0.131807  4.131807  \n\n[47 rows x 28 columns]",
      "text/html": "<div>\n<style scoped>\n    .dataframe tbody tr th:only-of-type {\n        vertical-align: middle;\n    }\n\n    .dataframe tbody tr th {\n        vertical-align: top;\n    }\n\n    .dataframe thead th {\n        text-align: right;\n    }\n</style>\n<table border=\"1\" class=\"dataframe\">\n  <thead>\n    <tr style=\"text-align: right;\">\n      <th></th>\n      <th>type</th>\n      <th>subtotal_floor_capex</th>\n      <th>subtotal_opex</th>\n      <th>subtotal_pgi</th>\n      <th>name</th>\n      <th>id</th>\n      <th>subtotal_facade_area</th>\n      <th>entityId</th>\n      <th>subtotal_nacf</th>\n      <th>subtotal_egi</th>\n      <th>...</th>\n      <th>gfa</th>\n      <th>ffl</th>\n      <th>facade_area</th>\n      <th>number</th>\n      <th>perimeter</th>\n      <th>ftf</th>\n      <th>property_total</th>\n      <th>trunk_idx</th>\n      <th>color_norm</th>\n      <th>color</th>\n    </tr>\n  </thead>\n  <tbody>\n    <tr>\n      <th>a39ac4c3-094b-4d92-b71d-46c5a857f407</th>\n      <td>development</td>\n      <td>Floor-derived Capital Expenses for c11f68...</td>\n      <td>Space Operating Expenses for c11f68da-054...</td>\n      <td>Potential Gross Income for c11f68da-0544-...</td>\n      <td>development</td>\n      <td>7f4903e4698b6cfd8e0a64c12adf2416</td>\n      <td>18368.835682</td>\n      <td>a39ac4c3-094b-4d92-b71d-46c5a857f407</td>\n      <td>egi for a39ac4c3-094b-4d92-b71d-46c5a857f...</td>\n      <td>Effective Gross Income for c11f68da-0544-...</td>\n      <td>...</td>\n      <td>NaN</td>\n      <td>NaN</td>\n      <td>NaN</td>\n      <td>NaN</td>\n      <td>NaN</td>\n      <td>NaN</td>\n      <td>1.476005e+08</td>\n      <td>NaN</td>\n      <td>1.000000</td>\n      <td>NaN</td>\n    </tr>\n    <tr>\n      <th>981c0743-6a4c-4abd-8a97-2c937e48b897</th>\n      <td>building</td>\n      <td>Floor-derived Capital Expenses for c11f68...</td>\n      <td>Space Operating Expenses for c11f68da-054...</td>\n      <td>Potential Gross Income for c11f68da-0544-...</td>\n      <td>buildingB</td>\n      <td>cc58e3963020225ad02212d4343b5812</td>\n      <td>7584.514216</td>\n      <td>981c0743-6a4c-4abd-8a97-2c937e48b897</td>\n      <td>egi for 981c0743-6a4c-4abd-8a97-2c937e48b...</td>\n      <td>Effective Gross Income for c11f68da-0544-...</td>\n      <td>...</td>\n      <td>NaN</td>\n      <td>NaN</td>\n      <td>NaN</td>\n      <td>NaN</td>\n      <td>NaN</td>\n      <td>NaN</td>\n      <td>6.284128e+07</td>\n      <td>0.0</td>\n      <td>0.472049</td>\n      <td>2.472049</td>\n    </tr>\n    <tr>\n      <th>e3149444-dfbc-41d0-9eb1-f08785a62da1</th>\n      <td>building</td>\n      <td>Floor-derived Capital Expenses for cf2872...</td>\n      <td>Space Operating Expenses for cf287254-7d6...</td>\n      <td>Potential Gross Income for cf287254-7d66-...</td>\n      <td>plinth</td>\n      <td>f80e85a2d73c9b21d9c44075f1c4cf1c</td>\n      <td>2101.569360</td>\n      <td>e3149444-dfbc-41d0-9eb1-f08785a62da1</td>\n      <td>egi for e3149444-dfbc-41d0-9eb1-f08785a62...</td>\n      <td>Effective Gross Income for cf287254-7d66-...</td>\n      <td>...</td>\n      <td>NaN</td>\n      <td>NaN</td>\n      <td>NaN</td>\n      <td>NaN</td>\n      <td>NaN</td>\n      <td>NaN</td>\n      <td>-1.294317e+07</td>\n      <td>1.0</td>\n      <td>0.000000</td>\n      <td>3.000000</td>\n    </tr>\n    <tr>\n      <th>529ce7bc-addf-4bad-8ec5-cbecbd73d4f1</th>\n      <td>building</td>\n      <td>Floor-derived Capital Expenses for 012820...</td>\n      <td>Space Operating Expenses for 01282060-ad9...</td>\n      <td>Potential Gross Income for 01282060-ad91-...</td>\n      <td>buildingA</td>\n      <td>bba4e7eed48a0fe438cbd5343f98ed1f</td>\n      <td>8682.752106</td>\n      <td>529ce7bc-addf-4bad-8ec5-cbecbd73d4f1</td>\n      <td>egi for 529ce7bc-addf-4bad-8ec5-cbecbd73d...</td>\n      <td>Effective Gross Income for 01282060-ad91-...</td>\n      <td>...</td>\n      <td>NaN</td>\n      <td>NaN</td>\n      <td>NaN</td>\n      <td>NaN</td>\n      <td>NaN</td>\n      <td>NaN</td>\n      <td>9.770238e+07</td>\n      <td>2.0</td>\n      <td>0.689193</td>\n      <td>4.689193</td>\n    </tr>\n    <tr>\n      <th>29b746f5-42fe-4321-9a4a-8c65c9f0410c</th>\n      <td>utilities</td>\n      <td>None</td>\n      <td>None</td>\n      <td>None</td>\n      <td>utilities</td>\n      <td>78c8831e5729be7502454b9cb5c55638</td>\n      <td>0.000000</td>\n      <td>29b746f5-42fe-4321-9a4a-8c65c9f0410c</td>\n      <td>None</td>\n      <td>None</td>\n      <td>...</td>\n      <td>NaN</td>\n      <td>NaN</td>\n      <td>NaN</td>\n      <td>NaN</td>\n      <td>NaN</td>\n      <td>NaN</td>\n      <td>NaN</td>\n      <td>3.0</td>\n      <td>NaN</td>\n      <td>NaN</td>\n    </tr>\n    <tr>\n      <th>3fc29315-81e7-45a9-8241-62938e904d73</th>\n      <td>space</td>\n      <td>Floor-derived Capital Expenses for c11f68...</td>\n      <td>Space Operating Expenses for c11f68da-054...</td>\n      <td>Potential Gross Income for c11f68da-0544-...</td>\n      <td>buildingBresidential</td>\n      <td>4a8deb1795b4b28e8f0e8388aee99b23</td>\n      <td>5892.467960</td>\n      <td>3fc29315-81e7-45a9-8241-62938e904d73</td>\n      <td>egi for 3fc29315-81e7-45a9-8241-62938e904...</td>\n      <td>Effective Gross Income for c11f68da-0544-...</td>\n      <td>...</td>\n      <td>NaN</td>\n      <td>NaN</td>\n      <td>NaN</td>\n      <td>NaN</td>\n      <td>NaN</td>\n      <td>NaN</td>\n      <td>6.266674e+07</td>\n      <td>0.0</td>\n      <td>0.470962</td>\n      <td>2.470962</td>\n    </tr>\n    <tr>\n      <th>f508623d-1d81-4082-85ee-5b1e32c7bb10</th>\n      <td>space</td>\n      <td>Floor-derived Capital Expenses for d7dd52...</td>\n      <td>Space Operating Expenses for d7dd5233-b1c...</td>\n      <td>Potential Gross Income for d7dd5233-b1c3-...</td>\n      <td>buildingBparking</td>\n      <td>015362e9733d35e803cdb0239e16e7fb</td>\n      <td>845.782703</td>\n      <td>f508623d-1d81-4082-85ee-5b1e32c7bb10</td>\n      <td>egi for f508623d-1d81-4082-85ee-5b1e32c7b...</td>\n      <td>Effective Gross Income for d7dd5233-b1c3-...</td>\n      <td>...</td>\n      <td>NaN</td>\n      <td>NaN</td>\n      <td>NaN</td>\n      <td>NaN</td>\n      <td>NaN</td>\n      <td>NaN</td>\n      <td>-1.402542e+06</td>\n      <td>0.0</td>\n      <td>0.071885</td>\n      <td>2.071885</td>\n    </tr>\n    <tr>\n      <th>6ac8ab6d-a730-44b8-97aa-a5db09b7fbd0</th>\n      <td>space</td>\n      <td>Floor-derived Capital Expenses for 4acebf...</td>\n      <td>Space Operating Expenses for 4acebff3-f17...</td>\n      <td>Potential Gross Income for 4acebff3-f17b-...</td>\n      <td>buildingBretail</td>\n      <td>db597c7b2d642ae13a924745ec0ca8f6</td>\n      <td>846.263553</td>\n      <td>6ac8ab6d-a730-44b8-97aa-a5db09b7fbd0</td>\n      <td>egi for 6ac8ab6d-a730-44b8-97aa-a5db09b7f...</td>\n      <td>Effective Gross Income for 4acebff3-f17b-...</td>\n      <td>...</td>\n      <td>NaN</td>\n      <td>NaN</td>\n      <td>NaN</td>\n      <td>NaN</td>\n      <td>NaN</td>\n      <td>NaN</td>\n      <td>1.577090e+06</td>\n      <td>0.0</td>\n      <td>0.090444</td>\n      <td>2.090444</td>\n    </tr>\n    <tr>\n      <th>71fd4551-8e65-4e7a-8e2a-9d18e69146b0</th>\n      <td>utilities</td>\n      <td>None</td>\n      <td>None</td>\n      <td>None</td>\n      <td>buildingBcores</td>\n      <td>40e5f30e34a71dc756faeaa1cbc2f7a4</td>\n      <td>0.000000</td>\n      <td>71fd4551-8e65-4e7a-8e2a-9d18e69146b0</td>\n      <td>None</td>\n      <td>None</td>\n      <td>...</td>\n      <td>NaN</td>\n      <td>NaN</td>\n      <td>NaN</td>\n      <td>NaN</td>\n      <td>NaN</td>\n      <td>NaN</td>\n      <td>NaN</td>\n      <td>0.0</td>\n      <td>NaN</td>\n      <td>NaN</td>\n    </tr>\n    <tr>\n      <th>c11f68da-0544-487b-9cb9-8a3a3a98a9b8</th>\n      <td>floor</td>\n      <td>Floor-derived Capital Expenses for c11f68...</td>\n      <td>Space Operating Expenses for c11f68da-054...</td>\n      <td>Potential Gross Income for c11f68da-0544-...</td>\n      <td>buildingBresidentialFloor0</td>\n      <td>0ed53f8285272bb33d9223ac8ff89680</td>\n      <td>886.630547</td>\n      <td>c11f68da-0544-487b-9cb9-8a3a3a98a9b8</td>\n      <td>egi for c11f68da-0544-487b-9cb9-8a3a3a98a...</td>\n      <td>Effective Gross Income for c11f68da-0544-...</td>\n      <td>...</td>\n      <td>765.941631</td>\n      <td>0.3</td>\n      <td>886.630547</td>\n      <td>0.0</td>\n      <td>177.326109</td>\n      <td>5.0</td>\n      <td>3.879515e+06</td>\n      <td>0.0</td>\n      <td>0.104786</td>\n      <td>2.104786</td>\n    </tr>\n    <tr>\n      <th>cfc3edf5-1e7d-4499-b25f-ee86ed013516</th>\n      <td>floor</td>\n      <td>Floor-derived Capital Expenses for cfc3ed...</td>\n      <td>Space Operating Expenses for cfc3edf5-1e7...</td>\n      <td>Potential Gross Income for cfc3edf5-1e7d-...</td>\n      <td>buildingBresidentialFloor1</td>\n      <td>e3c5e45cd68d83296242a455ae06cb38</td>\n      <td>968.379662</td>\n      <td>cfc3edf5-1e7d-4499-b25f-ee86ed013516</td>\n      <td>egi for cfc3edf5-1e7d-4499-b25f-ee86ed013...</td>\n      <td>Effective Gross Income for cfc3edf5-1e7d-...</td>\n      <td>...</td>\n      <td>2361.056035</td>\n      <td>5.3</td>\n      <td>968.379662</td>\n      <td>1.0</td>\n      <td>312.380536</td>\n      <td>3.1</td>\n      <td>1.308891e+07</td>\n      <td>0.0</td>\n      <td>0.162150</td>\n      <td>2.162150</td>\n    </tr>\n    <tr>\n      <th>3e158dd9-aa5d-47bb-bc13-4b3e6d328fe1</th>\n      <td>floor</td>\n      <td>Floor-derived Capital Expenses for 3e158d...</td>\n      <td>Space Operating Expenses for 3e158dd9-aa5...</td>\n      <td>Potential Gross Income for 3e158dd9-aa5d-...</td>\n      <td>buildingBresidentialFloor2</td>\n      <td>f7b7aa999789c0b3301bd464317fe5fc</td>\n      <td>968.379662</td>\n      <td>3e158dd9-aa5d-47bb-bc13-4b3e6d328fe1</td>\n      <td>egi for 3e158dd9-aa5d-47bb-bc13-4b3e6d328...</td>\n      <td>Effective Gross Income for 3e158dd9-aa5d-...</td>\n      <td>...</td>\n      <td>2361.056035</td>\n      <td>8.4</td>\n      <td>968.379662</td>\n      <td>2.0</td>\n      <td>312.380536</td>\n      <td>3.1</td>\n      <td>1.308891e+07</td>\n      <td>0.0</td>\n      <td>0.162150</td>\n      <td>2.162150</td>\n    </tr>\n    <tr>\n      <th>b8609a1e-b9f8-44a0-ab98-468ff247d753</th>\n      <td>floor</td>\n      <td>Floor-derived Capital Expenses for b8609a...</td>\n      <td>Space Operating Expenses for b8609a1e-b9f...</td>\n      <td>Potential Gross Income for b8609a1e-b9f8-...</td>\n      <td>buildingBresidentialFloor3</td>\n      <td>1acacb9d2b5292447f7a952a82a63741</td>\n      <td>947.919662</td>\n      <td>b8609a1e-b9f8-44a0-ab98-468ff247d753</td>\n      <td>egi for b8609a1e-b9f8-44a0-ab98-468ff247d...</td>\n      <td>Effective Gross Income for b8609a1e-b9f8-...</td>\n      <td>...</td>\n      <td>2015.956035</td>\n      <td>11.5</td>\n      <td>947.919662</td>\n      <td>3.0</td>\n      <td>305.780536</td>\n      <td>3.1</td>\n      <td>1.109825e+07</td>\n      <td>0.0</td>\n      <td>0.149750</td>\n      <td>2.149750</td>\n    </tr>\n    <tr>\n      <th>f68d2f9b-13c5-42e2-9bca-1826f7eff481</th>\n      <td>floor</td>\n      <td>Floor-derived Capital Expenses for f68d2f...</td>\n      <td>Space Operating Expenses for f68d2f9b-13c...</td>\n      <td>Potential Gross Income for f68d2f9b-13c5-...</td>\n      <td>buildingBresidentialFloor4</td>\n      <td>382ed00fd0be5f4d9e93b8f8ba060812</td>\n      <td>947.919662</td>\n      <td>f68d2f9b-13c5-42e2-9bca-1826f7eff481</td>\n      <td>egi for f68d2f9b-13c5-42e2-9bca-1826f7eff...</td>\n      <td>Effective Gross Income for f68d2f9b-13c5-...</td>\n      <td>...</td>\n      <td>2015.956035</td>\n      <td>14.6</td>\n      <td>947.919662</td>\n      <td>4.0</td>\n      <td>305.780536</td>\n      <td>3.1</td>\n      <td>1.109825e+07</td>\n      <td>0.0</td>\n      <td>0.149750</td>\n      <td>2.149750</td>\n    </tr>\n    <tr>\n      <th>ec086fbc-7b21-4958-b456-9bce6a883c98</th>\n      <td>floor</td>\n      <td>Floor-derived Capital Expenses for ec086f...</td>\n      <td>Space Operating Expenses for ec086fbc-7b2...</td>\n      <td>Potential Gross Income for ec086fbc-7b21-...</td>\n      <td>buildingBresidentialFloor5</td>\n      <td>04fd06a7193debbfa2d3ae2bf6ece9f3</td>\n      <td>425.365235</td>\n      <td>ec086fbc-7b21-4958-b456-9bce6a883c98</td>\n      <td>egi for ec086fbc-7b21-4958-b456-9bce6a883...</td>\n      <td>Effective Gross Income for ec086fbc-7b21-...</td>\n      <td>...</td>\n      <td>875.014900</td>\n      <td>17.7</td>\n      <td>425.365235</td>\n      <td>5.0</td>\n      <td>137.214592</td>\n      <td>3.1</td>\n      <td>4.808219e+06</td>\n      <td>0.0</td>\n      <td>0.110571</td>\n      <td>2.110571</td>\n    </tr>\n    <tr>\n      <th>9ecaf92a-a90e-4572-a426-3ed392e0c28a</th>\n      <td>floor</td>\n      <td>Floor-derived Capital Expenses for 9ecaf9...</td>\n      <td>Space Operating Expenses for 9ecaf92a-a90...</td>\n      <td>Potential Gross Income for 9ecaf92a-a90e-...</td>\n      <td>buildingBresidentialFloor6</td>\n      <td>fd70d92018ff3a26689b80baac900533</td>\n      <td>425.365235</td>\n      <td>9ecaf92a-a90e-4572-a426-3ed392e0c28a</td>\n      <td>egi for 9ecaf92a-a90e-4572-a426-3ed392e0c...</td>\n      <td>Effective Gross Income for 9ecaf92a-a90e-...</td>\n      <td>...</td>\n      <td>875.014900</td>\n      <td>20.8</td>\n      <td>425.365235</td>\n      <td>6.0</td>\n      <td>137.214592</td>\n      <td>3.1</td>\n      <td>4.808219e+06</td>\n      <td>0.0</td>\n      <td>0.110571</td>\n      <td>2.110571</td>\n    </tr>\n    <tr>\n      <th>9a884f88-0627-4eb7-b1ec-80ea39b0a25b</th>\n      <td>floor</td>\n      <td>Floor-derived Capital Expenses for 9a884f...</td>\n      <td>Space Operating Expenses for 9a884f88-062...</td>\n      <td>Potential Gross Income for 9a884f88-0627-...</td>\n      <td>buildingBresidentialFloor0</td>\n      <td>f4dccd718be782c3da0bd00b1120f630</td>\n      <td>322.508294</td>\n      <td>9a884f88-0627-4eb7-b1ec-80ea39b0a25b</td>\n      <td>egi for 9a884f88-0627-4eb7-b1ec-80ea39b0a...</td>\n      <td>Effective Gross Income for 9a884f88-0627-...</td>\n      <td>...</td>\n      <td>172.741054</td>\n      <td>0.3</td>\n      <td>322.508294</td>\n      <td>0.0</td>\n      <td>64.501659</td>\n      <td>5.0</td>\n      <td>7.964591e+05</td>\n      <td>0.0</td>\n      <td>0.085582</td>\n      <td>2.085582</td>\n    </tr>\n    <tr>\n      <th>d7dd5233-b1c3-451f-ae90-5a80fed205bd</th>\n      <td>floor</td>\n      <td>Floor-derived Capital Expenses for d7dd52...</td>\n      <td>Space Operating Expenses for d7dd5233-b1c...</td>\n      <td>Potential Gross Income for d7dd5233-b1c3-...</td>\n      <td>buildingBparkingFloor0</td>\n      <td>7a880b72c1af6c1da4fda7b40ee2b9c5</td>\n      <td>845.782703</td>\n      <td>d7dd5233-b1c3-451f-ae90-5a80fed205bd</td>\n      <td>egi for d7dd5233-b1c3-451f-ae90-5a80fed20...</td>\n      <td>Effective Gross Income for d7dd5233-b1c3-...</td>\n      <td>...</td>\n      <td>1178.164752</td>\n      <td>0.3</td>\n      <td>845.782703</td>\n      <td>0.0</td>\n      <td>169.156541</td>\n      <td>5.0</td>\n      <td>-1.402542e+06</td>\n      <td>0.0</td>\n      <td>0.071885</td>\n      <td>2.071885</td>\n    </tr>\n    <tr>\n      <th>4acebff3-f17b-44fb-ba29-6bc02053b329</th>\n      <td>floor</td>\n      <td>Floor-derived Capital Expenses for 4acebf...</td>\n      <td>Space Operating Expenses for 4acebff3-f17...</td>\n      <td>Potential Gross Income for 4acebff3-f17b-...</td>\n      <td>buildingBretailFloor0</td>\n      <td>d3fe6ec14b5ef8f0dd76c4df739aee4c</td>\n      <td>846.263553</td>\n      <td>4acebff3-f17b-44fb-ba29-6bc02053b329</td>\n      <td>egi for 4acebff3-f17b-44fb-ba29-6bc02053b...</td>\n      <td>Effective Gross Income for 4acebff3-f17b-...</td>\n      <td>...</td>\n      <td>815.983454</td>\n      <td>0.3</td>\n      <td>846.263553</td>\n      <td>0.0</td>\n      <td>169.252711</td>\n      <td>5.0</td>\n      <td>1.577090e+06</td>\n      <td>0.0</td>\n      <td>0.090444</td>\n      <td>2.090444</td>\n    </tr>\n    <tr>\n      <th>d188b4bb-27a3-4f63-9469-e9705c60a7a5</th>\n      <td>space</td>\n      <td>Floor-derived Capital Expenses for cf2872...</td>\n      <td>Space Operating Expenses for cf287254-7d6...</td>\n      <td>Potential Gross Income for cf287254-7d66-...</td>\n      <td>plinthparking</td>\n      <td>63711b98d7f502fbda8c1ac2ca2b2b54</td>\n      <td>2101.569360</td>\n      <td>d188b4bb-27a3-4f63-9469-e9705c60a7a5</td>\n      <td>egi for d188b4bb-27a3-4f63-9469-e9705c60a...</td>\n      <td>Effective Gross Income for cf287254-7d66-...</td>\n      <td>...</td>\n      <td>NaN</td>\n      <td>NaN</td>\n      <td>NaN</td>\n      <td>NaN</td>\n      <td>NaN</td>\n      <td>NaN</td>\n      <td>-1.294317e+07</td>\n      <td>1.0</td>\n      <td>0.000000</td>\n      <td>3.000000</td>\n    </tr>\n    <tr>\n      <th>8d9f92cf-5613-4de4-b99b-7681aa76b4cd</th>\n      <td>utilities</td>\n      <td>None</td>\n      <td>None</td>\n      <td>None</td>\n      <td>plinthplant</td>\n      <td>c859dd76f9c3d42eff5b479154891839</td>\n      <td>0.000000</td>\n      <td>8d9f92cf-5613-4de4-b99b-7681aa76b4cd</td>\n      <td>None</td>\n      <td>None</td>\n      <td>...</td>\n      <td>NaN</td>\n      <td>NaN</td>\n      <td>NaN</td>\n      <td>NaN</td>\n      <td>NaN</td>\n      <td>NaN</td>\n      <td>NaN</td>\n      <td>1.0</td>\n      <td>NaN</td>\n      <td>NaN</td>\n    </tr>\n    <tr>\n      <th>cf287254-7d66-4a4b-8a56-f247f51b41db</th>\n      <td>floor</td>\n      <td>Floor-derived Capital Expenses for cf2872...</td>\n      <td>Space Operating Expenses for cf287254-7d6...</td>\n      <td>Potential Gross Income for cf287254-7d66-...</td>\n      <td>plinthparkingFloor-2</td>\n      <td>44ed4efe8e5d6f821a45ecb5bd940e0f</td>\n      <td>1050.784680</td>\n      <td>cf287254-7d66-4a4b-8a56-f247f51b41db</td>\n      <td>egi for cf287254-7d66-4a4b-8a56-f247f51b4...</td>\n      <td>Effective Gross Income for cf287254-7d66-...</td>\n      <td>...</td>\n      <td>6386.872106</td>\n      <td>-5.9</td>\n      <td>1050.784680</td>\n      <td>-2.0</td>\n      <td>338.962800</td>\n      <td>3.1</td>\n      <td>-6.471587e+06</td>\n      <td>1.0</td>\n      <td>0.040310</td>\n      <td>3.040310</td>\n    </tr>\n    <tr>\n      <th>926a3e9d-0601-4f96-bd71-317d928194f2</th>\n      <td>floor</td>\n      <td>Floor-derived Capital Expenses for 926a3e...</td>\n      <td>Space Operating Expenses for 926a3e9d-060...</td>\n      <td>Potential Gross Income for 926a3e9d-0601-...</td>\n      <td>plinthparkingFloor-1</td>\n      <td>72621ba1bfd974066a08ff128d4b8851</td>\n      <td>1050.784680</td>\n      <td>926a3e9d-0601-4f96-bd71-317d928194f2</td>\n      <td>egi for 926a3e9d-0601-4f96-bd71-317d92819...</td>\n      <td>Effective Gross Income for 926a3e9d-0601-...</td>\n      <td>...</td>\n      <td>6386.872106</td>\n      <td>-2.8</td>\n      <td>1050.784680</td>\n      <td>-1.0</td>\n      <td>338.962800</td>\n      <td>3.1</td>\n      <td>-6.471587e+06</td>\n      <td>1.0</td>\n      <td>0.040310</td>\n      <td>3.040310</td>\n    </tr>\n    <tr>\n      <th>987c5866-03b0-4948-962e-4870684f481b</th>\n      <td>space</td>\n      <td>Floor-derived Capital Expenses for 012820...</td>\n      <td>Space Operating Expenses for 01282060-ad9...</td>\n      <td>Potential Gross Income for 01282060-ad91-...</td>\n      <td>buildingAparking</td>\n      <td>a65c34c51eaeba2fd7da4abe16de9cbc</td>\n      <td>685.218770</td>\n      <td>987c5866-03b0-4948-962e-4870684f481b</td>\n      <td>egi for 987c5866-03b0-4948-962e-4870684f4...</td>\n      <td>Effective Gross Income for 01282060-ad91-...</td>\n      <td>...</td>\n      <td>NaN</td>\n      <td>NaN</td>\n      <td>NaN</td>\n      <td>NaN</td>\n      <td>NaN</td>\n      <td>NaN</td>\n      <td>-1.141817e+06</td>\n      <td>2.0</td>\n      <td>0.073509</td>\n      <td>4.073509</td>\n    </tr>\n    <tr>\n      <th>7dc6bf46-805f-4990-bcd2-d0fe1de4dd47</th>\n      <td>space</td>\n      <td>Floor-derived Capital Expenses for f9e9ae...</td>\n      <td>Space Operating Expenses for f9e9ae1c-00f...</td>\n      <td>Potential Gross Income for f9e9ae1c-00f3-...</td>\n      <td>buildingAretail</td>\n      <td>9ed420c6c2ac60436e62ce38f0b4c1c2</td>\n      <td>644.181624</td>\n      <td>7dc6bf46-805f-4990-bcd2-d0fe1de4dd47</td>\n      <td>egi for 7dc6bf46-805f-4990-bcd2-d0fe1de4d...</td>\n      <td>Effective Gross Income for f9e9ae1c-00f3-...</td>\n      <td>...</td>\n      <td>NaN</td>\n      <td>NaN</td>\n      <td>NaN</td>\n      <td>NaN</td>\n      <td>NaN</td>\n      <td>NaN</td>\n      <td>9.180778e+05</td>\n      <td>2.0</td>\n      <td>0.086339</td>\n      <td>4.086339</td>\n    </tr>\n    <tr>\n      <th>549a988b-c3bc-42d4-a6a3-a8dc694fa770</th>\n      <td>space</td>\n      <td>Floor-derived Capital Expenses for e7b3ae...</td>\n      <td>Space Operating Expenses for e7b3aec0-500...</td>\n      <td>Potential Gross Income for e7b3aec0-5003-...</td>\n      <td>buildingAresidential</td>\n      <td>0272b1a43ef3e6bddb3108764284fbe3</td>\n      <td>1407.620851</td>\n      <td>549a988b-c3bc-42d4-a6a3-a8dc694fa770</td>\n      <td>egi for 549a988b-c3bc-42d4-a6a3-a8dc694fa...</td>\n      <td>Effective Gross Income for e7b3aec0-5003-...</td>\n      <td>...</td>\n      <td>NaN</td>\n      <td>NaN</td>\n      <td>NaN</td>\n      <td>NaN</td>\n      <td>NaN</td>\n      <td>NaN</td>\n      <td>1.243072e+07</td>\n      <td>2.0</td>\n      <td>0.158050</td>\n      <td>4.158050</td>\n    </tr>\n    <tr>\n      <th>3cf2bf71-61fa-4a61-b163-6265c299376d</th>\n      <td>space</td>\n      <td>Floor-derived Capital Expenses for 32080c...</td>\n      <td>Space Operating Expenses for 32080c6a-1f3...</td>\n      <td>Potential Gross Income for 32080c6a-1f31-...</td>\n      <td>buildingAretail</td>\n      <td>7fc4f0786342912001716c15cd90e1bd</td>\n      <td>1175.182888</td>\n      <td>3cf2bf71-61fa-4a61-b163-6265c299376d</td>\n      <td>egi for 3cf2bf71-61fa-4a61-b163-6265c2993...</td>\n      <td>Effective Gross Income for 32080c6a-1f31-...</td>\n      <td>...</td>\n      <td>NaN</td>\n      <td>NaN</td>\n      <td>NaN</td>\n      <td>NaN</td>\n      <td>NaN</td>\n      <td>NaN</td>\n      <td>2.159347e+06</td>\n      <td>2.0</td>\n      <td>0.094071</td>\n      <td>4.094071</td>\n    </tr>\n    <tr>\n      <th>bfc1c272-665f-432d-a7b3-a4c955556e7f</th>\n      <td>space</td>\n      <td>Floor-derived Capital Expenses for a1fc1a...</td>\n      <td>Space Operating Expenses for a1fc1a28-113...</td>\n      <td>Potential Gross Income for a1fc1a28-1133-...</td>\n      <td>buildingAoffice</td>\n      <td>1cb0005b9f2555f5958f2236c341f928</td>\n      <td>4770.547972</td>\n      <td>bfc1c272-665f-432d-a7b3-a4c955556e7f</td>\n      <td>egi for bfc1c272-665f-432d-a7b3-a4c955556...</td>\n      <td>Effective Gross Income for a1fc1a28-1133-...</td>\n      <td>...</td>\n      <td>NaN</td>\n      <td>NaN</td>\n      <td>NaN</td>\n      <td>NaN</td>\n      <td>NaN</td>\n      <td>NaN</td>\n      <td>8.333605e+07</td>\n      <td>2.0</td>\n      <td>0.599707</td>\n      <td>4.599707</td>\n    </tr>\n    <tr>\n      <th>55963d84-702d-423d-be05-c8bb6e88f517</th>\n      <td>utilities</td>\n      <td>None</td>\n      <td>None</td>\n      <td>None</td>\n      <td>buildingAcores</td>\n      <td>822467f16eaeb1923e88da49e6dfdaa9</td>\n      <td>0.000000</td>\n      <td>55963d84-702d-423d-be05-c8bb6e88f517</td>\n      <td>None</td>\n      <td>None</td>\n      <td>...</td>\n      <td>NaN</td>\n      <td>NaN</td>\n      <td>NaN</td>\n      <td>NaN</td>\n      <td>NaN</td>\n      <td>NaN</td>\n      <td>NaN</td>\n      <td>2.0</td>\n      <td>NaN</td>\n      <td>NaN</td>\n    </tr>\n    <tr>\n      <th>01282060-ad91-44be-b0d3-ff43e340e8bd</th>\n      <td>floor</td>\n      <td>Floor-derived Capital Expenses for 012820...</td>\n      <td>Space Operating Expenses for 01282060-ad9...</td>\n      <td>Potential Gross Income for 01282060-ad91-...</td>\n      <td>buildingAparkingFloor0</td>\n      <td>e08141a153feb38bb93204e379f05504</td>\n      <td>685.218770</td>\n      <td>01282060-ad91-44be-b0d3-ff43e340e8bd</td>\n      <td>egi for 01282060-ad91-44be-b0d3-ff43e340e...</td>\n      <td>Effective Gross Income for 01282060-ad91-...</td>\n      <td>...</td>\n      <td>960.262087</td>\n      <td>0.3</td>\n      <td>685.218770</td>\n      <td>0.0</td>\n      <td>137.043754</td>\n      <td>5.0</td>\n      <td>-1.141817e+06</td>\n      <td>2.0</td>\n      <td>0.073509</td>\n      <td>4.073509</td>\n    </tr>\n    <tr>\n      <th>f9e9ae1c-00f3-4966-9682-281ef2a86899</th>\n      <td>floor</td>\n      <td>Floor-derived Capital Expenses for f9e9ae...</td>\n      <td>Space Operating Expenses for f9e9ae1c-00f...</td>\n      <td>Potential Gross Income for f9e9ae1c-00f3-...</td>\n      <td>buildingAretailFloor0</td>\n      <td>e8ff34a0b8d53f8de5380a2b07ab7604</td>\n      <td>644.181624</td>\n      <td>f9e9ae1c-00f3-4966-9682-281ef2a86899</td>\n      <td>egi for f9e9ae1c-00f3-4966-9682-281ef2a86...</td>\n      <td>Effective Gross Income for f9e9ae1c-00f3-...</td>\n      <td>...</td>\n      <td>534.530238</td>\n      <td>0.3</td>\n      <td>644.181624</td>\n      <td>0.0</td>\n      <td>128.836325</td>\n      <td>5.0</td>\n      <td>9.180778e+05</td>\n      <td>2.0</td>\n      <td>0.086339</td>\n      <td>4.086339</td>\n    </tr>\n    <tr>\n      <th>e7b3aec0-5003-448b-a0e3-4c2dbb605f85</th>\n      <td>floor</td>\n      <td>Floor-derived Capital Expenses for e7b3ae...</td>\n      <td>Space Operating Expenses for e7b3aec0-500...</td>\n      <td>Potential Gross Income for e7b3aec0-5003-...</td>\n      <td>buildingAresidentialFloor0</td>\n      <td>ec6155f290fda09e629fdfff79849d47</td>\n      <td>156.500000</td>\n      <td>e7b3aec0-5003-448b-a0e3-4c2dbb605f85</td>\n      <td>egi for e7b3aec0-5003-448b-a0e3-4c2dbb605...</td>\n      <td>Effective Gross Income for e7b3aec0-5003-...</td>\n      <td>...</td>\n      <td>57.900000</td>\n      <td>0.3</td>\n      <td>156.500000</td>\n      <td>0.0</td>\n      <td>31.300000</td>\n      <td>5.0</td>\n      <td>2.359650e+05</td>\n      <td>2.0</td>\n      <td>0.082091</td>\n      <td>4.082091</td>\n    </tr>\n    <tr>\n      <th>9c13f0be-9991-4d9f-b41b-a0e962bdeb89</th>\n      <td>floor</td>\n      <td>Floor-derived Capital Expenses for 9c13f0...</td>\n      <td>Space Operating Expenses for 9c13f0be-999...</td>\n      <td>Potential Gross Income for 9c13f0be-9991-...</td>\n      <td>buildingAresidentialFloor0</td>\n      <td>596b0a6f7a37ab20231616260fb9aa52</td>\n      <td>133.000000</td>\n      <td>9c13f0be-9991-4d9f-b41b-a0e962bdeb89</td>\n      <td>egi for 9c13f0be-9991-4d9f-b41b-a0e962bde...</td>\n      <td>Effective Gross Income for 9c13f0be-9991-...</td>\n      <td>...</td>\n      <td>43.800000</td>\n      <td>0.3</td>\n      <td>133.000000</td>\n      <td>0.0</td>\n      <td>26.600000</td>\n      <td>5.0</td>\n      <td>1.691451e+05</td>\n      <td>2.0</td>\n      <td>0.081674</td>\n      <td>4.081674</td>\n    </tr>\n    <tr>\n      <th>e88ff464-a453-45bb-93d8-5f983d417912</th>\n      <td>floor</td>\n      <td>Floor-derived Capital Expenses for e88ff4...</td>\n      <td>Space Operating Expenses for e88ff464-a45...</td>\n      <td>Potential Gross Income for e88ff464-a453-...</td>\n      <td>buildingAresidentialFloor1</td>\n      <td>3f83f05085de4b86bc5f125e8dd55b17</td>\n      <td>372.706950</td>\n      <td>e88ff464-a453-45bb-93d8-5f983d417912</td>\n      <td>egi for e88ff464-a453-45bb-93d8-5f983d417...</td>\n      <td>Effective Gross Income for e88ff464-a453-...</td>\n      <td>...</td>\n      <td>731.481030</td>\n      <td>5.3</td>\n      <td>372.706950</td>\n      <td>1.0</td>\n      <td>120.228049</td>\n      <td>3.1</td>\n      <td>4.008537e+06</td>\n      <td>2.0</td>\n      <td>0.105589</td>\n      <td>4.105589</td>\n    </tr>\n    <tr>\n      <th>8ce80d06-69f6-404a-b0fd-a728eb0dfed6</th>\n      <td>floor</td>\n      <td>Floor-derived Capital Expenses for 8ce80d...</td>\n      <td>Space Operating Expenses for 8ce80d06-69f...</td>\n      <td>Potential Gross Income for 8ce80d06-69f6-...</td>\n      <td>buildingAresidentialFloor2</td>\n      <td>cf409a7218fd1454b72e78bcfd6da43e</td>\n      <td>372.706950</td>\n      <td>8ce80d06-69f6-404a-b0fd-a728eb0dfed6</td>\n      <td>egi for 8ce80d06-69f6-404a-b0fd-a728eb0df...</td>\n      <td>Effective Gross Income for 8ce80d06-69f6-...</td>\n      <td>...</td>\n      <td>731.481030</td>\n      <td>8.4</td>\n      <td>372.706950</td>\n      <td>2.0</td>\n      <td>120.228049</td>\n      <td>3.1</td>\n      <td>4.008537e+06</td>\n      <td>2.0</td>\n      <td>0.105589</td>\n      <td>4.105589</td>\n    </tr>\n    <tr>\n      <th>bb0a0d86-31c1-4780-b81f-8d0e5a5d83be</th>\n      <td>floor</td>\n      <td>Floor-derived Capital Expenses for bb0a0d...</td>\n      <td>Space Operating Expenses for bb0a0d86-31c...</td>\n      <td>Potential Gross Income for bb0a0d86-31c1-...</td>\n      <td>buildingAresidentialFloor3</td>\n      <td>ac2d95a47f61a943498e56e76f9d1354</td>\n      <td>372.706950</td>\n      <td>bb0a0d86-31c1-4780-b81f-8d0e5a5d83be</td>\n      <td>egi for bb0a0d86-31c1-4780-b81f-8d0e5a5d8...</td>\n      <td>Effective Gross Income for bb0a0d86-31c1-...</td>\n      <td>...</td>\n      <td>731.481030</td>\n      <td>11.5</td>\n      <td>372.706950</td>\n      <td>3.0</td>\n      <td>120.228049</td>\n      <td>3.1</td>\n      <td>4.008537e+06</td>\n      <td>2.0</td>\n      <td>0.105589</td>\n      <td>4.105589</td>\n    </tr>\n    <tr>\n      <th>32080c6a-1f31-446f-a3d9-59759ac00ff4</th>\n      <td>floor</td>\n      <td>Floor-derived Capital Expenses for 32080c...</td>\n      <td>Space Operating Expenses for 32080c6a-1f3...</td>\n      <td>Potential Gross Income for 32080c6a-1f31-...</td>\n      <td>buildingAretailFloor0</td>\n      <td>3c12a2c03aad7269eb7cc22de402a955</td>\n      <td>1175.182888</td>\n      <td>32080c6a-1f31-446f-a3d9-59759ac00ff4</td>\n      <td>egi for 32080c6a-1f31-446f-a3d9-59759ac00...</td>\n      <td>Effective Gross Income for 32080c6a-1f31-...</td>\n      <td>...</td>\n      <td>1123.715326</td>\n      <td>0.3</td>\n      <td>1175.182888</td>\n      <td>0.0</td>\n      <td>235.036578</td>\n      <td>5.0</td>\n      <td>2.159347e+06</td>\n      <td>2.0</td>\n      <td>0.094071</td>\n      <td>4.094071</td>\n    </tr>\n    <tr>\n      <th>a1fc1a28-1133-47f2-a8d9-58da817946c2</th>\n      <td>floor</td>\n      <td>Floor-derived Capital Expenses for a1fc1a...</td>\n      <td>Space Operating Expenses for a1fc1a28-113...</td>\n      <td>Potential Gross Income for a1fc1a28-1133-...</td>\n      <td>buildingAofficeFloor1</td>\n      <td>83b419e58555c747c20716875ba4597f</td>\n      <td>515.604747</td>\n      <td>a1fc1a28-1133-47f2-a8d9-58da817946c2</td>\n      <td>egi for a1fc1a28-1133-47f2-a8d9-58da81794...</td>\n      <td>Effective Gross Income for a1fc1a28-1133-...</td>\n      <td>...</td>\n      <td>1650.842103</td>\n      <td>5.3</td>\n      <td>515.604747</td>\n      <td>1.0</td>\n      <td>166.324112</td>\n      <td>3.1</td>\n      <td>9.377568e+06</td>\n      <td>2.0</td>\n      <td>0.139032</td>\n      <td>4.139032</td>\n    </tr>\n    <tr>\n      <th>0296748a-317a-47eb-bf94-e5dbbd78afc1</th>\n      <td>floor</td>\n      <td>Floor-derived Capital Expenses for 029674...</td>\n      <td>Space Operating Expenses for 0296748a-317...</td>\n      <td>Potential Gross Income for 0296748a-317a-...</td>\n      <td>buildingAofficeFloor2</td>\n      <td>37ec2e919b9859ecd29c4458ff5ad96b</td>\n      <td>472.771469</td>\n      <td>0296748a-317a-47eb-bf94-e5dbbd78afc1</td>\n      <td>egi for 0296748a-317a-47eb-bf94-e5dbbd78a...</td>\n      <td>Effective Gross Income for 0296748a-317a-...</td>\n      <td>...</td>\n      <td>1448.922008</td>\n      <td>8.4</td>\n      <td>472.771469</td>\n      <td>2.0</td>\n      <td>152.506926</td>\n      <td>3.1</td>\n      <td>8.217609e+06</td>\n      <td>2.0</td>\n      <td>0.131807</td>\n      <td>4.131807</td>\n    </tr>\n    <tr>\n      <th>74ed0525-d8f9-4f36-b20f-1b8a2baf60f2</th>\n      <td>floor</td>\n      <td>Floor-derived Capital Expenses for 74ed05...</td>\n      <td>Space Operating Expenses for 74ed0525-d8f...</td>\n      <td>Potential Gross Income for 74ed0525-d8f9-...</td>\n      <td>buildingAofficeFloor3</td>\n      <td>356280b6c8aad690c7ff0b4ccfacba5d</td>\n      <td>472.771469</td>\n      <td>74ed0525-d8f9-4f36-b20f-1b8a2baf60f2</td>\n      <td>egi for 74ed0525-d8f9-4f36-b20f-1b8a2baf6...</td>\n      <td>Effective Gross Income for 74ed0525-d8f9-...</td>\n      <td>...</td>\n      <td>1448.922008</td>\n      <td>11.5</td>\n      <td>472.771469</td>\n      <td>3.0</td>\n      <td>152.506926</td>\n      <td>3.1</td>\n      <td>8.217609e+06</td>\n      <td>2.0</td>\n      <td>0.131807</td>\n      <td>4.131807</td>\n    </tr>\n    <tr>\n      <th>ae0fb830-76df-4d91-82ed-4ed755fdec4b</th>\n      <td>floor</td>\n      <td>Floor-derived Capital Expenses for ae0fb8...</td>\n      <td>Space Operating Expenses for ae0fb830-76d...</td>\n      <td>Potential Gross Income for ae0fb830-76df-...</td>\n      <td>buildingAofficeFloor4</td>\n      <td>fc729283157606a767114a85dc9b8a79</td>\n      <td>472.771469</td>\n      <td>ae0fb830-76df-4d91-82ed-4ed755fdec4b</td>\n      <td>egi for ae0fb830-76df-4d91-82ed-4ed755fde...</td>\n      <td>Effective Gross Income for ae0fb830-76df-...</td>\n      <td>...</td>\n      <td>1448.922008</td>\n      <td>14.6</td>\n      <td>472.771469</td>\n      <td>4.0</td>\n      <td>152.506926</td>\n      <td>3.1</td>\n      <td>8.217609e+06</td>\n      <td>2.0</td>\n      <td>0.131807</td>\n      <td>4.131807</td>\n    </tr>\n    <tr>\n      <th>c1b696b1-cae0-49ed-a8ba-0e795438d3d2</th>\n      <td>floor</td>\n      <td>Floor-derived Capital Expenses for c1b696...</td>\n      <td>Space Operating Expenses for c1b696b1-cae...</td>\n      <td>Potential Gross Income for c1b696b1-cae0-...</td>\n      <td>buildingAofficeFloor5</td>\n      <td>d1fc053b819309a8974d34636600ab9a</td>\n      <td>472.771469</td>\n      <td>c1b696b1-cae0-49ed-a8ba-0e795438d3d2</td>\n      <td>egi for c1b696b1-cae0-49ed-a8ba-0e795438d...</td>\n      <td>Effective Gross Income for c1b696b1-cae0-...</td>\n      <td>...</td>\n      <td>1448.922008</td>\n      <td>17.7</td>\n      <td>472.771469</td>\n      <td>5.0</td>\n      <td>152.506926</td>\n      <td>3.1</td>\n      <td>8.217609e+06</td>\n      <td>2.0</td>\n      <td>0.131807</td>\n      <td>4.131807</td>\n    </tr>\n    <tr>\n      <th>add95b48-71c3-40e7-9f35-7db604f3f9f0</th>\n      <td>floor</td>\n      <td>Floor-derived Capital Expenses for add95b...</td>\n      <td>Space Operating Expenses for add95b48-71c...</td>\n      <td>Potential Gross Income for add95b48-71c3-...</td>\n      <td>buildingAofficeFloor6</td>\n      <td>1889d5f805e643a2c94dcd20978d495e</td>\n      <td>472.771469</td>\n      <td>add95b48-71c3-40e7-9f35-7db604f3f9f0</td>\n      <td>egi for add95b48-71c3-40e7-9f35-7db604f3f...</td>\n      <td>Effective Gross Income for add95b48-71c3-...</td>\n      <td>...</td>\n      <td>1448.922008</td>\n      <td>20.8</td>\n      <td>472.771469</td>\n      <td>6.0</td>\n      <td>152.506926</td>\n      <td>3.1</td>\n      <td>8.217609e+06</td>\n      <td>2.0</td>\n      <td>0.131807</td>\n      <td>4.131807</td>\n    </tr>\n    <tr>\n      <th>d8443e6d-9080-4154-89e3-29f0e98ed90a</th>\n      <td>floor</td>\n      <td>Floor-derived Capital Expenses for d8443e...</td>\n      <td>Space Operating Expenses for d8443e6d-908...</td>\n      <td>Potential Gross Income for d8443e6d-9080-...</td>\n      <td>buildingAofficeFloor7</td>\n      <td>46ff37f1a4a3e7952ec2eb8caddfeac0</td>\n      <td>472.771469</td>\n      <td>d8443e6d-9080-4154-89e3-29f0e98ed90a</td>\n      <td>egi for d8443e6d-9080-4154-89e3-29f0e98ed...</td>\n      <td>Effective Gross Income for d8443e6d-9080-...</td>\n      <td>...</td>\n      <td>1448.922008</td>\n      <td>23.9</td>\n      <td>472.771469</td>\n      <td>7.0</td>\n      <td>152.506926</td>\n      <td>3.1</td>\n      <td>8.217609e+06</td>\n      <td>2.0</td>\n      <td>0.131807</td>\n      <td>4.131807</td>\n    </tr>\n    <tr>\n      <th>f8945b4f-6f59-4c5a-a83f-462a97f2dcc4</th>\n      <td>floor</td>\n      <td>Floor-derived Capital Expenses for f8945b...</td>\n      <td>Space Operating Expenses for f8945b4f-6f5...</td>\n      <td>Potential Gross Income for f8945b4f-6f59-...</td>\n      <td>buildingAofficeFloor8</td>\n      <td>5860edecb64f54d983b82c93b85e62a5</td>\n      <td>472.771469</td>\n      <td>f8945b4f-6f59-4c5a-a83f-462a97f2dcc4</td>\n      <td>egi for f8945b4f-6f59-4c5a-a83f-462a97f2d...</td>\n      <td>Effective Gross Income for f8945b4f-6f59-...</td>\n      <td>...</td>\n      <td>1448.922008</td>\n      <td>27.0</td>\n      <td>472.771469</td>\n      <td>8.0</td>\n      <td>152.506926</td>\n      <td>3.1</td>\n      <td>8.217609e+06</td>\n      <td>2.0</td>\n      <td>0.131807</td>\n      <td>4.131807</td>\n    </tr>\n    <tr>\n      <th>b548b184-1643-4c23-9b14-9025aeda59c3</th>\n      <td>floor</td>\n      <td>Floor-derived Capital Expenses for b548b1...</td>\n      <td>Space Operating Expenses for b548b184-164...</td>\n      <td>Potential Gross Income for b548b184-1643-...</td>\n      <td>buildingAofficeFloor9</td>\n      <td>af18721f0a289260853ba91cd9396a09</td>\n      <td>472.771469</td>\n      <td>b548b184-1643-4c23-9b14-9025aeda59c3</td>\n      <td>egi for b548b184-1643-4c23-9b14-9025aeda5...</td>\n      <td>Effective Gross Income for b548b184-1643-...</td>\n      <td>...</td>\n      <td>1448.922008</td>\n      <td>30.1</td>\n      <td>472.771469</td>\n      <td>9.0</td>\n      <td>152.506926</td>\n      <td>3.1</td>\n      <td>8.217609e+06</td>\n      <td>2.0</td>\n      <td>0.131807</td>\n      <td>4.131807</td>\n    </tr>\n    <tr>\n      <th>e8048367-edd2-4a61-ae0f-fd878688c910</th>\n      <td>floor</td>\n      <td>Floor-derived Capital Expenses for e80483...</td>\n      <td>Space Operating Expenses for e8048367-edd...</td>\n      <td>Potential Gross Income for e8048367-edd2-...</td>\n      <td>buildingAofficeFloor10</td>\n      <td>39f74cc1fe3db7b29478a336e9364759</td>\n      <td>472.771469</td>\n      <td>e8048367-edd2-4a61-ae0f-fd878688c910</td>\n      <td>egi for e8048367-edd2-4a61-ae0f-fd878688c...</td>\n      <td>Effective Gross Income for e8048367-edd2-...</td>\n      <td>...</td>\n      <td>1448.922008</td>\n      <td>33.2</td>\n      <td>472.771469</td>\n      <td>10.0</td>\n      <td>152.506926</td>\n      <td>3.1</td>\n      <td>8.217609e+06</td>\n      <td>2.0</td>\n      <td>0.131807</td>\n      <td>4.131807</td>\n    </tr>\n  </tbody>\n</table>\n<p>47 rows × 28 columns</p>\n</div>"
     },
     "execution_count": 51,
     "metadata": {},
     "output_type": "execute_result"
    }
   ],
   "source": [
    "property = 'subtotal_nacf'\n",
    "\n",
    "df = spatial_containment.to_DataFrame()\n",
    "\n",
    "df['property_total'] = [item.total() if isinstance(item, rk.flux.Flow) or isinstance(item, rk.flux.Stream)\n",
    "                        else item for item in df[property]]\n",
    "\n",
    "df['trunk_idx'] = df['entityId'].apply(lambda entityId: spatial_containment._get_trunk_index(entityId))\n",
    "df['color_norm'] = (df['property_total'] - df['property_total'].min()) / (df['property_total'].max() - df['property_total'].min())\n",
    "df['color'] = df['color_norm'] + (df['trunk_idx'] + 2)\n",
    "\n",
    "df"
   ],
   "metadata": {
    "collapsed": false,
    "ExecuteTime": {
     "end_time": "2023-06-29T03:38:11.513256Z",
     "start_time": "2023-06-29T03:38:09.824273Z"
    }
   }
  },
  {
   "cell_type": "code",
   "execution_count": 52,
   "outputs": [],
   "source": [
    "from plotly import graph_objects as go\n",
    "trace = go.Sunburst(\n",
    "    ids=df['entityId'],\n",
    "    labels=df['name'],\n",
    "    parents=df['parent'],\n",
    "    values=df['property_total'],\n",
    "    branchvalues='total',\n",
    "    insidetextorientation='radial',\n",
    "    marker=dict(\n",
    "        colors=df['color'],\n",
    "        colorscale='thermal',\n",
    "        cmin=df['color'].min(),\n",
    "        cmax=df['color'].max()),\n",
    "    hovertemplate=\"%{label}<br>\" + property + \": %{value:,.2f}<br>\",\n",
    "    sort=False)"
   ],
   "metadata": {
    "collapsed": false,
    "ExecuteTime": {
     "end_time": "2023-06-29T03:38:11.515638Z",
     "start_time": "2023-06-29T03:38:11.513478Z"
    }
   }
  },
  {
   "cell_type": "code",
   "execution_count": 53,
   "outputs": [
    {
     "data": {
      "text/plain": "Sunburst({\n    'branchvalues': 'total',\n    'hovertemplate': '%{label}<br>subtotal_nacf: %{value:,.2f}<br>',\n    'ids': array(['a39ac4c3-094b-4d92-b71d-46c5a857f407',\n                  '981c0743-6a4c-4abd-8a97-2c937e48b897',\n                  'e3149444-dfbc-41d0-9eb1-f08785a62da1',\n                  '529ce7bc-addf-4bad-8ec5-cbecbd73d4f1',\n                  '29b746f5-42fe-4321-9a4a-8c65c9f0410c',\n                  '3fc29315-81e7-45a9-8241-62938e904d73',\n                  'f508623d-1d81-4082-85ee-5b1e32c7bb10',\n                  '6ac8ab6d-a730-44b8-97aa-a5db09b7fbd0',\n                  '71fd4551-8e65-4e7a-8e2a-9d18e69146b0',\n                  'c11f68da-0544-487b-9cb9-8a3a3a98a9b8',\n                  'cfc3edf5-1e7d-4499-b25f-ee86ed013516',\n                  '3e158dd9-aa5d-47bb-bc13-4b3e6d328fe1',\n                  'b8609a1e-b9f8-44a0-ab98-468ff247d753',\n                  'f68d2f9b-13c5-42e2-9bca-1826f7eff481',\n                  'ec086fbc-7b21-4958-b456-9bce6a883c98',\n                  '9ecaf92a-a90e-4572-a426-3ed392e0c28a',\n                  '9a884f88-0627-4eb7-b1ec-80ea39b0a25b',\n                  'd7dd5233-b1c3-451f-ae90-5a80fed205bd',\n                  '4acebff3-f17b-44fb-ba29-6bc02053b329',\n                  'd188b4bb-27a3-4f63-9469-e9705c60a7a5',\n                  '8d9f92cf-5613-4de4-b99b-7681aa76b4cd',\n                  'cf287254-7d66-4a4b-8a56-f247f51b41db',\n                  '926a3e9d-0601-4f96-bd71-317d928194f2',\n                  '987c5866-03b0-4948-962e-4870684f481b',\n                  '7dc6bf46-805f-4990-bcd2-d0fe1de4dd47',\n                  '549a988b-c3bc-42d4-a6a3-a8dc694fa770',\n                  '3cf2bf71-61fa-4a61-b163-6265c299376d',\n                  'bfc1c272-665f-432d-a7b3-a4c955556e7f',\n                  '55963d84-702d-423d-be05-c8bb6e88f517',\n                  '01282060-ad91-44be-b0d3-ff43e340e8bd',\n                  'f9e9ae1c-00f3-4966-9682-281ef2a86899',\n                  'e7b3aec0-5003-448b-a0e3-4c2dbb605f85',\n                  '9c13f0be-9991-4d9f-b41b-a0e962bdeb89',\n                  'e88ff464-a453-45bb-93d8-5f983d417912',\n                  '8ce80d06-69f6-404a-b0fd-a728eb0dfed6',\n                  'bb0a0d86-31c1-4780-b81f-8d0e5a5d83be',\n                  '32080c6a-1f31-446f-a3d9-59759ac00ff4',\n                  'a1fc1a28-1133-47f2-a8d9-58da817946c2',\n                  '0296748a-317a-47eb-bf94-e5dbbd78afc1',\n                  '74ed0525-d8f9-4f36-b20f-1b8a2baf60f2',\n                  'ae0fb830-76df-4d91-82ed-4ed755fdec4b',\n                  'c1b696b1-cae0-49ed-a8ba-0e795438d3d2',\n                  'add95b48-71c3-40e7-9f35-7db604f3f9f0',\n                  'd8443e6d-9080-4154-89e3-29f0e98ed90a',\n                  'f8945b4f-6f59-4c5a-a83f-462a97f2dcc4',\n                  'b548b184-1643-4c23-9b14-9025aeda59c3',\n                  'e8048367-edd2-4a61-ae0f-fd878688c910'], dtype=object),\n    'insidetextorientation': 'radial',\n    'labels': array(['development', 'buildingB', 'plinth', 'buildingA', 'utilities',\n                     'buildingBresidential', 'buildingBparking', 'buildingBretail',\n                     'buildingBcores', 'buildingBresidentialFloor0',\n                     'buildingBresidentialFloor1', 'buildingBresidentialFloor2',\n                     'buildingBresidentialFloor3', 'buildingBresidentialFloor4',\n                     'buildingBresidentialFloor5', 'buildingBresidentialFloor6',\n                     'buildingBresidentialFloor0', 'buildingBparkingFloor0',\n                     'buildingBretailFloor0', 'plinthparking', 'plinthplant',\n                     'plinthparkingFloor-2', 'plinthparkingFloor-1', 'buildingAparking',\n                     'buildingAretail', 'buildingAresidential', 'buildingAretail',\n                     'buildingAoffice', 'buildingAcores', 'buildingAparkingFloor0',\n                     'buildingAretailFloor0', 'buildingAresidentialFloor0',\n                     'buildingAresidentialFloor0', 'buildingAresidentialFloor1',\n                     'buildingAresidentialFloor2', 'buildingAresidentialFloor3',\n                     'buildingAretailFloor0', 'buildingAofficeFloor1',\n                     'buildingAofficeFloor2', 'buildingAofficeFloor3',\n                     'buildingAofficeFloor4', 'buildingAofficeFloor5',\n                     'buildingAofficeFloor6', 'buildingAofficeFloor7',\n                     'buildingAofficeFloor8', 'buildingAofficeFloor9',\n                     'buildingAofficeFloor10'], dtype=object),\n    'marker': {'cmax': 4.689192910278482,\n               'cmin': 2.0718846961219963,\n               'colors': array([       nan, 2.47204889, 3.        , 4.68919291,        nan, 2.47096166,\n                                2.0718847 , 2.09044433,        nan, 2.10478576, 2.16214957, 2.16214957,\n                                2.14975008, 2.14975008, 2.1105705 , 2.1105705 , 2.08558191, 2.0718847 ,\n                                2.09044433, 3.        ,        nan, 3.04031045, 3.04031045, 4.07350871,\n                                4.08633946, 4.15804981, 4.09407112, 4.59970742,        nan, 4.07350871,\n                                4.08633946, 4.08209069, 4.08167448, 4.10558941, 4.10558941, 4.10558941,\n                                4.09407112, 4.13903222, 4.13180703, 4.13180703, 4.13180703, 4.13180703,\n                                4.13180703, 4.13180703, 4.13180703, 4.13180703, 4.13180703]),\n               'colorscale': [[0.0, 'rgb(3, 35, 51)'], [0.09090909090909091,\n                              'rgb(13, 48, 100)'], [0.18181818181818182, 'rgb(53,\n                              50, 155)'], [0.2727272727272727, 'rgb(93, 62, 153)'],\n                              [0.36363636363636365, 'rgb(126, 77, 143)'],\n                              [0.45454545454545453, 'rgb(158, 89, 135)'],\n                              [0.5454545454545454, 'rgb(193, 100, 121)'],\n                              [0.6363636363636364, 'rgb(225, 113, 97)'],\n                              [0.7272727272727273, 'rgb(246, 139, 69)'],\n                              [0.8181818181818182, 'rgb(251, 173, 60)'],\n                              [0.9090909090909091, 'rgb(246, 211, 70)'], [1.0,\n                              'rgb(231, 250, 90)']]},\n    'parents': array([None, 'a39ac4c3-094b-4d92-b71d-46c5a857f407',\n                      'a39ac4c3-094b-4d92-b71d-46c5a857f407',\n                      'a39ac4c3-094b-4d92-b71d-46c5a857f407',\n                      'a39ac4c3-094b-4d92-b71d-46c5a857f407',\n                      '981c0743-6a4c-4abd-8a97-2c937e48b897',\n                      '981c0743-6a4c-4abd-8a97-2c937e48b897',\n                      '981c0743-6a4c-4abd-8a97-2c937e48b897',\n                      '981c0743-6a4c-4abd-8a97-2c937e48b897',\n                      '3fc29315-81e7-45a9-8241-62938e904d73',\n                      '3fc29315-81e7-45a9-8241-62938e904d73',\n                      '3fc29315-81e7-45a9-8241-62938e904d73',\n                      '3fc29315-81e7-45a9-8241-62938e904d73',\n                      '3fc29315-81e7-45a9-8241-62938e904d73',\n                      '3fc29315-81e7-45a9-8241-62938e904d73',\n                      '3fc29315-81e7-45a9-8241-62938e904d73',\n                      '3fc29315-81e7-45a9-8241-62938e904d73',\n                      'f508623d-1d81-4082-85ee-5b1e32c7bb10',\n                      '6ac8ab6d-a730-44b8-97aa-a5db09b7fbd0',\n                      'e3149444-dfbc-41d0-9eb1-f08785a62da1',\n                      'e3149444-dfbc-41d0-9eb1-f08785a62da1',\n                      'd188b4bb-27a3-4f63-9469-e9705c60a7a5',\n                      'd188b4bb-27a3-4f63-9469-e9705c60a7a5',\n                      '529ce7bc-addf-4bad-8ec5-cbecbd73d4f1',\n                      '529ce7bc-addf-4bad-8ec5-cbecbd73d4f1',\n                      '529ce7bc-addf-4bad-8ec5-cbecbd73d4f1',\n                      '529ce7bc-addf-4bad-8ec5-cbecbd73d4f1',\n                      '529ce7bc-addf-4bad-8ec5-cbecbd73d4f1',\n                      '529ce7bc-addf-4bad-8ec5-cbecbd73d4f1',\n                      '987c5866-03b0-4948-962e-4870684f481b',\n                      '7dc6bf46-805f-4990-bcd2-d0fe1de4dd47',\n                      '549a988b-c3bc-42d4-a6a3-a8dc694fa770',\n                      '549a988b-c3bc-42d4-a6a3-a8dc694fa770',\n                      '549a988b-c3bc-42d4-a6a3-a8dc694fa770',\n                      '549a988b-c3bc-42d4-a6a3-a8dc694fa770',\n                      '549a988b-c3bc-42d4-a6a3-a8dc694fa770',\n                      '3cf2bf71-61fa-4a61-b163-6265c299376d',\n                      'bfc1c272-665f-432d-a7b3-a4c955556e7f',\n                      'bfc1c272-665f-432d-a7b3-a4c955556e7f',\n                      'bfc1c272-665f-432d-a7b3-a4c955556e7f',\n                      'bfc1c272-665f-432d-a7b3-a4c955556e7f',\n                      'bfc1c272-665f-432d-a7b3-a4c955556e7f',\n                      'bfc1c272-665f-432d-a7b3-a4c955556e7f',\n                      'bfc1c272-665f-432d-a7b3-a4c955556e7f',\n                      'bfc1c272-665f-432d-a7b3-a4c955556e7f',\n                      'bfc1c272-665f-432d-a7b3-a4c955556e7f',\n                      'bfc1c272-665f-432d-a7b3-a4c955556e7f'], dtype=object),\n    'sort': False,\n    'values': array([ 1.47600488e+08,  6.28412834e+07, -1.29431747e+07,  9.77023795e+07,\n                                 nan,  6.26667359e+07, -1.40254231e+06,  1.57708975e+06,\n                                 nan,  3.87951452e+06,  1.30889109e+07,  1.30889109e+07,\n                      1.10982516e+07,  1.10982516e+07,  4.80821862e+06,  4.80821862e+06,\n                      7.96459150e+05, -1.40254231e+06,  1.57708975e+06, -1.29431747e+07,\n                                 nan, -6.47158736e+06, -6.47158736e+06, -1.14181660e+06,\n                      9.18077776e+05,  1.24307199e+07,  2.15934711e+06,  8.33360513e+07,\n                                 nan, -1.14181660e+06,  9.18077776e+05,  2.35965036e+05,\n                      1.69145058e+05,  4.00853660e+06,  4.00853660e+06,  4.00853660e+06,\n                      2.15934711e+06,  9.37756782e+06,  8.21760928e+06,  8.21760928e+06,\n                      8.21760928e+06,  8.21760928e+06,  8.21760928e+06,  8.21760928e+06,\n                      8.21760928e+06,  8.21760928e+06,  8.21760928e+06])\n})"
     },
     "execution_count": 53,
     "metadata": {},
     "output_type": "execute_result"
    }
   ],
   "source": [
    "trace"
   ],
   "metadata": {
    "collapsed": false,
    "ExecuteTime": {
     "end_time": "2023-06-29T03:38:11.521443Z",
     "start_time": "2023-06-29T03:38:11.517990Z"
    }
   }
  },
  {
   "cell_type": "code",
   "execution_count": 56,
   "outputs": [
    {
     "data": {
      "application/vnd.plotly.v1+json": {
       "data": [
        {
         "branchvalues": "total",
         "hovertemplate": "%{label}<br>subtotal_nacf: %{value:,.2f}<br>",
         "ids": [
          "a39ac4c3-094b-4d92-b71d-46c5a857f407",
          "981c0743-6a4c-4abd-8a97-2c937e48b897",
          "e3149444-dfbc-41d0-9eb1-f08785a62da1",
          "529ce7bc-addf-4bad-8ec5-cbecbd73d4f1",
          "29b746f5-42fe-4321-9a4a-8c65c9f0410c",
          "3fc29315-81e7-45a9-8241-62938e904d73",
          "f508623d-1d81-4082-85ee-5b1e32c7bb10",
          "6ac8ab6d-a730-44b8-97aa-a5db09b7fbd0",
          "71fd4551-8e65-4e7a-8e2a-9d18e69146b0",
          "c11f68da-0544-487b-9cb9-8a3a3a98a9b8",
          "cfc3edf5-1e7d-4499-b25f-ee86ed013516",
          "3e158dd9-aa5d-47bb-bc13-4b3e6d328fe1",
          "b8609a1e-b9f8-44a0-ab98-468ff247d753",
          "f68d2f9b-13c5-42e2-9bca-1826f7eff481",
          "ec086fbc-7b21-4958-b456-9bce6a883c98",
          "9ecaf92a-a90e-4572-a426-3ed392e0c28a",
          "9a884f88-0627-4eb7-b1ec-80ea39b0a25b",
          "d7dd5233-b1c3-451f-ae90-5a80fed205bd",
          "4acebff3-f17b-44fb-ba29-6bc02053b329",
          "d188b4bb-27a3-4f63-9469-e9705c60a7a5",
          "8d9f92cf-5613-4de4-b99b-7681aa76b4cd",
          "cf287254-7d66-4a4b-8a56-f247f51b41db",
          "926a3e9d-0601-4f96-bd71-317d928194f2",
          "987c5866-03b0-4948-962e-4870684f481b",
          "7dc6bf46-805f-4990-bcd2-d0fe1de4dd47",
          "549a988b-c3bc-42d4-a6a3-a8dc694fa770",
          "3cf2bf71-61fa-4a61-b163-6265c299376d",
          "bfc1c272-665f-432d-a7b3-a4c955556e7f",
          "55963d84-702d-423d-be05-c8bb6e88f517",
          "01282060-ad91-44be-b0d3-ff43e340e8bd",
          "f9e9ae1c-00f3-4966-9682-281ef2a86899",
          "e7b3aec0-5003-448b-a0e3-4c2dbb605f85",
          "9c13f0be-9991-4d9f-b41b-a0e962bdeb89",
          "e88ff464-a453-45bb-93d8-5f983d417912",
          "8ce80d06-69f6-404a-b0fd-a728eb0dfed6",
          "bb0a0d86-31c1-4780-b81f-8d0e5a5d83be",
          "32080c6a-1f31-446f-a3d9-59759ac00ff4",
          "a1fc1a28-1133-47f2-a8d9-58da817946c2",
          "0296748a-317a-47eb-bf94-e5dbbd78afc1",
          "74ed0525-d8f9-4f36-b20f-1b8a2baf60f2",
          "ae0fb830-76df-4d91-82ed-4ed755fdec4b",
          "c1b696b1-cae0-49ed-a8ba-0e795438d3d2",
          "add95b48-71c3-40e7-9f35-7db604f3f9f0",
          "d8443e6d-9080-4154-89e3-29f0e98ed90a",
          "f8945b4f-6f59-4c5a-a83f-462a97f2dcc4",
          "b548b184-1643-4c23-9b14-9025aeda59c3",
          "e8048367-edd2-4a61-ae0f-fd878688c910"
         ],
         "insidetextorientation": "radial",
         "labels": [
          "development",
          "buildingB",
          "plinth",
          "buildingA",
          "utilities",
          "buildingBresidential",
          "buildingBparking",
          "buildingBretail",
          "buildingBcores",
          "buildingBresidentialFloor0",
          "buildingBresidentialFloor1",
          "buildingBresidentialFloor2",
          "buildingBresidentialFloor3",
          "buildingBresidentialFloor4",
          "buildingBresidentialFloor5",
          "buildingBresidentialFloor6",
          "buildingBresidentialFloor0",
          "buildingBparkingFloor0",
          "buildingBretailFloor0",
          "plinthparking",
          "plinthplant",
          "plinthparkingFloor-2",
          "plinthparkingFloor-1",
          "buildingAparking",
          "buildingAretail",
          "buildingAresidential",
          "buildingAretail",
          "buildingAoffice",
          "buildingAcores",
          "buildingAparkingFloor0",
          "buildingAretailFloor0",
          "buildingAresidentialFloor0",
          "buildingAresidentialFloor0",
          "buildingAresidentialFloor1",
          "buildingAresidentialFloor2",
          "buildingAresidentialFloor3",
          "buildingAretailFloor0",
          "buildingAofficeFloor1",
          "buildingAofficeFloor2",
          "buildingAofficeFloor3",
          "buildingAofficeFloor4",
          "buildingAofficeFloor5",
          "buildingAofficeFloor6",
          "buildingAofficeFloor7",
          "buildingAofficeFloor8",
          "buildingAofficeFloor9",
          "buildingAofficeFloor10"
         ],
         "marker": {
          "cmax": 4.689192910278482,
          "cmin": 2.0718846961219963,
          "colors": [
           null,
           2.4720488914464798,
           3.0,
           4.689192910278482,
           null,
           2.47096166421967,
           2.0718846961219963,
           2.0904443328297746,
           null,
           2.1047857570008346,
           2.1621495683503014,
           2.162149568350055,
           2.1497500797929465,
           2.1497500797883355,
           2.110570501708527,
           2.110570501708078,
           2.0855819135579567,
           2.0718846961219963,
           2.0904443328297746,
           3.0,
           null,
           3.04031045043124,
           3.04031045043124,
           4.073508713584555,
           4.086339455921025,
           4.158049805043251,
           4.094071117894809,
           4.599707421284765,
           null,
           4.073508713584555,
           4.086339455921025,
           4.082090688159746,
           4.0816744775322995,
           4.105589414267034,
           4.105589414267043,
           4.105589414267051,
           4.094071117894809,
           4.139032224279546,
           4.131807033863105,
           4.131807033863094,
           4.131807033863083,
           4.131807033863072,
           4.13180703386306,
           4.1318070338630495,
           4.131807033863038,
           4.131807033863026,
           4.131807033863016
          ],
          "colorscale": [
           [
            0.0,
            "rgb(3, 35, 51)"
           ],
           [
            0.09090909090909091,
            "rgb(13, 48, 100)"
           ],
           [
            0.18181818181818182,
            "rgb(53, 50, 155)"
           ],
           [
            0.2727272727272727,
            "rgb(93, 62, 153)"
           ],
           [
            0.36363636363636365,
            "rgb(126, 77, 143)"
           ],
           [
            0.45454545454545453,
            "rgb(158, 89, 135)"
           ],
           [
            0.5454545454545454,
            "rgb(193, 100, 121)"
           ],
           [
            0.6363636363636364,
            "rgb(225, 113, 97)"
           ],
           [
            0.7272727272727273,
            "rgb(246, 139, 69)"
           ],
           [
            0.8181818181818182,
            "rgb(251, 173, 60)"
           ],
           [
            0.9090909090909091,
            "rgb(246, 211, 70)"
           ],
           [
            1.0,
            "rgb(231, 250, 90)"
           ]
          ]
         },
         "parents": [
          null,
          "a39ac4c3-094b-4d92-b71d-46c5a857f407",
          "a39ac4c3-094b-4d92-b71d-46c5a857f407",
          "a39ac4c3-094b-4d92-b71d-46c5a857f407",
          "a39ac4c3-094b-4d92-b71d-46c5a857f407",
          "981c0743-6a4c-4abd-8a97-2c937e48b897",
          "981c0743-6a4c-4abd-8a97-2c937e48b897",
          "981c0743-6a4c-4abd-8a97-2c937e48b897",
          "981c0743-6a4c-4abd-8a97-2c937e48b897",
          "3fc29315-81e7-45a9-8241-62938e904d73",
          "3fc29315-81e7-45a9-8241-62938e904d73",
          "3fc29315-81e7-45a9-8241-62938e904d73",
          "3fc29315-81e7-45a9-8241-62938e904d73",
          "3fc29315-81e7-45a9-8241-62938e904d73",
          "3fc29315-81e7-45a9-8241-62938e904d73",
          "3fc29315-81e7-45a9-8241-62938e904d73",
          "3fc29315-81e7-45a9-8241-62938e904d73",
          "f508623d-1d81-4082-85ee-5b1e32c7bb10",
          "6ac8ab6d-a730-44b8-97aa-a5db09b7fbd0",
          "e3149444-dfbc-41d0-9eb1-f08785a62da1",
          "e3149444-dfbc-41d0-9eb1-f08785a62da1",
          "d188b4bb-27a3-4f63-9469-e9705c60a7a5",
          "d188b4bb-27a3-4f63-9469-e9705c60a7a5",
          "529ce7bc-addf-4bad-8ec5-cbecbd73d4f1",
          "529ce7bc-addf-4bad-8ec5-cbecbd73d4f1",
          "529ce7bc-addf-4bad-8ec5-cbecbd73d4f1",
          "529ce7bc-addf-4bad-8ec5-cbecbd73d4f1",
          "529ce7bc-addf-4bad-8ec5-cbecbd73d4f1",
          "529ce7bc-addf-4bad-8ec5-cbecbd73d4f1",
          "987c5866-03b0-4948-962e-4870684f481b",
          "7dc6bf46-805f-4990-bcd2-d0fe1de4dd47",
          "549a988b-c3bc-42d4-a6a3-a8dc694fa770",
          "549a988b-c3bc-42d4-a6a3-a8dc694fa770",
          "549a988b-c3bc-42d4-a6a3-a8dc694fa770",
          "549a988b-c3bc-42d4-a6a3-a8dc694fa770",
          "549a988b-c3bc-42d4-a6a3-a8dc694fa770",
          "3cf2bf71-61fa-4a61-b163-6265c299376d",
          "bfc1c272-665f-432d-a7b3-a4c955556e7f",
          "bfc1c272-665f-432d-a7b3-a4c955556e7f",
          "bfc1c272-665f-432d-a7b3-a4c955556e7f",
          "bfc1c272-665f-432d-a7b3-a4c955556e7f",
          "bfc1c272-665f-432d-a7b3-a4c955556e7f",
          "bfc1c272-665f-432d-a7b3-a4c955556e7f",
          "bfc1c272-665f-432d-a7b3-a4c955556e7f",
          "bfc1c272-665f-432d-a7b3-a4c955556e7f",
          "bfc1c272-665f-432d-a7b3-a4c955556e7f",
          "bfc1c272-665f-432d-a7b3-a4c955556e7f"
         ],
         "sort": false,
         "values": [
          1.476004881566534E8,
          6.2841283364583306E7,
          -1.2943174729656726E7,
          9.770237952172685E7,
          null,
          6.266673592320153E7,
          -1402542.3087620689,
          1577089.7501438253,
          null,
          3879514.517572092,
          1.3088910908734763E7,
          1.3088910908695217E7,
          1.1098251597820109E7,
          1.1098251597079828E7,
          4808218.621807211,
          4808218.621735108,
          796459.1497572067,
          -1402542.3087620689,
          1577089.7501438253,
          -1.2943174729656726E7,
          null,
          -6471587.36482836,
          -6471587.364828366,
          -1141816.5967316106,
          918077.7755157333,
          1.2430719890453963E7,
          2159347.10898583,
          8.333605134350291E7,
          null,
          -1141816.5967316106,
          918077.7755157333,
          235965.03636677138,
          169145.05770426334,
          4008536.598792996,
          4008536.59879431,
          4008536.598795621,
          2159347.10898583,
          9377567.81541266,
          8217609.280906164,
          8217609.280904351,
          8217609.280902539,
          8217609.280900729,
          8217609.280898916,
          8217609.280897103,
          8217609.280895304,
          8217609.280893482,
          8217609.280891668
         ],
         "type": "sunburst"
        }
       ],
       "layout": {
        "template": {
         "data": {
          "histogram2dcontour": [
           {
            "type": "histogram2dcontour",
            "colorbar": {
             "outlinewidth": 0,
             "ticks": ""
            },
            "colorscale": [
             [
              0.0,
              "#0d0887"
             ],
             [
              0.1111111111111111,
              "#46039f"
             ],
             [
              0.2222222222222222,
              "#7201a8"
             ],
             [
              0.3333333333333333,
              "#9c179e"
             ],
             [
              0.4444444444444444,
              "#bd3786"
             ],
             [
              0.5555555555555556,
              "#d8576b"
             ],
             [
              0.6666666666666666,
              "#ed7953"
             ],
             [
              0.7777777777777778,
              "#fb9f3a"
             ],
             [
              0.8888888888888888,
              "#fdca26"
             ],
             [
              1.0,
              "#f0f921"
             ]
            ]
           }
          ],
          "choropleth": [
           {
            "type": "choropleth",
            "colorbar": {
             "outlinewidth": 0,
             "ticks": ""
            }
           }
          ],
          "histogram2d": [
           {
            "type": "histogram2d",
            "colorbar": {
             "outlinewidth": 0,
             "ticks": ""
            },
            "colorscale": [
             [
              0.0,
              "#0d0887"
             ],
             [
              0.1111111111111111,
              "#46039f"
             ],
             [
              0.2222222222222222,
              "#7201a8"
             ],
             [
              0.3333333333333333,
              "#9c179e"
             ],
             [
              0.4444444444444444,
              "#bd3786"
             ],
             [
              0.5555555555555556,
              "#d8576b"
             ],
             [
              0.6666666666666666,
              "#ed7953"
             ],
             [
              0.7777777777777778,
              "#fb9f3a"
             ],
             [
              0.8888888888888888,
              "#fdca26"
             ],
             [
              1.0,
              "#f0f921"
             ]
            ]
           }
          ],
          "heatmap": [
           {
            "type": "heatmap",
            "colorbar": {
             "outlinewidth": 0,
             "ticks": ""
            },
            "colorscale": [
             [
              0.0,
              "#0d0887"
             ],
             [
              0.1111111111111111,
              "#46039f"
             ],
             [
              0.2222222222222222,
              "#7201a8"
             ],
             [
              0.3333333333333333,
              "#9c179e"
             ],
             [
              0.4444444444444444,
              "#bd3786"
             ],
             [
              0.5555555555555556,
              "#d8576b"
             ],
             [
              0.6666666666666666,
              "#ed7953"
             ],
             [
              0.7777777777777778,
              "#fb9f3a"
             ],
             [
              0.8888888888888888,
              "#fdca26"
             ],
             [
              1.0,
              "#f0f921"
             ]
            ]
           }
          ],
          "heatmapgl": [
           {
            "type": "heatmapgl",
            "colorbar": {
             "outlinewidth": 0,
             "ticks": ""
            },
            "colorscale": [
             [
              0.0,
              "#0d0887"
             ],
             [
              0.1111111111111111,
              "#46039f"
             ],
             [
              0.2222222222222222,
              "#7201a8"
             ],
             [
              0.3333333333333333,
              "#9c179e"
             ],
             [
              0.4444444444444444,
              "#bd3786"
             ],
             [
              0.5555555555555556,
              "#d8576b"
             ],
             [
              0.6666666666666666,
              "#ed7953"
             ],
             [
              0.7777777777777778,
              "#fb9f3a"
             ],
             [
              0.8888888888888888,
              "#fdca26"
             ],
             [
              1.0,
              "#f0f921"
             ]
            ]
           }
          ],
          "contourcarpet": [
           {
            "type": "contourcarpet",
            "colorbar": {
             "outlinewidth": 0,
             "ticks": ""
            }
           }
          ],
          "contour": [
           {
            "type": "contour",
            "colorbar": {
             "outlinewidth": 0,
             "ticks": ""
            },
            "colorscale": [
             [
              0.0,
              "#0d0887"
             ],
             [
              0.1111111111111111,
              "#46039f"
             ],
             [
              0.2222222222222222,
              "#7201a8"
             ],
             [
              0.3333333333333333,
              "#9c179e"
             ],
             [
              0.4444444444444444,
              "#bd3786"
             ],
             [
              0.5555555555555556,
              "#d8576b"
             ],
             [
              0.6666666666666666,
              "#ed7953"
             ],
             [
              0.7777777777777778,
              "#fb9f3a"
             ],
             [
              0.8888888888888888,
              "#fdca26"
             ],
             [
              1.0,
              "#f0f921"
             ]
            ]
           }
          ],
          "surface": [
           {
            "type": "surface",
            "colorbar": {
             "outlinewidth": 0,
             "ticks": ""
            },
            "colorscale": [
             [
              0.0,
              "#0d0887"
             ],
             [
              0.1111111111111111,
              "#46039f"
             ],
             [
              0.2222222222222222,
              "#7201a8"
             ],
             [
              0.3333333333333333,
              "#9c179e"
             ],
             [
              0.4444444444444444,
              "#bd3786"
             ],
             [
              0.5555555555555556,
              "#d8576b"
             ],
             [
              0.6666666666666666,
              "#ed7953"
             ],
             [
              0.7777777777777778,
              "#fb9f3a"
             ],
             [
              0.8888888888888888,
              "#fdca26"
             ],
             [
              1.0,
              "#f0f921"
             ]
            ]
           }
          ],
          "mesh3d": [
           {
            "type": "mesh3d",
            "colorbar": {
             "outlinewidth": 0,
             "ticks": ""
            }
           }
          ],
          "scatter": [
           {
            "marker": {
             "line": {
              "color": "#283442"
             }
            },
            "type": "scatter"
           }
          ],
          "parcoords": [
           {
            "type": "parcoords",
            "line": {
             "colorbar": {
              "outlinewidth": 0,
              "ticks": ""
             }
            }
           }
          ],
          "scatterpolargl": [
           {
            "type": "scatterpolargl",
            "marker": {
             "colorbar": {
              "outlinewidth": 0,
              "ticks": ""
             }
            }
           }
          ],
          "bar": [
           {
            "error_x": {
             "color": "#f2f5fa"
            },
            "error_y": {
             "color": "#f2f5fa"
            },
            "marker": {
             "line": {
              "color": "rgb(17,17,17)",
              "width": 0.5
             },
             "pattern": {
              "fillmode": "overlay",
              "size": 10,
              "solidity": 0.2
             }
            },
            "type": "bar"
           }
          ],
          "scattergeo": [
           {
            "type": "scattergeo",
            "marker": {
             "colorbar": {
              "outlinewidth": 0,
              "ticks": ""
             }
            }
           }
          ],
          "scatterpolar": [
           {
            "type": "scatterpolar",
            "marker": {
             "colorbar": {
              "outlinewidth": 0,
              "ticks": ""
             }
            }
           }
          ],
          "histogram": [
           {
            "marker": {
             "pattern": {
              "fillmode": "overlay",
              "size": 10,
              "solidity": 0.2
             }
            },
            "type": "histogram"
           }
          ],
          "scattergl": [
           {
            "marker": {
             "line": {
              "color": "#283442"
             }
            },
            "type": "scattergl"
           }
          ],
          "scatter3d": [
           {
            "type": "scatter3d",
            "line": {
             "colorbar": {
              "outlinewidth": 0,
              "ticks": ""
             }
            },
            "marker": {
             "colorbar": {
              "outlinewidth": 0,
              "ticks": ""
             }
            }
           }
          ],
          "scattermapbox": [
           {
            "type": "scattermapbox",
            "marker": {
             "colorbar": {
              "outlinewidth": 0,
              "ticks": ""
             }
            }
           }
          ],
          "scatterternary": [
           {
            "type": "scatterternary",
            "marker": {
             "colorbar": {
              "outlinewidth": 0,
              "ticks": ""
             }
            }
           }
          ],
          "scattercarpet": [
           {
            "type": "scattercarpet",
            "marker": {
             "colorbar": {
              "outlinewidth": 0,
              "ticks": ""
             }
            }
           }
          ],
          "carpet": [
           {
            "aaxis": {
             "endlinecolor": "#A2B1C6",
             "gridcolor": "#506784",
             "linecolor": "#506784",
             "minorgridcolor": "#506784",
             "startlinecolor": "#A2B1C6"
            },
            "baxis": {
             "endlinecolor": "#A2B1C6",
             "gridcolor": "#506784",
             "linecolor": "#506784",
             "minorgridcolor": "#506784",
             "startlinecolor": "#A2B1C6"
            },
            "type": "carpet"
           }
          ],
          "table": [
           {
            "cells": {
             "fill": {
              "color": "#506784"
             },
             "line": {
              "color": "rgb(17,17,17)"
             }
            },
            "header": {
             "fill": {
              "color": "#2a3f5f"
             },
             "line": {
              "color": "rgb(17,17,17)"
             }
            },
            "type": "table"
           }
          ],
          "barpolar": [
           {
            "marker": {
             "line": {
              "color": "rgb(17,17,17)",
              "width": 0.5
             },
             "pattern": {
              "fillmode": "overlay",
              "size": 10,
              "solidity": 0.2
             }
            },
            "type": "barpolar"
           }
          ],
          "pie": [
           {
            "automargin": true,
            "type": "pie"
           }
          ]
         },
         "layout": {
          "autotypenumbers": "strict",
          "colorway": [
           "#636efa",
           "#EF553B",
           "#00cc96",
           "#ab63fa",
           "#FFA15A",
           "#19d3f3",
           "#FF6692",
           "#B6E880",
           "#FF97FF",
           "#FECB52"
          ],
          "font": {
           "color": "#f2f5fa"
          },
          "hovermode": "closest",
          "hoverlabel": {
           "align": "left"
          },
          "paper_bgcolor": "rgb(17,17,17)",
          "plot_bgcolor": "rgb(17,17,17)",
          "polar": {
           "bgcolor": "rgb(17,17,17)",
           "angularaxis": {
            "gridcolor": "#506784",
            "linecolor": "#506784",
            "ticks": ""
           },
           "radialaxis": {
            "gridcolor": "#506784",
            "linecolor": "#506784",
            "ticks": ""
           }
          },
          "ternary": {
           "bgcolor": "rgb(17,17,17)",
           "aaxis": {
            "gridcolor": "#506784",
            "linecolor": "#506784",
            "ticks": ""
           },
           "baxis": {
            "gridcolor": "#506784",
            "linecolor": "#506784",
            "ticks": ""
           },
           "caxis": {
            "gridcolor": "#506784",
            "linecolor": "#506784",
            "ticks": ""
           }
          },
          "coloraxis": {
           "colorbar": {
            "outlinewidth": 0,
            "ticks": ""
           }
          },
          "colorscale": {
           "sequential": [
            [
             0.0,
             "#0d0887"
            ],
            [
             0.1111111111111111,
             "#46039f"
            ],
            [
             0.2222222222222222,
             "#7201a8"
            ],
            [
             0.3333333333333333,
             "#9c179e"
            ],
            [
             0.4444444444444444,
             "#bd3786"
            ],
            [
             0.5555555555555556,
             "#d8576b"
            ],
            [
             0.6666666666666666,
             "#ed7953"
            ],
            [
             0.7777777777777778,
             "#fb9f3a"
            ],
            [
             0.8888888888888888,
             "#fdca26"
            ],
            [
             1.0,
             "#f0f921"
            ]
           ],
           "sequentialminus": [
            [
             0.0,
             "#0d0887"
            ],
            [
             0.1111111111111111,
             "#46039f"
            ],
            [
             0.2222222222222222,
             "#7201a8"
            ],
            [
             0.3333333333333333,
             "#9c179e"
            ],
            [
             0.4444444444444444,
             "#bd3786"
            ],
            [
             0.5555555555555556,
             "#d8576b"
            ],
            [
             0.6666666666666666,
             "#ed7953"
            ],
            [
             0.7777777777777778,
             "#fb9f3a"
            ],
            [
             0.8888888888888888,
             "#fdca26"
            ],
            [
             1.0,
             "#f0f921"
            ]
           ],
           "diverging": [
            [
             0,
             "#8e0152"
            ],
            [
             0.1,
             "#c51b7d"
            ],
            [
             0.2,
             "#de77ae"
            ],
            [
             0.3,
             "#f1b6da"
            ],
            [
             0.4,
             "#fde0ef"
            ],
            [
             0.5,
             "#f7f7f7"
            ],
            [
             0.6,
             "#e6f5d0"
            ],
            [
             0.7,
             "#b8e186"
            ],
            [
             0.8,
             "#7fbc41"
            ],
            [
             0.9,
             "#4d9221"
            ],
            [
             1,
             "#276419"
            ]
           ]
          },
          "xaxis": {
           "gridcolor": "#283442",
           "linecolor": "#506784",
           "ticks": "",
           "title": {
            "standoff": 15
           },
           "zerolinecolor": "#283442",
           "automargin": true,
           "zerolinewidth": 2
          },
          "yaxis": {
           "gridcolor": "#283442",
           "linecolor": "#506784",
           "ticks": "",
           "title": {
            "standoff": 15
           },
           "zerolinecolor": "#283442",
           "automargin": true,
           "zerolinewidth": 2
          },
          "scene": {
           "xaxis": {
            "backgroundcolor": "rgb(17,17,17)",
            "gridcolor": "#506784",
            "linecolor": "#506784",
            "showbackground": true,
            "ticks": "",
            "zerolinecolor": "#C8D4E3",
            "gridwidth": 2
           },
           "yaxis": {
            "backgroundcolor": "rgb(17,17,17)",
            "gridcolor": "#506784",
            "linecolor": "#506784",
            "showbackground": true,
            "ticks": "",
            "zerolinecolor": "#C8D4E3",
            "gridwidth": 2
           },
           "zaxis": {
            "backgroundcolor": "rgb(17,17,17)",
            "gridcolor": "#506784",
            "linecolor": "#506784",
            "showbackground": true,
            "ticks": "",
            "zerolinecolor": "#C8D4E3",
            "gridwidth": 2
           }
          },
          "shapedefaults": {
           "line": {
            "color": "#f2f5fa"
           }
          },
          "annotationdefaults": {
           "arrowcolor": "#f2f5fa",
           "arrowhead": 0,
           "arrowwidth": 1
          },
          "geo": {
           "bgcolor": "rgb(17,17,17)",
           "landcolor": "rgb(17,17,17)",
           "subunitcolor": "#506784",
           "showland": true,
           "showlakes": true,
           "lakecolor": "rgb(17,17,17)"
          },
          "title": {
           "x": 0.05
          },
          "updatemenudefaults": {
           "bgcolor": "#506784",
           "borderwidth": 0
          },
          "sliderdefaults": {
           "bgcolor": "#C8D4E3",
           "borderwidth": 1,
           "bordercolor": "rgb(17,17,17)",
           "tickwidth": 0
          },
          "mapbox": {
           "style": "dark"
          }
         }
        }
       },
       "config": {
        "plotlyServerURL": "https://plot.ly"
       }
      },
      "text/html": "<div>                            <div id=\"fca23e10-fed9-4577-8180-10fb37b273a4\" class=\"plotly-graph-div\" style=\"height:525px; width:100%;\"></div>            <script type=\"text/javascript\">                require([\"plotly\"], function(Plotly) {                    window.PLOTLYENV=window.PLOTLYENV || {};                                    if (document.getElementById(\"fca23e10-fed9-4577-8180-10fb37b273a4\")) {                    Plotly.newPlot(                        \"fca23e10-fed9-4577-8180-10fb37b273a4\",                        [{\"branchvalues\":\"total\",\"hovertemplate\":\"%{label}\\u003cbr\\u003esubtotal_nacf: %{value:,.2f}\\u003cbr\\u003e\",\"ids\":[\"a39ac4c3-094b-4d92-b71d-46c5a857f407\",\"981c0743-6a4c-4abd-8a97-2c937e48b897\",\"e3149444-dfbc-41d0-9eb1-f08785a62da1\",\"529ce7bc-addf-4bad-8ec5-cbecbd73d4f1\",\"29b746f5-42fe-4321-9a4a-8c65c9f0410c\",\"3fc29315-81e7-45a9-8241-62938e904d73\",\"f508623d-1d81-4082-85ee-5b1e32c7bb10\",\"6ac8ab6d-a730-44b8-97aa-a5db09b7fbd0\",\"71fd4551-8e65-4e7a-8e2a-9d18e69146b0\",\"c11f68da-0544-487b-9cb9-8a3a3a98a9b8\",\"cfc3edf5-1e7d-4499-b25f-ee86ed013516\",\"3e158dd9-aa5d-47bb-bc13-4b3e6d328fe1\",\"b8609a1e-b9f8-44a0-ab98-468ff247d753\",\"f68d2f9b-13c5-42e2-9bca-1826f7eff481\",\"ec086fbc-7b21-4958-b456-9bce6a883c98\",\"9ecaf92a-a90e-4572-a426-3ed392e0c28a\",\"9a884f88-0627-4eb7-b1ec-80ea39b0a25b\",\"d7dd5233-b1c3-451f-ae90-5a80fed205bd\",\"4acebff3-f17b-44fb-ba29-6bc02053b329\",\"d188b4bb-27a3-4f63-9469-e9705c60a7a5\",\"8d9f92cf-5613-4de4-b99b-7681aa76b4cd\",\"cf287254-7d66-4a4b-8a56-f247f51b41db\",\"926a3e9d-0601-4f96-bd71-317d928194f2\",\"987c5866-03b0-4948-962e-4870684f481b\",\"7dc6bf46-805f-4990-bcd2-d0fe1de4dd47\",\"549a988b-c3bc-42d4-a6a3-a8dc694fa770\",\"3cf2bf71-61fa-4a61-b163-6265c299376d\",\"bfc1c272-665f-432d-a7b3-a4c955556e7f\",\"55963d84-702d-423d-be05-c8bb6e88f517\",\"01282060-ad91-44be-b0d3-ff43e340e8bd\",\"f9e9ae1c-00f3-4966-9682-281ef2a86899\",\"e7b3aec0-5003-448b-a0e3-4c2dbb605f85\",\"9c13f0be-9991-4d9f-b41b-a0e962bdeb89\",\"e88ff464-a453-45bb-93d8-5f983d417912\",\"8ce80d06-69f6-404a-b0fd-a728eb0dfed6\",\"bb0a0d86-31c1-4780-b81f-8d0e5a5d83be\",\"32080c6a-1f31-446f-a3d9-59759ac00ff4\",\"a1fc1a28-1133-47f2-a8d9-58da817946c2\",\"0296748a-317a-47eb-bf94-e5dbbd78afc1\",\"74ed0525-d8f9-4f36-b20f-1b8a2baf60f2\",\"ae0fb830-76df-4d91-82ed-4ed755fdec4b\",\"c1b696b1-cae0-49ed-a8ba-0e795438d3d2\",\"add95b48-71c3-40e7-9f35-7db604f3f9f0\",\"d8443e6d-9080-4154-89e3-29f0e98ed90a\",\"f8945b4f-6f59-4c5a-a83f-462a97f2dcc4\",\"b548b184-1643-4c23-9b14-9025aeda59c3\",\"e8048367-edd2-4a61-ae0f-fd878688c910\"],\"insidetextorientation\":\"radial\",\"labels\":[\"development\",\"buildingB\",\"plinth\",\"buildingA\",\"utilities\",\"buildingBresidential\",\"buildingBparking\",\"buildingBretail\",\"buildingBcores\",\"buildingBresidentialFloor0\",\"buildingBresidentialFloor1\",\"buildingBresidentialFloor2\",\"buildingBresidentialFloor3\",\"buildingBresidentialFloor4\",\"buildingBresidentialFloor5\",\"buildingBresidentialFloor6\",\"buildingBresidentialFloor0\",\"buildingBparkingFloor0\",\"buildingBretailFloor0\",\"plinthparking\",\"plinthplant\",\"plinthparkingFloor-2\",\"plinthparkingFloor-1\",\"buildingAparking\",\"buildingAretail\",\"buildingAresidential\",\"buildingAretail\",\"buildingAoffice\",\"buildingAcores\",\"buildingAparkingFloor0\",\"buildingAretailFloor0\",\"buildingAresidentialFloor0\",\"buildingAresidentialFloor0\",\"buildingAresidentialFloor1\",\"buildingAresidentialFloor2\",\"buildingAresidentialFloor3\",\"buildingAretailFloor0\",\"buildingAofficeFloor1\",\"buildingAofficeFloor2\",\"buildingAofficeFloor3\",\"buildingAofficeFloor4\",\"buildingAofficeFloor5\",\"buildingAofficeFloor6\",\"buildingAofficeFloor7\",\"buildingAofficeFloor8\",\"buildingAofficeFloor9\",\"buildingAofficeFloor10\"],\"marker\":{\"cmax\":4.689192910278482,\"cmin\":2.0718846961219963,\"colors\":[null,2.4720488914464798,3.0,4.689192910278482,null,2.47096166421967,2.0718846961219963,2.0904443328297746,null,2.1047857570008346,2.1621495683503014,2.162149568350055,2.1497500797929465,2.1497500797883355,2.110570501708527,2.110570501708078,2.0855819135579567,2.0718846961219963,2.0904443328297746,3.0,null,3.04031045043124,3.04031045043124,4.073508713584555,4.086339455921025,4.158049805043251,4.094071117894809,4.599707421284765,null,4.073508713584555,4.086339455921025,4.082090688159746,4.0816744775322995,4.105589414267034,4.105589414267043,4.105589414267051,4.094071117894809,4.139032224279546,4.131807033863105,4.131807033863094,4.131807033863083,4.131807033863072,4.13180703386306,4.1318070338630495,4.131807033863038,4.131807033863026,4.131807033863016],\"colorscale\":[[0.0,\"rgb(3, 35, 51)\"],[0.09090909090909091,\"rgb(13, 48, 100)\"],[0.18181818181818182,\"rgb(53, 50, 155)\"],[0.2727272727272727,\"rgb(93, 62, 153)\"],[0.36363636363636365,\"rgb(126, 77, 143)\"],[0.45454545454545453,\"rgb(158, 89, 135)\"],[0.5454545454545454,\"rgb(193, 100, 121)\"],[0.6363636363636364,\"rgb(225, 113, 97)\"],[0.7272727272727273,\"rgb(246, 139, 69)\"],[0.8181818181818182,\"rgb(251, 173, 60)\"],[0.9090909090909091,\"rgb(246, 211, 70)\"],[1.0,\"rgb(231, 250, 90)\"]]},\"parents\":[null,\"a39ac4c3-094b-4d92-b71d-46c5a857f407\",\"a39ac4c3-094b-4d92-b71d-46c5a857f407\",\"a39ac4c3-094b-4d92-b71d-46c5a857f407\",\"a39ac4c3-094b-4d92-b71d-46c5a857f407\",\"981c0743-6a4c-4abd-8a97-2c937e48b897\",\"981c0743-6a4c-4abd-8a97-2c937e48b897\",\"981c0743-6a4c-4abd-8a97-2c937e48b897\",\"981c0743-6a4c-4abd-8a97-2c937e48b897\",\"3fc29315-81e7-45a9-8241-62938e904d73\",\"3fc29315-81e7-45a9-8241-62938e904d73\",\"3fc29315-81e7-45a9-8241-62938e904d73\",\"3fc29315-81e7-45a9-8241-62938e904d73\",\"3fc29315-81e7-45a9-8241-62938e904d73\",\"3fc29315-81e7-45a9-8241-62938e904d73\",\"3fc29315-81e7-45a9-8241-62938e904d73\",\"3fc29315-81e7-45a9-8241-62938e904d73\",\"f508623d-1d81-4082-85ee-5b1e32c7bb10\",\"6ac8ab6d-a730-44b8-97aa-a5db09b7fbd0\",\"e3149444-dfbc-41d0-9eb1-f08785a62da1\",\"e3149444-dfbc-41d0-9eb1-f08785a62da1\",\"d188b4bb-27a3-4f63-9469-e9705c60a7a5\",\"d188b4bb-27a3-4f63-9469-e9705c60a7a5\",\"529ce7bc-addf-4bad-8ec5-cbecbd73d4f1\",\"529ce7bc-addf-4bad-8ec5-cbecbd73d4f1\",\"529ce7bc-addf-4bad-8ec5-cbecbd73d4f1\",\"529ce7bc-addf-4bad-8ec5-cbecbd73d4f1\",\"529ce7bc-addf-4bad-8ec5-cbecbd73d4f1\",\"529ce7bc-addf-4bad-8ec5-cbecbd73d4f1\",\"987c5866-03b0-4948-962e-4870684f481b\",\"7dc6bf46-805f-4990-bcd2-d0fe1de4dd47\",\"549a988b-c3bc-42d4-a6a3-a8dc694fa770\",\"549a988b-c3bc-42d4-a6a3-a8dc694fa770\",\"549a988b-c3bc-42d4-a6a3-a8dc694fa770\",\"549a988b-c3bc-42d4-a6a3-a8dc694fa770\",\"549a988b-c3bc-42d4-a6a3-a8dc694fa770\",\"3cf2bf71-61fa-4a61-b163-6265c299376d\",\"bfc1c272-665f-432d-a7b3-a4c955556e7f\",\"bfc1c272-665f-432d-a7b3-a4c955556e7f\",\"bfc1c272-665f-432d-a7b3-a4c955556e7f\",\"bfc1c272-665f-432d-a7b3-a4c955556e7f\",\"bfc1c272-665f-432d-a7b3-a4c955556e7f\",\"bfc1c272-665f-432d-a7b3-a4c955556e7f\",\"bfc1c272-665f-432d-a7b3-a4c955556e7f\",\"bfc1c272-665f-432d-a7b3-a4c955556e7f\",\"bfc1c272-665f-432d-a7b3-a4c955556e7f\",\"bfc1c272-665f-432d-a7b3-a4c955556e7f\"],\"sort\":false,\"values\":[147600488.1566534,62841283.364583306,-12943174.729656726,97702379.52172685,null,62666735.92320153,-1402542.3087620689,1577089.7501438253,null,3879514.517572092,13088910.908734763,13088910.908695217,11098251.597820109,11098251.597079828,4808218.621807211,4808218.621735108,796459.1497572067,-1402542.3087620689,1577089.7501438253,-12943174.729656726,null,-6471587.36482836,-6471587.364828366,-1141816.5967316106,918077.7755157333,12430719.890453963,2159347.10898583,83336051.34350291,null,-1141816.5967316106,918077.7755157333,235965.03636677138,169145.05770426334,4008536.598792996,4008536.59879431,4008536.598795621,2159347.10898583,9377567.81541266,8217609.280906164,8217609.280904351,8217609.280902539,8217609.280900729,8217609.280898916,8217609.280897103,8217609.280895304,8217609.280893482,8217609.280891668],\"type\":\"sunburst\"}],                        {\"template\":{\"data\":{\"histogram2dcontour\":[{\"type\":\"histogram2dcontour\",\"colorbar\":{\"outlinewidth\":0,\"ticks\":\"\"},\"colorscale\":[[0.0,\"#0d0887\"],[0.1111111111111111,\"#46039f\"],[0.2222222222222222,\"#7201a8\"],[0.3333333333333333,\"#9c179e\"],[0.4444444444444444,\"#bd3786\"],[0.5555555555555556,\"#d8576b\"],[0.6666666666666666,\"#ed7953\"],[0.7777777777777778,\"#fb9f3a\"],[0.8888888888888888,\"#fdca26\"],[1.0,\"#f0f921\"]]}],\"choropleth\":[{\"type\":\"choropleth\",\"colorbar\":{\"outlinewidth\":0,\"ticks\":\"\"}}],\"histogram2d\":[{\"type\":\"histogram2d\",\"colorbar\":{\"outlinewidth\":0,\"ticks\":\"\"},\"colorscale\":[[0.0,\"#0d0887\"],[0.1111111111111111,\"#46039f\"],[0.2222222222222222,\"#7201a8\"],[0.3333333333333333,\"#9c179e\"],[0.4444444444444444,\"#bd3786\"],[0.5555555555555556,\"#d8576b\"],[0.6666666666666666,\"#ed7953\"],[0.7777777777777778,\"#fb9f3a\"],[0.8888888888888888,\"#fdca26\"],[1.0,\"#f0f921\"]]}],\"heatmap\":[{\"type\":\"heatmap\",\"colorbar\":{\"outlinewidth\":0,\"ticks\":\"\"},\"colorscale\":[[0.0,\"#0d0887\"],[0.1111111111111111,\"#46039f\"],[0.2222222222222222,\"#7201a8\"],[0.3333333333333333,\"#9c179e\"],[0.4444444444444444,\"#bd3786\"],[0.5555555555555556,\"#d8576b\"],[0.6666666666666666,\"#ed7953\"],[0.7777777777777778,\"#fb9f3a\"],[0.8888888888888888,\"#fdca26\"],[1.0,\"#f0f921\"]]}],\"heatmapgl\":[{\"type\":\"heatmapgl\",\"colorbar\":{\"outlinewidth\":0,\"ticks\":\"\"},\"colorscale\":[[0.0,\"#0d0887\"],[0.1111111111111111,\"#46039f\"],[0.2222222222222222,\"#7201a8\"],[0.3333333333333333,\"#9c179e\"],[0.4444444444444444,\"#bd3786\"],[0.5555555555555556,\"#d8576b\"],[0.6666666666666666,\"#ed7953\"],[0.7777777777777778,\"#fb9f3a\"],[0.8888888888888888,\"#fdca26\"],[1.0,\"#f0f921\"]]}],\"contourcarpet\":[{\"type\":\"contourcarpet\",\"colorbar\":{\"outlinewidth\":0,\"ticks\":\"\"}}],\"contour\":[{\"type\":\"contour\",\"colorbar\":{\"outlinewidth\":0,\"ticks\":\"\"},\"colorscale\":[[0.0,\"#0d0887\"],[0.1111111111111111,\"#46039f\"],[0.2222222222222222,\"#7201a8\"],[0.3333333333333333,\"#9c179e\"],[0.4444444444444444,\"#bd3786\"],[0.5555555555555556,\"#d8576b\"],[0.6666666666666666,\"#ed7953\"],[0.7777777777777778,\"#fb9f3a\"],[0.8888888888888888,\"#fdca26\"],[1.0,\"#f0f921\"]]}],\"surface\":[{\"type\":\"surface\",\"colorbar\":{\"outlinewidth\":0,\"ticks\":\"\"},\"colorscale\":[[0.0,\"#0d0887\"],[0.1111111111111111,\"#46039f\"],[0.2222222222222222,\"#7201a8\"],[0.3333333333333333,\"#9c179e\"],[0.4444444444444444,\"#bd3786\"],[0.5555555555555556,\"#d8576b\"],[0.6666666666666666,\"#ed7953\"],[0.7777777777777778,\"#fb9f3a\"],[0.8888888888888888,\"#fdca26\"],[1.0,\"#f0f921\"]]}],\"mesh3d\":[{\"type\":\"mesh3d\",\"colorbar\":{\"outlinewidth\":0,\"ticks\":\"\"}}],\"scatter\":[{\"marker\":{\"line\":{\"color\":\"#283442\"}},\"type\":\"scatter\"}],\"parcoords\":[{\"type\":\"parcoords\",\"line\":{\"colorbar\":{\"outlinewidth\":0,\"ticks\":\"\"}}}],\"scatterpolargl\":[{\"type\":\"scatterpolargl\",\"marker\":{\"colorbar\":{\"outlinewidth\":0,\"ticks\":\"\"}}}],\"bar\":[{\"error_x\":{\"color\":\"#f2f5fa\"},\"error_y\":{\"color\":\"#f2f5fa\"},\"marker\":{\"line\":{\"color\":\"rgb(17,17,17)\",\"width\":0.5},\"pattern\":{\"fillmode\":\"overlay\",\"size\":10,\"solidity\":0.2}},\"type\":\"bar\"}],\"scattergeo\":[{\"type\":\"scattergeo\",\"marker\":{\"colorbar\":{\"outlinewidth\":0,\"ticks\":\"\"}}}],\"scatterpolar\":[{\"type\":\"scatterpolar\",\"marker\":{\"colorbar\":{\"outlinewidth\":0,\"ticks\":\"\"}}}],\"histogram\":[{\"marker\":{\"pattern\":{\"fillmode\":\"overlay\",\"size\":10,\"solidity\":0.2}},\"type\":\"histogram\"}],\"scattergl\":[{\"marker\":{\"line\":{\"color\":\"#283442\"}},\"type\":\"scattergl\"}],\"scatter3d\":[{\"type\":\"scatter3d\",\"line\":{\"colorbar\":{\"outlinewidth\":0,\"ticks\":\"\"}},\"marker\":{\"colorbar\":{\"outlinewidth\":0,\"ticks\":\"\"}}}],\"scattermapbox\":[{\"type\":\"scattermapbox\",\"marker\":{\"colorbar\":{\"outlinewidth\":0,\"ticks\":\"\"}}}],\"scatterternary\":[{\"type\":\"scatterternary\",\"marker\":{\"colorbar\":{\"outlinewidth\":0,\"ticks\":\"\"}}}],\"scattercarpet\":[{\"type\":\"scattercarpet\",\"marker\":{\"colorbar\":{\"outlinewidth\":0,\"ticks\":\"\"}}}],\"carpet\":[{\"aaxis\":{\"endlinecolor\":\"#A2B1C6\",\"gridcolor\":\"#506784\",\"linecolor\":\"#506784\",\"minorgridcolor\":\"#506784\",\"startlinecolor\":\"#A2B1C6\"},\"baxis\":{\"endlinecolor\":\"#A2B1C6\",\"gridcolor\":\"#506784\",\"linecolor\":\"#506784\",\"minorgridcolor\":\"#506784\",\"startlinecolor\":\"#A2B1C6\"},\"type\":\"carpet\"}],\"table\":[{\"cells\":{\"fill\":{\"color\":\"#506784\"},\"line\":{\"color\":\"rgb(17,17,17)\"}},\"header\":{\"fill\":{\"color\":\"#2a3f5f\"},\"line\":{\"color\":\"rgb(17,17,17)\"}},\"type\":\"table\"}],\"barpolar\":[{\"marker\":{\"line\":{\"color\":\"rgb(17,17,17)\",\"width\":0.5},\"pattern\":{\"fillmode\":\"overlay\",\"size\":10,\"solidity\":0.2}},\"type\":\"barpolar\"}],\"pie\":[{\"automargin\":true,\"type\":\"pie\"}]},\"layout\":{\"autotypenumbers\":\"strict\",\"colorway\":[\"#636efa\",\"#EF553B\",\"#00cc96\",\"#ab63fa\",\"#FFA15A\",\"#19d3f3\",\"#FF6692\",\"#B6E880\",\"#FF97FF\",\"#FECB52\"],\"font\":{\"color\":\"#f2f5fa\"},\"hovermode\":\"closest\",\"hoverlabel\":{\"align\":\"left\"},\"paper_bgcolor\":\"rgb(17,17,17)\",\"plot_bgcolor\":\"rgb(17,17,17)\",\"polar\":{\"bgcolor\":\"rgb(17,17,17)\",\"angularaxis\":{\"gridcolor\":\"#506784\",\"linecolor\":\"#506784\",\"ticks\":\"\"},\"radialaxis\":{\"gridcolor\":\"#506784\",\"linecolor\":\"#506784\",\"ticks\":\"\"}},\"ternary\":{\"bgcolor\":\"rgb(17,17,17)\",\"aaxis\":{\"gridcolor\":\"#506784\",\"linecolor\":\"#506784\",\"ticks\":\"\"},\"baxis\":{\"gridcolor\":\"#506784\",\"linecolor\":\"#506784\",\"ticks\":\"\"},\"caxis\":{\"gridcolor\":\"#506784\",\"linecolor\":\"#506784\",\"ticks\":\"\"}},\"coloraxis\":{\"colorbar\":{\"outlinewidth\":0,\"ticks\":\"\"}},\"colorscale\":{\"sequential\":[[0.0,\"#0d0887\"],[0.1111111111111111,\"#46039f\"],[0.2222222222222222,\"#7201a8\"],[0.3333333333333333,\"#9c179e\"],[0.4444444444444444,\"#bd3786\"],[0.5555555555555556,\"#d8576b\"],[0.6666666666666666,\"#ed7953\"],[0.7777777777777778,\"#fb9f3a\"],[0.8888888888888888,\"#fdca26\"],[1.0,\"#f0f921\"]],\"sequentialminus\":[[0.0,\"#0d0887\"],[0.1111111111111111,\"#46039f\"],[0.2222222222222222,\"#7201a8\"],[0.3333333333333333,\"#9c179e\"],[0.4444444444444444,\"#bd3786\"],[0.5555555555555556,\"#d8576b\"],[0.6666666666666666,\"#ed7953\"],[0.7777777777777778,\"#fb9f3a\"],[0.8888888888888888,\"#fdca26\"],[1.0,\"#f0f921\"]],\"diverging\":[[0,\"#8e0152\"],[0.1,\"#c51b7d\"],[0.2,\"#de77ae\"],[0.3,\"#f1b6da\"],[0.4,\"#fde0ef\"],[0.5,\"#f7f7f7\"],[0.6,\"#e6f5d0\"],[0.7,\"#b8e186\"],[0.8,\"#7fbc41\"],[0.9,\"#4d9221\"],[1,\"#276419\"]]},\"xaxis\":{\"gridcolor\":\"#283442\",\"linecolor\":\"#506784\",\"ticks\":\"\",\"title\":{\"standoff\":15},\"zerolinecolor\":\"#283442\",\"automargin\":true,\"zerolinewidth\":2},\"yaxis\":{\"gridcolor\":\"#283442\",\"linecolor\":\"#506784\",\"ticks\":\"\",\"title\":{\"standoff\":15},\"zerolinecolor\":\"#283442\",\"automargin\":true,\"zerolinewidth\":2},\"scene\":{\"xaxis\":{\"backgroundcolor\":\"rgb(17,17,17)\",\"gridcolor\":\"#506784\",\"linecolor\":\"#506784\",\"showbackground\":true,\"ticks\":\"\",\"zerolinecolor\":\"#C8D4E3\",\"gridwidth\":2},\"yaxis\":{\"backgroundcolor\":\"rgb(17,17,17)\",\"gridcolor\":\"#506784\",\"linecolor\":\"#506784\",\"showbackground\":true,\"ticks\":\"\",\"zerolinecolor\":\"#C8D4E3\",\"gridwidth\":2},\"zaxis\":{\"backgroundcolor\":\"rgb(17,17,17)\",\"gridcolor\":\"#506784\",\"linecolor\":\"#506784\",\"showbackground\":true,\"ticks\":\"\",\"zerolinecolor\":\"#C8D4E3\",\"gridwidth\":2}},\"shapedefaults\":{\"line\":{\"color\":\"#f2f5fa\"}},\"annotationdefaults\":{\"arrowcolor\":\"#f2f5fa\",\"arrowhead\":0,\"arrowwidth\":1},\"geo\":{\"bgcolor\":\"rgb(17,17,17)\",\"landcolor\":\"rgb(17,17,17)\",\"subunitcolor\":\"#506784\",\"showland\":true,\"showlakes\":true,\"lakecolor\":\"rgb(17,17,17)\"},\"title\":{\"x\":0.05},\"updatemenudefaults\":{\"bgcolor\":\"#506784\",\"borderwidth\":0},\"sliderdefaults\":{\"bgcolor\":\"#C8D4E3\",\"borderwidth\":1,\"bordercolor\":\"rgb(17,17,17)\",\"tickwidth\":0},\"mapbox\":{\"style\":\"dark\"}}}},                        {\"responsive\": true}                    ).then(function(){\n                            \nvar gd = document.getElementById('fca23e10-fed9-4577-8180-10fb37b273a4');\nvar x = new MutationObserver(function (mutations, observer) {{\n        var display = window.getComputedStyle(gd).display;\n        if (!display || display === 'none') {{\n            console.log([gd, 'removed!']);\n            Plotly.purge(gd);\n            observer.disconnect();\n        }}\n}});\n\n// Listen for the removal of the full notebook cells\nvar notebookContainer = gd.closest('#notebook-container');\nif (notebookContainer) {{\n    x.observe(notebookContainer, {childList: true});\n}}\n\n// Listen for the clearing of the current output cell\nvar outputEl = gd.closest('.output');\nif (outputEl) {{\n    x.observe(outputEl, {childList: true});\n}}\n\n                        })                };                });            </script>        </div>"
     },
     "metadata": {},
     "output_type": "display_data"
    }
   ],
   "source": [
    "fig = go.Figure(trace)\n",
    "fig.show()"
   ],
   "metadata": {
    "collapsed": false,
    "ExecuteTime": {
     "end_time": "2023-06-29T03:38:25.085587Z",
     "start_time": "2023-06-29T03:38:25.079101Z"
    }
   }
  },
  {
   "cell_type": "markdown",
   "source": [
    "trace"
   ],
   "metadata": {
    "collapsed": false
   }
  },
  {
   "cell_type": "code",
   "execution_count": null,
   "outputs": [],
   "source": [
    "floors[1]['subtotal_utils_capex']"
   ],
   "metadata": {
    "collapsed": false,
    "is_executing": true
   }
  },
  {
   "cell_type": "code",
   "execution_count": null,
   "outputs": [],
   "source": [],
   "metadata": {
    "collapsed": false,
    "is_executing": true
   }
  }
 ],
 "metadata": {
  "kernelspec": {
   "display_name": "Python 3 (ipykernel)",
   "language": "python",
   "name": "python3"
  },
  "language_info": {
   "codemirror_mode": {
    "name": "ipython",
    "version": 3
   },
   "file_extension": ".py",
   "mimetype": "text/x-python",
   "name": "python",
   "nbconvert_exporter": "python",
   "pygments_lexer": "ipython3",
   "version": "3.10.4"
  }
 },
 "nbformat": 4,
 "nbformat_minor": 1
}
