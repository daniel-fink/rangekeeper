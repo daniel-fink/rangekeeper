{
 "cells": [
  {
   "cell_type": "markdown",
   "metadata": {},
   "source": [
    "# Driving a Financial Valuation from a Design"
   ]
  },
  {
   "cell_type": "markdown",
   "metadata": {
    "collapsed": false
   },
   "source": [
    "As seen in\n",
    "[Loading a Design](load_design.ipynb), a design's object model (a\n",
    "[knowledge graph](https://en.wikipedia.org/wiki/Knowledge_graph) including all\n",
    "its spatial and semantic relationships) can be loaded via Speckle from any of\n",
    "Speckle's supported [connectors](https://speckle.guide/user/connectors.html), so\n",
    "long as those objects (`Entity`s and `Relationship`s) have been assigned.\n",
    "\n",
    "In this notebook, we will demonstrate how to integrate financial modelling into\n",
    "the object model (graph) in order to derive the financial valuation of a real\n",
    "estate property from its spatial design.\n",
    "This is done by calculating cash flows per `Entity`, and then using the\n",
    "`Relationship`s to aggregate those `Flow`s into appropriate `Stream`s."
   ]
  },
  {
   "cell_type": "markdown",
   "metadata": {
    "collapsed": false
   },
   "source": [
    "## Load the Design\n",
    "We will use the same design as in the previous notebook."
   ]
  },
  {
   "cell_type": "code",
   "execution_count": 1,
   "metadata": {
    "collapsed": false,
    "ExecuteTime": {
     "end_time": "2024-03-14T12:20:25.465766Z",
     "start_time": "2024-03-14T12:20:24.510275Z"
    }
   },
   "outputs": [],
   "source": [
    "import json\n",
    "import os\n",
    "\n",
    "import locale\n",
    "import urllib.parse\n",
    "import json\n",
    "import pandas as pd\n",
    "import networkx as nx\n",
    "from IPython.display import IFrame\n",
    "import plotly.subplots\n",
    "import plotly.offline as py\n",
    "\n",
    "import rangekeeper as rk"
   ]
  },
  {
   "cell_type": "code",
   "execution_count": 2,
   "metadata": {
    "collapsed": false,
    "ExecuteTime": {
     "end_time": "2024-03-14T12:20:27.550678Z",
     "start_time": "2024-03-14T12:20:25.466602Z"
    }
   },
   "outputs": [
    {
     "name": "stdout",
     "output_type": "stream",
     "text": [
      "\n",
      " SpeckleClient( server: https://speckle.xyz, authenticated: True )\n"
     ]
    },
    {
     "data": {
      "text/plain": "<IPython.lib.display.IFrame at 0x103440590>",
      "text/html": "\n        <iframe\n            width=\"100%\"\n            height=\"800\"\n            src=\"https://speckle.xyz/embed?stream=e3ea4fe91a&commit=9196d66cd1\"\n            frameborder=\"0\"\n            allowfullscreen\n            \n        ></iframe>\n        "
     },
     "execution_count": 2,
     "metadata": {},
     "output_type": "execute_result"
    }
   ],
   "source": [
    "speckle = rk.api.Speckle(\n",
    "    host=\"speckle.xyz\",\n",
    "    token=os.getenv('SPECKLE_TOKEN'))\n",
    "stream_id = \"e3ea4fe91a\"\n",
    "commit_id = speckle.get_latest_commit_id(stream_id)\n",
    "IFrame(\"https://speckle.xyz/embed?stream={0}&commit={1}\".format(stream_id, commit_id), width='100%', height=800)"
   ]
  },
  {
   "cell_type": "markdown",
   "metadata": {
    "collapsed": false
   },
   "source": [
    "### Inspect the Model Graph"
   ]
  },
  {
   "cell_type": "code",
   "execution_count": 3,
   "metadata": {
    "collapsed": false,
    "ExecuteTime": {
     "end_time": "2024-03-14T12:20:29.573482Z",
     "start_time": "2024-03-14T12:20:27.552924Z"
    }
   },
   "outputs": [
    {
     "name": "stdout",
     "output_type": "stream",
     "text": [
      "Warning: Duplicate Entity 6072b243-6bba-4e67-96de-25119e17150f [utilities] found.\n",
      "Existing Entity is an Assembly while new Entity is not. Keeping Assembly.\n",
      "Warning: Duplicate Entity 6072b243-6bba-4e67-96de-25119e17150f [utilities] found.\n",
      "Existing Entity is an Assembly while new Entity is not. Keeping Assembly.\n",
      "Warning: Duplicate Entity 6072b243-6bba-4e67-96de-25119e17150f [utilities] found.\n",
      "Existing Entity is an Assembly while new Entity is not. Keeping Assembly.\n",
      "Warning: Duplicate Entity c19933d4-eaa0-4398-882d-b8554d2963db [plinthparking] found.\n",
      "Existing Entity is an Assembly while new Entity is not. Keeping Assembly.\n"
     ]
    }
   ],
   "source": [
    "model = speckle.get_commit(stream_id=stream_id)\n",
    "parsed = rk.api.Speckle.parse(base=model['@property'])\n",
    "property = rk.api.Speckle.to_rk(\n",
    "    bases=list(parsed.values()),\n",
    "    name='property',\n",
    "    type='archetype')"
   ]
  },
  {
   "cell_type": "code",
   "execution_count": 4,
   "metadata": {
    "collapsed": false,
    "ExecuteTime": {
     "end_time": "2024-03-14T12:20:29.644033Z",
     "start_time": "2024-03-14T12:20:29.574148Z"
    }
   },
   "outputs": [
    {
     "name": "stdout",
     "output_type": "stream",
     "text": [
      "assets/property.html\n"
     ]
    },
    {
     "data": {
      "text/plain": "<IPython.lib.display.IFrame at 0x2e35c5650>",
      "text/html": "\n        <iframe\n            width=\"100%\"\n            height=\"800\"\n            src=\"./property.html\"\n            frameborder=\"0\"\n            allowfullscreen\n            \n        ></iframe>\n        "
     },
     "execution_count": 4,
     "metadata": {},
     "output_type": "execute_result"
    }
   ],
   "source": [
    "property.plot(name=f'assets/{property.name}')\n",
    "IFrame(src=f'./{property.name}.html', width='100%', height=800)"
   ]
  },
  {
   "cell_type": "markdown",
   "metadata": {
    "collapsed": false
   },
   "source": [
    "## Assigning and Aggregating `Flow`s per `Entity`\n",
    "Now we can organise the two main categories of cash flows (costs and revenues)\n",
    "according to the `Relationship` types in the design.\n",
    "\n",
    "In this example, revenue-based cash flows are generated by `Entity`s that have a\n",
    "measureable floor area -- in this case, anything that has a 'gfa' property.\n",
    "\n",
    "We can query the graph to find them:"
   ]
  },
  {
   "cell_type": "markdown",
   "metadata": {
    "collapsed": false
   },
   "source": [
    "### Revenue-producing Entities\n",
    "Revenue-producing `Entity`s will be aggregated by their spatial containment. So\n",
    "we can first slice our graph to a tree of nodes that have \"contains\"\n",
    "relationships:"
   ]
  },
  {
   "cell_type": "code",
   "execution_count": 5,
   "metadata": {
    "collapsed": false,
    "ExecuteTime": {
     "end_time": "2024-03-14T12:20:29.646705Z",
     "start_time": "2024-03-14T12:20:29.644745Z"
    }
   },
   "outputs": [],
   "source": [
    "spatial_containment = property.filter_by_type(\n",
    "    relationship_type='spatiallyContains',\n",
    "    name='spatial_containment')"
   ]
  },
  {
   "cell_type": "markdown",
   "metadata": {
    "collapsed": false
   },
   "source": [
    "Note: we anticipate that the spatial decomposition is completely hierarchical\n",
    "(i.e., no spaces overlap, which means no spaces have multiple parents). We can\n",
    "check this by testing whether the containment graph is a \"tree\" (or\n",
    "\"arborescence\": see [NetworkX Tree](https://networkx.org/documentation/stable/reference/algorithms/tree.html#tree))."
   ]
  },
  {
   "cell_type": "code",
   "execution_count": 6,
   "metadata": {
    "collapsed": false,
    "ExecuteTime": {
     "end_time": "2024-03-14T12:20:29.650372Z",
     "start_time": "2024-03-14T12:20:29.647367Z"
    }
   },
   "outputs": [
    {
     "data": {
      "text/plain": "True"
     },
     "execution_count": 6,
     "metadata": {},
     "output_type": "execute_result"
    }
   ],
   "source": [
    "nx.is_arborescence(spatial_containment.graph)"
   ]
  },
  {
   "cell_type": "code",
   "execution_count": 7,
   "metadata": {
    "collapsed": false,
    "ExecuteTime": {
     "end_time": "2024-03-14T12:20:29.717275Z",
     "start_time": "2024-03-14T12:20:29.651025Z"
    }
   },
   "outputs": [
    {
     "name": "stdout",
     "output_type": "stream",
     "text": [
      "assets/property by spatiallyContains and None.html\n"
     ]
    },
    {
     "data": {
      "text/plain": "<IPython.lib.display.IFrame at 0x2f3a714d0>",
      "text/html": "\n        <iframe\n            width=\"100%\"\n            height=\"800\"\n            src=\"./property by spatiallyContains and None.html\"\n            frameborder=\"0\"\n            allowfullscreen\n            \n        ></iframe>\n        "
     },
     "execution_count": 7,
     "metadata": {},
     "output_type": "execute_result"
    }
   ],
   "source": [
    "# Plot the spatial containment graph\n",
    "spatial_containment.plot(name=f'assets/{spatial_containment.name}')\n",
    "IFrame(src=f'./{spatial_containment.name}.html', width='100%', height=800)"
   ]
  },
  {
   "cell_type": "markdown",
   "metadata": {
    "collapsed": false
   },
   "source": [
    "#### Simple Aggregation\n",
    "Now that we have verified this, we can continue with a simple aggregation. We\n",
    "wish to aggregate up through our hierarchy all `Entity`s that have a Gross Floor\n",
    "Area ('gfa') property. *Rangekeeper* provides defaults for the `Entity.aggregate()`\n",
    "method for this, whereby a named property of any `Entity` is summed (numerical\n",
    "addition) into its parent `Entity` against a specified label:"
   ]
  },
  {
   "cell_type": "code",
   "execution_count": 8,
   "metadata": {
    "collapsed": false,
    "ExecuteTime": {
     "end_time": "2024-03-14T12:20:29.723552Z",
     "start_time": "2024-03-14T12:20:29.718111Z"
    }
   },
   "outputs": [],
   "source": [
    "property.aggregate(\n",
    "    property='gfa',\n",
    "    label='subtotal_gfa',\n",
    "    relationship_type='spatiallyContains')"
   ]
  },
  {
   "cell_type": "markdown",
   "metadata": {
    "collapsed": false
   },
   "source": [
    "We can tabulate this by converting the graph to a pandas `DataFrame`. Note that\n",
    "the graph nodes (as witnessed in the DataFrame's index and 'parent' column)\n",
    "are GUID strings. Each of these have corresponding `Entity` objects, organised\n",
    "via NetworkX's Node Attributes. See [NetworkX Tutorial](https://networkx.org/documentation/stable/tutorial.html#what-to-use-as-nodes-and-edges)"
   ]
  },
  {
   "cell_type": "code",
   "execution_count": 9,
   "metadata": {
    "collapsed": false,
    "tags": [
     "output_scroll"
    ],
    "ExecuteTime": {
     "end_time": "2024-03-14T12:20:29.741366Z",
     "start_time": "2024-03-14T12:20:29.724406Z"
    }
   },
   "outputs": [
    {
     "data": {
      "text/plain": "                                                            name       type  \\\nee762902-113d-4762-9949-f2594f6a63cb                    property   property   \n93747bdd-9c81-4332-bad6-20152101d4f4                      plinth   building   \nbfb80bb9-08e8-4a9c-8892-df73e6561d32                   buildingA   building   \ncdd2a9b9-f204-42be-8b7c-0d6cdec34594                   buildingB   building   \n6072b243-6bba-4e67-96de-25119e17150f                   utilities  utilities   \nc19933d4-eaa0-4398-882d-b8554d2963db               plinthparking      space   \n79af032a-c245-41c9-a2d4-33bb3029346a                 plinthplant  utilities   \n4665be87-5447-4303-b333-724024f4a00a        plinthparkingFloor-2      floor   \n20898dd5-2b80-47bc-b963-b0f546dc0e00        plinthparkingFloor-1      floor   \n48a9f4a0-1157-48f8-94b2-f64461730009              buildingAhotel      space   \n2e6cefe7-a5c3-4c0b-a578-ef2fa298482f             buildingAretail      space   \n6e260151-086b-40c2-83a5-d14ea8e006dd        buildingAresidential      space   \n40e0d08f-67e5-48ec-b828-9f921a4eee34             buildingAretail      space   \nba6a675c-fad0-4236-993e-6451f7ef6f88            buildingAparking      space   \ne805830b-9774-4519-aedc-fd03552308c2              buildingAcores  utilities   \nf9e3f130-41d5-41d4-b268-ce4de951c1ce        buildingAhotelFloor0      floor   \ndfbaf91f-64cb-4218-b528-b8eb5e742cd4        buildingAhotelFloor1      floor   \ne547ef7b-8f3c-4cf6-b877-0ae9b0e3ea97        buildingAhotelFloor2      floor   \nd7871d3f-d8e7-458d-8e7e-d33157170daf        buildingAhotelFloor3      floor   \n29d18596-9aa4-440a-b578-3b33c01caca0        buildingAhotelFloor4      floor   \n13338cb2-ece4-43d5-a5dd-f2a7b47fe25f        buildingAhotelFloor5      floor   \nf5153bc8-224f-4a8c-9987-6211fd73c120        buildingAhotelFloor6      floor   \n33a10ae8-721d-46c3-8e66-d278ce872cf7        buildingAhotelFloor7      floor   \n328020e8-4694-427e-b433-8367c7f1f14d        buildingAhotelFloor8      floor   \nc26f2937-1354-455d-949d-3a0a187e157b        buildingAhotelFloor9      floor   \n5d1ba8b7-a2f6-4ea8-ae43-fe228b4a5ab5       buildingAhotelFloor10      floor   \ne5abcf3b-73ee-4ade-8ce2-99115cb8e8d5       buildingAhotelFloor11      floor   \n2712f2e2-0810-4d4c-843a-0b388e56d83e       buildingAhotelFloor12      floor   \na57a309a-fba1-4613-b395-511df17d8cbe       buildingAhotelFloor13      floor   \n9a94af5c-11de-445c-a65f-fa5ea5b34a1c       buildingAretailFloor0      floor   \nbef4da00-cd24-4703-ad27-82963ae2cf87  buildingAresidentialFloor0      floor   \n13d41e1a-627b-46de-abea-d98a4e053892  buildingAresidentialFloor1      floor   \nff6c54fd-095e-462e-aba0-2e43842a7b10  buildingAresidentialFloor2      floor   \n15063656-315e-46fe-a193-eb8b364c725e  buildingAresidentialFloor3      floor   \n9d0d9b38-2f76-43a1-a67a-755155625b0b       buildingAretailFloor0      floor   \naed4f503-92e3-4ddd-b0cf-ba8739f31ecb      buildingAparkingFloor0      floor   \n3b92a79c-61f1-4e01-887f-4d2d51b75307        buildingBresidential      space   \n649e49a3-170b-43df-b8d6-698e1549edcb            buildingBparking      space   \ncbf37424-e9ee-4256-9616-bccb33877959             buildingBretail      space   \nb46237d4-fbe2-4be6-8efc-59785f708ba2              buildingBcores  utilities   \n8e9146d0-2104-4e1c-9c82-c13f75615ec8  buildingBresidentialFloor0      floor   \nf59987d8-0e52-498f-a867-0c1d075fd79b  buildingBresidentialFloor1      floor   \nbe309f24-a650-47f1-9fe1-4937b77b5db6  buildingBresidentialFloor2      floor   \nfb71f7fb-461c-4fed-a153-8022feb7fbff  buildingBresidentialFloor3      floor   \n792a321a-2b80-4967-b674-270c885ef050  buildingBresidentialFloor4      floor   \n44400ec9-2a8e-4f3c-90c8-d59629c9537b  buildingBresidentialFloor5      floor   \naabba2f5-b60e-4051-b012-b332dcef6bed  buildingBresidentialFloor6      floor   \n7d1610e9-c044-4ce4-9e88-fa760853bfe8  buildingBresidentialFloor0      floor   \ne7730ec9-3304-4af3-b978-d08aaff7858b      buildingBparkingFloor0      floor   \n4607a6a9-a74b-4b95-a1f7-17b04189120c       buildingBretailFloor0      floor   \n\n                                              gfa  subtotal_gfa  \\\nee762902-113d-4762-9949-f2594f6a63cb          NaN  42786.259115   \n93747bdd-9c81-4332-bad6-20152101d4f4          NaN  12773.744211   \nbfb80bb9-08e8-4a9c-8892-df73e6561d32          NaN  16575.630074   \ncdd2a9b9-f204-42be-8b7c-0d6cdec34594          NaN  13436.884829   \n6072b243-6bba-4e67-96de-25119e17150f          NaN      0.000000   \nc19933d4-eaa0-4398-882d-b8554d2963db          NaN  12773.744211   \n79af032a-c245-41c9-a2d4-33bb3029346a          NaN      0.000000   \n4665be87-5447-4303-b333-724024f4a00a  6386.872106   6386.872106   \n20898dd5-2b80-47bc-b963-b0f546dc0e00  6386.872106   6386.872106   \n48a9f4a0-1157-48f8-94b2-f64461730009          NaN  11716.690054   \n2e6cefe7-a5c3-4c0b-a578-ef2fa298482f          NaN    789.114895   \n6e260151-086b-40c2-83a5-d14ea8e006dd          NaN   2308.322369   \n40e0d08f-67e5-48ec-b828-9f921a4eee34          NaN    722.715820   \nba6a675c-fad0-4236-993e-6451f7ef6f88          NaN   1038.786936   \ne805830b-9774-4519-aedc-fd03552308c2          NaN      0.000000   \nf9e3f130-41d5-41d4-b268-ce4de951c1ce   111.690000    111.690000   \ndfbaf91f-64cb-4218-b528-b8eb5e742cd4  1697.451572   1697.451572   \ne547ef7b-8f3c-4cf6-b877-0ae9b0e3ea97  1270.128420   1270.128420   \nd7871d3f-d8e7-458d-8e7e-d33157170daf  1068.208325   1068.208325   \n29d18596-9aa4-440a-b578-3b33c01caca0   756.921174    756.921174   \n13338cb2-ece4-43d5-a5dd-f2a7b47fe25f   756.921174    756.921174   \nf5153bc8-224f-4a8c-9987-6211fd73c120   756.921174    756.921174   \n33a10ae8-721d-46c3-8e66-d278ce872cf7   756.921174    756.921174   \n328020e8-4694-427e-b433-8367c7f1f14d   756.921174    756.921174   \nc26f2937-1354-455d-949d-3a0a187e157b   756.921174    756.921174   \n5d1ba8b7-a2f6-4ea8-ae43-fe228b4a5ab5   756.921174    756.921174   \ne5abcf3b-73ee-4ade-8ce2-99115cb8e8d5   756.921174    756.921174   \n2712f2e2-0810-4d4c-843a-0b388e56d83e   756.921174    756.921174   \na57a309a-fba1-4613-b395-511df17d8cbe   756.921174    756.921174   \n9a94af5c-11de-445c-a65f-fa5ea5b34a1c   789.114895    789.114895   \nbef4da00-cd24-4703-ad27-82963ae2cf87    57.900000     57.900000   \n13d41e1a-627b-46de-abea-d98a4e053892   750.140790    750.140790   \nff6c54fd-095e-462e-aba0-2e43842a7b10   750.140790    750.140790   \n15063656-315e-46fe-a193-eb8b364c725e   750.140790    750.140790   \n9d0d9b38-2f76-43a1-a67a-755155625b0b   722.715820    722.715820   \naed4f503-92e3-4ddd-b0cf-ba8739f31ecb  1038.786936   1038.786936   \n3b92a79c-61f1-4e01-887f-4d2d51b75307          NaN  11442.736624   \n649e49a3-170b-43df-b8d6-698e1549edcb          NaN   1178.164752   \ncbf37424-e9ee-4256-9616-bccb33877959          NaN    815.983454   \nb46237d4-fbe2-4be6-8efc-59785f708ba2          NaN      0.000000   \n8e9146d0-2104-4e1c-9c82-c13f75615ec8   765.941631    765.941631   \nf59987d8-0e52-498f-a867-0c1d075fd79b  2361.056035   2361.056035   \nbe309f24-a650-47f1-9fe1-4937b77b5db6  2361.056035   2361.056035   \nfb71f7fb-461c-4fed-a153-8022feb7fbff  2015.956035   2015.956035   \n792a321a-2b80-4967-b674-270c885ef050  2015.956035   2015.956035   \n44400ec9-2a8e-4f3c-90c8-d59629c9537b   875.014900    875.014900   \naabba2f5-b60e-4051-b012-b332dcef6bed   875.014900    875.014900   \n7d1610e9-c044-4ce4-9e88-fa760853bfe8   172.741054    172.741054   \ne7730ec9-3304-4af3-b978-d08aaff7858b  1178.164752   1178.164752   \n4607a6a9-a74b-4b95-a1f7-17b04189120c   815.983454    815.983454   \n\n                                                                    parent  \\\nee762902-113d-4762-9949-f2594f6a63cb                                  None   \n93747bdd-9c81-4332-bad6-20152101d4f4  ee762902-113d-4762-9949-f2594f6a63cb   \nbfb80bb9-08e8-4a9c-8892-df73e6561d32  ee762902-113d-4762-9949-f2594f6a63cb   \ncdd2a9b9-f204-42be-8b7c-0d6cdec34594  ee762902-113d-4762-9949-f2594f6a63cb   \n6072b243-6bba-4e67-96de-25119e17150f  ee762902-113d-4762-9949-f2594f6a63cb   \nc19933d4-eaa0-4398-882d-b8554d2963db  93747bdd-9c81-4332-bad6-20152101d4f4   \n79af032a-c245-41c9-a2d4-33bb3029346a  93747bdd-9c81-4332-bad6-20152101d4f4   \n4665be87-5447-4303-b333-724024f4a00a  c19933d4-eaa0-4398-882d-b8554d2963db   \n20898dd5-2b80-47bc-b963-b0f546dc0e00  c19933d4-eaa0-4398-882d-b8554d2963db   \n48a9f4a0-1157-48f8-94b2-f64461730009  bfb80bb9-08e8-4a9c-8892-df73e6561d32   \n2e6cefe7-a5c3-4c0b-a578-ef2fa298482f  bfb80bb9-08e8-4a9c-8892-df73e6561d32   \n6e260151-086b-40c2-83a5-d14ea8e006dd  bfb80bb9-08e8-4a9c-8892-df73e6561d32   \n40e0d08f-67e5-48ec-b828-9f921a4eee34  bfb80bb9-08e8-4a9c-8892-df73e6561d32   \nba6a675c-fad0-4236-993e-6451f7ef6f88  bfb80bb9-08e8-4a9c-8892-df73e6561d32   \ne805830b-9774-4519-aedc-fd03552308c2  bfb80bb9-08e8-4a9c-8892-df73e6561d32   \nf9e3f130-41d5-41d4-b268-ce4de951c1ce  48a9f4a0-1157-48f8-94b2-f64461730009   \ndfbaf91f-64cb-4218-b528-b8eb5e742cd4  48a9f4a0-1157-48f8-94b2-f64461730009   \ne547ef7b-8f3c-4cf6-b877-0ae9b0e3ea97  48a9f4a0-1157-48f8-94b2-f64461730009   \nd7871d3f-d8e7-458d-8e7e-d33157170daf  48a9f4a0-1157-48f8-94b2-f64461730009   \n29d18596-9aa4-440a-b578-3b33c01caca0  48a9f4a0-1157-48f8-94b2-f64461730009   \n13338cb2-ece4-43d5-a5dd-f2a7b47fe25f  48a9f4a0-1157-48f8-94b2-f64461730009   \nf5153bc8-224f-4a8c-9987-6211fd73c120  48a9f4a0-1157-48f8-94b2-f64461730009   \n33a10ae8-721d-46c3-8e66-d278ce872cf7  48a9f4a0-1157-48f8-94b2-f64461730009   \n328020e8-4694-427e-b433-8367c7f1f14d  48a9f4a0-1157-48f8-94b2-f64461730009   \nc26f2937-1354-455d-949d-3a0a187e157b  48a9f4a0-1157-48f8-94b2-f64461730009   \n5d1ba8b7-a2f6-4ea8-ae43-fe228b4a5ab5  48a9f4a0-1157-48f8-94b2-f64461730009   \ne5abcf3b-73ee-4ade-8ce2-99115cb8e8d5  48a9f4a0-1157-48f8-94b2-f64461730009   \n2712f2e2-0810-4d4c-843a-0b388e56d83e  48a9f4a0-1157-48f8-94b2-f64461730009   \na57a309a-fba1-4613-b395-511df17d8cbe  48a9f4a0-1157-48f8-94b2-f64461730009   \n9a94af5c-11de-445c-a65f-fa5ea5b34a1c  2e6cefe7-a5c3-4c0b-a578-ef2fa298482f   \nbef4da00-cd24-4703-ad27-82963ae2cf87  6e260151-086b-40c2-83a5-d14ea8e006dd   \n13d41e1a-627b-46de-abea-d98a4e053892  6e260151-086b-40c2-83a5-d14ea8e006dd   \nff6c54fd-095e-462e-aba0-2e43842a7b10  6e260151-086b-40c2-83a5-d14ea8e006dd   \n15063656-315e-46fe-a193-eb8b364c725e  6e260151-086b-40c2-83a5-d14ea8e006dd   \n9d0d9b38-2f76-43a1-a67a-755155625b0b  40e0d08f-67e5-48ec-b828-9f921a4eee34   \naed4f503-92e3-4ddd-b0cf-ba8739f31ecb  ba6a675c-fad0-4236-993e-6451f7ef6f88   \n3b92a79c-61f1-4e01-887f-4d2d51b75307  cdd2a9b9-f204-42be-8b7c-0d6cdec34594   \n649e49a3-170b-43df-b8d6-698e1549edcb  cdd2a9b9-f204-42be-8b7c-0d6cdec34594   \ncbf37424-e9ee-4256-9616-bccb33877959  cdd2a9b9-f204-42be-8b7c-0d6cdec34594   \nb46237d4-fbe2-4be6-8efc-59785f708ba2  cdd2a9b9-f204-42be-8b7c-0d6cdec34594   \n8e9146d0-2104-4e1c-9c82-c13f75615ec8  3b92a79c-61f1-4e01-887f-4d2d51b75307   \nf59987d8-0e52-498f-a867-0c1d075fd79b  3b92a79c-61f1-4e01-887f-4d2d51b75307   \nbe309f24-a650-47f1-9fe1-4937b77b5db6  3b92a79c-61f1-4e01-887f-4d2d51b75307   \nfb71f7fb-461c-4fed-a153-8022feb7fbff  3b92a79c-61f1-4e01-887f-4d2d51b75307   \n792a321a-2b80-4967-b674-270c885ef050  3b92a79c-61f1-4e01-887f-4d2d51b75307   \n44400ec9-2a8e-4f3c-90c8-d59629c9537b  3b92a79c-61f1-4e01-887f-4d2d51b75307   \naabba2f5-b60e-4051-b012-b332dcef6bed  3b92a79c-61f1-4e01-887f-4d2d51b75307   \n7d1610e9-c044-4ce4-9e88-fa760853bfe8  3b92a79c-61f1-4e01-887f-4d2d51b75307   \ne7730ec9-3304-4af3-b978-d08aaff7858b  649e49a3-170b-43df-b8d6-698e1549edcb   \n4607a6a9-a74b-4b95-a1f7-17b04189120c  cbf37424-e9ee-4256-9616-bccb33877959   \n\n                                              use   ffl  number  \nee762902-113d-4762-9949-f2594f6a63cb          NaN   NaN     NaN  \n93747bdd-9c81-4332-bad6-20152101d4f4          NaN   NaN     NaN  \nbfb80bb9-08e8-4a9c-8892-df73e6561d32          NaN   NaN     NaN  \ncdd2a9b9-f204-42be-8b7c-0d6cdec34594          NaN   NaN     NaN  \n6072b243-6bba-4e67-96de-25119e17150f          NaN   NaN     NaN  \nc19933d4-eaa0-4398-882d-b8554d2963db      parking   NaN     NaN  \n79af032a-c245-41c9-a2d4-33bb3029346a        plant   NaN     NaN  \n4665be87-5447-4303-b333-724024f4a00a          NaN  -5.9    -2.0  \n20898dd5-2b80-47bc-b963-b0f546dc0e00          NaN  -2.8    -1.0  \n48a9f4a0-1157-48f8-94b2-f64461730009        hotel   NaN     NaN  \n2e6cefe7-a5c3-4c0b-a578-ef2fa298482f       retail   NaN     NaN  \n6e260151-086b-40c2-83a5-d14ea8e006dd  residential   NaN     NaN  \n40e0d08f-67e5-48ec-b828-9f921a4eee34       retail   NaN     NaN  \nba6a675c-fad0-4236-993e-6451f7ef6f88      parking   NaN     NaN  \ne805830b-9774-4519-aedc-fd03552308c2        cores   NaN     NaN  \nf9e3f130-41d5-41d4-b268-ce4de951c1ce          NaN   0.3     0.0  \ndfbaf91f-64cb-4218-b528-b8eb5e742cd4          NaN   5.3     1.0  \ne547ef7b-8f3c-4cf6-b877-0ae9b0e3ea97          NaN   8.4     2.0  \nd7871d3f-d8e7-458d-8e7e-d33157170daf          NaN  11.5     3.0  \n29d18596-9aa4-440a-b578-3b33c01caca0          NaN  14.6     4.0  \n13338cb2-ece4-43d5-a5dd-f2a7b47fe25f          NaN  17.7     5.0  \nf5153bc8-224f-4a8c-9987-6211fd73c120          NaN  20.8     6.0  \n33a10ae8-721d-46c3-8e66-d278ce872cf7          NaN  23.9     7.0  \n328020e8-4694-427e-b433-8367c7f1f14d          NaN  27.0     8.0  \nc26f2937-1354-455d-949d-3a0a187e157b          NaN  30.1     9.0  \n5d1ba8b7-a2f6-4ea8-ae43-fe228b4a5ab5          NaN  33.2    10.0  \ne5abcf3b-73ee-4ade-8ce2-99115cb8e8d5          NaN  36.3    11.0  \n2712f2e2-0810-4d4c-843a-0b388e56d83e          NaN  39.4    12.0  \na57a309a-fba1-4613-b395-511df17d8cbe          NaN  42.5    13.0  \n9a94af5c-11de-445c-a65f-fa5ea5b34a1c          NaN   0.3     0.0  \nbef4da00-cd24-4703-ad27-82963ae2cf87          NaN   0.3     0.0  \n13d41e1a-627b-46de-abea-d98a4e053892          NaN   5.3     1.0  \nff6c54fd-095e-462e-aba0-2e43842a7b10          NaN   8.4     2.0  \n15063656-315e-46fe-a193-eb8b364c725e          NaN  11.5     3.0  \n9d0d9b38-2f76-43a1-a67a-755155625b0b          NaN   0.3     0.0  \naed4f503-92e3-4ddd-b0cf-ba8739f31ecb          NaN   0.3     0.0  \n3b92a79c-61f1-4e01-887f-4d2d51b75307  residential   NaN     NaN  \n649e49a3-170b-43df-b8d6-698e1549edcb      parking   NaN     NaN  \ncbf37424-e9ee-4256-9616-bccb33877959       retail   NaN     NaN  \nb46237d4-fbe2-4be6-8efc-59785f708ba2        cores   NaN     NaN  \n8e9146d0-2104-4e1c-9c82-c13f75615ec8          NaN   0.3     0.0  \nf59987d8-0e52-498f-a867-0c1d075fd79b          NaN   5.3     1.0  \nbe309f24-a650-47f1-9fe1-4937b77b5db6          NaN   8.4     2.0  \nfb71f7fb-461c-4fed-a153-8022feb7fbff          NaN  11.5     3.0  \n792a321a-2b80-4967-b674-270c885ef050          NaN  14.6     4.0  \n44400ec9-2a8e-4f3c-90c8-d59629c9537b          NaN  17.7     5.0  \naabba2f5-b60e-4051-b012-b332dcef6bed          NaN  20.8     6.0  \n7d1610e9-c044-4ce4-9e88-fa760853bfe8          NaN   0.3     0.0  \ne7730ec9-3304-4af3-b978-d08aaff7858b          NaN   0.3     0.0  \n4607a6a9-a74b-4b95-a1f7-17b04189120c          NaN   0.3     0.0  ",
      "text/html": "<div>\n<style scoped>\n    .dataframe tbody tr th:only-of-type {\n        vertical-align: middle;\n    }\n\n    .dataframe tbody tr th {\n        vertical-align: top;\n    }\n\n    .dataframe thead th {\n        text-align: right;\n    }\n</style>\n<table border=\"1\" class=\"dataframe\">\n  <thead>\n    <tr style=\"text-align: right;\">\n      <th></th>\n      <th>name</th>\n      <th>type</th>\n      <th>gfa</th>\n      <th>subtotal_gfa</th>\n      <th>parent</th>\n      <th>use</th>\n      <th>ffl</th>\n      <th>number</th>\n    </tr>\n  </thead>\n  <tbody>\n    <tr>\n      <th>ee762902-113d-4762-9949-f2594f6a63cb</th>\n      <td>property</td>\n      <td>property</td>\n      <td>NaN</td>\n      <td>42786.259115</td>\n      <td>None</td>\n      <td>NaN</td>\n      <td>NaN</td>\n      <td>NaN</td>\n    </tr>\n    <tr>\n      <th>93747bdd-9c81-4332-bad6-20152101d4f4</th>\n      <td>plinth</td>\n      <td>building</td>\n      <td>NaN</td>\n      <td>12773.744211</td>\n      <td>ee762902-113d-4762-9949-f2594f6a63cb</td>\n      <td>NaN</td>\n      <td>NaN</td>\n      <td>NaN</td>\n    </tr>\n    <tr>\n      <th>bfb80bb9-08e8-4a9c-8892-df73e6561d32</th>\n      <td>buildingA</td>\n      <td>building</td>\n      <td>NaN</td>\n      <td>16575.630074</td>\n      <td>ee762902-113d-4762-9949-f2594f6a63cb</td>\n      <td>NaN</td>\n      <td>NaN</td>\n      <td>NaN</td>\n    </tr>\n    <tr>\n      <th>cdd2a9b9-f204-42be-8b7c-0d6cdec34594</th>\n      <td>buildingB</td>\n      <td>building</td>\n      <td>NaN</td>\n      <td>13436.884829</td>\n      <td>ee762902-113d-4762-9949-f2594f6a63cb</td>\n      <td>NaN</td>\n      <td>NaN</td>\n      <td>NaN</td>\n    </tr>\n    <tr>\n      <th>6072b243-6bba-4e67-96de-25119e17150f</th>\n      <td>utilities</td>\n      <td>utilities</td>\n      <td>NaN</td>\n      <td>0.000000</td>\n      <td>ee762902-113d-4762-9949-f2594f6a63cb</td>\n      <td>NaN</td>\n      <td>NaN</td>\n      <td>NaN</td>\n    </tr>\n    <tr>\n      <th>c19933d4-eaa0-4398-882d-b8554d2963db</th>\n      <td>plinthparking</td>\n      <td>space</td>\n      <td>NaN</td>\n      <td>12773.744211</td>\n      <td>93747bdd-9c81-4332-bad6-20152101d4f4</td>\n      <td>parking</td>\n      <td>NaN</td>\n      <td>NaN</td>\n    </tr>\n    <tr>\n      <th>79af032a-c245-41c9-a2d4-33bb3029346a</th>\n      <td>plinthplant</td>\n      <td>utilities</td>\n      <td>NaN</td>\n      <td>0.000000</td>\n      <td>93747bdd-9c81-4332-bad6-20152101d4f4</td>\n      <td>plant</td>\n      <td>NaN</td>\n      <td>NaN</td>\n    </tr>\n    <tr>\n      <th>4665be87-5447-4303-b333-724024f4a00a</th>\n      <td>plinthparkingFloor-2</td>\n      <td>floor</td>\n      <td>6386.872106</td>\n      <td>6386.872106</td>\n      <td>c19933d4-eaa0-4398-882d-b8554d2963db</td>\n      <td>NaN</td>\n      <td>-5.9</td>\n      <td>-2.0</td>\n    </tr>\n    <tr>\n      <th>20898dd5-2b80-47bc-b963-b0f546dc0e00</th>\n      <td>plinthparkingFloor-1</td>\n      <td>floor</td>\n      <td>6386.872106</td>\n      <td>6386.872106</td>\n      <td>c19933d4-eaa0-4398-882d-b8554d2963db</td>\n      <td>NaN</td>\n      <td>-2.8</td>\n      <td>-1.0</td>\n    </tr>\n    <tr>\n      <th>48a9f4a0-1157-48f8-94b2-f64461730009</th>\n      <td>buildingAhotel</td>\n      <td>space</td>\n      <td>NaN</td>\n      <td>11716.690054</td>\n      <td>bfb80bb9-08e8-4a9c-8892-df73e6561d32</td>\n      <td>hotel</td>\n      <td>NaN</td>\n      <td>NaN</td>\n    </tr>\n    <tr>\n      <th>2e6cefe7-a5c3-4c0b-a578-ef2fa298482f</th>\n      <td>buildingAretail</td>\n      <td>space</td>\n      <td>NaN</td>\n      <td>789.114895</td>\n      <td>bfb80bb9-08e8-4a9c-8892-df73e6561d32</td>\n      <td>retail</td>\n      <td>NaN</td>\n      <td>NaN</td>\n    </tr>\n    <tr>\n      <th>6e260151-086b-40c2-83a5-d14ea8e006dd</th>\n      <td>buildingAresidential</td>\n      <td>space</td>\n      <td>NaN</td>\n      <td>2308.322369</td>\n      <td>bfb80bb9-08e8-4a9c-8892-df73e6561d32</td>\n      <td>residential</td>\n      <td>NaN</td>\n      <td>NaN</td>\n    </tr>\n    <tr>\n      <th>40e0d08f-67e5-48ec-b828-9f921a4eee34</th>\n      <td>buildingAretail</td>\n      <td>space</td>\n      <td>NaN</td>\n      <td>722.715820</td>\n      <td>bfb80bb9-08e8-4a9c-8892-df73e6561d32</td>\n      <td>retail</td>\n      <td>NaN</td>\n      <td>NaN</td>\n    </tr>\n    <tr>\n      <th>ba6a675c-fad0-4236-993e-6451f7ef6f88</th>\n      <td>buildingAparking</td>\n      <td>space</td>\n      <td>NaN</td>\n      <td>1038.786936</td>\n      <td>bfb80bb9-08e8-4a9c-8892-df73e6561d32</td>\n      <td>parking</td>\n      <td>NaN</td>\n      <td>NaN</td>\n    </tr>\n    <tr>\n      <th>e805830b-9774-4519-aedc-fd03552308c2</th>\n      <td>buildingAcores</td>\n      <td>utilities</td>\n      <td>NaN</td>\n      <td>0.000000</td>\n      <td>bfb80bb9-08e8-4a9c-8892-df73e6561d32</td>\n      <td>cores</td>\n      <td>NaN</td>\n      <td>NaN</td>\n    </tr>\n    <tr>\n      <th>f9e3f130-41d5-41d4-b268-ce4de951c1ce</th>\n      <td>buildingAhotelFloor0</td>\n      <td>floor</td>\n      <td>111.690000</td>\n      <td>111.690000</td>\n      <td>48a9f4a0-1157-48f8-94b2-f64461730009</td>\n      <td>NaN</td>\n      <td>0.3</td>\n      <td>0.0</td>\n    </tr>\n    <tr>\n      <th>dfbaf91f-64cb-4218-b528-b8eb5e742cd4</th>\n      <td>buildingAhotelFloor1</td>\n      <td>floor</td>\n      <td>1697.451572</td>\n      <td>1697.451572</td>\n      <td>48a9f4a0-1157-48f8-94b2-f64461730009</td>\n      <td>NaN</td>\n      <td>5.3</td>\n      <td>1.0</td>\n    </tr>\n    <tr>\n      <th>e547ef7b-8f3c-4cf6-b877-0ae9b0e3ea97</th>\n      <td>buildingAhotelFloor2</td>\n      <td>floor</td>\n      <td>1270.128420</td>\n      <td>1270.128420</td>\n      <td>48a9f4a0-1157-48f8-94b2-f64461730009</td>\n      <td>NaN</td>\n      <td>8.4</td>\n      <td>2.0</td>\n    </tr>\n    <tr>\n      <th>d7871d3f-d8e7-458d-8e7e-d33157170daf</th>\n      <td>buildingAhotelFloor3</td>\n      <td>floor</td>\n      <td>1068.208325</td>\n      <td>1068.208325</td>\n      <td>48a9f4a0-1157-48f8-94b2-f64461730009</td>\n      <td>NaN</td>\n      <td>11.5</td>\n      <td>3.0</td>\n    </tr>\n    <tr>\n      <th>29d18596-9aa4-440a-b578-3b33c01caca0</th>\n      <td>buildingAhotelFloor4</td>\n      <td>floor</td>\n      <td>756.921174</td>\n      <td>756.921174</td>\n      <td>48a9f4a0-1157-48f8-94b2-f64461730009</td>\n      <td>NaN</td>\n      <td>14.6</td>\n      <td>4.0</td>\n    </tr>\n    <tr>\n      <th>13338cb2-ece4-43d5-a5dd-f2a7b47fe25f</th>\n      <td>buildingAhotelFloor5</td>\n      <td>floor</td>\n      <td>756.921174</td>\n      <td>756.921174</td>\n      <td>48a9f4a0-1157-48f8-94b2-f64461730009</td>\n      <td>NaN</td>\n      <td>17.7</td>\n      <td>5.0</td>\n    </tr>\n    <tr>\n      <th>f5153bc8-224f-4a8c-9987-6211fd73c120</th>\n      <td>buildingAhotelFloor6</td>\n      <td>floor</td>\n      <td>756.921174</td>\n      <td>756.921174</td>\n      <td>48a9f4a0-1157-48f8-94b2-f64461730009</td>\n      <td>NaN</td>\n      <td>20.8</td>\n      <td>6.0</td>\n    </tr>\n    <tr>\n      <th>33a10ae8-721d-46c3-8e66-d278ce872cf7</th>\n      <td>buildingAhotelFloor7</td>\n      <td>floor</td>\n      <td>756.921174</td>\n      <td>756.921174</td>\n      <td>48a9f4a0-1157-48f8-94b2-f64461730009</td>\n      <td>NaN</td>\n      <td>23.9</td>\n      <td>7.0</td>\n    </tr>\n    <tr>\n      <th>328020e8-4694-427e-b433-8367c7f1f14d</th>\n      <td>buildingAhotelFloor8</td>\n      <td>floor</td>\n      <td>756.921174</td>\n      <td>756.921174</td>\n      <td>48a9f4a0-1157-48f8-94b2-f64461730009</td>\n      <td>NaN</td>\n      <td>27.0</td>\n      <td>8.0</td>\n    </tr>\n    <tr>\n      <th>c26f2937-1354-455d-949d-3a0a187e157b</th>\n      <td>buildingAhotelFloor9</td>\n      <td>floor</td>\n      <td>756.921174</td>\n      <td>756.921174</td>\n      <td>48a9f4a0-1157-48f8-94b2-f64461730009</td>\n      <td>NaN</td>\n      <td>30.1</td>\n      <td>9.0</td>\n    </tr>\n    <tr>\n      <th>5d1ba8b7-a2f6-4ea8-ae43-fe228b4a5ab5</th>\n      <td>buildingAhotelFloor10</td>\n      <td>floor</td>\n      <td>756.921174</td>\n      <td>756.921174</td>\n      <td>48a9f4a0-1157-48f8-94b2-f64461730009</td>\n      <td>NaN</td>\n      <td>33.2</td>\n      <td>10.0</td>\n    </tr>\n    <tr>\n      <th>e5abcf3b-73ee-4ade-8ce2-99115cb8e8d5</th>\n      <td>buildingAhotelFloor11</td>\n      <td>floor</td>\n      <td>756.921174</td>\n      <td>756.921174</td>\n      <td>48a9f4a0-1157-48f8-94b2-f64461730009</td>\n      <td>NaN</td>\n      <td>36.3</td>\n      <td>11.0</td>\n    </tr>\n    <tr>\n      <th>2712f2e2-0810-4d4c-843a-0b388e56d83e</th>\n      <td>buildingAhotelFloor12</td>\n      <td>floor</td>\n      <td>756.921174</td>\n      <td>756.921174</td>\n      <td>48a9f4a0-1157-48f8-94b2-f64461730009</td>\n      <td>NaN</td>\n      <td>39.4</td>\n      <td>12.0</td>\n    </tr>\n    <tr>\n      <th>a57a309a-fba1-4613-b395-511df17d8cbe</th>\n      <td>buildingAhotelFloor13</td>\n      <td>floor</td>\n      <td>756.921174</td>\n      <td>756.921174</td>\n      <td>48a9f4a0-1157-48f8-94b2-f64461730009</td>\n      <td>NaN</td>\n      <td>42.5</td>\n      <td>13.0</td>\n    </tr>\n    <tr>\n      <th>9a94af5c-11de-445c-a65f-fa5ea5b34a1c</th>\n      <td>buildingAretailFloor0</td>\n      <td>floor</td>\n      <td>789.114895</td>\n      <td>789.114895</td>\n      <td>2e6cefe7-a5c3-4c0b-a578-ef2fa298482f</td>\n      <td>NaN</td>\n      <td>0.3</td>\n      <td>0.0</td>\n    </tr>\n    <tr>\n      <th>bef4da00-cd24-4703-ad27-82963ae2cf87</th>\n      <td>buildingAresidentialFloor0</td>\n      <td>floor</td>\n      <td>57.900000</td>\n      <td>57.900000</td>\n      <td>6e260151-086b-40c2-83a5-d14ea8e006dd</td>\n      <td>NaN</td>\n      <td>0.3</td>\n      <td>0.0</td>\n    </tr>\n    <tr>\n      <th>13d41e1a-627b-46de-abea-d98a4e053892</th>\n      <td>buildingAresidentialFloor1</td>\n      <td>floor</td>\n      <td>750.140790</td>\n      <td>750.140790</td>\n      <td>6e260151-086b-40c2-83a5-d14ea8e006dd</td>\n      <td>NaN</td>\n      <td>5.3</td>\n      <td>1.0</td>\n    </tr>\n    <tr>\n      <th>ff6c54fd-095e-462e-aba0-2e43842a7b10</th>\n      <td>buildingAresidentialFloor2</td>\n      <td>floor</td>\n      <td>750.140790</td>\n      <td>750.140790</td>\n      <td>6e260151-086b-40c2-83a5-d14ea8e006dd</td>\n      <td>NaN</td>\n      <td>8.4</td>\n      <td>2.0</td>\n    </tr>\n    <tr>\n      <th>15063656-315e-46fe-a193-eb8b364c725e</th>\n      <td>buildingAresidentialFloor3</td>\n      <td>floor</td>\n      <td>750.140790</td>\n      <td>750.140790</td>\n      <td>6e260151-086b-40c2-83a5-d14ea8e006dd</td>\n      <td>NaN</td>\n      <td>11.5</td>\n      <td>3.0</td>\n    </tr>\n    <tr>\n      <th>9d0d9b38-2f76-43a1-a67a-755155625b0b</th>\n      <td>buildingAretailFloor0</td>\n      <td>floor</td>\n      <td>722.715820</td>\n      <td>722.715820</td>\n      <td>40e0d08f-67e5-48ec-b828-9f921a4eee34</td>\n      <td>NaN</td>\n      <td>0.3</td>\n      <td>0.0</td>\n    </tr>\n    <tr>\n      <th>aed4f503-92e3-4ddd-b0cf-ba8739f31ecb</th>\n      <td>buildingAparkingFloor0</td>\n      <td>floor</td>\n      <td>1038.786936</td>\n      <td>1038.786936</td>\n      <td>ba6a675c-fad0-4236-993e-6451f7ef6f88</td>\n      <td>NaN</td>\n      <td>0.3</td>\n      <td>0.0</td>\n    </tr>\n    <tr>\n      <th>3b92a79c-61f1-4e01-887f-4d2d51b75307</th>\n      <td>buildingBresidential</td>\n      <td>space</td>\n      <td>NaN</td>\n      <td>11442.736624</td>\n      <td>cdd2a9b9-f204-42be-8b7c-0d6cdec34594</td>\n      <td>residential</td>\n      <td>NaN</td>\n      <td>NaN</td>\n    </tr>\n    <tr>\n      <th>649e49a3-170b-43df-b8d6-698e1549edcb</th>\n      <td>buildingBparking</td>\n      <td>space</td>\n      <td>NaN</td>\n      <td>1178.164752</td>\n      <td>cdd2a9b9-f204-42be-8b7c-0d6cdec34594</td>\n      <td>parking</td>\n      <td>NaN</td>\n      <td>NaN</td>\n    </tr>\n    <tr>\n      <th>cbf37424-e9ee-4256-9616-bccb33877959</th>\n      <td>buildingBretail</td>\n      <td>space</td>\n      <td>NaN</td>\n      <td>815.983454</td>\n      <td>cdd2a9b9-f204-42be-8b7c-0d6cdec34594</td>\n      <td>retail</td>\n      <td>NaN</td>\n      <td>NaN</td>\n    </tr>\n    <tr>\n      <th>b46237d4-fbe2-4be6-8efc-59785f708ba2</th>\n      <td>buildingBcores</td>\n      <td>utilities</td>\n      <td>NaN</td>\n      <td>0.000000</td>\n      <td>cdd2a9b9-f204-42be-8b7c-0d6cdec34594</td>\n      <td>cores</td>\n      <td>NaN</td>\n      <td>NaN</td>\n    </tr>\n    <tr>\n      <th>8e9146d0-2104-4e1c-9c82-c13f75615ec8</th>\n      <td>buildingBresidentialFloor0</td>\n      <td>floor</td>\n      <td>765.941631</td>\n      <td>765.941631</td>\n      <td>3b92a79c-61f1-4e01-887f-4d2d51b75307</td>\n      <td>NaN</td>\n      <td>0.3</td>\n      <td>0.0</td>\n    </tr>\n    <tr>\n      <th>f59987d8-0e52-498f-a867-0c1d075fd79b</th>\n      <td>buildingBresidentialFloor1</td>\n      <td>floor</td>\n      <td>2361.056035</td>\n      <td>2361.056035</td>\n      <td>3b92a79c-61f1-4e01-887f-4d2d51b75307</td>\n      <td>NaN</td>\n      <td>5.3</td>\n      <td>1.0</td>\n    </tr>\n    <tr>\n      <th>be309f24-a650-47f1-9fe1-4937b77b5db6</th>\n      <td>buildingBresidentialFloor2</td>\n      <td>floor</td>\n      <td>2361.056035</td>\n      <td>2361.056035</td>\n      <td>3b92a79c-61f1-4e01-887f-4d2d51b75307</td>\n      <td>NaN</td>\n      <td>8.4</td>\n      <td>2.0</td>\n    </tr>\n    <tr>\n      <th>fb71f7fb-461c-4fed-a153-8022feb7fbff</th>\n      <td>buildingBresidentialFloor3</td>\n      <td>floor</td>\n      <td>2015.956035</td>\n      <td>2015.956035</td>\n      <td>3b92a79c-61f1-4e01-887f-4d2d51b75307</td>\n      <td>NaN</td>\n      <td>11.5</td>\n      <td>3.0</td>\n    </tr>\n    <tr>\n      <th>792a321a-2b80-4967-b674-270c885ef050</th>\n      <td>buildingBresidentialFloor4</td>\n      <td>floor</td>\n      <td>2015.956035</td>\n      <td>2015.956035</td>\n      <td>3b92a79c-61f1-4e01-887f-4d2d51b75307</td>\n      <td>NaN</td>\n      <td>14.6</td>\n      <td>4.0</td>\n    </tr>\n    <tr>\n      <th>44400ec9-2a8e-4f3c-90c8-d59629c9537b</th>\n      <td>buildingBresidentialFloor5</td>\n      <td>floor</td>\n      <td>875.014900</td>\n      <td>875.014900</td>\n      <td>3b92a79c-61f1-4e01-887f-4d2d51b75307</td>\n      <td>NaN</td>\n      <td>17.7</td>\n      <td>5.0</td>\n    </tr>\n    <tr>\n      <th>aabba2f5-b60e-4051-b012-b332dcef6bed</th>\n      <td>buildingBresidentialFloor6</td>\n      <td>floor</td>\n      <td>875.014900</td>\n      <td>875.014900</td>\n      <td>3b92a79c-61f1-4e01-887f-4d2d51b75307</td>\n      <td>NaN</td>\n      <td>20.8</td>\n      <td>6.0</td>\n    </tr>\n    <tr>\n      <th>7d1610e9-c044-4ce4-9e88-fa760853bfe8</th>\n      <td>buildingBresidentialFloor0</td>\n      <td>floor</td>\n      <td>172.741054</td>\n      <td>172.741054</td>\n      <td>3b92a79c-61f1-4e01-887f-4d2d51b75307</td>\n      <td>NaN</td>\n      <td>0.3</td>\n      <td>0.0</td>\n    </tr>\n    <tr>\n      <th>e7730ec9-3304-4af3-b978-d08aaff7858b</th>\n      <td>buildingBparkingFloor0</td>\n      <td>floor</td>\n      <td>1178.164752</td>\n      <td>1178.164752</td>\n      <td>649e49a3-170b-43df-b8d6-698e1549edcb</td>\n      <td>NaN</td>\n      <td>0.3</td>\n      <td>0.0</td>\n    </tr>\n    <tr>\n      <th>4607a6a9-a74b-4b95-a1f7-17b04189120c</th>\n      <td>buildingBretailFloor0</td>\n      <td>floor</td>\n      <td>815.983454</td>\n      <td>815.983454</td>\n      <td>cbf37424-e9ee-4256-9616-bccb33877959</td>\n      <td>NaN</td>\n      <td>0.3</td>\n      <td>0.0</td>\n    </tr>\n  </tbody>\n</table>\n</div>"
     },
     "execution_count": 9,
     "metadata": {},
     "output_type": "execute_result"
    }
   ],
   "source": [
    "df = spatial_containment.to_DataFrame()\n",
    "df = df[['name', 'type', 'gfa', 'subtotal_gfa', 'parent', 'use', 'ffl', 'number']]\n",
    "df"
   ]
  },
  {
   "cell_type": "markdown",
   "metadata": {
    "collapsed": false
   },
   "source": [
    "We can also plot this as a hierarchical pie chart (a.k.a. 'sunburst' chart), or\n",
    "a treemap:"
   ]
  },
  {
   "cell_type": "code",
   "execution_count": 10,
   "metadata": {
    "collapsed": false,
    "ExecuteTime": {
     "end_time": "2024-03-14T12:20:30.209049Z",
     "start_time": "2024-03-14T12:20:29.744448Z"
    }
   },
   "outputs": [
    {
     "data": {
      "text/plain": "<IPython.lib.display.IFrame at 0x2f3c17410>",
      "text/html": "\n        <iframe\n            width=\"100%\"\n            height=\"1600\"\n            src=\"./spatial_containment_chart.html\"\n            frameborder=\"0\"\n            allowfullscreen\n            \n        ></iframe>\n        "
     },
     "execution_count": 10,
     "metadata": {},
     "output_type": "execute_result"
    }
   ],
   "source": [
    "sunburst = spatial_containment.sunburst(property='subtotal_gfa')\n",
    "treemap = spatial_containment.treemap(property='subtotal_gfa')\n",
    "fig = plotly.subplots.make_subplots(\n",
    "    rows=2, cols=1,\n",
    "    specs=[[{\"type\": \"sunburst\"}], [{\"type\": \"treemap\"}]],\n",
    "    subplot_titles=('Gross Floor Area - Sunburst Plot', 'Gross Floor Area - Treemap Plot'))\n",
    "fig.append_trace(sunburst, row=1, col=1)\n",
    "fig.append_trace(treemap, row=2, col=1)\n",
    "filename='spatial_containment_chart.html'\n",
    "\n",
    "py.plot(fig, filename=f'assets/{filename}', auto_open=False)\n",
    "IFrame(src=f'./{filename}', width='100%', height=800 * len(fig.data))"
   ]
  },
  {
   "cell_type": "markdown",
   "metadata": {
    "collapsed": false
   },
   "source": [
    "#### Aggregating a (Financial) Calculation\n",
    "A more complex aggregation involves collecting specific cash `Flow`s into\n",
    "`Stream`s per `Entity`/`Assembly`; for instance, we may want to aggregate all\n",
    "revenues generated by lettable floorspace into their respective parent `Entity`s,\n",
    "in order to analyse or compare the performance of the design at different\n",
    "resolutions."
   ]
  },
  {
   "cell_type": "markdown",
   "metadata": {
    "collapsed": false
   },
   "source": [
    "We start by identifying which `Entity`s are 'floor' types and have an area\n",
    "measurement:"
   ]
  },
  {
   "cell_type": "code",
   "execution_count": 11,
   "metadata": {
    "collapsed": false,
    "ExecuteTime": {
     "end_time": "2024-03-14T12:20:30.213732Z",
     "start_time": "2024-03-14T12:20:30.211217Z"
    }
   },
   "outputs": [],
   "source": [
    "floors = property.filter_by_type(entity_type='floor')\n",
    "floors = [floor for floor in floors.get_entities().values() if hasattr(floor, 'gfa')]"
   ]
  },
  {
   "cell_type": "markdown",
   "metadata": {
    "collapsed": false
   },
   "source": [
    "For each floor we can project a set of simple cash flows, in a similar manner\n",
    "to [A Basic DCF Valuation](basic_dcf.ipynb)."
   ]
  },
  {
   "cell_type": "markdown",
   "metadata": {
    "collapsed": false
   },
   "source": [
    "First initialize our locale, and a set of parameters, including some around\n",
    "area efficiency ratios, initial incomes per area, and growth rates:"
   ]
  },
  {
   "cell_type": "code",
   "execution_count": 12,
   "metadata": {
    "collapsed": false,
    "ExecuteTime": {
     "end_time": "2024-03-14T12:20:30.245462Z",
     "start_time": "2024-03-14T12:20:30.214402Z"
    }
   },
   "outputs": [],
   "source": [
    "locale.setlocale(locale.LC_ALL, 'en_au')\n",
    "units = rk.measure.Index.registry\n",
    "currency = rk.measure.register_currency(registry=units)\n",
    "frequency = rk.duration.Type.YEAR"
   ]
  },
  {
   "cell_type": "code",
   "execution_count": 13,
   "metadata": {
    "collapsed": false,
    "ExecuteTime": {
     "end_time": "2024-03-14T12:20:30.248724Z",
     "start_time": "2024-03-14T12:20:30.246491Z"
    }
   },
   "outputs": [],
   "source": [
    "efficiency_ratios = dict(\n",
    "    hotel=0.8,\n",
    "    retail=0.675,\n",
    "    residential=0.75,\n",
    "    parking=0.9\n",
    "    )\n",
    "initial_income_per_area_pa = dict(\n",
    "    hotel=750,\n",
    "    retail=1000,\n",
    "    residential=600,\n",
    "    parking=0\n",
    "    )\n",
    "pgi_growth_rates = dict(\n",
    "    hotel=.035,\n",
    "    retail=.075,\n",
    "    residential=.055,\n",
    "    parking=0\n",
    "    )\n",
    "vacancy_rates = dict(\n",
    "    hotel=.025,\n",
    "    retail=.075,\n",
    "    residential=.015,\n",
    "    parking=0,\n",
    "    )"
   ]
  },
  {
   "cell_type": "code",
   "execution_count": 14,
   "outputs": [
    {
     "data": {
      "text/plain": "             efficiency_ratio  initial_income_per_area_pa  pgi_growth_rate  \\\nhotel                   0.800                         750            0.035   \nretail                  0.675                        1000            0.075   \nresidential             0.750                         600            0.055   \nparking                 0.900                           0            0.000   \n\n             vacancy_rate  \nhotel               0.025  \nretail              0.075  \nresidential         0.015  \nparking             0.000  ",
      "text/html": "<div>\n<style scoped>\n    .dataframe tbody tr th:only-of-type {\n        vertical-align: middle;\n    }\n\n    .dataframe tbody tr th {\n        vertical-align: top;\n    }\n\n    .dataframe thead th {\n        text-align: right;\n    }\n</style>\n<table border=\"1\" class=\"dataframe\">\n  <thead>\n    <tr style=\"text-align: right;\">\n      <th></th>\n      <th>efficiency_ratio</th>\n      <th>initial_income_per_area_pa</th>\n      <th>pgi_growth_rate</th>\n      <th>vacancy_rate</th>\n    </tr>\n  </thead>\n  <tbody>\n    <tr>\n      <th>hotel</th>\n      <td>0.800</td>\n      <td>750</td>\n      <td>0.035</td>\n      <td>0.025</td>\n    </tr>\n    <tr>\n      <th>retail</th>\n      <td>0.675</td>\n      <td>1000</td>\n      <td>0.075</td>\n      <td>0.075</td>\n    </tr>\n    <tr>\n      <th>residential</th>\n      <td>0.750</td>\n      <td>600</td>\n      <td>0.055</td>\n      <td>0.015</td>\n    </tr>\n    <tr>\n      <th>parking</th>\n      <td>0.900</td>\n      <td>0</td>\n      <td>0.000</td>\n      <td>0.000</td>\n    </tr>\n  </tbody>\n</table>\n</div>"
     },
     "execution_count": 14,
     "metadata": {},
     "output_type": "execute_result"
    }
   ],
   "source": [
    "revenue_inputs = pd.DataFrame(\n",
    "    data=dict(\n",
    "        efficiency_ratio=efficiency_ratios,\n",
    "        initial_income_per_area_pa=initial_income_per_area_pa,\n",
    "        pgi_growth_rate=pgi_growth_rates,\n",
    "        vacancy_rate=vacancy_rates,\n",
    "        ))\n",
    "revenue_inputs"
   ],
   "metadata": {
    "collapsed": false,
    "ExecuteTime": {
     "end_time": "2024-03-14T12:20:30.253517Z",
     "start_time": "2024-03-14T12:20:30.249449Z"
    }
   }
  },
  {
   "cell_type": "code",
   "execution_count": 15,
   "metadata": {
    "collapsed": false,
    "ExecuteTime": {
     "end_time": "2024-03-14T12:20:30.255683Z",
     "start_time": "2024-03-14T12:20:30.254167Z"
    }
   },
   "outputs": [],
   "source": [
    "params = dict(\n",
    "    start_date=pd.Timestamp('2001-01-01'),\n",
    "    num_periods=10,\n",
    "    frequency=rk.duration.Type.YEAR\n",
    "    )"
   ]
  },
  {
   "cell_type": "markdown",
   "metadata": {
    "collapsed": false
   },
   "source": [
    "##### `Stream`s of Revenue `Flow`s per `Entity`:\n",
    "We can now construct a set of cash flows per `Entity` in our design for our\n",
    "asset. We will use a similar structure to the previous notebooks."
   ]
  },
  {
   "cell_type": "markdown",
   "source": [
    "First we will define a general 'Spans' class that defines the time periods. This\n",
    "can be used by any subsequent calculations:"
   ],
   "metadata": {
    "collapsed": false
   }
  },
  {
   "cell_type": "code",
   "execution_count": 16,
   "outputs": [],
   "source": [
    "class Spans:\n",
    "    def __init__(self, params: dict):\n",
    "        self.params = params\n",
    "        self.calc_span = rk.span.Span.from_duration(\n",
    "            name='Span to Calculate Reversion',\n",
    "            date=self.params['start_date'],\n",
    "            duration=self.params['frequency'],\n",
    "            amount=self.params['num_periods'] + 1)\n",
    "        self.acq_span = rk.span.Span.from_duration(\n",
    "            name='Acquisition Span',\n",
    "            date=rk.duration.offset(\n",
    "                self.params['start_date'],\n",
    "                amount=-1,\n",
    "                duration=self.params['frequency']),\n",
    "            duration=self.params['frequency'])\n",
    "        self.span = self.calc_span.shift(\n",
    "            name='Span',\n",
    "            amount=-1,\n",
    "            duration=self.params['frequency'])"
   ],
   "metadata": {
    "collapsed": false,
    "ExecuteTime": {
     "end_time": "2024-03-14T12:20:30.258592Z",
     "start_time": "2024-03-14T12:20:30.256246Z"
    }
   }
  },
  {
   "cell_type": "markdown",
   "metadata": {
    "collapsed": false
   },
   "source": [
    "Then, we will define a `Revenues` class that holds the parameters:"
   ]
  },
  {
   "cell_type": "code",
   "execution_count": 17,
   "metadata": {
    "collapsed": false,
    "ExecuteTime": {
     "end_time": "2024-03-14T12:20:30.260858Z",
     "start_time": "2024-03-14T12:20:30.259224Z"
    }
   },
   "outputs": [],
   "source": [
    "class Revenues:\n",
    "    def __init__(\n",
    "            self,\n",
    "            params: dict,\n",
    "            spans: Spans):\n",
    "        self.params = params\n",
    "        self.spans = spans"
   ]
  },
  {
   "cell_type": "markdown",
   "metadata": {
    "collapsed": false
   },
   "source": [
    "And then we add Revenue `Flow`s:"
   ]
  },
  {
   "cell_type": "code",
   "execution_count": 18,
   "metadata": {
    "collapsed": false,
    "ExecuteTime": {
     "end_time": "2024-03-14T12:20:30.263875Z",
     "start_time": "2024-03-14T12:20:30.261566Z"
    }
   },
   "outputs": [],
   "source": [
    "@rk.update_class(Revenues)\n",
    "class Revenues:\n",
    "    def generate(self):\n",
    "        self.pgi = rk.flux.Flow.from_projection(\n",
    "            name='Potential Gross Income',\n",
    "            value=self.params['initial_income'],\n",
    "            proj=rk.projection.Extrapolation(\n",
    "            form=rk.extrapolation.Compounding(\n",
    "                rate=self.params['pgi_growth_rate']),\n",
    "            sequence=self.spans.calc_span.to_sequence(frequency=self.params['frequency'])),\n",
    "            units=currency.units)\n",
    "        self.vacancy = rk.flux.Flow(\n",
    "            name='Vacancy Allowance',\n",
    "            movements=self.pgi.movements * -self.params['vacancy_rate'],\n",
    "            units=currency.units)\n",
    "        self.egi = rk.flux.Stream(\n",
    "            name='Effective Gross Income',\n",
    "            flows=[self.pgi, self.vacancy],\n",
    "            frequency=self.params['frequency'])"
   ]
  },
  {
   "cell_type": "markdown",
   "metadata": {
    "collapsed": false
   },
   "source": [
    "Now we need to add `Entity`-specific parameters to the parameters dictionary,\n",
    "and run  the `init_spans()` and `init_flows()` methods per floor `Entity`:\n",
    "\n",
    "(Note we place the resultant `Stream` in the `events` attribute of the `Entity`)"
   ]
  },
  {
   "cell_type": "code",
   "execution_count": 19,
   "outputs": [],
   "source": [
    "spans = Spans(params)"
   ],
   "metadata": {
    "collapsed": false,
    "ExecuteTime": {
     "end_time": "2024-03-14T12:20:30.266469Z",
     "start_time": "2024-03-14T12:20:30.264635Z"
    }
   }
  },
  {
   "cell_type": "code",
   "execution_count": 20,
   "metadata": {
    "collapsed": false,
    "ExecuteTime": {
     "end_time": "2024-03-14T12:20:30.345361Z",
     "start_time": "2024-03-14T12:20:30.267316Z"
    }
   },
   "outputs": [],
   "source": [
    "for floor in floors:\n",
    "    parent = floor.get_relatives(\n",
    "        relationship_type='spatiallyContains',\n",
    "        outgoing=False,\n",
    "        assembly=spatial_containment)[0]\n",
    "    floor['use'] = parent['use']\n",
    "\n",
    "    floor.params = params.copy()\n",
    "    floor.params['initial_income'] = initial_income_per_area_pa[floor['use']] * floor['gfa'] * efficiency_ratios[floor['use']]\n",
    "    floor.params['pgi_growth_rate'] = pgi_growth_rates[floor['use']]\n",
    "    floor.params['vacancy_rate'] = vacancy_rates[floor['use']]\n",
    "\n",
    "    revenues = Revenues(floor.params, spans)\n",
    "    revenues.generate()\n",
    "    floor['pgi'] = revenues.pgi\n",
    "    floor['vacancy'] = revenues.vacancy\n",
    "    floor['egi'] = revenues.egi"
   ]
  },
  {
   "cell_type": "markdown",
   "metadata": {
    "collapsed": false
   },
   "source": [
    "##### Aggregating by Parent Container\n",
    "Since we have the \"containment\" hierarchy, we can aggregate the `Revenues` per\n",
    "parent `Entity`:"
   ]
  },
  {
   "cell_type": "markdown",
   "metadata": {
    "collapsed": false
   },
   "source": [
    "*Rangekeeper* provides some helper methods to assist in the aggregation of\n",
    "`Stream`s and `Flow`s; specifically, since the `Entity.aggregate()` method\n",
    "updates a specified `Entity`'s property with a dictionary of subentity\n",
    "properties, keyed by their respective `entityId`s, we can use the\n",
    "`aggregate_flows()` function to support the collation of child `Entity`\n",
    "`Flow`s into a single `Stream` in a new property label in the `Entity`"
   ]
  },
  {
   "cell_type": "code",
   "execution_count": 21,
   "metadata": {
    "collapsed": false,
    "ExecuteTime": {
     "end_time": "2024-03-14T12:20:30.349297Z",
     "start_time": "2024-03-14T12:20:30.346554Z"
    }
   },
   "outputs": [],
   "source": [
    "def aggregate_egis(**kwargs):\n",
    "    return rk.graph.Entity.aggregate_flows(\n",
    "        **kwargs,\n",
    "        name='Effective Gross Income',\n",
    "        frequency=frequency)"
   ]
  },
  {
   "cell_type": "markdown",
   "metadata": {
    "collapsed": false
   },
   "source": [
    "This function is passed into the `Entity.aggregate()` method as the `function`\n",
    "parameter:"
   ]
  },
  {
   "cell_type": "code",
   "execution_count": 22,
   "metadata": {
    "collapsed": false,
    "ExecuteTime": {
     "end_time": "2024-03-14T12:20:30.636111Z",
     "start_time": "2024-03-14T12:20:30.350140Z"
    }
   },
   "outputs": [],
   "source": [
    "property.aggregate(\n",
    "    function=aggregate_egis,\n",
    "    property='egi',\n",
    "    label='subtotal_egi',\n",
    "    relationship_type='spatiallyContains')"
   ]
  },
  {
   "cell_type": "markdown",
   "source": [
    "Now we can look at what the `aggregate` method has produced for a single floor:"
   ],
   "metadata": {
    "collapsed": false
   }
  },
  {
   "cell_type": "code",
   "execution_count": 23,
   "outputs": [
    {
     "data": {
      "text/plain": "'Effective Gross Income'"
     },
     "execution_count": 23,
     "metadata": {},
     "output_type": "execute_result"
    }
   ],
   "source": [
    "floors[1]['egi'].name"
   ],
   "metadata": {
    "collapsed": false,
    "ExecuteTime": {
     "end_time": "2024-03-14T12:20:30.639295Z",
     "start_time": "2024-03-14T12:20:30.636716Z"
    }
   }
  },
  {
   "cell_type": "markdown",
   "metadata": {
    "collapsed": false
   },
   "source": [
    "We can then inspect the `aggregate_egi` property of an `Entity`, which holds a\n",
    "`Stream` of `Flow`s (each coming from a child of that `Entity`). Let's use the\n",
    "hotel compartment in Building A:"
   ]
  },
  {
   "cell_type": "code",
   "execution_count": 24,
   "metadata": {
    "collapsed": false,
    "ExecuteTime": {
     "end_time": "2024-03-14T12:20:30.660499Z",
     "start_time": "2024-03-14T12:20:30.639969Z"
    }
   },
   "outputs": [
    {
     "name": "stdout",
     "output_type": "stream",
     "text": [
      "buildingAhotel\n"
     ]
    },
    {
     "data": {
      "text/plain": "<rangekeeper.flux.Stream at 0x2f2a47010>",
      "text/html": "<table>\n<thead>\n<tr><th style=\"text-align: right;\">  date</th><th style=\"text-align: right;\">  Effective Gross Income for f9e3f130-41d5-41d4-b268-ce4de951c1ce [buildingAhotelFloor0]</th><th style=\"text-align: right;\">  Effective Gross Income for dfbaf91f-64cb-4218-b528-b8eb5e742cd4 [buildingAhotelFloor1]</th><th style=\"text-align: right;\">  Effective Gross Income for e547ef7b-8f3c-4cf6-b877-0ae9b0e3ea97 [buildingAhotelFloor2]</th><th style=\"text-align: right;\">  Effective Gross Income for d7871d3f-d8e7-458d-8e7e-d33157170daf [buildingAhotelFloor3]</th><th style=\"text-align: right;\">  Effective Gross Income for 29d18596-9aa4-440a-b578-3b33c01caca0 [buildingAhotelFloor4]</th><th style=\"text-align: right;\">  Effective Gross Income for 13338cb2-ece4-43d5-a5dd-f2a7b47fe25f [buildingAhotelFloor5]</th><th style=\"text-align: right;\">  Effective Gross Income for f5153bc8-224f-4a8c-9987-6211fd73c120 [buildingAhotelFloor6]</th><th style=\"text-align: right;\">  Effective Gross Income for 33a10ae8-721d-46c3-8e66-d278ce872cf7 [buildingAhotelFloor7]</th><th style=\"text-align: right;\">  Effective Gross Income for 328020e8-4694-427e-b433-8367c7f1f14d [buildingAhotelFloor8]</th><th style=\"text-align: right;\">  Effective Gross Income for c26f2937-1354-455d-949d-3a0a187e157b [buildingAhotelFloor9]</th><th style=\"text-align: right;\">  Effective Gross Income for 5d1ba8b7-a2f6-4ea8-ae43-fe228b4a5ab5 [buildingAhotelFloor10]</th><th style=\"text-align: right;\">  Effective Gross Income for e5abcf3b-73ee-4ade-8ce2-99115cb8e8d5 [buildingAhotelFloor11]</th><th style=\"text-align: right;\">  Effective Gross Income for 2712f2e2-0810-4d4c-843a-0b388e56d83e [buildingAhotelFloor12]</th><th style=\"text-align: right;\">  Effective Gross Income for a57a309a-fba1-4613-b395-511df17d8cbe [buildingAhotelFloor13]</th></tr>\n</thead>\n<tbody>\n<tr><td style=\"text-align: right;\">  2001</td><td style=\"text-align: right;\">                                                                              $65,338.65</td><td style=\"text-align: right;\">                                                                             $993,009.17</td><td style=\"text-align: right;\">                                                                             $743,025.13</td><td style=\"text-align: right;\">                                                                             $624,901.87</td><td style=\"text-align: right;\">                                                                             $442,798.89</td><td style=\"text-align: right;\">                                                                             $442,798.89</td><td style=\"text-align: right;\">                                                                             $442,798.89</td><td style=\"text-align: right;\">                                                                             $442,798.89</td><td style=\"text-align: right;\">                                                                             $442,798.89</td><td style=\"text-align: right;\">                                                                             $442,798.89</td><td style=\"text-align: right;\">                                                                              $442,798.89</td><td style=\"text-align: right;\">                                                                              $442,798.89</td><td style=\"text-align: right;\">                                                                              $442,798.89</td><td style=\"text-align: right;\">                                                                              $442,798.89</td></tr>\n<tr><td style=\"text-align: right;\">  2002</td><td style=\"text-align: right;\">                                                                              $67,625.50</td><td style=\"text-align: right;\">                                                                           $1,027,764.49</td><td style=\"text-align: right;\">                                                                             $769,031.00</td><td style=\"text-align: right;\">                                                                             $646,773.44</td><td style=\"text-align: right;\">                                                                             $458,296.85</td><td style=\"text-align: right;\">                                                                             $458,296.85</td><td style=\"text-align: right;\">                                                                             $458,296.85</td><td style=\"text-align: right;\">                                                                             $458,296.85</td><td style=\"text-align: right;\">                                                                             $458,296.85</td><td style=\"text-align: right;\">                                                                             $458,296.85</td><td style=\"text-align: right;\">                                                                              $458,296.85</td><td style=\"text-align: right;\">                                                                              $458,296.85</td><td style=\"text-align: right;\">                                                                              $458,296.85</td><td style=\"text-align: right;\">                                                                              $458,296.85</td></tr>\n<tr><td style=\"text-align: right;\">  2003</td><td style=\"text-align: right;\">                                                                              $69,992.40</td><td style=\"text-align: right;\">                                                                           $1,063,736.25</td><td style=\"text-align: right;\">                                                                             $795,947.09</td><td style=\"text-align: right;\">                                                                             $669,410.51</td><td style=\"text-align: right;\">                                                                             $474,337.24</td><td style=\"text-align: right;\">                                                                             $474,337.24</td><td style=\"text-align: right;\">                                                                             $474,337.24</td><td style=\"text-align: right;\">                                                                             $474,337.24</td><td style=\"text-align: right;\">                                                                             $474,337.24</td><td style=\"text-align: right;\">                                                                             $474,337.24</td><td style=\"text-align: right;\">                                                                              $474,337.24</td><td style=\"text-align: right;\">                                                                              $474,337.24</td><td style=\"text-align: right;\">                                                                              $474,337.24</td><td style=\"text-align: right;\">                                                                              $474,337.24</td></tr>\n<tr><td style=\"text-align: right;\">  2004</td><td style=\"text-align: right;\">                                                                              $72,442.13</td><td style=\"text-align: right;\">                                                                           $1,100,967.02</td><td style=\"text-align: right;\">                                                                             $823,805.24</td><td style=\"text-align: right;\">                                                                             $692,839.87</td><td style=\"text-align: right;\">                                                                             $490,939.04</td><td style=\"text-align: right;\">                                                                             $490,939.04</td><td style=\"text-align: right;\">                                                                             $490,939.04</td><td style=\"text-align: right;\">                                                                             $490,939.04</td><td style=\"text-align: right;\">                                                                             $490,939.04</td><td style=\"text-align: right;\">                                                                             $490,939.04</td><td style=\"text-align: right;\">                                                                              $490,939.04</td><td style=\"text-align: right;\">                                                                              $490,939.04</td><td style=\"text-align: right;\">                                                                              $490,939.04</td><td style=\"text-align: right;\">                                                                              $490,939.04</td></tr>\n<tr><td style=\"text-align: right;\">  2005</td><td style=\"text-align: right;\">                                                                              $74,977.60</td><td style=\"text-align: right;\">                                                                           $1,139,500.86</td><td style=\"text-align: right;\">                                                                             $852,638.42</td><td style=\"text-align: right;\">                                                                             $717,089.27</td><td style=\"text-align: right;\">                                                                             $508,121.91</td><td style=\"text-align: right;\">                                                                             $508,121.91</td><td style=\"text-align: right;\">                                                                             $508,121.91</td><td style=\"text-align: right;\">                                                                             $508,121.91</td><td style=\"text-align: right;\">                                                                             $508,121.91</td><td style=\"text-align: right;\">                                                                             $508,121.91</td><td style=\"text-align: right;\">                                                                              $508,121.91</td><td style=\"text-align: right;\">                                                                              $508,121.91</td><td style=\"text-align: right;\">                                                                              $508,121.91</td><td style=\"text-align: right;\">                                                                              $508,121.91</td></tr>\n<tr><td style=\"text-align: right;\">  2006</td><td style=\"text-align: right;\">                                                                              $77,601.82</td><td style=\"text-align: right;\">                                                                           $1,179,383.39</td><td style=\"text-align: right;\">                                                                             $882,480.77</td><td style=\"text-align: right;\">                                                                             $742,187.39</td><td style=\"text-align: right;\">                                                                             $525,906.17</td><td style=\"text-align: right;\">                                                                             $525,906.17</td><td style=\"text-align: right;\">                                                                             $525,906.17</td><td style=\"text-align: right;\">                                                                             $525,906.17</td><td style=\"text-align: right;\">                                                                             $525,906.17</td><td style=\"text-align: right;\">                                                                             $525,906.17</td><td style=\"text-align: right;\">                                                                              $525,906.17</td><td style=\"text-align: right;\">                                                                              $525,906.17</td><td style=\"text-align: right;\">                                                                              $525,906.17</td><td style=\"text-align: right;\">                                                                              $525,906.17</td></tr>\n<tr><td style=\"text-align: right;\">  2007</td><td style=\"text-align: right;\">                                                                              $80,317.88</td><td style=\"text-align: right;\">                                                                           $1,220,661.81</td><td style=\"text-align: right;\">                                                                             $913,367.59</td><td style=\"text-align: right;\">                                                                             $768,163.95</td><td style=\"text-align: right;\">                                                                             $544,312.89</td><td style=\"text-align: right;\">                                                                             $544,312.89</td><td style=\"text-align: right;\">                                                                             $544,312.89</td><td style=\"text-align: right;\">                                                                             $544,312.89</td><td style=\"text-align: right;\">                                                                             $544,312.89</td><td style=\"text-align: right;\">                                                                             $544,312.89</td><td style=\"text-align: right;\">                                                                              $544,312.89</td><td style=\"text-align: right;\">                                                                              $544,312.89</td><td style=\"text-align: right;\">                                                                              $544,312.89</td><td style=\"text-align: right;\">                                                                              $544,312.89</td></tr>\n<tr><td style=\"text-align: right;\">  2008</td><td style=\"text-align: right;\">                                                                              $83,129.01</td><td style=\"text-align: right;\">                                                                           $1,263,384.97</td><td style=\"text-align: right;\">                                                                             $945,335.46</td><td style=\"text-align: right;\">                                                                             $795,049.69</td><td style=\"text-align: right;\">                                                                             $563,363.84</td><td style=\"text-align: right;\">                                                                             $563,363.84</td><td style=\"text-align: right;\">                                                                             $563,363.84</td><td style=\"text-align: right;\">                                                                             $563,363.84</td><td style=\"text-align: right;\">                                                                             $563,363.84</td><td style=\"text-align: right;\">                                                                             $563,363.84</td><td style=\"text-align: right;\">                                                                              $563,363.84</td><td style=\"text-align: right;\">                                                                              $563,363.84</td><td style=\"text-align: right;\">                                                                              $563,363.84</td><td style=\"text-align: right;\">                                                                              $563,363.84</td></tr>\n<tr><td style=\"text-align: right;\">  2009</td><td style=\"text-align: right;\">                                                                              $86,038.52</td><td style=\"text-align: right;\">                                                                           $1,307,603.45</td><td style=\"text-align: right;\">                                                                             $978,422.20</td><td style=\"text-align: right;\">                                                                             $822,876.43</td><td style=\"text-align: right;\">                                                                             $583,081.58</td><td style=\"text-align: right;\">                                                                             $583,081.58</td><td style=\"text-align: right;\">                                                                             $583,081.58</td><td style=\"text-align: right;\">                                                                             $583,081.58</td><td style=\"text-align: right;\">                                                                             $583,081.58</td><td style=\"text-align: right;\">                                                                             $583,081.58</td><td style=\"text-align: right;\">                                                                              $583,081.58</td><td style=\"text-align: right;\">                                                                              $583,081.58</td><td style=\"text-align: right;\">                                                                              $583,081.58</td><td style=\"text-align: right;\">                                                                              $583,081.58</td></tr>\n<tr><td style=\"text-align: right;\">  2010</td><td style=\"text-align: right;\">                                                                              $89,049.87</td><td style=\"text-align: right;\">                                                                           $1,353,369.57</td><td style=\"text-align: right;\">                                                                           $1,012,666.98</td><td style=\"text-align: right;\">                                                                             $851,677.11</td><td style=\"text-align: right;\">                                                                             $603,489.43</td><td style=\"text-align: right;\">                                                                             $603,489.43</td><td style=\"text-align: right;\">                                                                             $603,489.43</td><td style=\"text-align: right;\">                                                                             $603,489.43</td><td style=\"text-align: right;\">                                                                             $603,489.43</td><td style=\"text-align: right;\">                                                                             $603,489.43</td><td style=\"text-align: right;\">                                                                              $603,489.43</td><td style=\"text-align: right;\">                                                                              $603,489.43</td><td style=\"text-align: right;\">                                                                              $603,489.43</td><td style=\"text-align: right;\">                                                                              $603,489.43</td></tr>\n<tr><td style=\"text-align: right;\">  2011</td><td style=\"text-align: right;\">                                                                              $92,166.62</td><td style=\"text-align: right;\">                                                                           $1,400,737.50</td><td style=\"text-align: right;\">                                                                           $1,048,110.32</td><td style=\"text-align: right;\">                                                                             $881,485.80</td><td style=\"text-align: right;\">                                                                             $624,611.56</td><td style=\"text-align: right;\">                                                                             $624,611.56</td><td style=\"text-align: right;\">                                                                             $624,611.56</td><td style=\"text-align: right;\">                                                                             $624,611.56</td><td style=\"text-align: right;\">                                                                             $624,611.56</td><td style=\"text-align: right;\">                                                                             $624,611.56</td><td style=\"text-align: right;\">                                                                              $624,611.56</td><td style=\"text-align: right;\">                                                                              $624,611.56</td><td style=\"text-align: right;\">                                                                              $624,611.56</td><td style=\"text-align: right;\">                                                                              $624,611.56</td></tr>\n</tbody>\n</table>"
     },
     "execution_count": 24,
     "metadata": {},
     "output_type": "execute_result"
    }
   ],
   "source": [
    "buildingAhotel = [e for (id, e) in spatial_containment.get_entities().items() if e.name == 'buildingAhotel'][0]\n",
    "print(buildingAhotel.name)\n",
    "buildingAhotel['subtotal_egi']"
   ]
  },
  {
   "cell_type": "markdown",
   "metadata": {
    "collapsed": false
   },
   "source": [
    "We can also easily sum and collapse that aggregation, as it is a Stream`:"
   ]
  },
  {
   "cell_type": "code",
   "execution_count": 25,
   "metadata": {
    "collapsed": false,
    "ExecuteTime": {
     "end_time": "2024-03-14T12:20:30.665428Z",
     "start_time": "2024-03-14T12:20:30.661271Z"
    }
   },
   "outputs": [
    {
     "data": {
      "text/plain": "<rangekeeper.flux.Flow at 0x2f2129110>",
      "text/html": "<table>\n<thead>\n<tr><th style=\"text-align: right;\">               date</th><th style=\"text-align: right;\">  Effective Gross Income for 48a9f4a0-1157-48f8-94b2-f64461730009 [buildingAhotel] Aggregation (sum)</th></tr>\n</thead>\n<tbody>\n<tr><td style=\"text-align: right;\">2001-12-31 00:00:00</td><td style=\"text-align: right;\">                                                                                       $6,854,263.68</td></tr>\n<tr><td style=\"text-align: right;\">2002-12-31 00:00:00</td><td style=\"text-align: right;\">                                                                                       $7,094,162.91</td></tr>\n<tr><td style=\"text-align: right;\">2003-12-31 00:00:00</td><td style=\"text-align: right;\">                                                                                       $7,342,458.61</td></tr>\n<tr><td style=\"text-align: right;\">2004-12-31 00:00:00</td><td style=\"text-align: right;\">                                                                                       $7,599,444.66</td></tr>\n<tr><td style=\"text-align: right;\">2005-12-31 00:00:00</td><td style=\"text-align: right;\">                                                                                       $7,865,425.23</td></tr>\n<tr><td style=\"text-align: right;\">2006-12-31 00:00:00</td><td style=\"text-align: right;\">                                                                                       $8,140,715.11</td></tr>\n<tr><td style=\"text-align: right;\">2007-12-31 00:00:00</td><td style=\"text-align: right;\">                                                                                       $8,425,640.14</td></tr>\n<tr><td style=\"text-align: right;\">2008-12-31 00:00:00</td><td style=\"text-align: right;\">                                                                                       $8,720,537.54</td></tr>\n<tr><td style=\"text-align: right;\">2009-12-31 00:00:00</td><td style=\"text-align: right;\">                                                                                       $9,025,756.36</td></tr>\n<tr><td style=\"text-align: right;\">2010-12-31 00:00:00</td><td style=\"text-align: right;\">                                                                                       $9,341,657.83</td></tr>\n<tr><td style=\"text-align: right;\">2011-12-31 00:00:00</td><td style=\"text-align: right;\">                                                                                       $9,668,615.85</td></tr>\n</tbody>\n</table>"
     },
     "execution_count": 25,
     "metadata": {},
     "output_type": "execute_result"
    }
   ],
   "source": [
    "buildingAhotel['subtotal_egi'].sum()"
   ]
  },
  {
   "cell_type": "code",
   "execution_count": 26,
   "metadata": {
    "collapsed": false,
    "ExecuteTime": {
     "end_time": "2024-03-14T12:20:30.670055Z",
     "start_time": "2024-03-14T12:20:30.666341Z"
    }
   },
   "outputs": [
    {
     "data": {
      "text/plain": "<rangekeeper.flux.Flow at 0x2f2ad59d0>",
      "text/html": "<table>\n<thead>\n<tr><th style=\"text-align: right;\">               date</th><th style=\"text-align: right;\">  Effective Gross Income for 48a9f4a0-1157-48f8-94b2-f64461730009 [buildingAhotel] Aggregation (sum)</th></tr>\n</thead>\n<tbody>\n<tr><td style=\"text-align: right;\">2011-12-31 00:00:00</td><td style=\"text-align: right;\">                                                                                      $90,078,677.93</td></tr>\n</tbody>\n</table>"
     },
     "execution_count": 26,
     "metadata": {},
     "output_type": "execute_result"
    }
   ],
   "source": [
    "buildingAhotel['subtotal_egi'].sum().collapse()"
   ]
  },
  {
   "cell_type": "markdown",
   "metadata": {
    "collapsed": false
   },
   "source": [
    "The above subtotals the Effective Gross Income (EGI) for the hotel space of\n",
    "Building A over the hold period of the asset.\n",
    "\n",
    "We can then do this for all `Entity`s in the graph, and plot the results:"
   ]
  },
  {
   "cell_type": "code",
   "execution_count": 27,
   "metadata": {
    "collapsed": false,
    "ExecuteTime": {
     "end_time": "2024-03-14T12:20:31.110096Z",
     "start_time": "2024-03-14T12:20:30.670849Z"
    }
   },
   "outputs": [
    {
     "data": {
      "text/plain": "<IPython.lib.display.IFrame at 0x2f40baed0>",
      "text/html": "\n        <iframe\n            width=\"100%\"\n            height=\"1600\"\n            src=\"./aggregate_egis_chart.html\"\n            frameborder=\"0\"\n            allowfullscreen\n            \n        ></iframe>\n        "
     },
     "execution_count": 27,
     "metadata": {},
     "output_type": "execute_result"
    }
   ],
   "source": [
    "sunburst = spatial_containment.sunburst(property='subtotal_egi')\n",
    "treemap = spatial_containment.treemap(property='subtotal_egi')\n",
    "fig = plotly.subplots.make_subplots(\n",
    "    rows=2, cols=1,\n",
    "    specs=[[{\"type\": \"sunburst\"}], [{\"type\": \"treemap\"}]],\n",
    "    subplot_titles=('Effective Gross Income - Sunburst Plot', 'Effective Gross Income - Treemap Plot'))\n",
    "fig.append_trace(sunburst, row=1, col=1)\n",
    "fig.append_trace(treemap, row=2, col=1)\n",
    "filename='aggregate_egis_chart.html'\n",
    "\n",
    "py.plot(fig, filename=f'assets/{filename}', auto_open=False)\n",
    "IFrame(src=f'./{filename}', width='100%', height=800 * len(fig.data))"
   ]
  },
  {
   "cell_type": "markdown",
   "metadata": {
    "collapsed": false
   },
   "source": [
    "### Cost-generating Entities\n",
    "Let's now do the same for the cost-generating `Entity`s. While it is routine to\n",
    "register revenue-generating `Flow`s with `Entity`s that have lettable or\n",
    "sellable floor space, the convention to also register all cost-generating\n",
    "`Flow`s with only those same `Entity`s is possibly only done out of convenience\n",
    "rather than accuracy.\n",
    "\n",
    "For example, both operating and capital expenses may be attributed to building\n",
    "systems (e.g. maintenance, upgrading, & replacement of MEP or facade\n",
    "componentry) that are not coincident with the floor space they are servicing.\n",
    "I.e., the convention to average (sub)total costs across (sub)total floor space\n",
    "may be misleading, especially when attempting to compare different scenarios at\n",
    "different resolutions (See {cite}`farevuu2018`, 5.4 Flaw of Averages).\n",
    "\n",
    "By virtue of *Rangekeeper*'s multi-faceted approach to its object model, costs\n",
    "can be attributed and aggregated to `Entity`s that are not spatially coincident\n",
    "with the revenue-generating `Entity`s; in the example design, we will\n",
    "use the 'services' relationship-type to register and aggregate some of these,\n",
    "while space-specific costs will be registered and aggregated via spatial\n",
    "containment:"
   ]
  },
  {
   "cell_type": "markdown",
   "source": [
    "#### Operational and Capital Expenses of Building Utilities & Systems\n",
    "Of course, in a simplified model and without knowing design and engineering\n",
    "details for the property, costs for operational and capital expenses will be\n",
    "calculated from some proportional rate of spatial characteristics of the\n",
    "building. In this example, we will use the following as simplifications of how\n",
    "these types of costs may be calculated. Note that this is more a demonstration\n",
    "of methodology, and in practice would adjust to real-world data about the\n",
    "specific building systems and their costs.\n",
    "-  'Floorplate-derived' Operational and Capital Expenses will be calculated as a\n",
    "function of the subtotal floorplate area of 'building' `Entity`s. One could\n",
    "think of this as representing the cost of operating the floor's MEP, or\n",
    "maintaining, repairing and upgrading elements on the floors themselves\n",
    "(e.g. FF&E)\n",
    "- 'Facade-derived' Operational Expenses will be calculated as a function of the\n",
    "  surface area of 'building' `Entity`. This would represent the cost of facade\n",
    "maintenance, repair or replacement.\n",
    "- 'Utility-derived' Capital Expenses will be calculated as a function of the\n",
    "volume of 'utility' `Entity`s. This represents the cost of repairing and\n",
    "upgrading the building's MEP and transportation systems.\n"
   ],
   "metadata": {
    "collapsed": false
   }
  },
  {
   "cell_type": "markdown",
   "source": [
    "#### Cost `Flow`s per `Entity`\n",
    "There are some properties of `Entity`s that we need to produce before we can\n",
    "calculate `Flow`s off them. In this case we need to produce the facade area\n",
    "for any `Entity`s that have 'perimeter' and 'ftf' (Floor-to-Floor height)\n",
    "properties:\n"
   ],
   "metadata": {
    "collapsed": false
   }
  },
  {
   "cell_type": "code",
   "execution_count": 28,
   "outputs": [],
   "source": [
    "# Aggregate Facade Areas:\n",
    "for (entityId, entity) in property.get_entities().items():\n",
    "    if hasattr(entity, 'perimeter') & hasattr(entity, 'ftf'):\n",
    "        entity['facade_area'] = entity['perimeter'] * entity['ftf']\n",
    "spatial_containment.aggregate(\n",
    "    property='facade_area',\n",
    "    label='subtotal_facade_area')"
   ],
   "metadata": {
    "collapsed": false,
    "ExecuteTime": {
     "end_time": "2024-03-14T12:20:31.117104Z",
     "start_time": "2024-03-14T12:20:31.112038Z"
    }
   }
  },
  {
   "cell_type": "markdown",
   "source": [
    "We now set up operational and capital costing parameters that are based off\n",
    "either areas or volume, as well as growth rates:"
   ],
   "metadata": {
    "collapsed": false
   }
  },
  {
   "cell_type": "code",
   "execution_count": 29,
   "outputs": [],
   "source": [
    "floor_opex_per_area_pa = dict(\n",
    "    hotel=-175,\n",
    "    retail=-225,\n",
    "    residential=-125,\n",
    "    parking=-65,\n",
    "    )\n",
    "facade_opex_per_area_pa = dict(\n",
    "    hotel=-50,\n",
    "    retail=-100,\n",
    "    residential=-50,\n",
    "    parking=-25,\n",
    "    )\n",
    "opex_growth_rate = 0.035\n",
    "floor_capex_per_area_pa = dict(\n",
    "    hotel=-100,\n",
    "    retail=-150,\n",
    "    residential=-75,\n",
    "    parking=-50,\n",
    "    )\n",
    "cores_capex_per_vol_pa = -100\n",
    "plant_capex_per_vol_pa = -1000\n",
    "capex_growth_rate = 0.035"
   ],
   "metadata": {
    "collapsed": false,
    "ExecuteTime": {
     "end_time": "2024-03-14T12:20:31.120253Z",
     "start_time": "2024-03-14T12:20:31.117919Z"
    }
   }
  },
  {
   "cell_type": "markdown",
   "source": [
    "Now we can set up our `Costs` class to produce cost `Flow`s and `Stream`s:"
   ],
   "metadata": {
    "collapsed": false
   }
  },
  {
   "cell_type": "code",
   "execution_count": 30,
   "outputs": [],
   "source": [
    "class Costs:\n",
    "    def __init__(\n",
    "            self,\n",
    "            params: dict,\n",
    "            spans: Spans):\n",
    "        self.params = params\n",
    "        self.spans = spans"
   ],
   "metadata": {
    "collapsed": false,
    "ExecuteTime": {
     "end_time": "2024-03-14T12:20:31.122963Z",
     "start_time": "2024-03-14T12:20:31.121032Z"
    }
   }
  },
  {
   "cell_type": "code",
   "execution_count": 31,
   "outputs": [],
   "source": [
    "@rk.update_class(Costs)\n",
    "class Costs:\n",
    "    def generate_space_costs(self):\n",
    "        floor_opex = rk.flux.Flow.from_projection(\n",
    "            name='Floor-derived Operating Expenses',\n",
    "            value=self.params['initial_floor_opex'],\n",
    "            proj=rk.projection.Extrapolation(\n",
    "            form=rk.extrapolation.Compounding(\n",
    "                rate=self.params['opex_growth_rate']),\n",
    "            sequence=self.spans.calc_span.to_sequence(frequency=self.params['frequency'])),\n",
    "            units=currency.units)\n",
    "        facade_opex = rk.flux.Flow.from_projection(\n",
    "            name='Facade-derived Operating Expenses',\n",
    "            value=self.params['initial_facade_opex'],\n",
    "            proj=rk.projection.Extrapolation(\n",
    "            form=rk.extrapolation.Compounding(\n",
    "                rate=self.params['opex_growth_rate']),\n",
    "            sequence=self.spans.calc_span.to_sequence(frequency=self.params['frequency'])),\n",
    "            units=currency.units)\n",
    "        self.opex = rk.flux.Stream(\n",
    "            name='Space Operating Expenses',\n",
    "            flows=[floor_opex, facade_opex],\n",
    "            frequency=self.params['frequency'])\n",
    "\n",
    "        floor_capex = rk.flux.Flow.from_projection(\n",
    "            name='Floor-derived Capital Expenses',\n",
    "            value=self.params['initial_floor_capex'],\n",
    "            proj=rk.projection.Extrapolation(\n",
    "            form=rk.extrapolation.Compounding(\n",
    "                rate=self.params['capex_growth_rate']),\n",
    "            sequence=self.spans.calc_span.to_sequence(frequency=rk.duration.Type.SEMIDECADE)),\n",
    "            units=currency.units)\n",
    "        self.floor_capex = floor_capex.trim_to_span(self.spans.calc_span)  # This is to avoid issues with using >yearly periodicity in projection"
   ],
   "metadata": {
    "collapsed": false,
    "ExecuteTime": {
     "end_time": "2024-03-14T12:20:31.127085Z",
     "start_time": "2024-03-14T12:20:31.123548Z"
    }
   }
  },
  {
   "cell_type": "markdown",
   "source": [
    "We will split the generation of space-based costs from the utility-based costs,\n",
    "as they will be applied to different `Entity` types:"
   ],
   "metadata": {
    "collapsed": false
   }
  },
  {
   "cell_type": "code",
   "execution_count": 32,
   "outputs": [],
   "source": [
    "@rk.update_class(Costs)\n",
    "class Costs:\n",
    "    def generate_utils_costs(self):\n",
    "        utils_capex = rk.flux.Flow.from_projection(\n",
    "            name='Utilities-derived Capital Expenses',\n",
    "            value=self.params['initial_utility_capex'],\n",
    "            proj=rk.projection.Extrapolation(\n",
    "                form=rk.extrapolation.Compounding(\n",
    "                    rate=self.params['capex_growth_rate']),\n",
    "                sequence=self.spans.calc_span.to_sequence(frequency=rk.duration.Type.SEMIDECADE)),\n",
    "            units=currency.units)\n",
    "        self.utils_capex = utils_capex.trim_to_span(self.spans.calc_span)  # This is to avoid issues with using >yearly periodicity in projection"
   ],
   "metadata": {
    "collapsed": false,
    "ExecuteTime": {
     "end_time": "2024-03-14T12:20:31.130241Z",
     "start_time": "2024-03-14T12:20:31.127828Z"
    }
   }
  },
  {
   "cell_type": "markdown",
   "source": [
    "Now we can run the `Costs` class against 'floor' and 'utilities' `Entity`s:"
   ],
   "metadata": {
    "collapsed": false
   }
  },
  {
   "cell_type": "code",
   "execution_count": 33,
   "outputs": [],
   "source": [
    "for floor in floors:\n",
    "    floor_params = params.copy()\n",
    "\n",
    "    floor_params['initial_floor_opex'] = floor_opex_per_area_pa[floor['use']] * floor['subtotal_gfa']\n",
    "    floor_params['initial_facade_opex'] = facade_opex_per_area_pa[floor['use']] * floor['subtotal_facade_area']\n",
    "    floor_params['initial_floor_capex'] = floor_capex_per_area_pa[floor['use']] * floor['subtotal_gfa']\n",
    "    floor_params['opex_growth_rate'] = opex_growth_rate\n",
    "    floor_params['capex_growth_rate'] = capex_growth_rate\n",
    "    floor['params'] = floor_params\n",
    "\n",
    "    floor['events'] = {} if not hasattr(floor, 'events') else floor['events']\n",
    "\n",
    "    costs = Costs(\n",
    "        params=floor_params,\n",
    "        spans=spans)\n",
    "    costs.generate_space_costs()\n",
    "\n",
    "    floor['opex'] = costs.opex\n",
    "    floor['capex'] = costs.floor_capex"
   ],
   "metadata": {
    "collapsed": false,
    "ExecuteTime": {
     "end_time": "2024-03-14T12:20:31.251682Z",
     "start_time": "2024-03-14T12:20:31.130753Z"
    }
   }
  },
  {
   "cell_type": "markdown",
   "source": [
    "The utilities are a bit different, as (for this example), their capex is a\n",
    "factor of their volume. We can see that the utilities are the cores and plant\n",
    "of the property:"
   ],
   "metadata": {
    "collapsed": false
   }
  },
  {
   "cell_type": "code",
   "execution_count": 34,
   "outputs": [],
   "source": [
    "utilities = property.filter_by_type(entity_type='utilities', is_assembly=False)"
   ],
   "metadata": {
    "collapsed": false,
    "ExecuteTime": {
     "end_time": "2024-03-14T12:20:31.254445Z",
     "start_time": "2024-03-14T12:20:31.252515Z"
    }
   }
  },
  {
   "cell_type": "code",
   "execution_count": 35,
   "outputs": [],
   "source": [
    "key = 'type'\n",
    "isolated_ids = [entity['id'] for entity in utilities.get_entities().values()]"
   ],
   "metadata": {
    "collapsed": false,
    "ExecuteTime": {
     "end_time": "2024-03-14T12:20:31.256942Z",
     "start_time": "2024-03-14T12:20:31.255258Z"
    }
   }
  },
  {
   "cell_type": "code",
   "execution_count": 36,
   "outputs": [
    {
     "data": {
      "text/plain": "<IPython.lib.display.IFrame at 0x2f4147690>",
      "text/html": "\n        <iframe\n            width=\"100%\"\n            height=\"800\"\n            src=\"https://speckle.xyz/streams/e3ea4fe91a/commits/9196d66cd1?filter=%7B%22propertyInfoKey%22%3A%20%22type%22%2C%20%22isolatedIds%22%3A%20%5B%227f54ec9bebb76a5e63c71cf003997e94%22%2C%20%22921624ec351b7d6b289bbcc27394fccf%22%2C%20%229735baf66e333f4c20bb7522ffdcb65f%22%5D%7D\"\n            frameborder=\"0\"\n            allowfullscreen\n            \n        ></iframe>\n        "
     },
     "execution_count": 36,
     "metadata": {},
     "output_type": "execute_result"
    }
   ],
   "source": [
    "url = 'https://speckle.xyz/streams/{0}/commits/{1}?filter={2}'.format(\n",
    "    stream_id,\n",
    "    commit_id,\n",
    "    urllib.parse.quote(json.dumps(\n",
    "        dict(\n",
    "            propertyInfoKey = key,\n",
    "            isolatedIds = isolated_ids))))\n",
    "IFrame(url, width='100%', height=800)"
   ],
   "metadata": {
    "collapsed": false,
    "ExecuteTime": {
     "end_time": "2024-03-14T12:20:31.260491Z",
     "start_time": "2024-03-14T12:20:31.257810Z"
    }
   }
  },
  {
   "cell_type": "code",
   "execution_count": 37,
   "outputs": [],
   "source": [
    "for utility in utilities.get_entities().values():\n",
    "    utility_params = params.copy()\n",
    "\n",
    "    if 'plant' in utility['name']:\n",
    "        utility_params['initial_utility_capex'] = plant_capex_per_vol_pa * utility['volume']\n",
    "    elif 'cores' in utility['name']:\n",
    "        utility_params['initial_utility_capex'] = cores_capex_per_vol_pa * utility['volume']\n",
    "    utility_params['capex_growth_rate'] = capex_growth_rate\n",
    "    utility['params'] = utility_params\n",
    "\n",
    "    utility['events'] = {} if not hasattr(utility, 'events') else utility['events']\n",
    "\n",
    "    costs = Costs(\n",
    "        params=utility_params,\n",
    "        spans=spans)\n",
    "    costs.generate_utils_costs()\n",
    "\n",
    "    utility['capex'] = costs.utils_capex"
   ],
   "metadata": {
    "collapsed": false,
    "ExecuteTime": {
     "end_time": "2024-03-14T12:20:31.273093Z",
     "start_time": "2024-03-14T12:20:31.267146Z"
    }
   }
  },
  {
   "cell_type": "code",
   "execution_count": 38,
   "outputs": [
    {
     "data": {
      "text/plain": "<rangekeeper.flux.Flow at 0x2f2a36410>",
      "text/html": "<table>\n<thead>\n<tr><th style=\"text-align: right;\">               date</th><th style=\"text-align: right;\">  Utilities-derived Capital Expenses</th></tr>\n</thead>\n<tbody>\n<tr><td style=\"text-align: right;\">2005-12-31 00:00:00</td><td style=\"text-align: right;\">                        -$865,663.39</td></tr>\n<tr><td style=\"text-align: right;\">2010-12-31 00:00:00</td><td style=\"text-align: right;\">                        -$895,961.61</td></tr>\n</tbody>\n</table>"
     },
     "execution_count": 38,
     "metadata": {},
     "output_type": "execute_result"
    }
   ],
   "source": [
    "list(utilities.get_entities().values())[0]['capex']"
   ],
   "metadata": {
    "collapsed": false,
    "ExecuteTime": {
     "end_time": "2024-03-14T12:20:31.276897Z",
     "start_time": "2024-03-14T12:20:31.273984Z"
    }
   }
  },
  {
   "cell_type": "markdown",
   "source": [
    "And finally aggregate them:"
   ],
   "metadata": {
    "collapsed": false
   }
  },
  {
   "cell_type": "code",
   "execution_count": 39,
   "outputs": [],
   "source": [
    "def aggregate_opex(**kwargs):\n",
    "    return rk.graph.Entity.aggregate_flows(\n",
    "        **kwargs,\n",
    "        name='Operational Expenses',\n",
    "        frequency=frequency)\n",
    "property.aggregate(\n",
    "    function=aggregate_opex,\n",
    "    property='opex',\n",
    "    label='subtotal_opex',\n",
    "    relationship_type='spatiallyContains')"
   ],
   "metadata": {
    "collapsed": false,
    "ExecuteTime": {
     "end_time": "2024-03-14T12:20:31.476340Z",
     "start_time": "2024-03-14T12:20:31.277565Z"
    }
   }
  },
  {
   "cell_type": "code",
   "execution_count": 40,
   "outputs": [],
   "source": [
    "def aggregate_capex(**kwargs):\n",
    "    return rk.graph.Entity.aggregate_flows(\n",
    "        **kwargs,\n",
    "        name='Capital Expenses',\n",
    "        frequency=frequency)\n",
    "property.aggregate(\n",
    "    function=aggregate_capex,\n",
    "    property='capex',\n",
    "    label='subtotal_capex',\n",
    "    relationship_type='spatiallyContains')"
   ],
   "metadata": {
    "collapsed": false,
    "ExecuteTime": {
     "end_time": "2024-03-14T12:20:31.587677Z",
     "start_time": "2024-03-14T12:20:31.477006Z"
    }
   }
  },
  {
   "cell_type": "markdown",
   "source": [
    "If we wish to see the ultimate aggregation of those costs, we can do so by\n",
    "totalling them at their root `Entity`:"
   ],
   "metadata": {
    "collapsed": false
   }
  },
  {
   "cell_type": "code",
   "execution_count": 41,
   "outputs": [],
   "source": [
    "property_opex = property.get_roots()['spatiallyContains'][0]['subtotal_opex'].sum()\n",
    "property_capex = property.get_roots()['spatiallyContains'][0]['subtotal_capex'].sum()"
   ],
   "metadata": {
    "collapsed": false,
    "ExecuteTime": {
     "end_time": "2024-03-14T12:20:31.592973Z",
     "start_time": "2024-03-14T12:20:31.588369Z"
    }
   }
  },
  {
   "cell_type": "code",
   "execution_count": 42,
   "outputs": [
    {
     "name": "stdout",
     "output_type": "stream",
     "text": [
      "Property Average Periodic OPEX: $-7,488,734.31\n",
      "Property Average Periodic CAPEX: $-2,007,558.91\n"
     ]
    }
   ],
   "source": [
    "print('Property Average Periodic OPEX: ${:,.2f}'.format(property_opex.movements.mean()))\n",
    "print('Property Average Periodic CAPEX: ${:,.2f}'.format(property_capex.movements.mean()))"
   ],
   "metadata": {
    "collapsed": false,
    "ExecuteTime": {
     "end_time": "2024-03-14T12:20:31.595990Z",
     "start_time": "2024-03-14T12:20:31.593737Z"
    }
   }
  },
  {
   "cell_type": "markdown",
   "source": [
    "To get a sense check if this is reasonable, we can compare the opex and capex\n",
    "to the PGI. First let's aggregate the PGI for all `Entity`s:"
   ],
   "metadata": {
    "collapsed": false
   }
  },
  {
   "cell_type": "code",
   "execution_count": 43,
   "outputs": [],
   "source": [
    "def aggregate_pgis(**kwargs):\n",
    "    return rk.graph.Entity.aggregate_flows(\n",
    "        **kwargs,\n",
    "        name='Potential Gross Income',\n",
    "        frequency=frequency)"
   ],
   "metadata": {
    "collapsed": false,
    "ExecuteTime": {
     "end_time": "2024-03-14T12:20:31.599079Z",
     "start_time": "2024-03-14T12:20:31.596765Z"
    }
   }
  },
  {
   "cell_type": "code",
   "execution_count": 44,
   "outputs": [],
   "source": [
    "spatial_containment.aggregate(\n",
    "    property='pgi',\n",
    "    function=aggregate_pgis,\n",
    "    label='subtotal_pgi')"
   ],
   "metadata": {
    "collapsed": false,
    "ExecuteTime": {
     "end_time": "2024-03-14T12:20:31.699205Z",
     "start_time": "2024-03-14T12:20:31.599884Z"
    }
   }
  },
  {
   "cell_type": "markdown",
   "source": [
    "And total it to the root `Entity`:"
   ],
   "metadata": {
    "collapsed": false
   }
  },
  {
   "cell_type": "code",
   "execution_count": 45,
   "outputs": [
    {
     "name": "stdout",
     "output_type": "stream",
     "text": [
      "Property Average Periodic PGI: $18,918,012.54\n"
     ]
    }
   ],
   "source": [
    "property_pgi = property.get_roots()['spatiallyContains'][0]['subtotal_pgi'].sum()\n",
    "print('Property Average Periodic PGI: ${:,.2f}'.format(property_pgi.movements.mean()))"
   ],
   "metadata": {
    "collapsed": false,
    "ExecuteTime": {
     "end_time": "2024-03-14T12:20:31.704045Z",
     "start_time": "2024-03-14T12:20:31.700159Z"
    }
   }
  },
  {
   "cell_type": "markdown",
   "source": [
    "Now we can calculate the Expenses ratios:"
   ],
   "metadata": {
    "collapsed": false
   }
  },
  {
   "cell_type": "code",
   "execution_count": 46,
   "outputs": [
    {
     "name": "stdout",
     "output_type": "stream",
     "text": [
      "Property OpEx as proportion of PGI: 39.59%\n"
     ]
    }
   ],
   "source": [
    "print('Property OpEx as proportion of PGI: {:.2%}'.format(-property_opex.movements.mean() / property_pgi.movements.mean()))"
   ],
   "metadata": {
    "collapsed": false,
    "ExecuteTime": {
     "end_time": "2024-03-14T12:20:31.706554Z",
     "start_time": "2024-03-14T12:20:31.704734Z"
    }
   }
  },
  {
   "cell_type": "code",
   "execution_count": 47,
   "outputs": [
    {
     "name": "stdout",
     "output_type": "stream",
     "text": [
      "Property CapEx as proportion of PGI: 10.61%\n"
     ]
    }
   ],
   "source": [
    "print('Property CapEx as proportion of PGI: {:.2%}'.format(-property_capex.movements.mean() / property_pgi.movements.mean()))"
   ],
   "metadata": {
    "collapsed": false,
    "ExecuteTime": {
     "end_time": "2024-03-14T12:20:31.708952Z",
     "start_time": "2024-03-14T12:20:31.707165Z"
    }
   }
  },
  {
   "cell_type": "markdown",
   "source": [
    "Looking at just the cost-producing `Entity`s, we can see that in the OpEx and\n",
    "CapEx breakdowns, there is a significant amount of cost generated by non-floor\n",
    "(i.e., non-revenue-generating) `Entity`s, like cores and plant. This type of\n",
    "analysis is important in understanding the cost drivers of a property, and\n",
    "where the most effective cost-saving measures could be applied."
   ],
   "metadata": {
    "collapsed": false
   }
  },
  {
   "cell_type": "code",
   "execution_count": 48,
   "outputs": [
    {
     "data": {
      "text/plain": "<IPython.lib.display.IFrame at 0x2f41eab50>",
      "text/html": "\n        <iframe\n            width=\"100%\"\n            height=\"1600\"\n            src=\"./aggregate_exp_chart.html\"\n            frameborder=\"0\"\n            allowfullscreen\n            \n        ></iframe>\n        "
     },
     "execution_count": 48,
     "metadata": {},
     "output_type": "execute_result"
    }
   ],
   "source": [
    "opex = spatial_containment.sunburst(property='subtotal_opex')\n",
    "capex = spatial_containment.sunburst(property='subtotal_capex')\n",
    "fig = plotly.subplots.make_subplots(\n",
    "    rows=2, cols=1,\n",
    "    specs=[[{\"type\": \"sunburst\"}], [{\"type\": \"sunburst\"}]],\n",
    "    subplot_titles=('Total Operational Expenses', 'Total Capital Expenses'))\n",
    "fig.append_trace(opex, row=1, col=1)\n",
    "fig.append_trace(capex, row=2, col=1)\n",
    "filename='aggregate_exp_chart.html'\n",
    "\n",
    "py.plot(fig, filename=f'assets/{filename}', auto_open=False)\n",
    "IFrame(src=f'./{filename}', width='100%', height=800 * len(fig.data))"
   ],
   "metadata": {
    "collapsed": false,
    "ExecuteTime": {
     "end_time": "2024-03-14T12:20:32.180634Z",
     "start_time": "2024-03-14T12:20:31.709530Z"
    }
   }
  },
  {
   "cell_type": "markdown",
   "source": [
    "## Calculating Overall Valuation\n",
    "Now that we have our revenues and cost line items (`Flow`s) generated per\n",
    "`Entity`, we can accumulate them into Net Operating Income (NOI) and\n",
    "Net Annual Cashflow (NACF) subtotals, as well as the reversion (disposition, or\n",
    "sale) of the whole asset, in order to determine the overall valuation of the\n",
    "property."
   ],
   "metadata": {
    "collapsed": false
   }
  },
  {
   "cell_type": "markdown",
   "source": [
    "We can also calculate the net position of each `Entity` as its 'Net Annual\n",
    "Cashflow (NACF)':"
   ],
   "metadata": {
    "collapsed": false
   }
  },
  {
   "cell_type": "code",
   "execution_count": 49,
   "outputs": [],
   "source": [
    "for entity in property.get_entities().values():\n",
    "    noi = [getattr(entity, 'egi', None), getattr(entity, 'opex', None)]\n",
    "    noi = [flow.sum() if isinstance(flow, rk.flux.Stream) else flow for flow in list(filter(None, noi))]\n",
    "    if len(noi) > 0:\n",
    "        entity['noi'] = rk.flux.Stream(\n",
    "            name='Net Operating Income',\n",
    "            flows=noi,\n",
    "            frequency=frequency)\n",
    "        capex = getattr(entity, 'capex', None)\n",
    "        if capex is not None:\n",
    "            entity['nacf'] = rk.flux.Stream(\n",
    "                name='Net Annual Cashflow',\n",
    "                flows=entity['noi'].flows + [capex],\n",
    "                frequency=frequency)"
   ],
   "metadata": {
    "collapsed": false,
    "ExecuteTime": {
     "end_time": "2024-03-14T12:20:32.360100Z",
     "start_time": "2024-03-14T12:20:32.181600Z"
    }
   }
  },
  {
   "cell_type": "code",
   "execution_count": 50,
   "outputs": [],
   "source": [
    "def aggregate_noi(**kwargs):\n",
    "    return rk.graph.Entity.aggregate_flows(\n",
    "        **kwargs,\n",
    "        name='Net Operating Income',\n",
    "        frequency=frequency)\n",
    "property.aggregate(\n",
    "    function=aggregate_noi,\n",
    "    property='noi',\n",
    "    label='subtotal_noi',\n",
    "    relationship_type='spatiallyContains')"
   ],
   "metadata": {
    "collapsed": false,
    "ExecuteTime": {
     "end_time": "2024-03-14T12:20:32.544403Z",
     "start_time": "2024-03-14T12:20:32.361059Z"
    }
   }
  },
  {
   "cell_type": "code",
   "execution_count": 51,
   "outputs": [],
   "source": [
    "def aggregate_nacf(**kwargs):\n",
    "    return rk.graph.Entity.aggregate_flows(\n",
    "        **kwargs,\n",
    "        name='Net Annual Cashflow',\n",
    "        frequency=frequency)\n",
    "property.aggregate(\n",
    "    function=aggregate_nacf,\n",
    "    property='nacf',\n",
    "    label='subtotal_nacf',\n",
    "    relationship_type='spatiallyContains')"
   ],
   "metadata": {
    "collapsed": false,
    "ExecuteTime": {
     "end_time": "2024-03-14T12:20:32.750511Z",
     "start_time": "2024-03-14T12:20:32.545378Z"
    }
   }
  },
  {
   "cell_type": "markdown",
   "source": [
    "### Reversion\n",
    "To calculate the reversion cashflow, we set up a period that spans the 10th year\n",
    "of the project. This only applies to the asset as a whole, so it is recorded\n",
    "at the root `Entity`:"
   ],
   "metadata": {
    "collapsed": false
   }
  },
  {
   "cell_type": "code",
   "execution_count": 52,
   "outputs": [],
   "source": [
    "root = property.get_roots()['spatiallyContains'][0]"
   ],
   "metadata": {
    "collapsed": false,
    "ExecuteTime": {
     "end_time": "2024-03-14T12:20:32.754429Z",
     "start_time": "2024-03-14T12:20:32.751645Z"
    }
   }
  },
  {
   "cell_type": "code",
   "execution_count": 53,
   "outputs": [
    {
     "data": {
      "text/plain": "<rangekeeper.flux.Flow at 0x2f47075d0>",
      "text/html": "<table>\n<thead>\n<tr><th style=\"text-align: right;\">               date</th><th style=\"text-align: right;\">      Reversion</th></tr>\n</thead>\n<tbody>\n<tr><td style=\"text-align: right;\">2010-12-31 00:00:00</td><td style=\"text-align: right;\">$284,674,637.71</td></tr>\n</tbody>\n</table>"
     },
     "execution_count": 53,
     "metadata": {},
     "output_type": "execute_result"
    }
   ],
   "source": [
    "reversion_span = rk.span.Span.from_duration(\n",
    "    name='Reversion',\n",
    "    date=params['start_date'] + pd.DateOffset(years=9),\n",
    "    duration=params['frequency'])\n",
    "\n",
    "exit_caprate = 0.05\n",
    "reversion_flow = rk.flux.Flow.from_projection(\n",
    "    name='Reversion',\n",
    "    value=root['subtotal_nacf'].sum().movements.values[-1] / exit_caprate,\n",
    "    proj=rk.projection.Distribution(\n",
    "        form=rk.distribution.Uniform(),\n",
    "        sequence=reversion_span.to_sequence(frequency=params['frequency'])),\n",
    "    units=currency.units)\n",
    "root['reversion'] = reversion_flow\n",
    "reversion_flow"
   ],
   "metadata": {
    "collapsed": false,
    "ExecuteTime": {
     "end_time": "2024-03-14T12:20:32.762197Z",
     "start_time": "2024-03-14T12:20:32.755283Z"
    }
   }
  },
  {
   "cell_type": "markdown",
   "source": [
    "Now we can aggregate the net and reversion cashflows in the root `Entity` in\n",
    "order to derive the project's complete cashflows:"
   ],
   "metadata": {
    "collapsed": false
   }
  },
  {
   "cell_type": "code",
   "execution_count": 54,
   "outputs": [
    {
     "data": {
      "text/plain": "<rangekeeper.flux.Stream at 0x2fd6db890>",
      "text/html": "<table>\n<thead>\n<tr><th style=\"text-align: right;\">  date</th><th style=\"text-align: right;\">  Net Annual Cashflow for ee762902-113d-4762-9949-f2594f6a63cb [property] Aggregation (sum)</th><th style=\"text-align: right;\">      Reversion</th></tr>\n</thead>\n<tbody>\n<tr><td style=\"text-align: right;\">  2001</td><td style=\"text-align: right;\">                                                                              $8,134,691.89</td><td style=\"text-align: right;\">              0</td></tr>\n<tr><td style=\"text-align: right;\">  2002</td><td style=\"text-align: right;\">                                                                              $8,599,446.40</td><td style=\"text-align: right;\">              0</td></tr>\n<tr><td style=\"text-align: right;\">  2003</td><td style=\"text-align: right;\">                                                                              $9,091,532.28</td><td style=\"text-align: right;\">              0</td></tr>\n<tr><td style=\"text-align: right;\">  2004</td><td style=\"text-align: right;\">                                                                              $9,612,601.91</td><td style=\"text-align: right;\">              0</td></tr>\n<tr><td style=\"text-align: right;\">  2005</td><td style=\"text-align: right;\">                                                                              $6,862,704.94</td><td style=\"text-align: right;\">              0</td></tr>\n<tr><td style=\"text-align: right;\">  2006</td><td style=\"text-align: right;\">                                                                             $10,748,821.65</td><td style=\"text-align: right;\">              0</td></tr>\n<tr><td style=\"text-align: right;\">  2007</td><td style=\"text-align: right;\">                                                                             $11,367,816.34</td><td style=\"text-align: right;\">              0</td></tr>\n<tr><td style=\"text-align: right;\">  2008</td><td style=\"text-align: right;\">                                                                             $12,023,498.34</td><td style=\"text-align: right;\">              0</td></tr>\n<tr><td style=\"text-align: right;\">  2009</td><td style=\"text-align: right;\">                                                                             $12,718,103.14</td><td style=\"text-align: right;\">              0</td></tr>\n<tr><td style=\"text-align: right;\">  2010</td><td style=\"text-align: right;\">                                                                             $10,036,741.15</td><td style=\"text-align: right;\">$284,674,637.71</td></tr>\n</tbody>\n</table>"
     },
     "execution_count": 54,
     "metadata": {},
     "output_type": "execute_result"
    }
   ],
   "source": [
    "net_cashflows_with_reversion = (rk.flux.Stream(\n",
    "    name='Net Cashflow with Reversion',\n",
    "    flows=[root['subtotal_nacf'].sum(), root['reversion']],\n",
    "    frequency=rk.duration.Type.YEAR)\n",
    "        .trim_to_span(\n",
    "            rk.span.Span(\n",
    "                start_date=params['start_date'],\n",
    "                end_date=reversion_span.end_date)\n",
    "    )\n",
    ")\n",
    "root['nacf_reversion'] = net_cashflows_with_reversion\n",
    "net_cashflows_with_reversion"
   ],
   "metadata": {
    "collapsed": false,
    "ExecuteTime": {
     "end_time": "2024-03-14T12:20:32.774196Z",
     "start_time": "2024-03-14T12:20:32.762992Z"
    }
   }
  },
  {
   "cell_type": "code",
   "execution_count": 55,
   "outputs": [
    {
     "data": {
      "text/plain": "<rangekeeper.flux.Stream at 0x2fd6a9490>",
      "text/html": "<table>\n<thead>\n<tr><th style=\"text-align: right;\">  date</th><th style=\"text-align: right;\">  Effective Gross Income for ee762902-113d-4762-9949-f2594f6a63cb [property] Aggregation (sum)</th><th style=\"text-align: right;\">  Operational Expenses for ee762902-113d-4762-9949-f2594f6a63cb [property] Aggregation (sum)</th><th style=\"text-align: right;\">  Net Operating Income for ee762902-113d-4762-9949-f2594f6a63cb [property] Aggregation (sum)</th><th style=\"text-align: right;\">  Capital Expenses for ee762902-113d-4762-9949-f2594f6a63cb [property] Aggregation (sum)</th><th style=\"text-align: right;\">  Net Annual Cashflow for ee762902-113d-4762-9949-f2594f6a63cb [property] Aggregation (sum)</th><th style=\"text-align: right;\">      Reversion</th><th style=\"text-align: right;\">  Net Cashflow with Reversion (sum)</th></tr>\n</thead>\n<tbody>\n<tr><td style=\"text-align: right;\">  2001</td><td style=\"text-align: right;\">                                                                                $14,402,849.55</td><td style=\"text-align: right;\">                                                                              -$6,268,157.66</td><td style=\"text-align: right;\">                                                                               $8,134,691.89</td><td style=\"text-align: right;\">                                                                                       0</td><td style=\"text-align: right;\">                                                                              $8,134,691.89</td><td style=\"text-align: right;\">              0</td><td style=\"text-align: right;\">                      $8,134,691.89</td></tr>\n<tr><td style=\"text-align: right;\">  2002</td><td style=\"text-align: right;\">                                                                                $15,086,989.58</td><td style=\"text-align: right;\">                                                                              -$6,487,543.18</td><td style=\"text-align: right;\">                                                                               $8,599,446.40</td><td style=\"text-align: right;\">                                                                                       0</td><td style=\"text-align: right;\">                                                                              $8,599,446.40</td><td style=\"text-align: right;\">              0</td><td style=\"text-align: right;\">                      $8,599,446.40</td></tr>\n<tr><td style=\"text-align: right;\">  2003</td><td style=\"text-align: right;\">                                                                                $15,806,139.47</td><td style=\"text-align: right;\">                                                                              -$6,714,607.19</td><td style=\"text-align: right;\">                                                                               $9,091,532.28</td><td style=\"text-align: right;\">                                                                                       0</td><td style=\"text-align: right;\">                                                                              $9,091,532.28</td><td style=\"text-align: right;\">              0</td><td style=\"text-align: right;\">                      $9,091,532.28</td></tr>\n<tr><td style=\"text-align: right;\">  2004</td><td style=\"text-align: right;\">                                                                                $16,562,220.35</td><td style=\"text-align: right;\">                                                                              -$6,949,618.44</td><td style=\"text-align: right;\">                                                                               $9,612,601.91</td><td style=\"text-align: right;\">                                                                                       0</td><td style=\"text-align: right;\">                                                                              $9,612,601.91</td><td style=\"text-align: right;\">              0</td><td style=\"text-align: right;\">                      $9,612,601.91</td></tr>\n<tr><td style=\"text-align: right;\">  2005</td><td style=\"text-align: right;\">                                                                                $17,357,265.38</td><td style=\"text-align: right;\">                                                                              -$7,192,855.09</td><td style=\"text-align: right;\">                                                                              $10,164,410.29</td><td style=\"text-align: right;\">                                                                          -$5,919,092.61</td><td style=\"text-align: right;\">                                                                              $6,862,704.94</td><td style=\"text-align: right;\">              0</td><td style=\"text-align: right;\">                      $6,862,704.94</td></tr>\n<tr><td style=\"text-align: right;\">  2006</td><td style=\"text-align: right;\">                                                                                $18,193,426.66</td><td style=\"text-align: right;\">                                                                              -$7,444,605.02</td><td style=\"text-align: right;\">                                                                              $10,748,821.65</td><td style=\"text-align: right;\">                                                                                   $0.00</td><td style=\"text-align: right;\">                                                                             $10,748,821.65</td><td style=\"text-align: right;\">              0</td><td style=\"text-align: right;\">                     $10,748,821.65</td></tr>\n<tr><td style=\"text-align: right;\">  2007</td><td style=\"text-align: right;\">                                                                                $19,072,982.53</td><td style=\"text-align: right;\">                                                                              -$7,705,166.19</td><td style=\"text-align: right;\">                                                                              $11,367,816.34</td><td style=\"text-align: right;\">                                                                                   $0.00</td><td style=\"text-align: right;\">                                                                             $11,367,816.34</td><td style=\"text-align: right;\">              0</td><td style=\"text-align: right;\">                     $11,367,816.34</td></tr>\n<tr><td style=\"text-align: right;\">  2008</td><td style=\"text-align: right;\">                                                                                $19,998,345.35</td><td style=\"text-align: right;\">                                                                              -$7,974,847.01</td><td style=\"text-align: right;\">                                                                              $12,023,498.34</td><td style=\"text-align: right;\">                                                                                   $0.00</td><td style=\"text-align: right;\">                                                                             $12,023,498.34</td><td style=\"text-align: right;\">              0</td><td style=\"text-align: right;\">                     $12,023,498.34</td></tr>\n<tr><td style=\"text-align: right;\">  2009</td><td style=\"text-align: right;\">                                                                                $20,972,069.80</td><td style=\"text-align: right;\">                                                                              -$8,253,966.66</td><td style=\"text-align: right;\">                                                                              $12,718,103.14</td><td style=\"text-align: right;\">                                                                                   $0.00</td><td style=\"text-align: right;\">                                                                             $12,718,103.14</td><td style=\"text-align: right;\">              0</td><td style=\"text-align: right;\">                     $12,718,103.14</td></tr>\n<tr><td style=\"text-align: right;\">  2010</td><td style=\"text-align: right;\">                                                                                $21,996,861.68</td><td style=\"text-align: right;\">                                                                              -$8,542,855.49</td><td style=\"text-align: right;\">                                                                              $13,454,006.19</td><td style=\"text-align: right;\">                                                                          -$6,126,260.85</td><td style=\"text-align: right;\">                                                                             $10,036,741.15</td><td style=\"text-align: right;\">$284,674,637.71</td><td style=\"text-align: right;\">                    $294,711,378.86</td></tr>\n<tr><td style=\"text-align: right;\">  2011</td><td style=\"text-align: right;\">                                                                                $23,075,587.32</td><td style=\"text-align: right;\">                                                                              -$8,841,855.43</td><td style=\"text-align: right;\">                                                                              $14,233,731.89</td><td style=\"text-align: right;\">                                                                                       0</td><td style=\"text-align: right;\">                                                                             $14,233,731.89</td><td style=\"text-align: right;\">              0</td><td style=\"text-align: right;\">                                  0</td></tr>\n</tbody>\n</table>"
     },
     "execution_count": 55,
     "metadata": {},
     "output_type": "execute_result"
    }
   ],
   "source": [
    "table = rk.flux.Stream(\n",
    "    name='Table 1.1',\n",
    "    flows=[\n",
    "        root['subtotal_egi'].sum(),\n",
    "        root['subtotal_opex'].sum(),\n",
    "        root['subtotal_noi'].sum(),\n",
    "        root['subtotal_capex'].sum(),\n",
    "        root['subtotal_nacf'].sum(),\n",
    "        root['reversion'],\n",
    "        root['nacf_reversion'].sum()\n",
    "        ],\n",
    "    frequency=rk.duration.Type.YEAR\n",
    "    )\n",
    "table"
   ],
   "metadata": {
    "collapsed": false,
    "ExecuteTime": {
     "end_time": "2024-03-14T12:20:32.796695Z",
     "start_time": "2024-03-14T12:20:32.775Z"
    }
   }
  },
  {
   "cell_type": "markdown",
   "source": [
    "### Valuation\n",
    "With our net cashflows including reversion, if we specify a discount rate, we\n",
    "can calculate the present value of the property:"
   ],
   "metadata": {
    "collapsed": false
   }
  },
  {
   "cell_type": "code",
   "execution_count": 56,
   "outputs": [
    {
     "data": {
      "text/plain": "<rangekeeper.flux.Flow at 0x2f4741a50>",
      "text/html": "<table>\n<thead>\n<tr><th style=\"text-align: right;\">               date</th><th style=\"text-align: right;\">  Present Value</th></tr>\n</thead>\n<tbody>\n<tr><td style=\"text-align: right;\">2001-12-31 00:00:00</td><td style=\"text-align: right;\">  $7,602,515.78</td></tr>\n<tr><td style=\"text-align: right;\">2002-12-31 00:00:00</td><td style=\"text-align: right;\">  $7,511,089.53</td></tr>\n<tr><td style=\"text-align: right;\">2003-12-31 00:00:00</td><td style=\"text-align: right;\">  $7,421,398.50</td></tr>\n<tr><td style=\"text-align: right;\">2004-12-31 00:00:00</td><td style=\"text-align: right;\">  $7,333,407.97</td></tr>\n<tr><td style=\"text-align: right;\">2005-12-31 00:00:00</td><td style=\"text-align: right;\">  $4,893,013.78</td></tr>\n<tr><td style=\"text-align: right;\">2006-12-31 00:00:00</td><td style=\"text-align: right;\">  $7,162,393.72</td></tr>\n<tr><td style=\"text-align: right;\">2007-12-31 00:00:00</td><td style=\"text-align: right;\">  $7,079,304.69</td></tr>\n<tr><td style=\"text-align: right;\">2008-12-31 00:00:00</td><td style=\"text-align: right;\">  $6,997,785.50</td></tr>\n<tr><td style=\"text-align: right;\">2009-12-31 00:00:00</td><td style=\"text-align: right;\">  $6,917,805.44</td></tr>\n<tr><td style=\"text-align: right;\">2010-12-31 00:00:00</td><td style=\"text-align: right;\">$149,816,320.83</td></tr>\n</tbody>\n</table>"
     },
     "execution_count": 56,
     "metadata": {},
     "output_type": "execute_result"
    }
   ],
   "source": [
    "discount_rate = 0.07\n",
    "pvs = root['nacf_reversion'].sum().pv(\n",
    "    name='Present Value',\n",
    "    frequency=rk.duration.Type.YEAR,\n",
    "    rate=discount_rate)\n",
    "pvs"
   ],
   "metadata": {
    "collapsed": false,
    "ExecuteTime": {
     "end_time": "2024-03-14T12:20:32.802855Z",
     "start_time": "2024-03-14T12:20:32.797394Z"
    }
   }
  },
  {
   "cell_type": "code",
   "execution_count": 57,
   "outputs": [
    {
     "name": "stdout",
     "output_type": "stream",
     "text": [
      "Property PV: $212,735,036\n"
     ]
    }
   ],
   "source": [
    "property_pv = pvs.collapse().movements.item()\n",
    "print('Property PV: ${:,.0f}'.format(property_pv))"
   ],
   "metadata": {
    "collapsed": false,
    "ExecuteTime": {
     "end_time": "2024-03-14T12:20:32.805659Z",
     "start_time": "2024-03-14T12:20:32.803476Z"
    }
   }
  }
 ],
 "metadata": {
  "kernelspec": {
   "display_name": "Python 3 (ipykernel)",
   "language": "python",
   "name": "python3"
  },
  "language_info": {
   "codemirror_mode": {
    "name": "ipython",
    "version": 3
   },
   "file_extension": ".py",
   "mimetype": "text/x-python",
   "name": "python",
   "nbconvert_exporter": "python",
   "pygments_lexer": "ipython3",
   "version": "3.10.4"
  }
 },
 "nbformat": 4,
 "nbformat_minor": 1
}
