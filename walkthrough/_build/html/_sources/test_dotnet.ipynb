{
 "cells": [
  {
   "cell_type": "markdown",
   "source": [
    "# Test Dotnet"
   ],
   "metadata": {
    "collapsed": false
   },
   "id": "d877fe3897b95f29"
  },
  {
   "cell_type": "code",
   "execution_count": 5,
   "id": "a08c2e2d-ad99-4ed6-9832-7b2a98e452df",
   "metadata": {
    "ExecuteTime": {
     "end_time": "2024-03-22T12:22:44.237416Z",
     "start_time": "2024-03-22T12:22:44.228896Z"
    }
   },
   "outputs": [],
   "source": [
    "var foo = 2;"
   ]
  },
  {
   "cell_type": "code",
   "execution_count": 6,
   "id": "7fa2aa06-a63b-4e13-8547-381e87073771",
   "metadata": {
    "ExecuteTime": {
     "end_time": "2024-03-22T12:22:44.245361Z",
     "start_time": "2024-03-22T12:22:44.238036Z"
    }
   },
   "outputs": [
    {
     "data": {
      "text/html": "<div class=\"dni-plaintext\"><pre>2</pre></div><style>\r\n.dni-code-hint {\r\n    font-style: italic;\r\n    overflow: hidden;\r\n    white-space: nowrap;\r\n}\r\n.dni-treeview {\r\n    white-space: nowrap;\r\n}\r\n.dni-treeview td {\r\n    vertical-align: top;\r\n    text-align: start;\r\n}\r\ndetails.dni-treeview {\r\n    padding-left: 1em;\r\n}\r\ntable td {\r\n    text-align: start;\r\n}\r\ntable tr { \r\n    vertical-align: top; \r\n    margin: 0em 0px;\r\n}\r\ntable tr td pre \r\n{ \r\n    vertical-align: top !important; \r\n    margin: 0em 0px !important;\r\n} \r\ntable th {\r\n    text-align: start;\r\n}\r\n</style>"
     },
     "execution_count": 6,
     "metadata": {},
     "output_type": "execute_result"
    }
   ],
   "source": [
    "foo"
   ]
  },
  {
   "cell_type": "code",
   "execution_count": null,
   "id": "30ce8b5d-b709-4794-9924-8968b7d84005",
   "metadata": {
    "is_executing": true,
    "ExecuteTime": {
     "start_time": "2024-03-22T12:22:44.245850Z"
    }
   },
   "outputs": [
    {
     "data": {
      "text/html": "<div><div></div><div><strong>Installing Packages</strong><ul><li><span>Hypar.Elements..</span></li></ul></div><div></div></div>"
     },
     "metadata": {},
     "output_type": "display_data"
    }
   ],
   "source": [
    "#r \"nuget: Hypar.Elements, *-*\""
   ]
  },
  {
   "cell_type": "code",
   "outputs": [],
   "source": [
    "var model = new Model();\n",
    "var width = 10;\n",
    "var length = 19;\n",
    "var height = 20;\n",
    "var footprint = Polygon.Rectangle(width, length);\n",
    "// Masses can be used for building masses\n",
    "var mass = new Mass(footprint, height);\n",
    "model.AddElement(mass);\n",
    "return model;"
   ],
   "metadata": {
    "collapsed": false,
    "is_executing": true
   },
   "id": "9702d57cc4d5f84a",
   "execution_count": null
  },
  {
   "cell_type": "code",
   "outputs": [],
   "source": [],
   "metadata": {
    "collapsed": false,
    "is_executing": true
   },
   "id": "2229824524cea21e"
  }
 ],
 "metadata": {
  "kernelspec": {
   "display_name": ".NET (C#)",
   "language": "C#",
   "name": ".net-csharp"
  },
  "language_info": {
   "file_extension": ".cs",
   "mimetype": "text/x-csharp",
   "name": "C#",
   "pygments_lexer": "csharp",
   "version": "12.0"
  }
 },
 "nbformat": 4,
 "nbformat_minor": 5
}
