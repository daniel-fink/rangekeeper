{
 "cells": [
  {
   "cell_type": "markdown",
   "metadata": {},
   "source": [
    "# An example of a Flexible Mixed-Unit Real Estate Development "
   ]
  },
  {
   "cell_type": "markdown",
   "metadata": {
    "collapsed": false
   },
   "source": [
    "From Chapters 16 to 23 of {cite}`farevuu2018`, the authors describe and iterate \n",
    "through realistic situations where a real estate development would exercise \n",
    "options in response to market uncertainty.\n",
    "\n",
    "This notebook condenses those chapters to showcase how *Rangekeeper* facilitates\n",
    "the modelling and evaluation of realistic scenario options."
   ]
  },
  {
   "cell_type": "markdown",
   "metadata": {
    "collapsed": false
   },
   "source": [
    "## Setup\n",
    "Import the required modules"
   ]
  },
  {
   "cell_type": "code",
   "execution_count": 1,
   "metadata": {
    "collapsed": false,
    "ExecuteTime": {
     "end_time": "2024-02-13T02:59:38.943247Z",
     "start_time": "2024-02-13T02:59:37.173617Z"
    }
   },
   "outputs": [],
   "source": [
    "import json\n",
    "import os\n",
    "\n",
    "import locale\n",
    "import urllib.parse\n",
    "import json\n",
    "import pandas as pd\n",
    "import networkx as nx\n",
    "from IPython.display import IFrame\n",
    "import plotly.subplots\n",
    "import plotly.offline as py\n",
    "\n",
    "import rangekeeper as rk"
   ]
  },
  {
   "cell_type": "code",
   "outputs": [],
   "source": [
    "locale.setlocale(locale.LC_ALL, '')\n",
    "units = rk.measure.Index.registry\n",
    "currency = rk.measure.register_currency(registry=units)"
   ],
   "metadata": {
    "collapsed": false,
    "ExecuteTime": {
     "end_time": "2024-02-13T02:59:38.981235Z",
     "start_time": "2024-02-13T02:59:38.945883Z"
    }
   },
   "execution_count": 2
  },
  {
   "cell_type": "markdown",
   "source": [
    "## "
   ],
   "metadata": {
    "collapsed": false
   }
  },
  {
   "cell_type": "code",
   "outputs": [],
   "source": [],
   "metadata": {
    "collapsed": false,
    "ExecuteTime": {
     "end_time": "2024-02-13T02:59:38.984845Z",
     "start_time": "2024-02-13T02:59:38.981493Z"
    }
   },
   "execution_count": 2
  },
  {
   "cell_type": "code",
   "outputs": [],
   "source": [
    "params = dict(\n",
    "    land_area = 106000,\n",
    "    total_units = 850,\n",
    "    acq_price = 200000000 * currency.units,\n",
    "    far = 2.0,\n",
    "    start_date= pd.Timestamp('2001-01-01'),\n",
    "    num_periods = 10,\n",
    "    period_type = rk.periodicity.Type.YEAR,\n",
    "    acquisition_cost = -200000000 * currency.units,\n",
    "    growth_rate = 0.02,\n",
    "    unit_sales_proj_form=rk.distribution.PERT(\n",
    "        peak=0.1333,\n",
    "        weighting=12\n",
    "        )\n",
    "    )"
   ],
   "metadata": {
    "collapsed": false,
    "ExecuteTime": {
     "end_time": "2024-02-13T02:59:38.988189Z",
     "start_time": "2024-02-13T02:59:38.985661Z"
    }
   },
   "execution_count": 3
  },
  {
   "cell_type": "code",
   "outputs": [],
   "source": [
    "class Model:\n",
    "    def __init__(self) -> None:\n",
    "        self.spaces = {}\n",
    "    def set_params(self, params: dict) -> None:\n",
    "        self.params = params\n",
    "    def set_market(self, market: rk.dynamics.market.Market) -> None:\n",
    "        self.market = market\n",
    "    def init_spans(self) -> None:\n",
    "        self.calc_span = rk.span.Span.from_num_periods(\n",
    "            name='Span to Calculate Reversion',\n",
    "            date=self.params['start_date'],\n",
    "            period_type=self.params['period_type'],\n",
    "            num_periods=self.params['num_periods'] + 1)\n",
    "        self.acq_span = rk.span.Span.from_num_periods(\n",
    "            name='Acquisition Span',\n",
    "            date=rk.periodicity.offset_date(\n",
    "                self.params['start_date'],\n",
    "                num_periods=-1,\n",
    "                period_type=self.params['period_type']),\n",
    "            period_type=self.params['period_type'],\n",
    "            num_periods=1)\n",
    "        self.span = self.calc_span.shift(\n",
    "            name='Span',\n",
    "            num_periods=-1,\n",
    "            period_type=self.params['period_type'],\n",
    "            bound='end')\n",
    "        self.reversion_span = self.span.shift(\n",
    "            name='Reversion Span',\n",
    "            num_periods=self.params['num_periods'] - 1,\n",
    "            period_type=self.params['period_type'],\n",
    "            bound='start')"
   ],
   "metadata": {
    "collapsed": false,
    "ExecuteTime": {
     "end_time": "2024-02-13T02:59:38.993937Z",
     "start_time": "2024-02-13T02:59:38.990350Z"
    }
   },
   "execution_count": 4
  },
  {
   "cell_type": "code",
   "outputs": [],
   "source": [
    "@rk.update_class(Model)\n",
    "class Model:\n",
    "    def init_sales(self) -> None:\n",
    "        sales_proj = rk.projection.Distribution(\n",
    "                form=params['unit_sales_proj_form'],\n",
    "                sequence=rk.periodicity.period_index(\n",
    "                    include_start=self.calc_span.start_date,\n",
    "                    period_type=params['period_type'],\n",
    "                    bound=self.calc_span.end_date\n",
    "                    )\n",
    "                ) \n",
    "        self.total_unit_sales = rk.flux.Flow.from_projection(\n",
    "            name='Total Unit Sales',\n",
    "            value=params['total_units'],\n",
    "            proj=sales_proj\n",
    "            )\n",
    "    def init_space(\n",
    "            self,\n",
    "            params: dict) -> None:\n",
    "        self.spaces[params['name']] = dict(\n",
    "            unit_sales = rk.flux.Flow(\n",
    "                name='{0} Unit Sales'.format(params['name']),\n",
    "                movements=self.total_unit_sales.movements * params['prop']\n",
    "                )\n",
    "            )"
   ],
   "metadata": {
    "collapsed": false,
    "ExecuteTime": {
     "end_time": "2024-02-13T02:59:38.996940Z",
     "start_time": "2024-02-13T02:59:38.994122Z"
    }
   },
   "execution_count": 5
  },
  {
   "cell_type": "code",
   "outputs": [],
   "source": [
    "model = Model()\n",
    "model.set_params(params=params)\n",
    "model.init_spans()\n",
    "model.init_sales()"
   ],
   "metadata": {
    "collapsed": false,
    "ExecuteTime": {
     "end_time": "2024-02-13T02:59:39.003262Z",
     "start_time": "2024-02-13T02:59:39.000124Z"
    }
   },
   "execution_count": 6
  },
  {
   "cell_type": "code",
   "outputs": [
    {
     "data": {
      "text/plain": "<Figure size 640x480 with 1 Axes>",
      "image/png": "[encoded data removed]"
     },
     "metadata": {},
     "output_type": "display_data"
    }
   ],
   "source": [
    "model.total_unit_sales.plot()"
   ],
   "metadata": {
    "collapsed": false,
    "ExecuteTime": {
     "end_time": "2024-02-13T02:59:39.090760Z",
     "start_time": "2024-02-13T02:59:39.002732Z"
    }
   },
   "execution_count": 7
  },
  {
   "cell_type": "code",
   "outputs": [],
   "source": [
    "typeA_params = dict(\n",
    "    name = 'Type A',\n",
    "    prop = .5\n",
    "    )\n",
    "model.init_space(params=typeA_params)"
   ],
   "metadata": {
    "collapsed": false,
    "ExecuteTime": {
     "end_time": "2024-02-13T02:59:39.091438Z",
     "start_time": "2024-02-13T02:59:39.089188Z"
    }
   },
   "execution_count": 8
  },
  {
   "cell_type": "code",
   "outputs": [
    {
     "data": {
      "text/plain": "{'Type A': {'unit_sales': <rangekeeper.flux.Flow at 0x2b5277160>}}"
     },
     "execution_count": 9,
     "metadata": {},
     "output_type": "execute_result"
    }
   ],
   "source": [
    "model.spaces"
   ],
   "metadata": {
    "collapsed": false,
    "ExecuteTime": {
     "end_time": "2024-02-13T02:59:39.099519Z",
     "start_time": "2024-02-13T02:59:39.093653Z"
    }
   },
   "execution_count": 9
  },
  {
   "cell_type": "code",
   "outputs": [],
   "source": [
    "property = rk.graph.Assembly(\n",
    "    name='Property',\n",
    "    type='property'\n",
    "    )\n",
    "typeA = rk.graph.Assembly(\n",
    "    name='Type A',\n",
    "    type='A'\n",
    "    )\n",
    "typeB = rk.graph.Assembly(\n",
    "    name='Type B',\n",
    "    type='B'    \n",
    "    )\n",
    "property.add_relationship(relationship=(property, typeA, 'contains'))\n",
    "property.add_relationship(relationship=(property, typeB, 'contains'))"
   ],
   "metadata": {
    "collapsed": false,
    "ExecuteTime": {
     "end_time": "2024-02-13T02:59:39.099911Z",
     "start_time": "2024-02-13T02:59:39.097358Z"
    }
   },
   "execution_count": 10
  },
  {
   "cell_type": "code",
   "outputs": [
    {
     "name": "stdout",
     "output_type": "stream",
     "text": [
      "Property.html\n"
     ]
    }
   ],
   "source": [
    "property.plot()"
   ],
   "metadata": {
    "collapsed": false,
    "ExecuteTime": {
     "end_time": "2024-02-13T02:59:46.763894Z",
     "start_time": "2024-02-13T02:59:46.674607Z"
    }
   },
   "execution_count": 12
  },
  {
   "cell_type": "code",
   "outputs": [],
   "source": [],
   "metadata": {
    "collapsed": false,
    "ExecuteTime": {
     "start_time": "2024-02-13T02:59:39.385235Z"
    }
   }
  }
 ],
 "metadata": {
  "kernelspec": {
   "display_name": "Python 3 (ipykernel)",
   "language": "python",
   "name": "python3"
  },
  "language_info": {
   "codemirror_mode": {
    "name": "ipython",
    "version": 3
   },
   "file_extension": ".py",
   "mimetype": "text/x-python",
   "name": "python",
   "nbconvert_exporter": "python",
   "pygments_lexer": "ipython3",
   "version": "3.10.4"
  }
 },
 "nbformat": 4,
 "nbformat_minor": 1
}
