{
 "cells": [
  {
   "attachments": {},
   "cell_type": "markdown",
   "metadata": {
    "collapsed": false
   },
   "source": [
    "# Flexibility under Uncertainty\n",
    "\n",
    "The previous chapter only modelled a single scenario where flexibility was\n",
    "employed. In this chapter, we follow {cite}`farevuu2018` (Chapter 9) in\n",
    "assessing how flexibility can be used to manage, and benefit from, uncertainty."
   ]
  },
  {
   "cell_type": "markdown",
   "metadata": {
    "collapsed": false
   },
   "source": [
    "## Multiple Market Scenarios\n",
    "If we can produce one future market scenario, we can also produce many. To\n",
    "incorporate our uncertainty about how future scenarios may unfold, we derive\n",
    "`Market` input parameters by sampling from probability distributions that\n",
    "we suspect are realistic for the market in question."
   ]
  },
  {
   "cell_type": "markdown",
   "metadata": {
    "collapsed": false
   },
   "source": [
    "### Market Parameters from Sampling Distributions of their Likelihoods\n",
    "*Rangekeeper* provides alternate methods for `Market` `dynamics` modules that\n",
    "take probability distributions as inputs, rather than single values. These\n",
    "methods also require us to specify how many iterations (runs, or simulations) we\n",
    "will produce."
   ]
  },
  {
   "cell_type": "markdown",
   "metadata": {
    "collapsed": false
   },
   "source": [
    "Begin with importing required libraries and configuring our context:"
   ]
  },
  {
   "cell_type": "code",
   "execution_count": 1,
   "metadata": {
    "ExecuteTime": {
     "end_time": "2023-05-18T06:38:00.885700Z",
     "start_time": "2023-05-18T06:38:00.564047Z"
    },
    "collapsed": false
   },
   "outputs": [],
   "source": [
    "import locale\n",
    "import pandas as pd\n",
    "import seaborn as sns\n",
    "\n",
    "import rangekeeper as rk"
   ]
  },
  {
   "cell_type": "code",
   "execution_count": 2,
   "metadata": {
    "ExecuteTime": {
     "end_time": "2023-05-18T06:38:00.885910Z",
     "start_time": "2023-05-18T06:38:00.568737Z"
    },
    "collapsed": false
   },
   "outputs": [],
   "source": [
    "locale.setlocale(locale.LC_ALL, 'en_au')\n",
    "units = rk.measure.Index.registry\n",
    "currency = rk.measure.register_currency(registry=units)"
   ]
  },
  {
   "cell_type": "markdown",
   "metadata": {
    "collapsed": false
   },
   "source": [
    "Specify how many iterations (scenarios) we will produce. This matches the number\n",
    "of samples we will take from the probability distributions:"
   ]
  },
  {
   "cell_type": "code",
   "execution_count": 3,
   "metadata": {
    "ExecuteTime": {
     "end_time": "2023-05-18T06:38:00.887568Z",
     "start_time": "2023-05-18T06:38:00.572998Z"
    },
    "collapsed": false
   },
   "outputs": [],
   "source": [
    "iterations = 10000"
   ]
  },
  {
   "cell_type": "markdown",
   "metadata": {
    "collapsed": false
   },
   "source": [
    "We also need to define the overall `Span` of the `Market`:"
   ]
  },
  {
   "cell_type": "code",
   "execution_count": 4,
   "metadata": {
    "ExecuteTime": {
     "end_time": "2023-05-18T06:38:01.020581Z",
     "start_time": "2023-05-18T06:38:00.583155Z"
    },
    "collapsed": false
   },
   "outputs": [],
   "source": [
    "period_type = rk.periodicity.Type.YEAR\n",
    "span = rk.span.Span.from_num_periods(\n",
    "    name=\"Span\",\n",
    "    date=pd.Timestamp(2000, 1, 1),\n",
    "    period_type=period_type,\n",
    "    num_periods=25)\n",
    "sequence = span.to_index(period_type=period_type)"
   ]
  },
  {
   "cell_type": "markdown",
   "metadata": {
    "collapsed": false
   },
   "source": [
    "#### Overall Trend\n",
    "Following how {cite}`farevuu2018` construct market simulations, a *Rangekeeper*\n",
    "`Market` `Trend` can sample from distributions defining the growth rate (trend)\n",
    "and initial rent value.\n",
    "First define the distributions:"
   ]
  },
  {
   "cell_type": "code",
   "execution_count": 5,
   "metadata": {
    "ExecuteTime": {
     "end_time": "2023-05-18T06:38:01.021973Z",
     "start_time": "2023-05-18T06:38:00.593995Z"
    },
    "collapsed": false
   },
   "outputs": [],
   "source": [
    "growth_rate_dist = rk.distribution.Symmetric(\n",
    "    type=rk.distribution.Type.TRIANGULAR,\n",
    "    mean=-.0005,\n",
    "    residual=.005)\n",
    "initial_value_dist = rk.distribution.Symmetric(\n",
    "    type=rk.distribution.Type.TRIANGULAR,\n",
    "    mean=.05,\n",
    "    residual=.005)"
   ]
  },
  {
   "cell_type": "markdown",
   "metadata": {
    "collapsed": false
   },
   "source": [
    "We now produce the resultant `Trend`s:"
   ]
  },
  {
   "cell_type": "code",
   "execution_count": 6,
   "metadata": {
    "ExecuteTime": {
     "end_time": "2023-05-18T06:38:01.779672Z",
     "start_time": "2023-05-18T06:38:00.600005Z"
    },
    "collapsed": false
   },
   "outputs": [],
   "source": [
    "cap_rate = .05\n",
    "\n",
    "trends = rk.dynamics.trend.Trend.from_likelihoods(\n",
    "    sequence=sequence,\n",
    "    cap_rate=cap_rate,\n",
    "    growth_rate_dist=growth_rate_dist,\n",
    "    initial_value_dist=initial_value_dist,\n",
    "    iterations=iterations)"
   ]
  },
  {
   "cell_type": "markdown",
   "metadata": {
    "collapsed": false
   },
   "source": [
    "We can check that the `Trend`s have been produced as expected:"
   ]
  },
  {
   "cell_type": "code",
   "execution_count": 7,
   "metadata": {
    "ExecuteTime": {
     "end_time": "2023-05-18T06:38:02.138620Z",
     "start_time": "2023-05-18T06:38:01.782970Z"
    },
    "collapsed": false
   },
   "outputs": [
    {
     "data": {
      "text/plain": [
       "<Axes: ylabel='Count'>"
      ]
     },
     "execution_count": 7,
     "metadata": {},
     "output_type": "execute_result"
    },
    {
     "data": {
      "image/png": "[encoded data removed]",
      "text/plain": [
       "<Figure size 640x480 with 1 Axes>"
      ]
     },
     "metadata": {},
     "output_type": "display_data"
    }
   ],
   "source": [
    "initial_values = [trend.initial_value for trend in trends]\n",
    "sns.histplot(\n",
    "    data=initial_values,\n",
    "    bins=20,\n",
    "    kde=True)"
   ]
  },
  {
   "cell_type": "markdown",
   "metadata": {
    "collapsed": false
   },
   "source": [
    "#### Volatility\n",
    "Volatility inputs do not require sampling from distributions, but we will be\n",
    "producing multiple `Volatility` objects, one for each `Trend`:"
   ]
  },
  {
   "cell_type": "code",
   "execution_count": 8,
   "metadata": {
    "ExecuteTime": {
     "end_time": "2023-05-18T06:38:21.530421Z",
     "start_time": "2023-05-18T06:38:02.138319Z"
    },
    "collapsed": false
   },
   "outputs": [],
   "source": [
    "volatility_per_period = .1\n",
    "autoregression_param = .2\n",
    "mean_reversion_param = .3\n",
    "\n",
    "volatilities = rk.dynamics.volatility.Volatility.from_trends(\n",
    "    sequence=sequence,\n",
    "    trends=trends,\n",
    "    volatility_per_period=volatility_per_period,\n",
    "    autoregression_param=autoregression_param,\n",
    "    mean_reversion_param=mean_reversion_param)"
   ]
  },
  {
   "cell_type": "markdown",
   "metadata": {
    "collapsed": false
   },
   "source": [
    "#### Cyclicality\n",
    "{cite}`farevuu2018` document multiple means to incorporate estimations of market\n",
    "cycle parameters into a market simulation. Here we replicate the distribution\n",
    "parameters for use in *Rangekeeper*."
   ]
  },
  {
   "cell_type": "markdown",
   "metadata": {
    "collapsed": false
   },
   "source": [
    "We are agnostic about where the market currently is in the cycle, and want\n",
    "to simulate all possibilities; thus the Space (Rent) Cycle Phase Proportion (of\n",
    "its period) is sampled from a uniform distribution defaulted to a range between\n",
    "0 & 1):"
   ]
  },
  {
   "cell_type": "code",
   "execution_count": 9,
   "metadata": {
    "ExecuteTime": {
     "end_time": "2023-05-18T06:38:21.536046Z",
     "start_time": "2023-05-18T06:38:21.534294Z"
    },
    "collapsed": false
   },
   "outputs": [],
   "source": [
    "space_cycle_phase_prop_dist = rk.distribution.Uniform()"
   ]
  },
  {
   "cell_type": "markdown",
   "metadata": {
    "collapsed": false
   },
   "source": [
    "The Space (Rent) Cycle Period is a random sample between 10 & 20 years:"
   ]
  },
  {
   "cell_type": "code",
   "execution_count": 10,
   "metadata": {
    "ExecuteTime": {
     "end_time": "2023-05-18T06:38:21.546893Z",
     "start_time": "2023-05-18T06:38:21.538147Z"
    },
    "collapsed": false
   },
   "outputs": [],
   "source": [
    "space_cycle_period_dist=rk.distribution.Symmetric(\n",
    "    type=rk.distribution.Type.UNIFORM,\n",
    "    mean=15,\n",
    "    residual=5)"
   ]
  },
  {
   "cell_type": "markdown",
   "metadata": {
    "collapsed": false
   },
   "source": [
    "The Space (Rent) Cycle peak-to-trough Height is set at 50% (see `residual` fixed\n",
    "to 0):"
   ]
  },
  {
   "cell_type": "code",
   "execution_count": 11,
   "metadata": {
    "ExecuteTime": {
     "end_time": "2023-05-18T06:38:21.547091Z",
     "start_time": "2023-05-18T06:38:21.541808Z"
    },
    "collapsed": false
   },
   "outputs": [],
   "source": [
    "space_cycle_height_dist=rk.distribution.Symmetric(\n",
    "    type=rk.distribution.Type.UNIFORM,\n",
    "    mean=.5,\n",
    "    residual=0)"
   ]
  },
  {
   "cell_type": "markdown",
   "metadata": {
    "collapsed": false
   },
   "source": [
    "The Asset (Cap Rate) Cycle Phase differs from the Space Cycle by between -1/10th\n",
    "and 1/10th of the Space Cycle Period:"
   ]
  },
  {
   "cell_type": "code",
   "execution_count": 12,
   "metadata": {
    "ExecuteTime": {
     "end_time": "2023-05-18T06:38:21.550129Z",
     "start_time": "2023-05-18T06:38:21.545830Z"
    },
    "collapsed": false
   },
   "outputs": [],
   "source": [
    "asset_cycle_phase_diff_prop_dist=rk.distribution.Symmetric(\n",
    "    type=rk.distribution.Type.UNIFORM,\n",
    "    mean=0,\n",
    "    residual=.1)"
   ]
  },
  {
   "cell_type": "markdown",
   "metadata": {
    "collapsed": false
   },
   "source": [
    "The Asset (Cap Rate) Cycle Period in between -1 and 1 year different to that of\n",
    "the Space (Rent) Cycle's"
   ]
  },
  {
   "cell_type": "code",
   "execution_count": 13,
   "metadata": {
    "ExecuteTime": {
     "end_time": "2023-05-18T06:38:21.573346Z",
     "start_time": "2023-05-18T06:38:21.549951Z"
    },
    "collapsed": false
   },
   "outputs": [],
   "source": [
    "asset_cycle_period_diff_dist=rk.distribution.Symmetric(\n",
    "    type=rk.distribution.Type.UNIFORM,\n",
    "    mean=0,\n",
    "    residual=1)"
   ]
  },
  {
   "cell_type": "markdown",
   "metadata": {
    "collapsed": false
   },
   "source": [
    "The Asset (Cap Rate) Cycle Amplitude is fixed to 2%:"
   ]
  },
  {
   "cell_type": "code",
   "execution_count": 14,
   "metadata": {
    "ExecuteTime": {
     "end_time": "2023-05-18T06:38:21.573939Z",
     "start_time": "2023-05-18T06:38:21.554560Z"
    },
    "collapsed": false
   },
   "outputs": [],
   "source": [
    "asset_cycle_amplitude_dist=rk.distribution.Symmetric(\n",
    "    type=rk.distribution.Type.UNIFORM,\n",
    "    mean=.02,\n",
    "    residual=0.)"
   ]
  },
  {
   "cell_type": "markdown",
   "metadata": {
    "collapsed": false
   },
   "source": [
    "For both the Space and Asset Cycles, we remove any cycle asymmetries, in order\n",
    "to align with {cite}`farevuu2018`'s spreadsheet for Chapters 8, 9, 10. In future\n",
    "classes (and possibly future editions), they incorporate cycle asymmetries."
   ]
  },
  {
   "cell_type": "code",
   "execution_count": 15,
   "metadata": {
    "ExecuteTime": {
     "end_time": "2023-05-18T06:38:21.573985Z",
     "start_time": "2023-05-18T06:38:21.561536Z"
    },
    "collapsed": false
   },
   "outputs": [],
   "source": [
    "space_cycle_asymmetric_parameter_dist=rk.distribution.Symmetric(\n",
    "    type=rk.distribution.Type.UNIFORM,\n",
    "    mean=0,\n",
    "    residual=0.)\n",
    "asset_cycle_asymmetric_parameter_dist=rk.distribution.Symmetric(\n",
    "    type=rk.distribution.Type.UNIFORM,\n",
    "    mean=0,\n",
    "    residual=0.)"
   ]
  },
  {
   "cell_type": "markdown",
   "metadata": {
    "collapsed": false
   },
   "source": [
    "We now produce the resultant `Cycle`s:"
   ]
  },
  {
   "cell_type": "code",
   "execution_count": 16,
   "metadata": {
    "ExecuteTime": {
     "end_time": "2023-05-18T06:38:26.533915Z",
     "start_time": "2023-05-18T06:38:21.564554Z"
    },
    "collapsed": false
   },
   "outputs": [],
   "source": [
    "cyclicalities = rk.dynamics.cyclicality.Cyclicality.from_likelihoods(\n",
    "    sequence=sequence,\n",
    "    space_cycle_phase_prop_dist=space_cycle_phase_prop_dist,\n",
    "    space_cycle_period_dist=space_cycle_period_dist,\n",
    "    space_cycle_height_dist=space_cycle_height_dist,\n",
    "    asset_cycle_phase_diff_prop_dist=asset_cycle_phase_diff_prop_dist,\n",
    "    asset_cycle_period_diff_dist=asset_cycle_period_diff_dist,\n",
    "    asset_cycle_amplitude_dist=asset_cycle_amplitude_dist,\n",
    "    space_cycle_asymmetric_parameter_dist=space_cycle_asymmetric_parameter_dist,\n",
    "    asset_cycle_asymmetric_parameter_dist=asset_cycle_asymmetric_parameter_dist,\n",
    "    iterations=iterations)"
   ]
  },
  {
   "cell_type": "markdown",
   "metadata": {
    "collapsed": false
   },
   "source": [
    "#### Noise & Black Swan\n",
    "Noise & Black Swan inputs do not require sampling from distributions:"
   ]
  },
  {
   "cell_type": "code",
   "execution_count": 17,
   "metadata": {
    "ExecuteTime": {
     "end_time": "2023-05-18T06:38:26.534121Z",
     "start_time": "2023-05-18T06:38:26.520623Z"
    },
    "collapsed": false
   },
   "outputs": [],
   "source": [
    "noise = rk.dynamics.noise.Noise(\n",
    "    sequence=sequence,\n",
    "    noise_dist=rk.distribution.Symmetric(\n",
    "        type=rk.distribution.Type.TRIANGULAR,\n",
    "        mean=0.,\n",
    "        residual=.1))\n",
    "black_swan = rk.dynamics.black_swan.BlackSwan(\n",
    "    sequence=sequence,\n",
    "    likelihood=.05,\n",
    "    dissipation_rate=mean_reversion_param,\n",
    "    probability=rk.distribution.Uniform(),\n",
    "    impact=-.25)"
   ]
  },
  {
   "cell_type": "markdown",
   "metadata": {
    "collapsed": false
   },
   "source": [
    "### Markets\n",
    "Now we can integrate the previous constructs into multiple `Market` simulations:"
   ]
  },
  {
   "cell_type": "code",
   "execution_count": 18,
   "metadata": {
    "ExecuteTime": {
     "end_time": "2023-05-18T06:39:19.729513Z",
     "start_time": "2023-05-18T06:38:26.527896Z"
    },
    "collapsed": false
   },
   "outputs": [],
   "source": [
    "markets = rk.dynamics.market.Market.from_likelihoods(\n",
    "    sequence=sequence,\n",
    "    trends=trends,\n",
    "    volatilities=volatilities,\n",
    "    cyclicalities=cyclicalities,\n",
    "    noise=noise,\n",
    "    black_swan=black_swan)"
   ]
  },
  {
   "cell_type": "markdown",
   "metadata": {
    "collapsed": false
   },
   "source": [
    "## Comparing Models\n",
    "From {cite}`farevuu2018`: to obtain the value of flexibility, we compare the\n",
    "project utilizing flexibility against a base case or alternative that lacks the\n",
    "particular flexibility or rule we are evaluating.\n",
    "We must expose the inflexible case to the same independent, random future\n",
    "scenarios as the flexible case. We must compute the outcomes for the two cases,\n",
    "inflexible and flexible, under exactly the same scenarios of pricing factor\n",
    "realizations. We can then compare the results of both the inflexible and\n",
    "flexible cases, not only against the (single‐number) traditional pro forma\n",
    "metrics, but also side by side against each other for the entire distribution of\n",
    "possible (ex‐post) outcomes, recognizing the uncertainty and price dynamics that\n",
    "realistically exist."
   ]
  },
  {
   "cell_type": "markdown",
   "metadata": {
    "collapsed": false
   },
   "source": [
    "### Inflexible (Base) Model\n",
    "Define the Base Model as we did the Ex-Post Inflexible Model in the previous\n",
    "section:"
   ]
  },
  {
   "cell_type": "code",
   "execution_count": 19,
   "metadata": {
    "ExecuteTime": {
     "end_time": "2023-05-18T06:39:19.733231Z",
     "start_time": "2023-05-18T06:39:19.731874Z"
    },
    "collapsed": false
   },
   "outputs": [],
   "source": [
    "params = {\n",
    "    'start_date': pd.Timestamp('2001-01-01'),\n",
    "    'num_periods': 10,\n",
    "    'period_type': rk.periodicity.Type.YEAR,\n",
    "    'acquisition_cost': -1000 * currency.units,\n",
    "    'initial_income': 100 * currency.units,\n",
    "    'growth_rate': 0.02,\n",
    "    'vacancy_rate': 0.05,\n",
    "    'opex_pgi_ratio': 0.35,\n",
    "    'capex_pgi_ratio': 0.1,\n",
    "    'exit_caprate': 0.05,\n",
    "    'discount_rate': 0.07\n",
    "    }"
   ]
  },
  {
   "cell_type": "code",
   "execution_count": 20,
   "metadata": {
    "ExecuteTime": {
     "end_time": "2023-05-18T06:39:19.745183Z",
     "start_time": "2023-05-18T06:39:19.743071Z"
    },
    "collapsed": false
   },
   "outputs": [],
   "source": [
    "class BaseModel:\n",
    "    def __init__(self) -> None:\n",
    "        pass\n",
    "    def set_params(self, params: dict) -> None:\n",
    "        self.params = params\n",
    "    def set_market(self, market: rk.dynamics.market.Market) -> None:\n",
    "        self.market = market\n",
    "    def init_spans(self):\n",
    "        self.calc_span = rk.span.Span.from_num_periods(\n",
    "            name='Span to Calculate Reversion',\n",
    "            date=self.params['start_date'],\n",
    "            period_type=self.params['period_type'],\n",
    "            num_periods=self.params['num_periods'] + 1)\n",
    "        self.acq_span = rk.span.Span.from_num_periods(\n",
    "            name='Acquisition Span',\n",
    "            date=rk.periodicity.offset_date(\n",
    "                self.params['start_date'],\n",
    "                num_periods=-1,\n",
    "                period_type=self.params['period_type']),\n",
    "            period_type=self.params['period_type'],\n",
    "            num_periods=1)\n",
    "        self.span = self.calc_span.shift(\n",
    "            name='Span',\n",
    "            num_periods=-1,\n",
    "            period_type=self.params['period_type'],\n",
    "            bound='end')\n",
    "        self.reversion_span = self.span.shift(\n",
    "            name='Reversion Span',\n",
    "            num_periods=self.params['num_periods'] - 1,\n",
    "            period_type=self.params['period_type'],\n",
    "            bound='start')\n",
    "    def calc_acquisition(self):\n",
    "        self.acquisition = rk.flux.Flow.from_projection(\n",
    "            name='Acquisition',\n",
    "            value=self.params['acquisition_cost'],\n",
    "            proj=rk.projection.Distribution(\n",
    "                form=rk.distribution.Uniform(),\n",
    "                sequence=self.acq_span.to_index(period_type=self.params['period_type'])),\n",
    "            units=currency.units)\n",
    "    def calc_egi(self):\n",
    "        pgi = rk.flux.Flow.from_projection(\n",
    "            name='Potential Gross Income',\n",
    "            value=self.params['initial_income'],\n",
    "            proj=rk.projection.Extrapolation(\n",
    "                form=rk.extrapolation.Compounding(\n",
    "                    rate=self.params['growth_rate']),\n",
    "                sequence=self.calc_span.to_index(period_type=self.params['period_type'])),\n",
    "            units=currency.units)\n",
    "\n",
    "        # Construct a Stream that multiplies the Base Model's PGI by the\n",
    "        # simulated Market's Space Market factors\n",
    "        self.pgi = rk.flux.Stream(\n",
    "            name='Potential Gross Income',\n",
    "            flows=[\n",
    "                pgi,\n",
    "                self.market.space_market_price_factors.trim_to_span(self.calc_span)\n",
    "                ],\n",
    "            period_type=self.params['period_type']\n",
    "            ).product(registry=rk.measure.Index.registry)\n",
    "\n",
    "        self.vacancy = rk.flux.Flow(\n",
    "            name='Vacancy Allowance',\n",
    "            movements=self.pgi.movements * -self.params['vacancy_rate'],\n",
    "            units=currency.units)\n",
    "        self.egi = rk.flux.Stream(\n",
    "            name='Effective Gross Income',\n",
    "            flows=[self.pgi, self.vacancy],\n",
    "            period_type=self.params['period_type']).sum()\n",
    "    def calc_noi(self):\n",
    "        self.opex = rk.flux.Flow(\n",
    "            name='Operating Expenses',\n",
    "            movements=self.pgi.movements * self.params['opex_pgi_ratio'],\n",
    "            units=currency.units).invert()\n",
    "        self.noi = rk.flux.Stream(\n",
    "            name='Net Operating Income',\n",
    "            flows=[self.egi, self.opex],\n",
    "            period_type=self.params['period_type']).sum()\n",
    "    def calc_ncf(self):\n",
    "        self.capex = rk.flux.Flow(\n",
    "            name='Capital Expenditures',\n",
    "            movements=self.pgi.movements * self.params['capex_pgi_ratio'],\n",
    "            units=currency.units).invert()\n",
    "        self.net_cf = rk.flux.Stream(\n",
    "            name='Net Annual Cashflow',\n",
    "            flows=[self.noi, self.capex],\n",
    "            period_type=self.params['period_type']).sum()\n",
    "    def calc_reversion(self):\n",
    "            # Construct the Reversions using the simulated Market's Asset Market\n",
    "            # factors (cap rates):\n",
    "            self.reversions = rk.flux.Flow(\n",
    "                name='Reversions',\n",
    "                movements=self.net_cf.movements.shift(periods=-1).dropna() /\n",
    "                          self.market.implied_rev_cap_rate.movements,\n",
    "                units=currency.units).trim_to_span(span=self.span)\n",
    "\n",
    "            self.reversion = self.reversions.trim_to_span(\n",
    "                span=self.reversion_span,\n",
    "                name='Reversion')\n",
    "            self.pbtcfs = rk.flux.Stream(\n",
    "                name='PBTCFs',\n",
    "                flows=[\n",
    "                    self.net_cf.trim_to_span(span=self.span),\n",
    "                    self.reversions.trim_to_span(span=self.reversion_span)\n",
    "                    ],\n",
    "                period_type=self.params['period_type'])\n",
    "    def calc_metrics(self):\n",
    "        pvs = []\n",
    "        irrs = []\n",
    "        for period in self.net_cf.trim_to_span(span=self.span).movements.index:\n",
    "            cumulative_net_cf = self.net_cf.trim_to_span(\n",
    "                span=rk.span.Span(\n",
    "                    name='Cumulative Net Cashflow Span',\n",
    "                    start_date=self.params['start_date'],\n",
    "                    end_date=period))\n",
    "            reversion = rk.flux.Flow(\n",
    "                movements=self.reversions.movements.loc[[period]],\n",
    "                units=currency.units)\n",
    "            cumulative_net_cf_with_rev = rk.flux.Stream(\n",
    "                name='Net Cashflow with Reversion',\n",
    "                flows=[\n",
    "                    cumulative_net_cf,\n",
    "                    reversion\n",
    "                    ],\n",
    "                period_type=self.params['period_type'])\n",
    "            pv = cumulative_net_cf_with_rev.sum().pv(\n",
    "                name='Present Value',\n",
    "                period_type=self.params['period_type'],\n",
    "                discount_rate=self.params['discount_rate'])\n",
    "            pvs.append(pv.collapse().movements)\n",
    "\n",
    "            incl_acq = rk.flux.Stream(\n",
    "                name='Net Cashflow with Reversion and Acquisition',\n",
    "                flows=[cumulative_net_cf_with_rev.sum(), self.acquisition],\n",
    "                period_type=self.params['period_type'])\n",
    "\n",
    "            irrs.append(round(incl_acq.sum().xirr(), 4))\n",
    "\n",
    "        self.pvs = rk.flux.Flow(\n",
    "            name='Present Values',\n",
    "            movements=pd.concat(pvs),\n",
    "            units=currency.units)\n",
    "        self.irrs = rk.flux.Flow(\n",
    "            name='Internal Rates of Return',\n",
    "            movements=pd.Series(irrs, index=self.pvs.movements.index),\n",
    "            units=None)\n",
    "    def generate(self):\n",
    "        self.init_spans()\n",
    "        self.calc_acquisition()\n",
    "        self.calc_egi()\n",
    "        self.calc_noi()\n",
    "        self.calc_ncf()\n",
    "        self.calc_reversion()\n",
    "        self.calc_metrics()"
   ]
  },
  {
   "cell_type": "markdown",
   "metadata": {
    "collapsed": false
   },
   "source": [
    "For each `Market`, we then run the Base Model.\n",
    "To speed this up we can use multiprocessing, so we need to import and configure\n",
    "a few libraries:"
   ]
  },
  {
   "cell_type": "code",
   "execution_count": 21,
   "metadata": {
    "ExecuteTime": {
     "end_time": "2023-05-18T06:39:19.748045Z",
     "start_time": "2023-05-18T06:39:19.746009Z"
    },
    "collapsed": false
   },
   "outputs": [],
   "source": [
    "import os\n",
    "from typing import List\n",
    "import multiprocess\n",
    "import pint\n",
    "pint.set_application_registry(rk.measure.Index.registry)"
   ]
  },
  {
   "cell_type": "code",
   "execution_count": 22,
   "metadata": {
    "ExecuteTime": {
     "end_time": "2023-05-18T06:39:19.764188Z",
     "start_time": "2023-05-18T06:39:19.757556Z"
    },
    "collapsed": false
   },
   "outputs": [],
   "source": [
    "inflex_scenarios = []\n",
    "for market in markets:\n",
    "    scenario = BaseModel()\n",
    "    scenario.set_params(params.copy())\n",
    "    scenario.set_market(market)\n",
    "    inflex_scenarios.append(scenario)"
   ]
  },
  {
   "cell_type": "code",
   "execution_count": 23,
   "metadata": {
    "ExecuteTime": {
     "end_time": "2023-05-18T06:41:45.601683Z",
     "start_time": "2023-05-18T06:39:19.760114Z"
    },
    "collapsed": false
   },
   "outputs": [],
   "source": [
    "def generate(scenario):\n",
    "    scenario.generate()\n",
    "    return scenario\n",
    "inflex_scenarios = multiprocess.Pool(os.cpu_count()).map(\n",
    "    generate,\n",
    "    inflex_scenarios)"
   ]
  },
  {
   "cell_type": "markdown",
   "metadata": {
    "collapsed": false
   },
   "source": [
    "### Flexible Model\n",
    "Similarly, we set up the Flexible Model with our `Policy`:"
   ]
  },
  {
   "cell_type": "code",
   "execution_count": 24,
   "metadata": {
    "ExecuteTime": {
     "end_time": "2023-05-18T06:41:45.606370Z",
     "start_time": "2023-05-18T06:41:45.604548Z"
    },
    "collapsed": false
   },
   "outputs": [],
   "source": [
    "def exceed_pricing_factor(state: rk.flux.Flow) -> List[bool]:\n",
    "    threshold = 1.2\n",
    "    result = []\n",
    "    for i in range(state.movements.index.size):\n",
    "        if any(result):\n",
    "            result.append(False)\n",
    "        else:\n",
    "            if i < 2:\n",
    "                result.append(False)\n",
    "            else:\n",
    "                if state.movements[i] > threshold:\n",
    "                    result.append(True)\n",
    "                else:\n",
    "                    result.append(False)\n",
    "    return result\n",
    "\n",
    "def adjust_hold_period(\n",
    "        model: object,\n",
    "        decisions: List[bool]) -> object:\n",
    "    # Get the index of the decision flag:\n",
    "    try:\n",
    "        idx = decisions.index(True)\n",
    "    except ValueError:\n",
    "        idx = len(decisions)\n",
    "\n",
    "    # Adjust the Model's holding period:\n",
    "    policy_params = model.params.copy()\n",
    "    policy_params['num_periods'] = idx\n",
    "\n",
    "    # Re-run the Model with updated params:\n",
    "    model.set_params(policy_params)\n",
    "    model.generate()\n",
    "    return model\n",
    "\n",
    "stop_gain_resale_policy = rk.policy.Policy(\n",
    "    condition=exceed_pricing_factor,\n",
    "    action=adjust_hold_period)"
   ]
  },
  {
   "cell_type": "markdown",
   "metadata": {
    "collapsed": false
   },
   "source": [
    "And we run the Flexible Model for each `Market`:"
   ]
  },
  {
   "cell_type": "code",
   "execution_count": 25,
   "metadata": {
    "ExecuteTime": {
     "end_time": "2023-05-18T06:45:27.551268Z",
     "start_time": "2023-05-18T06:41:45.607045Z"
    },
    "collapsed": false
   },
   "outputs": [],
   "source": [
    "policy_args = [(scenario.market.space_market_price_factors, scenario) for scenario in inflex_scenarios]\n",
    "flex_scenarios = multiprocess.Pool(os.cpu_count()).map(\n",
    "    stop_gain_resale_policy.execute,\n",
    "    policy_args)"
   ]
  },
  {
   "cell_type": "markdown",
   "metadata": {
    "collapsed": false
   },
   "source": [
    "### Results\n",
    "We can now compare the results of the Base and Flexible Models with some\n",
    "descriptive statistics"
   ]
  },
  {
   "cell_type": "code",
   "execution_count": 26,
   "metadata": {
    "ExecuteTime": {
     "end_time": "2023-05-18T06:45:27.641592Z",
     "start_time": "2023-05-18T06:45:27.613567Z"
    },
    "collapsed": false
   },
   "outputs": [
    {
     "data": {
      "text/html": [
       "<div>\n",
       "<style scoped>\n",
       "    .dataframe tbody tr th:only-of-type {\n",
       "        vertical-align: middle;\n",
       "    }\n",
       "\n",
       "    .dataframe tbody tr th {\n",
       "        vertical-align: top;\n",
       "    }\n",
       "\n",
       "    .dataframe thead th {\n",
       "        text-align: right;\n",
       "    }\n",
       "</style>\n",
       "<table border=\"1\" class=\"dataframe\">\n",
       "  <thead>\n",
       "    <tr style=\"text-align: right;\">\n",
       "      <th></th>\n",
       "      <th>Inflexible</th>\n",
       "      <th>Flexible</th>\n",
       "      <th>Difference</th>\n",
       "    </tr>\n",
       "  </thead>\n",
       "  <tbody>\n",
       "    <tr>\n",
       "      <th>count</th>\n",
       "      <td>10000.000000</td>\n",
       "      <td>10000.000000</td>\n",
       "      <td>10000.000000</td>\n",
       "    </tr>\n",
       "    <tr>\n",
       "      <th>mean</th>\n",
       "      <td>1078.489830</td>\n",
       "      <td>1436.124589</td>\n",
       "      <td>357.634760</td>\n",
       "    </tr>\n",
       "    <tr>\n",
       "      <th>std</th>\n",
       "      <td>355.580348</td>\n",
       "      <td>404.349634</td>\n",
       "      <td>571.094761</td>\n",
       "    </tr>\n",
       "    <tr>\n",
       "      <th>min</th>\n",
       "      <td>463.347037</td>\n",
       "      <td>502.992802</td>\n",
       "      <td>-1702.905929</td>\n",
       "    </tr>\n",
       "    <tr>\n",
       "      <th>25%</th>\n",
       "      <td>783.355362</td>\n",
       "      <td>1207.912200</td>\n",
       "      <td>-41.476401</td>\n",
       "    </tr>\n",
       "    <tr>\n",
       "      <th>50%</th>\n",
       "      <td>990.148138</td>\n",
       "      <td>1441.929194</td>\n",
       "      <td>373.116251</td>\n",
       "    </tr>\n",
       "    <tr>\n",
       "      <th>75%</th>\n",
       "      <td>1324.297984</td>\n",
       "      <td>1705.569793</td>\n",
       "      <td>763.119922</td>\n",
       "    </tr>\n",
       "    <tr>\n",
       "      <th>max</th>\n",
       "      <td>2694.849719</td>\n",
       "      <td>2877.712622</td>\n",
       "      <td>1985.997593</td>\n",
       "    </tr>\n",
       "  </tbody>\n",
       "</table>\n",
       "</div>"
      ],
      "text/plain": [
       "         Inflexible      Flexible    Difference\n",
       "count  10000.000000  10000.000000  10000.000000\n",
       "mean    1078.489830   1436.124589    357.634760\n",
       "std      355.580348    404.349634    571.094761\n",
       "min      463.347037    502.992802  -1702.905929\n",
       "25%      783.355362   1207.912200    -41.476401\n",
       "50%      990.148138   1441.929194    373.116251\n",
       "75%     1324.297984   1705.569793    763.119922\n",
       "max     2694.849719   2877.712622   1985.997593"
      ]
     },
     "execution_count": 26,
     "metadata": {},
     "output_type": "execute_result"
    }
   ],
   "source": [
    "import scipy.stats as ss\n",
    "\n",
    "inflex_pvs = pd.Series([scenario.pvs.movements[-1] for scenario in inflex_scenarios])\n",
    "flex_pvs = pd.Series([scenario.pvs.movements[-1] for scenario in flex_scenarios])\n",
    "diff_pvs = flex_pvs - inflex_pvs\n",
    "\n",
    "pvs = pd.DataFrame({\n",
    "    'Inflexible': inflex_pvs,\n",
    "    'Flexible': flex_pvs,\n",
    "    'Difference': diff_pvs})\n",
    "pvs.describe()"
   ]
  },
  {
   "cell_type": "code",
   "execution_count": 27,
   "metadata": {
    "ExecuteTime": {
     "end_time": "2023-05-18T06:48:04.439107Z",
     "start_time": "2023-05-18T06:48:04.417655Z"
    },
    "collapsed": false
   },
   "outputs": [
    {
     "data": {
      "text/plain": [
       "Inflexible    0.815057\n",
       "Flexible     -0.208060\n",
       "Difference   -0.047061\n",
       "dtype: float64"
      ]
     },
     "execution_count": 27,
     "metadata": {},
     "output_type": "execute_result"
    }
   ],
   "source": [
    "pvs.skew()"
   ]
  },
  {
   "cell_type": "code",
   "execution_count": 28,
   "metadata": {
    "ExecuteTime": {
     "end_time": "2023-05-18T06:48:05.399869Z",
     "start_time": "2023-05-18T06:48:05.371786Z"
    },
    "collapsed": false
   },
   "outputs": [
    {
     "data": {
      "text/plain": [
       "Inflexible    0.040052\n",
       "Flexible      0.038645\n",
       "Difference   -0.509475\n",
       "dtype: float64"
      ]
     },
     "execution_count": 28,
     "metadata": {},
     "output_type": "execute_result"
    }
   ],
   "source": [
    "pvs.kurtosis()"
   ]
  },
  {
   "cell_type": "code",
   "execution_count": 29,
   "metadata": {
    "ExecuteTime": {
     "end_time": "2023-05-18T06:48:06.453373Z",
     "start_time": "2023-05-18T06:48:06.447759Z"
    },
    "collapsed": false
   },
   "outputs": [
    {
     "name": "stdout",
     "output_type": "stream",
     "text": [
      "Inflex Diffs t-stat from scipy: \n",
      "TtestResult(statistic=62.62266516264061, pvalue=0.0, df=9999)\n"
     ]
    }
   ],
   "source": [
    "print('Inflex Diffs t-stat from scipy: \\n{}'.format(\n",
    "    ss.ttest_1samp(diff_pvs, 0)))"
   ]
  },
  {
   "cell_type": "code",
   "execution_count": 30,
   "metadata": {
    "ExecuteTime": {
     "end_time": "2023-05-18T06:48:20.481580Z",
     "start_time": "2023-05-18T06:48:20.370398Z"
    },
    "collapsed": false
   },
   "outputs": [
    {
     "data": {
      "text/plain": [
       "<Axes: ylabel='Proportion'>"
      ]
     },
     "execution_count": 30,
     "metadata": {},
     "output_type": "execute_result"
    },
    {
     "data": {
      "image/png": "[encoded data removed]",
      "text/plain": [
       "<Figure size 640x480 with 1 Axes>"
      ]
     },
     "metadata": {},
     "output_type": "display_data"
    }
   ],
   "source": [
    "sns.ecdfplot(data=inflex_pvs)"
   ]
  },
  {
   "cell_type": "markdown",
   "metadata": {
    "collapsed": false
   },
   "source": []
  },
  {
   "cell_type": "code",
   "execution_count": 31,
   "metadata": {
    "ExecuteTime": {
     "end_time": "2023-05-18T06:45:27.683581Z",
     "start_time": "2023-05-18T06:45:27.655900Z"
    },
    "collapsed": false
   },
   "outputs": [
    {
     "ename": "NameError",
     "evalue": "name 'inflex_diffs' is not defined",
     "output_type": "error",
     "traceback": [
      "\u001b[0;31m---------------------------------------------------------------------------\u001b[0m",
      "\u001b[0;31mNameError\u001b[0m                                 Traceback (most recent call last)",
      "Cell \u001b[0;32mIn[31], line 1\u001b[0m\n\u001b[0;32m----> 1\u001b[0m \u001b[38;5;28mprint\u001b[39m(\u001b[38;5;124m'\u001b[39m\u001b[38;5;124mInflex Diffs Skew: \u001b[39m\u001b[38;5;132;01m{}\u001b[39;00m\u001b[38;5;124m'\u001b[39m\u001b[38;5;241m.\u001b[39mformat(ss\u001b[38;5;241m.\u001b[39mskew(\u001b[43minflex_diffs\u001b[49m)))\n\u001b[1;32m      2\u001b[0m \u001b[38;5;28mprint\u001b[39m(\u001b[38;5;124m'\u001b[39m\u001b[38;5;124mInflex Diffs Kurtosis: \u001b[39m\u001b[38;5;132;01m{}\u001b[39;00m\u001b[38;5;124m'\u001b[39m\u001b[38;5;241m.\u001b[39mformat(ss\u001b[38;5;241m.\u001b[39mkurtosis(inflex_diffs)))\n\u001b[1;32m      3\u001b[0m \u001b[38;5;28mprint\u001b[39m(\u001b[38;5;124m'\u001b[39m\u001b[38;5;124mInflex Diffs t-stat: \u001b[39m\u001b[38;5;132;01m{}\u001b[39;00m\u001b[38;5;124m'\u001b[39m\u001b[38;5;241m.\u001b[39mformat(\n\u001b[1;32m      4\u001b[0m     np\u001b[38;5;241m.\u001b[39mmean(inflex_diffs) \u001b[38;5;241m/\u001b[39m\n\u001b[1;32m      5\u001b[0m     (np\u001b[38;5;241m.\u001b[39mstd(inflex_diffs) \u001b[38;5;241m/\u001b[39m np\u001b[38;5;241m.\u001b[39msqrt(\u001b[38;5;28mlen\u001b[39m(inflex_diffs)))\n\u001b[1;32m      6\u001b[0m     ))\n",
      "\u001b[0;31mNameError\u001b[0m: name 'inflex_diffs' is not defined"
     ]
    }
   ],
   "source": [
    "\n",
    "\n",
    "print('Inflex Diffs Skew: {}'.format(ss.skew(inflex_diffs)))\n",
    "print('Inflex Diffs Kurtosis: {}'.format(ss.kurtosis(inflex_diffs)))\n",
    "print('Inflex Diffs t-stat: {}'.format(\n",
    "    np.mean(inflex_diffs) /\n",
    "    (np.std(inflex_diffs) / np.sqrt(len(inflex_diffs)))\n",
    "    ))\n",
    "print('Inflex Diffs t-stat from scipy: {}'.format(\n",
    "    ss.ttest_1samp(inflex_diffs, 0)))"
   ]
  },
  {
   "cell_type": "code",
   "execution_count": null,
   "metadata": {
    "ExecuteTime": {
     "start_time": "2023-05-18T06:45:27.670797Z"
    },
    "collapsed": false
   },
   "outputs": [],
   "source": [
    "irrs = [gen.irrs.movements[-1] for gen in gens]\n",
    "sns.histplot(\n",
    "    data=irrs,\n",
    "    bins=20,\n",
    "    kde=True)"
   ]
  },
  {
   "cell_type": "markdown",
   "metadata": {
    "collapsed": false
   },
   "source": []
  },
  {
   "cell_type": "markdown",
   "metadata": {
    "collapsed": false
   },
   "source": []
  }
 ],
 "metadata": {
  "kernelspec": {
   "display_name": "Python 3",
   "language": "python",
   "name": "python3"
  },
  "language_info": {
   "codemirror_mode": {
    "name": "ipython",
    "version": 3
   },
   "file_extension": ".py",
   "mimetype": "text/x-python",
   "name": "python",
   "nbconvert_exporter": "python",
   "pygments_lexer": "ipython3",
   "version": "3.10.4"
  }
 },
 "nbformat": 4,
 "nbformat_minor": 0
}