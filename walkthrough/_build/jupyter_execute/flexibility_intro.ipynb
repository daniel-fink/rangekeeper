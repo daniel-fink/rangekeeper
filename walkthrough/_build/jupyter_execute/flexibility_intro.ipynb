{
 "cells": [
  {
   "attachments": {},
   "cell_type": "markdown",
   "metadata": {
    "collapsed": false
   },
   "source": [
    "# Introduction to Modeling Flexibility\n",
    "\n",
    "{cite}`farevuu2018` apply the simulated Real Estate Market to a basic Proforma\n",
    "in two ways:\n",
    "1. Using the `Market` pricing factors to adjust projected values for cash flows\n",
    "   (by multiplying the factor against respective line items)\n",
    "2. Programming 'decisions' into the Proforma that change how the Proforma\n",
    "   operates, in response to conditions or characteristics of the `Market`\n",
    "   dynamics"
   ]
  },
  {
   "attachments": {},
   "cell_type": "markdown",
   "metadata": {
    "collapsed": false
   },
   "source": [
    "To begin with, let's see how *Rangekeeper* adjusts the projected Potential Gross\n",
    "Income and Reversion cash flows, using a single scenario/trial of a `Market`."
   ]
  },
  {
   "attachments": {},
   "cell_type": "markdown",
   "metadata": {
    "collapsed": false
   },
   "source": [
    "Similar to the Deterministic Scenarios in\n",
    "{doc}`/deterministic_scenarios.ipynb`, we import required libraries and set up\n",
    "a base Model:\n"
   ]
  },
  {
   "cell_type": "code",
   "execution_count": 29,
   "metadata": {
    "ExecuteTime": {
     "end_time": "2023-05-18T06:03:45.111630Z",
     "start_time": "2023-05-18T06:03:44.833127Z"
    },
    "collapsed": false
   },
   "outputs": [],
   "source": [
    "import locale\n",
    "from typing import List\n",
    "import pandas as pd\n",
    "\n",
    "import rangekeeper as rk"
   ]
  },
  {
   "cell_type": "code",
   "execution_count": 30,
   "metadata": {
    "ExecuteTime": {
     "end_time": "2023-05-18T06:03:45.111831Z",
     "start_time": "2023-05-18T06:03:44.837888Z"
    },
    "collapsed": false
   },
   "outputs": [],
   "source": [
    "locale.setlocale(locale.LC_ALL, 'en_au')\n",
    "units = rk.measure.Index.registry\n",
    "currency = rk.measure.register_currency(registry=units)\n",
    "params = {\n",
    "    'start_date': pd.Timestamp('2001-01-01'),\n",
    "    'num_periods': 10,\n",
    "    'period_type': rk.periodicity.Type.YEAR,\n",
    "    'acquisition_cost': -1000 * currency.units,\n",
    "    'initial_income': 100 * currency.units,\n",
    "    'growth_rate': 0.02,\n",
    "    'vacancy_rate': 0.05,\n",
    "    'opex_pgi_ratio': 0.35,\n",
    "    'capex_pgi_ratio': 0.1,\n",
    "    'exit_caprate': 0.05,\n",
    "    'discount_rate': 0.07\n",
    "    }"
   ]
  },
  {
   "attachments": {},
   "cell_type": "markdown",
   "metadata": {
    "collapsed": false
   },
   "source": [
    "## Base (Ex-Ante, Inflexible) Model\n",
    "The Base (non-market-adjusted and inflexible) Model is the same as before:"
   ]
  },
  {
   "cell_type": "code",
   "execution_count": 31,
   "metadata": {
    "ExecuteTime": {
     "end_time": "2023-05-18T06:03:45.112648Z",
     "start_time": "2023-05-18T06:03:44.842406Z"
    },
    "collapsed": true
   },
   "outputs": [],
   "source": [
    "class BaseModel:\n",
    "    def __init__(self) -> None:\n",
    "        pass\n",
    "    \n",
    "    def set_params(self, params: dict) -> None:\n",
    "        self.params = params"
   ]
  },
  {
   "attachments": {},
   "cell_type": "markdown",
   "metadata": {},
   "source": [
    "Define Spans"
   ]
  },
  {
   "cell_type": "code",
   "execution_count": 32,
   "metadata": {
    "ExecuteTime": {
     "end_time": "2023-05-18T06:03:45.220289Z",
     "start_time": "2023-05-18T06:03:44.853350Z"
    },
    "collapsed": false,
    "tags": [
     "hide-input"
    ]
   },
   "outputs": [],
   "source": [
    "@rk.update_class(BaseModel)\n",
    "class BaseModel:\n",
    "    def init_spans(self):\n",
    "        self.calc_span = rk.span.Span.from_num_periods(\n",
    "            name='Span to Calculate Reversion',\n",
    "            date=self.params['start_date'],\n",
    "            period_type=self.params['period_type'],\n",
    "            num_periods=self.params['num_periods'] + 1)\n",
    "        self.acq_span = rk.span.Span.from_num_periods(\n",
    "            name='Acquisition Span',\n",
    "            date=rk.periodicity.offset_date(\n",
    "                self.params['start_date'],\n",
    "                num_periods=-1,\n",
    "                period_type=self.params['period_type']),\n",
    "            period_type=self.params['period_type'],\n",
    "            num_periods=1)\n",
    "        self.span = self.calc_span.shift(\n",
    "            name='Span',\n",
    "            num_periods=-1,\n",
    "            period_type=self.params['period_type'],\n",
    "            bound='end')\n",
    "        self.reversion_span = self.span.shift(\n",
    "            name='Reversion Span',\n",
    "            num_periods=self.params['num_periods'] - 1,\n",
    "            period_type=self.params['period_type'],\n",
    "            bound='start')"
   ]
  },
  {
   "attachments": {},
   "cell_type": "markdown",
   "metadata": {},
   "source": [
    "Define Calculations for Cash Flows"
   ]
  },
  {
   "cell_type": "code",
   "execution_count": 33,
   "metadata": {
    "ExecuteTime": {
     "end_time": "2023-05-18T06:03:45.221447Z",
     "start_time": "2023-05-18T06:03:44.865499Z"
    },
    "collapsed": false,
    "tags": [
     "hide-input"
    ]
   },
   "outputs": [],
   "source": [
    "@rk.update_class(BaseModel)\n",
    "class BaseModel:\n",
    "    def calc_acquisition(self):\n",
    "        self.acquisition = rk.flux.Flow.from_projection(\n",
    "            name='Acquisition',\n",
    "            value=self.params['acquisition_cost'],\n",
    "            proj=rk.projection.Distribution(\n",
    "                form=rk.distribution.Uniform(),\n",
    "                sequence=self.acq_span.to_index(period_type=self.params['period_type'])),\n",
    "            units=currency.units)\n",
    "\n",
    "    def calc_egi(self):\n",
    "        self.pgi = rk.flux.Flow.from_projection(\n",
    "            name='Potential Gross Income',\n",
    "            value=self.params['initial_income'],\n",
    "            proj=rk.projection.Extrapolation(\n",
    "                form=rk.extrapolation.Compounding(\n",
    "                    rate=self.params['growth_rate']),\n",
    "                sequence=self.calc_span.to_index(period_type=self.params['period_type'])),\n",
    "            units=currency.units)\n",
    "        self.vacancy = rk.flux.Flow(\n",
    "            name='Vacancy Allowance',\n",
    "            movements=self.pgi.movements * -self.params['vacancy_rate'],\n",
    "            units=currency.units)\n",
    "        self.egi = rk.flux.Stream(\n",
    "            name='Effective Gross Income',\n",
    "            flows=[self.pgi, self.vacancy],\n",
    "            period_type=self.params['period_type']).sum()\n",
    "\n",
    "    def calc_noi(self):\n",
    "        self.opex = rk.flux.Flow(\n",
    "            name='Operating Expenses',\n",
    "            movements=self.pgi.movements * self.params['opex_pgi_ratio'],\n",
    "            units=currency.units).invert()\n",
    "        self.noi = rk.flux.Stream(\n",
    "            name='Net Operating Income',\n",
    "            flows=[self.egi, self.opex],\n",
    "            period_type=self.params['period_type']).sum()\n",
    "\n",
    "    def calc_ncf(self):\n",
    "        self.capex = rk.flux.Flow(\n",
    "            name='Capital Expenditures',\n",
    "            movements=self.pgi.movements * self.params['capex_pgi_ratio'],\n",
    "            units=currency.units).invert()\n",
    "        self.net_cf = rk.flux.Stream(\n",
    "            name='Net Annual Cashflow',\n",
    "            flows=[self.noi, self.capex],\n",
    "            period_type=self.params['period_type']).sum()\n",
    "\n",
    "    def calc_reversion(self):\n",
    "        self.reversions = rk.flux.Flow(\n",
    "            name='Reversions',\n",
    "            movements=self.net_cf.movements.shift(periods=-1).dropna() /\n",
    "                      self.params['exit_caprate'],\n",
    "            units=currency.units).trim_to_span(span=self.span)\n",
    "        self.reversion = self.reversions.trim_to_span(\n",
    "            span=self.reversion_span,\n",
    "            name='Reversion')\n",
    "\n",
    "        self.pbtcfs = rk.flux.Stream(\n",
    "            name='PBTCFs',\n",
    "            flows=[\n",
    "                self.net_cf.trim_to_span(span=self.span),\n",
    "                self.reversions.trim_to_span(span=self.reversion_span)\n",
    "                ],\n",
    "            period_type=self.params['period_type'])"
   ]
  },
  {
   "attachments": {},
   "cell_type": "markdown",
   "metadata": {},
   "source": [
    "Define Metrics"
   ]
  },
  {
   "cell_type": "code",
   "execution_count": 34,
   "metadata": {
    "ExecuteTime": {
     "end_time": "2023-05-18T06:03:45.222219Z",
     "start_time": "2023-05-18T06:03:44.873227Z"
    },
    "collapsed": false,
    "tags": [
     "hide-input"
    ]
   },
   "outputs": [],
   "source": [
    "@rk.update_class(BaseModel)\n",
    "class BaseModel:\n",
    "    def calc_metrics(self):\n",
    "        pvs = []\n",
    "        irrs = []\n",
    "        for period in self.net_cf.trim_to_span(span=self.span).movements.index:\n",
    "            cumulative_net_cf = self.net_cf.trim_to_span(\n",
    "                span=rk.span.Span(\n",
    "                    name='Cumulative Net Cashflow Span',\n",
    "                    start_date=self.params['start_date'],\n",
    "                    end_date=period))\n",
    "            reversion = rk.flux.Flow(\n",
    "                movements=self.reversions.movements.loc[[period]],\n",
    "                units=currency.units)\n",
    "            cumulative_net_cf_with_rev = rk.flux.Stream(\n",
    "                name='Net Cashflow with Reversion',\n",
    "                flows=[\n",
    "                    cumulative_net_cf,\n",
    "                    reversion\n",
    "                    ],\n",
    "                period_type=self.params['period_type'])\n",
    "            pv = cumulative_net_cf_with_rev.sum().pv(\n",
    "                name='Present Value',\n",
    "                period_type=self.params['period_type'],\n",
    "                discount_rate=self.params['discount_rate'])\n",
    "            pvs.append(pv.collapse().movements)\n",
    "\n",
    "            incl_acq = rk.flux.Stream(\n",
    "                name='Net Cashflow with Reversion and Acquisition',\n",
    "                flows=[cumulative_net_cf_with_rev.sum(), self.acquisition],\n",
    "                period_type=self.params['period_type'])\n",
    "\n",
    "            irrs.append(round(incl_acq.sum().xirr(), 4))\n",
    "\n",
    "        self.pvs = rk.flux.Flow(\n",
    "            name='Present Values',\n",
    "            movements=pd.concat(pvs),\n",
    "            units=currency.units)\n",
    "        self.irrs = rk.flux.Flow(\n",
    "            name='Internal Rates of Return',\n",
    "            movements=pd.Series(irrs, index=self.pvs.movements.index),\n",
    "            units=None)"
   ]
  },
  {
   "attachments": {},
   "cell_type": "markdown",
   "metadata": {},
   "source": [
    "Wrap all definitions and calculations in a `execute()` method:"
   ]
  },
  {
   "cell_type": "code",
   "execution_count": 35,
   "metadata": {
    "ExecuteTime": {
     "end_time": "2023-05-18T06:03:45.222963Z",
     "start_time": "2023-05-18T06:03:44.880902Z"
    },
    "collapsed": false
   },
   "outputs": [],
   "source": [
    "@rk.update_class(BaseModel)\n",
    "class BaseModel:\n",
    "    def generate(self):\n",
    "        self.init_spans()\n",
    "        self.calc_acquisition()\n",
    "        self.calc_egi()\n",
    "        self.calc_noi()\n",
    "        self.calc_ncf()\n",
    "        self.calc_reversion()\n",
    "        self.calc_metrics()"
   ]
  },
  {
   "attachments": {},
   "cell_type": "markdown",
   "metadata": {
    "collapsed": false
   },
   "source": [
    "This results in the 'Ex-Ante Realistic Traditional DCF Proforma':"
   ]
  },
  {
   "cell_type": "code",
   "execution_count": 36,
   "metadata": {
    "ExecuteTime": {
     "end_time": "2023-05-18T06:03:45.236151Z",
     "start_time": "2023-05-18T06:03:44.891512Z"
    },
    "collapsed": false
   },
   "outputs": [],
   "source": [
    "ex_ante = BaseModel()\n",
    "ex_ante.set_params(params)\n",
    "ex_ante.generate()"
   ]
  },
  {
   "cell_type": "code",
   "execution_count": 37,
   "metadata": {
    "ExecuteTime": {
     "end_time": "2023-05-18T06:03:45.239237Z",
     "start_time": "2023-05-18T06:03:44.998265Z"
    },
    "collapsed": false
   },
   "outputs": [
    {
     "data": {
      "text/html": [
       "<table>\n",
       "<thead>\n",
       "<tr><th style=\"text-align: right;\">  date</th><th style=\"text-align: right;\">  Potential Gross Income</th><th style=\"text-align: right;\">  Vacancy Allowance</th><th style=\"text-align: right;\">  Effective Gross Income</th><th style=\"text-align: right;\">  Operating Expenses</th><th style=\"text-align: right;\">  Net Operating Income</th><th style=\"text-align: right;\">  Capital Expenditures</th><th style=\"text-align: right;\">  Net Annual Cashflow</th><th style=\"text-align: right;\">  Reversion</th></tr>\n",
       "</thead>\n",
       "<tbody>\n",
       "<tr><td style=\"text-align: right;\">  2001</td><td style=\"text-align: right;\">                 $100.00</td><td style=\"text-align: right;\">             -$5.00</td><td style=\"text-align: right;\">                  $95.00</td><td style=\"text-align: right;\">             -$35.00</td><td style=\"text-align: right;\">                $60.00</td><td style=\"text-align: right;\">               -$10.00</td><td style=\"text-align: right;\">               $50.00</td><td style=\"text-align: right;\">          0</td></tr>\n",
       "<tr><td style=\"text-align: right;\">  2002</td><td style=\"text-align: right;\">                 $102.00</td><td style=\"text-align: right;\">             -$5.10</td><td style=\"text-align: right;\">                  $96.90</td><td style=\"text-align: right;\">             -$35.70</td><td style=\"text-align: right;\">                $61.20</td><td style=\"text-align: right;\">               -$10.20</td><td style=\"text-align: right;\">               $51.00</td><td style=\"text-align: right;\">          0</td></tr>\n",
       "<tr><td style=\"text-align: right;\">  2003</td><td style=\"text-align: right;\">                 $104.04</td><td style=\"text-align: right;\">             -$5.20</td><td style=\"text-align: right;\">                  $98.84</td><td style=\"text-align: right;\">             -$36.41</td><td style=\"text-align: right;\">                $62.42</td><td style=\"text-align: right;\">               -$10.40</td><td style=\"text-align: right;\">               $52.02</td><td style=\"text-align: right;\">          0</td></tr>\n",
       "<tr><td style=\"text-align: right;\">  2004</td><td style=\"text-align: right;\">                 $106.12</td><td style=\"text-align: right;\">             -$5.31</td><td style=\"text-align: right;\">                 $100.81</td><td style=\"text-align: right;\">             -$37.14</td><td style=\"text-align: right;\">                $63.67</td><td style=\"text-align: right;\">               -$10.61</td><td style=\"text-align: right;\">               $53.06</td><td style=\"text-align: right;\">          0</td></tr>\n",
       "<tr><td style=\"text-align: right;\">  2005</td><td style=\"text-align: right;\">                 $108.24</td><td style=\"text-align: right;\">             -$5.41</td><td style=\"text-align: right;\">                 $102.83</td><td style=\"text-align: right;\">             -$37.89</td><td style=\"text-align: right;\">                $64.95</td><td style=\"text-align: right;\">               -$10.82</td><td style=\"text-align: right;\">               $54.12</td><td style=\"text-align: right;\">          0</td></tr>\n",
       "<tr><td style=\"text-align: right;\">  2006</td><td style=\"text-align: right;\">                 $110.41</td><td style=\"text-align: right;\">             -$5.52</td><td style=\"text-align: right;\">                 $104.89</td><td style=\"text-align: right;\">             -$38.64</td><td style=\"text-align: right;\">                $66.24</td><td style=\"text-align: right;\">               -$11.04</td><td style=\"text-align: right;\">               $55.20</td><td style=\"text-align: right;\">          0</td></tr>\n",
       "<tr><td style=\"text-align: right;\">  2007</td><td style=\"text-align: right;\">                 $112.62</td><td style=\"text-align: right;\">             -$5.63</td><td style=\"text-align: right;\">                 $106.99</td><td style=\"text-align: right;\">             -$39.42</td><td style=\"text-align: right;\">                $67.57</td><td style=\"text-align: right;\">               -$11.26</td><td style=\"text-align: right;\">               $56.31</td><td style=\"text-align: right;\">          0</td></tr>\n",
       "<tr><td style=\"text-align: right;\">  2008</td><td style=\"text-align: right;\">                 $114.87</td><td style=\"text-align: right;\">             -$5.74</td><td style=\"text-align: right;\">                 $109.13</td><td style=\"text-align: right;\">             -$40.20</td><td style=\"text-align: right;\">                $68.92</td><td style=\"text-align: right;\">               -$11.49</td><td style=\"text-align: right;\">               $57.43</td><td style=\"text-align: right;\">          0</td></tr>\n",
       "<tr><td style=\"text-align: right;\">  2009</td><td style=\"text-align: right;\">                 $117.17</td><td style=\"text-align: right;\">             -$5.86</td><td style=\"text-align: right;\">                 $111.31</td><td style=\"text-align: right;\">             -$41.01</td><td style=\"text-align: right;\">                $70.30</td><td style=\"text-align: right;\">               -$11.72</td><td style=\"text-align: right;\">               $58.58</td><td style=\"text-align: right;\">          0</td></tr>\n",
       "<tr><td style=\"text-align: right;\">  2010</td><td style=\"text-align: right;\">                 $119.51</td><td style=\"text-align: right;\">             -$5.98</td><td style=\"text-align: right;\">                 $113.53</td><td style=\"text-align: right;\">             -$41.83</td><td style=\"text-align: right;\">                $71.71</td><td style=\"text-align: right;\">               -$11.95</td><td style=\"text-align: right;\">               $59.75</td><td style=\"text-align: right;\">  $1,218.99</td></tr>\n",
       "<tr><td style=\"text-align: right;\">  2011</td><td style=\"text-align: right;\">                 $121.90</td><td style=\"text-align: right;\">             -$6.09</td><td style=\"text-align: right;\">                 $115.80</td><td style=\"text-align: right;\">             -$42.66</td><td style=\"text-align: right;\">                $73.14</td><td style=\"text-align: right;\">               -$12.19</td><td style=\"text-align: right;\">               $60.95</td><td style=\"text-align: right;\">          0</td></tr>\n",
       "</tbody>\n",
       "</table>"
      ],
      "text/plain": [
       "<rangekeeper.flux.Stream at 0x2dc6a1330>"
      ]
     },
     "execution_count": 37,
     "metadata": {},
     "output_type": "execute_result"
    }
   ],
   "source": [
    "ex_ante_table = rk.flux.Stream(\n",
    "    name='Ex-Ante Pro-forma Cash Flow Projection',\n",
    "    flows=[\n",
    "        ex_ante.pgi,\n",
    "        ex_ante.vacancy,\n",
    "        ex_ante.egi,\n",
    "        ex_ante.opex,\n",
    "        ex_ante.noi,\n",
    "        ex_ante.capex,\n",
    "        ex_ante.net_cf,\n",
    "        ex_ante.reversion,\n",
    "        ],\n",
    "    period_type=rk.periodicity.Type.YEAR\n",
    "    )\n",
    "ex_ante_table"
   ]
  },
  {
   "attachments": {},
   "cell_type": "markdown",
   "metadata": {
    "collapsed": false
   },
   "source": [
    "The metrics for the Base Model are:"
   ]
  },
  {
   "cell_type": "code",
   "execution_count": 38,
   "metadata": {
    "ExecuteTime": {
     "end_time": "2023-05-18T06:03:45.239341Z",
     "start_time": "2023-05-18T06:03:45.018936Z"
    },
    "collapsed": false
   },
   "outputs": [
    {
     "name": "stdout",
     "output_type": "stream",
     "text": [
      "Projected IRR at Market Value Price: 7.00%\n",
      "Time 0 Present Value at OCC: $1,000.00\n",
      "Average Annual Cashflow: $54.75\n"
     ]
    }
   ],
   "source": [
    "print('Projected IRR at Market Value Price: {:.2%}'.format(ex_ante.irrs.movements[-1]))\n",
    "print('Time 0 Present Value at OCC: {0}'.format(locale.currency(ex_ante.pvs.movements[-1], grouping=True)))\n",
    "print('Average Annual Cashflow: {0}'.format(locale.currency(ex_ante.net_cf.trim_to_span(ex_ante.span).movements.mean(), grouping=True)))"
   ]
  },
  {
   "attachments": {},
   "cell_type": "markdown",
   "metadata": {
    "collapsed": false
   },
   "source": [
    "```{warning}\n",
    "Note that the holding period for the Base Model is fixed (inflexible) at 10\n",
    "years.\n",
    "```\n",
    "\n",
    "```{note}\n",
    "The Average Annual Cashflow is derived from the Operating cash flow only (not\n",
    "counting reversion). This is to indicate the relative favorability of the\n",
    "scenario outcomes in terms of the real estate space market, the fundamental\n",
    "economic basis of the property value.\n",
    "\n",
    "(From {cite}`farevuu2018`, accompanying Excel spreadsheets)\n",
    "```"
   ]
  },
  {
   "attachments": {},
   "cell_type": "markdown",
   "metadata": {
    "collapsed": false
   },
   "source": [
    "## Ex-Post Inflexible Model\n",
    "The Ex-Post Model uses a simulated `Market` scenario to adjust the Base\n",
    "Model's Potential Gross Income (PGI) and Reversion cash flows. In this case,\n",
    "instead of using straight-line projected growth to calculate the PGI, we will\n",
    "use the simulated `Market`'s Price Factors to adjust the Ex-Ante Model (and\n",
    "emulate how an 'Ex-Post' Model would look)"
   ]
  },
  {
   "attachments": {},
   "cell_type": "markdown",
   "metadata": {
    "collapsed": false
   },
   "source": [
    "### Market\n",
    "First, we need to simulate a `Market` scenario:"
   ]
  },
  {
   "cell_type": "code",
   "execution_count": 39,
   "metadata": {
    "ExecuteTime": {
     "end_time": "2023-05-18T06:03:45.239395Z",
     "start_time": "2023-05-18T06:03:45.021716Z"
    },
    "collapsed": false
   },
   "outputs": [],
   "source": [
    "period_type = rk.periodicity.Type.YEAR\n",
    "num_periods = 25\n",
    "span = rk.span.Span.from_num_periods(\n",
    "    name=\"Span\",\n",
    "    date=pd.Timestamp(2000, 1, 1),\n",
    "    period_type=period_type,\n",
    "    num_periods=num_periods)\n",
    "sequence = span.to_index(period_type=period_type)"
   ]
  },
  {
   "attachments": {},
   "cell_type": "markdown",
   "metadata": {
    "collapsed": false
   },
   "source": [
    "Overall Trend:"
   ]
  },
  {
   "cell_type": "code",
   "execution_count": 40,
   "metadata": {
    "ExecuteTime": {
     "end_time": "2023-05-18T06:03:45.240864Z",
     "start_time": "2023-05-18T06:03:45.026609Z"
    },
    "collapsed": false
   },
   "outputs": [],
   "source": [
    "trend = rk.dynamics.trend.Trend(\n",
    "    sequence=sequence,\n",
    "    cap_rate=.05,\n",
    "    initial_value=0.050747414,\n",
    "    growth_rate=-0.002537905)"
   ]
  },
  {
   "attachments": {},
   "cell_type": "markdown",
   "metadata": {
    "collapsed": false
   },
   "source": [
    "Volatility:"
   ]
  },
  {
   "cell_type": "code",
   "execution_count": 41,
   "metadata": {
    "ExecuteTime": {
     "end_time": "2023-05-18T06:03:45.240929Z",
     "start_time": "2023-05-18T06:03:45.030375Z"
    },
    "collapsed": false
   },
   "outputs": [],
   "source": [
    "volatility = rk.dynamics.volatility.Volatility(\n",
    "    sequence=sequence,\n",
    "    trend=trend,\n",
    "    volatility_per_period=.1,\n",
    "    autoregression_param=.2,\n",
    "    mean_reversion_param=.3)"
   ]
  },
  {
   "attachments": {},
   "cell_type": "markdown",
   "metadata": {
    "collapsed": false
   },
   "source": [
    "Cyclicality:"
   ]
  },
  {
   "cell_type": "code",
   "execution_count": 42,
   "metadata": {
    "ExecuteTime": {
     "end_time": "2023-05-18T06:03:45.250079Z",
     "start_time": "2023-05-18T06:03:45.052118Z"
    },
    "collapsed": false
   },
   "outputs": [],
   "source": [
    "cyclicality = rk.dynamics.cyclicality.Cyclicality.from_estimates(\n",
    "    space_cycle_phase_prop=0,\n",
    "    space_cycle_period=13.8,\n",
    "    space_cycle_height=1,\n",
    "    space_cycle_asymmetric_parameter=.5,\n",
    "    asset_cycle_period_diff=0.8,\n",
    "    asset_cycle_phase_diff_prop=-.05,\n",
    "    asset_cycle_amplitude=.02,\n",
    "    asset_cycle_asymmetric_parameter=.5,\n",
    "    sequence=sequence)"
   ]
  },
  {
   "attachments": {},
   "cell_type": "markdown",
   "metadata": {
    "collapsed": false
   },
   "source": [
    "Noise and Black Swan:"
   ]
  },
  {
   "cell_type": "code",
   "execution_count": 43,
   "metadata": {
    "ExecuteTime": {
     "end_time": "2023-05-18T06:03:45.250203Z",
     "start_time": "2023-05-18T06:03:45.153764Z"
    },
    "collapsed": false
   },
   "outputs": [],
   "source": [
    "noise = rk.dynamics.noise.Noise(\n",
    "    sequence=sequence,\n",
    "    noise_dist=rk.distribution.Symmetric(\n",
    "        type=rk.distribution.Type.TRIANGULAR,\n",
    "        residual=.1))\n",
    "\n",
    "black_swan = rk.dynamics.black_swan.BlackSwan(\n",
    "    sequence=sequence,\n",
    "    likelihood=.05,\n",
    "    dissipation_rate=.3,\n",
    "    probability=rk.distribution.Uniform(),\n",
    "    impact=-.25)"
   ]
  },
  {
   "attachments": {},
   "cell_type": "markdown",
   "metadata": {
    "collapsed": false
   },
   "source": [
    "Single Market Scenario:"
   ]
  },
  {
   "cell_type": "code",
   "execution_count": 44,
   "metadata": {
    "ExecuteTime": {
     "end_time": "2023-05-18T06:03:45.250255Z",
     "start_time": "2023-05-18T06:03:45.158436Z"
    },
    "collapsed": false
   },
   "outputs": [],
   "source": [
    "market = rk.dynamics.market.Market(\n",
    "    sequence=sequence,\n",
    "    trend=trend,\n",
    "    volatility=volatility,\n",
    "    cyclicality=cyclicality,\n",
    "    noise=noise,\n",
    "    black_swan=black_swan)\n",
    "table = rk.flux.Stream(\n",
    "    name='Market Dynamics',\n",
    "    flows=[\n",
    "        market.trend,\n",
    "        market.volatility.volatility,\n",
    "        market.volatility.autoregressive_returns,\n",
    "        market.volatility,\n",
    "        market.cyclicality.space_waveform,\n",
    "        market.space_market,\n",
    "        market.cyclicality.asset_waveform,\n",
    "        market.asset_market,\n",
    "        market.asset_true_value,\n",
    "        market.space_market_price_factors,\n",
    "        market.noisy_value,\n",
    "        market.historical_value,\n",
    "        market.implied_rev_cap_rate,\n",
    "        market.returns\n",
    "        ],\n",
    "    period_type=period_type)"
   ]
  },
  {
   "cell_type": "code",
   "execution_count": 45,
   "metadata": {
    "ExecuteTime": {
     "end_time": "2023-05-18T06:03:45.872942Z",
     "start_time": "2023-05-18T06:03:45.177883Z"
    },
    "collapsed": false
   },
   "outputs": [
    {
     "data": {
      "image/png": "[encoded data removed]",
      "text/plain": [
       "<Figure size 640x480 with 3 Axes>"
      ]
     },
     "metadata": {},
     "output_type": "display_data"
    }
   ],
   "source": [
    "table.plot(\n",
    "        flows={\n",
    "            'Market Trend': (0, .1),\n",
    "            'Space Market': (0, .1),\n",
    "            'Historical Value': (0, 3)\n",
    "            }\n",
    "        )"
   ]
  },
  {
   "cell_type": "markdown",
   "metadata": {
    "collapsed": false
   },
   "source": [
    "```{warning}\n",
    "Note where market peaks and troughs are!\n",
    "```"
   ]
  },
  {
   "attachments": {},
   "cell_type": "markdown",
   "metadata": {
    "collapsed": false
   },
   "source": [
    "### Model\n",
    "Now we can duplicate and edit (subclass) the Base Model to create the Inflexible\n",
    "Ex-Post Model.\n"
   ]
  },
  {
   "cell_type": "code",
   "execution_count": 46,
   "metadata": {
    "ExecuteTime": {
     "end_time": "2023-05-18T06:03:45.875494Z",
     "start_time": "2023-05-18T06:03:45.872066Z"
    },
    "collapsed": false
   },
   "outputs": [],
   "source": [
    "class ExPostInflexModel(BaseModel):\n",
    "    def set_market(self, market: rk.dynamics.market.Market) -> None:\n",
    "        self.market = market"
   ]
  },
  {
   "attachments": {},
   "cell_type": "markdown",
   "metadata": {
    "collapsed": false
   },
   "source": [
    "In order to use the simulated `Market`'s Space Market Price Factors to adjust\n",
    "the Base Model's PGI, we need to override the `calc_egi()` method and instead\n",
    "calculate the *product* of a `Stream` object whose two `Flow`s are the Base\n",
    "Model's PGI and the simulated `Market`'s Space Market Price Factors:"
   ]
  },
  {
   "cell_type": "code",
   "execution_count": 47,
   "metadata": {
    "ExecuteTime": {
     "end_time": "2023-05-18T06:03:45.879966Z",
     "start_time": "2023-05-18T06:03:45.878285Z"
    },
    "collapsed": false
   },
   "outputs": [],
   "source": [
    "@rk.update_class(ExPostInflexModel)\n",
    "class ExPostInflexModel(BaseModel):\n",
    "    def calc_egi(self):\n",
    "        pgi = rk.flux.Flow.from_projection(\n",
    "            name='Potential Gross Income',\n",
    "            value=self.params['initial_income'],\n",
    "            proj=rk.projection.Extrapolation(\n",
    "                form=rk.extrapolation.Compounding(\n",
    "                    rate=self.params['growth_rate']),\n",
    "                sequence=self.calc_span.to_index(period_type=self.params['period_type'])),\n",
    "            units=currency.units)\n",
    "\n",
    "        # Construct a Stream that multiplies the Base Model's PGI by the\n",
    "        # simulated Market's Space Market factors\n",
    "        self.pgi = rk.flux.Stream(\n",
    "            name='Potential Gross Income',\n",
    "            flows=[\n",
    "                pgi,\n",
    "                self.market.space_market_price_factors.trim_to_span(self.calc_span)\n",
    "                ],\n",
    "            period_type=self.params['period_type']\n",
    "            ).product(registry=rk.measure.Index.registry)\n",
    "        \n",
    "        self.vacancy = rk.flux.Flow(\n",
    "            name='Vacancy Allowance',\n",
    "            movements=self.pgi.movements * -self.params['vacancy_rate'],\n",
    "            units=currency.units)\n",
    "        self.egi = rk.flux.Stream(\n",
    "            name='Effective Gross Income',\n",
    "            flows=[self.pgi, self.vacancy],\n",
    "            period_type=self.params['period_type']).sum()"
   ]
  },
  {
   "attachments": {},
   "cell_type": "markdown",
   "metadata": {
    "collapsed": false
   },
   "source": [
    "Similarly, we override the `calc_reversion()` method to use the simulated\n",
    "`Market`'s implied reversion cap rates to calculate the Reversions:"
   ]
  },
  {
   "cell_type": "code",
   "execution_count": 48,
   "metadata": {
    "ExecuteTime": {
     "end_time": "2023-05-18T06:03:45.888632Z",
     "start_time": "2023-05-18T06:03:45.881747Z"
    },
    "collapsed": false
   },
   "outputs": [],
   "source": [
    "@rk.update_class(ExPostInflexModel)\n",
    "class ExPostInflexModel(BaseModel):\n",
    "    def calc_reversion(self):\n",
    "        # Construct the Reversions using the simulated Market's Asset Market\n",
    "        # factors (cap rates):\n",
    "        self.reversions = rk.flux.Flow(\n",
    "            name='Reversions',\n",
    "            movements=self.net_cf.movements.shift(periods=-1).dropna() /\n",
    "                      self.market.implied_rev_cap_rate.movements,\n",
    "            units=currency.units).trim_to_span(span=self.span)\n",
    "        \n",
    "        self.reversion = self.reversions.trim_to_span(\n",
    "            span=self.reversion_span,\n",
    "            name='Reversion')\n",
    "        self.pbtcfs = rk.flux.Stream(\n",
    "            name='PBTCFs',\n",
    "            flows=[\n",
    "                self.net_cf.trim_to_span(span=self.span),\n",
    "                self.reversions.trim_to_span(span=self.reversion_span)\n",
    "                ],\n",
    "            period_type=self.params['period_type'])"
   ]
  },
  {
   "attachments": {},
   "cell_type": "markdown",
   "metadata": {},
   "source": [
    "Copy the parameters and execute the model:"
   ]
  },
  {
   "cell_type": "code",
   "execution_count": 49,
   "metadata": {
    "ExecuteTime": {
     "end_time": "2023-05-18T06:03:46.001781Z",
     "start_time": "2023-05-18T06:03:45.888893Z"
    },
    "collapsed": false
   },
   "outputs": [],
   "source": [
    "ex_post_params = params.copy()\n",
    "ex_post_inflex = ExPostInflexModel()\n",
    "ex_post_inflex.set_params(ex_post_params)\n",
    "ex_post_inflex.set_market(market)\n",
    "ex_post_inflex.generate()"
   ]
  },
  {
   "cell_type": "code",
   "execution_count": 50,
   "metadata": {
    "ExecuteTime": {
     "end_time": "2023-05-18T06:03:46.028434Z",
     "start_time": "2023-05-18T06:03:46.023974Z"
    },
    "collapsed": false
   },
   "outputs": [
    {
     "data": {
      "text/html": [
       "<table>\n",
       "<thead>\n",
       "<tr><th style=\"text-align: right;\">  date</th><th style=\"text-align: right;\">  Potential Gross Income</th><th style=\"text-align: right;\">  Vacancy Allowance</th><th style=\"text-align: right;\">  Effective Gross Income</th><th style=\"text-align: right;\">  Operating Expenses</th><th style=\"text-align: right;\">  Net Operating Income</th><th style=\"text-align: right;\">  Capital Expenditures</th><th style=\"text-align: right;\">  Net Annual Cashflow</th><th style=\"text-align: right;\">  Reversion</th></tr>\n",
       "</thead>\n",
       "<tbody>\n",
       "<tr><td style=\"text-align: right;\">  2001</td><td style=\"text-align: right;\">                 $135.75</td><td style=\"text-align: right;\">             -$6.79</td><td style=\"text-align: right;\">                 $128.96</td><td style=\"text-align: right;\">             -$47.51</td><td style=\"text-align: right;\">                $81.45</td><td style=\"text-align: right;\">               -$13.58</td><td style=\"text-align: right;\">               $67.88</td><td style=\"text-align: right;\">          0</td></tr>\n",
       "<tr><td style=\"text-align: right;\">  2002</td><td style=\"text-align: right;\">                 $174.05</td><td style=\"text-align: right;\">             -$8.70</td><td style=\"text-align: right;\">                 $165.35</td><td style=\"text-align: right;\">             -$60.92</td><td style=\"text-align: right;\">               $104.43</td><td style=\"text-align: right;\">               -$17.40</td><td style=\"text-align: right;\">               $87.02</td><td style=\"text-align: right;\">          0</td></tr>\n",
       "<tr><td style=\"text-align: right;\">  2003</td><td style=\"text-align: right;\">                 $188.61</td><td style=\"text-align: right;\">             -$9.43</td><td style=\"text-align: right;\">                 $179.18</td><td style=\"text-align: right;\">             -$66.01</td><td style=\"text-align: right;\">               $113.17</td><td style=\"text-align: right;\">               -$18.86</td><td style=\"text-align: right;\">               $94.31</td><td style=\"text-align: right;\">          0</td></tr>\n",
       "<tr><td style=\"text-align: right;\">  2004</td><td style=\"text-align: right;\">                 $180.70</td><td style=\"text-align: right;\">             -$9.04</td><td style=\"text-align: right;\">                 $171.67</td><td style=\"text-align: right;\">             -$63.25</td><td style=\"text-align: right;\">               $108.42</td><td style=\"text-align: right;\">               -$18.07</td><td style=\"text-align: right;\">               $90.35</td><td style=\"text-align: right;\">          0</td></tr>\n",
       "<tr><td style=\"text-align: right;\">  2005</td><td style=\"text-align: right;\">                 $210.02</td><td style=\"text-align: right;\">            -$10.50</td><td style=\"text-align: right;\">                 $199.52</td><td style=\"text-align: right;\">             -$73.51</td><td style=\"text-align: right;\">               $126.01</td><td style=\"text-align: right;\">               -$21.00</td><td style=\"text-align: right;\">              $105.01</td><td style=\"text-align: right;\">          0</td></tr>\n",
       "<tr><td style=\"text-align: right;\">  2006</td><td style=\"text-align: right;\">                 $151.45</td><td style=\"text-align: right;\">             -$7.57</td><td style=\"text-align: right;\">                 $143.88</td><td style=\"text-align: right;\">             -$53.01</td><td style=\"text-align: right;\">                $90.87</td><td style=\"text-align: right;\">               -$15.14</td><td style=\"text-align: right;\">               $75.72</td><td style=\"text-align: right;\">          0</td></tr>\n",
       "<tr><td style=\"text-align: right;\">  2007</td><td style=\"text-align: right;\">                 $103.91</td><td style=\"text-align: right;\">             -$5.20</td><td style=\"text-align: right;\">                  $98.71</td><td style=\"text-align: right;\">             -$36.37</td><td style=\"text-align: right;\">                $62.34</td><td style=\"text-align: right;\">               -$10.39</td><td style=\"text-align: right;\">               $51.95</td><td style=\"text-align: right;\">          0</td></tr>\n",
       "<tr><td style=\"text-align: right;\">  2008</td><td style=\"text-align: right;\">                  $63.73</td><td style=\"text-align: right;\">             -$3.19</td><td style=\"text-align: right;\">                  $60.55</td><td style=\"text-align: right;\">             -$22.31</td><td style=\"text-align: right;\">                $38.24</td><td style=\"text-align: right;\">                -$6.37</td><td style=\"text-align: right;\">               $31.87</td><td style=\"text-align: right;\">          0</td></tr>\n",
       "<tr><td style=\"text-align: right;\">  2009</td><td style=\"text-align: right;\">                  $48.16</td><td style=\"text-align: right;\">             -$2.41</td><td style=\"text-align: right;\">                  $45.75</td><td style=\"text-align: right;\">             -$16.86</td><td style=\"text-align: right;\">                $28.89</td><td style=\"text-align: right;\">                -$4.82</td><td style=\"text-align: right;\">               $24.08</td><td style=\"text-align: right;\">          0</td></tr>\n",
       "<tr><td style=\"text-align: right;\">  2010</td><td style=\"text-align: right;\">                  $58.89</td><td style=\"text-align: right;\">             -$2.94</td><td style=\"text-align: right;\">                  $55.94</td><td style=\"text-align: right;\">             -$20.61</td><td style=\"text-align: right;\">                $35.33</td><td style=\"text-align: right;\">                -$5.89</td><td style=\"text-align: right;\">               $29.44</td><td style=\"text-align: right;\">    $414.20</td></tr>\n",
       "<tr><td style=\"text-align: right;\">  2011</td><td style=\"text-align: right;\">                  $76.54</td><td style=\"text-align: right;\">             -$3.83</td><td style=\"text-align: right;\">                  $72.72</td><td style=\"text-align: right;\">             -$26.79</td><td style=\"text-align: right;\">                $45.93</td><td style=\"text-align: right;\">                -$7.65</td><td style=\"text-align: right;\">               $38.27</td><td style=\"text-align: right;\">          0</td></tr>\n",
       "</tbody>\n",
       "</table>"
      ],
      "text/plain": [
       "<rangekeeper.flux.Stream at 0x2dd565930>"
      ]
     },
     "execution_count": 50,
     "metadata": {},
     "output_type": "execute_result"
    }
   ],
   "source": [
    "ex_post_table = rk.flux.Stream(\n",
    "    name='Ex-Ante Pro-forma Cash Flow Projection',\n",
    "    flows=[\n",
    "        ex_post_inflex.pgi,\n",
    "        ex_post_inflex.vacancy,\n",
    "        ex_post_inflex.egi,\n",
    "        ex_post_inflex.opex,\n",
    "        ex_post_inflex.noi,\n",
    "        ex_post_inflex.capex,\n",
    "        ex_post_inflex.net_cf,\n",
    "        ex_post_inflex.reversion,\n",
    "        ],\n",
    "    period_type=rk.periodicity.Type.YEAR\n",
    "    )\n",
    "ex_post_table"
   ]
  },
  {
   "attachments": {},
   "cell_type": "markdown",
   "metadata": {
    "collapsed": false
   },
   "source": [
    "We can compare models on the same metrics:"
   ]
  },
  {
   "cell_type": "code",
   "execution_count": 51,
   "metadata": {
    "ExecuteTime": {
     "end_time": "2023-05-18T06:03:46.036340Z",
     "start_time": "2023-05-18T06:03:46.028774Z"
    },
    "collapsed": false
   },
   "outputs": [
    {
     "name": "stdout",
     "output_type": "stream",
     "text": [
      "Projected IRR at Market Value Price: 1.06%\n",
      "Time 0 Present Value at OCC: $700.21\n",
      "Average Annual Cashflow: $65.76\n"
     ]
    }
   ],
   "source": [
    "print('Projected IRR at Market Value Price: {:.2%}'.format(ex_post_inflex.irrs.movements[-1]))\n",
    "print('Time 0 Present Value at OCC: {0}'.format(locale.currency(ex_post_inflex.pvs.movements[-1], grouping=True)))\n",
    "print('Average Annual Cashflow: {0}'.format(locale.currency(ex_post_inflex.net_cf.trim_to_span(ex_post_inflex.span).movements.mean(), grouping=True)))"
   ]
  },
  {
   "cell_type": "code",
   "execution_count": 52,
   "metadata": {
    "ExecuteTime": {
     "end_time": "2023-05-18T06:03:46.036462Z",
     "start_time": "2023-05-18T06:03:46.031639Z"
    },
    "collapsed": false
   },
   "outputs": [
    {
     "name": "stdout",
     "output_type": "stream",
     "text": [
      "Percentage Difference of Scenario PV Minus Pro-forma PV: -29.98%\n",
      "Difference of Scenario IRR Minus Pro-forma IRR: -5.94%\n"
     ]
    }
   ],
   "source": [
    "pv_diff = (ex_post_inflex.pvs.movements[-1] - ex_ante.pvs.movements[-1]) / ex_ante.pvs.movements[-1]\n",
    "print('Percentage Difference of Scenario PV Minus Pro-forma PV: {:.2%}'.format(pv_diff))\n",
    "\n",
    "irr_diff = ex_post_inflex.irrs.movements[-1] - ex_ante.irrs.movements[-1]\n",
    "print('Difference of Scenario IRR Minus Pro-forma IRR: {:.2%}'.format(irr_diff))"
   ]
  },
  {
   "attachments": {},
   "cell_type": "markdown",
   "metadata": {
    "collapsed": false
   },
   "source": [
    "## Ex-Post Flexible Model\n",
    "In attempting to capture the effects of *flexibility* in our Proforma, we must\n",
    "introduce the ability to program optionality into our model; that is, the\n",
    "creation of alternate options to a single course of action, that may be\n",
    "exercised (but are not obliged to be)"
   ]
  },
  {
   "attachments": {},
   "cell_type": "markdown",
   "metadata": {
    "collapsed": false
   },
   "source": [
    "In {cite}`farevuu2018`, Chapter 9 presents a simple case of flexibility; the\n",
    "'Resale Timing Problem', which is described as the question of when and how to\n",
    "decide to sell an investment property.\n",
    "\n",
    "*Rangekeeper* formulates these types of decision problems as `Policy`s that\n",
    "encapsulate the sequence of conditions required to trigger a decision, and the\n",
    "option actions that are execised as a result.\n"
   ]
  },
  {
   "attachments": {},
   "cell_type": "markdown",
   "metadata": {},
   "source": [
    "### `Policy`s\n",
    "`Policy`s adjust or edit a `Model` dynamically (e.g. by overwriting how it \n",
    "constructs its `Flow`s, `Stream`s, or metrics/outcomes), and thus enable the \n",
    "Proforma to be *flexible*.\n",
    "They are structured as classes that require a 'state' (a specific `Flow`) to be \n",
    "checked for a certain 'condition', and if the condition is met, an 'action' on \n",
    "the `Model` is executed; producing a new `Model`."
   ]
  },
  {
   "attachments": {},
   "cell_type": "markdown",
   "metadata": {},
   "source": [
    "```{figure} resources/FaREVuU-figure9.1.png\n",
    "---\n",
    "width: 75%\n",
    "name: FaREVuU-figure9.1\n",
    "---\n",
    "Figure 9.1 From {cite}`farevuu2018`\n",
    "```"
   ]
  },
  {
   "attachments": {},
   "cell_type": "markdown",
   "metadata": {},
   "source": [
    "{cite}`farevuu2018` diagram the logic of the \"Stop-Gain Resale Rule\" as a \n",
    "flowchart (influenced by Excel functions). In *Rangekeeper*, this would be \n",
    "programmed as simply adjusting the holding period of the asset (in effect \n",
    "bringing its reversion/sale to the specified period):"
   ]
  },
  {
   "attachments": {},
   "cell_type": "markdown",
   "metadata": {},
   "source": [
    "First we define our condition, taking a `Flow` as input and outputting a \n",
    "sequence of respective booleans that flag the state of the decision.\n",
    "\n",
    "```{note}\n",
    "Note an additional condition has been specified in the below code; that the\n",
    "minimum hold period is 7 years. This is to prevent the model from triggering\n",
    "consistently in the first few years as the `Market` phase has been fixed at '0'\n",
    "(ie, the scenario always begins with a `Market` at mid-cycle going up)\n",
    "```"
   ]
  },
  {
   "cell_type": "code",
   "execution_count": 53,
   "metadata": {
    "ExecuteTime": {
     "end_time": "2023-05-18T06:03:46.036511Z",
     "start_time": "2023-05-18T06:03:46.035330Z"
    }
   },
   "outputs": [],
   "source": [
    "def exceed_pricing_factor(state: rk.flux.Flow) -> List[bool]:\n",
    "    threshold = 1.2\n",
    "    result = []\n",
    "    for i in range(state.movements.index.size):\n",
    "        if any(result):\n",
    "            result.append(False)\n",
    "        else:\n",
    "            if i < 7:\n",
    "                result.append(False)\n",
    "            else:\n",
    "                if state.movements[i] > threshold:\n",
    "                    result.append(True)\n",
    "                else:\n",
    "                    result.append(False)\n",
    "    return result"
   ]
  },
  {
   "attachments": {},
   "cell_type": "markdown",
   "metadata": {},
   "source": [
    "Now we define our action; taking a `Model` object to manipulate, as well as the\n",
    "resultant sequence of decisions from the previous condition check:"
   ]
  },
  {
   "cell_type": "code",
   "execution_count": 54,
   "metadata": {
    "ExecuteTime": {
     "end_time": "2023-05-18T06:03:46.040498Z",
     "start_time": "2023-05-18T06:03:46.039059Z"
    },
    "collapsed": false
   },
   "outputs": [],
   "source": [
    "def adjust_hold_period(\n",
    "        model: object,\n",
    "        decisions: List[bool]) -> object:\n",
    "    # Get the index of the decision flag:\n",
    "    try:\n",
    "        idx = decisions.index(True)\n",
    "    except ValueError:\n",
    "        idx = len(decisions)\n",
    "        \n",
    "    # Adjust the Model's holding period:\n",
    "    policy_params = model.params.copy()\n",
    "    policy_params['num_periods'] = idx\n",
    "\n",
    "    # Re-run the Model with updated params:\n",
    "    model.set_params(policy_params)\n",
    "    model.generate()\n",
    "    return model"
   ]
  },
  {
   "attachments": {},
   "cell_type": "markdown",
   "metadata": {},
   "source": [
    "Now that our functions have been defined, we wrap them in a `Policy` instance, \n",
    "that can be executed against the `Model` and its context (`Market`)\n",
    "\n",
    "```{note}\n",
    "The abstract nature of the `Policy` class implies the ability to chain multiple\n",
    "`Policy`s together, thus building more complex graphs of actions that can better\n",
    "mimic a manager or developer of a real estate asset. For more information, see\n",
    "[Markov decision process](https://en.wikipedia.org/wiki/Markov_decision_process)"
   ]
  },
  {
   "cell_type": "code",
   "execution_count": 55,
   "metadata": {
    "ExecuteTime": {
     "end_time": "2023-05-18T06:03:46.043353Z",
     "start_time": "2023-05-18T06:03:46.041742Z"
    }
   },
   "outputs": [],
   "source": [
    "stop_gain_resale_policy = rk.policy.Policy(\n",
    "    condition=exceed_pricing_factor,\n",
    "    action=adjust_hold_period)"
   ]
  },
  {
   "cell_type": "code",
   "execution_count": 56,
   "metadata": {
    "ExecuteTime": {
     "end_time": "2023-05-18T06:03:46.215021Z",
     "start_time": "2023-05-18T06:03:46.050144Z"
    }
   },
   "outputs": [
    {
     "name": "stdout",
     "output_type": "stream",
     "text": [
      "Flexible Model Hold Period: 16\n",
      "Projected IRR at Market Value Price: 10.14%\n",
      "Time 0 Present Value at OCC: $1,379.21\n",
      "Average Annual Cashflow: $61.76\n"
     ]
    }
   ],
   "source": [
    "ex_post_flex = stop_gain_resale_policy.execute(\n",
    "    args=(ex_post_inflex.market.space_market_price_factors, ex_post_inflex))\n",
    "\n",
    "print('Flexible Model Hold Period: {0}'.format(ex_post_flex.params['num_periods']))\n",
    "print('Projected IRR at Market Value Price: {:.2%}'.format(ex_post_flex.irrs.movements[-1]))\n",
    "print('Time 0 Present Value at OCC: {0}'.format(locale.currency(ex_post_flex.pvs.movements[-1], grouping=True)))\n",
    "print('Average Annual Cashflow: {0}'.format(locale.currency(ex_post_flex.net_cf.trim_to_span(ex_post_inflex.span).movements.mean(), grouping=True)))"
   ]
  },
  {
   "cell_type": "markdown",
   "metadata": {
    "collapsed": false
   },
   "source": [
    "In this situation, flexibility is a benefit to the investor, as Stop-Gain Resale\n",
    "Policy encourages holding the asset until the market peaks, and avoids market\n",
    "downturns."
   ]
  },
  {
   "attachments": {},
   "cell_type": "markdown",
   "metadata": {
    "collapsed": false
   },
   "source": []
  }
 ],
 "metadata": {
  "kernelspec": {
   "display_name": "Python 3",
   "language": "python",
   "name": "python3"
  },
  "language_info": {
   "codemirror_mode": {
    "name": "ipython",
    "version": 3
   },
   "file_extension": ".py",
   "mimetype": "text/x-python",
   "name": "python",
   "nbconvert_exporter": "python",
   "pygments_lexer": "ipython3",
   "version": "3.10.4"
  }
 },
 "nbformat": 4,
 "nbformat_minor": 0
}