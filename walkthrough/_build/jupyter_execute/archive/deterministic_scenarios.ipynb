{
 "cells": [
  {
   "cell_type": "markdown",
   "metadata": {
    "collapsed": false
   },
   "source": [
    "# Deterministic Scenario Analysis\n",
    "Chapter 4 of {cite}`farevuu2018` presents the concept of various \"scenarios\" of\n",
    "cashflows by varying key input parameters or modyfing how certain cashflows are\n",
    "produced.\n",
    "\n",
    "In order to replicate this with *Rangekeeper*, we integrate all the steps to\n",
    "produce a proforma model into a single class, where this class accepts a\n",
    "`dictionary` of input parameters. This allows us to easily create alternate\n",
    "scenarios by simply changing the parameters in the dictionary."
   ]
  },
  {
   "cell_type": "markdown",
   "metadata": {
    "collapsed": false
   },
   "source": [
    "Specifically, we will be recreating the three DCF Scenarios in Table 4.1:\n",
    "```{figure} resources/FaREVuU-table4.1.png\n",
    "---\n",
    "width: 100%\n",
    "name: FaREVuU-table4.1\n",
    "---\n",
    "Table 4.1 from {cite}`farevuu2018`\n",
    "```"
   ]
  },
  {
   "cell_type": "markdown",
   "metadata": {
    "collapsed": false
   },
   "source": [
    "Again we import the necessary libraries:"
   ]
  },
  {
   "cell_type": "code",
   "execution_count": 1,
   "metadata": {
    "ExecuteTime": {
     "end_time": "2023-05-16T06:33:12.633938Z",
     "start_time": "2023-05-16T06:33:11.936442Z"
    },
    "collapsed": false
   },
   "outputs": [],
   "source": [
    "import locale\n",
    "import pandas as pd\n",
    "\n",
    "import rangekeeper as rk"
   ]
  },
  {
   "cell_type": "markdown",
   "metadata": {
    "collapsed": false
   },
   "source": [
    "## Base Parameters"
   ]
  },
  {
   "cell_type": "markdown",
   "metadata": {
    "collapsed": false
   },
   "source": [
    "First let's set up the Proforma Model's parameters. These will be formatted as a\n",
    "dictionary of inputs:"
   ]
  },
  {
   "cell_type": "code",
   "execution_count": 2,
   "metadata": {
    "ExecuteTime": {
     "end_time": "2023-05-16T06:33:12.690667Z",
     "start_time": "2023-05-16T06:33:12.635566Z"
    },
    "collapsed": false
   },
   "outputs": [
    {
     "ename": "AttributeError",
     "evalue": "module 'rangekeeper' has no attribute 'periodicity'",
     "output_type": "error",
     "traceback": [
      "\u001b[0;31m---------------------------------------------------------------------------\u001b[0m",
      "\u001b[0;31mAttributeError\u001b[0m                            Traceback (most recent call last)",
      "Cell \u001b[0;32mIn[2], line 7\u001b[0m\n\u001b[1;32m      2\u001b[0m units \u001b[38;5;241m=\u001b[39m rk\u001b[38;5;241m.\u001b[39mmeasure\u001b[38;5;241m.\u001b[39mIndex\u001b[38;5;241m.\u001b[39mregistry\n\u001b[1;32m      3\u001b[0m currency \u001b[38;5;241m=\u001b[39m rk\u001b[38;5;241m.\u001b[39mmeasure\u001b[38;5;241m.\u001b[39mregister_currency(registry\u001b[38;5;241m=\u001b[39munits)\n\u001b[1;32m      4\u001b[0m params \u001b[38;5;241m=\u001b[39m {\n\u001b[1;32m      5\u001b[0m     \u001b[38;5;124m'\u001b[39m\u001b[38;5;124mstart_date\u001b[39m\u001b[38;5;124m'\u001b[39m: pd\u001b[38;5;241m.\u001b[39mTimestamp(\u001b[38;5;124m'\u001b[39m\u001b[38;5;124m2001-01-01\u001b[39m\u001b[38;5;124m'\u001b[39m),\n\u001b[1;32m      6\u001b[0m     \u001b[38;5;124m'\u001b[39m\u001b[38;5;124mnum_periods\u001b[39m\u001b[38;5;124m'\u001b[39m: \u001b[38;5;241m10\u001b[39m,\n\u001b[0;32m----> 7\u001b[0m     \u001b[38;5;124m'\u001b[39m\u001b[38;5;124mperiod_type\u001b[39m\u001b[38;5;124m'\u001b[39m: \u001b[43mrk\u001b[49m\u001b[38;5;241;43m.\u001b[39;49m\u001b[43mperiodicity\u001b[49m\u001b[38;5;241m.\u001b[39mType\u001b[38;5;241m.\u001b[39mYEAR,\n\u001b[1;32m      8\u001b[0m     \u001b[38;5;124m'\u001b[39m\u001b[38;5;124macquisition_cost\u001b[39m\u001b[38;5;124m'\u001b[39m: \u001b[38;5;241m-\u001b[39m\u001b[38;5;241m1000\u001b[39m \u001b[38;5;241m*\u001b[39m currency\u001b[38;5;241m.\u001b[39munits,\n\u001b[1;32m      9\u001b[0m     \u001b[38;5;124m'\u001b[39m\u001b[38;5;124minitial_income\u001b[39m\u001b[38;5;124m'\u001b[39m: \u001b[38;5;241m100\u001b[39m \u001b[38;5;241m*\u001b[39m currency\u001b[38;5;241m.\u001b[39munits,\n\u001b[1;32m     10\u001b[0m     \u001b[38;5;124m'\u001b[39m\u001b[38;5;124mgrowth_rate\u001b[39m\u001b[38;5;124m'\u001b[39m: \u001b[38;5;241m0.02\u001b[39m,\n\u001b[1;32m     11\u001b[0m     \u001b[38;5;124m'\u001b[39m\u001b[38;5;124mvacancy_rate\u001b[39m\u001b[38;5;124m'\u001b[39m: \u001b[38;5;241m0.05\u001b[39m,\n\u001b[1;32m     12\u001b[0m     \u001b[38;5;124m'\u001b[39m\u001b[38;5;124mopex_pgi_ratio\u001b[39m\u001b[38;5;124m'\u001b[39m: \u001b[38;5;241m0.35\u001b[39m,\n\u001b[1;32m     13\u001b[0m     \u001b[38;5;124m'\u001b[39m\u001b[38;5;124mcapex_pgi_ratio\u001b[39m\u001b[38;5;124m'\u001b[39m: \u001b[38;5;241m0.1\u001b[39m,\n\u001b[1;32m     14\u001b[0m     \u001b[38;5;124m'\u001b[39m\u001b[38;5;124mexit_caprate\u001b[39m\u001b[38;5;124m'\u001b[39m: \u001b[38;5;241m0.05\u001b[39m,\n\u001b[1;32m     15\u001b[0m     \u001b[38;5;124m'\u001b[39m\u001b[38;5;124mdiscount_rate\u001b[39m\u001b[38;5;124m'\u001b[39m: \u001b[38;5;241m0.07\u001b[39m,\n\u001b[1;32m     16\u001b[0m \n\u001b[1;32m     17\u001b[0m     \u001b[38;5;66;03m# Table 4.1 has proformas that absorb an additional straight-line income flow:\u001b[39;00m\n\u001b[1;32m     18\u001b[0m     \u001b[38;5;124m'\u001b[39m\u001b[38;5;124maddl_pgi_init\u001b[39m\u001b[38;5;124m'\u001b[39m: \u001b[38;5;241m0\u001b[39m,\n\u001b[1;32m     19\u001b[0m     \u001b[38;5;124m'\u001b[39m\u001b[38;5;124maddl_pgi_slope\u001b[39m\u001b[38;5;124m'\u001b[39m: \u001b[38;5;241m0\u001b[39m,\n\u001b[1;32m     20\u001b[0m     }\n",
      "\u001b[0;31mAttributeError\u001b[0m: module 'rangekeeper' has no attribute 'periodicity'"
     ]
    }
   ],
   "source": [
    "locale.setlocale(locale.LC_ALL, '')\n",
    "units = rk.measure.Index.registry\n",
    "currency = rk.measure.register_currency(registry=units)\n",
    "params = {\n",
    "    'start_date': pd.Timestamp('2001-01-01'),\n",
    "    'num_periods': 10,\n",
    "    'period_type': rk.periodicity.Type.YEAR,\n",
    "    'acquisition_cost': -1000 * currency.units,\n",
    "    'initial_income': 100 * currency.units,\n",
    "    'growth_rate': 0.02,\n",
    "    'vacancy_rate': 0.05,\n",
    "    'opex_pgi_ratio': 0.35,\n",
    "    'capex_pgi_ratio': 0.1,\n",
    "    'exit_caprate': 0.05,\n",
    "    'discount_rate': 0.07,\n",
    "\n",
    "    # Table 4.1 has proformas that absorb an additional straight-line income flow:\n",
    "    'addl_pgi_init': 0,\n",
    "    'addl_pgi_slope': 0,\n",
    "    }"
   ]
  },
  {
   "cell_type": "markdown",
   "metadata": {
    "collapsed": false
   },
   "source": [
    "## Base Proforma Model"
   ]
  },
  {
   "cell_type": "markdown",
   "metadata": {
    "collapsed": false
   },
   "source": [
    "Then let's set up the base proforma model, which will accept the `dict` of\n",
    "parameters on initialization:"
   ]
  },
  {
   "cell_type": "code",
   "execution_count": 3,
   "metadata": {
    "ExecuteTime": {
     "end_time": "2023-05-16T06:33:12.690857Z",
     "start_time": "2023-05-16T06:33:12.687639Z"
    },
    "collapsed": false
   },
   "outputs": [],
   "source": [
    "class Model:\n",
    "    def __init__(self, params: dict):\n",
    "        self.params = params"
   ]
  },
  {
   "cell_type": "markdown",
   "metadata": {
    "collapsed": false
   },
   "source": [
    "In order to make the class more readable, we will use the `@rk.update_class`\n",
    "decorator in order to sequentially add methods to the class in the following\n",
    "cells. This is not necessary, but it helps when the documentation is in Jupyter\n",
    "format."
   ]
  },
  {
   "cell_type": "markdown",
   "metadata": {
    "collapsed": false
   },
   "source": [
    "### Spans\n",
    "First we set up the Model's `Span`s:"
   ]
  },
  {
   "cell_type": "code",
   "execution_count": 4,
   "metadata": {
    "ExecuteTime": {
     "end_time": "2023-05-16T06:33:12.690911Z",
     "start_time": "2023-05-16T06:33:12.689216Z"
    },
    "collapsed": false
   },
   "outputs": [],
   "source": [
    "@rk.update_class(Model)\n",
    "class Model:\n",
    "    def init_spans(self):\n",
    "        self.calc_span = rk.span.Span.from_num_periods(\n",
    "            name='Span to Calculate Reversion',\n",
    "            date=self.params['start_date'],\n",
    "            period_type=self.params['period_type'],\n",
    "            num_periods=self.params['num_periods'] + 1)\n",
    "        self.acq_span = rk.span.Span.from_num_periods(\n",
    "            name='Acquisition Span',\n",
    "            date=rk.periodicity.offset_date(\n",
    "                self.params['start_date'],\n",
    "                num_periods=-1,\n",
    "                period_type=self.params['period_type']),\n",
    "            period_type=self.params['period_type'],\n",
    "            num_periods=1)\n",
    "        self.span = self.calc_span.shift(\n",
    "            name='Span',\n",
    "            num_periods=-1,\n",
    "            period_type=self.params['period_type'],\n",
    "            bound='end')"
   ]
  },
  {
   "cell_type": "markdown",
   "metadata": {
    "collapsed": false
   },
   "source": [
    "### Cash Flows\n",
    "We now set up the Model's Operational Cash Flows:"
   ]
  },
  {
   "cell_type": "code",
   "execution_count": 5,
   "metadata": {
    "ExecuteTime": {
     "end_time": "2023-05-16T06:33:12.691065Z",
     "start_time": "2023-05-16T06:33:12.690949Z"
    },
    "collapsed": false
   },
   "outputs": [],
   "source": [
    "@rk.update_class(Model)\n",
    "class Model:\n",
    "    def init_flows(self):\n",
    "        self.acquisition = rk.flux.Flow.from_projection(\n",
    "            name='Acquisition',\n",
    "            value=self.params['acquisition_cost'],\n",
    "            proj=rk.projection.Distribution(\n",
    "                form=rk.distribution.Uniform(),\n",
    "                sequence=self.acq_span.to_index(period_type=self.params['period_type'])),\n",
    "            units=currency.units)\n",
    "\n",
    "        self.base_pgi = rk.flux.Flow.from_projection(\n",
    "            name='Base Potential Gross Income',\n",
    "            value=self.params['initial_income'],\n",
    "            proj=rk.projection.Extrapolation(\n",
    "            form=rk.extrapolation.Compounding(\n",
    "                rate=self.params['growth_rate']),\n",
    "            sequence=self.calc_span.to_index(period_type=self.params['period_type'])),\n",
    "            units=currency.units)\n",
    "\n",
    "        # Table 4.1 has proformas that absorb an additional straight-line income\n",
    "        # flow:\n",
    "        self.addl_pgi = rk.flux.Flow.from_projection(\n",
    "            name='Additional Potential Gross Income',\n",
    "            value=self.params['addl_pgi_init'],\n",
    "            proj=rk.projection.Extrapolation(\n",
    "                form=rk.extrapolation.StraightLine(\n",
    "                    slope=self.params['addl_pgi_slope']),\n",
    "                sequence=self.calc_span.to_index(period_type=self.params['period_type'])),\n",
    "            units=currency.units)\n",
    "\n",
    "        self.pgi = rk.flux.Stream(\n",
    "            name='Potential Gross Income',\n",
    "            flows=[self.base_pgi, self.addl_pgi],\n",
    "            period_type=self.params['period_type']).sum()\n",
    "\n",
    "        self.vacancy = rk.flux.Flow(\n",
    "            name='Vacancy Allowance',\n",
    "            movements=self.pgi.movements * -self.params['vacancy_rate'],\n",
    "            units=currency.units)\n",
    "        self.egi = rk.flux.Stream(\n",
    "            name='Effective Gross Income',\n",
    "            flows=[self.pgi, self.vacancy],\n",
    "            period_type=self.params['period_type']).sum()\n",
    "        self.opex = rk.flux.Flow(\n",
    "            name='Operating Expenses',\n",
    "            movements=self.pgi.movements * self.params['opex_pgi_ratio'],\n",
    "            units=currency.units).invert()\n",
    "        self.noi = rk.flux.Stream(\n",
    "            name='Net Operating Income',\n",
    "            flows=[self.egi, self.opex],\n",
    "            period_type=self.params['period_type']).sum()\n",
    "        self.capex = rk.flux.Flow(\n",
    "            name='Capital Expenditures',\n",
    "            movements=self.pgi.movements * self.params['capex_pgi_ratio'],\n",
    "            units=currency.units).invert()\n",
    "        self.net_cfs = rk.flux.Stream(\n",
    "            name='Net Annual Cashflows',\n",
    "            flows=[self.noi, self.capex],\n",
    "            period_type=self.params['period_type']).sum()\n",
    "\n",
    "        self.reversions = rk.flux.Flow(\n",
    "            name='Reversions',\n",
    "            movements=self.net_cfs.movements.shift(periods=-1).dropna() / self.params['exit_caprate'],\n",
    "            units=currency.units).trim_to_span(span=self.span)\n",
    "        self.net_cfs = self.net_cfs.trim_to_span(span=self.span)"
   ]
  },
  {
   "cell_type": "markdown",
   "metadata": {
    "collapsed": false
   },
   "source": [
    "### Metrics\n",
    "Now we can add methods to calculate metrics, like the present value (PV) and\n",
    "internal rate of return (IRR) for each period in the Model's `Span`:"
   ]
  },
  {
   "cell_type": "code",
   "execution_count": 6,
   "metadata": {
    "collapsed": false
   },
   "outputs": [],
   "source": [
    "@rk.update_class(Model)\n",
    "class Model:\n",
    "    def calc_metrics(self):\n",
    "        pvs = []\n",
    "        irrs = []\n",
    "        for period in self.net_cfs.movements.index:\n",
    "            cumulative_net_cfs = self.net_cfs.trim_to_span(\n",
    "                span=rk.span.Span(\n",
    "                    name='Cumulative Net Cashflow Span',\n",
    "                    start_date=self.params['start_date'],\n",
    "                    end_date=period))\n",
    "            reversion = rk.flux.Flow(\n",
    "                movements=self.reversions.movements.loc[[period]],\n",
    "                units=currency.units)\n",
    "            cumulative_net_cfs_with_rev = rk.flux.Stream(\n",
    "                name='Net Cashflow with Reversion',\n",
    "                flows=[cumulative_net_cfs, reversion],\n",
    "                period_type=self.params['period_type'])\n",
    "            pv = cumulative_net_cfs_with_rev.sum().pv(\n",
    "                name='Present Value',\n",
    "                period_type=self.params['period_type'],\n",
    "                discount_rate=self.params['discount_rate'])\n",
    "            pvs.append(pv.collapse().movements)\n",
    "\n",
    "            incl_acq = rk.flux.Stream(\n",
    "                name='Net Cashflow with Reversion and Acquisition',\n",
    "                flows=[cumulative_net_cfs_with_rev.sum(), self.acquisition],\n",
    "                period_type=self.params['period_type'])\n",
    "\n",
    "            irrs.append(round(incl_acq.sum().xirr(), 4))\n",
    "\n",
    "        self.pvs = rk.flux.Flow(\n",
    "            name='Present Values',\n",
    "            movements=pd.concat(pvs),\n",
    "            units=currency.units)\n",
    "        self.irrs = rk.flux.Flow(\n",
    "            name='Internal Rates of Return',\n",
    "            movements=pd.Series(irrs, index=self.pvs.movements.index),\n",
    "            units=None)"
   ]
  },
  {
   "cell_type": "markdown",
   "metadata": {
    "collapsed": false
   },
   "source": [
    "### Output\n",
    "Now our Proforma Model is set up, and we can initialize and calculate it:"
   ]
  },
  {
   "cell_type": "code",
   "execution_count": 7,
   "metadata": {
    "ExecuteTime": {
     "end_time": "2023-05-16T06:33:12.787540Z",
     "start_time": "2023-05-16T06:33:12.693344Z"
    },
    "collapsed": false
   },
   "outputs": [],
   "source": [
    "model = Model(params)\n",
    "model.init_spans()\n",
    "model.init_flows()\n",
    "model.calc_metrics()"
   ]
  },
  {
   "cell_type": "code",
   "execution_count": 8,
   "metadata": {
    "ExecuteTime": {
     "end_time": "2023-05-16T06:33:12.796135Z",
     "start_time": "2023-05-16T06:33:12.789933Z"
    },
    "collapsed": false
   },
   "outputs": [
    {
     "data": {
      "text/html": [
       "<table>\n",
       "<thead>\n",
       "<tr><th style=\"text-align: right;\">               date</th><th style=\"text-align: right;\">  Present Values</th></tr>\n",
       "</thead>\n",
       "<tbody>\n",
       "<tr><td style=\"text-align: right;\">2001-12-31 00:00:00</td><td style=\"text-align: right;\">       $1,000.00</td></tr>\n",
       "<tr><td style=\"text-align: right;\">2002-12-31 00:00:00</td><td style=\"text-align: right;\">       $1,000.00</td></tr>\n",
       "<tr><td style=\"text-align: right;\">2003-12-31 00:00:00</td><td style=\"text-align: right;\">       $1,000.00</td></tr>\n",
       "<tr><td style=\"text-align: right;\">2004-12-31 00:00:00</td><td style=\"text-align: right;\">       $1,000.00</td></tr>\n",
       "<tr><td style=\"text-align: right;\">2005-12-31 00:00:00</td><td style=\"text-align: right;\">       $1,000.00</td></tr>\n",
       "<tr><td style=\"text-align: right;\">2006-12-31 00:00:00</td><td style=\"text-align: right;\">       $1,000.00</td></tr>\n",
       "<tr><td style=\"text-align: right;\">2007-12-31 00:00:00</td><td style=\"text-align: right;\">       $1,000.00</td></tr>\n",
       "<tr><td style=\"text-align: right;\">2008-12-31 00:00:00</td><td style=\"text-align: right;\">       $1,000.00</td></tr>\n",
       "<tr><td style=\"text-align: right;\">2009-12-31 00:00:00</td><td style=\"text-align: right;\">       $1,000.00</td></tr>\n",
       "<tr><td style=\"text-align: right;\">2010-12-31 00:00:00</td><td style=\"text-align: right;\">       $1,000.00</td></tr>\n",
       "</tbody>\n",
       "</table>"
      ],
      "text/plain": [
       "<rangekeeper.flux.Flow at 0x2e19b7f10>"
      ]
     },
     "execution_count": 8,
     "metadata": {},
     "output_type": "execute_result"
    }
   ],
   "source": [
    "model.pvs"
   ]
  },
  {
   "cell_type": "code",
   "execution_count": 9,
   "metadata": {
    "ExecuteTime": {
     "end_time": "2023-05-16T06:33:12.801193Z",
     "start_time": "2023-05-16T06:33:12.797132Z"
    },
    "collapsed": false
   },
   "outputs": [
    {
     "data": {
      "text/html": [
       "<table>\n",
       "<thead>\n",
       "<tr><th style=\"text-align: right;\">               date</th><th style=\"text-align: right;\">  Internal Rates of Return</th></tr>\n",
       "</thead>\n",
       "<tbody>\n",
       "<tr><td style=\"text-align: right;\">2001-12-31 00:00:00</td><td style=\"text-align: right;\">                      0.07</td></tr>\n",
       "<tr><td style=\"text-align: right;\">2002-12-31 00:00:00</td><td style=\"text-align: right;\">                      0.07</td></tr>\n",
       "<tr><td style=\"text-align: right;\">2003-12-31 00:00:00</td><td style=\"text-align: right;\">                      0.07</td></tr>\n",
       "<tr><td style=\"text-align: right;\">2004-12-31 00:00:00</td><td style=\"text-align: right;\">                      0.07</td></tr>\n",
       "<tr><td style=\"text-align: right;\">2005-12-31 00:00:00</td><td style=\"text-align: right;\">                      0.07</td></tr>\n",
       "<tr><td style=\"text-align: right;\">2006-12-31 00:00:00</td><td style=\"text-align: right;\">                      0.07</td></tr>\n",
       "<tr><td style=\"text-align: right;\">2007-12-31 00:00:00</td><td style=\"text-align: right;\">                      0.07</td></tr>\n",
       "<tr><td style=\"text-align: right;\">2008-12-31 00:00:00</td><td style=\"text-align: right;\">                      0.07</td></tr>\n",
       "<tr><td style=\"text-align: right;\">2009-12-31 00:00:00</td><td style=\"text-align: right;\">                      0.07</td></tr>\n",
       "<tr><td style=\"text-align: right;\">2010-12-31 00:00:00</td><td style=\"text-align: right;\">                      0.07</td></tr>\n",
       "</tbody>\n",
       "</table>"
      ],
      "text/plain": [
       "<rangekeeper.flux.Flow at 0x2e19c0670>"
      ]
     },
     "execution_count": 9,
     "metadata": {},
     "output_type": "execute_result"
    }
   ],
   "source": [
    "model.irrs"
   ]
  },
  {
   "cell_type": "markdown",
   "metadata": {
    "collapsed": false
   },
   "source": [
    "## Scenarios"
   ]
  },
  {
   "cell_type": "markdown",
   "metadata": {
    "collapsed": false
   },
   "source": [
    "### Optimistic\n",
    "In Table 4.1, the 'Panel B' (Optimistic) scenario is created by increasing the\n",
    "initial income `Flow` by 10%, and also adding additional Potential Gross Income\n",
    "with a `Projection` that compounds at 3% p.a.:"
   ]
  },
  {
   "cell_type": "code",
   "execution_count": 10,
   "metadata": {
    "ExecuteTime": {
     "end_time": "2023-05-16T06:33:12.801344Z",
     "start_time": "2023-05-16T06:33:12.799744Z"
    },
    "collapsed": false
   },
   "outputs": [],
   "source": [
    "optimistic_params = params.copy()\n",
    "optimistic_params['initial_income'] = params['initial_income'] + 10 * currency.units\n",
    "optimistic_params['addl_pgi_slope'] = 3"
   ]
  },
  {
   "cell_type": "markdown",
   "metadata": {
    "collapsed": false
   },
   "source": [
    "Again, we can create a new `Model` with these parameters, and calculate it:"
   ]
  },
  {
   "cell_type": "code",
   "execution_count": 11,
   "metadata": {
    "ExecuteTime": {
     "end_time": "2023-05-16T06:33:12.907382Z",
     "start_time": "2023-05-16T06:33:12.803778Z"
    },
    "collapsed": false
   },
   "outputs": [],
   "source": [
    "optimistic = Model(optimistic_params)\n",
    "optimistic.init_spans()\n",
    "optimistic.init_flows()\n",
    "optimistic.calc_metrics()"
   ]
  },
  {
   "cell_type": "code",
   "execution_count": 12,
   "metadata": {
    "ExecuteTime": {
     "end_time": "2023-05-16T06:33:12.915418Z",
     "start_time": "2023-05-16T06:33:12.911871Z"
    },
    "collapsed": false
   },
   "outputs": [
    {
     "data": {
      "text/html": [
       "<table>\n",
       "<thead>\n",
       "<tr><th style=\"text-align: right;\">               date</th><th style=\"text-align: right;\">  Present Values</th></tr>\n",
       "</thead>\n",
       "<tbody>\n",
       "<tr><td style=\"text-align: right;\">2001-12-31 00:00:00</td><td style=\"text-align: right;\">       $1,128.04</td></tr>\n",
       "<tr><td style=\"text-align: right;\">2002-12-31 00:00:00</td><td style=\"text-align: right;\">       $1,153.72</td></tr>\n",
       "<tr><td style=\"text-align: right;\">2003-12-31 00:00:00</td><td style=\"text-align: right;\">       $1,177.23</td></tr>\n",
       "<tr><td style=\"text-align: right;\">2004-12-31 00:00:00</td><td style=\"text-align: right;\">       $1,198.74</td></tr>\n",
       "<tr><td style=\"text-align: right;\">2005-12-31 00:00:00</td><td style=\"text-align: right;\">       $1,218.42</td></tr>\n",
       "<tr><td style=\"text-align: right;\">2006-12-31 00:00:00</td><td style=\"text-align: right;\">       $1,236.41</td></tr>\n",
       "<tr><td style=\"text-align: right;\">2007-12-31 00:00:00</td><td style=\"text-align: right;\">       $1,252.85</td></tr>\n",
       "<tr><td style=\"text-align: right;\">2008-12-31 00:00:00</td><td style=\"text-align: right;\">       $1,267.87</td></tr>\n",
       "<tr><td style=\"text-align: right;\">2009-12-31 00:00:00</td><td style=\"text-align: right;\">       $1,281.57</td></tr>\n",
       "<tr><td style=\"text-align: right;\">2010-12-31 00:00:00</td><td style=\"text-align: right;\">       $1,294.08</td></tr>\n",
       "</tbody>\n",
       "</table>"
      ],
      "text/plain": [
       "<rangekeeper.flux.Flow at 0x2e19c00d0>"
      ]
     },
     "execution_count": 12,
     "metadata": {},
     "output_type": "execute_result"
    }
   ],
   "source": [
    "optimistic.pvs"
   ]
  },
  {
   "cell_type": "code",
   "execution_count": 13,
   "metadata": {
    "ExecuteTime": {
     "end_time": "2023-05-16T06:33:12.928815Z",
     "start_time": "2023-05-16T06:33:12.915530Z"
    },
    "collapsed": false
   },
   "outputs": [
    {
     "data": {
      "text/html": [
       "<table>\n",
       "<thead>\n",
       "<tr><th style=\"text-align: right;\">               date</th><th style=\"text-align: right;\">  Internal Rates of Return</th></tr>\n",
       "</thead>\n",
       "<tbody>\n",
       "<tr><td style=\"text-align: right;\">2001-12-31 00:00:00</td><td style=\"text-align: right;\">                      0.21</td></tr>\n",
       "<tr><td style=\"text-align: right;\">2002-12-31 00:00:00</td><td style=\"text-align: right;\">                      0.15</td></tr>\n",
       "<tr><td style=\"text-align: right;\">2003-12-31 00:00:00</td><td style=\"text-align: right;\">                      0.13</td></tr>\n",
       "<tr><td style=\"text-align: right;\">2004-12-31 00:00:00</td><td style=\"text-align: right;\">                      0.12</td></tr>\n",
       "<tr><td style=\"text-align: right;\">2005-12-31 00:00:00</td><td style=\"text-align: right;\">                      0.12</td></tr>\n",
       "<tr><td style=\"text-align: right;\">2006-12-31 00:00:00</td><td style=\"text-align: right;\">                      0.11</td></tr>\n",
       "<tr><td style=\"text-align: right;\">2007-12-31 00:00:00</td><td style=\"text-align: right;\">                      0.11</td></tr>\n",
       "<tr><td style=\"text-align: right;\">2008-12-31 00:00:00</td><td style=\"text-align: right;\">                      0.11</td></tr>\n",
       "<tr><td style=\"text-align: right;\">2009-12-31 00:00:00</td><td style=\"text-align: right;\">                      0.11</td></tr>\n",
       "<tr><td style=\"text-align: right;\">2010-12-31 00:00:00</td><td style=\"text-align: right;\">                       0.1</td></tr>\n",
       "</tbody>\n",
       "</table>"
      ],
      "text/plain": [
       "<rangekeeper.flux.Flow at 0x2e1b83490>"
      ]
     },
     "execution_count": 13,
     "metadata": {},
     "output_type": "execute_result"
    }
   ],
   "source": [
    "optimistic.irrs"
   ]
  },
  {
   "cell_type": "markdown",
   "metadata": {
    "collapsed": false
   },
   "source": [
    "### Pessimistic\n",
    "Similarly, we can create the 'Panel C' (Pessimistic) scenario:"
   ]
  },
  {
   "cell_type": "code",
   "execution_count": 14,
   "metadata": {
    "ExecuteTime": {
     "end_time": "2023-05-16T06:33:13.029700Z",
     "start_time": "2023-05-16T06:33:12.923895Z"
    },
    "collapsed": false
   },
   "outputs": [],
   "source": [
    "pessimistic_params = params.copy()\n",
    "pessimistic_params['initial_income'] = params['initial_income'] - 10 * currency.units\n",
    "pessimistic_params['addl_pgi_slope'] = -3\n",
    "\n",
    "pessimistic = Model(pessimistic_params)\n",
    "pessimistic.init_spans()\n",
    "pessimistic.init_flows()\n",
    "pessimistic.calc_metrics()"
   ]
  },
  {
   "cell_type": "code",
   "execution_count": 15,
   "metadata": {
    "ExecuteTime": {
     "end_time": "2023-05-16T06:33:13.032814Z",
     "start_time": "2023-05-16T06:33:13.030832Z"
    },
    "collapsed": false
   },
   "outputs": [
    {
     "data": {
      "text/html": [
       "<table>\n",
       "<thead>\n",
       "<tr><th style=\"text-align: right;\">               date</th><th style=\"text-align: right;\">  Present Values</th></tr>\n",
       "</thead>\n",
       "<tbody>\n",
       "<tr><td style=\"text-align: right;\">2001-12-31 00:00:00</td><td style=\"text-align: right;\">         $871.96</td></tr>\n",
       "<tr><td style=\"text-align: right;\">2002-12-31 00:00:00</td><td style=\"text-align: right;\">         $846.28</td></tr>\n",
       "<tr><td style=\"text-align: right;\">2003-12-31 00:00:00</td><td style=\"text-align: right;\">         $822.77</td></tr>\n",
       "<tr><td style=\"text-align: right;\">2004-12-31 00:00:00</td><td style=\"text-align: right;\">         $801.26</td></tr>\n",
       "<tr><td style=\"text-align: right;\">2005-12-31 00:00:00</td><td style=\"text-align: right;\">         $781.58</td></tr>\n",
       "<tr><td style=\"text-align: right;\">2006-12-31 00:00:00</td><td style=\"text-align: right;\">         $763.59</td></tr>\n",
       "<tr><td style=\"text-align: right;\">2007-12-31 00:00:00</td><td style=\"text-align: right;\">         $747.15</td></tr>\n",
       "<tr><td style=\"text-align: right;\">2008-12-31 00:00:00</td><td style=\"text-align: right;\">         $732.13</td></tr>\n",
       "<tr><td style=\"text-align: right;\">2009-12-31 00:00:00</td><td style=\"text-align: right;\">         $718.43</td></tr>\n",
       "<tr><td style=\"text-align: right;\">2010-12-31 00:00:00</td><td style=\"text-align: right;\">         $705.92</td></tr>\n",
       "</tbody>\n",
       "</table>"
      ],
      "text/plain": [
       "<rangekeeper.flux.Flow at 0x2cf230d30>"
      ]
     },
     "execution_count": 15,
     "metadata": {},
     "output_type": "execute_result"
    }
   ],
   "source": [
    "pessimistic.pvs"
   ]
  },
  {
   "cell_type": "code",
   "execution_count": 16,
   "metadata": {
    "ExecuteTime": {
     "end_time": "2023-05-16T06:33:13.038884Z",
     "start_time": "2023-05-16T06:33:13.034278Z"
    },
    "collapsed": false
   },
   "outputs": [
    {
     "data": {
      "text/html": [
       "<table>\n",
       "<thead>\n",
       "<tr><th style=\"text-align: right;\">               date</th><th style=\"text-align: right;\">  Internal Rates of Return</th></tr>\n",
       "</thead>\n",
       "<tbody>\n",
       "<tr><td style=\"text-align: right;\">2001-12-31 00:00:00</td><td style=\"text-align: right;\">                     -0.07</td></tr>\n",
       "<tr><td style=\"text-align: right;\">2002-12-31 00:00:00</td><td style=\"text-align: right;\">                     -0.02</td></tr>\n",
       "<tr><td style=\"text-align: right;\">2003-12-31 00:00:00</td><td style=\"text-align: right;\">                        -0</td></tr>\n",
       "<tr><td style=\"text-align: right;\">2004-12-31 00:00:00</td><td style=\"text-align: right;\">                      0.01</td></tr>\n",
       "<tr><td style=\"text-align: right;\">2005-12-31 00:00:00</td><td style=\"text-align: right;\">                      0.01</td></tr>\n",
       "<tr><td style=\"text-align: right;\">2006-12-31 00:00:00</td><td style=\"text-align: right;\">                      0.02</td></tr>\n",
       "<tr><td style=\"text-align: right;\">2007-12-31 00:00:00</td><td style=\"text-align: right;\">                      0.02</td></tr>\n",
       "<tr><td style=\"text-align: right;\">2008-12-31 00:00:00</td><td style=\"text-align: right;\">                      0.02</td></tr>\n",
       "<tr><td style=\"text-align: right;\">2009-12-31 00:00:00</td><td style=\"text-align: right;\">                      0.02</td></tr>\n",
       "<tr><td style=\"text-align: right;\">2010-12-31 00:00:00</td><td style=\"text-align: right;\">                      0.02</td></tr>\n",
       "</tbody>\n",
       "</table>"
      ],
      "text/plain": [
       "<rangekeeper.flux.Flow at 0x2e1ba1000>"
      ]
     },
     "execution_count": 16,
     "metadata": {},
     "output_type": "execute_result"
    }
   ],
   "source": [
    "pessimistic.irrs"
   ]
  },
  {
   "cell_type": "markdown",
   "metadata": {
    "collapsed": false
   },
   "source": [
    "## Analysis and Expected Value (EV)\n",
    "{cite}`farevuu2018` Table 4.1 continues with calculating the Expected Value (EV)\n",
    "of the outcome, given that both optimistic and pessimistic scenarios have a 50%\n",
    "chance of occuring:"
   ]
  },
  {
   "cell_type": "code",
   "execution_count": 17,
   "metadata": {
    "ExecuteTime": {
     "end_time": "2023-05-16T06:33:13.041514Z",
     "start_time": "2023-05-16T06:33:13.038551Z"
    },
    "collapsed": false
   },
   "outputs": [
    {
     "data": {
      "text/plain": [
       "date\n",
       "2001-12-31    1000.0\n",
       "2002-12-31    1000.0\n",
       "2003-12-31    1000.0\n",
       "2004-12-31    1000.0\n",
       "2005-12-31    1000.0\n",
       "2006-12-31    1000.0\n",
       "2007-12-31    1000.0\n",
       "2008-12-31    1000.0\n",
       "2009-12-31    1000.0\n",
       "2010-12-31    1000.0\n",
       "Name: Present Values, dtype: float64"
      ]
     },
     "execution_count": 17,
     "metadata": {},
     "output_type": "execute_result"
    }
   ],
   "source": [
    "# Expected Time 0 Property Valuation:\n",
    "evs = (optimistic.pvs.movements + pessimistic.pvs.movements) / 2\n",
    "evs"
   ]
  },
  {
   "cell_type": "markdown",
   "metadata": {
    "collapsed": false
   },
   "source": [
    "And the expected return (IRR) at each time period is:"
   ]
  },
  {
   "cell_type": "code",
   "execution_count": 18,
   "metadata": {
    "ExecuteTime": {
     "end_time": "2023-05-16T06:33:13.047161Z",
     "start_time": "2023-05-16T06:33:13.042930Z"
    },
    "collapsed": false
   },
   "outputs": [
    {
     "data": {
      "text/plain": [
       "date\n",
       "2001-12-31    0.07000\n",
       "2002-12-31    0.06675\n",
       "2003-12-31    0.06605\n",
       "2004-12-31    0.06565\n",
       "2005-12-31    0.06535\n",
       "2006-12-31    0.06510\n",
       "2007-12-31    0.06485\n",
       "2008-12-31    0.06465\n",
       "2009-12-31    0.06450\n",
       "2010-12-31    0.06435\n",
       "Name: Internal Rates of Return, dtype: float64"
      ]
     },
     "execution_count": 18,
     "metadata": {},
     "output_type": "execute_result"
    }
   ],
   "source": [
    "# Expected Return (IRR) at $1000 Price:\n",
    "ers = (optimistic.irrs.movements + pessimistic.irrs.movements) / 2\n",
    "ers"
   ]
  },
  {
   "cell_type": "markdown",
   "metadata": {
    "collapsed": false
   },
   "source": [
    "As documented in {cite}`farevuu2018` Chapter 4.3, we can calculate the value of\n",
    "the flexibility, assuming it is possible to sell the property at will:"
   ]
  },
  {
   "cell_type": "code",
   "execution_count": 19,
   "metadata": {
    "ExecuteTime": {
     "end_time": "2023-05-16T06:33:13.052945Z",
     "start_time": "2023-05-16T06:33:13.046312Z"
    },
    "collapsed": false
   },
   "outputs": [
    {
     "data": {
      "text/plain": [
       "83.02036601269492"
      ]
     },
     "execution_count": 19,
     "metadata": {},
     "output_type": "execute_result"
    }
   ],
   "source": [
    "# Valuation of Flexibility to Sell at Optimal Time:\n",
    "value_of_flex = (optimistic.pvs.movements[-1] / 2 + pessimistic.pvs.movements[0] / 2) - evs[-1]\n",
    "value_of_flex"
   ]
  }
 ],
 "metadata": {
  "kernelspec": {
   "display_name": "Python 3",
   "language": "python",
   "name": "python3"
  },
  "language_info": {
   "codemirror_mode": {
    "name": "ipython",
    "version": 3
   },
   "file_extension": ".py",
   "mimetype": "text/x-python",
   "name": "python",
   "nbconvert_exporter": "python",
   "pygments_lexer": "ipython3",
   "version": "3.11.8"
  }
 },
 "nbformat": 4,
 "nbformat_minor": 0
}