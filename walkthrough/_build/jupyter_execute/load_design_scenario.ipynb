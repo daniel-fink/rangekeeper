{
 "cells": [
  {
   "cell_type": "markdown",
   "metadata": {},
   "source": [
    "# Loading a Design Scenario"
   ]
  },
  {
   "cell_type": "markdown",
   "metadata": {},
   "source": [
    "*Rangekeeper* provides API access to [Speckle](https://speckle.systems/). This\n",
    "enables loading and extending a 3D design scenario with *Rangekeeper* in order\n",
    "to produce its financial valuation, as well as execute any automated\n",
    "decision-making or optimisation processes, and sending the results back to\n",
    "Speckle.\n",
    "\n",
    "## Object Model\n",
    "Before walking through the I/O methods, it is important to understand the\n",
    "requirements *Rangekeeper* places on how a design scenario must be structured,\n",
    "so that the `Flow`s and `Stream`s of a DCF Proforma can be appropriately\n",
    "attributed to the design scenario's objects (especially its representations of\n",
    "physical spaces, components, and equipment).\n",
    "\n",
    "### Entities and Relationships\n",
    "A holistic representation of a real estate development scenario is that it is a\n",
    "web of inter-related 'entities'; where each entity is a 'thing' and can have\n",
    "multiple relationships with other entities. For example, a floor is a type\n",
    "of entity (say, a \"Space\") and it has relationships with floors above and\n",
    "below it, as well as relationships to its sub-entities (e.g. rooms), or even\n",
    "what services it (e.g. the mechanical systems controlling its air conditioning)\n",
    "\n",
    "```{figure} resources/devModelGraph.jpg\n",
    "---\n",
    "width: 100%\n",
    "name: Real Estate Scenario as a Graph\n",
    "---\n",
    "An entire Real Estate Development Scenario is represented as a huge web (graph)\n",
    "of `Entity`s and `Relationship`s\n",
    "```\n",
    "\n",
    "#### `Entity`s\n",
    "An `Entity` is a ‘thing’ that has substance, or is composed of sub-`Entity`s\n",
    "that have substance, material, mass, volume, existence, are ‘real’, etc.\n",
    "\n",
    "#### `Relationship`s\n",
    "`Relationship`s describe some sort of (directed) association, connection, or\n",
    "link between `Entity`s. Each `Relationship` is described by its ‘type’; for\n",
    "instance, an `Entity` can be related to another by virtue of it “being\n",
    "contained (spatially)” by the other, or it could be “installed before” another\n",
    "`Entity`.\n",
    "There can be any number of `Relationship`s between any number of `Entity`s.\n",
    "\n",
    "#### `Assembly`s\n",
    "In order to clearly encapsulate ‘groups’ of intuitively-related `Entity`s,\n",
    "*Rangekeeper* has a concept of an `Assembly`, which is an object that defines\n",
    "a collection of `Relationship`s and their associated `Entity`s.\n",
    "`Assembly`s are `Entity`s themselves, too –- so they can also be related to\n",
    "other `Entity`s.\n",
    "This means that *Rangekeeper* can traverse from `Assembly` to `Assembly` through\n",
    "overlapping `Entity`s, in a similar fashion to common-sense conceptualisation\n",
    "of how a real estate development scenario is structured.\n",
    "\n",
    "```{figure} resources/devModelAssembly.jpg\n",
    "---\n",
    "width: 100%\n",
    "name: A Diagram of `Assembly`s of `Entity`s\n",
    "---\n",
    "An `Assembly` is a non-exclusive collection of `Relationship`s, enabling the\n",
    "traversal of `Entity`s in the graph.\n",
    "```\n",
    "\n",
    "### Definitions\n",
    "#### Properties of `Entity`s\n",
    "All `Entity`s have the following properties:\n",
    "1. **entityId**: a unique & immutable identifier for the `Entity` over the whole of\n",
    "    its lifetime.\n",
    "2. **Name**: human-readable text identifying the `Entity`\n",
    "3. **Type**: an `entityType` (which is a node of a tree of `entityType`s)\n",
    "4. **Attributes**: a key-value store of specific properties of the `Entity`\n",
    "   (eg, its area, geometry, material, etc).\n",
    "There are two key `Attribute`s (stored in the `Attributes` property), where\n",
    "*Rangekeeper* seeks and records data for its use:\n",
    "   -  **Events**: a set of time-based occurrences, or experiences, that happen\n",
    "      in or to the `Entity` (called `Event`s)\n",
    "   -  **Measurements**: a key-value store of named quantities measuring the\n",
    "       `Entity` (e.g. its Net Lettable Area (NLA))\n",
    "\n",
    "In addition, `Assembly`s record a set of `Relationship`s about `Entity`s that\n",
    "are related to, or in, the `Assembly`.\n",
    "1. **Relationships**: a set of `Relationship`s\n",
    "\n",
    "#### Properties of `Relationship`s\n",
    "Meanwhile, all `Relationship`s have the following properties:\n",
    "1. **Type**: a `RelationshipType`, which is an item from a list of defined\n",
    "   `RelationshipType`s\n",
    "2. **SourceId**: the `Entity` `Id` that is the source of the `Relationship`\n",
    "3. **TargetId**: the `Entity` `Id` that is the target of the `Relationship`\n",
    "\n",
    "#### `Event`s\n",
    "Every `Entity` can exist in both space and time. Most `Entity`s will have (or\n",
    "its sub-`Entity`s will have, in the case of an `Assembly`) geometry/s that\n",
    "define the extent of space that the entity exists in.\n",
    "\n",
    "To represent how an `Entity` exists in time, the `Entity` has `Event`s\n",
    "recorded against it. For example, an `Event` may record the installation of the\n",
    "`entity` during construction, or it may record production of revenue during\n",
    "operation of the real estate project as an asset.\n",
    "\n",
    "`Flow`s and `Stream`s are subclasses of `Event`s.\n",
    "\n",
    "```{figure} resources/objModel.jpg\n",
    "---\n",
    "width: 100%\n",
    "name: UML-style diagram of foundation of Rangekeeper's object model\n",
    "---\n",
    "Diagram of general overview of the founational concepts of *Rangekeeper*'s\n",
    "object model, in UML-style.\n",
    "```"
   ]
  },
  {
   "cell_type": "markdown",
   "metadata": {},
   "source": [
    "## Rationale and Implications\n",
    "*Rangekeeper* will use the `Relationship`s defined in the `Assembly`/s of a\n",
    "design scenario to structure the \"drill-downs\" and \"roll-ups\" (ie, the\n",
    "compositions) of `Flow`s into `Stream`s that are appropriate for the kinds of\n",
    "summations and metrics that the DCF Proforma model requires.\n",
    "\n",
    "For example, an office building may produce revenue from multiple tenants. A\n",
    "tenant may occupy multiple floors, or a part (space) of a single floor.\n",
    "For *Rangekeeper*, each space would be an `entity`; with its `Events` property\n",
    "containing a set of `Flow`s and/or `Stream`s that represent revenues or costs\n",
    "associated with that space. Those may be aggregated into cash flows generated by\n",
    "the tenant of those spaces, and analysed as such, or they may be aggregated per\n",
    "floor, or per building, or per project.\n",
    "\n",
    "This makes it simple to calculate things like the share of total revenue\n",
    "generated by each tenant; or the share of revenue generated by each floor.\n",
    "Likewise with costs.\n",
    "\n",
    "The multi-faceted nature of the [`Entity`-`Relationship` model](\n",
    "https://en.wikipedia.org/wiki/Entity%E2%80%93relationship_model) enables\n",
    "multiple pathways for those aggregations to be specified, and thus enables an\n",
    "efficient and broad ability to query the model for the kinds of analyses\n",
    "pertinent to real estate valuation.\n",
    "\n",
    "### Technicalities\n",
    "To provide a *Rangekeeper* model with the `Entity`-`Relationship` organization,\n",
    "those need to either be defined in the design scenario itself, or they need to\n",
    "be specified after receiving and loading the design scenario.\n",
    "\n",
    "#### Defining `Entity`s and `Relationship`s in the Design Scenario\n",
    "*Rangekeeper* uses the [Speckle](https://speckle.systems) service and data model\n",
    "for the exchange of design scenarios, and scaffolds `entity`s off a [Speckle\n",
    "`Base`](https://speckle.guide/dev/base.html)\n",
    "\n",
    "It also provides two means to define `entity`s and `Relationship`s:\n",
    "1. A plugin to [McNeel's Rhinoceros3D Grasshopper]\n",
    "   (https://www.rhino3d.com/6/new/grasshopper/), that enables both automated and\n",
    "   manual assignment of `Relationship`s to geometries before their export to\n",
    "   Speckle; and\n",
    "2. Manual assignment of `Relationship`s to `Entity`s once they have been loaded\n",
    "   from a Speckle stream in *Rangekeeper*."
   ]
  },
  {
   "cell_type": "markdown",
   "metadata": {},
   "source": [
    "## Example Design Scenario\n",
    "An example development has been designed and uploaded to Speckle for us to use\n",
    "as a demonstration of the object model and its use in *Rangekeeper*."
   ]
  },
  {
   "cell_type": "markdown",
   "metadata": {},
   "source": [
    "This design scenario is composed of two mixed-use buildings, that both share a\n",
    "common basement plinth, used for parking and shared mechanical and other\n",
    "services (e.g. garbage disposal, storage)\n",
    "\n",
    "To access the design scenario in *Rangekeeper*, we need to load it from Speckle.\n",
    "First load neccesary libraries:"
   ]
  },
  {
   "cell_type": "code",
   "execution_count": 32,
   "metadata": {
    "ExecuteTime": {
     "end_time": "2023-06-25T12:46:12.170048Z",
     "start_time": "2023-06-25T12:46:12.135547Z"
    }
   },
   "outputs": [],
   "source": [
    "import os\n",
    "\n",
    "import pprint as pp\n",
    "from IPython.display import IFrame\n",
    "\n",
    "import rangekeeper as rk"
   ]
  },
  {
   "cell_type": "markdown",
   "metadata": {},
   "source": [
    "### Authenticate and Load the Design scenario from Speckle"
   ]
  },
  {
   "cell_type": "code",
   "execution_count": 33,
   "metadata": {
    "ExecuteTime": {
     "end_time": "2023-06-25T12:46:13.845317Z",
     "start_time": "2023-06-25T12:46:12.139103Z"
    }
   },
   "outputs": [
    {
     "name": "stdout",
     "output_type": "stream",
     "text": [
      "\n",
      " SpeckleClient( server: https://speckle.xyz, authenticated: True )\n"
     ]
    }
   ],
   "source": [
    "# Authenticate with Speckle\n",
    "speckle = rk.api.Speckle(\n",
    "    host=\"speckle.xyz\",\n",
    "    token=os.getenv('SPECKLE_TOKEN')) # Note if you run this notebook yourself, you'll need to set this environment variable\n"
   ]
  },
  {
   "cell_type": "markdown",
   "metadata": {
    "collapsed": false
   },
   "source": [
    "The scenario is stored in a Speckle stream, which is a container for a set of\n",
    "'commits', or versions of the stream."
   ]
  },
  {
   "cell_type": "code",
   "execution_count": 34,
   "metadata": {
    "ExecuteTime": {
     "end_time": "2023-06-25T12:46:14.329055Z",
     "start_time": "2023-06-25T12:46:13.849042Z"
    },
    "collapsed": false
   },
   "outputs": [],
   "source": [
    "stream_id = \"f5e306e3fa\"\n",
    "commit_id = speckle.get_latest_commit_id(stream_id)"
   ]
  },
  {
   "cell_type": "code",
   "execution_count": 35,
   "metadata": {
    "ExecuteTime": {
     "end_time": "2023-06-25T12:46:17.627133Z",
     "start_time": "2023-06-25T12:46:14.330885Z"
    }
   },
   "outputs": [
    {
     "data": {
      "text/plain": [
       "Base(id: b914ed89cf5040b5d05ff14d22e49c39, speckle_type: Base, totalChildrenCount: 2898)"
      ]
     },
     "execution_count": 35,
     "metadata": {},
     "output_type": "execute_result"
    }
   ],
   "source": [
    "# Load the design scenario\n",
    "model = speckle.get_commit(stream_id=stream_id) # Providing no commit_id defaults to the latest commit\n",
    "model"
   ]
  },
  {
   "cell_type": "markdown",
   "metadata": {},
   "source": [
    "### Inspect the Design Scenario"
   ]
  },
  {
   "cell_type": "code",
   "execution_count": 36,
   "metadata": {
    "ExecuteTime": {
     "end_time": "2023-06-25T12:46:17.631077Z",
     "start_time": "2023-06-25T12:46:17.628572Z"
    },
    "collapsed": false
   },
   "outputs": [
    {
     "data": {
      "text/html": [
       "\n",
       "        <iframe\n",
       "            width=\"100%\"\n",
       "            height=\"800\"\n",
       "            src=\"https://speckle.xyz/embed?stream=f5e306e3fa&commit=6018e7fe7b\"\n",
       "            frameborder=\"0\"\n",
       "            allowfullscreen\n",
       "            \n",
       "        ></iframe>\n",
       "        "
      ],
      "text/plain": [
       "<IPython.lib.display.IFrame at 0x2df2fd990>"
      ]
     },
     "execution_count": 36,
     "metadata": {},
     "output_type": "execute_result"
    }
   ],
   "source": [
    "IFrame(\"https://speckle.xyz/embed?stream={0}&commit={1}\".format(stream_id, commit_id), width='100%', height=800)"
   ]
  },
  {
   "cell_type": "code",
   "execution_count": 37,
   "metadata": {
    "ExecuteTime": {
     "end_time": "2023-06-25T12:46:17.634612Z",
     "start_time": "2023-06-25T12:46:17.631847Z"
    }
   },
   "outputs": [
    {
     "data": {
      "text/plain": [
       "['@context', '@scenario']"
      ]
     },
     "execution_count": 37,
     "metadata": {},
     "output_type": "execute_result"
    }
   ],
   "source": [
    "# Let's identify the root members of the scenario:\n",
    "roots = model.get_dynamic_member_names()\n",
    "roots"
   ]
  },
  {
   "cell_type": "markdown",
   "metadata": {},
   "source": [
    "In this design scenario, there are two members (Speckle Objects) at the root of\n",
    "the model:\n",
    "1. '@context', and\n",
    "2. '@scenario'\n",
    "\n",
    "```{note}\n",
    "Speckle Objects whose member names begin with an `@` indicate 'detached' data:\n",
    "See [The Base Object: Detaching](https://speckle.guide/dev/base.html#detaching)\n",
    "for more information.\n",
    "```\n",
    "\n",
    "For future reference, if we wanted to see what a  they represented, we can pass them in to the Speckle\n",
    "Viewer's \"objects\" endpoint with their `id`s:"
   ]
  },
  {
   "cell_type": "code",
   "execution_count": 38,
   "metadata": {
    "ExecuteTime": {
     "end_time": "2023-06-25T12:46:17.638194Z",
     "start_time": "2023-06-25T12:46:17.634476Z"
    }
   },
   "outputs": [
    {
     "data": {
      "text/html": [
       "\n",
       "        <iframe\n",
       "            width=\"100%\"\n",
       "            height=\"800\"\n",
       "            src=\"https://speckle.xyz/streams/f5e306e3fa/objects/2f9d3e857f1e99ebb7a7faf1ed31d714\"\n",
       "            frameborder=\"0\"\n",
       "            allowfullscreen\n",
       "            \n",
       "        ></iframe>\n",
       "        "
      ],
      "text/plain": [
       "<IPython.lib.display.IFrame at 0x2df2fcf40>"
      ]
     },
     "execution_count": 38,
     "metadata": {},
     "output_type": "execute_result"
    }
   ],
   "source": [
    "IFrame(\"https://speckle.xyz/streams/{0}/objects/{1}\".format(stream_id, model['@scenario']['id']), width='100%', height=800)"
   ]
  },
  {
   "cell_type": "markdown",
   "metadata": {
    "collapsed": false
   },
   "source": [
    "We can even use the Speckle Viewer's 'filter' functionality to see only the\n",
    "certain types contained within the spaces of the design scenario (try toggling\n",
    "the isolation mode for \"floor\" or \"utilities\" types):"
   ]
  },
  {
   "cell_type": "code",
   "execution_count": 39,
   "metadata": {
    "ExecuteTime": {
     "end_time": "2023-06-25T12:46:17.642163Z",
     "start_time": "2023-06-25T12:46:17.639765Z"
    },
    "collapsed": false
   },
   "outputs": [
    {
     "data": {
      "text/html": [
       "\n",
       "        <iframe\n",
       "            width=\"100%\"\n",
       "            height=\"800\"\n",
       "            src=\"https://speckle.xyz/streams/f5e306e3fa/commits/6018e7fe7b?filter=%7B%22propertyInfoKey%22%3A%22type%22%7D\"\n",
       "            frameborder=\"0\"\n",
       "            allowfullscreen\n",
       "            \n",
       "        ></iframe>\n",
       "        "
      ],
      "text/plain": [
       "<IPython.lib.display.IFrame at 0x2df41cf70>"
      ]
     },
     "execution_count": 39,
     "metadata": {},
     "output_type": "execute_result"
    }
   ],
   "source": [
    "property_name = 'type'\n",
    "IFrame('https://speckle.xyz/streams/{0}/commits/{1}?filter=%7B%22propertyInfoKey%22%3A%22{2}%22%7D'.format(\n",
    "    stream_id,\n",
    "    commit_id,\n",
    "    property_name), width='100%', height=800)"
   ]
  },
  {
   "cell_type": "markdown",
   "metadata": {},
   "source": [
    "### Rangekeeper `Entity`s in the Design Scenario\n",
    "Of course, not all Speckle Objects are Rangekeeper `Entity`s for us to use in\n",
    "our valuations and modeling.\n",
    "To make parsing the design scenario easier, *Rangekeeper* provides some helper\n",
    "methods to convert the Speckle Objects into Rangekeeper `Entity`s:"
   ]
  },
  {
   "cell_type": "code",
   "execution_count": 40,
   "metadata": {
    "ExecuteTime": {
     "end_time": "2023-06-25T12:46:17.670903Z",
     "start_time": "2023-06-25T12:46:17.649906Z"
    }
   },
   "outputs": [
    {
     "name": "stdout",
     "output_type": "stream",
     "text": [
      "Warning: Duplicate Entity f7e2fa84-54a6-4fd4-ae93-f339947035b6 [utilities] found.\n",
      "Existing Entity is an Assembly while new Entity is not. Keeping Assembly.\n",
      "Warning: Duplicate Entity f7e2fa84-54a6-4fd4-ae93-f339947035b6 [utilities] found.\n",
      "Existing Entity is an Assembly while new Entity is not. Keeping Assembly.\n",
      "Warning: Duplicate Entity f7e2fa84-54a6-4fd4-ae93-f339947035b6 [utilities] found.\n",
      "Existing Entity is an Assembly while new Entity is not. Keeping Assembly.\n",
      "Warning: Duplicate Entity c7dfbeaf-1b8c-424c-bad0-0b2b5975af6e [plinthparking] found.\n",
      "Existing Entity is an Assembly while new Entity is not. Keeping Assembly.\n"
     ]
    },
    {
     "data": {
      "text/plain": [
       "True"
      ]
     },
     "execution_count": 40,
     "metadata": {},
     "output_type": "execute_result"
    }
   ],
   "source": [
    "# Return any Speckle Objects in the '@scenario' trunk that have 'entityId's:\n",
    "parsed = rk.api.Speckle.parse(base=model['@scenario'])\n",
    "\n",
    "# (Recursively) Convert the Speckle Objects into Rangekeeper Entities:\n",
    "scenario = rk.api.Speckle.to_rk(\n",
    "    bases=list(parsed.values()),\n",
    "    name='scenario',\n",
    "    type='scenario')\n",
    "\n",
    "# (We can check that it is an Assembly:)\n",
    "isinstance(scenario, rk.graph.Assembly)"
   ]
  },
  {
   "cell_type": "markdown",
   "metadata": {},
   "source": [
    "#### Querying the Design Scenario's Object Graph\n",
    "*Rangekeeper* uses the [NetworkX](https://networkx.org/) library to represent\n",
    "the object graph of the design scenario, where each `Assembly` is a\n",
    "`MultiDiGraph` of `Entity` nodes and `Relationship` edges.\n",
    "This means we can query it pythonically:"
   ]
  },
  {
   "cell_type": "code",
   "execution_count": 40,
   "metadata": {
    "ExecuteTime": {
     "end_time": "2023-06-25T12:46:17.671154Z",
     "start_time": "2023-06-25T12:46:17.652734Z"
    },
    "collapsed": false
   },
   "outputs": [],
   "source": []
  },
  {
   "cell_type": "code",
   "execution_count": 41,
   "metadata": {
    "ExecuteTime": {
     "end_time": "2023-06-25T12:46:17.671265Z",
     "start_time": "2023-06-25T12:46:17.658315Z"
    }
   },
   "outputs": [
    {
     "name": "stdout",
     "output_type": "stream",
     "text": [
      "buildingA: Assembly: buildingA\n",
      "Type: building\n",
      "Members: ['name', 'type']\n",
      "Entities: [('eb42cd14-73ab-41fc-99c0-c46631ee1208', {'entity': Assembly: buildingA (Type: building)}), ('655b2dfe-5c18-4d68-95f0-f5d27804430d', {'entity': Assembly: buildingAoffice (Type: space)}), ('47dfa8b6-e213-4099-9f5b-834df0ca34b0', {'entity': Assembly: buildingAretail (Type: space)}), ('da796c3e-94b0-4175-8c6f-ac63e5e60714', {'entity': Assembly: buildingAresidential (Type: space)}), ('08e12c72-4450-424f-8ff4-a4da7246ee05', {'entity': Assembly: buildingAretail (Type: space)}), ('634c5fb4-f204-4287-8c80-f23371056f1c', {'entity': Assembly: buildingAparking (Type: space)}), ('abdf16fd-494e-4d7f-a604-134ce1c004ac', {'entity': Entity: buildingAcores (Type: utilities)})]\n",
      "Relationships: [('eb42cd14-73ab-41fc-99c0-c46631ee1208', '655b2dfe-5c18-4d68-95f0-f5d27804430d', 'spatiallyContains'), ('eb42cd14-73ab-41fc-99c0-c46631ee1208', '47dfa8b6-e213-4099-9f5b-834df0ca34b0', 'spatiallyContains'), ('eb42cd14-73ab-41fc-99c0-c46631ee1208', 'da796c3e-94b0-4175-8c6f-ac63e5e60714', 'spatiallyContains'), ('eb42cd14-73ab-41fc-99c0-c46631ee1208', '08e12c72-4450-424f-8ff4-a4da7246ee05', 'spatiallyContains'), ('eb42cd14-73ab-41fc-99c0-c46631ee1208', '634c5fb4-f204-4287-8c80-f23371056f1c', 'spatiallyContains'), ('eb42cd14-73ab-41fc-99c0-c46631ee1208', 'abdf16fd-494e-4d7f-a604-134ce1c004ac', 'spatiallyContains')]\n",
      "\n"
     ]
    }
   ],
   "source": [
    "# Get the \"BuildingA\" Assembly:\n",
    "buildingA = [entity for (entityId, entity) in scenario.get_entities().items() if entity['name'] == 'buildingA'][0]\n",
    "print('buildingA: {0}'.format(buildingA))"
   ]
  },
  {
   "cell_type": "markdown",
   "metadata": {},
   "source": [
    "Because we can also define directed, labelled `Relationship`s between `Entity`s,\n",
    "we can identify relatives of `Entity`s accordingly:"
   ]
  },
  {
   "cell_type": "code",
   "execution_count": 42,
   "metadata": {
    "ExecuteTime": {
     "end_time": "2023-06-25T12:46:17.671330Z",
     "start_time": "2023-06-25T12:46:17.660447Z"
    }
   },
   "outputs": [
    {
     "name": "stdout",
     "output_type": "stream",
     "text": [
      "buildingA Containment: \n",
      " [Assembly: buildingAoffice (Type: space), Assembly: buildingAretail (Type: space), Assembly: buildingAresidential (Type: space), Assembly: buildingAretail (Type: space), Assembly: buildingAparking (Type: space), Entity: buildingAcores (Type: utilities)]\n",
      "\n"
     ]
    }
   ],
   "source": [
    "# Get all relatives of BuildingA where BuildingA is the source of\n",
    "# a 'spatiallyContains' relationship:\n",
    "buildingA_containment = buildingA.get_relatives(\n",
    "    outgoing=True,\n",
    "    relationship_type='spatiallyContains',\n",
    "    assembly=scenario)\n",
    "print('buildingA Containment: \\n {0}\\n'.format(buildingA_containment))"
   ]
  },
  {
   "cell_type": "code",
   "execution_count": 43,
   "metadata": {
    "ExecuteTime": {
     "end_time": "2023-06-25T12:46:17.671394Z",
     "start_time": "2023-06-25T12:46:17.664881Z"
    },
    "collapsed": false
   },
   "outputs": [
    {
     "name": "stdout",
     "output_type": "stream",
     "text": [
      "buildingAresidential: Assembly: buildingAresidential\n",
      "Type: space\n",
      "Members: ['@displayValue', 'renderMaterial', 'name', 'type', 'use']\n",
      "Entities: [('da796c3e-94b0-4175-8c6f-ac63e5e60714', {'entity': Assembly: buildingAresidential (Type: space)}), ('a987a169-2605-4308-9462-8d22eb6df2be', {'entity': Entity: buildingAresidentialFloor0 (Type: floor)}), ('d2db8f8f-36c9-4a92-a1dd-016376fee217', {'entity': Entity: buildingAresidentialFloor0 (Type: floor)}), ('b0384123-9bec-4c0e-87f6-32abb6a49fb3', {'entity': Entity: buildingAresidentialFloor1 (Type: floor)}), ('bbd83975-af58-492e-8818-ce1968564a05', {'entity': Entity: buildingAresidentialFloor2 (Type: floor)}), ('c78fd645-372b-4a23-a823-98e2f6885b97', {'entity': Entity: buildingAresidentialFloor3 (Type: floor)})]\n",
      "Relationships: [('da796c3e-94b0-4175-8c6f-ac63e5e60714', 'a987a169-2605-4308-9462-8d22eb6df2be', 'spatiallyContains'), ('da796c3e-94b0-4175-8c6f-ac63e5e60714', 'd2db8f8f-36c9-4a92-a1dd-016376fee217', 'spatiallyContains'), ('da796c3e-94b0-4175-8c6f-ac63e5e60714', 'b0384123-9bec-4c0e-87f6-32abb6a49fb3', 'spatiallyContains'), ('da796c3e-94b0-4175-8c6f-ac63e5e60714', 'bbd83975-af58-492e-8818-ce1968564a05', 'spatiallyContains'), ('da796c3e-94b0-4175-8c6f-ac63e5e60714', 'c78fd645-372b-4a23-a823-98e2f6885b97', 'spatiallyContains')]\n",
      "\n"
     ]
    }
   ],
   "source": [
    "buildingAresi = [entity for entity in buildingA_containment if entity['name'] == 'buildingAresidential'][0]\n",
    "print('buildingAresidential: {0}'.format(buildingAresi))"
   ]
  },
  {
   "cell_type": "markdown",
   "metadata": {},
   "source": [
    "We can also visualize the scenario graph as well:"
   ]
  },
  {
   "cell_type": "code",
   "execution_count": 45,
   "metadata": {
    "ExecuteTime": {
     "end_time": "2023-06-25T12:46:38.131841Z",
     "start_time": "2023-06-25T12:46:38.057986Z"
    },
    "collapsed": false
   },
   "outputs": [
    {
     "name": "stdout",
     "output_type": "stream",
     "text": [
      "assets/design_scenario.html\n"
     ]
    }
   ],
   "source": [
    "scenario.plot(name='assets/design_scenario')\n",
    "IFrame(src=\"./design_scenario.html\", width='100%', height=800)"
   ]
  },
  {
   "cell_type": "markdown",
   "metadata": {
    "collapsed": false
   },
   "source": []
  }
 ],
 "metadata": {
  "kernelspec": {
   "display_name": "Python 3 (ipykernel)",
   "language": "python",
   "name": "python3"
  },
  "language_info": {
   "codemirror_mode": {
    "name": "ipython",
    "version": 3
   },
   "file_extension": ".py",
   "mimetype": "text/x-python",
   "name": "python",
   "nbconvert_exporter": "python",
   "pygments_lexer": "ipython3",
   "version": "3.10.4"
  }
 },
 "nbformat": 4,
 "nbformat_minor": 1
}