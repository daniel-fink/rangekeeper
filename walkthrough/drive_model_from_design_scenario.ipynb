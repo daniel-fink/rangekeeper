{
 "cells": [
  {
   "cell_type": "markdown",
   "metadata": {},
   "source": [
    "# Driving a Financial Valuation from a Design Scenario"
   ]
  },
  {
   "cell_type": "markdown",
   "metadata": {},
   "source": [
    "```{warning}\n",
    "The following is a work in progress. More content will be added as produced.\n",
    "```"
   ]
  },
  {
   "cell_type": "markdown",
   "metadata": {
    "collapsed": false
   },
   "source": [
    "As seen in\n",
    "[Loading a Design Scenario](../load_design_scenario.ipynb),\n",
    "a design scenario's object model (a\n",
    "[knowledge graph](https://en.wikipedia.org/wiki/Knowledge_graph) including all\n",
    "its spatial and semantic relationships) can be loaded via Speckle from any of\n",
    "Speckle's supported [connectors](https://speckle.guide/user/connectors.html), so\n",
    "long as those objects (`Entity`s and `Relationship`s) have been assigned.\n",
    "\n",
    "In this notebook, we will demonstrate how to use the object model (graph) to\n",
    "drive a financial valuation of the design scenario. This is done by calculating\n",
    "cash flows per `Entity`, and then using the `Relationship`s to aggregate those\n",
    "`Flow`s into appropriate `Stream`s."
   ]
  },
  {
   "cell_type": "markdown",
   "metadata": {
    "collapsed": false
   },
   "source": [
    "## Load the Design Scenario\n",
    "We will use the same design scenario as in the previous notebook."
   ]
  },
  {
   "cell_type": "code",
   "execution_count": 229,
   "metadata": {
    "collapsed": false,
    "ExecuteTime": {
     "end_time": "2023-06-29T14:21:23.297528Z",
     "start_time": "2023-06-29T14:21:22.646362Z"
    }
   },
   "outputs": [],
   "source": [
    "import os\n",
    "\n",
    "import locale\n",
    "import pandas as pd\n",
    "import networkx as nx\n",
    "from IPython.display import IFrame\n",
    "import plotly.subplots\n",
    "import plotly.offline as py\n",
    "\n",
    "import rangekeeper as rk"
   ]
  },
  {
   "cell_type": "code",
   "execution_count": 230,
   "metadata": {
    "collapsed": false,
    "ExecuteTime": {
     "end_time": "2023-06-29T14:21:25.433200Z",
     "start_time": "2023-06-29T14:21:22.650637Z"
    }
   },
   "outputs": [
    {
     "name": "stdout",
     "output_type": "stream",
     "text": [
      "\n",
      " SpeckleClient( server: https://speckle.xyz, authenticated: True )\n"
     ]
    },
    {
     "data": {
      "text/plain": "<IPython.lib.display.IFrame at 0x2e8260f70>",
      "text/html": "\n        <iframe\n            width=\"100%\"\n            height=\"800\"\n            src=\"https://speckle.xyz/embed?stream=f5e306e3fa&commit=ad17a888c3\"\n            frameborder=\"0\"\n            allowfullscreen\n            \n        ></iframe>\n        "
     },
     "execution_count": 230,
     "metadata": {},
     "output_type": "execute_result"
    }
   ],
   "source": [
    "speckle = rk.api.Speckle(\n",
    "    host=\"speckle.xyz\",\n",
    "    token=os.getenv('SPECKLE_TOKEN'))\n",
    "stream_id = \"f5e306e3fa\"\n",
    "commit_id = speckle.get_latest_commit_id(stream_id)\n",
    "IFrame(\"https://speckle.xyz/embed?stream={0}&commit={1}\".format(stream_id, commit_id), width='100%', height=800)"
   ]
  },
  {
   "cell_type": "markdown",
   "metadata": {
    "collapsed": false
   },
   "source": [
    "### Inspect the Model Graph"
   ]
  },
  {
   "cell_type": "code",
   "execution_count": 231,
   "metadata": {
    "collapsed": false,
    "ExecuteTime": {
     "end_time": "2023-06-29T14:21:27.712713Z",
     "start_time": "2023-06-29T14:21:25.433488Z"
    }
   },
   "outputs": [
    {
     "name": "stdout",
     "output_type": "stream",
     "text": [
      "Warning: Duplicate Entity 29b746f5-42fe-4321-9a4a-8c65c9f0410c [utilities] found.\n",
      "Existing Entity is an Assembly while new Entity is not. Keeping Assembly.\n",
      "Warning: Duplicate Entity 29b746f5-42fe-4321-9a4a-8c65c9f0410c [utilities] found.\n",
      "Existing Entity is an Assembly while new Entity is not. Keeping Assembly.\n",
      "Warning: Duplicate Entity 29b746f5-42fe-4321-9a4a-8c65c9f0410c [utilities] found.\n",
      "Existing Entity is an Assembly while new Entity is not. Keeping Assembly.\n",
      "Warning: Duplicate Entity d188b4bb-27a3-4f63-9469-e9705c60a7a5 [plinthparking] found.\n",
      "Existing Entity is an Assembly while new Entity is not. Keeping Assembly.\n"
     ]
    }
   ],
   "source": [
    "model = speckle.get_commit(stream_id=stream_id)\n",
    "parsed = rk.api.Speckle.parse(base=model['@scenario'])\n",
    "scenario = rk.api.Speckle.to_rk(\n",
    "    bases=list(parsed.values()),\n",
    "    name='design_scenario',\n",
    "    type='scenario')"
   ]
  },
  {
   "cell_type": "code",
   "execution_count": 232,
   "metadata": {
    "collapsed": false,
    "ExecuteTime": {
     "end_time": "2023-06-29T14:21:27.788884Z",
     "start_time": "2023-06-29T14:21:27.711474Z"
    }
   },
   "outputs": [
    {
     "name": "stdout",
     "output_type": "stream",
     "text": [
      "assets/design_scenario.html\n"
     ]
    },
    {
     "data": {
      "text/plain": "<IPython.lib.display.IFrame at 0x2e8e0d780>",
      "text/html": "\n        <iframe\n            width=\"100%\"\n            height=\"800\"\n            src=\"./design_scenario.html\"\n            frameborder=\"0\"\n            allowfullscreen\n            \n        ></iframe>\n        "
     },
     "execution_count": 232,
     "metadata": {},
     "output_type": "execute_result"
    }
   ],
   "source": [
    "scenario.plot(name='assets/design_scenario')\n",
    "IFrame(src=\"./design_scenario.html\", width='100%', height=800)"
   ]
  },
  {
   "cell_type": "markdown",
   "metadata": {
    "collapsed": false
   },
   "source": [
    "## Assigning and Aggregating `Flow`s per `Entity`\n",
    "Now we can organise the two main categories of cash flows (costs and revenues)\n",
    "according to the `Relationship` types in the design scenario.\n",
    "\n",
    "In this example, revenue-based cash flows are generated by `Entity`s that have a\n",
    "measureable floor area -- in this case, anything that has a 'gfa' property.\n",
    "\n",
    "We can query the graph to find them:"
   ]
  },
  {
   "cell_type": "markdown",
   "metadata": {
    "collapsed": false
   },
   "source": [
    "### Revenue-producing Entities\n",
    "Revenue-producing `Entity`s will be aggregated by their spatial containment. So\n",
    "we can first slice our graph to a tree of nodes that have \"contains\"\n",
    "relationships:"
   ]
  },
  {
   "cell_type": "code",
   "execution_count": 233,
   "metadata": {
    "collapsed": false,
    "ExecuteTime": {
     "end_time": "2023-06-29T14:21:27.788971Z",
     "start_time": "2023-06-29T14:21:27.786549Z"
    }
   },
   "outputs": [],
   "source": [
    "spatial_containment = scenario.filter_by_type(\n",
    "    relationship_type='spatiallyContains',\n",
    "    name='spatial_containment')"
   ]
  },
  {
   "cell_type": "markdown",
   "metadata": {
    "collapsed": false
   },
   "source": [
    "Note: we anticipate that the spatial decomposition is completely hierarchical\n",
    "(i.e., no spaces overlap, which means no spaces have multiple parents). We can\n",
    "check this by testing whether the containment graph is a \"tree\" (or\n",
    "\"arborescence\": see [NetworkX Tree](https://networkx.org/documentation/stable/reference/algorithms/tree.html#tree))."
   ]
  },
  {
   "cell_type": "code",
   "execution_count": 234,
   "metadata": {
    "collapsed": false,
    "ExecuteTime": {
     "end_time": "2023-06-29T14:21:27.796139Z",
     "start_time": "2023-06-29T14:21:27.789362Z"
    }
   },
   "outputs": [
    {
     "data": {
      "text/plain": "True"
     },
     "execution_count": 234,
     "metadata": {},
     "output_type": "execute_result"
    }
   ],
   "source": [
    "nx.is_arborescence(spatial_containment.graph)"
   ]
  },
  {
   "cell_type": "code",
   "execution_count": 235,
   "metadata": {
    "collapsed": false,
    "ExecuteTime": {
     "end_time": "2023-06-29T14:21:27.896847Z",
     "start_time": "2023-06-29T14:21:27.794273Z"
    }
   },
   "outputs": [
    {
     "name": "stdout",
     "output_type": "stream",
     "text": [
      "assets/spatial_containment.html\n"
     ]
    },
    {
     "data": {
      "text/plain": "<IPython.lib.display.IFrame at 0x2f6732110>",
      "text/html": "\n        <iframe\n            width=\"100%\"\n            height=\"800\"\n            src=\"./spatial_containment.html\"\n            frameborder=\"0\"\n            allowfullscreen\n            \n        ></iframe>\n        "
     },
     "execution_count": 235,
     "metadata": {},
     "output_type": "execute_result"
    }
   ],
   "source": [
    "# Plot the spatial containment graph\n",
    "spatial_containment.plot(name='assets/spatial_containment')\n",
    "IFrame(src=\"./spatial_containment.html\", width='100%', height=800)"
   ]
  },
  {
   "cell_type": "markdown",
   "metadata": {
    "collapsed": false
   },
   "source": [
    "#### Simple Aggregation\n",
    "Now that we have verified this, we can continue with a simple aggregation. We\n",
    "wish to aggregate up through our hierarchy all `Entity`s that have a Gross Floor\n",
    "Area ('gfa') property. *Rangekeeper* provides defaults for the `Entity.aggregate()`\n",
    "method for this, whereby a named property of any `Entity` is summed (numerical\n",
    "addition) into its parent `Entity` against a specified label:"
   ]
  },
  {
   "cell_type": "code",
   "execution_count": 236,
   "metadata": {
    "collapsed": false,
    "ExecuteTime": {
     "end_time": "2023-06-29T14:21:27.896946Z",
     "start_time": "2023-06-29T14:21:27.877011Z"
    }
   },
   "outputs": [],
   "source": [
    "scenario.aggregate(\n",
    "    property='gfa',\n",
    "    label='subtotal_gfa',\n",
    "    relationship_type='spatiallyContains')"
   ]
  },
  {
   "cell_type": "markdown",
   "metadata": {
    "collapsed": false
   },
   "source": [
    "We can tabulate this by converting the graph to a pandas `DataFrame`. Note that\n",
    "the graph nodes (as witnessed in the DataFrame's index and 'parent' column)\n",
    "are GUID strings. Each of these have corresponding `Entity` objects, organised\n",
    "via NetworkX's Node Attributes. See [NetworkX Tutorial](https://networkx.org/documentation/stable/tutorial.html#what-to-use-as-nodes-and-edges)"
   ]
  },
  {
   "cell_type": "code",
   "execution_count": 237,
   "metadata": {
    "collapsed": false,
    "tags": [
     "output_scroll"
    ],
    "ExecuteTime": {
     "end_time": "2023-06-29T14:21:27.906354Z",
     "start_time": "2023-06-29T14:21:27.887252Z"
    }
   },
   "outputs": [
    {
     "data": {
      "text/plain": "                                                            name         type  \\\na39ac4c3-094b-4d92-b71d-46c5a857f407                 development  development   \n981c0743-6a4c-4abd-8a97-2c937e48b897                   buildingB     building   \ne3149444-dfbc-41d0-9eb1-f08785a62da1                      plinth     building   \n529ce7bc-addf-4bad-8ec5-cbecbd73d4f1                   buildingA     building   \n29b746f5-42fe-4321-9a4a-8c65c9f0410c                   utilities    utilities   \n3fc29315-81e7-45a9-8241-62938e904d73        buildingBresidential        space   \nf508623d-1d81-4082-85ee-5b1e32c7bb10            buildingBparking        space   \n6ac8ab6d-a730-44b8-97aa-a5db09b7fbd0             buildingBretail        space   \n71fd4551-8e65-4e7a-8e2a-9d18e69146b0              buildingBcores    utilities   \nc11f68da-0544-487b-9cb9-8a3a3a98a9b8  buildingBresidentialFloor0        floor   \ncfc3edf5-1e7d-4499-b25f-ee86ed013516  buildingBresidentialFloor1        floor   \n3e158dd9-aa5d-47bb-bc13-4b3e6d328fe1  buildingBresidentialFloor2        floor   \nb8609a1e-b9f8-44a0-ab98-468ff247d753  buildingBresidentialFloor3        floor   \nf68d2f9b-13c5-42e2-9bca-1826f7eff481  buildingBresidentialFloor4        floor   \nec086fbc-7b21-4958-b456-9bce6a883c98  buildingBresidentialFloor5        floor   \n9ecaf92a-a90e-4572-a426-3ed392e0c28a  buildingBresidentialFloor6        floor   \n9a884f88-0627-4eb7-b1ec-80ea39b0a25b  buildingBresidentialFloor0        floor   \nd7dd5233-b1c3-451f-ae90-5a80fed205bd      buildingBparkingFloor0        floor   \n4acebff3-f17b-44fb-ba29-6bc02053b329       buildingBretailFloor0        floor   \nd188b4bb-27a3-4f63-9469-e9705c60a7a5               plinthparking        space   \n8d9f92cf-5613-4de4-b99b-7681aa76b4cd                 plinthplant    utilities   \ncf287254-7d66-4a4b-8a56-f247f51b41db        plinthparkingFloor-2        floor   \n926a3e9d-0601-4f96-bd71-317d928194f2        plinthparkingFloor-1        floor   \n987c5866-03b0-4948-962e-4870684f481b            buildingAparking        space   \n7dc6bf46-805f-4990-bcd2-d0fe1de4dd47             buildingAretail        space   \n549a988b-c3bc-42d4-a6a3-a8dc694fa770        buildingAresidential        space   \n3cf2bf71-61fa-4a61-b163-6265c299376d             buildingAretail        space   \nbfc1c272-665f-432d-a7b3-a4c955556e7f             buildingAoffice        space   \n55963d84-702d-423d-be05-c8bb6e88f517              buildingAcores    utilities   \n01282060-ad91-44be-b0d3-ff43e340e8bd      buildingAparkingFloor0        floor   \nf9e9ae1c-00f3-4966-9682-281ef2a86899       buildingAretailFloor0        floor   \ne7b3aec0-5003-448b-a0e3-4c2dbb605f85  buildingAresidentialFloor0        floor   \n9c13f0be-9991-4d9f-b41b-a0e962bdeb89  buildingAresidentialFloor0        floor   \ne88ff464-a453-45bb-93d8-5f983d417912  buildingAresidentialFloor1        floor   \n8ce80d06-69f6-404a-b0fd-a728eb0dfed6  buildingAresidentialFloor2        floor   \nbb0a0d86-31c1-4780-b81f-8d0e5a5d83be  buildingAresidentialFloor3        floor   \n32080c6a-1f31-446f-a3d9-59759ac00ff4       buildingAretailFloor0        floor   \na1fc1a28-1133-47f2-a8d9-58da817946c2       buildingAofficeFloor1        floor   \n0296748a-317a-47eb-bf94-e5dbbd78afc1       buildingAofficeFloor2        floor   \n74ed0525-d8f9-4f36-b20f-1b8a2baf60f2       buildingAofficeFloor3        floor   \nae0fb830-76df-4d91-82ed-4ed755fdec4b       buildingAofficeFloor4        floor   \nc1b696b1-cae0-49ed-a8ba-0e795438d3d2       buildingAofficeFloor5        floor   \nadd95b48-71c3-40e7-9f35-7db604f3f9f0       buildingAofficeFloor6        floor   \nd8443e6d-9080-4154-89e3-29f0e98ed90a       buildingAofficeFloor7        floor   \nf8945b4f-6f59-4c5a-a83f-462a97f2dcc4       buildingAofficeFloor8        floor   \nb548b184-1643-4c23-9b14-9025aeda59c3       buildingAofficeFloor9        floor   \ne8048367-edd2-4a61-ae0f-fd878688c910      buildingAofficeFloor10        floor   \n\n                                              gfa  subtotal_gfa  \\\na39ac4c3-094b-4d92-b71d-46c5a857f407          NaN  45816.419959   \n981c0743-6a4c-4abd-8a97-2c937e48b897          NaN  13436.884829   \ne3149444-dfbc-41d0-9eb1-f08785a62da1          NaN  12773.744211   \n529ce7bc-addf-4bad-8ec5-cbecbd73d4f1          NaN  19605.790919   \n29b746f5-42fe-4321-9a4a-8c65c9f0410c          NaN      0.000000   \n3fc29315-81e7-45a9-8241-62938e904d73          NaN  11442.736624   \nf508623d-1d81-4082-85ee-5b1e32c7bb10          NaN   1178.164752   \n6ac8ab6d-a730-44b8-97aa-a5db09b7fbd0          NaN    815.983454   \n71fd4551-8e65-4e7a-8e2a-9d18e69146b0          NaN      0.000000   \nc11f68da-0544-487b-9cb9-8a3a3a98a9b8   765.941631    765.941631   \ncfc3edf5-1e7d-4499-b25f-ee86ed013516  2361.056035   2361.056035   \n3e158dd9-aa5d-47bb-bc13-4b3e6d328fe1  2361.056035   2361.056035   \nb8609a1e-b9f8-44a0-ab98-468ff247d753  2015.956035   2015.956035   \nf68d2f9b-13c5-42e2-9bca-1826f7eff481  2015.956035   2015.956035   \nec086fbc-7b21-4958-b456-9bce6a883c98   875.014900    875.014900   \n9ecaf92a-a90e-4572-a426-3ed392e0c28a   875.014900    875.014900   \n9a884f88-0627-4eb7-b1ec-80ea39b0a25b   172.741054    172.741054   \nd7dd5233-b1c3-451f-ae90-5a80fed205bd  1178.164752   1178.164752   \n4acebff3-f17b-44fb-ba29-6bc02053b329   815.983454    815.983454   \nd188b4bb-27a3-4f63-9469-e9705c60a7a5          NaN  12773.744211   \n8d9f92cf-5613-4de4-b99b-7681aa76b4cd          NaN      0.000000   \ncf287254-7d66-4a4b-8a56-f247f51b41db  6386.872106   6386.872106   \n926a3e9d-0601-4f96-bd71-317d928194f2  6386.872106   6386.872106   \n987c5866-03b0-4948-962e-4870684f481b          NaN    960.262087   \n7dc6bf46-805f-4990-bcd2-d0fe1de4dd47          NaN    534.530238   \n549a988b-c3bc-42d4-a6a3-a8dc694fa770          NaN   2296.143091   \n3cf2bf71-61fa-4a61-b163-6265c299376d          NaN   1123.715326   \nbfc1c272-665f-432d-a7b3-a4c955556e7f          NaN  14691.140177   \n55963d84-702d-423d-be05-c8bb6e88f517          NaN      0.000000   \n01282060-ad91-44be-b0d3-ff43e340e8bd   960.262087    960.262087   \nf9e9ae1c-00f3-4966-9682-281ef2a86899   534.530238    534.530238   \ne7b3aec0-5003-448b-a0e3-4c2dbb605f85    57.900000     57.900000   \n9c13f0be-9991-4d9f-b41b-a0e962bdeb89    43.800000     43.800000   \ne88ff464-a453-45bb-93d8-5f983d417912   731.481030    731.481030   \n8ce80d06-69f6-404a-b0fd-a728eb0dfed6   731.481030    731.481030   \nbb0a0d86-31c1-4780-b81f-8d0e5a5d83be   731.481030    731.481030   \n32080c6a-1f31-446f-a3d9-59759ac00ff4  1123.715326   1123.715326   \na1fc1a28-1133-47f2-a8d9-58da817946c2  1650.842103   1650.842103   \n0296748a-317a-47eb-bf94-e5dbbd78afc1  1448.922008   1448.922008   \n74ed0525-d8f9-4f36-b20f-1b8a2baf60f2  1448.922008   1448.922008   \nae0fb830-76df-4d91-82ed-4ed755fdec4b  1448.922008   1448.922008   \nc1b696b1-cae0-49ed-a8ba-0e795438d3d2  1448.922008   1448.922008   \nadd95b48-71c3-40e7-9f35-7db604f3f9f0  1448.922008   1448.922008   \nd8443e6d-9080-4154-89e3-29f0e98ed90a  1448.922008   1448.922008   \nf8945b4f-6f59-4c5a-a83f-462a97f2dcc4  1448.922008   1448.922008   \nb548b184-1643-4c23-9b14-9025aeda59c3  1448.922008   1448.922008   \ne8048367-edd2-4a61-ae0f-fd878688c910  1448.922008   1448.922008   \n\n                                                                    parent  \\\na39ac4c3-094b-4d92-b71d-46c5a857f407                                  None   \n981c0743-6a4c-4abd-8a97-2c937e48b897  a39ac4c3-094b-4d92-b71d-46c5a857f407   \ne3149444-dfbc-41d0-9eb1-f08785a62da1  a39ac4c3-094b-4d92-b71d-46c5a857f407   \n529ce7bc-addf-4bad-8ec5-cbecbd73d4f1  a39ac4c3-094b-4d92-b71d-46c5a857f407   \n29b746f5-42fe-4321-9a4a-8c65c9f0410c  a39ac4c3-094b-4d92-b71d-46c5a857f407   \n3fc29315-81e7-45a9-8241-62938e904d73  981c0743-6a4c-4abd-8a97-2c937e48b897   \nf508623d-1d81-4082-85ee-5b1e32c7bb10  981c0743-6a4c-4abd-8a97-2c937e48b897   \n6ac8ab6d-a730-44b8-97aa-a5db09b7fbd0  981c0743-6a4c-4abd-8a97-2c937e48b897   \n71fd4551-8e65-4e7a-8e2a-9d18e69146b0  981c0743-6a4c-4abd-8a97-2c937e48b897   \nc11f68da-0544-487b-9cb9-8a3a3a98a9b8  3fc29315-81e7-45a9-8241-62938e904d73   \ncfc3edf5-1e7d-4499-b25f-ee86ed013516  3fc29315-81e7-45a9-8241-62938e904d73   \n3e158dd9-aa5d-47bb-bc13-4b3e6d328fe1  3fc29315-81e7-45a9-8241-62938e904d73   \nb8609a1e-b9f8-44a0-ab98-468ff247d753  3fc29315-81e7-45a9-8241-62938e904d73   \nf68d2f9b-13c5-42e2-9bca-1826f7eff481  3fc29315-81e7-45a9-8241-62938e904d73   \nec086fbc-7b21-4958-b456-9bce6a883c98  3fc29315-81e7-45a9-8241-62938e904d73   \n9ecaf92a-a90e-4572-a426-3ed392e0c28a  3fc29315-81e7-45a9-8241-62938e904d73   \n9a884f88-0627-4eb7-b1ec-80ea39b0a25b  3fc29315-81e7-45a9-8241-62938e904d73   \nd7dd5233-b1c3-451f-ae90-5a80fed205bd  f508623d-1d81-4082-85ee-5b1e32c7bb10   \n4acebff3-f17b-44fb-ba29-6bc02053b329  6ac8ab6d-a730-44b8-97aa-a5db09b7fbd0   \nd188b4bb-27a3-4f63-9469-e9705c60a7a5  e3149444-dfbc-41d0-9eb1-f08785a62da1   \n8d9f92cf-5613-4de4-b99b-7681aa76b4cd  e3149444-dfbc-41d0-9eb1-f08785a62da1   \ncf287254-7d66-4a4b-8a56-f247f51b41db  d188b4bb-27a3-4f63-9469-e9705c60a7a5   \n926a3e9d-0601-4f96-bd71-317d928194f2  d188b4bb-27a3-4f63-9469-e9705c60a7a5   \n987c5866-03b0-4948-962e-4870684f481b  529ce7bc-addf-4bad-8ec5-cbecbd73d4f1   \n7dc6bf46-805f-4990-bcd2-d0fe1de4dd47  529ce7bc-addf-4bad-8ec5-cbecbd73d4f1   \n549a988b-c3bc-42d4-a6a3-a8dc694fa770  529ce7bc-addf-4bad-8ec5-cbecbd73d4f1   \n3cf2bf71-61fa-4a61-b163-6265c299376d  529ce7bc-addf-4bad-8ec5-cbecbd73d4f1   \nbfc1c272-665f-432d-a7b3-a4c955556e7f  529ce7bc-addf-4bad-8ec5-cbecbd73d4f1   \n55963d84-702d-423d-be05-c8bb6e88f517  529ce7bc-addf-4bad-8ec5-cbecbd73d4f1   \n01282060-ad91-44be-b0d3-ff43e340e8bd  987c5866-03b0-4948-962e-4870684f481b   \nf9e9ae1c-00f3-4966-9682-281ef2a86899  7dc6bf46-805f-4990-bcd2-d0fe1de4dd47   \ne7b3aec0-5003-448b-a0e3-4c2dbb605f85  549a988b-c3bc-42d4-a6a3-a8dc694fa770   \n9c13f0be-9991-4d9f-b41b-a0e962bdeb89  549a988b-c3bc-42d4-a6a3-a8dc694fa770   \ne88ff464-a453-45bb-93d8-5f983d417912  549a988b-c3bc-42d4-a6a3-a8dc694fa770   \n8ce80d06-69f6-404a-b0fd-a728eb0dfed6  549a988b-c3bc-42d4-a6a3-a8dc694fa770   \nbb0a0d86-31c1-4780-b81f-8d0e5a5d83be  549a988b-c3bc-42d4-a6a3-a8dc694fa770   \n32080c6a-1f31-446f-a3d9-59759ac00ff4  3cf2bf71-61fa-4a61-b163-6265c299376d   \na1fc1a28-1133-47f2-a8d9-58da817946c2  bfc1c272-665f-432d-a7b3-a4c955556e7f   \n0296748a-317a-47eb-bf94-e5dbbd78afc1  bfc1c272-665f-432d-a7b3-a4c955556e7f   \n74ed0525-d8f9-4f36-b20f-1b8a2baf60f2  bfc1c272-665f-432d-a7b3-a4c955556e7f   \nae0fb830-76df-4d91-82ed-4ed755fdec4b  bfc1c272-665f-432d-a7b3-a4c955556e7f   \nc1b696b1-cae0-49ed-a8ba-0e795438d3d2  bfc1c272-665f-432d-a7b3-a4c955556e7f   \nadd95b48-71c3-40e7-9f35-7db604f3f9f0  bfc1c272-665f-432d-a7b3-a4c955556e7f   \nd8443e6d-9080-4154-89e3-29f0e98ed90a  bfc1c272-665f-432d-a7b3-a4c955556e7f   \nf8945b4f-6f59-4c5a-a83f-462a97f2dcc4  bfc1c272-665f-432d-a7b3-a4c955556e7f   \nb548b184-1643-4c23-9b14-9025aeda59c3  bfc1c272-665f-432d-a7b3-a4c955556e7f   \ne8048367-edd2-4a61-ae0f-fd878688c910  bfc1c272-665f-432d-a7b3-a4c955556e7f   \n\n                                              use   ffl  number  \na39ac4c3-094b-4d92-b71d-46c5a857f407          NaN   NaN     NaN  \n981c0743-6a4c-4abd-8a97-2c937e48b897          NaN   NaN     NaN  \ne3149444-dfbc-41d0-9eb1-f08785a62da1          NaN   NaN     NaN  \n529ce7bc-addf-4bad-8ec5-cbecbd73d4f1          NaN   NaN     NaN  \n29b746f5-42fe-4321-9a4a-8c65c9f0410c          NaN   NaN     NaN  \n3fc29315-81e7-45a9-8241-62938e904d73  residential   NaN     NaN  \nf508623d-1d81-4082-85ee-5b1e32c7bb10      parking   NaN     NaN  \n6ac8ab6d-a730-44b8-97aa-a5db09b7fbd0       retail   NaN     NaN  \n71fd4551-8e65-4e7a-8e2a-9d18e69146b0        cores   NaN     NaN  \nc11f68da-0544-487b-9cb9-8a3a3a98a9b8          NaN   0.3     0.0  \ncfc3edf5-1e7d-4499-b25f-ee86ed013516          NaN   5.3     1.0  \n3e158dd9-aa5d-47bb-bc13-4b3e6d328fe1          NaN   8.4     2.0  \nb8609a1e-b9f8-44a0-ab98-468ff247d753          NaN  11.5     3.0  \nf68d2f9b-13c5-42e2-9bca-1826f7eff481          NaN  14.6     4.0  \nec086fbc-7b21-4958-b456-9bce6a883c98          NaN  17.7     5.0  \n9ecaf92a-a90e-4572-a426-3ed392e0c28a          NaN  20.8     6.0  \n9a884f88-0627-4eb7-b1ec-80ea39b0a25b          NaN   0.3     0.0  \nd7dd5233-b1c3-451f-ae90-5a80fed205bd          NaN   0.3     0.0  \n4acebff3-f17b-44fb-ba29-6bc02053b329          NaN   0.3     0.0  \nd188b4bb-27a3-4f63-9469-e9705c60a7a5      parking   NaN     NaN  \n8d9f92cf-5613-4de4-b99b-7681aa76b4cd        plant   NaN     NaN  \ncf287254-7d66-4a4b-8a56-f247f51b41db          NaN  -5.9    -2.0  \n926a3e9d-0601-4f96-bd71-317d928194f2          NaN  -2.8    -1.0  \n987c5866-03b0-4948-962e-4870684f481b      parking   NaN     NaN  \n7dc6bf46-805f-4990-bcd2-d0fe1de4dd47       retail   NaN     NaN  \n549a988b-c3bc-42d4-a6a3-a8dc694fa770  residential   NaN     NaN  \n3cf2bf71-61fa-4a61-b163-6265c299376d       retail   NaN     NaN  \nbfc1c272-665f-432d-a7b3-a4c955556e7f       office   NaN     NaN  \n55963d84-702d-423d-be05-c8bb6e88f517        cores   NaN     NaN  \n01282060-ad91-44be-b0d3-ff43e340e8bd          NaN   0.3     0.0  \nf9e9ae1c-00f3-4966-9682-281ef2a86899          NaN   0.3     0.0  \ne7b3aec0-5003-448b-a0e3-4c2dbb605f85          NaN   0.3     0.0  \n9c13f0be-9991-4d9f-b41b-a0e962bdeb89          NaN   0.3     0.0  \ne88ff464-a453-45bb-93d8-5f983d417912          NaN   5.3     1.0  \n8ce80d06-69f6-404a-b0fd-a728eb0dfed6          NaN   8.4     2.0  \nbb0a0d86-31c1-4780-b81f-8d0e5a5d83be          NaN  11.5     3.0  \n32080c6a-1f31-446f-a3d9-59759ac00ff4          NaN   0.3     0.0  \na1fc1a28-1133-47f2-a8d9-58da817946c2          NaN   5.3     1.0  \n0296748a-317a-47eb-bf94-e5dbbd78afc1          NaN   8.4     2.0  \n74ed0525-d8f9-4f36-b20f-1b8a2baf60f2          NaN  11.5     3.0  \nae0fb830-76df-4d91-82ed-4ed755fdec4b          NaN  14.6     4.0  \nc1b696b1-cae0-49ed-a8ba-0e795438d3d2          NaN  17.7     5.0  \nadd95b48-71c3-40e7-9f35-7db604f3f9f0          NaN  20.8     6.0  \nd8443e6d-9080-4154-89e3-29f0e98ed90a          NaN  23.9     7.0  \nf8945b4f-6f59-4c5a-a83f-462a97f2dcc4          NaN  27.0     8.0  \nb548b184-1643-4c23-9b14-9025aeda59c3          NaN  30.1     9.0  \ne8048367-edd2-4a61-ae0f-fd878688c910          NaN  33.2    10.0  ",
      "text/html": "<div>\n<style scoped>\n    .dataframe tbody tr th:only-of-type {\n        vertical-align: middle;\n    }\n\n    .dataframe tbody tr th {\n        vertical-align: top;\n    }\n\n    .dataframe thead th {\n        text-align: right;\n    }\n</style>\n<table border=\"1\" class=\"dataframe\">\n  <thead>\n    <tr style=\"text-align: right;\">\n      <th></th>\n      <th>name</th>\n      <th>type</th>\n      <th>gfa</th>\n      <th>subtotal_gfa</th>\n      <th>parent</th>\n      <th>use</th>\n      <th>ffl</th>\n      <th>number</th>\n    </tr>\n  </thead>\n  <tbody>\n    <tr>\n      <th>a39ac4c3-094b-4d92-b71d-46c5a857f407</th>\n      <td>development</td>\n      <td>development</td>\n      <td>NaN</td>\n      <td>45816.419959</td>\n      <td>None</td>\n      <td>NaN</td>\n      <td>NaN</td>\n      <td>NaN</td>\n    </tr>\n    <tr>\n      <th>981c0743-6a4c-4abd-8a97-2c937e48b897</th>\n      <td>buildingB</td>\n      <td>building</td>\n      <td>NaN</td>\n      <td>13436.884829</td>\n      <td>a39ac4c3-094b-4d92-b71d-46c5a857f407</td>\n      <td>NaN</td>\n      <td>NaN</td>\n      <td>NaN</td>\n    </tr>\n    <tr>\n      <th>e3149444-dfbc-41d0-9eb1-f08785a62da1</th>\n      <td>plinth</td>\n      <td>building</td>\n      <td>NaN</td>\n      <td>12773.744211</td>\n      <td>a39ac4c3-094b-4d92-b71d-46c5a857f407</td>\n      <td>NaN</td>\n      <td>NaN</td>\n      <td>NaN</td>\n    </tr>\n    <tr>\n      <th>529ce7bc-addf-4bad-8ec5-cbecbd73d4f1</th>\n      <td>buildingA</td>\n      <td>building</td>\n      <td>NaN</td>\n      <td>19605.790919</td>\n      <td>a39ac4c3-094b-4d92-b71d-46c5a857f407</td>\n      <td>NaN</td>\n      <td>NaN</td>\n      <td>NaN</td>\n    </tr>\n    <tr>\n      <th>29b746f5-42fe-4321-9a4a-8c65c9f0410c</th>\n      <td>utilities</td>\n      <td>utilities</td>\n      <td>NaN</td>\n      <td>0.000000</td>\n      <td>a39ac4c3-094b-4d92-b71d-46c5a857f407</td>\n      <td>NaN</td>\n      <td>NaN</td>\n      <td>NaN</td>\n    </tr>\n    <tr>\n      <th>3fc29315-81e7-45a9-8241-62938e904d73</th>\n      <td>buildingBresidential</td>\n      <td>space</td>\n      <td>NaN</td>\n      <td>11442.736624</td>\n      <td>981c0743-6a4c-4abd-8a97-2c937e48b897</td>\n      <td>residential</td>\n      <td>NaN</td>\n      <td>NaN</td>\n    </tr>\n    <tr>\n      <th>f508623d-1d81-4082-85ee-5b1e32c7bb10</th>\n      <td>buildingBparking</td>\n      <td>space</td>\n      <td>NaN</td>\n      <td>1178.164752</td>\n      <td>981c0743-6a4c-4abd-8a97-2c937e48b897</td>\n      <td>parking</td>\n      <td>NaN</td>\n      <td>NaN</td>\n    </tr>\n    <tr>\n      <th>6ac8ab6d-a730-44b8-97aa-a5db09b7fbd0</th>\n      <td>buildingBretail</td>\n      <td>space</td>\n      <td>NaN</td>\n      <td>815.983454</td>\n      <td>981c0743-6a4c-4abd-8a97-2c937e48b897</td>\n      <td>retail</td>\n      <td>NaN</td>\n      <td>NaN</td>\n    </tr>\n    <tr>\n      <th>71fd4551-8e65-4e7a-8e2a-9d18e69146b0</th>\n      <td>buildingBcores</td>\n      <td>utilities</td>\n      <td>NaN</td>\n      <td>0.000000</td>\n      <td>981c0743-6a4c-4abd-8a97-2c937e48b897</td>\n      <td>cores</td>\n      <td>NaN</td>\n      <td>NaN</td>\n    </tr>\n    <tr>\n      <th>c11f68da-0544-487b-9cb9-8a3a3a98a9b8</th>\n      <td>buildingBresidentialFloor0</td>\n      <td>floor</td>\n      <td>765.941631</td>\n      <td>765.941631</td>\n      <td>3fc29315-81e7-45a9-8241-62938e904d73</td>\n      <td>NaN</td>\n      <td>0.3</td>\n      <td>0.0</td>\n    </tr>\n    <tr>\n      <th>cfc3edf5-1e7d-4499-b25f-ee86ed013516</th>\n      <td>buildingBresidentialFloor1</td>\n      <td>floor</td>\n      <td>2361.056035</td>\n      <td>2361.056035</td>\n      <td>3fc29315-81e7-45a9-8241-62938e904d73</td>\n      <td>NaN</td>\n      <td>5.3</td>\n      <td>1.0</td>\n    </tr>\n    <tr>\n      <th>3e158dd9-aa5d-47bb-bc13-4b3e6d328fe1</th>\n      <td>buildingBresidentialFloor2</td>\n      <td>floor</td>\n      <td>2361.056035</td>\n      <td>2361.056035</td>\n      <td>3fc29315-81e7-45a9-8241-62938e904d73</td>\n      <td>NaN</td>\n      <td>8.4</td>\n      <td>2.0</td>\n    </tr>\n    <tr>\n      <th>b8609a1e-b9f8-44a0-ab98-468ff247d753</th>\n      <td>buildingBresidentialFloor3</td>\n      <td>floor</td>\n      <td>2015.956035</td>\n      <td>2015.956035</td>\n      <td>3fc29315-81e7-45a9-8241-62938e904d73</td>\n      <td>NaN</td>\n      <td>11.5</td>\n      <td>3.0</td>\n    </tr>\n    <tr>\n      <th>f68d2f9b-13c5-42e2-9bca-1826f7eff481</th>\n      <td>buildingBresidentialFloor4</td>\n      <td>floor</td>\n      <td>2015.956035</td>\n      <td>2015.956035</td>\n      <td>3fc29315-81e7-45a9-8241-62938e904d73</td>\n      <td>NaN</td>\n      <td>14.6</td>\n      <td>4.0</td>\n    </tr>\n    <tr>\n      <th>ec086fbc-7b21-4958-b456-9bce6a883c98</th>\n      <td>buildingBresidentialFloor5</td>\n      <td>floor</td>\n      <td>875.014900</td>\n      <td>875.014900</td>\n      <td>3fc29315-81e7-45a9-8241-62938e904d73</td>\n      <td>NaN</td>\n      <td>17.7</td>\n      <td>5.0</td>\n    </tr>\n    <tr>\n      <th>9ecaf92a-a90e-4572-a426-3ed392e0c28a</th>\n      <td>buildingBresidentialFloor6</td>\n      <td>floor</td>\n      <td>875.014900</td>\n      <td>875.014900</td>\n      <td>3fc29315-81e7-45a9-8241-62938e904d73</td>\n      <td>NaN</td>\n      <td>20.8</td>\n      <td>6.0</td>\n    </tr>\n    <tr>\n      <th>9a884f88-0627-4eb7-b1ec-80ea39b0a25b</th>\n      <td>buildingBresidentialFloor0</td>\n      <td>floor</td>\n      <td>172.741054</td>\n      <td>172.741054</td>\n      <td>3fc29315-81e7-45a9-8241-62938e904d73</td>\n      <td>NaN</td>\n      <td>0.3</td>\n      <td>0.0</td>\n    </tr>\n    <tr>\n      <th>d7dd5233-b1c3-451f-ae90-5a80fed205bd</th>\n      <td>buildingBparkingFloor0</td>\n      <td>floor</td>\n      <td>1178.164752</td>\n      <td>1178.164752</td>\n      <td>f508623d-1d81-4082-85ee-5b1e32c7bb10</td>\n      <td>NaN</td>\n      <td>0.3</td>\n      <td>0.0</td>\n    </tr>\n    <tr>\n      <th>4acebff3-f17b-44fb-ba29-6bc02053b329</th>\n      <td>buildingBretailFloor0</td>\n      <td>floor</td>\n      <td>815.983454</td>\n      <td>815.983454</td>\n      <td>6ac8ab6d-a730-44b8-97aa-a5db09b7fbd0</td>\n      <td>NaN</td>\n      <td>0.3</td>\n      <td>0.0</td>\n    </tr>\n    <tr>\n      <th>d188b4bb-27a3-4f63-9469-e9705c60a7a5</th>\n      <td>plinthparking</td>\n      <td>space</td>\n      <td>NaN</td>\n      <td>12773.744211</td>\n      <td>e3149444-dfbc-41d0-9eb1-f08785a62da1</td>\n      <td>parking</td>\n      <td>NaN</td>\n      <td>NaN</td>\n    </tr>\n    <tr>\n      <th>8d9f92cf-5613-4de4-b99b-7681aa76b4cd</th>\n      <td>plinthplant</td>\n      <td>utilities</td>\n      <td>NaN</td>\n      <td>0.000000</td>\n      <td>e3149444-dfbc-41d0-9eb1-f08785a62da1</td>\n      <td>plant</td>\n      <td>NaN</td>\n      <td>NaN</td>\n    </tr>\n    <tr>\n      <th>cf287254-7d66-4a4b-8a56-f247f51b41db</th>\n      <td>plinthparkingFloor-2</td>\n      <td>floor</td>\n      <td>6386.872106</td>\n      <td>6386.872106</td>\n      <td>d188b4bb-27a3-4f63-9469-e9705c60a7a5</td>\n      <td>NaN</td>\n      <td>-5.9</td>\n      <td>-2.0</td>\n    </tr>\n    <tr>\n      <th>926a3e9d-0601-4f96-bd71-317d928194f2</th>\n      <td>plinthparkingFloor-1</td>\n      <td>floor</td>\n      <td>6386.872106</td>\n      <td>6386.872106</td>\n      <td>d188b4bb-27a3-4f63-9469-e9705c60a7a5</td>\n      <td>NaN</td>\n      <td>-2.8</td>\n      <td>-1.0</td>\n    </tr>\n    <tr>\n      <th>987c5866-03b0-4948-962e-4870684f481b</th>\n      <td>buildingAparking</td>\n      <td>space</td>\n      <td>NaN</td>\n      <td>960.262087</td>\n      <td>529ce7bc-addf-4bad-8ec5-cbecbd73d4f1</td>\n      <td>parking</td>\n      <td>NaN</td>\n      <td>NaN</td>\n    </tr>\n    <tr>\n      <th>7dc6bf46-805f-4990-bcd2-d0fe1de4dd47</th>\n      <td>buildingAretail</td>\n      <td>space</td>\n      <td>NaN</td>\n      <td>534.530238</td>\n      <td>529ce7bc-addf-4bad-8ec5-cbecbd73d4f1</td>\n      <td>retail</td>\n      <td>NaN</td>\n      <td>NaN</td>\n    </tr>\n    <tr>\n      <th>549a988b-c3bc-42d4-a6a3-a8dc694fa770</th>\n      <td>buildingAresidential</td>\n      <td>space</td>\n      <td>NaN</td>\n      <td>2296.143091</td>\n      <td>529ce7bc-addf-4bad-8ec5-cbecbd73d4f1</td>\n      <td>residential</td>\n      <td>NaN</td>\n      <td>NaN</td>\n    </tr>\n    <tr>\n      <th>3cf2bf71-61fa-4a61-b163-6265c299376d</th>\n      <td>buildingAretail</td>\n      <td>space</td>\n      <td>NaN</td>\n      <td>1123.715326</td>\n      <td>529ce7bc-addf-4bad-8ec5-cbecbd73d4f1</td>\n      <td>retail</td>\n      <td>NaN</td>\n      <td>NaN</td>\n    </tr>\n    <tr>\n      <th>bfc1c272-665f-432d-a7b3-a4c955556e7f</th>\n      <td>buildingAoffice</td>\n      <td>space</td>\n      <td>NaN</td>\n      <td>14691.140177</td>\n      <td>529ce7bc-addf-4bad-8ec5-cbecbd73d4f1</td>\n      <td>office</td>\n      <td>NaN</td>\n      <td>NaN</td>\n    </tr>\n    <tr>\n      <th>55963d84-702d-423d-be05-c8bb6e88f517</th>\n      <td>buildingAcores</td>\n      <td>utilities</td>\n      <td>NaN</td>\n      <td>0.000000</td>\n      <td>529ce7bc-addf-4bad-8ec5-cbecbd73d4f1</td>\n      <td>cores</td>\n      <td>NaN</td>\n      <td>NaN</td>\n    </tr>\n    <tr>\n      <th>01282060-ad91-44be-b0d3-ff43e340e8bd</th>\n      <td>buildingAparkingFloor0</td>\n      <td>floor</td>\n      <td>960.262087</td>\n      <td>960.262087</td>\n      <td>987c5866-03b0-4948-962e-4870684f481b</td>\n      <td>NaN</td>\n      <td>0.3</td>\n      <td>0.0</td>\n    </tr>\n    <tr>\n      <th>f9e9ae1c-00f3-4966-9682-281ef2a86899</th>\n      <td>buildingAretailFloor0</td>\n      <td>floor</td>\n      <td>534.530238</td>\n      <td>534.530238</td>\n      <td>7dc6bf46-805f-4990-bcd2-d0fe1de4dd47</td>\n      <td>NaN</td>\n      <td>0.3</td>\n      <td>0.0</td>\n    </tr>\n    <tr>\n      <th>e7b3aec0-5003-448b-a0e3-4c2dbb605f85</th>\n      <td>buildingAresidentialFloor0</td>\n      <td>floor</td>\n      <td>57.900000</td>\n      <td>57.900000</td>\n      <td>549a988b-c3bc-42d4-a6a3-a8dc694fa770</td>\n      <td>NaN</td>\n      <td>0.3</td>\n      <td>0.0</td>\n    </tr>\n    <tr>\n      <th>9c13f0be-9991-4d9f-b41b-a0e962bdeb89</th>\n      <td>buildingAresidentialFloor0</td>\n      <td>floor</td>\n      <td>43.800000</td>\n      <td>43.800000</td>\n      <td>549a988b-c3bc-42d4-a6a3-a8dc694fa770</td>\n      <td>NaN</td>\n      <td>0.3</td>\n      <td>0.0</td>\n    </tr>\n    <tr>\n      <th>e88ff464-a453-45bb-93d8-5f983d417912</th>\n      <td>buildingAresidentialFloor1</td>\n      <td>floor</td>\n      <td>731.481030</td>\n      <td>731.481030</td>\n      <td>549a988b-c3bc-42d4-a6a3-a8dc694fa770</td>\n      <td>NaN</td>\n      <td>5.3</td>\n      <td>1.0</td>\n    </tr>\n    <tr>\n      <th>8ce80d06-69f6-404a-b0fd-a728eb0dfed6</th>\n      <td>buildingAresidentialFloor2</td>\n      <td>floor</td>\n      <td>731.481030</td>\n      <td>731.481030</td>\n      <td>549a988b-c3bc-42d4-a6a3-a8dc694fa770</td>\n      <td>NaN</td>\n      <td>8.4</td>\n      <td>2.0</td>\n    </tr>\n    <tr>\n      <th>bb0a0d86-31c1-4780-b81f-8d0e5a5d83be</th>\n      <td>buildingAresidentialFloor3</td>\n      <td>floor</td>\n      <td>731.481030</td>\n      <td>731.481030</td>\n      <td>549a988b-c3bc-42d4-a6a3-a8dc694fa770</td>\n      <td>NaN</td>\n      <td>11.5</td>\n      <td>3.0</td>\n    </tr>\n    <tr>\n      <th>32080c6a-1f31-446f-a3d9-59759ac00ff4</th>\n      <td>buildingAretailFloor0</td>\n      <td>floor</td>\n      <td>1123.715326</td>\n      <td>1123.715326</td>\n      <td>3cf2bf71-61fa-4a61-b163-6265c299376d</td>\n      <td>NaN</td>\n      <td>0.3</td>\n      <td>0.0</td>\n    </tr>\n    <tr>\n      <th>a1fc1a28-1133-47f2-a8d9-58da817946c2</th>\n      <td>buildingAofficeFloor1</td>\n      <td>floor</td>\n      <td>1650.842103</td>\n      <td>1650.842103</td>\n      <td>bfc1c272-665f-432d-a7b3-a4c955556e7f</td>\n      <td>NaN</td>\n      <td>5.3</td>\n      <td>1.0</td>\n    </tr>\n    <tr>\n      <th>0296748a-317a-47eb-bf94-e5dbbd78afc1</th>\n      <td>buildingAofficeFloor2</td>\n      <td>floor</td>\n      <td>1448.922008</td>\n      <td>1448.922008</td>\n      <td>bfc1c272-665f-432d-a7b3-a4c955556e7f</td>\n      <td>NaN</td>\n      <td>8.4</td>\n      <td>2.0</td>\n    </tr>\n    <tr>\n      <th>74ed0525-d8f9-4f36-b20f-1b8a2baf60f2</th>\n      <td>buildingAofficeFloor3</td>\n      <td>floor</td>\n      <td>1448.922008</td>\n      <td>1448.922008</td>\n      <td>bfc1c272-665f-432d-a7b3-a4c955556e7f</td>\n      <td>NaN</td>\n      <td>11.5</td>\n      <td>3.0</td>\n    </tr>\n    <tr>\n      <th>ae0fb830-76df-4d91-82ed-4ed755fdec4b</th>\n      <td>buildingAofficeFloor4</td>\n      <td>floor</td>\n      <td>1448.922008</td>\n      <td>1448.922008</td>\n      <td>bfc1c272-665f-432d-a7b3-a4c955556e7f</td>\n      <td>NaN</td>\n      <td>14.6</td>\n      <td>4.0</td>\n    </tr>\n    <tr>\n      <th>c1b696b1-cae0-49ed-a8ba-0e795438d3d2</th>\n      <td>buildingAofficeFloor5</td>\n      <td>floor</td>\n      <td>1448.922008</td>\n      <td>1448.922008</td>\n      <td>bfc1c272-665f-432d-a7b3-a4c955556e7f</td>\n      <td>NaN</td>\n      <td>17.7</td>\n      <td>5.0</td>\n    </tr>\n    <tr>\n      <th>add95b48-71c3-40e7-9f35-7db604f3f9f0</th>\n      <td>buildingAofficeFloor6</td>\n      <td>floor</td>\n      <td>1448.922008</td>\n      <td>1448.922008</td>\n      <td>bfc1c272-665f-432d-a7b3-a4c955556e7f</td>\n      <td>NaN</td>\n      <td>20.8</td>\n      <td>6.0</td>\n    </tr>\n    <tr>\n      <th>d8443e6d-9080-4154-89e3-29f0e98ed90a</th>\n      <td>buildingAofficeFloor7</td>\n      <td>floor</td>\n      <td>1448.922008</td>\n      <td>1448.922008</td>\n      <td>bfc1c272-665f-432d-a7b3-a4c955556e7f</td>\n      <td>NaN</td>\n      <td>23.9</td>\n      <td>7.0</td>\n    </tr>\n    <tr>\n      <th>f8945b4f-6f59-4c5a-a83f-462a97f2dcc4</th>\n      <td>buildingAofficeFloor8</td>\n      <td>floor</td>\n      <td>1448.922008</td>\n      <td>1448.922008</td>\n      <td>bfc1c272-665f-432d-a7b3-a4c955556e7f</td>\n      <td>NaN</td>\n      <td>27.0</td>\n      <td>8.0</td>\n    </tr>\n    <tr>\n      <th>b548b184-1643-4c23-9b14-9025aeda59c3</th>\n      <td>buildingAofficeFloor9</td>\n      <td>floor</td>\n      <td>1448.922008</td>\n      <td>1448.922008</td>\n      <td>bfc1c272-665f-432d-a7b3-a4c955556e7f</td>\n      <td>NaN</td>\n      <td>30.1</td>\n      <td>9.0</td>\n    </tr>\n    <tr>\n      <th>e8048367-edd2-4a61-ae0f-fd878688c910</th>\n      <td>buildingAofficeFloor10</td>\n      <td>floor</td>\n      <td>1448.922008</td>\n      <td>1448.922008</td>\n      <td>bfc1c272-665f-432d-a7b3-a4c955556e7f</td>\n      <td>NaN</td>\n      <td>33.2</td>\n      <td>10.0</td>\n    </tr>\n  </tbody>\n</table>\n</div>"
     },
     "execution_count": 237,
     "metadata": {},
     "output_type": "execute_result"
    }
   ],
   "source": [
    "df = spatial_containment.to_DataFrame()\n",
    "df = df[['name', 'type', 'gfa', 'subtotal_gfa', 'parent', 'use', 'ffl', 'number']]\n",
    "df"
   ]
  },
  {
   "cell_type": "markdown",
   "metadata": {
    "collapsed": false
   },
   "source": [
    "We can also plot this as a hierarchical pie chart (a.k.a. 'sunburst' chart), or\n",
    "a treemap:"
   ]
  },
  {
   "cell_type": "code",
   "execution_count": 238,
   "metadata": {
    "collapsed": false,
    "ExecuteTime": {
     "end_time": "2023-06-29T14:21:28.337877Z",
     "start_time": "2023-06-29T14:21:27.940783Z"
    }
   },
   "outputs": [
    {
     "data": {
      "text/plain": "<IPython.lib.display.IFrame at 0x2f5b7fbe0>",
      "text/html": "\n        <iframe\n            width=\"100%\"\n            height=\"1600\"\n            src=\"./spatial_containment_chart.html\"\n            frameborder=\"0\"\n            allowfullscreen\n            \n        ></iframe>\n        "
     },
     "execution_count": 238,
     "metadata": {},
     "output_type": "execute_result"
    }
   ],
   "source": [
    "sunburst = spatial_containment.sunburst(property='subtotal_gfa')\n",
    "treemap = spatial_containment.treemap(property='subtotal_gfa')\n",
    "fig = plotly.subplots.make_subplots(\n",
    "    rows=2, cols=1,\n",
    "    specs=[[{\"type\": \"sunburst\"}], [{\"type\": \"treemap\"}]])\n",
    "fig.append_trace(sunburst, row=1, col=1)\n",
    "fig.append_trace(treemap, row=2, col=1)\n",
    "filename='spatial_containment_chart.html'\n",
    "\n",
    "py.plot(fig, filename='assets/{0}'.format(filename), auto_open=False)\n",
    "IFrame(src=\"./{0}\".format(filename), width='100%', height=800 * len(fig.data))"
   ]
  },
  {
   "cell_type": "markdown",
   "metadata": {
    "collapsed": false
   },
   "source": [
    "#### Aggregating a (Financial) Calculation\n",
    "A more complex aggregation involves collecting specific cash `Flow`s into\n",
    "`Stream`s per `Entity`/`Assembly`; for instance, we may want to aggregate all\n",
    "revenues generated by lettable floorspace into their respective parent `Entity`s,\n",
    "in order to analyse or compare the performance of the scenario at different\n",
    "resolutions."
   ]
  },
  {
   "cell_type": "markdown",
   "metadata": {
    "collapsed": false
   },
   "source": [
    "We start by identifying which `Entity`s are 'floor' types and have an area\n",
    "measurement:"
   ]
  },
  {
   "cell_type": "code",
   "execution_count": 239,
   "metadata": {
    "collapsed": false,
    "ExecuteTime": {
     "end_time": "2023-06-29T14:21:28.345368Z",
     "start_time": "2023-06-29T14:21:28.339870Z"
    }
   },
   "outputs": [],
   "source": [
    "floors = scenario.filter_by_type(entity_type='floor')\n",
    "floors = [floor for floor in floors.get_entities().values() if hasattr(floor, 'gfa')]"
   ]
  },
  {
   "cell_type": "markdown",
   "metadata": {
    "collapsed": false
   },
   "source": [
    "For each floor we can project a set of simple cash flows, in a similar manner\n",
    "to [A Basic DCF Valuation](../basic_dcf.ipynb)."
   ]
  },
  {
   "cell_type": "markdown",
   "metadata": {
    "collapsed": false
   },
   "source": [
    "First initialize our locale, and a set of parameters, including some around\n",
    "area efficiency ratios, initial incomes per area, and growth rates:"
   ]
  },
  {
   "cell_type": "code",
   "execution_count": 240,
   "metadata": {
    "collapsed": false,
    "ExecuteTime": {
     "end_time": "2023-06-29T14:21:28.352549Z",
     "start_time": "2023-06-29T14:21:28.344441Z"
    }
   },
   "outputs": [],
   "source": [
    "locale.setlocale(locale.LC_ALL, 'en_au')\n",
    "units = rk.measure.Index.registry\n",
    "currency = rk.measure.register_currency(registry=units)\n",
    "period_type = rk.periodicity.Type.YEAR"
   ]
  },
  {
   "cell_type": "code",
   "execution_count": 241,
   "metadata": {
    "collapsed": false,
    "ExecuteTime": {
     "end_time": "2023-06-29T14:21:28.352654Z",
     "start_time": "2023-06-29T14:21:28.348173Z"
    }
   },
   "outputs": [],
   "source": [
    "efficiency_ratios = dict(\n",
    "    office=0.825,\n",
    "    retail=0.675,\n",
    "    residential=0.75,\n",
    "    parking=0.9\n",
    "    )\n",
    "initial_income_per_area_pa = dict(\n",
    "    office=750,\n",
    "    retail=1000,\n",
    "    residential=600,\n",
    "    parking=0\n",
    "    )\n",
    "pgi_growth_rates = dict(\n",
    "    office=.025,\n",
    "    retail=.075,\n",
    "    residential=.055,\n",
    "    parking=0\n",
    "    )\n",
    "vacancy_rates = dict(\n",
    "    office=.075,\n",
    "    retail=.5,\n",
    "    residential=.02,\n",
    "    parking=0,\n",
    "    )"
   ]
  },
  {
   "cell_type": "code",
   "execution_count": 242,
   "outputs": [
    {
     "data": {
      "text/plain": "             efficiency_ratio  initial_income_per_area_pa  pgi_growth_rate  \\\noffice                  0.825                         750            0.025   \nretail                  0.675                        1000            0.075   \nresidential             0.750                         600            0.055   \nparking                 0.900                           0            0.000   \n\n             vacancy_rate  \noffice              0.075  \nretail              0.500  \nresidential         0.020  \nparking             0.000  ",
      "text/html": "<div>\n<style scoped>\n    .dataframe tbody tr th:only-of-type {\n        vertical-align: middle;\n    }\n\n    .dataframe tbody tr th {\n        vertical-align: top;\n    }\n\n    .dataframe thead th {\n        text-align: right;\n    }\n</style>\n<table border=\"1\" class=\"dataframe\">\n  <thead>\n    <tr style=\"text-align: right;\">\n      <th></th>\n      <th>efficiency_ratio</th>\n      <th>initial_income_per_area_pa</th>\n      <th>pgi_growth_rate</th>\n      <th>vacancy_rate</th>\n    </tr>\n  </thead>\n  <tbody>\n    <tr>\n      <th>office</th>\n      <td>0.825</td>\n      <td>750</td>\n      <td>0.025</td>\n      <td>0.075</td>\n    </tr>\n    <tr>\n      <th>retail</th>\n      <td>0.675</td>\n      <td>1000</td>\n      <td>0.075</td>\n      <td>0.500</td>\n    </tr>\n    <tr>\n      <th>residential</th>\n      <td>0.750</td>\n      <td>600</td>\n      <td>0.055</td>\n      <td>0.020</td>\n    </tr>\n    <tr>\n      <th>parking</th>\n      <td>0.900</td>\n      <td>0</td>\n      <td>0.000</td>\n      <td>0.000</td>\n    </tr>\n  </tbody>\n</table>\n</div>"
     },
     "execution_count": 242,
     "metadata": {},
     "output_type": "execute_result"
    }
   ],
   "source": [
    "revenue_inputs = pd.DataFrame(\n",
    "    data=dict(\n",
    "        efficiency_ratio=efficiency_ratios,\n",
    "        initial_income_per_area_pa=initial_income_per_area_pa,\n",
    "        pgi_growth_rate=pgi_growth_rates,\n",
    "        vacancy_rate=vacancy_rates,\n",
    "        ))\n",
    "revenue_inputs"
   ],
   "metadata": {
    "collapsed": false,
    "ExecuteTime": {
     "end_time": "2023-06-29T14:21:28.391430Z",
     "start_time": "2023-06-29T14:21:28.353406Z"
    }
   }
  },
  {
   "cell_type": "code",
   "execution_count": 243,
   "metadata": {
    "collapsed": false,
    "ExecuteTime": {
     "end_time": "2023-06-29T14:21:28.391814Z",
     "start_time": "2023-06-29T14:21:28.357208Z"
    }
   },
   "outputs": [],
   "source": [
    "params = dict(\n",
    "    start_date=pd.Timestamp('2001-01-01'),\n",
    "    num_periods=10,\n",
    "    period_type=rk.periodicity.Type.YEAR\n",
    "    )"
   ]
  },
  {
   "cell_type": "markdown",
   "metadata": {
    "collapsed": false
   },
   "source": [
    "##### `Stream`s of Revenue `Flow`s per `Entity`:\n",
    "It is now simple to construct a set of cash flows per `Entity` in our design\n",
    "scenario. We will use a similar structure to the previous notebooks."
   ]
  },
  {
   "cell_type": "markdown",
   "source": [
    "First we will define a general 'Spans' class that defines the time periods. This\n",
    "can be used by any subsequent calculations:"
   ],
   "metadata": {
    "collapsed": false
   }
  },
  {
   "cell_type": "code",
   "execution_count": 244,
   "outputs": [],
   "source": [
    "class Spans:\n",
    "    def __init__(self, params: dict):\n",
    "        self.params = params\n",
    "        self.calc_span = rk.span.Span.from_num_periods(\n",
    "            name='Span to Calculate Reversion',\n",
    "            date=self.params['start_date'],\n",
    "            period_type=self.params['period_type'],\n",
    "            num_periods=self.params['num_periods'] + 1)\n",
    "        self.acq_span = rk.span.Span.from_num_periods(\n",
    "            name='Acquisition Span',\n",
    "            date=rk.periodicity.offset_date(\n",
    "                self.params['start_date'],\n",
    "                num_periods=-1,\n",
    "                period_type=self.params['period_type']),\n",
    "            period_type=self.params['period_type'],\n",
    "            num_periods=1)\n",
    "        self.span = self.calc_span.shift(\n",
    "            name='Span',\n",
    "            num_periods=-1,\n",
    "            period_type=self.params['period_type'],\n",
    "            bound='end')"
   ],
   "metadata": {
    "collapsed": false,
    "ExecuteTime": {
     "end_time": "2023-06-29T14:21:28.392184Z",
     "start_time": "2023-06-29T14:21:28.361178Z"
    }
   }
  },
  {
   "cell_type": "markdown",
   "metadata": {
    "collapsed": false
   },
   "source": [
    "Then, we will define a `Revenues` class that holds the parameters:"
   ]
  },
  {
   "cell_type": "code",
   "execution_count": 245,
   "metadata": {
    "collapsed": false,
    "ExecuteTime": {
     "end_time": "2023-06-29T14:21:28.392217Z",
     "start_time": "2023-06-29T14:21:28.364003Z"
    }
   },
   "outputs": [],
   "source": [
    "class Revenues:\n",
    "    def __init__(\n",
    "            self,\n",
    "            params: dict,\n",
    "            spans: Spans):\n",
    "        self.params = params\n",
    "        self.spans = spans"
   ]
  },
  {
   "cell_type": "markdown",
   "metadata": {
    "collapsed": false
   },
   "source": [
    "And then we add Revenue `Flow`s:"
   ]
  },
  {
   "cell_type": "code",
   "execution_count": 246,
   "metadata": {
    "collapsed": false,
    "ExecuteTime": {
     "end_time": "2023-06-29T14:21:28.392256Z",
     "start_time": "2023-06-29T14:21:28.367806Z"
    }
   },
   "outputs": [],
   "source": [
    "@rk.update_class(Revenues)\n",
    "class Revenues:\n",
    "    def generate(self):\n",
    "        self.pgi = rk.flux.Flow.from_projection(\n",
    "            name='Potential Gross Income',\n",
    "            value=self.params['initial_income'],\n",
    "            proj=rk.projection.Extrapolation(\n",
    "            form=rk.extrapolation.Compounding(\n",
    "                rate=self.params['pgi_growth_rate']),\n",
    "            sequence=self.spans.calc_span.to_index(period_type=self.params['period_type'])),\n",
    "            units=currency.units)\n",
    "        self.vacancy = rk.flux.Flow(\n",
    "            name='Vacancy Allowance',\n",
    "            movements=self.pgi.movements * -self.params['vacancy_rate'],\n",
    "            units=currency.units)\n",
    "        self.egi = rk.flux.Stream(\n",
    "            name='Effective Gross Income',\n",
    "            flows=[self.pgi, self.vacancy],\n",
    "            period_type=self.params['period_type'])"
   ]
  },
  {
   "cell_type": "markdown",
   "metadata": {
    "collapsed": false
   },
   "source": [
    "Now we need to add `Entity`-specific parameters to the parameters dictionary,\n",
    "and run  the `init_spans()` and `init_flows()` methods per floor `Entity`:\n",
    "\n",
    "(Note we place the resultant `Stream` in the `events` attribute of the `Entity`)"
   ]
  },
  {
   "cell_type": "code",
   "execution_count": 247,
   "outputs": [],
   "source": [
    "spans = Spans(params)"
   ],
   "metadata": {
    "collapsed": false,
    "ExecuteTime": {
     "end_time": "2023-06-29T14:21:28.392286Z",
     "start_time": "2023-06-29T14:21:28.370885Z"
    }
   }
  },
  {
   "cell_type": "code",
   "execution_count": 248,
   "metadata": {
    "collapsed": false,
    "ExecuteTime": {
     "end_time": "2023-06-29T14:21:28.511770Z",
     "start_time": "2023-06-29T14:21:28.383221Z"
    }
   },
   "outputs": [],
   "source": [
    "for floor in floors:\n",
    "    parent = floor.get_relatives(\n",
    "        relationship_type='spatiallyContains',\n",
    "        outgoing=False,\n",
    "        assembly=spatial_containment)[0]\n",
    "    floor['use'] = parent['use']\n",
    "\n",
    "    floor.params = params.copy()\n",
    "    floor.params['initial_income'] = initial_income_per_area_pa[floor['use']] * floor['gfa'] * efficiency_ratios[floor['use']]\n",
    "    floor.params['pgi_growth_rate'] = pgi_growth_rates[floor['use']]\n",
    "    floor.params['vacancy_rate'] = vacancy_rates[floor['use']]\n",
    "\n",
    "    # floor.events = {}\n",
    "\n",
    "    revenues = Revenues(floor.params, spans)\n",
    "    revenues.generate()\n",
    "\n",
    "    floor['pgi'] = revenues.pgi\n",
    "    floor['vacancy'] = revenues.vacancy\n",
    "    floor['egi'] = revenues.egi\n",
    "    # floor = {\n",
    "    #     'pgi': revenues.pgi,\n",
    "    #     'vacancy': revenues.vacancy,\n",
    "    #     'egi': revenues.egi,\n",
    "    #     }"
   ]
  },
  {
   "cell_type": "markdown",
   "metadata": {
    "collapsed": false
   },
   "source": [
    "##### Aggregating by Parent Container\n",
    "Since we have the \"containment\" hierarchy, we can aggregate the `Revenues` per\n",
    "parent `Entity`:"
   ]
  },
  {
   "cell_type": "markdown",
   "metadata": {
    "collapsed": false
   },
   "source": [
    "*Rangekeeper* provides some helper methods to assist in the aggregation of\n",
    "`Stream`s and `Flow`s; specifically, since the `Entity.aggregate()` method\n",
    "updates a specified `Entity`'s property with a dictionary of subentity\n",
    "properties, keyed by their respective `entityId`s, we can use the\n",
    "`aggregate_flows()` function to support the collation of child `Entity`\n",
    "`Flow`s into a single `Stream` in a new property label in the `Entity`"
   ]
  },
  {
   "cell_type": "code",
   "execution_count": 249,
   "metadata": {
    "collapsed": false,
    "ExecuteTime": {
     "end_time": "2023-06-29T14:21:28.511926Z",
     "start_time": "2023-06-29T14:21:28.482224Z"
    }
   },
   "outputs": [],
   "source": [
    "def aggregate_egis(**kwargs):\n",
    "    return rk.graph.Entity.aggregate_flows(\n",
    "        **kwargs,\n",
    "        name='Effective Gross Income',\n",
    "        period_type=period_type)"
   ]
  },
  {
   "cell_type": "markdown",
   "metadata": {
    "collapsed": false
   },
   "source": [
    "This function is passed into the `Entity.aggregate()` method as the `function`\n",
    "parameter:"
   ]
  },
  {
   "cell_type": "code",
   "execution_count": 250,
   "metadata": {
    "collapsed": false,
    "ExecuteTime": {
     "end_time": "2023-06-29T14:21:28.740449Z",
     "start_time": "2023-06-29T14:21:28.532194Z"
    }
   },
   "outputs": [],
   "source": [
    "spatial_containment.aggregate(\n",
    "    function=aggregate_egis,\n",
    "    property='egi',\n",
    "    label='subtotal_egi',\n",
    "    relationship_type='spatiallyContains')"
   ]
  },
  {
   "cell_type": "markdown",
   "source": [
    "Now we can look at what the `aggregate` method has produced for a single floor:"
   ],
   "metadata": {
    "collapsed": false
   }
  },
  {
   "cell_type": "code",
   "execution_count": 251,
   "outputs": [
    {
     "data": {
      "text/plain": "'Effective Gross Income'"
     },
     "execution_count": 251,
     "metadata": {},
     "output_type": "execute_result"
    }
   ],
   "source": [
    "floors[1]['egi'].name"
   ],
   "metadata": {
    "collapsed": false,
    "ExecuteTime": {
     "end_time": "2023-06-29T14:21:28.743827Z",
     "start_time": "2023-06-29T14:21:28.741545Z"
    }
   }
  },
  {
   "cell_type": "markdown",
   "metadata": {
    "collapsed": false
   },
   "source": [
    "We can then inspect the `aggregate_egi` property of an `Entity`, which holds a\n",
    "`Stream` of `Flow`s (each coming from a child of that `Entity`). Let's use the\n",
    "office compartment in Building A:"
   ]
  },
  {
   "cell_type": "code",
   "execution_count": 252,
   "metadata": {
    "collapsed": false,
    "ExecuteTime": {
     "end_time": "2023-06-29T14:21:28.811217Z",
     "start_time": "2023-06-29T14:21:28.745926Z"
    }
   },
   "outputs": [
    {
     "name": "stdout",
     "output_type": "stream",
     "text": [
      "buildingAoffice\n"
     ]
    },
    {
     "data": {
      "text/plain": "<rangekeeper.flux.Stream at 0x2f3b49120>",
      "text/html": "<table>\n<thead>\n<tr><th style=\"text-align: right;\">  date</th><th style=\"text-align: right;\">  Effective Gross Income for a1fc1a28-1133-47f2-a8d9-58da817946c2 [buildingAofficeFloor1]</th><th style=\"text-align: right;\">  Effective Gross Income for 0296748a-317a-47eb-bf94-e5dbbd78afc1 [buildingAofficeFloor2]</th><th style=\"text-align: right;\">  Effective Gross Income for 74ed0525-d8f9-4f36-b20f-1b8a2baf60f2 [buildingAofficeFloor3]</th><th style=\"text-align: right;\">  Effective Gross Income for ae0fb830-76df-4d91-82ed-4ed755fdec4b [buildingAofficeFloor4]</th><th style=\"text-align: right;\">  Effective Gross Income for c1b696b1-cae0-49ed-a8ba-0e795438d3d2 [buildingAofficeFloor5]</th><th style=\"text-align: right;\">  Effective Gross Income for add95b48-71c3-40e7-9f35-7db604f3f9f0 [buildingAofficeFloor6]</th><th style=\"text-align: right;\">  Effective Gross Income for d8443e6d-9080-4154-89e3-29f0e98ed90a [buildingAofficeFloor7]</th><th style=\"text-align: right;\">  Effective Gross Income for f8945b4f-6f59-4c5a-a83f-462a97f2dcc4 [buildingAofficeFloor8]</th><th style=\"text-align: right;\">  Effective Gross Income for b548b184-1643-4c23-9b14-9025aeda59c3 [buildingAofficeFloor9]</th><th style=\"text-align: right;\">  Effective Gross Income for e8048367-edd2-4a61-ae0f-fd878688c910 [buildingAofficeFloor10]</th></tr>\n</thead>\n<tbody>\n<tr><td style=\"text-align: right;\">  2001</td><td style=\"text-align: right;\">                                                                              $944,849.16</td><td style=\"text-align: right;\">                                                                              $829,281.46</td><td style=\"text-align: right;\">                                                                              $829,281.46</td><td style=\"text-align: right;\">                                                                              $829,281.46</td><td style=\"text-align: right;\">                                                                              $829,281.46</td><td style=\"text-align: right;\">                                                                              $829,281.46</td><td style=\"text-align: right;\">                                                                              $829,281.46</td><td style=\"text-align: right;\">                                                                              $829,281.46</td><td style=\"text-align: right;\">                                                                              $829,281.46</td><td style=\"text-align: right;\">                                                                               $829,281.46</td></tr>\n<tr><td style=\"text-align: right;\">  2002</td><td style=\"text-align: right;\">                                                                              $968,470.39</td><td style=\"text-align: right;\">                                                                              $850,013.49</td><td style=\"text-align: right;\">                                                                              $850,013.49</td><td style=\"text-align: right;\">                                                                              $850,013.49</td><td style=\"text-align: right;\">                                                                              $850,013.49</td><td style=\"text-align: right;\">                                                                              $850,013.49</td><td style=\"text-align: right;\">                                                                              $850,013.49</td><td style=\"text-align: right;\">                                                                              $850,013.49</td><td style=\"text-align: right;\">                                                                              $850,013.49</td><td style=\"text-align: right;\">                                                                               $850,013.49</td></tr>\n<tr><td style=\"text-align: right;\">  2003</td><td style=\"text-align: right;\">                                                                              $992,682.15</td><td style=\"text-align: right;\">                                                                              $871,263.83</td><td style=\"text-align: right;\">                                                                              $871,263.83</td><td style=\"text-align: right;\">                                                                              $871,263.83</td><td style=\"text-align: right;\">                                                                              $871,263.83</td><td style=\"text-align: right;\">                                                                              $871,263.83</td><td style=\"text-align: right;\">                                                                              $871,263.83</td><td style=\"text-align: right;\">                                                                              $871,263.83</td><td style=\"text-align: right;\">                                                                              $871,263.83</td><td style=\"text-align: right;\">                                                                               $871,263.83</td></tr>\n<tr><td style=\"text-align: right;\">  2004</td><td style=\"text-align: right;\">                                                                            $1,017,499.20</td><td style=\"text-align: right;\">                                                                              $893,045.43</td><td style=\"text-align: right;\">                                                                              $893,045.43</td><td style=\"text-align: right;\">                                                                              $893,045.43</td><td style=\"text-align: right;\">                                                                              $893,045.43</td><td style=\"text-align: right;\">                                                                              $893,045.43</td><td style=\"text-align: right;\">                                                                              $893,045.43</td><td style=\"text-align: right;\">                                                                              $893,045.43</td><td style=\"text-align: right;\">                                                                              $893,045.43</td><td style=\"text-align: right;\">                                                                               $893,045.43</td></tr>\n<tr><td style=\"text-align: right;\">  2005</td><td style=\"text-align: right;\">                                                                            $1,042,936.68</td><td style=\"text-align: right;\">                                                                              $915,371.56</td><td style=\"text-align: right;\">                                                                              $915,371.56</td><td style=\"text-align: right;\">                                                                              $915,371.56</td><td style=\"text-align: right;\">                                                                              $915,371.56</td><td style=\"text-align: right;\">                                                                              $915,371.56</td><td style=\"text-align: right;\">                                                                              $915,371.56</td><td style=\"text-align: right;\">                                                                              $915,371.56</td><td style=\"text-align: right;\">                                                                              $915,371.56</td><td style=\"text-align: right;\">                                                                               $915,371.56</td></tr>\n<tr><td style=\"text-align: right;\">  2006</td><td style=\"text-align: right;\">                                                                            $1,069,010.10</td><td style=\"text-align: right;\">                                                                              $938,255.85</td><td style=\"text-align: right;\">                                                                              $938,255.85</td><td style=\"text-align: right;\">                                                                              $938,255.85</td><td style=\"text-align: right;\">                                                                              $938,255.85</td><td style=\"text-align: right;\">                                                                              $938,255.85</td><td style=\"text-align: right;\">                                                                              $938,255.85</td><td style=\"text-align: right;\">                                                                              $938,255.85</td><td style=\"text-align: right;\">                                                                              $938,255.85</td><td style=\"text-align: right;\">                                                                               $938,255.85</td></tr>\n<tr><td style=\"text-align: right;\">  2007</td><td style=\"text-align: right;\">                                                                            $1,095,735.35</td><td style=\"text-align: right;\">                                                                              $961,712.25</td><td style=\"text-align: right;\">                                                                              $961,712.25</td><td style=\"text-align: right;\">                                                                              $961,712.25</td><td style=\"text-align: right;\">                                                                              $961,712.25</td><td style=\"text-align: right;\">                                                                              $961,712.25</td><td style=\"text-align: right;\">                                                                              $961,712.25</td><td style=\"text-align: right;\">                                                                              $961,712.25</td><td style=\"text-align: right;\">                                                                              $961,712.25</td><td style=\"text-align: right;\">                                                                               $961,712.25</td></tr>\n<tr><td style=\"text-align: right;\">  2008</td><td style=\"text-align: right;\">                                                                            $1,123,128.74</td><td style=\"text-align: right;\">                                                                              $985,755.05</td><td style=\"text-align: right;\">                                                                              $985,755.05</td><td style=\"text-align: right;\">                                                                              $985,755.05</td><td style=\"text-align: right;\">                                                                              $985,755.05</td><td style=\"text-align: right;\">                                                                              $985,755.05</td><td style=\"text-align: right;\">                                                                              $985,755.05</td><td style=\"text-align: right;\">                                                                              $985,755.05</td><td style=\"text-align: right;\">                                                                              $985,755.05</td><td style=\"text-align: right;\">                                                                               $985,755.05</td></tr>\n<tr><td style=\"text-align: right;\">  2009</td><td style=\"text-align: right;\">                                                                            $1,151,206.95</td><td style=\"text-align: right;\">                                                                            $1,010,398.93</td><td style=\"text-align: right;\">                                                                            $1,010,398.93</td><td style=\"text-align: right;\">                                                                            $1,010,398.93</td><td style=\"text-align: right;\">                                                                            $1,010,398.93</td><td style=\"text-align: right;\">                                                                            $1,010,398.93</td><td style=\"text-align: right;\">                                                                            $1,010,398.93</td><td style=\"text-align: right;\">                                                                            $1,010,398.93</td><td style=\"text-align: right;\">                                                                            $1,010,398.93</td><td style=\"text-align: right;\">                                                                             $1,010,398.93</td></tr>\n<tr><td style=\"text-align: right;\">  2010</td><td style=\"text-align: right;\">                                                                            $1,179,987.13</td><td style=\"text-align: right;\">                                                                            $1,035,658.90</td><td style=\"text-align: right;\">                                                                            $1,035,658.90</td><td style=\"text-align: right;\">                                                                            $1,035,658.90</td><td style=\"text-align: right;\">                                                                            $1,035,658.90</td><td style=\"text-align: right;\">                                                                            $1,035,658.90</td><td style=\"text-align: right;\">                                                                            $1,035,658.90</td><td style=\"text-align: right;\">                                                                            $1,035,658.90</td><td style=\"text-align: right;\">                                                                            $1,035,658.90</td><td style=\"text-align: right;\">                                                                             $1,035,658.90</td></tr>\n<tr><td style=\"text-align: right;\">  2011</td><td style=\"text-align: right;\">                                                                            $1,209,486.81</td><td style=\"text-align: right;\">                                                                            $1,061,550.37</td><td style=\"text-align: right;\">                                                                            $1,061,550.37</td><td style=\"text-align: right;\">                                                                            $1,061,550.37</td><td style=\"text-align: right;\">                                                                            $1,061,550.37</td><td style=\"text-align: right;\">                                                                            $1,061,550.37</td><td style=\"text-align: right;\">                                                                            $1,061,550.37</td><td style=\"text-align: right;\">                                                                            $1,061,550.37</td><td style=\"text-align: right;\">                                                                            $1,061,550.37</td><td style=\"text-align: right;\">                                                                             $1,061,550.37</td></tr>\n</tbody>\n</table>"
     },
     "execution_count": 252,
     "metadata": {},
     "output_type": "execute_result"
    }
   ],
   "source": [
    "buildingAoffice = [e for (id, e) in spatial_containment.get_entities().items() if e.name == 'buildingAoffice'][0]\n",
    "print(buildingAoffice.name)\n",
    "buildingAoffice['subtotal_egi']"
   ]
  },
  {
   "cell_type": "markdown",
   "metadata": {
    "collapsed": false
   },
   "source": [
    "We can also easily sum and collapse that aggregation, as it is a Stream`:"
   ]
  },
  {
   "cell_type": "code",
   "execution_count": 253,
   "metadata": {
    "collapsed": false,
    "ExecuteTime": {
     "end_time": "2023-06-29T14:21:28.811829Z",
     "start_time": "2023-06-29T14:21:28.765080Z"
    }
   },
   "outputs": [
    {
     "data": {
      "text/plain": "<rangekeeper.flux.Flow at 0x2f4e32920>",
      "text/html": "<table>\n<thead>\n<tr><th style=\"text-align: right;\">               date</th><th style=\"text-align: right;\">  Effective Gross Income for bfc1c272-665f-432d-a7b3-a4c955556e7f [buildingAoffice] Aggregation (sum)</th></tr>\n</thead>\n<tbody>\n<tr><td style=\"text-align: right;\">2001-12-31 00:00:00</td><td style=\"text-align: right;\">                                                                                        $8,408,382.26</td></tr>\n<tr><td style=\"text-align: right;\">2002-12-31 00:00:00</td><td style=\"text-align: right;\">                                                                                        $8,618,591.82</td></tr>\n<tr><td style=\"text-align: right;\">2003-12-31 00:00:00</td><td style=\"text-align: right;\">                                                                                        $8,834,056.61</td></tr>\n<tr><td style=\"text-align: right;\">2004-12-31 00:00:00</td><td style=\"text-align: right;\">                                                                                        $9,054,908.03</td></tr>\n<tr><td style=\"text-align: right;\">2005-12-31 00:00:00</td><td style=\"text-align: right;\">                                                                                        $9,281,280.73</td></tr>\n<tr><td style=\"text-align: right;\">2006-12-31 00:00:00</td><td style=\"text-align: right;\">                                                                                        $9,513,312.75</td></tr>\n<tr><td style=\"text-align: right;\">2007-12-31 00:00:00</td><td style=\"text-align: right;\">                                                                                        $9,751,145.57</td></tr>\n<tr><td style=\"text-align: right;\">2008-12-31 00:00:00</td><td style=\"text-align: right;\">                                                                                        $9,994,924.20</td></tr>\n<tr><td style=\"text-align: right;\">2009-12-31 00:00:00</td><td style=\"text-align: right;\">                                                                                       $10,244,797.31</td></tr>\n<tr><td style=\"text-align: right;\">2010-12-31 00:00:00</td><td style=\"text-align: right;\">                                                                                       $10,500,917.24</td></tr>\n<tr><td style=\"text-align: right;\">2011-12-31 00:00:00</td><td style=\"text-align: right;\">                                                                                       $10,763,440.17</td></tr>\n</tbody>\n</table>"
     },
     "execution_count": 253,
     "metadata": {},
     "output_type": "execute_result"
    }
   ],
   "source": [
    "buildingAoffice['subtotal_egi'].sum()"
   ]
  },
  {
   "cell_type": "code",
   "execution_count": 254,
   "metadata": {
    "collapsed": false,
    "ExecuteTime": {
     "end_time": "2023-06-29T14:21:28.811986Z",
     "start_time": "2023-06-29T14:21:28.770250Z"
    }
   },
   "outputs": [
    {
     "data": {
      "text/plain": "<rangekeeper.flux.Flow at 0x2f4e32e90>",
      "text/html": "<table>\n<thead>\n<tr><th style=\"text-align: right;\">               date</th><th style=\"text-align: right;\">  Effective Gross Income for bfc1c272-665f-432d-a7b3-a4c955556e7f [buildingAoffice] Aggregation (sum)</th></tr>\n</thead>\n<tbody>\n<tr><td style=\"text-align: right;\">2011-12-31 00:00:00</td><td style=\"text-align: right;\">                                                                                      $104,965,756.69</td></tr>\n</tbody>\n</table>"
     },
     "execution_count": 254,
     "metadata": {},
     "output_type": "execute_result"
    }
   ],
   "source": [
    "buildingAoffice['subtotal_egi'].sum().collapse()"
   ]
  },
  {
   "cell_type": "markdown",
   "metadata": {
    "collapsed": false
   },
   "source": [
    "The above subtotals the Effective Gross Income (EGI) for the office space of\n",
    "Building A over the period of the scenario.\n",
    "\n",
    "We can then do this for all `Entity`s in the graph, and plot the results:"
   ]
  },
  {
   "cell_type": "code",
   "execution_count": 255,
   "metadata": {
    "collapsed": false,
    "ExecuteTime": {
     "end_time": "2023-06-29T14:21:29.296528Z",
     "start_time": "2023-06-29T14:21:28.781944Z"
    }
   },
   "outputs": [
    {
     "data": {
      "text/plain": "<IPython.lib.display.IFrame at 0x2f27dfa00>",
      "text/html": "\n        <iframe\n            width=\"100%\"\n            height=\"1600\"\n            src=\"./aggregate_egis_chart.html\"\n            frameborder=\"0\"\n            allowfullscreen\n            \n        ></iframe>\n        "
     },
     "execution_count": 255,
     "metadata": {},
     "output_type": "execute_result"
    }
   ],
   "source": [
    "sunburst = spatial_containment.sunburst(property='subtotal_egi')\n",
    "treemap = spatial_containment.treemap(property='subtotal_egi')\n",
    "fig = plotly.subplots.make_subplots(\n",
    "    rows=2, cols=1,\n",
    "    specs=[[{\"type\": \"sunburst\"}], [{\"type\": \"treemap\"}]])\n",
    "fig.append_trace(sunburst, row=1, col=1)\n",
    "fig.append_trace(treemap, row=2, col=1)\n",
    "filename='aggregate_egis_chart.html'\n",
    "py.plot(fig, filename='assets/{0}'.format(filename), auto_open=False)\n",
    "IFrame(src=\"./{0}\".format(filename), width='100%', height=800 * len(fig.data))"
   ]
  },
  {
   "cell_type": "markdown",
   "metadata": {
    "collapsed": false
   },
   "source": [
    "### Cost-generating Entities\n",
    "Let's now do the same for the cost-generating `Entity`s. While it is routine to\n",
    "register revenue-generating `Flow`s with `Entity`s that have lettable or\n",
    "sellable floor space, the convention to also register all cost-generating\n",
    "`Flow`s with only those same `Entity`s is possibly only done out of convenience\n",
    "rather than accuracy.\n",
    "\n",
    "For example, both operating and capital expenses may be attributed to building\n",
    "systems (e.g. maintenance, upgrading, & replacement of MEP or facade\n",
    "componentry) that are not coincident with the floor space they are servicing.\n",
    "Ie, the convention to average (sub)total costs across (sub)total floor space may\n",
    "be misleading, especially when attempting to compare different scenarios at\n",
    "different resolutions (See {cite}`farevuu2018`, 5.4 Flaw of Averages).\n",
    "\n",
    "By virtue of *Rangekeeper*'s multi-faceted approach to its object model, costs\n",
    "can be attributed and aggregated to `Entity`s that are not spatially coincident\n",
    "with the revenue-generating `Entity`s; in the example design scenario, we will\n",
    "use the 'services' relationship-type to register and aggregate some of these,\n",
    "while space-specific costs will be registered and aggregated via spatial\n",
    "containment:"
   ]
  },
  {
   "cell_type": "markdown",
   "source": [
    "#### Operational and Capital Expenses of Building Utilities & Systems\n",
    "Of course, in a simplified model and without knowing design and engineering\n",
    "details for the scenario, costs for operational and capital expenses will be\n",
    "calculated from some proportional rate of spatial characteristics of the\n",
    "building. In this example, we will use the following as simplifications of how\n",
    "these types of costs may be calculated. Note that this is more a demonstration\n",
    "of methodology, and in practice would adjust to real-world data about the\n",
    "specific building systems and their costs.\n",
    "-  'Floorplate-derived' Operational and Capital Expenses will be calculated as a\n",
    "function of the subtotal floorplate area of 'building' `Entity`s. One could\n",
    "think of this as representing the cost of operating the floor's MEP, or\n",
    "maintaining, repairing and upgrading elements on the floors themselves\n",
    "(e.g. FF&E)\n",
    "- 'Facade-derived' Operational Expenses will be calculated as a function of the\n",
    "  surface area of 'building' `Entity`. This would represent the cost of facade\n",
    "maintenance, repair or replacement.\n",
    "- 'Utility-derived' Capital Expenses will be calculated as a function of the\n",
    "- volume of 'utility' `Entity`s. This represents the cost of repairing and\n",
    "upgrading the building's MEP and transportation systems.\n"
   ],
   "metadata": {
    "collapsed": false
   }
  },
  {
   "cell_type": "markdown",
   "source": [
    "#### Cost `Flow`s per `Entity`\n",
    "There are some properties of `Entity`s that we need to produce before we can\n",
    "calculate `Flow`s off them. In this case we need to produce the facade area\n",
    "for any `Entity`s that have 'perimeter' and 'ftf' (Floor-to-Floor height)\n",
    "properties:\n"
   ],
   "metadata": {
    "collapsed": false
   }
  },
  {
   "cell_type": "code",
   "execution_count": 256,
   "outputs": [],
   "source": [
    "# Aggregate Facade Areas:\n",
    "for (entityId, entity) in scenario.get_entities().items():\n",
    "    if hasattr(entity, 'perimeter') & hasattr(entity, 'ftf'):\n",
    "        entity['facade_area'] = entity['perimeter'] * entity['ftf']\n",
    "spatial_containment.aggregate(\n",
    "    property='facade_area',\n",
    "    label='subtotal_facade_area')"
   ],
   "metadata": {
    "collapsed": false,
    "ExecuteTime": {
     "end_time": "2023-06-29T14:21:29.301809Z",
     "start_time": "2023-06-29T14:21:29.296622Z"
    }
   }
  },
  {
   "cell_type": "markdown",
   "source": [
    "We now set up operational and capital costing parameters that are based off\n",
    "either areas or volume, as well as growth rates:"
   ],
   "metadata": {
    "collapsed": false
   }
  },
  {
   "cell_type": "code",
   "execution_count": 257,
   "outputs": [],
   "source": [
    "floor_opex_per_area_pa = dict(\n",
    "    office=-150,\n",
    "    retail=-225,\n",
    "    residential=-125,\n",
    "    parking=-65,\n",
    "    )\n",
    "facade_opex_per_area_pa = dict(\n",
    "    office=-50,\n",
    "    retail=-100,\n",
    "    residential=-50,\n",
    "    parking=-25,\n",
    "    )\n",
    "opex_growth_rate = 0.035\n",
    "floor_capex_per_area_pa = dict(\n",
    "    office=-100,\n",
    "    retail=-150,\n",
    "    residential=-75,\n",
    "    parking=-50,\n",
    "    )\n",
    "cores_capex_per_vol_pa = -100\n",
    "plant_capex_per_vol_pa = -1000\n",
    "capex_growth_rate = 0.035"
   ],
   "metadata": {
    "collapsed": false,
    "ExecuteTime": {
     "end_time": "2023-06-29T14:21:29.308162Z",
     "start_time": "2023-06-29T14:21:29.306167Z"
    }
   }
  },
  {
   "cell_type": "markdown",
   "source": [
    "Now we can set up our `Costs` class to produce cost `Flow`s and `Stream`s:"
   ],
   "metadata": {
    "collapsed": false
   }
  },
  {
   "cell_type": "code",
   "execution_count": 258,
   "outputs": [],
   "source": [
    "class Costs:\n",
    "    def __init__(\n",
    "            self,\n",
    "            params: dict,\n",
    "            spans: Spans):\n",
    "        self.params = params\n",
    "        self.spans = spans"
   ],
   "metadata": {
    "collapsed": false,
    "ExecuteTime": {
     "end_time": "2023-06-29T14:21:29.312155Z",
     "start_time": "2023-06-29T14:21:29.309132Z"
    }
   }
  },
  {
   "cell_type": "code",
   "execution_count": 259,
   "outputs": [],
   "source": [
    "@rk.update_class(Costs)\n",
    "class Costs:\n",
    "    def generate_space_costs(self):\n",
    "        floor_opex = rk.flux.Flow.from_projection(\n",
    "            name='Floor-derived Operating Expenses',\n",
    "            value=self.params['initial_floor_opex'],\n",
    "            proj=rk.projection.Extrapolation(\n",
    "            form=rk.extrapolation.Compounding(\n",
    "                rate=self.params['opex_growth_rate']),\n",
    "            sequence=self.spans.calc_span.to_index(period_type=self.params['period_type'])),\n",
    "            units=currency.units)\n",
    "        facade_opex = rk.flux.Flow.from_projection(\n",
    "            name='Facade-derived Operating Expenses',\n",
    "            value=self.params['initial_facade_opex'],\n",
    "            proj=rk.projection.Extrapolation(\n",
    "            form=rk.extrapolation.Compounding(\n",
    "                rate=self.params['opex_growth_rate']),\n",
    "            sequence=self.spans.calc_span.to_index(period_type=self.params['period_type'])),\n",
    "            units=currency.units)\n",
    "        self.opex = rk.flux.Stream(\n",
    "            name='Space Operating Expenses',\n",
    "            flows=[floor_opex, facade_opex],\n",
    "            period_type=self.params['period_type'])\n",
    "\n",
    "        floor_capex = rk.flux.Flow.from_projection(\n",
    "            name='Floor-derived Capital Expenses',\n",
    "            value=self.params['initial_floor_capex'],\n",
    "            proj=rk.projection.Extrapolation(\n",
    "            form=rk.extrapolation.Compounding(\n",
    "                rate=self.params['capex_growth_rate']),\n",
    "            sequence=self.spans.calc_span.to_index(period_type=rk.periodicity.Type.SEMIDECADE)),\n",
    "            units=currency.units)\n",
    "        self.floor_capex = floor_capex.trim_to_span(self.spans.calc_span)  # This is to avoid issues with using >yearly periodicity in projection"
   ],
   "metadata": {
    "collapsed": false,
    "ExecuteTime": {
     "end_time": "2023-06-29T14:21:29.317062Z",
     "start_time": "2023-06-29T14:21:29.311760Z"
    }
   }
  },
  {
   "cell_type": "markdown",
   "source": [
    "We will split the generation of space-based costs from the utility-based costs,\n",
    "as they will be applied to different `Entity` types:"
   ],
   "metadata": {
    "collapsed": false
   }
  },
  {
   "cell_type": "code",
   "execution_count": 260,
   "outputs": [],
   "source": [
    "@rk.update_class(Costs)\n",
    "class Costs:\n",
    "    def generate_utils_costs(self):\n",
    "        utils_capex = rk.flux.Flow.from_projection(\n",
    "            name='Utilities-derived Capital Expenses',\n",
    "            value=self.params['initial_utility_capex'],\n",
    "            proj=rk.projection.Extrapolation(\n",
    "                form=rk.extrapolation.Compounding(\n",
    "                    rate=self.params['capex_growth_rate']),\n",
    "                sequence=self.spans.calc_span.to_index(period_type=rk.periodicity.Type.SEMIDECADE)),\n",
    "            units=currency.units)\n",
    "        self.utils_capex = utils_capex.trim_to_span(self.spans.calc_span)  # This is to avoid issues with using >yearly periodicity in projection"
   ],
   "metadata": {
    "collapsed": false,
    "ExecuteTime": {
     "end_time": "2023-06-29T14:21:29.348306Z",
     "start_time": "2023-06-29T14:21:29.318566Z"
    }
   }
  },
  {
   "cell_type": "markdown",
   "source": [
    "Now we can run the `Costs` class against 'floor' and 'utilities' `Entity`s:"
   ],
   "metadata": {
    "collapsed": false
   }
  },
  {
   "cell_type": "code",
   "execution_count": 261,
   "outputs": [],
   "source": [
    "for floor in floors:\n",
    "    floor_params = params.copy()\n",
    "\n",
    "    floor_params['initial_floor_opex'] = floor_opex_per_area_pa[floor['use']] * floor['subtotal_gfa']\n",
    "    floor_params['initial_facade_opex'] = facade_opex_per_area_pa[floor['use']] * floor['subtotal_facade_area']\n",
    "    floor_params['initial_floor_capex'] = floor_capex_per_area_pa[floor['use']] * floor['subtotal_gfa']\n",
    "    floor_params['opex_growth_rate'] = opex_growth_rate\n",
    "    floor_params['capex_growth_rate'] = capex_growth_rate\n",
    "    floor['params'] = floor_params\n",
    "\n",
    "    floor['events'] = {} if not hasattr(floor, 'events') else floor['events']\n",
    "\n",
    "    costs = Costs(\n",
    "        params=floor_params,\n",
    "        spans=spans)\n",
    "    costs.generate_space_costs()\n",
    "\n",
    "    floor['opex'] = costs.opex\n",
    "    floor['capex'] = costs.floor_capex"
   ],
   "metadata": {
    "collapsed": false,
    "ExecuteTime": {
     "end_time": "2023-06-29T14:21:29.477535Z",
     "start_time": "2023-06-29T14:21:29.334725Z"
    }
   }
  },
  {
   "cell_type": "code",
   "execution_count": 262,
   "outputs": [
    {
     "data": {
      "text/plain": "{'8d9f92cf-5613-4de4-b99b-7681aa76b4cd': Entity: plinthplant (Type: utilities),\n '55963d84-702d-423d-be05-c8bb6e88f517': Entity: buildingAcores (Type: utilities),\n '71fd4551-8e65-4e7a-8e2a-9d18e69146b0': Entity: buildingBcores (Type: utilities)}"
     },
     "execution_count": 262,
     "metadata": {},
     "output_type": "execute_result"
    }
   ],
   "source": [
    "utilities = scenario.filter_by_type(entity_type='utilities', is_assembly=False)\n",
    "utilities.get_entities()"
   ],
   "metadata": {
    "collapsed": false,
    "ExecuteTime": {
     "end_time": "2023-06-29T14:21:29.482344Z",
     "start_time": "2023-06-29T14:21:29.478605Z"
    }
   }
  },
  {
   "cell_type": "code",
   "execution_count": 263,
   "outputs": [],
   "source": [
    "for utility in utilities.get_entities().values():\n",
    "    utility_params = params.copy()\n",
    "\n",
    "    if 'plant' in utility['name']:\n",
    "        utility_params['initial_utility_capex'] = plant_capex_per_vol_pa * utility['volume']\n",
    "    elif 'cores' in utility['name']:\n",
    "        utility_params['initial_utility_capex'] = cores_capex_per_vol_pa * utility['volume']\n",
    "    utility_params['capex_growth_rate'] = capex_growth_rate\n",
    "    utility['params'] = utility_params\n",
    "\n",
    "    utility['events'] = {} if not hasattr(utility, 'events') else utility['events']\n",
    "\n",
    "    costs = Costs(\n",
    "        params=utility_params,\n",
    "        spans=spans)\n",
    "    costs.generate_utils_costs()\n",
    "\n",
    "    utility['capex'] = costs.utils_capex"
   ],
   "metadata": {
    "collapsed": false,
    "ExecuteTime": {
     "end_time": "2023-06-29T14:21:29.491158Z",
     "start_time": "2023-06-29T14:21:29.483207Z"
    }
   }
  },
  {
   "cell_type": "code",
   "execution_count": 264,
   "outputs": [
    {
     "data": {
      "text/plain": "<rangekeeper.flux.Flow at 0x2e8c4f610>",
      "text/html": "<table>\n<thead>\n<tr><th style=\"text-align: right;\">               date</th><th style=\"text-align: right;\">  Utilities-derived Capital Expenses</th></tr>\n</thead>\n<tbody>\n<tr><td style=\"text-align: right;\">2005-12-31 00:00:00</td><td style=\"text-align: right;\">                        -$729,061.23</td></tr>\n<tr><td style=\"text-align: right;\">2010-12-31 00:00:00</td><td style=\"text-align: right;\">                        -$754,578.37</td></tr>\n</tbody>\n</table>"
     },
     "execution_count": 264,
     "metadata": {},
     "output_type": "execute_result"
    }
   ],
   "source": [
    "list(utilities.get_entities().values())[0]['capex']"
   ],
   "metadata": {
    "collapsed": false,
    "ExecuteTime": {
     "end_time": "2023-06-29T14:21:29.498267Z",
     "start_time": "2023-06-29T14:21:29.492938Z"
    }
   }
  },
  {
   "cell_type": "markdown",
   "source": [
    "And finally aggregate them:"
   ],
   "metadata": {
    "collapsed": false
   }
  },
  {
   "cell_type": "code",
   "execution_count": 265,
   "outputs": [],
   "source": [
    "def aggregate_opex(**kwargs):\n",
    "    return rk.graph.Entity.aggregate_flows(\n",
    "        **kwargs,\n",
    "        name='Operational Expenses',\n",
    "        period_type=period_type)\n",
    "scenario.aggregate(\n",
    "    function=aggregate_opex,\n",
    "    property='opex',\n",
    "    label='subtotal_opex',\n",
    "    relationship_type='spatiallyContains')"
   ],
   "metadata": {
    "collapsed": false,
    "ExecuteTime": {
     "end_time": "2023-06-29T14:21:29.731095Z",
     "start_time": "2023-06-29T14:21:29.509853Z"
    }
   }
  },
  {
   "cell_type": "code",
   "execution_count": 266,
   "outputs": [],
   "source": [
    "def aggregate_capex(**kwargs):\n",
    "    return rk.graph.Entity.aggregate_flows(\n",
    "        **kwargs,\n",
    "        name='Capital Expenses',\n",
    "        period_type=period_type)\n",
    "scenario.aggregate(\n",
    "    function=aggregate_capex,\n",
    "    property='capex',\n",
    "    label='subtotal_capex',\n",
    "    relationship_type='spatiallyContains')"
   ],
   "metadata": {
    "collapsed": false,
    "ExecuteTime": {
     "end_time": "2023-06-29T14:21:29.870256Z",
     "start_time": "2023-06-29T14:21:29.746320Z"
    }
   }
  },
  {
   "cell_type": "markdown",
   "source": [
    "If we wish to see the ultimate aggregation of those costs, we can do so by\n",
    "totalling them at their root `Entity`:"
   ],
   "metadata": {
    "collapsed": false
   }
  },
  {
   "cell_type": "code",
   "execution_count": 267,
   "outputs": [
    {
     "data": {
      "text/plain": "<rangekeeper.flux.Stream at 0x2f4ca0b20>",
      "text/html": "<table>\n<thead>\n<tr><th style=\"text-align: right;\">  date</th><th style=\"text-align: right;\">  Floor-derived Capital Expenses for c11f68da-0544-487b-9cb9-8a3a3a98a9b8 [buildingBresidentialFloor0]</th><th style=\"text-align: right;\">  Floor-derived Capital Expenses for cfc3edf5-1e7d-4499-b25f-ee86ed013516 [buildingBresidentialFloor1]</th><th style=\"text-align: right;\">  Floor-derived Capital Expenses for 3e158dd9-aa5d-47bb-bc13-4b3e6d328fe1 [buildingBresidentialFloor2]</th><th style=\"text-align: right;\">  Floor-derived Capital Expenses for b8609a1e-b9f8-44a0-ab98-468ff247d753 [buildingBresidentialFloor3]</th><th style=\"text-align: right;\">  Floor-derived Capital Expenses for f68d2f9b-13c5-42e2-9bca-1826f7eff481 [buildingBresidentialFloor4]</th><th style=\"text-align: right;\">  Floor-derived Capital Expenses for ec086fbc-7b21-4958-b456-9bce6a883c98 [buildingBresidentialFloor5]</th><th style=\"text-align: right;\">  Floor-derived Capital Expenses for 9ecaf92a-a90e-4572-a426-3ed392e0c28a [buildingBresidentialFloor6]</th><th style=\"text-align: right;\">  Floor-derived Capital Expenses for 9a884f88-0627-4eb7-b1ec-80ea39b0a25b [buildingBresidentialFloor0]</th><th style=\"text-align: right;\">  Floor-derived Capital Expenses for d7dd5233-b1c3-451f-ae90-5a80fed205bd [buildingBparkingFloor0]</th><th style=\"text-align: right;\">  Floor-derived Capital Expenses for 4acebff3-f17b-44fb-ba29-6bc02053b329 [buildingBretailFloor0]</th><th style=\"text-align: right;\">  Utilities-derived Capital Expenses for 71fd4551-8e65-4e7a-8e2a-9d18e69146b0 [buildingBcores]</th></tr>\n</thead>\n<tbody>\n<tr><td style=\"text-align: right;\">  2005</td><td style=\"text-align: right;\">                                                                                           -$57,445.62</td><td style=\"text-align: right;\">                                                                                          -$177,079.20</td><td style=\"text-align: right;\">                                                                                          -$177,079.20</td><td style=\"text-align: right;\">                                                                                          -$151,196.70</td><td style=\"text-align: right;\">                                                                                          -$151,196.70</td><td style=\"text-align: right;\">                                                                                           -$65,626.12</td><td style=\"text-align: right;\">                                                                                           -$65,626.12</td><td style=\"text-align: right;\">                                                                                           -$12,955.58</td><td style=\"text-align: right;\">                                                                                       -$58,908.24</td><td style=\"text-align: right;\">                                                                                     -$122,397.52</td><td style=\"text-align: right;\">                                                                                  -$865,663.39</td></tr>\n<tr><td style=\"text-align: right;\">  2006</td><td style=\"text-align: right;\">                                                                                                 $0.00</td><td style=\"text-align: right;\">                                                                                                 $0.00</td><td style=\"text-align: right;\">                                                                                                 $0.00</td><td style=\"text-align: right;\">                                                                                                 $0.00</td><td style=\"text-align: right;\">                                                                                                 $0.00</td><td style=\"text-align: right;\">                                                                                                 $0.00</td><td style=\"text-align: right;\">                                                                                                 $0.00</td><td style=\"text-align: right;\">                                                                                                 $0.00</td><td style=\"text-align: right;\">                                                                                             $0.00</td><td style=\"text-align: right;\">                                                                                            $0.00</td><td style=\"text-align: right;\">                                                                                         $0.00</td></tr>\n<tr><td style=\"text-align: right;\">  2007</td><td style=\"text-align: right;\">                                                                                                 $0.00</td><td style=\"text-align: right;\">                                                                                                 $0.00</td><td style=\"text-align: right;\">                                                                                                 $0.00</td><td style=\"text-align: right;\">                                                                                                 $0.00</td><td style=\"text-align: right;\">                                                                                                 $0.00</td><td style=\"text-align: right;\">                                                                                                 $0.00</td><td style=\"text-align: right;\">                                                                                                 $0.00</td><td style=\"text-align: right;\">                                                                                                 $0.00</td><td style=\"text-align: right;\">                                                                                             $0.00</td><td style=\"text-align: right;\">                                                                                            $0.00</td><td style=\"text-align: right;\">                                                                                         $0.00</td></tr>\n<tr><td style=\"text-align: right;\">  2008</td><td style=\"text-align: right;\">                                                                                                 $0.00</td><td style=\"text-align: right;\">                                                                                                 $0.00</td><td style=\"text-align: right;\">                                                                                                 $0.00</td><td style=\"text-align: right;\">                                                                                                 $0.00</td><td style=\"text-align: right;\">                                                                                                 $0.00</td><td style=\"text-align: right;\">                                                                                                 $0.00</td><td style=\"text-align: right;\">                                                                                                 $0.00</td><td style=\"text-align: right;\">                                                                                                 $0.00</td><td style=\"text-align: right;\">                                                                                             $0.00</td><td style=\"text-align: right;\">                                                                                            $0.00</td><td style=\"text-align: right;\">                                                                                         $0.00</td></tr>\n<tr><td style=\"text-align: right;\">  2009</td><td style=\"text-align: right;\">                                                                                                 $0.00</td><td style=\"text-align: right;\">                                                                                                 $0.00</td><td style=\"text-align: right;\">                                                                                                 $0.00</td><td style=\"text-align: right;\">                                                                                                 $0.00</td><td style=\"text-align: right;\">                                                                                                 $0.00</td><td style=\"text-align: right;\">                                                                                                 $0.00</td><td style=\"text-align: right;\">                                                                                                 $0.00</td><td style=\"text-align: right;\">                                                                                                 $0.00</td><td style=\"text-align: right;\">                                                                                             $0.00</td><td style=\"text-align: right;\">                                                                                            $0.00</td><td style=\"text-align: right;\">                                                                                         $0.00</td></tr>\n<tr><td style=\"text-align: right;\">  2010</td><td style=\"text-align: right;\">                                                                                           -$59,456.22</td><td style=\"text-align: right;\">                                                                                          -$183,276.97</td><td style=\"text-align: right;\">                                                                                          -$183,276.97</td><td style=\"text-align: right;\">                                                                                          -$156,488.59</td><td style=\"text-align: right;\">                                                                                          -$156,488.59</td><td style=\"text-align: right;\">                                                                                           -$67,923.03</td><td style=\"text-align: right;\">                                                                                           -$67,923.03</td><td style=\"text-align: right;\">                                                                                           -$13,409.02</td><td style=\"text-align: right;\">                                                                                       -$60,970.03</td><td style=\"text-align: right;\">                                                                                     -$126,681.43</td><td style=\"text-align: right;\">                                                                                  -$895,961.61</td></tr>\n</tbody>\n</table>"
     },
     "execution_count": 267,
     "metadata": {},
     "output_type": "execute_result"
    }
   ],
   "source": [
    "buildingB = [e for e in scenario.get_entities().values() if e['name'] == 'buildingB'][0]\n",
    "buildingB['subtotal_capex']"
   ],
   "metadata": {
    "collapsed": false,
    "ExecuteTime": {
     "end_time": "2023-06-29T14:21:29.885634Z",
     "start_time": "2023-06-29T14:21:29.864416Z"
    }
   }
  },
  {
   "cell_type": "code",
   "execution_count": 268,
   "outputs": [],
   "source": [
    "scenario_opex = scenario.get_roots()['spatiallyContains'][0]['subtotal_opex'].sum()\n",
    "scenario_capex = scenario.get_roots()['spatiallyContains'][0]['subtotal_capex'].sum()"
   ],
   "metadata": {
    "collapsed": false,
    "ExecuteTime": {
     "end_time": "2023-06-29T14:21:29.889219Z",
     "start_time": "2023-06-29T14:21:29.883488Z"
    }
   }
  },
  {
   "cell_type": "code",
   "execution_count": 269,
   "outputs": [
    {
     "name": "stdout",
     "output_type": "stream",
     "text": [
      "Scenario OPEX: $-7,655,727.08\n",
      "Scenario CAPEX: $-2,134,823.79\n"
     ]
    }
   ],
   "source": [
    "print('Scenario OPEX: ${:,.2f}'.format(scenario_opex.movements.mean()))\n",
    "print('Scenario CAPEX: ${:,.2f}'.format(scenario_capex.movements.mean()))"
   ],
   "metadata": {
    "collapsed": false,
    "ExecuteTime": {
     "end_time": "2023-06-29T14:21:29.908206Z",
     "start_time": "2023-06-29T14:21:29.890017Z"
    }
   }
  },
  {
   "cell_type": "markdown",
   "source": [
    "To get a sense check if this is reasonable, we can compare the opex and capex\n",
    "to the PGI. First let's aggregate the PGI for all `Entity`s:"
   ],
   "metadata": {
    "collapsed": false
   }
  },
  {
   "cell_type": "code",
   "execution_count": 270,
   "outputs": [],
   "source": [
    "def aggregate_pgis(**kwargs):\n",
    "    return rk.graph.Entity.aggregate_flows(\n",
    "        **kwargs,\n",
    "        name='Potential Gross Income',\n",
    "        period_type=period_type)"
   ],
   "metadata": {
    "collapsed": false,
    "ExecuteTime": {
     "end_time": "2023-06-29T14:21:29.908706Z",
     "start_time": "2023-06-29T14:21:29.892981Z"
    }
   }
  },
  {
   "cell_type": "code",
   "execution_count": 271,
   "outputs": [],
   "source": [
    "spatial_containment.aggregate(\n",
    "    property='pgi',\n",
    "    function=aggregate_pgis,\n",
    "    label='subtotal_pgi')"
   ],
   "metadata": {
    "collapsed": false,
    "ExecuteTime": {
     "end_time": "2023-06-29T14:21:30.024364Z",
     "start_time": "2023-06-29T14:21:29.915614Z"
    }
   }
  },
  {
   "cell_type": "markdown",
   "source": [
    "+And total it to the root `Entity`:"
   ],
   "metadata": {
    "collapsed": false
   }
  },
  {
   "cell_type": "code",
   "execution_count": 272,
   "outputs": [
    {
     "name": "stdout",
     "output_type": "stream",
     "text": [
      "Scenario PGI: $16,942,743.44\n"
     ]
    }
   ],
   "source": [
    "scenario_pgi = scenario.get_roots()['spatiallyContains'][0]['subtotal_pgi'].sum()\n",
    "print('Scenario PGI: ${:,.2f}'.format(scenario_pgi.movements[0]))"
   ],
   "metadata": {
    "collapsed": false,
    "ExecuteTime": {
     "end_time": "2023-06-29T14:21:30.031537Z",
     "start_time": "2023-06-29T14:21:30.024666Z"
    }
   }
  },
  {
   "cell_type": "markdown",
   "source": [
    "Now we can calculate the Expenses ratios:"
   ],
   "metadata": {
    "collapsed": false
   }
  },
  {
   "cell_type": "code",
   "execution_count": 285,
   "outputs": [
    {
     "name": "stdout",
     "output_type": "stream",
     "text": [
      "Scenario OpEx as proportion of PGI: 36.50%\n"
     ]
    }
   ],
   "source": [
    "print('Scenario OpEx as proportion of PGI: {:.2%}'.format(-scenario_opex.movements.mean() / scenario_pgi.movements.mean()))"
   ],
   "metadata": {
    "collapsed": false,
    "ExecuteTime": {
     "end_time": "2023-06-29T14:21:51.262145Z",
     "start_time": "2023-06-29T14:21:51.242724Z"
    }
   }
  },
  {
   "cell_type": "code",
   "execution_count": 286,
   "outputs": [
    {
     "name": "stdout",
     "output_type": "stream",
     "text": [
      "Scenario CapEx as proportion of PGI: 10.18%\n"
     ]
    }
   ],
   "source": [
    "print('Scenario CapEx as proportion of PGI: {:.2%}'.format(-scenario_capex.movements.mean() / scenario_pgi.movements.mean()))"
   ],
   "metadata": {
    "collapsed": false,
    "ExecuteTime": {
     "end_time": "2023-06-29T14:21:55.787497Z",
     "start_time": "2023-06-29T14:21:55.763743Z"
    }
   }
  },
  {
   "cell_type": "code",
   "execution_count": 275,
   "outputs": [
    {
     "data": {
      "text/plain": "<IPython.lib.display.IFrame at 0x2f5747f40>",
      "text/html": "\n        <iframe\n            width=\"100%\"\n            height=\"1600\"\n            src=\"./aggregate_exp_chart.html\"\n            frameborder=\"0\"\n            allowfullscreen\n            \n        ></iframe>\n        "
     },
     "execution_count": 275,
     "metadata": {},
     "output_type": "execute_result"
    }
   ],
   "source": [
    "opex = spatial_containment.sunburst(property='subtotal_opex')\n",
    "capex = spatial_containment.sunburst(property='subtotal_capex')\n",
    "fig = plotly.subplots.make_subplots(\n",
    "    rows=2, cols=1,\n",
    "    specs=[[{\"type\": \"sunburst\"}], [{\"type\": \"sunburst\"}]])\n",
    "fig.append_trace(opex, row=1, col=1)\n",
    "fig.append_trace(capex, row=2, col=1)\n",
    "filename='aggregate_exp_chart.html'\n",
    "py.plot(fig, filename='assets/{0}'.format(filename), auto_open=False)\n",
    "IFrame(src=\"./{0}\".format(filename), width='100%', height=800 * len(fig.data))"
   ],
   "metadata": {
    "collapsed": false,
    "ExecuteTime": {
     "end_time": "2023-06-29T14:21:30.537825Z",
     "start_time": "2023-06-29T14:21:30.043859Z"
    }
   }
  },
  {
   "cell_type": "markdown",
   "source": [
    "We can also calculate the net position of each `Entity` as its 'Net Annual\n",
    "Cashflow (NACF)':"
   ],
   "metadata": {
    "collapsed": false
   }
  },
  {
   "cell_type": "code",
   "execution_count": 277,
   "outputs": [],
   "source": [
    "for entity in scenario.get_entities().values():\n",
    "    flows = []\n",
    "    flows.append(getattr(entity, 'egi', None))\n",
    "    flows.append(getattr(entity, 'opex', None))\n",
    "    flows.append(getattr(entity, 'capex', None))\n",
    "    flows = [flow.sum() if isinstance(flow, rk.flux.Stream) else flow for flow in list(filter(None, flows))]\n",
    "\n",
    "    if len(flows) > 0:\n",
    "        entity['nacf'] = rk.flux.Stream(\n",
    "            name='Net Annual Cashflow',\n",
    "            flows=flows,\n",
    "            period_type=period_type)"
   ],
   "metadata": {
    "collapsed": false,
    "ExecuteTime": {
     "end_time": "2023-06-29T14:21:30.706987Z",
     "start_time": "2023-06-29T14:21:30.543927Z"
    }
   }
  },
  {
   "cell_type": "code",
   "execution_count": 278,
   "outputs": [],
   "source": [
    "def aggregate_nacf(**kwargs):\n",
    "    return rk.graph.Entity.aggregate_flows(\n",
    "        **kwargs,\n",
    "        name='Net Annual Cashflow',\n",
    "        period_type=period_type)\n",
    "scenario.aggregate(\n",
    "    function=aggregate_opex,\n",
    "    property='nacf',\n",
    "    label='subtotal_nacf',\n",
    "    relationship_type='spatiallyContains')"
   ],
   "metadata": {
    "collapsed": false,
    "ExecuteTime": {
     "end_time": "2023-06-29T14:21:31.098532Z",
     "start_time": "2023-06-29T14:21:30.707552Z"
    }
   }
  },
  {
   "cell_type": "code",
   "execution_count": 279,
   "outputs": [
    {
     "name": "stdout",
     "output_type": "stream",
     "text": [
      "Scenario NACF: $109,837,612.44\n"
     ]
    }
   ],
   "source": [
    "scenario_nacf = scenario.get_roots()['spatiallyContains'][0]['subtotal_nacf']\n",
    "print('Scenario NACF: ${:,.2f}'.format(scenario_nacf.total()))"
   ],
   "metadata": {
    "collapsed": false,
    "ExecuteTime": {
     "end_time": "2023-06-29T14:21:31.103944Z",
     "start_time": "2023-06-29T14:21:31.098642Z"
    }
   }
  }
 ],
 "metadata": {
  "kernelspec": {
   "display_name": "Python 3 (ipykernel)",
   "language": "python",
   "name": "python3"
  },
  "language_info": {
   "codemirror_mode": {
    "name": "ipython",
    "version": 3
   },
   "file_extension": ".py",
   "mimetype": "text/x-python",
   "name": "python",
   "nbconvert_exporter": "python",
   "pygments_lexer": "ipython3",
   "version": "3.10.4"
  }
 },
 "nbformat": 4,
 "nbformat_minor": 1
}
