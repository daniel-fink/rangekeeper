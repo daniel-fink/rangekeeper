{
 "cells": [
  {
   "cell_type": "markdown",
   "metadata": {},
   "source": [
    "# Driving a Financial Valuation from a Design Scenario"
   ]
  },
  {
   "cell_type": "markdown",
   "metadata": {},
   "source": [
    "```{warning}\n",
    "The following is a work in progress. More content will be added as produced.\n",
    "```"
   ]
  },
  {
   "cell_type": "markdown",
   "metadata": {
    "collapsed": false
   },
   "source": [
    "As seen in\n",
    "[Loading a Design Scenario](../load_design_scenario.ipynb),\n",
    "a design scenario's object model (a\n",
    "[knowledge graph](https://en.wikipedia.org/wiki/Knowledge_graph) including all\n",
    "its spatial and semantic relationships) can be loaded via Speckle from any of\n",
    "Speckle's supported [connectors](https://speckle.guide/user/connectors.html), so\n",
    "long as those objects (`Entity`s and `Relationship`s) have been assigned.\n",
    "\n",
    "In this notebook, we will demonstrate how to use the object model (graph) to\n",
    "drive a financial valuation of the design scenario. This is done by calculating\n",
    "cash flows per `Entity`, and then using the `Relationship`s to aggregate those\n",
    "`Flow`s into appropriate `Stream`s."
   ]
  },
  {
   "cell_type": "markdown",
   "metadata": {
    "collapsed": false
   },
   "source": [
    "## Load the Design Scenario\n",
    "We will use the same design scenario as in the previous notebook."
   ]
  },
  {
   "cell_type": "code",
   "execution_count": 1,
   "metadata": {
    "collapsed": false,
    "ExecuteTime": {
     "end_time": "2023-06-29T06:46:08.121485Z",
     "start_time": "2023-06-29T06:46:06.691133Z"
    }
   },
   "outputs": [],
   "source": [
    "import os\n",
    "\n",
    "import locale\n",
    "import pandas as pd\n",
    "import networkx as nx\n",
    "from IPython.display import IFrame\n",
    "import plotly.subplots\n",
    "import plotly.offline as py\n",
    "\n",
    "import rangekeeper as rk"
   ]
  },
  {
   "cell_type": "code",
   "execution_count": 2,
   "metadata": {
    "collapsed": false,
    "ExecuteTime": {
     "end_time": "2023-06-29T06:46:10.499561Z",
     "start_time": "2023-06-29T06:46:08.123021Z"
    }
   },
   "outputs": [
    {
     "name": "stdout",
     "output_type": "stream",
     "text": [
      "\n",
      " SpeckleClient( server: https://speckle.xyz, authenticated: True )\n"
     ]
    },
    {
     "data": {
      "text/plain": "<IPython.lib.display.IFrame at 0x10921c4c0>",
      "text/html": "\n        <iframe\n            width=\"100%\"\n            height=\"800\"\n            src=\"https://speckle.xyz/embed?stream=f5e306e3fa&commit=ad17a888c3\"\n            frameborder=\"0\"\n            allowfullscreen\n            \n        ></iframe>\n        "
     },
     "execution_count": 2,
     "metadata": {},
     "output_type": "execute_result"
    }
   ],
   "source": [
    "speckle = rk.api.Speckle(\n",
    "    host=\"speckle.xyz\",\n",
    "    token=os.getenv('SPECKLE_TOKEN'))\n",
    "stream_id = \"f5e306e3fa\"\n",
    "commit_id = speckle.get_latest_commit_id(stream_id)\n",
    "IFrame(\"https://speckle.xyz/embed?stream={0}&commit={1}\".format(stream_id, commit_id), width='100%', height=800)"
   ]
  },
  {
   "cell_type": "markdown",
   "metadata": {
    "collapsed": false
   },
   "source": [
    "### Inspect the Model Graph"
   ]
  },
  {
   "cell_type": "code",
   "execution_count": 3,
   "metadata": {
    "collapsed": false,
    "ExecuteTime": {
     "end_time": "2023-06-29T06:46:12.759432Z",
     "start_time": "2023-06-29T06:46:10.496630Z"
    }
   },
   "outputs": [
    {
     "name": "stdout",
     "output_type": "stream",
     "text": [
      "Warning: Duplicate Entity 29b746f5-42fe-4321-9a4a-8c65c9f0410c [utilities] found.\n",
      "Existing Entity is an Assembly while new Entity is not. Keeping Assembly.\n",
      "Warning: Duplicate Entity 29b746f5-42fe-4321-9a4a-8c65c9f0410c [utilities] found.\n",
      "Existing Entity is an Assembly while new Entity is not. Keeping Assembly.\n",
      "Warning: Duplicate Entity 29b746f5-42fe-4321-9a4a-8c65c9f0410c [utilities] found.\n",
      "Existing Entity is an Assembly while new Entity is not. Keeping Assembly.\n",
      "Warning: Duplicate Entity d188b4bb-27a3-4f63-9469-e9705c60a7a5 [plinthparking] found.\n",
      "Existing Entity is an Assembly while new Entity is not. Keeping Assembly.\n"
     ]
    }
   ],
   "source": [
    "model = speckle.get_commit(stream_id=stream_id)\n",
    "parsed = rk.api.Speckle.parse(base=model['@scenario'])\n",
    "scenario = rk.api.Speckle.to_rk(\n",
    "    bases=list(parsed.values()),\n",
    "    name='design_scenario',\n",
    "    type='scenario')"
   ]
  },
  {
   "cell_type": "code",
   "execution_count": 4,
   "metadata": {
    "collapsed": false,
    "ExecuteTime": {
     "end_time": "2023-06-29T06:46:12.829240Z",
     "start_time": "2023-06-29T06:46:12.758457Z"
    }
   },
   "outputs": [
    {
     "name": "stdout",
     "output_type": "stream",
     "text": [
      "assets/design_scenario.html\n"
     ]
    },
    {
     "data": {
      "text/plain": "<IPython.lib.display.IFrame at 0x2e7d93700>",
      "text/html": "\n        <iframe\n            width=\"100%\"\n            height=\"800\"\n            src=\"./design_scenario.html\"\n            frameborder=\"0\"\n            allowfullscreen\n            \n        ></iframe>\n        "
     },
     "execution_count": 4,
     "metadata": {},
     "output_type": "execute_result"
    }
   ],
   "source": [
    "scenario.plot(name='assets/design_scenario')\n",
    "IFrame(src=\"./design_scenario.html\", width='100%', height=800)"
   ]
  },
  {
   "cell_type": "markdown",
   "metadata": {
    "collapsed": false
   },
   "source": [
    "## Assigning and Aggregating `Flow`s per `Entity`\n",
    "Now we can organise the two main categories of cash flows (costs and revenues)\n",
    "according to the `Relationship` types in the design scenario.\n",
    "\n",
    "In this example, revenue-based cash flows are generated by `Entity`s that have a\n",
    "measureable floor area -- in this case, anything that has a 'gfa' property.\n",
    "\n",
    "We can query the graph to find them:"
   ]
  },
  {
   "cell_type": "markdown",
   "metadata": {
    "collapsed": false
   },
   "source": [
    "### Revenue-producing Entities\n",
    "Revenue-producing `Entity`s will be aggregated by their spatial containment. So\n",
    "we can first slice our graph to a tree of nodes that have \"contains\"\n",
    "relationships:"
   ]
  },
  {
   "cell_type": "code",
   "execution_count": 5,
   "metadata": {
    "collapsed": false,
    "ExecuteTime": {
     "end_time": "2023-06-29T06:46:12.831848Z",
     "start_time": "2023-06-29T06:46:12.828936Z"
    }
   },
   "outputs": [],
   "source": [
    "spatial_containment = scenario.filter_by_type(\n",
    "    relationship_type='spatiallyContains',\n",
    "    name='spatial_containment')"
   ]
  },
  {
   "cell_type": "markdown",
   "metadata": {
    "collapsed": false
   },
   "source": [
    "Note: we anticipate that the spatial decomposition is completely hierarchical\n",
    "(i.e., no spaces overlap, which means no spaces have multiple parents). We can\n",
    "check this by testing whether the containment graph is a \"tree\" (or\n",
    "\"arborescence\": see [NetworkX Tree](https://networkx.org/documentation/stable/reference/algorithms/tree.html#tree))."
   ]
  },
  {
   "cell_type": "code",
   "execution_count": 6,
   "metadata": {
    "collapsed": false,
    "ExecuteTime": {
     "end_time": "2023-06-29T06:46:12.834928Z",
     "start_time": "2023-06-29T06:46:12.832769Z"
    }
   },
   "outputs": [
    {
     "data": {
      "text/plain": "True"
     },
     "execution_count": 6,
     "metadata": {},
     "output_type": "execute_result"
    }
   ],
   "source": [
    "nx.is_arborescence(spatial_containment.graph)"
   ]
  },
  {
   "cell_type": "code",
   "execution_count": 7,
   "metadata": {
    "collapsed": false,
    "ExecuteTime": {
     "end_time": "2023-06-29T06:46:12.912915Z",
     "start_time": "2023-06-29T06:46:12.836193Z"
    }
   },
   "outputs": [
    {
     "name": "stdout",
     "output_type": "stream",
     "text": [
      "assets/spatial_containment.html\n"
     ]
    },
    {
     "data": {
      "text/plain": "<IPython.lib.display.IFrame at 0x2e5556620>",
      "text/html": "\n        <iframe\n            width=\"100%\"\n            height=\"800\"\n            src=\"./spatial_containment.html\"\n            frameborder=\"0\"\n            allowfullscreen\n            \n        ></iframe>\n        "
     },
     "execution_count": 7,
     "metadata": {},
     "output_type": "execute_result"
    }
   ],
   "source": [
    "# Plot the spatial containment graph\n",
    "spatial_containment.plot(name='assets/spatial_containment')\n",
    "IFrame(src=\"./spatial_containment.html\", width='100%', height=800)"
   ]
  },
  {
   "cell_type": "markdown",
   "metadata": {
    "collapsed": false
   },
   "source": [
    "#### Simple Aggregation\n",
    "Now that we have verified this, we can continue with a simple aggregation. We\n",
    "wish to aggregate up through our hierarchy all `Entity`s that have a Gross Floor\n",
    "Area ('gfa') property. *Rangekeeper* provides defaults for the `Entity.aggregate()`\n",
    "method for this, whereby a named property of any `Entity` is summed (numerical\n",
    "addition) into its parent `Entity` against a specified label:"
   ]
  },
  {
   "cell_type": "code",
   "execution_count": 8,
   "metadata": {
    "collapsed": false,
    "ExecuteTime": {
     "end_time": "2023-06-29T06:46:12.919936Z",
     "start_time": "2023-06-29T06:46:12.918161Z"
    }
   },
   "outputs": [],
   "source": [
    "scenario.aggregate(\n",
    "    property='gfa',\n",
    "    label='subtotal_gfa',\n",
    "    relationship_type='spatiallyContains')"
   ]
  },
  {
   "cell_type": "markdown",
   "metadata": {
    "collapsed": false
   },
   "source": [
    "We can tabulate this by converting the graph to a pandas `DataFrame`. Note that\n",
    "the graph nodes (as witnessed in the DataFrame's index and 'parent' column)\n",
    "are GUID strings. Each of these have corresponding `Entity` objects, organised\n",
    "via NetworkX's Node Attributes. See [NetworkX Tutorial](https://networkx.org/documentation/stable/tutorial.html#what-to-use-as-nodes-and-edges)"
   ]
  },
  {
   "cell_type": "code",
   "execution_count": 9,
   "metadata": {
    "collapsed": false,
    "tags": [
     "output_scroll"
    ],
    "ExecuteTime": {
     "end_time": "2023-06-29T06:46:12.975803Z",
     "start_time": "2023-06-29T06:46:12.930919Z"
    }
   },
   "outputs": [
    {
     "data": {
      "text/plain": "                                                            name         type  \\\na39ac4c3-094b-4d92-b71d-46c5a857f407                 development  development   \n981c0743-6a4c-4abd-8a97-2c937e48b897                   buildingB     building   \ne3149444-dfbc-41d0-9eb1-f08785a62da1                      plinth     building   \n529ce7bc-addf-4bad-8ec5-cbecbd73d4f1                   buildingA     building   \n29b746f5-42fe-4321-9a4a-8c65c9f0410c                   utilities    utilities   \n3fc29315-81e7-45a9-8241-62938e904d73        buildingBresidential        space   \nf508623d-1d81-4082-85ee-5b1e32c7bb10            buildingBparking        space   \n6ac8ab6d-a730-44b8-97aa-a5db09b7fbd0             buildingBretail        space   \n71fd4551-8e65-4e7a-8e2a-9d18e69146b0              buildingBcores    utilities   \nc11f68da-0544-487b-9cb9-8a3a3a98a9b8  buildingBresidentialFloor0        floor   \ncfc3edf5-1e7d-4499-b25f-ee86ed013516  buildingBresidentialFloor1        floor   \n3e158dd9-aa5d-47bb-bc13-4b3e6d328fe1  buildingBresidentialFloor2        floor   \nb8609a1e-b9f8-44a0-ab98-468ff247d753  buildingBresidentialFloor3        floor   \nf68d2f9b-13c5-42e2-9bca-1826f7eff481  buildingBresidentialFloor4        floor   \nec086fbc-7b21-4958-b456-9bce6a883c98  buildingBresidentialFloor5        floor   \n9ecaf92a-a90e-4572-a426-3ed392e0c28a  buildingBresidentialFloor6        floor   \n9a884f88-0627-4eb7-b1ec-80ea39b0a25b  buildingBresidentialFloor0        floor   \nd7dd5233-b1c3-451f-ae90-5a80fed205bd      buildingBparkingFloor0        floor   \n4acebff3-f17b-44fb-ba29-6bc02053b329       buildingBretailFloor0        floor   \nd188b4bb-27a3-4f63-9469-e9705c60a7a5               plinthparking        space   \n8d9f92cf-5613-4de4-b99b-7681aa76b4cd                 plinthplant    utilities   \ncf287254-7d66-4a4b-8a56-f247f51b41db        plinthparkingFloor-2        floor   \n926a3e9d-0601-4f96-bd71-317d928194f2        plinthparkingFloor-1        floor   \n987c5866-03b0-4948-962e-4870684f481b            buildingAparking        space   \n7dc6bf46-805f-4990-bcd2-d0fe1de4dd47             buildingAretail        space   \n549a988b-c3bc-42d4-a6a3-a8dc694fa770        buildingAresidential        space   \n3cf2bf71-61fa-4a61-b163-6265c299376d             buildingAretail        space   \nbfc1c272-665f-432d-a7b3-a4c955556e7f             buildingAoffice        space   \n55963d84-702d-423d-be05-c8bb6e88f517              buildingAcores    utilities   \n01282060-ad91-44be-b0d3-ff43e340e8bd      buildingAparkingFloor0        floor   \nf9e9ae1c-00f3-4966-9682-281ef2a86899       buildingAretailFloor0        floor   \ne7b3aec0-5003-448b-a0e3-4c2dbb605f85  buildingAresidentialFloor0        floor   \n9c13f0be-9991-4d9f-b41b-a0e962bdeb89  buildingAresidentialFloor0        floor   \ne88ff464-a453-45bb-93d8-5f983d417912  buildingAresidentialFloor1        floor   \n8ce80d06-69f6-404a-b0fd-a728eb0dfed6  buildingAresidentialFloor2        floor   \nbb0a0d86-31c1-4780-b81f-8d0e5a5d83be  buildingAresidentialFloor3        floor   \n32080c6a-1f31-446f-a3d9-59759ac00ff4       buildingAretailFloor0        floor   \na1fc1a28-1133-47f2-a8d9-58da817946c2       buildingAofficeFloor1        floor   \n0296748a-317a-47eb-bf94-e5dbbd78afc1       buildingAofficeFloor2        floor   \n74ed0525-d8f9-4f36-b20f-1b8a2baf60f2       buildingAofficeFloor3        floor   \nae0fb830-76df-4d91-82ed-4ed755fdec4b       buildingAofficeFloor4        floor   \nc1b696b1-cae0-49ed-a8ba-0e795438d3d2       buildingAofficeFloor5        floor   \nadd95b48-71c3-40e7-9f35-7db604f3f9f0       buildingAofficeFloor6        floor   \nd8443e6d-9080-4154-89e3-29f0e98ed90a       buildingAofficeFloor7        floor   \nf8945b4f-6f59-4c5a-a83f-462a97f2dcc4       buildingAofficeFloor8        floor   \nb548b184-1643-4c23-9b14-9025aeda59c3       buildingAofficeFloor9        floor   \ne8048367-edd2-4a61-ae0f-fd878688c910      buildingAofficeFloor10        floor   \n\n                                              gfa  subtotal_gfa  \\\na39ac4c3-094b-4d92-b71d-46c5a857f407          NaN  45816.419959   \n981c0743-6a4c-4abd-8a97-2c937e48b897          NaN  13436.884829   \ne3149444-dfbc-41d0-9eb1-f08785a62da1          NaN  12773.744211   \n529ce7bc-addf-4bad-8ec5-cbecbd73d4f1          NaN  19605.790919   \n29b746f5-42fe-4321-9a4a-8c65c9f0410c          NaN      0.000000   \n3fc29315-81e7-45a9-8241-62938e904d73          NaN  11442.736624   \nf508623d-1d81-4082-85ee-5b1e32c7bb10          NaN   1178.164752   \n6ac8ab6d-a730-44b8-97aa-a5db09b7fbd0          NaN    815.983454   \n71fd4551-8e65-4e7a-8e2a-9d18e69146b0          NaN      0.000000   \nc11f68da-0544-487b-9cb9-8a3a3a98a9b8   765.941631    765.941631   \ncfc3edf5-1e7d-4499-b25f-ee86ed013516  2361.056035   2361.056035   \n3e158dd9-aa5d-47bb-bc13-4b3e6d328fe1  2361.056035   2361.056035   \nb8609a1e-b9f8-44a0-ab98-468ff247d753  2015.956035   2015.956035   \nf68d2f9b-13c5-42e2-9bca-1826f7eff481  2015.956035   2015.956035   \nec086fbc-7b21-4958-b456-9bce6a883c98   875.014900    875.014900   \n9ecaf92a-a90e-4572-a426-3ed392e0c28a   875.014900    875.014900   \n9a884f88-0627-4eb7-b1ec-80ea39b0a25b   172.741054    172.741054   \nd7dd5233-b1c3-451f-ae90-5a80fed205bd  1178.164752   1178.164752   \n4acebff3-f17b-44fb-ba29-6bc02053b329   815.983454    815.983454   \nd188b4bb-27a3-4f63-9469-e9705c60a7a5          NaN  12773.744211   \n8d9f92cf-5613-4de4-b99b-7681aa76b4cd          NaN      0.000000   \ncf287254-7d66-4a4b-8a56-f247f51b41db  6386.872106   6386.872106   \n926a3e9d-0601-4f96-bd71-317d928194f2  6386.872106   6386.872106   \n987c5866-03b0-4948-962e-4870684f481b          NaN    960.262087   \n7dc6bf46-805f-4990-bcd2-d0fe1de4dd47          NaN    534.530238   \n549a988b-c3bc-42d4-a6a3-a8dc694fa770          NaN   2296.143091   \n3cf2bf71-61fa-4a61-b163-6265c299376d          NaN   1123.715326   \nbfc1c272-665f-432d-a7b3-a4c955556e7f          NaN  14691.140177   \n55963d84-702d-423d-be05-c8bb6e88f517          NaN      0.000000   \n01282060-ad91-44be-b0d3-ff43e340e8bd   960.262087    960.262087   \nf9e9ae1c-00f3-4966-9682-281ef2a86899   534.530238    534.530238   \ne7b3aec0-5003-448b-a0e3-4c2dbb605f85    57.900000     57.900000   \n9c13f0be-9991-4d9f-b41b-a0e962bdeb89    43.800000     43.800000   \ne88ff464-a453-45bb-93d8-5f983d417912   731.481030    731.481030   \n8ce80d06-69f6-404a-b0fd-a728eb0dfed6   731.481030    731.481030   \nbb0a0d86-31c1-4780-b81f-8d0e5a5d83be   731.481030    731.481030   \n32080c6a-1f31-446f-a3d9-59759ac00ff4  1123.715326   1123.715326   \na1fc1a28-1133-47f2-a8d9-58da817946c2  1650.842103   1650.842103   \n0296748a-317a-47eb-bf94-e5dbbd78afc1  1448.922008   1448.922008   \n74ed0525-d8f9-4f36-b20f-1b8a2baf60f2  1448.922008   1448.922008   \nae0fb830-76df-4d91-82ed-4ed755fdec4b  1448.922008   1448.922008   \nc1b696b1-cae0-49ed-a8ba-0e795438d3d2  1448.922008   1448.922008   \nadd95b48-71c3-40e7-9f35-7db604f3f9f0  1448.922008   1448.922008   \nd8443e6d-9080-4154-89e3-29f0e98ed90a  1448.922008   1448.922008   \nf8945b4f-6f59-4c5a-a83f-462a97f2dcc4  1448.922008   1448.922008   \nb548b184-1643-4c23-9b14-9025aeda59c3  1448.922008   1448.922008   \ne8048367-edd2-4a61-ae0f-fd878688c910  1448.922008   1448.922008   \n\n                                                                    parent  \\\na39ac4c3-094b-4d92-b71d-46c5a857f407                                  None   \n981c0743-6a4c-4abd-8a97-2c937e48b897  a39ac4c3-094b-4d92-b71d-46c5a857f407   \ne3149444-dfbc-41d0-9eb1-f08785a62da1  a39ac4c3-094b-4d92-b71d-46c5a857f407   \n529ce7bc-addf-4bad-8ec5-cbecbd73d4f1  a39ac4c3-094b-4d92-b71d-46c5a857f407   \n29b746f5-42fe-4321-9a4a-8c65c9f0410c  a39ac4c3-094b-4d92-b71d-46c5a857f407   \n3fc29315-81e7-45a9-8241-62938e904d73  981c0743-6a4c-4abd-8a97-2c937e48b897   \nf508623d-1d81-4082-85ee-5b1e32c7bb10  981c0743-6a4c-4abd-8a97-2c937e48b897   \n6ac8ab6d-a730-44b8-97aa-a5db09b7fbd0  981c0743-6a4c-4abd-8a97-2c937e48b897   \n71fd4551-8e65-4e7a-8e2a-9d18e69146b0  981c0743-6a4c-4abd-8a97-2c937e48b897   \nc11f68da-0544-487b-9cb9-8a3a3a98a9b8  3fc29315-81e7-45a9-8241-62938e904d73   \ncfc3edf5-1e7d-4499-b25f-ee86ed013516  3fc29315-81e7-45a9-8241-62938e904d73   \n3e158dd9-aa5d-47bb-bc13-4b3e6d328fe1  3fc29315-81e7-45a9-8241-62938e904d73   \nb8609a1e-b9f8-44a0-ab98-468ff247d753  3fc29315-81e7-45a9-8241-62938e904d73   \nf68d2f9b-13c5-42e2-9bca-1826f7eff481  3fc29315-81e7-45a9-8241-62938e904d73   \nec086fbc-7b21-4958-b456-9bce6a883c98  3fc29315-81e7-45a9-8241-62938e904d73   \n9ecaf92a-a90e-4572-a426-3ed392e0c28a  3fc29315-81e7-45a9-8241-62938e904d73   \n9a884f88-0627-4eb7-b1ec-80ea39b0a25b  3fc29315-81e7-45a9-8241-62938e904d73   \nd7dd5233-b1c3-451f-ae90-5a80fed205bd  f508623d-1d81-4082-85ee-5b1e32c7bb10   \n4acebff3-f17b-44fb-ba29-6bc02053b329  6ac8ab6d-a730-44b8-97aa-a5db09b7fbd0   \nd188b4bb-27a3-4f63-9469-e9705c60a7a5  e3149444-dfbc-41d0-9eb1-f08785a62da1   \n8d9f92cf-5613-4de4-b99b-7681aa76b4cd  e3149444-dfbc-41d0-9eb1-f08785a62da1   \ncf287254-7d66-4a4b-8a56-f247f51b41db  d188b4bb-27a3-4f63-9469-e9705c60a7a5   \n926a3e9d-0601-4f96-bd71-317d928194f2  d188b4bb-27a3-4f63-9469-e9705c60a7a5   \n987c5866-03b0-4948-962e-4870684f481b  529ce7bc-addf-4bad-8ec5-cbecbd73d4f1   \n7dc6bf46-805f-4990-bcd2-d0fe1de4dd47  529ce7bc-addf-4bad-8ec5-cbecbd73d4f1   \n549a988b-c3bc-42d4-a6a3-a8dc694fa770  529ce7bc-addf-4bad-8ec5-cbecbd73d4f1   \n3cf2bf71-61fa-4a61-b163-6265c299376d  529ce7bc-addf-4bad-8ec5-cbecbd73d4f1   \nbfc1c272-665f-432d-a7b3-a4c955556e7f  529ce7bc-addf-4bad-8ec5-cbecbd73d4f1   \n55963d84-702d-423d-be05-c8bb6e88f517  529ce7bc-addf-4bad-8ec5-cbecbd73d4f1   \n01282060-ad91-44be-b0d3-ff43e340e8bd  987c5866-03b0-4948-962e-4870684f481b   \nf9e9ae1c-00f3-4966-9682-281ef2a86899  7dc6bf46-805f-4990-bcd2-d0fe1de4dd47   \ne7b3aec0-5003-448b-a0e3-4c2dbb605f85  549a988b-c3bc-42d4-a6a3-a8dc694fa770   \n9c13f0be-9991-4d9f-b41b-a0e962bdeb89  549a988b-c3bc-42d4-a6a3-a8dc694fa770   \ne88ff464-a453-45bb-93d8-5f983d417912  549a988b-c3bc-42d4-a6a3-a8dc694fa770   \n8ce80d06-69f6-404a-b0fd-a728eb0dfed6  549a988b-c3bc-42d4-a6a3-a8dc694fa770   \nbb0a0d86-31c1-4780-b81f-8d0e5a5d83be  549a988b-c3bc-42d4-a6a3-a8dc694fa770   \n32080c6a-1f31-446f-a3d9-59759ac00ff4  3cf2bf71-61fa-4a61-b163-6265c299376d   \na1fc1a28-1133-47f2-a8d9-58da817946c2  bfc1c272-665f-432d-a7b3-a4c955556e7f   \n0296748a-317a-47eb-bf94-e5dbbd78afc1  bfc1c272-665f-432d-a7b3-a4c955556e7f   \n74ed0525-d8f9-4f36-b20f-1b8a2baf60f2  bfc1c272-665f-432d-a7b3-a4c955556e7f   \nae0fb830-76df-4d91-82ed-4ed755fdec4b  bfc1c272-665f-432d-a7b3-a4c955556e7f   \nc1b696b1-cae0-49ed-a8ba-0e795438d3d2  bfc1c272-665f-432d-a7b3-a4c955556e7f   \nadd95b48-71c3-40e7-9f35-7db604f3f9f0  bfc1c272-665f-432d-a7b3-a4c955556e7f   \nd8443e6d-9080-4154-89e3-29f0e98ed90a  bfc1c272-665f-432d-a7b3-a4c955556e7f   \nf8945b4f-6f59-4c5a-a83f-462a97f2dcc4  bfc1c272-665f-432d-a7b3-a4c955556e7f   \nb548b184-1643-4c23-9b14-9025aeda59c3  bfc1c272-665f-432d-a7b3-a4c955556e7f   \ne8048367-edd2-4a61-ae0f-fd878688c910  bfc1c272-665f-432d-a7b3-a4c955556e7f   \n\n                                              use   ffl  number  \na39ac4c3-094b-4d92-b71d-46c5a857f407          NaN   NaN     NaN  \n981c0743-6a4c-4abd-8a97-2c937e48b897          NaN   NaN     NaN  \ne3149444-dfbc-41d0-9eb1-f08785a62da1          NaN   NaN     NaN  \n529ce7bc-addf-4bad-8ec5-cbecbd73d4f1          NaN   NaN     NaN  \n29b746f5-42fe-4321-9a4a-8c65c9f0410c          NaN   NaN     NaN  \n3fc29315-81e7-45a9-8241-62938e904d73  residential   NaN     NaN  \nf508623d-1d81-4082-85ee-5b1e32c7bb10      parking   NaN     NaN  \n6ac8ab6d-a730-44b8-97aa-a5db09b7fbd0       retail   NaN     NaN  \n71fd4551-8e65-4e7a-8e2a-9d18e69146b0        cores   NaN     NaN  \nc11f68da-0544-487b-9cb9-8a3a3a98a9b8          NaN   0.3     0.0  \ncfc3edf5-1e7d-4499-b25f-ee86ed013516          NaN   5.3     1.0  \n3e158dd9-aa5d-47bb-bc13-4b3e6d328fe1          NaN   8.4     2.0  \nb8609a1e-b9f8-44a0-ab98-468ff247d753          NaN  11.5     3.0  \nf68d2f9b-13c5-42e2-9bca-1826f7eff481          NaN  14.6     4.0  \nec086fbc-7b21-4958-b456-9bce6a883c98          NaN  17.7     5.0  \n9ecaf92a-a90e-4572-a426-3ed392e0c28a          NaN  20.8     6.0  \n9a884f88-0627-4eb7-b1ec-80ea39b0a25b          NaN   0.3     0.0  \nd7dd5233-b1c3-451f-ae90-5a80fed205bd          NaN   0.3     0.0  \n4acebff3-f17b-44fb-ba29-6bc02053b329          NaN   0.3     0.0  \nd188b4bb-27a3-4f63-9469-e9705c60a7a5      parking   NaN     NaN  \n8d9f92cf-5613-4de4-b99b-7681aa76b4cd        plant   NaN     NaN  \ncf287254-7d66-4a4b-8a56-f247f51b41db          NaN  -5.9    -2.0  \n926a3e9d-0601-4f96-bd71-317d928194f2          NaN  -2.8    -1.0  \n987c5866-03b0-4948-962e-4870684f481b      parking   NaN     NaN  \n7dc6bf46-805f-4990-bcd2-d0fe1de4dd47       retail   NaN     NaN  \n549a988b-c3bc-42d4-a6a3-a8dc694fa770  residential   NaN     NaN  \n3cf2bf71-61fa-4a61-b163-6265c299376d       retail   NaN     NaN  \nbfc1c272-665f-432d-a7b3-a4c955556e7f       office   NaN     NaN  \n55963d84-702d-423d-be05-c8bb6e88f517        cores   NaN     NaN  \n01282060-ad91-44be-b0d3-ff43e340e8bd          NaN   0.3     0.0  \nf9e9ae1c-00f3-4966-9682-281ef2a86899          NaN   0.3     0.0  \ne7b3aec0-5003-448b-a0e3-4c2dbb605f85          NaN   0.3     0.0  \n9c13f0be-9991-4d9f-b41b-a0e962bdeb89          NaN   0.3     0.0  \ne88ff464-a453-45bb-93d8-5f983d417912          NaN   5.3     1.0  \n8ce80d06-69f6-404a-b0fd-a728eb0dfed6          NaN   8.4     2.0  \nbb0a0d86-31c1-4780-b81f-8d0e5a5d83be          NaN  11.5     3.0  \n32080c6a-1f31-446f-a3d9-59759ac00ff4          NaN   0.3     0.0  \na1fc1a28-1133-47f2-a8d9-58da817946c2          NaN   5.3     1.0  \n0296748a-317a-47eb-bf94-e5dbbd78afc1          NaN   8.4     2.0  \n74ed0525-d8f9-4f36-b20f-1b8a2baf60f2          NaN  11.5     3.0  \nae0fb830-76df-4d91-82ed-4ed755fdec4b          NaN  14.6     4.0  \nc1b696b1-cae0-49ed-a8ba-0e795438d3d2          NaN  17.7     5.0  \nadd95b48-71c3-40e7-9f35-7db604f3f9f0          NaN  20.8     6.0  \nd8443e6d-9080-4154-89e3-29f0e98ed90a          NaN  23.9     7.0  \nf8945b4f-6f59-4c5a-a83f-462a97f2dcc4          NaN  27.0     8.0  \nb548b184-1643-4c23-9b14-9025aeda59c3          NaN  30.1     9.0  \ne8048367-edd2-4a61-ae0f-fd878688c910          NaN  33.2    10.0  ",
      "text/html": "<div>\n<style scoped>\n    .dataframe tbody tr th:only-of-type {\n        vertical-align: middle;\n    }\n\n    .dataframe tbody tr th {\n        vertical-align: top;\n    }\n\n    .dataframe thead th {\n        text-align: right;\n    }\n</style>\n<table border=\"1\" class=\"dataframe\">\n  <thead>\n    <tr style=\"text-align: right;\">\n      <th></th>\n      <th>name</th>\n      <th>type</th>\n      <th>gfa</th>\n      <th>subtotal_gfa</th>\n      <th>parent</th>\n      <th>use</th>\n      <th>ffl</th>\n      <th>number</th>\n    </tr>\n  </thead>\n  <tbody>\n    <tr>\n      <th>a39ac4c3-094b-4d92-b71d-46c5a857f407</th>\n      <td>development</td>\n      <td>development</td>\n      <td>NaN</td>\n      <td>45816.419959</td>\n      <td>None</td>\n      <td>NaN</td>\n      <td>NaN</td>\n      <td>NaN</td>\n    </tr>\n    <tr>\n      <th>981c0743-6a4c-4abd-8a97-2c937e48b897</th>\n      <td>buildingB</td>\n      <td>building</td>\n      <td>NaN</td>\n      <td>13436.884829</td>\n      <td>a39ac4c3-094b-4d92-b71d-46c5a857f407</td>\n      <td>NaN</td>\n      <td>NaN</td>\n      <td>NaN</td>\n    </tr>\n    <tr>\n      <th>e3149444-dfbc-41d0-9eb1-f08785a62da1</th>\n      <td>plinth</td>\n      <td>building</td>\n      <td>NaN</td>\n      <td>12773.744211</td>\n      <td>a39ac4c3-094b-4d92-b71d-46c5a857f407</td>\n      <td>NaN</td>\n      <td>NaN</td>\n      <td>NaN</td>\n    </tr>\n    <tr>\n      <th>529ce7bc-addf-4bad-8ec5-cbecbd73d4f1</th>\n      <td>buildingA</td>\n      <td>building</td>\n      <td>NaN</td>\n      <td>19605.790919</td>\n      <td>a39ac4c3-094b-4d92-b71d-46c5a857f407</td>\n      <td>NaN</td>\n      <td>NaN</td>\n      <td>NaN</td>\n    </tr>\n    <tr>\n      <th>29b746f5-42fe-4321-9a4a-8c65c9f0410c</th>\n      <td>utilities</td>\n      <td>utilities</td>\n      <td>NaN</td>\n      <td>0.000000</td>\n      <td>a39ac4c3-094b-4d92-b71d-46c5a857f407</td>\n      <td>NaN</td>\n      <td>NaN</td>\n      <td>NaN</td>\n    </tr>\n    <tr>\n      <th>3fc29315-81e7-45a9-8241-62938e904d73</th>\n      <td>buildingBresidential</td>\n      <td>space</td>\n      <td>NaN</td>\n      <td>11442.736624</td>\n      <td>981c0743-6a4c-4abd-8a97-2c937e48b897</td>\n      <td>residential</td>\n      <td>NaN</td>\n      <td>NaN</td>\n    </tr>\n    <tr>\n      <th>f508623d-1d81-4082-85ee-5b1e32c7bb10</th>\n      <td>buildingBparking</td>\n      <td>space</td>\n      <td>NaN</td>\n      <td>1178.164752</td>\n      <td>981c0743-6a4c-4abd-8a97-2c937e48b897</td>\n      <td>parking</td>\n      <td>NaN</td>\n      <td>NaN</td>\n    </tr>\n    <tr>\n      <th>6ac8ab6d-a730-44b8-97aa-a5db09b7fbd0</th>\n      <td>buildingBretail</td>\n      <td>space</td>\n      <td>NaN</td>\n      <td>815.983454</td>\n      <td>981c0743-6a4c-4abd-8a97-2c937e48b897</td>\n      <td>retail</td>\n      <td>NaN</td>\n      <td>NaN</td>\n    </tr>\n    <tr>\n      <th>71fd4551-8e65-4e7a-8e2a-9d18e69146b0</th>\n      <td>buildingBcores</td>\n      <td>utilities</td>\n      <td>NaN</td>\n      <td>0.000000</td>\n      <td>981c0743-6a4c-4abd-8a97-2c937e48b897</td>\n      <td>cores</td>\n      <td>NaN</td>\n      <td>NaN</td>\n    </tr>\n    <tr>\n      <th>c11f68da-0544-487b-9cb9-8a3a3a98a9b8</th>\n      <td>buildingBresidentialFloor0</td>\n      <td>floor</td>\n      <td>765.941631</td>\n      <td>765.941631</td>\n      <td>3fc29315-81e7-45a9-8241-62938e904d73</td>\n      <td>NaN</td>\n      <td>0.3</td>\n      <td>0.0</td>\n    </tr>\n    <tr>\n      <th>cfc3edf5-1e7d-4499-b25f-ee86ed013516</th>\n      <td>buildingBresidentialFloor1</td>\n      <td>floor</td>\n      <td>2361.056035</td>\n      <td>2361.056035</td>\n      <td>3fc29315-81e7-45a9-8241-62938e904d73</td>\n      <td>NaN</td>\n      <td>5.3</td>\n      <td>1.0</td>\n    </tr>\n    <tr>\n      <th>3e158dd9-aa5d-47bb-bc13-4b3e6d328fe1</th>\n      <td>buildingBresidentialFloor2</td>\n      <td>floor</td>\n      <td>2361.056035</td>\n      <td>2361.056035</td>\n      <td>3fc29315-81e7-45a9-8241-62938e904d73</td>\n      <td>NaN</td>\n      <td>8.4</td>\n      <td>2.0</td>\n    </tr>\n    <tr>\n      <th>b8609a1e-b9f8-44a0-ab98-468ff247d753</th>\n      <td>buildingBresidentialFloor3</td>\n      <td>floor</td>\n      <td>2015.956035</td>\n      <td>2015.956035</td>\n      <td>3fc29315-81e7-45a9-8241-62938e904d73</td>\n      <td>NaN</td>\n      <td>11.5</td>\n      <td>3.0</td>\n    </tr>\n    <tr>\n      <th>f68d2f9b-13c5-42e2-9bca-1826f7eff481</th>\n      <td>buildingBresidentialFloor4</td>\n      <td>floor</td>\n      <td>2015.956035</td>\n      <td>2015.956035</td>\n      <td>3fc29315-81e7-45a9-8241-62938e904d73</td>\n      <td>NaN</td>\n      <td>14.6</td>\n      <td>4.0</td>\n    </tr>\n    <tr>\n      <th>ec086fbc-7b21-4958-b456-9bce6a883c98</th>\n      <td>buildingBresidentialFloor5</td>\n      <td>floor</td>\n      <td>875.014900</td>\n      <td>875.014900</td>\n      <td>3fc29315-81e7-45a9-8241-62938e904d73</td>\n      <td>NaN</td>\n      <td>17.7</td>\n      <td>5.0</td>\n    </tr>\n    <tr>\n      <th>9ecaf92a-a90e-4572-a426-3ed392e0c28a</th>\n      <td>buildingBresidentialFloor6</td>\n      <td>floor</td>\n      <td>875.014900</td>\n      <td>875.014900</td>\n      <td>3fc29315-81e7-45a9-8241-62938e904d73</td>\n      <td>NaN</td>\n      <td>20.8</td>\n      <td>6.0</td>\n    </tr>\n    <tr>\n      <th>9a884f88-0627-4eb7-b1ec-80ea39b0a25b</th>\n      <td>buildingBresidentialFloor0</td>\n      <td>floor</td>\n      <td>172.741054</td>\n      <td>172.741054</td>\n      <td>3fc29315-81e7-45a9-8241-62938e904d73</td>\n      <td>NaN</td>\n      <td>0.3</td>\n      <td>0.0</td>\n    </tr>\n    <tr>\n      <th>d7dd5233-b1c3-451f-ae90-5a80fed205bd</th>\n      <td>buildingBparkingFloor0</td>\n      <td>floor</td>\n      <td>1178.164752</td>\n      <td>1178.164752</td>\n      <td>f508623d-1d81-4082-85ee-5b1e32c7bb10</td>\n      <td>NaN</td>\n      <td>0.3</td>\n      <td>0.0</td>\n    </tr>\n    <tr>\n      <th>4acebff3-f17b-44fb-ba29-6bc02053b329</th>\n      <td>buildingBretailFloor0</td>\n      <td>floor</td>\n      <td>815.983454</td>\n      <td>815.983454</td>\n      <td>6ac8ab6d-a730-44b8-97aa-a5db09b7fbd0</td>\n      <td>NaN</td>\n      <td>0.3</td>\n      <td>0.0</td>\n    </tr>\n    <tr>\n      <th>d188b4bb-27a3-4f63-9469-e9705c60a7a5</th>\n      <td>plinthparking</td>\n      <td>space</td>\n      <td>NaN</td>\n      <td>12773.744211</td>\n      <td>e3149444-dfbc-41d0-9eb1-f08785a62da1</td>\n      <td>parking</td>\n      <td>NaN</td>\n      <td>NaN</td>\n    </tr>\n    <tr>\n      <th>8d9f92cf-5613-4de4-b99b-7681aa76b4cd</th>\n      <td>plinthplant</td>\n      <td>utilities</td>\n      <td>NaN</td>\n      <td>0.000000</td>\n      <td>e3149444-dfbc-41d0-9eb1-f08785a62da1</td>\n      <td>plant</td>\n      <td>NaN</td>\n      <td>NaN</td>\n    </tr>\n    <tr>\n      <th>cf287254-7d66-4a4b-8a56-f247f51b41db</th>\n      <td>plinthparkingFloor-2</td>\n      <td>floor</td>\n      <td>6386.872106</td>\n      <td>6386.872106</td>\n      <td>d188b4bb-27a3-4f63-9469-e9705c60a7a5</td>\n      <td>NaN</td>\n      <td>-5.9</td>\n      <td>-2.0</td>\n    </tr>\n    <tr>\n      <th>926a3e9d-0601-4f96-bd71-317d928194f2</th>\n      <td>plinthparkingFloor-1</td>\n      <td>floor</td>\n      <td>6386.872106</td>\n      <td>6386.872106</td>\n      <td>d188b4bb-27a3-4f63-9469-e9705c60a7a5</td>\n      <td>NaN</td>\n      <td>-2.8</td>\n      <td>-1.0</td>\n    </tr>\n    <tr>\n      <th>987c5866-03b0-4948-962e-4870684f481b</th>\n      <td>buildingAparking</td>\n      <td>space</td>\n      <td>NaN</td>\n      <td>960.262087</td>\n      <td>529ce7bc-addf-4bad-8ec5-cbecbd73d4f1</td>\n      <td>parking</td>\n      <td>NaN</td>\n      <td>NaN</td>\n    </tr>\n    <tr>\n      <th>7dc6bf46-805f-4990-bcd2-d0fe1de4dd47</th>\n      <td>buildingAretail</td>\n      <td>space</td>\n      <td>NaN</td>\n      <td>534.530238</td>\n      <td>529ce7bc-addf-4bad-8ec5-cbecbd73d4f1</td>\n      <td>retail</td>\n      <td>NaN</td>\n      <td>NaN</td>\n    </tr>\n    <tr>\n      <th>549a988b-c3bc-42d4-a6a3-a8dc694fa770</th>\n      <td>buildingAresidential</td>\n      <td>space</td>\n      <td>NaN</td>\n      <td>2296.143091</td>\n      <td>529ce7bc-addf-4bad-8ec5-cbecbd73d4f1</td>\n      <td>residential</td>\n      <td>NaN</td>\n      <td>NaN</td>\n    </tr>\n    <tr>\n      <th>3cf2bf71-61fa-4a61-b163-6265c299376d</th>\n      <td>buildingAretail</td>\n      <td>space</td>\n      <td>NaN</td>\n      <td>1123.715326</td>\n      <td>529ce7bc-addf-4bad-8ec5-cbecbd73d4f1</td>\n      <td>retail</td>\n      <td>NaN</td>\n      <td>NaN</td>\n    </tr>\n    <tr>\n      <th>bfc1c272-665f-432d-a7b3-a4c955556e7f</th>\n      <td>buildingAoffice</td>\n      <td>space</td>\n      <td>NaN</td>\n      <td>14691.140177</td>\n      <td>529ce7bc-addf-4bad-8ec5-cbecbd73d4f1</td>\n      <td>office</td>\n      <td>NaN</td>\n      <td>NaN</td>\n    </tr>\n    <tr>\n      <th>55963d84-702d-423d-be05-c8bb6e88f517</th>\n      <td>buildingAcores</td>\n      <td>utilities</td>\n      <td>NaN</td>\n      <td>0.000000</td>\n      <td>529ce7bc-addf-4bad-8ec5-cbecbd73d4f1</td>\n      <td>cores</td>\n      <td>NaN</td>\n      <td>NaN</td>\n    </tr>\n    <tr>\n      <th>01282060-ad91-44be-b0d3-ff43e340e8bd</th>\n      <td>buildingAparkingFloor0</td>\n      <td>floor</td>\n      <td>960.262087</td>\n      <td>960.262087</td>\n      <td>987c5866-03b0-4948-962e-4870684f481b</td>\n      <td>NaN</td>\n      <td>0.3</td>\n      <td>0.0</td>\n    </tr>\n    <tr>\n      <th>f9e9ae1c-00f3-4966-9682-281ef2a86899</th>\n      <td>buildingAretailFloor0</td>\n      <td>floor</td>\n      <td>534.530238</td>\n      <td>534.530238</td>\n      <td>7dc6bf46-805f-4990-bcd2-d0fe1de4dd47</td>\n      <td>NaN</td>\n      <td>0.3</td>\n      <td>0.0</td>\n    </tr>\n    <tr>\n      <th>e7b3aec0-5003-448b-a0e3-4c2dbb605f85</th>\n      <td>buildingAresidentialFloor0</td>\n      <td>floor</td>\n      <td>57.900000</td>\n      <td>57.900000</td>\n      <td>549a988b-c3bc-42d4-a6a3-a8dc694fa770</td>\n      <td>NaN</td>\n      <td>0.3</td>\n      <td>0.0</td>\n    </tr>\n    <tr>\n      <th>9c13f0be-9991-4d9f-b41b-a0e962bdeb89</th>\n      <td>buildingAresidentialFloor0</td>\n      <td>floor</td>\n      <td>43.800000</td>\n      <td>43.800000</td>\n      <td>549a988b-c3bc-42d4-a6a3-a8dc694fa770</td>\n      <td>NaN</td>\n      <td>0.3</td>\n      <td>0.0</td>\n    </tr>\n    <tr>\n      <th>e88ff464-a453-45bb-93d8-5f983d417912</th>\n      <td>buildingAresidentialFloor1</td>\n      <td>floor</td>\n      <td>731.481030</td>\n      <td>731.481030</td>\n      <td>549a988b-c3bc-42d4-a6a3-a8dc694fa770</td>\n      <td>NaN</td>\n      <td>5.3</td>\n      <td>1.0</td>\n    </tr>\n    <tr>\n      <th>8ce80d06-69f6-404a-b0fd-a728eb0dfed6</th>\n      <td>buildingAresidentialFloor2</td>\n      <td>floor</td>\n      <td>731.481030</td>\n      <td>731.481030</td>\n      <td>549a988b-c3bc-42d4-a6a3-a8dc694fa770</td>\n      <td>NaN</td>\n      <td>8.4</td>\n      <td>2.0</td>\n    </tr>\n    <tr>\n      <th>bb0a0d86-31c1-4780-b81f-8d0e5a5d83be</th>\n      <td>buildingAresidentialFloor3</td>\n      <td>floor</td>\n      <td>731.481030</td>\n      <td>731.481030</td>\n      <td>549a988b-c3bc-42d4-a6a3-a8dc694fa770</td>\n      <td>NaN</td>\n      <td>11.5</td>\n      <td>3.0</td>\n    </tr>\n    <tr>\n      <th>32080c6a-1f31-446f-a3d9-59759ac00ff4</th>\n      <td>buildingAretailFloor0</td>\n      <td>floor</td>\n      <td>1123.715326</td>\n      <td>1123.715326</td>\n      <td>3cf2bf71-61fa-4a61-b163-6265c299376d</td>\n      <td>NaN</td>\n      <td>0.3</td>\n      <td>0.0</td>\n    </tr>\n    <tr>\n      <th>a1fc1a28-1133-47f2-a8d9-58da817946c2</th>\n      <td>buildingAofficeFloor1</td>\n      <td>floor</td>\n      <td>1650.842103</td>\n      <td>1650.842103</td>\n      <td>bfc1c272-665f-432d-a7b3-a4c955556e7f</td>\n      <td>NaN</td>\n      <td>5.3</td>\n      <td>1.0</td>\n    </tr>\n    <tr>\n      <th>0296748a-317a-47eb-bf94-e5dbbd78afc1</th>\n      <td>buildingAofficeFloor2</td>\n      <td>floor</td>\n      <td>1448.922008</td>\n      <td>1448.922008</td>\n      <td>bfc1c272-665f-432d-a7b3-a4c955556e7f</td>\n      <td>NaN</td>\n      <td>8.4</td>\n      <td>2.0</td>\n    </tr>\n    <tr>\n      <th>74ed0525-d8f9-4f36-b20f-1b8a2baf60f2</th>\n      <td>buildingAofficeFloor3</td>\n      <td>floor</td>\n      <td>1448.922008</td>\n      <td>1448.922008</td>\n      <td>bfc1c272-665f-432d-a7b3-a4c955556e7f</td>\n      <td>NaN</td>\n      <td>11.5</td>\n      <td>3.0</td>\n    </tr>\n    <tr>\n      <th>ae0fb830-76df-4d91-82ed-4ed755fdec4b</th>\n      <td>buildingAofficeFloor4</td>\n      <td>floor</td>\n      <td>1448.922008</td>\n      <td>1448.922008</td>\n      <td>bfc1c272-665f-432d-a7b3-a4c955556e7f</td>\n      <td>NaN</td>\n      <td>14.6</td>\n      <td>4.0</td>\n    </tr>\n    <tr>\n      <th>c1b696b1-cae0-49ed-a8ba-0e795438d3d2</th>\n      <td>buildingAofficeFloor5</td>\n      <td>floor</td>\n      <td>1448.922008</td>\n      <td>1448.922008</td>\n      <td>bfc1c272-665f-432d-a7b3-a4c955556e7f</td>\n      <td>NaN</td>\n      <td>17.7</td>\n      <td>5.0</td>\n    </tr>\n    <tr>\n      <th>add95b48-71c3-40e7-9f35-7db604f3f9f0</th>\n      <td>buildingAofficeFloor6</td>\n      <td>floor</td>\n      <td>1448.922008</td>\n      <td>1448.922008</td>\n      <td>bfc1c272-665f-432d-a7b3-a4c955556e7f</td>\n      <td>NaN</td>\n      <td>20.8</td>\n      <td>6.0</td>\n    </tr>\n    <tr>\n      <th>d8443e6d-9080-4154-89e3-29f0e98ed90a</th>\n      <td>buildingAofficeFloor7</td>\n      <td>floor</td>\n      <td>1448.922008</td>\n      <td>1448.922008</td>\n      <td>bfc1c272-665f-432d-a7b3-a4c955556e7f</td>\n      <td>NaN</td>\n      <td>23.9</td>\n      <td>7.0</td>\n    </tr>\n    <tr>\n      <th>f8945b4f-6f59-4c5a-a83f-462a97f2dcc4</th>\n      <td>buildingAofficeFloor8</td>\n      <td>floor</td>\n      <td>1448.922008</td>\n      <td>1448.922008</td>\n      <td>bfc1c272-665f-432d-a7b3-a4c955556e7f</td>\n      <td>NaN</td>\n      <td>27.0</td>\n      <td>8.0</td>\n    </tr>\n    <tr>\n      <th>b548b184-1643-4c23-9b14-9025aeda59c3</th>\n      <td>buildingAofficeFloor9</td>\n      <td>floor</td>\n      <td>1448.922008</td>\n      <td>1448.922008</td>\n      <td>bfc1c272-665f-432d-a7b3-a4c955556e7f</td>\n      <td>NaN</td>\n      <td>30.1</td>\n      <td>9.0</td>\n    </tr>\n    <tr>\n      <th>e8048367-edd2-4a61-ae0f-fd878688c910</th>\n      <td>buildingAofficeFloor10</td>\n      <td>floor</td>\n      <td>1448.922008</td>\n      <td>1448.922008</td>\n      <td>bfc1c272-665f-432d-a7b3-a4c955556e7f</td>\n      <td>NaN</td>\n      <td>33.2</td>\n      <td>10.0</td>\n    </tr>\n  </tbody>\n</table>\n</div>"
     },
     "execution_count": 9,
     "metadata": {},
     "output_type": "execute_result"
    }
   ],
   "source": [
    "df = spatial_containment.to_DataFrame()\n",
    "df = df[['name', 'type', 'gfa', 'subtotal_gfa', 'parent', 'use', 'ffl', 'number']]\n",
    "df"
   ]
  },
  {
   "cell_type": "markdown",
   "metadata": {
    "collapsed": false
   },
   "source": [
    "We can also plot this as a hierarchical pie chart (a.k.a. 'sunburst' chart), or\n",
    "a treemap:"
   ]
  },
  {
   "cell_type": "code",
   "execution_count": 10,
   "metadata": {
    "collapsed": false,
    "ExecuteTime": {
     "end_time": "2023-06-29T06:46:13.388385Z",
     "start_time": "2023-06-29T06:46:12.950763Z"
    }
   },
   "outputs": [
    {
     "data": {
      "text/plain": "<IPython.lib.display.IFrame at 0x2e7d42470>",
      "text/html": "\n        <iframe\n            width=\"100%\"\n            height=\"1600\"\n            src=\"./spatial_containment_chart.html\"\n            frameborder=\"0\"\n            allowfullscreen\n            \n        ></iframe>\n        "
     },
     "execution_count": 10,
     "metadata": {},
     "output_type": "execute_result"
    }
   ],
   "source": [
    "sunburst = spatial_containment.sunburst(property='subtotal_gfa')\n",
    "treemap = spatial_containment.treemap(property='subtotal_gfa')\n",
    "fig = plotly.subplots.make_subplots(\n",
    "    rows=2, cols=1,\n",
    "    specs=[[{\"type\": \"sunburst\"}], [{\"type\": \"treemap\"}]])\n",
    "fig.append_trace(sunburst, row=1, col=1)\n",
    "fig.append_trace(treemap, row=2, col=1)\n",
    "filename='spatial_containment_chart.html'\n",
    "\n",
    "py.plot(fig, filename='assets/{0}'.format(filename), auto_open=False)\n",
    "IFrame(src=\"./{0}\".format(filename), width='100%', height=800 * len(fig.data))"
   ]
  },
  {
   "cell_type": "markdown",
   "metadata": {
    "collapsed": false
   },
   "source": [
    "#### Aggregating a (Financial) Calculation\n",
    "A more complex aggregation involves collecting specific cash `Flow`s into\n",
    "`Stream`s per `Entity`/`Assembly`; for instance, we may want to aggregate all\n",
    "revenues generated by lettable floorspace into their respective parent `Entity`s,\n",
    "in order to analyse or compare the performance of the scenario at different\n",
    "resolutions."
   ]
  },
  {
   "cell_type": "markdown",
   "metadata": {
    "collapsed": false
   },
   "source": [
    "We start by identifying which `Entity`s are 'floor' types and have an area\n",
    "measurement:"
   ]
  },
  {
   "cell_type": "code",
   "execution_count": 11,
   "metadata": {
    "collapsed": false,
    "ExecuteTime": {
     "end_time": "2023-06-29T06:46:13.388656Z",
     "start_time": "2023-06-29T06:46:13.386940Z"
    }
   },
   "outputs": [],
   "source": [
    "floors = scenario.filter_by_type(entity_type='floor')\n",
    "floors = [floor for floor in floors.get_entities().values() if hasattr(floor, 'gfa')]"
   ]
  },
  {
   "cell_type": "markdown",
   "metadata": {
    "collapsed": false
   },
   "source": [
    "For each floor we can project a set of simple cash flows, in a similar manner\n",
    "to [A Basic DCF Valuation](../basic_dcf.ipynb)."
   ]
  },
  {
   "cell_type": "markdown",
   "metadata": {
    "collapsed": false
   },
   "source": [
    "First initialize our locale, and a set of parameters, including some around\n",
    "area efficiency ratios, initial incomes per area, and growth rates:"
   ]
  },
  {
   "cell_type": "code",
   "execution_count": 12,
   "metadata": {
    "collapsed": false,
    "ExecuteTime": {
     "end_time": "2023-06-29T06:46:13.418233Z",
     "start_time": "2023-06-29T06:46:13.388532Z"
    }
   },
   "outputs": [],
   "source": [
    "locale.setlocale(locale.LC_ALL, 'en_au')\n",
    "units = rk.measure.Index.registry\n",
    "currency = rk.measure.register_currency(registry=units)\n",
    "period_type = rk.periodicity.Type.YEAR"
   ]
  },
  {
   "cell_type": "code",
   "execution_count": 13,
   "metadata": {
    "collapsed": false,
    "ExecuteTime": {
     "end_time": "2023-06-29T06:46:13.418461Z",
     "start_time": "2023-06-29T06:46:13.415039Z"
    }
   },
   "outputs": [],
   "source": [
    "efficiency_ratios = dict(\n",
    "    office=0.88,\n",
    "    retail=0.75,\n",
    "    residential=0.82,\n",
    "    parking=0.93\n",
    "    )\n",
    "initial_income_per_area_pa = dict(\n",
    "    office=750,\n",
    "    retail=1000,\n",
    "    residential=600,\n",
    "    parking=0\n",
    "    )\n",
    "pgi_growth_rates = dict(\n",
    "    office=.02,\n",
    "    retail=.05,\n",
    "    residential=.035,\n",
    "    parking=0\n",
    "    )\n",
    "vacancy_rates = dict(\n",
    "    office=.075,\n",
    "    retail=.5,\n",
    "    residential=.02,\n",
    "    parking=0,\n",
    "    )"
   ]
  },
  {
   "cell_type": "code",
   "execution_count": 14,
   "outputs": [
    {
     "data": {
      "text/plain": "             efficiency_ratio  initial_income_per_area_pa  pgi_growth_rate  \\\noffice                   0.88                         750            0.020   \nretail                   0.75                        1000            0.050   \nresidential              0.82                         600            0.035   \nparking                  0.93                           0            0.000   \n\n             vacancy_rate  \noffice              0.075  \nretail              0.500  \nresidential         0.020  \nparking             0.000  ",
      "text/html": "<div>\n<style scoped>\n    .dataframe tbody tr th:only-of-type {\n        vertical-align: middle;\n    }\n\n    .dataframe tbody tr th {\n        vertical-align: top;\n    }\n\n    .dataframe thead th {\n        text-align: right;\n    }\n</style>\n<table border=\"1\" class=\"dataframe\">\n  <thead>\n    <tr style=\"text-align: right;\">\n      <th></th>\n      <th>efficiency_ratio</th>\n      <th>initial_income_per_area_pa</th>\n      <th>pgi_growth_rate</th>\n      <th>vacancy_rate</th>\n    </tr>\n  </thead>\n  <tbody>\n    <tr>\n      <th>office</th>\n      <td>0.88</td>\n      <td>750</td>\n      <td>0.020</td>\n      <td>0.075</td>\n    </tr>\n    <tr>\n      <th>retail</th>\n      <td>0.75</td>\n      <td>1000</td>\n      <td>0.050</td>\n      <td>0.500</td>\n    </tr>\n    <tr>\n      <th>residential</th>\n      <td>0.82</td>\n      <td>600</td>\n      <td>0.035</td>\n      <td>0.020</td>\n    </tr>\n    <tr>\n      <th>parking</th>\n      <td>0.93</td>\n      <td>0</td>\n      <td>0.000</td>\n      <td>0.000</td>\n    </tr>\n  </tbody>\n</table>\n</div>"
     },
     "execution_count": 14,
     "metadata": {},
     "output_type": "execute_result"
    }
   ],
   "source": [
    "revenue_inputs = pd.DataFrame(\n",
    "    data=dict(\n",
    "        efficiency_ratio=efficiency_ratios,\n",
    "        initial_income_per_area_pa=initial_income_per_area_pa,\n",
    "        pgi_growth_rate=pgi_growth_rates,\n",
    "        vacancy_rate=vacancy_rates,\n",
    "        ))\n",
    "revenue_inputs"
   ],
   "metadata": {
    "collapsed": false,
    "ExecuteTime": {
     "end_time": "2023-06-29T06:46:13.430352Z",
     "start_time": "2023-06-29T06:46:13.421054Z"
    }
   }
  },
  {
   "cell_type": "code",
   "execution_count": 15,
   "metadata": {
    "collapsed": false,
    "ExecuteTime": {
     "end_time": "2023-06-29T06:46:13.430891Z",
     "start_time": "2023-06-29T06:46:13.429399Z"
    }
   },
   "outputs": [],
   "source": [
    "params = dict(\n",
    "    start_date=pd.Timestamp('2001-01-01'),\n",
    "    num_periods=10,\n",
    "    period_type=rk.periodicity.Type.YEAR\n",
    "    )"
   ]
  },
  {
   "cell_type": "markdown",
   "metadata": {
    "collapsed": false
   },
   "source": [
    "##### `Stream`s of Revenue `Flow`s per `Entity`:\n",
    "It is now simple to construct a set of cash flows per `Entity` in our design\n",
    "scenario. We will use a similar structure to the previous notebooks."
   ]
  },
  {
   "cell_type": "markdown",
   "source": [
    "First we will define a general 'Spans' class that defines the time periods. This\n",
    "can be used by any subsequent calculations:"
   ],
   "metadata": {
    "collapsed": false
   }
  },
  {
   "cell_type": "code",
   "execution_count": 16,
   "outputs": [],
   "source": [
    "class Spans:\n",
    "    def __init__(self, params: dict):\n",
    "        self.params = params\n",
    "        self.calc_span = rk.span.Span.from_num_periods(\n",
    "            name='Span to Calculate Reversion',\n",
    "            date=self.params['start_date'],\n",
    "            period_type=self.params['period_type'],\n",
    "            num_periods=self.params['num_periods'] + 1)\n",
    "        self.acq_span = rk.span.Span.from_num_periods(\n",
    "            name='Acquisition Span',\n",
    "            date=rk.periodicity.offset_date(\n",
    "                self.params['start_date'],\n",
    "                num_periods=-1,\n",
    "                period_type=self.params['period_type']),\n",
    "            period_type=self.params['period_type'],\n",
    "            num_periods=1)\n",
    "        self.span = self.calc_span.shift(\n",
    "            name='Span',\n",
    "            num_periods=-1,\n",
    "            period_type=self.params['period_type'],\n",
    "            bound='end')"
   ],
   "metadata": {
    "collapsed": false,
    "ExecuteTime": {
     "end_time": "2023-06-29T06:46:13.430979Z",
     "start_time": "2023-06-29T06:46:13.430578Z"
    }
   }
  },
  {
   "cell_type": "markdown",
   "metadata": {
    "collapsed": false
   },
   "source": [
    "Then, we will define a `Revenues` class that holds the parameters:"
   ]
  },
  {
   "cell_type": "code",
   "execution_count": 17,
   "metadata": {
    "collapsed": false,
    "ExecuteTime": {
     "end_time": "2023-06-29T06:46:13.441902Z",
     "start_time": "2023-06-29T06:46:13.431868Z"
    }
   },
   "outputs": [],
   "source": [
    "class Revenues:\n",
    "    def __init__(\n",
    "            self,\n",
    "            params: dict,\n",
    "            spans: Spans):\n",
    "        self.params = params\n",
    "        self.spans = spans"
   ]
  },
  {
   "cell_type": "markdown",
   "metadata": {
    "collapsed": false
   },
   "source": [
    "And then we add Revenue `Flow`s:"
   ]
  },
  {
   "cell_type": "code",
   "execution_count": 18,
   "metadata": {
    "collapsed": false,
    "ExecuteTime": {
     "end_time": "2023-06-29T06:46:13.442120Z",
     "start_time": "2023-06-29T06:46:13.435140Z"
    }
   },
   "outputs": [],
   "source": [
    "@rk.update_class(Revenues)\n",
    "class Revenues:\n",
    "    def generate(self):\n",
    "        self.pgi = rk.flux.Flow.from_projection(\n",
    "            name='Potential Gross Income',\n",
    "            value=self.params['initial_income'],\n",
    "            proj=rk.projection.Extrapolation(\n",
    "            form=rk.extrapolation.Compounding(\n",
    "                rate=self.params['pgi_growth_rate']),\n",
    "            sequence=self.spans.calc_span.to_index(period_type=self.params['period_type'])),\n",
    "            units=currency.units)\n",
    "        self.vacancy = rk.flux.Flow(\n",
    "            name='Vacancy Allowance',\n",
    "            movements=self.pgi.movements * -self.params['vacancy_rate'],\n",
    "            units=currency.units)\n",
    "        self.egi = rk.flux.Stream(\n",
    "            name='Effective Gross Income',\n",
    "            flows=[self.pgi, self.vacancy],\n",
    "            period_type=self.params['period_type'])"
   ]
  },
  {
   "cell_type": "markdown",
   "metadata": {
    "collapsed": false
   },
   "source": [
    "Now we need to add `Entity`-specific parameters to the parameters dictionary,\n",
    "and run  the `init_spans()` and `init_flows()` methods per floor `Entity`:\n",
    "\n",
    "(Note we place the resultant `Stream` in the `events` attribute of the `Entity`)"
   ]
  },
  {
   "cell_type": "code",
   "execution_count": 19,
   "outputs": [],
   "source": [
    "spans = Spans(params)"
   ],
   "metadata": {
    "collapsed": false,
    "ExecuteTime": {
     "end_time": "2023-06-29T06:46:13.480457Z",
     "start_time": "2023-06-29T06:46:13.437927Z"
    }
   }
  },
  {
   "cell_type": "code",
   "execution_count": 20,
   "metadata": {
    "collapsed": false,
    "ExecuteTime": {
     "end_time": "2023-06-29T06:46:13.619192Z",
     "start_time": "2023-06-29T06:46:13.443682Z"
    }
   },
   "outputs": [],
   "source": [
    "for floor in floors:\n",
    "    parent = floor.get_relatives(\n",
    "        relationship_type='spatiallyContains',\n",
    "        outgoing=False,\n",
    "        assembly=spatial_containment)[0]\n",
    "    floor['use'] = parent['use']\n",
    "\n",
    "    floor.params = params.copy()\n",
    "    floor.params['initial_income'] = initial_income_per_area_pa[floor['use']] * floor['gfa']\n",
    "    floor.params['pgi_growth_rate'] = pgi_growth_rates[floor['use']]\n",
    "    floor.params['vacancy_rate'] = vacancy_rates[floor['use']]\n",
    "\n",
    "    # floor.events = {}\n",
    "\n",
    "    revenues = Revenues(floor.params, spans)\n",
    "    revenues.generate()\n",
    "\n",
    "    floor['pgi'] = revenues.pgi\n",
    "    floor['vacancy'] = revenues.vacancy\n",
    "    floor['egi'] = revenues.egi\n",
    "    # floor = {\n",
    "    #     'pgi': revenues.pgi,\n",
    "    #     'vacancy': revenues.vacancy,\n",
    "    #     'egi': revenues.egi,\n",
    "    #     }"
   ]
  },
  {
   "cell_type": "markdown",
   "metadata": {
    "collapsed": false
   },
   "source": [
    "##### Aggregating by Parent Container\n",
    "Since we have the \"containment\" hierarchy, we can aggregate the `Revenues` per\n",
    "parent `Entity`:"
   ]
  },
  {
   "cell_type": "markdown",
   "metadata": {
    "collapsed": false
   },
   "source": [
    "*Rangekeeper* provides some helper methods to assist in the aggregation of\n",
    "`Stream`s and `Flow`s; specifically, since the `Entity.aggregate()` method\n",
    "updates a specified `Entity`'s property with a dictionary of subentity\n",
    "properties, keyed by their respective `entityId`s, we can use the\n",
    "`aggregate_events()` function to support the collation of child `Entity`\n",
    "`Flow`s into a single `Stream` per label in the `Entity`'s `events` property:"
   ]
  },
  {
   "cell_type": "code",
   "execution_count": 21,
   "metadata": {
    "collapsed": false,
    "ExecuteTime": {
     "end_time": "2023-06-29T06:46:13.619369Z",
     "start_time": "2023-06-29T06:46:13.603068Z"
    }
   },
   "outputs": [],
   "source": [
    "def aggregate_egi(**kwargs):\n",
    "    return rk.graph.Entity.aggregate_events(\n",
    "        **kwargs,\n",
    "        property='egi',\n",
    "        period_type=period_type)"
   ]
  },
  {
   "cell_type": "markdown",
   "metadata": {
    "collapsed": false
   },
   "source": [
    "This function is passed into the `Entity.aggregate()` method as the `function`\n",
    "parameter:"
   ]
  },
  {
   "cell_type": "code",
   "execution_count": 22,
   "metadata": {
    "collapsed": false,
    "ExecuteTime": {
     "end_time": "2023-06-29T06:46:13.822501Z",
     "start_time": "2023-06-29T06:46:13.616374Z"
    }
   },
   "outputs": [],
   "source": [
    "spatial_containment.aggregate(\n",
    "    function=aggregate_egis,\n",
    "    property='events',\n",
    "    label='subtotal_egi',\n",
    "    relationship_type='spatiallyContains')"
   ]
  },
  {
   "cell_type": "markdown",
   "source": [
    "Now we can look at what the `aggregate` method has produced for a single floor:"
   ],
   "metadata": {
    "collapsed": false
   }
  },
  {
   "cell_type": "code",
   "execution_count": 23,
   "outputs": [
    {
     "data": {
      "text/plain": "<rangekeeper.flux.Stream at 0x2e5abed10>",
      "text/html": "<table>\n<thead>\n<tr><th style=\"text-align: right;\">  date</th><th style=\"text-align: right;\">  Potential Gross Income</th><th style=\"text-align: right;\">  Vacancy Allowance</th></tr>\n</thead>\n<tbody>\n<tr><td style=\"text-align: right;\">  2001</td><td style=\"text-align: right;\">           $1,416,633.62</td><td style=\"text-align: right;\">        -$28,332.67</td></tr>\n<tr><td style=\"text-align: right;\">  2002</td><td style=\"text-align: right;\">           $1,466,215.80</td><td style=\"text-align: right;\">        -$29,324.32</td></tr>\n<tr><td style=\"text-align: right;\">  2003</td><td style=\"text-align: right;\">           $1,517,533.35</td><td style=\"text-align: right;\">        -$30,350.67</td></tr>\n<tr><td style=\"text-align: right;\">  2004</td><td style=\"text-align: right;\">           $1,570,647.02</td><td style=\"text-align: right;\">        -$31,412.94</td></tr>\n<tr><td style=\"text-align: right;\">  2005</td><td style=\"text-align: right;\">           $1,625,619.66</td><td style=\"text-align: right;\">        -$32,512.39</td></tr>\n<tr><td style=\"text-align: right;\">  2006</td><td style=\"text-align: right;\">           $1,682,516.35</td><td style=\"text-align: right;\">        -$33,650.33</td></tr>\n<tr><td style=\"text-align: right;\">  2007</td><td style=\"text-align: right;\">           $1,741,404.42</td><td style=\"text-align: right;\">        -$34,828.09</td></tr>\n<tr><td style=\"text-align: right;\">  2008</td><td style=\"text-align: right;\">           $1,802,353.58</td><td style=\"text-align: right;\">        -$36,047.07</td></tr>\n<tr><td style=\"text-align: right;\">  2009</td><td style=\"text-align: right;\">           $1,865,435.95</td><td style=\"text-align: right;\">        -$37,308.72</td></tr>\n<tr><td style=\"text-align: right;\">  2010</td><td style=\"text-align: right;\">           $1,930,726.21</td><td style=\"text-align: right;\">        -$38,614.52</td></tr>\n<tr><td style=\"text-align: right;\">  2011</td><td style=\"text-align: right;\">           $1,998,301.63</td><td style=\"text-align: right;\">        -$39,966.03</td></tr>\n</tbody>\n</table>"
     },
     "execution_count": 23,
     "metadata": {},
     "output_type": "execute_result"
    }
   ],
   "source": [
    "floors[1]['events']['egi']"
   ],
   "metadata": {
    "collapsed": false,
    "ExecuteTime": {
     "end_time": "2023-06-29T06:46:13.833585Z",
     "start_time": "2023-06-29T06:46:13.827269Z"
    }
   }
  },
  {
   "cell_type": "markdown",
   "metadata": {
    "collapsed": false
   },
   "source": [
    "We can then inspect the `aggregate_egi` property of an `Entity`, which holds a\n",
    "`Stream` of `Flow`s (each coming from a child of that `Entity`). Let's use the\n",
    "office compartment in Building A:"
   ]
  },
  {
   "cell_type": "code",
   "execution_count": 24,
   "metadata": {
    "collapsed": false,
    "ExecuteTime": {
     "end_time": "2023-06-29T06:46:13.857833Z",
     "start_time": "2023-06-29T06:46:13.832986Z"
    }
   },
   "outputs": [
    {
     "name": "stdout",
     "output_type": "stream",
     "text": [
      "buildingAoffice\n"
     ]
    },
    {
     "data": {
      "text/plain": "<rangekeeper.flux.Stream at 0x302d39000>",
      "text/html": "<table>\n<thead>\n<tr><th style=\"text-align: right;\">  date</th><th style=\"text-align: right;\">  Effective Gross Income for a1fc1a28-1133-47f2-a8d9-58da817946c2 [buildingAofficeFloor1]</th><th style=\"text-align: right;\">  Effective Gross Income for 0296748a-317a-47eb-bf94-e5dbbd78afc1 [buildingAofficeFloor2]</th><th style=\"text-align: right;\">  Effective Gross Income for 74ed0525-d8f9-4f36-b20f-1b8a2baf60f2 [buildingAofficeFloor3]</th><th style=\"text-align: right;\">  Effective Gross Income for ae0fb830-76df-4d91-82ed-4ed755fdec4b [buildingAofficeFloor4]</th><th style=\"text-align: right;\">  Effective Gross Income for c1b696b1-cae0-49ed-a8ba-0e795438d3d2 [buildingAofficeFloor5]</th><th style=\"text-align: right;\">  Effective Gross Income for add95b48-71c3-40e7-9f35-7db604f3f9f0 [buildingAofficeFloor6]</th><th style=\"text-align: right;\">  Effective Gross Income for d8443e6d-9080-4154-89e3-29f0e98ed90a [buildingAofficeFloor7]</th><th style=\"text-align: right;\">  Effective Gross Income for f8945b4f-6f59-4c5a-a83f-462a97f2dcc4 [buildingAofficeFloor8]</th><th style=\"text-align: right;\">  Effective Gross Income for b548b184-1643-4c23-9b14-9025aeda59c3 [buildingAofficeFloor9]</th><th style=\"text-align: right;\">  Effective Gross Income for e8048367-edd2-4a61-ae0f-fd878688c910 [buildingAofficeFloor10]</th></tr>\n</thead>\n<tbody>\n<tr><td style=\"text-align: right;\">  2001</td><td style=\"text-align: right;\">                                                                            $1,145,271.71</td><td style=\"text-align: right;\">                                                                            $1,005,189.64</td><td style=\"text-align: right;\">                                                                            $1,005,189.64</td><td style=\"text-align: right;\">                                                                            $1,005,189.64</td><td style=\"text-align: right;\">                                                                            $1,005,189.64</td><td style=\"text-align: right;\">                                                                            $1,005,189.64</td><td style=\"text-align: right;\">                                                                            $1,005,189.64</td><td style=\"text-align: right;\">                                                                            $1,005,189.64</td><td style=\"text-align: right;\">                                                                            $1,005,189.64</td><td style=\"text-align: right;\">                                                                             $1,005,189.64</td></tr>\n<tr><td style=\"text-align: right;\">  2002</td><td style=\"text-align: right;\">                                                                            $1,168,177.14</td><td style=\"text-align: right;\">                                                                            $1,025,293.44</td><td style=\"text-align: right;\">                                                                            $1,025,293.44</td><td style=\"text-align: right;\">                                                                            $1,025,293.44</td><td style=\"text-align: right;\">                                                                            $1,025,293.44</td><td style=\"text-align: right;\">                                                                            $1,025,293.44</td><td style=\"text-align: right;\">                                                                            $1,025,293.44</td><td style=\"text-align: right;\">                                                                            $1,025,293.44</td><td style=\"text-align: right;\">                                                                            $1,025,293.44</td><td style=\"text-align: right;\">                                                                             $1,025,293.44</td></tr>\n<tr><td style=\"text-align: right;\">  2003</td><td style=\"text-align: right;\">                                                                            $1,191,540.69</td><td style=\"text-align: right;\">                                                                            $1,045,799.30</td><td style=\"text-align: right;\">                                                                            $1,045,799.30</td><td style=\"text-align: right;\">                                                                            $1,045,799.30</td><td style=\"text-align: right;\">                                                                            $1,045,799.30</td><td style=\"text-align: right;\">                                                                            $1,045,799.30</td><td style=\"text-align: right;\">                                                                            $1,045,799.30</td><td style=\"text-align: right;\">                                                                            $1,045,799.30</td><td style=\"text-align: right;\">                                                                            $1,045,799.30</td><td style=\"text-align: right;\">                                                                             $1,045,799.30</td></tr>\n<tr><td style=\"text-align: right;\">  2004</td><td style=\"text-align: right;\">                                                                            $1,215,371.50</td><td style=\"text-align: right;\">                                                                            $1,066,715.29</td><td style=\"text-align: right;\">                                                                            $1,066,715.29</td><td style=\"text-align: right;\">                                                                            $1,066,715.29</td><td style=\"text-align: right;\">                                                                            $1,066,715.29</td><td style=\"text-align: right;\">                                                                            $1,066,715.29</td><td style=\"text-align: right;\">                                                                            $1,066,715.29</td><td style=\"text-align: right;\">                                                                            $1,066,715.29</td><td style=\"text-align: right;\">                                                                            $1,066,715.29</td><td style=\"text-align: right;\">                                                                             $1,066,715.29</td></tr>\n<tr><td style=\"text-align: right;\">  2005</td><td style=\"text-align: right;\">                                                                            $1,239,678.93</td><td style=\"text-align: right;\">                                                                            $1,088,049.60</td><td style=\"text-align: right;\">                                                                            $1,088,049.60</td><td style=\"text-align: right;\">                                                                            $1,088,049.60</td><td style=\"text-align: right;\">                                                                            $1,088,049.60</td><td style=\"text-align: right;\">                                                                            $1,088,049.60</td><td style=\"text-align: right;\">                                                                            $1,088,049.60</td><td style=\"text-align: right;\">                                                                            $1,088,049.60</td><td style=\"text-align: right;\">                                                                            $1,088,049.60</td><td style=\"text-align: right;\">                                                                             $1,088,049.60</td></tr>\n<tr><td style=\"text-align: right;\">  2006</td><td style=\"text-align: right;\">                                                                            $1,264,472.51</td><td style=\"text-align: right;\">                                                                            $1,109,810.59</td><td style=\"text-align: right;\">                                                                            $1,109,810.59</td><td style=\"text-align: right;\">                                                                            $1,109,810.59</td><td style=\"text-align: right;\">                                                                            $1,109,810.59</td><td style=\"text-align: right;\">                                                                            $1,109,810.59</td><td style=\"text-align: right;\">                                                                            $1,109,810.59</td><td style=\"text-align: right;\">                                                                            $1,109,810.59</td><td style=\"text-align: right;\">                                                                            $1,109,810.59</td><td style=\"text-align: right;\">                                                                             $1,109,810.59</td></tr>\n<tr><td style=\"text-align: right;\">  2007</td><td style=\"text-align: right;\">                                                                            $1,289,761.96</td><td style=\"text-align: right;\">                                                                            $1,132,006.80</td><td style=\"text-align: right;\">                                                                            $1,132,006.80</td><td style=\"text-align: right;\">                                                                            $1,132,006.80</td><td style=\"text-align: right;\">                                                                            $1,132,006.80</td><td style=\"text-align: right;\">                                                                            $1,132,006.80</td><td style=\"text-align: right;\">                                                                            $1,132,006.80</td><td style=\"text-align: right;\">                                                                            $1,132,006.80</td><td style=\"text-align: right;\">                                                                            $1,132,006.80</td><td style=\"text-align: right;\">                                                                             $1,132,006.80</td></tr>\n<tr><td style=\"text-align: right;\">  2008</td><td style=\"text-align: right;\">                                                                            $1,315,557.20</td><td style=\"text-align: right;\">                                                                            $1,154,646.94</td><td style=\"text-align: right;\">                                                                            $1,154,646.94</td><td style=\"text-align: right;\">                                                                            $1,154,646.94</td><td style=\"text-align: right;\">                                                                            $1,154,646.94</td><td style=\"text-align: right;\">                                                                            $1,154,646.94</td><td style=\"text-align: right;\">                                                                            $1,154,646.94</td><td style=\"text-align: right;\">                                                                            $1,154,646.94</td><td style=\"text-align: right;\">                                                                            $1,154,646.94</td><td style=\"text-align: right;\">                                                                             $1,154,646.94</td></tr>\n<tr><td style=\"text-align: right;\">  2009</td><td style=\"text-align: right;\">                                                                            $1,341,868.34</td><td style=\"text-align: right;\">                                                                            $1,177,739.88</td><td style=\"text-align: right;\">                                                                            $1,177,739.88</td><td style=\"text-align: right;\">                                                                            $1,177,739.88</td><td style=\"text-align: right;\">                                                                            $1,177,739.88</td><td style=\"text-align: right;\">                                                                            $1,177,739.88</td><td style=\"text-align: right;\">                                                                            $1,177,739.88</td><td style=\"text-align: right;\">                                                                            $1,177,739.88</td><td style=\"text-align: right;\">                                                                            $1,177,739.88</td><td style=\"text-align: right;\">                                                                             $1,177,739.88</td></tr>\n<tr><td style=\"text-align: right;\">  2010</td><td style=\"text-align: right;\">                                                                            $1,368,705.71</td><td style=\"text-align: right;\">                                                                            $1,201,294.67</td><td style=\"text-align: right;\">                                                                            $1,201,294.67</td><td style=\"text-align: right;\">                                                                            $1,201,294.67</td><td style=\"text-align: right;\">                                                                            $1,201,294.67</td><td style=\"text-align: right;\">                                                                            $1,201,294.67</td><td style=\"text-align: right;\">                                                                            $1,201,294.67</td><td style=\"text-align: right;\">                                                                            $1,201,294.67</td><td style=\"text-align: right;\">                                                                            $1,201,294.67</td><td style=\"text-align: right;\">                                                                             $1,201,294.67</td></tr>\n<tr><td style=\"text-align: right;\">  2011</td><td style=\"text-align: right;\">                                                                            $1,396,079.82</td><td style=\"text-align: right;\">                                                                            $1,225,320.57</td><td style=\"text-align: right;\">                                                                            $1,225,320.57</td><td style=\"text-align: right;\">                                                                            $1,225,320.57</td><td style=\"text-align: right;\">                                                                            $1,225,320.57</td><td style=\"text-align: right;\">                                                                            $1,225,320.57</td><td style=\"text-align: right;\">                                                                            $1,225,320.57</td><td style=\"text-align: right;\">                                                                            $1,225,320.57</td><td style=\"text-align: right;\">                                                                            $1,225,320.57</td><td style=\"text-align: right;\">                                                                             $1,225,320.57</td></tr>\n</tbody>\n</table>"
     },
     "execution_count": 24,
     "metadata": {},
     "output_type": "execute_result"
    }
   ],
   "source": [
    "buildingAoffice = [e for (id, e) in spatial_containment.get_entities().items() if e.name == 'buildingAoffice'][0]\n",
    "print(buildingAoffice.name)\n",
    "buildingAoffice['subtotal_egi']"
   ]
  },
  {
   "cell_type": "markdown",
   "metadata": {
    "collapsed": false
   },
   "source": [
    "We can also easily sum and collapse that aggregation, as it is a Stream`:"
   ]
  },
  {
   "cell_type": "code",
   "execution_count": 25,
   "metadata": {
    "collapsed": false,
    "ExecuteTime": {
     "end_time": "2023-06-29T06:46:13.858018Z",
     "start_time": "2023-06-29T06:46:13.852586Z"
    }
   },
   "outputs": [
    {
     "data": {
      "text/plain": "<rangekeeper.flux.Flow at 0x302dc0be0>",
      "text/html": "<table>\n<thead>\n<tr><th style=\"text-align: right;\">               date</th><th style=\"text-align: right;\">  egi for bfc1c272-665f-432d-a7b3-a4c955556e7f [buildingAoffice] Aggregation (sum)</th></tr>\n</thead>\n<tbody>\n<tr><td style=\"text-align: right;\">2001-12-31 00:00:00</td><td style=\"text-align: right;\">                                                                    $10,191,978.50</td></tr>\n<tr><td style=\"text-align: right;\">2002-12-31 00:00:00</td><td style=\"text-align: right;\">                                                                    $10,395,818.07</td></tr>\n<tr><td style=\"text-align: right;\">2003-12-31 00:00:00</td><td style=\"text-align: right;\">                                                                    $10,603,734.43</td></tr>\n<tr><td style=\"text-align: right;\">2004-12-31 00:00:00</td><td style=\"text-align: right;\">                                                                    $10,815,809.12</td></tr>\n<tr><td style=\"text-align: right;\">2005-12-31 00:00:00</td><td style=\"text-align: right;\">                                                                    $11,032,125.30</td></tr>\n<tr><td style=\"text-align: right;\">2006-12-31 00:00:00</td><td style=\"text-align: right;\">                                                                    $11,252,767.81</td></tr>\n<tr><td style=\"text-align: right;\">2007-12-31 00:00:00</td><td style=\"text-align: right;\">                                                                    $11,477,823.16</td></tr>\n<tr><td style=\"text-align: right;\">2008-12-31 00:00:00</td><td style=\"text-align: right;\">                                                                    $11,707,379.63</td></tr>\n<tr><td style=\"text-align: right;\">2009-12-31 00:00:00</td><td style=\"text-align: right;\">                                                                    $11,941,527.22</td></tr>\n<tr><td style=\"text-align: right;\">2010-12-31 00:00:00</td><td style=\"text-align: right;\">                                                                    $12,180,357.76</td></tr>\n<tr><td style=\"text-align: right;\">2011-12-31 00:00:00</td><td style=\"text-align: right;\">                                                                    $12,423,964.92</td></tr>\n</tbody>\n</table>"
     },
     "execution_count": 25,
     "metadata": {},
     "output_type": "execute_result"
    }
   ],
   "source": [
    "buildingAoffice['subtotal_egi'].sum()"
   ]
  },
  {
   "cell_type": "code",
   "execution_count": 26,
   "metadata": {
    "collapsed": false,
    "ExecuteTime": {
     "end_time": "2023-06-29T06:46:13.869649Z",
     "start_time": "2023-06-29T06:46:13.862326Z"
    }
   },
   "outputs": [
    {
     "data": {
      "text/plain": "<rangekeeper.flux.Flow at 0x302d838e0>",
      "text/html": "<table>\n<thead>\n<tr><th style=\"text-align: right;\">               date</th><th style=\"text-align: right;\">  egi for bfc1c272-665f-432d-a7b3-a4c955556e7f [buildingAoffice] Aggregation (sum)</th></tr>\n</thead>\n<tbody>\n<tr><td style=\"text-align: right;\">2011-12-31 00:00:00</td><td style=\"text-align: right;\">                                                                   $124,023,285.90</td></tr>\n</tbody>\n</table>"
     },
     "execution_count": 26,
     "metadata": {},
     "output_type": "execute_result"
    }
   ],
   "source": [
    "buildingAoffice['subtotal_egi'].sum().collapse()"
   ]
  },
  {
   "cell_type": "markdown",
   "metadata": {
    "collapsed": false
   },
   "source": [
    "The above subtotals the Effective Gross Income (EGI) for the office space of\n",
    "Building A over the period of the scenario.\n",
    "\n",
    "We can then do this for all `Entity`s in the graph, and plot the results:"
   ]
  },
  {
   "cell_type": "code",
   "execution_count": 27,
   "metadata": {
    "collapsed": false,
    "ExecuteTime": {
     "end_time": "2023-06-29T06:46:14.378886Z",
     "start_time": "2023-06-29T06:46:13.875835Z"
    }
   },
   "outputs": [
    {
     "data": {
      "text/plain": "<IPython.lib.display.IFrame at 0x10921d060>",
      "text/html": "\n        <iframe\n            width=\"100%\"\n            height=\"1600\"\n            src=\"./aggregate_egis_chart.html\"\n            frameborder=\"0\"\n            allowfullscreen\n            \n        ></iframe>\n        "
     },
     "execution_count": 27,
     "metadata": {},
     "output_type": "execute_result"
    }
   ],
   "source": [
    "sunburst = spatial_containment.sunburst(property='subtotal_egi')\n",
    "treemap = spatial_containment.treemap(property='subtotal_egi')\n",
    "fig = plotly.subplots.make_subplots(\n",
    "    rows=2, cols=1,\n",
    "    specs=[[{\"type\": \"sunburst\"}], [{\"type\": \"treemap\"}]])\n",
    "fig.append_trace(sunburst, row=1, col=1)\n",
    "fig.append_trace(treemap, row=2, col=1)\n",
    "filename='aggregate_egis_chart.html'\n",
    "py.plot(fig, filename='assets/{0}'.format(filename), auto_open=False)\n",
    "IFrame(src=\"./{0}\".format(filename), width='100%', height=800 * len(fig.data))"
   ]
  },
  {
   "cell_type": "markdown",
   "metadata": {
    "collapsed": false
   },
   "source": [
    "### Cost-generating Entities\n",
    "Let's now do the same for the cost-generating `Entity`s. While it is routine to\n",
    "register revenue-generating `Flow`s with `Entity`s that have lettable or\n",
    "sellable floor space, the convention to also register all cost-generating\n",
    "`Flow`s with only those same `Entity`s is possibly only done out of convenience\n",
    "rather than accuracy.\n",
    "\n",
    "For example, both operating and capital expenses may be attributed to building\n",
    "systems (e.g. maintenance, upgrading, & replacement of MEP or facade\n",
    "componentry) that are not coincident with the floor space they are servicing.\n",
    "Ie, the convention to average (sub)total costs across (sub)total floor space may\n",
    "be misleading, especially when attempting to compare different scenarios at\n",
    "different resolutions (See {cite}`farevuu2018`, 5.4 Flaw of Averages).\n",
    "\n",
    "By virtue of *Rangekeeper*'s multi-faceted approach to its object model, costs\n",
    "can be attributed and aggregated to `Entity`s that are not spatially coincident\n",
    "with the revenue-generating `Entity`s; in the example design scenario, we will\n",
    "use the 'services' relationship-type to register and aggregate some of these,\n",
    "while space-specific costs will be registered and aggregated via spatial\n",
    "containment:"
   ]
  },
  {
   "cell_type": "markdown",
   "source": [
    "#### Operational and Capital Expenses of Building Utilities & Systems\n",
    "Of course, in a simplified model and without knowing design and engineering\n",
    "details for the scenario, costs for operational and capital expenses will be\n",
    "calculated from some proportional rate of spatial characteristics of the\n",
    "building. In this example, we will use the following as simplifications of how\n",
    "these types of costs may be calculated. Note that this is more a demonstration\n",
    "of methodology, and in practice would adjust to real-world data about the\n",
    "specific building systems and their costs.\n",
    "-  'Floorplate-derived' Operational and Capital Expenses will be calculated as a\n",
    "function of the subtotal floorplate area of 'building' `Entity`s. One could\n",
    "think of this as representing the cost of operating the floor's MEP, or\n",
    "maintaining, repairing and upgrading elements on the floors themselves\n",
    "(e.g. FF&E)\n",
    "- 'Facade-derived' Operational Expenses will be calculated as a function of the\n",
    "  surface area of 'building' `Entity`. This would represent the cost of facade\n",
    "maintenance, repair or replacement.\n",
    "- 'Utility-derived' Capital Expenses will be calculated as a function of the\n",
    "- volume of 'utility' `Entity`s. This represents the cost of repairing and\n",
    "upgrading the building's MEP and transportation systems.\n"
   ],
   "metadata": {
    "collapsed": false
   }
  },
  {
   "cell_type": "markdown",
   "source": [
    "#### Cost `Flow`s per `Entity`\n",
    "There are some properties of `Entity`s that we need to produce before we can\n",
    "calculate `Flow`s off them. In this case we need to produce the facade area\n",
    "for any `Entity`s that have 'perimeter' and 'ftf' (Floor-to-Floor height)\n",
    "properties:\n"
   ],
   "metadata": {
    "collapsed": false
   }
  },
  {
   "cell_type": "code",
   "execution_count": 28,
   "outputs": [],
   "source": [
    "# Aggregate Facade Areas:\n",
    "for (entityId, entity) in scenario.get_entities().items():\n",
    "    if hasattr(entity, 'perimeter') & hasattr(entity, 'ftf'):\n",
    "        entity['facade_area'] = entity['perimeter'] * entity['ftf']\n",
    "spatial_containment.aggregate(\n",
    "    property='facade_area',\n",
    "    label='subtotal_facade_area')"
   ],
   "metadata": {
    "collapsed": false,
    "ExecuteTime": {
     "end_time": "2023-06-29T06:46:14.383189Z",
     "start_time": "2023-06-29T06:46:14.381842Z"
    }
   }
  },
  {
   "cell_type": "markdown",
   "source": [
    "We now set up operational and capital costing parameters that are based off\n",
    "either areas or volume, as well as growth rates:"
   ],
   "metadata": {
    "collapsed": false
   }
  },
  {
   "cell_type": "code",
   "execution_count": 29,
   "outputs": [],
   "source": [
    "floor_opex_per_area_pa = dict(\n",
    "    office=-200,\n",
    "    retail=-300,\n",
    "    residential=-150,\n",
    "    parking=-75,\n",
    "    )\n",
    "facade_opex_per_area_pa = dict(\n",
    "    office=-50,\n",
    "    retail=-100,\n",
    "    residential=-50,\n",
    "    parking=-25,\n",
    "    )\n",
    "opex_growth_rate = 0.03\n",
    "floor_capex_per_area_pa = dict(\n",
    "    office=-125,\n",
    "    retail=-175,\n",
    "    residential=-125,\n",
    "    parking=-50,\n",
    "    )\n",
    "utility_capex_per_vol_pa = -200\n",
    "capex_growth_rate = 0.03"
   ],
   "metadata": {
    "collapsed": false,
    "ExecuteTime": {
     "end_time": "2023-06-29T06:46:14.386895Z",
     "start_time": "2023-06-29T06:46:14.385391Z"
    }
   }
  },
  {
   "cell_type": "markdown",
   "source": [
    "Now we can set up our `Costs` class to produce cost `Flow`s and `Stream`s:"
   ],
   "metadata": {
    "collapsed": false
   }
  },
  {
   "cell_type": "code",
   "execution_count": 30,
   "outputs": [],
   "source": [
    "class Costs:\n",
    "    def __init__(\n",
    "            self,\n",
    "            params: dict,\n",
    "            spans: Spans):\n",
    "        self.params = params\n",
    "        self.spans = spans"
   ],
   "metadata": {
    "collapsed": false,
    "ExecuteTime": {
     "end_time": "2023-06-29T06:46:14.389981Z",
     "start_time": "2023-06-29T06:46:14.388266Z"
    }
   }
  },
  {
   "cell_type": "code",
   "execution_count": 31,
   "outputs": [],
   "source": [
    "@rk.update_class(Costs)\n",
    "class Costs:\n",
    "    def generate_space_costs(self):\n",
    "        floor_opex = rk.flux.Flow.from_projection(\n",
    "            name='Floor-derived Operating Expenses',\n",
    "            value=self.params['initial_floor_opex'],\n",
    "            proj=rk.projection.Extrapolation(\n",
    "            form=rk.extrapolation.Compounding(\n",
    "                rate=self.params['opex_growth_rate']),\n",
    "            sequence=self.spans.calc_span.to_index(period_type=self.params['period_type'])),\n",
    "            units=currency.units)\n",
    "        facade_opex = rk.flux.Flow.from_projection(\n",
    "            name='Facade-derived Operating Expenses',\n",
    "            value=self.params['initial_facade_opex'],\n",
    "            proj=rk.projection.Extrapolation(\n",
    "            form=rk.extrapolation.Compounding(\n",
    "                rate=self.params['opex_growth_rate']),\n",
    "            sequence=self.spans.calc_span.to_index(period_type=self.params['period_type'])),\n",
    "            units=currency.units)\n",
    "        self.opex = rk.flux.Stream(\n",
    "            name='Space Operating Expenses',\n",
    "            flows=[floor_opex, facade_opex],\n",
    "            period_type=self.params['period_type'])\n",
    "\n",
    "        floor_capex = rk.flux.Flow.from_projection(\n",
    "            name='Floor-derived Capital Expenses',\n",
    "            value=self.params['initial_floor_capex'],\n",
    "            proj=rk.projection.Extrapolation(\n",
    "            form=rk.extrapolation.Compounding(\n",
    "                rate=self.params['capex_growth_rate']),\n",
    "            sequence=self.spans.calc_span.to_index(period_type=rk.periodicity.Type.SEMIDECADE)),\n",
    "            units=currency.units)\n",
    "        self.floor_capex = floor_capex.trim_to_span(self.spans.calc_span)  # This is to avoid issues with using >yearly periodicity in projection"
   ],
   "metadata": {
    "collapsed": false,
    "ExecuteTime": {
     "end_time": "2023-06-29T06:46:14.395226Z",
     "start_time": "2023-06-29T06:46:14.393235Z"
    }
   }
  },
  {
   "cell_type": "markdown",
   "source": [
    "We will split the generation of space-based costs from the utility-based costs,\n",
    "as they will be applied to different `Entity` types:"
   ],
   "metadata": {
    "collapsed": false
   }
  },
  {
   "cell_type": "code",
   "execution_count": 32,
   "outputs": [],
   "source": [
    "@rk.update_class(Costs)\n",
    "class Costs:\n",
    "    def generate_utils_costs(self):\n",
    "        utils_capex = rk.flux.Flow.from_projection(\n",
    "            name='Utilities-derived Capital Expenses',\n",
    "            value=self.params['initial_utility_capex'],\n",
    "            proj=rk.projection.Extrapolation(\n",
    "                form=rk.extrapolation.Compounding(\n",
    "                    rate=self.params['capex_growth_rate']),\n",
    "                sequence=self.spans.calc_span.to_index(period_type=rk.periodicity.Type.SEMIDECADE)),\n",
    "            units=currency.units)\n",
    "        self.utils_capex = utils_capex.trim_to_span(self.spans.calc_span)  # This is to avoid issues with using >yearly periodicity in projection"
   ],
   "metadata": {
    "collapsed": false,
    "ExecuteTime": {
     "end_time": "2023-06-29T06:46:14.436451Z",
     "start_time": "2023-06-29T06:46:14.397264Z"
    }
   }
  },
  {
   "cell_type": "markdown",
   "source": [
    "Now we can run the `Costs` class against 'floor' and 'utilities' `Entity`s:"
   ],
   "metadata": {
    "collapsed": false
   }
  },
  {
   "cell_type": "code",
   "execution_count": 33,
   "outputs": [],
   "source": [
    "for floor in floors:\n",
    "    floor_params = params.copy()\n",
    "\n",
    "    floor_params['initial_floor_opex'] = floor_opex_per_area_pa[floor['use']] * floor['subtotal_gfa']\n",
    "    floor_params['initial_facade_opex'] = facade_opex_per_area_pa[floor['use']] * floor['subtotal_facade_area']\n",
    "    floor_params['initial_floor_capex'] = floor_capex_per_area_pa[floor['use']] * floor['subtotal_gfa']\n",
    "    floor_params['opex_growth_rate'] = opex_growth_rate\n",
    "    floor_params['capex_growth_rate'] = capex_growth_rate\n",
    "    floor['params'] = floor_params\n",
    "\n",
    "    floor['events'] = {} if not hasattr(floor, 'events') else floor['events']\n",
    "\n",
    "    costs = Costs(\n",
    "        params=floor_params,\n",
    "        spans=spans)\n",
    "    costs.generate_space_costs()\n",
    "    floor['events'].update(dict(\n",
    "        opex=costs.opex,\n",
    "        capex=costs.floor_capex))"
   ],
   "metadata": {
    "collapsed": false,
    "ExecuteTime": {
     "end_time": "2023-06-29T06:46:14.547632Z",
     "start_time": "2023-06-29T06:46:14.415995Z"
    }
   }
  },
  {
   "cell_type": "code",
   "execution_count": 34,
   "outputs": [
    {
     "data": {
      "text/plain": "{'71fd4551-8e65-4e7a-8e2a-9d18e69146b0': Entity: buildingBcores (Type: utilities),\n '55963d84-702d-423d-be05-c8bb6e88f517': Entity: buildingAcores (Type: utilities),\n '8d9f92cf-5613-4de4-b99b-7681aa76b4cd': Entity: plinthplant (Type: utilities)}"
     },
     "execution_count": 34,
     "metadata": {},
     "output_type": "execute_result"
    }
   ],
   "source": [
    "utilities = scenario.filter_by_type(entity_type='utilities', is_assembly=False)\n",
    "utilities.get_entities()"
   ],
   "metadata": {
    "collapsed": false,
    "ExecuteTime": {
     "end_time": "2023-06-29T06:46:14.553427Z",
     "start_time": "2023-06-29T06:46:14.549395Z"
    }
   }
  },
  {
   "cell_type": "code",
   "execution_count": 35,
   "outputs": [],
   "source": [
    "for utility in utilities.get_entities().values():\n",
    "    utility_params = params.copy()\n",
    "\n",
    "    utility_params['initial_utility_capex'] = utility_capex_per_vol_pa * utility['volume']\n",
    "    utility_params['capex_growth_rate'] = capex_growth_rate\n",
    "    utility['params'] = utility_params\n",
    "\n",
    "    utility['events'] = {} if not hasattr(utility, 'events') else utility['events']\n",
    "\n",
    "    costs = Costs(\n",
    "        params=utility_params,\n",
    "        spans=spans)\n",
    "    costs.generate_utils_costs()\n",
    "    utility['events'].update(dict(\n",
    "        capex=costs.utils_capex))"
   ],
   "metadata": {
    "collapsed": false,
    "ExecuteTime": {
     "end_time": "2023-06-29T06:46:14.558228Z",
     "start_time": "2023-06-29T06:46:14.556577Z"
    }
   }
  },
  {
   "cell_type": "code",
   "execution_count": 36,
   "outputs": [
    {
     "data": {
      "text/plain": "<rangekeeper.flux.Flow at 0x3038469b0>",
      "text/html": "<table>\n<thead>\n<tr><th style=\"text-align: right;\">               date</th><th style=\"text-align: right;\">  Utilities-derived Capital Expenses</th></tr>\n</thead>\n<tbody>\n<tr><td style=\"text-align: right;\">2005-12-31 00:00:00</td><td style=\"text-align: right;\">                      -$1,731,326.78</td></tr>\n<tr><td style=\"text-align: right;\">2010-12-31 00:00:00</td><td style=\"text-align: right;\">                      -$1,783,266.58</td></tr>\n</tbody>\n</table>"
     },
     "execution_count": 36,
     "metadata": {},
     "output_type": "execute_result"
    }
   ],
   "source": [
    "list(utilities.get_entities().values())[0]['events']['capex']"
   ],
   "metadata": {
    "collapsed": false,
    "ExecuteTime": {
     "end_time": "2023-06-29T06:46:14.562506Z",
     "start_time": "2023-06-29T06:46:14.560405Z"
    }
   }
  },
  {
   "cell_type": "markdown",
   "source": [
    "And finally aggregate them according to their relationships type (either\n",
    "spatial containment or service provision):"
   ],
   "metadata": {
    "collapsed": false
   }
  },
  {
   "cell_type": "code",
   "execution_count": 37,
   "outputs": [],
   "source": [
    "# def aggregate_opex(**kwargs):\n",
    "#     return rk.graph.Entity.aggregate_events(\n",
    "#         **kwargs,\n",
    "#         property='opex',\n",
    "#         period_type=period_type)\n",
    "# scenario.aggregate(\n",
    "#     function=aggregate_opex,\n",
    "#     property='events',\n",
    "#     label='subtotal_opex',\n",
    "#     relationship_type='spatiallyContains')"
   ],
   "metadata": {
    "collapsed": false,
    "ExecuteTime": {
     "end_time": "2023-06-29T06:46:14.565550Z",
     "start_time": "2023-06-29T06:46:14.563441Z"
    }
   }
  },
  {
   "cell_type": "code",
   "execution_count": 38,
   "outputs": [],
   "source": [
    "# def aggregate_capex(**kwargs):\n",
    "#     return rk.graph.Entity.aggregate_events(\n",
    "#         **kwargs,\n",
    "#         property='capex',\n",
    "#         period_type=period_type)\n",
    "# scenario.aggregate(\n",
    "#     function=aggregate_capex,\n",
    "#     property='events',\n",
    "#     label='subtotal_capex',\n",
    "#     relationship_type='spatiallyContains')"
   ],
   "metadata": {
    "collapsed": false,
    "ExecuteTime": {
     "end_time": "2023-06-29T06:46:14.568790Z",
     "start_time": "2023-06-29T06:46:14.566034Z"
    }
   }
  },
  {
   "cell_type": "code",
   "execution_count": 39,
   "outputs": [],
   "source": [
    "# def aggregate_utils_capex(**kwargs):\n",
    "#     return rk.graph.Entity.aggregate_events(\n",
    "#         **kwargs,\n",
    "#         property='capex',\n",
    "#         period_type=period_type)\n",
    "# scenario.aggregate(\n",
    "#     function=aggregate_utils_capex,\n",
    "#     property='events',\n",
    "#     label='subtotal_utils_capex',\n",
    "#     relationship_type='services')"
   ],
   "metadata": {
    "collapsed": false,
    "ExecuteTime": {
     "end_time": "2023-06-29T06:46:14.600528Z",
     "start_time": "2023-06-29T06:46:14.568212Z"
    }
   }
  },
  {
   "cell_type": "markdown",
   "source": [
    "If we wish to see the ultimate aggregation of those costs, we can do so by\n",
    "totalling them at their root `Entity`:"
   ],
   "metadata": {
    "collapsed": false
   }
  },
  {
   "cell_type": "code",
   "execution_count": 40,
   "outputs": [],
   "source": [
    "# scenario_opex = scenario.get_roots()['spatiallyContains'][0]['subtotal_opex'].total()\n",
    "# scenario_capex = scenario.get_roots()['spatiallyContains'][0]['subtotal_capex'].total()\n",
    "# utils_capex = scenario.get_roots()['services'][0]['subtotal_utils_capex'].total()"
   ],
   "metadata": {
    "collapsed": false,
    "ExecuteTime": {
     "end_time": "2023-06-29T06:46:14.613321Z",
     "start_time": "2023-06-29T06:46:14.570742Z"
    }
   }
  },
  {
   "cell_type": "code",
   "execution_count": 41,
   "outputs": [],
   "source": [
    "# print('Scenario OPEX: ${:,.2f}'.format(scenario_opex))\n",
    "# print('Scenario CAPEX: ${:,.2f}'.format(scenario_capex))\n",
    "# print('Utils CAPEX: ${:,.2f}'.format(utils_capex))"
   ],
   "metadata": {
    "collapsed": false,
    "ExecuteTime": {
     "end_time": "2023-06-29T06:46:14.613552Z",
     "start_time": "2023-06-29T06:46:14.572603Z"
    }
   }
  },
  {
   "cell_type": "markdown",
   "source": [
    "To get a sense check if this is reasonable, we can compare the opex and capex\n",
    "to the PGI. First let's aggregate the PGI for all `Entity`s:"
   ],
   "metadata": {
    "collapsed": false
   }
  },
  {
   "cell_type": "code",
   "execution_count": 42,
   "outputs": [],
   "source": [
    "def aggregate_pgis(**kwargs):\n",
    "    return rk.graph.Entity.aggregate_events(\n",
    "        **kwargs,\n",
    "        property='pgi',\n",
    "        period_type=period_type)"
   ],
   "metadata": {
    "collapsed": false,
    "ExecuteTime": {
     "end_time": "2023-06-29T06:46:14.613606Z",
     "start_time": "2023-06-29T06:46:14.576458Z"
    }
   }
  },
  {
   "cell_type": "code",
   "execution_count": 43,
   "outputs": [],
   "source": [
    "spatial_containment.aggregate(\n",
    "    property='events',\n",
    "    function=aggregate_pgis,\n",
    "    label='subtotal_pgi')"
   ],
   "metadata": {
    "collapsed": false,
    "ExecuteTime": {
     "end_time": "2023-06-29T06:46:14.696133Z",
     "start_time": "2023-06-29T06:46:14.583438Z"
    }
   }
  },
  {
   "cell_type": "markdown",
   "source": [
    "And total it to the root `Entity`:"
   ],
   "metadata": {
    "collapsed": false
   }
  },
  {
   "cell_type": "code",
   "execution_count": 44,
   "outputs": [
    {
     "name": "stdout",
     "output_type": "stream",
     "text": [
      "Scenario PGI: $277,563,820.78\n"
     ]
    }
   ],
   "source": [
    "scenario_pgi = scenario.get_roots()['spatiallyContains'][0]['subtotal_pgi'].total()\n",
    "print('Scenario PGI: ${:,.2f}'.format(scenario_pgi))"
   ],
   "metadata": {
    "collapsed": false,
    "ExecuteTime": {
     "end_time": "2023-06-29T06:46:14.702738Z",
     "start_time": "2023-06-29T06:46:14.698906Z"
    }
   }
  },
  {
   "cell_type": "markdown",
   "source": [
    "The total opex : pgi ratio is:"
   ],
   "metadata": {
    "collapsed": false
   }
  },
  {
   "cell_type": "code",
   "execution_count": 45,
   "outputs": [
    {
     "ename": "NameError",
     "evalue": "name 'scenario_opex' is not defined",
     "output_type": "error",
     "traceback": [
      "\u001B[0;31m---------------------------------------------------------------------------\u001B[0m",
      "\u001B[0;31mNameError\u001B[0m                                 Traceback (most recent call last)",
      "Cell \u001B[0;32mIn[45], line 1\u001B[0m\n\u001B[0;32m----> 1\u001B[0m \u001B[38;5;28mprint\u001B[39m(\u001B[38;5;124m'\u001B[39m\u001B[38;5;124mScenario OpEx as proportion of PGI: \u001B[39m\u001B[38;5;132;01m{0:.2%}\u001B[39;00m\u001B[38;5;124m'\u001B[39m\u001B[38;5;241m.\u001B[39mformat(\u001B[38;5;241m-\u001B[39m\u001B[43mscenario_opex\u001B[49m \u001B[38;5;241m/\u001B[39m scenario_pgi))\n",
      "\u001B[0;31mNameError\u001B[0m: name 'scenario_opex' is not defined"
     ]
    }
   ],
   "source": [
    "print('Scenario OpEx as proportion of PGI: {0:.2%}'.format(-scenario_opex / scenario_pgi))"
   ],
   "metadata": {
    "collapsed": false,
    "ExecuteTime": {
     "end_time": "2023-06-29T06:46:15.005180Z",
     "start_time": "2023-06-29T06:46:14.701838Z"
    }
   }
  },
  {
   "cell_type": "markdown",
   "source": [
    "While the total capex : pgi ratio is:"
   ],
   "metadata": {
    "collapsed": false
   }
  },
  {
   "cell_type": "code",
   "execution_count": null,
   "outputs": [],
   "source": [
    "print('Scenario CapEx as proportion of PGI: {0:.2%}'.format(-scenario_capex / scenario_pgi))"
   ],
   "metadata": {
    "collapsed": false,
    "ExecuteTime": {
     "start_time": "2023-06-29T06:46:15.003917Z"
    }
   }
  },
  {
   "cell_type": "markdown",
   "source": [
    "We can also then chart the relative contributions of each `Entity` to the\n",
    "sceanrio's Net Annual Cashflows (NACFs):"
   ],
   "metadata": {
    "collapsed": false
   }
  },
  {
   "cell_type": "code",
   "execution_count": null,
   "outputs": [],
   "source": [
    "# for entity in scenario.get_entities().values():\n",
    "#     egi_subtotal_value = 0 if not hasattr(entity, 'subtotal_egi') or entity['subtotal_egi'] is None else entity['subtotal_egi'].total()\n",
    "#     opex_subtotal_value = 0 if not hasattr(entity, 'subtotal_opex') or entity['subtotal_opex'] is None else entity['subtotal_opex'].total()\n",
    "#     capex_subtotal_value = 0 if not hasattr(entity, 'subtotal_capex') or entity['subtotal_capex'] is None else entity['subtotal_capex'].total()\n",
    "#\n",
    "#     entity['subtotal_egi_value'] = egi_subtotal_value / 1000\n",
    "#     entity['subtotal_opex_value'] = opex_subtotal_value / 1000\n",
    "#     entity['subtotal_capex_value'] = capex_subtotal_value / 1000\n",
    "#     entity['subtotal_nacf_value'] = entity['subtotal_egi_value'] + \\\n",
    "#                                     entity['subtotal_opex_value'] + \\\n",
    "#                                     entity['subtotal_capex_value']\n",
    "#\n",
    "#\n",
    "#     #\n",
    "#     #\n",
    "#     # flows = list(filter(None, [egi_flow, opex_flow, capex_flow]))\n",
    "#     # if len(flows) > 0:\n",
    "#     #     entity['subtotal_nacf'] = rk.flux.Stream(\n",
    "#     #         name='Net Annual Cashflows',\n",
    "#     #         flows=flows,\n",
    "#     #         period_type=period_type)\n",
    "#     # else:\n",
    "#     #     entity['subtotal_nacf'] = 0"
   ],
   "metadata": {
    "collapsed": false
   }
  },
  {
   "cell_type": "code",
   "execution_count": 52,
   "outputs": [
    {
     "ename": "AttributeError",
     "evalue": "'NoneType' object has no attribute 'total'",
     "output_type": "error",
     "traceback": [
      "\u001B[0;31m---------------------------------------------------------------------------\u001B[0m",
      "\u001B[0;31mAttributeError\u001B[0m                            Traceback (most recent call last)",
      "Cell \u001B[0;32mIn[52], line 6\u001B[0m\n\u001B[1;32m      4\u001B[0m     entity[\u001B[38;5;124m'\u001B[39m\u001B[38;5;124msubtotal_opex\u001B[39m\u001B[38;5;124m'\u001B[39m] \u001B[38;5;241m=\u001B[39m events[\u001B[38;5;124m'\u001B[39m\u001B[38;5;124mopex\u001B[39m\u001B[38;5;124m'\u001B[39m]\u001B[38;5;241m.\u001B[39mtotal() \u001B[38;5;28;01mif\u001B[39;00m \u001B[38;5;28mhasattr\u001B[39m(events, \u001B[38;5;124m'\u001B[39m\u001B[38;5;124mopex\u001B[39m\u001B[38;5;124m'\u001B[39m) \u001B[38;5;28;01melse\u001B[39;00m \u001B[38;5;241m0\u001B[39m\n\u001B[1;32m      5\u001B[0m     entity[\u001B[38;5;124m'\u001B[39m\u001B[38;5;124msubtotal_capex\u001B[39m\u001B[38;5;124m'\u001B[39m] \u001B[38;5;241m=\u001B[39m events[\u001B[38;5;124m'\u001B[39m\u001B[38;5;124mcapex\u001B[39m\u001B[38;5;124m'\u001B[39m]\u001B[38;5;241m.\u001B[39mtotal() \u001B[38;5;28;01mif\u001B[39;00m \u001B[38;5;28mhasattr\u001B[39m(events, \u001B[38;5;124m'\u001B[39m\u001B[38;5;124mcapex\u001B[39m\u001B[38;5;124m'\u001B[39m) \u001B[38;5;28;01melse\u001B[39;00m \u001B[38;5;241m0\u001B[39m\n\u001B[0;32m----> 6\u001B[0m     entity[\u001B[38;5;124m'\u001B[39m\u001B[38;5;124msubtotal_nacf\u001B[39m\u001B[38;5;124m'\u001B[39m] \u001B[38;5;241m=\u001B[39m \u001B[43mentity\u001B[49m\u001B[43m[\u001B[49m\u001B[38;5;124;43m'\u001B[39;49m\u001B[38;5;124;43msubtotal_egi\u001B[39;49m\u001B[38;5;124;43m'\u001B[39;49m\u001B[43m]\u001B[49m\u001B[38;5;241;43m.\u001B[39;49m\u001B[43mtotal\u001B[49m() \u001B[38;5;28;01mif\u001B[39;00m \u001B[38;5;28mhasattr\u001B[39m(entity, \u001B[38;5;124m'\u001B[39m\u001B[38;5;124msubtotal_egi\u001B[39m\u001B[38;5;124m'\u001B[39m) \u001B[38;5;28;01melse\u001B[39;00m \u001B[38;5;241m0\u001B[39m \u001B[38;5;241m+\u001B[39m entity[\u001B[38;5;124m'\u001B[39m\u001B[38;5;124msubtotal_opex\u001B[39m\u001B[38;5;124m'\u001B[39m] \u001B[38;5;241m+\u001B[39m entity[\u001B[38;5;124m'\u001B[39m\u001B[38;5;124msubtotal_capex\u001B[39m\u001B[38;5;124m'\u001B[39m]\n\u001B[1;32m      9\u001B[0m \u001B[38;5;66;03m# egi_subtotal_value = 0 if not hasattr(entity, 'subtotal_egi') or entity['subtotal_egi'] is None else entity['subtotal_egi'].total()\u001B[39;00m\n\u001B[1;32m     10\u001B[0m \u001B[38;5;66;03m# opex_subtotal_value = 0 if not hasattr(entity, 'subtotal_opex') or entity['subtotal_opex'] is None else entity['subtotal_opex'].total()\u001B[39;00m\n\u001B[1;32m     11\u001B[0m \u001B[38;5;66;03m# capex_subtotal_value = 0 if not hasattr(entity, 'subtotal_capex') or entity['subtotal_capex'] is None else entity['subtotal_capex'].total()\u001B[39;00m\n\u001B[0;32m   (...)\u001B[0m\n\u001B[1;32m     29\u001B[0m \u001B[38;5;66;03m# else:\u001B[39;00m\n\u001B[1;32m     30\u001B[0m \u001B[38;5;66;03m#     entity['subtotal_nacf'] = 0\u001B[39;00m\n",
      "\u001B[0;31mAttributeError\u001B[0m: 'NoneType' object has no attribute 'total'"
     ]
    }
   ],
   "source": [
    "for entity in scenario.get_entities().values():\n",
    "    if hasattr(entity, 'events'):\n",
    "        events = entity['events']\n",
    "        entity['subtotal_opex'] = events['opex'].total() if hasattr(events, 'opex') else 0\n",
    "        entity['subtotal_capex'] = events['capex'].total() if hasattr(events, 'capex') else 0\n",
    "        entity['subtotal_nacf'] = entity['subtotal_egi'].total() if hasattr(entity, 'subtotal_egi') else 0 + entity['subtotal_opex'] + entity['subtotal_capex']\n",
    "\n",
    "\n",
    "    # egi_subtotal_value = 0 if not hasattr(entity, 'subtotal_egi') or entity['subtotal_egi'] is None else entity['subtotal_egi'].total()\n",
    "    # opex_subtotal_value = 0 if not hasattr(entity, 'subtotal_opex') or entity['subtotal_opex'] is None else entity['subtotal_opex'].total()\n",
    "    # capex_subtotal_value = 0 if not hasattr(entity, 'subtotal_capex') or entity['subtotal_capex'] is None else entity['subtotal_capex'].total()\n",
    "    #\n",
    "    # entity['subtotal_egi_value'] = egi_subtotal_value / 1000\n",
    "    # entity['subtotal_opex_value'] = opex_subtotal_value / 1000\n",
    "    # entity['subtotal_capex_value'] = capex_subtotal_value / 1000\n",
    "    # entity['subtotal_nacf_value'] = entity['subtotal_egi_value'] + \\\n",
    "    #                                 entity['subtotal_opex_value'] + \\\n",
    "    #                                 entity['subtotal_capex_value']\n",
    "    #\n",
    "\n",
    "    #\n",
    "    #\n",
    "    # flows = list(filter(None, [egi_flow, opex_flow, capex_flow]))\n",
    "    # if len(flows) > 0:\n",
    "    #     entity['subtotal_nacf'] = rk.flux.Stream(\n",
    "    #         name='Net Annual Cashflows',\n",
    "    #         flows=flows,\n",
    "    #         period_type=period_type)\n",
    "    # else:\n",
    "    #     entity['subtotal_nacf'] = 0"
   ],
   "metadata": {
    "collapsed": false,
    "ExecuteTime": {
     "end_time": "2023-06-29T06:47:31.940161Z",
     "start_time": "2023-06-29T06:47:31.937735Z"
    }
   }
  },
  {
   "cell_type": "code",
   "execution_count": 47,
   "outputs": [
    {
     "data": {
      "text/plain": "Entity: plinthparkingFloor-2 (Type: floor)"
     },
     "execution_count": 47,
     "metadata": {},
     "output_type": "execute_result"
    }
   ],
   "source": [
    "parking = [e for e in scenario.get_entities().values() if 'parking' in e['name'] and rk.graph.is_entity(e, True)]\n",
    "parking[1]"
   ],
   "metadata": {
    "collapsed": false,
    "ExecuteTime": {
     "end_time": "2023-06-29T06:46:40.233466Z",
     "start_time": "2023-06-29T06:46:40.227324Z"
    }
   }
  },
  {
   "cell_type": "code",
   "execution_count": 48,
   "outputs": [
    {
     "data": {
      "text/plain": "<rangekeeper.flux.Stream at 0x2e5b59bd0>",
      "text/html": "<table>\n<thead>\n<tr><th style=\"text-align: right;\">  date</th><th style=\"text-align: right;\">  Potential Gross Income for cf287254-7d66-4a4b-8a56-f247f51b41db [plinthparkingFloor-2] for cf287254-7d66-4a4b-8a56-f247f51b41db [plinthparkingFloor-2] for cf287254-7d66-4a4b-8a56-f247f51b41db [plinthparkingFloor-2] for cf287254-7d66-4a4b-8a56-f247f51b41db [plinthparkingFloor-2]</th><th style=\"text-align: right;\">  Vacancy Allowance</th></tr>\n</thead>\n<tbody>\n<tr><td style=\"text-align: right;\">  2001</td><td style=\"text-align: right;\">                                                                                                                                                                                                                                                                                   $0.00</td><td style=\"text-align: right;\">              $0.00</td></tr>\n<tr><td style=\"text-align: right;\">  2002</td><td style=\"text-align: right;\">                                                                                                                                                                                                                                                                                   $0.00</td><td style=\"text-align: right;\">              $0.00</td></tr>\n<tr><td style=\"text-align: right;\">  2003</td><td style=\"text-align: right;\">                                                                                                                                                                                                                                                                                   $0.00</td><td style=\"text-align: right;\">              $0.00</td></tr>\n<tr><td style=\"text-align: right;\">  2004</td><td style=\"text-align: right;\">                                                                                                                                                                                                                                                                                   $0.00</td><td style=\"text-align: right;\">              $0.00</td></tr>\n<tr><td style=\"text-align: right;\">  2005</td><td style=\"text-align: right;\">                                                                                                                                                                                                                                                                                   $0.00</td><td style=\"text-align: right;\">              $0.00</td></tr>\n<tr><td style=\"text-align: right;\">  2006</td><td style=\"text-align: right;\">                                                                                                                                                                                                                                                                                   $0.00</td><td style=\"text-align: right;\">              $0.00</td></tr>\n<tr><td style=\"text-align: right;\">  2007</td><td style=\"text-align: right;\">                                                                                                                                                                                                                                                                                   $0.00</td><td style=\"text-align: right;\">              $0.00</td></tr>\n<tr><td style=\"text-align: right;\">  2008</td><td style=\"text-align: right;\">                                                                                                                                                                                                                                                                                   $0.00</td><td style=\"text-align: right;\">              $0.00</td></tr>\n<tr><td style=\"text-align: right;\">  2009</td><td style=\"text-align: right;\">                                                                                                                                                                                                                                                                                   $0.00</td><td style=\"text-align: right;\">              $0.00</td></tr>\n<tr><td style=\"text-align: right;\">  2010</td><td style=\"text-align: right;\">                                                                                                                                                                                                                                                                                   $0.00</td><td style=\"text-align: right;\">              $0.00</td></tr>\n<tr><td style=\"text-align: right;\">  2011</td><td style=\"text-align: right;\">                                                                                                                                                                                                                                                                                   $0.00</td><td style=\"text-align: right;\">              $0.00</td></tr>\n</tbody>\n</table>"
     },
     "execution_count": 48,
     "metadata": {},
     "output_type": "execute_result"
    }
   ],
   "source": [
    "parking[1]['events']['egi']"
   ],
   "metadata": {
    "collapsed": false,
    "ExecuteTime": {
     "end_time": "2023-06-29T06:46:40.935445Z",
     "start_time": "2023-06-29T06:46:40.925327Z"
    }
   }
  },
  {
   "cell_type": "code",
   "execution_count": 51,
   "outputs": [
    {
     "data": {
      "text/plain": "                                                            name  \\\na39ac4c3-094b-4d92-b71d-46c5a857f407                 development   \n981c0743-6a4c-4abd-8a97-2c937e48b897                   buildingB   \ne3149444-dfbc-41d0-9eb1-f08785a62da1                      plinth   \n529ce7bc-addf-4bad-8ec5-cbecbd73d4f1                   buildingA   \n29b746f5-42fe-4321-9a4a-8c65c9f0410c                   utilities   \n3fc29315-81e7-45a9-8241-62938e904d73        buildingBresidential   \nf508623d-1d81-4082-85ee-5b1e32c7bb10            buildingBparking   \n6ac8ab6d-a730-44b8-97aa-a5db09b7fbd0             buildingBretail   \n71fd4551-8e65-4e7a-8e2a-9d18e69146b0              buildingBcores   \nc11f68da-0544-487b-9cb9-8a3a3a98a9b8  buildingBresidentialFloor0   \ncfc3edf5-1e7d-4499-b25f-ee86ed013516  buildingBresidentialFloor1   \n3e158dd9-aa5d-47bb-bc13-4b3e6d328fe1  buildingBresidentialFloor2   \nb8609a1e-b9f8-44a0-ab98-468ff247d753  buildingBresidentialFloor3   \nf68d2f9b-13c5-42e2-9bca-1826f7eff481  buildingBresidentialFloor4   \nec086fbc-7b21-4958-b456-9bce6a883c98  buildingBresidentialFloor5   \n9ecaf92a-a90e-4572-a426-3ed392e0c28a  buildingBresidentialFloor6   \n9a884f88-0627-4eb7-b1ec-80ea39b0a25b  buildingBresidentialFloor0   \nd7dd5233-b1c3-451f-ae90-5a80fed205bd      buildingBparkingFloor0   \n4acebff3-f17b-44fb-ba29-6bc02053b329       buildingBretailFloor0   \nd188b4bb-27a3-4f63-9469-e9705c60a7a5               plinthparking   \n8d9f92cf-5613-4de4-b99b-7681aa76b4cd                 plinthplant   \ncf287254-7d66-4a4b-8a56-f247f51b41db        plinthparkingFloor-2   \n926a3e9d-0601-4f96-bd71-317d928194f2        plinthparkingFloor-1   \n987c5866-03b0-4948-962e-4870684f481b            buildingAparking   \n7dc6bf46-805f-4990-bcd2-d0fe1de4dd47             buildingAretail   \n549a988b-c3bc-42d4-a6a3-a8dc694fa770        buildingAresidential   \n3cf2bf71-61fa-4a61-b163-6265c299376d             buildingAretail   \nbfc1c272-665f-432d-a7b3-a4c955556e7f             buildingAoffice   \n55963d84-702d-423d-be05-c8bb6e88f517              buildingAcores   \n01282060-ad91-44be-b0d3-ff43e340e8bd      buildingAparkingFloor0   \nf9e9ae1c-00f3-4966-9682-281ef2a86899       buildingAretailFloor0   \ne7b3aec0-5003-448b-a0e3-4c2dbb605f85  buildingAresidentialFloor0   \n9c13f0be-9991-4d9f-b41b-a0e962bdeb89  buildingAresidentialFloor0   \ne88ff464-a453-45bb-93d8-5f983d417912  buildingAresidentialFloor1   \n8ce80d06-69f6-404a-b0fd-a728eb0dfed6  buildingAresidentialFloor2   \nbb0a0d86-31c1-4780-b81f-8d0e5a5d83be  buildingAresidentialFloor3   \n32080c6a-1f31-446f-a3d9-59759ac00ff4       buildingAretailFloor0   \na1fc1a28-1133-47f2-a8d9-58da817946c2       buildingAofficeFloor1   \n0296748a-317a-47eb-bf94-e5dbbd78afc1       buildingAofficeFloor2   \n74ed0525-d8f9-4f36-b20f-1b8a2baf60f2       buildingAofficeFloor3   \nae0fb830-76df-4d91-82ed-4ed755fdec4b       buildingAofficeFloor4   \nc1b696b1-cae0-49ed-a8ba-0e795438d3d2       buildingAofficeFloor5   \nadd95b48-71c3-40e7-9f35-7db604f3f9f0       buildingAofficeFloor6   \nd8443e6d-9080-4154-89e3-29f0e98ed90a       buildingAofficeFloor7   \nf8945b4f-6f59-4c5a-a83f-462a97f2dcc4       buildingAofficeFloor8   \nb548b184-1643-4c23-9b14-9025aeda59c3       buildingAofficeFloor9   \ne8048367-edd2-4a61-ae0f-fd878688c910      buildingAofficeFloor10   \n\n                                                                  entityId  \\\na39ac4c3-094b-4d92-b71d-46c5a857f407  a39ac4c3-094b-4d92-b71d-46c5a857f407   \n981c0743-6a4c-4abd-8a97-2c937e48b897  981c0743-6a4c-4abd-8a97-2c937e48b897   \ne3149444-dfbc-41d0-9eb1-f08785a62da1  e3149444-dfbc-41d0-9eb1-f08785a62da1   \n529ce7bc-addf-4bad-8ec5-cbecbd73d4f1  529ce7bc-addf-4bad-8ec5-cbecbd73d4f1   \n29b746f5-42fe-4321-9a4a-8c65c9f0410c  29b746f5-42fe-4321-9a4a-8c65c9f0410c   \n3fc29315-81e7-45a9-8241-62938e904d73  3fc29315-81e7-45a9-8241-62938e904d73   \nf508623d-1d81-4082-85ee-5b1e32c7bb10  f508623d-1d81-4082-85ee-5b1e32c7bb10   \n6ac8ab6d-a730-44b8-97aa-a5db09b7fbd0  6ac8ab6d-a730-44b8-97aa-a5db09b7fbd0   \n71fd4551-8e65-4e7a-8e2a-9d18e69146b0  71fd4551-8e65-4e7a-8e2a-9d18e69146b0   \nc11f68da-0544-487b-9cb9-8a3a3a98a9b8  c11f68da-0544-487b-9cb9-8a3a3a98a9b8   \ncfc3edf5-1e7d-4499-b25f-ee86ed013516  cfc3edf5-1e7d-4499-b25f-ee86ed013516   \n3e158dd9-aa5d-47bb-bc13-4b3e6d328fe1  3e158dd9-aa5d-47bb-bc13-4b3e6d328fe1   \nb8609a1e-b9f8-44a0-ab98-468ff247d753  b8609a1e-b9f8-44a0-ab98-468ff247d753   \nf68d2f9b-13c5-42e2-9bca-1826f7eff481  f68d2f9b-13c5-42e2-9bca-1826f7eff481   \nec086fbc-7b21-4958-b456-9bce6a883c98  ec086fbc-7b21-4958-b456-9bce6a883c98   \n9ecaf92a-a90e-4572-a426-3ed392e0c28a  9ecaf92a-a90e-4572-a426-3ed392e0c28a   \n9a884f88-0627-4eb7-b1ec-80ea39b0a25b  9a884f88-0627-4eb7-b1ec-80ea39b0a25b   \nd7dd5233-b1c3-451f-ae90-5a80fed205bd  d7dd5233-b1c3-451f-ae90-5a80fed205bd   \n4acebff3-f17b-44fb-ba29-6bc02053b329  4acebff3-f17b-44fb-ba29-6bc02053b329   \nd188b4bb-27a3-4f63-9469-e9705c60a7a5  d188b4bb-27a3-4f63-9469-e9705c60a7a5   \n8d9f92cf-5613-4de4-b99b-7681aa76b4cd  8d9f92cf-5613-4de4-b99b-7681aa76b4cd   \ncf287254-7d66-4a4b-8a56-f247f51b41db  cf287254-7d66-4a4b-8a56-f247f51b41db   \n926a3e9d-0601-4f96-bd71-317d928194f2  926a3e9d-0601-4f96-bd71-317d928194f2   \n987c5866-03b0-4948-962e-4870684f481b  987c5866-03b0-4948-962e-4870684f481b   \n7dc6bf46-805f-4990-bcd2-d0fe1de4dd47  7dc6bf46-805f-4990-bcd2-d0fe1de4dd47   \n549a988b-c3bc-42d4-a6a3-a8dc694fa770  549a988b-c3bc-42d4-a6a3-a8dc694fa770   \n3cf2bf71-61fa-4a61-b163-6265c299376d  3cf2bf71-61fa-4a61-b163-6265c299376d   \nbfc1c272-665f-432d-a7b3-a4c955556e7f  bfc1c272-665f-432d-a7b3-a4c955556e7f   \n55963d84-702d-423d-be05-c8bb6e88f517  55963d84-702d-423d-be05-c8bb6e88f517   \n01282060-ad91-44be-b0d3-ff43e340e8bd  01282060-ad91-44be-b0d3-ff43e340e8bd   \nf9e9ae1c-00f3-4966-9682-281ef2a86899  f9e9ae1c-00f3-4966-9682-281ef2a86899   \ne7b3aec0-5003-448b-a0e3-4c2dbb605f85  e7b3aec0-5003-448b-a0e3-4c2dbb605f85   \n9c13f0be-9991-4d9f-b41b-a0e962bdeb89  9c13f0be-9991-4d9f-b41b-a0e962bdeb89   \ne88ff464-a453-45bb-93d8-5f983d417912  e88ff464-a453-45bb-93d8-5f983d417912   \n8ce80d06-69f6-404a-b0fd-a728eb0dfed6  8ce80d06-69f6-404a-b0fd-a728eb0dfed6   \nbb0a0d86-31c1-4780-b81f-8d0e5a5d83be  bb0a0d86-31c1-4780-b81f-8d0e5a5d83be   \n32080c6a-1f31-446f-a3d9-59759ac00ff4  32080c6a-1f31-446f-a3d9-59759ac00ff4   \na1fc1a28-1133-47f2-a8d9-58da817946c2  a1fc1a28-1133-47f2-a8d9-58da817946c2   \n0296748a-317a-47eb-bf94-e5dbbd78afc1  0296748a-317a-47eb-bf94-e5dbbd78afc1   \n74ed0525-d8f9-4f36-b20f-1b8a2baf60f2  74ed0525-d8f9-4f36-b20f-1b8a2baf60f2   \nae0fb830-76df-4d91-82ed-4ed755fdec4b  ae0fb830-76df-4d91-82ed-4ed755fdec4b   \nc1b696b1-cae0-49ed-a8ba-0e795438d3d2  c1b696b1-cae0-49ed-a8ba-0e795438d3d2   \nadd95b48-71c3-40e7-9f35-7db604f3f9f0  add95b48-71c3-40e7-9f35-7db604f3f9f0   \nd8443e6d-9080-4154-89e3-29f0e98ed90a  d8443e6d-9080-4154-89e3-29f0e98ed90a   \nf8945b4f-6f59-4c5a-a83f-462a97f2dcc4  f8945b4f-6f59-4c5a-a83f-462a97f2dcc4   \nb548b184-1643-4c23-9b14-9025aeda59c3  b548b184-1643-4c23-9b14-9025aeda59c3   \ne8048367-edd2-4a61-ae0f-fd878688c910  e8048367-edd2-4a61-ae0f-fd878688c910   \n\n                                                                          subtotal_nacf  \\\na39ac4c3-094b-4d92-b71d-46c5a857f407                                                NaN   \n981c0743-6a4c-4abd-8a97-2c937e48b897                                                NaN   \ne3149444-dfbc-41d0-9eb1-f08785a62da1                                                NaN   \n529ce7bc-addf-4bad-8ec5-cbecbd73d4f1                                                NaN   \n29b746f5-42fe-4321-9a4a-8c65c9f0410c                                                NaN   \n3fc29315-81e7-45a9-8241-62938e904d73                                                NaN   \nf508623d-1d81-4082-85ee-5b1e32c7bb10                                                NaN   \n6ac8ab6d-a730-44b8-97aa-a5db09b7fbd0                                                NaN   \n71fd4551-8e65-4e7a-8e2a-9d18e69146b0                                               None   \nc11f68da-0544-487b-9cb9-8a3a3a98a9b8       Effective Gross Income for c11f68da-0544-...   \ncfc3edf5-1e7d-4499-b25f-ee86ed013516       Effective Gross Income for cfc3edf5-1e7d-...   \n3e158dd9-aa5d-47bb-bc13-4b3e6d328fe1       Effective Gross Income for 3e158dd9-aa5d-...   \nb8609a1e-b9f8-44a0-ab98-468ff247d753       Effective Gross Income for b8609a1e-b9f8-...   \nf68d2f9b-13c5-42e2-9bca-1826f7eff481       Effective Gross Income for f68d2f9b-13c5-...   \nec086fbc-7b21-4958-b456-9bce6a883c98       Effective Gross Income for ec086fbc-7b21-...   \n9ecaf92a-a90e-4572-a426-3ed392e0c28a       Effective Gross Income for 9ecaf92a-a90e-...   \n9a884f88-0627-4eb7-b1ec-80ea39b0a25b       Effective Gross Income for 9a884f88-0627-...   \nd7dd5233-b1c3-451f-ae90-5a80fed205bd       Effective Gross Income for d7dd5233-b1c3-...   \n4acebff3-f17b-44fb-ba29-6bc02053b329       Effective Gross Income for 4acebff3-f17b-...   \nd188b4bb-27a3-4f63-9469-e9705c60a7a5                                                NaN   \n8d9f92cf-5613-4de4-b99b-7681aa76b4cd                                               None   \ncf287254-7d66-4a4b-8a56-f247f51b41db       Effective Gross Income for cf287254-7d66-...   \n926a3e9d-0601-4f96-bd71-317d928194f2       Effective Gross Income for 926a3e9d-0601-...   \n987c5866-03b0-4948-962e-4870684f481b                                                NaN   \n7dc6bf46-805f-4990-bcd2-d0fe1de4dd47                                                NaN   \n549a988b-c3bc-42d4-a6a3-a8dc694fa770                                                NaN   \n3cf2bf71-61fa-4a61-b163-6265c299376d                                                NaN   \nbfc1c272-665f-432d-a7b3-a4c955556e7f                                                NaN   \n55963d84-702d-423d-be05-c8bb6e88f517                                               None   \n01282060-ad91-44be-b0d3-ff43e340e8bd       Effective Gross Income for 01282060-ad91-...   \nf9e9ae1c-00f3-4966-9682-281ef2a86899       Effective Gross Income for f9e9ae1c-00f3-...   \ne7b3aec0-5003-448b-a0e3-4c2dbb605f85       Effective Gross Income for e7b3aec0-5003-...   \n9c13f0be-9991-4d9f-b41b-a0e962bdeb89       Effective Gross Income for 9c13f0be-9991-...   \ne88ff464-a453-45bb-93d8-5f983d417912       Effective Gross Income for e88ff464-a453-...   \n8ce80d06-69f6-404a-b0fd-a728eb0dfed6       Effective Gross Income for 8ce80d06-69f6-...   \nbb0a0d86-31c1-4780-b81f-8d0e5a5d83be       Effective Gross Income for bb0a0d86-31c1-...   \n32080c6a-1f31-446f-a3d9-59759ac00ff4       Effective Gross Income for 32080c6a-1f31-...   \na1fc1a28-1133-47f2-a8d9-58da817946c2       Effective Gross Income for a1fc1a28-1133-...   \n0296748a-317a-47eb-bf94-e5dbbd78afc1       Effective Gross Income for 0296748a-317a-...   \n74ed0525-d8f9-4f36-b20f-1b8a2baf60f2       Effective Gross Income for 74ed0525-d8f9-...   \nae0fb830-76df-4d91-82ed-4ed755fdec4b       Effective Gross Income for ae0fb830-76df-...   \nc1b696b1-cae0-49ed-a8ba-0e795438d3d2       Effective Gross Income for c1b696b1-cae0-...   \nadd95b48-71c3-40e7-9f35-7db604f3f9f0       Effective Gross Income for add95b48-71c3-...   \nd8443e6d-9080-4154-89e3-29f0e98ed90a       Effective Gross Income for d8443e6d-9080-...   \nf8945b4f-6f59-4c5a-a83f-462a97f2dcc4       Effective Gross Income for f8945b4f-6f59-...   \nb548b184-1643-4c23-9b14-9025aeda59c3       Effective Gross Income for b548b184-1643-...   \ne8048367-edd2-4a61-ae0f-fd878688c910       Effective Gross Income for e8048367-edd2-...   \n\n                                      subtotal_opex  subtotal_capex  \na39ac4c3-094b-4d92-b71d-46c5a857f407            NaN             NaN  \n981c0743-6a4c-4abd-8a97-2c937e48b897            NaN             NaN  \ne3149444-dfbc-41d0-9eb1-f08785a62da1            NaN             NaN  \n529ce7bc-addf-4bad-8ec5-cbecbd73d4f1            NaN             NaN  \n29b746f5-42fe-4321-9a4a-8c65c9f0410c            NaN             NaN  \n3fc29315-81e7-45a9-8241-62938e904d73            NaN             NaN  \nf508623d-1d81-4082-85ee-5b1e32c7bb10            NaN             NaN  \n6ac8ab6d-a730-44b8-97aa-a5db09b7fbd0            NaN             NaN  \n71fd4551-8e65-4e7a-8e2a-9d18e69146b0            0.0             0.0  \nc11f68da-0544-487b-9cb9-8a3a3a98a9b8            0.0             0.0  \ncfc3edf5-1e7d-4499-b25f-ee86ed013516            0.0             0.0  \n3e158dd9-aa5d-47bb-bc13-4b3e6d328fe1            0.0             0.0  \nb8609a1e-b9f8-44a0-ab98-468ff247d753            0.0             0.0  \nf68d2f9b-13c5-42e2-9bca-1826f7eff481            0.0             0.0  \nec086fbc-7b21-4958-b456-9bce6a883c98            0.0             0.0  \n9ecaf92a-a90e-4572-a426-3ed392e0c28a            0.0             0.0  \n9a884f88-0627-4eb7-b1ec-80ea39b0a25b            0.0             0.0  \nd7dd5233-b1c3-451f-ae90-5a80fed205bd            0.0             0.0  \n4acebff3-f17b-44fb-ba29-6bc02053b329            0.0             0.0  \nd188b4bb-27a3-4f63-9469-e9705c60a7a5            NaN             NaN  \n8d9f92cf-5613-4de4-b99b-7681aa76b4cd            0.0             0.0  \ncf287254-7d66-4a4b-8a56-f247f51b41db            0.0             0.0  \n926a3e9d-0601-4f96-bd71-317d928194f2            0.0             0.0  \n987c5866-03b0-4948-962e-4870684f481b            NaN             NaN  \n7dc6bf46-805f-4990-bcd2-d0fe1de4dd47            NaN             NaN  \n549a988b-c3bc-42d4-a6a3-a8dc694fa770            NaN             NaN  \n3cf2bf71-61fa-4a61-b163-6265c299376d            NaN             NaN  \nbfc1c272-665f-432d-a7b3-a4c955556e7f            NaN             NaN  \n55963d84-702d-423d-be05-c8bb6e88f517            0.0             0.0  \n01282060-ad91-44be-b0d3-ff43e340e8bd            0.0             0.0  \nf9e9ae1c-00f3-4966-9682-281ef2a86899            0.0             0.0  \ne7b3aec0-5003-448b-a0e3-4c2dbb605f85            0.0             0.0  \n9c13f0be-9991-4d9f-b41b-a0e962bdeb89            0.0             0.0  \ne88ff464-a453-45bb-93d8-5f983d417912            0.0             0.0  \n8ce80d06-69f6-404a-b0fd-a728eb0dfed6            0.0             0.0  \nbb0a0d86-31c1-4780-b81f-8d0e5a5d83be            0.0             0.0  \n32080c6a-1f31-446f-a3d9-59759ac00ff4            0.0             0.0  \na1fc1a28-1133-47f2-a8d9-58da817946c2            0.0             0.0  \n0296748a-317a-47eb-bf94-e5dbbd78afc1            0.0             0.0  \n74ed0525-d8f9-4f36-b20f-1b8a2baf60f2            0.0             0.0  \nae0fb830-76df-4d91-82ed-4ed755fdec4b            0.0             0.0  \nc1b696b1-cae0-49ed-a8ba-0e795438d3d2            0.0             0.0  \nadd95b48-71c3-40e7-9f35-7db604f3f9f0            0.0             0.0  \nd8443e6d-9080-4154-89e3-29f0e98ed90a            0.0             0.0  \nf8945b4f-6f59-4c5a-a83f-462a97f2dcc4            0.0             0.0  \nb548b184-1643-4c23-9b14-9025aeda59c3            0.0             0.0  \ne8048367-edd2-4a61-ae0f-fd878688c910            0.0             0.0  ",
      "text/html": "<div>\n<style scoped>\n    .dataframe tbody tr th:only-of-type {\n        vertical-align: middle;\n    }\n\n    .dataframe tbody tr th {\n        vertical-align: top;\n    }\n\n    .dataframe thead th {\n        text-align: right;\n    }\n</style>\n<table border=\"1\" class=\"dataframe\">\n  <thead>\n    <tr style=\"text-align: right;\">\n      <th></th>\n      <th>name</th>\n      <th>entityId</th>\n      <th>subtotal_nacf</th>\n      <th>subtotal_opex</th>\n      <th>subtotal_capex</th>\n    </tr>\n  </thead>\n  <tbody>\n    <tr>\n      <th>a39ac4c3-094b-4d92-b71d-46c5a857f407</th>\n      <td>development</td>\n      <td>a39ac4c3-094b-4d92-b71d-46c5a857f407</td>\n      <td>NaN</td>\n      <td>NaN</td>\n      <td>NaN</td>\n    </tr>\n    <tr>\n      <th>981c0743-6a4c-4abd-8a97-2c937e48b897</th>\n      <td>buildingB</td>\n      <td>981c0743-6a4c-4abd-8a97-2c937e48b897</td>\n      <td>NaN</td>\n      <td>NaN</td>\n      <td>NaN</td>\n    </tr>\n    <tr>\n      <th>e3149444-dfbc-41d0-9eb1-f08785a62da1</th>\n      <td>plinth</td>\n      <td>e3149444-dfbc-41d0-9eb1-f08785a62da1</td>\n      <td>NaN</td>\n      <td>NaN</td>\n      <td>NaN</td>\n    </tr>\n    <tr>\n      <th>529ce7bc-addf-4bad-8ec5-cbecbd73d4f1</th>\n      <td>buildingA</td>\n      <td>529ce7bc-addf-4bad-8ec5-cbecbd73d4f1</td>\n      <td>NaN</td>\n      <td>NaN</td>\n      <td>NaN</td>\n    </tr>\n    <tr>\n      <th>29b746f5-42fe-4321-9a4a-8c65c9f0410c</th>\n      <td>utilities</td>\n      <td>29b746f5-42fe-4321-9a4a-8c65c9f0410c</td>\n      <td>NaN</td>\n      <td>NaN</td>\n      <td>NaN</td>\n    </tr>\n    <tr>\n      <th>3fc29315-81e7-45a9-8241-62938e904d73</th>\n      <td>buildingBresidential</td>\n      <td>3fc29315-81e7-45a9-8241-62938e904d73</td>\n      <td>NaN</td>\n      <td>NaN</td>\n      <td>NaN</td>\n    </tr>\n    <tr>\n      <th>f508623d-1d81-4082-85ee-5b1e32c7bb10</th>\n      <td>buildingBparking</td>\n      <td>f508623d-1d81-4082-85ee-5b1e32c7bb10</td>\n      <td>NaN</td>\n      <td>NaN</td>\n      <td>NaN</td>\n    </tr>\n    <tr>\n      <th>6ac8ab6d-a730-44b8-97aa-a5db09b7fbd0</th>\n      <td>buildingBretail</td>\n      <td>6ac8ab6d-a730-44b8-97aa-a5db09b7fbd0</td>\n      <td>NaN</td>\n      <td>NaN</td>\n      <td>NaN</td>\n    </tr>\n    <tr>\n      <th>71fd4551-8e65-4e7a-8e2a-9d18e69146b0</th>\n      <td>buildingBcores</td>\n      <td>71fd4551-8e65-4e7a-8e2a-9d18e69146b0</td>\n      <td>None</td>\n      <td>0.0</td>\n      <td>0.0</td>\n    </tr>\n    <tr>\n      <th>c11f68da-0544-487b-9cb9-8a3a3a98a9b8</th>\n      <td>buildingBresidentialFloor0</td>\n      <td>c11f68da-0544-487b-9cb9-8a3a3a98a9b8</td>\n      <td>Effective Gross Income for c11f68da-0544-...</td>\n      <td>0.0</td>\n      <td>0.0</td>\n    </tr>\n    <tr>\n      <th>cfc3edf5-1e7d-4499-b25f-ee86ed013516</th>\n      <td>buildingBresidentialFloor1</td>\n      <td>cfc3edf5-1e7d-4499-b25f-ee86ed013516</td>\n      <td>Effective Gross Income for cfc3edf5-1e7d-...</td>\n      <td>0.0</td>\n      <td>0.0</td>\n    </tr>\n    <tr>\n      <th>3e158dd9-aa5d-47bb-bc13-4b3e6d328fe1</th>\n      <td>buildingBresidentialFloor2</td>\n      <td>3e158dd9-aa5d-47bb-bc13-4b3e6d328fe1</td>\n      <td>Effective Gross Income for 3e158dd9-aa5d-...</td>\n      <td>0.0</td>\n      <td>0.0</td>\n    </tr>\n    <tr>\n      <th>b8609a1e-b9f8-44a0-ab98-468ff247d753</th>\n      <td>buildingBresidentialFloor3</td>\n      <td>b8609a1e-b9f8-44a0-ab98-468ff247d753</td>\n      <td>Effective Gross Income for b8609a1e-b9f8-...</td>\n      <td>0.0</td>\n      <td>0.0</td>\n    </tr>\n    <tr>\n      <th>f68d2f9b-13c5-42e2-9bca-1826f7eff481</th>\n      <td>buildingBresidentialFloor4</td>\n      <td>f68d2f9b-13c5-42e2-9bca-1826f7eff481</td>\n      <td>Effective Gross Income for f68d2f9b-13c5-...</td>\n      <td>0.0</td>\n      <td>0.0</td>\n    </tr>\n    <tr>\n      <th>ec086fbc-7b21-4958-b456-9bce6a883c98</th>\n      <td>buildingBresidentialFloor5</td>\n      <td>ec086fbc-7b21-4958-b456-9bce6a883c98</td>\n      <td>Effective Gross Income for ec086fbc-7b21-...</td>\n      <td>0.0</td>\n      <td>0.0</td>\n    </tr>\n    <tr>\n      <th>9ecaf92a-a90e-4572-a426-3ed392e0c28a</th>\n      <td>buildingBresidentialFloor6</td>\n      <td>9ecaf92a-a90e-4572-a426-3ed392e0c28a</td>\n      <td>Effective Gross Income for 9ecaf92a-a90e-...</td>\n      <td>0.0</td>\n      <td>0.0</td>\n    </tr>\n    <tr>\n      <th>9a884f88-0627-4eb7-b1ec-80ea39b0a25b</th>\n      <td>buildingBresidentialFloor0</td>\n      <td>9a884f88-0627-4eb7-b1ec-80ea39b0a25b</td>\n      <td>Effective Gross Income for 9a884f88-0627-...</td>\n      <td>0.0</td>\n      <td>0.0</td>\n    </tr>\n    <tr>\n      <th>d7dd5233-b1c3-451f-ae90-5a80fed205bd</th>\n      <td>buildingBparkingFloor0</td>\n      <td>d7dd5233-b1c3-451f-ae90-5a80fed205bd</td>\n      <td>Effective Gross Income for d7dd5233-b1c3-...</td>\n      <td>0.0</td>\n      <td>0.0</td>\n    </tr>\n    <tr>\n      <th>4acebff3-f17b-44fb-ba29-6bc02053b329</th>\n      <td>buildingBretailFloor0</td>\n      <td>4acebff3-f17b-44fb-ba29-6bc02053b329</td>\n      <td>Effective Gross Income for 4acebff3-f17b-...</td>\n      <td>0.0</td>\n      <td>0.0</td>\n    </tr>\n    <tr>\n      <th>d188b4bb-27a3-4f63-9469-e9705c60a7a5</th>\n      <td>plinthparking</td>\n      <td>d188b4bb-27a3-4f63-9469-e9705c60a7a5</td>\n      <td>NaN</td>\n      <td>NaN</td>\n      <td>NaN</td>\n    </tr>\n    <tr>\n      <th>8d9f92cf-5613-4de4-b99b-7681aa76b4cd</th>\n      <td>plinthplant</td>\n      <td>8d9f92cf-5613-4de4-b99b-7681aa76b4cd</td>\n      <td>None</td>\n      <td>0.0</td>\n      <td>0.0</td>\n    </tr>\n    <tr>\n      <th>cf287254-7d66-4a4b-8a56-f247f51b41db</th>\n      <td>plinthparkingFloor-2</td>\n      <td>cf287254-7d66-4a4b-8a56-f247f51b41db</td>\n      <td>Effective Gross Income for cf287254-7d66-...</td>\n      <td>0.0</td>\n      <td>0.0</td>\n    </tr>\n    <tr>\n      <th>926a3e9d-0601-4f96-bd71-317d928194f2</th>\n      <td>plinthparkingFloor-1</td>\n      <td>926a3e9d-0601-4f96-bd71-317d928194f2</td>\n      <td>Effective Gross Income for 926a3e9d-0601-...</td>\n      <td>0.0</td>\n      <td>0.0</td>\n    </tr>\n    <tr>\n      <th>987c5866-03b0-4948-962e-4870684f481b</th>\n      <td>buildingAparking</td>\n      <td>987c5866-03b0-4948-962e-4870684f481b</td>\n      <td>NaN</td>\n      <td>NaN</td>\n      <td>NaN</td>\n    </tr>\n    <tr>\n      <th>7dc6bf46-805f-4990-bcd2-d0fe1de4dd47</th>\n      <td>buildingAretail</td>\n      <td>7dc6bf46-805f-4990-bcd2-d0fe1de4dd47</td>\n      <td>NaN</td>\n      <td>NaN</td>\n      <td>NaN</td>\n    </tr>\n    <tr>\n      <th>549a988b-c3bc-42d4-a6a3-a8dc694fa770</th>\n      <td>buildingAresidential</td>\n      <td>549a988b-c3bc-42d4-a6a3-a8dc694fa770</td>\n      <td>NaN</td>\n      <td>NaN</td>\n      <td>NaN</td>\n    </tr>\n    <tr>\n      <th>3cf2bf71-61fa-4a61-b163-6265c299376d</th>\n      <td>buildingAretail</td>\n      <td>3cf2bf71-61fa-4a61-b163-6265c299376d</td>\n      <td>NaN</td>\n      <td>NaN</td>\n      <td>NaN</td>\n    </tr>\n    <tr>\n      <th>bfc1c272-665f-432d-a7b3-a4c955556e7f</th>\n      <td>buildingAoffice</td>\n      <td>bfc1c272-665f-432d-a7b3-a4c955556e7f</td>\n      <td>NaN</td>\n      <td>NaN</td>\n      <td>NaN</td>\n    </tr>\n    <tr>\n      <th>55963d84-702d-423d-be05-c8bb6e88f517</th>\n      <td>buildingAcores</td>\n      <td>55963d84-702d-423d-be05-c8bb6e88f517</td>\n      <td>None</td>\n      <td>0.0</td>\n      <td>0.0</td>\n    </tr>\n    <tr>\n      <th>01282060-ad91-44be-b0d3-ff43e340e8bd</th>\n      <td>buildingAparkingFloor0</td>\n      <td>01282060-ad91-44be-b0d3-ff43e340e8bd</td>\n      <td>Effective Gross Income for 01282060-ad91-...</td>\n      <td>0.0</td>\n      <td>0.0</td>\n    </tr>\n    <tr>\n      <th>f9e9ae1c-00f3-4966-9682-281ef2a86899</th>\n      <td>buildingAretailFloor0</td>\n      <td>f9e9ae1c-00f3-4966-9682-281ef2a86899</td>\n      <td>Effective Gross Income for f9e9ae1c-00f3-...</td>\n      <td>0.0</td>\n      <td>0.0</td>\n    </tr>\n    <tr>\n      <th>e7b3aec0-5003-448b-a0e3-4c2dbb605f85</th>\n      <td>buildingAresidentialFloor0</td>\n      <td>e7b3aec0-5003-448b-a0e3-4c2dbb605f85</td>\n      <td>Effective Gross Income for e7b3aec0-5003-...</td>\n      <td>0.0</td>\n      <td>0.0</td>\n    </tr>\n    <tr>\n      <th>9c13f0be-9991-4d9f-b41b-a0e962bdeb89</th>\n      <td>buildingAresidentialFloor0</td>\n      <td>9c13f0be-9991-4d9f-b41b-a0e962bdeb89</td>\n      <td>Effective Gross Income for 9c13f0be-9991-...</td>\n      <td>0.0</td>\n      <td>0.0</td>\n    </tr>\n    <tr>\n      <th>e88ff464-a453-45bb-93d8-5f983d417912</th>\n      <td>buildingAresidentialFloor1</td>\n      <td>e88ff464-a453-45bb-93d8-5f983d417912</td>\n      <td>Effective Gross Income for e88ff464-a453-...</td>\n      <td>0.0</td>\n      <td>0.0</td>\n    </tr>\n    <tr>\n      <th>8ce80d06-69f6-404a-b0fd-a728eb0dfed6</th>\n      <td>buildingAresidentialFloor2</td>\n      <td>8ce80d06-69f6-404a-b0fd-a728eb0dfed6</td>\n      <td>Effective Gross Income for 8ce80d06-69f6-...</td>\n      <td>0.0</td>\n      <td>0.0</td>\n    </tr>\n    <tr>\n      <th>bb0a0d86-31c1-4780-b81f-8d0e5a5d83be</th>\n      <td>buildingAresidentialFloor3</td>\n      <td>bb0a0d86-31c1-4780-b81f-8d0e5a5d83be</td>\n      <td>Effective Gross Income for bb0a0d86-31c1-...</td>\n      <td>0.0</td>\n      <td>0.0</td>\n    </tr>\n    <tr>\n      <th>32080c6a-1f31-446f-a3d9-59759ac00ff4</th>\n      <td>buildingAretailFloor0</td>\n      <td>32080c6a-1f31-446f-a3d9-59759ac00ff4</td>\n      <td>Effective Gross Income for 32080c6a-1f31-...</td>\n      <td>0.0</td>\n      <td>0.0</td>\n    </tr>\n    <tr>\n      <th>a1fc1a28-1133-47f2-a8d9-58da817946c2</th>\n      <td>buildingAofficeFloor1</td>\n      <td>a1fc1a28-1133-47f2-a8d9-58da817946c2</td>\n      <td>Effective Gross Income for a1fc1a28-1133-...</td>\n      <td>0.0</td>\n      <td>0.0</td>\n    </tr>\n    <tr>\n      <th>0296748a-317a-47eb-bf94-e5dbbd78afc1</th>\n      <td>buildingAofficeFloor2</td>\n      <td>0296748a-317a-47eb-bf94-e5dbbd78afc1</td>\n      <td>Effective Gross Income for 0296748a-317a-...</td>\n      <td>0.0</td>\n      <td>0.0</td>\n    </tr>\n    <tr>\n      <th>74ed0525-d8f9-4f36-b20f-1b8a2baf60f2</th>\n      <td>buildingAofficeFloor3</td>\n      <td>74ed0525-d8f9-4f36-b20f-1b8a2baf60f2</td>\n      <td>Effective Gross Income for 74ed0525-d8f9-...</td>\n      <td>0.0</td>\n      <td>0.0</td>\n    </tr>\n    <tr>\n      <th>ae0fb830-76df-4d91-82ed-4ed755fdec4b</th>\n      <td>buildingAofficeFloor4</td>\n      <td>ae0fb830-76df-4d91-82ed-4ed755fdec4b</td>\n      <td>Effective Gross Income for ae0fb830-76df-...</td>\n      <td>0.0</td>\n      <td>0.0</td>\n    </tr>\n    <tr>\n      <th>c1b696b1-cae0-49ed-a8ba-0e795438d3d2</th>\n      <td>buildingAofficeFloor5</td>\n      <td>c1b696b1-cae0-49ed-a8ba-0e795438d3d2</td>\n      <td>Effective Gross Income for c1b696b1-cae0-...</td>\n      <td>0.0</td>\n      <td>0.0</td>\n    </tr>\n    <tr>\n      <th>add95b48-71c3-40e7-9f35-7db604f3f9f0</th>\n      <td>buildingAofficeFloor6</td>\n      <td>add95b48-71c3-40e7-9f35-7db604f3f9f0</td>\n      <td>Effective Gross Income for add95b48-71c3-...</td>\n      <td>0.0</td>\n      <td>0.0</td>\n    </tr>\n    <tr>\n      <th>d8443e6d-9080-4154-89e3-29f0e98ed90a</th>\n      <td>buildingAofficeFloor7</td>\n      <td>d8443e6d-9080-4154-89e3-29f0e98ed90a</td>\n      <td>Effective Gross Income for d8443e6d-9080-...</td>\n      <td>0.0</td>\n      <td>0.0</td>\n    </tr>\n    <tr>\n      <th>f8945b4f-6f59-4c5a-a83f-462a97f2dcc4</th>\n      <td>buildingAofficeFloor8</td>\n      <td>f8945b4f-6f59-4c5a-a83f-462a97f2dcc4</td>\n      <td>Effective Gross Income for f8945b4f-6f59-...</td>\n      <td>0.0</td>\n      <td>0.0</td>\n    </tr>\n    <tr>\n      <th>b548b184-1643-4c23-9b14-9025aeda59c3</th>\n      <td>buildingAofficeFloor9</td>\n      <td>b548b184-1643-4c23-9b14-9025aeda59c3</td>\n      <td>Effective Gross Income for b548b184-1643-...</td>\n      <td>0.0</td>\n      <td>0.0</td>\n    </tr>\n    <tr>\n      <th>e8048367-edd2-4a61-ae0f-fd878688c910</th>\n      <td>buildingAofficeFloor10</td>\n      <td>e8048367-edd2-4a61-ae0f-fd878688c910</td>\n      <td>Effective Gross Income for e8048367-edd2-...</td>\n      <td>0.0</td>\n      <td>0.0</td>\n    </tr>\n  </tbody>\n</table>\n</div>"
     },
     "execution_count": 51,
     "metadata": {},
     "output_type": "execute_result"
    }
   ],
   "source": [
    "scdf = spatial_containment.to_DataFrame()\n",
    "scdf = scdf[[\n",
    "    'name',\n",
    "    'entityId',\n",
    "    'subtotal_nacf',\n",
    "    'subtotal_opex',\n",
    "    'subtotal_capex',\n",
    "    ]]\n",
    "scdf"
   ],
   "metadata": {
    "collapsed": false,
    "ExecuteTime": {
     "end_time": "2023-06-29T06:47:16.565451Z",
     "start_time": "2023-06-29T06:47:16.476786Z"
    }
   }
  },
  {
   "cell_type": "code",
   "execution_count": null,
   "outputs": [],
   "source": [
    "sunburst = spatial_containment.sunburst(property='subtotal_nacf_value')\n",
    "treemap = spatial_containment.treemap(property='subtotal_nacf_value')\n",
    "fig = plotly.subplots.make_subplots(\n",
    "    rows=2, cols=1,\n",
    "    specs=[[{\"type\": \"sunburst\"}], [{\"type\": \"treemap\"}]])\n",
    "fig.append_trace(sunburst, row=1, col=1)\n",
    "fig.append_trace(treemap, row=2, col=1)\n",
    "filename='aggregate_nacf_chart.html'\n",
    "py.plot(fig, filename='assets/{0}'.format(filename), auto_open=False)\n",
    "IFrame(src=\"./{0}\".format(filename), width='100%', height=800 * len(fig.data))"
   ],
   "metadata": {
    "collapsed": false
   }
  },
  {
   "cell_type": "code",
   "execution_count": null,
   "outputs": [],
   "source": [
    "pd.set_option('display.max_columns', None)"
   ],
   "metadata": {
    "collapsed": false
   }
  },
  {
   "cell_type": "code",
   "execution_count": null,
   "outputs": [],
   "source": [
    "property = 'subtotal_nacf_value'\n",
    "\n",
    "df = spatial_containment.to_DataFrame()\n",
    "\n",
    "df['property_total'] = [item.total() if isinstance(item, rk.flux.Flow) or isinstance(item, rk.flux.Stream)\n",
    "                        else item for item in df[property]]\n",
    "df['property_total'] = df['property_total'].abs()\n",
    "# df['property_total'] = df['property_total'] / 100000\n",
    "\n",
    "df['trunk_idx'] = df['entityId'].apply(lambda entityId: spatial_containment._get_trunk_index(entityId))\n",
    "df['color_norm'] = (df['property_total'] - df['property_total'].min()) / (df['property_total'].max() - df['property_total'].min())\n",
    "df['color'] = df['color_norm'] + (df['trunk_idx'] + 2)\n",
    "\n",
    "# df['trunk_idx'] = df['trunk_idx'].fillna(0) + 1\n",
    "df"
   ],
   "metadata": {
    "collapsed": false
   }
  },
  {
   "cell_type": "code",
   "execution_count": null,
   "outputs": [],
   "source": [
    "from plotly import graph_objects as go\n",
    "trace = go.Sunburst(\n",
    "    ids=df['entityId'],\n",
    "    labels=df['name'],\n",
    "    parents=df['parent'],\n",
    "    values=df['property_total'],\n",
    "    branchvalues='remainder',\n",
    "    insidetextorientation='radial',\n",
    "    marker=dict(\n",
    "        colors=df['color'],\n",
    "        colorscale='thermal',\n",
    "        cmin=df['color'].min(),\n",
    "        cmid=0,\n",
    "        cmax=df['color'].max()),\n",
    "    hovertemplate=\"%{label}<br>\" + property + \": %{value:,.2f}<br>\",\n",
    "    sort=False)"
   ],
   "metadata": {
    "collapsed": false
   }
  },
  {
   "cell_type": "code",
   "execution_count": null,
   "outputs": [],
   "source": [
    "trace"
   ],
   "metadata": {
    "collapsed": false
   }
  },
  {
   "cell_type": "code",
   "execution_count": null,
   "outputs": [],
   "source": [
    "fig = go.Figure(trace)\n",
    "py.plot(fig, filename='assets/{0}'.format('foo.html'), auto_open=False)\n"
   ],
   "metadata": {
    "collapsed": false
   }
  },
  {
   "cell_type": "markdown",
   "source": [
    "trace"
   ],
   "metadata": {
    "collapsed": false
   }
  },
  {
   "cell_type": "code",
   "execution_count": null,
   "outputs": [],
   "source": [
    "floors[1]['subtotal_utils_capex']"
   ],
   "metadata": {
    "collapsed": false
   }
  },
  {
   "cell_type": "markdown",
   "source": [],
   "metadata": {
    "collapsed": false
   }
  },
  {
   "cell_type": "code",
   "execution_count": null,
   "outputs": [],
   "source": [
    "sunburst = spatial_containment.sunburst(property='subtotal_egi')\n",
    "treemap = spatial_containment.treemap(property='subtotal_egi')\n",
    "fig = plotly.subplots.make_subplots(\n",
    "    rows=2, cols=1,\n",
    "    specs=[[{\"type\": \"sunburst\"}], [{\"type\": \"treemap\"}]])\n",
    "fig.append_trace(sunburst, row=1, col=1)\n",
    "fig.append_trace(treemap, row=2, col=1)\n",
    "filename='test_egi.html'\n",
    "py.plot(fig, filename='assets/{0}'.format(filename), auto_open=False)\n",
    "IFrame(src=\"./{0}\".format(filename), width='100%', height=800 * len(fig.data))"
   ],
   "metadata": {
    "collapsed": false
   }
  },
  {
   "cell_type": "code",
   "execution_count": null,
   "outputs": [],
   "source": [
    "sunburst"
   ],
   "metadata": {
    "collapsed": false
   }
  },
  {
   "cell_type": "code",
   "execution_count": null,
   "outputs": [],
   "source": [],
   "metadata": {
    "collapsed": false
   }
  }
 ],
 "metadata": {
  "kernelspec": {
   "display_name": "Python 3 (ipykernel)",
   "language": "python",
   "name": "python3"
  },
  "language_info": {
   "codemirror_mode": {
    "name": "ipython",
    "version": 3
   },
   "file_extension": ".py",
   "mimetype": "text/x-python",
   "name": "python",
   "nbconvert_exporter": "python",
   "pygments_lexer": "ipython3",
   "version": "3.10.4"
  }
 },
 "nbformat": 4,
 "nbformat_minor": 1
}
