{
 "cells": [
  {
   "cell_type": "markdown",
   "source": [
    "# Test Dotnet"
   ],
   "metadata": {
    "collapsed": false
   },
   "id": "d877fe3897b95f29"
  },
  {
   "cell_type": "code",
   "execution_count": 1,
   "id": "a08c2e2d-ad99-4ed6-9832-7b2a98e452df",
   "metadata": {
    "ExecuteTime": {
     "end_time": "2024-03-23T12:37:03.706063Z",
     "start_time": "2024-03-23T12:37:03.468700Z"
    }
   },
   "outputs": [],
   "source": [
    "var foo = 2;"
   ]
  },
  {
   "cell_type": "code",
   "execution_count": 2,
   "id": "7fa2aa06-a63b-4e13-8547-381e87073771",
   "metadata": {
    "ExecuteTime": {
     "end_time": "2024-03-23T12:37:03.773605Z",
     "start_time": "2024-03-23T12:37:03.708024Z"
    }
   },
   "outputs": [
    {
     "data": {
      "text/html": "<div class=\"dni-plaintext\"><pre>2</pre></div><style>\r\n.dni-code-hint {\r\n    font-style: italic;\r\n    overflow: hidden;\r\n    white-space: nowrap;\r\n}\r\n.dni-treeview {\r\n    white-space: nowrap;\r\n}\r\n.dni-treeview td {\r\n    vertical-align: top;\r\n    text-align: start;\r\n}\r\ndetails.dni-treeview {\r\n    padding-left: 1em;\r\n}\r\ntable td {\r\n    text-align: start;\r\n}\r\ntable tr { \r\n    vertical-align: top; \r\n    margin: 0em 0px;\r\n}\r\ntable tr td pre \r\n{ \r\n    vertical-align: top !important; \r\n    margin: 0em 0px !important;\r\n} \r\ntable th {\r\n    text-align: start;\r\n}\r\n</style>"
     },
     "execution_count": 2,
     "metadata": {},
     "output_type": "execute_result"
    }
   ],
   "source": [
    "foo"
   ]
  },
  {
   "cell_type": "code",
   "execution_count": 3,
   "id": "30ce8b5d-b709-4794-9924-8968b7d84005",
   "metadata": {
    "ExecuteTime": {
     "end_time": "2024-03-23T12:37:05.908563Z",
     "start_time": "2024-03-23T12:37:03.774197Z"
    }
   },
   "outputs": [
    {
     "data": {
      "text/html": "<div><div></div><div></div><div><strong>Installed Packages</strong><ul><li><span>Hypar.Elements, 2.2.0-alpha.25</span></li></ul></div></div>"
     },
     "metadata": {},
     "output_type": "display_data"
    },
    {
     "data": {
      "text/plain": "Loading extension script from `/Users/daniel/.nuget/packages/hypar.elements/2.2.0-alpha.25/interactive-extensions/dotnet/extension.dib`"
     },
     "metadata": {},
     "output_type": "display_data"
    },
    {
     "data": {
      "text/markdown": "This script is packaged with the NuGet package, and only\ncalled when the package is imported in a dotnet interactive\nnotebook via:\n\n`#r \"nuget: Hypar.Elements\"`"
     },
     "metadata": {},
     "output_type": "display_data"
    },
    {
     "data": {
      "text/markdown": "Add `return model;` at the end of a cell or call `DisplayModel(model, width, height);` to display an Elements model. You can also return individual elements, curves, profiles, or lists of elements, curves, or profiles to automatically populate a model."
     },
     "metadata": {},
     "output_type": "display_data"
    }
   ],
   "source": [
    "#r \"nuget: Hypar.Elements, *-*\""
   ]
  },
  {
   "cell_type": "code",
   "outputs": [
    {
     "data": {
      "text/html": "\n<div id=\"main_c2dbe06b-0daa-4ba8-8c78-dea2426d509d\" style=\"height:600;width:400px;\"></div>\n</div>\n<script type=\"module\">\nimport * as THREE from 'https://unpkg.com/three@0.126.0/build/three.module.js';\nimport { GLTFLoader } from 'https://unpkg.com/three@0.126.0/examples/jsm/loaders/GLTFLoader.js';\nimport { OrbitControls } from 'https://unpkg.com/three@0.126.0/examples/jsm/controls/OrbitControls.js';\nconst loader = new GLTFLoader();\nconst scene = new THREE.Scene();\n\nlet loaderScene = new THREE.Scene();\nscene.add(loaderScene);\n\nconst width = 600;\nconst height = 400;\nconst camera = new THREE.PerspectiveCamera(75, width / height, 0.1, 1000);\n// TODO: Configure this lighting to match what we do on Hypar's web UI.\nconst light = new THREE.AmbientLight(0xaaaaaa);\nscene.add(light);\n\nconst directionalLight = new THREE.DirectionalLight(0xaaaaaa, 0.5);\nscene.add(directionalLight);\n\n\nconst renderer = new THREE.WebGLRenderer({ alpha: true, antialias: true });\nrenderer.setSize(width, height);\ndocument.getElementById('main_c2dbe06b-0daa-4ba8-8c78-dea2426d509d').appendChild(renderer.domElement);\n\ncamera.position.z = 5;\n\nconst controls = new OrbitControls(camera, renderer.domElement);\n\nfunction base64ToArrayBuffer (base64) {\n    var binary_string = window.atob(base64);\n    var len = binary_string.length;\n    var bytes = new Uint8Array(len);\n    for (var i = 0; i < len; i++) {\n        bytes[i] = binary_string.charCodeAt(i);\n    }\n    return bytes.buffer;\n}\n// adapted from looeee's solution https://discourse.threejs.org/t/camera-zoom-to-fit-object/936/3\nconst fitCameraToObject = function (scene, offset = 1.25) {\n    offset = offset || 1.25;\n    let boundingBox = null;\n    scene.traverseVisible((child) => {\n        const objectBox = new THREE.Box3().setFromObject(child)\n        if (boundingBox === null) {\n            boundingBox = objectBox\n        } else {\n            boundingBox = boundingBox.union(objectBox)\n        }\n    })\n    const center = boundingBox.getCenter(new THREE.Vector3());\n    const size = boundingBox.getSize(new THREE.Vector3());\n\n    // get the max size of the bounding box (fits to width OR height as needed )\n    const maxDim = Math.max(size.x, size.y, size.z);\n    const fov = camera.fov * (Math.PI / 180);\n    let cameraZ = Math.abs(maxDim / 4 * Math.tan(fov * 2));\n    // if our model is nearly flat, view it from the top, otherwise view it from a corner.\n    if (size.y < 0.001) {\n        // position the camera looking straight down at the object.\n        camera.position.copy(center.clone().add(new THREE.Vector3(0, maxDim * offset, 0)))\n    } else {\n        camera.position.copy(center.clone().add(size.clone().multiplyScalar(offset)))\n    }\n\n    const minZ = boundingBox.min.z;\n    const cameraToFarEdge = (minZ < 0) ? -minZ + cameraZ : cameraZ - minZ;\n\n    camera.far = cameraToFarEdge * 10;\n    camera.updateProjectionMatrix();\n\n    if (controls) {\n        // set camera to rotate around center of loaded object\n        controls.target = center;\n        controls.saveState();\n\n    } else {\n        camera.lookAt(center)\n    }\n}\n\nfunction animate () {\n    requestAnimationFrame(animate);\n    controls.update();\n    renderer.render(scene, camera);\n};\n\nconst modelBytes = \"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\";\n\nconst gltf = loader.parse(base64ToArrayBuffer(modelBytes), null, (glb) => {\n    loaderScene.add(glb.scene);\n    fitCameraToObject(scene);\n});\n\n\nanimate();\n\n</script>\n"
     },
     "execution_count": 4,
     "metadata": {},
     "output_type": "execute_result"
    }
   ],
   "source": [
    "var model = new Model();\n",
    "var width = 10;\n",
    "var length = 19;\n",
    "var height = 20;\n",
    "var footprint = Polygon.Rectangle(width, length);\n",
    "// Masses can be used for building masses\n",
    "var mass = new Mass(footprint, height);\n",
    "model.AddElement(mass);\n",
    "return model;"
   ],
   "metadata": {
    "collapsed": false,
    "ExecuteTime": {
     "end_time": "2024-03-23T12:37:06.046364Z",
     "start_time": "2024-03-23T12:37:05.909282Z"
    }
   },
   "id": "9702d57cc4d5f84a",
   "execution_count": 4
  },
  {
   "cell_type": "code",
   "outputs": [
    {
     "data": {
      "text/html": "<div><div><strong>Restore sources</strong><ul><li><span>/Volumes/Data/Projects/Aurora/Package/</span></li></ul></div><div></div><div></div></div>"
     },
     "metadata": {},
     "output_type": "display_data"
    }
   ],
   "source": [
    "#i \"nuget:/Volumes/Data/Projects/Aurora/Package/\""
   ],
   "metadata": {
    "collapsed": false,
    "ExecuteTime": {
     "end_time": "2024-03-23T12:37:07.303491Z",
     "start_time": "2024-03-23T12:37:06.046868Z"
    }
   },
   "id": "2229824524cea21e",
   "execution_count": 5
  },
  {
   "cell_type": "code",
   "outputs": [
    {
     "data": {
      "text/html": "<div><div><strong>Restore sources</strong><ul><li><span>/Volumes/Data/Projects/Aurora/Package/</span></li></ul></div><div></div><div><strong>Installed Packages</strong><ul><li><span>Aurora.Geometry, 0.0.1-hypar-build-240323.113116p</span></li></ul></div></div>"
     },
     "metadata": {},
     "output_type": "display_data"
    }
   ],
   "source": [
    "#r \"nuget: Aurora.Geometry, *-*\""
   ],
   "metadata": {
    "collapsed": false,
    "ExecuteTime": {
     "end_time": "2024-03-23T12:37:26.224910Z",
     "start_time": "2024-03-23T12:37:23.932161Z"
    }
   },
   "id": "73df0ee37531855b",
   "execution_count": 7
  },
  {
   "cell_type": "code",
   "outputs": [
    {
     "name": "stderr",
     "output_type": "stream",
     "text": [
      "\n",
      "(1,27): error CS1955: Non-invocable member 'Vector' cannot be used like a method.\n",
      "\n"
     ]
    },
    {
     "ename": "Error",
     "evalue": "compilation error",
     "output_type": "error",
     "traceback": []
    }
   ],
   "source": [
    "var foo = Aurora.Geometry.Vector(1, 2, 3);"
   ],
   "metadata": {
    "collapsed": false,
    "ExecuteTime": {
     "end_time": "2024-03-23T12:37:54.004733Z",
     "start_time": "2024-03-23T12:37:53.975324Z"
    }
   },
   "id": "43728069e518840e",
   "execution_count": 8
  },
  {
   "cell_type": "code",
   "outputs": [],
   "source": [],
   "metadata": {
    "collapsed": false
   },
   "id": "528945e3c7f671c4"
  }
 ],
 "metadata": {
  "kernelspec": {
   "display_name": ".NET (C#)",
   "language": "C#",
   "name": ".net-csharp"
  },
  "language_info": {
   "file_extension": ".cs",
   "mimetype": "text/x-csharp",
   "name": "C#",
   "pygments_lexer": "csharp",
   "version": "12.0"
  }
 },
 "nbformat": 4,
 "nbformat_minor": 5
}
