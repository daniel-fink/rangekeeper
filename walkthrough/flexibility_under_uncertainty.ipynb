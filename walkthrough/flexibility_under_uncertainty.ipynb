{
 "cells": [
  {
   "attachments": {},
   "cell_type": "markdown",
   "metadata": {
    "collapsed": false
   },
   "source": [
    "# Flexibility under Uncertainty\n",
    "\n",
    "The previous chapter only modelled a single scenario where flexibility was\n",
    "employed. In this chapter, we follow {cite}`farevuu2018` (Chapter 9) in\n",
    "assessing how flexibility can be used to manage, and benefit from, uncertainty."
   ]
  },
  {
   "cell_type": "markdown",
   "source": [
    "## Multiple Market Scenarios\n",
    "If we can produce one future market scenario, we can also produce many. To\n",
    "incorporate our uncertainty about how future scenarios may unfold, we derive\n",
    "`Market` input parameters by sampling from probability distributions that\n",
    "we suspect are realistic for the market in question."
   ],
   "metadata": {
    "collapsed": false
   }
  },
  {
   "cell_type": "markdown",
   "source": [
    "### Market Parameters from Sampling Distributions of their Likelihoods\n",
    "*Rangekeeper* provides alternate methods for `Market` `dynamics` modules that\n",
    "take probability distributions as inputs, rather than single values. These\n",
    "methods also require us to specify how many iterations (runs, or simulations) we\n",
    "will produce."
   ],
   "metadata": {
    "collapsed": false
   }
  },
  {
   "cell_type": "markdown",
   "source": [
    "Begin with importing required libraries and configuring our context:"
   ],
   "metadata": {
    "collapsed": false
   }
  },
  {
   "cell_type": "code",
   "execution_count": 1,
   "outputs": [],
   "source": [
    "import locale\n",
    "import pandas as pd\n",
    "import seaborn as sns\n",
    "\n",
    "import rangekeeper as rk"
   ],
   "metadata": {
    "collapsed": false,
    "ExecuteTime": {
     "end_time": "2023-05-18T10:16:37.886922Z",
     "start_time": "2023-05-18T10:16:37.136304Z"
    }
   }
  },
  {
   "cell_type": "code",
   "execution_count": 2,
   "metadata": {
    "collapsed": false,
    "ExecuteTime": {
     "end_time": "2023-05-18T10:16:37.916745Z",
     "start_time": "2023-05-18T10:16:37.889483Z"
    }
   },
   "outputs": [],
   "source": [
    "locale.setlocale(locale.LC_ALL, 'en_au')\n",
    "units = rk.measure.Index.registry\n",
    "currency = rk.measure.register_currency(registry=units)"
   ]
  },
  {
   "cell_type": "markdown",
   "source": [
    "Specify how many iterations (scenarios) we will produce. This matches the number\n",
    "of samples we will take from the probability distributions:"
   ],
   "metadata": {
    "collapsed": false
   }
  },
  {
   "cell_type": "code",
   "execution_count": 3,
   "outputs": [],
   "source": [
    "iterations = 10000"
   ],
   "metadata": {
    "collapsed": false,
    "ExecuteTime": {
     "end_time": "2023-05-18T10:16:37.926170Z",
     "start_time": "2023-05-18T10:16:37.916503Z"
    }
   }
  },
  {
   "cell_type": "markdown",
   "source": [
    "We also need to define the overall `Span` of the `Market`:"
   ],
   "metadata": {
    "collapsed": false
   }
  },
  {
   "cell_type": "code",
   "execution_count": 4,
   "outputs": [],
   "source": [
    "period_type = rk.periodicity.Type.YEAR\n",
    "span = rk.span.Span.from_num_periods(\n",
    "    name=\"Span\",\n",
    "    date=pd.Timestamp(2000, 1, 1),\n",
    "    period_type=period_type,\n",
    "    num_periods=25)\n",
    "sequence = span.to_index(period_type=period_type)"
   ],
   "metadata": {
    "collapsed": false,
    "ExecuteTime": {
     "end_time": "2023-05-18T10:16:37.926352Z",
     "start_time": "2023-05-18T10:16:37.919852Z"
    }
   }
  },
  {
   "cell_type": "markdown",
   "source": [
    "#### Overall Trend\n",
    "Following how {cite}`farevuu2018` construct market simulations, a *Rangekeeper*\n",
    "`Market` `Trend` can sample from distributions defining the growth rate (trend)\n",
    "and initial rent value.\n",
    "\n",
    "For initial (rent) value, typically values would not be more than 0.05 or 0.1,\n",
    "at most. Initial rents should be able to be estimated pretty accurately in the\n",
    "realistic pro-forma, especially for existing buildings.\n",
    "\n",
    "The growth rate distribution reflects uncertainty in the long-run trend growth\n",
    "rate (that applies throughout the entire scenario. In {cite}`farevuu2018`, this\n",
    "is modeled as a triangular distribution (though *Rangekeeper* provides other\n",
    "distributions easily), and the half-range should typically be a small value, at\n",
    "most .01 or .02, unless there is great uncertainty in the long-run average\n",
    "growth rate in the economy (such as perhaps in some emerging market countries),\n",
    "or if one is modeling nominal values and there is great uncertainty about what\n",
    "the future rate of inflation will be (but in such cases it is better to model\n",
    "real values, net of inflation anyway).\n",
    "\n",
    "(From {cite}`farevuu2018`, accompanying Excel spreadsheets)"
   ],
   "metadata": {
    "collapsed": false
   }
  },
  {
   "cell_type": "markdown",
   "source": [
    "First we define the distributions:"
   ],
   "metadata": {
    "collapsed": false
   }
  },
  {
   "cell_type": "code",
   "execution_count": 5,
   "outputs": [],
   "source": [
    "growth_rate_dist = rk.distribution.Symmetric(\n",
    "    type=rk.distribution.Type.TRIANGULAR,\n",
    "    mean=-.0005,\n",
    "    residual=.005)\n",
    "initial_value_dist = rk.distribution.Symmetric(\n",
    "    type=rk.distribution.Type.TRIANGULAR,\n",
    "    mean=.05,\n",
    "    residual=.005)"
   ],
   "metadata": {
    "collapsed": false,
    "ExecuteTime": {
     "end_time": "2023-05-18T10:16:37.930226Z",
     "start_time": "2023-05-18T10:16:37.925852Z"
    }
   }
  },
  {
   "cell_type": "markdown",
   "source": [
    "We now produce the resultant `Trend`s:"
   ],
   "metadata": {
    "collapsed": false
   }
  },
  {
   "cell_type": "code",
   "execution_count": 6,
   "outputs": [],
   "source": [
    "cap_rate = .05\n",
    "\n",
    "trends = rk.dynamics.trend.Trend.from_likelihoods(\n",
    "    sequence=sequence,\n",
    "    cap_rate=cap_rate,\n",
    "    growth_rate_dist=growth_rate_dist,\n",
    "    initial_value_dist=initial_value_dist,\n",
    "    iterations=iterations)"
   ],
   "metadata": {
    "collapsed": false,
    "ExecuteTime": {
     "end_time": "2023-05-18T10:16:39.939239Z",
     "start_time": "2023-05-18T10:16:37.928686Z"
    }
   }
  },
  {
   "cell_type": "markdown",
   "source": [
    "We can check that the `Trend`s have been produced as expected:"
   ],
   "metadata": {
    "collapsed": false
   }
  },
  {
   "cell_type": "code",
   "execution_count": 7,
   "outputs": [
    {
     "data": {
      "text/plain": "<Axes: ylabel='Count'>"
     },
     "execution_count": 7,
     "metadata": {},
     "output_type": "execute_result"
    },
    {
     "data": {
      "text/plain": "<Figure size 640x480 with 1 Axes>",
      "image/png": "[encoded data removed]"
     },
     "metadata": {},
     "output_type": "display_data"
    }
   ],
   "source": [
    "initial_values = [trend.initial_value for trend in trends]\n",
    "sns.histplot(\n",
    "    data=initial_values,\n",
    "    bins=20,\n",
    "    kde=True)"
   ],
   "metadata": {
    "collapsed": false,
    "ExecuteTime": {
     "end_time": "2023-05-18T10:16:40.297973Z",
     "start_time": "2023-05-18T10:16:39.951323Z"
    }
   }
  },
  {
   "cell_type": "markdown",
   "source": [
    "#### Volatility\n",
    "Volatility inputs do not require sampling from distributions, but we will be\n",
    "producing multiple `Volatility` objects, one for each `Trend`:"
   ],
   "metadata": {
    "collapsed": false
   }
  },
  {
   "cell_type": "code",
   "execution_count": 8,
   "outputs": [],
   "source": [
    "volatility_per_period = .1\n",
    "autoregression_param = .2\n",
    "mean_reversion_param = .3\n",
    "\n",
    "volatilities = rk.dynamics.volatility.Volatility.from_trends(\n",
    "    sequence=sequence,\n",
    "    trends=trends,\n",
    "    volatility_per_period=volatility_per_period,\n",
    "    autoregression_param=autoregression_param,\n",
    "    mean_reversion_param=mean_reversion_param)"
   ],
   "metadata": {
    "collapsed": false,
    "ExecuteTime": {
     "end_time": "2023-05-18T10:16:59.152597Z",
     "start_time": "2023-05-18T10:16:40.297577Z"
    }
   }
  },
  {
   "cell_type": "markdown",
   "source": [
    "#### Cyclicality\n",
    "{cite}`farevuu2018` document multiple means to incorporate estimations of market\n",
    "cycle parameters into a market simulation. Here we replicate the distribution\n",
    "parameters for use in *Rangekeeper*."
   ],
   "metadata": {
    "collapsed": false
   }
  },
  {
   "cell_type": "markdown",
   "source": [
    "We are agnostic about where the market currently is in the cycle, and want\n",
    "to simulate all possibilities; thus the Space (Rent) Cycle Phase Proportion (of\n",
    "its period) is sampled from a uniform distribution defaulted to a range between\n",
    "0 & 1):"
   ],
   "metadata": {
    "collapsed": false
   }
  },
  {
   "cell_type": "code",
   "execution_count": 9,
   "outputs": [],
   "source": [
    "space_cycle_phase_prop_dist = rk.distribution.Uniform()"
   ],
   "metadata": {
    "collapsed": false,
    "ExecuteTime": {
     "end_time": "2023-05-18T10:16:59.157647Z",
     "start_time": "2023-05-18T10:16:59.155268Z"
    }
   }
  },
  {
   "cell_type": "markdown",
   "source": [
    "The Space (Rent) Cycle Period is a random sample between 10 & 20 years:"
   ],
   "metadata": {
    "collapsed": false
   }
  },
  {
   "cell_type": "code",
   "execution_count": 10,
   "outputs": [],
   "source": [
    "space_cycle_period_dist=rk.distribution.Symmetric(\n",
    "    type=rk.distribution.Type.UNIFORM,\n",
    "    mean=15,\n",
    "    residual=5)"
   ],
   "metadata": {
    "collapsed": false,
    "ExecuteTime": {
     "end_time": "2023-05-18T10:16:59.162100Z",
     "start_time": "2023-05-18T10:16:59.159890Z"
    }
   }
  },
  {
   "cell_type": "markdown",
   "source": [
    "The Space (Rent) Cycle peak-to-trough Height is set at 50% (see `residual` fixed\n",
    "to 0):"
   ],
   "metadata": {
    "collapsed": false
   }
  },
  {
   "cell_type": "code",
   "execution_count": 11,
   "outputs": [],
   "source": [
    "space_cycle_height_dist=rk.distribution.Symmetric(\n",
    "    type=rk.distribution.Type.UNIFORM,\n",
    "    mean=.5,\n",
    "    residual=0)"
   ],
   "metadata": {
    "collapsed": false,
    "ExecuteTime": {
     "end_time": "2023-05-18T10:16:59.166696Z",
     "start_time": "2023-05-18T10:16:59.164381Z"
    }
   }
  },
  {
   "cell_type": "markdown",
   "source": [
    "The Asset (Cap Rate) Cycle Phase differs from the Space Cycle by between -1/10th\n",
    "and 1/10th of the Space Cycle Period:"
   ],
   "metadata": {
    "collapsed": false
   }
  },
  {
   "cell_type": "code",
   "execution_count": 12,
   "outputs": [],
   "source": [
    "asset_cycle_phase_diff_prop_dist=rk.distribution.Symmetric(\n",
    "    type=rk.distribution.Type.UNIFORM,\n",
    "    mean=0,\n",
    "    residual=.1)"
   ],
   "metadata": {
    "collapsed": false,
    "ExecuteTime": {
     "end_time": "2023-05-18T10:16:59.173124Z",
     "start_time": "2023-05-18T10:16:59.171224Z"
    }
   }
  },
  {
   "cell_type": "markdown",
   "source": [
    "The Asset (Cap Rate) Cycle Period in between -1 and 1 year different to that of\n",
    "the Space (Rent) Cycle's"
   ],
   "metadata": {
    "collapsed": false
   }
  },
  {
   "cell_type": "code",
   "execution_count": 13,
   "outputs": [],
   "source": [
    "asset_cycle_period_diff_dist=rk.distribution.Symmetric(\n",
    "    type=rk.distribution.Type.UNIFORM,\n",
    "    mean=0,\n",
    "    residual=1)"
   ],
   "metadata": {
    "collapsed": false,
    "ExecuteTime": {
     "end_time": "2023-05-18T10:16:59.177157Z",
     "start_time": "2023-05-18T10:16:59.175100Z"
    }
   }
  },
  {
   "cell_type": "markdown",
   "source": [
    "The Asset (Cap Rate) Cycle Amplitude is fixed to 2%:"
   ],
   "metadata": {
    "collapsed": false
   }
  },
  {
   "cell_type": "code",
   "execution_count": 14,
   "outputs": [],
   "source": [
    "asset_cycle_amplitude_dist=rk.distribution.Symmetric(\n",
    "    type=rk.distribution.Type.UNIFORM,\n",
    "    mean=.02,\n",
    "    residual=0.)"
   ],
   "metadata": {
    "collapsed": false,
    "ExecuteTime": {
     "end_time": "2023-05-18T10:16:59.225998Z",
     "start_time": "2023-05-18T10:16:59.179692Z"
    }
   }
  },
  {
   "cell_type": "markdown",
   "source": [
    "For both the Space and Asset Cycles, we remove any cycle asymmetries, in order\n",
    "to align with {cite}`farevuu2018`'s spreadsheet for Chapters 8, 9, 10. In future\n",
    "classes (and possibly future editions), they incorporate cycle asymmetries."
   ],
   "metadata": {
    "collapsed": false
   }
  },
  {
   "cell_type": "code",
   "execution_count": 15,
   "outputs": [],
   "source": [
    "space_cycle_asymmetric_parameter_dist=rk.distribution.Symmetric(\n",
    "    type=rk.distribution.Type.UNIFORM,\n",
    "    mean=0,\n",
    "    residual=0.)\n",
    "asset_cycle_asymmetric_parameter_dist=rk.distribution.Symmetric(\n",
    "    type=rk.distribution.Type.UNIFORM,\n",
    "    mean=0,\n",
    "    residual=0.)"
   ],
   "metadata": {
    "collapsed": false,
    "ExecuteTime": {
     "end_time": "2023-05-18T10:16:59.226200Z",
     "start_time": "2023-05-18T10:16:59.185462Z"
    }
   }
  },
  {
   "cell_type": "markdown",
   "source": [
    "We now produce the resultant `Cycle`s:"
   ],
   "metadata": {
    "collapsed": false
   }
  },
  {
   "cell_type": "code",
   "execution_count": 16,
   "outputs": [],
   "source": [
    "cyclicalities = rk.dynamics.cyclicality.Cyclicality.from_likelihoods(\n",
    "    sequence=sequence,\n",
    "    space_cycle_phase_prop_dist=space_cycle_phase_prop_dist,\n",
    "    space_cycle_period_dist=space_cycle_period_dist,\n",
    "    space_cycle_height_dist=space_cycle_height_dist,\n",
    "    asset_cycle_phase_diff_prop_dist=asset_cycle_phase_diff_prop_dist,\n",
    "    asset_cycle_period_diff_dist=asset_cycle_period_diff_dist,\n",
    "    asset_cycle_amplitude_dist=asset_cycle_amplitude_dist,\n",
    "    space_cycle_asymmetric_parameter_dist=space_cycle_asymmetric_parameter_dist,\n",
    "    asset_cycle_asymmetric_parameter_dist=asset_cycle_asymmetric_parameter_dist,\n",
    "    iterations=iterations)"
   ],
   "metadata": {
    "collapsed": false,
    "ExecuteTime": {
     "end_time": "2023-05-18T10:17:04.180679Z",
     "start_time": "2023-05-18T10:16:59.188686Z"
    }
   }
  },
  {
   "cell_type": "markdown",
   "source": [
    "#### Noise & Black Swan\n",
    "Noise & Black Swan inputs do not require sampling from distributions:"
   ],
   "metadata": {
    "collapsed": false
   }
  },
  {
   "cell_type": "code",
   "execution_count": 17,
   "outputs": [],
   "source": [
    "noise = rk.dynamics.noise.Noise(\n",
    "    sequence=sequence,\n",
    "    noise_dist=rk.distribution.Symmetric(\n",
    "        type=rk.distribution.Type.TRIANGULAR,\n",
    "        mean=0.,\n",
    "        residual=.1))\n",
    "black_swan = rk.dynamics.black_swan.BlackSwan(\n",
    "    sequence=sequence,\n",
    "    likelihood=.05,\n",
    "    dissipation_rate=mean_reversion_param,\n",
    "    probability=rk.distribution.Uniform(),\n",
    "    impact=-.25)"
   ],
   "metadata": {
    "collapsed": false,
    "ExecuteTime": {
     "end_time": "2023-05-18T10:17:04.187990Z",
     "start_time": "2023-05-18T10:17:04.185465Z"
    }
   }
  },
  {
   "cell_type": "markdown",
   "source": [
    "### Markets\n",
    "Now we can integrate the previous constructs into multiple `Market` simulations:"
   ],
   "metadata": {
    "collapsed": false
   }
  },
  {
   "cell_type": "code",
   "execution_count": 18,
   "outputs": [],
   "source": [
    "markets = rk.dynamics.market.Market.from_likelihoods(\n",
    "    sequence=sequence,\n",
    "    trends=trends,\n",
    "    volatilities=volatilities,\n",
    "    cyclicalities=cyclicalities,\n",
    "    noise=noise,\n",
    "    black_swan=black_swan)"
   ],
   "metadata": {
    "collapsed": false,
    "ExecuteTime": {
     "end_time": "2023-05-18T10:17:57.225059Z",
     "start_time": "2023-05-18T10:17:04.188880Z"
    }
   }
  },
  {
   "cell_type": "markdown",
   "source": [
    "## Comparing Models\n",
    "From {cite}`farevuu2018`: to obtain the value of flexibility, we compare the\n",
    "project utilizing flexibility against a base case or alternative that lacks the\n",
    "particular flexibility or rule we are evaluating.\n",
    "We must expose the inflexible case to the same independent, random future\n",
    "scenarios as the flexible case. We must compute the outcomes for the two cases,\n",
    "inflexible and flexible, under exactly the same scenarios of pricing factor\n",
    "realizations. We can then compare the results of both the inflexible and\n",
    "flexible cases, not only against the (single‐number) traditional pro forma\n",
    "metrics, but also side by side against each other for the entire distribution of\n",
    "possible (ex‐post) outcomes, recognizing the uncertainty and price dynamics that\n",
    "realistically exist."
   ],
   "metadata": {
    "collapsed": false
   }
  },
  {
   "cell_type": "markdown",
   "source": [
    "### Inflexible (Base) Model\n",
    "Define the Base Model as we did the Ex-Post Inflexible Model in the previous\n",
    "section:"
   ],
   "metadata": {
    "collapsed": false
   }
  },
  {
   "cell_type": "code",
   "execution_count": 19,
   "outputs": [],
   "source": [
    "params = {\n",
    "    'start_date': pd.Timestamp('2001-01-01'),\n",
    "    'num_periods': 10,\n",
    "    'period_type': rk.periodicity.Type.YEAR,\n",
    "    'acquisition_cost': -1000 * currency.units,\n",
    "    'initial_income': 100 * currency.units,\n",
    "    'growth_rate': 0.02,\n",
    "    'vacancy_rate': 0.05,\n",
    "    'opex_pgi_ratio': 0.35,\n",
    "    'capex_pgi_ratio': 0.1,\n",
    "    'exit_caprate': 0.05,\n",
    "    'discount_rate': 0.07\n",
    "    }"
   ],
   "metadata": {
    "collapsed": false,
    "ExecuteTime": {
     "end_time": "2023-05-18T10:17:57.230004Z",
     "start_time": "2023-05-18T10:17:57.227709Z"
    }
   }
  },
  {
   "cell_type": "code",
   "execution_count": 20,
   "outputs": [],
   "source": [
    "class BaseModel:\n",
    "    def __init__(self) -> None:\n",
    "        pass\n",
    "    def set_params(self, params: dict) -> None:\n",
    "        self.params = params\n",
    "    def set_market(self, market: rk.dynamics.market.Market) -> None:\n",
    "        self.market = market\n",
    "    def init_spans(self):\n",
    "        self.calc_span = rk.span.Span.from_num_periods(\n",
    "            name='Span to Calculate Reversion',\n",
    "            date=self.params['start_date'],\n",
    "            period_type=self.params['period_type'],\n",
    "            num_periods=self.params['num_periods'] + 1)\n",
    "        self.acq_span = rk.span.Span.from_num_periods(\n",
    "            name='Acquisition Span',\n",
    "            date=rk.periodicity.offset_date(\n",
    "                self.params['start_date'],\n",
    "                num_periods=-1,\n",
    "                period_type=self.params['period_type']),\n",
    "            period_type=self.params['period_type'],\n",
    "            num_periods=1)\n",
    "        self.span = self.calc_span.shift(\n",
    "            name='Span',\n",
    "            num_periods=-1,\n",
    "            period_type=self.params['period_type'],\n",
    "            bound='end')\n",
    "        self.reversion_span = self.span.shift(\n",
    "            name='Reversion Span',\n",
    "            num_periods=self.params['num_periods'] - 1,\n",
    "            period_type=self.params['period_type'],\n",
    "            bound='start')\n",
    "    def calc_acquisition(self):\n",
    "        self.acquisition = rk.flux.Flow.from_projection(\n",
    "            name='Acquisition',\n",
    "            value=self.params['acquisition_cost'],\n",
    "            proj=rk.projection.Distribution(\n",
    "                form=rk.distribution.Uniform(),\n",
    "                sequence=self.acq_span.to_index(period_type=self.params['period_type'])),\n",
    "            units=currency.units)\n",
    "    def calc_egi(self):\n",
    "        pgi = rk.flux.Flow.from_projection(\n",
    "            name='Potential Gross Income',\n",
    "            value=self.params['initial_income'],\n",
    "            proj=rk.projection.Extrapolation(\n",
    "                form=rk.extrapolation.Compounding(\n",
    "                    rate=self.params['growth_rate']),\n",
    "                sequence=self.calc_span.to_index(period_type=self.params['period_type'])),\n",
    "            units=currency.units)\n",
    "\n",
    "        # Construct a Stream that multiplies the Base Model's PGI by the\n",
    "        # simulated Market's Space Market factors\n",
    "        self.pgi = rk.flux.Stream(\n",
    "            name='Potential Gross Income',\n",
    "            flows=[\n",
    "                pgi,\n",
    "                self.market.space_market_price_factors.trim_to_span(self.calc_span)\n",
    "                ],\n",
    "            period_type=self.params['period_type']\n",
    "            ).product(registry=rk.measure.Index.registry)\n",
    "\n",
    "        self.vacancy = rk.flux.Flow(\n",
    "            name='Vacancy Allowance',\n",
    "            movements=self.pgi.movements * -self.params['vacancy_rate'],\n",
    "            units=currency.units)\n",
    "        self.egi = rk.flux.Stream(\n",
    "            name='Effective Gross Income',\n",
    "            flows=[self.pgi, self.vacancy],\n",
    "            period_type=self.params['period_type']).sum()\n",
    "    def calc_noi(self):\n",
    "        self.opex = rk.flux.Flow(\n",
    "            name='Operating Expenses',\n",
    "            movements=self.pgi.movements * self.params['opex_pgi_ratio'],\n",
    "            units=currency.units).invert()\n",
    "        self.noi = rk.flux.Stream(\n",
    "            name='Net Operating Income',\n",
    "            flows=[self.egi, self.opex],\n",
    "            period_type=self.params['period_type']).sum()\n",
    "    def calc_ncf(self):\n",
    "        self.capex = rk.flux.Flow(\n",
    "            name='Capital Expenditures',\n",
    "            movements=self.pgi.movements * self.params['capex_pgi_ratio'],\n",
    "            units=currency.units).invert()\n",
    "        self.net_cf = rk.flux.Stream(\n",
    "            name='Net Annual Cashflow',\n",
    "            flows=[self.noi, self.capex],\n",
    "            period_type=self.params['period_type']).sum()\n",
    "    def calc_reversion(self):\n",
    "            # Construct the Reversions using the simulated Market's Asset Market\n",
    "            # factors (cap rates):\n",
    "            self.reversions = rk.flux.Flow(\n",
    "                name='Reversions',\n",
    "                movements=self.net_cf.movements.shift(periods=-1).dropna() /\n",
    "                          self.market.implied_rev_cap_rate.movements,\n",
    "                units=currency.units).trim_to_span(span=self.span)\n",
    "\n",
    "            self.reversion = self.reversions.trim_to_span(\n",
    "                span=self.reversion_span,\n",
    "                name='Reversion')\n",
    "            self.pbtcfs = rk.flux.Stream(\n",
    "                name='PBTCFs',\n",
    "                flows=[\n",
    "                    self.net_cf.trim_to_span(span=self.span),\n",
    "                    self.reversions.trim_to_span(span=self.reversion_span)\n",
    "                    ],\n",
    "                period_type=self.params['period_type'])\n",
    "    def calc_metrics(self):\n",
    "        pvs = []\n",
    "        irrs = []\n",
    "        for period in self.net_cf.trim_to_span(span=self.span).movements.index:\n",
    "            cumulative_net_cf = self.net_cf.trim_to_span(\n",
    "                span=rk.span.Span(\n",
    "                    name='Cumulative Net Cashflow Span',\n",
    "                    start_date=self.params['start_date'],\n",
    "                    end_date=period))\n",
    "            reversion = rk.flux.Flow(\n",
    "                movements=self.reversions.movements.loc[[period]],\n",
    "                units=currency.units)\n",
    "            cumulative_net_cf_with_rev = rk.flux.Stream(\n",
    "                name='Net Cashflow with Reversion',\n",
    "                flows=[\n",
    "                    cumulative_net_cf,\n",
    "                    reversion\n",
    "                    ],\n",
    "                period_type=self.params['period_type'])\n",
    "            pv = cumulative_net_cf_with_rev.sum().pv(\n",
    "                name='Present Value',\n",
    "                period_type=self.params['period_type'],\n",
    "                discount_rate=self.params['discount_rate'])\n",
    "            pvs.append(pv.collapse().movements)\n",
    "\n",
    "            incl_acq = rk.flux.Stream(\n",
    "                name='Net Cashflow with Reversion and Acquisition',\n",
    "                flows=[cumulative_net_cf_with_rev.sum(), self.acquisition],\n",
    "                period_type=self.params['period_type'])\n",
    "\n",
    "            irrs.append(round(incl_acq.sum().xirr(), 4))\n",
    "\n",
    "        self.pvs = rk.flux.Flow(\n",
    "            name='Present Values',\n",
    "            movements=pd.concat(pvs),\n",
    "            units=currency.units)\n",
    "        self.irrs = rk.flux.Flow(\n",
    "            name='Internal Rates of Return',\n",
    "            movements=pd.Series(irrs, index=self.pvs.movements.index),\n",
    "            units=None)\n",
    "    def generate(self):\n",
    "        self.init_spans()\n",
    "        self.calc_acquisition()\n",
    "        self.calc_egi()\n",
    "        self.calc_noi()\n",
    "        self.calc_ncf()\n",
    "        self.calc_reversion()\n",
    "        self.calc_metrics()"
   ],
   "metadata": {
    "collapsed": false,
    "ExecuteTime": {
     "end_time": "2023-05-18T10:17:57.243779Z",
     "start_time": "2023-05-18T10:17:57.241701Z"
    }
   }
  },
  {
   "cell_type": "markdown",
   "source": [
    "For each `Market`, we then run the Base Model.\n",
    "To speed this up we can use multiprocessing, so we need to import and configure\n",
    "a few libraries:"
   ],
   "metadata": {
    "collapsed": false
   }
  },
  {
   "cell_type": "code",
   "execution_count": 21,
   "outputs": [],
   "source": [
    "import os\n",
    "from typing import List\n",
    "import multiprocess\n",
    "import pint\n",
    "pint.set_application_registry(rk.measure.Index.registry)"
   ],
   "metadata": {
    "collapsed": false,
    "ExecuteTime": {
     "end_time": "2023-05-18T10:17:57.247160Z",
     "start_time": "2023-05-18T10:17:57.244853Z"
    }
   }
  },
  {
   "cell_type": "code",
   "execution_count": 22,
   "outputs": [],
   "source": [
    "inflex_scenarios = []\n",
    "for market in markets:\n",
    "    scenario = BaseModel()\n",
    "    scenario.set_params(params.copy())\n",
    "    scenario.set_market(market)\n",
    "    inflex_scenarios.append(scenario)"
   ],
   "metadata": {
    "collapsed": false,
    "ExecuteTime": {
     "end_time": "2023-05-18T10:17:57.281550Z",
     "start_time": "2023-05-18T10:17:57.259131Z"
    }
   }
  },
  {
   "cell_type": "code",
   "execution_count": 23,
   "outputs": [],
   "source": [
    "def generate(scenario):\n",
    "    scenario.generate()\n",
    "    return scenario\n",
    "inflex_scenarios = multiprocess.Pool(os.cpu_count()).map(\n",
    "    generate,\n",
    "    inflex_scenarios)"
   ],
   "metadata": {
    "collapsed": false,
    "ExecuteTime": {
     "end_time": "2023-05-18T10:20:19.267907Z",
     "start_time": "2023-05-18T10:17:57.262868Z"
    }
   }
  },
  {
   "cell_type": "markdown",
   "source": [
    "### Flexible Model\n",
    "Similarly, we set up the Flexible Model with our `Policy`:"
   ],
   "metadata": {
    "collapsed": false
   }
  },
  {
   "cell_type": "code",
   "execution_count": 24,
   "outputs": [],
   "source": [
    "def exceed_pricing_factor(state: rk.flux.Flow) -> List[bool]:\n",
    "    threshold = 1.2\n",
    "    result = []\n",
    "    for i in range(state.movements.index.size):\n",
    "        if any(result):\n",
    "            result.append(False)\n",
    "        else:\n",
    "            if i < 2:\n",
    "                result.append(False)\n",
    "            else:\n",
    "                if state.movements[i] > threshold:\n",
    "                    result.append(True)\n",
    "                else:\n",
    "                    result.append(False)\n",
    "    return result\n",
    "\n",
    "def adjust_hold_period(\n",
    "        model: object,\n",
    "        decisions: List[bool]) -> object:\n",
    "    # Get the index of the decision flag:\n",
    "    try:\n",
    "        idx = decisions.index(True)\n",
    "    except ValueError:\n",
    "        idx = len(decisions)\n",
    "\n",
    "    # Adjust the Model's holding period:\n",
    "    policy_params = model.params.copy()\n",
    "    policy_params['num_periods'] = idx\n",
    "\n",
    "    # Re-run the Model with updated params:\n",
    "    model.set_params(policy_params)\n",
    "    model.generate()\n",
    "    return model\n",
    "\n",
    "stop_gain_resale_policy = rk.policy.Policy(\n",
    "    condition=exceed_pricing_factor,\n",
    "    action=adjust_hold_period)"
   ],
   "metadata": {
    "collapsed": false,
    "ExecuteTime": {
     "end_time": "2023-05-18T10:20:19.271171Z",
     "start_time": "2023-05-18T10:20:19.268132Z"
    }
   }
  },
  {
   "cell_type": "markdown",
   "source": [
    "And we run the Flexible Model for each `Market`:"
   ],
   "metadata": {
    "collapsed": false
   }
  },
  {
   "cell_type": "code",
   "execution_count": null,
   "outputs": [],
   "source": [
    "policy_args = [(scenario.market.space_market_price_factors, scenario) for scenario in inflex_scenarios]\n",
    "flex_scenarios = multiprocess.Pool(os.cpu_count()).map(\n",
    "    stop_gain_resale_policy.execute,\n",
    "    policy_args)"
   ],
   "metadata": {
    "collapsed": false,
    "is_executing": true,
    "ExecuteTime": {
     "start_time": "2023-05-18T10:20:19.274441Z"
    }
   }
  },
  {
   "cell_type": "markdown",
   "source": [
    "### Results\n",
    "We can now compare the results of the Base and Flexible Models with some\n",
    "descriptive statistics"
   ],
   "metadata": {
    "collapsed": false
   }
  },
  {
   "cell_type": "code",
   "execution_count": null,
   "outputs": [],
   "source": [
    "import scipy.stats as ss\n",
    "\n",
    "inflex_pvs = pd.Series([scenario.pvs.movements[-1] for scenario in inflex_scenarios])\n",
    "flex_pvs = pd.Series([scenario.pvs.movements[-1] for scenario in flex_scenarios])\n",
    "diff_pvs = flex_pvs - inflex_pvs\n",
    "\n",
    "pvs = pd.DataFrame({\n",
    "    'Inflexible': inflex_pvs,\n",
    "    'Flexible': flex_pvs,\n",
    "    'Difference': diff_pvs})\n",
    "pvs.describe()"
   ],
   "metadata": {
    "collapsed": false,
    "is_executing": true
   }
  },
  {
   "cell_type": "code",
   "execution_count": null,
   "outputs": [],
   "source": [
    "pvs.skew()"
   ],
   "metadata": {
    "collapsed": false,
    "is_executing": true
   }
  },
  {
   "cell_type": "code",
   "execution_count": null,
   "outputs": [],
   "source": [
    "pvs.kurtosis()"
   ],
   "metadata": {
    "collapsed": false,
    "is_executing": true
   }
  },
  {
   "cell_type": "code",
   "execution_count": null,
   "outputs": [],
   "source": [
    "print('Inflex Diffs t-stat from scipy: \\n{}'.format(\n",
    "    ss.ttest_1samp(diff_pvs, 0)))"
   ],
   "metadata": {
    "collapsed": false,
    "is_executing": true
   }
  },
  {
   "cell_type": "code",
   "execution_count": null,
   "outputs": [],
   "source": [
    "sns.ecdfplot(data=inflex_pvs)"
   ],
   "metadata": {
    "collapsed": false,
    "is_executing": true
   }
  }
 ],
 "metadata": {
  "kernelspec": {
   "display_name": "Python 3",
   "language": "python",
   "name": "python3"
  },
  "language_info": {
   "codemirror_mode": {
    "name": "ipython",
    "version": 3
   },
   "file_extension": ".py",
   "mimetype": "text/x-python",
   "name": "python",
   "nbconvert_exporter": "python",
   "pygments_lexer": "ipython3",
   "version": "3.10.4"
  }
 },
 "nbformat": 4,
 "nbformat_minor": 0
}
