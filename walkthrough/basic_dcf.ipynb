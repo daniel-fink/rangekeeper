{
 "cells": [
  {
   "cell_type": "markdown",
   "source": [
    "# A Basic Discounted Cash Flow Valuation"
   ],
   "metadata": {
    "collapsed": false
   }
  },
  {
   "cell_type": "markdown",
   "source": [
    "\n",
    "\n",
    "Chapter 1 of {cite}`farevuu2018` showcases the structure and functionality of a\n",
    "*basic* Discounted Cash Flow (DCF) Valuation in use in a real estate property.\n",
    "In this notebook, the core computational objects (classes), their functionality,\n",
    " and how they are composed together into a valuation model are outlined.\n",
    "\n",
    "To do so, we will be replicating Table 1.1 from {cite}`farevuu2018`, which\n",
    "describes this DCF:"
   ],
   "metadata": {
    "collapsed": false
   }
  },
  {
   "cell_type": "markdown",
   "source": [
    "```{figure} resources/FaREVuU-table1.1.jpg\n",
    "---\n",
    "width: 100%\n",
    "name: FaREVuU-table1.1\n",
    "---\n",
    "Table 1.1 From {cite}`farevuu2018`\n",
    "```"
   ],
   "metadata": {
    "collapsed": false
   }
  },
  {
   "cell_type": "markdown",
   "source": [
    "First, we will need to import any neccesary libraries, as well as the\n",
    "*Rangekeeper* library, that we alias to `rk`:"
   ],
   "metadata": {
    "collapsed": false
   }
  },
  {
   "cell_type": "markdown",
   "source": [
    "Import Libraries:"
   ],
   "metadata": {
    "collapsed": false
   }
  },
  {
   "cell_type": "code",
   "execution_count": 1,
   "outputs": [],
   "source": [
    "import locale\n",
    "import pandas as pd\n",
    "\n",
    "# Import Rangekeeper:\n",
    "import rangekeeper as rk"
   ],
   "metadata": {
    "collapsed": false,
    "ExecuteTime": {
     "end_time": "2023-06-26T00:54:19.829183Z",
     "start_time": "2023-06-26T00:54:18.385926Z"
    }
   }
  },
  {
   "cell_type": "markdown",
   "source": [
    "## The Foundational Elements of a Proforma\n",
    "\n",
    "### A `Flow`\n",
    "The core element of a Cash Flow analysis is the cash flow; a sequence of\n",
    "*movements* of currency (whether positive -- *inflow*, or negative -- *outflow*)\n",
    ", where each movement is associated with a *date* and a *quantity*. A cash flow\n",
    "is also sometimes referred to as a 'line item', which is a way of designating\n",
    "the subject of flows, e.g.: \"Operational Expenses\", or \"Income from Building 2's\n",
    "Parking\"\n",
    "\n",
    "A cash flow is implemented in Rangekeeper as a `Flow` object (from the flux\n",
    "module), which uses a pandas `Series` object to encapsulate the \"movements\" of\n",
    "material (with specified units, like currency, energy, mass, etc) that occur at\n",
    "specified dates.\n",
    "\n",
    "Note: the `Flow`'s movements Series index is pandas `DatetimeIndex`, and its\n",
    "values are `float`s."
   ],
   "metadata": {
    "collapsed": false
   }
  },
  {
   "cell_type": "markdown",
   "source": [
    "First we initialize the currency used in our Proforma. Currencies are a type of\n",
    "`Measure`, which encapsulate [Pint](https://github.com/hgrecco/pint) unit\n",
    "definitions"
   ],
   "metadata": {
    "collapsed": false
   }
  },
  {
   "cell_type": "code",
   "execution_count": 23,
   "outputs": [
    {
     "name": "stdout",
     "output_type": "stream",
     "text": [
      "Rangekeeper Measure: \"Australian Dollar\". Currency of ['AUSTRALIA', 'COCOS (KEELING) ISLANDS', 'CHRISTMAS ISLAND', 'HEARD & MCDONALD ISLANDS', 'KIRIBATI', 'NORFOLK ISLAND', 'NAURU', 'TUVALU']. Units: AUD\n"
     ]
    }
   ],
   "source": [
    "locale.setlocale(locale.LC_ALL, '')\n",
    "units = rk.measure.Index.registry\n",
    "currency = rk.measure.register_currency(registry=units)\n",
    "print(currency)"
   ],
   "metadata": {
    "collapsed": false,
    "ExecuteTime": {
     "end_time": "2023-06-26T00:54:37.792304Z",
     "start_time": "2023-06-26T00:54:37.785773Z"
    }
   }
  },
  {
   "cell_type": "markdown",
   "source": [
    "Next we define a `Flow` object from a list of dates and amounts:"
   ],
   "metadata": {
    "collapsed": false
   }
  },
  {
   "cell_type": "code",
   "execution_count": 3,
   "outputs": [],
   "source": [
    "transactions = {\n",
    "    pd.Timestamp('2020-01-01'): 100,\n",
    "    pd.Timestamp('2020-01-02'): 200,\n",
    "    pd.Timestamp('2019-01-01'): 300,\n",
    "    pd.Timestamp('2020-12-31'): -100\n",
    "    }\n",
    "\n",
    "movements = pd.Series(data=transactions)\n",
    "\n",
    "cash_flow = rk.flux.Flow(\n",
    "    name='Operational Expenses',\n",
    "    movements=movements,\n",
    "    units=currency.units)"
   ],
   "metadata": {
    "collapsed": false,
    "ExecuteTime": {
     "end_time": "2023-06-26T00:54:19.865072Z",
     "start_time": "2023-06-26T00:54:19.862969Z"
    }
   }
  },
  {
   "cell_type": "markdown",
   "source": [
    "We can view the object we just created by simply calling it:"
   ],
   "metadata": {
    "collapsed": false
   }
  },
  {
   "cell_type": "code",
   "execution_count": 4,
   "outputs": [
    {
     "data": {
      "text/plain": "<rangekeeper.flux.Flow at 0x2e47d14b0>",
      "text/html": "<table>\n<thead>\n<tr><th style=\"text-align: right;\">               date</th><th style=\"text-align: right;\">  Operational Expenses</th></tr>\n</thead>\n<tbody>\n<tr><td style=\"text-align: right;\">2020-01-01 00:00:00</td><td style=\"text-align: right;\">               $100.00</td></tr>\n<tr><td style=\"text-align: right;\">2020-01-02 00:00:00</td><td style=\"text-align: right;\">               $200.00</td></tr>\n<tr><td style=\"text-align: right;\">2019-01-01 00:00:00</td><td style=\"text-align: right;\">               $300.00</td></tr>\n<tr><td style=\"text-align: right;\">2020-12-31 00:00:00</td><td style=\"text-align: right;\">              -$100.00</td></tr>\n</tbody>\n</table>"
     },
     "execution_count": 4,
     "metadata": {},
     "output_type": "execute_result"
    }
   ],
   "source": [
    "cash_flow"
   ],
   "metadata": {
    "collapsed": false,
    "ExecuteTime": {
     "end_time": "2023-06-26T00:54:19.875952Z",
     "start_time": "2023-06-26T00:54:19.869208Z"
    }
   }
  },
  {
   "cell_type": "markdown",
   "source": [
    "We can also inspect it by displaying it's \"movements\", and its `Index` (as it\n",
    "encapsulates a Pandas Series):"
   ],
   "metadata": {
    "collapsed": false
   }
  },
  {
   "cell_type": "code",
   "execution_count": 5,
   "outputs": [
    {
     "data": {
      "text/plain": "2020-01-01    100.0\n2020-01-02    200.0\n2019-01-01    300.0\n2020-12-31   -100.0\nName: Operational Expenses, dtype: float64"
     },
     "execution_count": 5,
     "metadata": {},
     "output_type": "execute_result"
    }
   ],
   "source": [
    "cash_flow.movements"
   ],
   "metadata": {
    "collapsed": false,
    "ExecuteTime": {
     "end_time": "2023-06-26T00:54:19.902431Z",
     "start_time": "2023-06-26T00:54:19.875868Z"
    }
   }
  },
  {
   "cell_type": "code",
   "execution_count": 6,
   "outputs": [
    {
     "data": {
      "text/plain": "DatetimeIndex(['2020-01-01', '2020-01-02', '2019-01-01', '2020-12-31'], dtype='datetime64[ns]', freq=None)"
     },
     "execution_count": 6,
     "metadata": {},
     "output_type": "execute_result"
    }
   ],
   "source": [
    "cash_flow.movements.index"
   ],
   "metadata": {
    "collapsed": false,
    "ExecuteTime": {
     "end_time": "2023-06-26T00:54:19.981004Z",
     "start_time": "2023-06-26T00:54:19.889730Z"
    }
   }
  },
  {
   "cell_type": "markdown",
   "source": [
    "It's units can be inspected by calling its `units` property:"
   ],
   "metadata": {
    "collapsed": false
   }
  },
  {
   "cell_type": "code",
   "execution_count": 7,
   "outputs": [
    {
     "data": {
      "text/plain": "<Unit('AUD')>",
      "text/html": "AUD",
      "text/latex": "$\\mathrm{AUD}$"
     },
     "execution_count": 7,
     "metadata": {},
     "output_type": "execute_result"
    }
   ],
   "source": [
    "cash_flow.units"
   ],
   "metadata": {
    "collapsed": false,
    "ExecuteTime": {
     "end_time": "2023-06-26T00:54:19.981245Z",
     "start_time": "2023-06-26T00:54:19.902617Z"
    }
   }
  },
  {
   "cell_type": "markdown",
   "source": [
    "#### Overview of a `Flow`"
   ],
   "metadata": {
    "collapsed": false
   }
  },
  {
   "cell_type": "markdown",
   "source": [
    "As you can see, a `Flow` has three properties:\n",
    "1. it's Name,\n",
    "2. a Pandas Series of date-stamped amounts ('Movements'), and\n",
    "3. the units of the movement's amounts\n",
    "\n",
    "* Note the following:\n",
    "    1. The movements can be in any (temporal) order,\n",
    "    2. The movements can be positive or negative,\n",
    "    3. The movements will be (or converted to) `float`s\n",
    "    4. The pd.Series index is a pd.DatetimeIndex\n",
    "\n",
    "All this information can be inspected via the `display()` method:"
   ],
   "metadata": {
    "collapsed": false
   }
  },
  {
   "cell_type": "code",
   "execution_count": 8,
   "outputs": [
    {
     "name": "stdout",
     "output_type": "stream",
     "text": [
      "Name: Operational Expenses\n",
      "Units: AUD\n",
      "Movements: \n",
      "|                date |   Operational Expenses |\n",
      "|---------------------|------------------------|\n",
      "| 2020-01-01 00:00:00 |                $100.00 |\n",
      "| 2020-01-02 00:00:00 |                $200.00 |\n",
      "| 2019-01-01 00:00:00 |                $300.00 |\n",
      "| 2020-12-31 00:00:00 |               -$100.00 |\n",
      "\n",
      "\n"
     ]
    }
   ],
   "source": [
    "cash_flow.display()"
   ],
   "metadata": {
    "collapsed": false,
    "ExecuteTime": {
     "end_time": "2023-06-26T00:54:19.981319Z",
     "start_time": "2023-06-26T00:54:19.902801Z"
    }
   }
  },
  {
   "cell_type": "markdown",
   "source": [
    "### A `Span`\n",
    "`Span`s are used to define intervals of time that encompass the movements of a\n",
    "Flow.\n",
    "\n",
    "A `Span` is a pd.Interval of pd.Timestamps that bound its start and end dates.\n"
   ],
   "metadata": {
    "collapsed": false
   }
  },
  {
   "cell_type": "code",
   "execution_count": 9,
   "outputs": [
    {
     "name": "stdout",
     "output_type": "stream",
     "text": [
      "Span: Operation\n",
      "Start Date: 2001-01-01\n",
      "End Date: 2011-12-31\n"
     ]
    }
   ],
   "source": [
    "# Define a Span:\n",
    "start_date = pd.Timestamp('2001-01-01')\n",
    "num_periods = 11\n",
    "span = rk.span.Span.from_num_periods(\n",
    "    name='Operation',\n",
    "    date=start_date,\n",
    "    period_type=rk.periodicity.Type.YEAR,\n",
    "    num_periods=num_periods)\n",
    "print(span)"
   ],
   "metadata": {
    "collapsed": false,
    "ExecuteTime": {
     "end_time": "2023-06-26T00:54:19.981373Z",
     "start_time": "2023-06-26T00:54:19.902863Z"
    }
   }
  },
  {
   "cell_type": "markdown",
   "source": [
    "### A `Projection`\n",
    "A `Projection` takes a value and casts it over a sequence of periods according\n",
    "to a specified logic. There are two classes of the form of the logic:\n",
    "1. Extrapolation, which takes a starting value and from it generates a sequence\n",
    "of values over a sequence of dates, and\n",
    "2. Distribution, which takes a total value and subdivides it over a sequence of\n",
    "dates.\n",
    "\n",
    "To match the logic of line 4, 'Potential Gross Income', in Table 1.1 above, we\n",
    "will use a \"Compounding\" extrapolation:"
   ],
   "metadata": {
    "collapsed": false
   }
  },
  {
   "cell_type": "code",
   "execution_count": 10,
   "outputs": [],
   "source": [
    "# Define a Compounding Projection:\n",
    "compounding_rate = 0.02\n",
    "projection = rk.projection.Extrapolation(\n",
    "    form=rk.extrapolation.Compounding(rate=compounding_rate),\n",
    "    sequence=span.to_index(period_type=rk.periodicity.Type.YEAR))"
   ],
   "metadata": {
    "collapsed": false,
    "ExecuteTime": {
     "end_time": "2023-06-26T00:54:19.981405Z",
     "start_time": "2023-06-26T00:54:19.903050Z"
    }
   }
  },
  {
   "cell_type": "markdown",
   "source": [
    "Let's now use the previous definitions of `Flow`s and `Projection`s to construct\n",
    " the 'Potential Gross Income' line item:\n"
   ],
   "metadata": {
    "collapsed": false
   }
  },
  {
   "cell_type": "markdown",
   "source": [],
   "metadata": {
    "collapsed": false
   }
  },
  {
   "cell_type": "code",
   "execution_count": 11,
   "outputs": [
    {
     "data": {
      "text/plain": "<rangekeeper.flux.Flow at 0x2e491db70>",
      "text/html": "<table>\n<thead>\n<tr><th style=\"text-align: right;\">               date</th><th style=\"text-align: right;\">  Potential Gross Income</th></tr>\n</thead>\n<tbody>\n<tr><td style=\"text-align: right;\">2001-12-31 00:00:00</td><td style=\"text-align: right;\">                 $100.00</td></tr>\n<tr><td style=\"text-align: right;\">2002-12-31 00:00:00</td><td style=\"text-align: right;\">                 $102.00</td></tr>\n<tr><td style=\"text-align: right;\">2003-12-31 00:00:00</td><td style=\"text-align: right;\">                 $104.04</td></tr>\n<tr><td style=\"text-align: right;\">2004-12-31 00:00:00</td><td style=\"text-align: right;\">                 $106.12</td></tr>\n<tr><td style=\"text-align: right;\">2005-12-31 00:00:00</td><td style=\"text-align: right;\">                 $108.24</td></tr>\n<tr><td style=\"text-align: right;\">2006-12-31 00:00:00</td><td style=\"text-align: right;\">                 $110.41</td></tr>\n<tr><td style=\"text-align: right;\">2007-12-31 00:00:00</td><td style=\"text-align: right;\">                 $112.62</td></tr>\n<tr><td style=\"text-align: right;\">2008-12-31 00:00:00</td><td style=\"text-align: right;\">                 $114.87</td></tr>\n<tr><td style=\"text-align: right;\">2009-12-31 00:00:00</td><td style=\"text-align: right;\">                 $117.17</td></tr>\n<tr><td style=\"text-align: right;\">2010-12-31 00:00:00</td><td style=\"text-align: right;\">                 $119.51</td></tr>\n<tr><td style=\"text-align: right;\">2011-12-31 00:00:00</td><td style=\"text-align: right;\">                 $121.90</td></tr>\n</tbody>\n</table>"
     },
     "execution_count": 11,
     "metadata": {},
     "output_type": "execute_result"
    }
   ],
   "source": [
    "# Define a compounding Cash Flow:\n",
    "initial_income = 100 * currency.units\n",
    "potential_gross_income = rk.flux.Flow.from_projection(\n",
    "    name='Potential Gross Income',\n",
    "    value=initial_income,\n",
    "    proj=projection,\n",
    "    units=currency.units)\n",
    "potential_gross_income"
   ],
   "metadata": {
    "collapsed": false,
    "ExecuteTime": {
     "end_time": "2023-06-26T00:54:19.981464Z",
     "start_time": "2023-06-26T00:54:19.903117Z"
    }
   }
  },
  {
   "cell_type": "markdown",
   "source": [
    "Similarly, we define the 'Vacancy' line item by multiplying the movements of the\n",
    "'Potential Gross Income' `Flow` by a vacancy rate:"
   ],
   "metadata": {
    "collapsed": false
   }
  },
  {
   "cell_type": "code",
   "execution_count": 12,
   "outputs": [
    {
     "data": {
      "text/plain": "<rangekeeper.flux.Flow at 0x2e491d000>",
      "text/html": "<table>\n<thead>\n<tr><th style=\"text-align: right;\">               date</th><th style=\"text-align: right;\">  Vacancy Allowance</th></tr>\n</thead>\n<tbody>\n<tr><td style=\"text-align: right;\">2001-12-31 00:00:00</td><td style=\"text-align: right;\">             -$5.00</td></tr>\n<tr><td style=\"text-align: right;\">2002-12-31 00:00:00</td><td style=\"text-align: right;\">             -$5.10</td></tr>\n<tr><td style=\"text-align: right;\">2003-12-31 00:00:00</td><td style=\"text-align: right;\">             -$5.20</td></tr>\n<tr><td style=\"text-align: right;\">2004-12-31 00:00:00</td><td style=\"text-align: right;\">             -$5.31</td></tr>\n<tr><td style=\"text-align: right;\">2005-12-31 00:00:00</td><td style=\"text-align: right;\">             -$5.41</td></tr>\n<tr><td style=\"text-align: right;\">2006-12-31 00:00:00</td><td style=\"text-align: right;\">             -$5.52</td></tr>\n<tr><td style=\"text-align: right;\">2007-12-31 00:00:00</td><td style=\"text-align: right;\">             -$5.63</td></tr>\n<tr><td style=\"text-align: right;\">2008-12-31 00:00:00</td><td style=\"text-align: right;\">             -$5.74</td></tr>\n<tr><td style=\"text-align: right;\">2009-12-31 00:00:00</td><td style=\"text-align: right;\">             -$5.86</td></tr>\n<tr><td style=\"text-align: right;\">2010-12-31 00:00:00</td><td style=\"text-align: right;\">             -$5.98</td></tr>\n<tr><td style=\"text-align: right;\">2011-12-31 00:00:00</td><td style=\"text-align: right;\">             -$6.09</td></tr>\n</tbody>\n</table>"
     },
     "execution_count": 12,
     "metadata": {},
     "output_type": "execute_result"
    }
   ],
   "source": [
    "vacancy_rate = 0.05\n",
    "vacancy = rk.flux.Flow(\n",
    "    name='Vacancy Allowance',\n",
    "    movements=potential_gross_income.movements * -vacancy_rate,\n",
    "    units=currency.units)\n",
    "vacancy"
   ],
   "metadata": {
    "collapsed": false,
    "ExecuteTime": {
     "end_time": "2023-06-26T00:54:19.981829Z",
     "start_time": "2023-06-26T00:54:19.914101Z"
    }
   }
  },
  {
   "cell_type": "markdown",
   "source": [
    "```{note}\n",
    "Note the sign of the movements of the 'Vacancy Allowance' `Flow` -- it is\n",
    "negative, because it is an *outflow*.\n",
    "```"
   ],
   "metadata": {
    "collapsed": false
   }
  },
  {
   "cell_type": "markdown",
   "source": [
    "### A `Stream`\n",
    "A `Stream` is a collection of constituent `Flow`s into a table, such that their\n",
    "movements (transactions) are resampled with a specified periodicity.\n",
    "\n",
    "Let's use the 'Effective Gross Income' line item in Table 1.1 to illustrate the\n",
    "concept of a `Stream`:"
   ],
   "metadata": {
    "collapsed": false
   }
  },
  {
   "cell_type": "code",
   "execution_count": 13,
   "outputs": [
    {
     "data": {
      "text/plain": "<rangekeeper.flux.Stream at 0x2e491c7c0>",
      "text/html": "<table>\n<thead>\n<tr><th style=\"text-align: right;\">  date</th><th style=\"text-align: right;\">  Potential Gross Income</th><th style=\"text-align: right;\">  Vacancy Allowance</th></tr>\n</thead>\n<tbody>\n<tr><td style=\"text-align: right;\">  2001</td><td style=\"text-align: right;\">                 $100.00</td><td style=\"text-align: right;\">             -$5.00</td></tr>\n<tr><td style=\"text-align: right;\">  2002</td><td style=\"text-align: right;\">                 $102.00</td><td style=\"text-align: right;\">             -$5.10</td></tr>\n<tr><td style=\"text-align: right;\">  2003</td><td style=\"text-align: right;\">                 $104.04</td><td style=\"text-align: right;\">             -$5.20</td></tr>\n<tr><td style=\"text-align: right;\">  2004</td><td style=\"text-align: right;\">                 $106.12</td><td style=\"text-align: right;\">             -$5.31</td></tr>\n<tr><td style=\"text-align: right;\">  2005</td><td style=\"text-align: right;\">                 $108.24</td><td style=\"text-align: right;\">             -$5.41</td></tr>\n<tr><td style=\"text-align: right;\">  2006</td><td style=\"text-align: right;\">                 $110.41</td><td style=\"text-align: right;\">             -$5.52</td></tr>\n<tr><td style=\"text-align: right;\">  2007</td><td style=\"text-align: right;\">                 $112.62</td><td style=\"text-align: right;\">             -$5.63</td></tr>\n<tr><td style=\"text-align: right;\">  2008</td><td style=\"text-align: right;\">                 $114.87</td><td style=\"text-align: right;\">             -$5.74</td></tr>\n<tr><td style=\"text-align: right;\">  2009</td><td style=\"text-align: right;\">                 $117.17</td><td style=\"text-align: right;\">             -$5.86</td></tr>\n<tr><td style=\"text-align: right;\">  2010</td><td style=\"text-align: right;\">                 $119.51</td><td style=\"text-align: right;\">             -$5.98</td></tr>\n<tr><td style=\"text-align: right;\">  2011</td><td style=\"text-align: right;\">                 $121.90</td><td style=\"text-align: right;\">             -$6.09</td></tr>\n</tbody>\n</table>"
     },
     "execution_count": 13,
     "metadata": {},
     "output_type": "execute_result"
    }
   ],
   "source": [
    "effective_gross_income = rk.flux.Stream(\n",
    "    name='Effective Gross Income',\n",
    "    flows=[potential_gross_income, vacancy],\n",
    "    period_type=rk.periodicity.Type.YEAR)\n",
    "effective_gross_income"
   ],
   "metadata": {
    "collapsed": false,
    "ExecuteTime": {
     "end_time": "2023-06-26T00:54:19.982181Z",
     "start_time": "2023-06-26T00:54:19.917531Z"
    }
   }
  },
  {
   "cell_type": "markdown",
   "source": [
    "As you can see, the `Stream` has a name, a table of constituent `Flow`s (each\n",
    "with their own units), with their movements resampled to the specified\n",
    "periodicity.\n",
    "\n",
    "In order to aggregate the constituent `Flow`s, we can sum them into a resultant\n",
    "`Flow`:"
   ],
   "metadata": {
    "collapsed": false
   }
  },
  {
   "cell_type": "code",
   "execution_count": 14,
   "outputs": [
    {
     "data": {
      "text/plain": "<rangekeeper.flux.Flow at 0x2e491c0a0>",
      "text/html": "<table>\n<thead>\n<tr><th style=\"text-align: right;\">               date</th><th style=\"text-align: right;\">  Effective Gross Income (sum)</th></tr>\n</thead>\n<tbody>\n<tr><td style=\"text-align: right;\">2001-12-31 00:00:00</td><td style=\"text-align: right;\">                        $95.00</td></tr>\n<tr><td style=\"text-align: right;\">2002-12-31 00:00:00</td><td style=\"text-align: right;\">                        $96.90</td></tr>\n<tr><td style=\"text-align: right;\">2003-12-31 00:00:00</td><td style=\"text-align: right;\">                        $98.84</td></tr>\n<tr><td style=\"text-align: right;\">2004-12-31 00:00:00</td><td style=\"text-align: right;\">                       $100.81</td></tr>\n<tr><td style=\"text-align: right;\">2005-12-31 00:00:00</td><td style=\"text-align: right;\">                       $102.83</td></tr>\n<tr><td style=\"text-align: right;\">2006-12-31 00:00:00</td><td style=\"text-align: right;\">                       $104.89</td></tr>\n<tr><td style=\"text-align: right;\">2007-12-31 00:00:00</td><td style=\"text-align: right;\">                       $106.99</td></tr>\n<tr><td style=\"text-align: right;\">2008-12-31 00:00:00</td><td style=\"text-align: right;\">                       $109.13</td></tr>\n<tr><td style=\"text-align: right;\">2009-12-31 00:00:00</td><td style=\"text-align: right;\">                       $111.31</td></tr>\n<tr><td style=\"text-align: right;\">2010-12-31 00:00:00</td><td style=\"text-align: right;\">                       $113.53</td></tr>\n<tr><td style=\"text-align: right;\">2011-12-31 00:00:00</td><td style=\"text-align: right;\">                       $115.80</td></tr>\n</tbody>\n</table>"
     },
     "execution_count": 14,
     "metadata": {},
     "output_type": "execute_result"
    }
   ],
   "source": [
    "effective_gross_income_flow = effective_gross_income.sum()\n",
    "effective_gross_income_flow"
   ],
   "metadata": {
    "collapsed": false,
    "ExecuteTime": {
     "end_time": "2023-06-26T00:54:19.982242Z",
     "start_time": "2023-06-26T00:54:19.946838Z"
    }
   }
  },
  {
   "cell_type": "markdown",
   "source": [
    "Note the `Flow`'s index is back to a `pd.DatetimeIndex`, with movements occuring\n",
    "at the *end* date of each period."
   ],
   "metadata": {
    "collapsed": false
   }
  },
  {
   "cell_type": "markdown",
   "source": [
    "With this in mind, we can complete Table 1.1"
   ],
   "metadata": {
    "collapsed": false
   }
  },
  {
   "cell_type": "code",
   "execution_count": 15,
   "outputs": [
    {
     "data": {
      "text/plain": "<rangekeeper.flux.Stream at 0x2e491cdf0>",
      "text/html": "<table>\n<thead>\n<tr><th style=\"text-align: right;\">  date</th><th style=\"text-align: right;\">  Effective Gross Income (sum)</th><th style=\"text-align: right;\">  Operating Expenses</th></tr>\n</thead>\n<tbody>\n<tr><td style=\"text-align: right;\">  2001</td><td style=\"text-align: right;\">                        $95.00</td><td style=\"text-align: right;\">             -$35.00</td></tr>\n<tr><td style=\"text-align: right;\">  2002</td><td style=\"text-align: right;\">                        $96.90</td><td style=\"text-align: right;\">             -$35.70</td></tr>\n<tr><td style=\"text-align: right;\">  2003</td><td style=\"text-align: right;\">                        $98.84</td><td style=\"text-align: right;\">             -$36.41</td></tr>\n<tr><td style=\"text-align: right;\">  2004</td><td style=\"text-align: right;\">                       $100.81</td><td style=\"text-align: right;\">             -$37.14</td></tr>\n<tr><td style=\"text-align: right;\">  2005</td><td style=\"text-align: right;\">                       $102.83</td><td style=\"text-align: right;\">             -$37.89</td></tr>\n<tr><td style=\"text-align: right;\">  2006</td><td style=\"text-align: right;\">                       $104.89</td><td style=\"text-align: right;\">             -$38.64</td></tr>\n<tr><td style=\"text-align: right;\">  2007</td><td style=\"text-align: right;\">                       $106.99</td><td style=\"text-align: right;\">             -$39.42</td></tr>\n<tr><td style=\"text-align: right;\">  2008</td><td style=\"text-align: right;\">                       $109.13</td><td style=\"text-align: right;\">             -$40.20</td></tr>\n<tr><td style=\"text-align: right;\">  2009</td><td style=\"text-align: right;\">                       $111.31</td><td style=\"text-align: right;\">             -$41.01</td></tr>\n<tr><td style=\"text-align: right;\">  2010</td><td style=\"text-align: right;\">                       $113.53</td><td style=\"text-align: right;\">             -$41.83</td></tr>\n<tr><td style=\"text-align: right;\">  2011</td><td style=\"text-align: right;\">                       $115.80</td><td style=\"text-align: right;\">             -$42.66</td></tr>\n</tbody>\n</table>"
     },
     "execution_count": 15,
     "metadata": {},
     "output_type": "execute_result"
    }
   ],
   "source": [
    "opex_pgi_ratio = .35\n",
    "operating_expenses = rk.flux.Flow(\n",
    "    name='Operating Expenses',\n",
    "    movements=potential_gross_income.movements * opex_pgi_ratio,\n",
    "    units=currency.units).invert()\n",
    "\n",
    "net_operating_income = rk.flux.Stream(\n",
    "    name='Net Operating Income',\n",
    "    flows=[effective_gross_income_flow, operating_expenses],\n",
    "    period_type=rk.periodicity.Type.YEAR)\n",
    "\n",
    "net_operating_income"
   ],
   "metadata": {
    "collapsed": false,
    "ExecuteTime": {
     "end_time": "2023-06-26T00:54:19.982562Z",
     "start_time": "2023-06-26T00:54:19.954763Z"
    }
   }
  },
  {
   "cell_type": "code",
   "execution_count": 16,
   "outputs": [
    {
     "data": {
      "text/plain": "<rangekeeper.flux.Stream at 0x2e491db10>",
      "text/html": "<table>\n<thead>\n<tr><th style=\"text-align: right;\">  date</th><th style=\"text-align: right;\">  Net Operating Income (sum)</th><th style=\"text-align: right;\">  Capital Expenditures</th></tr>\n</thead>\n<tbody>\n<tr><td style=\"text-align: right;\">  2001</td><td style=\"text-align: right;\">                      $60.00</td><td style=\"text-align: right;\">               -$10.00</td></tr>\n<tr><td style=\"text-align: right;\">  2002</td><td style=\"text-align: right;\">                      $61.20</td><td style=\"text-align: right;\">               -$10.20</td></tr>\n<tr><td style=\"text-align: right;\">  2003</td><td style=\"text-align: right;\">                      $62.42</td><td style=\"text-align: right;\">               -$10.40</td></tr>\n<tr><td style=\"text-align: right;\">  2004</td><td style=\"text-align: right;\">                      $63.67</td><td style=\"text-align: right;\">               -$10.61</td></tr>\n<tr><td style=\"text-align: right;\">  2005</td><td style=\"text-align: right;\">                      $64.95</td><td style=\"text-align: right;\">               -$10.82</td></tr>\n<tr><td style=\"text-align: right;\">  2006</td><td style=\"text-align: right;\">                      $66.24</td><td style=\"text-align: right;\">               -$11.04</td></tr>\n<tr><td style=\"text-align: right;\">  2007</td><td style=\"text-align: right;\">                      $67.57</td><td style=\"text-align: right;\">               -$11.26</td></tr>\n<tr><td style=\"text-align: right;\">  2008</td><td style=\"text-align: right;\">                      $68.92</td><td style=\"text-align: right;\">               -$11.49</td></tr>\n<tr><td style=\"text-align: right;\">  2009</td><td style=\"text-align: right;\">                      $70.30</td><td style=\"text-align: right;\">               -$11.72</td></tr>\n<tr><td style=\"text-align: right;\">  2010</td><td style=\"text-align: right;\">                      $71.71</td><td style=\"text-align: right;\">               -$11.95</td></tr>\n<tr><td style=\"text-align: right;\">  2011</td><td style=\"text-align: right;\">                      $73.14</td><td style=\"text-align: right;\">               -$12.19</td></tr>\n</tbody>\n</table>"
     },
     "execution_count": 16,
     "metadata": {},
     "output_type": "execute_result"
    }
   ],
   "source": [
    "capex_pgi_ratio = .1\n",
    "capital_expenditures = rk.flux.Flow(\n",
    "    name='Capital Expenditures',\n",
    "    movements=potential_gross_income.movements * capex_pgi_ratio,\n",
    "    units=currency.units).invert()\n",
    "\n",
    "net_annual_cashflows = rk.flux.Stream(\n",
    "    name='Net Annual Cashflows',\n",
    "    flows=[net_operating_income.sum(), capital_expenditures],\n",
    "    period_type=rk.periodicity.Type.YEAR)\n",
    "\n",
    "net_annual_cashflows"
   ],
   "metadata": {
    "collapsed": false,
    "ExecuteTime": {
     "end_time": "2023-06-26T00:54:20.070619Z",
     "start_time": "2023-06-26T00:54:19.985891Z"
    }
   }
  },
  {
   "cell_type": "markdown",
   "source": [
    "To calculate the reversion cashflow, we set up a period that spans the 10th year\n",
    "of the property:"
   ],
   "metadata": {
    "collapsed": false
   }
  },
  {
   "cell_type": "code",
   "execution_count": 17,
   "outputs": [
    {
     "data": {
      "text/plain": "<rangekeeper.flux.Flow at 0x2e491dc00>",
      "text/html": "<table>\n<thead>\n<tr><th style=\"text-align: right;\">               date</th><th style=\"text-align: right;\">  Reversion</th></tr>\n</thead>\n<tbody>\n<tr><td style=\"text-align: right;\">2010-12-31 00:00:00</td><td style=\"text-align: right;\">  $1,218.99</td></tr>\n</tbody>\n</table>"
     },
     "execution_count": 17,
     "metadata": {},
     "output_type": "execute_result"
    }
   ],
   "source": [
    "reversion_span = rk.span.Span.from_num_periods(\n",
    "    name='Reversion',\n",
    "    date=start_date + pd.DateOffset(years=9),\n",
    "    period_type=rk.periodicity.Type.YEAR,\n",
    "    num_periods=1)\n",
    "\n",
    "exit_caprate = 0.05\n",
    "reversion_flow = rk.flux.Flow.from_projection(\n",
    "    name='Reversion',\n",
    "    value=net_annual_cashflows.sum().movements.values[-1] / exit_caprate,\n",
    "    proj=rk.projection.Distribution(\n",
    "        form=rk.distribution.Uniform(),\n",
    "        sequence=reversion_span.to_index(period_type=rk.periodicity.Type.YEAR)),\n",
    "    units=currency.units)\n",
    "reversion_flow"
   ],
   "metadata": {
    "collapsed": false,
    "ExecuteTime": {
     "end_time": "2023-06-26T00:54:20.070872Z",
     "start_time": "2023-06-26T00:54:19.994198Z"
    }
   }
  },
  {
   "cell_type": "markdown",
   "source": [
    "Finally, we can aggregate the net and reversion cashflows in order to calculate\n",
    "the project's complete cashflows:"
   ],
   "metadata": {
    "collapsed": false
   }
  },
  {
   "cell_type": "code",
   "execution_count": 18,
   "outputs": [
    {
     "data": {
      "text/plain": "<rangekeeper.flux.Stream at 0x2e491f8e0>",
      "text/html": "<table>\n<thead>\n<tr><th style=\"text-align: right;\">  date</th><th style=\"text-align: right;\">  Net Annual Cashflows (sum)</th><th style=\"text-align: right;\">  Reversion</th></tr>\n</thead>\n<tbody>\n<tr><td style=\"text-align: right;\">  2001</td><td style=\"text-align: right;\">                      $50.00</td><td style=\"text-align: right;\">          0</td></tr>\n<tr><td style=\"text-align: right;\">  2002</td><td style=\"text-align: right;\">                      $51.00</td><td style=\"text-align: right;\">          0</td></tr>\n<tr><td style=\"text-align: right;\">  2003</td><td style=\"text-align: right;\">                      $52.02</td><td style=\"text-align: right;\">          0</td></tr>\n<tr><td style=\"text-align: right;\">  2004</td><td style=\"text-align: right;\">                      $53.06</td><td style=\"text-align: right;\">          0</td></tr>\n<tr><td style=\"text-align: right;\">  2005</td><td style=\"text-align: right;\">                      $54.12</td><td style=\"text-align: right;\">          0</td></tr>\n<tr><td style=\"text-align: right;\">  2006</td><td style=\"text-align: right;\">                      $55.20</td><td style=\"text-align: right;\">          0</td></tr>\n<tr><td style=\"text-align: right;\">  2007</td><td style=\"text-align: right;\">                      $56.31</td><td style=\"text-align: right;\">          0</td></tr>\n<tr><td style=\"text-align: right;\">  2008</td><td style=\"text-align: right;\">                      $57.43</td><td style=\"text-align: right;\">          0</td></tr>\n<tr><td style=\"text-align: right;\">  2009</td><td style=\"text-align: right;\">                      $58.58</td><td style=\"text-align: right;\">          0</td></tr>\n<tr><td style=\"text-align: right;\">  2010</td><td style=\"text-align: right;\">                      $59.75</td><td style=\"text-align: right;\">  $1,218.99</td></tr>\n</tbody>\n</table>"
     },
     "execution_count": 18,
     "metadata": {},
     "output_type": "execute_result"
    }
   ],
   "source": [
    "net_cashflows_with_reversion = rk.flux.Stream(\n",
    "    name='Net Cashflow with Reversion',\n",
    "    flows=[net_annual_cashflows.sum(), reversion_flow],\n",
    "    period_type=rk.periodicity.Type.YEAR).trim_to_span(\n",
    "    rk.span.Span(\n",
    "        start_date=start_date,\n",
    "        end_date=reversion_span.end_date)\n",
    "    )\n",
    "net_cashflows_with_reversion"
   ],
   "metadata": {
    "collapsed": false,
    "ExecuteTime": {
     "end_time": "2023-06-26T00:54:20.071302Z",
     "start_time": "2023-06-26T00:54:20.013910Z"
    }
   }
  },
  {
   "cell_type": "markdown",
   "source": [
    "If we wished to replicate Table 1.1 from {cite}`farevuu2018` we can construct a `Stream` like so:"
   ],
   "metadata": {
    "collapsed": false
   }
  },
  {
   "cell_type": "code",
   "execution_count": 19,
   "outputs": [
    {
     "data": {
      "text/plain": "<rangekeeper.flux.Stream at 0x2e497da20>",
      "text/html": "<table>\n<thead>\n<tr><th style=\"text-align: right;\">  date</th><th style=\"text-align: right;\">  Potential Gross Income</th><th style=\"text-align: right;\">  Vacancy Allowance</th><th style=\"text-align: right;\">  Effective Gross Income (sum)</th><th style=\"text-align: right;\">  Operating Expenses</th><th style=\"text-align: right;\">  Net Operating Income (sum)</th><th style=\"text-align: right;\">  Capital Expenditures</th><th style=\"text-align: right;\">  Net Annual Cashflows (sum)</th><th style=\"text-align: right;\">  Reversion</th><th style=\"text-align: right;\">  Net Cashflow with Reversion (sum)</th></tr>\n</thead>\n<tbody>\n<tr><td style=\"text-align: right;\">  2001</td><td style=\"text-align: right;\">                 $100.00</td><td style=\"text-align: right;\">             -$5.00</td><td style=\"text-align: right;\">                        $95.00</td><td style=\"text-align: right;\">             -$35.00</td><td style=\"text-align: right;\">                      $60.00</td><td style=\"text-align: right;\">               -$10.00</td><td style=\"text-align: right;\">                      $50.00</td><td style=\"text-align: right;\">          0</td><td style=\"text-align: right;\">                             $50.00</td></tr>\n<tr><td style=\"text-align: right;\">  2002</td><td style=\"text-align: right;\">                 $102.00</td><td style=\"text-align: right;\">             -$5.10</td><td style=\"text-align: right;\">                        $96.90</td><td style=\"text-align: right;\">             -$35.70</td><td style=\"text-align: right;\">                      $61.20</td><td style=\"text-align: right;\">               -$10.20</td><td style=\"text-align: right;\">                      $51.00</td><td style=\"text-align: right;\">          0</td><td style=\"text-align: right;\">                             $51.00</td></tr>\n<tr><td style=\"text-align: right;\">  2003</td><td style=\"text-align: right;\">                 $104.04</td><td style=\"text-align: right;\">             -$5.20</td><td style=\"text-align: right;\">                        $98.84</td><td style=\"text-align: right;\">             -$36.41</td><td style=\"text-align: right;\">                      $62.42</td><td style=\"text-align: right;\">               -$10.40</td><td style=\"text-align: right;\">                      $52.02</td><td style=\"text-align: right;\">          0</td><td style=\"text-align: right;\">                             $52.02</td></tr>\n<tr><td style=\"text-align: right;\">  2004</td><td style=\"text-align: right;\">                 $106.12</td><td style=\"text-align: right;\">             -$5.31</td><td style=\"text-align: right;\">                       $100.81</td><td style=\"text-align: right;\">             -$37.14</td><td style=\"text-align: right;\">                      $63.67</td><td style=\"text-align: right;\">               -$10.61</td><td style=\"text-align: right;\">                      $53.06</td><td style=\"text-align: right;\">          0</td><td style=\"text-align: right;\">                             $53.06</td></tr>\n<tr><td style=\"text-align: right;\">  2005</td><td style=\"text-align: right;\">                 $108.24</td><td style=\"text-align: right;\">             -$5.41</td><td style=\"text-align: right;\">                       $102.83</td><td style=\"text-align: right;\">             -$37.89</td><td style=\"text-align: right;\">                      $64.95</td><td style=\"text-align: right;\">               -$10.82</td><td style=\"text-align: right;\">                      $54.12</td><td style=\"text-align: right;\">          0</td><td style=\"text-align: right;\">                             $54.12</td></tr>\n<tr><td style=\"text-align: right;\">  2006</td><td style=\"text-align: right;\">                 $110.41</td><td style=\"text-align: right;\">             -$5.52</td><td style=\"text-align: right;\">                       $104.89</td><td style=\"text-align: right;\">             -$38.64</td><td style=\"text-align: right;\">                      $66.24</td><td style=\"text-align: right;\">               -$11.04</td><td style=\"text-align: right;\">                      $55.20</td><td style=\"text-align: right;\">          0</td><td style=\"text-align: right;\">                             $55.20</td></tr>\n<tr><td style=\"text-align: right;\">  2007</td><td style=\"text-align: right;\">                 $112.62</td><td style=\"text-align: right;\">             -$5.63</td><td style=\"text-align: right;\">                       $106.99</td><td style=\"text-align: right;\">             -$39.42</td><td style=\"text-align: right;\">                      $67.57</td><td style=\"text-align: right;\">               -$11.26</td><td style=\"text-align: right;\">                      $56.31</td><td style=\"text-align: right;\">          0</td><td style=\"text-align: right;\">                             $56.31</td></tr>\n<tr><td style=\"text-align: right;\">  2008</td><td style=\"text-align: right;\">                 $114.87</td><td style=\"text-align: right;\">             -$5.74</td><td style=\"text-align: right;\">                       $109.13</td><td style=\"text-align: right;\">             -$40.20</td><td style=\"text-align: right;\">                      $68.92</td><td style=\"text-align: right;\">               -$11.49</td><td style=\"text-align: right;\">                      $57.43</td><td style=\"text-align: right;\">          0</td><td style=\"text-align: right;\">                             $57.43</td></tr>\n<tr><td style=\"text-align: right;\">  2009</td><td style=\"text-align: right;\">                 $117.17</td><td style=\"text-align: right;\">             -$5.86</td><td style=\"text-align: right;\">                       $111.31</td><td style=\"text-align: right;\">             -$41.01</td><td style=\"text-align: right;\">                      $70.30</td><td style=\"text-align: right;\">               -$11.72</td><td style=\"text-align: right;\">                      $58.58</td><td style=\"text-align: right;\">          0</td><td style=\"text-align: right;\">                             $58.58</td></tr>\n<tr><td style=\"text-align: right;\">  2010</td><td style=\"text-align: right;\">                 $119.51</td><td style=\"text-align: right;\">             -$5.98</td><td style=\"text-align: right;\">                       $113.53</td><td style=\"text-align: right;\">             -$41.83</td><td style=\"text-align: right;\">                      $71.71</td><td style=\"text-align: right;\">               -$11.95</td><td style=\"text-align: right;\">                      $59.75</td><td style=\"text-align: right;\">  $1,218.99</td><td style=\"text-align: right;\">                          $1,278.75</td></tr>\n<tr><td style=\"text-align: right;\">  2011</td><td style=\"text-align: right;\">                 $121.90</td><td style=\"text-align: right;\">             -$6.09</td><td style=\"text-align: right;\">                       $115.80</td><td style=\"text-align: right;\">             -$42.66</td><td style=\"text-align: right;\">                      $73.14</td><td style=\"text-align: right;\">               -$12.19</td><td style=\"text-align: right;\">                      $60.95</td><td style=\"text-align: right;\">          0</td><td style=\"text-align: right;\">                                  0</td></tr>\n</tbody>\n</table>"
     },
     "execution_count": 19,
     "metadata": {},
     "output_type": "execute_result"
    }
   ],
   "source": [
    "table = rk.flux.Stream(\n",
    "    name='Table 1.1',\n",
    "    flows=[\n",
    "        potential_gross_income,\n",
    "        vacancy,\n",
    "        effective_gross_income_flow,\n",
    "        operating_expenses,\n",
    "        net_operating_income.sum(),\n",
    "        capital_expenditures,\n",
    "        net_annual_cashflows.sum(),\n",
    "        reversion_flow,\n",
    "        net_cashflows_with_reversion.sum()\n",
    "        ],\n",
    "    period_type=rk.periodicity.Type.YEAR\n",
    "    )\n",
    "table"
   ],
   "metadata": {
    "collapsed": false,
    "ExecuteTime": {
     "end_time": "2023-06-26T00:54:20.094952Z",
     "start_time": "2023-06-26T00:54:20.025176Z"
    }
   }
  },
  {
   "cell_type": "markdown",
   "source": [
    "Given that the discount rate is specified as 7%, we can calculate the property's\n",
    "Present Value (PV):"
   ],
   "metadata": {
    "collapsed": false
   }
  },
  {
   "cell_type": "code",
   "execution_count": 20,
   "outputs": [
    {
     "data": {
      "text/plain": "<rangekeeper.flux.Flow at 0x2e49a8fa0>",
      "text/html": "<table>\n<thead>\n<tr><th style=\"text-align: right;\">               date</th><th style=\"text-align: right;\">  Present Value</th></tr>\n</thead>\n<tbody>\n<tr><td style=\"text-align: right;\">2001-12-31 00:00:00</td><td style=\"text-align: right;\">         $46.73</td></tr>\n<tr><td style=\"text-align: right;\">2002-12-31 00:00:00</td><td style=\"text-align: right;\">         $44.55</td></tr>\n<tr><td style=\"text-align: right;\">2003-12-31 00:00:00</td><td style=\"text-align: right;\">         $42.46</td></tr>\n<tr><td style=\"text-align: right;\">2004-12-31 00:00:00</td><td style=\"text-align: right;\">         $40.48</td></tr>\n<tr><td style=\"text-align: right;\">2005-12-31 00:00:00</td><td style=\"text-align: right;\">         $38.59</td></tr>\n<tr><td style=\"text-align: right;\">2006-12-31 00:00:00</td><td style=\"text-align: right;\">         $36.78</td></tr>\n<tr><td style=\"text-align: right;\">2007-12-31 00:00:00</td><td style=\"text-align: right;\">         $35.07</td></tr>\n<tr><td style=\"text-align: right;\">2008-12-31 00:00:00</td><td style=\"text-align: right;\">         $33.43</td></tr>\n<tr><td style=\"text-align: right;\">2009-12-31 00:00:00</td><td style=\"text-align: right;\">         $31.87</td></tr>\n<tr><td style=\"text-align: right;\">2010-12-31 00:00:00</td><td style=\"text-align: right;\">        $650.05</td></tr>\n</tbody>\n</table>"
     },
     "execution_count": 20,
     "metadata": {},
     "output_type": "execute_result"
    }
   ],
   "source": [
    "discount_rate = 0.07\n",
    "pvs = net_cashflows_with_reversion.sum().pv(\n",
    "    name='Present Value',\n",
    "    period_type=rk.periodicity.Type.YEAR,\n",
    "    discount_rate=discount_rate)\n",
    "pvs"
   ],
   "metadata": {
    "collapsed": false,
    "ExecuteTime": {
     "end_time": "2023-06-26T00:54:20.095830Z",
     "start_time": "2023-06-26T00:54:20.092539Z"
    }
   }
  },
  {
   "cell_type": "code",
   "execution_count": 1,
   "outputs": [
    {
     "ename": "NameError",
     "evalue": "name 'pvs' is not defined",
     "output_type": "error",
     "traceback": [
      "\u001B[0;31m---------------------------------------------------------------------------\u001B[0m",
      "\u001B[0;31mNameError\u001B[0m                                 Traceback (most recent call last)",
      "Cell \u001B[0;32mIn[1], line 1\u001B[0m\n\u001B[0;32m----> 1\u001B[0m property_pv \u001B[38;5;241m=\u001B[39m \u001B[43mpvs\u001B[49m\u001B[38;5;241m.\u001B[39mcollapse()\u001B[38;5;241m.\u001B[39mmovements\u001B[38;5;241m.\u001B[39mitem()\n\u001B[1;32m      2\u001B[0m \u001B[38;5;28mprint\u001B[39m(\u001B[38;5;124m'\u001B[39m\u001B[38;5;124mProperty PV: $\u001B[39m\u001B[38;5;132;01m{:,.0f}\u001B[39;00m\u001B[38;5;124m'\u001B[39m\u001B[38;5;241m.\u001B[39mformat(property_pv))\n",
      "\u001B[0;31mNameError\u001B[0m: name 'pvs' is not defined"
     ]
    }
   ],
   "source": [
    "property_pv = pvs.collapse().movements.item()\n",
    "print('Property PV: ${:,.0f}'.format(property_pv))"
   ],
   "metadata": {
    "collapsed": false,
    "ExecuteTime": {
     "end_time": "2023-06-30T02:54:08.784553Z",
     "start_time": "2023-06-30T02:54:08.597022Z"
    }
   }
  },
  {
   "cell_type": "code",
   "execution_count": null,
   "outputs": [],
   "source": [],
   "metadata": {
    "collapsed": false
   }
  }
 ],
 "metadata": {
  "kernelspec": {
   "display_name": "Python 3",
   "language": "python",
   "name": "python3"
  },
  "language_info": {
   "codemirror_mode": {
    "name": "ipython",
    "version": 2
   },
   "file_extension": ".py",
   "mimetype": "text/x-python",
   "name": "python",
   "nbconvert_exporter": "python",
   "pygments_lexer": "ipython2",
   "version": "2.7.6"
  }
 },
 "nbformat": 4,
 "nbformat_minor": 0
}
